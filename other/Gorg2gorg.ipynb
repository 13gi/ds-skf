{
  "nbformat": 4,
  "nbformat_minor": 0,
  "metadata": {
    "colab": {
      "name": "Gorg2gorg.ipynb",
      "provenance": [],
      "collapsed_sections": [],
      "toc_visible": true,
      "authorship_tag": "ABX9TyMVflvLteNpK+y+IWMAaWvx",
      "include_colab_link": true
    },
    "kernelspec": {
      "name": "python3",
      "display_name": "Python 3"
    }
  },
  "cells": [
    {
      "cell_type": "markdown",
      "metadata": {
        "id": "view-in-github",
        "colab_type": "text"
      },
      "source": [
        "<a href=\"https://colab.research.google.com/github/13gi/skillfactory_rds/blob/master/other/Gorg2gorg.ipynb\" target=\"_parent\"><img src=\"https://colab.research.google.com/assets/colab-badge.svg\" alt=\"Open In Colab\"/></a>"
      ]
    },
    {
      "cell_type": "code",
      "metadata": {
        "id": "ULsqjJ_RjYxX"
      },
      "source": [
        "import numpy as np\n",
        "\n",
        "import pandas as pd\n",
        "import re\n",
        "import random\n",
        "\n",
        "import matplotlib.pyplot as plt\n",
        "import seaborn as sns\n",
        "import cufflinks as cf\n",
        "from plotly.offline import download_plotlyjs, init_notebook_mode, plot, iplot\n",
        "\n",
        "%matplotlib inline"
      ],
      "execution_count": 1,
      "outputs": []
    },
    {
      "cell_type": "code",
      "metadata": {
        "id": "Uzq2FhnkozRM"
      },
      "source": [
        ""
      ],
      "execution_count": null,
      "outputs": []
    },
    {
      "cell_type": "markdown",
      "metadata": {
        "id": "SKITUg_V5yz3"
      },
      "source": [
        "# Экспериментальные выкладки\n"
      ]
    },
    {
      "cell_type": "markdown",
      "metadata": {
        "id": "_LPkOST3le_R"
      },
      "source": [
        "## операции с множествамии"
      ]
    },
    {
      "cell_type": "code",
      "metadata": {
        "id": "lW-lruBIk_qv",
        "outputId": "68030e22-2c8c-489b-ee53-acd30f2a414e",
        "colab": {
          "base_uri": "https://localhost:8080/",
          "height": 34
        }
      },
      "source": [
        "# текущие\n",
        "current_id = {1, 2, 3, 4, 5, 6, 7}\n",
        "\n",
        "# предыдущие\n",
        "last_id = {9, 8, 7, 6, 100}\n",
        "\n",
        "# пересечение\n",
        "current_id & last_id"
      ],
      "execution_count": null,
      "outputs": [
        {
          "output_type": "execute_result",
          "data": {
            "text/plain": [
              "{6, 7}"
            ]
          },
          "metadata": {
            "tags": []
          },
          "execution_count": 8
        }
      ]
    },
    {
      "cell_type": "code",
      "metadata": {
        "id": "JVu3v9HqHuoQ"
      },
      "source": [
        ""
      ],
      "execution_count": null,
      "outputs": []
    },
    {
      "cell_type": "code",
      "metadata": {
        "id": "2j3B4r0jk_HY",
        "outputId": "317ba571-9ab9-4ade-8b20-b334c4a3f82c",
        "colab": {
          "base_uri": "https://localhost:8080/",
          "height": 34
        }
      },
      "source": [
        "random.randint(1, 100)"
      ],
      "execution_count": null,
      "outputs": [
        {
          "output_type": "execute_result",
          "data": {
            "text/plain": [
              "19"
            ]
          },
          "metadata": {
            "tags": []
          },
          "execution_count": 9
        }
      ]
    },
    {
      "cell_type": "code",
      "metadata": {
        "id": "Pn0YDDZrk_VT",
        "outputId": "5fe8533f-bd4d-447b-e77b-a5f6fc497d4b",
        "colab": {
          "base_uri": "https://localhost:8080/",
          "height": 34
        }
      },
      "source": [
        "random.sample(range(100), 10)"
      ],
      "execution_count": null,
      "outputs": [
        {
          "output_type": "execute_result",
          "data": {
            "text/plain": [
              "[96, 29, 11, 24, 10, 98, 2, 88, 77, 8]"
            ]
          },
          "metadata": {
            "tags": []
          },
          "execution_count": 10
        }
      ]
    },
    {
      "cell_type": "code",
      "metadata": {
        "id": "KWOnu4vyaDzs",
        "outputId": "3091367a-c673-4b9f-dd6a-bb4674181ca3",
        "colab": {
          "base_uri": "https://localhost:8080/",
          "height": 867
        }
      },
      "source": [
        "def crossing_result(list_1, list_2):\n",
        "    A = set()\n",
        "    B = set()\n",
        "    if type(list_1) is list: \n",
        "       A.update(list_1)\n",
        "    else:\n",
        "        return False\n",
        "    if type(list_2) is list:\n",
        "        B.update(list_2)\n",
        "    else:\n",
        "        return False\n",
        "    return sorted(A & B)\n",
        "\n",
        "\n",
        "all_device = range(1, 20)\n",
        "last_red = []\n",
        "\n",
        "for i in range(10):\n",
        "    red_status_device = random.sample(all_device, random.randint(0, 7))\n",
        "    print('Step:', i)\n",
        "    print('  Last:   ', sorted(last_red))\n",
        "    print('  Current:', sorted(red_status_device))\n",
        "    \n",
        "    crossing_id = crossing_result(red_status_device, last_red)\n",
        "\n",
        "    if len(crossing_id) > 0:\n",
        "        print(' Crossing:', crossing_id)\n",
        "    else:\n",
        "        print(' Crossing: NOT DETECT')\n",
        "    \n",
        "    last_red = red_status_device\n",
        "    print('-' * 55)\n",
        "\n"
      ],
      "execution_count": 21,
      "outputs": [
        {
          "output_type": "stream",
          "text": [
            "Step: 0\n",
            "  Last:    []\n",
            "  Current: [7, 10, 13, 15, 19]\n",
            " Crossing: NOT DETECT\n",
            "-------------------------------------------------------\n",
            "Step: 1\n",
            "  Last:    [7, 10, 13, 15, 19]\n",
            "  Current: [2, 3, 8, 13, 14, 17, 19]\n",
            " Crossing: [13, 19]\n",
            "-------------------------------------------------------\n",
            "Step: 2\n",
            "  Last:    [2, 3, 8, 13, 14, 17, 19]\n",
            "  Current: [7, 9, 14, 19]\n",
            " Crossing: [14, 19]\n",
            "-------------------------------------------------------\n",
            "Step: 3\n",
            "  Last:    [7, 9, 14, 19]\n",
            "  Current: [3, 9, 10, 15, 16, 17]\n",
            " Crossing: [9]\n",
            "-------------------------------------------------------\n",
            "Step: 4\n",
            "  Last:    [3, 9, 10, 15, 16, 17]\n",
            "  Current: [2, 17]\n",
            " Crossing: [17]\n",
            "-------------------------------------------------------\n",
            "Step: 5\n",
            "  Last:    [2, 17]\n",
            "  Current: [1, 11]\n",
            " Crossing: NOT DETECT\n",
            "-------------------------------------------------------\n",
            "Step: 6\n",
            "  Last:    [1, 11]\n",
            "  Current: [7]\n",
            " Crossing: NOT DETECT\n",
            "-------------------------------------------------------\n",
            "Step: 7\n",
            "  Last:    [7]\n",
            "  Current: [2, 4, 9, 12, 13]\n",
            " Crossing: NOT DETECT\n",
            "-------------------------------------------------------\n",
            "Step: 8\n",
            "  Last:    [2, 4, 9, 12, 13]\n",
            "  Current: []\n",
            " Crossing: NOT DETECT\n",
            "-------------------------------------------------------\n",
            "Step: 9\n",
            "  Last:    []\n",
            "  Current: [1, 3, 8, 9, 15, 18]\n",
            " Crossing: NOT DETECT\n",
            "-------------------------------------------------------\n"
          ],
          "name": "stdout"
        }
      ]
    },
    {
      "cell_type": "code",
      "metadata": {
        "id": "VSiwZGgGXYOA",
        "outputId": "e3da866f-cde1-4104-9fa7-886b9831c2b1",
        "colab": {
          "base_uri": "https://localhost:8080/",
          "height": 34
        }
      },
      "source": [
        "\n",
        "\n",
        "# текущие\n",
        "current_id = [1, 2, 3, 4, 5, 6, 7]\n",
        "\n",
        "# предыдущие\n",
        "last_id = [9, 8, 7, 6, 100]\n",
        "\n",
        "print(crossing_result(current_id, last_id))\n"
      ],
      "execution_count": 4,
      "outputs": [
        {
          "output_type": "stream",
          "text": [
            "[6, 7]\n"
          ],
          "name": "stdout"
        }
      ]
    },
    {
      "cell_type": "markdown",
      "metadata": {
        "id": "yicrFnDcaDca"
      },
      "source": [
        ""
      ]
    },
    {
      "cell_type": "code",
      "metadata": {
        "id": "F1lOQCP_k-6F",
        "outputId": "2fb99845-72e8-415f-c4c5-9954ca956f4c",
        "colab": {
          "base_uri": "https://localhost:8080/",
          "height": 527
        }
      },
      "source": [
        "red_status_device = set()\n",
        "last_red = set()\n",
        "\n",
        "all_device = range(1, 20)\n",
        "\n",
        "for i in range(10):\n",
        "    red_status_device.update(random.sample(all_device, random.randint(0, 7)))\n",
        "    print('Step:', i, '|RED DevID:', sorted(red_status_device))\n",
        "    print('\\t Last DevID:', sorted(last_red))\n",
        "    \n",
        "    crossing_id = red_status_device & last_red\n",
        "    if len(crossing_id) > 0:\n",
        "        print('\\t Crossing DevID: ', sorted(red_status_device & last_red))\n",
        "    else:\n",
        "        print('\\t Crossing DevID: NOT DETECT')\n",
        "    last_red.clear()\n",
        "    last_red.update(red_status_device)\n",
        "    red_status_device.clear()\n",
        "\n",
        "\n"
      ],
      "execution_count": null,
      "outputs": [
        {
          "output_type": "stream",
          "text": [
            "Step: 0 |RED DevID: [1, 2, 3, 7, 12, 16]\n",
            "\t Last DevID: []\n",
            "\t Crossing DevID: NOT DETECT\n",
            "Step: 1 |RED DevID: []\n",
            "\t Last DevID: [1, 2, 3, 7, 12, 16]\n",
            "\t Crossing DevID: NOT DETECT\n",
            "Step: 2 |RED DevID: [1, 10, 13, 15, 19]\n",
            "\t Last DevID: []\n",
            "\t Crossing DevID: NOT DETECT\n",
            "Step: 3 |RED DevID: [6, 7, 9, 10, 12, 19]\n",
            "\t Last DevID: [1, 10, 13, 15, 19]\n",
            "\t Crossing DevID:  [10, 19]\n",
            "Step: 4 |RED DevID: [3, 11, 12, 14]\n",
            "\t Last DevID: [6, 7, 9, 10, 12, 19]\n",
            "\t Crossing DevID:  [12]\n",
            "Step: 5 |RED DevID: [1, 6, 9, 12, 16, 17, 19]\n",
            "\t Last DevID: [3, 11, 12, 14]\n",
            "\t Crossing DevID:  [12]\n",
            "Step: 6 |RED DevID: [4, 5, 9, 13, 15]\n",
            "\t Last DevID: [1, 6, 9, 12, 16, 17, 19]\n",
            "\t Crossing DevID:  [9]\n",
            "Step: 7 |RED DevID: [1, 5, 10, 11, 18]\n",
            "\t Last DevID: [4, 5, 9, 13, 15]\n",
            "\t Crossing DevID:  [5]\n",
            "Step: 8 |RED DevID: [3, 8]\n",
            "\t Last DevID: [1, 5, 10, 11, 18]\n",
            "\t Crossing DevID: NOT DETECT\n",
            "Step: 9 |RED DevID: [2, 6, 10, 12, 15, 16, 18]\n",
            "\t Last DevID: [3, 8]\n",
            "\t Crossing DevID: NOT DETECT\n"
          ],
          "name": "stdout"
        }
      ]
    },
    {
      "cell_type": "markdown",
      "metadata": {
        "id": "x3BRJWQ95zwE"
      },
      "source": [
        "## Start"
      ]
    },
    {
      "cell_type": "markdown",
      "metadata": {
        "id": "neLXwk2z-l_H"
      },
      "source": [
        "### Вариант 1 - basic"
      ]
    },
    {
      "cell_type": "code",
      "metadata": {
        "id": "JmBoaPT0-lFe"
      },
      "source": [
        ""
      ],
      "execution_count": null,
      "outputs": []
    },
    {
      "cell_type": "code",
      "metadata": {
        "id": "sLFSyXUg1aNn"
      },
      "source": [
        "# генерация массива входных данных\n",
        "\n",
        "start_time = 1592020420\n",
        "sum = start_time\n",
        "time = []\n",
        "count_sample = 50\n",
        "delta_period = 120\n",
        "\n",
        "time_list = np.random.randint(delta_period - 20, delta_period + 10, count_sample)\n",
        "\n",
        "for i in range(len(time_list)):\n",
        "    # print(time_list[i])\n",
        "    sum += time_list[i]\n",
        "    time.append(sum)\n",
        "\n",
        "time = sorted(time)"
      ],
      "execution_count": null,
      "outputs": []
    },
    {
      "cell_type": "code",
      "metadata": {
        "id": "ngp2AtI5jZ-R",
        "outputId": "e103458b-46c7-4cbd-e574-099f49e380dc",
        "colab": {
          "base_uri": "https://localhost:8080/",
          "height": 255
        }
      },
      "source": [
        "new_list = []\n",
        "delta = ()\n",
        "\n",
        "for i in range(1, len(time), 1):\n",
        "    if time[i] - time[i-1] > delta_period:\n",
        "        print(time[i-1], '..', time[i], ':', time[i] - time[i-1], '#', i)\n",
        "        delta = (time[i-1], time[i])\n",
        "        new_list.append(delta)\n"
      ],
      "execution_count": null,
      "outputs": [
        {
          "output_type": "stream",
          "text": [
            "1592020765 .. 1592020890 : 125 # 3\n",
            "1592020890 .. 1592021016 : 126 # 4\n",
            "1592021682 .. 1592021803 : 121 # 11\n",
            "1592022223 .. 1592022351 : 128 # 16\n",
            "1592022351 .. 1592022478 : 127 # 17\n",
            "1592022478 .. 1592022605 : 127 # 18\n",
            "1592022943 .. 1592023066 : 123 # 22\n",
            "1592023383 .. 1592023508 : 125 # 26\n",
            "1592023508 .. 1592023630 : 122 # 27\n",
            "1592024385 .. 1592024506 : 121 # 35\n",
            "1592024623 .. 1592024750 : 127 # 37\n",
            "1592025191 .. 1592025317 : 126 # 42\n",
            "1592025436 .. 1592025565 : 129 # 44\n",
            "1592025791 .. 1592025919 : 128 # 47\n"
          ],
          "name": "stdout"
        }
      ]
    },
    {
      "cell_type": "code",
      "metadata": {
        "id": "IMK4NYmxjaBJ",
        "outputId": "70523249-7554-4d7f-c5c6-81e1fc63ddee",
        "colab": {
          "base_uri": "https://localhost:8080/",
          "height": 54
        }
      },
      "source": [
        "print(new_list)"
      ],
      "execution_count": null,
      "outputs": [
        {
          "output_type": "stream",
          "text": [
            "[(1592020765, 1592020890), (1592020890, 1592021016), (1592021682, 1592021803), (1592022223, 1592022351), (1592022351, 1592022478), (1592022478, 1592022605), (1592022943, 1592023066), (1592023383, 1592023508), (1592023508, 1592023630), (1592024385, 1592024506), (1592024623, 1592024750), (1592025191, 1592025317), (1592025436, 1592025565), (1592025791, 1592025919)]\n"
          ],
          "name": "stdout"
        }
      ]
    },
    {
      "cell_type": "code",
      "metadata": {
        "id": "7jfrKlwBjaEE",
        "outputId": "62c95d78-f5c0-49e3-e3d5-0315c0d21a14",
        "colab": {
          "base_uri": "https://localhost:8080/",
          "height": 34
        }
      },
      "source": [
        "len(new_list)"
      ],
      "execution_count": null,
      "outputs": [
        {
          "output_type": "execute_result",
          "data": {
            "text/plain": [
              "14"
            ]
          },
          "metadata": {
            "tags": []
          },
          "execution_count": 7
        }
      ]
    },
    {
      "cell_type": "markdown",
      "metadata": {
        "id": "e-oNiUw4-qHB"
      },
      "source": [
        "### Вариант 2 - NumPy"
      ]
    },
    {
      "cell_type": "code",
      "metadata": {
        "id": "0L8nSjA9jaG2",
        "outputId": "7904c5ba-a479-4eac-c359-a1369ee2f741",
        "colab": {
          "base_uri": "https://localhost:8080/",
          "height": 34
        }
      },
      "source": [
        "u_time = np.array(time)\n",
        "u_time.shape"
      ],
      "execution_count": null,
      "outputs": [
        {
          "output_type": "execute_result",
          "data": {
            "text/plain": [
              "(50,)"
            ]
          },
          "metadata": {
            "tags": []
          },
          "execution_count": 8
        }
      ]
    },
    {
      "cell_type": "code",
      "metadata": {
        "id": "orHV7x6hjaMd",
        "outputId": "54b2b907-b430-421f-c8d7-aed4151dac55",
        "colab": {
          "base_uri": "https://localhost:8080/",
          "height": 187
        }
      },
      "source": [
        "# основная матрица\n",
        "u_time"
      ],
      "execution_count": null,
      "outputs": [
        {
          "output_type": "execute_result",
          "data": {
            "text/plain": [
              "array([1592020546, 1592020651, 1592020765, 1592020890, 1592021016,\n",
              "       1592021133, 1592021240, 1592021343, 1592021455, 1592021570,\n",
              "       1592021682, 1592021803, 1592021916, 1592022018, 1592022123,\n",
              "       1592022223, 1592022351, 1592022478, 1592022605, 1592022722,\n",
              "       1592022828, 1592022943, 1592023066, 1592023173, 1592023282,\n",
              "       1592023383, 1592023508, 1592023630, 1592023739, 1592023839,\n",
              "       1592023952, 1592024072, 1592024173, 1592024276, 1592024385,\n",
              "       1592024506, 1592024623, 1592024750, 1592024864, 1592024967,\n",
              "       1592025084, 1592025191, 1592025317, 1592025436, 1592025565,\n",
              "       1592025681, 1592025791, 1592025919, 1592026032, 1592026136])"
            ]
          },
          "metadata": {
            "tags": []
          },
          "execution_count": 9
        }
      ]
    },
    {
      "cell_type": "code",
      "metadata": {
        "id": "D3uIvqu9jaP6",
        "outputId": "2673c657-0fcd-4c29-9468-fcb5b2112701",
        "colab": {
          "base_uri": "https://localhost:8080/",
          "height": 187
        }
      },
      "source": [
        "# сдвинутая вправо на 1 элемент (первый элемент - теряем)\n",
        "u_time[1:]"
      ],
      "execution_count": null,
      "outputs": [
        {
          "output_type": "execute_result",
          "data": {
            "text/plain": [
              "array([1592020651, 1592020765, 1592020890, 1592021016, 1592021133,\n",
              "       1592021240, 1592021343, 1592021455, 1592021570, 1592021682,\n",
              "       1592021803, 1592021916, 1592022018, 1592022123, 1592022223,\n",
              "       1592022351, 1592022478, 1592022605, 1592022722, 1592022828,\n",
              "       1592022943, 1592023066, 1592023173, 1592023282, 1592023383,\n",
              "       1592023508, 1592023630, 1592023739, 1592023839, 1592023952,\n",
              "       1592024072, 1592024173, 1592024276, 1592024385, 1592024506,\n",
              "       1592024623, 1592024750, 1592024864, 1592024967, 1592025084,\n",
              "       1592025191, 1592025317, 1592025436, 1592025565, 1592025681,\n",
              "       1592025791, 1592025919, 1592026032, 1592026136])"
            ]
          },
          "metadata": {
            "tags": []
          },
          "execution_count": 10
        }
      ]
    },
    {
      "cell_type": "code",
      "metadata": {
        "id": "v6ppk0QljaKG"
      },
      "source": [
        "# считаем разностную матрицу\n",
        "delta_time = u_time[1:] - u_time[:-1]"
      ],
      "execution_count": null,
      "outputs": []
    },
    {
      "cell_type": "code",
      "metadata": {
        "id": "-WkMOu4wAVZm",
        "outputId": "1f9387b3-ca87-44a3-c271-7e3dcbbd802d",
        "colab": {
          "base_uri": "https://localhost:8080/",
          "height": 85
        }
      },
      "source": [
        "# разностная матрица\n",
        "delta_time"
      ],
      "execution_count": null,
      "outputs": [
        {
          "output_type": "execute_result",
          "data": {
            "text/plain": [
              "array([105, 114, 125, 126, 117, 107, 103, 112, 115, 112, 121, 113, 102,\n",
              "       105, 100, 128, 127, 127, 117, 106, 115, 123, 107, 109, 101, 125,\n",
              "       122, 109, 100, 113, 120, 101, 103, 109, 121, 117, 127, 114, 103,\n",
              "       117, 107, 126, 119, 129, 116, 110, 128, 113, 104])"
            ]
          },
          "metadata": {
            "tags": []
          },
          "execution_count": 12
        }
      ]
    },
    {
      "cell_type": "markdown",
      "metadata": {
        "id": "lpMQqQKWAPk1"
      },
      "source": [
        "### Графики и прочее"
      ]
    },
    {
      "cell_type": "code",
      "metadata": {
        "id": "O0ifltzx6R7G",
        "outputId": "6292c5d5-b519-4354-d19e-99d8507f6370",
        "colab": {
          "base_uri": "https://localhost:8080/",
          "height": 298
        }
      },
      "source": [
        "# Разброс в виде графика\n",
        "pd.Series(delta_time).plot(title='Отклонения от опорной линии', grid='true')"
      ],
      "execution_count": null,
      "outputs": [
        {
          "output_type": "execute_result",
          "data": {
            "text/plain": [
              "<matplotlib.axes._subplots.AxesSubplot at 0x7fd8a7ee58d0>"
            ]
          },
          "metadata": {
            "tags": []
          },
          "execution_count": 32
        },
        {
          "output_type": "display_data",
          "data": {
            "image/png": "[encoded data removed]",
            "text/plain": [
              "<Figure size 432x288 with 1 Axes>"
            ]
          },
          "metadata": {
            "tags": [],
            "needs_background": "light"
          }
        }
      ]
    },
    {
      "cell_type": "code",
      "metadata": {
        "id": "A7DgCi5E7Yz5",
        "outputId": "2e947cb5-a25d-48ee-d9c3-a10ad09bd3f9",
        "colab": {
          "base_uri": "https://localhost:8080/",
          "height": 291
        }
      },
      "source": [
        "pd.Series(delta_time).value_counts().plot(kind='bar')"
      ],
      "execution_count": null,
      "outputs": [
        {
          "output_type": "execute_result",
          "data": {
            "text/plain": [
              "<matplotlib.axes._subplots.AxesSubplot at 0x7fd8a64782b0>"
            ]
          },
          "metadata": {
            "tags": []
          },
          "execution_count": 39
        },
        {
          "output_type": "display_data",
          "data": {
            "image/png": "[encoded data removed]",
            "text/plain": [
              "<Figure size 432x288 with 1 Axes>"
            ]
          },
          "metadata": {
            "tags": [],
            "needs_background": "light"
          }
        }
      ]
    },
    {
      "cell_type": "code",
      "metadata": {
        "id": "6qekSv9ZAiAb",
        "outputId": "8fb20456-f583-4988-e995-4dbbe8f28d9f",
        "colab": {
          "base_uri": "https://localhost:8080/",
          "height": 119
        }
      },
      "source": [
        "# получаем условную матрицу позиций, которые больше указанного параметра\n",
        "delta_time>120"
      ],
      "execution_count": null,
      "outputs": [
        {
          "output_type": "execute_result",
          "data": {
            "text/plain": [
              "array([False, False,  True,  True,  True,  True, False, False, False,\n",
              "       False,  True, False, False, False,  True, False,  True, False,\n",
              "       False,  True,  True, False, False, False, False,  True, False,\n",
              "       False, False, False, False, False, False, False, False, False,\n",
              "       False, False, False, False, False, False,  True,  True, False,\n",
              "        True, False, False, False])"
            ]
          },
          "metadata": {
            "tags": []
          },
          "execution_count": 106
        }
      ]
    },
    {
      "cell_type": "code",
      "metadata": {
        "id": "8eN6VdzL8IXJ"
      },
      "source": [
        ""
      ],
      "execution_count": null,
      "outputs": []
    },
    {
      "cell_type": "code",
      "metadata": {
        "id": "7YdrKXV_Al1Z",
        "outputId": "c8a7aa81-8243-4b3c-9288-54d1654eee39",
        "colab": {
          "base_uri": "https://localhost:8080/",
          "height": 68
        }
      },
      "source": [
        "# получаем набор правых точек промежутков, на которых зафиксировано превышение периода\n",
        "u_time[1:][delta_time>120]"
      ],
      "execution_count": null,
      "outputs": [
        {
          "output_type": "execute_result",
          "data": {
            "text/plain": [
              "array([1592020872, 1592021000, 1592021123, 1592021245, 1592021807,\n",
              "       1592022248, 1592022485, 1592022833, 1592022955, 1592023515,\n",
              "       1592025385, 1592025514, 1592025744])"
            ]
          },
          "metadata": {
            "tags": []
          },
          "execution_count": 109
        }
      ]
    },
    {
      "cell_type": "code",
      "metadata": {
        "id": "SzzUl5OCBGlG",
        "outputId": "9dbe4a00-a974-48e2-bcc1-bb6d240d706e",
        "colab": {
          "base_uri": "https://localhost:8080/",
          "height": 204
        }
      },
      "source": [
        "dtime = pd.DataFrame( {'DTime' : delta_time} )\n",
        "\n",
        "dtime.sample(5)"
      ],
      "execution_count": null,
      "outputs": [
        {
          "output_type": "execute_result",
          "data": {
            "text/html": [
              "<div>\n",
              "<style scoped>\n",
              "    .dataframe tbody tr th:only-of-type {\n",
              "        vertical-align: middle;\n",
              "    }\n",
              "\n",
              "    .dataframe tbody tr th {\n",
              "        vertical-align: top;\n",
              "    }\n",
              "\n",
              "    .dataframe thead th {\n",
              "        text-align: right;\n",
              "    }\n",
              "</style>\n",
              "<table border=\"1\" class=\"dataframe\">\n",
              "  <thead>\n",
              "    <tr style=\"text-align: right;\">\n",
              "      <th></th>\n",
              "      <th>DTime</th>\n",
              "    </tr>\n",
              "  </thead>\n",
              "  <tbody>\n",
              "    <tr>\n",
              "      <th>15</th>\n",
              "      <td>128</td>\n",
              "    </tr>\n",
              "    <tr>\n",
              "      <th>37</th>\n",
              "      <td>114</td>\n",
              "    </tr>\n",
              "    <tr>\n",
              "      <th>29</th>\n",
              "      <td>113</td>\n",
              "    </tr>\n",
              "    <tr>\n",
              "      <th>22</th>\n",
              "      <td>107</td>\n",
              "    </tr>\n",
              "    <tr>\n",
              "      <th>46</th>\n",
              "      <td>128</td>\n",
              "    </tr>\n",
              "  </tbody>\n",
              "</table>\n",
              "</div>"
            ],
            "text/plain": [
              "    DTime\n",
              "15    128\n",
              "37    114\n",
              "29    113\n",
              "22    107\n",
              "46    128"
            ]
          },
          "metadata": {
            "tags": []
          },
          "execution_count": 55
        }
      ]
    },
    {
      "cell_type": "code",
      "metadata": {
        "id": "5-fKzA_053i4",
        "outputId": "3b9ef90e-4116-4e45-a456-edee1e3a5cf4",
        "colab": {
          "base_uri": "https://localhost:8080/",
          "height": 34
        }
      },
      "source": [
        "dtime['DTime'].min()"
      ],
      "execution_count": null,
      "outputs": [
        {
          "output_type": "execute_result",
          "data": {
            "text/plain": [
              "100"
            ]
          },
          "metadata": {
            "tags": []
          },
          "execution_count": 46
        }
      ]
    },
    {
      "cell_type": "code",
      "metadata": {
        "id": "IRLMY_sv53Ym",
        "outputId": "71418b69-cc62-4da7-962b-60be5adcbc12",
        "colab": {
          "base_uri": "https://localhost:8080/",
          "height": 34
        }
      },
      "source": [
        "dtime['DTime'].max()"
      ],
      "execution_count": null,
      "outputs": [
        {
          "output_type": "execute_result",
          "data": {
            "text/plain": [
              "129"
            ]
          },
          "metadata": {
            "tags": []
          },
          "execution_count": 54
        }
      ]
    },
    {
      "cell_type": "code",
      "metadata": {
        "id": "gK5_9Fhj53XS",
        "outputId": "31e7ab94-9ff8-4765-a1a7-a944be6aab14",
        "colab": {
          "base_uri": "https://localhost:8080/",
          "height": 34
        }
      },
      "source": [
        "round(dtime['DTime'].mean(), 1)"
      ],
      "execution_count": null,
      "outputs": [
        {
          "output_type": "execute_result",
          "data": {
            "text/plain": [
              "114.1"
            ]
          },
          "metadata": {
            "tags": []
          },
          "execution_count": 49
        }
      ]
    },
    {
      "cell_type": "code",
      "metadata": {
        "id": "--hUjcy7_QD7"
      },
      "source": [
        ""
      ],
      "execution_count": null,
      "outputs": []
    },
    {
      "cell_type": "code",
      "metadata": {
        "id": "PrMP4rE-_P8u"
      },
      "source": [
        ""
      ],
      "execution_count": null,
      "outputs": []
    },
    {
      "cell_type": "code",
      "metadata": {
        "id": "bn6UsSbW_P10"
      },
      "source": [
        ""
      ],
      "execution_count": null,
      "outputs": []
    },
    {
      "cell_type": "code",
      "metadata": {
        "id": "NitYcf4-53SP"
      },
      "source": [
        ""
      ],
      "execution_count": null,
      "outputs": []
    },
    {
      "cell_type": "markdown",
      "metadata": {
        "id": "JuG8eHr053-f"
      },
      "source": [
        "## END"
      ]
    },
    {
      "cell_type": "code",
      "metadata": {
        "id": "TLNCpXGt53MC"
      },
      "source": [
        ""
      ],
      "execution_count": null,
      "outputs": []
    },
    {
      "cell_type": "code",
      "metadata": {
        "id": "Ft2ZHemd53GO"
      },
      "source": [
        ""
      ],
      "execution_count": null,
      "outputs": []
    }
  ]
}