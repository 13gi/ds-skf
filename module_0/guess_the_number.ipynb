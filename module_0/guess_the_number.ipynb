{
 "cells": [
  {
   "cell_type": "code",
   "execution_count": 7,
   "metadata": {},
   "outputs": [],
   "source": []
  },
  {
   "cell_type": "code",
   "execution_count": 64,
   "metadata": {
    "scrolled": false
   },
   "outputs": [
    {
     "name": "stdout",
     "output_type": "stream",
     "text": [
      "Ваш алгоритм угадывает число в среднем за 7 попыток\n",
      "Ваш алгоритм угадывает число в среднем за 5 попыток\n"
     ]
    },
    {
     "data": {
      "text/plain": [
       "5"
      ]
     },
     "execution_count": 64,
     "metadata": {},
     "output_type": "execute_result"
    }
   ],
   "source": [
    "# Проект 0. Курс: DST-PRO\n",
    "# Поток: DSPR-1\n",
    "#\n",
    "# Задача: попробуйте улучшить алгоритм автора модуля\n",
    "# \n",
    "# Автор: https://github.com/13gi\n",
    "# Репозиторий: https://github.com/13gi/skillfactory_rds/tree/master/module_0\n",
    "#\n",
    "# Аннтоация\n",
    "#   game_core_v3\n",
    "#     алгоритм V3: угадывает число в среднем за 7 попыток.\n",
    "#\n",
    "#   game_core_v4\n",
    "#     алгоритм V4: угадывает число в среднем за 5 попыток.\n",
    "\n",
    "\n",
    "\n",
    "# -------------------------------------------\n",
    "#  Начальные условия\n",
    "# -------------------------------------------\n",
    "# Диапазон чисел для игры - указываем границы слева (входит) и справа(не входит в диапазон)\n",
    "\n",
    "range_border_left = 1\n",
    "range_border_right = 101\n",
    "\n",
    "\n",
    "def score_game(game_core):\n",
    "    ''' Функция расчета среднего результата.\n",
    "        Запускаем игру 1000 раз, чтобы узнать, как быстро игра угадывает число'''\n",
    "    # инициируем массив, в который соберем потребовашееся количество попыток для отгдаывания числа\n",
    "    count_ls = []\n",
    "    # фиксируем RANDOM SEED, чтобы ваш эксперимент был воспроизводим!\n",
    "    np.random.seed(1)  \n",
    "    \n",
    "    # наполняем массив 1000 случайными числами для угадывания\n",
    "    random_array = np.random.randint(range_border_left, range_border_right, size=(1000))\n",
    "    \n",
    "    # запускаем циклически функцию отгадывания числа и собираем массив из количества попыток\n",
    "    for number in random_array:\n",
    "        count_ls.append(game_core(number))\n",
    "    \n",
    "    # получаем среднее значение числа попыток\n",
    "    score_mean = int(np.mean(count_ls))\n",
    "    \n",
    "    print(f\"Ваш алгоритм угадывает число в среднем за {score_mean} попыток\")\n",
    "    # возращаем среднее число попыток\n",
    "    return(score_mean)\n",
    "\n",
    "\n",
    "def game_core_v3(number):\n",
    "    ''' Сначала берем середину промежетука, а потом сдвигаем границы влево или в право, чтобы брать random число\n",
    "        из постоянно сжимающегося промежутка вокруг искомого числа '''\n",
    "    # инициируем число попыток\n",
    "    count = 1\n",
    "    # Инициируем левую и правую границу диапазона отгадывания числа\n",
    "    shifting_range_left = range_border_left\n",
    "    shifting_range_right = range_border_right\n",
    "    \n",
    "    # при первой попытке пробуем угадать, используя число из середины диапазона\n",
    "    predict = shifting_range_right // 2\n",
    "    \n",
    "    # в цикле будем угадывать число и сдвигать границы к угадаываемому числу\n",
    "    while number != predict:\n",
    "        # если мы попали ниже загаданного числа\n",
    "        if number > predict: \n",
    "            # то сдвигаем левую границу диапазона и добавляем 1 так текущая граница точно не загаданное число\n",
    "            shifting_range_left = predict + 1\n",
    "        # если мы попали выше загаданного числа\n",
    "        elif number < predict: \n",
    "            # то сдвигаем правую границу\n",
    "            shifting_range_right = predict\n",
    "        \n",
    "        # берем случайное число из обновленного диапазона - сдвинутого к угадаываемому числу\n",
    "        predict = np.random.randint(shifting_range_left, shifting_range_right)\n",
    "        # увеличием количество попыток\n",
    "        count += 1\n",
    "        \n",
    "    # выход из цикла, если угадали, возвращаем число попыток\n",
    "    return(count) \n",
    "\n",
    "\n",
    "def game_core_v4(number):\n",
    "    ''' Сначала берем серидину промежетука, а потом сдвигаем границы влево или вправо, берем опять серидину промежутка.\n",
    "        таким образом делим всегда промежуток пополоам пока не дойдем до искомого числа'''\n",
    "    \n",
    "    # инициируем число попыток, левую и правую границу диапазона отгадывания числа\n",
    "    count = 1\n",
    "    shifting_range_left = range_border_left\n",
    "    shifting_range_right = range_border_right\n",
    "    \n",
    "    # пробуем угадать, используя число из середины диапазона\n",
    "    predict = shifting_range_right//2\n",
    "    \n",
    "    # в цикле будем угадывать число и сдвигать границы к угадаываемому числу\n",
    "    while number != predict:\n",
    "         # если мы попали ниже загаданного числа\n",
    "        if number > predict: \n",
    "            # то сдвигаем левую границу диапазона\n",
    "            shifting_range_left = predict\n",
    "        # если мы попали выше загаданного числа\n",
    "        elif number < predict: \n",
    "            # то сдвигаем правую границу\n",
    "            shifting_range_right = predict\n",
    "        \n",
    "        # пробуем угадать, используя число из середины диапазона\n",
    "        predict = (shifting_range_right + shifting_range_left)//2\n",
    "        # увеличием количество попыток\n",
    "        count += 1\n",
    "        \n",
    "    # выход из цикла, если угадали    \n",
    "    return(count) \n",
    "\n",
    "\n",
    "\n",
    "# запускаем на проверку первый вариант\n",
    "score_game(game_core_v3)\n",
    "\n",
    "# запускаем на проверку улучшенный вариант\n",
    "score_game(game_core_v4)\n"
   ]
  },
  {
   "cell_type": "code",
   "execution_count": null,
   "metadata": {},
   "outputs": [],
   "source": []
  },
  {
   "cell_type": "code",
   "execution_count": null,
   "metadata": {},
   "outputs": [],
   "source": []
  },
  {
   "cell_type": "code",
   "execution_count": null,
   "metadata": {},
   "outputs": [],
   "source": []
  },
  {
   "cell_type": "code",
   "execution_count": null,
   "metadata": {},
   "outputs": [],
   "source": []
  },
  {
   "cell_type": "code",
   "execution_count": null,
   "metadata": {},
   "outputs": [],
   "source": []
  }
 ],
 "metadata": {
  "kernelspec": {
   "display_name": "Python 3",
   "language": "python",
   "name": "python3"
  },
  "language_info": {
   "codemirror_mode": {
    "name": "ipython",
    "version": 3
   },
   "file_extension": ".py",
   "mimetype": "text/x-python",
   "name": "python",
   "nbconvert_exporter": "python",
   "pygments_lexer": "ipython3",
   "version": "3.7.6"
  }
 },
 "nbformat": 4,
 "nbformat_minor": 4
}
