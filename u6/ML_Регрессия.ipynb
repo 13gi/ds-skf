{
  "nbformat": 4,
  "nbformat_minor": 0,
  "metadata": {
    "colab": {
      "name": "ML-Регрессия.ipynb",
      "provenance": [],
      "collapsed_sections": [],
      "toc_visible": true,
      "mount_file_id": "1ScQS_pdIaxupjPGNxeX1vqqOSNgcpJ3u",
      "authorship_tag": "ABX9TyNj2qCBBoh+gu15lOl5QsVD"
    },
    "kernelspec": {
      "name": "python3",
      "display_name": "Python 3"
    }
  },
  "cells": [
    {
      "cell_type": "markdown",
      "metadata": {
        "id": "VgbxvgUaxraO"
      },
      "source": [
        "## START"
      ]
    },
    {
      "cell_type": "code",
      "metadata": {
        "id": "ztAa4sI_wNlf"
      },
      "source": [
        "import numpy as np\n",
        "import pandas as pd\n",
        "\n",
        "from sklearn import metrics\n",
        "from sklearn.model_selection import train_test_split\n",
        "from sklearn.ensemble import RandomForestRegressor\n",
        "from sklearn.linear_model import LinearRegression\n",
        "from sklearn.preprocessing import RobustScaler\n",
        "\n",
        "import re\n",
        "import random\n",
        "import os\n",
        "import math\n",
        "\n",
        "import matplotlib.pyplot as plt\n",
        "import seaborn as sns\n",
        "\n",
        "%matplotlib inline"
      ],
      "execution_count": null,
      "outputs": []
    },
    {
      "cell_type": "code",
      "metadata": {
        "id": "I0tjY_TFwZyM"
      },
      "source": [
        "#  проверка на работу в \"google colab\" или \"локально\"\n",
        "\n",
        "if 'sample_data' in os.listdir():\n",
        "    project_dir = r'/content/drive/My Drive/Colab Notebooks/data/'\n",
        "    print('Обнаружена среда выполнения Google Colab.')\n",
        "    print('project_dir =>', project_dir)\n",
        "else:\n",
        "    project_dir = ''\n",
        "    print('НЕ обнаружена среда выполнения Google Colab. Выбран режим локальной работы.')"
      ],
      "execution_count": null,
      "outputs": []
    },
    {
      "cell_type": "code",
      "metadata": {
        "id": "Qzrxb-gZwZ2a"
      },
      "source": [
        "os.listdir(project_dir)"
      ],
      "execution_count": null,
      "outputs": []
    },
    {
      "cell_type": "code",
      "metadata": {
        "id": "NwbOOgsHwZ6I"
      },
      "source": [
        "y_happy = [4,20,110,15,23]\n",
        "y_happy_pred = [5,15,100,9,21]\n",
        "\n",
        "# Вычисляем MAE:\n",
        "MAE = metrics.mean_absolute_error(y_happy, y_happy_pred)\n",
        "print('MAE: ', MAE)"
      ],
      "execution_count": null,
      "outputs": []
    },
    {
      "cell_type": "code",
      "metadata": {
        "id": "ChoYlZV9wZ9c"
      },
      "source": [
        "#Вычисляем MSE:\n",
        "\n",
        "MSE = metrics.mean_squared_error(y_happy, y_happy_pred)\n",
        "print('MSE:', MSE)"
      ],
      "execution_count": null,
      "outputs": []
    },
    {
      "cell_type": "code",
      "metadata": {
        "id": "6wVU1By5xnmI"
      },
      "source": [
        "# Вычисляем коэффициент детерминации (истина VS предсказания):\n",
        "\n",
        "R_2 = metrics.r2_score(y_happy, y_happy_pred)\n",
        "print('R_2:',R_2)"
      ],
      "execution_count": null,
      "outputs": []
    },
    {
      "cell_type": "code",
      "metadata": {
        "id": "bdxBHXBZxni5"
      },
      "source": [
        "# Task 3.3.1\n",
        "\n",
        "metrics.mean_squared_error([2, 3, -1, 4], [1, 3, 2, 5])\n"
      ],
      "execution_count": null,
      "outputs": []
    },
    {
      "cell_type": "code",
      "metadata": {
        "id": "iM-rxzIgxnfm"
      },
      "source": [
        "#  Task 3.4.5\n",
        "\n",
        "R_2 = metrics.r2_score([2, 3, -1, 4], [1, 3, 2, 5])\n",
        "round(R_2, 2)"
      ],
      "execution_count": null,
      "outputs": []
    },
    {
      "cell_type": "code",
      "metadata": {
        "id": "DiEmbB46xnZv"
      },
      "source": [
        "# 3A.5 Линейная регрессия. Предобработка\n",
        "\n",
        "data = pd.read_csv(project_dir + 'data_flats.csv', sep =';')\n",
        "data.head()\n"
      ],
      "execution_count": null,
      "outputs": []
    },
    {
      "cell_type": "code",
      "metadata": {
        "id": "95GM9FJGxnWv"
      },
      "source": [
        "data.info()"
      ],
      "execution_count": null,
      "outputs": []
    },
    {
      "cell_type": "code",
      "metadata": {
        "id": "Rvr7IhV-xdz6"
      },
      "source": [
        "data.isnull().sum()"
      ],
      "execution_count": null,
      "outputs": []
    },
    {
      "cell_type": "code",
      "metadata": {
        "id": "Aywkn8L6xdw9"
      },
      "source": [
        "fig, ax = plt.subplots(figsize=(20,12))\n",
        "sns_heatmap = sns.heatmap(data.isnull(), yticklabels=False, cbar=False, cmap='viridis')"
      ],
      "execution_count": null,
      "outputs": []
    },
    {
      "cell_type": "code",
      "metadata": {
        "id": "pGfZCMIfxduT"
      },
      "source": [
        "data.price_doc.hist()"
      ],
      "execution_count": null,
      "outputs": []
    },
    {
      "cell_type": "code",
      "metadata": {
        "id": "2W9azsDrxnTw"
      },
      "source": [
        "data['price_doc'] = data['price_doc'].apply(lambda w: np.log(w + 1))\n"
      ],
      "execution_count": null,
      "outputs": []
    },
    {
      "cell_type": "code",
      "metadata": {
        "id": "TlM0bZafxnQ2"
      },
      "source": [
        "data.price_doc.hist()"
      ],
      "execution_count": null,
      "outputs": []
    },
    {
      "cell_type": "code",
      "metadata": {
        "id": "CIjZZ2wf0y7S"
      },
      "source": [
        "sns.set(font_scale=1)\n",
        "plt.subplots(figsize=(16, 16))\n",
        "sns.heatmap(data.corr(), square=True, annot=True, fmt=\".1f\", linewidths=0.1, cmap=\"RdBu\")\n"
      ],
      "execution_count": null,
      "outputs": []
    },
    {
      "cell_type": "markdown",
      "metadata": {
        "id": "9F74f0IYuomG"
      },
      "source": [
        "## Model\n"
      ]
    },
    {
      "cell_type": "code",
      "metadata": {
        "id": "ALHmP2hd0y3E"
      },
      "source": [
        "df = data.copy()"
      ],
      "execution_count": null,
      "outputs": []
    },
    {
      "cell_type": "code",
      "metadata": {
        "id": "nBOryWN_0yy_"
      },
      "source": [
        "df.columns"
      ],
      "execution_count": null,
      "outputs": []
    },
    {
      "cell_type": "code",
      "metadata": {
        "id": "-QaGB0Q00ylf"
      },
      "source": [
        "# X = df.drop(['id', 'price_doc', 'preschool_education_centers_raion', 'kindergarten_km', 'school_km', 'kremlin_km'], axis=1)\n",
        "df.drop(['id', 'preschool_education_centers_raion', 'kindergarten_km', 'park_km', 'life_sq', 'kremlin_km'], axis=1, inplace=True)\n",
        "\n",
        "df.dropna(inplace=True)\n",
        "\n",
        "# 'price_doc'\n",
        "Y = df['price_doc'].values\n",
        "X = df.drop(['price_doc'], axis=1)"
      ],
      "execution_count": null,
      "outputs": []
    },
    {
      "cell_type": "code",
      "metadata": {
        "id": "jNkc_AVL0ypc"
      },
      "source": [
        "X.shape\n",
        "# (23925, 21)"
      ],
      "execution_count": null,
      "outputs": []
    },
    {
      "cell_type": "code",
      "metadata": {
        "id": "VzEOIuzE9me5"
      },
      "source": [
        "len(Y), len(X), len(X) - len(Y)"
      ],
      "execution_count": null,
      "outputs": []
    },
    {
      "cell_type": "code",
      "metadata": {
        "id": "XPpZd6-6yIaM"
      },
      "source": [
        "X_train, X_test, Y_train, Y_test = train_test_split(X, Y, test_size= 0.2, random_state=77)"
      ],
      "execution_count": null,
      "outputs": []
    },
    {
      "cell_type": "code",
      "metadata": {
        "id": "jOuAE4etzKFv"
      },
      "source": [
        "# Нормализуем обучающую и проверочную выборку по отдельности\n",
        "scaler = RobustScaler()\n",
        "\n",
        "X_train_norm = scaler.fit_transform(X_train)\n",
        "X_test_norm = scaler.fit_transform(X_test)\n"
      ],
      "execution_count": null,
      "outputs": []
    },
    {
      "cell_type": "code",
      "metadata": {
        "id": "CcrWFytsAy8D"
      },
      "source": [
        "%%time\n",
        "# Обучаем модель на тестовом наборе данных\n",
        "\n",
        "model = LinearRegression().fit(X_train_norm, Y_train)"
      ],
      "execution_count": null,
      "outputs": []
    },
    {
      "cell_type": "code",
      "metadata": {
        "id": "89iUzUq0waA1"
      },
      "source": [
        "# Используем обученную модель для предсказания рейтинга ресторанов в тестовой выборке.\n",
        "# Предсказанные значения записываем в переменную y_pred\n",
        "# y_pred = model.predict(X_test)\n",
        "\n",
        "y_pred = model.predict(X_test_norm)"
      ],
      "execution_count": null,
      "outputs": []
    },
    {
      "cell_type": "code",
      "metadata": {
        "id": "MwGZg0u5AZqU"
      },
      "source": [
        ""
      ],
      "execution_count": null,
      "outputs": []
    },
    {
      "cell_type": "code",
      "metadata": {
        "id": "4wv0ClgG_E6s"
      },
      "source": [
        "# Сравниваем предсказанные значения (y_pred) с реальными (y_test), и смотрим насколько они в среднем отличаются\n",
        "\n",
        "# MAE = metrics.mean_absolute_error(np.exp(Y_test) - 1, np.exp(y_pred) - 1)\n",
        "\n",
        "MSE = metrics.mean_squared_error(np.exp(Y_test) - 1, np.exp(y_pred) - 1)\n",
        "\n",
        "# print('MAE:', round(MAE, 0))\n",
        "print('MSE:', int(round(MSE, 0)))\n",
        "\n",
        "# MSE: 16647931507747"
      ],
      "execution_count": null,
      "outputs": []
    },
    {
      "cell_type": "code",
      "metadata": {
        "id": "uiqMJloq_BGJ"
      },
      "source": [
        ""
      ],
      "execution_count": null,
      "outputs": []
    },
    {
      "cell_type": "markdown",
      "metadata": {
        "id": "q6tcdcO6-hTk"
      },
      "source": [
        "## END"
      ]
    },
    {
      "cell_type": "code",
      "metadata": {
        "id": "066hJiQg-vBG"
      },
      "source": [
        ""
      ],
      "execution_count": null,
      "outputs": []
    }
  ]
}