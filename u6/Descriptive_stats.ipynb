{
  "nbformat": 4,
  "nbformat_minor": 0,
  "metadata": {
    "kernelspec": {
      "display_name": "Python 3",
      "language": "python",
      "name": "python3"
    },
    "language_info": {
      "codemirror_mode": {
        "name": "ipython",
        "version": 3
      },
      "file_extension": ".py",
      "mimetype": "text/x-python",
      "name": "python",
      "nbconvert_exporter": "python",
      "pygments_lexer": "ipython3",
      "version": "3.7.1"
    },
    "colab": {
      "name": "Descriptive_stats.ipynb",
      "provenance": []
    }
  },
  "cells": [
    {
      "cell_type": "markdown",
      "metadata": {
        "id": "MECs9p988msQ"
      },
      "source": [
        "# Start"
      ]
    },
    {
      "cell_type": "markdown",
      "metadata": {
        "id": "wfs8rM4U-4AT"
      },
      "source": [
        "Думаю, вы уже познакомились со стандартными функциями в numpy для вычисления станадртных оценок (среднего, медианы и проч), однако в анализе реальных данных вы, как правило, будете работать с целым датасетом.\n",
        "\n",
        "В этом разделе мы познакомимся с вычислением описательных статистик для целого датасета.\n",
        "\n",
        "Большинство из них вычиляются одной командой (методом) describe\n",
        "\n",
        "С вычислением корреляцонной матрицы мы уже сталкивались во 2 модуле, но освежим и ее\n",
        "\n",
        "И отдельное внимание уделим вычислению условных и безусловных пропорций.\n"
      ]
    },
    {
      "cell_type": "markdown",
      "metadata": {
        "id": "-IgdK2ja-4Ac"
      },
      "source": [
        "В датасете framingham.csv представлены данные, которые группа ученых из Фрамингема (США) использовала для выявления риска заболевания ишемической болезнью сердца в течение 10 лет.\n",
        "\n",
        "Демографические данные: \n",
        "\n",
        "    sex (male): пол, мужчина (1) или женщина (0) \n",
        "\n",
        "    age: возраст \n",
        "    \n",
        "    education: уровень образования (0-4: школа-колледж)\n",
        "    \n",
        "Поведенческие данные: \n",
        "\n",
        "    currentSmoker: курильщик (1) или нет (0)\n",
        "\n",
        "    cigsPerDay: количество выкуриваемых сигарет в день (шт.)\n",
        "\n",
        "Медицинская история:\n",
        "\n",
        "    BPMeds: принимает ли пациент препараты для регулировки артериального давления (0 - нет, 1 - да)\n",
        "\n",
        "    prevalentStroke: случался ли у пациента сердечный приступ (0 - нет, 1 - да)\n",
        "\n",
        "    prevalentHyp: страдает ли пациент гипертонией (0 - нет, 1 - да)\n",
        "\n",
        "    diabetes: страдает ли пациент диабетом (0 - нет, 1 - да)\n",
        "\n",
        "Физическое состояние:\n",
        "\n",
        "    totChol: уровень холестерина\n",
        "\n",
        "    sysBP: систолическое (верхнее) артериальное давление \n",
        "\n",
        "    diaBP: диастолическое (нижнее) артериальное давление \n",
        "\n",
        "    BMI: индекс массы тела - масса (кг) / рост^2 (в метрах)\n",
        "\n",
        "    heartRate: пульс\n",
        "\n",
        "    glucose: уровень глюкозы\n",
        "\n",
        "Целевая переменная (на которую авторы строили регрессию):\n",
        "\n",
        "    TenYearCHD: риск заболевания ишемической болезнью сердца в течение 10 лет"
      ]
    },
    {
      "cell_type": "markdown",
      "metadata": {
        "id": "KAPvNzfy-4Ag"
      },
      "source": [
        "Импорт библиотек:"
      ]
    },
    {
      "cell_type": "code",
      "metadata": {
        "id": "TYeT_FtB-4Am"
      },
      "source": [
        "import pandas as pd\n",
        "import numpy as np\n",
        "import matplotlib.pyplot as plt\n",
        "import seaborn as sn\n",
        "import matplotlib.mlab as mlab\n",
        "import os\n",
        "%matplotlib inline"
      ],
      "execution_count": 6,
      "outputs": []
    },
    {
      "cell_type": "code",
      "metadata": {
        "colab": {
          "base_uri": "https://localhost:8080/"
        },
        "id": "tbpEwQfc7YZ6",
        "outputId": "22314111-a47f-4123-ab45-2c48adf15db9"
      },
      "source": [
        "# проверка на работу в \"google colab\" или \"локально\"\n",
        "\n",
        "if 'sample_data' in os.listdir():\n",
        "    project_dir = r'/content/drive/My Drive/Colab Notebooks/data/'\n",
        "    print('Обнаружена среда выполнения Google Colab.')\n",
        "    print('project_dir =>', project_dir)\n",
        "else:\n",
        "    project_dir = ''\n",
        "    print('НЕ обнаружена среда выполнения Google Colab. Выбран режим локальной работы.')"
      ],
      "execution_count": 7,
      "outputs": [
        {
          "output_type": "stream",
          "text": [
            "Обнаружена среда выполнения Google Colab.\n",
            "project_dir => /content/drive/My Drive/Colab Notebooks/data/\n"
          ],
          "name": "stdout"
        }
      ]
    },
    {
      "cell_type": "markdown",
      "metadata": {
        "id": "RljnPEK0-4A3"
      },
      "source": [
        "Импорт датасета:"
      ]
    },
    {
      "cell_type": "code",
      "metadata": {
        "id": "hnvbVple-4A7"
      },
      "source": [
        "df = pd.read_csv(project_dir + 'framingham.csv')"
      ],
      "execution_count": 8,
      "outputs": []
    },
    {
      "cell_type": "markdown",
      "metadata": {
        "id": "F4UnM5M--4BG"
      },
      "source": [
        "Шапка датасета:"
      ]
    },
    {
      "cell_type": "code",
      "metadata": {
        "id": "F4XPaDXW-4BI",
        "colab": {
          "base_uri": "https://localhost:8080/",
          "height": 204
        },
        "outputId": "0b7d857d-445e-40b9-b842-41ffe12cf169"
      },
      "source": [
        "df.head()"
      ],
      "execution_count": 9,
      "outputs": [
        {
          "output_type": "execute_result",
          "data": {
            "text/html": [
              "<div>\n",
              "<style scoped>\n",
              "    .dataframe tbody tr th:only-of-type {\n",
              "        vertical-align: middle;\n",
              "    }\n",
              "\n",
              "    .dataframe tbody tr th {\n",
              "        vertical-align: top;\n",
              "    }\n",
              "\n",
              "    .dataframe thead th {\n",
              "        text-align: right;\n",
              "    }\n",
              "</style>\n",
              "<table border=\"1\" class=\"dataframe\">\n",
              "  <thead>\n",
              "    <tr style=\"text-align: right;\">\n",
              "      <th></th>\n",
              "      <th>male</th>\n",
              "      <th>age</th>\n",
              "      <th>education</th>\n",
              "      <th>currentSmoker</th>\n",
              "      <th>cigsPerDay</th>\n",
              "      <th>BPMeds</th>\n",
              "      <th>prevalentStroke</th>\n",
              "      <th>prevalentHyp</th>\n",
              "      <th>diabetes</th>\n",
              "      <th>totChol</th>\n",
              "      <th>sysBP</th>\n",
              "      <th>diaBP</th>\n",
              "      <th>BMI</th>\n",
              "      <th>heartRate</th>\n",
              "      <th>glucose</th>\n",
              "      <th>TenYearCHD</th>\n",
              "    </tr>\n",
              "  </thead>\n",
              "  <tbody>\n",
              "    <tr>\n",
              "      <th>0</th>\n",
              "      <td>1</td>\n",
              "      <td>39</td>\n",
              "      <td>4.0</td>\n",
              "      <td>0</td>\n",
              "      <td>0.0</td>\n",
              "      <td>0.0</td>\n",
              "      <td>0</td>\n",
              "      <td>0</td>\n",
              "      <td>0</td>\n",
              "      <td>195.0</td>\n",
              "      <td>106.0</td>\n",
              "      <td>70.0</td>\n",
              "      <td>26.97</td>\n",
              "      <td>80.0</td>\n",
              "      <td>77.0</td>\n",
              "      <td>0</td>\n",
              "    </tr>\n",
              "    <tr>\n",
              "      <th>1</th>\n",
              "      <td>0</td>\n",
              "      <td>46</td>\n",
              "      <td>2.0</td>\n",
              "      <td>0</td>\n",
              "      <td>0.0</td>\n",
              "      <td>0.0</td>\n",
              "      <td>0</td>\n",
              "      <td>0</td>\n",
              "      <td>0</td>\n",
              "      <td>250.0</td>\n",
              "      <td>121.0</td>\n",
              "      <td>81.0</td>\n",
              "      <td>28.73</td>\n",
              "      <td>95.0</td>\n",
              "      <td>76.0</td>\n",
              "      <td>0</td>\n",
              "    </tr>\n",
              "    <tr>\n",
              "      <th>2</th>\n",
              "      <td>1</td>\n",
              "      <td>48</td>\n",
              "      <td>1.0</td>\n",
              "      <td>1</td>\n",
              "      <td>20.0</td>\n",
              "      <td>0.0</td>\n",
              "      <td>0</td>\n",
              "      <td>0</td>\n",
              "      <td>0</td>\n",
              "      <td>245.0</td>\n",
              "      <td>127.5</td>\n",
              "      <td>80.0</td>\n",
              "      <td>25.34</td>\n",
              "      <td>75.0</td>\n",
              "      <td>70.0</td>\n",
              "      <td>0</td>\n",
              "    </tr>\n",
              "    <tr>\n",
              "      <th>3</th>\n",
              "      <td>0</td>\n",
              "      <td>61</td>\n",
              "      <td>3.0</td>\n",
              "      <td>1</td>\n",
              "      <td>30.0</td>\n",
              "      <td>0.0</td>\n",
              "      <td>0</td>\n",
              "      <td>1</td>\n",
              "      <td>0</td>\n",
              "      <td>225.0</td>\n",
              "      <td>150.0</td>\n",
              "      <td>95.0</td>\n",
              "      <td>28.58</td>\n",
              "      <td>65.0</td>\n",
              "      <td>103.0</td>\n",
              "      <td>1</td>\n",
              "    </tr>\n",
              "    <tr>\n",
              "      <th>4</th>\n",
              "      <td>0</td>\n",
              "      <td>46</td>\n",
              "      <td>3.0</td>\n",
              "      <td>1</td>\n",
              "      <td>23.0</td>\n",
              "      <td>0.0</td>\n",
              "      <td>0</td>\n",
              "      <td>0</td>\n",
              "      <td>0</td>\n",
              "      <td>285.0</td>\n",
              "      <td>130.0</td>\n",
              "      <td>84.0</td>\n",
              "      <td>23.10</td>\n",
              "      <td>85.0</td>\n",
              "      <td>85.0</td>\n",
              "      <td>0</td>\n",
              "    </tr>\n",
              "  </tbody>\n",
              "</table>\n",
              "</div>"
            ],
            "text/plain": [
              "   male  age  education  currentSmoker  ...    BMI  heartRate  glucose  TenYearCHD\n",
              "0     1   39        4.0              0  ...  26.97       80.0     77.0           0\n",
              "1     0   46        2.0              0  ...  28.73       95.0     76.0           0\n",
              "2     1   48        1.0              1  ...  25.34       75.0     70.0           0\n",
              "3     0   61        3.0              1  ...  28.58       65.0    103.0           1\n",
              "4     0   46        3.0              1  ...  23.10       85.0     85.0           0\n",
              "\n",
              "[5 rows x 16 columns]"
            ]
          },
          "metadata": {
            "tags": []
          },
          "execution_count": 9
        }
      ]
    },
    {
      "cell_type": "markdown",
      "metadata": {
        "id": "9USrZY45-4BU"
      },
      "source": [
        "Размер датасета:"
      ]
    },
    {
      "cell_type": "code",
      "metadata": {
        "id": "Fwvx9Pg--4BX",
        "colab": {
          "base_uri": "https://localhost:8080/"
        },
        "outputId": "458593dc-7b24-491c-caf7-83eca4db84d1"
      },
      "source": [
        "df.shape"
      ],
      "execution_count": 10,
      "outputs": [
        {
          "output_type": "execute_result",
          "data": {
            "text/plain": [
              "(4240, 16)"
            ]
          },
          "metadata": {
            "tags": []
          },
          "execution_count": 10
        }
      ]
    },
    {
      "cell_type": "markdown",
      "metadata": {
        "id": "d7ZVZz6J-4Bk"
      },
      "source": [
        "Названия столбцов датасета понадобятся нам, чтобы обращаться к отдельным признакам пациентов:"
      ]
    },
    {
      "cell_type": "code",
      "metadata": {
        "id": "6_PgsTeo-4Bn",
        "colab": {
          "base_uri": "https://localhost:8080/"
        },
        "outputId": "56b1873a-5144-4a00-f0b4-77b52c193cc3"
      },
      "source": [
        "df.columns"
      ],
      "execution_count": 11,
      "outputs": [
        {
          "output_type": "execute_result",
          "data": {
            "text/plain": [
              "Index(['male', 'age', 'education', 'currentSmoker', 'cigsPerDay', 'BPMeds',\n",
              "       'prevalentStroke', 'prevalentHyp', 'diabetes', 'totChol', 'sysBP',\n",
              "       'diaBP', 'BMI', 'heartRate', 'glucose', 'TenYearCHD'],\n",
              "      dtype='object')"
            ]
          },
          "metadata": {
            "tags": []
          },
          "execution_count": 11
        }
      ]
    },
    {
      "cell_type": "markdown",
      "metadata": {
        "id": "V3MI_qLW-4Bx"
      },
      "source": [
        "Поиск missing values:"
      ]
    },
    {
      "cell_type": "code",
      "metadata": {
        "scrolled": true,
        "id": "NuiYzLyO-4B0",
        "colab": {
          "base_uri": "https://localhost:8080/"
        },
        "outputId": "c784c91a-db1e-4a5b-98c5-52fb0e4b6058"
      },
      "source": [
        "df.isnull().sum()"
      ],
      "execution_count": 12,
      "outputs": [
        {
          "output_type": "execute_result",
          "data": {
            "text/plain": [
              "male                 0\n",
              "age                  0\n",
              "education          105\n",
              "currentSmoker        0\n",
              "cigsPerDay          29\n",
              "BPMeds              53\n",
              "prevalentStroke      0\n",
              "prevalentHyp         0\n",
              "diabetes             0\n",
              "totChol             50\n",
              "sysBP                0\n",
              "diaBP                0\n",
              "BMI                 19\n",
              "heartRate            1\n",
              "glucose            388\n",
              "TenYearCHD           0\n",
              "dtype: int64"
            ]
          },
          "metadata": {
            "tags": []
          },
          "execution_count": 12
        }
      ]
    },
    {
      "cell_type": "markdown",
      "metadata": {
        "id": "EXTsHpsy-4B-"
      },
      "source": [
        "Видим, что у 105 пациентов нет данных об образовании, у 388 - об уровне глюкозы. Недостающие данные могут стать причиной некорректных значений оценок, и от них лучше избавиться."
      ]
    },
    {
      "cell_type": "markdown",
      "metadata": {
        "id": "LjqRmXZm-4CA"
      },
      "source": [
        "Количество строк, в которых есть missing values"
      ]
    },
    {
      "cell_type": "code",
      "metadata": {
        "scrolled": true,
        "id": "ZhKlR2_O-4CD",
        "colab": {
          "base_uri": "https://localhost:8080/"
        },
        "outputId": "1dc5fc21-9b15-4a2d-f1c4-f27df563fa75"
      },
      "source": [
        "count=0\n",
        "for i in df.isnull().sum(axis=1):\n",
        "    if i>0:\n",
        "        count=count+1\n",
        "print('Общее количество строк с пропущенными значениями: ', count)"
      ],
      "execution_count": 13,
      "outputs": [
        {
          "output_type": "stream",
          "text": [
            "Общее количество строк с пропущенными значениями:  582\n"
          ],
          "name": "stdout"
        }
      ]
    },
    {
      "cell_type": "markdown",
      "metadata": {
        "id": "LCm1A2VV-4CM"
      },
      "source": [
        "Итого у нас 582 строки, в которых не хватает каких-нибудь данных"
      ]
    },
    {
      "cell_type": "markdown",
      "metadata": {
        "id": "nJgoLIEn-4CR"
      },
      "source": [
        "Найдем соотношение строк с недостающими данными и общего кол-ва строк\n",
        "\n",
        "Если их будет относительно немного, то выгоднее избавиться от неполных строк, а если много, то надо посмотреть, в каких столбцах больше всего не хватает данных - возможно, выгоднее будет избавляться от них."
      ]
    },
    {
      "cell_type": "code",
      "metadata": {
        "id": "eQflme5B-4CU",
        "colab": {
          "base_uri": "https://localhost:8080/"
        },
        "outputId": "f23cacb6-fc86-41c6-90cd-2f4459bdfc6a"
      },
      "source": [
        "count/df.shape[0]"
      ],
      "execution_count": 14,
      "outputs": [
        {
          "output_type": "execute_result",
          "data": {
            "text/plain": [
              "0.13726415094339622"
            ]
          },
          "metadata": {
            "tags": []
          },
          "execution_count": 14
        }
      ]
    },
    {
      "cell_type": "markdown",
      "metadata": {
        "id": "9hypSyoT-4Cb"
      },
      "source": [
        "Т.к. соотношение мало (13%), можем отбросить строки с отсутствующими данными):"
      ]
    },
    {
      "cell_type": "code",
      "metadata": {
        "id": "Y6rA77w_-4Ce"
      },
      "source": [
        "df.dropna(axis=0,inplace=True)"
      ],
      "execution_count": 15,
      "outputs": []
    },
    {
      "cell_type": "markdown",
      "metadata": {
        "id": "1yqWcS3r-4Cm"
      },
      "source": [
        "Размеры датасета после удаления missing values:"
      ]
    },
    {
      "cell_type": "code",
      "metadata": {
        "id": "okpXEm7d-4Co",
        "colab": {
          "base_uri": "https://localhost:8080/"
        },
        "outputId": "24d820a3-bcd0-4361-82df-6c4c4d79781e"
      },
      "source": [
        "df.shape"
      ],
      "execution_count": 16,
      "outputs": [
        {
          "output_type": "execute_result",
          "data": {
            "text/plain": [
              "(3658, 16)"
            ]
          },
          "metadata": {
            "tags": []
          },
          "execution_count": 16
        }
      ]
    },
    {
      "cell_type": "markdown",
      "metadata": {
        "id": "x3VAQuUh-4Cx"
      },
      "source": [
        "Получение описательных статистик при помощи фунции describe: "
      ]
    },
    {
      "cell_type": "code",
      "metadata": {
        "id": "dyLQuohX-4Cz",
        "colab": {
          "base_uri": "https://localhost:8080/",
          "height": 317
        },
        "outputId": "546562a2-02b8-48d6-ec23-fd83ca161786"
      },
      "source": [
        "df.describe()"
      ],
      "execution_count": 17,
      "outputs": [
        {
          "output_type": "execute_result",
          "data": {
            "text/html": [
              "<div>\n",
              "<style scoped>\n",
              "    .dataframe tbody tr th:only-of-type {\n",
              "        vertical-align: middle;\n",
              "    }\n",
              "\n",
              "    .dataframe tbody tr th {\n",
              "        vertical-align: top;\n",
              "    }\n",
              "\n",
              "    .dataframe thead th {\n",
              "        text-align: right;\n",
              "    }\n",
              "</style>\n",
              "<table border=\"1\" class=\"dataframe\">\n",
              "  <thead>\n",
              "    <tr style=\"text-align: right;\">\n",
              "      <th></th>\n",
              "      <th>male</th>\n",
              "      <th>age</th>\n",
              "      <th>education</th>\n",
              "      <th>currentSmoker</th>\n",
              "      <th>cigsPerDay</th>\n",
              "      <th>BPMeds</th>\n",
              "      <th>prevalentStroke</th>\n",
              "      <th>prevalentHyp</th>\n",
              "      <th>diabetes</th>\n",
              "      <th>totChol</th>\n",
              "      <th>sysBP</th>\n",
              "      <th>diaBP</th>\n",
              "      <th>BMI</th>\n",
              "      <th>heartRate</th>\n",
              "      <th>glucose</th>\n",
              "      <th>TenYearCHD</th>\n",
              "    </tr>\n",
              "  </thead>\n",
              "  <tbody>\n",
              "    <tr>\n",
              "      <th>count</th>\n",
              "      <td>3658.000000</td>\n",
              "      <td>3658.000000</td>\n",
              "      <td>3658.000000</td>\n",
              "      <td>3658.000000</td>\n",
              "      <td>3658.000000</td>\n",
              "      <td>3658.000000</td>\n",
              "      <td>3658.000000</td>\n",
              "      <td>3658.000000</td>\n",
              "      <td>3658.000000</td>\n",
              "      <td>3658.000000</td>\n",
              "      <td>3658.000000</td>\n",
              "      <td>3658.000000</td>\n",
              "      <td>3658.000000</td>\n",
              "      <td>3658.000000</td>\n",
              "      <td>3658.000000</td>\n",
              "      <td>3658.000000</td>\n",
              "    </tr>\n",
              "    <tr>\n",
              "      <th>mean</th>\n",
              "      <td>0.443685</td>\n",
              "      <td>49.551941</td>\n",
              "      <td>1.980317</td>\n",
              "      <td>0.489065</td>\n",
              "      <td>9.025424</td>\n",
              "      <td>0.030344</td>\n",
              "      <td>0.005741</td>\n",
              "      <td>0.311646</td>\n",
              "      <td>0.027064</td>\n",
              "      <td>236.847731</td>\n",
              "      <td>132.370558</td>\n",
              "      <td>82.917031</td>\n",
              "      <td>25.782802</td>\n",
              "      <td>75.730727</td>\n",
              "      <td>81.852925</td>\n",
              "      <td>0.152269</td>\n",
              "    </tr>\n",
              "    <tr>\n",
              "      <th>std</th>\n",
              "      <td>0.496886</td>\n",
              "      <td>8.562029</td>\n",
              "      <td>1.022656</td>\n",
              "      <td>0.499949</td>\n",
              "      <td>11.921590</td>\n",
              "      <td>0.171557</td>\n",
              "      <td>0.075561</td>\n",
              "      <td>0.463229</td>\n",
              "      <td>0.162292</td>\n",
              "      <td>44.097681</td>\n",
              "      <td>22.086866</td>\n",
              "      <td>11.974258</td>\n",
              "      <td>4.065601</td>\n",
              "      <td>11.981525</td>\n",
              "      <td>23.904164</td>\n",
              "      <td>0.359331</td>\n",
              "    </tr>\n",
              "    <tr>\n",
              "      <th>min</th>\n",
              "      <td>0.000000</td>\n",
              "      <td>32.000000</td>\n",
              "      <td>1.000000</td>\n",
              "      <td>0.000000</td>\n",
              "      <td>0.000000</td>\n",
              "      <td>0.000000</td>\n",
              "      <td>0.000000</td>\n",
              "      <td>0.000000</td>\n",
              "      <td>0.000000</td>\n",
              "      <td>113.000000</td>\n",
              "      <td>83.500000</td>\n",
              "      <td>48.000000</td>\n",
              "      <td>15.540000</td>\n",
              "      <td>44.000000</td>\n",
              "      <td>40.000000</td>\n",
              "      <td>0.000000</td>\n",
              "    </tr>\n",
              "    <tr>\n",
              "      <th>25%</th>\n",
              "      <td>0.000000</td>\n",
              "      <td>42.000000</td>\n",
              "      <td>1.000000</td>\n",
              "      <td>0.000000</td>\n",
              "      <td>0.000000</td>\n",
              "      <td>0.000000</td>\n",
              "      <td>0.000000</td>\n",
              "      <td>0.000000</td>\n",
              "      <td>0.000000</td>\n",
              "      <td>206.000000</td>\n",
              "      <td>117.000000</td>\n",
              "      <td>75.000000</td>\n",
              "      <td>23.080000</td>\n",
              "      <td>68.000000</td>\n",
              "      <td>71.000000</td>\n",
              "      <td>0.000000</td>\n",
              "    </tr>\n",
              "    <tr>\n",
              "      <th>50%</th>\n",
              "      <td>0.000000</td>\n",
              "      <td>49.000000</td>\n",
              "      <td>2.000000</td>\n",
              "      <td>0.000000</td>\n",
              "      <td>0.000000</td>\n",
              "      <td>0.000000</td>\n",
              "      <td>0.000000</td>\n",
              "      <td>0.000000</td>\n",
              "      <td>0.000000</td>\n",
              "      <td>234.000000</td>\n",
              "      <td>128.000000</td>\n",
              "      <td>82.000000</td>\n",
              "      <td>25.380000</td>\n",
              "      <td>75.000000</td>\n",
              "      <td>78.000000</td>\n",
              "      <td>0.000000</td>\n",
              "    </tr>\n",
              "    <tr>\n",
              "      <th>75%</th>\n",
              "      <td>1.000000</td>\n",
              "      <td>56.000000</td>\n",
              "      <td>3.000000</td>\n",
              "      <td>1.000000</td>\n",
              "      <td>20.000000</td>\n",
              "      <td>0.000000</td>\n",
              "      <td>0.000000</td>\n",
              "      <td>1.000000</td>\n",
              "      <td>0.000000</td>\n",
              "      <td>263.000000</td>\n",
              "      <td>143.875000</td>\n",
              "      <td>90.000000</td>\n",
              "      <td>28.037500</td>\n",
              "      <td>82.000000</td>\n",
              "      <td>87.000000</td>\n",
              "      <td>0.000000</td>\n",
              "    </tr>\n",
              "    <tr>\n",
              "      <th>max</th>\n",
              "      <td>1.000000</td>\n",
              "      <td>70.000000</td>\n",
              "      <td>4.000000</td>\n",
              "      <td>1.000000</td>\n",
              "      <td>70.000000</td>\n",
              "      <td>1.000000</td>\n",
              "      <td>1.000000</td>\n",
              "      <td>1.000000</td>\n",
              "      <td>1.000000</td>\n",
              "      <td>600.000000</td>\n",
              "      <td>295.000000</td>\n",
              "      <td>142.500000</td>\n",
              "      <td>56.800000</td>\n",
              "      <td>143.000000</td>\n",
              "      <td>394.000000</td>\n",
              "      <td>1.000000</td>\n",
              "    </tr>\n",
              "  </tbody>\n",
              "</table>\n",
              "</div>"
            ],
            "text/plain": [
              "              male          age  ...      glucose   TenYearCHD\n",
              "count  3658.000000  3658.000000  ...  3658.000000  3658.000000\n",
              "mean      0.443685    49.551941  ...    81.852925     0.152269\n",
              "std       0.496886     8.562029  ...    23.904164     0.359331\n",
              "min       0.000000    32.000000  ...    40.000000     0.000000\n",
              "25%       0.000000    42.000000  ...    71.000000     0.000000\n",
              "50%       0.000000    49.000000  ...    78.000000     0.000000\n",
              "75%       1.000000    56.000000  ...    87.000000     0.000000\n",
              "max       1.000000    70.000000  ...   394.000000     1.000000\n",
              "\n",
              "[8 rows x 16 columns]"
            ]
          },
          "metadata": {
            "tags": []
          },
          "execution_count": 17
        }
      ]
    },
    {
      "cell_type": "markdown",
      "metadata": {
        "id": "QIpHmha9-4C7"
      },
      "source": [
        "Данные полученные из describe:\n",
        "\n",
        "    mean - среднее значение\n",
        "    std - стандартное (среднеквадратичное) отклонение. \n",
        "    min - минимальное значение \n",
        "    max - максимальное значение\n",
        "    25% - нижняя квартиль (медиана меньшей/левой половины выборки)\n",
        "    50% - медиана\n",
        "    75% - верхняя квартиль (медиана большей/правой половины выборки)"
      ]
    },
    {
      "cell_type": "markdown",
      "metadata": {
        "id": "UHAmovu6-4C_"
      },
      "source": [
        "Далее строим тепловую карту корреляционной матрицы при помощи функции heatmap и саму корреляционную матрицу. Чем насыщеннее цвет, тем сильнее корреляция."
      ]
    },
    {
      "cell_type": "code",
      "metadata": {
        "id": "ahhaWQ1q-4DD",
        "colab": {
          "base_uri": "https://localhost:8080/",
          "height": 355
        },
        "outputId": "e7e22d6d-10c5-4a0f-a216-998b499a92f6"
      },
      "source": [
        "sn.heatmap(df.corr())"
      ],
      "execution_count": 18,
      "outputs": [
        {
          "output_type": "execute_result",
          "data": {
            "text/plain": [
              "<matplotlib.axes._subplots.AxesSubplot at 0x7f7376599898>"
            ]
          },
          "metadata": {
            "tags": []
          },
          "execution_count": 18
        },
        {
          "output_type": "display_data",
          "data": {
            "image/png": "[encoded data removed]",
            "text/plain": [
              "<Figure size 432x288 with 2 Axes>"
            ]
          },
          "metadata": {
            "tags": [],
            "needs_background": "light"
          }
        }
      ]
    },
    {
      "cell_type": "markdown",
      "metadata": {
        "id": "tp8bjgek-4DK"
      },
      "source": [
        "Можем увидеть сильную корреляцию между диастолическим и систолическим давлением. Корреляции целевой переменной со всеми признаками невелики. Это значит, что линейная связь между ними очень слабая"
      ]
    },
    {
      "cell_type": "code",
      "metadata": {
        "scrolled": true,
        "id": "bF3bUSbK-4DM",
        "colab": {
          "base_uri": "https://localhost:8080/",
          "height": 565
        },
        "outputId": "c690018e-6cc8-4821-bf76-a1d6259d37f0"
      },
      "source": [
        "df.corr()"
      ],
      "execution_count": 19,
      "outputs": [
        {
          "output_type": "execute_result",
          "data": {
            "text/html": [
              "<div>\n",
              "<style scoped>\n",
              "    .dataframe tbody tr th:only-of-type {\n",
              "        vertical-align: middle;\n",
              "    }\n",
              "\n",
              "    .dataframe tbody tr th {\n",
              "        vertical-align: top;\n",
              "    }\n",
              "\n",
              "    .dataframe thead th {\n",
              "        text-align: right;\n",
              "    }\n",
              "</style>\n",
              "<table border=\"1\" class=\"dataframe\">\n",
              "  <thead>\n",
              "    <tr style=\"text-align: right;\">\n",
              "      <th></th>\n",
              "      <th>male</th>\n",
              "      <th>age</th>\n",
              "      <th>education</th>\n",
              "      <th>currentSmoker</th>\n",
              "      <th>cigsPerDay</th>\n",
              "      <th>BPMeds</th>\n",
              "      <th>prevalentStroke</th>\n",
              "      <th>prevalentHyp</th>\n",
              "      <th>diabetes</th>\n",
              "      <th>totChol</th>\n",
              "      <th>sysBP</th>\n",
              "      <th>diaBP</th>\n",
              "      <th>BMI</th>\n",
              "      <th>heartRate</th>\n",
              "      <th>glucose</th>\n",
              "      <th>TenYearCHD</th>\n",
              "    </tr>\n",
              "  </thead>\n",
              "  <tbody>\n",
              "    <tr>\n",
              "      <th>male</th>\n",
              "      <td>1.000000</td>\n",
              "      <td>-0.024412</td>\n",
              "      <td>0.017729</td>\n",
              "      <td>0.206114</td>\n",
              "      <td>0.330322</td>\n",
              "      <td>-0.052124</td>\n",
              "      <td>-0.002312</td>\n",
              "      <td>0.001424</td>\n",
              "      <td>0.013819</td>\n",
              "      <td>-0.070321</td>\n",
              "      <td>-0.045358</td>\n",
              "      <td>0.051872</td>\n",
              "      <td>0.073111</td>\n",
              "      <td>-0.115285</td>\n",
              "      <td>0.002940</td>\n",
              "      <td>0.091688</td>\n",
              "    </tr>\n",
              "    <tr>\n",
              "      <th>age</th>\n",
              "      <td>-0.024412</td>\n",
              "      <td>1.000000</td>\n",
              "      <td>-0.159499</td>\n",
              "      <td>-0.210771</td>\n",
              "      <td>-0.189295</td>\n",
              "      <td>0.134732</td>\n",
              "      <td>0.050893</td>\n",
              "      <td>0.306239</td>\n",
              "      <td>0.109092</td>\n",
              "      <td>0.268252</td>\n",
              "      <td>0.388267</td>\n",
              "      <td>0.208283</td>\n",
              "      <td>0.137511</td>\n",
              "      <td>-0.002722</td>\n",
              "      <td>0.118349</td>\n",
              "      <td>0.233983</td>\n",
              "    </tr>\n",
              "    <tr>\n",
              "      <th>education</th>\n",
              "      <td>0.017729</td>\n",
              "      <td>-0.159499</td>\n",
              "      <td>1.000000</td>\n",
              "      <td>0.025251</td>\n",
              "      <td>0.013790</td>\n",
              "      <td>-0.013739</td>\n",
              "      <td>-0.030386</td>\n",
              "      <td>-0.078828</td>\n",
              "      <td>-0.039627</td>\n",
              "      <td>-0.013522</td>\n",
              "      <td>-0.124360</td>\n",
              "      <td>-0.058059</td>\n",
              "      <td>-0.137555</td>\n",
              "      <td>-0.064214</td>\n",
              "      <td>-0.031998</td>\n",
              "      <td>-0.063279</td>\n",
              "    </tr>\n",
              "    <tr>\n",
              "      <th>currentSmoker</th>\n",
              "      <td>0.206114</td>\n",
              "      <td>-0.210771</td>\n",
              "      <td>0.025251</td>\n",
              "      <td>1.000000</td>\n",
              "      <td>0.773913</td>\n",
              "      <td>-0.051923</td>\n",
              "      <td>-0.038150</td>\n",
              "      <td>-0.108078</td>\n",
              "      <td>-0.041849</td>\n",
              "      <td>-0.051034</td>\n",
              "      <td>-0.134428</td>\n",
              "      <td>-0.115955</td>\n",
              "      <td>-0.159821</td>\n",
              "      <td>0.050841</td>\n",
              "      <td>-0.053242</td>\n",
              "      <td>0.019165</td>\n",
              "    </tr>\n",
              "    <tr>\n",
              "      <th>cigsPerDay</th>\n",
              "      <td>0.330322</td>\n",
              "      <td>-0.189295</td>\n",
              "      <td>0.013790</td>\n",
              "      <td>0.773913</td>\n",
              "      <td>1.000000</td>\n",
              "      <td>-0.046504</td>\n",
              "      <td>-0.036286</td>\n",
              "      <td>-0.070460</td>\n",
              "      <td>-0.036961</td>\n",
              "      <td>-0.030400</td>\n",
              "      <td>-0.094781</td>\n",
              "      <td>-0.056746</td>\n",
              "      <td>-0.087395</td>\n",
              "      <td>0.064030</td>\n",
              "      <td>-0.053726</td>\n",
              "      <td>0.052014</td>\n",
              "    </tr>\n",
              "    <tr>\n",
              "      <th>BPMeds</th>\n",
              "      <td>-0.052124</td>\n",
              "      <td>0.134732</td>\n",
              "      <td>-0.013739</td>\n",
              "      <td>-0.051923</td>\n",
              "      <td>-0.046504</td>\n",
              "      <td>1.000000</td>\n",
              "      <td>0.113125</td>\n",
              "      <td>0.262910</td>\n",
              "      <td>0.049066</td>\n",
              "      <td>0.094083</td>\n",
              "      <td>0.271263</td>\n",
              "      <td>0.199630</td>\n",
              "      <td>0.105642</td>\n",
              "      <td>0.012889</td>\n",
              "      <td>0.054232</td>\n",
              "      <td>0.089152</td>\n",
              "    </tr>\n",
              "    <tr>\n",
              "      <th>prevalentStroke</th>\n",
              "      <td>-0.002312</td>\n",
              "      <td>0.050893</td>\n",
              "      <td>-0.030386</td>\n",
              "      <td>-0.038150</td>\n",
              "      <td>-0.036286</td>\n",
              "      <td>0.113125</td>\n",
              "      <td>1.000000</td>\n",
              "      <td>0.066057</td>\n",
              "      <td>0.009625</td>\n",
              "      <td>0.012736</td>\n",
              "      <td>0.061070</td>\n",
              "      <td>0.055834</td>\n",
              "      <td>0.036496</td>\n",
              "      <td>-0.017019</td>\n",
              "      <td>0.016061</td>\n",
              "      <td>0.048366</td>\n",
              "    </tr>\n",
              "    <tr>\n",
              "      <th>prevalentHyp</th>\n",
              "      <td>0.001424</td>\n",
              "      <td>0.306239</td>\n",
              "      <td>-0.078828</td>\n",
              "      <td>-0.108078</td>\n",
              "      <td>-0.070460</td>\n",
              "      <td>0.262910</td>\n",
              "      <td>0.066057</td>\n",
              "      <td>1.000000</td>\n",
              "      <td>0.080556</td>\n",
              "      <td>0.166655</td>\n",
              "      <td>0.697675</td>\n",
              "      <td>0.617734</td>\n",
              "      <td>0.302949</td>\n",
              "      <td>0.146818</td>\n",
              "      <td>0.086942</td>\n",
              "      <td>0.181387</td>\n",
              "    </tr>\n",
              "    <tr>\n",
              "      <th>diabetes</th>\n",
              "      <td>0.013819</td>\n",
              "      <td>0.109092</td>\n",
              "      <td>-0.039627</td>\n",
              "      <td>-0.041849</td>\n",
              "      <td>-0.036961</td>\n",
              "      <td>0.049066</td>\n",
              "      <td>0.009625</td>\n",
              "      <td>0.080556</td>\n",
              "      <td>1.000000</td>\n",
              "      <td>0.048451</td>\n",
              "      <td>0.102552</td>\n",
              "      <td>0.050686</td>\n",
              "      <td>0.089009</td>\n",
              "      <td>0.060984</td>\n",
              "      <td>0.614820</td>\n",
              "      <td>0.093431</td>\n",
              "    </tr>\n",
              "    <tr>\n",
              "      <th>totChol</th>\n",
              "      <td>-0.070321</td>\n",
              "      <td>0.268252</td>\n",
              "      <td>-0.013522</td>\n",
              "      <td>-0.051034</td>\n",
              "      <td>-0.030400</td>\n",
              "      <td>0.094083</td>\n",
              "      <td>0.012736</td>\n",
              "      <td>0.166655</td>\n",
              "      <td>0.048451</td>\n",
              "      <td>1.000000</td>\n",
              "      <td>0.219925</td>\n",
              "      <td>0.174422</td>\n",
              "      <td>0.121056</td>\n",
              "      <td>0.093053</td>\n",
              "      <td>0.049884</td>\n",
              "      <td>0.091338</td>\n",
              "    </tr>\n",
              "    <tr>\n",
              "      <th>sysBP</th>\n",
              "      <td>-0.045358</td>\n",
              "      <td>0.388267</td>\n",
              "      <td>-0.124360</td>\n",
              "      <td>-0.134428</td>\n",
              "      <td>-0.094781</td>\n",
              "      <td>0.271263</td>\n",
              "      <td>0.061070</td>\n",
              "      <td>0.697675</td>\n",
              "      <td>0.102552</td>\n",
              "      <td>0.219925</td>\n",
              "      <td>1.000000</td>\n",
              "      <td>0.786669</td>\n",
              "      <td>0.330917</td>\n",
              "      <td>0.184797</td>\n",
              "      <td>0.134651</td>\n",
              "      <td>0.222821</td>\n",
              "    </tr>\n",
              "    <tr>\n",
              "      <th>diaBP</th>\n",
              "      <td>0.051872</td>\n",
              "      <td>0.208283</td>\n",
              "      <td>-0.058059</td>\n",
              "      <td>-0.115955</td>\n",
              "      <td>-0.056746</td>\n",
              "      <td>0.199630</td>\n",
              "      <td>0.055834</td>\n",
              "      <td>0.617734</td>\n",
              "      <td>0.050686</td>\n",
              "      <td>0.174422</td>\n",
              "      <td>0.786669</td>\n",
              "      <td>1.000000</td>\n",
              "      <td>0.385348</td>\n",
              "      <td>0.178744</td>\n",
              "      <td>0.063540</td>\n",
              "      <td>0.150124</td>\n",
              "    </tr>\n",
              "    <tr>\n",
              "      <th>BMI</th>\n",
              "      <td>0.073111</td>\n",
              "      <td>0.137511</td>\n",
              "      <td>-0.137555</td>\n",
              "      <td>-0.159821</td>\n",
              "      <td>-0.087395</td>\n",
              "      <td>0.105642</td>\n",
              "      <td>0.036496</td>\n",
              "      <td>0.302949</td>\n",
              "      <td>0.089009</td>\n",
              "      <td>0.121056</td>\n",
              "      <td>0.330917</td>\n",
              "      <td>0.385348</td>\n",
              "      <td>1.000000</td>\n",
              "      <td>0.074131</td>\n",
              "      <td>0.083683</td>\n",
              "      <td>0.082055</td>\n",
              "    </tr>\n",
              "    <tr>\n",
              "      <th>heartRate</th>\n",
              "      <td>-0.115285</td>\n",
              "      <td>-0.002722</td>\n",
              "      <td>-0.064214</td>\n",
              "      <td>0.050841</td>\n",
              "      <td>0.064030</td>\n",
              "      <td>0.012889</td>\n",
              "      <td>-0.017019</td>\n",
              "      <td>0.146818</td>\n",
              "      <td>0.060984</td>\n",
              "      <td>0.093053</td>\n",
              "      <td>0.184797</td>\n",
              "      <td>0.178744</td>\n",
              "      <td>0.074131</td>\n",
              "      <td>1.000000</td>\n",
              "      <td>0.097074</td>\n",
              "      <td>0.020514</td>\n",
              "    </tr>\n",
              "    <tr>\n",
              "      <th>glucose</th>\n",
              "      <td>0.002940</td>\n",
              "      <td>0.118349</td>\n",
              "      <td>-0.031998</td>\n",
              "      <td>-0.053242</td>\n",
              "      <td>-0.053726</td>\n",
              "      <td>0.054232</td>\n",
              "      <td>0.016061</td>\n",
              "      <td>0.086942</td>\n",
              "      <td>0.614820</td>\n",
              "      <td>0.049884</td>\n",
              "      <td>0.134651</td>\n",
              "      <td>0.063540</td>\n",
              "      <td>0.083683</td>\n",
              "      <td>0.097074</td>\n",
              "      <td>1.000000</td>\n",
              "      <td>0.121990</td>\n",
              "    </tr>\n",
              "    <tr>\n",
              "      <th>TenYearCHD</th>\n",
              "      <td>0.091688</td>\n",
              "      <td>0.233983</td>\n",
              "      <td>-0.063279</td>\n",
              "      <td>0.019165</td>\n",
              "      <td>0.052014</td>\n",
              "      <td>0.089152</td>\n",
              "      <td>0.048366</td>\n",
              "      <td>0.181387</td>\n",
              "      <td>0.093431</td>\n",
              "      <td>0.091338</td>\n",
              "      <td>0.222821</td>\n",
              "      <td>0.150124</td>\n",
              "      <td>0.082055</td>\n",
              "      <td>0.020514</td>\n",
              "      <td>0.121990</td>\n",
              "      <td>1.000000</td>\n",
              "    </tr>\n",
              "  </tbody>\n",
              "</table>\n",
              "</div>"
            ],
            "text/plain": [
              "                     male       age  education  ...  heartRate   glucose  TenYearCHD\n",
              "male             1.000000 -0.024412   0.017729  ...  -0.115285  0.002940    0.091688\n",
              "age             -0.024412  1.000000  -0.159499  ...  -0.002722  0.118349    0.233983\n",
              "education        0.017729 -0.159499   1.000000  ...  -0.064214 -0.031998   -0.063279\n",
              "currentSmoker    0.206114 -0.210771   0.025251  ...   0.050841 -0.053242    0.019165\n",
              "cigsPerDay       0.330322 -0.189295   0.013790  ...   0.064030 -0.053726    0.052014\n",
              "BPMeds          -0.052124  0.134732  -0.013739  ...   0.012889  0.054232    0.089152\n",
              "prevalentStroke -0.002312  0.050893  -0.030386  ...  -0.017019  0.016061    0.048366\n",
              "prevalentHyp     0.001424  0.306239  -0.078828  ...   0.146818  0.086942    0.181387\n",
              "diabetes         0.013819  0.109092  -0.039627  ...   0.060984  0.614820    0.093431\n",
              "totChol         -0.070321  0.268252  -0.013522  ...   0.093053  0.049884    0.091338\n",
              "sysBP           -0.045358  0.388267  -0.124360  ...   0.184797  0.134651    0.222821\n",
              "diaBP            0.051872  0.208283  -0.058059  ...   0.178744  0.063540    0.150124\n",
              "BMI              0.073111  0.137511  -0.137555  ...   0.074131  0.083683    0.082055\n",
              "heartRate       -0.115285 -0.002722  -0.064214  ...   1.000000  0.097074    0.020514\n",
              "glucose          0.002940  0.118349  -0.031998  ...   0.097074  1.000000    0.121990\n",
              "TenYearCHD       0.091688  0.233983  -0.063279  ...   0.020514  0.121990    1.000000\n",
              "\n",
              "[16 rows x 16 columns]"
            ]
          },
          "metadata": {
            "tags": []
          },
          "execution_count": 19
        }
      ]
    },
    {
      "cell_type": "markdown",
      "metadata": {
        "id": "o9QIDPTf-4DX"
      },
      "source": [
        "Со средним, стандартным отклонением, медианой и корреляцией все ясно.\n",
        "\n",
        "Давайте выясним, как вычислять выборочные пропорции в датасете"
      ]
    },
    {
      "cell_type": "markdown",
      "metadata": {
        "id": "r1FUl-Xp-4DZ"
      },
      "source": [
        "как вычислить долю мужчин в выборке?"
      ]
    },
    {
      "cell_type": "markdown",
      "metadata": {
        "id": "aivWxkD--4Db"
      },
      "source": [
        "Длинный способ: посчитаем количество всех мужчин в выборке при помощи метода value_counts() и поделим его на общее количество пациентов"
      ]
    },
    {
      "cell_type": "code",
      "metadata": {
        "id": "MYWWwN0U-4Df",
        "colab": {
          "base_uri": "https://localhost:8080/"
        },
        "outputId": "5f49bf1e-3cea-4186-ab8e-d6aacee72c51"
      },
      "source": [
        "m=df['male'].value_counts() # счетчик разных значений в dataframe\n",
        "print(\"Общее количество мужчин и женщин\\n\", m)\n",
        "print(\"Общее количество мужчин:\", m[1])"
      ],
      "execution_count": 20,
      "outputs": [
        {
          "output_type": "stream",
          "text": [
            "Общее количество мужчин и женщин\n",
            " 0    2035\n",
            "1    1623\n",
            "Name: male, dtype: int64\n",
            "Общее количество мужчин: 1623\n"
          ],
          "name": "stdout"
        }
      ]
    },
    {
      "cell_type": "code",
      "metadata": {
        "id": "HYtIsEoL-4Dq",
        "colab": {
          "base_uri": "https://localhost:8080/"
        },
        "outputId": "e06ad394-63cc-4f5a-c9fa-593457a2d3ea"
      },
      "source": [
        "p_male=m[1]/df.shape[0] # считаем пропорцию мужчин среди всех пациентов\n",
        "print(\"Доля мужчин среди всех пациентов:\", p_male)"
      ],
      "execution_count": 21,
      "outputs": [
        {
          "output_type": "stream",
          "text": [
            "Доля мужчин среди всех пациентов: 0.4436850738108256\n"
          ],
          "name": "stdout"
        }
      ]
    },
    {
      "cell_type": "markdown",
      "metadata": {
        "id": "MTBgRJKL-4Dx"
      },
      "source": [
        "Короткий способ: задать в методе value_counts() специальный параметр, который будет вычислиять не абсолютные частоты (количества), а относительные (пропорции)"
      ]
    },
    {
      "cell_type": "code",
      "metadata": {
        "id": "NGvYUznj-4Dz",
        "colab": {
          "base_uri": "https://localhost:8080/"
        },
        "outputId": "47c1750a-3878-4acb-97ff-6346027c8dcf"
      },
      "source": [
        "df['male'].value_counts(normalize = True ) # параметр normalize = True позволяет считать сразу пропорцию вместо количества"
      ],
      "execution_count": 22,
      "outputs": [
        {
          "output_type": "execute_result",
          "data": {
            "text/plain": [
              "0    0.556315\n",
              "1    0.443685\n",
              "Name: male, dtype: float64"
            ]
          },
          "metadata": {
            "tags": []
          },
          "execution_count": 22
        }
      ]
    },
    {
      "cell_type": "markdown",
      "metadata": {
        "id": "-gJ57OVV-4D-"
      },
      "source": [
        "С абсолютными пропорциями тоже ясно. Как насчет условных?"
      ]
    },
    {
      "cell_type": "markdown",
      "metadata": {
        "id": "yvXnf8bH-4D_"
      },
      "source": [
        "Как вычислить долю курильщиков среди мужчин и среди женщин:"
      ]
    },
    {
      "cell_type": "code",
      "metadata": {
        "id": "pTyhhDRT-4EB"
      },
      "source": [
        "male_groups=df.groupby('male') # groupgy разбивает датасет на группы по признаку пола"
      ],
      "execution_count": 23,
      "outputs": []
    },
    {
      "cell_type": "markdown",
      "metadata": {
        "id": "j_QZ2Z67-4EG"
      },
      "source": [
        "Внутри каждой группы можем взять счетчик value_counts() для признака currentSmoker\n",
        "\n",
        "пол 0 - женщина, пол 1 - мужчина."
      ]
    },
    {
      "cell_type": "code",
      "metadata": {
        "id": "D4uZG06--4EI",
        "colab": {
          "base_uri": "https://localhost:8080/"
        },
        "outputId": "e7139c15-1392-4b8a-d444-37650334441c"
      },
      "source": [
        "male_groups['currentSmoker'].value_counts() # можем отдельно вычислить количество корильщиков среди мужчин и среди женщин"
      ],
      "execution_count": 24,
      "outputs": [
        {
          "output_type": "execute_result",
          "data": {
            "text/plain": [
              "male  currentSmoker\n",
              "0     0                1227\n",
              "      1                 808\n",
              "1     1                 981\n",
              "      0                 642\n",
              "Name: currentSmoker, dtype: int64"
            ]
          },
          "metadata": {
            "tags": []
          },
          "execution_count": 24
        }
      ]
    },
    {
      "cell_type": "markdown",
      "metadata": {
        "id": "ZT51MPpa-4EO"
      },
      "source": [
        "Итак: курит 808 женщин и 981 мужчин"
      ]
    },
    {
      "cell_type": "markdown",
      "metadata": {
        "id": "Ehkh6n9U-4EP"
      },
      "source": [
        "Теперь вычислим пропорции курильщиков внутри каждого пола.\n",
        "\n",
        "Вы можете убедиться, что это именно условные пропорции, поделив количество курящих мужчин на общее количество мужчин и сравнив результаты, или если заметите, что вероятности внутри каждой группы пола дают в сумме 1"
      ]
    },
    {
      "cell_type": "code",
      "metadata": {
        "id": "U1etvSSm-4ER",
        "colab": {
          "base_uri": "https://localhost:8080/"
        },
        "outputId": "9889891d-63c0-4d0f-c677-3c243d1a6876"
      },
      "source": [
        "ms=male_groups['currentSmoker'].value_counts(normalize = True) \n",
        "print('Доли корильщиков среди мужчин и среди женщин\\n',ms)\n",
        "print('Доля корильщиков среди мужчин:',ms[1,1])"
      ],
      "execution_count": 25,
      "outputs": [
        {
          "output_type": "stream",
          "text": [
            "Доли корильщиков среди мужчин и среди женщин\n",
            " male  currentSmoker\n",
            "0     0                0.602948\n",
            "      1                0.397052\n",
            "1     1                0.604436\n",
            "      0                0.395564\n",
            "Name: currentSmoker, dtype: float64\n",
            "Доля корильщиков среди мужчин: 0.6044362292051756\n"
          ],
          "name": "stdout"
        }
      ]
    },
    {
      "cell_type": "markdown",
      "metadata": {
        "id": "nMFgVay4-4Ed"
      },
      "source": [
        "Как вычислить среднее значение пульса у курящих и не курящих:"
      ]
    },
    {
      "cell_type": "code",
      "metadata": {
        "id": "9Uhd5HEh-4Eh"
      },
      "source": [
        "smok_groups=df.groupby('currentSmoker')"
      ],
      "execution_count": 26,
      "outputs": []
    },
    {
      "cell_type": "code",
      "metadata": {
        "id": "I-g2AGbq-4Eo",
        "colab": {
          "base_uri": "https://localhost:8080/"
        },
        "outputId": "58603944-68ce-4b8f-e527-5977897435de"
      },
      "source": [
        "smok_groups['heartRate'].mean()"
      ],
      "execution_count": 27,
      "outputs": [
        {
          "output_type": "execute_result",
          "data": {
            "text/plain": [
              "currentSmoker\n",
              "0    75.134831\n",
              "1    76.353270\n",
              "Name: heartRate, dtype: float64"
            ]
          },
          "metadata": {
            "tags": []
          },
          "execution_count": 27
        }
      ]
    },
    {
      "cell_type": "markdown",
      "metadata": {
        "id": "y_JyAdo8-4Eu"
      },
      "source": [
        "Как вычислить долю пациентов группы риска среди курящих и не курящих:"
      ]
    },
    {
      "cell_type": "code",
      "metadata": {
        "id": "hqW-wv1s-4Ex",
        "colab": {
          "base_uri": "https://localhost:8080/"
        },
        "outputId": "6ea3cbdf-8618-4455-8b49-ffe7906cfdcf"
      },
      "source": [
        "srisk=smok_groups['TenYearCHD'].value_counts(normalize = True)\n",
        "print('Доли группы риска среди курильщиков и не курильщиков\\n',srisk)\n",
        "print('Доля группы риска среди курильщиков:',srisk[1,1])"
      ],
      "execution_count": 28,
      "outputs": [
        {
          "output_type": "stream",
          "text": [
            "Доли группы риска среди курильщиков и не курильщиков\n",
            " currentSmoker  TenYearCHD\n",
            "0              0             0.854468\n",
            "               1             0.145532\n",
            "1              0             0.840693\n",
            "               1             0.159307\n",
            "Name: TenYearCHD, dtype: float64\n",
            "Доля группы риска среди курильщиков: 0.1593068753493572\n"
          ],
          "name": "stdout"
        }
      ]
    },
    {
      "cell_type": "markdown",
      "metadata": {
        "id": "KuoDiUlE-4E3"
      },
      "source": [
        "Трюк по вычислению частот для переменных-индикаторов (значения 1 и 0): сумма значений равна количеству единиц в выборке, а значит, среднее равно доле единиц, то есть частоте:"
      ]
    },
    {
      "cell_type": "code",
      "metadata": {
        "id": "lEYeoxYN-4E4",
        "colab": {
          "base_uri": "https://localhost:8080/"
        },
        "outputId": "9033eeb5-83aa-4a18-95d3-aff2f6dfc657"
      },
      "source": [
        "smok_groups['TenYearCHD'].mean()"
      ],
      "execution_count": 29,
      "outputs": [
        {
          "output_type": "execute_result",
          "data": {
            "text/plain": [
              "currentSmoker\n",
              "0    0.145532\n",
              "1    0.159307\n",
              "Name: TenYearCHD, dtype: float64"
            ]
          },
          "metadata": {
            "tags": []
          },
          "execution_count": 29
        }
      ]
    },
    {
      "cell_type": "markdown",
      "metadata": {
        "id": "CYteketO8vPh"
      },
      "source": [
        "## решения"
      ]
    },
    {
      "cell_type": "code",
      "metadata": {
        "colab": {
          "base_uri": "https://localhost:8080/"
        },
        "id": "VDwkUY6f8uJP",
        "outputId": "1cb9f8fd-0850-4394-fbf6-b1b73b36d5a2"
      },
      "source": [
        "df.columns"
      ],
      "execution_count": 30,
      "outputs": [
        {
          "output_type": "execute_result",
          "data": {
            "text/plain": [
              "Index(['male', 'age', 'education', 'currentSmoker', 'cigsPerDay', 'BPMeds',\n",
              "       'prevalentStroke', 'prevalentHyp', 'diabetes', 'totChol', 'sysBP',\n",
              "       'diaBP', 'BMI', 'heartRate', 'glucose', 'TenYearCHD'],\n",
              "      dtype='object')"
            ]
          },
          "metadata": {
            "tags": []
          },
          "execution_count": 30
        }
      ]
    },
    {
      "cell_type": "markdown",
      "metadata": {
        "id": "MjHsYiCO-SS6"
      },
      "source": [
        "### Задание 5.5.1-5.5.7"
      ]
    },
    {
      "cell_type": "code",
      "metadata": {
        "colab": {
          "base_uri": "https://localhost:8080/"
        },
        "id": "-IZQWJTS8uA7",
        "outputId": "8fb0789c-0a13-47f1-c32e-72114f553be7"
      },
      "source": [
        "df['diabetes'].value_counts()"
      ],
      "execution_count": 31,
      "outputs": [
        {
          "output_type": "execute_result",
          "data": {
            "text/plain": [
              "0    3559\n",
              "1      99\n",
              "Name: diabetes, dtype: int64"
            ]
          },
          "metadata": {
            "tags": []
          },
          "execution_count": 31
        }
      ]
    },
    {
      "cell_type": "code",
      "metadata": {
        "colab": {
          "base_uri": "https://localhost:8080/"
        },
        "id": "UXjRUhyz8t5O",
        "outputId": "46c14ad4-5409-40e7-c10f-dff10d3ccd88"
      },
      "source": [
        "df['diabetes'].value_counts(normalize=True)"
      ],
      "execution_count": 32,
      "outputs": [
        {
          "output_type": "execute_result",
          "data": {
            "text/plain": [
              "0    0.972936\n",
              "1    0.027064\n",
              "Name: diabetes, dtype: float64"
            ]
          },
          "metadata": {
            "tags": []
          },
          "execution_count": 32
        }
      ]
    },
    {
      "cell_type": "code",
      "metadata": {
        "colab": {
          "base_uri": "https://localhost:8080/"
        },
        "id": "y6gsZHdz8t02",
        "outputId": "00aceecb-0068-4310-c0a1-5aaa9678450a"
      },
      "source": [
        "# 3) Найдите долю пациентов группы риска среди пациентов с диабетом:\n",
        "# Ответ округлите до тысячных\n",
        "\n",
        "df.groupby('diabetes')['TenYearCHD'].value_counts(normalize=True)\n"
      ],
      "execution_count": 33,
      "outputs": [
        {
          "output_type": "execute_result",
          "data": {
            "text/plain": [
              "diabetes  TenYearCHD\n",
              "0         0             0.853330\n",
              "          1             0.146670\n",
              "1         0             0.646465\n",
              "          1             0.353535\n",
              "Name: TenYearCHD, dtype: float64"
            ]
          },
          "metadata": {
            "tags": []
          },
          "execution_count": 33
        }
      ]
    },
    {
      "cell_type": "code",
      "metadata": {
        "colab": {
          "base_uri": "https://localhost:8080/"
        },
        "id": "1gHqtNn78twT",
        "outputId": "5a199df7-ee07-47be-b075-aa83054c92bb"
      },
      "source": [
        "# 5) Найдите долю диабетиков среди пациентов группы риска:\n",
        "# Ответ округлите до сотых\n",
        "\n",
        "\n",
        "df.groupby('TenYearCHD')['diabetes'].value_counts(normalize=True)\n",
        "#  0.063 \n",
        "\n",
        "# 6) Найдите долю диабетиков среди пациентов не из группы риска:\n",
        "# 0.0206"
      ],
      "execution_count": 34,
      "outputs": [
        {
          "output_type": "execute_result",
          "data": {
            "text/plain": [
              "TenYearCHD  diabetes\n",
              "0           0           0.979361\n",
              "            1           0.020639\n",
              "1           0           0.937163\n",
              "            1           0.062837\n",
              "Name: diabetes, dtype: float64"
            ]
          },
          "metadata": {
            "tags": []
          },
          "execution_count": 34
        }
      ]
    },
    {
      "cell_type": "code",
      "metadata": {
        "colab": {
          "base_uri": "https://localhost:8080/"
        },
        "id": "yaRjUFq38trz",
        "outputId": "1dff5d26-5616-4740-9a3a-7aad8f830db2"
      },
      "source": [
        "# 7) Найдите среднее и медианное значения систолического давления среди пациентов-диабетиков:\n",
        "\n",
        "sysBP_mean = df.groupby('diabetes')['sysBP'].mean().loc[1]\n",
        "sysBP_median = df.groupby('diabetes')['sysBP'].median().loc[1]\n",
        "\n",
        "round(sysBP_mean, 2), round(sysBP_median, 2)"
      ],
      "execution_count": 35,
      "outputs": [
        {
          "output_type": "execute_result",
          "data": {
            "text/plain": [
              "(145.95, 142.0)"
            ]
          },
          "metadata": {
            "tags": []
          },
          "execution_count": 35
        }
      ]
    },
    {
      "cell_type": "code",
      "metadata": {
        "colab": {
          "base_uri": "https://localhost:8080/"
        },
        "id": "DD9tzfBy8tos",
        "outputId": "7e1dea1e-1725-44ad-d4ed-09e2591700f0"
      },
      "source": [
        "diaBP_mean = df.groupby('diabetes')['diaBP'].mean().loc[1]\n",
        "diaBP_median = df.groupby('diabetes')['diaBP'].median().loc[1]\n",
        "\n",
        "round(diaBP_mean, 2), round(diaBP_median, 2)\n",
        "\n",
        "# diaBP"
      ],
      "execution_count": 36,
      "outputs": [
        {
          "output_type": "execute_result",
          "data": {
            "text/plain": [
              "(86.56, 85.0)"
            ]
          },
          "metadata": {
            "tags": []
          },
          "execution_count": 36
        }
      ]
    },
    {
      "cell_type": "code",
      "metadata": {
        "colab": {
          "base_uri": "https://localhost:8080/"
        },
        "id": "oMy61IzH8tjm",
        "outputId": "c9939399-36de-46a2-f919-1cc50c24befb"
      },
      "source": [
        "df_corr = df.groupby('TenYearCHD').corr()\n",
        "df_corr.loc[1]['cigsPerDay']"
      ],
      "execution_count": 41,
      "outputs": [
        {
          "output_type": "execute_result",
          "data": {
            "text/plain": [
              "male               0.350819\n",
              "age               -0.242125\n",
              "education          0.040727\n",
              "currentSmoker      0.794715\n",
              "cigsPerDay         1.000000\n",
              "BPMeds            -0.114667\n",
              "prevalentStroke   -0.057237\n",
              "prevalentHyp      -0.152279\n",
              "diabetes          -0.076370\n",
              "totChol           -0.065059\n",
              "sysBP             -0.139513\n",
              "diaBP             -0.098718\n",
              "BMI               -0.112514\n",
              "heartRate          0.126621\n",
              "glucose           -0.050637\n",
              "Name: cigsPerDay, dtype: float64"
            ]
          },
          "metadata": {
            "tags": []
          },
          "execution_count": 41
        }
      ]
    },
    {
      "cell_type": "code",
      "metadata": {
        "colab": {
          "base_uri": "https://localhost:8080/",
          "height": 1000
        },
        "id": "QzlD7BMKLzCf",
        "outputId": "82907aa4-d160-415f-d20a-8d9b92f41110"
      },
      "source": [
        "df_corr"
      ],
      "execution_count": 43,
      "outputs": [
        {
          "output_type": "execute_result",
          "data": {
            "text/html": [
              "<div>\n",
              "<style scoped>\n",
              "    .dataframe tbody tr th:only-of-type {\n",
              "        vertical-align: middle;\n",
              "    }\n",
              "\n",
              "    .dataframe tbody tr th {\n",
              "        vertical-align: top;\n",
              "    }\n",
              "\n",
              "    .dataframe thead th {\n",
              "        text-align: right;\n",
              "    }\n",
              "</style>\n",
              "<table border=\"1\" class=\"dataframe\">\n",
              "  <thead>\n",
              "    <tr style=\"text-align: right;\">\n",
              "      <th></th>\n",
              "      <th></th>\n",
              "      <th>male</th>\n",
              "      <th>age</th>\n",
              "      <th>education</th>\n",
              "      <th>currentSmoker</th>\n",
              "      <th>cigsPerDay</th>\n",
              "      <th>BPMeds</th>\n",
              "      <th>prevalentStroke</th>\n",
              "      <th>prevalentHyp</th>\n",
              "      <th>diabetes</th>\n",
              "      <th>totChol</th>\n",
              "      <th>sysBP</th>\n",
              "      <th>diaBP</th>\n",
              "      <th>BMI</th>\n",
              "      <th>heartRate</th>\n",
              "      <th>glucose</th>\n",
              "    </tr>\n",
              "    <tr>\n",
              "      <th>TenYearCHD</th>\n",
              "      <th></th>\n",
              "      <th></th>\n",
              "      <th></th>\n",
              "      <th></th>\n",
              "      <th></th>\n",
              "      <th></th>\n",
              "      <th></th>\n",
              "      <th></th>\n",
              "      <th></th>\n",
              "      <th></th>\n",
              "      <th></th>\n",
              "      <th></th>\n",
              "      <th></th>\n",
              "      <th></th>\n",
              "      <th></th>\n",
              "      <th></th>\n",
              "    </tr>\n",
              "  </thead>\n",
              "  <tbody>\n",
              "    <tr>\n",
              "      <th rowspan=\"15\" valign=\"top\">0</th>\n",
              "      <th>male</th>\n",
              "      <td>1.000000</td>\n",
              "      <td>-0.037995</td>\n",
              "      <td>0.013328</td>\n",
              "      <td>0.190256</td>\n",
              "      <td>0.322927</td>\n",
              "      <td>-0.048752</td>\n",
              "      <td>-0.005220</td>\n",
              "      <td>0.003986</td>\n",
              "      <td>0.003854</td>\n",
              "      <td>-0.069778</td>\n",
              "      <td>-0.050383</td>\n",
              "      <td>0.052784</td>\n",
              "      <td>0.093784</td>\n",
              "      <td>-0.126213</td>\n",
              "      <td>-0.004036</td>\n",
              "    </tr>\n",
              "    <tr>\n",
              "      <th>age</th>\n",
              "      <td>-0.037995</td>\n",
              "      <td>1.000000</td>\n",
              "      <td>-0.156522</td>\n",
              "      <td>-0.208780</td>\n",
              "      <td>-0.201321</td>\n",
              "      <td>0.122244</td>\n",
              "      <td>0.032665</td>\n",
              "      <td>0.279358</td>\n",
              "      <td>0.101203</td>\n",
              "      <td>0.289349</td>\n",
              "      <td>0.368465</td>\n",
              "      <td>0.204152</td>\n",
              "      <td>0.134924</td>\n",
              "      <td>-0.005453</td>\n",
              "      <td>0.101900</td>\n",
              "    </tr>\n",
              "    <tr>\n",
              "      <th>education</th>\n",
              "      <td>0.013328</td>\n",
              "      <td>-0.156522</td>\n",
              "      <td>1.000000</td>\n",
              "      <td>0.029356</td>\n",
              "      <td>0.012443</td>\n",
              "      <td>-0.013629</td>\n",
              "      <td>-0.015187</td>\n",
              "      <td>-0.074067</td>\n",
              "      <td>-0.027814</td>\n",
              "      <td>-0.028915</td>\n",
              "      <td>-0.127588</td>\n",
              "      <td>-0.067671</td>\n",
              "      <td>-0.138811</td>\n",
              "      <td>-0.065866</td>\n",
              "      <td>-0.030287</td>\n",
              "    </tr>\n",
              "    <tr>\n",
              "      <th>currentSmoker</th>\n",
              "      <td>0.190256</td>\n",
              "      <td>-0.208780</td>\n",
              "      <td>0.029356</td>\n",
              "      <td>1.000000</td>\n",
              "      <td>0.770615</td>\n",
              "      <td>-0.037586</td>\n",
              "      <td>-0.042993</td>\n",
              "      <td>-0.099830</td>\n",
              "      <td>-0.031952</td>\n",
              "      <td>-0.047442</td>\n",
              "      <td>-0.136679</td>\n",
              "      <td>-0.123509</td>\n",
              "      <td>-0.167375</td>\n",
              "      <td>0.042152</td>\n",
              "      <td>-0.055153</td>\n",
              "    </tr>\n",
              "    <tr>\n",
              "      <th>cigsPerDay</th>\n",
              "      <td>0.322927</td>\n",
              "      <td>-0.201321</td>\n",
              "      <td>0.012443</td>\n",
              "      <td>0.770615</td>\n",
              "      <td>1.000000</td>\n",
              "      <td>-0.031996</td>\n",
              "      <td>-0.033614</td>\n",
              "      <td>-0.065679</td>\n",
              "      <td>-0.031517</td>\n",
              "      <td>-0.028764</td>\n",
              "      <td>-0.101744</td>\n",
              "      <td>-0.057145</td>\n",
              "      <td>-0.087520</td>\n",
              "      <td>0.050344</td>\n",
              "      <td>-0.068783</td>\n",
              "    </tr>\n",
              "    <tr>\n",
              "      <th>BPMeds</th>\n",
              "      <td>-0.048752</td>\n",
              "      <td>0.122244</td>\n",
              "      <td>-0.013629</td>\n",
              "      <td>-0.037586</td>\n",
              "      <td>-0.031996</td>\n",
              "      <td>1.000000</td>\n",
              "      <td>0.153363</td>\n",
              "      <td>0.253210</td>\n",
              "      <td>0.007026</td>\n",
              "      <td>0.080330</td>\n",
              "      <td>0.243538</td>\n",
              "      <td>0.187985</td>\n",
              "      <td>0.117733</td>\n",
              "      <td>-0.015271</td>\n",
              "      <td>-0.007368</td>\n",
              "    </tr>\n",
              "    <tr>\n",
              "      <th>prevalentStroke</th>\n",
              "      <td>-0.005220</td>\n",
              "      <td>0.032665</td>\n",
              "      <td>-0.015187</td>\n",
              "      <td>-0.042993</td>\n",
              "      <td>-0.033614</td>\n",
              "      <td>0.153363</td>\n",
              "      <td>1.000000</td>\n",
              "      <td>0.049253</td>\n",
              "      <td>-0.009419</td>\n",
              "      <td>0.012998</td>\n",
              "      <td>0.052784</td>\n",
              "      <td>0.047175</td>\n",
              "      <td>0.038112</td>\n",
              "      <td>-0.033892</td>\n",
              "      <td>0.009130</td>\n",
              "    </tr>\n",
              "    <tr>\n",
              "      <th>prevalentHyp</th>\n",
              "      <td>0.003986</td>\n",
              "      <td>0.279358</td>\n",
              "      <td>-0.074067</td>\n",
              "      <td>-0.099830</td>\n",
              "      <td>-0.065679</td>\n",
              "      <td>0.253210</td>\n",
              "      <td>0.049253</td>\n",
              "      <td>1.000000</td>\n",
              "      <td>0.062579</td>\n",
              "      <td>0.168673</td>\n",
              "      <td>0.689398</td>\n",
              "      <td>0.617644</td>\n",
              "      <td>0.306306</td>\n",
              "      <td>0.139004</td>\n",
              "      <td>0.056504</td>\n",
              "    </tr>\n",
              "    <tr>\n",
              "      <th>diabetes</th>\n",
              "      <td>0.003854</td>\n",
              "      <td>0.101203</td>\n",
              "      <td>-0.027814</td>\n",
              "      <td>-0.031952</td>\n",
              "      <td>-0.031517</td>\n",
              "      <td>0.007026</td>\n",
              "      <td>-0.009419</td>\n",
              "      <td>0.062579</td>\n",
              "      <td>1.000000</td>\n",
              "      <td>0.027962</td>\n",
              "      <td>0.094461</td>\n",
              "      <td>0.042297</td>\n",
              "      <td>0.079187</td>\n",
              "      <td>0.050092</td>\n",
              "      <td>0.515629</td>\n",
              "    </tr>\n",
              "    <tr>\n",
              "      <th>totChol</th>\n",
              "      <td>-0.069778</td>\n",
              "      <td>0.289349</td>\n",
              "      <td>-0.028915</td>\n",
              "      <td>-0.047442</td>\n",
              "      <td>-0.028764</td>\n",
              "      <td>0.080330</td>\n",
              "      <td>0.012998</td>\n",
              "      <td>0.168673</td>\n",
              "      <td>0.027962</td>\n",
              "      <td>1.000000</td>\n",
              "      <td>0.225484</td>\n",
              "      <td>0.184853</td>\n",
              "      <td>0.124199</td>\n",
              "      <td>0.098382</td>\n",
              "      <td>0.016934</td>\n",
              "    </tr>\n",
              "    <tr>\n",
              "      <th>sysBP</th>\n",
              "      <td>-0.050383</td>\n",
              "      <td>0.368465</td>\n",
              "      <td>-0.127588</td>\n",
              "      <td>-0.136679</td>\n",
              "      <td>-0.101744</td>\n",
              "      <td>0.243538</td>\n",
              "      <td>0.052784</td>\n",
              "      <td>0.689398</td>\n",
              "      <td>0.094461</td>\n",
              "      <td>0.225484</td>\n",
              "      <td>1.000000</td>\n",
              "      <td>0.785046</td>\n",
              "      <td>0.336944</td>\n",
              "      <td>0.193360</td>\n",
              "      <td>0.109922</td>\n",
              "    </tr>\n",
              "    <tr>\n",
              "      <th>diaBP</th>\n",
              "      <td>0.052784</td>\n",
              "      <td>0.204152</td>\n",
              "      <td>-0.067671</td>\n",
              "      <td>-0.123509</td>\n",
              "      <td>-0.057145</td>\n",
              "      <td>0.187985</td>\n",
              "      <td>0.047175</td>\n",
              "      <td>0.617644</td>\n",
              "      <td>0.042297</td>\n",
              "      <td>0.184853</td>\n",
              "      <td>0.785046</td>\n",
              "      <td>1.000000</td>\n",
              "      <td>0.390812</td>\n",
              "      <td>0.181440</td>\n",
              "      <td>0.046344</td>\n",
              "    </tr>\n",
              "    <tr>\n",
              "      <th>BMI</th>\n",
              "      <td>0.093784</td>\n",
              "      <td>0.134924</td>\n",
              "      <td>-0.138811</td>\n",
              "      <td>-0.167375</td>\n",
              "      <td>-0.087520</td>\n",
              "      <td>0.117733</td>\n",
              "      <td>0.038112</td>\n",
              "      <td>0.306306</td>\n",
              "      <td>0.079187</td>\n",
              "      <td>0.124199</td>\n",
              "      <td>0.336944</td>\n",
              "      <td>0.390812</td>\n",
              "      <td>1.000000</td>\n",
              "      <td>0.062499</td>\n",
              "      <td>0.073144</td>\n",
              "    </tr>\n",
              "    <tr>\n",
              "      <th>heartRate</th>\n",
              "      <td>-0.126213</td>\n",
              "      <td>-0.005453</td>\n",
              "      <td>-0.065866</td>\n",
              "      <td>0.042152</td>\n",
              "      <td>0.050344</td>\n",
              "      <td>-0.015271</td>\n",
              "      <td>-0.033892</td>\n",
              "      <td>0.139004</td>\n",
              "      <td>0.050092</td>\n",
              "      <td>0.098382</td>\n",
              "      <td>0.193360</td>\n",
              "      <td>0.181440</td>\n",
              "      <td>0.062499</td>\n",
              "      <td>1.000000</td>\n",
              "      <td>0.104330</td>\n",
              "    </tr>\n",
              "    <tr>\n",
              "      <th>glucose</th>\n",
              "      <td>-0.004036</td>\n",
              "      <td>0.101900</td>\n",
              "      <td>-0.030287</td>\n",
              "      <td>-0.055153</td>\n",
              "      <td>-0.068783</td>\n",
              "      <td>-0.007368</td>\n",
              "      <td>0.009130</td>\n",
              "      <td>0.056504</td>\n",
              "      <td>0.515629</td>\n",
              "      <td>0.016934</td>\n",
              "      <td>0.109922</td>\n",
              "      <td>0.046344</td>\n",
              "      <td>0.073144</td>\n",
              "      <td>0.104330</td>\n",
              "      <td>1.000000</td>\n",
              "    </tr>\n",
              "    <tr>\n",
              "      <th rowspan=\"15\" valign=\"top\">1</th>\n",
              "      <th>male</th>\n",
              "      <td>1.000000</td>\n",
              "      <td>-0.101904</td>\n",
              "      <td>0.080395</td>\n",
              "      <td>0.288251</td>\n",
              "      <td>0.350819</td>\n",
              "      <td>-0.107163</td>\n",
              "      <td>-0.012418</td>\n",
              "      <td>-0.112147</td>\n",
              "      <td>0.010548</td>\n",
              "      <td>-0.127026</td>\n",
              "      <td>-0.142647</td>\n",
              "      <td>-0.021705</td>\n",
              "      <td>-0.068325</td>\n",
              "      <td>-0.071223</td>\n",
              "      <td>-0.021249</td>\n",
              "    </tr>\n",
              "    <tr>\n",
              "      <th>age</th>\n",
              "      <td>-0.101904</td>\n",
              "      <td>1.000000</td>\n",
              "      <td>-0.106499</td>\n",
              "      <td>-0.295651</td>\n",
              "      <td>-0.242125</td>\n",
              "      <td>0.114394</td>\n",
              "      <td>0.073270</td>\n",
              "      <td>0.260844</td>\n",
              "      <td>0.064170</td>\n",
              "      <td>0.078767</td>\n",
              "      <td>0.308960</td>\n",
              "      <td>0.075911</td>\n",
              "      <td>0.057758</td>\n",
              "      <td>-0.020910</td>\n",
              "      <td>0.091433</td>\n",
              "    </tr>\n",
              "    <tr>\n",
              "      <th>education</th>\n",
              "      <td>0.080395</td>\n",
              "      <td>-0.106499</td>\n",
              "      <td>1.000000</td>\n",
              "      <td>0.010894</td>\n",
              "      <td>0.040727</td>\n",
              "      <td>0.009650</td>\n",
              "      <td>-0.067784</td>\n",
              "      <td>-0.042075</td>\n",
              "      <td>-0.057301</td>\n",
              "      <td>0.096077</td>\n",
              "      <td>-0.057088</td>\n",
              "      <td>0.029803</td>\n",
              "      <td>-0.106030</td>\n",
              "      <td>-0.047791</td>\n",
              "      <td>-0.014591</td>\n",
              "    </tr>\n",
              "    <tr>\n",
              "      <th>currentSmoker</th>\n",
              "      <td>0.288251</td>\n",
              "      <td>-0.295651</td>\n",
              "      <td>0.010894</td>\n",
              "      <td>1.000000</td>\n",
              "      <td>0.794715</td>\n",
              "      <td>-0.114397</td>\n",
              "      <td>-0.033005</td>\n",
              "      <td>-0.181874</td>\n",
              "      <td>-0.087448</td>\n",
              "      <td>-0.080974</td>\n",
              "      <td>-0.170454</td>\n",
              "      <td>-0.108613</td>\n",
              "      <td>-0.136593</td>\n",
              "      <td>0.096074</td>\n",
              "      <td>-0.070051</td>\n",
              "    </tr>\n",
              "    <tr>\n",
              "      <th>cigsPerDay</th>\n",
              "      <td>0.350819</td>\n",
              "      <td>-0.242125</td>\n",
              "      <td>0.040727</td>\n",
              "      <td>0.794715</td>\n",
              "      <td>1.000000</td>\n",
              "      <td>-0.114667</td>\n",
              "      <td>-0.057237</td>\n",
              "      <td>-0.152279</td>\n",
              "      <td>-0.076370</td>\n",
              "      <td>-0.065059</td>\n",
              "      <td>-0.139513</td>\n",
              "      <td>-0.098718</td>\n",
              "      <td>-0.112514</td>\n",
              "      <td>0.126621</td>\n",
              "      <td>-0.050637</td>\n",
              "    </tr>\n",
              "    <tr>\n",
              "      <th>BPMeds</th>\n",
              "      <td>-0.107163</td>\n",
              "      <td>0.114394</td>\n",
              "      <td>0.009650</td>\n",
              "      <td>-0.114397</td>\n",
              "      <td>-0.114667</td>\n",
              "      <td>1.000000</td>\n",
              "      <td>0.028393</td>\n",
              "      <td>0.261530</td>\n",
              "      <td>0.109181</td>\n",
              "      <td>0.110477</td>\n",
              "      <td>0.302829</td>\n",
              "      <td>0.196529</td>\n",
              "      <td>0.047855</td>\n",
              "      <td>0.100742</td>\n",
              "      <td>0.126834</td>\n",
              "    </tr>\n",
              "    <tr>\n",
              "      <th>prevalentStroke</th>\n",
              "      <td>-0.012418</td>\n",
              "      <td>0.073270</td>\n",
              "      <td>-0.067784</td>\n",
              "      <td>-0.033005</td>\n",
              "      <td>-0.057237</td>\n",
              "      <td>0.028393</td>\n",
              "      <td>1.000000</td>\n",
              "      <td>0.088169</td>\n",
              "      <td>0.030923</td>\n",
              "      <td>-0.003375</td>\n",
              "      <td>0.051050</td>\n",
              "      <td>0.056365</td>\n",
              "      <td>0.021004</td>\n",
              "      <td>0.026763</td>\n",
              "      <td>0.011901</td>\n",
              "    </tr>\n",
              "    <tr>\n",
              "      <th>prevalentHyp</th>\n",
              "      <td>-0.112147</td>\n",
              "      <td>0.260844</td>\n",
              "      <td>-0.042075</td>\n",
              "      <td>-0.181874</td>\n",
              "      <td>-0.152279</td>\n",
              "      <td>0.261530</td>\n",
              "      <td>0.088169</td>\n",
              "      <td>1.000000</td>\n",
              "      <td>0.076282</td>\n",
              "      <td>0.084820</td>\n",
              "      <td>0.678677</td>\n",
              "      <td>0.570984</td>\n",
              "      <td>0.239669</td>\n",
              "      <td>0.178168</td>\n",
              "      <td>0.099324</td>\n",
              "    </tr>\n",
              "    <tr>\n",
              "      <th>diabetes</th>\n",
              "      <td>0.010548</td>\n",
              "      <td>0.064170</td>\n",
              "      <td>-0.057301</td>\n",
              "      <td>-0.087448</td>\n",
              "      <td>-0.076370</td>\n",
              "      <td>0.109181</td>\n",
              "      <td>0.030923</td>\n",
              "      <td>0.076282</td>\n",
              "      <td>1.000000</td>\n",
              "      <td>0.078704</td>\n",
              "      <td>0.060868</td>\n",
              "      <td>0.025442</td>\n",
              "      <td>0.095037</td>\n",
              "      <td>0.095222</td>\n",
              "      <td>0.765148</td>\n",
              "    </tr>\n",
              "    <tr>\n",
              "      <th>totChol</th>\n",
              "      <td>-0.127026</td>\n",
              "      <td>0.078767</td>\n",
              "      <td>0.096077</td>\n",
              "      <td>-0.080974</td>\n",
              "      <td>-0.065059</td>\n",
              "      <td>0.110477</td>\n",
              "      <td>-0.003375</td>\n",
              "      <td>0.084820</td>\n",
              "      <td>0.078704</td>\n",
              "      <td>1.000000</td>\n",
              "      <td>0.132897</td>\n",
              "      <td>0.079798</td>\n",
              "      <td>0.071725</td>\n",
              "      <td>0.058693</td>\n",
              "      <td>0.096797</td>\n",
              "    </tr>\n",
              "    <tr>\n",
              "      <th>sysBP</th>\n",
              "      <td>-0.142647</td>\n",
              "      <td>0.308960</td>\n",
              "      <td>-0.057088</td>\n",
              "      <td>-0.170454</td>\n",
              "      <td>-0.139513</td>\n",
              "      <td>0.302829</td>\n",
              "      <td>0.051050</td>\n",
              "      <td>0.678677</td>\n",
              "      <td>0.060868</td>\n",
              "      <td>0.132897</td>\n",
              "      <td>1.000000</td>\n",
              "      <td>0.770173</td>\n",
              "      <td>0.268380</td>\n",
              "      <td>0.154991</td>\n",
              "      <td>0.121851</td>\n",
              "    </tr>\n",
              "    <tr>\n",
              "      <th>diaBP</th>\n",
              "      <td>-0.021705</td>\n",
              "      <td>0.075911</td>\n",
              "      <td>0.029803</td>\n",
              "      <td>-0.108613</td>\n",
              "      <td>-0.098718</td>\n",
              "      <td>0.196529</td>\n",
              "      <td>0.056365</td>\n",
              "      <td>0.570984</td>\n",
              "      <td>0.025442</td>\n",
              "      <td>0.079798</td>\n",
              "      <td>0.770173</td>\n",
              "      <td>1.000000</td>\n",
              "      <td>0.333324</td>\n",
              "      <td>0.165293</td>\n",
              "      <td>0.049739</td>\n",
              "    </tr>\n",
              "    <tr>\n",
              "      <th>BMI</th>\n",
              "      <td>-0.068325</td>\n",
              "      <td>0.057758</td>\n",
              "      <td>-0.106030</td>\n",
              "      <td>-0.136593</td>\n",
              "      <td>-0.112514</td>\n",
              "      <td>0.047855</td>\n",
              "      <td>0.021004</td>\n",
              "      <td>0.239669</td>\n",
              "      <td>0.095037</td>\n",
              "      <td>0.071725</td>\n",
              "      <td>0.268380</td>\n",
              "      <td>0.333324</td>\n",
              "      <td>1.000000</td>\n",
              "      <td>0.122354</td>\n",
              "      <td>0.087928</td>\n",
              "    </tr>\n",
              "    <tr>\n",
              "      <th>heartRate</th>\n",
              "      <td>-0.071223</td>\n",
              "      <td>-0.020910</td>\n",
              "      <td>-0.047791</td>\n",
              "      <td>0.096074</td>\n",
              "      <td>0.126621</td>\n",
              "      <td>0.100742</td>\n",
              "      <td>0.026763</td>\n",
              "      <td>0.178168</td>\n",
              "      <td>0.095222</td>\n",
              "      <td>0.058693</td>\n",
              "      <td>0.154991</td>\n",
              "      <td>0.165293</td>\n",
              "      <td>0.122354</td>\n",
              "      <td>1.000000</td>\n",
              "      <td>0.091292</td>\n",
              "    </tr>\n",
              "    <tr>\n",
              "      <th>glucose</th>\n",
              "      <td>-0.021249</td>\n",
              "      <td>0.091433</td>\n",
              "      <td>-0.014591</td>\n",
              "      <td>-0.070051</td>\n",
              "      <td>-0.050637</td>\n",
              "      <td>0.126834</td>\n",
              "      <td>0.011901</td>\n",
              "      <td>0.099324</td>\n",
              "      <td>0.765148</td>\n",
              "      <td>0.096797</td>\n",
              "      <td>0.121851</td>\n",
              "      <td>0.049739</td>\n",
              "      <td>0.087928</td>\n",
              "      <td>0.091292</td>\n",
              "      <td>1.000000</td>\n",
              "    </tr>\n",
              "  </tbody>\n",
              "</table>\n",
              "</div>"
            ],
            "text/plain": [
              "                                male       age  ...  heartRate   glucose\n",
              "TenYearCHD                                      ...                     \n",
              "0          male             1.000000 -0.037995  ...  -0.126213 -0.004036\n",
              "           age             -0.037995  1.000000  ...  -0.005453  0.101900\n",
              "           education        0.013328 -0.156522  ...  -0.065866 -0.030287\n",
              "           currentSmoker    0.190256 -0.208780  ...   0.042152 -0.055153\n",
              "           cigsPerDay       0.322927 -0.201321  ...   0.050344 -0.068783\n",
              "           BPMeds          -0.048752  0.122244  ...  -0.015271 -0.007368\n",
              "           prevalentStroke -0.005220  0.032665  ...  -0.033892  0.009130\n",
              "           prevalentHyp     0.003986  0.279358  ...   0.139004  0.056504\n",
              "           diabetes         0.003854  0.101203  ...   0.050092  0.515629\n",
              "           totChol         -0.069778  0.289349  ...   0.098382  0.016934\n",
              "           sysBP           -0.050383  0.368465  ...   0.193360  0.109922\n",
              "           diaBP            0.052784  0.204152  ...   0.181440  0.046344\n",
              "           BMI              0.093784  0.134924  ...   0.062499  0.073144\n",
              "           heartRate       -0.126213 -0.005453  ...   1.000000  0.104330\n",
              "           glucose         -0.004036  0.101900  ...   0.104330  1.000000\n",
              "1          male             1.000000 -0.101904  ...  -0.071223 -0.021249\n",
              "           age             -0.101904  1.000000  ...  -0.020910  0.091433\n",
              "           education        0.080395 -0.106499  ...  -0.047791 -0.014591\n",
              "           currentSmoker    0.288251 -0.295651  ...   0.096074 -0.070051\n",
              "           cigsPerDay       0.350819 -0.242125  ...   0.126621 -0.050637\n",
              "           BPMeds          -0.107163  0.114394  ...   0.100742  0.126834\n",
              "           prevalentStroke -0.012418  0.073270  ...   0.026763  0.011901\n",
              "           prevalentHyp    -0.112147  0.260844  ...   0.178168  0.099324\n",
              "           diabetes         0.010548  0.064170  ...   0.095222  0.765148\n",
              "           totChol         -0.127026  0.078767  ...   0.058693  0.096797\n",
              "           sysBP           -0.142647  0.308960  ...   0.154991  0.121851\n",
              "           diaBP           -0.021705  0.075911  ...   0.165293  0.049739\n",
              "           BMI             -0.068325  0.057758  ...   0.122354  0.087928\n",
              "           heartRate       -0.071223 -0.020910  ...   1.000000  0.091292\n",
              "           glucose         -0.021249  0.091433  ...   0.091292  1.000000\n",
              "\n",
              "[30 rows x 15 columns]"
            ]
          },
          "metadata": {
            "tags": []
          },
          "execution_count": 43
        }
      ]
    },
    {
      "cell_type": "code",
      "metadata": {
        "colab": {
          "base_uri": "https://localhost:8080/",
          "height": 355
        },
        "id": "cmBQxKIn8te0",
        "outputId": "35453e33-a47b-4052-e5dc-70f583214961"
      },
      "source": [
        "sn.heatmap(df_corr)\n"
      ],
      "execution_count": 40,
      "outputs": [
        {
          "output_type": "execute_result",
          "data": {
            "text/plain": [
              "<matplotlib.axes._subplots.AxesSubplot at 0x7f7373695860>"
            ]
          },
          "metadata": {
            "tags": []
          },
          "execution_count": 40
        },
        {
          "output_type": "display_data",
          "data": {
            "image/png": "[encoded data removed]",
            "text/plain": [
              "<Figure size 432x288 with 2 Axes>"
            ]
          },
          "metadata": {
            "tags": [],
            "needs_background": "light"
          }
        }
      ]
    },
    {
      "cell_type": "code",
      "metadata": {
        "id": "94e4TvZl-4E-",
        "colab": {
          "base_uri": "https://localhost:8080/"
        },
        "outputId": "34e66e72-9b21-4e31-f538-81145e7740a6"
      },
      "source": [
        "df_corr['cigsPerDay'].sort_values()"
      ],
      "execution_count": 42,
      "outputs": [
        {
          "output_type": "execute_result",
          "data": {
            "text/plain": [
              "TenYearCHD                 \n",
              "1           age               -0.242125\n",
              "0           age               -0.201321\n",
              "1           prevalentHyp      -0.152279\n",
              "            sysBP             -0.139513\n",
              "            BPMeds            -0.114667\n",
              "            BMI               -0.112514\n",
              "0           sysBP             -0.101744\n",
              "1           diaBP             -0.098718\n",
              "0           BMI               -0.087520\n",
              "1           diabetes          -0.076370\n",
              "0           glucose           -0.068783\n",
              "            prevalentHyp      -0.065679\n",
              "1           totChol           -0.065059\n",
              "            prevalentStroke   -0.057237\n",
              "0           diaBP             -0.057145\n",
              "1           glucose           -0.050637\n",
              "0           prevalentStroke   -0.033614\n",
              "            BPMeds            -0.031996\n",
              "            diabetes          -0.031517\n",
              "            totChol           -0.028764\n",
              "            education          0.012443\n",
              "1           education          0.040727\n",
              "0           heartRate          0.050344\n",
              "1           heartRate          0.126621\n",
              "0           male               0.322927\n",
              "1           male               0.350819\n",
              "0           currentSmoker      0.770615\n",
              "1           currentSmoker      0.794715\n",
              "            cigsPerDay         1.000000\n",
              "0           cigsPerDay         1.000000\n",
              "Name: cigsPerDay, dtype: float64"
            ]
          },
          "metadata": {
            "tags": []
          },
          "execution_count": 42
        }
      ]
    },
    {
      "cell_type": "code",
      "metadata": {
        "id": "IlxHb1_nN7bZ"
      },
      "source": [
        ""
      ],
      "execution_count": 38,
      "outputs": []
    },
    {
      "cell_type": "code",
      "metadata": {
        "id": "zOU7I8O-N7T-"
      },
      "source": [
        ""
      ],
      "execution_count": 38,
      "outputs": []
    },
    {
      "cell_type": "code",
      "metadata": {
        "id": "kV9ydBOvN7NQ"
      },
      "source": [
        ""
      ],
      "execution_count": 38,
      "outputs": []
    },
    {
      "cell_type": "code",
      "metadata": {
        "id": "LC_z5wn9N7JS"
      },
      "source": [
        ""
      ],
      "execution_count": 38,
      "outputs": []
    },
    {
      "cell_type": "code",
      "metadata": {
        "id": "N9xkl2lkN7Bm"
      },
      "source": [
        ""
      ],
      "execution_count": 38,
      "outputs": []
    },
    {
      "cell_type": "code",
      "metadata": {
        "id": "TX_ErBqbN69U"
      },
      "source": [
        ""
      ],
      "execution_count": 38,
      "outputs": []
    }
  ]
}