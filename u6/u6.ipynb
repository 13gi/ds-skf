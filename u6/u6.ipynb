{
  "nbformat": 4,
  "nbformat_minor": 0,
  "metadata": {
    "colab": {
      "name": "u6.ipynb",
      "provenance": [],
      "collapsed_sections": [],
      "toc_visible": true,
      "authorship_tag": "ABX9TyM5mFhIrRu5gMkTppTmJWpv"
    },
    "kernelspec": {
      "name": "python3",
      "display_name": "Python 3"
    }
  },
  "cells": [
    {
      "cell_type": "markdown",
      "metadata": {
        "id": "B_jaVsWmr7nx"
      },
      "source": [
        "## START"
      ]
    },
    {
      "cell_type": "code",
      "metadata": {
        "id": "ULsqjJ_RjYxX"
      },
      "source": [
        "import numpy as np\n",
        "import pandas as pd\n",
        "\n",
        "import re\n",
        "import random\n",
        "import math\n",
        "\n",
        "from scipy.stats import norm \n",
        "from scipy.stats import t\n",
        "\n",
        "import matplotlib.pyplot as plt\n",
        "import seaborn as sns\n",
        "import cufflinks as cf\n",
        "from plotly.offline import download_plotlyjs, init_notebook_mode, plot, iplot\n",
        "\n",
        "%matplotlib inline"
      ],
      "execution_count": null,
      "outputs": []
    },
    {
      "cell_type": "code",
      "metadata": {
        "id": "xtaIknMGsBj1"
      },
      "source": [
        ""
      ],
      "execution_count": null,
      "outputs": []
    },
    {
      "cell_type": "markdown",
      "metadata": {
        "id": "7fA2c_K6sDgC"
      },
      "source": [
        "### 3.3"
      ]
    },
    {
      "cell_type": "code",
      "metadata": {
        "id": "Hi8gBp5lsBfM"
      },
      "source": [
        "x = np.arange(-10.01, 10.01, 0.01)\n",
        "\n",
        "plt.plot(x, x**2)\n",
        "\n",
        "plt.grid(True)\n",
        "\n",
        "plt.show()"
      ],
      "execution_count": null,
      "outputs": []
    },
    {
      "cell_type": "code",
      "metadata": {
        "id": "4fGK1kMFsBbC"
      },
      "source": [
        "x = np.arange(-2.01, 2.01, 0.01)\n",
        "\n",
        "plt.plot(x, 5 * x**2 - 3 * x + 100)\n",
        "\n",
        "plt.grid(True)\n",
        "\n",
        "plt.show()"
      ],
      "execution_count": null,
      "outputs": []
    },
    {
      "cell_type": "code",
      "metadata": {
        "id": "GpHG156ysBXU"
      },
      "source": [
        "x = np.arange(-1.01, 1.01, 0.01)\n",
        "\n",
        "plt.plot(x, (-1) * 5 * x**2 + 3 * x + 100)\n",
        "\n",
        "plt.grid(True)\n",
        "\n",
        "plt.show()"
      ],
      "execution_count": null,
      "outputs": []
    },
    {
      "cell_type": "code",
      "metadata": {
        "id": "Zh0HyMqnsBTl"
      },
      "source": [
        "x = np.arange(-3.01, 3.01, 0.01)\n",
        "\n",
        "plt.plot(x, 2 * x**2 + 1)\n",
        "\n",
        "plt.grid(True)\n",
        "\n",
        "plt.show()"
      ],
      "execution_count": null,
      "outputs": []
    },
    {
      "cell_type": "code",
      "metadata": {
        "id": "06m8sQyxsBNt"
      },
      "source": [
        "x = np.arange(-10.01, 10.01, 0.01)\n",
        "\n",
        "plt.plot(x, (5 + 2 * x)**2)\n",
        "\n",
        "plt.grid(True)\n",
        "\n",
        "plt.show()"
      ],
      "execution_count": null,
      "outputs": []
    },
    {
      "cell_type": "code",
      "metadata": {
        "id": "HF5NToKTsBKF"
      },
      "source": [
        "round((1 + np.exp(-4))**(-1), 2)"
      ],
      "execution_count": null,
      "outputs": []
    },
    {
      "cell_type": "code",
      "metadata": {
        "id": "Uzq2FhnkozRM"
      },
      "source": [
        "# Задание 3.7.2\n",
        "\n",
        "x = 0.1 + 0.3 + 0.6\n",
        "1/(1 + np.exp(-2 * x))\n",
        "\n",
        "# [-]\n",
        "# 0.9525741268224334\n",
        "# 0.7310585786300049\n",
        "\n",
        "# x1 = 0.1 \n",
        "# x2 =  0.3 \n",
        "# x3 =  0.6\n",
        "# 1/(1 + np.exp(-x1)) + 1/(1 + np.exp(-x2)) + 1/(1 + np.exp(-x3))"
      ],
      "execution_count": null,
      "outputs": []
    },
    {
      "cell_type": "markdown",
      "metadata": {
        "id": "BzqDosL_vuye"
      },
      "source": [
        "### 4.8\n"
      ]
    },
    {
      "cell_type": "code",
      "metadata": {
        "id": "--hUjcy7_QD7"
      },
      "source": [
        "# Задача 4.8.3\n",
        "# \n",
        "# 1 point possible (graded)\n",
        "# Редкое заболевание встречается у % людей. \n",
        "# Тест ошибочно показывает наличие болезни у здоровых людей с вероятностью % \n",
        "# и ошибочно показывает отсутствие болезни у больных с вероятностью %. Найдите вероятность, \n",
        "# что человек на самом деле болен, если тест отрицателен на болезнь.\n",
        "\n",
        "\n",
        "P_n = 0.03 * 0.01 + 0.98*0.99\n",
        "print('P(N):',P_n)\n",
        "\n",
        "P_sn = round(0.03 * 0.01 / P_n , 4)\n",
        "print('P(S|N):', P_sn)"
      ],
      "execution_count": null,
      "outputs": []
    },
    {
      "cell_type": "code",
      "metadata": {
        "id": "PrMP4rE-_P8u"
      },
      "source": [
        "0.3 / 0.5 , 0.5/0.3"
      ],
      "execution_count": null,
      "outputs": []
    },
    {
      "cell_type": "code",
      "metadata": {
        "id": "bn6UsSbW_P10"
      },
      "source": [
        "# Задание 4.12.1 - 1\n",
        "0.25 * 100 - 50*0.5 - 0.25 * 100"
      ],
      "execution_count": null,
      "outputs": []
    },
    {
      "cell_type": "code",
      "metadata": {
        "id": "L0Vy5sUo54lX"
      },
      "source": [
        "# Задание 4.12.1 - 2\n",
        "100 * 0.5 "
      ],
      "execution_count": null,
      "outputs": []
    },
    {
      "cell_type": "code",
      "metadata": {
        "id": "niUmyPbi6O8g"
      },
      "source": [
        "# Задание 4.12.2 - 1\n",
        "\n",
        "x = np.array([-1, 0, 1, 2])\n",
        "p = np.array([0.5, 0.2, 0.2, 0.1])\n",
        "\n",
        "x * p\n"
      ],
      "execution_count": null,
      "outputs": []
    },
    {
      "cell_type": "code",
      "metadata": {
        "id": "yXdhDcfC6O4E"
      },
      "source": [
        "(x * x) * p"
      ],
      "execution_count": null,
      "outputs": []
    },
    {
      "cell_type": "code",
      "metadata": {
        "id": "TbMk4WVw6O0h"
      },
      "source": [
        "# Задача 4.14.2\n",
        "\n",
        "# 0/1 point (graded)\n",
        "# Случайная величина задана таблицей:\n",
        "\n",
        "x = np.array([-1, 0, 1, 2])\n",
        "p = np.array([0.5, 0.2, 0.2, 0.1])\n",
        "\n",
        "ex = x * p\n",
        "\n",
        "ex2 = (x * x )* p\n",
        "\n",
        "ex, ex2"
      ],
      "execution_count": null,
      "outputs": []
    },
    {
      "cell_type": "code",
      "metadata": {
        "id": "opT_B4LN6Oy2"
      },
      "source": [
        "ex0 = -0.1\n",
        "ex2 = 1.1\n",
        "\n",
        "math.sqrt(ex2 - ex0**2)"
      ],
      "execution_count": null,
      "outputs": []
    },
    {
      "cell_type": "code",
      "metadata": {
        "id": "qyjVv0eWGT8F"
      },
      "source": [
        "5000 * 0.07"
      ],
      "execution_count": null,
      "outputs": []
    },
    {
      "cell_type": "code",
      "metadata": {
        "id": "JzRbA1AtGT38"
      },
      "source": [
        "85 * 0.001"
      ],
      "execution_count": null,
      "outputs": []
    },
    {
      "cell_type": "code",
      "metadata": {
        "id": "OmxOecIBGTzY"
      },
      "source": [
        "0.5 / 0.6"
      ],
      "execution_count": null,
      "outputs": []
    },
    {
      "cell_type": "code",
      "metadata": {
        "id": "Um_994Sm6OuT"
      },
      "source": [
        "round(1/36, 3), round(4/36 * 2, 3), round(2/36, 3)"
      ],
      "execution_count": null,
      "outputs": []
    },
    {
      "cell_type": "markdown",
      "metadata": {
        "id": "abaQJuZuvcq7"
      },
      "source": [
        "## 5.4"
      ]
    },
    {
      "cell_type": "code",
      "metadata": {
        "id": "vnwHcahFvfXK"
      },
      "source": [
        "ma = np.array([20, 23, 29, 22, 50, 43, 35])\n",
        "\n",
        "ru = np.array([70, 65, 58, 90, 45, 57, 50])\n"
      ],
      "execution_count": null,
      "outputs": []
    },
    {
      "cell_type": "code",
      "metadata": {
        "id": "wJ69EpA86OqT"
      },
      "source": [
        "round(ma.mean(), 2), round(ru.mean(), 2)"
      ],
      "execution_count": null,
      "outputs": []
    },
    {
      "cell_type": "code",
      "metadata": {
        "id": "MzadL4HOvk8D"
      },
      "source": [
        "print(round(sum(ma > 40)/len(ma), 2))\n",
        "print(sum(ma > 40), '/',len(ma), sep='')"
      ],
      "execution_count": null,
      "outputs": []
    },
    {
      "cell_type": "code",
      "metadata": {
        "id": "FsXrP6pxvk30"
      },
      "source": [
        "round(np.median(ma), 2), round(np.median(ru), 2)\n",
        "\n"
      ],
      "execution_count": null,
      "outputs": []
    },
    {
      "cell_type": "code",
      "metadata": {
        "id": "bucxrPbex89W"
      },
      "source": [
        "round(np.std(ma), 2), round(np.std(ma, ddof=1), 2)"
      ],
      "execution_count": null,
      "outputs": []
    },
    {
      "cell_type": "code",
      "metadata": {
        "id": "Q9zvCtmBx85v"
      },
      "source": [
        "round(np.std(ru), 2), round(np.std(ru, ddof=1), 2)"
      ],
      "execution_count": null,
      "outputs": []
    },
    {
      "cell_type": "code",
      "metadata": {
        "id": "nnyGaGPBx8zH"
      },
      "source": [
        "np.corrcoef(ma, ru)"
      ],
      "execution_count": null,
      "outputs": []
    },
    {
      "cell_type": "markdown",
      "metadata": {
        "id": "tjx6-WgXhk2r"
      },
      "source": [
        "## 5.7"
      ]
    },
    {
      "cell_type": "code",
      "metadata": {
        "id": "zqDlYNDRx8te"
      },
      "source": [
        "alpha = 0.03\n",
        "value = -norm.ppf(alpha/2)\n",
        "print(round(value, 2))"
      ],
      "execution_count": null,
      "outputs": []
    },
    {
      "cell_type": "code",
      "metadata": {
        "id": "bAifWkMvvkuL"
      },
      "source": [
        "# 5.7.1\n",
        "\n",
        "# 1. Найдите z-критическое для интервала с уровнем доверия 93%. Укажите с точностью до двух знаков после разделительной точки.\n",
        "\n",
        "\n",
        "alpha = 0.07\n",
        "value = -norm.ppf(alpha/2)\n",
        "print(round(value, 2))\n"
      ],
      "execution_count": null,
      "outputs": []
    },
    {
      "cell_type": "code",
      "metadata": {
        "id": "AXD3JVe7vkqX"
      },
      "source": [
        "# 2. Парфюмерная компания хочет узнать возраст женщин, которые являются их покупательницами. \n",
        "# Ранее уже было изучено, что средний возраст был 37, а среднеквадратичное отклонение равно 3.4. \n",
        "# Размер выборки — 200 человек. Рассчитайте 95 % доверительный интервал для среднего возраста. \n",
        "# Запишите в ответ верхнюю границу интервала, округлите до сотых.\n",
        "\n",
        "n = 200\n",
        "sigma = 3.4\n",
        "x = 37\n",
        "alpha = 0.05\n",
        "\n",
        "z_krit = -norm.ppf(alpha/2)\n",
        "\n",
        "value = z_krit * sigma / math.sqrt(n)\n",
        "\n",
        "round(x - value, 2), round(x + value, 2)"
      ],
      "execution_count": null,
      "outputs": []
    },
    {
      "cell_type": "code",
      "metadata": {
        "id": "30_B8jp6vke2"
      },
      "source": [
        "n = 60\n",
        "sigma = 0.8\n",
        "x = 7.6\n",
        "alpha = 0.01\n",
        "\n",
        "z_krit = -norm.ppf(alpha/2)\n",
        "\n",
        "value = z_krit * sigma / math.sqrt(n)\n",
        "\n",
        "round(x - value, 2), round(x + value, 2)"
      ],
      "execution_count": null,
      "outputs": []
    },
    {
      "cell_type": "markdown",
      "metadata": {
        "id": "c_pI7Z0olQF4"
      },
      "source": [
        "## 5.8"
      ]
    },
    {
      "cell_type": "code",
      "metadata": {
        "id": "L1sePEMLvkZJ"
      },
      "source": [
        "value = t.ppf((1 + 0.95)/2, 100-1)\n",
        "print(round(value, 2))"
      ],
      "execution_count": null,
      "outputs": []
    },
    {
      "cell_type": "markdown",
      "metadata": {
        "id": "2O1-FRNxmqho"
      },
      "source": [
        "## 5.9"
      ]
    },
    {
      "cell_type": "code",
      "metadata": {
        "id": "1VlsPcFgvkVg"
      },
      "source": [
        "def confidence_interval_norm(alpha, sigma, n, mean, round_count=2):\n",
        "    value = -norm.ppf(alpha / 2) * sigma / math.sqrt(n)\n",
        "    return round(mean - value, round_count), round(mean + value, round_count)\n",
        "\n",
        "\n",
        "def confidence_interval_t(alpha, s, n, mean, round_count=2):\n",
        "    value = -t.ppf(alpha / 2, n - 1) * s / math.sqrt(n)\n",
        "    return round(mean - value, round_count), round(mean + value, round_count)\n",
        "\n",
        "\n",
        "def confidence_interval_prop(alpha, n, p, round_count=2):\n",
        "    value = -norm.ppf(alpha / 2) * math.sqrt(( 1 - p ) * p / n)\n",
        "    return round(p - value, round_count), round(p + value, round_count)\n",
        "\n"
      ],
      "execution_count": null,
      "outputs": []
    },
    {
      "cell_type": "code",
      "metadata": {
        "id": "z0HqFV1LvkN1"
      },
      "source": [
        "# На 90% уровне доверия\n",
        "\n",
        "alfa = 1 - 0.9\n",
        "confidence_interval_t(alfa, 400, 15, 2000 , 0)\n"
      ],
      "execution_count": null,
      "outputs": []
    },
    {
      "cell_type": "code",
      "metadata": {
        "id": "67QrOPn1vkGI"
      },
      "source": [
        "# На 95% уровне доверия\n",
        "\n",
        "alfa = 1 - 0.95\n",
        "confidence_interval_t(alfa, 400, 15, 2000 , 0)"
      ],
      "execution_count": null,
      "outputs": []
    },
    {
      "cell_type": "code",
      "metadata": {
        "id": "bpegGVGYoDQ1"
      },
      "source": [
        "# На 99% уровне доверия\n",
        "\n",
        "alfa = 1 - 0.99\n",
        "confidence_interval_t(alfa, 400, 15, 2000 , 0)"
      ],
      "execution_count": null,
      "outputs": []
    },
    {
      "cell_type": "code",
      "metadata": {
        "id": "InFj2CyVoDLG"
      },
      "source": [
        "# Задание 5.9.3\n",
        "# На 99% уровне доверия\n",
        "\n",
        "alfa = 1 - 0.99\n",
        "confidence_interval_norm(alfa, 1150, 250, 3540, 0)"
      ],
      "execution_count": null,
      "outputs": []
    },
    {
      "cell_type": "code",
      "metadata": {
        "id": "jBjn1rLgoDBg"
      },
      "source": [
        "# 5.10\n",
        "\n",
        "n = 189\n",
        "positiv = 132\n",
        "p = positiv/n\n",
        "round(p, 3)\n"
      ],
      "execution_count": null,
      "outputs": []
    },
    {
      "cell_type": "code",
      "metadata": {
        "id": "7O91FMsGvkAB"
      },
      "source": [
        "alfa = 1 - 0.9\n",
        "confidence_interval_prop(alfa, n, p, 3)"
      ],
      "execution_count": null,
      "outputs": []
    },
    {
      "cell_type": "code",
      "metadata": {
        "id": "guf_atDGvjzF"
      },
      "source": [
        ""
      ],
      "execution_count": null,
      "outputs": []
    },
    {
      "cell_type": "code",
      "metadata": {
        "id": "NitYcf4-53SP"
      },
      "source": [
        ""
      ],
      "execution_count": null,
      "outputs": []
    },
    {
      "cell_type": "markdown",
      "metadata": {
        "id": "JuG8eHr053-f"
      },
      "source": [
        "## END"
      ]
    },
    {
      "cell_type": "code",
      "metadata": {
        "id": "TLNCpXGt53MC"
      },
      "source": [
        ""
      ],
      "execution_count": null,
      "outputs": []
    },
    {
      "cell_type": "code",
      "metadata": {
        "id": "Ft2ZHemd53GO"
      },
      "source": [
        ""
      ],
      "execution_count": null,
      "outputs": []
    }
  ]
}