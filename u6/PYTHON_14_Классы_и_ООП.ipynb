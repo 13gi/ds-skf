{
  "nbformat": 4,
  "nbformat_minor": 0,
  "metadata": {
    "colab": {
      "name": "PYTHON-14 Классы и ООП.ipynb",
      "provenance": [],
      "collapsed_sections": [],
      "toc_visible": true,
      "authorship_tag": "ABX9TyOqPOGylUkLE+Nxcy9kMr/S"
    },
    "kernelspec": {
      "name": "python3",
      "display_name": "Python 3"
    }
  },
  "cells": [
    {
      "cell_type": "markdown",
      "metadata": {
        "id": "B_jaVsWmr7nx"
      },
      "source": [
        "## START"
      ]
    },
    {
      "cell_type": "code",
      "metadata": {
        "id": "ULsqjJ_RjYxX"
      },
      "source": [
        "import numpy as np\n",
        "\n",
        "import pandas as pd\n",
        "import re\n",
        "import random\n",
        "\n",
        "import matplotlib.pyplot as plt\n",
        "import seaborn as sns\n",
        "import cufflinks as cf\n",
        "from plotly.offline import download_plotlyjs, init_notebook_mode, plot, iplot\n",
        "\n",
        "%matplotlib inline"
      ],
      "execution_count": null,
      "outputs": []
    },
    {
      "cell_type": "code",
      "metadata": {
        "id": "xtaIknMGsBj1"
      },
      "source": [
        "number = 2.5   \n",
        "# Вызовем метод is_integer. Он скажет нам, является ли number целым числом  \n",
        "print(number.is_integer())\n",
        "\n",
        "print(number.__class__)  "
      ],
      "execution_count": null,
      "outputs": []
    },
    {
      "cell_type": "code",
      "metadata": {
        "id": "bn6UsSbW_P10"
      },
      "source": [
        "# Используем ключевое слово class, за которым идёт название класса, в примере это SalesReport  \n",
        "class SalesReport():  \n",
        "    pass  \n",
        "  \n",
        "# Сравните это с определением пустой функции  \n",
        "# Команда pass не делает ничего; на её месте могли быть другие инструкции  \n",
        "# Мы используем её только потому, что синтаксически python требует, чтобы там было хоть что-то  \n",
        "def build_report():  \n",
        "    pass  \n",
        "  \n",
        "  \n",
        "# И давайте определим ещё один класс  \n",
        "# Для имён классов традиционно используются имена в формате CamelCase, где начала слов отмечаются большими буквами  \n",
        "# Это позволяет легко отличать их от функций, которые пишутся в формате snake_case  \n",
        "class SkillfactoryStudent():  \n",
        "    pass  "
      ],
      "execution_count": null,
      "outputs": []
    },
    {
      "cell_type": "code",
      "metadata": {
        "id": "Ez6rAGMpyck7"
      },
      "source": [
        "class SalesReport():  \n",
        "    # Позволим добавлять много разных сделок   \n",
        "    def add_deal(self, amount):   \n",
        "        # На первой сделке создадим список для хранения всех сделок   \n",
        "        if not hasattr(self, 'deals'):  \n",
        "            self.deals = []  \n",
        "        # Добавим текущую сделку  \n",
        "        self.deals.append(amount)  \n",
        "          \n",
        "    # Посчитаем сумму всех сделок      \n",
        "    def total_amount(self):  \n",
        "        return sum(self.deals)  \n",
        "      \n",
        "    def print_report(self):  \n",
        "        print(\"Total sales:\", self.total_amount())  \n",
        "          \n",
        "# Используем наши новые возможности  \n",
        "# Добавим две сделки и распечатаем отчёт  \n",
        "report = SalesReport()  \n",
        "report.add_deal(10_000)  \n",
        "report.add_deal(30_000)  \n",
        "report.print_report() # => Total sales: 40000  "
      ],
      "execution_count": null,
      "outputs": []
    },
    {
      "cell_type": "markdown",
      "metadata": {
        "id": "i8m6NjahiEkj"
      },
      "source": [
        "Задание\n",
        "\n",
        "* Создайте класс `DepartmentReport`, который выводит отчёт по отделам компании. У него должны быть определены:\n",
        "\n",
        "* атрибут `revenues` - список, где мы храним значения выручки отделов;\n",
        "* метод `add_revenue`, который добавляет выручку одного отдела;\n",
        "* метод `average_revenue`, который возвращает среднюю выручку по всем отделам."
      ]
    },
    {
      "cell_type": "code",
      "metadata": {
        "id": "bcN9FopJycfX"
      },
      "source": [
        "class DepartmentReport():\n",
        "    def add_revenue(self, in_rev):\n",
        "        if not hasattr(self, 'revenues'):\n",
        "            self.revenues = []\n",
        "        #in_rev = int(in_rev.replace('_', ''))\n",
        "        self.revenues.append(in_rev)\n",
        "    \n",
        "    def average_revenue(self):\n",
        "        return sum(self.revenues)/len(self.revenues)\n",
        "\n",
        "\n",
        "report = DepartmentReport()\n",
        "report.add_revenue(1_000_000)\n",
        "report.add_revenue(400_000)\n",
        "print(report.revenues)\n",
        "# => [1000000, 400000]\n",
        "print(report.average_revenue())\n",
        "# => 700000.0"
      ],
      "execution_count": null,
      "outputs": []
    },
    {
      "cell_type": "code",
      "metadata": {
        "id": "pQMie3XXsYvf"
      },
      "source": [
        ""
      ],
      "execution_count": null,
      "outputs": []
    },
    {
      "cell_type": "code",
      "metadata": {
        "id": "O2qeSjtcsYke"
      },
      "source": [
        ""
      ],
      "execution_count": null,
      "outputs": []
    },
    {
      "cell_type": "code",
      "metadata": {
        "id": "y8DAglSgsYFz"
      },
      "source": [
        ""
      ],
      "execution_count": null,
      "outputs": []
    },
    {
      "cell_type": "code",
      "metadata": {
        "id": "6YgkrSeGygEP"
      },
      "source": [
        "class SalesReport():  \n",
        "    # Будем принимать в __init__ ещё и имя менеджера  \n",
        "    def __init__(self, manager_name):  \n",
        "        self.deals = []  \n",
        "        self.manager_name = manager_name  \n",
        "          \n",
        "    def add_deal(self, amount):   \n",
        "        self.deals.append(amount)  \n",
        "          \n",
        "    def total_amount(self):  \n",
        "        return sum(self.deals)  \n",
        "      \n",
        "    def print_report(self):  \n",
        "        # И добавлять это имя в отчёт  \n",
        "        print(\"Manager:\", self.manager_name)  \n",
        "        print(\"Total sales:\", self.total_amount())  \n",
        "          \n",
        "   \n",
        "report = SalesReport(\"Ivan Taranov\")  \n",
        "report.add_deal(10_000)  \n",
        "report.add_deal(30_000)  \n",
        "report.print_report()  "
      ],
      "execution_count": null,
      "outputs": []
    },
    {
      "cell_type": "code",
      "metadata": {
        "id": "cSwQb_UrygAI"
      },
      "source": [
        "# Задание\n",
        "# Определите улучшенный класс DepartmentReport из задания в главе 14.3. Класс при инициализации должен принимать переменную company_name.\n",
        "# Метод average_revenue должен возвращать строку \"Average department revenue for (company_name): (average_revenue)\".\n",
        "# В случае правильного описания класса код, приведённый ниже, должен выдать следующий результат:\n",
        "\n",
        "\n",
        "class DepartmentReport():\n",
        "    def __init__(self, in_company_name):\n",
        "        self.revenues = []\n",
        "        self.company_name = in_company_name\n",
        "\n",
        "    def add_revenue(self, in_rev):\n",
        "        self.revenues.append(in_rev)\n",
        "    \n",
        "    def average_revenue(self):\n",
        "        avg_revenue = sum(self.revenues)/len(self.revenues)\n",
        "        return 'Average department revenue for ' + self.company_name + ': ' + str(round(avg_revenue))\n",
        "\n",
        "# -------------------------------------------------------------\n",
        "\n",
        "report = DepartmentReport(\"Danon\")\n",
        "report.add_revenue(1_000_000)\n",
        "report.add_revenue(400_000)\n",
        "\n",
        "print(report.average_revenue())\n",
        "# => Average department revenue for Danon: 700000\n"
      ],
      "execution_count": null,
      "outputs": []
    },
    {
      "cell_type": "code",
      "metadata": {
        "id": "Kz9BzVXLyf8V"
      },
      "source": [
        "# словарь как элемент массива\n",
        "\n",
        "deals = []\n",
        "company = 'abc'\n",
        "amount = 12000\n",
        "deals.append({'company': company, 'amount': amount})\n",
        "\n",
        "# deals[0], type(deals[0])\n",
        "deals[0]['company'], deals[0]['amount']"
      ],
      "execution_count": null,
      "outputs": []
    },
    {
      "cell_type": "code",
      "metadata": {
        "id": "ARcICq5Iyf4T"
      },
      "source": [
        "class SalesReport():  \n",
        "    def __init__(self, employee_name):  \n",
        "        self.deals = []  \n",
        "        self.employee_name = employee_name  \n",
        "      \n",
        "    def add_deal(self, company, amount):   \n",
        "        self.deals.append({'company': company, 'amount': amount})  \n",
        "          \n",
        "    def total_amount(self):  \n",
        "        return sum([deal['amount'] for deal in self.deals])  \n",
        "      \n",
        "    def average_deal(self):  \n",
        "        return self.total_amount()/len(self.deals)  \n",
        "      \n",
        "    def all_companies(self):  \n",
        "        return list(set([deal['company'] for deal in self.deals]))  \n",
        "      \n",
        "    def print_report(self):  \n",
        "        print(\"Employee: \", self.employee_name)  \n",
        "        print(\"Total sales:\", self.total_amount())  \n",
        "        print(\"Average sales:\", self.average_deal())  \n",
        "        print(\"Companies:\", self.all_companies())  \n",
        "      \n",
        "      \n",
        "report = SalesReport(\"Ivan Semenov\")  \n",
        "  \n",
        "report.add_deal(\"PepsiCo\", 120_000)  \n",
        "report.add_deal(\"SkyEng\", 250_000)  \n",
        "report.add_deal(\"PepsiCo\", 20_000)  \n",
        "  \n",
        "report.print_report()  "
      ],
      "execution_count": null,
      "outputs": []
    },
    {
      "cell_type": "code",
      "metadata": {
        "id": "NkFi2FWTyccL"
      },
      "source": [
        ""
      ],
      "execution_count": null,
      "outputs": []
    },
    {
      "cell_type": "code",
      "metadata": {
        "id": "nqIdMdBfycY0"
      },
      "source": [
        "class Client():  \n",
        "    # Базовые данные  \n",
        "    def __init__(self, email, order_num, registration_year):  \n",
        "        self.email = email  \n",
        "        self.order_num = order_num  \n",
        "        self.registration_year = registration_year  \n",
        "        self.discount = 0  \n",
        "          \n",
        "    # Оформление заказа  \n",
        "    def make_order(self, price):  \n",
        "        self.update_discount()  \n",
        "        self.order_num += 1  \n",
        "        # Здесь было бы оформления заказа, но мы просто выведем его цену  \n",
        "        discounted_price = price * (1 - self.discount)   \n",
        "        print(f\"Order price for {self.email} is {discounted_price}\")  \n",
        "              \n",
        "    # Назначение скидки  \n",
        "    def update_discount(self):   \n",
        "        if self.registration_year < 2018 and self.order_num >= 5:  \n",
        "            self.discount = 0.1   \n",
        "              \n",
        "  \n",
        "# Применение  \n",
        "          \n",
        "# Сделаем подобие базы  \n",
        "client_db = [   \n",
        "    Client(\"max@gmail.com\", 2, 2019),  \n",
        "    Client(\"lova@yandex.ru\", 10, 2015),  \n",
        "    Client(\"german@sberbank.ru\", 4, 2017)  \n",
        "]  \n",
        "  \n",
        "  \n",
        "# Сгенерируем заказы  \n",
        "client_db[0].make_order(100)  \n",
        "# => Order price for max@gmail.com is 100  \n",
        "  \n",
        "client_db[1].make_order(200)  \n",
        "# => Order price for lova@yandex.ru is 180.0  \n",
        "  \n",
        "client_db[2].make_order(500)  \n",
        "# => Order price for german@sberbank.ru is 500  \n",
        "  \n",
        "client_db[2].make_order(500)  \n",
        "# => Order price for german@sberbank.ru is 450.0  "
      ],
      "execution_count": null,
      "outputs": []
    },
    {
      "cell_type": "markdown",
      "metadata": {
        "id": "F1ATQBgvw-Tv"
      },
      "source": [
        "Определите класс для пользователей User:\n",
        "\n",
        "* у него должны быть атрибуты `email`, `password` и `balance`, которые устанавливаются при инициализии;\n",
        "* у него должен быть метод `login`, который принимает емейл и пароль, если они совпадают с атрибутами объекта, он возвращает True, а иначе False;\n",
        "* должен быть метод `update_balance`(amount), который изменяет баланс счёта на величину amount."
      ]
    },
    {
      "cell_type": "code",
      "metadata": {
        "id": "tt5jlBiwycCS"
      },
      "source": [
        "# 14.9\n",
        "\n",
        "class User():\n",
        "    # base\n",
        "    def __init__(self, email, password, balance):\n",
        "        self.email = email\n",
        "        self.password = password\n",
        "        self.balance = balance\n",
        "        \n",
        "    def login(self, email, password):\n",
        "        return (email == self.email and password == self.password)\n",
        "\n",
        "    def update_balance(self, in_amount):\n",
        "        self.balance += in_amount\n",
        "\n",
        "# -------------------------------------------\n",
        "\n",
        "user = User(\"gosha@roskino.org\", \"qwerty\", 20_000)\n",
        "user.login(\"gosha@roskino.org\", \"qwerty123\")\n",
        "# => False"
      ],
      "execution_count": null,
      "outputs": []
    },
    {
      "cell_type": "code",
      "metadata": {
        "id": "PAVmqWw0yb-f"
      },
      "source": [
        "user.login(\"gosha@roskino.org\", \"qwerty\")\n",
        "# => True"
      ],
      "execution_count": null,
      "outputs": []
    },
    {
      "cell_type": "code",
      "metadata": {
        "id": "kgoz6qpDyb61"
      },
      "source": [
        "user.update_balance(200)\n",
        "user.update_balance(-500)\n",
        "print(user.balance)\n",
        "# => 19700"
      ],
      "execution_count": null,
      "outputs": []
    },
    {
      "cell_type": "code",
      "metadata": {
        "id": "BX_epaFgyb3r"
      },
      "source": [
        "import statistics  \n",
        "  \n",
        "class DataFrame():  \n",
        "    def __init__(self, column, fill_value=0):  \n",
        "        # Инициализируем атрибуты  \n",
        "        self.column = column  \n",
        "        self.fill_value = fill_value  \n",
        "        # Заполним пропуски  \n",
        "        self.fill_missed()  \n",
        "        # Конвертируем все элементы в числа  \n",
        "        self.to_float()  \n",
        "          \n",
        "    def fill_missed(self):  \n",
        "        for i, value in enumerate(self.column):  \n",
        "            if value is None or value == '':  \n",
        "                self.column[i] = self.fill_value  \n",
        "                  \n",
        "    def to_float(self):  \n",
        "        self.column = [float(value) for value in self.column]  \n",
        "      \n",
        "    def median(self):  \n",
        "        return statistics.median(self.column)  \n",
        "      \n",
        "    def mean(self):  \n",
        "        return statistics.mean(self.column)  \n",
        "      \n",
        "    def deviation(self):  \n",
        "        return statistics.stdev(self.column)  \n",
        "\n",
        "# ---------------------------------   \n",
        "  \n",
        "      \n",
        "# Воспользуемся классом  \n",
        "df = DataFrame([\"1\", 17, 4, None, 8])  \n",
        "  \n",
        "print(df.column)  \n",
        "# => [1.0, 17.0, 4.0, 0.0, 8.0]  \n",
        "print(df.deviation())  \n",
        "# => 6.89  \n",
        "print(df.median())  \n",
        "# => 4.0  "
      ],
      "execution_count": null,
      "outputs": []
    },
    {
      "cell_type": "code",
      "metadata": {
        "id": "Wm0onwzZyb0l"
      },
      "source": [
        "print(\"\\033[4m\\033[37m\\033[44m{}\\033[0m\".format(\"Python 3\"))"
      ],
      "execution_count": null,
      "outputs": []
    },
    {
      "cell_type": "code",
      "metadata": {
        "id": "-tCkZ1ze3DMm"
      },
      "source": [
        "# Определите класс IntDataFrame, который принимает список и \n",
        "# все числа в этом списке приводит к целым значениям. \n",
        "# После этого у него доступен метод count, который считает количество ненулевых элементов; \n",
        "# и метод unique, который возвращает число уникальных элементов.\n",
        "\n",
        "import numpy as np\n",
        "\n",
        "class IntDataFrame():  \n",
        "    def __init__(self, column, fill_value=0):  \n",
        "        # Инициализируем атрибуты  \n",
        "        self.column = column  \n",
        "        self.fill_value = fill_value  \n",
        "        # Заполним пропуски  \n",
        "        self.fill_missed()  \n",
        "        # Конвертируем все элементы в числа  \n",
        "        self.to_int()  \n",
        "          \n",
        "    def fill_missed(self):  \n",
        "        for i, value in enumerate(self.column):  \n",
        "            if value is None or value == '':  \n",
        "                self.column[i] = self.fill_value  \n",
        "                  \n",
        "    def to_float(self):  \n",
        "        self.column = [float(value) for value in self.column] \n",
        "    \n",
        "    def to_int(self):  \n",
        "        self.column = [int(value) for value in self.column] \n",
        "      \n",
        "    def median(self):  \n",
        "        return statistics.median(self.column)  \n",
        "      \n",
        "    def mean(self):  \n",
        "        return statistics.mean(self.column)  \n",
        "      \n",
        "    def deviation(self):  \n",
        "        return statistics.stdev(self.column) \n",
        "    \n",
        "    def count(self):  \n",
        "        not_zero_count = sum(np.array(self.column) != 0)\n",
        "        return not_zero_count \n",
        "\n",
        "    def unique(self):\n",
        "        uniq_count = len(np.unique(self.column))\n",
        "        return uniq_count\n",
        "\n",
        "# ---------------------------------   \n",
        "\n"
      ],
      "execution_count": null,
      "outputs": []
    },
    {
      "cell_type": "code",
      "metadata": {
        "id": "4Z8KO1V43DFr"
      },
      "source": [
        "df = IntDataFrame([4.7, 4, 3, 0, 2.4, 0.3, 4])\n",
        "\n",
        "df.count()\n",
        "# => 5\n"
      ],
      "execution_count": null,
      "outputs": []
    },
    {
      "cell_type": "code",
      "metadata": {
        "id": "3cHqfOX53C_d"
      },
      "source": [
        "df.unique()\n",
        "# => 4"
      ],
      "execution_count": null,
      "outputs": []
    },
    {
      "cell_type": "code",
      "metadata": {
        "id": "NitYcf4-53SP"
      },
      "source": [
        ""
      ],
      "execution_count": null,
      "outputs": []
    },
    {
      "cell_type": "code",
      "metadata": {
        "id": "9FCVmbwfquIC"
      },
      "source": [
        "#  Задание 3\n",
        "\n",
        "# 0.0/1.0 point (graded)\n",
        "# Определите класс Dog, у которого есть методы bark и give_paw\n",
        "\n",
        "# bark возвращает строку \"Bark!\"\n",
        "# give_paw возвращает строку \"Paw\"\n",
        "\n",
        "class Dog:\n",
        "    def bark(self):\n",
        "        return 'Bark!'\n",
        "\n",
        "    def give_paw(self):\n",
        "        return 'Paw'\n",
        "\n",
        "# ------------------\n",
        "\n",
        "d = Dog()\n",
        "\n",
        "d.bark(), d.give_paw()"
      ],
      "execution_count": null,
      "outputs": []
    },
    {
      "cell_type": "code",
      "metadata": {
        "id": "-uf2WovDquEs"
      },
      "source": [
        ""
      ],
      "execution_count": null,
      "outputs": []
    },
    {
      "cell_type": "code",
      "metadata": {
        "id": "JD1aLZ_oquBM"
      },
      "source": [
        ""
      ],
      "execution_count": null,
      "outputs": []
    },
    {
      "cell_type": "code",
      "metadata": {
        "id": "kUIzcLiyqt5_"
      },
      "source": [
        ""
      ],
      "execution_count": null,
      "outputs": []
    },
    {
      "cell_type": "code",
      "metadata": {
        "id": "n98RSLjRqt0Q"
      },
      "source": [
        ""
      ],
      "execution_count": null,
      "outputs": []
    },
    {
      "cell_type": "markdown",
      "metadata": {
        "id": "JuG8eHr053-f"
      },
      "source": [
        "## END"
      ]
    },
    {
      "cell_type": "code",
      "metadata": {
        "id": "TLNCpXGt53MC"
      },
      "source": [
        ""
      ],
      "execution_count": null,
      "outputs": []
    }
  ]
}