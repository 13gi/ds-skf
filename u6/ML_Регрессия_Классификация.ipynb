{
  "nbformat": 4,
  "nbformat_minor": 0,
  "metadata": {
    "colab": {
      "name": "ML-Регрессия_Классификация.ipynb",
      "provenance": [],
      "collapsed_sections": [],
      "toc_visible": true,
      "mount_file_id": "1ScQS_pdIaxupjPGNxeX1vqqOSNgcpJ3u",
      "authorship_tag": "ABX9TyPBKerw6/SIEcV0I0IQLvGh"
    },
    "kernelspec": {
      "name": "python3",
      "display_name": "Python 3"
    }
  },
  "cells": [
    {
      "cell_type": "markdown",
      "metadata": {
        "id": "VgbxvgUaxraO"
      },
      "source": [
        "## START"
      ]
    },
    {
      "cell_type": "code",
      "metadata": {
        "id": "ztAa4sI_wNlf"
      },
      "source": [
        "import numpy as np\n",
        "import pandas as pd\n",
        "\n",
        "import re\n",
        "import random\n",
        "import os\n",
        "import math\n",
        "\n",
        "from sklearn import metrics\n",
        "from sklearn.model_selection import train_test_split\n",
        "\n",
        "from sklearn.ensemble import RandomForestRegressor\n",
        "from sklearn.linear_model import LinearRegression\n",
        "from sklearn.linear_model import LogisticRegression\n",
        "from sklearn.metrics import accuracy_score, precision_score, recall_score, f1_score\n",
        "from sklearn.metrics import mean_squared_error, roc_curve, roc_auc_score, confusion_matrix\n",
        "# from sklearn.metrics import mean_absolute_percentage_error\n",
        "\n",
        "\n",
        "from sklearn.preprocessing import RobustScaler\n",
        "\n",
        "from sklearn.datasets import load_breast_cancer\n",
        "from sklearn.datasets import load_boston\n",
        "\n",
        "import matplotlib.pyplot as plt\n",
        "import seaborn as sns\n",
        "\n",
        "%matplotlib inline"
      ],
      "execution_count": null,
      "outputs": []
    },
    {
      "cell_type": "code",
      "metadata": {
        "id": "I0tjY_TFwZyM"
      },
      "source": [
        "#  проверка на работу в \"google colab\" или \"локально\"\n",
        "\n",
        "if 'sample_data' in os.listdir():\n",
        "    project_dir = r'/content/drive/My Drive/Colab Notebooks/data/'\n",
        "    print('Обнаружена среда выполнения Google Colab.')\n",
        "    print('project_dir =>', project_dir)\n",
        "else:\n",
        "    project_dir = ''\n",
        "    print('НЕ обнаружена среда выполнения Google Colab. Выбран режим локальной работы.')"
      ],
      "execution_count": null,
      "outputs": []
    },
    {
      "cell_type": "code",
      "metadata": {
        "id": "Qzrxb-gZwZ2a"
      },
      "source": [
        "# os.listdir(project_dir)\n"
      ],
      "execution_count": null,
      "outputs": []
    },
    {
      "cell_type": "markdown",
      "metadata": {
        "id": "vZ3ABnFU2H2B"
      },
      "source": [
        "# Регрессия\n"
      ]
    },
    {
      "cell_type": "code",
      "metadata": {
        "id": "FIsiNOrxv7PJ"
      },
      "source": [
        "myData = pd.read_csv(project_dir + 'u6/' + 'mycar.csv')\n",
        "myData.shape"
      ],
      "execution_count": null,
      "outputs": []
    },
    {
      "cell_type": "code",
      "metadata": {
        "id": "zOrXeOmcwnbt"
      },
      "source": [
        "myData.head(9)"
      ],
      "execution_count": null,
      "outputs": []
    },
    {
      "cell_type": "code",
      "metadata": {
        "id": "9t1HKBtuv7Ez"
      },
      "source": [
        "\n",
        "X = myData.iloc[:,:-1].values\n",
        "Y = myData.iloc[:,1].values"
      ],
      "execution_count": null,
      "outputs": []
    },
    {
      "cell_type": "code",
      "metadata": {
        "id": "6y41XYgZv69b"
      },
      "source": [
        "X_train, X_test, Y_train, Y_test = train_test_split(X, Y, test_size=0.3)"
      ],
      "execution_count": null,
      "outputs": []
    },
    {
      "cell_type": "code",
      "metadata": {
        "id": "PynoMLXNv6zc"
      },
      "source": [
        "myModel = LinearRegression()\n",
        "\n",
        "#обучаем модель на обучающих данных\n",
        "myModel.fit(X_train, Y_train)"
      ],
      "execution_count": null,
      "outputs": []
    },
    {
      "cell_type": "code",
      "metadata": {
        "id": "8_fUpyPmxsHF"
      },
      "source": [
        "y_pred = myModel.predict(X_test)\n",
        "y_pred"
      ],
      "execution_count": null,
      "outputs": []
    },
    {
      "cell_type": "code",
      "metadata": {
        "id": "dMCMwzPIxr_a"
      },
      "source": [
        ""
      ],
      "execution_count": null,
      "outputs": []
    },
    {
      "cell_type": "code",
      "metadata": {
        "id": "YEnt2r5axry5"
      },
      "source": [
        ""
      ],
      "execution_count": null,
      "outputs": []
    },
    {
      "cell_type": "code",
      "metadata": {
        "id": "UeWEhkF-xrmF"
      },
      "source": [
        ""
      ],
      "execution_count": null,
      "outputs": []
    },
    {
      "cell_type": "code",
      "metadata": {
        "id": "sMpCbU3Cv6ko"
      },
      "source": [
        ""
      ],
      "execution_count": null,
      "outputs": []
    },
    {
      "cell_type": "markdown",
      "metadata": {
        "id": "87jJDNyvyvOU"
      },
      "source": [
        "### MAE, MSE, RMSE, MAPE"
      ]
    },
    {
      "cell_type": "code",
      "metadata": {
        "id": "NwbOOgsHwZ6I"
      },
      "source": [
        "y_happy = [4,20,110,15,23]\n",
        "y_happy_pred = [5,15,100,9,21]\n",
        "\n",
        "# Вычисляем MAE: Mean Absolute Error\n",
        "\n",
        "MAE = metrics.mean_absolute_error(y_happy, y_happy_pred)\n",
        "print('MAE: ', MAE)"
      ],
      "execution_count": null,
      "outputs": []
    },
    {
      "cell_type": "code",
      "metadata": {
        "id": "ChoYlZV9wZ9c"
      },
      "source": [
        "#Вычисляем MSE: Mean Squared Error. RMSE = Root MSE\n",
        "\n",
        "MSE = metrics.mean_squared_error(y_happy, y_happy_pred)\n",
        "print('MSE:', MSE)\n",
        "print('RMSE:', np.sqrt(MSE))"
      ],
      "execution_count": null,
      "outputs": []
    },
    {
      "cell_type": "code",
      "metadata": {
        "id": "nNfO6m0NzVyW"
      },
      "source": [
        "# MAPE - Mean Absolute Percent Error\n",
        "\n",
        "# Для ее вычисления модуль разницы между предсказанием алгоритма и истинным значением \n",
        "# мы делим на истинное значение. \n",
        "# Потом складываем все результаты (для каждого объекта), \n",
        "# делим на количество и умножаем на 100 %. \n",
        "# Итак, эта метрика показывает, на сколько процентов в среднем наше предсказание \n",
        "# отклоняется от реального значения."
      ],
      "execution_count": null,
      "outputs": []
    },
    {
      "cell_type": "code",
      "metadata": {
        "id": "6wVU1By5xnmI"
      },
      "source": [
        "# Вычисляем коэффициент детерминации (истина VS предсказания):\n",
        "\n",
        "R_2 = metrics.r2_score(y_happy, y_happy_pred)\n",
        "print('R_2:',R_2)"
      ],
      "execution_count": null,
      "outputs": []
    },
    {
      "cell_type": "code",
      "metadata": {
        "id": "bdxBHXBZxni5"
      },
      "source": [
        "# Task 3.3.1\n",
        "\n",
        "mean_squared_error([2, 3, -1, 4], [1, 3, 2, 5])\n"
      ],
      "execution_count": null,
      "outputs": []
    },
    {
      "cell_type": "code",
      "metadata": {
        "id": "iM-rxzIgxnfm"
      },
      "source": [
        "#  Task 3.4.5\n",
        "\n",
        "R_2 = metrics.r2_score([2, 3, -1, 4], [1, 3, 2, 5])\n",
        "round(R_2, 2)"
      ],
      "execution_count": null,
      "outputs": []
    },
    {
      "cell_type": "markdown",
      "metadata": {
        "id": "mbx4UITg3t0I"
      },
      "source": [
        "## 3A.5 Линейная регрессия. Предобработка"
      ]
    },
    {
      "cell_type": "code",
      "metadata": {
        "id": "DiEmbB46xnZv"
      },
      "source": [
        "\n",
        "data = pd.read_csv(project_dir + 'data_flats.csv', sep =';')\n",
        "data.head()\n"
      ],
      "execution_count": null,
      "outputs": []
    },
    {
      "cell_type": "code",
      "metadata": {
        "id": "95GM9FJGxnWv"
      },
      "source": [
        "data.info()"
      ],
      "execution_count": null,
      "outputs": []
    },
    {
      "cell_type": "code",
      "metadata": {
        "id": "Rvr7IhV-xdz6"
      },
      "source": [
        "data.isnull().sum()"
      ],
      "execution_count": null,
      "outputs": []
    },
    {
      "cell_type": "code",
      "metadata": {
        "id": "Aywkn8L6xdw9"
      },
      "source": [
        "fig, ax = plt.subplots(figsize=(20,12))\n",
        "sns_heatmap = sns.heatmap(data.isnull(), yticklabels=False, cbar=False, cmap='viridis')"
      ],
      "execution_count": null,
      "outputs": []
    },
    {
      "cell_type": "code",
      "metadata": {
        "id": "pGfZCMIfxduT"
      },
      "source": [
        "data.price_doc.hist()"
      ],
      "execution_count": null,
      "outputs": []
    },
    {
      "cell_type": "code",
      "metadata": {
        "id": "2W9azsDrxnTw"
      },
      "source": [
        "data['price_doc'] = data['price_doc'].apply(lambda w: np.log(w + 1))\n"
      ],
      "execution_count": null,
      "outputs": []
    },
    {
      "cell_type": "code",
      "metadata": {
        "id": "TlM0bZafxnQ2"
      },
      "source": [
        "data.price_doc.hist()"
      ],
      "execution_count": null,
      "outputs": []
    },
    {
      "cell_type": "code",
      "metadata": {
        "id": "CIjZZ2wf0y7S"
      },
      "source": [
        "sns.set(font_scale=1)\n",
        "plt.subplots(figsize=(16, 16))\n",
        "sns.heatmap(data.corr(), square=True, annot=True, fmt=\".1f\", linewidths=0.1, cmap=\"RdBu\")\n"
      ],
      "execution_count": null,
      "outputs": []
    },
    {
      "cell_type": "markdown",
      "metadata": {
        "id": "9F74f0IYuomG"
      },
      "source": [
        "## Model - Tasks 3.5.1\n"
      ]
    },
    {
      "cell_type": "code",
      "metadata": {
        "id": "ALHmP2hd0y3E"
      },
      "source": [
        "df = data.copy()"
      ],
      "execution_count": null,
      "outputs": []
    },
    {
      "cell_type": "code",
      "metadata": {
        "id": "nBOryWN_0yy_"
      },
      "source": [
        "df.columns"
      ],
      "execution_count": null,
      "outputs": []
    },
    {
      "cell_type": "code",
      "metadata": {
        "id": "-QaGB0Q00ylf"
      },
      "source": [
        "# X = df.drop(['id', 'price_doc', 'preschool_education_centers_raion', 'kindergarten_km', 'school_km', 'kremlin_km'], axis=1)\n",
        "df.drop(['id', 'preschool_education_centers_raion', 'kindergarten_km', 'park_km', 'life_sq', 'kremlin_km'], axis=1, inplace=True)\n",
        "\n",
        "df.dropna(inplace=True)\n",
        "\n",
        "# 'price_doc'\n",
        "Y = df['price_doc'].values\n",
        "X = df.drop(['price_doc'], axis=1)"
      ],
      "execution_count": null,
      "outputs": []
    },
    {
      "cell_type": "code",
      "metadata": {
        "id": "jNkc_AVL0ypc"
      },
      "source": [
        "X.shape\n",
        "# (23925, 21)"
      ],
      "execution_count": null,
      "outputs": []
    },
    {
      "cell_type": "code",
      "metadata": {
        "id": "VzEOIuzE9me5"
      },
      "source": [
        "len(Y), len(X), len(X) - len(Y)"
      ],
      "execution_count": null,
      "outputs": []
    },
    {
      "cell_type": "code",
      "metadata": {
        "id": "XPpZd6-6yIaM"
      },
      "source": [
        "X_train, X_test, Y_train, Y_test = train_test_split(X, Y, test_size= 0.2, random_state=77)"
      ],
      "execution_count": null,
      "outputs": []
    },
    {
      "cell_type": "code",
      "metadata": {
        "id": "jOuAE4etzKFv"
      },
      "source": [
        "# Нормализуем обучающую и проверочную выборку по отдельности\n",
        "scaler = RobustScaler()\n",
        "\n",
        "X_train_norm = scaler.fit_transform(X_train)\n",
        "X_test_norm = scaler.fit_transform(X_test)\n"
      ],
      "execution_count": null,
      "outputs": []
    },
    {
      "cell_type": "code",
      "metadata": {
        "id": "CcrWFytsAy8D"
      },
      "source": [
        "%%time\n",
        "# Обучаем модель на тестовом наборе данных\n",
        "\n",
        "model = LinearRegression().fit(X_train_norm, Y_train)"
      ],
      "execution_count": null,
      "outputs": []
    },
    {
      "cell_type": "code",
      "metadata": {
        "id": "89iUzUq0waA1"
      },
      "source": [
        "# Используем обученную модель для предсказания рейтинга ресторанов в тестовой выборке.\n",
        "# Предсказанные значения записываем в переменную y_pred\n",
        "# y_pred = model.predict(X_test)\n",
        "\n",
        "y_pred = model.predict(X_test_norm)"
      ],
      "execution_count": null,
      "outputs": []
    },
    {
      "cell_type": "code",
      "metadata": {
        "id": "MwGZg0u5AZqU"
      },
      "source": [
        ""
      ],
      "execution_count": null,
      "outputs": []
    },
    {
      "cell_type": "code",
      "metadata": {
        "id": "4wv0ClgG_E6s"
      },
      "source": [
        "# Сравниваем предсказанные значения (y_pred) с реальными (y_test), и смотрим насколько они в среднем отличаются\n",
        "\n",
        "# MAE = metrics.mean_absolute_error(np.exp(Y_test) - 1, np.exp(y_pred) - 1)\n",
        "\n",
        "MSE = metrics.mean_squared_error(np.exp(Y_test) - 1, np.exp(y_pred) - 1)\n",
        "\n",
        "# print('MAE:', round(MAE, 0))\n",
        "print('MSE:', int(round(MSE, 0)))\n",
        "\n",
        "# MSE: 16647931507747"
      ],
      "execution_count": null,
      "outputs": []
    },
    {
      "cell_type": "markdown",
      "metadata": {
        "id": "0tPDubLJ43mQ"
      },
      "source": [
        "### 3A.6. Линейная регрессия. Практика №1\n"
      ]
    },
    {
      "cell_type": "code",
      "metadata": {
        "id": "CVlzvma22Ovz"
      },
      "source": [
        "# Задание 3.6.2\n",
        "\n",
        "data = load_boston()"
      ],
      "execution_count": null,
      "outputs": []
    },
    {
      "cell_type": "code",
      "metadata": {
        "id": "p-_xee0K9vIm"
      },
      "source": [
        "data['feature_names']"
      ],
      "execution_count": null,
      "outputs": []
    },
    {
      "cell_type": "code",
      "metadata": {
        "id": "SCmdB-Oh4oIu"
      },
      "source": [
        "X, y = data['data'], data['target']\n",
        "\n",
        "model = LinearRegression()\n",
        "model.fit(X, y)\n"
      ],
      "execution_count": null,
      "outputs": []
    },
    {
      "cell_type": "code",
      "metadata": {
        "id": "noOUj8JN4n7Y"
      },
      "source": [
        "y_pred = model.predict(X)"
      ],
      "execution_count": null,
      "outputs": []
    },
    {
      "cell_type": "code",
      "metadata": {
        "id": "Q0XOZJb64nxa"
      },
      "source": [
        "RMSE = round( np.sqrt(mean_squared_error(y_pred, y)) , 2)\n",
        "print('RMSE:', RMSE)"
      ],
      "execution_count": null,
      "outputs": []
    },
    {
      "cell_type": "code",
      "metadata": {
        "id": "mU3knHPI4neM"
      },
      "source": [
        "# print(data['DESCR'])\n",
        "data['data'].shape"
      ],
      "execution_count": null,
      "outputs": []
    },
    {
      "cell_type": "code",
      "metadata": {
        "id": "HtcQ74KU4nUE"
      },
      "source": [
        "# Задание 3.6.3\n",
        "# У какого из признаков наибольшее стандартное отклонение? Чему оно равно?\n",
        "\n",
        "max_std_val = 0\n",
        "name_column = ''\n",
        "\n",
        "for item in range(data['feature_names'].shape[0]):\n",
        "    # 13\n",
        "    std_value = round(np.std(data['data'][:,item], ddof=0), 2)\n",
        "    if std_value > max_std_val:\n",
        "        max_std_val = std_value\n",
        "        name_column = data['feature_names'][item]\n",
        "    # print(data['feature_names'][item], ': ', std_value , sep='')\n",
        "\n",
        "# print('-'*23)\n",
        "print(name_column, ': ', max_std_val, sep='')"
      ],
      "execution_count": null,
      "outputs": []
    },
    {
      "cell_type": "code",
      "metadata": {
        "id": "JF_vi2J787W-"
      },
      "source": [
        ""
      ],
      "execution_count": null,
      "outputs": []
    },
    {
      "cell_type": "code",
      "metadata": {
        "id": "apfqQGng87D_"
      },
      "source": [
        ""
      ],
      "execution_count": null,
      "outputs": []
    },
    {
      "cell_type": "code",
      "metadata": {
        "id": "bVIh3G5m865X"
      },
      "source": [
        "# data['feature_names'][-2]\n",
        "data['feature_names'][11]"
      ],
      "execution_count": null,
      "outputs": []
    },
    {
      "cell_type": "code",
      "metadata": {
        "id": "TsitorIV86qv"
      },
      "source": [
        "data['data'][:,11] #< 50"
      ],
      "execution_count": null,
      "outputs": []
    },
    {
      "cell_type": "code",
      "metadata": {
        "id": "YKf0Di9Q4nG4"
      },
      "source": [
        ""
      ],
      "execution_count": null,
      "outputs": []
    },
    {
      "cell_type": "markdown",
      "metadata": {
        "id": "nzMyyKhR2PmW"
      },
      "source": [
        "# Классификация"
      ]
    },
    {
      "cell_type": "markdown",
      "metadata": {
        "id": "2xx66E912U_X"
      },
      "source": [
        "## F-Мера"
      ]
    },
    {
      "cell_type": "code",
      "metadata": {
        "id": "fyGRnpCd2Oqm"
      },
      "source": [
        "breast_cancer = load_breast_cancer()\n",
        "type(breast_cancer)"
      ],
      "execution_count": null,
      "outputs": []
    },
    {
      "cell_type": "code",
      "metadata": {
        "id": "U8PSv6Wh2OkS"
      },
      "source": [
        "Y = breast_cancer.target ## Наша целевая переменная, 0 — если рака нет, 1 — если есть \n",
        "X = breast_cancer.data # X - признаки, по которым мы будем предсказывать рак "
      ],
      "execution_count": null,
      "outputs": []
    },
    {
      "cell_type": "code",
      "metadata": {
        "id": "nZ085UZy2Ofn"
      },
      "source": [
        "X_train, X_val, Y_train, Y_val = train_test_split(X, Y, test_size = 0.3)\n"
      ],
      "execution_count": null,
      "outputs": []
    },
    {
      "cell_type": "code",
      "metadata": {
        "id": "CcQ-t4dH2Oa7"
      },
      "source": [
        "model = LogisticRegression()"
      ],
      "execution_count": null,
      "outputs": []
    },
    {
      "cell_type": "code",
      "metadata": {
        "id": "Xixbvdql2OYA"
      },
      "source": [
        "model.fit(X_train, Y_train)"
      ],
      "execution_count": null,
      "outputs": []
    },
    {
      "cell_type": "code",
      "metadata": {
        "id": "GWccQ6_Q2ORh"
      },
      "source": [
        "\n",
        "Y_predicted = model.predict(X_val)"
      ],
      "execution_count": null,
      "outputs": []
    },
    {
      "cell_type": "code",
      "metadata": {
        "id": "jFRZ6Vva2OM3"
      },
      "source": [
        "print(accuracy_score(Y_val, Y_predicted))\n",
        "print(precision_score(Y_val, Y_predicted))\n",
        "print(recall_score(Y_val, Y_predicted))\n",
        "print(f1_score(Y_val, Y_predicted))"
      ],
      "execution_count": null,
      "outputs": []
    },
    {
      "cell_type": "markdown",
      "metadata": {
        "id": "RxHJhNoq9xWH"
      },
      "source": [
        "### Задание 3B2.2"
      ]
    },
    {
      "cell_type": "code",
      "metadata": {
        "id": "AOYTEvgy90jw"
      },
      "source": [
        "from sklearn.datasets import load_iris\n",
        "iris = load_iris()"
      ],
      "execution_count": null,
      "outputs": []
    },
    {
      "cell_type": "code",
      "metadata": {
        "id": "Vnc6Xm2X-ALK"
      },
      "source": [
        "Y = iris.target\n",
        "X = iris.data\n",
        "\n",
        "X_train, X_val, Y_train, Y_val = train_test_split(X, Y, test_size = 0.3, random_state=50)"
      ],
      "execution_count": null,
      "outputs": []
    },
    {
      "cell_type": "code",
      "metadata": {
        "id": "RBykqNQ490aW"
      },
      "source": [
        "model = LogisticRegression()\n",
        "model.fit(X_train, Y_train)\n",
        "\n",
        "Y_predicted = model.predict(X_val)"
      ],
      "execution_count": null,
      "outputs": []
    },
    {
      "cell_type": "code",
      "metadata": {
        "id": "ZRsIRBgF90WI"
      },
      "source": [
        "print(accuracy_score(Y_val, Y_predicted))"
      ],
      "execution_count": null,
      "outputs": []
    },
    {
      "cell_type": "markdown",
      "metadata": {
        "id": "hgaGH55J_rH8"
      },
      "source": [
        "### 3B.3. Классификация. Практика"
      ]
    },
    {
      "cell_type": "code",
      "metadata": {
        "id": "Hohx4XOH90Os"
      },
      "source": [
        "os.listdir(project_dir + 'u6')"
      ],
      "execution_count": null,
      "outputs": []
    },
    {
      "cell_type": "code",
      "metadata": {
        "id": "rzzmn7p190Iw"
      },
      "source": [
        "tmob = pd.read_csv(project_dir + 'u6/' + 'train_mobile.csv', sep =';')\n",
        "tmob.head()"
      ],
      "execution_count": null,
      "outputs": []
    },
    {
      "cell_type": "code",
      "metadata": {
        "id": "BnA85GiJ2OJd"
      },
      "source": [
        "tmob.columns"
      ],
      "execution_count": null,
      "outputs": []
    },
    {
      "cell_type": "code",
      "metadata": {
        "id": "7WQ4fEh42OFc"
      },
      "source": [
        "sns.set(font_scale=1)\n",
        "plt.subplots(figsize=(16, 16))\n",
        "sns.heatmap(tmob.corr(), square=True, annot=True, fmt=\".2f\", linewidths=0.1, cmap=\"RdBu\")"
      ],
      "execution_count": null,
      "outputs": []
    },
    {
      "cell_type": "code",
      "metadata": {
        "id": "yw-EaIwmDy14"
      },
      "source": [
        "df_corr = tmob.corr()\n",
        "sns.heatmap(df_corr)"
      ],
      "execution_count": null,
      "outputs": []
    },
    {
      "cell_type": "code",
      "metadata": {
        "id": "91T14oz_EdX_"
      },
      "source": [
        "df_corr['price_range'].sort_values(ascending=False).head(5).tail(4)"
      ],
      "execution_count": null,
      "outputs": []
    },
    {
      "cell_type": "code",
      "metadata": {
        "id": "03DUseU3Ey5Z"
      },
      "source": [
        "df_corr['price_range'].sort_values().head(1)"
      ],
      "execution_count": null,
      "outputs": []
    },
    {
      "cell_type": "code",
      "metadata": {
        "id": "lobWGcp-2OBK"
      },
      "source": [
        "X = tmob[['ram', 'battery_power', 'px_width', 'px_height', 'touch_screen']]\n",
        "Y = tmob[['price_range']]\n"
      ],
      "execution_count": null,
      "outputs": []
    },
    {
      "cell_type": "code",
      "metadata": {
        "id": "uiqMJloq_BGJ"
      },
      "source": [
        "X_train, X_val, Y_train, Y_val = train_test_split(X, Y, test_size = 0.2, random_state=31)\n",
        "model = LogisticRegression()\n",
        "\n",
        "model.fit(X_train, Y_train)\n",
        "\n",
        "Y_predicted = model.predict(X_val)"
      ],
      "execution_count": null,
      "outputs": []
    },
    {
      "cell_type": "code",
      "metadata": {
        "id": "BLvS01_2HIUr"
      },
      "source": [
        "round(precision_score(Y_val, Y_predicted), 4)"
      ],
      "execution_count": null,
      "outputs": []
    },
    {
      "cell_type": "markdown",
      "metadata": {
        "id": "wEt2hf1yvuhF"
      },
      "source": [
        "### 3B.6. Логистическая регрессия. Практика"
      ]
    },
    {
      "cell_type": "code",
      "metadata": {
        "id": "jLeohgvaHIL2"
      },
      "source": [
        "adult = pd.read_csv(project_dir + 'u6/' + 'adult.data',\n",
        "                    names=['age', 'workclass', 'fnlwgt', 'education',\n",
        "                           'education-num', 'marital-status', 'occupation',\n",
        "                           'relationship', 'race', 'sex', 'capital-gain',\n",
        "                           'capital-loss', 'hours-per-week', 'native-country', 'salary'])"
      ],
      "execution_count": null,
      "outputs": []
    },
    {
      "cell_type": "code",
      "metadata": {
        "id": "0tatXNsj2Dzj"
      },
      "source": [
        "# Избавиться от лишних признаков\n",
        "adult.drop(['native-country'], axis=1, inplace=True)\n",
        "\n",
        "# Сконвертировать целевой столбец в бинарные значения\n",
        "adult['salary'] = (adult['salary'] != ' <=50K').astype('int32')\n"
      ],
      "execution_count": null,
      "outputs": []
    },
    {
      "cell_type": "code",
      "metadata": {
        "id": "B0lZoKwlHIDa"
      },
      "source": [
        "# Нормализовать нуждающиеся в этом признаки\n",
        "a_features = adult[['age', 'education-num', 'hours-per-week', 'fnlwgt', 'capital-gain', 'capital-loss']].values\n",
        "norm_features = (a_features - a_features.mean(axis=0)) / a_features.std(axis=0)\n",
        "\n",
        "adult.loc[:, ['age', 'education-num', 'hours-per-week', 'fnlwgt', 'capital-gain', 'capital-loss']] = norm_features\n"
      ],
      "execution_count": null,
      "outputs": []
    },
    {
      "cell_type": "code",
      "metadata": {
        "id": "MRNbImnm7A1U"
      },
      "source": [
        "# Сделать one-hot encoding для некоторых признаков\n",
        "adult = pd.get_dummies(adult, columns=['workclass', 'education', 'marital-status', 'occupation', 'relationship', 'race', 'sex'])\n",
        "\n"
      ],
      "execution_count": null,
      "outputs": []
    },
    {
      "cell_type": "code",
      "metadata": {
        "id": "H9dyIBCl7Clk"
      },
      "source": [
        "adult.head()"
      ],
      "execution_count": null,
      "outputs": []
    },
    {
      "cell_type": "code",
      "metadata": {
        "id": "FhLZadjly8ct"
      },
      "source": [
        "Y = adult['salary'].values\n",
        "\n",
        "new_columns = list(set(adult.columns) - set(['salary']))\n",
        "X = adult[new_columns].values\n",
        "\n",
        "# Добавить фиктивный столбец единиц (bias линейной модели)\n",
        "X = np.hstack([np.ones(X.shape[0])[:, np.newaxis], X])\n"
      ],
      "execution_count": null,
      "outputs": []
    },
    {
      "cell_type": "code",
      "metadata": {
        "id": "dcb4M8KRv0P8"
      },
      "source": [
        "model = LogisticRegression()\n",
        "\n",
        "model.fit(X, Y)\n",
        "\n",
        "Y_predicted = model.predict(X)"
      ],
      "execution_count": null,
      "outputs": []
    },
    {
      "cell_type": "code",
      "metadata": {
        "id": "urWlnMvCv0GS"
      },
      "source": [
        "# print(accuracy_score(Y, Y_predicted))\n",
        "# print(precision_score(Y, Y_predicted))\n",
        "# print(recall_score(Y, Y_predicted))\n",
        "\n",
        "round(f1_score(Y, Y_predicted), 2)\n"
      ],
      "execution_count": null,
      "outputs": []
    },
    {
      "cell_type": "code",
      "metadata": {
        "id": "HAaS7Y9t4YT4"
      },
      "source": [
        "# Задание 3B.6.2\n",
        "\n",
        "confusion_matrix(Y, Y_predicted)"
      ],
      "execution_count": null,
      "outputs": []
    },
    {
      "cell_type": "code",
      "metadata": {
        "id": "gfMlgWRL-zpr"
      },
      "source": [
        "# Отрисовать ROC кривую\n",
        "def calc_and_plot_roc(y_true, y_pred_proba):\n",
        "    # Посчитать значения ROC кривой и значение площади под кривой AUC\n",
        "    fpr, tpr, thresholds = roc_curve(y_true, y_pred_proba)\n",
        "    roc_auc = roc_auc_score(y_true, y_pred_proba)\n",
        "    \n",
        "    plt.figure(figsize=(8, 8))\n",
        "    plt.plot(fpr, tpr, label=f'AUC = {roc_auc:.2f}')\n",
        "    plt.title('Receiver Operating Characteristic', fontsize=14)\n",
        "    plt.xlabel('False positive rate (FPR)', fontsize=14)\n",
        "    plt.ylabel('True positive rate (TPR)', fontsize=14)\n",
        "    plt.legend(fontsize=14)"
      ],
      "execution_count": null,
      "outputs": []
    },
    {
      "cell_type": "code",
      "metadata": {
        "id": "gBlS8n3E4YKJ"
      },
      "source": [
        "# Задание 3B.6.3\n",
        "# roc_curve(Y, Y_predicted, pos_label=2)\n",
        "# roc_curve(Y, Y_predicted)\n",
        "\n",
        "calc_and_plot_roc(Y, Y_predicted)\n"
      ],
      "execution_count": null,
      "outputs": []
    },
    {
      "cell_type": "code",
      "metadata": {
        "id": "FgZEtR9g4YDr"
      },
      "source": [
        ""
      ],
      "execution_count": null,
      "outputs": []
    },
    {
      "cell_type": "markdown",
      "metadata": {
        "id": "JwlZ-BIMkDl1"
      },
      "source": [
        "## Валидация данных и оценка модели"
      ]
    },
    {
      "cell_type": "code",
      "metadata": {
        "id": "2Q3_ak6LkCpX"
      },
      "source": [
        "from sklearn.model_selection import KFold \n",
        "\n",
        "X = np.array([[1, 2], [3, 4], [1, 2], [3, 4]]) \n",
        "y = np.array([1, 2, 3, 4]) \n",
        "\n",
        "kf = KFold(n_splits =2 )  #реализация разбиения"
      ],
      "execution_count": null,
      "outputs": []
    },
    {
      "cell_type": "code",
      "metadata": {
        "id": "0LjMJvqfkCg3"
      },
      "source": [
        "kf.get_n_splits(X) #возвращает количество разбиений\n",
        "kf.split(X) #возвращает индексы для разбиения"
      ],
      "execution_count": null,
      "outputs": []
    },
    {
      "cell_type": "code",
      "metadata": {
        "id": "uSNk3cv9kCFR"
      },
      "source": [
        ""
      ],
      "execution_count": null,
      "outputs": []
    },
    {
      "cell_type": "code",
      "metadata": {
        "id": "IbyiSbpSkB6y"
      },
      "source": [
        "# Задание 4.3.1\n",
        "from sklearn.model_selection import train_test_split\n",
        "file_patch = project_dir + 'u6/' + 'train.csv'\n",
        "# os.listdir(project_dir + 'u6/')\n",
        "vis_data = pd.read_csv(file_patch, encoding = 'ISO-8859-1', low_memory = False)\n",
        "\n",
        "# сдать этот код\n",
        "X_train, X_test = train_test_split(vis_data, shuffle=False, train_size=0.7)\n",
        "result = X_test['payment_amount'].mean()"
      ],
      "execution_count": null,
      "outputs": []
    },
    {
      "cell_type": "code",
      "metadata": {
        "id": "VMgKawELpWyL"
      },
      "source": [
        "vis_data.shape"
      ],
      "execution_count": null,
      "outputs": []
    },
    {
      "cell_type": "code",
      "metadata": {
        "id": "HxSpaC2nkBzM"
      },
      "source": [
        "# Задание 4.4.5\n",
        "y_true = [1.23, 2.35, 2.75]\n",
        "y_pred = [1.01, 12.3, 2.74]\n",
        "\n",
        "MSE = metrics.mean_squared_error(y_true, y_pred)\n",
        "print('MSE:', round(MSE, 2))\n",
        "print('RMSE:', round(np.sqrt(MSE), 2))"
      ],
      "execution_count": null,
      "outputs": []
    },
    {
      "cell_type": "code",
      "metadata": {
        "id": "t8GOakdGkBq7"
      },
      "source": [
        "# Задание 4.5.1\n",
        "\n",
        "\n"
      ],
      "execution_count": null,
      "outputs": []
    },
    {
      "cell_type": "code",
      "metadata": {
        "id": "hRiryFvQkBi-"
      },
      "source": [
        ""
      ],
      "execution_count": null,
      "outputs": []
    },
    {
      "cell_type": "code",
      "metadata": {
        "id": "uIvFr0LOkBaZ"
      },
      "source": [
        ""
      ],
      "execution_count": null,
      "outputs": []
    },
    {
      "cell_type": "code",
      "metadata": {
        "id": "LCSI2S7ykBPd"
      },
      "source": [
        ""
      ],
      "execution_count": null,
      "outputs": []
    },
    {
      "cell_type": "code",
      "metadata": {
        "id": "_nInM72OkBGa"
      },
      "source": [
        ""
      ],
      "execution_count": null,
      "outputs": []
    },
    {
      "cell_type": "code",
      "metadata": {
        "id": "OE4mN4yUkA-N"
      },
      "source": [
        ""
      ],
      "execution_count": null,
      "outputs": []
    },
    {
      "cell_type": "code",
      "metadata": {
        "id": "BIWHO_srkA0u"
      },
      "source": [
        ""
      ],
      "execution_count": null,
      "outputs": []
    },
    {
      "cell_type": "code",
      "metadata": {
        "id": "l7Dg0c3N4X6O"
      },
      "source": [
        ""
      ],
      "execution_count": null,
      "outputs": []
    },
    {
      "cell_type": "code",
      "metadata": {
        "id": "xS6l6P6WHH7M"
      },
      "source": [
        ""
      ],
      "execution_count": null,
      "outputs": []
    },
    {
      "cell_type": "code",
      "metadata": {
        "id": "B_KhaVLpHH1f"
      },
      "source": [
        ""
      ],
      "execution_count": null,
      "outputs": []
    },
    {
      "cell_type": "code",
      "metadata": {
        "id": "Z5hKtufJHHtH"
      },
      "source": [
        ""
      ],
      "execution_count": null,
      "outputs": []
    },
    {
      "cell_type": "markdown",
      "metadata": {
        "id": "q6tcdcO6-hTk"
      },
      "source": [
        "# END"
      ]
    },
    {
      "cell_type": "code",
      "metadata": {
        "id": "066hJiQg-vBG"
      },
      "source": [
        ""
      ],
      "execution_count": null,
      "outputs": []
    }
  ]
}