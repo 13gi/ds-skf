{
  "nbformat": 4,
  "nbformat_minor": 0,
  "metadata": {
    "colab": {
      "name": "u3-1-ML-2.ipynb",
      "provenance": [],
      "collapsed_sections": [],
      "mount_file_id": "1eSUUjmsC48Bx5jxZwVRxpet2Gu3AP7Xj",
      "authorship_tag": "ABX9TyP7au2QH1zY427rJMvLNCGg"
    },
    "kernelspec": {
      "name": "python3",
      "display_name": "Python 3"
    }
  },
  "cells": [
    {
      "cell_type": "markdown",
      "metadata": {
        "id": "lQ2xJBLs8u0T",
        "colab_type": "text"
      },
      "source": [
        "# START"
      ]
    },
    {
      "cell_type": "code",
      "metadata": {
        "id": "LP_TeuBx8sFV",
        "colab_type": "code",
        "colab": {}
      },
      "source": [
        "import warnings; warnings.simplefilter('ignore')\n",
        "\n",
        "import random\n",
        "\n",
        "import pandas as pd\n",
        "import numpy as np\n",
        "import os\n",
        "import re\n",
        "\n",
        "from sklearn.preprocessing import MinMaxScaler\n",
        "from sklearn.preprocessing import StandardScaler\n",
        "from sklearn.preprocessing import PolynomialFeatures\n",
        "\n",
        "import matplotlib.pyplot as plt\n",
        "import seaborn as sns\n",
        "import cufflinks as cf\n",
        "from plotly.offline import download_plotlyjs, init_notebook_mode, plot, iplot\n",
        "\n",
        "project_dir = r'/content/drive/My Drive/Colab Notebooks/'\n",
        "\n",
        "%matplotlib inline\n"
      ],
      "execution_count": 1,
      "outputs": []
    },
    {
      "cell_type": "code",
      "metadata": {
        "id": "NjbkNXn0_rmp",
        "colab_type": "code",
        "colab": {}
      },
      "source": [
        ""
      ],
      "execution_count": 1,
      "outputs": []
    },
    {
      "cell_type": "code",
      "metadata": {
        "id": "_ET1nhR_86vL",
        "colab_type": "code",
        "colab": {}
      },
      "source": [
        "# os.listdir(project_dir + 'data/u3/')\n",
        "in_file = project_dir + 'data/u3/' + 'data_flats.csv'"
      ],
      "execution_count": 2,
      "outputs": []
    },
    {
      "cell_type": "markdown",
      "metadata": {
        "id": "F-xeKNvb88ry",
        "colab_type": "text"
      },
      "source": [
        "## 2.3"
      ]
    },
    {
      "cell_type": "code",
      "metadata": {
        "id": "s9qPjrbg8sB4",
        "colab_type": "code",
        "colab": {
          "base_uri": "https://localhost:8080/",
          "height": 241
        },
        "outputId": "4aeea45f-9f12-413d-c51f-f647bfa14429"
      },
      "source": [
        "data = pd.read_csv(in_file ,sep=\";\")\n",
        "data.head()"
      ],
      "execution_count": 3,
      "outputs": [
        {
          "output_type": "execute_result",
          "data": {
            "text/html": [
              "<div>\n",
              "<style scoped>\n",
              "    .dataframe tbody tr th:only-of-type {\n",
              "        vertical-align: middle;\n",
              "    }\n",
              "\n",
              "    .dataframe tbody tr th {\n",
              "        vertical-align: top;\n",
              "    }\n",
              "\n",
              "    .dataframe thead th {\n",
              "        text-align: right;\n",
              "    }\n",
              "</style>\n",
              "<table border=\"1\" class=\"dataframe\">\n",
              "  <thead>\n",
              "    <tr style=\"text-align: right;\">\n",
              "      <th></th>\n",
              "      <th>id</th>\n",
              "      <th>full_sq</th>\n",
              "      <th>life_sq</th>\n",
              "      <th>floor</th>\n",
              "      <th>sub_area</th>\n",
              "      <th>preschool_quota</th>\n",
              "      <th>preschool_education_centers_raion</th>\n",
              "      <th>school_quota</th>\n",
              "      <th>school_education_centers_raion</th>\n",
              "      <th>school_education_centers_top_20_raion</th>\n",
              "      <th>hospital_beds_raion</th>\n",
              "      <th>healthcare_centers_raion</th>\n",
              "      <th>university_top_20_raion</th>\n",
              "      <th>sport_objects_raion</th>\n",
              "      <th>additional_education_raion</th>\n",
              "      <th>culture_objects_top_25_raion</th>\n",
              "      <th>shopping_centers_raion</th>\n",
              "      <th>office_raion</th>\n",
              "      <th>metro_min_avto</th>\n",
              "      <th>metro_km_avto</th>\n",
              "      <th>metro_min_walk</th>\n",
              "      <th>metro_km_walk</th>\n",
              "      <th>kindergarten_km</th>\n",
              "      <th>school_km</th>\n",
              "      <th>park_km</th>\n",
              "      <th>green_zone_km</th>\n",
              "      <th>industrial_km</th>\n",
              "      <th>railroad_station_walk_km</th>\n",
              "      <th>railroad_station_walk_min</th>\n",
              "      <th>public_transport_station_km</th>\n",
              "      <th>public_transport_station_min_walk</th>\n",
              "      <th>mkad_km</th>\n",
              "      <th>ttk_km</th>\n",
              "      <th>sadovoe_km</th>\n",
              "      <th>bulvar_ring_km</th>\n",
              "      <th>kremlin_km</th>\n",
              "      <th>big_market_km</th>\n",
              "      <th>market_shop_km</th>\n",
              "      <th>fitness_km</th>\n",
              "      <th>swim_pool_km</th>\n",
              "      <th>ice_rink_km</th>\n",
              "      <th>stadium_km</th>\n",
              "      <th>basketball_km</th>\n",
              "      <th>hospice_morgue_km</th>\n",
              "      <th>university_km</th>\n",
              "      <th>workplaces_km</th>\n",
              "      <th>shopping_centers_km</th>\n",
              "      <th>office_km</th>\n",
              "      <th>additional_education_km</th>\n",
              "      <th>preschool_km</th>\n",
              "      <th>big_church_km</th>\n",
              "      <th>church_synagogue_km</th>\n",
              "      <th>theater_km</th>\n",
              "      <th>museum_km</th>\n",
              "      <th>ecology</th>\n",
              "      <th>price_doc</th>\n",
              "    </tr>\n",
              "  </thead>\n",
              "  <tbody>\n",
              "    <tr>\n",
              "      <th>0</th>\n",
              "      <td>1</td>\n",
              "      <td>43</td>\n",
              "      <td>27.0</td>\n",
              "      <td>4.0</td>\n",
              "      <td>Bibirevo</td>\n",
              "      <td>5001.0</td>\n",
              "      <td>5</td>\n",
              "      <td>11065.0</td>\n",
              "      <td>5</td>\n",
              "      <td>0</td>\n",
              "      <td>240.0</td>\n",
              "      <td>1</td>\n",
              "      <td>0</td>\n",
              "      <td>7</td>\n",
              "      <td>3</td>\n",
              "      <td>0</td>\n",
              "      <td>16</td>\n",
              "      <td>1</td>\n",
              "      <td>2.590241</td>\n",
              "      <td>1.131260</td>\n",
              "      <td>13.575119</td>\n",
              "      <td>1.131260</td>\n",
              "      <td>0.145700</td>\n",
              "      <td>0.177975</td>\n",
              "      <td>2.158587</td>\n",
              "      <td>0.600973</td>\n",
              "      <td>1.080934</td>\n",
              "      <td>5.419893</td>\n",
              "      <td>65.038716</td>\n",
              "      <td>0.274985</td>\n",
              "      <td>3.299822</td>\n",
              "      <td>1.422391</td>\n",
              "      <td>10.918587</td>\n",
              "      <td>13.100618</td>\n",
              "      <td>13.675657</td>\n",
              "      <td>15.156211</td>\n",
              "      <td>10.814172</td>\n",
              "      <td>1.676258</td>\n",
              "      <td>0.485841</td>\n",
              "      <td>3.065047</td>\n",
              "      <td>1.107594</td>\n",
              "      <td>8.148591</td>\n",
              "      <td>3.516513</td>\n",
              "      <td>2.392353</td>\n",
              "      <td>6.715026</td>\n",
              "      <td>0.884350</td>\n",
              "      <td>0.648488</td>\n",
              "      <td>0.637189</td>\n",
              "      <td>0.947962</td>\n",
              "      <td>0.177975</td>\n",
              "      <td>0.625783</td>\n",
              "      <td>0.628187</td>\n",
              "      <td>14.053047</td>\n",
              "      <td>7.389498</td>\n",
              "      <td>good</td>\n",
              "      <td>5850000</td>\n",
              "    </tr>\n",
              "    <tr>\n",
              "      <th>1</th>\n",
              "      <td>2</td>\n",
              "      <td>34</td>\n",
              "      <td>19.0</td>\n",
              "      <td>3.0</td>\n",
              "      <td>Nagatinskij Zaton</td>\n",
              "      <td>3119.0</td>\n",
              "      <td>5</td>\n",
              "      <td>6237.0</td>\n",
              "      <td>8</td>\n",
              "      <td>0</td>\n",
              "      <td>229.0</td>\n",
              "      <td>1</td>\n",
              "      <td>0</td>\n",
              "      <td>6</td>\n",
              "      <td>1</td>\n",
              "      <td>1</td>\n",
              "      <td>3</td>\n",
              "      <td>0</td>\n",
              "      <td>0.936700</td>\n",
              "      <td>0.647337</td>\n",
              "      <td>7.620630</td>\n",
              "      <td>0.635053</td>\n",
              "      <td>0.147754</td>\n",
              "      <td>0.273345</td>\n",
              "      <td>0.550690</td>\n",
              "      <td>0.065321</td>\n",
              "      <td>0.966479</td>\n",
              "      <td>3.411993</td>\n",
              "      <td>40.943917</td>\n",
              "      <td>0.065263</td>\n",
              "      <td>0.783160</td>\n",
              "      <td>9.503405</td>\n",
              "      <td>3.103996</td>\n",
              "      <td>6.444333</td>\n",
              "      <td>8.132640</td>\n",
              "      <td>8.698054</td>\n",
              "      <td>6.910568</td>\n",
              "      <td>3.424716</td>\n",
              "      <td>0.668364</td>\n",
              "      <td>2.000154</td>\n",
              "      <td>8.972823</td>\n",
              "      <td>6.127073</td>\n",
              "      <td>1.161579</td>\n",
              "      <td>2.543747</td>\n",
              "      <td>1.852560</td>\n",
              "      <td>0.686252</td>\n",
              "      <td>0.519311</td>\n",
              "      <td>0.688796</td>\n",
              "      <td>1.072315</td>\n",
              "      <td>0.273345</td>\n",
              "      <td>0.967821</td>\n",
              "      <td>0.471447</td>\n",
              "      <td>6.829889</td>\n",
              "      <td>0.709260</td>\n",
              "      <td>excellent</td>\n",
              "      <td>6000000</td>\n",
              "    </tr>\n",
              "    <tr>\n",
              "      <th>2</th>\n",
              "      <td>3</td>\n",
              "      <td>43</td>\n",
              "      <td>29.0</td>\n",
              "      <td>2.0</td>\n",
              "      <td>Tekstil'shhiki</td>\n",
              "      <td>1463.0</td>\n",
              "      <td>4</td>\n",
              "      <td>5580.0</td>\n",
              "      <td>7</td>\n",
              "      <td>0</td>\n",
              "      <td>1183.0</td>\n",
              "      <td>1</td>\n",
              "      <td>0</td>\n",
              "      <td>5</td>\n",
              "      <td>1</td>\n",
              "      <td>0</td>\n",
              "      <td>0</td>\n",
              "      <td>1</td>\n",
              "      <td>2.120999</td>\n",
              "      <td>1.637996</td>\n",
              "      <td>17.351515</td>\n",
              "      <td>1.445960</td>\n",
              "      <td>0.049102</td>\n",
              "      <td>0.158072</td>\n",
              "      <td>0.374848</td>\n",
              "      <td>0.453172</td>\n",
              "      <td>0.939275</td>\n",
              "      <td>1.277658</td>\n",
              "      <td>15.331896</td>\n",
              "      <td>0.328756</td>\n",
              "      <td>3.945073</td>\n",
              "      <td>5.604800</td>\n",
              "      <td>2.927487</td>\n",
              "      <td>6.963403</td>\n",
              "      <td>8.054252</td>\n",
              "      <td>9.067885</td>\n",
              "      <td>5.752368</td>\n",
              "      <td>1.375443</td>\n",
              "      <td>0.733101</td>\n",
              "      <td>1.239304</td>\n",
              "      <td>1.978517</td>\n",
              "      <td>0.767569</td>\n",
              "      <td>1.952771</td>\n",
              "      <td>0.621357</td>\n",
              "      <td>0.841254</td>\n",
              "      <td>1.510089</td>\n",
              "      <td>1.486533</td>\n",
              "      <td>1.543049</td>\n",
              "      <td>0.391957</td>\n",
              "      <td>0.158072</td>\n",
              "      <td>3.178751</td>\n",
              "      <td>0.755946</td>\n",
              "      <td>4.273200</td>\n",
              "      <td>3.156423</td>\n",
              "      <td>poor</td>\n",
              "      <td>5700000</td>\n",
              "    </tr>\n",
              "    <tr>\n",
              "      <th>3</th>\n",
              "      <td>4</td>\n",
              "      <td>89</td>\n",
              "      <td>50.0</td>\n",
              "      <td>9.0</td>\n",
              "      <td>Mitino</td>\n",
              "      <td>6839.0</td>\n",
              "      <td>9</td>\n",
              "      <td>17063.0</td>\n",
              "      <td>10</td>\n",
              "      <td>0</td>\n",
              "      <td>NaN</td>\n",
              "      <td>1</td>\n",
              "      <td>0</td>\n",
              "      <td>17</td>\n",
              "      <td>6</td>\n",
              "      <td>0</td>\n",
              "      <td>11</td>\n",
              "      <td>4</td>\n",
              "      <td>1.489049</td>\n",
              "      <td>0.984537</td>\n",
              "      <td>11.565624</td>\n",
              "      <td>0.963802</td>\n",
              "      <td>0.179441</td>\n",
              "      <td>0.236455</td>\n",
              "      <td>0.078090</td>\n",
              "      <td>0.106125</td>\n",
              "      <td>0.451173</td>\n",
              "      <td>4.291432</td>\n",
              "      <td>51.497190</td>\n",
              "      <td>0.131597</td>\n",
              "      <td>1.579164</td>\n",
              "      <td>2.677824</td>\n",
              "      <td>14.606501</td>\n",
              "      <td>17.457198</td>\n",
              "      <td>18.309433</td>\n",
              "      <td>19.487005</td>\n",
              "      <td>27.892717</td>\n",
              "      <td>0.811275</td>\n",
              "      <td>0.623484</td>\n",
              "      <td>1.950317</td>\n",
              "      <td>6.483172</td>\n",
              "      <td>7.385521</td>\n",
              "      <td>4.923843</td>\n",
              "      <td>3.549558</td>\n",
              "      <td>10.903161</td>\n",
              "      <td>0.622272</td>\n",
              "      <td>0.599914</td>\n",
              "      <td>0.934273</td>\n",
              "      <td>0.892674</td>\n",
              "      <td>0.236455</td>\n",
              "      <td>1.031777</td>\n",
              "      <td>1.561505</td>\n",
              "      <td>16.990677</td>\n",
              "      <td>16.041521</td>\n",
              "      <td>good</td>\n",
              "      <td>13100000</td>\n",
              "    </tr>\n",
              "    <tr>\n",
              "      <th>4</th>\n",
              "      <td>5</td>\n",
              "      <td>77</td>\n",
              "      <td>77.0</td>\n",
              "      <td>4.0</td>\n",
              "      <td>Basmannoe</td>\n",
              "      <td>3240.0</td>\n",
              "      <td>7</td>\n",
              "      <td>7770.0</td>\n",
              "      <td>9</td>\n",
              "      <td>0</td>\n",
              "      <td>562.0</td>\n",
              "      <td>4</td>\n",
              "      <td>2</td>\n",
              "      <td>25</td>\n",
              "      <td>2</td>\n",
              "      <td>0</td>\n",
              "      <td>10</td>\n",
              "      <td>93</td>\n",
              "      <td>1.257186</td>\n",
              "      <td>0.876620</td>\n",
              "      <td>8.266305</td>\n",
              "      <td>0.688859</td>\n",
              "      <td>0.247901</td>\n",
              "      <td>0.376838</td>\n",
              "      <td>0.258289</td>\n",
              "      <td>0.236214</td>\n",
              "      <td>0.392871</td>\n",
              "      <td>0.853960</td>\n",
              "      <td>10.247521</td>\n",
              "      <td>0.071480</td>\n",
              "      <td>0.857764</td>\n",
              "      <td>11.616653</td>\n",
              "      <td>1.721834</td>\n",
              "      <td>0.046810</td>\n",
              "      <td>0.787593</td>\n",
              "      <td>2.578671</td>\n",
              "      <td>9.155057</td>\n",
              "      <td>1.969738</td>\n",
              "      <td>0.220288</td>\n",
              "      <td>2.544696</td>\n",
              "      <td>3.975401</td>\n",
              "      <td>3.610754</td>\n",
              "      <td>0.307915</td>\n",
              "      <td>1.864637</td>\n",
              "      <td>0.991683</td>\n",
              "      <td>0.892668</td>\n",
              "      <td>0.429052</td>\n",
              "      <td>0.077901</td>\n",
              "      <td>0.810801</td>\n",
              "      <td>0.376838</td>\n",
              "      <td>0.378756</td>\n",
              "      <td>0.121681</td>\n",
              "      <td>1.112486</td>\n",
              "      <td>1.800125</td>\n",
              "      <td>excellent</td>\n",
              "      <td>16331452</td>\n",
              "    </tr>\n",
              "  </tbody>\n",
              "</table>\n",
              "</div>"
            ],
            "text/plain": [
              "   id  full_sq  life_sq  floor  ... theater_km  museum_km    ecology  price_doc\n",
              "0   1       43     27.0    4.0  ...  14.053047   7.389498       good    5850000\n",
              "1   2       34     19.0    3.0  ...   6.829889   0.709260  excellent    6000000\n",
              "2   3       43     29.0    2.0  ...   4.273200   3.156423       poor    5700000\n",
              "3   4       89     50.0    9.0  ...  16.990677  16.041521       good   13100000\n",
              "4   5       77     77.0    4.0  ...   1.112486   1.800125  excellent   16331452\n",
              "\n",
              "[5 rows x 56 columns]"
            ]
          },
          "metadata": {
            "tags": []
          },
          "execution_count": 3
        }
      ]
    },
    {
      "cell_type": "code",
      "metadata": {
        "id": "4802YnR98r_D",
        "colab_type": "code",
        "colab": {
          "base_uri": "https://localhost:8080/",
          "height": 1000
        },
        "outputId": "9d46f393-0752-4f3f-d8f0-b347c604c4d1"
      },
      "source": [
        "data.info()"
      ],
      "execution_count": 4,
      "outputs": [
        {
          "output_type": "stream",
          "text": [
            "<class 'pandas.core.frame.DataFrame'>\n",
            "RangeIndex: 30469 entries, 0 to 30468\n",
            "Data columns (total 56 columns):\n",
            " #   Column                                 Non-Null Count  Dtype  \n",
            "---  ------                                 --------------  -----  \n",
            " 0   id                                     30469 non-null  int64  \n",
            " 1   full_sq                                30469 non-null  int64  \n",
            " 2   life_sq                                24086 non-null  float64\n",
            " 3   floor                                  30302 non-null  float64\n",
            " 4   sub_area                               30469 non-null  object \n",
            " 5   preschool_quota                        23781 non-null  float64\n",
            " 6   preschool_education_centers_raion      30469 non-null  int64  \n",
            " 7   school_quota                           23784 non-null  float64\n",
            " 8   school_education_centers_raion         30469 non-null  int64  \n",
            " 9   school_education_centers_top_20_raion  30469 non-null  int64  \n",
            " 10  hospital_beds_raion                    16029 non-null  float64\n",
            " 11  healthcare_centers_raion               30469 non-null  int64  \n",
            " 12  university_top_20_raion                30469 non-null  int64  \n",
            " 13  sport_objects_raion                    30469 non-null  int64  \n",
            " 14  additional_education_raion             30469 non-null  int64  \n",
            " 15  culture_objects_top_25_raion           30469 non-null  int64  \n",
            " 16  shopping_centers_raion                 30469 non-null  int64  \n",
            " 17  office_raion                           30469 non-null  int64  \n",
            " 18  metro_min_avto                         30469 non-null  float64\n",
            " 19  metro_km_avto                          30469 non-null  float64\n",
            " 20  metro_min_walk                         30444 non-null  float64\n",
            " 21  metro_km_walk                          30444 non-null  float64\n",
            " 22  kindergarten_km                        30469 non-null  float64\n",
            " 23  school_km                              30469 non-null  float64\n",
            " 24  park_km                                30469 non-null  float64\n",
            " 25  green_zone_km                          30469 non-null  float64\n",
            " 26  industrial_km                          30469 non-null  float64\n",
            " 27  railroad_station_walk_km               30444 non-null  float64\n",
            " 28  railroad_station_walk_min              30444 non-null  float64\n",
            " 29  public_transport_station_km            30469 non-null  float64\n",
            " 30  public_transport_station_min_walk      30469 non-null  float64\n",
            " 31  mkad_km                                30469 non-null  float64\n",
            " 32  ttk_km                                 30469 non-null  float64\n",
            " 33  sadovoe_km                             30469 non-null  float64\n",
            " 34  bulvar_ring_km                         30469 non-null  float64\n",
            " 35  kremlin_km                             30469 non-null  float64\n",
            " 36  big_market_km                          30469 non-null  float64\n",
            " 37  market_shop_km                         30469 non-null  float64\n",
            " 38  fitness_km                             30469 non-null  float64\n",
            " 39  swim_pool_km                           30469 non-null  float64\n",
            " 40  ice_rink_km                            30469 non-null  float64\n",
            " 41  stadium_km                             30469 non-null  float64\n",
            " 42  basketball_km                          30469 non-null  float64\n",
            " 43  hospice_morgue_km                      30469 non-null  float64\n",
            " 44  university_km                          30469 non-null  float64\n",
            " 45  workplaces_km                          30469 non-null  float64\n",
            " 46  shopping_centers_km                    30469 non-null  float64\n",
            " 47  office_km                              30469 non-null  float64\n",
            " 48  additional_education_km                30469 non-null  float64\n",
            " 49  preschool_km                           30469 non-null  float64\n",
            " 50  big_church_km                          30469 non-null  float64\n",
            " 51  church_synagogue_km                    30469 non-null  float64\n",
            " 52  theater_km                             30469 non-null  float64\n",
            " 53  museum_km                              30469 non-null  float64\n",
            " 54  ecology                                30469 non-null  object \n",
            " 55  price_doc                              30469 non-null  int64  \n",
            "dtypes: float64(41), int64(13), object(2)\n",
            "memory usage: 13.0+ MB\n"
          ],
          "name": "stdout"
        }
      ]
    },
    {
      "cell_type": "code",
      "metadata": {
        "id": "UMyz03Qa8r8e",
        "colab_type": "code",
        "colab": {
          "base_uri": "https://localhost:8080/",
          "height": 340
        },
        "outputId": "8f4bbd03-a57e-487f-e78d-2c0cea05d718"
      },
      "source": [
        "data.columns"
      ],
      "execution_count": 5,
      "outputs": [
        {
          "output_type": "execute_result",
          "data": {
            "text/plain": [
              "Index(['id', 'full_sq', 'life_sq', 'floor', 'sub_area', 'preschool_quota',\n",
              "       'preschool_education_centers_raion', 'school_quota',\n",
              "       'school_education_centers_raion',\n",
              "       'school_education_centers_top_20_raion', 'hospital_beds_raion',\n",
              "       'healthcare_centers_raion', 'university_top_20_raion',\n",
              "       'sport_objects_raion', 'additional_education_raion',\n",
              "       'culture_objects_top_25_raion', 'shopping_centers_raion',\n",
              "       'office_raion', 'metro_min_avto', 'metro_km_avto', 'metro_min_walk',\n",
              "       'metro_km_walk', 'kindergarten_km', 'school_km', 'park_km',\n",
              "       'green_zone_km', 'industrial_km', 'railroad_station_walk_km',\n",
              "       'railroad_station_walk_min', 'public_transport_station_km',\n",
              "       'public_transport_station_min_walk', 'mkad_km', 'ttk_km', 'sadovoe_km',\n",
              "       'bulvar_ring_km', 'kremlin_km', 'big_market_km', 'market_shop_km',\n",
              "       'fitness_km', 'swim_pool_km', 'ice_rink_km', 'stadium_km',\n",
              "       'basketball_km', 'hospice_morgue_km', 'university_km', 'workplaces_km',\n",
              "       'shopping_centers_km', 'office_km', 'additional_education_km',\n",
              "       'preschool_km', 'big_church_km', 'church_synagogue_km', 'theater_km',\n",
              "       'museum_km', 'ecology', 'price_doc'],\n",
              "      dtype='object')"
            ]
          },
          "metadata": {
            "tags": []
          },
          "execution_count": 5
        }
      ]
    },
    {
      "cell_type": "code",
      "metadata": {
        "id": "C8uXRYfG9AJX",
        "colab_type": "code",
        "colab": {}
      },
      "source": [
        ""
      ],
      "execution_count": 5,
      "outputs": []
    },
    {
      "cell_type": "markdown",
      "metadata": {
        "id": "Hv1-uMmiB-XB",
        "colab_type": "text"
      },
      "source": [
        "## 2.6"
      ]
    },
    {
      "cell_type": "code",
      "metadata": {
        "id": "96TM9PX69AE9",
        "colab_type": "code",
        "colab": {}
      },
      "source": [
        "test_data = pd.DataFrame([[1, 2, np.nan], [3, np.nan, 4],\n",
        "                          [0, 1, 2]], columns=['one', 'two', 'three'])"
      ],
      "execution_count": 6,
      "outputs": []
    },
    {
      "cell_type": "code",
      "metadata": {
        "id": "IwNO6yQc9AAk",
        "colab_type": "code",
        "colab": {
          "base_uri": "https://localhost:8080/",
          "height": 142
        },
        "outputId": "309cffda-f132-4287-814e-4432f9ae5c3c"
      },
      "source": [
        "test_data"
      ],
      "execution_count": 7,
      "outputs": [
        {
          "output_type": "execute_result",
          "data": {
            "text/html": [
              "<div>\n",
              "<style scoped>\n",
              "    .dataframe tbody tr th:only-of-type {\n",
              "        vertical-align: middle;\n",
              "    }\n",
              "\n",
              "    .dataframe tbody tr th {\n",
              "        vertical-align: top;\n",
              "    }\n",
              "\n",
              "    .dataframe thead th {\n",
              "        text-align: right;\n",
              "    }\n",
              "</style>\n",
              "<table border=\"1\" class=\"dataframe\">\n",
              "  <thead>\n",
              "    <tr style=\"text-align: right;\">\n",
              "      <th></th>\n",
              "      <th>one</th>\n",
              "      <th>two</th>\n",
              "      <th>three</th>\n",
              "    </tr>\n",
              "  </thead>\n",
              "  <tbody>\n",
              "    <tr>\n",
              "      <th>0</th>\n",
              "      <td>1</td>\n",
              "      <td>2.0</td>\n",
              "      <td>NaN</td>\n",
              "    </tr>\n",
              "    <tr>\n",
              "      <th>1</th>\n",
              "      <td>3</td>\n",
              "      <td>NaN</td>\n",
              "      <td>4.0</td>\n",
              "    </tr>\n",
              "    <tr>\n",
              "      <th>2</th>\n",
              "      <td>0</td>\n",
              "      <td>1.0</td>\n",
              "      <td>2.0</td>\n",
              "    </tr>\n",
              "  </tbody>\n",
              "</table>\n",
              "</div>"
            ],
            "text/plain": [
              "   one  two  three\n",
              "0    1  2.0    NaN\n",
              "1    3  NaN    4.0\n",
              "2    0  1.0    2.0"
            ]
          },
          "metadata": {
            "tags": []
          },
          "execution_count": 7
        }
      ]
    },
    {
      "cell_type": "code",
      "metadata": {
        "id": "rRdcjA4V8_8n",
        "colab_type": "code",
        "colab": {
          "base_uri": "https://localhost:8080/",
          "height": 85
        },
        "outputId": "d41947c3-10c4-4e1d-94b3-ca03b2e6147c"
      },
      "source": [
        "test_data['two'].isna()"
      ],
      "execution_count": 8,
      "outputs": [
        {
          "output_type": "execute_result",
          "data": {
            "text/plain": [
              "0    False\n",
              "1     True\n",
              "2    False\n",
              "Name: two, dtype: bool"
            ]
          },
          "metadata": {
            "tags": []
          },
          "execution_count": 8
        }
      ]
    },
    {
      "cell_type": "code",
      "metadata": {
        "id": "Sr-Nq-cD8r4r",
        "colab_type": "code",
        "colab": {
          "base_uri": "https://localhost:8080/",
          "height": 80
        },
        "outputId": "34498f89-4007-4f1a-d521-34931da5a365"
      },
      "source": [
        "test_data.dropna(axis=0)"
      ],
      "execution_count": 9,
      "outputs": [
        {
          "output_type": "execute_result",
          "data": {
            "text/html": [
              "<div>\n",
              "<style scoped>\n",
              "    .dataframe tbody tr th:only-of-type {\n",
              "        vertical-align: middle;\n",
              "    }\n",
              "\n",
              "    .dataframe tbody tr th {\n",
              "        vertical-align: top;\n",
              "    }\n",
              "\n",
              "    .dataframe thead th {\n",
              "        text-align: right;\n",
              "    }\n",
              "</style>\n",
              "<table border=\"1\" class=\"dataframe\">\n",
              "  <thead>\n",
              "    <tr style=\"text-align: right;\">\n",
              "      <th></th>\n",
              "      <th>one</th>\n",
              "      <th>two</th>\n",
              "      <th>three</th>\n",
              "    </tr>\n",
              "  </thead>\n",
              "  <tbody>\n",
              "    <tr>\n",
              "      <th>2</th>\n",
              "      <td>0</td>\n",
              "      <td>1.0</td>\n",
              "      <td>2.0</td>\n",
              "    </tr>\n",
              "  </tbody>\n",
              "</table>\n",
              "</div>"
            ],
            "text/plain": [
              "   one  two  three\n",
              "2    0  1.0    2.0"
            ]
          },
          "metadata": {
            "tags": []
          },
          "execution_count": 9
        }
      ]
    },
    {
      "cell_type": "code",
      "metadata": {
        "id": "zT39wacc8r1L",
        "colab_type": "code",
        "colab": {
          "base_uri": "https://localhost:8080/",
          "height": 142
        },
        "outputId": "0c241fcf-c378-45da-b914-7b0c7a46347a"
      },
      "source": [
        "test_data.dropna(axis=1)"
      ],
      "execution_count": 10,
      "outputs": [
        {
          "output_type": "execute_result",
          "data": {
            "text/html": [
              "<div>\n",
              "<style scoped>\n",
              "    .dataframe tbody tr th:only-of-type {\n",
              "        vertical-align: middle;\n",
              "    }\n",
              "\n",
              "    .dataframe tbody tr th {\n",
              "        vertical-align: top;\n",
              "    }\n",
              "\n",
              "    .dataframe thead th {\n",
              "        text-align: right;\n",
              "    }\n",
              "</style>\n",
              "<table border=\"1\" class=\"dataframe\">\n",
              "  <thead>\n",
              "    <tr style=\"text-align: right;\">\n",
              "      <th></th>\n",
              "      <th>one</th>\n",
              "    </tr>\n",
              "  </thead>\n",
              "  <tbody>\n",
              "    <tr>\n",
              "      <th>0</th>\n",
              "      <td>1</td>\n",
              "    </tr>\n",
              "    <tr>\n",
              "      <th>1</th>\n",
              "      <td>3</td>\n",
              "    </tr>\n",
              "    <tr>\n",
              "      <th>2</th>\n",
              "      <td>0</td>\n",
              "    </tr>\n",
              "  </tbody>\n",
              "</table>\n",
              "</div>"
            ],
            "text/plain": [
              "   one\n",
              "0    1\n",
              "1    3\n",
              "2    0"
            ]
          },
          "metadata": {
            "tags": []
          },
          "execution_count": 10
        }
      ]
    },
    {
      "cell_type": "code",
      "metadata": {
        "id": "A6CRu9-R_VhP",
        "colab_type": "code",
        "colab": {
          "base_uri": "https://localhost:8080/",
          "height": 142
        },
        "outputId": "b56c1bfa-5892-4638-e144-93b6aab49dcd"
      },
      "source": [
        "test_data.fillna(-1)"
      ],
      "execution_count": 11,
      "outputs": [
        {
          "output_type": "execute_result",
          "data": {
            "text/html": [
              "<div>\n",
              "<style scoped>\n",
              "    .dataframe tbody tr th:only-of-type {\n",
              "        vertical-align: middle;\n",
              "    }\n",
              "\n",
              "    .dataframe tbody tr th {\n",
              "        vertical-align: top;\n",
              "    }\n",
              "\n",
              "    .dataframe thead th {\n",
              "        text-align: right;\n",
              "    }\n",
              "</style>\n",
              "<table border=\"1\" class=\"dataframe\">\n",
              "  <thead>\n",
              "    <tr style=\"text-align: right;\">\n",
              "      <th></th>\n",
              "      <th>one</th>\n",
              "      <th>two</th>\n",
              "      <th>three</th>\n",
              "    </tr>\n",
              "  </thead>\n",
              "  <tbody>\n",
              "    <tr>\n",
              "      <th>0</th>\n",
              "      <td>1</td>\n",
              "      <td>2.0</td>\n",
              "      <td>-1.0</td>\n",
              "    </tr>\n",
              "    <tr>\n",
              "      <th>1</th>\n",
              "      <td>3</td>\n",
              "      <td>-1.0</td>\n",
              "      <td>4.0</td>\n",
              "    </tr>\n",
              "    <tr>\n",
              "      <th>2</th>\n",
              "      <td>0</td>\n",
              "      <td>1.0</td>\n",
              "      <td>2.0</td>\n",
              "    </tr>\n",
              "  </tbody>\n",
              "</table>\n",
              "</div>"
            ],
            "text/plain": [
              "   one  two  three\n",
              "0    1  2.0   -1.0\n",
              "1    3 -1.0    4.0\n",
              "2    0  1.0    2.0"
            ]
          },
          "metadata": {
            "tags": []
          },
          "execution_count": 11
        }
      ]
    },
    {
      "cell_type": "code",
      "metadata": {
        "id": "YcMHQBKf_Vcb",
        "colab_type": "code",
        "colab": {
          "base_uri": "https://localhost:8080/",
          "height": 85
        },
        "outputId": "a4424b2a-e9e1-4dfe-a4bf-bca9b597a7b7"
      },
      "source": [
        "test_data.two.fillna(test_data.two.mean())"
      ],
      "execution_count": 12,
      "outputs": [
        {
          "output_type": "execute_result",
          "data": {
            "text/plain": [
              "0    2.0\n",
              "1    1.5\n",
              "2    1.0\n",
              "Name: two, dtype: float64"
            ]
          },
          "metadata": {
            "tags": []
          },
          "execution_count": 12
        }
      ]
    },
    {
      "cell_type": "code",
      "metadata": {
        "id": "sqyc-W_G_VXv",
        "colab_type": "code",
        "colab": {
          "base_uri": "https://localhost:8080/",
          "height": 714
        },
        "outputId": "539c6db4-c533-4a26-b04c-05c864d011b9"
      },
      "source": [
        "# Задание 2.6.6\n",
        "\n",
        "vis_data = pd.read_csv(project_dir + 'data/u3/'  + 'train.csv', encoding = 'ISO-8859-1', low_memory = False)\n",
        "# vis_data = pd.read_csv(\"train.csv\", encoding = 'ISO-8859-1', low_memory = False)\n",
        "\n",
        "vis_data.info()\n",
        "# result"
      ],
      "execution_count": 13,
      "outputs": [
        {
          "output_type": "stream",
          "text": [
            "<class 'pandas.core.frame.DataFrame'>\n",
            "RangeIndex: 250306 entries, 0 to 250305\n",
            "Data columns (total 34 columns):\n",
            " #   Column                      Non-Null Count   Dtype  \n",
            "---  ------                      --------------   -----  \n",
            " 0   ticket_id                   250306 non-null  int64  \n",
            " 1   agency_name                 250306 non-null  object \n",
            " 2   inspector_name              250306 non-null  object \n",
            " 3   violator_name               250272 non-null  object \n",
            " 4   violation_street_number     250306 non-null  float64\n",
            " 5   violation_street_name       250306 non-null  object \n",
            " 6   violation_zip_code          0 non-null       float64\n",
            " 7   mailing_address_str_number  246704 non-null  float64\n",
            " 8   mailing_address_str_name    250302 non-null  object \n",
            " 9   city                        250306 non-null  object \n",
            " 10  state                       250213 non-null  object \n",
            " 11  zip_code                    250305 non-null  object \n",
            " 12  non_us_str_code             3 non-null       object \n",
            " 13  country                     250306 non-null  object \n",
            " 14  ticket_issued_date          250306 non-null  object \n",
            " 15  hearing_date                237815 non-null  object \n",
            " 16  violation_code              250306 non-null  object \n",
            " 17  violation_description       250306 non-null  object \n",
            " 18  disposition                 250306 non-null  object \n",
            " 19  fine_amount                 250305 non-null  float64\n",
            " 20  admin_fee                   250306 non-null  float64\n",
            " 21  state_fee                   250306 non-null  float64\n",
            " 22  late_fee                    250306 non-null  float64\n",
            " 23  discount_amount             250306 non-null  float64\n",
            " 24  clean_up_cost               250306 non-null  float64\n",
            " 25  judgment_amount             250306 non-null  float64\n",
            " 26  payment_amount              250306 non-null  float64\n",
            " 27  balance_due                 250306 non-null  float64\n",
            " 28  payment_date                41113 non-null   object \n",
            " 29  payment_status              250306 non-null  object \n",
            " 30  collection_status           36897 non-null   object \n",
            " 31  grafitti_status             1 non-null       object \n",
            " 32  compliance_detail           250306 non-null  object \n",
            " 33  compliance                  159880 non-null  float64\n",
            "dtypes: float64(13), int64(1), object(20)\n",
            "memory usage: 64.9+ MB\n"
          ],
          "name": "stdout"
        }
      ]
    },
    {
      "cell_type": "code",
      "metadata": {
        "id": "ziy4-hrx_VTZ",
        "colab_type": "code",
        "colab": {
          "base_uri": "https://localhost:8080/",
          "height": 37
        },
        "outputId": "1ab72344-342b-40e6-c180-dd693f2f9515"
      },
      "source": [
        "# Получаем самое частое название штата (важно: не количество! а индексное значение!)\n",
        "vis_data.state.value_counts().head(1).keys()[0]"
      ],
      "execution_count": 14,
      "outputs": [
        {
          "output_type": "execute_result",
          "data": {
            "application/vnd.google.colaboratory.intrinsic+json": {
              "type": "string"
            },
            "text/plain": [
              "'MI'"
            ]
          },
          "metadata": {
            "tags": []
          },
          "execution_count": 14
        }
      ]
    },
    {
      "cell_type": "code",
      "metadata": {
        "id": "zYRsguMB_VOi",
        "colab_type": "code",
        "colab": {
          "base_uri": "https://localhost:8080/",
          "height": 34
        },
        "outputId": "51993a85-ff99-48f7-aa02-1309921f7f1b"
      },
      "source": [
        "# сколько пропущено всего значений в столбце state\n",
        "vis_data.state.isna().sum()"
      ],
      "execution_count": 15,
      "outputs": [
        {
          "output_type": "execute_result",
          "data": {
            "text/plain": [
              "93"
            ]
          },
          "metadata": {
            "tags": []
          },
          "execution_count": 15
        }
      ]
    },
    {
      "cell_type": "code",
      "metadata": {
        "id": "6xCh55tK8ryM",
        "colab_type": "code",
        "colab": {}
      },
      "source": [
        "# result = vis_data['state'].fillna('MI')\n",
        "result = vis_data['state'].fillna(vis_data.state.value_counts().head(1).keys()[0])\n"
      ],
      "execution_count": 16,
      "outputs": []
    },
    {
      "cell_type": "code",
      "metadata": {
        "id": "rger9AnS8ru9",
        "colab_type": "code",
        "colab": {
          "base_uri": "https://localhost:8080/",
          "height": 34
        },
        "outputId": "e8c50264-af12-4109-ff4a-98f20a558355"
      },
      "source": [
        "# Задание 2.6.7\n",
        "\n",
        "data.shape"
      ],
      "execution_count": 17,
      "outputs": [
        {
          "output_type": "execute_result",
          "data": {
            "text/plain": [
              "(30469, 56)"
            ]
          },
          "metadata": {
            "tags": []
          },
          "execution_count": 17
        }
      ]
    },
    {
      "cell_type": "code",
      "metadata": {
        "id": "dAe8uOnt8rr7",
        "colab_type": "code",
        "colab": {
          "base_uri": "https://localhost:8080/",
          "height": 34
        },
        "outputId": "a7f4e1df-d6b1-4519-f9a3-8db321f80982"
      },
      "source": [
        "data.dropna().shape"
      ],
      "execution_count": 18,
      "outputs": [
        {
          "output_type": "execute_result",
          "data": {
            "text/plain": [
              "(13652, 56)"
            ]
          },
          "metadata": {
            "tags": []
          },
          "execution_count": 18
        }
      ]
    },
    {
      "cell_type": "code",
      "metadata": {
        "id": "ZFgNw-TYKWCr",
        "colab_type": "code",
        "colab": {}
      },
      "source": [
        "data.dropna(inplace=True)"
      ],
      "execution_count": 19,
      "outputs": []
    },
    {
      "cell_type": "code",
      "metadata": {
        "id": "J8s765aoKV9N",
        "colab_type": "code",
        "colab": {
          "base_uri": "https://localhost:8080/",
          "height": 34
        },
        "outputId": "f4627f43-6620-4392-bb85-fc2edad8dca0"
      },
      "source": [
        "data.shape"
      ],
      "execution_count": 20,
      "outputs": [
        {
          "output_type": "execute_result",
          "data": {
            "text/plain": [
              "(13652, 56)"
            ]
          },
          "metadata": {
            "tags": []
          },
          "execution_count": 20
        }
      ]
    },
    {
      "cell_type": "markdown",
      "metadata": {
        "id": "xMsRcFtqOw1V",
        "colab_type": "text"
      },
      "source": [
        "## 2.8"
      ]
    },
    {
      "cell_type": "markdown",
      "metadata": {
        "id": "7twNWvRESRur",
        "colab_type": "text"
      },
      "source": [
        "### minmax нормализация"
      ]
    },
    {
      "cell_type": "markdown",
      "metadata": {
        "id": "LFLSl1NASauu",
        "colab_type": "text"
      },
      "source": [
        "MinMaxScaler и StandardScaler сохраняют параметры, с которыми проводят нормализацию. Поэтому после нормализации признаков в тренировочной выборке нужно будет применить ту же нормализацию с валидационными и тестовыми данными."
      ]
    },
    {
      "cell_type": "code",
      "metadata": {
        "id": "PlXH7GpuOwep",
        "colab_type": "code",
        "colab": {
          "base_uri": "https://localhost:8080/",
          "height": 68
        },
        "outputId": "22948baf-a854-4c38-a4ad-e46dd231805e"
      },
      "source": [
        "scaler = MinMaxScaler()\n",
        "scaler.fit_transform(test_data)"
      ],
      "execution_count": 21,
      "outputs": [
        {
          "output_type": "execute_result",
          "data": {
            "text/plain": [
              "array([[0.33333333, 1.        ,        nan],\n",
              "       [1.        ,        nan, 1.        ],\n",
              "       [0.        , 0.        , 0.        ]])"
            ]
          },
          "metadata": {
            "tags": []
          },
          "execution_count": 21
        }
      ]
    },
    {
      "cell_type": "markdown",
      "metadata": {
        "id": "MfdRVw2VSVeF",
        "colab_type": "text"
      },
      "source": [
        "### std нормализация"
      ]
    },
    {
      "cell_type": "code",
      "metadata": {
        "id": "6S-3_C6dOvj1",
        "colab_type": "code",
        "colab": {
          "base_uri": "https://localhost:8080/",
          "height": 68
        },
        "outputId": "1e9b6141-cd2f-453a-b852-5e7cf0cfa75b"
      },
      "source": [
        "scaler = StandardScaler()\n",
        "scaler.fit_transform(test_data)"
      ],
      "execution_count": 22,
      "outputs": [
        {
          "output_type": "execute_result",
          "data": {
            "text/plain": [
              "array([[-0.26726124,  1.        ,         nan],\n",
              "       [ 1.33630621,         nan,  1.        ],\n",
              "       [-1.06904497, -1.        , -1.        ]])"
            ]
          },
          "metadata": {
            "tags": []
          },
          "execution_count": 22
        }
      ]
    },
    {
      "cell_type": "code",
      "metadata": {
        "id": "f2xC-xPvKV3T",
        "colab_type": "code",
        "colab": {
          "base_uri": "https://localhost:8080/",
          "height": 34
        },
        "outputId": "b5b506d1-9a58-44d9-eeb4-c92b4921af15"
      },
      "source": [
        "# Задание 2.8.3\n",
        "\n",
        "vis_data.balance_due.isna().sum()"
      ],
      "execution_count": 23,
      "outputs": [
        {
          "output_type": "execute_result",
          "data": {
            "text/plain": [
              "0"
            ]
          },
          "metadata": {
            "tags": []
          },
          "execution_count": 23
        }
      ]
    },
    {
      "cell_type": "code",
      "metadata": {
        "id": "QvvWNaTtULfQ",
        "colab_type": "code",
        "colab": {
          "base_uri": "https://localhost:8080/",
          "height": 136
        },
        "outputId": "c0644520-81a9-4422-af93-52745b31912c"
      },
      "source": [
        "balance = vis_data.balance_due.values.reshape(-1,1)\n",
        "balance"
      ],
      "execution_count": 24,
      "outputs": [
        {
          "output_type": "execute_result",
          "data": {
            "text/plain": [
              "array([[305.],\n",
              "       [ 75.],\n",
              "       [  0.],\n",
              "       ...,\n",
              "       [  0.],\n",
              "       [  0.],\n",
              "       [  0.]])"
            ]
          },
          "metadata": {
            "tags": []
          },
          "execution_count": 24
        }
      ]
    },
    {
      "cell_type": "code",
      "metadata": {
        "id": "cG_Thi71KVxX",
        "colab_type": "code",
        "colab": {
          "base_uri": "https://localhost:8080/",
          "height": 34
        },
        "outputId": "bb7afbf5-1496-43f9-deac-7f479191ae8f"
      },
      "source": [
        "min_val = scaler.fit_transform(balance).min()\n",
        "round(min_val, 5)"
      ],
      "execution_count": 25,
      "outputs": [
        {
          "output_type": "execute_result",
          "data": {
            "text/plain": [
              "-13.14733"
            ]
          },
          "metadata": {
            "tags": []
          },
          "execution_count": 25
        }
      ]
    },
    {
      "cell_type": "markdown",
      "metadata": {
        "id": "0IQ55Ztdahc1",
        "colab_type": "text"
      },
      "source": [
        "## 2.10"
      ]
    },
    {
      "cell_type": "code",
      "metadata": {
        "id": "zuRnt1GfKVrr",
        "colab_type": "code",
        "colab": {
          "base_uri": "https://localhost:8080/",
          "height": 34
        },
        "outputId": "6ce7f06c-981a-4efc-f1e9-f4468a70573f"
      },
      "source": [
        "# Задание 2.10.3\n",
        "\n",
        "bal_sqrt = np.sqrt(vis_data.balance_due[vis_data.balance_due > 0])\n",
        "# sns.boxplot(np.sqrt(vis_data.balance_due[vis_data.balance_due > 0]))\n",
        "\n",
        "abs(bal_sqrt.median() - bal_sqrt.mean())\n"
      ],
      "execution_count": 26,
      "outputs": [
        {
          "output_type": "execute_result",
          "data": {
            "text/plain": [
              "0.4525960609393067"
            ]
          },
          "metadata": {
            "tags": []
          },
          "execution_count": 26
        }
      ]
    },
    {
      "cell_type": "code",
      "metadata": {
        "id": "HFeC8nxRKVmW",
        "colab_type": "code",
        "colab": {
          "base_uri": "https://localhost:8080/",
          "height": 187
        },
        "outputId": "1674fafc-6165-4231-9eff-dee857d0487a"
      },
      "source": [
        "# \n",
        "\n",
        "apartment = pd.read_csv(project_dir + 'data/u3/'  + 'latlons.csv', low_memory = False)\n",
        "\n",
        "\n",
        "apartment.info()"
      ],
      "execution_count": 27,
      "outputs": [
        {
          "output_type": "stream",
          "text": [
            "<class 'pandas.core.frame.DataFrame'>\n",
            "RangeIndex: 121769 entries, 0 to 121768\n",
            "Data columns (total 3 columns):\n",
            " #   Column   Non-Null Count   Dtype  \n",
            "---  ------   --------------   -----  \n",
            " 0   address  121769 non-null  object \n",
            " 1   lat      121762 non-null  float64\n",
            " 2   lon      121762 non-null  float64\n",
            "dtypes: float64(2), object(1)\n",
            "memory usage: 2.8+ MB\n"
          ],
          "name": "stdout"
        }
      ]
    },
    {
      "cell_type": "code",
      "metadata": {
        "id": "ObQYtV0rKVgX",
        "colab_type": "code",
        "colab": {
          "base_uri": "https://localhost:8080/",
          "height": 204
        },
        "outputId": "1d4620c1-9431-4394-db97-15328f754a68"
      },
      "source": [
        "apartment.sample(5)"
      ],
      "execution_count": 28,
      "outputs": [
        {
          "output_type": "execute_result",
          "data": {
            "text/html": [
              "<div>\n",
              "<style scoped>\n",
              "    .dataframe tbody tr th:only-of-type {\n",
              "        vertical-align: middle;\n",
              "    }\n",
              "\n",
              "    .dataframe tbody tr th {\n",
              "        vertical-align: top;\n",
              "    }\n",
              "\n",
              "    .dataframe thead th {\n",
              "        text-align: right;\n",
              "    }\n",
              "</style>\n",
              "<table border=\"1\" class=\"dataframe\">\n",
              "  <thead>\n",
              "    <tr style=\"text-align: right;\">\n",
              "      <th></th>\n",
              "      <th>address</th>\n",
              "      <th>lat</th>\n",
              "      <th>lon</th>\n",
              "    </tr>\n",
              "  </thead>\n",
              "  <tbody>\n",
              "    <tr>\n",
              "      <th>36519</th>\n",
              "      <td>11637 ruth, Detroit MI</td>\n",
              "      <td>42.395628</td>\n",
              "      <td>-83.016080</td>\n",
              "    </tr>\n",
              "    <tr>\n",
              "      <th>4160</th>\n",
              "      <td>9164 grayton, Detroit MI 48224</td>\n",
              "      <td>42.416677</td>\n",
              "      <td>-82.940192</td>\n",
              "    </tr>\n",
              "    <tr>\n",
              "      <th>39798</th>\n",
              "      <td>8120 jefferson, Detroit MI</td>\n",
              "      <td>42.351496</td>\n",
              "      <td>-82.992695</td>\n",
              "    </tr>\n",
              "    <tr>\n",
              "      <th>81958</th>\n",
              "      <td>14276 kentucky, Detroit MI</td>\n",
              "      <td>42.392851</td>\n",
              "      <td>-83.157978</td>\n",
              "    </tr>\n",
              "    <tr>\n",
              "      <th>13445</th>\n",
              "      <td>20510 schoolcraft, Detroit MI</td>\n",
              "      <td>42.386416</td>\n",
              "      <td>-83.242347</td>\n",
              "    </tr>\n",
              "  </tbody>\n",
              "</table>\n",
              "</div>"
            ],
            "text/plain": [
              "                              address        lat        lon\n",
              "36519          11637 ruth, Detroit MI  42.395628 -83.016080\n",
              "4160   9164 grayton, Detroit MI 48224  42.416677 -82.940192\n",
              "39798      8120 jefferson, Detroit MI  42.351496 -82.992695\n",
              "81958      14276 kentucky, Detroit MI  42.392851 -83.157978\n",
              "13445   20510 schoolcraft, Detroit MI  42.386416 -83.242347"
            ]
          },
          "metadata": {
            "tags": []
          },
          "execution_count": 28
        }
      ]
    },
    {
      "cell_type": "code",
      "metadata": {
        "id": "2zD86hXmg73B",
        "colab_type": "code",
        "colab": {
          "base_uri": "https://localhost:8080/",
          "height": 340
        },
        "outputId": "80bc14cb-13fa-45b4-9524-653217955a57"
      },
      "source": [
        "# data.columns.sort_values()\n",
        "data.columns"
      ],
      "execution_count": 29,
      "outputs": [
        {
          "output_type": "execute_result",
          "data": {
            "text/plain": [
              "Index(['id', 'full_sq', 'life_sq', 'floor', 'sub_area', 'preschool_quota',\n",
              "       'preschool_education_centers_raion', 'school_quota',\n",
              "       'school_education_centers_raion',\n",
              "       'school_education_centers_top_20_raion', 'hospital_beds_raion',\n",
              "       'healthcare_centers_raion', 'university_top_20_raion',\n",
              "       'sport_objects_raion', 'additional_education_raion',\n",
              "       'culture_objects_top_25_raion', 'shopping_centers_raion',\n",
              "       'office_raion', 'metro_min_avto', 'metro_km_avto', 'metro_min_walk',\n",
              "       'metro_km_walk', 'kindergarten_km', 'school_km', 'park_km',\n",
              "       'green_zone_km', 'industrial_km', 'railroad_station_walk_km',\n",
              "       'railroad_station_walk_min', 'public_transport_station_km',\n",
              "       'public_transport_station_min_walk', 'mkad_km', 'ttk_km', 'sadovoe_km',\n",
              "       'bulvar_ring_km', 'kremlin_km', 'big_market_km', 'market_shop_km',\n",
              "       'fitness_km', 'swim_pool_km', 'ice_rink_km', 'stadium_km',\n",
              "       'basketball_km', 'hospice_morgue_km', 'university_km', 'workplaces_km',\n",
              "       'shopping_centers_km', 'office_km', 'additional_education_km',\n",
              "       'preschool_km', 'big_church_km', 'church_synagogue_km', 'theater_km',\n",
              "       'museum_km', 'ecology', 'price_doc'],\n",
              "      dtype='object')"
            ]
          },
          "metadata": {
            "tags": []
          },
          "execution_count": 29
        }
      ]
    },
    {
      "cell_type": "code",
      "metadata": {
        "id": "WyJgE1--iDxr",
        "colab_type": "code",
        "colab": {}
      },
      "source": [
        ""
      ],
      "execution_count": 29,
      "outputs": []
    },
    {
      "cell_type": "code",
      "metadata": {
        "id": "3DM-EQVleHh9",
        "colab_type": "code",
        "colab": {
          "base_uri": "https://localhost:8080/",
          "height": 308
        },
        "outputId": "ee0e380c-378c-42ef-9b51-5250fcce6998"
      },
      "source": [
        "# Задание 2.10.4\n",
        "\n",
        "# data.sub_area.value_counts().sort_index().index\n",
        "\n",
        "# Lefortovo\n",
        "# Perovo\n",
        "# Basmannoe\n",
        "\n",
        "sub_area_filter = ['Lefortovo', 'Perovo', 'Basmannoe']\n",
        "\n",
        "sns.boxplot(x='sub_area', y='price_doc', data=data.query('sub_area in @sub_area_filter'))"
      ],
      "execution_count": 30,
      "outputs": [
        {
          "output_type": "execute_result",
          "data": {
            "text/plain": [
              "<matplotlib.axes._subplots.AxesSubplot at 0x7f5a0782fc50>"
            ]
          },
          "metadata": {
            "tags": []
          },
          "execution_count": 30
        },
        {
          "output_type": "display_data",
          "data": {
            "image/png": "[encoded data removed]",
            "text/plain": [
              "<Figure size 432x288 with 1 Axes>"
            ]
          },
          "metadata": {
            "tags": [],
            "needs_background": "light"
          }
        }
      ]
    },
    {
      "cell_type": "code",
      "metadata": {
        "id": "Xcwsgp6keHaA",
        "colab_type": "code",
        "colab": {
          "base_uri": "https://localhost:8080/",
          "height": 173
        },
        "outputId": "01c8ea07-d0cd-4b6b-f3a1-d6ea1dfba41c"
      },
      "source": [
        "data.query('sub_area in @sub_area_filter')[['sub_area','price_doc']].groupby('sub_area').mean()"
      ],
      "execution_count": 31,
      "outputs": [
        {
          "output_type": "execute_result",
          "data": {
            "text/html": [
              "<div>\n",
              "<style scoped>\n",
              "    .dataframe tbody tr th:only-of-type {\n",
              "        vertical-align: middle;\n",
              "    }\n",
              "\n",
              "    .dataframe tbody tr th {\n",
              "        vertical-align: top;\n",
              "    }\n",
              "\n",
              "    .dataframe thead th {\n",
              "        text-align: right;\n",
              "    }\n",
              "</style>\n",
              "<table border=\"1\" class=\"dataframe\">\n",
              "  <thead>\n",
              "    <tr style=\"text-align: right;\">\n",
              "      <th></th>\n",
              "      <th>price_doc</th>\n",
              "    </tr>\n",
              "    <tr>\n",
              "      <th>sub_area</th>\n",
              "      <th></th>\n",
              "    </tr>\n",
              "  </thead>\n",
              "  <tbody>\n",
              "    <tr>\n",
              "      <th>Basmannoe</th>\n",
              "      <td>1.158772e+07</td>\n",
              "    </tr>\n",
              "    <tr>\n",
              "      <th>Lefortovo</th>\n",
              "      <td>7.425565e+06</td>\n",
              "    </tr>\n",
              "    <tr>\n",
              "      <th>Perovo</th>\n",
              "      <td>6.073200e+06</td>\n",
              "    </tr>\n",
              "  </tbody>\n",
              "</table>\n",
              "</div>"
            ],
            "text/plain": [
              "              price_doc\n",
              "sub_area               \n",
              "Basmannoe  1.158772e+07\n",
              "Lefortovo  7.425565e+06\n",
              "Perovo     6.073200e+06"
            ]
          },
          "metadata": {
            "tags": []
          },
          "execution_count": 31
        }
      ]
    },
    {
      "cell_type": "code",
      "metadata": {
        "id": "rQrGb2Kpi4sk",
        "colab_type": "code",
        "colab": {}
      },
      "source": [
        ""
      ],
      "execution_count": 31,
      "outputs": []
    },
    {
      "cell_type": "markdown",
      "metadata": {
        "id": "eIOFGRlo_G0b",
        "colab_type": "text"
      },
      "source": [
        "## 2.12"
      ]
    },
    {
      "cell_type": "code",
      "metadata": {
        "id": "KhYi96Hi_8Bp",
        "colab_type": "code",
        "colab": {}
      },
      "source": [
        "latlons = pd.read_csv( project_dir + 'data/u3/' + 'latlons.csv')\n",
        "vis_data = pd.concat([vis_data, latlons], axis=1)"
      ],
      "execution_count": 32,
      "outputs": []
    },
    {
      "cell_type": "code",
      "metadata": {
        "id": "v8wAD6yWAOG8",
        "colab_type": "code",
        "colab": {
          "base_uri": "https://localhost:8080/",
          "height": 34
        },
        "outputId": "c9ed06ad-91f5-43a9-be1a-cb8e2984051e"
      },
      "source": [
        "latlons.columns"
      ],
      "execution_count": 33,
      "outputs": [
        {
          "output_type": "execute_result",
          "data": {
            "text/plain": [
              "Index(['address', 'lat', 'lon'], dtype='object')"
            ]
          },
          "metadata": {
            "tags": []
          },
          "execution_count": 33
        }
      ]
    },
    {
      "cell_type": "code",
      "metadata": {
        "id": "WHmHSBSGi4kF",
        "colab_type": "code",
        "colab": {
          "base_uri": "https://localhost:8080/",
          "height": 204
        },
        "outputId": "08c2b3a1-aa6b-4b25-ecb4-c41c33691f6c"
      },
      "source": [
        "# Задание 2.12.6\n",
        "vis_data.columns.sort_values()\n"
      ],
      "execution_count": 34,
      "outputs": [
        {
          "output_type": "execute_result",
          "data": {
            "text/plain": [
              "Index(['address', 'admin_fee', 'agency_name', 'balance_due', 'city',\n",
              "       'clean_up_cost', 'collection_status', 'compliance', 'compliance_detail',\n",
              "       'country', 'discount_amount', 'disposition', 'fine_amount',\n",
              "       'grafitti_status', 'hearing_date', 'inspector_name', 'judgment_amount',\n",
              "       'lat', 'late_fee', 'lon', 'mailing_address_str_name',\n",
              "       'mailing_address_str_number', 'non_us_str_code', 'payment_amount',\n",
              "       'payment_date', 'payment_status', 'state', 'state_fee', 'ticket_id',\n",
              "       'ticket_issued_date', 'violation_code', 'violation_description',\n",
              "       'violation_street_name', 'violation_street_number',\n",
              "       'violation_zip_code', 'violator_name', 'zip_code'],\n",
              "      dtype='object')"
            ]
          },
          "metadata": {
            "tags": []
          },
          "execution_count": 34
        }
      ]
    },
    {
      "cell_type": "code",
      "metadata": {
        "id": "tCMhkcwqi4bP",
        "colab_type": "code",
        "colab": {
          "base_uri": "https://localhost:8080/",
          "height": 419
        },
        "outputId": "9019c6e3-961b-4e84-a979-9b3aa94a2711"
      },
      "source": [
        "vis_data[['balance_due', 'discount_amount']]"
      ],
      "execution_count": 35,
      "outputs": [
        {
          "output_type": "execute_result",
          "data": {
            "text/html": [
              "<div>\n",
              "<style scoped>\n",
              "    .dataframe tbody tr th:only-of-type {\n",
              "        vertical-align: middle;\n",
              "    }\n",
              "\n",
              "    .dataframe tbody tr th {\n",
              "        vertical-align: top;\n",
              "    }\n",
              "\n",
              "    .dataframe thead th {\n",
              "        text-align: right;\n",
              "    }\n",
              "</style>\n",
              "<table border=\"1\" class=\"dataframe\">\n",
              "  <thead>\n",
              "    <tr style=\"text-align: right;\">\n",
              "      <th></th>\n",
              "      <th>balance_due</th>\n",
              "      <th>discount_amount</th>\n",
              "    </tr>\n",
              "  </thead>\n",
              "  <tbody>\n",
              "    <tr>\n",
              "      <th>0</th>\n",
              "      <td>305.0</td>\n",
              "      <td>0.0</td>\n",
              "    </tr>\n",
              "    <tr>\n",
              "      <th>1</th>\n",
              "      <td>75.0</td>\n",
              "      <td>0.0</td>\n",
              "    </tr>\n",
              "    <tr>\n",
              "      <th>2</th>\n",
              "      <td>0.0</td>\n",
              "      <td>0.0</td>\n",
              "    </tr>\n",
              "    <tr>\n",
              "      <th>3</th>\n",
              "      <td>0.0</td>\n",
              "      <td>0.0</td>\n",
              "    </tr>\n",
              "    <tr>\n",
              "      <th>4</th>\n",
              "      <td>0.0</td>\n",
              "      <td>0.0</td>\n",
              "    </tr>\n",
              "    <tr>\n",
              "      <th>...</th>\n",
              "      <td>...</td>\n",
              "      <td>...</td>\n",
              "    </tr>\n",
              "    <tr>\n",
              "      <th>250301</th>\n",
              "      <td>0.0</td>\n",
              "      <td>0.0</td>\n",
              "    </tr>\n",
              "    <tr>\n",
              "      <th>250302</th>\n",
              "      <td>0.0</td>\n",
              "      <td>0.0</td>\n",
              "    </tr>\n",
              "    <tr>\n",
              "      <th>250303</th>\n",
              "      <td>0.0</td>\n",
              "      <td>0.0</td>\n",
              "    </tr>\n",
              "    <tr>\n",
              "      <th>250304</th>\n",
              "      <td>0.0</td>\n",
              "      <td>0.0</td>\n",
              "    </tr>\n",
              "    <tr>\n",
              "      <th>250305</th>\n",
              "      <td>0.0</td>\n",
              "      <td>0.0</td>\n",
              "    </tr>\n",
              "  </tbody>\n",
              "</table>\n",
              "<p>250306 rows × 2 columns</p>\n",
              "</div>"
            ],
            "text/plain": [
              "        balance_due  discount_amount\n",
              "0             305.0              0.0\n",
              "1              75.0              0.0\n",
              "2               0.0              0.0\n",
              "3               0.0              0.0\n",
              "4               0.0              0.0\n",
              "...             ...              ...\n",
              "250301          0.0              0.0\n",
              "250302          0.0              0.0\n",
              "250303          0.0              0.0\n",
              "250304          0.0              0.0\n",
              "250305          0.0              0.0\n",
              "\n",
              "[250306 rows x 2 columns]"
            ]
          },
          "metadata": {
            "tags": []
          },
          "execution_count": 35
        }
      ]
    },
    {
      "cell_type": "code",
      "metadata": {
        "id": "LmXTeqK1i4Sd",
        "colab_type": "code",
        "colab": {
          "base_uri": "https://localhost:8080/",
          "height": 136
        },
        "outputId": "0da3b2df-87c8-4b9e-bbf8-76d7786a832d"
      },
      "source": [
        "# Задание 2.12.6\n",
        "\n",
        "pf = PolynomialFeatures(3)\n",
        "poly_features = pf.fit_transform(vis_data[['balance_due', 'discount_amount']])\n",
        "poly_features\n"
      ],
      "execution_count": 36,
      "outputs": [
        {
          "output_type": "execute_result",
          "data": {
            "text/plain": [
              "array([[  1., 305.,   0., ...,   0.,   0.,   0.],\n",
              "       [  1.,  75.,   0., ...,   0.,   0.,   0.],\n",
              "       [  1.,   0.,   0., ...,   0.,   0.,   0.],\n",
              "       ...,\n",
              "       [  1.,   0.,   0., ...,   0.,   0.,   0.],\n",
              "       [  1.,   0.,   0., ...,   0.,   0.,   0.],\n",
              "       [  1.,   0.,   0., ...,   0.,   0.,   0.]])"
            ]
          },
          "metadata": {
            "tags": []
          },
          "execution_count": 36
        }
      ]
    },
    {
      "cell_type": "code",
      "metadata": {
        "id": "qqitt6g3eHSO",
        "colab_type": "code",
        "colab": {
          "base_uri": "https://localhost:8080/",
          "height": 34
        },
        "outputId": "85ab56df-8afa-4596-dc7d-fe9b00f61ab2"
      },
      "source": [
        "poly_features.shape"
      ],
      "execution_count": 37,
      "outputs": [
        {
          "output_type": "execute_result",
          "data": {
            "text/plain": [
              "(250306, 10)"
            ]
          },
          "metadata": {
            "tags": []
          },
          "execution_count": 37
        }
      ]
    },
    {
      "cell_type": "code",
      "metadata": {
        "id": "aSfzS5Z4eHKf",
        "colab_type": "code",
        "colab": {
          "base_uri": "https://localhost:8080/",
          "height": 68
        },
        "outputId": "993f2b43-51a0-4d2a-cd80-89e4a4a34a4e"
      },
      "source": [
        "poly_features.mean(axis=0) # answer = 6"
      ],
      "execution_count": 38,
      "outputs": [
        {
          "output_type": "execute_result",
          "data": {
            "text/plain": [
              "array([ 1.00000000e+00,  2.22449058e+02,  1.25166796e-01,  4.17195810e+05,\n",
              "       -9.85531709e+00,  1.17817392e+01,  2.04200098e+09,  1.17924384e+05,\n",
              "       -1.49564074e+02,  3.07417605e+03])"
            ]
          },
          "metadata": {
            "tags": []
          },
          "execution_count": 38
        }
      ]
    },
    {
      "cell_type": "code",
      "metadata": {
        "id": "3T4pNWJzeHCl",
        "colab_type": "code",
        "colab": {
          "base_uri": "https://localhost:8080/",
          "height": 119
        },
        "outputId": "8957634c-35b1-4897-c6be-39eddf9845d4"
      },
      "source": [
        "# Задание 2.12.7\n",
        "\n",
        "# ticket_issued_date\n",
        "\n",
        "datetime_vals = pd.to_datetime(vis_data.ticket_issued_date.dropna())\n",
        "datetime_vals.head()\n"
      ],
      "execution_count": 39,
      "outputs": [
        {
          "output_type": "execute_result",
          "data": {
            "text/plain": [
              "0   2004-03-16 11:40:00\n",
              "1   2004-04-23 12:30:00\n",
              "2   2004-04-26 13:40:00\n",
              "3   2004-04-26 13:30:00\n",
              "4   2004-04-26 13:00:00\n",
              "Name: ticket_issued_date, dtype: datetime64[ns]"
            ]
          },
          "metadata": {
            "tags": []
          },
          "execution_count": 39
        }
      ]
    },
    {
      "cell_type": "code",
      "metadata": {
        "id": "_gi2rkXaB_FW",
        "colab_type": "code",
        "colab": {}
      },
      "source": [
        "vis_data['is_weekend'] = datetime_vals.dt.weekday > 4\n",
        "vis_data['holiday'] = datetime_vals.dt.weekday"
      ],
      "execution_count": 40,
      "outputs": []
    },
    {
      "cell_type": "code",
      "metadata": {
        "id": "PNj_zP4AB-6-",
        "colab_type": "code",
        "colab": {
          "base_uri": "https://localhost:8080/",
          "height": 68
        },
        "outputId": "ec21850d-ad00-431e-dfb4-3719944df4dc"
      },
      "source": [
        "vis_data['is_weekend'].value_counts()\n",
        "\n",
        "# answer = 1620"
      ],
      "execution_count": 41,
      "outputs": [
        {
          "output_type": "execute_result",
          "data": {
            "text/plain": [
              "False    248686\n",
              "True       1620\n",
              "Name: is_weekend, dtype: int64"
            ]
          },
          "metadata": {
            "tags": []
          },
          "execution_count": 41
        }
      ]
    },
    {
      "cell_type": "code",
      "metadata": {
        "id": "swoAGDNhB-qe",
        "colab_type": "code",
        "colab": {
          "base_uri": "https://localhost:8080/",
          "height": 365
        },
        "outputId": "92b2922e-fdc7-425f-c06e-48993da3b02c"
      },
      "source": [
        "# Задание 2.12.8\n",
        "\n",
        "data.sample(9)"
      ],
      "execution_count": 42,
      "outputs": [
        {
          "output_type": "execute_result",
          "data": {
            "text/html": [
              "<div>\n",
              "<style scoped>\n",
              "    .dataframe tbody tr th:only-of-type {\n",
              "        vertical-align: middle;\n",
              "    }\n",
              "\n",
              "    .dataframe tbody tr th {\n",
              "        vertical-align: top;\n",
              "    }\n",
              "\n",
              "    .dataframe thead th {\n",
              "        text-align: right;\n",
              "    }\n",
              "</style>\n",
              "<table border=\"1\" class=\"dataframe\">\n",
              "  <thead>\n",
              "    <tr style=\"text-align: right;\">\n",
              "      <th></th>\n",
              "      <th>id</th>\n",
              "      <th>full_sq</th>\n",
              "      <th>life_sq</th>\n",
              "      <th>floor</th>\n",
              "      <th>sub_area</th>\n",
              "      <th>preschool_quota</th>\n",
              "      <th>preschool_education_centers_raion</th>\n",
              "      <th>school_quota</th>\n",
              "      <th>school_education_centers_raion</th>\n",
              "      <th>school_education_centers_top_20_raion</th>\n",
              "      <th>hospital_beds_raion</th>\n",
              "      <th>healthcare_centers_raion</th>\n",
              "      <th>university_top_20_raion</th>\n",
              "      <th>sport_objects_raion</th>\n",
              "      <th>additional_education_raion</th>\n",
              "      <th>culture_objects_top_25_raion</th>\n",
              "      <th>shopping_centers_raion</th>\n",
              "      <th>office_raion</th>\n",
              "      <th>metro_min_avto</th>\n",
              "      <th>metro_km_avto</th>\n",
              "      <th>metro_min_walk</th>\n",
              "      <th>metro_km_walk</th>\n",
              "      <th>kindergarten_km</th>\n",
              "      <th>school_km</th>\n",
              "      <th>park_km</th>\n",
              "      <th>green_zone_km</th>\n",
              "      <th>industrial_km</th>\n",
              "      <th>railroad_station_walk_km</th>\n",
              "      <th>railroad_station_walk_min</th>\n",
              "      <th>public_transport_station_km</th>\n",
              "      <th>public_transport_station_min_walk</th>\n",
              "      <th>mkad_km</th>\n",
              "      <th>ttk_km</th>\n",
              "      <th>sadovoe_km</th>\n",
              "      <th>bulvar_ring_km</th>\n",
              "      <th>kremlin_km</th>\n",
              "      <th>big_market_km</th>\n",
              "      <th>market_shop_km</th>\n",
              "      <th>fitness_km</th>\n",
              "      <th>swim_pool_km</th>\n",
              "      <th>ice_rink_km</th>\n",
              "      <th>stadium_km</th>\n",
              "      <th>basketball_km</th>\n",
              "      <th>hospice_morgue_km</th>\n",
              "      <th>university_km</th>\n",
              "      <th>workplaces_km</th>\n",
              "      <th>shopping_centers_km</th>\n",
              "      <th>office_km</th>\n",
              "      <th>additional_education_km</th>\n",
              "      <th>preschool_km</th>\n",
              "      <th>big_church_km</th>\n",
              "      <th>church_synagogue_km</th>\n",
              "      <th>theater_km</th>\n",
              "      <th>museum_km</th>\n",
              "      <th>ecology</th>\n",
              "      <th>price_doc</th>\n",
              "    </tr>\n",
              "  </thead>\n",
              "  <tbody>\n",
              "    <tr>\n",
              "      <th>1906</th>\n",
              "      <td>1911</td>\n",
              "      <td>32</td>\n",
              "      <td>16.0</td>\n",
              "      <td>2.0</td>\n",
              "      <td>Shhukino</td>\n",
              "      <td>2854.0</td>\n",
              "      <td>4</td>\n",
              "      <td>7023.0</td>\n",
              "      <td>5</td>\n",
              "      <td>0</td>\n",
              "      <td>4508.0</td>\n",
              "      <td>3</td>\n",
              "      <td>0</td>\n",
              "      <td>11</td>\n",
              "      <td>5</td>\n",
              "      <td>0</td>\n",
              "      <td>7</td>\n",
              "      <td>5</td>\n",
              "      <td>3.174464</td>\n",
              "      <td>1.840254</td>\n",
              "      <td>22.015093</td>\n",
              "      <td>1.834591</td>\n",
              "      <td>1.200589</td>\n",
              "      <td>0.437468</td>\n",
              "      <td>1.423567</td>\n",
              "      <td>0.093963</td>\n",
              "      <td>0.189023</td>\n",
              "      <td>2.352901</td>\n",
              "      <td>28.234810</td>\n",
              "      <td>0.059570</td>\n",
              "      <td>0.714841</td>\n",
              "      <td>4.821072</td>\n",
              "      <td>5.804622</td>\n",
              "      <td>8.719417</td>\n",
              "      <td>9.573889</td>\n",
              "      <td>10.748022</td>\n",
              "      <td>25.143651</td>\n",
              "      <td>2.530488</td>\n",
              "      <td>0.333750</td>\n",
              "      <td>2.433278</td>\n",
              "      <td>1.784438</td>\n",
              "      <td>2.412327</td>\n",
              "      <td>1.509329</td>\n",
              "      <td>2.446561</td>\n",
              "      <td>2.524434</td>\n",
              "      <td>1.935642</td>\n",
              "      <td>1.190091</td>\n",
              "      <td>0.865508</td>\n",
              "      <td>0.455640</td>\n",
              "      <td>0.537837</td>\n",
              "      <td>1.774481</td>\n",
              "      <td>0.938102</td>\n",
              "      <td>9.545947</td>\n",
              "      <td>7.615268</td>\n",
              "      <td>satisfactory</td>\n",
              "      <td>6700000</td>\n",
              "    </tr>\n",
              "    <tr>\n",
              "      <th>12913</th>\n",
              "      <td>12918</td>\n",
              "      <td>61</td>\n",
              "      <td>43.0</td>\n",
              "      <td>2.0</td>\n",
              "      <td>Gol'janovo</td>\n",
              "      <td>5041.0</td>\n",
              "      <td>6</td>\n",
              "      <td>11081.0</td>\n",
              "      <td>7</td>\n",
              "      <td>0</td>\n",
              "      <td>125.0</td>\n",
              "      <td>3</td>\n",
              "      <td>0</td>\n",
              "      <td>5</td>\n",
              "      <td>3</td>\n",
              "      <td>0</td>\n",
              "      <td>5</td>\n",
              "      <td>3</td>\n",
              "      <td>3.956008</td>\n",
              "      <td>1.515195</td>\n",
              "      <td>15.522005</td>\n",
              "      <td>1.293500</td>\n",
              "      <td>0.177922</td>\n",
              "      <td>0.225060</td>\n",
              "      <td>1.172258</td>\n",
              "      <td>0.512741</td>\n",
              "      <td>0.745967</td>\n",
              "      <td>5.877840</td>\n",
              "      <td>70.534082</td>\n",
              "      <td>0.182961</td>\n",
              "      <td>2.195537</td>\n",
              "      <td>2.096855</td>\n",
              "      <td>8.731213</td>\n",
              "      <td>10.914210</td>\n",
              "      <td>11.662222</td>\n",
              "      <td>13.458933</td>\n",
              "      <td>14.951171</td>\n",
              "      <td>1.385087</td>\n",
              "      <td>0.386997</td>\n",
              "      <td>2.413759</td>\n",
              "      <td>5.228801</td>\n",
              "      <td>5.783284</td>\n",
              "      <td>2.154774</td>\n",
              "      <td>1.820027</td>\n",
              "      <td>2.785294</td>\n",
              "      <td>0.225060</td>\n",
              "      <td>1.143613</td>\n",
              "      <td>1.685502</td>\n",
              "      <td>0.493180</td>\n",
              "      <td>0.225060</td>\n",
              "      <td>0.673637</td>\n",
              "      <td>0.670911</td>\n",
              "      <td>8.979756</td>\n",
              "      <td>7.291530</td>\n",
              "      <td>good</td>\n",
              "      <td>9100000</td>\n",
              "    </tr>\n",
              "    <tr>\n",
              "      <th>5729</th>\n",
              "      <td>5734</td>\n",
              "      <td>37</td>\n",
              "      <td>19.0</td>\n",
              "      <td>10.0</td>\n",
              "      <td>Krjukovo</td>\n",
              "      <td>5278.0</td>\n",
              "      <td>6</td>\n",
              "      <td>10529.0</td>\n",
              "      <td>6</td>\n",
              "      <td>0</td>\n",
              "      <td>30.0</td>\n",
              "      <td>2</td>\n",
              "      <td>0</td>\n",
              "      <td>4</td>\n",
              "      <td>1</td>\n",
              "      <td>0</td>\n",
              "      <td>4</td>\n",
              "      <td>1</td>\n",
              "      <td>28.217041</td>\n",
              "      <td>21.917832</td>\n",
              "      <td>262.406681</td>\n",
              "      <td>21.867223</td>\n",
              "      <td>0.067700</td>\n",
              "      <td>0.326715</td>\n",
              "      <td>17.851997</td>\n",
              "      <td>0.374893</td>\n",
              "      <td>0.430858</td>\n",
              "      <td>1.269957</td>\n",
              "      <td>15.239481</td>\n",
              "      <td>0.103893</td>\n",
              "      <td>1.246713</td>\n",
              "      <td>20.242994</td>\n",
              "      <td>33.746875</td>\n",
              "      <td>36.390700</td>\n",
              "      <td>37.167675</td>\n",
              "      <td>38.416795</td>\n",
              "      <td>44.943678</td>\n",
              "      <td>2.470786</td>\n",
              "      <td>0.440262</td>\n",
              "      <td>6.710272</td>\n",
              "      <td>6.651897</td>\n",
              "      <td>29.089736</td>\n",
              "      <td>14.508252</td>\n",
              "      <td>2.719687</td>\n",
              "      <td>4.314332</td>\n",
              "      <td>3.315042</td>\n",
              "      <td>0.859733</td>\n",
              "      <td>1.092913</td>\n",
              "      <td>1.550710</td>\n",
              "      <td>0.326715</td>\n",
              "      <td>5.416013</td>\n",
              "      <td>0.946713</td>\n",
              "      <td>7.509237</td>\n",
              "      <td>0.827362</td>\n",
              "      <td>no data</td>\n",
              "      <td>4800000</td>\n",
              "    </tr>\n",
              "    <tr>\n",
              "      <th>25583</th>\n",
              "      <td>25588</td>\n",
              "      <td>33</td>\n",
              "      <td>17.0</td>\n",
              "      <td>4.0</td>\n",
              "      <td>Krjukovo</td>\n",
              "      <td>5278.0</td>\n",
              "      <td>6</td>\n",
              "      <td>10529.0</td>\n",
              "      <td>6</td>\n",
              "      <td>0</td>\n",
              "      <td>30.0</td>\n",
              "      <td>2</td>\n",
              "      <td>0</td>\n",
              "      <td>4</td>\n",
              "      <td>1</td>\n",
              "      <td>0</td>\n",
              "      <td>4</td>\n",
              "      <td>1</td>\n",
              "      <td>26.059367</td>\n",
              "      <td>21.197312</td>\n",
              "      <td>254.200791</td>\n",
              "      <td>21.183399</td>\n",
              "      <td>0.439558</td>\n",
              "      <td>0.546449</td>\n",
              "      <td>17.107203</td>\n",
              "      <td>0.326627</td>\n",
              "      <td>0.654529</td>\n",
              "      <td>0.987390</td>\n",
              "      <td>11.848685</td>\n",
              "      <td>0.071955</td>\n",
              "      <td>0.863464</td>\n",
              "      <td>19.403041</td>\n",
              "      <td>32.910430</td>\n",
              "      <td>35.532785</td>\n",
              "      <td>36.315593</td>\n",
              "      <td>37.557488</td>\n",
              "      <td>43.855132</td>\n",
              "      <td>0.513551</td>\n",
              "      <td>0.514816</td>\n",
              "      <td>5.950466</td>\n",
              "      <td>5.892091</td>\n",
              "      <td>28.369216</td>\n",
              "      <td>13.991474</td>\n",
              "      <td>2.757385</td>\n",
              "      <td>3.554526</td>\n",
              "      <td>4.110242</td>\n",
              "      <td>0.514816</td>\n",
              "      <td>0.569697</td>\n",
              "      <td>0.973696</td>\n",
              "      <td>0.546449</td>\n",
              "      <td>5.484851</td>\n",
              "      <td>0.510044</td>\n",
              "      <td>6.749430</td>\n",
              "      <td>1.285508</td>\n",
              "      <td>no data</td>\n",
              "      <td>4950000</td>\n",
              "    </tr>\n",
              "    <tr>\n",
              "      <th>29439</th>\n",
              "      <td>29444</td>\n",
              "      <td>32</td>\n",
              "      <td>17.0</td>\n",
              "      <td>3.0</td>\n",
              "      <td>Jaroslavskoe</td>\n",
              "      <td>2974.0</td>\n",
              "      <td>4</td>\n",
              "      <td>6119.0</td>\n",
              "      <td>6</td>\n",
              "      <td>0</td>\n",
              "      <td>320.0</td>\n",
              "      <td>1</td>\n",
              "      <td>1</td>\n",
              "      <td>13</td>\n",
              "      <td>3</td>\n",
              "      <td>0</td>\n",
              "      <td>3</td>\n",
              "      <td>5</td>\n",
              "      <td>7.881873</td>\n",
              "      <td>7.200757</td>\n",
              "      <td>73.072323</td>\n",
              "      <td>6.089360</td>\n",
              "      <td>0.132813</td>\n",
              "      <td>0.137435</td>\n",
              "      <td>1.974168</td>\n",
              "      <td>0.144919</td>\n",
              "      <td>2.095076</td>\n",
              "      <td>2.857890</td>\n",
              "      <td>34.294677</td>\n",
              "      <td>0.164142</td>\n",
              "      <td>1.969700</td>\n",
              "      <td>1.074736</td>\n",
              "      <td>9.798943</td>\n",
              "      <td>12.318114</td>\n",
              "      <td>12.962047</td>\n",
              "      <td>14.602125</td>\n",
              "      <td>3.792936</td>\n",
              "      <td>8.706523</td>\n",
              "      <td>0.385172</td>\n",
              "      <td>5.927977</td>\n",
              "      <td>7.694823</td>\n",
              "      <td>9.370400</td>\n",
              "      <td>1.074990</td>\n",
              "      <td>0.831834</td>\n",
              "      <td>4.644559</td>\n",
              "      <td>0.137435</td>\n",
              "      <td>0.997827</td>\n",
              "      <td>0.407031</td>\n",
              "      <td>0.830995</td>\n",
              "      <td>0.137435</td>\n",
              "      <td>1.452417</td>\n",
              "      <td>1.452573</td>\n",
              "      <td>0.269573</td>\n",
              "      <td>8.401475</td>\n",
              "      <td>good</td>\n",
              "      <td>4850000</td>\n",
              "    </tr>\n",
              "    <tr>\n",
              "      <th>23320</th>\n",
              "      <td>23325</td>\n",
              "      <td>40</td>\n",
              "      <td>20.0</td>\n",
              "      <td>14.0</td>\n",
              "      <td>Zjablikovo</td>\n",
              "      <td>3909.0</td>\n",
              "      <td>4</td>\n",
              "      <td>8294.0</td>\n",
              "      <td>5</td>\n",
              "      <td>0</td>\n",
              "      <td>810.0</td>\n",
              "      <td>0</td>\n",
              "      <td>0</td>\n",
              "      <td>5</td>\n",
              "      <td>1</td>\n",
              "      <td>0</td>\n",
              "      <td>5</td>\n",
              "      <td>0</td>\n",
              "      <td>1.266495</td>\n",
              "      <td>0.730444</td>\n",
              "      <td>8.765329</td>\n",
              "      <td>0.730444</td>\n",
              "      <td>0.164939</td>\n",
              "      <td>0.480107</td>\n",
              "      <td>1.950347</td>\n",
              "      <td>0.244927</td>\n",
              "      <td>1.815399</td>\n",
              "      <td>6.327905</td>\n",
              "      <td>75.934855</td>\n",
              "      <td>0.071828</td>\n",
              "      <td>0.861939</td>\n",
              "      <td>1.077040</td>\n",
              "      <td>11.464744</td>\n",
              "      <td>14.775241</td>\n",
              "      <td>16.305173</td>\n",
              "      <td>17.017691</td>\n",
              "      <td>3.152453</td>\n",
              "      <td>2.398437</td>\n",
              "      <td>0.798738</td>\n",
              "      <td>1.805317</td>\n",
              "      <td>2.097766</td>\n",
              "      <td>8.779689</td>\n",
              "      <td>5.812147</td>\n",
              "      <td>0.603478</td>\n",
              "      <td>1.950341</td>\n",
              "      <td>2.947446</td>\n",
              "      <td>0.418225</td>\n",
              "      <td>2.498325</td>\n",
              "      <td>1.314755</td>\n",
              "      <td>0.480107</td>\n",
              "      <td>1.789469</td>\n",
              "      <td>0.633395</td>\n",
              "      <td>13.577704</td>\n",
              "      <td>4.696669</td>\n",
              "      <td>poor</td>\n",
              "      <td>5300000</td>\n",
              "    </tr>\n",
              "    <tr>\n",
              "      <th>13534</th>\n",
              "      <td>13539</td>\n",
              "      <td>90</td>\n",
              "      <td>49.0</td>\n",
              "      <td>16.0</td>\n",
              "      <td>Solncevo</td>\n",
              "      <td>3953.0</td>\n",
              "      <td>5</td>\n",
              "      <td>9700.0</td>\n",
              "      <td>5</td>\n",
              "      <td>0</td>\n",
              "      <td>750.0</td>\n",
              "      <td>2</td>\n",
              "      <td>0</td>\n",
              "      <td>4</td>\n",
              "      <td>3</td>\n",
              "      <td>0</td>\n",
              "      <td>5</td>\n",
              "      <td>1</td>\n",
              "      <td>2.141808</td>\n",
              "      <td>1.077193</td>\n",
              "      <td>12.926322</td>\n",
              "      <td>1.077193</td>\n",
              "      <td>0.312871</td>\n",
              "      <td>0.311082</td>\n",
              "      <td>1.214655</td>\n",
              "      <td>0.363225</td>\n",
              "      <td>0.142701</td>\n",
              "      <td>2.135700</td>\n",
              "      <td>25.628398</td>\n",
              "      <td>0.039714</td>\n",
              "      <td>0.476562</td>\n",
              "      <td>1.376156</td>\n",
              "      <td>11.410137</td>\n",
              "      <td>14.127496</td>\n",
              "      <td>15.298874</td>\n",
              "      <td>16.158312</td>\n",
              "      <td>9.817322</td>\n",
              "      <td>0.816845</td>\n",
              "      <td>1.214363</td>\n",
              "      <td>2.030559</td>\n",
              "      <td>5.747925</td>\n",
              "      <td>8.383812</td>\n",
              "      <td>3.169345</td>\n",
              "      <td>1.844330</td>\n",
              "      <td>5.646155</td>\n",
              "      <td>5.558807</td>\n",
              "      <td>0.554017</td>\n",
              "      <td>1.108105</td>\n",
              "      <td>0.301993</td>\n",
              "      <td>0.311082</td>\n",
              "      <td>2.622671</td>\n",
              "      <td>1.580343</td>\n",
              "      <td>7.944798</td>\n",
              "      <td>4.122909</td>\n",
              "      <td>good</td>\n",
              "      <td>13500000</td>\n",
              "    </tr>\n",
              "    <tr>\n",
              "      <th>2447</th>\n",
              "      <td>2452</td>\n",
              "      <td>42</td>\n",
              "      <td>28.0</td>\n",
              "      <td>9.0</td>\n",
              "      <td>Pokrovskoe Streshnevo</td>\n",
              "      <td>922.0</td>\n",
              "      <td>2</td>\n",
              "      <td>3577.0</td>\n",
              "      <td>4</td>\n",
              "      <td>0</td>\n",
              "      <td>2643.0</td>\n",
              "      <td>4</td>\n",
              "      <td>0</td>\n",
              "      <td>10</td>\n",
              "      <td>2</td>\n",
              "      <td>0</td>\n",
              "      <td>5</td>\n",
              "      <td>4</td>\n",
              "      <td>3.969359</td>\n",
              "      <td>2.888869</td>\n",
              "      <td>19.494489</td>\n",
              "      <td>1.624541</td>\n",
              "      <td>1.768471</td>\n",
              "      <td>0.917628</td>\n",
              "      <td>0.890504</td>\n",
              "      <td>0.300997</td>\n",
              "      <td>1.365413</td>\n",
              "      <td>2.122180</td>\n",
              "      <td>25.466156</td>\n",
              "      <td>0.276073</td>\n",
              "      <td>3.312878</td>\n",
              "      <td>4.566668</td>\n",
              "      <td>6.737275</td>\n",
              "      <td>9.481100</td>\n",
              "      <td>10.318046</td>\n",
              "      <td>11.508810</td>\n",
              "      <td>29.425064</td>\n",
              "      <td>1.217928</td>\n",
              "      <td>0.744273</td>\n",
              "      <td>1.391298</td>\n",
              "      <td>5.613154</td>\n",
              "      <td>2.807595</td>\n",
              "      <td>0.626440</td>\n",
              "      <td>1.128188</td>\n",
              "      <td>3.560881</td>\n",
              "      <td>1.674276</td>\n",
              "      <td>0.328550</td>\n",
              "      <td>0.775254</td>\n",
              "      <td>0.780146</td>\n",
              "      <td>0.917628</td>\n",
              "      <td>2.366060</td>\n",
              "      <td>0.569406</td>\n",
              "      <td>9.648397</td>\n",
              "      <td>8.666296</td>\n",
              "      <td>poor</td>\n",
              "      <td>7000000</td>\n",
              "    </tr>\n",
              "    <tr>\n",
              "      <th>29266</th>\n",
              "      <td>29271</td>\n",
              "      <td>79</td>\n",
              "      <td>44.0</td>\n",
              "      <td>16.0</td>\n",
              "      <td>Presnenskoe</td>\n",
              "      <td>3240.0</td>\n",
              "      <td>7</td>\n",
              "      <td>10602.0</td>\n",
              "      <td>9</td>\n",
              "      <td>0</td>\n",
              "      <td>1940.0</td>\n",
              "      <td>2</td>\n",
              "      <td>1</td>\n",
              "      <td>29</td>\n",
              "      <td>2</td>\n",
              "      <td>3</td>\n",
              "      <td>5</td>\n",
              "      <td>84</td>\n",
              "      <td>0.635631</td>\n",
              "      <td>0.251529</td>\n",
              "      <td>3.018346</td>\n",
              "      <td>0.251529</td>\n",
              "      <td>0.084694</td>\n",
              "      <td>1.699226</td>\n",
              "      <td>1.591980</td>\n",
              "      <td>0.386628</td>\n",
              "      <td>0.196721</td>\n",
              "      <td>1.107606</td>\n",
              "      <td>13.291277</td>\n",
              "      <td>0.230258</td>\n",
              "      <td>2.763098</td>\n",
              "      <td>9.551100</td>\n",
              "      <td>0.737704</td>\n",
              "      <td>3.890768</td>\n",
              "      <td>4.790246</td>\n",
              "      <td>5.793201</td>\n",
              "      <td>17.567446</td>\n",
              "      <td>3.056669</td>\n",
              "      <td>0.312469</td>\n",
              "      <td>2.185391</td>\n",
              "      <td>4.688974</td>\n",
              "      <td>2.589904</td>\n",
              "      <td>2.363530</td>\n",
              "      <td>1.422229</td>\n",
              "      <td>2.271620</td>\n",
              "      <td>2.144409</td>\n",
              "      <td>0.737400</td>\n",
              "      <td>0.410366</td>\n",
              "      <td>1.700744</td>\n",
              "      <td>1.699226</td>\n",
              "      <td>0.350439</td>\n",
              "      <td>1.092209</td>\n",
              "      <td>3.607170</td>\n",
              "      <td>2.157297</td>\n",
              "      <td>poor</td>\n",
              "      <td>17500000</td>\n",
              "    </tr>\n",
              "  </tbody>\n",
              "</table>\n",
              "</div>"
            ],
            "text/plain": [
              "          id  full_sq  life_sq  ...  museum_km       ecology  price_doc\n",
              "1906    1911       32     16.0  ...   7.615268  satisfactory    6700000\n",
              "12913  12918       61     43.0  ...   7.291530          good    9100000\n",
              "5729    5734       37     19.0  ...   0.827362       no data    4800000\n",
              "25583  25588       33     17.0  ...   1.285508       no data    4950000\n",
              "29439  29444       32     17.0  ...   8.401475          good    4850000\n",
              "23320  23325       40     20.0  ...   4.696669          poor    5300000\n",
              "13534  13539       90     49.0  ...   4.122909          good   13500000\n",
              "2447    2452       42     28.0  ...   8.666296          poor    7000000\n",
              "29266  29271       79     44.0  ...   2.157297          poor   17500000\n",
              "\n",
              "[9 rows x 56 columns]"
            ]
          },
          "metadata": {
            "tags": []
          },
          "execution_count": 42
        }
      ]
    },
    {
      "cell_type": "code",
      "metadata": {
        "id": "igBfdIWQGPv0",
        "colab_type": "code",
        "colab": {
          "base_uri": "https://localhost:8080/",
          "height": 34
        },
        "outputId": "32d80088-b7eb-4bd6-a9f6-2531416459f6"
      },
      "source": [
        "data.ecology.value_counts().index"
      ],
      "execution_count": 43,
      "outputs": [
        {
          "output_type": "execute_result",
          "data": {
            "text/plain": [
              "Index(['poor', 'good', 'satisfactory', 'excellent', 'no data'], dtype='object')"
            ]
          },
          "metadata": {
            "tags": []
          },
          "execution_count": 43
        }
      ]
    },
    {
      "cell_type": "code",
      "metadata": {
        "id": "ULBBp7xxB-or",
        "colab_type": "code",
        "colab": {
          "base_uri": "https://localhost:8080/",
          "height": 34
        },
        "outputId": "45ef7a52-17db-40bc-b1b3-39f006ebbfb9"
      },
      "source": [
        "ecology_dict = dict(zip(['poor', 'good', 'satisfactory', 'excellent', 'no data'], [2, 3, 1, 4, 0]))\n",
        "ecology_dict\n"
      ],
      "execution_count": 44,
      "outputs": [
        {
          "output_type": "execute_result",
          "data": {
            "text/plain": [
              "{'excellent': 4, 'good': 3, 'no data': 0, 'poor': 2, 'satisfactory': 1}"
            ]
          },
          "metadata": {
            "tags": []
          },
          "execution_count": 44
        }
      ]
    },
    {
      "cell_type": "code",
      "metadata": {
        "id": "97uahHGqF0W-",
        "colab_type": "code",
        "colab": {}
      },
      "source": [
        "data.ecology = data.ecology.replace(to_replace=ecology_dict)"
      ],
      "execution_count": 45,
      "outputs": []
    },
    {
      "cell_type": "code",
      "metadata": {
        "id": "ZaRsdv8pF0MP",
        "colab_type": "code",
        "colab": {
          "base_uri": "https://localhost:8080/",
          "height": 34
        },
        "outputId": "73e31ed0-a180-401a-e8dd-0af3d03ec32d"
      },
      "source": [
        "round(data.ecology.mean(), 2)"
      ],
      "execution_count": 46,
      "outputs": [
        {
          "output_type": "execute_result",
          "data": {
            "text/plain": [
              "2.33"
            ]
          },
          "metadata": {
            "tags": []
          },
          "execution_count": 46
        }
      ]
    },
    {
      "cell_type": "code",
      "metadata": {
        "id": "LM11RJQ2Fz_g",
        "colab_type": "code",
        "colab": {
          "base_uri": "https://localhost:8080/",
          "height": 270
        },
        "outputId": "8cb95f12-619c-4f73-e620-d08c1eb3bf58"
      },
      "source": [
        "pd.get_dummies(data.sub_area, drop_first=True).head()"
      ],
      "execution_count": 47,
      "outputs": [
        {
          "output_type": "execute_result",
          "data": {
            "text/html": [
              "<div>\n",
              "<style scoped>\n",
              "    .dataframe tbody tr th:only-of-type {\n",
              "        vertical-align: middle;\n",
              "    }\n",
              "\n",
              "    .dataframe tbody tr th {\n",
              "        vertical-align: top;\n",
              "    }\n",
              "\n",
              "    .dataframe thead th {\n",
              "        text-align: right;\n",
              "    }\n",
              "</style>\n",
              "<table border=\"1\" class=\"dataframe\">\n",
              "  <thead>\n",
              "    <tr style=\"text-align: right;\">\n",
              "      <th></th>\n",
              "      <th>Akademicheskoe</th>\n",
              "      <th>Alekseevskoe</th>\n",
              "      <th>Arbat</th>\n",
              "      <th>Babushkinskoe</th>\n",
              "      <th>Basmannoe</th>\n",
              "      <th>Begovoe</th>\n",
              "      <th>Beskudnikovskoe</th>\n",
              "      <th>Bibirevo</th>\n",
              "      <th>Birjulevo Vostochnoe</th>\n",
              "      <th>Caricyno</th>\n",
              "      <th>Cheremushki</th>\n",
              "      <th>Danilovskoe</th>\n",
              "      <th>Dmitrovskoe</th>\n",
              "      <th>Donskoe</th>\n",
              "      <th>Filevskij Park</th>\n",
              "      <th>Gol'janovo</th>\n",
              "      <th>Golovinskoe</th>\n",
              "      <th>Hamovniki</th>\n",
              "      <th>Horoshevo-Mnevniki</th>\n",
              "      <th>Hovrino</th>\n",
              "      <th>Izmajlovo</th>\n",
              "      <th>Jakimanka</th>\n",
              "      <th>Jaroslavskoe</th>\n",
              "      <th>Jasenevo</th>\n",
              "      <th>Juzhnoe Medvedkovo</th>\n",
              "      <th>Juzhnoportovoe</th>\n",
              "      <th>Kapotnja</th>\n",
              "      <th>Kon'kovo</th>\n",
              "      <th>Koptevo</th>\n",
              "      <th>Krjukovo</th>\n",
              "      <th>Kuncevo</th>\n",
              "      <th>Kurkino</th>\n",
              "      <th>Lefortovo</th>\n",
              "      <th>Levoberezhnoe</th>\n",
              "      <th>Ljublino</th>\n",
              "      <th>Lomonosovskoe</th>\n",
              "      <th>Losinoostrovskoe</th>\n",
              "      <th>Mar'ina Roshha</th>\n",
              "      <th>Meshhanskoe</th>\n",
              "      <th>Metrogorodok</th>\n",
              "      <th>...</th>\n",
              "      <th>Nagatino-Sadovniki</th>\n",
              "      <th>Nagatinskij Zaton</th>\n",
              "      <th>Nekrasovka</th>\n",
              "      <th>Novo-Peredelkino</th>\n",
              "      <th>Novogireevo</th>\n",
              "      <th>Obruchevskoe</th>\n",
              "      <th>Ochakovo-Matveevskoe</th>\n",
              "      <th>Ostankinskoe</th>\n",
              "      <th>Pechatniki</th>\n",
              "      <th>Perovo</th>\n",
              "      <th>Pokrovskoe Streshnevo</th>\n",
              "      <th>Preobrazhenskoe</th>\n",
              "      <th>Presnenskoe</th>\n",
              "      <th>Prospekt Vernadskogo</th>\n",
              "      <th>Ramenki</th>\n",
              "      <th>Rostokino</th>\n",
              "      <th>Savelki</th>\n",
              "      <th>Savelovskoe</th>\n",
              "      <th>Severnoe</th>\n",
              "      <th>Severnoe Butovo</th>\n",
              "      <th>Severnoe Tushino</th>\n",
              "      <th>Shhukino</th>\n",
              "      <th>Sokol</th>\n",
              "      <th>Sokol'niki</th>\n",
              "      <th>Sokolinaja Gora</th>\n",
              "      <th>Solncevo</th>\n",
              "      <th>Sviblovo</th>\n",
              "      <th>Taganskoe</th>\n",
              "      <th>Tekstil'shhiki</th>\n",
              "      <th>Timirjazevskoe</th>\n",
              "      <th>Tverskoe</th>\n",
              "      <th>Veshnjaki</th>\n",
              "      <th>Vnukovo</th>\n",
              "      <th>Vostochnoe</th>\n",
              "      <th>Vostochnoe Izmajlovo</th>\n",
              "      <th>Vyhino-Zhulebino</th>\n",
              "      <th>Zamoskvorech'e</th>\n",
              "      <th>Zapadnoe Degunino</th>\n",
              "      <th>Zjablikovo</th>\n",
              "      <th>Zjuzino</th>\n",
              "    </tr>\n",
              "  </thead>\n",
              "  <tbody>\n",
              "    <tr>\n",
              "      <th>0</th>\n",
              "      <td>0</td>\n",
              "      <td>0</td>\n",
              "      <td>0</td>\n",
              "      <td>0</td>\n",
              "      <td>0</td>\n",
              "      <td>0</td>\n",
              "      <td>0</td>\n",
              "      <td>1</td>\n",
              "      <td>0</td>\n",
              "      <td>0</td>\n",
              "      <td>0</td>\n",
              "      <td>0</td>\n",
              "      <td>0</td>\n",
              "      <td>0</td>\n",
              "      <td>0</td>\n",
              "      <td>0</td>\n",
              "      <td>0</td>\n",
              "      <td>0</td>\n",
              "      <td>0</td>\n",
              "      <td>0</td>\n",
              "      <td>0</td>\n",
              "      <td>0</td>\n",
              "      <td>0</td>\n",
              "      <td>0</td>\n",
              "      <td>0</td>\n",
              "      <td>0</td>\n",
              "      <td>0</td>\n",
              "      <td>0</td>\n",
              "      <td>0</td>\n",
              "      <td>0</td>\n",
              "      <td>0</td>\n",
              "      <td>0</td>\n",
              "      <td>0</td>\n",
              "      <td>0</td>\n",
              "      <td>0</td>\n",
              "      <td>0</td>\n",
              "      <td>0</td>\n",
              "      <td>0</td>\n",
              "      <td>0</td>\n",
              "      <td>0</td>\n",
              "      <td>...</td>\n",
              "      <td>0</td>\n",
              "      <td>0</td>\n",
              "      <td>0</td>\n",
              "      <td>0</td>\n",
              "      <td>0</td>\n",
              "      <td>0</td>\n",
              "      <td>0</td>\n",
              "      <td>0</td>\n",
              "      <td>0</td>\n",
              "      <td>0</td>\n",
              "      <td>0</td>\n",
              "      <td>0</td>\n",
              "      <td>0</td>\n",
              "      <td>0</td>\n",
              "      <td>0</td>\n",
              "      <td>0</td>\n",
              "      <td>0</td>\n",
              "      <td>0</td>\n",
              "      <td>0</td>\n",
              "      <td>0</td>\n",
              "      <td>0</td>\n",
              "      <td>0</td>\n",
              "      <td>0</td>\n",
              "      <td>0</td>\n",
              "      <td>0</td>\n",
              "      <td>0</td>\n",
              "      <td>0</td>\n",
              "      <td>0</td>\n",
              "      <td>0</td>\n",
              "      <td>0</td>\n",
              "      <td>0</td>\n",
              "      <td>0</td>\n",
              "      <td>0</td>\n",
              "      <td>0</td>\n",
              "      <td>0</td>\n",
              "      <td>0</td>\n",
              "      <td>0</td>\n",
              "      <td>0</td>\n",
              "      <td>0</td>\n",
              "      <td>0</td>\n",
              "    </tr>\n",
              "    <tr>\n",
              "      <th>1</th>\n",
              "      <td>0</td>\n",
              "      <td>0</td>\n",
              "      <td>0</td>\n",
              "      <td>0</td>\n",
              "      <td>0</td>\n",
              "      <td>0</td>\n",
              "      <td>0</td>\n",
              "      <td>0</td>\n",
              "      <td>0</td>\n",
              "      <td>0</td>\n",
              "      <td>0</td>\n",
              "      <td>0</td>\n",
              "      <td>0</td>\n",
              "      <td>0</td>\n",
              "      <td>0</td>\n",
              "      <td>0</td>\n",
              "      <td>0</td>\n",
              "      <td>0</td>\n",
              "      <td>0</td>\n",
              "      <td>0</td>\n",
              "      <td>0</td>\n",
              "      <td>0</td>\n",
              "      <td>0</td>\n",
              "      <td>0</td>\n",
              "      <td>0</td>\n",
              "      <td>0</td>\n",
              "      <td>0</td>\n",
              "      <td>0</td>\n",
              "      <td>0</td>\n",
              "      <td>0</td>\n",
              "      <td>0</td>\n",
              "      <td>0</td>\n",
              "      <td>0</td>\n",
              "      <td>0</td>\n",
              "      <td>0</td>\n",
              "      <td>0</td>\n",
              "      <td>0</td>\n",
              "      <td>0</td>\n",
              "      <td>0</td>\n",
              "      <td>0</td>\n",
              "      <td>...</td>\n",
              "      <td>0</td>\n",
              "      <td>1</td>\n",
              "      <td>0</td>\n",
              "      <td>0</td>\n",
              "      <td>0</td>\n",
              "      <td>0</td>\n",
              "      <td>0</td>\n",
              "      <td>0</td>\n",
              "      <td>0</td>\n",
              "      <td>0</td>\n",
              "      <td>0</td>\n",
              "      <td>0</td>\n",
              "      <td>0</td>\n",
              "      <td>0</td>\n",
              "      <td>0</td>\n",
              "      <td>0</td>\n",
              "      <td>0</td>\n",
              "      <td>0</td>\n",
              "      <td>0</td>\n",
              "      <td>0</td>\n",
              "      <td>0</td>\n",
              "      <td>0</td>\n",
              "      <td>0</td>\n",
              "      <td>0</td>\n",
              "      <td>0</td>\n",
              "      <td>0</td>\n",
              "      <td>0</td>\n",
              "      <td>0</td>\n",
              "      <td>0</td>\n",
              "      <td>0</td>\n",
              "      <td>0</td>\n",
              "      <td>0</td>\n",
              "      <td>0</td>\n",
              "      <td>0</td>\n",
              "      <td>0</td>\n",
              "      <td>0</td>\n",
              "      <td>0</td>\n",
              "      <td>0</td>\n",
              "      <td>0</td>\n",
              "      <td>0</td>\n",
              "    </tr>\n",
              "    <tr>\n",
              "      <th>2</th>\n",
              "      <td>0</td>\n",
              "      <td>0</td>\n",
              "      <td>0</td>\n",
              "      <td>0</td>\n",
              "      <td>0</td>\n",
              "      <td>0</td>\n",
              "      <td>0</td>\n",
              "      <td>0</td>\n",
              "      <td>0</td>\n",
              "      <td>0</td>\n",
              "      <td>0</td>\n",
              "      <td>0</td>\n",
              "      <td>0</td>\n",
              "      <td>0</td>\n",
              "      <td>0</td>\n",
              "      <td>0</td>\n",
              "      <td>0</td>\n",
              "      <td>0</td>\n",
              "      <td>0</td>\n",
              "      <td>0</td>\n",
              "      <td>0</td>\n",
              "      <td>0</td>\n",
              "      <td>0</td>\n",
              "      <td>0</td>\n",
              "      <td>0</td>\n",
              "      <td>0</td>\n",
              "      <td>0</td>\n",
              "      <td>0</td>\n",
              "      <td>0</td>\n",
              "      <td>0</td>\n",
              "      <td>0</td>\n",
              "      <td>0</td>\n",
              "      <td>0</td>\n",
              "      <td>0</td>\n",
              "      <td>0</td>\n",
              "      <td>0</td>\n",
              "      <td>0</td>\n",
              "      <td>0</td>\n",
              "      <td>0</td>\n",
              "      <td>0</td>\n",
              "      <td>...</td>\n",
              "      <td>0</td>\n",
              "      <td>0</td>\n",
              "      <td>0</td>\n",
              "      <td>0</td>\n",
              "      <td>0</td>\n",
              "      <td>0</td>\n",
              "      <td>0</td>\n",
              "      <td>0</td>\n",
              "      <td>0</td>\n",
              "      <td>0</td>\n",
              "      <td>0</td>\n",
              "      <td>0</td>\n",
              "      <td>0</td>\n",
              "      <td>0</td>\n",
              "      <td>0</td>\n",
              "      <td>0</td>\n",
              "      <td>0</td>\n",
              "      <td>0</td>\n",
              "      <td>0</td>\n",
              "      <td>0</td>\n",
              "      <td>0</td>\n",
              "      <td>0</td>\n",
              "      <td>0</td>\n",
              "      <td>0</td>\n",
              "      <td>0</td>\n",
              "      <td>0</td>\n",
              "      <td>0</td>\n",
              "      <td>0</td>\n",
              "      <td>1</td>\n",
              "      <td>0</td>\n",
              "      <td>0</td>\n",
              "      <td>0</td>\n",
              "      <td>0</td>\n",
              "      <td>0</td>\n",
              "      <td>0</td>\n",
              "      <td>0</td>\n",
              "      <td>0</td>\n",
              "      <td>0</td>\n",
              "      <td>0</td>\n",
              "      <td>0</td>\n",
              "    </tr>\n",
              "    <tr>\n",
              "      <th>4</th>\n",
              "      <td>0</td>\n",
              "      <td>0</td>\n",
              "      <td>0</td>\n",
              "      <td>0</td>\n",
              "      <td>1</td>\n",
              "      <td>0</td>\n",
              "      <td>0</td>\n",
              "      <td>0</td>\n",
              "      <td>0</td>\n",
              "      <td>0</td>\n",
              "      <td>0</td>\n",
              "      <td>0</td>\n",
              "      <td>0</td>\n",
              "      <td>0</td>\n",
              "      <td>0</td>\n",
              "      <td>0</td>\n",
              "      <td>0</td>\n",
              "      <td>0</td>\n",
              "      <td>0</td>\n",
              "      <td>0</td>\n",
              "      <td>0</td>\n",
              "      <td>0</td>\n",
              "      <td>0</td>\n",
              "      <td>0</td>\n",
              "      <td>0</td>\n",
              "      <td>0</td>\n",
              "      <td>0</td>\n",
              "      <td>0</td>\n",
              "      <td>0</td>\n",
              "      <td>0</td>\n",
              "      <td>0</td>\n",
              "      <td>0</td>\n",
              "      <td>0</td>\n",
              "      <td>0</td>\n",
              "      <td>0</td>\n",
              "      <td>0</td>\n",
              "      <td>0</td>\n",
              "      <td>0</td>\n",
              "      <td>0</td>\n",
              "      <td>0</td>\n",
              "      <td>...</td>\n",
              "      <td>0</td>\n",
              "      <td>0</td>\n",
              "      <td>0</td>\n",
              "      <td>0</td>\n",
              "      <td>0</td>\n",
              "      <td>0</td>\n",
              "      <td>0</td>\n",
              "      <td>0</td>\n",
              "      <td>0</td>\n",
              "      <td>0</td>\n",
              "      <td>0</td>\n",
              "      <td>0</td>\n",
              "      <td>0</td>\n",
              "      <td>0</td>\n",
              "      <td>0</td>\n",
              "      <td>0</td>\n",
              "      <td>0</td>\n",
              "      <td>0</td>\n",
              "      <td>0</td>\n",
              "      <td>0</td>\n",
              "      <td>0</td>\n",
              "      <td>0</td>\n",
              "      <td>0</td>\n",
              "      <td>0</td>\n",
              "      <td>0</td>\n",
              "      <td>0</td>\n",
              "      <td>0</td>\n",
              "      <td>0</td>\n",
              "      <td>0</td>\n",
              "      <td>0</td>\n",
              "      <td>0</td>\n",
              "      <td>0</td>\n",
              "      <td>0</td>\n",
              "      <td>0</td>\n",
              "      <td>0</td>\n",
              "      <td>0</td>\n",
              "      <td>0</td>\n",
              "      <td>0</td>\n",
              "      <td>0</td>\n",
              "      <td>0</td>\n",
              "    </tr>\n",
              "    <tr>\n",
              "      <th>6</th>\n",
              "      <td>0</td>\n",
              "      <td>0</td>\n",
              "      <td>0</td>\n",
              "      <td>0</td>\n",
              "      <td>0</td>\n",
              "      <td>0</td>\n",
              "      <td>0</td>\n",
              "      <td>0</td>\n",
              "      <td>0</td>\n",
              "      <td>0</td>\n",
              "      <td>0</td>\n",
              "      <td>0</td>\n",
              "      <td>0</td>\n",
              "      <td>0</td>\n",
              "      <td>0</td>\n",
              "      <td>0</td>\n",
              "      <td>0</td>\n",
              "      <td>0</td>\n",
              "      <td>0</td>\n",
              "      <td>0</td>\n",
              "      <td>0</td>\n",
              "      <td>0</td>\n",
              "      <td>0</td>\n",
              "      <td>0</td>\n",
              "      <td>0</td>\n",
              "      <td>0</td>\n",
              "      <td>0</td>\n",
              "      <td>0</td>\n",
              "      <td>0</td>\n",
              "      <td>0</td>\n",
              "      <td>0</td>\n",
              "      <td>0</td>\n",
              "      <td>0</td>\n",
              "      <td>0</td>\n",
              "      <td>0</td>\n",
              "      <td>0</td>\n",
              "      <td>0</td>\n",
              "      <td>0</td>\n",
              "      <td>0</td>\n",
              "      <td>0</td>\n",
              "      <td>...</td>\n",
              "      <td>0</td>\n",
              "      <td>0</td>\n",
              "      <td>0</td>\n",
              "      <td>0</td>\n",
              "      <td>0</td>\n",
              "      <td>0</td>\n",
              "      <td>0</td>\n",
              "      <td>0</td>\n",
              "      <td>0</td>\n",
              "      <td>0</td>\n",
              "      <td>0</td>\n",
              "      <td>0</td>\n",
              "      <td>0</td>\n",
              "      <td>0</td>\n",
              "      <td>0</td>\n",
              "      <td>0</td>\n",
              "      <td>0</td>\n",
              "      <td>0</td>\n",
              "      <td>0</td>\n",
              "      <td>0</td>\n",
              "      <td>0</td>\n",
              "      <td>0</td>\n",
              "      <td>0</td>\n",
              "      <td>1</td>\n",
              "      <td>0</td>\n",
              "      <td>0</td>\n",
              "      <td>0</td>\n",
              "      <td>0</td>\n",
              "      <td>0</td>\n",
              "      <td>0</td>\n",
              "      <td>0</td>\n",
              "      <td>0</td>\n",
              "      <td>0</td>\n",
              "      <td>0</td>\n",
              "      <td>0</td>\n",
              "      <td>0</td>\n",
              "      <td>0</td>\n",
              "      <td>0</td>\n",
              "      <td>0</td>\n",
              "      <td>0</td>\n",
              "    </tr>\n",
              "  </tbody>\n",
              "</table>\n",
              "<p>5 rows × 82 columns</p>\n",
              "</div>"
            ],
            "text/plain": [
              "   Akademicheskoe  Alekseevskoe  Arbat  ...  Zapadnoe Degunino  Zjablikovo  Zjuzino\n",
              "0               0             0      0  ...                  0           0        0\n",
              "1               0             0      0  ...                  0           0        0\n",
              "2               0             0      0  ...                  0           0        0\n",
              "4               0             0      0  ...                  0           0        0\n",
              "6               0             0      0  ...                  0           0        0\n",
              "\n",
              "[5 rows x 82 columns]"
            ]
          },
          "metadata": {
            "tags": []
          },
          "execution_count": 47
        }
      ]
    },
    {
      "cell_type": "code",
      "metadata": {
        "id": "9kXBL8-HB-gK",
        "colab_type": "code",
        "colab": {
          "base_uri": "https://localhost:8080/",
          "height": 382
        },
        "outputId": "8c69f41d-7e1a-492b-bfce-63bb780f018f"
      },
      "source": [
        "data.sample(9)"
      ],
      "execution_count": 50,
      "outputs": [
        {
          "output_type": "execute_result",
          "data": {
            "text/html": [
              "<div>\n",
              "<style scoped>\n",
              "    .dataframe tbody tr th:only-of-type {\n",
              "        vertical-align: middle;\n",
              "    }\n",
              "\n",
              "    .dataframe tbody tr th {\n",
              "        vertical-align: top;\n",
              "    }\n",
              "\n",
              "    .dataframe thead th {\n",
              "        text-align: right;\n",
              "    }\n",
              "</style>\n",
              "<table border=\"1\" class=\"dataframe\">\n",
              "  <thead>\n",
              "    <tr style=\"text-align: right;\">\n",
              "      <th></th>\n",
              "      <th>id</th>\n",
              "      <th>full_sq</th>\n",
              "      <th>life_sq</th>\n",
              "      <th>floor</th>\n",
              "      <th>sub_area</th>\n",
              "      <th>preschool_quota</th>\n",
              "      <th>preschool_education_centers_raion</th>\n",
              "      <th>school_quota</th>\n",
              "      <th>school_education_centers_raion</th>\n",
              "      <th>school_education_centers_top_20_raion</th>\n",
              "      <th>hospital_beds_raion</th>\n",
              "      <th>healthcare_centers_raion</th>\n",
              "      <th>university_top_20_raion</th>\n",
              "      <th>sport_objects_raion</th>\n",
              "      <th>additional_education_raion</th>\n",
              "      <th>culture_objects_top_25_raion</th>\n",
              "      <th>shopping_centers_raion</th>\n",
              "      <th>office_raion</th>\n",
              "      <th>metro_min_avto</th>\n",
              "      <th>metro_km_avto</th>\n",
              "      <th>metro_min_walk</th>\n",
              "      <th>metro_km_walk</th>\n",
              "      <th>kindergarten_km</th>\n",
              "      <th>school_km</th>\n",
              "      <th>park_km</th>\n",
              "      <th>green_zone_km</th>\n",
              "      <th>industrial_km</th>\n",
              "      <th>railroad_station_walk_km</th>\n",
              "      <th>railroad_station_walk_min</th>\n",
              "      <th>public_transport_station_km</th>\n",
              "      <th>public_transport_station_min_walk</th>\n",
              "      <th>mkad_km</th>\n",
              "      <th>ttk_km</th>\n",
              "      <th>sadovoe_km</th>\n",
              "      <th>bulvar_ring_km</th>\n",
              "      <th>kremlin_km</th>\n",
              "      <th>big_market_km</th>\n",
              "      <th>market_shop_km</th>\n",
              "      <th>fitness_km</th>\n",
              "      <th>swim_pool_km</th>\n",
              "      <th>ice_rink_km</th>\n",
              "      <th>stadium_km</th>\n",
              "      <th>basketball_km</th>\n",
              "      <th>hospice_morgue_km</th>\n",
              "      <th>university_km</th>\n",
              "      <th>workplaces_km</th>\n",
              "      <th>shopping_centers_km</th>\n",
              "      <th>office_km</th>\n",
              "      <th>additional_education_km</th>\n",
              "      <th>preschool_km</th>\n",
              "      <th>big_church_km</th>\n",
              "      <th>church_synagogue_km</th>\n",
              "      <th>theater_km</th>\n",
              "      <th>museum_km</th>\n",
              "      <th>ecology</th>\n",
              "      <th>price_doc</th>\n",
              "    </tr>\n",
              "  </thead>\n",
              "  <tbody>\n",
              "    <tr>\n",
              "      <th>9438</th>\n",
              "      <td>9443</td>\n",
              "      <td>46</td>\n",
              "      <td>28.0</td>\n",
              "      <td>1.0</td>\n",
              "      <td>Meshhanskoe</td>\n",
              "      <td>1525.0</td>\n",
              "      <td>3</td>\n",
              "      <td>5752.0</td>\n",
              "      <td>3</td>\n",
              "      <td>0</td>\n",
              "      <td>2890.0</td>\n",
              "      <td>0</td>\n",
              "      <td>1</td>\n",
              "      <td>14</td>\n",
              "      <td>4</td>\n",
              "      <td>0</td>\n",
              "      <td>8</td>\n",
              "      <td>59</td>\n",
              "      <td>1.391212</td>\n",
              "      <td>0.959851</td>\n",
              "      <td>9.666748</td>\n",
              "      <td>0.805562</td>\n",
              "      <td>0.538630</td>\n",
              "      <td>0.153947</td>\n",
              "      <td>1.136152</td>\n",
              "      <td>0.952110</td>\n",
              "      <td>0.159326</td>\n",
              "      <td>0.762081</td>\n",
              "      <td>9.144977</td>\n",
              "      <td>0.219862</td>\n",
              "      <td>2.638346</td>\n",
              "      <td>11.411548</td>\n",
              "      <td>0.474691</td>\n",
              "      <td>1.720660</td>\n",
              "      <td>2.375133</td>\n",
              "      <td>3.915225</td>\n",
              "      <td>10.126697</td>\n",
              "      <td>2.465347</td>\n",
              "      <td>0.593258</td>\n",
              "      <td>1.457916</td>\n",
              "      <td>3.464345</td>\n",
              "      <td>6.236620</td>\n",
              "      <td>0.953311</td>\n",
              "      <td>0.515088</td>\n",
              "      <td>1.009754</td>\n",
              "      <td>1.129654</td>\n",
              "      <td>0.544010</td>\n",
              "      <td>0.243791</td>\n",
              "      <td>0.187894</td>\n",
              "      <td>0.153947</td>\n",
              "      <td>0.406680</td>\n",
              "      <td>0.436740</td>\n",
              "      <td>2.074597</td>\n",
              "      <td>1.416102</td>\n",
              "      <td>2</td>\n",
              "      <td>8200000</td>\n",
              "    </tr>\n",
              "    <tr>\n",
              "      <th>2645</th>\n",
              "      <td>2650</td>\n",
              "      <td>30</td>\n",
              "      <td>18.0</td>\n",
              "      <td>5.0</td>\n",
              "      <td>Izmajlovo</td>\n",
              "      <td>1313.0</td>\n",
              "      <td>4</td>\n",
              "      <td>4339.0</td>\n",
              "      <td>6</td>\n",
              "      <td>0</td>\n",
              "      <td>645.0</td>\n",
              "      <td>6</td>\n",
              "      <td>0</td>\n",
              "      <td>16</td>\n",
              "      <td>3</td>\n",
              "      <td>0</td>\n",
              "      <td>6</td>\n",
              "      <td>0</td>\n",
              "      <td>2.557348</td>\n",
              "      <td>1.917468</td>\n",
              "      <td>19.380092</td>\n",
              "      <td>1.615008</td>\n",
              "      <td>0.628046</td>\n",
              "      <td>0.592817</td>\n",
              "      <td>2.338247</td>\n",
              "      <td>0.426842</td>\n",
              "      <td>0.064629</td>\n",
              "      <td>4.295014</td>\n",
              "      <td>51.540170</td>\n",
              "      <td>0.038942</td>\n",
              "      <td>0.467307</td>\n",
              "      <td>4.047453</td>\n",
              "      <td>6.166112</td>\n",
              "      <td>8.392529</td>\n",
              "      <td>9.140939</td>\n",
              "      <td>10.934061</td>\n",
              "      <td>18.819908</td>\n",
              "      <td>0.863439</td>\n",
              "      <td>0.110243</td>\n",
              "      <td>2.670415</td>\n",
              "      <td>1.883464</td>\n",
              "      <td>2.396021</td>\n",
              "      <td>0.942419</td>\n",
              "      <td>1.943854</td>\n",
              "      <td>1.707073</td>\n",
              "      <td>0.882110</td>\n",
              "      <td>1.005637</td>\n",
              "      <td>1.176661</td>\n",
              "      <td>0.426073</td>\n",
              "      <td>0.592817</td>\n",
              "      <td>0.440153</td>\n",
              "      <td>0.449000</td>\n",
              "      <td>5.864434</td>\n",
              "      <td>5.173090</td>\n",
              "      <td>3</td>\n",
              "      <td>4950000</td>\n",
              "    </tr>\n",
              "    <tr>\n",
              "      <th>17989</th>\n",
              "      <td>17994</td>\n",
              "      <td>48</td>\n",
              "      <td>42.0</td>\n",
              "      <td>18.0</td>\n",
              "      <td>Nekrasovka</td>\n",
              "      <td>2395.0</td>\n",
              "      <td>5</td>\n",
              "      <td>7377.0</td>\n",
              "      <td>5</td>\n",
              "      <td>0</td>\n",
              "      <td>540.0</td>\n",
              "      <td>0</td>\n",
              "      <td>0</td>\n",
              "      <td>0</td>\n",
              "      <td>4</td>\n",
              "      <td>0</td>\n",
              "      <td>0</td>\n",
              "      <td>0</td>\n",
              "      <td>4.721045</td>\n",
              "      <td>3.776836</td>\n",
              "      <td>45.322032</td>\n",
              "      <td>3.776836</td>\n",
              "      <td>0.286711</td>\n",
              "      <td>0.214197</td>\n",
              "      <td>4.616176</td>\n",
              "      <td>0.017572</td>\n",
              "      <td>0.394108</td>\n",
              "      <td>1.923495</td>\n",
              "      <td>23.081939</td>\n",
              "      <td>0.035986</td>\n",
              "      <td>0.431838</td>\n",
              "      <td>5.946908</td>\n",
              "      <td>14.298225</td>\n",
              "      <td>18.418929</td>\n",
              "      <td>19.272537</td>\n",
              "      <td>20.549464</td>\n",
              "      <td>10.264218</td>\n",
              "      <td>5.439734</td>\n",
              "      <td>2.493236</td>\n",
              "      <td>8.106936</td>\n",
              "      <td>8.623789</td>\n",
              "      <td>13.591774</td>\n",
              "      <td>5.211201</td>\n",
              "      <td>1.451898</td>\n",
              "      <td>8.837248</td>\n",
              "      <td>5.599071</td>\n",
              "      <td>2.215104</td>\n",
              "      <td>4.778766</td>\n",
              "      <td>0.203466</td>\n",
              "      <td>0.214197</td>\n",
              "      <td>3.468289</td>\n",
              "      <td>0.912168</td>\n",
              "      <td>9.836242</td>\n",
              "      <td>7.288785</td>\n",
              "      <td>3</td>\n",
              "      <td>5335000</td>\n",
              "    </tr>\n",
              "    <tr>\n",
              "      <th>6503</th>\n",
              "      <td>6508</td>\n",
              "      <td>48</td>\n",
              "      <td>30.0</td>\n",
              "      <td>5.0</td>\n",
              "      <td>Meshhanskoe</td>\n",
              "      <td>1525.0</td>\n",
              "      <td>3</td>\n",
              "      <td>5752.0</td>\n",
              "      <td>3</td>\n",
              "      <td>0</td>\n",
              "      <td>2890.0</td>\n",
              "      <td>0</td>\n",
              "      <td>1</td>\n",
              "      <td>14</td>\n",
              "      <td>4</td>\n",
              "      <td>0</td>\n",
              "      <td>8</td>\n",
              "      <td>59</td>\n",
              "      <td>0.668212</td>\n",
              "      <td>0.534570</td>\n",
              "      <td>5.450834</td>\n",
              "      <td>0.454236</td>\n",
              "      <td>0.260701</td>\n",
              "      <td>0.150523</td>\n",
              "      <td>0.696378</td>\n",
              "      <td>0.201415</td>\n",
              "      <td>1.506593</td>\n",
              "      <td>2.129116</td>\n",
              "      <td>25.549387</td>\n",
              "      <td>0.092814</td>\n",
              "      <td>1.113769</td>\n",
              "      <td>13.218805</td>\n",
              "      <td>2.090538</td>\n",
              "      <td>0.016284</td>\n",
              "      <td>0.709651</td>\n",
              "      <td>2.103175</td>\n",
              "      <td>8.909128</td>\n",
              "      <td>1.281479</td>\n",
              "      <td>0.345492</td>\n",
              "      <td>1.979487</td>\n",
              "      <td>2.282761</td>\n",
              "      <td>5.704778</td>\n",
              "      <td>0.436181</td>\n",
              "      <td>0.371203</td>\n",
              "      <td>0.444040</td>\n",
              "      <td>1.559515</td>\n",
              "      <td>0.389158</td>\n",
              "      <td>0.135787</td>\n",
              "      <td>0.785896</td>\n",
              "      <td>0.150523</td>\n",
              "      <td>0.301751</td>\n",
              "      <td>0.343152</td>\n",
              "      <td>0.342728</td>\n",
              "      <td>0.551524</td>\n",
              "      <td>4</td>\n",
              "      <td>10500000</td>\n",
              "    </tr>\n",
              "    <tr>\n",
              "      <th>13286</th>\n",
              "      <td>13291</td>\n",
              "      <td>59</td>\n",
              "      <td>44.0</td>\n",
              "      <td>7.0</td>\n",
              "      <td>Severnoe Tushino</td>\n",
              "      <td>4116.0</td>\n",
              "      <td>5</td>\n",
              "      <td>9891.0</td>\n",
              "      <td>5</td>\n",
              "      <td>0</td>\n",
              "      <td>1145.0</td>\n",
              "      <td>3</td>\n",
              "      <td>0</td>\n",
              "      <td>1</td>\n",
              "      <td>2</td>\n",
              "      <td>0</td>\n",
              "      <td>5</td>\n",
              "      <td>0</td>\n",
              "      <td>2.553567</td>\n",
              "      <td>1.405681</td>\n",
              "      <td>16.868175</td>\n",
              "      <td>1.405681</td>\n",
              "      <td>0.478491</td>\n",
              "      <td>0.211121</td>\n",
              "      <td>1.816023</td>\n",
              "      <td>0.491905</td>\n",
              "      <td>1.729358</td>\n",
              "      <td>5.129364</td>\n",
              "      <td>61.552373</td>\n",
              "      <td>0.178461</td>\n",
              "      <td>2.141538</td>\n",
              "      <td>1.628472</td>\n",
              "      <td>11.838796</td>\n",
              "      <td>14.506291</td>\n",
              "      <td>15.267970</td>\n",
              "      <td>16.541199</td>\n",
              "      <td>20.816922</td>\n",
              "      <td>0.518451</td>\n",
              "      <td>0.670170</td>\n",
              "      <td>2.981037</td>\n",
              "      <td>7.596895</td>\n",
              "      <td>5.655967</td>\n",
              "      <td>1.741207</td>\n",
              "      <td>1.740330</td>\n",
              "      <td>9.404915</td>\n",
              "      <td>1.884545</td>\n",
              "      <td>0.339382</td>\n",
              "      <td>1.363342</td>\n",
              "      <td>0.301133</td>\n",
              "      <td>0.211121</td>\n",
              "      <td>0.350916</td>\n",
              "      <td>1.757022</td>\n",
              "      <td>24.055797</td>\n",
              "      <td>12.271080</td>\n",
              "      <td>1</td>\n",
              "      <td>8000000</td>\n",
              "    </tr>\n",
              "    <tr>\n",
              "      <th>13441</th>\n",
              "      <td>13446</td>\n",
              "      <td>54</td>\n",
              "      <td>32.0</td>\n",
              "      <td>17.0</td>\n",
              "      <td>Taganskoe</td>\n",
              "      <td>3318.0</td>\n",
              "      <td>5</td>\n",
              "      <td>9748.0</td>\n",
              "      <td>10</td>\n",
              "      <td>0</td>\n",
              "      <td>2301.0</td>\n",
              "      <td>3</td>\n",
              "      <td>1</td>\n",
              "      <td>24</td>\n",
              "      <td>1</td>\n",
              "      <td>1</td>\n",
              "      <td>19</td>\n",
              "      <td>56</td>\n",
              "      <td>0.927524</td>\n",
              "      <td>0.649963</td>\n",
              "      <td>7.799562</td>\n",
              "      <td>0.649963</td>\n",
              "      <td>0.121828</td>\n",
              "      <td>0.245334</td>\n",
              "      <td>0.949083</td>\n",
              "      <td>0.298436</td>\n",
              "      <td>0.365438</td>\n",
              "      <td>0.298815</td>\n",
              "      <td>3.585785</td>\n",
              "      <td>0.023180</td>\n",
              "      <td>0.278156</td>\n",
              "      <td>9.879420</td>\n",
              "      <td>0.857977</td>\n",
              "      <td>1.809797</td>\n",
              "      <td>2.514505</td>\n",
              "      <td>3.877841</td>\n",
              "      <td>4.625685</td>\n",
              "      <td>2.094750</td>\n",
              "      <td>0.147338</td>\n",
              "      <td>0.804294</td>\n",
              "      <td>0.769097</td>\n",
              "      <td>4.030472</td>\n",
              "      <td>0.786860</td>\n",
              "      <td>2.122369</td>\n",
              "      <td>1.836568</td>\n",
              "      <td>0.796770</td>\n",
              "      <td>0.236579</td>\n",
              "      <td>0.236579</td>\n",
              "      <td>1.579239</td>\n",
              "      <td>0.245334</td>\n",
              "      <td>0.166035</td>\n",
              "      <td>0.169972</td>\n",
              "      <td>2.137400</td>\n",
              "      <td>2.028409</td>\n",
              "      <td>4</td>\n",
              "      <td>12350000</td>\n",
              "    </tr>\n",
              "    <tr>\n",
              "      <th>724</th>\n",
              "      <td>727</td>\n",
              "      <td>92</td>\n",
              "      <td>92.0</td>\n",
              "      <td>3.0</td>\n",
              "      <td>Zamoskvorech'e</td>\n",
              "      <td>2224.0</td>\n",
              "      <td>4</td>\n",
              "      <td>4487.0</td>\n",
              "      <td>4</td>\n",
              "      <td>0</td>\n",
              "      <td>1815.0</td>\n",
              "      <td>2</td>\n",
              "      <td>3</td>\n",
              "      <td>13</td>\n",
              "      <td>1</td>\n",
              "      <td>0</td>\n",
              "      <td>5</td>\n",
              "      <td>73</td>\n",
              "      <td>2.245358</td>\n",
              "      <td>1.772453</td>\n",
              "      <td>4.818580</td>\n",
              "      <td>0.401548</td>\n",
              "      <td>0.233217</td>\n",
              "      <td>0.384485</td>\n",
              "      <td>0.577912</td>\n",
              "      <td>0.401853</td>\n",
              "      <td>2.538429</td>\n",
              "      <td>2.618538</td>\n",
              "      <td>31.422456</td>\n",
              "      <td>0.060916</td>\n",
              "      <td>0.730989</td>\n",
              "      <td>13.471169</td>\n",
              "      <td>3.933455</td>\n",
              "      <td>1.595653</td>\n",
              "      <td>0.460659</td>\n",
              "      <td>0.514619</td>\n",
              "      <td>6.726658</td>\n",
              "      <td>0.873608</td>\n",
              "      <td>0.322723</td>\n",
              "      <td>0.311100</td>\n",
              "      <td>1.631451</td>\n",
              "      <td>4.407646</td>\n",
              "      <td>0.977111</td>\n",
              "      <td>1.382442</td>\n",
              "      <td>1.070440</td>\n",
              "      <td>0.384485</td>\n",
              "      <td>0.269201</td>\n",
              "      <td>0.128299</td>\n",
              "      <td>1.011522</td>\n",
              "      <td>0.384485</td>\n",
              "      <td>0.200736</td>\n",
              "      <td>0.114296</td>\n",
              "      <td>1.578244</td>\n",
              "      <td>1.258834</td>\n",
              "      <td>4</td>\n",
              "      <td>24000000</td>\n",
              "    </tr>\n",
              "    <tr>\n",
              "      <th>2681</th>\n",
              "      <td>2686</td>\n",
              "      <td>57</td>\n",
              "      <td>36.0</td>\n",
              "      <td>8.0</td>\n",
              "      <td>Horoshevo-Mnevniki</td>\n",
              "      <td>3397.0</td>\n",
              "      <td>4</td>\n",
              "      <td>11085.0</td>\n",
              "      <td>5</td>\n",
              "      <td>0</td>\n",
              "      <td>1970.0</td>\n",
              "      <td>2</td>\n",
              "      <td>0</td>\n",
              "      <td>18</td>\n",
              "      <td>4</td>\n",
              "      <td>0</td>\n",
              "      <td>3</td>\n",
              "      <td>8</td>\n",
              "      <td>3.452471</td>\n",
              "      <td>2.428685</td>\n",
              "      <td>28.822660</td>\n",
              "      <td>2.401888</td>\n",
              "      <td>0.127747</td>\n",
              "      <td>0.757908</td>\n",
              "      <td>2.239941</td>\n",
              "      <td>0.600788</td>\n",
              "      <td>0.270807</td>\n",
              "      <td>3.333868</td>\n",
              "      <td>40.006419</td>\n",
              "      <td>0.181014</td>\n",
              "      <td>2.172169</td>\n",
              "      <td>5.234840</td>\n",
              "      <td>5.139671</td>\n",
              "      <td>8.173680</td>\n",
              "      <td>9.012324</td>\n",
              "      <td>10.177558</td>\n",
              "      <td>23.804445</td>\n",
              "      <td>1.712138</td>\n",
              "      <td>0.587085</td>\n",
              "      <td>1.355625</td>\n",
              "      <td>0.966088</td>\n",
              "      <td>1.179127</td>\n",
              "      <td>0.756079</td>\n",
              "      <td>1.834645</td>\n",
              "      <td>1.962723</td>\n",
              "      <td>1.071960</td>\n",
              "      <td>1.428470</td>\n",
              "      <td>0.328817</td>\n",
              "      <td>0.651518</td>\n",
              "      <td>0.757908</td>\n",
              "      <td>2.015821</td>\n",
              "      <td>0.705523</td>\n",
              "      <td>10.429952</td>\n",
              "      <td>6.594985</td>\n",
              "      <td>1</td>\n",
              "      <td>5150000</td>\n",
              "    </tr>\n",
              "    <tr>\n",
              "      <th>15002</th>\n",
              "      <td>15007</td>\n",
              "      <td>37</td>\n",
              "      <td>19.0</td>\n",
              "      <td>15.0</td>\n",
              "      <td>Golovinskoe</td>\n",
              "      <td>2646.0</td>\n",
              "      <td>4</td>\n",
              "      <td>5396.0</td>\n",
              "      <td>6</td>\n",
              "      <td>0</td>\n",
              "      <td>325.0</td>\n",
              "      <td>2</td>\n",
              "      <td>0</td>\n",
              "      <td>3</td>\n",
              "      <td>2</td>\n",
              "      <td>0</td>\n",
              "      <td>5</td>\n",
              "      <td>9</td>\n",
              "      <td>2.829813</td>\n",
              "      <td>1.587201</td>\n",
              "      <td>19.046410</td>\n",
              "      <td>1.587201</td>\n",
              "      <td>0.180627</td>\n",
              "      <td>0.289135</td>\n",
              "      <td>0.896987</td>\n",
              "      <td>0.057321</td>\n",
              "      <td>0.399150</td>\n",
              "      <td>2.046703</td>\n",
              "      <td>24.560430</td>\n",
              "      <td>0.312317</td>\n",
              "      <td>3.747799</td>\n",
              "      <td>4.666100</td>\n",
              "      <td>7.408683</td>\n",
              "      <td>10.190202</td>\n",
              "      <td>10.865784</td>\n",
              "      <td>12.256508</td>\n",
              "      <td>20.809828</td>\n",
              "      <td>2.802018</td>\n",
              "      <td>0.340727</td>\n",
              "      <td>3.310415</td>\n",
              "      <td>3.028257</td>\n",
              "      <td>3.069856</td>\n",
              "      <td>1.118823</td>\n",
              "      <td>1.074872</td>\n",
              "      <td>0.182182</td>\n",
              "      <td>0.597572</td>\n",
              "      <td>1.622017</td>\n",
              "      <td>0.716045</td>\n",
              "      <td>0.495872</td>\n",
              "      <td>0.289135</td>\n",
              "      <td>1.403170</td>\n",
              "      <td>1.140228</td>\n",
              "      <td>8.614386</td>\n",
              "      <td>6.818086</td>\n",
              "      <td>2</td>\n",
              "      <td>6000000</td>\n",
              "    </tr>\n",
              "  </tbody>\n",
              "</table>\n",
              "</div>"
            ],
            "text/plain": [
              "          id  full_sq  life_sq  ...  museum_km ecology  price_doc\n",
              "9438    9443       46     28.0  ...   1.416102       2    8200000\n",
              "2645    2650       30     18.0  ...   5.173090       3    4950000\n",
              "17989  17994       48     42.0  ...   7.288785       3    5335000\n",
              "6503    6508       48     30.0  ...   0.551524       4   10500000\n",
              "13286  13291       59     44.0  ...  12.271080       1    8000000\n",
              "13441  13446       54     32.0  ...   2.028409       4   12350000\n",
              "724      727       92     92.0  ...   1.258834       4   24000000\n",
              "2681    2686       57     36.0  ...   6.594985       1    5150000\n",
              "15002  15007       37     19.0  ...   6.818086       2    6000000\n",
              "\n",
              "[9 rows x 56 columns]"
            ]
          },
          "metadata": {
            "tags": []
          },
          "execution_count": 50
        }
      ]
    },
    {
      "cell_type": "code",
      "metadata": {
        "id": "vpDbpPQ1KR40",
        "colab_type": "code",
        "colab": {
          "base_uri": "https://localhost:8080/",
          "height": 34
        },
        "outputId": "5db172d7-e837-4789-d92d-e834ce82b38c"
      },
      "source": [
        "data.shape[1] + 82 - 1 "
      ],
      "execution_count": 54,
      "outputs": [
        {
          "output_type": "execute_result",
          "data": {
            "text/plain": [
              "137"
            ]
          },
          "metadata": {
            "tags": []
          },
          "execution_count": 54
        }
      ]
    },
    {
      "cell_type": "code",
      "metadata": {
        "id": "Vk-HMo19KdGU",
        "colab_type": "code",
        "colab": {}
      },
      "source": [
        ""
      ],
      "execution_count": null,
      "outputs": []
    },
    {
      "cell_type": "markdown",
      "metadata": {
        "id": "Y6KjHZ9382MQ",
        "colab_type": "text"
      },
      "source": [
        "# END"
      ]
    },
    {
      "cell_type": "code",
      "metadata": {
        "id": "aNqNQ4cL8nTw",
        "colab_type": "code",
        "colab": {}
      },
      "source": [
        ""
      ],
      "execution_count": 47,
      "outputs": []
    }
  ]
}