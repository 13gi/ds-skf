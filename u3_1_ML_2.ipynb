{
  "nbformat": 4,
  "nbformat_minor": 0,
  "metadata": {
    "colab": {
      "name": "u3-1-ML-2.ipynb",
      "provenance": [],
      "collapsed_sections": [],
      "mount_file_id": "1eSUUjmsC48Bx5jxZwVRxpet2Gu3AP7Xj",
      "authorship_tag": "ABX9TyP7au2QH1zY427rJMvLNCGg"
    },
    "kernelspec": {
      "name": "python3",
      "display_name": "Python 3"
    }
  },
  "cells": [
    {
      "cell_type": "markdown",
      "metadata": {
        "id": "lQ2xJBLs8u0T",
        "colab_type": "text"
      },
      "source": [
        "# START"
      ]
    },
    {
      "cell_type": "code",
      "metadata": {
        "id": "LP_TeuBx8sFV",
        "colab_type": "code",
        "colab": {}
      },
      "source": [
        "import warnings; warnings.simplefilter('ignore')\n",
        "\n",
        "import random\n",
        "\n",
        "import pandas as pd\n",
        "import numpy as np\n",
        "import os\n",
        "import re\n",
        "\n",
        "from sklearn.preprocessing import MinMaxScaler\n",
        "from sklearn.preprocessing import StandardScaler\n",
        "from sklearn.preprocessing import PolynomialFeatures\n",
        "\n",
        "import matplotlib.pyplot as plt\n",
        "import seaborn as sns\n",
        "import cufflinks as cf\n",
        "from plotly.offline import download_plotlyjs, init_notebook_mode, plot, iplot\n",
        "\n",
        "project_dir = r'/content/drive/My Drive/Colab Notebooks/'\n",
        "\n",
        "%matplotlib inline\n"
      ],
      "execution_count": null,
      "outputs": []
    },
    {
      "cell_type": "code",
      "metadata": {
        "id": "NjbkNXn0_rmp",
        "colab_type": "code",
        "colab": {}
      },
      "source": [
        ""
      ],
      "execution_count": null,
      "outputs": []
    },
    {
      "cell_type": "code",
      "metadata": {
        "id": "_ET1nhR_86vL",
        "colab_type": "code",
        "colab": {}
      },
      "source": [
        "# os.listdir(project_dir + 'data/u3/')\n",
        "in_file = project_dir + 'data/u3/' + 'data_flats.csv'"
      ],
      "execution_count": null,
      "outputs": []
    },
    {
      "cell_type": "markdown",
      "metadata": {
        "id": "F-xeKNvb88ry",
        "colab_type": "text"
      },
      "source": [
        "## 2.3"
      ]
    },
    {
      "cell_type": "code",
      "metadata": {
        "id": "s9qPjrbg8sB4",
        "colab_type": "code",
        "colab": {}
      },
      "source": [
        "data = pd.read_csv(in_file ,sep=\";\")\n",
        "data.head()"
      ],
      "execution_count": null,
      "outputs": []
    },
    {
      "cell_type": "code",
      "metadata": {
        "id": "4802YnR98r_D",
        "colab_type": "code",
        "colab": {}
      },
      "source": [
        "data.info()"
      ],
      "execution_count": null,
      "outputs": []
    },
    {
      "cell_type": "code",
      "metadata": {
        "id": "UMyz03Qa8r8e",
        "colab_type": "code",
        "colab": {}
      },
      "source": [
        "data.columns"
      ],
      "execution_count": null,
      "outputs": []
    },
    {
      "cell_type": "code",
      "metadata": {
        "id": "C8uXRYfG9AJX",
        "colab_type": "code",
        "colab": {}
      },
      "source": [
        ""
      ],
      "execution_count": null,
      "outputs": []
    },
    {
      "cell_type": "markdown",
      "metadata": {
        "id": "Hv1-uMmiB-XB",
        "colab_type": "text"
      },
      "source": [
        "## 2.6"
      ]
    },
    {
      "cell_type": "code",
      "metadata": {
        "id": "96TM9PX69AE9",
        "colab_type": "code",
        "colab": {}
      },
      "source": [
        "test_data = pd.DataFrame([[1, 2, np.nan], [3, np.nan, 4],\n",
        "                          [0, 1, 2]], columns=['one', 'two', 'three'])"
      ],
      "execution_count": null,
      "outputs": []
    },
    {
      "cell_type": "code",
      "metadata": {
        "id": "IwNO6yQc9AAk",
        "colab_type": "code",
        "colab": {}
      },
      "source": [
        "test_data"
      ],
      "execution_count": null,
      "outputs": []
    },
    {
      "cell_type": "code",
      "metadata": {
        "id": "rRdcjA4V8_8n",
        "colab_type": "code",
        "colab": {}
      },
      "source": [
        "test_data['two'].isna()"
      ],
      "execution_count": null,
      "outputs": []
    },
    {
      "cell_type": "code",
      "metadata": {
        "id": "Sr-Nq-cD8r4r",
        "colab_type": "code",
        "colab": {}
      },
      "source": [
        "test_data.dropna(axis=0)"
      ],
      "execution_count": null,
      "outputs": []
    },
    {
      "cell_type": "code",
      "metadata": {
        "id": "zT39wacc8r1L",
        "colab_type": "code",
        "colab": {}
      },
      "source": [
        "test_data.dropna(axis=1)"
      ],
      "execution_count": null,
      "outputs": []
    },
    {
      "cell_type": "code",
      "metadata": {
        "id": "A6CRu9-R_VhP",
        "colab_type": "code",
        "colab": {}
      },
      "source": [
        "test_data.fillna(-1)"
      ],
      "execution_count": null,
      "outputs": []
    },
    {
      "cell_type": "code",
      "metadata": {
        "id": "YcMHQBKf_Vcb",
        "colab_type": "code",
        "colab": {}
      },
      "source": [
        "test_data.two.fillna(test_data.two.mean())"
      ],
      "execution_count": null,
      "outputs": []
    },
    {
      "cell_type": "code",
      "metadata": {
        "id": "sqyc-W_G_VXv",
        "colab_type": "code",
        "colab": {}
      },
      "source": [
        "# Задание 2.6.6\n",
        "\n",
        "vis_data = pd.read_csv(project_dir + 'data/u3/'  + 'train.csv', encoding = 'ISO-8859-1', low_memory = False)\n",
        "# vis_data = pd.read_csv(\"train.csv\", encoding = 'ISO-8859-1', low_memory = False)\n",
        "\n",
        "vis_data.info()\n",
        "# result"
      ],
      "execution_count": null,
      "outputs": []
    },
    {
      "cell_type": "code",
      "metadata": {
        "id": "ziy4-hrx_VTZ",
        "colab_type": "code",
        "colab": {}
      },
      "source": [
        "# Получаем самое частое название штата (важно: не количество! а индексное значение!)\n",
        "vis_data.state.value_counts().head(1).keys()[0]"
      ],
      "execution_count": null,
      "outputs": []
    },
    {
      "cell_type": "code",
      "metadata": {
        "id": "zYRsguMB_VOi",
        "colab_type": "code",
        "colab": {}
      },
      "source": [
        "# сколько пропущено всего значений в столбце state\n",
        "vis_data.state.isna().sum()"
      ],
      "execution_count": null,
      "outputs": []
    },
    {
      "cell_type": "code",
      "metadata": {
        "id": "6xCh55tK8ryM",
        "colab_type": "code",
        "colab": {}
      },
      "source": [
        "# result = vis_data['state'].fillna('MI')\n",
        "result = vis_data['state'].fillna(vis_data.state.value_counts().head(1).keys()[0])\n"
      ],
      "execution_count": null,
      "outputs": []
    },
    {
      "cell_type": "code",
      "metadata": {
        "id": "rger9AnS8ru9",
        "colab_type": "code",
        "colab": {}
      },
      "source": [
        "# Задание 2.6.7\n",
        "\n",
        "data.shape"
      ],
      "execution_count": null,
      "outputs": []
    },
    {
      "cell_type": "code",
      "metadata": {
        "id": "dAe8uOnt8rr7",
        "colab_type": "code",
        "colab": {}
      },
      "source": [
        "data.dropna().shape"
      ],
      "execution_count": null,
      "outputs": []
    },
    {
      "cell_type": "code",
      "metadata": {
        "id": "ZFgNw-TYKWCr",
        "colab_type": "code",
        "colab": {}
      },
      "source": [
        "data.dropna(inplace=True)"
      ],
      "execution_count": null,
      "outputs": []
    },
    {
      "cell_type": "code",
      "metadata": {
        "id": "J8s765aoKV9N",
        "colab_type": "code",
        "colab": {}
      },
      "source": [
        "data.shape"
      ],
      "execution_count": null,
      "outputs": []
    },
    {
      "cell_type": "markdown",
      "metadata": {
        "id": "xMsRcFtqOw1V",
        "colab_type": "text"
      },
      "source": [
        "## 2.8"
      ]
    },
    {
      "cell_type": "markdown",
      "metadata": {
        "id": "7twNWvRESRur",
        "colab_type": "text"
      },
      "source": [
        "### minmax нормализация"
      ]
    },
    {
      "cell_type": "markdown",
      "metadata": {
        "id": "LFLSl1NASauu",
        "colab_type": "text"
      },
      "source": [
        "MinMaxScaler и StandardScaler сохраняют параметры, с которыми проводят нормализацию. Поэтому после нормализации признаков в тренировочной выборке нужно будет применить ту же нормализацию с валидационными и тестовыми данными."
      ]
    },
    {
      "cell_type": "code",
      "metadata": {
        "id": "PlXH7GpuOwep",
        "colab_type": "code",
        "colab": {}
      },
      "source": [
        "scaler = MinMaxScaler()\n",
        "scaler.fit_transform(test_data)"
      ],
      "execution_count": null,
      "outputs": []
    },
    {
      "cell_type": "markdown",
      "metadata": {
        "id": "MfdRVw2VSVeF",
        "colab_type": "text"
      },
      "source": [
        "### std нормализация"
      ]
    },
    {
      "cell_type": "code",
      "metadata": {
        "id": "6S-3_C6dOvj1",
        "colab_type": "code",
        "colab": {}
      },
      "source": [
        "scaler = StandardScaler()\n",
        "scaler.fit_transform(test_data)"
      ],
      "execution_count": null,
      "outputs": []
    },
    {
      "cell_type": "code",
      "metadata": {
        "id": "f2xC-xPvKV3T",
        "colab_type": "code",
        "colab": {}
      },
      "source": [
        "# Задание 2.8.3\n",
        "\n",
        "vis_data.balance_due.isna().sum()"
      ],
      "execution_count": null,
      "outputs": []
    },
    {
      "cell_type": "code",
      "metadata": {
        "id": "QvvWNaTtULfQ",
        "colab_type": "code",
        "colab": {}
      },
      "source": [
        "balance = vis_data.balance_due.values.reshape(-1,1)\n",
        "balance"
      ],
      "execution_count": null,
      "outputs": []
    },
    {
      "cell_type": "code",
      "metadata": {
        "id": "cG_Thi71KVxX",
        "colab_type": "code",
        "colab": {}
      },
      "source": [
        "min_val = scaler.fit_transform(balance).min()\n",
        "round(min_val, 5)"
      ],
      "execution_count": null,
      "outputs": []
    },
    {
      "cell_type": "markdown",
      "metadata": {
        "id": "0IQ55Ztdahc1",
        "colab_type": "text"
      },
      "source": [
        "## 2.10"
      ]
    },
    {
      "cell_type": "code",
      "metadata": {
        "id": "zuRnt1GfKVrr",
        "colab_type": "code",
        "colab": {}
      },
      "source": [
        "# Задание 2.10.3\n",
        "\n",
        "bal_sqrt = np.sqrt(vis_data.balance_due[vis_data.balance_due > 0])\n",
        "# sns.boxplot(np.sqrt(vis_data.balance_due[vis_data.balance_due > 0]))\n",
        "\n",
        "abs(bal_sqrt.median() - bal_sqrt.mean())\n"
      ],
      "execution_count": null,
      "outputs": []
    },
    {
      "cell_type": "code",
      "metadata": {
        "id": "HFeC8nxRKVmW",
        "colab_type": "code",
        "colab": {}
      },
      "source": [
        "# \n",
        "\n",
        "apartment = pd.read_csv(project_dir + 'data/u3/'  + 'latlons.csv', low_memory = False)\n",
        "\n",
        "\n",
        "apartment.info()"
      ],
      "execution_count": null,
      "outputs": []
    },
    {
      "cell_type": "code",
      "metadata": {
        "id": "ObQYtV0rKVgX",
        "colab_type": "code",
        "colab": {}
      },
      "source": [
        "apartment.sample(5)"
      ],
      "execution_count": null,
      "outputs": []
    },
    {
      "cell_type": "code",
      "metadata": {
        "id": "2zD86hXmg73B",
        "colab_type": "code",
        "colab": {}
      },
      "source": [
        "# data.columns.sort_values()\n",
        "data.columns"
      ],
      "execution_count": null,
      "outputs": []
    },
    {
      "cell_type": "code",
      "metadata": {
        "id": "WyJgE1--iDxr",
        "colab_type": "code",
        "colab": {}
      },
      "source": [
        ""
      ],
      "execution_count": null,
      "outputs": []
    },
    {
      "cell_type": "code",
      "metadata": {
        "id": "3DM-EQVleHh9",
        "colab_type": "code",
        "colab": {}
      },
      "source": [
        "# Задание 2.10.4\n",
        "\n",
        "# data.sub_area.value_counts().sort_index().index\n",
        "\n",
        "# Lefortovo\n",
        "# Perovo\n",
        "# Basmannoe\n",
        "\n",
        "sub_area_filter = ['Lefortovo', 'Perovo', 'Basmannoe']\n",
        "\n",
        "sns.boxplot(x='sub_area', y='price_doc', data=data.query('sub_area in @sub_area_filter'))"
      ],
      "execution_count": null,
      "outputs": []
    },
    {
      "cell_type": "code",
      "metadata": {
        "id": "Xcwsgp6keHaA",
        "colab_type": "code",
        "colab": {}
      },
      "source": [
        "data.query('sub_area in @sub_area_filter')[['sub_area','price_doc']].groupby('sub_area').mean()"
      ],
      "execution_count": null,
      "outputs": []
    },
    {
      "cell_type": "code",
      "metadata": {
        "id": "rQrGb2Kpi4sk",
        "colab_type": "code",
        "colab": {}
      },
      "source": [
        ""
      ],
      "execution_count": null,
      "outputs": []
    },
    {
      "cell_type": "markdown",
      "metadata": {
        "id": "eIOFGRlo_G0b",
        "colab_type": "text"
      },
      "source": [
        "## 2.12"
      ]
    },
    {
      "cell_type": "code",
      "metadata": {
        "id": "KhYi96Hi_8Bp",
        "colab_type": "code",
        "colab": {}
      },
      "source": [
        "latlons = pd.read_csv( project_dir + 'data/u3/' + 'latlons.csv')\n",
        "vis_data = pd.concat([vis_data, latlons], axis=1)"
      ],
      "execution_count": null,
      "outputs": []
    },
    {
      "cell_type": "code",
      "metadata": {
        "id": "v8wAD6yWAOG8",
        "colab_type": "code",
        "colab": {}
      },
      "source": [
        "latlons.columns"
      ],
      "execution_count": null,
      "outputs": []
    },
    {
      "cell_type": "code",
      "metadata": {
        "id": "WHmHSBSGi4kF",
        "colab_type": "code",
        "colab": {}
      },
      "source": [
        "# Задание 2.12.6\n",
        "vis_data.columns.sort_values()\n"
      ],
      "execution_count": null,
      "outputs": []
    },
    {
      "cell_type": "code",
      "metadata": {
        "id": "tCMhkcwqi4bP",
        "colab_type": "code",
        "colab": {}
      },
      "source": [
        "vis_data[['balance_due', 'discount_amount']]"
      ],
      "execution_count": null,
      "outputs": []
    },
    {
      "cell_type": "code",
      "metadata": {
        "id": "LmXTeqK1i4Sd",
        "colab_type": "code",
        "colab": {}
      },
      "source": [
        "# Задание 2.12.6\n",
        "\n",
        "pf = PolynomialFeatures(3)\n",
        "poly_features = pf.fit_transform(vis_data[['balance_due', 'discount_amount']])\n",
        "poly_features\n"
      ],
      "execution_count": null,
      "outputs": []
    },
    {
      "cell_type": "code",
      "metadata": {
        "id": "qqitt6g3eHSO",
        "colab_type": "code",
        "colab": {}
      },
      "source": [
        "poly_features.shape"
      ],
      "execution_count": null,
      "outputs": []
    },
    {
      "cell_type": "code",
      "metadata": {
        "id": "aSfzS5Z4eHKf",
        "colab_type": "code",
        "colab": {}
      },
      "source": [
        "poly_features.mean(axis=0) # answer = 6"
      ],
      "execution_count": null,
      "outputs": []
    },
    {
      "cell_type": "code",
      "metadata": {
        "id": "3T4pNWJzeHCl",
        "colab_type": "code",
        "colab": {}
      },
      "source": [
        "# Задание 2.12.7\n",
        "\n",
        "# ticket_issued_date\n",
        "\n",
        "datetime_vals = pd.to_datetime(vis_data.ticket_issued_date.dropna())\n",
        "datetime_vals.head()\n"
      ],
      "execution_count": null,
      "outputs": []
    },
    {
      "cell_type": "code",
      "metadata": {
        "id": "_gi2rkXaB_FW",
        "colab_type": "code",
        "colab": {}
      },
      "source": [
        "vis_data['is_weekend'] = datetime_vals.dt.weekday > 4\n",
        "vis_data['holiday'] = datetime_vals.dt.weekday"
      ],
      "execution_count": null,
      "outputs": []
    },
    {
      "cell_type": "code",
      "metadata": {
        "id": "PNj_zP4AB-6-",
        "colab_type": "code",
        "colab": {}
      },
      "source": [
        "vis_data['is_weekend'].value_counts()\n",
        "\n",
        "# answer = 1620"
      ],
      "execution_count": null,
      "outputs": []
    },
    {
      "cell_type": "code",
      "metadata": {
        "id": "swoAGDNhB-qe",
        "colab_type": "code",
        "colab": {}
      },
      "source": [
        "# Задание 2.12.8\n",
        "\n",
        "data.sample(9)"
      ],
      "execution_count": null,
      "outputs": []
    },
    {
      "cell_type": "code",
      "metadata": {
        "id": "igBfdIWQGPv0",
        "colab_type": "code",
        "colab": {}
      },
      "source": [
        "data.ecology.value_counts().index"
      ],
      "execution_count": null,
      "outputs": []
    },
    {
      "cell_type": "code",
      "metadata": {
        "id": "ULBBp7xxB-or",
        "colab_type": "code",
        "colab": {}
      },
      "source": [
        "ecology_dict = dict(zip(['poor', 'good', 'satisfactory', 'excellent', 'no data'], [2, 3, 1, 4, 0]))\n",
        "ecology_dict\n"
      ],
      "execution_count": null,
      "outputs": []
    },
    {
      "cell_type": "code",
      "metadata": {
        "id": "97uahHGqF0W-",
        "colab_type": "code",
        "colab": {}
      },
      "source": [
        "data.ecology = data.ecology.replace(to_replace=ecology_dict)"
      ],
      "execution_count": null,
      "outputs": []
    },
    {
      "cell_type": "code",
      "metadata": {
        "id": "ZaRsdv8pF0MP",
        "colab_type": "code",
        "colab": {}
      },
      "source": [
        "round(data.ecology.mean(), 2)"
      ],
      "execution_count": null,
      "outputs": []
    },
    {
      "cell_type": "code",
      "metadata": {
        "id": "LM11RJQ2Fz_g",
        "colab_type": "code",
        "colab": {}
      },
      "source": [
        "pd.get_dummies(data.sub_area, drop_first=True).head()"
      ],
      "execution_count": null,
      "outputs": []
    },
    {
      "cell_type": "code",
      "metadata": {
        "id": "9kXBL8-HB-gK",
        "colab_type": "code",
        "colab": {}
      },
      "source": [
        "data.sample(9)"
      ],
      "execution_count": null,
      "outputs": []
    },
    {
      "cell_type": "code",
      "metadata": {
        "id": "vpDbpPQ1KR40",
        "colab_type": "code",
        "colab": {}
      },
      "source": [
        "data.shape[1] + 82 - 1 "
      ],
      "execution_count": null,
      "outputs": []
    },
    {
      "cell_type": "code",
      "metadata": {
        "id": "Vk-HMo19KdGU",
        "colab_type": "code",
        "colab": {}
      },
      "source": [
        ""
      ],
      "execution_count": null,
      "outputs": []
    },
    {
      "cell_type": "markdown",
      "metadata": {
        "id": "Y6KjHZ9382MQ",
        "colab_type": "text"
      },
      "source": [
        "# END"
      ]
    },
    {
      "cell_type": "code",
      "metadata": {
        "id": "aNqNQ4cL8nTw",
        "colab_type": "code",
        "colab": {}
      },
      "source": [
        ""
      ],
      "execution_count": null,
      "outputs": []
    }
  ]
}