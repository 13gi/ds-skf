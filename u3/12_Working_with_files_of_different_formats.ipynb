{
  "nbformat": 4,
  "nbformat_minor": 0,
  "metadata": {
    "colab": {
      "name": "12. Working with files of different formats.ipynb",
      "provenance": [],
      "toc_visible": true,
      "mount_file_id": "1A5qahfB1MlxBhRW_BATm_opiKIuzRKIN",
      "authorship_tag": "ABX9TyN1AFO9X5D5XvbSgJRv2NDG"
    },
    "kernelspec": {
      "name": "python3",
      "display_name": "Python 3"
    }
  },
  "cells": [
    {
      "cell_type": "markdown",
      "metadata": {
        "id": "CL7VBGHmSGS1",
        "colab_type": "text"
      },
      "source": [
        "PYTHON-12. Работа с файлами разных форматов"
      ]
    },
    {
      "cell_type": "markdown",
      "metadata": {
        "id": "GQj_fqgkRy0B",
        "colab_type": "text"
      },
      "source": [
        "# START"
      ]
    },
    {
      "cell_type": "code",
      "metadata": {
        "id": "6j-6a5ExR1nF",
        "colab_type": "code",
        "colab": {}
      },
      "source": [
        "import warnings; warnings.simplefilter('ignore')\n",
        "\n",
        "import random\n",
        "import collections\n",
        "\n",
        "import pandas as pd\n",
        "import numpy as np\n",
        "import os\n",
        "import re\n",
        "\n",
        "import json  \n",
        "from pprint import pprint  \n",
        "\n",
        "from sklearn.preprocessing import MinMaxScaler\n",
        "from sklearn.preprocessing import StandardScaler\n",
        "from sklearn.preprocessing import PolynomialFeatures\n",
        "\n",
        "import matplotlib.pyplot as plt\n",
        "import seaborn as sns\n",
        "import cufflinks as cf\n",
        "from plotly.offline import download_plotlyjs, init_notebook_mode, plot, iplot\n",
        "\n",
        "\n",
        "%matplotlib inline\n"
      ],
      "execution_count": null,
      "outputs": []
    },
    {
      "cell_type": "code",
      "metadata": {
        "id": "6h-RrxqySKgU",
        "colab_type": "code",
        "colab": {}
      },
      "source": [
        "project_dir = r'/content/drive/My Drive/Colab Notebooks/data/u3/'\n",
        "os.listdir(project_dir)"
      ],
      "execution_count": null,
      "outputs": []
    },
    {
      "cell_type": "markdown",
      "metadata": {
        "id": "9GfHwaWHUjPE",
        "colab_type": "text"
      },
      "source": [
        "## 12.1 Формат JSON"
      ]
    },
    {
      "cell_type": "code",
      "metadata": {
        "id": "fDOrvm5FSKdO",
        "colab_type": "code",
        "colab": {}
      },
      "source": [
        "with open(project_dir + 'recipes.json') as f:\n",
        "   recipes = json.load(f)"
      ],
      "execution_count": null,
      "outputs": []
    },
    {
      "cell_type": "code",
      "metadata": {
        "id": "mphG0ShKSKaE",
        "colab_type": "code",
        "colab": {}
      },
      "source": [
        "pprint(recipes[0:3])"
      ],
      "execution_count": null,
      "outputs": []
    },
    {
      "cell_type": "code",
      "metadata": {
        "id": "9h6ZIkxRR1ky",
        "colab_type": "code",
        "colab": {}
      },
      "source": [
        "len(recipes), type(recipes)"
      ],
      "execution_count": null,
      "outputs": []
    },
    {
      "cell_type": "code",
      "metadata": {
        "id": "K_tcJOJcR1jO",
        "colab_type": "code",
        "colab": {}
      },
      "source": [
        "recipes[0]['id']"
      ],
      "execution_count": null,
      "outputs": []
    },
    {
      "cell_type": "code",
      "metadata": {
        "id": "6EbAmTd6R1fT",
        "colab_type": "code",
        "colab": {}
      },
      "source": [
        "recipes[0]['ingredients']"
      ],
      "execution_count": null,
      "outputs": []
    },
    {
      "cell_type": "code",
      "metadata": {
        "id": "e2cK88zvR1bb",
        "colab_type": "code",
        "colab": {}
      },
      "source": [
        "find_id = 13121\n",
        "\n",
        "for recipe in recipes:\n",
        "    if recipe['id'] == find_id:\n",
        "        print(recipe['cuisine'])\n",
        "        break"
      ],
      "execution_count": null,
      "outputs": []
    },
    {
      "cell_type": "code",
      "metadata": {
        "id": "iuMo_mjVR1Yr",
        "colab_type": "code",
        "colab": {}
      },
      "source": [
        "# Task 12.1.1\n",
        "\n",
        "recipes[len(recipes) - 1]['cuisine']"
      ],
      "execution_count": null,
      "outputs": []
    },
    {
      "cell_type": "code",
      "metadata": {
        "id": "bKK_p5ItR1XK",
        "colab_type": "code",
        "colab": {}
      },
      "source": [
        "# Task 12.1.2\n",
        "len(recipes[len(recipes) - 1]['ingredients'])\n"
      ],
      "execution_count": null,
      "outputs": []
    },
    {
      "cell_type": "code",
      "metadata": {
        "id": "SOeFA2RxR1Tm",
        "colab_type": "code",
        "colab": {}
      },
      "source": [
        "# Task 12.1.3\n",
        "find_id = 17636\n",
        "for recipe in recipes:\n",
        "    if recipe['id'] == find_id:\n",
        "        print(recipe['ingredients'])\n",
        "        break\n",
        "\n"
      ],
      "execution_count": null,
      "outputs": []
    },
    {
      "cell_type": "code",
      "metadata": {
        "id": "w-lzk4TqR1Qv",
        "colab_type": "code",
        "colab": {}
      },
      "source": [
        "# Task 12.1.4\n",
        "find_id = 42013\n",
        "for recipe in recipes:\n",
        "    if recipe['id'] == find_id:\n",
        "        print(len(recipe['ingredients']))\n",
        "        break\n"
      ],
      "execution_count": null,
      "outputs": []
    },
    {
      "cell_type": "code",
      "metadata": {
        "id": "gCadXrIWR00P",
        "colab_type": "code",
        "colab": {}
      },
      "source": [
        "# Task 12.1.5\n",
        "find_id = 23629\n",
        "for recipe in recipes:\n",
        "    if recipe['id'] == find_id:\n",
        "        print(recipe['ingredients'])\n",
        "        break"
      ],
      "execution_count": null,
      "outputs": []
    },
    {
      "cell_type": "code",
      "metadata": {
        "id": "T4r3oykIIbX3",
        "colab_type": "code",
        "colab": {}
      },
      "source": [
        ""
      ],
      "execution_count": null,
      "outputs": []
    },
    {
      "cell_type": "markdown",
      "metadata": {
        "id": "PbCjdNx1IcQ6",
        "colab_type": "text"
      },
      "source": [
        "### Группировка данных"
      ]
    },
    {
      "cell_type": "code",
      "metadata": {
        "id": "aU3siI0lIbTL",
        "colab_type": "code",
        "colab": {}
      },
      "source": [
        "cuisines = []  # создаём пустой список для хранения уникальных значений кухонь\n",
        "for recipe in recipes:  # начинаем перебор всех рецептов\n",
        "   if not(recipe['cuisine'] in cuisines):  # если тип кухни текущего блюда ещё не встречался\n",
        "        cuisines.append(recipe['cuisine']) # добавляем его к списку cuisines\n",
        "len(cuisines)\n"
      ],
      "execution_count": null,
      "outputs": []
    },
    {
      "cell_type": "code",
      "metadata": {
        "id": "KT6-qPMxIbOv",
        "colab_type": "code",
        "colab": {}
      },
      "source": [
        "# вариант с использованием множества\n",
        "\n",
        "cuisines = set()  # создаём пустое множество для хранения уникальных значений кухонь\n",
        "for recipe in recipes:  # начинаем перебор всех рецептов\n",
        "   cuisines.add(recipe['cuisine']) # добавляем название типа кухни к множеству\n",
        "len(cuisines)"
      ],
      "execution_count": null,
      "outputs": []
    },
    {
      "cell_type": "code",
      "metadata": {
        "id": "iZYg61AnIbKJ",
        "colab_type": "code",
        "colab": {}
      },
      "source": [
        "# Задание 12.3.1\n",
        "# Сколько ингредиентов включено в состав всех блюд, описанных в наборе данных?\n",
        "\n",
        "product_composition = set()\n",
        "\n",
        "for recipe in recipes:\n",
        "    for product in recipe['ingredients']:\n",
        "        product_composition.add(product)\n",
        "\n",
        "print(len(product_composition))"
      ],
      "execution_count": null,
      "outputs": []
    },
    {
      "cell_type": "code",
      "metadata": {
        "id": "OGwjW00tIbFU",
        "colab_type": "code",
        "colab": {}
      },
      "source": [
        "# Задание 12.3.1\n",
        "# Сколько ингредиентов встречается в рецептах блюд итальянской кухни ('cuisine' = italian)?\n",
        "\n",
        "italian_product = set()\n",
        "\n",
        "for recipe in recipes:\n",
        "    if recipe['cuisine'] == 'italian':\n",
        "        for product in recipe['ingredients']:\n",
        "            italian_product.add(product)\n",
        "\n",
        "print('italian product:', len(italian_product))"
      ],
      "execution_count": null,
      "outputs": []
    },
    {
      "cell_type": "code",
      "metadata": {
        "id": "bFy7OcZrIa9d",
        "colab_type": "code",
        "colab": {}
      },
      "source": [
        "# Задание 12.3.3\n",
        "# Какие ингредиенты не встречаются в рецептах блюд русской кухни ('cuisine' = 'russian')?\n",
        "\n",
        "russian_product = set()\n",
        "check_list = set()\n",
        "[check_list.add(x) for x in ['bacon', 'bread slices', 'buttermilk', 'red beets', 'mozzarella cheese', 'carrots']]\n",
        "\n",
        "for recipe in recipes:\n",
        "    if recipe['cuisine'] == 'russian':\n",
        "        for product in recipe['ingredients']:\n",
        "            russian_product.add(product)\n",
        "\n",
        "check_list - russian_product"
      ],
      "execution_count": null,
      "outputs": []
    },
    {
      "cell_type": "code",
      "metadata": {
        "id": "7d6nALCfIaw-",
        "colab_type": "code",
        "colab": {}
      },
      "source": [
        "food = collections.Counter()\n",
        "\n",
        "for recipe in recipes:\n",
        "    for item in recipe['ingredients']:\n",
        "        food[item] += 1\n",
        "\n",
        "food['sugar'], food['eggs']"
      ],
      "execution_count": null,
      "outputs": []
    },
    {
      "cell_type": "code",
      "metadata": {
        "id": "AdZR10eVIasu",
        "colab_type": "code",
        "colab": {}
      },
      "source": [
        "# Задание 12.3.4\n",
        "# Какие ингредиенты входят в состав более чем 20% блюд, представленных в наборе данных?\n",
        "\n",
        "\n",
        "top_products = set()\n",
        "tresh_hold = 0.2 * len(recipes)\n",
        "\n",
        "check_list = ['water', 'olive oil', 'salt', 'garlic', 'pepper']\n",
        "\n",
        "for item, count in food.items():\n",
        "    if count > tresh_hold:\n",
        "        top_products.add(item)\n",
        "\n",
        "for product in check_list:\n",
        "    if product in top_products:\n",
        "        print('[x]', product)\n",
        "    else:\n",
        "        print('[ ]', product)\n"
      ],
      "execution_count": null,
      "outputs": []
    },
    {
      "cell_type": "code",
      "metadata": {
        "id": "j1wvvMIfNZbB",
        "colab_type": "code",
        "colab": {}
      },
      "source": [
        "# Задание 12.3.5\n",
        "one_recipe = set()\n",
        "max_freq = 0\n",
        "top_ingredients = ''\n",
        "\n",
        "for item, count in food.items():\n",
        "    if count > max_freq:\n",
        "        top_ingredients = item\n",
        "        max_freq = count\n",
        "    elif count == 1:\n",
        "        one_recipe.add(item)\n",
        "\n",
        "top_ingredients"
      ],
      "execution_count": null,
      "outputs": []
    },
    {
      "cell_type": "code",
      "metadata": {
        "id": "DDuU3VuFNZUO",
        "colab_type": "code",
        "colab": {}
      },
      "source": [
        "# Задание 12.3.6\n",
        "len(one_recipe)"
      ],
      "execution_count": null,
      "outputs": []
    },
    {
      "cell_type": "markdown",
      "metadata": {
        "id": "e9siGAbQVhZ_",
        "colab_type": "text"
      },
      "source": [
        "## 12.4 Создание датафрейма"
      ]
    },
    {
      "cell_type": "code",
      "metadata": {
        "id": "VNVaboKeNZMt",
        "colab_type": "code",
        "colab": {}
      },
      "source": [
        "df = pd.DataFrame(recipes)\n",
        "df.sample(7)"
      ],
      "execution_count": null,
      "outputs": []
    },
    {
      "cell_type": "code",
      "metadata": {
        "id": "TSb75qhiNZFI",
        "colab_type": "code",
        "colab": {}
      },
      "source": [
        "df.shape"
      ],
      "execution_count": null,
      "outputs": []
    },
    {
      "cell_type": "code",
      "metadata": {
        "id": "-fHc00E0Iark",
        "colab_type": "code",
        "colab": {}
      },
      "source": [
        "# Task 12.4.6\n",
        "\n",
        "# import collections\n",
        "# import pandas as pd\n",
        "\n",
        "def find_item(cell):\n",
        "    if item in cell:\n",
        "        return 1\n",
        "    return 0\n",
        "\n",
        "# with open('recipes.json') as f:\n",
        "with open(project_dir + 'recipes.json') as f:\n",
        "   recipes = json.load(f)\n",
        "\n",
        "df = pd.DataFrame(recipes)\n",
        "\n",
        "food = collections.Counter()\n",
        "\n",
        "for recipe in recipes:\n",
        "    for item in recipe['ingredients']:\n",
        "        food[item] += 1\n",
        "\n",
        "ingredients = food.keys()\n",
        "\n",
        "\n",
        "for item in ingredients:\n",
        "    df[item] = df['ingredients'].apply(find_item)\n",
        "\n",
        "\n",
        "df['ingredients'] = df['ingredients'].apply(lambda x: len(x))\n"
      ],
      "execution_count": null,
      "outputs": []
    },
    {
      "cell_type": "code",
      "metadata": {
        "id": "kYgJC-YXIang",
        "colab_type": "code",
        "colab": {}
      },
      "source": [
        "df.head()"
      ],
      "execution_count": null,
      "outputs": []
    },
    {
      "cell_type": "code",
      "metadata": {
        "id": "2dKLrqelIaiF",
        "colab_type": "code",
        "colab": {}
      },
      "source": [
        "df.to_csv(project_dir + 'recipes.csv', index = False)"
      ],
      "execution_count": null,
      "outputs": []
    },
    {
      "cell_type": "code",
      "metadata": {
        "id": "sWhA6W3vIabW",
        "colab_type": "code",
        "colab": {}
      },
      "source": [
        "# df.to_csv(project_dir + '1-recipes.csv', index = True)"
      ],
      "execution_count": null,
      "outputs": []
    },
    {
      "cell_type": "code",
      "metadata": {
        "id": "JVWCZNcqIaVy",
        "colab_type": "code",
        "colab": {}
      },
      "source": [
        ""
      ],
      "execution_count": null,
      "outputs": []
    },
    {
      "cell_type": "code",
      "metadata": {
        "id": "KSxAe6WGIaQ0",
        "colab_type": "code",
        "colab": {}
      },
      "source": [
        ""
      ],
      "execution_count": null,
      "outputs": []
    },
    {
      "cell_type": "code",
      "metadata": {
        "id": "t1hmHE3YIaI4",
        "colab_type": "code",
        "colab": {}
      },
      "source": [
        ""
      ],
      "execution_count": null,
      "outputs": []
    },
    {
      "cell_type": "markdown",
      "metadata": {
        "id": "gjHQ1Q-SR2iq",
        "colab_type": "text"
      },
      "source": [
        "# END"
      ]
    },
    {
      "cell_type": "code",
      "metadata": {
        "id": "DgU4iduNR4Gf",
        "colab_type": "code",
        "colab": {}
      },
      "source": [
        ""
      ],
      "execution_count": null,
      "outputs": []
    }
  ]
}