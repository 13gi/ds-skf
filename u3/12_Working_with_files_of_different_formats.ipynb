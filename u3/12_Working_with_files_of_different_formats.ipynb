{
  "nbformat": 4,
  "nbformat_minor": 0,
  "metadata": {
    "colab": {
      "name": "12. Working with files of different formats.ipynb",
      "provenance": [],
      "toc_visible": true,
      "mount_file_id": "1A5qahfB1MlxBhRW_BATm_opiKIuzRKIN",
      "authorship_tag": "ABX9TyOONSgywMQfhBY+rjxcOV/b"
    },
    "kernelspec": {
      "name": "python3",
      "display_name": "Python 3"
    }
  },
  "cells": [
    {
      "cell_type": "markdown",
      "metadata": {
        "id": "CL7VBGHmSGS1",
        "colab_type": "text"
      },
      "source": [
        "PYTHON-12. Работа с файлами разных форматов"
      ]
    },
    {
      "cell_type": "markdown",
      "metadata": {
        "id": "GQj_fqgkRy0B",
        "colab_type": "text"
      },
      "source": [
        "# START"
      ]
    },
    {
      "cell_type": "code",
      "metadata": {
        "id": "6j-6a5ExR1nF",
        "colab_type": "code",
        "colab": {}
      },
      "source": [
        "import warnings; warnings.simplefilter('ignore')\n",
        "\n",
        "import random\n",
        "\n",
        "import pandas as pd\n",
        "import numpy as np\n",
        "import os\n",
        "import re\n",
        "\n",
        "import json  \n",
        "from pprint import pprint  \n",
        "\n",
        "from sklearn.preprocessing import MinMaxScaler\n",
        "from sklearn.preprocessing import StandardScaler\n",
        "from sklearn.preprocessing import PolynomialFeatures\n",
        "\n",
        "import matplotlib.pyplot as plt\n",
        "import seaborn as sns\n",
        "import cufflinks as cf\n",
        "from plotly.offline import download_plotlyjs, init_notebook_mode, plot, iplot\n",
        "\n",
        "\n",
        "%matplotlib inline\n"
      ],
      "execution_count": null,
      "outputs": []
    },
    {
      "cell_type": "code",
      "metadata": {
        "id": "6h-RrxqySKgU",
        "colab_type": "code",
        "colab": {
          "base_uri": "https://localhost:8080/",
          "height": 119
        },
        "outputId": "7989ecb7-2e0f-4740-d0ae-df6204a91790"
      },
      "source": [
        "project_dir = r'/content/drive/My Drive/Colab Notebooks/data/u3/'\n",
        "os.listdir(project_dir)"
      ],
      "execution_count": null,
      "outputs": [
        {
          "output_type": "execute_result",
          "data": {
            "text/plain": [
              "['log.csv',\n",
              " 'users.csv',\n",
              " 'data_flats.csv',\n",
              " 'latlons.csv',\n",
              " 'train.csv',\n",
              " 'recipes.json']"
            ]
          },
          "metadata": {
            "tags": []
          },
          "execution_count": 7
        }
      ]
    },
    {
      "cell_type": "markdown",
      "metadata": {
        "id": "9GfHwaWHUjPE",
        "colab_type": "text"
      },
      "source": [
        "## 12.1 Формат JSON"
      ]
    },
    {
      "cell_type": "code",
      "metadata": {
        "id": "fDOrvm5FSKdO",
        "colab_type": "code",
        "colab": {}
      },
      "source": [
        "with open(project_dir + 'recipes.json') as f:\n",
        "   recipes = json.load(f)"
      ],
      "execution_count": null,
      "outputs": []
    },
    {
      "cell_type": "code",
      "metadata": {
        "id": "mphG0ShKSKaE",
        "colab_type": "code",
        "colab": {
          "base_uri": "https://localhost:8080/",
          "height": 663
        },
        "outputId": "be3871d4-f148-4c63-8cfb-25d97c97b4e5"
      },
      "source": [
        "pprint(recipes[0:3])"
      ],
      "execution_count": null,
      "outputs": [
        {
          "output_type": "stream",
          "text": [
            "[{'cuisine': 'greek',\n",
            "  'id': 10259,\n",
            "  'ingredients': ['romaine lettuce',\n",
            "                  'black olives',\n",
            "                  'grape tomatoes',\n",
            "                  'garlic',\n",
            "                  'pepper',\n",
            "                  'purple onion',\n",
            "                  'seasoning',\n",
            "                  'garbanzo beans',\n",
            "                  'feta cheese crumbles']},\n",
            " {'cuisine': 'southern_us',\n",
            "  'id': 25693,\n",
            "  'ingredients': ['plain flour',\n",
            "                  'ground pepper',\n",
            "                  'salt',\n",
            "                  'tomatoes',\n",
            "                  'ground black pepper',\n",
            "                  'thyme',\n",
            "                  'eggs',\n",
            "                  'green tomatoes',\n",
            "                  'yellow corn meal',\n",
            "                  'milk',\n",
            "                  'vegetable oil']},\n",
            " {'cuisine': 'filipino',\n",
            "  'id': 20130,\n",
            "  'ingredients': ['eggs',\n",
            "                  'pepper',\n",
            "                  'salt',\n",
            "                  'mayonaise',\n",
            "                  'cooking oil',\n",
            "                  'green chilies',\n",
            "                  'grilled chicken breasts',\n",
            "                  'garlic powder',\n",
            "                  'yellow onion',\n",
            "                  'soy sauce',\n",
            "                  'butter',\n",
            "                  'chicken livers']}]\n"
          ],
          "name": "stdout"
        }
      ]
    },
    {
      "cell_type": "code",
      "metadata": {
        "id": "9h6ZIkxRR1ky",
        "colab_type": "code",
        "colab": {
          "base_uri": "https://localhost:8080/",
          "height": 34
        },
        "outputId": "a8854b74-4ba8-4a9b-c02c-1ae11937efe8"
      },
      "source": [
        "len(recipes), type(recipes)"
      ],
      "execution_count": null,
      "outputs": [
        {
          "output_type": "execute_result",
          "data": {
            "text/plain": [
              "(500, list)"
            ]
          },
          "metadata": {
            "tags": []
          },
          "execution_count": 14
        }
      ]
    },
    {
      "cell_type": "code",
      "metadata": {
        "id": "K_tcJOJcR1jO",
        "colab_type": "code",
        "colab": {
          "base_uri": "https://localhost:8080/",
          "height": 34
        },
        "outputId": "d9345cf9-7bd4-4611-b31e-1d87e8fff1b9"
      },
      "source": [
        "recipes[0]['id']"
      ],
      "execution_count": null,
      "outputs": [
        {
          "output_type": "execute_result",
          "data": {
            "text/plain": [
              "10259"
            ]
          },
          "metadata": {
            "tags": []
          },
          "execution_count": 15
        }
      ]
    },
    {
      "cell_type": "code",
      "metadata": {
        "id": "6EbAmTd6R1fT",
        "colab_type": "code",
        "colab": {
          "base_uri": "https://localhost:8080/",
          "height": 170
        },
        "outputId": "a06cabe4-c972-49fa-91b3-e52b46468e1a"
      },
      "source": [
        "recipes[0]['ingredients']"
      ],
      "execution_count": null,
      "outputs": [
        {
          "output_type": "execute_result",
          "data": {
            "text/plain": [
              "['romaine lettuce',\n",
              " 'black olives',\n",
              " 'grape tomatoes',\n",
              " 'garlic',\n",
              " 'pepper',\n",
              " 'purple onion',\n",
              " 'seasoning',\n",
              " 'garbanzo beans',\n",
              " 'feta cheese crumbles']"
            ]
          },
          "metadata": {
            "tags": []
          },
          "execution_count": 16
        }
      ]
    },
    {
      "cell_type": "code",
      "metadata": {
        "id": "e2cK88zvR1bb",
        "colab_type": "code",
        "colab": {
          "base_uri": "https://localhost:8080/",
          "height": 34
        },
        "outputId": "ab124865-ddfc-40ee-8754-b97eca23f674"
      },
      "source": [
        "find_id = 13121\n",
        "\n",
        "for recipe in recipes:\n",
        "    if recipe['id'] == find_id:\n",
        "        print(recipe['cuisine'])\n",
        "        break"
      ],
      "execution_count": null,
      "outputs": [
        {
          "output_type": "stream",
          "text": [
            "thai\n"
          ],
          "name": "stdout"
        }
      ]
    },
    {
      "cell_type": "code",
      "metadata": {
        "id": "iuMo_mjVR1Yr",
        "colab_type": "code",
        "colab": {
          "base_uri": "https://localhost:8080/",
          "height": 35
        },
        "outputId": "d6974479-b167-45aa-9a80-b5f1164d2370"
      },
      "source": [
        "# Task 12.1.1\n",
        "\n",
        "recipes[len(recipes) - 1]['cuisine']"
      ],
      "execution_count": null,
      "outputs": [
        {
          "output_type": "execute_result",
          "data": {
            "application/vnd.google.colaboratory.intrinsic+json": {
              "type": "string"
            },
            "text/plain": [
              "'british'"
            ]
          },
          "metadata": {
            "tags": []
          },
          "execution_count": 20
        }
      ]
    },
    {
      "cell_type": "code",
      "metadata": {
        "id": "bKK_p5ItR1XK",
        "colab_type": "code",
        "colab": {
          "base_uri": "https://localhost:8080/",
          "height": 34
        },
        "outputId": "9ff01a71-de47-4e12-d7ef-b9ba5417e8c6"
      },
      "source": [
        "# Task 12.1.2\n",
        "len(recipes[len(recipes) - 1]['ingredients'])\n"
      ],
      "execution_count": null,
      "outputs": [
        {
          "output_type": "execute_result",
          "data": {
            "text/plain": [
              "17"
            ]
          },
          "metadata": {
            "tags": []
          },
          "execution_count": 21
        }
      ]
    },
    {
      "cell_type": "code",
      "metadata": {
        "id": "SOeFA2RxR1Tm",
        "colab_type": "code",
        "colab": {
          "base_uri": "https://localhost:8080/",
          "height": 54
        },
        "outputId": "4be8033f-c8ce-431c-cbec-1b510c5645ea"
      },
      "source": [
        "# Task 12.1.3\n",
        "find_id = 17636\n",
        "for recipe in recipes:\n",
        "    if recipe['id'] == find_id:\n",
        "        print(recipe['ingredients'])\n",
        "        break\n",
        "\n"
      ],
      "execution_count": null,
      "outputs": [
        {
          "output_type": "stream",
          "text": [
            "['tomato sauce', 'shredded carrots', 'spinach', 'part-skim mozzarella cheese', 'italian seasoning', 'english muffins, split and toasted', 'chopped onion', 'vegetable oil cooking spray', 'chopped green bell pepper']\n"
          ],
          "name": "stdout"
        }
      ]
    },
    {
      "cell_type": "code",
      "metadata": {
        "id": "w-lzk4TqR1Qv",
        "colab_type": "code",
        "colab": {
          "base_uri": "https://localhost:8080/",
          "height": 34
        },
        "outputId": "93f9b57f-727a-41f5-9f9b-f375dc268e19"
      },
      "source": [
        "# Task 12.1.4\n",
        "find_id = 42013\n",
        "for recipe in recipes:\n",
        "    if recipe['id'] == find_id:\n",
        "        print(len(recipe['ingredients']))\n",
        "        break\n"
      ],
      "execution_count": null,
      "outputs": [
        {
          "output_type": "stream",
          "text": [
            "14\n"
          ],
          "name": "stdout"
        }
      ]
    },
    {
      "cell_type": "code",
      "metadata": {
        "id": "gCadXrIWR00P",
        "colab_type": "code",
        "colab": {
          "base_uri": "https://localhost:8080/",
          "height": 34
        },
        "outputId": "488c4bbb-f98f-40e9-e54e-ea30d5a6e557"
      },
      "source": [
        "# Task 12.1.5\n",
        "find_id = 23629\n",
        "for recipe in recipes:\n",
        "    if recipe['id'] == find_id:\n",
        "        print(recipe['ingredients'])\n",
        "        break"
      ],
      "execution_count": null,
      "outputs": [
        {
          "output_type": "stream",
          "text": [
            "['eggs', 'russet potatoes', 'mexican chorizo', 'black beans', 'salsa', 'canola oil', 'colby cheese', 'black olives', 'sour cream', 'avocado', 'half & half', 'goat cheese']\n"
          ],
          "name": "stdout"
        }
      ]
    },
    {
      "cell_type": "markdown",
      "metadata": {
        "id": "gjHQ1Q-SR2iq",
        "colab_type": "text"
      },
      "source": [
        "# END"
      ]
    },
    {
      "cell_type": "code",
      "metadata": {
        "id": "DgU4iduNR4Gf",
        "colab_type": "code",
        "colab": {}
      },
      "source": [
        ""
      ],
      "execution_count": null,
      "outputs": []
    }
  ]
}