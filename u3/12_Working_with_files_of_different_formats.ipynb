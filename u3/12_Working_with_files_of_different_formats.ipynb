{
  "nbformat": 4,
  "nbformat_minor": 0,
  "metadata": {
    "colab": {
      "name": "12. Working with files of different formats.ipynb",
      "provenance": [],
      "toc_visible": true,
      "mount_file_id": "1A5qahfB1MlxBhRW_BATm_opiKIuzRKIN",
      "authorship_tag": "ABX9TyM88OQXvxkVIPxOCLrfWdbF"
    },
    "kernelspec": {
      "name": "python3",
      "display_name": "Python 3"
    }
  },
  "cells": [
    {
      "cell_type": "markdown",
      "metadata": {
        "id": "CL7VBGHmSGS1",
        "colab_type": "text"
      },
      "source": [
        "PYTHON-12. Работа с файлами разных форматов"
      ]
    },
    {
      "cell_type": "markdown",
      "metadata": {
        "id": "GQj_fqgkRy0B",
        "colab_type": "text"
      },
      "source": [
        "# START"
      ]
    },
    {
      "cell_type": "code",
      "metadata": {
        "id": "6j-6a5ExR1nF",
        "colab_type": "code",
        "colab": {}
      },
      "source": [
        "import warnings; warnings.simplefilter('ignore')\n",
        "\n",
        "import random\n",
        "import collections\n",
        "\n",
        "import pandas as pd\n",
        "import numpy as np\n",
        "import os\n",
        "import re\n",
        "\n",
        "import json  \n",
        "from pprint import pprint\n",
        "import xml.etree.ElementTree as ET\n",
        "\n",
        "from sklearn.preprocessing import MinMaxScaler\n",
        "from sklearn.preprocessing import StandardScaler\n",
        "from sklearn.preprocessing import PolynomialFeatures\n",
        "\n",
        "import matplotlib.pyplot as plt\n",
        "import seaborn as sns\n",
        "import cufflinks as cf\n",
        "from plotly.offline import download_plotlyjs, init_notebook_mode, plot, iplot\n",
        "\n",
        "\n",
        "%matplotlib inline\n"
      ],
      "execution_count": null,
      "outputs": []
    },
    {
      "cell_type": "code",
      "metadata": {
        "id": "6h-RrxqySKgU",
        "colab_type": "code",
        "colab": {}
      },
      "source": [
        "project_dir = r'/content/drive/My Drive/Colab Notebooks/data/u3/'\n",
        "os.listdir(project_dir)"
      ],
      "execution_count": null,
      "outputs": []
    },
    {
      "cell_type": "markdown",
      "metadata": {
        "id": "9GfHwaWHUjPE",
        "colab_type": "text"
      },
      "source": [
        "## 12.1 Формат JSON"
      ]
    },
    {
      "cell_type": "code",
      "metadata": {
        "id": "fDOrvm5FSKdO",
        "colab_type": "code",
        "colab": {}
      },
      "source": [
        "with open(project_dir + 'recipes.json') as f:\n",
        "   recipes = json.load(f)"
      ],
      "execution_count": null,
      "outputs": []
    },
    {
      "cell_type": "code",
      "metadata": {
        "id": "mphG0ShKSKaE",
        "colab_type": "code",
        "colab": {}
      },
      "source": [
        "pprint(recipes[0:3])"
      ],
      "execution_count": null,
      "outputs": []
    },
    {
      "cell_type": "code",
      "metadata": {
        "id": "9h6ZIkxRR1ky",
        "colab_type": "code",
        "colab": {}
      },
      "source": [
        "len(recipes), type(recipes)"
      ],
      "execution_count": null,
      "outputs": []
    },
    {
      "cell_type": "code",
      "metadata": {
        "id": "K_tcJOJcR1jO",
        "colab_type": "code",
        "colab": {}
      },
      "source": [
        "recipes[0]['id']"
      ],
      "execution_count": null,
      "outputs": []
    },
    {
      "cell_type": "code",
      "metadata": {
        "id": "6EbAmTd6R1fT",
        "colab_type": "code",
        "colab": {}
      },
      "source": [
        "recipes[0]['ingredients']"
      ],
      "execution_count": null,
      "outputs": []
    },
    {
      "cell_type": "code",
      "metadata": {
        "id": "e2cK88zvR1bb",
        "colab_type": "code",
        "colab": {}
      },
      "source": [
        "find_id = 13121\n",
        "\n",
        "for recipe in recipes:\n",
        "    if recipe['id'] == find_id:\n",
        "        print(recipe['cuisine'])\n",
        "        break"
      ],
      "execution_count": null,
      "outputs": []
    },
    {
      "cell_type": "code",
      "metadata": {
        "id": "iuMo_mjVR1Yr",
        "colab_type": "code",
        "colab": {}
      },
      "source": [
        "# Task 12.1.1\n",
        "\n",
        "recipes[len(recipes) - 1]['cuisine']"
      ],
      "execution_count": null,
      "outputs": []
    },
    {
      "cell_type": "code",
      "metadata": {
        "id": "bKK_p5ItR1XK",
        "colab_type": "code",
        "colab": {}
      },
      "source": [
        "# Task 12.1.2\n",
        "len(recipes[len(recipes) - 1]['ingredients'])\n"
      ],
      "execution_count": null,
      "outputs": []
    },
    {
      "cell_type": "code",
      "metadata": {
        "id": "SOeFA2RxR1Tm",
        "colab_type": "code",
        "colab": {}
      },
      "source": [
        "# Task 12.1.3\n",
        "find_id = 17636\n",
        "for recipe in recipes:\n",
        "    if recipe['id'] == find_id:\n",
        "        print(recipe['ingredients'])\n",
        "        break\n",
        "\n"
      ],
      "execution_count": null,
      "outputs": []
    },
    {
      "cell_type": "code",
      "metadata": {
        "id": "w-lzk4TqR1Qv",
        "colab_type": "code",
        "colab": {}
      },
      "source": [
        "# Task 12.1.4\n",
        "find_id = 42013\n",
        "for recipe in recipes:\n",
        "    if recipe['id'] == find_id:\n",
        "        print(len(recipe['ingredients']))\n",
        "        break\n"
      ],
      "execution_count": null,
      "outputs": []
    },
    {
      "cell_type": "code",
      "metadata": {
        "id": "gCadXrIWR00P",
        "colab_type": "code",
        "colab": {}
      },
      "source": [
        "# Task 12.1.5\n",
        "find_id = 23629\n",
        "for recipe in recipes:\n",
        "    if recipe['id'] == find_id:\n",
        "        print(recipe['ingredients'])\n",
        "        break"
      ],
      "execution_count": null,
      "outputs": []
    },
    {
      "cell_type": "code",
      "metadata": {
        "id": "T4r3oykIIbX3",
        "colab_type": "code",
        "colab": {}
      },
      "source": [
        ""
      ],
      "execution_count": null,
      "outputs": []
    },
    {
      "cell_type": "markdown",
      "metadata": {
        "id": "PbCjdNx1IcQ6",
        "colab_type": "text"
      },
      "source": [
        "### Группировка данных"
      ]
    },
    {
      "cell_type": "code",
      "metadata": {
        "id": "aU3siI0lIbTL",
        "colab_type": "code",
        "colab": {}
      },
      "source": [
        "cuisines = []  # создаём пустой список для хранения уникальных значений кухонь\n",
        "for recipe in recipes:  # начинаем перебор всех рецептов\n",
        "   if not(recipe['cuisine'] in cuisines):  # если тип кухни текущего блюда ещё не встречался\n",
        "        cuisines.append(recipe['cuisine']) # добавляем его к списку cuisines\n",
        "len(cuisines)\n"
      ],
      "execution_count": null,
      "outputs": []
    },
    {
      "cell_type": "code",
      "metadata": {
        "id": "KT6-qPMxIbOv",
        "colab_type": "code",
        "colab": {}
      },
      "source": [
        "# вариант с использованием множества\n",
        "\n",
        "cuisines = set()  # создаём пустое множество для хранения уникальных значений кухонь\n",
        "for recipe in recipes:  # начинаем перебор всех рецептов\n",
        "   cuisines.add(recipe['cuisine']) # добавляем название типа кухни к множеству\n",
        "len(cuisines)"
      ],
      "execution_count": null,
      "outputs": []
    },
    {
      "cell_type": "code",
      "metadata": {
        "id": "iZYg61AnIbKJ",
        "colab_type": "code",
        "colab": {}
      },
      "source": [
        "# Задание 12.3.1\n",
        "# Сколько ингредиентов включено в состав всех блюд, описанных в наборе данных?\n",
        "\n",
        "product_composition = set()\n",
        "\n",
        "for recipe in recipes:\n",
        "    for product in recipe['ingredients']:\n",
        "        product_composition.add(product)\n",
        "\n",
        "print(len(product_composition))"
      ],
      "execution_count": null,
      "outputs": []
    },
    {
      "cell_type": "code",
      "metadata": {
        "id": "OGwjW00tIbFU",
        "colab_type": "code",
        "colab": {}
      },
      "source": [
        "# Задание 12.3.1\n",
        "# Сколько ингредиентов встречается в рецептах блюд итальянской кухни ('cuisine' = italian)?\n",
        "\n",
        "italian_product = set()\n",
        "\n",
        "for recipe in recipes:\n",
        "    if recipe['cuisine'] == 'italian':\n",
        "        for product in recipe['ingredients']:\n",
        "            italian_product.add(product)\n",
        "\n",
        "print('italian product:', len(italian_product))"
      ],
      "execution_count": null,
      "outputs": []
    },
    {
      "cell_type": "code",
      "metadata": {
        "id": "bFy7OcZrIa9d",
        "colab_type": "code",
        "colab": {}
      },
      "source": [
        "# Задание 12.3.3\n",
        "# Какие ингредиенты не встречаются в рецептах блюд русской кухни ('cuisine' = 'russian')?\n",
        "\n",
        "russian_product = set()\n",
        "check_list = set()\n",
        "[check_list.add(x) for x in ['bacon', 'bread slices', 'buttermilk', 'red beets', 'mozzarella cheese', 'carrots']]\n",
        "\n",
        "for recipe in recipes:\n",
        "    if recipe['cuisine'] == 'russian':\n",
        "        for product in recipe['ingredients']:\n",
        "            russian_product.add(product)\n",
        "\n",
        "check_list - russian_product"
      ],
      "execution_count": null,
      "outputs": []
    },
    {
      "cell_type": "code",
      "metadata": {
        "id": "7d6nALCfIaw-",
        "colab_type": "code",
        "colab": {}
      },
      "source": [
        "food = collections.Counter()\n",
        "\n",
        "for recipe in recipes:\n",
        "    for item in recipe['ingredients']:\n",
        "        food[item] += 1\n",
        "\n",
        "food['sugar'], food['eggs']"
      ],
      "execution_count": null,
      "outputs": []
    },
    {
      "cell_type": "code",
      "metadata": {
        "id": "AdZR10eVIasu",
        "colab_type": "code",
        "colab": {}
      },
      "source": [
        "# Задание 12.3.4\n",
        "# Какие ингредиенты входят в состав более чем 20% блюд, представленных в наборе данных?\n",
        "\n",
        "\n",
        "top_products = set()\n",
        "tresh_hold = 0.2 * len(recipes)\n",
        "\n",
        "check_list = ['water', 'olive oil', 'salt', 'garlic', 'pepper']\n",
        "\n",
        "for item, count in food.items():\n",
        "    if count > tresh_hold:\n",
        "        top_products.add(item)\n",
        "\n",
        "for product in check_list:\n",
        "    if product in top_products:\n",
        "        print('[x]', product)\n",
        "    else:\n",
        "        print('[ ]', product)\n"
      ],
      "execution_count": null,
      "outputs": []
    },
    {
      "cell_type": "code",
      "metadata": {
        "id": "j1wvvMIfNZbB",
        "colab_type": "code",
        "colab": {}
      },
      "source": [
        "# Задание 12.3.5\n",
        "one_recipe = set()\n",
        "max_freq = 0\n",
        "top_ingredients = ''\n",
        "\n",
        "for item, count in food.items():\n",
        "    if count > max_freq:\n",
        "        top_ingredients = item\n",
        "        max_freq = count\n",
        "    elif count == 1:\n",
        "        one_recipe.add(item)\n",
        "\n",
        "top_ingredients"
      ],
      "execution_count": null,
      "outputs": []
    },
    {
      "cell_type": "code",
      "metadata": {
        "id": "DDuU3VuFNZUO",
        "colab_type": "code",
        "colab": {}
      },
      "source": [
        "# Задание 12.3.6\n",
        "len(one_recipe)"
      ],
      "execution_count": null,
      "outputs": []
    },
    {
      "cell_type": "markdown",
      "metadata": {
        "id": "e9siGAbQVhZ_",
        "colab_type": "text"
      },
      "source": [
        "## 12.4 Создание датафрейма"
      ]
    },
    {
      "cell_type": "code",
      "metadata": {
        "id": "VNVaboKeNZMt",
        "colab_type": "code",
        "colab": {}
      },
      "source": [
        "df = pd.DataFrame(recipes)\n",
        "df.sample(7)"
      ],
      "execution_count": null,
      "outputs": []
    },
    {
      "cell_type": "code",
      "metadata": {
        "id": "TSb75qhiNZFI",
        "colab_type": "code",
        "colab": {}
      },
      "source": [
        "df.shape"
      ],
      "execution_count": null,
      "outputs": []
    },
    {
      "cell_type": "code",
      "metadata": {
        "id": "-fHc00E0Iark",
        "colab_type": "code",
        "colab": {}
      },
      "source": [
        "# Task 12.4.6\n",
        "\n",
        "# import collections\n",
        "# import pandas as pd\n",
        "\n",
        "def find_item(cell):\n",
        "    if item in cell:\n",
        "        return 1\n",
        "    return 0\n",
        "\n",
        "# with open('recipes.json') as f:\n",
        "with open(project_dir + 'recipes.json') as f:\n",
        "   recipes = json.load(f)\n",
        "\n",
        "df = pd.DataFrame(recipes)\n",
        "\n",
        "food = collections.Counter()\n",
        "\n",
        "for recipe in recipes:\n",
        "    for item in recipe['ingredients']:\n",
        "        food[item] += 1\n",
        "\n",
        "ingredients = food.keys()\n",
        "\n",
        "\n",
        "for item in ingredients:\n",
        "    df[item] = df['ingredients'].apply(find_item)\n",
        "\n",
        "\n",
        "df['ingredients'] = df['ingredients'].apply(lambda x: len(x))\n"
      ],
      "execution_count": null,
      "outputs": []
    },
    {
      "cell_type": "code",
      "metadata": {
        "id": "kYgJC-YXIang",
        "colab_type": "code",
        "colab": {}
      },
      "source": [
        "df.head()"
      ],
      "execution_count": null,
      "outputs": []
    },
    {
      "cell_type": "code",
      "metadata": {
        "id": "2dKLrqelIaiF",
        "colab_type": "code",
        "colab": {}
      },
      "source": [
        "df.to_csv(project_dir + 'recipes.csv', index = False)"
      ],
      "execution_count": null,
      "outputs": []
    },
    {
      "cell_type": "code",
      "metadata": {
        "id": "sWhA6W3vIabW",
        "colab_type": "code",
        "colab": {}
      },
      "source": [
        "# df.to_csv(project_dir + '1-recipes.csv', index = True)"
      ],
      "execution_count": null,
      "outputs": []
    },
    {
      "cell_type": "markdown",
      "metadata": {
        "id": "_Pc1iTvQR0Ao",
        "colab_type": "text"
      },
      "source": [
        "## 12.5 Создание JSON-файла"
      ]
    },
    {
      "cell_type": "code",
      "metadata": {
        "id": "ZxJgIEDvR-1f",
        "colab_type": "code",
        "colab": {}
      },
      "source": [
        "pprint(recipes[1:2])"
      ],
      "execution_count": null,
      "outputs": []
    },
    {
      "cell_type": "code",
      "metadata": {
        "id": "JVWCZNcqIaVy",
        "colab_type": "code",
        "colab": {}
      },
      "source": [
        "# Task 12.5.1\n",
        "df = pd.read_csv(project_dir + 'recipes.csv')\n"
      ],
      "execution_count": null,
      "outputs": []
    },
    {
      "cell_type": "code",
      "metadata": {
        "id": "rNKA6gGDS8wH",
        "colab_type": "code",
        "colab": {}
      },
      "source": [
        "ids = []\n",
        "\n",
        "for item in df.id.unique():\n",
        "    ids.append(item)\n",
        "\n",
        "type(ids), len(ids), ids[0:2]"
      ],
      "execution_count": null,
      "outputs": []
    },
    {
      "cell_type": "code",
      "metadata": {
        "id": "QPP_feIBjILN",
        "colab_type": "code",
        "colab": {}
      },
      "source": [
        "# Task 12.5.2\n",
        "\n",
        "ingredients = []\n",
        "\n",
        "for item in df.columns[3:]:\n",
        "    ingredients.append(item)\n",
        "\n",
        "# ingredients"
      ],
      "execution_count": null,
      "outputs": []
    },
    {
      "cell_type": "code",
      "metadata": {
        "id": "qNMY3jXiTyG4",
        "colab_type": "code",
        "colab": {}
      },
      "source": [
        "# Task 12.5.3\n",
        "def make_list(incomin_row):\n",
        "    ingredients = incomin_row.replace(0, np.nan).dropna(axis='columns')\n",
        "    return list(ingredients.columns[3:])\n",
        "\n",
        "ingredients = []\n",
        "\n",
        "# отправим 1 строку датафрейма для проверки функции\n",
        "ingredients = make_list(df.sample(1))\n",
        "\n",
        "ingredients"
      ],
      "execution_count": null,
      "outputs": []
    },
    {
      "cell_type": "code",
      "metadata": {
        "id": "HDrcb0wTTyI9",
        "colab_type": "code",
        "colab": {}
      },
      "source": [
        "# Task 12.5.4\n",
        "\n",
        "def make_list(one_df_row):\n",
        "    ingredients = one_df_row.replace(0, np.nan).dropna(axis='columns')\n",
        "    return list(ingredients.columns[3:])\n",
        "\n",
        "new_recipes = []\n",
        "\n",
        "ids = []\n",
        "\n",
        "ingredients = []\n",
        "\n",
        "for item in df.id.unique():\n",
        "    ids.append(item)\n",
        "\n",
        "# type(ids), len(ids)\n",
        "\n",
        "for item in df.columns[3:]:\n",
        "    ingredients.append(item)\n",
        "\n",
        "# type(ingredients), len(ingredients)\n",
        "\n",
        "\n",
        "for current_id in ids:\n",
        "    cuisine = df[df['id'] == current_id]['cuisine'].iloc[0]\n",
        "    current_ingredients = make_list(df[df['id'] == current_id])\n",
        "\n",
        "    current_recipe = {'cuisine': cuisine, 'id': int(current_id), 'ingredients': current_ingredients}\n",
        "    \n",
        "    new_recipes.append(current_recipe)\n",
        "\n",
        "pprint(new_recipes[0:3])\n",
        "\n"
      ],
      "execution_count": null,
      "outputs": []
    },
    {
      "cell_type": "code",
      "metadata": {
        "id": "7Nki-c6okHSB",
        "colab_type": "code",
        "colab": {}
      },
      "source": [
        "with open(project_dir + \"new_recipes.json\", \"w\") as write_file:\n",
        "    json.dump(new_recipes, write_file)"
      ],
      "execution_count": null,
      "outputs": []
    },
    {
      "cell_type": "code",
      "metadata": {
        "id": "QU3sx3S1Tx80",
        "colab_type": "code",
        "colab": {}
      },
      "source": [
        "os.listdir(project_dir)"
      ],
      "execution_count": null,
      "outputs": []
    },
    {
      "cell_type": "code",
      "metadata": {
        "id": "Zj-_Gqr9Txx_",
        "colab_type": "code",
        "colab": {}
      },
      "source": [
        ""
      ],
      "execution_count": null,
      "outputs": []
    },
    {
      "cell_type": "markdown",
      "metadata": {
        "id": "CyQRcqGkl8GW",
        "colab_type": "text"
      },
      "source": [
        "## 12.7 Чтение Excel-файла"
      ]
    },
    {
      "cell_type": "code",
      "metadata": {
        "id": "TgYw5N8VTxme",
        "colab_type": "code",
        "colab": {}
      },
      "source": [
        "data = pd.read_excel(project_dir + 'Fig3-1.xls', header=None)"
      ],
      "execution_count": null,
      "outputs": []
    },
    {
      "cell_type": "code",
      "metadata": {
        "id": "cOneH-HHRuVF",
        "colab_type": "code",
        "colab": {}
      },
      "source": [
        "data.shape"
      ],
      "execution_count": null,
      "outputs": []
    },
    {
      "cell_type": "code",
      "metadata": {
        "id": "PJhWfe7sRuNZ",
        "colab_type": "code",
        "colab": {}
      },
      "source": [
        "# with pd.ExcelFile('path_to_file.xls') as xls:  \n",
        "#     data['Sheet1'] = pd.read_excel(xls, 'Sheet1', na_values=['NA'])  \n",
        "#     data['Sheet2'] = pd.read_excel(xls, 'Sheet2')  "
      ],
      "execution_count": null,
      "outputs": []
    },
    {
      "cell_type": "code",
      "metadata": {
        "id": "aIBiKvqGRuFV",
        "colab_type": "code",
        "colab": {}
      },
      "source": [
        "# data = pd.read_excel('path_to_file.xls', ['Sheet1', 'Sheet2'])  "
      ],
      "execution_count": null,
      "outputs": []
    },
    {
      "cell_type": "markdown",
      "metadata": {
        "id": "490Iph8Tn8lQ",
        "colab_type": "text"
      },
      "source": [
        "## 12.8 Продвинутое чтение Excel-файла"
      ]
    },
    {
      "cell_type": "code",
      "metadata": {
        "id": "rXi5tKtoRt8g",
        "colab_type": "code",
        "colab": {}
      },
      "source": [
        "data = pd.read_excel('http://www.econ.yale.edu/~shiller/data/Fig3-1.xls', header=None) \n",
        "# data\n"
      ],
      "execution_count": null,
      "outputs": []
    },
    {
      "cell_type": "code",
      "metadata": {
        "id": "0cAgstq_Rtzw",
        "colab_type": "code",
        "colab": {}
      },
      "source": [
        "data = pd.read_excel(project_dir + \"nakladnaya.xls\", header=None, skiprows=2)\n",
        "data.shape"
      ],
      "execution_count": null,
      "outputs": []
    },
    {
      "cell_type": "code",
      "metadata": {
        "id": "acT4k0frRtg5",
        "colab_type": "code",
        "colab": {}
      },
      "source": [
        "data.dropna(how='all').shape"
      ],
      "execution_count": null,
      "outputs": []
    },
    {
      "cell_type": "code",
      "metadata": {
        "id": "UA4ouwgfIC5W",
        "colab_type": "code",
        "colab": {}
      },
      "source": [
        "data.dropna(how='all', inplace=True)\n",
        "# data"
      ],
      "execution_count": null,
      "outputs": []
    },
    {
      "cell_type": "code",
      "metadata": {
        "id": "3yv3c8hGIC11",
        "colab_type": "code",
        "colab": {}
      },
      "source": [
        "data.iloc[6:8, [1, 2, 6, 9, 11, 12]]"
      ],
      "execution_count": null,
      "outputs": []
    },
    {
      "cell_type": "code",
      "metadata": {
        "id": "t1hmHE3YIaI4",
        "colab_type": "code",
        "colab": {}
      },
      "source": [
        "data.iloc[6:8, [0, 2, 6, 9, 11, 12]]"
      ],
      "execution_count": null,
      "outputs": []
    },
    {
      "cell_type": "code",
      "metadata": {
        "id": "aJUW1UYBT5WB",
        "colab_type": "code",
        "colab": {}
      },
      "source": [
        "data.iloc[7:8, :].dropna(axis=1, how='all')"
      ],
      "execution_count": null,
      "outputs": []
    },
    {
      "cell_type": "code",
      "metadata": {
        "id": "Q-9y5ENRT5Ga",
        "colab_type": "code",
        "colab": {}
      },
      "source": [
        "data.iloc[6:8, :].dropna(axis=1, how='any')"
      ],
      "execution_count": null,
      "outputs": []
    },
    {
      "cell_type": "code",
      "metadata": {
        "id": "eK3ZsUWoT58h",
        "colab_type": "code",
        "colab": {}
      },
      "source": [
        "data.iloc[6:8, :].dropna(axis=1, how='all')"
      ],
      "execution_count": null,
      "outputs": []
    },
    {
      "cell_type": "markdown",
      "metadata": {
        "id": "7DWCOgazUjJv",
        "colab_type": "text"
      },
      "source": [
        "## 12.9 Запись в Excel-файл"
      ]
    },
    {
      "cell_type": "code",
      "metadata": {
        "id": "IAZvZaNCUin6",
        "colab_type": "code",
        "colab": {}
      },
      "source": [
        "table.to_csv(project_dir + \"table.csv\") "
      ],
      "execution_count": null,
      "outputs": []
    },
    {
      "cell_type": "code",
      "metadata": {
        "id": "BuMbmOhBUiwi",
        "colab_type": "code",
        "colab": {}
      },
      "source": [
        "table.to_excel(project_dir + \"table.xls\")  "
      ],
      "execution_count": null,
      "outputs": []
    },
    {
      "cell_type": "code",
      "metadata": {
        "id": "IFiv-uOvUiuY",
        "colab_type": "code",
        "colab": {}
      },
      "source": [
        "writer = pd.ExcelWriter(project_dir + 'test.xlsx')  \n",
        "data.to_excel(writer, index=False, sheet_name='Таблица')  \n",
        "writer.save()  "
      ],
      "execution_count": null,
      "outputs": []
    },
    {
      "cell_type": "code",
      "metadata": {
        "id": "rMc5QP0oUiks",
        "colab_type": "code",
        "colab": {}
      },
      "source": [
        "os.listdir(project_dir)"
      ],
      "execution_count": null,
      "outputs": []
    },
    {
      "cell_type": "code",
      "metadata": {
        "id": "HFHUn875jGaI",
        "colab_type": "code",
        "colab": {}
      },
      "source": [
        "workbook = writer.book  \n",
        "worksheet = writer.sheets['Таблица'] "
      ],
      "execution_count": null,
      "outputs": []
    },
    {
      "cell_type": "markdown",
      "metadata": {
        "id": "Y-rJq_3Nj0xk",
        "colab_type": "text"
      },
      "source": [
        "Важно запомнить, что при работе с Excel при задании диапазона значений значения указываются включительно. Именно поэтому мы выбрали во втором случае применение форматирования от столбца 1 до столбца 1."
      ]
    },
    {
      "cell_type": "code",
      "metadata": {
        "id": "n_8VLzosUMb1",
        "colab_type": "code",
        "colab": {}
      },
      "source": [
        "\n",
        "# workbook = writer.book  \n",
        "# worksheet = writer.sheets['Таблица'] \n",
        "\n",
        "# money_fmt = workbook.add_format({'bold': True})  \n",
        "# name_fmt = workbook.add_format({'color': 'red'})  \n",
        "  \n",
        "# worksheet.set_column('E:F', 20, money_fmt)  \n",
        "# worksheet.set_column(1, 1, 20, name_fmt)  \n",
        "\n"
      ],
      "execution_count": null,
      "outputs": []
    },
    {
      "cell_type": "markdown",
      "metadata": {
        "id": "Xjy9S8NFkGe8",
        "colab_type": "text"
      },
      "source": [
        "## 12.10 Формат XML"
      ]
    },
    {
      "cell_type": "code",
      "metadata": {
        "id": "mZhpI1wNUNKA",
        "colab_type": "code",
        "colab": {}
      },
      "source": [
        "tree = ET.parse(project_dir + 'menu.xml')    \n",
        "root = tree.getroot()  "
      ],
      "execution_count": null,
      "outputs": []
    },
    {
      "cell_type": "code",
      "metadata": {
        "id": "GOxRFOuiUM2q",
        "colab_type": "code",
        "colab": {}
      },
      "source": [
        "root"
      ],
      "execution_count": null,
      "outputs": []
    },
    {
      "cell_type": "code",
      "metadata": {
        "id": "WOQ9JDAFULmy",
        "colab_type": "code",
        "colab": {}
      },
      "source": [
        "root.getchildren()"
      ],
      "execution_count": null,
      "outputs": []
    },
    {
      "cell_type": "code",
      "metadata": {
        "id": "FT-boGKFUGGu",
        "colab_type": "code",
        "colab": {}
      },
      "source": [
        "root.getchildren()[0] , root[0]"
      ],
      "execution_count": null,
      "outputs": []
    },
    {
      "cell_type": "code",
      "metadata": {
        "id": "37IACRDvsVg7",
        "colab_type": "code",
        "colab": {}
      },
      "source": [
        "root[0].attrib, root[1].attrib"
      ],
      "execution_count": null,
      "outputs": []
    },
    {
      "cell_type": "code",
      "metadata": {
        "id": "O4UOc-q5sVmh",
        "colab_type": "code",
        "colab": {}
      },
      "source": [
        "# узел price\n",
        "\n",
        "root[0][0]"
      ],
      "execution_count": null,
      "outputs": []
    },
    {
      "cell_type": "code",
      "metadata": {
        "id": "WmTXAliosVcl",
        "colab_type": "code",
        "colab": {}
      },
      "source": [
        "root[0][0].text"
      ],
      "execution_count": null,
      "outputs": []
    },
    {
      "cell_type": "code",
      "metadata": {
        "id": "6xdhpP1ftIvT",
        "colab_type": "code",
        "colab": {}
      },
      "source": [
        "int(root[0][0].text), float(root[0][0].text)"
      ],
      "execution_count": null,
      "outputs": []
    },
    {
      "cell_type": "code",
      "metadata": {
        "id": "wZiXqDCXs5Om",
        "colab_type": "code",
        "colab": {}
      },
      "source": [
        "\n",
        "root[0][1].tag"
      ],
      "execution_count": null,
      "outputs": []
    },
    {
      "cell_type": "code",
      "metadata": {
        "id": "ysCBciMos5RJ",
        "colab_type": "code",
        "colab": {}
      },
      "source": [
        "for elem in root:  \n",
        "    for subelem in elem:  \n",
        "        print(elem.attrib['name'], subelem.tag, subelem.text)  \n",
        "    print() "
      ],
      "execution_count": null,
      "outputs": []
    },
    {
      "cell_type": "code",
      "metadata": {
        "id": "tsIxoEwfs5WN",
        "colab_type": "code",
        "colab": {}
      },
      "source": [
        "len(root[1])"
      ],
      "execution_count": null,
      "outputs": []
    },
    {
      "cell_type": "code",
      "metadata": {
        "id": "g1IHdFj7sVaf",
        "colab_type": "code",
        "colab": {}
      },
      "source": [
        ""
      ],
      "execution_count": null,
      "outputs": []
    },
    {
      "cell_type": "markdown",
      "metadata": {
        "id": "ouz878Bmt_41",
        "colab_type": "text"
      },
      "source": [
        "## 12.12 DataFrame и JSON из XML"
      ]
    },
    {
      "cell_type": "code",
      "metadata": {
        "id": "a2sVSfkKsVW9",
        "colab_type": "code",
        "colab": {}
      },
      "source": [
        "df_index = ['name', 'price', 'weight', 'class']  \n",
        "df = pd.DataFrame(columns=df_index)  \n",
        "  \n",
        "for elem in root:  \n",
        "    elements = [elem.get('name'), elem[0].text, elem[1].text, elem[2].text]  \n",
        "    df = df.append(pd.Series(elements, index=df_index), ignore_index=True)\n",
        "\n",
        "df"
      ],
      "execution_count": null,
      "outputs": []
    },
    {
      "cell_type": "code",
      "metadata": {
        "id": "zJFFRXIQuFLE",
        "colab_type": "code",
        "colab": {}
      },
      "source": [
        ""
      ],
      "execution_count": null,
      "outputs": []
    },
    {
      "cell_type": "code",
      "metadata": {
        "id": "ySKQR2qYuFST",
        "colab_type": "code",
        "colab": {}
      },
      "source": [
        ""
      ],
      "execution_count": null,
      "outputs": []
    },
    {
      "cell_type": "code",
      "metadata": {
        "id": "p0z0fwsDuFGT",
        "colab_type": "code",
        "colab": {}
      },
      "source": [
        ""
      ],
      "execution_count": null,
      "outputs": []
    },
    {
      "cell_type": "code",
      "metadata": {
        "id": "HK2wS3Z8uFCu",
        "colab_type": "code",
        "colab": {}
      },
      "source": [
        ""
      ],
      "execution_count": null,
      "outputs": []
    },
    {
      "cell_type": "code",
      "metadata": {
        "id": "GlqYMympUGBj",
        "colab_type": "code",
        "colab": {}
      },
      "source": [
        ""
      ],
      "execution_count": null,
      "outputs": []
    },
    {
      "cell_type": "markdown",
      "metadata": {
        "id": "gjHQ1Q-SR2iq",
        "colab_type": "text"
      },
      "source": [
        "# END"
      ]
    },
    {
      "cell_type": "code",
      "metadata": {
        "id": "DgU4iduNR4Gf",
        "colab_type": "code",
        "colab": {}
      },
      "source": [
        ""
      ],
      "execution_count": null,
      "outputs": []
    }
  ]
}