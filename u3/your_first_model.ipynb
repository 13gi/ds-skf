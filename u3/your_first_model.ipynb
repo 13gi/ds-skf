{
  "nbformat": 4,
  "nbformat_minor": 0,
  "metadata": {
    "kernelspec": {
      "display_name": "Python 3",
      "language": "python",
      "name": "python3"
    },
    "language_info": {
      "codemirror_mode": {
        "name": "ipython",
        "version": 3
      },
      "file_extension": ".py",
      "mimetype": "text/x-python",
      "name": "python",
      "nbconvert_exporter": "python",
      "pygments_lexer": "ipython3",
      "version": "3.7.1"
    },
    "colab": {
      "name": "your_first_model.ipynb",
      "provenance": [],
      "collapsed_sections": [],
      "toc_visible": true,
      "include_colab_link": true
    }
  },
  "cells": [
    {
      "cell_type": "markdown",
      "metadata": {
        "id": "view-in-github",
        "colab_type": "text"
      },
      "source": [
        "<a href=\"https://colab.research.google.com/github/13gi/skillfactory_rds/blob/master/u3/your_first_model.ipynb\" target=\"_parent\"><img src=\"https://colab.research.google.com/assets/colab-badge.svg\" alt=\"Open In Colab\"/></a>"
      ]
    },
    {
      "cell_type": "markdown",
      "metadata": {
        "id": "Bo4bdCI5jTw-"
      },
      "source": [
        "# Загрузка Pandas и очистка данных"
      ]
    },
    {
      "cell_type": "code",
      "metadata": {
        "id": "T_uPF0wsjTxA"
      },
      "source": [
        "import pandas as pd\n",
        "import os\n",
        "import re"
      ],
      "execution_count": 2,
      "outputs": []
    },
    {
      "cell_type": "code",
      "metadata": {
        "id": "P_UZenFa3WT8"
      },
      "source": [
        "project_dir = r'/content/drive/My Drive/Colab Notebooks/data/u3/p3/'\n",
        "df = pd.read_csv(project_dir + 'main_task.csv')"
      ],
      "execution_count": 3,
      "outputs": []
    },
    {
      "cell_type": "code",
      "metadata": {
        "id": "ULC7f1JzqegN",
        "outputId": "30c53d3a-f960-4e08-9f43-ae50c0cf0839",
        "colab": {
          "base_uri": "https://localhost:8080/",
          "height": 538
        }
      },
      "source": [
        "df.sample(7)"
      ],
      "execution_count": 4,
      "outputs": [
        {
          "output_type": "execute_result",
          "data": {
            "text/html": [
              "<div>\n",
              "<style scoped>\n",
              "    .dataframe tbody tr th:only-of-type {\n",
              "        vertical-align: middle;\n",
              "    }\n",
              "\n",
              "    .dataframe tbody tr th {\n",
              "        vertical-align: top;\n",
              "    }\n",
              "\n",
              "    .dataframe thead th {\n",
              "        text-align: right;\n",
              "    }\n",
              "</style>\n",
              "<table border=\"1\" class=\"dataframe\">\n",
              "  <thead>\n",
              "    <tr style=\"text-align: right;\">\n",
              "      <th></th>\n",
              "      <th>Restaurant_id</th>\n",
              "      <th>City</th>\n",
              "      <th>Cuisine Style</th>\n",
              "      <th>Ranking</th>\n",
              "      <th>Rating</th>\n",
              "      <th>Price Range</th>\n",
              "      <th>Number of Reviews</th>\n",
              "      <th>Reviews</th>\n",
              "      <th>URL_TA</th>\n",
              "      <th>ID_TA</th>\n",
              "    </tr>\n",
              "  </thead>\n",
              "  <tbody>\n",
              "    <tr>\n",
              "      <th>21015</th>\n",
              "      <td>id_5562</td>\n",
              "      <td>Berlin</td>\n",
              "      <td>['Italian']</td>\n",
              "      <td>5564.0</td>\n",
              "      <td>3.5</td>\n",
              "      <td>$$ - $$$</td>\n",
              "      <td>9.0</td>\n",
              "      <td>[['Good pizza', 'Great Sicilian food'], ['10/0...</td>\n",
              "      <td>/Restaurant_Review-g187323-d8686630-Reviews-Tr...</td>\n",
              "      <td>d8686630</td>\n",
              "    </tr>\n",
              "    <tr>\n",
              "      <th>27013</th>\n",
              "      <td>id_2700</td>\n",
              "      <td>Madrid</td>\n",
              "      <td>['Bar', 'Gastropub', 'Cafe', 'Healthy']</td>\n",
              "      <td>2702.0</td>\n",
              "      <td>4.0</td>\n",
              "      <td>$$ - $$$</td>\n",
              "      <td>14.0</td>\n",
              "      <td>[['Great design inside with industrial furnit....</td>\n",
              "      <td>/Restaurant_Review-g187514-d12709573-Reviews-C...</td>\n",
              "      <td>d12709573</td>\n",
              "    </tr>\n",
              "    <tr>\n",
              "      <th>14789</th>\n",
              "      <td>id_2625</td>\n",
              "      <td>London</td>\n",
              "      <td>['Indian', 'Asian', 'Balti', 'Vegetarian Frien...</td>\n",
              "      <td>2630.0</td>\n",
              "      <td>4.0</td>\n",
              "      <td>$$ - $$$</td>\n",
              "      <td>143.0</td>\n",
              "      <td>[['Meal after IWM', 'Near the Imperial War Mus...</td>\n",
              "      <td>/Restaurant_Review-g186338-d3324188-Reviews-Ca...</td>\n",
              "      <td>d3324188</td>\n",
              "    </tr>\n",
              "    <tr>\n",
              "      <th>31765</th>\n",
              "      <td>id_3283</td>\n",
              "      <td>Madrid</td>\n",
              "      <td>['Cafe']</td>\n",
              "      <td>3285.0</td>\n",
              "      <td>4.5</td>\n",
              "      <td>$</td>\n",
              "      <td>8.0</td>\n",
              "      <td>[['Cool, fresh, crisp and delicious'], ['06/22...</td>\n",
              "      <td>/Restaurant_Review-g187514-d10497532-Reviews-P...</td>\n",
              "      <td>d10497532</td>\n",
              "    </tr>\n",
              "    <tr>\n",
              "      <th>3422</th>\n",
              "      <td>id_7605</td>\n",
              "      <td>Barcelona</td>\n",
              "      <td>NaN</td>\n",
              "      <td>7606.0</td>\n",
              "      <td>2.0</td>\n",
              "      <td>NaN</td>\n",
              "      <td>5.0</td>\n",
              "      <td>[[], []]</td>\n",
              "      <td>/Restaurant_Review-g187497-d11953102-Reviews-L...</td>\n",
              "      <td>d11953102</td>\n",
              "    </tr>\n",
              "    <tr>\n",
              "      <th>31561</th>\n",
              "      <td>id_7</td>\n",
              "      <td>Athens</td>\n",
              "      <td>['Italian', 'Mediterranean', 'Greek', 'Vegetar...</td>\n",
              "      <td>8.0</td>\n",
              "      <td>4.5</td>\n",
              "      <td>$$ - $$$</td>\n",
              "      <td>1741.0</td>\n",
              "      <td>[['Great Restaurant', 'Outstanding good and se...</td>\n",
              "      <td>/Restaurant_Review-g189400-d2186282-Reviews-Or...</td>\n",
              "      <td>d2186282</td>\n",
              "    </tr>\n",
              "    <tr>\n",
              "      <th>4239</th>\n",
              "      <td>id_1812</td>\n",
              "      <td>Budapest</td>\n",
              "      <td>NaN</td>\n",
              "      <td>1813.0</td>\n",
              "      <td>4.0</td>\n",
              "      <td>NaN</td>\n",
              "      <td>9.0</td>\n",
              "      <td>[['Quiet, pleasant Sunday coffee', 'Good Cafe ...</td>\n",
              "      <td>/Restaurant_Review-g274887-d8500419-Reviews-Pi...</td>\n",
              "      <td>d8500419</td>\n",
              "    </tr>\n",
              "  </tbody>\n",
              "</table>\n",
              "</div>"
            ],
            "text/plain": [
              "      Restaurant_id  ...      ID_TA\n",
              "21015       id_5562  ...   d8686630\n",
              "27013       id_2700  ...  d12709573\n",
              "14789       id_2625  ...   d3324188\n",
              "31765       id_3283  ...  d10497532\n",
              "3422        id_7605  ...  d11953102\n",
              "31561          id_7  ...   d2186282\n",
              "4239        id_1812  ...   d8500419\n",
              "\n",
              "[7 rows x 10 columns]"
            ]
          },
          "metadata": {
            "tags": []
          },
          "execution_count": 4
        }
      ]
    },
    {
      "cell_type": "code",
      "metadata": {
        "id": "799Yy2D3oAgw",
        "outputId": "e642c30e-e4eb-4191-d6b0-015438c0c482",
        "colab": {
          "base_uri": "https://localhost:8080/",
          "height": 34
        }
      },
      "source": [
        "df.shape"
      ],
      "execution_count": 5,
      "outputs": [
        {
          "output_type": "execute_result",
          "data": {
            "text/plain": [
              "(40000, 10)"
            ]
          },
          "metadata": {
            "tags": []
          },
          "execution_count": 5
        }
      ]
    },
    {
      "cell_type": "code",
      "metadata": {
        "id": "G1_X8TMWjTxO"
      },
      "source": [
        "# Ваш код по очистке данных и генерации новых признаков\n",
        "# При необходимости добавьте ячейки"
      ],
      "execution_count": 6,
      "outputs": []
    },
    {
      "cell_type": "markdown",
      "metadata": {
        "id": "dC59lNnvo3LK"
      },
      "source": [
        "\n",
        "`Cuisine Style` — кухня или кухни, к которым можно отнести блюда, предлагаемые в ресторане;\n",
        "\n",
        "`Price Range` — диапазон цен в ресторане;\n",
        "\n",
        "`Number of Reviews` — количество отзывов о ресторане;\n",
        "\n"
      ]
    },
    {
      "cell_type": "code",
      "metadata": {
        "id": "WasiF_hljTxS"
      },
      "source": [
        ""
      ],
      "execution_count": 6,
      "outputs": []
    },
    {
      "cell_type": "code",
      "metadata": {
        "id": "VxJ37-1dpxRb",
        "outputId": "f966a0f9-edfb-4ec3-c9ff-41ec05c00099",
        "colab": {
          "base_uri": "https://localhost:8080/",
          "height": 68
        }
      },
      "source": [
        "df.columns = [str(x).replace(' ', '_') for x in df.columns]\n",
        "df.columns"
      ],
      "execution_count": 7,
      "outputs": [
        {
          "output_type": "execute_result",
          "data": {
            "text/plain": [
              "Index(['Restaurant_id', 'City', 'Cuisine_Style', 'Ranking', 'Rating',\n",
              "       'Price_Range', 'Number_of_Reviews', 'Reviews', 'URL_TA', 'ID_TA'],\n",
              "      dtype='object')"
            ]
          },
          "metadata": {
            "tags": []
          },
          "execution_count": 7
        }
      ]
    },
    {
      "cell_type": "code",
      "metadata": {
        "id": "LaI4xqJsTeaj",
        "outputId": "443d338d-fff8-49ff-a0c5-03bb77c22f6c",
        "colab": {
          "base_uri": "https://localhost:8080/",
          "height": 187
        }
      },
      "source": [
        "for item in df.columns:\n",
        "    print(item, ': nan-count = ', df[item].isna().sum(), sep='')"
      ],
      "execution_count": 8,
      "outputs": [
        {
          "output_type": "stream",
          "text": [
            "Restaurant_id: nan-count = 0\n",
            "City: nan-count = 0\n",
            "Cuisine_Style: nan-count = 9283\n",
            "Ranking: nan-count = 0\n",
            "Rating: nan-count = 0\n",
            "Price_Range: nan-count = 13886\n",
            "Number_of_Reviews: nan-count = 2543\n",
            "Reviews: nan-count = 0\n",
            "URL_TA: nan-count = 0\n",
            "ID_TA: nan-count = 0\n"
          ],
          "name": "stdout"
        }
      ]
    },
    {
      "cell_type": "code",
      "metadata": {
        "id": "-XPjZMWlpxNj"
      },
      "source": [
        "df['Cuisine_Style'] = df['Cuisine_Style'].fillna(0)"
      ],
      "execution_count": 9,
      "outputs": []
    },
    {
      "cell_type": "code",
      "metadata": {
        "id": "AalTG_AGsSJT"
      },
      "source": [
        "\n",
        "df['Price_Range'] = df['Price_Range'].fillna(df['Price_Range'].value_counts().index[0])"
      ],
      "execution_count": 10,
      "outputs": []
    },
    {
      "cell_type": "code",
      "metadata": {
        "id": "amuYDLlbsSFZ"
      },
      "source": [
        "df['Number_of_Reviews'] = df['Number_of_Reviews'].fillna(df['Number_of_Reviews'].mean())"
      ],
      "execution_count": 11,
      "outputs": []
    },
    {
      "cell_type": "code",
      "metadata": {
        "id": "LHumzIgPsR9U",
        "outputId": "73779564-e4c6-423f-eccb-7c566ab2f4a3",
        "colab": {
          "base_uri": "https://localhost:8080/",
          "height": 187
        }
      },
      "source": [
        "for item in df.columns:\n",
        "    print(item, ': nan-count = ', df[item].isna().sum(), sep='')"
      ],
      "execution_count": 12,
      "outputs": [
        {
          "output_type": "stream",
          "text": [
            "Restaurant_id: nan-count = 0\n",
            "City: nan-count = 0\n",
            "Cuisine_Style: nan-count = 0\n",
            "Ranking: nan-count = 0\n",
            "Rating: nan-count = 0\n",
            "Price_Range: nan-count = 0\n",
            "Number_of_Reviews: nan-count = 0\n",
            "Reviews: nan-count = 0\n",
            "URL_TA: nan-count = 0\n",
            "ID_TA: nan-count = 0\n"
          ],
          "name": "stdout"
        }
      ]
    },
    {
      "cell_type": "code",
      "metadata": {
        "id": "tOhhvsadpxJm",
        "outputId": "04bc5a29-3043-401a-d334-126688a26c6c",
        "colab": {
          "base_uri": "https://localhost:8080/",
          "height": 306
        }
      },
      "source": [
        "df.info()"
      ],
      "execution_count": 13,
      "outputs": [
        {
          "output_type": "stream",
          "text": [
            "<class 'pandas.core.frame.DataFrame'>\n",
            "RangeIndex: 40000 entries, 0 to 39999\n",
            "Data columns (total 10 columns):\n",
            " #   Column             Non-Null Count  Dtype  \n",
            "---  ------             --------------  -----  \n",
            " 0   Restaurant_id      40000 non-null  object \n",
            " 1   City               40000 non-null  object \n",
            " 2   Cuisine_Style      40000 non-null  object \n",
            " 3   Ranking            40000 non-null  float64\n",
            " 4   Rating             40000 non-null  float64\n",
            " 5   Price_Range        40000 non-null  object \n",
            " 6   Number_of_Reviews  40000 non-null  float64\n",
            " 7   Reviews            40000 non-null  object \n",
            " 8   URL_TA             40000 non-null  object \n",
            " 9   ID_TA              40000 non-null  object \n",
            "dtypes: float64(3), object(7)\n",
            "memory usage: 3.1+ MB\n"
          ],
          "name": "stdout"
        }
      ]
    },
    {
      "cell_type": "code",
      "metadata": {
        "id": "NJ-q-mSqR7fS"
      },
      "source": [
        "def split_str_to_list(incoming):\n",
        "    if incoming == 0 or len(incoming) == 0:\n",
        "        return ['None']\n",
        "    # print(type(incoming))\n",
        "    return re.findall(r\"[^'][\\w\\s]+[^']\", incoming)\n",
        "\n",
        "\n",
        "df['Cuisine_Style'] = df['Cuisine_Style'].apply(lambda x: re.findall(r\"[^'][\\w\\s]+[^']\", str(x)))\n",
        "\n",
        "df['Restaurant_id'] = df['Restaurant_id'].apply(lambda x: int(re.search(r'\\d+', str(x)).group(0)))\n",
        "\n",
        "df['City'] = df['City'].apply(lambda x: str(x).strip())\n",
        "\n",
        "df['ID_TA'] = df['ID_TA'].apply(lambda x: int(re.search(r'\\d+', str(x)).group(0)))\n",
        "\n",
        "price_range_dict = dict(zip(['$$ - $$$', '$', '$$$$'], [500, 5, 5000]))\n",
        "df['Price_Range'] = df['Price_Range'].replace(to_replace=price_range_dict)\n"
      ],
      "execution_count": 14,
      "outputs": []
    },
    {
      "cell_type": "code",
      "metadata": {
        "id": "uFY3vUcX76KX"
      },
      "source": [
        "df.drop(['Reviews', 'URL_TA'], axis = 1, inplace=True)"
      ],
      "execution_count": 15,
      "outputs": []
    },
    {
      "cell_type": "code",
      "metadata": {
        "id": "FdMs1SBx6HTZ",
        "outputId": "386745d8-cd09-4e26-bd12-f826861fc2da",
        "colab": {
          "base_uri": "https://localhost:8080/",
          "height": 266
        }
      },
      "source": [
        "df.sample(7)"
      ],
      "execution_count": 16,
      "outputs": [
        {
          "output_type": "execute_result",
          "data": {
            "text/html": [
              "<div>\n",
              "<style scoped>\n",
              "    .dataframe tbody tr th:only-of-type {\n",
              "        vertical-align: middle;\n",
              "    }\n",
              "\n",
              "    .dataframe tbody tr th {\n",
              "        vertical-align: top;\n",
              "    }\n",
              "\n",
              "    .dataframe thead th {\n",
              "        text-align: right;\n",
              "    }\n",
              "</style>\n",
              "<table border=\"1\" class=\"dataframe\">\n",
              "  <thead>\n",
              "    <tr style=\"text-align: right;\">\n",
              "      <th></th>\n",
              "      <th>Restaurant_id</th>\n",
              "      <th>City</th>\n",
              "      <th>Cuisine_Style</th>\n",
              "      <th>Ranking</th>\n",
              "      <th>Rating</th>\n",
              "      <th>Price_Range</th>\n",
              "      <th>Number_of_Reviews</th>\n",
              "      <th>ID_TA</th>\n",
              "    </tr>\n",
              "  </thead>\n",
              "  <tbody>\n",
              "    <tr>\n",
              "      <th>16873</th>\n",
              "      <td>1656</td>\n",
              "      <td>Madrid</td>\n",
              "      <td>[Irish, Bar, European, Pub, International]</td>\n",
              "      <td>1658.0</td>\n",
              "      <td>4.0</td>\n",
              "      <td>500</td>\n",
              "      <td>223.0</td>\n",
              "      <td>2490533</td>\n",
              "    </tr>\n",
              "    <tr>\n",
              "      <th>21894</th>\n",
              "      <td>1040</td>\n",
              "      <td>Munich</td>\n",
              "      <td>[Vegetarian Friendly]</td>\n",
              "      <td>1050.0</td>\n",
              "      <td>4.0</td>\n",
              "      <td>500</td>\n",
              "      <td>27.0</td>\n",
              "      <td>7153029</td>\n",
              "    </tr>\n",
              "    <tr>\n",
              "      <th>18839</th>\n",
              "      <td>712</td>\n",
              "      <td>Budapest</td>\n",
              "      <td>[Italian, Pizza, Fast Food, Vegetarian Friendly]</td>\n",
              "      <td>713.0</td>\n",
              "      <td>4.0</td>\n",
              "      <td>5</td>\n",
              "      <td>153.0</td>\n",
              "      <td>6654307</td>\n",
              "    </tr>\n",
              "    <tr>\n",
              "      <th>19551</th>\n",
              "      <td>1229</td>\n",
              "      <td>Lyon</td>\n",
              "      <td>[French, Cafe, Fast Food]</td>\n",
              "      <td>1230.0</td>\n",
              "      <td>5.0</td>\n",
              "      <td>5</td>\n",
              "      <td>4.0</td>\n",
              "      <td>12995597</td>\n",
              "    </tr>\n",
              "    <tr>\n",
              "      <th>35552</th>\n",
              "      <td>2121</td>\n",
              "      <td>Budapest</td>\n",
              "      <td>[]</td>\n",
              "      <td>2122.0</td>\n",
              "      <td>3.5</td>\n",
              "      <td>500</td>\n",
              "      <td>2.0</td>\n",
              "      <td>11688263</td>\n",
              "    </tr>\n",
              "    <tr>\n",
              "      <th>17542</th>\n",
              "      <td>7402</td>\n",
              "      <td>Paris</td>\n",
              "      <td>[French]</td>\n",
              "      <td>7403.0</td>\n",
              "      <td>3.5</td>\n",
              "      <td>500</td>\n",
              "      <td>64.0</td>\n",
              "      <td>2348565</td>\n",
              "    </tr>\n",
              "    <tr>\n",
              "      <th>37320</th>\n",
              "      <td>3020</td>\n",
              "      <td>Milan</td>\n",
              "      <td>[Japanese, Fusion]</td>\n",
              "      <td>3022.0</td>\n",
              "      <td>3.5</td>\n",
              "      <td>500</td>\n",
              "      <td>134.0</td>\n",
              "      <td>7032444</td>\n",
              "    </tr>\n",
              "  </tbody>\n",
              "</table>\n",
              "</div>"
            ],
            "text/plain": [
              "       Restaurant_id      City  ... Number_of_Reviews     ID_TA\n",
              "16873           1656    Madrid  ...             223.0   2490533\n",
              "21894           1040    Munich  ...              27.0   7153029\n",
              "18839            712  Budapest  ...             153.0   6654307\n",
              "19551           1229      Lyon  ...               4.0  12995597\n",
              "35552           2121  Budapest  ...               2.0  11688263\n",
              "17542           7402     Paris  ...              64.0   2348565\n",
              "37320           3020     Milan  ...             134.0   7032444\n",
              "\n",
              "[7 rows x 8 columns]"
            ]
          },
          "metadata": {
            "tags": []
          },
          "execution_count": 16
        }
      ]
    },
    {
      "cell_type": "code",
      "metadata": {
        "id": "GpwBCdiL86An"
      },
      "source": [
        ""
      ],
      "execution_count": 16,
      "outputs": []
    },
    {
      "cell_type": "markdown",
      "metadata": {
        "id": "1j4RKEP7mhFj"
      },
      "source": [
        "### Обработка датафрейма"
      ]
    },
    {
      "cell_type": "code",
      "metadata": {
        "id": "rI0ejEkFm_jZ",
        "outputId": "daf67cfa-09ef-42ef-b7a0-bf42d698cf6a",
        "colab": {
          "base_uri": "https://localhost:8080/",
          "height": 34
        }
      },
      "source": [
        "df.shape"
      ],
      "execution_count": 17,
      "outputs": [
        {
          "output_type": "execute_result",
          "data": {
            "text/plain": [
              "(40000, 8)"
            ]
          },
          "metadata": {
            "tags": []
          },
          "execution_count": 17
        }
      ]
    },
    {
      "cell_type": "code",
      "metadata": {
        "id": "Y_a7wTaEmwlV"
      },
      "source": [
        "# Усекаем датафрейм, чтобы не переполнить ОЗУ\n",
        "# df = df.sample(frac=0.25)\n",
        "# df.shape"
      ],
      "execution_count": 18,
      "outputs": []
    },
    {
      "cell_type": "code",
      "metadata": {
        "id": "e65MlUc2VXGK"
      },
      "source": [
        "# df.explode('Cuisine_Style')"
      ],
      "execution_count": 19,
      "outputs": []
    },
    {
      "cell_type": "code",
      "metadata": {
        "id": "WDR_pVBfkRDr",
        "outputId": "d6b3fc92-49c5-45c3-c172-83813c0e74b6",
        "colab": {
          "base_uri": "https://localhost:8080/",
          "height": 439
        }
      },
      "source": [
        "# df.explode('Cuisine_Style')['Cuisine_Style'].value_counts()\n",
        "pd.get_dummies(df['City'])\n",
        "# pd.get_dummies(df['City']).shape"
      ],
      "execution_count": 20,
      "outputs": [
        {
          "output_type": "execute_result",
          "data": {
            "text/html": [
              "<div>\n",
              "<style scoped>\n",
              "    .dataframe tbody tr th:only-of-type {\n",
              "        vertical-align: middle;\n",
              "    }\n",
              "\n",
              "    .dataframe tbody tr th {\n",
              "        vertical-align: top;\n",
              "    }\n",
              "\n",
              "    .dataframe thead th {\n",
              "        text-align: right;\n",
              "    }\n",
              "</style>\n",
              "<table border=\"1\" class=\"dataframe\">\n",
              "  <thead>\n",
              "    <tr style=\"text-align: right;\">\n",
              "      <th></th>\n",
              "      <th>Amsterdam</th>\n",
              "      <th>Athens</th>\n",
              "      <th>Barcelona</th>\n",
              "      <th>Berlin</th>\n",
              "      <th>Bratislava</th>\n",
              "      <th>Brussels</th>\n",
              "      <th>Budapest</th>\n",
              "      <th>Copenhagen</th>\n",
              "      <th>Dublin</th>\n",
              "      <th>Edinburgh</th>\n",
              "      <th>Geneva</th>\n",
              "      <th>Hamburg</th>\n",
              "      <th>Helsinki</th>\n",
              "      <th>Krakow</th>\n",
              "      <th>Lisbon</th>\n",
              "      <th>Ljubljana</th>\n",
              "      <th>London</th>\n",
              "      <th>Luxembourg</th>\n",
              "      <th>Lyon</th>\n",
              "      <th>Madrid</th>\n",
              "      <th>Milan</th>\n",
              "      <th>Munich</th>\n",
              "      <th>Oporto</th>\n",
              "      <th>Oslo</th>\n",
              "      <th>Paris</th>\n",
              "      <th>Prague</th>\n",
              "      <th>Rome</th>\n",
              "      <th>Stockholm</th>\n",
              "      <th>Vienna</th>\n",
              "      <th>Warsaw</th>\n",
              "      <th>Zurich</th>\n",
              "    </tr>\n",
              "  </thead>\n",
              "  <tbody>\n",
              "    <tr>\n",
              "      <th>0</th>\n",
              "      <td>0</td>\n",
              "      <td>0</td>\n",
              "      <td>0</td>\n",
              "      <td>0</td>\n",
              "      <td>0</td>\n",
              "      <td>0</td>\n",
              "      <td>0</td>\n",
              "      <td>0</td>\n",
              "      <td>0</td>\n",
              "      <td>0</td>\n",
              "      <td>0</td>\n",
              "      <td>0</td>\n",
              "      <td>0</td>\n",
              "      <td>0</td>\n",
              "      <td>0</td>\n",
              "      <td>0</td>\n",
              "      <td>0</td>\n",
              "      <td>0</td>\n",
              "      <td>0</td>\n",
              "      <td>0</td>\n",
              "      <td>0</td>\n",
              "      <td>0</td>\n",
              "      <td>0</td>\n",
              "      <td>0</td>\n",
              "      <td>1</td>\n",
              "      <td>0</td>\n",
              "      <td>0</td>\n",
              "      <td>0</td>\n",
              "      <td>0</td>\n",
              "      <td>0</td>\n",
              "      <td>0</td>\n",
              "    </tr>\n",
              "    <tr>\n",
              "      <th>1</th>\n",
              "      <td>0</td>\n",
              "      <td>0</td>\n",
              "      <td>0</td>\n",
              "      <td>0</td>\n",
              "      <td>0</td>\n",
              "      <td>0</td>\n",
              "      <td>0</td>\n",
              "      <td>0</td>\n",
              "      <td>0</td>\n",
              "      <td>0</td>\n",
              "      <td>0</td>\n",
              "      <td>0</td>\n",
              "      <td>0</td>\n",
              "      <td>0</td>\n",
              "      <td>0</td>\n",
              "      <td>0</td>\n",
              "      <td>0</td>\n",
              "      <td>0</td>\n",
              "      <td>0</td>\n",
              "      <td>0</td>\n",
              "      <td>0</td>\n",
              "      <td>0</td>\n",
              "      <td>0</td>\n",
              "      <td>0</td>\n",
              "      <td>0</td>\n",
              "      <td>0</td>\n",
              "      <td>0</td>\n",
              "      <td>1</td>\n",
              "      <td>0</td>\n",
              "      <td>0</td>\n",
              "      <td>0</td>\n",
              "    </tr>\n",
              "    <tr>\n",
              "      <th>2</th>\n",
              "      <td>0</td>\n",
              "      <td>0</td>\n",
              "      <td>0</td>\n",
              "      <td>0</td>\n",
              "      <td>0</td>\n",
              "      <td>0</td>\n",
              "      <td>0</td>\n",
              "      <td>0</td>\n",
              "      <td>0</td>\n",
              "      <td>0</td>\n",
              "      <td>0</td>\n",
              "      <td>0</td>\n",
              "      <td>0</td>\n",
              "      <td>0</td>\n",
              "      <td>0</td>\n",
              "      <td>0</td>\n",
              "      <td>1</td>\n",
              "      <td>0</td>\n",
              "      <td>0</td>\n",
              "      <td>0</td>\n",
              "      <td>0</td>\n",
              "      <td>0</td>\n",
              "      <td>0</td>\n",
              "      <td>0</td>\n",
              "      <td>0</td>\n",
              "      <td>0</td>\n",
              "      <td>0</td>\n",
              "      <td>0</td>\n",
              "      <td>0</td>\n",
              "      <td>0</td>\n",
              "      <td>0</td>\n",
              "    </tr>\n",
              "    <tr>\n",
              "      <th>3</th>\n",
              "      <td>0</td>\n",
              "      <td>0</td>\n",
              "      <td>0</td>\n",
              "      <td>1</td>\n",
              "      <td>0</td>\n",
              "      <td>0</td>\n",
              "      <td>0</td>\n",
              "      <td>0</td>\n",
              "      <td>0</td>\n",
              "      <td>0</td>\n",
              "      <td>0</td>\n",
              "      <td>0</td>\n",
              "      <td>0</td>\n",
              "      <td>0</td>\n",
              "      <td>0</td>\n",
              "      <td>0</td>\n",
              "      <td>0</td>\n",
              "      <td>0</td>\n",
              "      <td>0</td>\n",
              "      <td>0</td>\n",
              "      <td>0</td>\n",
              "      <td>0</td>\n",
              "      <td>0</td>\n",
              "      <td>0</td>\n",
              "      <td>0</td>\n",
              "      <td>0</td>\n",
              "      <td>0</td>\n",
              "      <td>0</td>\n",
              "      <td>0</td>\n",
              "      <td>0</td>\n",
              "      <td>0</td>\n",
              "    </tr>\n",
              "    <tr>\n",
              "      <th>4</th>\n",
              "      <td>0</td>\n",
              "      <td>0</td>\n",
              "      <td>0</td>\n",
              "      <td>0</td>\n",
              "      <td>0</td>\n",
              "      <td>0</td>\n",
              "      <td>0</td>\n",
              "      <td>0</td>\n",
              "      <td>0</td>\n",
              "      <td>0</td>\n",
              "      <td>0</td>\n",
              "      <td>0</td>\n",
              "      <td>0</td>\n",
              "      <td>0</td>\n",
              "      <td>0</td>\n",
              "      <td>0</td>\n",
              "      <td>0</td>\n",
              "      <td>0</td>\n",
              "      <td>0</td>\n",
              "      <td>0</td>\n",
              "      <td>0</td>\n",
              "      <td>1</td>\n",
              "      <td>0</td>\n",
              "      <td>0</td>\n",
              "      <td>0</td>\n",
              "      <td>0</td>\n",
              "      <td>0</td>\n",
              "      <td>0</td>\n",
              "      <td>0</td>\n",
              "      <td>0</td>\n",
              "      <td>0</td>\n",
              "    </tr>\n",
              "    <tr>\n",
              "      <th>...</th>\n",
              "      <td>...</td>\n",
              "      <td>...</td>\n",
              "      <td>...</td>\n",
              "      <td>...</td>\n",
              "      <td>...</td>\n",
              "      <td>...</td>\n",
              "      <td>...</td>\n",
              "      <td>...</td>\n",
              "      <td>...</td>\n",
              "      <td>...</td>\n",
              "      <td>...</td>\n",
              "      <td>...</td>\n",
              "      <td>...</td>\n",
              "      <td>...</td>\n",
              "      <td>...</td>\n",
              "      <td>...</td>\n",
              "      <td>...</td>\n",
              "      <td>...</td>\n",
              "      <td>...</td>\n",
              "      <td>...</td>\n",
              "      <td>...</td>\n",
              "      <td>...</td>\n",
              "      <td>...</td>\n",
              "      <td>...</td>\n",
              "      <td>...</td>\n",
              "      <td>...</td>\n",
              "      <td>...</td>\n",
              "      <td>...</td>\n",
              "      <td>...</td>\n",
              "      <td>...</td>\n",
              "      <td>...</td>\n",
              "    </tr>\n",
              "    <tr>\n",
              "      <th>39995</th>\n",
              "      <td>0</td>\n",
              "      <td>0</td>\n",
              "      <td>0</td>\n",
              "      <td>0</td>\n",
              "      <td>0</td>\n",
              "      <td>0</td>\n",
              "      <td>0</td>\n",
              "      <td>0</td>\n",
              "      <td>0</td>\n",
              "      <td>0</td>\n",
              "      <td>0</td>\n",
              "      <td>0</td>\n",
              "      <td>0</td>\n",
              "      <td>0</td>\n",
              "      <td>0</td>\n",
              "      <td>0</td>\n",
              "      <td>0</td>\n",
              "      <td>0</td>\n",
              "      <td>0</td>\n",
              "      <td>0</td>\n",
              "      <td>1</td>\n",
              "      <td>0</td>\n",
              "      <td>0</td>\n",
              "      <td>0</td>\n",
              "      <td>0</td>\n",
              "      <td>0</td>\n",
              "      <td>0</td>\n",
              "      <td>0</td>\n",
              "      <td>0</td>\n",
              "      <td>0</td>\n",
              "      <td>0</td>\n",
              "    </tr>\n",
              "    <tr>\n",
              "      <th>39996</th>\n",
              "      <td>0</td>\n",
              "      <td>0</td>\n",
              "      <td>0</td>\n",
              "      <td>0</td>\n",
              "      <td>0</td>\n",
              "      <td>0</td>\n",
              "      <td>0</td>\n",
              "      <td>0</td>\n",
              "      <td>0</td>\n",
              "      <td>0</td>\n",
              "      <td>0</td>\n",
              "      <td>0</td>\n",
              "      <td>0</td>\n",
              "      <td>0</td>\n",
              "      <td>0</td>\n",
              "      <td>0</td>\n",
              "      <td>0</td>\n",
              "      <td>0</td>\n",
              "      <td>0</td>\n",
              "      <td>0</td>\n",
              "      <td>0</td>\n",
              "      <td>0</td>\n",
              "      <td>0</td>\n",
              "      <td>0</td>\n",
              "      <td>1</td>\n",
              "      <td>0</td>\n",
              "      <td>0</td>\n",
              "      <td>0</td>\n",
              "      <td>0</td>\n",
              "      <td>0</td>\n",
              "      <td>0</td>\n",
              "    </tr>\n",
              "    <tr>\n",
              "      <th>39997</th>\n",
              "      <td>0</td>\n",
              "      <td>0</td>\n",
              "      <td>0</td>\n",
              "      <td>0</td>\n",
              "      <td>0</td>\n",
              "      <td>0</td>\n",
              "      <td>0</td>\n",
              "      <td>0</td>\n",
              "      <td>0</td>\n",
              "      <td>0</td>\n",
              "      <td>0</td>\n",
              "      <td>0</td>\n",
              "      <td>0</td>\n",
              "      <td>0</td>\n",
              "      <td>0</td>\n",
              "      <td>0</td>\n",
              "      <td>0</td>\n",
              "      <td>0</td>\n",
              "      <td>0</td>\n",
              "      <td>0</td>\n",
              "      <td>0</td>\n",
              "      <td>0</td>\n",
              "      <td>0</td>\n",
              "      <td>0</td>\n",
              "      <td>0</td>\n",
              "      <td>0</td>\n",
              "      <td>0</td>\n",
              "      <td>1</td>\n",
              "      <td>0</td>\n",
              "      <td>0</td>\n",
              "      <td>0</td>\n",
              "    </tr>\n",
              "    <tr>\n",
              "      <th>39998</th>\n",
              "      <td>0</td>\n",
              "      <td>0</td>\n",
              "      <td>0</td>\n",
              "      <td>0</td>\n",
              "      <td>0</td>\n",
              "      <td>0</td>\n",
              "      <td>0</td>\n",
              "      <td>0</td>\n",
              "      <td>0</td>\n",
              "      <td>0</td>\n",
              "      <td>0</td>\n",
              "      <td>0</td>\n",
              "      <td>0</td>\n",
              "      <td>0</td>\n",
              "      <td>0</td>\n",
              "      <td>0</td>\n",
              "      <td>0</td>\n",
              "      <td>0</td>\n",
              "      <td>0</td>\n",
              "      <td>0</td>\n",
              "      <td>0</td>\n",
              "      <td>0</td>\n",
              "      <td>0</td>\n",
              "      <td>0</td>\n",
              "      <td>0</td>\n",
              "      <td>0</td>\n",
              "      <td>0</td>\n",
              "      <td>0</td>\n",
              "      <td>0</td>\n",
              "      <td>1</td>\n",
              "      <td>0</td>\n",
              "    </tr>\n",
              "    <tr>\n",
              "      <th>39999</th>\n",
              "      <td>0</td>\n",
              "      <td>0</td>\n",
              "      <td>0</td>\n",
              "      <td>0</td>\n",
              "      <td>0</td>\n",
              "      <td>0</td>\n",
              "      <td>0</td>\n",
              "      <td>0</td>\n",
              "      <td>0</td>\n",
              "      <td>0</td>\n",
              "      <td>0</td>\n",
              "      <td>0</td>\n",
              "      <td>0</td>\n",
              "      <td>0</td>\n",
              "      <td>0</td>\n",
              "      <td>0</td>\n",
              "      <td>0</td>\n",
              "      <td>0</td>\n",
              "      <td>0</td>\n",
              "      <td>0</td>\n",
              "      <td>1</td>\n",
              "      <td>0</td>\n",
              "      <td>0</td>\n",
              "      <td>0</td>\n",
              "      <td>0</td>\n",
              "      <td>0</td>\n",
              "      <td>0</td>\n",
              "      <td>0</td>\n",
              "      <td>0</td>\n",
              "      <td>0</td>\n",
              "      <td>0</td>\n",
              "    </tr>\n",
              "  </tbody>\n",
              "</table>\n",
              "<p>40000 rows × 31 columns</p>\n",
              "</div>"
            ],
            "text/plain": [
              "       Amsterdam  Athens  Barcelona  Berlin  ...  Stockholm  Vienna  Warsaw  Zurich\n",
              "0              0       0          0       0  ...          0       0       0       0\n",
              "1              0       0          0       0  ...          1       0       0       0\n",
              "2              0       0          0       0  ...          0       0       0       0\n",
              "3              0       0          0       1  ...          0       0       0       0\n",
              "4              0       0          0       0  ...          0       0       0       0\n",
              "...          ...     ...        ...     ...  ...        ...     ...     ...     ...\n",
              "39995          0       0          0       0  ...          0       0       0       0\n",
              "39996          0       0          0       0  ...          0       0       0       0\n",
              "39997          0       0          0       0  ...          1       0       0       0\n",
              "39998          0       0          0       0  ...          0       0       1       0\n",
              "39999          0       0          0       0  ...          0       0       0       0\n",
              "\n",
              "[40000 rows x 31 columns]"
            ]
          },
          "metadata": {
            "tags": []
          },
          "execution_count": 20
        }
      ]
    },
    {
      "cell_type": "code",
      "metadata": {
        "id": "qDLLajhkf9vx",
        "outputId": "c58d6c92-e8a8-463d-cc8c-090dea7f2545",
        "colab": {
          "base_uri": "https://localhost:8080/",
          "height": 51
        }
      },
      "source": [
        "%%time\n",
        "dfr = pd.get_dummies(df.explode('Cuisine_Style')['Cuisine_Style'])\n"
      ],
      "execution_count": 21,
      "outputs": [
        {
          "output_type": "stream",
          "text": [
            "CPU times: user 188 ms, sys: 5.88 ms, total: 194 ms\n",
            "Wall time: 205 ms\n"
          ],
          "name": "stdout"
        }
      ]
    },
    {
      "cell_type": "code",
      "metadata": {
        "id": "63I-0mnVxQfQ",
        "outputId": "fee1c633-e60b-4114-e9c7-06ae0ef17db1",
        "colab": {
          "base_uri": "https://localhost:8080/",
          "height": 34
        }
      },
      "source": [
        "dfr.shape"
      ],
      "execution_count": 22,
      "outputs": [
        {
          "output_type": "execute_result",
          "data": {
            "text/plain": [
              "(104916, 126)"
            ]
          },
          "metadata": {
            "tags": []
          },
          "execution_count": 22
        }
      ]
    },
    {
      "cell_type": "code",
      "metadata": {
        "id": "SbI8gh49we4H",
        "outputId": "8b46db21-b65c-48e1-b3b6-4989003e0e52",
        "colab": {
          "base_uri": "https://localhost:8080/",
          "height": 68
        }
      },
      "source": [
        "df.columns"
      ],
      "execution_count": 23,
      "outputs": [
        {
          "output_type": "execute_result",
          "data": {
            "text/plain": [
              "Index(['Restaurant_id', 'City', 'Cuisine_Style', 'Ranking', 'Rating',\n",
              "       'Price_Range', 'Number_of_Reviews', 'ID_TA'],\n",
              "      dtype='object')"
            ]
          },
          "metadata": {
            "tags": []
          },
          "execution_count": 23
        }
      ]
    },
    {
      "cell_type": "code",
      "metadata": {
        "id": "KApSzVRZrinh",
        "outputId": "92a769f3-ce0a-46a4-db03-c59148e11831",
        "colab": {
          "base_uri": "https://localhost:8080/",
          "height": 51
        }
      },
      "source": [
        "%%time\n",
        "df0 = pd.concat([df.drop(['Cuisine_Style', 'City'], axis = 1), \n",
        "                 pd.get_dummies(df['City']),\n",
        "                 dfr], axis = 1)"
      ],
      "execution_count": 24,
      "outputs": [
        {
          "output_type": "stream",
          "text": [
            "CPU times: user 85.3 ms, sys: 9.76 ms, total: 95 ms\n",
            "Wall time: 102 ms\n"
          ],
          "name": "stdout"
        }
      ]
    },
    {
      "cell_type": "code",
      "metadata": {
        "id": "AUNBo9T09Ahv",
        "outputId": "2f05d308-336e-4758-de06-b2ab0337d13b",
        "colab": {
          "base_uri": "https://localhost:8080/",
          "height": 332
        }
      },
      "source": [
        "# pd.concat([df.drop(['Cuisine_Style', 'City'], axis = 1), \n",
        "#            pd.get_dummies(df['City'])], axis = 1)\n",
        "\n",
        "df0.sample(7)"
      ],
      "execution_count": 25,
      "outputs": [
        {
          "output_type": "execute_result",
          "data": {
            "text/html": [
              "<div>\n",
              "<style scoped>\n",
              "    .dataframe tbody tr th:only-of-type {\n",
              "        vertical-align: middle;\n",
              "    }\n",
              "\n",
              "    .dataframe tbody tr th {\n",
              "        vertical-align: top;\n",
              "    }\n",
              "\n",
              "    .dataframe thead th {\n",
              "        text-align: right;\n",
              "    }\n",
              "</style>\n",
              "<table border=\"1\" class=\"dataframe\">\n",
              "  <thead>\n",
              "    <tr style=\"text-align: right;\">\n",
              "      <th></th>\n",
              "      <th>Restaurant_id</th>\n",
              "      <th>Ranking</th>\n",
              "      <th>Rating</th>\n",
              "      <th>Price_Range</th>\n",
              "      <th>Number_of_Reviews</th>\n",
              "      <th>ID_TA</th>\n",
              "      <th>Amsterdam</th>\n",
              "      <th>Athens</th>\n",
              "      <th>Barcelona</th>\n",
              "      <th>Berlin</th>\n",
              "      <th>Bratislava</th>\n",
              "      <th>Brussels</th>\n",
              "      <th>Budapest</th>\n",
              "      <th>Copenhagen</th>\n",
              "      <th>Dublin</th>\n",
              "      <th>Edinburgh</th>\n",
              "      <th>Geneva</th>\n",
              "      <th>Hamburg</th>\n",
              "      <th>Helsinki</th>\n",
              "      <th>Krakow</th>\n",
              "      <th>Lisbon</th>\n",
              "      <th>Ljubljana</th>\n",
              "      <th>London</th>\n",
              "      <th>Luxembourg</th>\n",
              "      <th>Lyon</th>\n",
              "      <th>Madrid</th>\n",
              "      <th>Milan</th>\n",
              "      <th>Munich</th>\n",
              "      <th>Oporto</th>\n",
              "      <th>Oslo</th>\n",
              "      <th>Paris</th>\n",
              "      <th>Prague</th>\n",
              "      <th>Rome</th>\n",
              "      <th>Stockholm</th>\n",
              "      <th>Vienna</th>\n",
              "      <th>Warsaw</th>\n",
              "      <th>Zurich</th>\n",
              "      <th>Creole</th>\n",
              "      <th>Afghani</th>\n",
              "      <th>African</th>\n",
              "      <th>...</th>\n",
              "      <th>Persian</th>\n",
              "      <th>Peruvian</th>\n",
              "      <th>Pizza</th>\n",
              "      <th>Polish</th>\n",
              "      <th>Polynesian</th>\n",
              "      <th>Portuguese</th>\n",
              "      <th>Pub</th>\n",
              "      <th>Romanian</th>\n",
              "      <th>Russian</th>\n",
              "      <th>Salvadoran</th>\n",
              "      <th>Scandinavian</th>\n",
              "      <th>Scottish</th>\n",
              "      <th>Seafood</th>\n",
              "      <th>Singaporean</th>\n",
              "      <th>Slovenian</th>\n",
              "      <th>Soups</th>\n",
              "      <th>South American</th>\n",
              "      <th>Southwestern</th>\n",
              "      <th>Spanish</th>\n",
              "      <th>Sri Lankan</th>\n",
              "      <th>Steakhouse</th>\n",
              "      <th>Street Food</th>\n",
              "      <th>Sushi</th>\n",
              "      <th>Swedish</th>\n",
              "      <th>Swiss</th>\n",
              "      <th>Taiwanese</th>\n",
              "      <th>Thai</th>\n",
              "      <th>Tibetan</th>\n",
              "      <th>Tunisian</th>\n",
              "      <th>Turkish</th>\n",
              "      <th>Ukrainian</th>\n",
              "      <th>Uzbek</th>\n",
              "      <th>Vegan Options</th>\n",
              "      <th>Vegetarian Friendly</th>\n",
              "      <th>Venezuelan</th>\n",
              "      <th>Vietnamese</th>\n",
              "      <th>Welsh</th>\n",
              "      <th>Wine Bar</th>\n",
              "      <th>Xinjiang</th>\n",
              "      <th>Yunnan</th>\n",
              "    </tr>\n",
              "  </thead>\n",
              "  <tbody>\n",
              "    <tr>\n",
              "      <th>3182</th>\n",
              "      <td>173</td>\n",
              "      <td>174.0</td>\n",
              "      <td>4.5</td>\n",
              "      <td>500</td>\n",
              "      <td>712.0</td>\n",
              "      <td>7756915</td>\n",
              "      <td>0</td>\n",
              "      <td>0</td>\n",
              "      <td>0</td>\n",
              "      <td>0</td>\n",
              "      <td>0</td>\n",
              "      <td>0</td>\n",
              "      <td>0</td>\n",
              "      <td>0</td>\n",
              "      <td>0</td>\n",
              "      <td>1</td>\n",
              "      <td>0</td>\n",
              "      <td>0</td>\n",
              "      <td>0</td>\n",
              "      <td>0</td>\n",
              "      <td>0</td>\n",
              "      <td>0</td>\n",
              "      <td>0</td>\n",
              "      <td>0</td>\n",
              "      <td>0</td>\n",
              "      <td>0</td>\n",
              "      <td>0</td>\n",
              "      <td>0</td>\n",
              "      <td>0</td>\n",
              "      <td>0</td>\n",
              "      <td>0</td>\n",
              "      <td>0</td>\n",
              "      <td>0</td>\n",
              "      <td>0</td>\n",
              "      <td>0</td>\n",
              "      <td>0</td>\n",
              "      <td>0</td>\n",
              "      <td>0</td>\n",
              "      <td>0</td>\n",
              "      <td>0</td>\n",
              "      <td>...</td>\n",
              "      <td>0</td>\n",
              "      <td>0</td>\n",
              "      <td>0</td>\n",
              "      <td>0</td>\n",
              "      <td>0</td>\n",
              "      <td>0</td>\n",
              "      <td>0</td>\n",
              "      <td>0</td>\n",
              "      <td>0</td>\n",
              "      <td>0</td>\n",
              "      <td>0</td>\n",
              "      <td>0</td>\n",
              "      <td>0</td>\n",
              "      <td>0</td>\n",
              "      <td>0</td>\n",
              "      <td>0</td>\n",
              "      <td>0</td>\n",
              "      <td>0</td>\n",
              "      <td>0</td>\n",
              "      <td>0</td>\n",
              "      <td>0</td>\n",
              "      <td>0</td>\n",
              "      <td>0</td>\n",
              "      <td>0</td>\n",
              "      <td>0</td>\n",
              "      <td>0</td>\n",
              "      <td>0</td>\n",
              "      <td>0</td>\n",
              "      <td>0</td>\n",
              "      <td>0</td>\n",
              "      <td>0</td>\n",
              "      <td>0</td>\n",
              "      <td>0</td>\n",
              "      <td>0</td>\n",
              "      <td>0</td>\n",
              "      <td>0</td>\n",
              "      <td>0</td>\n",
              "      <td>0</td>\n",
              "      <td>0</td>\n",
              "      <td>0</td>\n",
              "    </tr>\n",
              "    <tr>\n",
              "      <th>10932</th>\n",
              "      <td>1473</td>\n",
              "      <td>1475.0</td>\n",
              "      <td>4.5</td>\n",
              "      <td>5</td>\n",
              "      <td>94.0</td>\n",
              "      <td>2652274</td>\n",
              "      <td>0</td>\n",
              "      <td>0</td>\n",
              "      <td>0</td>\n",
              "      <td>0</td>\n",
              "      <td>0</td>\n",
              "      <td>0</td>\n",
              "      <td>0</td>\n",
              "      <td>0</td>\n",
              "      <td>0</td>\n",
              "      <td>0</td>\n",
              "      <td>0</td>\n",
              "      <td>0</td>\n",
              "      <td>0</td>\n",
              "      <td>0</td>\n",
              "      <td>0</td>\n",
              "      <td>0</td>\n",
              "      <td>1</td>\n",
              "      <td>0</td>\n",
              "      <td>0</td>\n",
              "      <td>0</td>\n",
              "      <td>0</td>\n",
              "      <td>0</td>\n",
              "      <td>0</td>\n",
              "      <td>0</td>\n",
              "      <td>0</td>\n",
              "      <td>0</td>\n",
              "      <td>0</td>\n",
              "      <td>0</td>\n",
              "      <td>0</td>\n",
              "      <td>0</td>\n",
              "      <td>0</td>\n",
              "      <td>0</td>\n",
              "      <td>0</td>\n",
              "      <td>0</td>\n",
              "      <td>...</td>\n",
              "      <td>0</td>\n",
              "      <td>0</td>\n",
              "      <td>0</td>\n",
              "      <td>0</td>\n",
              "      <td>0</td>\n",
              "      <td>0</td>\n",
              "      <td>0</td>\n",
              "      <td>0</td>\n",
              "      <td>0</td>\n",
              "      <td>0</td>\n",
              "      <td>0</td>\n",
              "      <td>0</td>\n",
              "      <td>0</td>\n",
              "      <td>0</td>\n",
              "      <td>0</td>\n",
              "      <td>0</td>\n",
              "      <td>0</td>\n",
              "      <td>0</td>\n",
              "      <td>0</td>\n",
              "      <td>0</td>\n",
              "      <td>0</td>\n",
              "      <td>0</td>\n",
              "      <td>0</td>\n",
              "      <td>0</td>\n",
              "      <td>0</td>\n",
              "      <td>0</td>\n",
              "      <td>0</td>\n",
              "      <td>0</td>\n",
              "      <td>0</td>\n",
              "      <td>0</td>\n",
              "      <td>0</td>\n",
              "      <td>0</td>\n",
              "      <td>0</td>\n",
              "      <td>0</td>\n",
              "      <td>0</td>\n",
              "      <td>0</td>\n",
              "      <td>0</td>\n",
              "      <td>0</td>\n",
              "      <td>0</td>\n",
              "      <td>0</td>\n",
              "    </tr>\n",
              "    <tr>\n",
              "      <th>22035</th>\n",
              "      <td>43</td>\n",
              "      <td>44.0</td>\n",
              "      <td>4.5</td>\n",
              "      <td>500</td>\n",
              "      <td>126.0</td>\n",
              "      <td>12514591</td>\n",
              "      <td>0</td>\n",
              "      <td>0</td>\n",
              "      <td>0</td>\n",
              "      <td>0</td>\n",
              "      <td>0</td>\n",
              "      <td>0</td>\n",
              "      <td>0</td>\n",
              "      <td>0</td>\n",
              "      <td>0</td>\n",
              "      <td>0</td>\n",
              "      <td>0</td>\n",
              "      <td>0</td>\n",
              "      <td>0</td>\n",
              "      <td>0</td>\n",
              "      <td>0</td>\n",
              "      <td>0</td>\n",
              "      <td>0</td>\n",
              "      <td>0</td>\n",
              "      <td>0</td>\n",
              "      <td>0</td>\n",
              "      <td>0</td>\n",
              "      <td>0</td>\n",
              "      <td>1</td>\n",
              "      <td>0</td>\n",
              "      <td>0</td>\n",
              "      <td>0</td>\n",
              "      <td>0</td>\n",
              "      <td>0</td>\n",
              "      <td>0</td>\n",
              "      <td>0</td>\n",
              "      <td>0</td>\n",
              "      <td>0</td>\n",
              "      <td>0</td>\n",
              "      <td>0</td>\n",
              "      <td>...</td>\n",
              "      <td>0</td>\n",
              "      <td>0</td>\n",
              "      <td>0</td>\n",
              "      <td>0</td>\n",
              "      <td>0</td>\n",
              "      <td>1</td>\n",
              "      <td>0</td>\n",
              "      <td>0</td>\n",
              "      <td>0</td>\n",
              "      <td>0</td>\n",
              "      <td>0</td>\n",
              "      <td>0</td>\n",
              "      <td>0</td>\n",
              "      <td>0</td>\n",
              "      <td>0</td>\n",
              "      <td>0</td>\n",
              "      <td>0</td>\n",
              "      <td>0</td>\n",
              "      <td>0</td>\n",
              "      <td>0</td>\n",
              "      <td>0</td>\n",
              "      <td>0</td>\n",
              "      <td>0</td>\n",
              "      <td>0</td>\n",
              "      <td>0</td>\n",
              "      <td>0</td>\n",
              "      <td>0</td>\n",
              "      <td>0</td>\n",
              "      <td>0</td>\n",
              "      <td>0</td>\n",
              "      <td>0</td>\n",
              "      <td>0</td>\n",
              "      <td>0</td>\n",
              "      <td>0</td>\n",
              "      <td>0</td>\n",
              "      <td>0</td>\n",
              "      <td>0</td>\n",
              "      <td>0</td>\n",
              "      <td>0</td>\n",
              "      <td>0</td>\n",
              "    </tr>\n",
              "    <tr>\n",
              "      <th>2579</th>\n",
              "      <td>2258</td>\n",
              "      <td>2263.0</td>\n",
              "      <td>4.0</td>\n",
              "      <td>500</td>\n",
              "      <td>40.0</td>\n",
              "      <td>3588977</td>\n",
              "      <td>1</td>\n",
              "      <td>0</td>\n",
              "      <td>0</td>\n",
              "      <td>0</td>\n",
              "      <td>0</td>\n",
              "      <td>0</td>\n",
              "      <td>0</td>\n",
              "      <td>0</td>\n",
              "      <td>0</td>\n",
              "      <td>0</td>\n",
              "      <td>0</td>\n",
              "      <td>0</td>\n",
              "      <td>0</td>\n",
              "      <td>0</td>\n",
              "      <td>0</td>\n",
              "      <td>0</td>\n",
              "      <td>0</td>\n",
              "      <td>0</td>\n",
              "      <td>0</td>\n",
              "      <td>0</td>\n",
              "      <td>0</td>\n",
              "      <td>0</td>\n",
              "      <td>0</td>\n",
              "      <td>0</td>\n",
              "      <td>0</td>\n",
              "      <td>0</td>\n",
              "      <td>0</td>\n",
              "      <td>0</td>\n",
              "      <td>0</td>\n",
              "      <td>0</td>\n",
              "      <td>0</td>\n",
              "      <td>0</td>\n",
              "      <td>0</td>\n",
              "      <td>0</td>\n",
              "      <td>...</td>\n",
              "      <td>0</td>\n",
              "      <td>0</td>\n",
              "      <td>0</td>\n",
              "      <td>0</td>\n",
              "      <td>0</td>\n",
              "      <td>0</td>\n",
              "      <td>0</td>\n",
              "      <td>0</td>\n",
              "      <td>0</td>\n",
              "      <td>0</td>\n",
              "      <td>0</td>\n",
              "      <td>0</td>\n",
              "      <td>0</td>\n",
              "      <td>0</td>\n",
              "      <td>0</td>\n",
              "      <td>0</td>\n",
              "      <td>0</td>\n",
              "      <td>0</td>\n",
              "      <td>0</td>\n",
              "      <td>0</td>\n",
              "      <td>0</td>\n",
              "      <td>0</td>\n",
              "      <td>0</td>\n",
              "      <td>0</td>\n",
              "      <td>0</td>\n",
              "      <td>0</td>\n",
              "      <td>0</td>\n",
              "      <td>0</td>\n",
              "      <td>0</td>\n",
              "      <td>0</td>\n",
              "      <td>0</td>\n",
              "      <td>0</td>\n",
              "      <td>0</td>\n",
              "      <td>0</td>\n",
              "      <td>0</td>\n",
              "      <td>0</td>\n",
              "      <td>0</td>\n",
              "      <td>0</td>\n",
              "      <td>0</td>\n",
              "      <td>0</td>\n",
              "    </tr>\n",
              "    <tr>\n",
              "      <th>26737</th>\n",
              "      <td>335</td>\n",
              "      <td>336.0</td>\n",
              "      <td>4.5</td>\n",
              "      <td>500</td>\n",
              "      <td>61.0</td>\n",
              "      <td>9566653</td>\n",
              "      <td>0</td>\n",
              "      <td>0</td>\n",
              "      <td>0</td>\n",
              "      <td>0</td>\n",
              "      <td>0</td>\n",
              "      <td>0</td>\n",
              "      <td>0</td>\n",
              "      <td>1</td>\n",
              "      <td>0</td>\n",
              "      <td>0</td>\n",
              "      <td>0</td>\n",
              "      <td>0</td>\n",
              "      <td>0</td>\n",
              "      <td>0</td>\n",
              "      <td>0</td>\n",
              "      <td>0</td>\n",
              "      <td>0</td>\n",
              "      <td>0</td>\n",
              "      <td>0</td>\n",
              "      <td>0</td>\n",
              "      <td>0</td>\n",
              "      <td>0</td>\n",
              "      <td>0</td>\n",
              "      <td>0</td>\n",
              "      <td>0</td>\n",
              "      <td>0</td>\n",
              "      <td>0</td>\n",
              "      <td>0</td>\n",
              "      <td>0</td>\n",
              "      <td>0</td>\n",
              "      <td>0</td>\n",
              "      <td>0</td>\n",
              "      <td>0</td>\n",
              "      <td>0</td>\n",
              "      <td>...</td>\n",
              "      <td>0</td>\n",
              "      <td>0</td>\n",
              "      <td>0</td>\n",
              "      <td>0</td>\n",
              "      <td>0</td>\n",
              "      <td>0</td>\n",
              "      <td>0</td>\n",
              "      <td>0</td>\n",
              "      <td>0</td>\n",
              "      <td>0</td>\n",
              "      <td>0</td>\n",
              "      <td>0</td>\n",
              "      <td>0</td>\n",
              "      <td>0</td>\n",
              "      <td>0</td>\n",
              "      <td>0</td>\n",
              "      <td>0</td>\n",
              "      <td>0</td>\n",
              "      <td>0</td>\n",
              "      <td>0</td>\n",
              "      <td>0</td>\n",
              "      <td>0</td>\n",
              "      <td>0</td>\n",
              "      <td>0</td>\n",
              "      <td>0</td>\n",
              "      <td>0</td>\n",
              "      <td>0</td>\n",
              "      <td>0</td>\n",
              "      <td>0</td>\n",
              "      <td>0</td>\n",
              "      <td>0</td>\n",
              "      <td>0</td>\n",
              "      <td>0</td>\n",
              "      <td>0</td>\n",
              "      <td>0</td>\n",
              "      <td>0</td>\n",
              "      <td>0</td>\n",
              "      <td>0</td>\n",
              "      <td>0</td>\n",
              "      <td>0</td>\n",
              "    </tr>\n",
              "    <tr>\n",
              "      <th>9332</th>\n",
              "      <td>3869</td>\n",
              "      <td>3871.0</td>\n",
              "      <td>3.5</td>\n",
              "      <td>500</td>\n",
              "      <td>44.0</td>\n",
              "      <td>3453310</td>\n",
              "      <td>0</td>\n",
              "      <td>0</td>\n",
              "      <td>0</td>\n",
              "      <td>0</td>\n",
              "      <td>0</td>\n",
              "      <td>0</td>\n",
              "      <td>0</td>\n",
              "      <td>0</td>\n",
              "      <td>0</td>\n",
              "      <td>0</td>\n",
              "      <td>0</td>\n",
              "      <td>0</td>\n",
              "      <td>0</td>\n",
              "      <td>0</td>\n",
              "      <td>0</td>\n",
              "      <td>0</td>\n",
              "      <td>0</td>\n",
              "      <td>0</td>\n",
              "      <td>0</td>\n",
              "      <td>1</td>\n",
              "      <td>0</td>\n",
              "      <td>0</td>\n",
              "      <td>0</td>\n",
              "      <td>0</td>\n",
              "      <td>0</td>\n",
              "      <td>0</td>\n",
              "      <td>0</td>\n",
              "      <td>0</td>\n",
              "      <td>0</td>\n",
              "      <td>0</td>\n",
              "      <td>0</td>\n",
              "      <td>0</td>\n",
              "      <td>0</td>\n",
              "      <td>0</td>\n",
              "      <td>...</td>\n",
              "      <td>0</td>\n",
              "      <td>0</td>\n",
              "      <td>0</td>\n",
              "      <td>0</td>\n",
              "      <td>0</td>\n",
              "      <td>0</td>\n",
              "      <td>0</td>\n",
              "      <td>0</td>\n",
              "      <td>0</td>\n",
              "      <td>0</td>\n",
              "      <td>0</td>\n",
              "      <td>0</td>\n",
              "      <td>0</td>\n",
              "      <td>0</td>\n",
              "      <td>0</td>\n",
              "      <td>0</td>\n",
              "      <td>0</td>\n",
              "      <td>0</td>\n",
              "      <td>0</td>\n",
              "      <td>0</td>\n",
              "      <td>1</td>\n",
              "      <td>0</td>\n",
              "      <td>0</td>\n",
              "      <td>0</td>\n",
              "      <td>0</td>\n",
              "      <td>0</td>\n",
              "      <td>0</td>\n",
              "      <td>0</td>\n",
              "      <td>0</td>\n",
              "      <td>0</td>\n",
              "      <td>0</td>\n",
              "      <td>0</td>\n",
              "      <td>0</td>\n",
              "      <td>0</td>\n",
              "      <td>0</td>\n",
              "      <td>0</td>\n",
              "      <td>0</td>\n",
              "      <td>0</td>\n",
              "      <td>0</td>\n",
              "      <td>0</td>\n",
              "    </tr>\n",
              "    <tr>\n",
              "      <th>23600</th>\n",
              "      <td>1312</td>\n",
              "      <td>1315.0</td>\n",
              "      <td>4.5</td>\n",
              "      <td>500</td>\n",
              "      <td>49.0</td>\n",
              "      <td>8528941</td>\n",
              "      <td>1</td>\n",
              "      <td>0</td>\n",
              "      <td>0</td>\n",
              "      <td>0</td>\n",
              "      <td>0</td>\n",
              "      <td>0</td>\n",
              "      <td>0</td>\n",
              "      <td>0</td>\n",
              "      <td>0</td>\n",
              "      <td>0</td>\n",
              "      <td>0</td>\n",
              "      <td>0</td>\n",
              "      <td>0</td>\n",
              "      <td>0</td>\n",
              "      <td>0</td>\n",
              "      <td>0</td>\n",
              "      <td>0</td>\n",
              "      <td>0</td>\n",
              "      <td>0</td>\n",
              "      <td>0</td>\n",
              "      <td>0</td>\n",
              "      <td>0</td>\n",
              "      <td>0</td>\n",
              "      <td>0</td>\n",
              "      <td>0</td>\n",
              "      <td>0</td>\n",
              "      <td>0</td>\n",
              "      <td>0</td>\n",
              "      <td>0</td>\n",
              "      <td>0</td>\n",
              "      <td>0</td>\n",
              "      <td>0</td>\n",
              "      <td>0</td>\n",
              "      <td>0</td>\n",
              "      <td>...</td>\n",
              "      <td>0</td>\n",
              "      <td>1</td>\n",
              "      <td>0</td>\n",
              "      <td>0</td>\n",
              "      <td>0</td>\n",
              "      <td>0</td>\n",
              "      <td>0</td>\n",
              "      <td>0</td>\n",
              "      <td>0</td>\n",
              "      <td>0</td>\n",
              "      <td>0</td>\n",
              "      <td>0</td>\n",
              "      <td>0</td>\n",
              "      <td>0</td>\n",
              "      <td>0</td>\n",
              "      <td>0</td>\n",
              "      <td>0</td>\n",
              "      <td>0</td>\n",
              "      <td>0</td>\n",
              "      <td>0</td>\n",
              "      <td>0</td>\n",
              "      <td>0</td>\n",
              "      <td>0</td>\n",
              "      <td>0</td>\n",
              "      <td>0</td>\n",
              "      <td>0</td>\n",
              "      <td>0</td>\n",
              "      <td>0</td>\n",
              "      <td>0</td>\n",
              "      <td>0</td>\n",
              "      <td>0</td>\n",
              "      <td>0</td>\n",
              "      <td>0</td>\n",
              "      <td>0</td>\n",
              "      <td>0</td>\n",
              "      <td>0</td>\n",
              "      <td>0</td>\n",
              "      <td>0</td>\n",
              "      <td>0</td>\n",
              "      <td>0</td>\n",
              "    </tr>\n",
              "  </tbody>\n",
              "</table>\n",
              "<p>7 rows × 163 columns</p>\n",
              "</div>"
            ],
            "text/plain": [
              "       Restaurant_id  Ranking  Rating  ...  Wine Bar  Xinjiang  Yunnan\n",
              "3182             173    174.0     4.5  ...         0         0       0\n",
              "10932           1473   1475.0     4.5  ...         0         0       0\n",
              "22035             43     44.0     4.5  ...         0         0       0\n",
              "2579            2258   2263.0     4.0  ...         0         0       0\n",
              "26737            335    336.0     4.5  ...         0         0       0\n",
              "9332            3869   3871.0     3.5  ...         0         0       0\n",
              "23600           1312   1315.0     4.5  ...         0         0       0\n",
              "\n",
              "[7 rows x 163 columns]"
            ]
          },
          "metadata": {
            "tags": []
          },
          "execution_count": 25
        }
      ]
    },
    {
      "cell_type": "code",
      "metadata": {
        "id": "ilj9WQQgf26h",
        "outputId": "08702466-d29d-4534-f5e9-4268c8f1bd43",
        "colab": {
          "base_uri": "https://localhost:8080/",
          "height": 34
        }
      },
      "source": [
        "df0.shape"
      ],
      "execution_count": 26,
      "outputs": [
        {
          "output_type": "execute_result",
          "data": {
            "text/plain": [
              "(104916, 163)"
            ]
          },
          "metadata": {
            "tags": []
          },
          "execution_count": 26
        }
      ]
    },
    {
      "cell_type": "code",
      "metadata": {
        "id": "I4CHroU_5NK-"
      },
      "source": [
        "# for item in df0.columns:\n",
        "#     print(item, ': nan-count = ', df0[item].isna().sum(), sep='')"
      ],
      "execution_count": 27,
      "outputs": []
    },
    {
      "cell_type": "code",
      "metadata": {
        "id": "4b0ak1mT22Dr"
      },
      "source": [
        "# df1 = pd.concat([df0, pd.get_dummies(df0['City'])])\n"
      ],
      "execution_count": 28,
      "outputs": []
    },
    {
      "cell_type": "markdown",
      "metadata": {
        "id": "_V94g4vajTxW"
      },
      "source": [
        "# Разбиваем датафрейм на части, необходимые для обучения и тестирования модели"
      ]
    },
    {
      "cell_type": "code",
      "metadata": {
        "id": "Wm5tpkKDjTxX"
      },
      "source": [
        "# Х - данные с информацией о ресторанах, у - целевая переменная (рейтинги ресторанов)\n",
        "X = df0.drop(['Restaurant_id', 'Rating'], axis = 1)\n",
        "y = df0['Rating']"
      ],
      "execution_count": 29,
      "outputs": []
    },
    {
      "cell_type": "code",
      "metadata": {
        "id": "kT0_-P7YjTxZ"
      },
      "source": [
        "# Загружаем специальный инструмент для разбивки:\n",
        "from sklearn.model_selection import train_test_split"
      ],
      "execution_count": 30,
      "outputs": []
    },
    {
      "cell_type": "code",
      "metadata": {
        "id": "Tal-_32zjTxc"
      },
      "source": [
        "# Наборы данных с меткой \"train\" будут использоваться для обучения модели, \"test\" - для тестирования.\n",
        "# Для тестирования мы будем использовать 25% от исходного датасета.\n",
        "X_train, X_test, y_train, y_test = train_test_split(X, y, test_size=0.25)"
      ],
      "execution_count": 31,
      "outputs": []
    },
    {
      "cell_type": "markdown",
      "metadata": {
        "id": "su4R9kowjTxe"
      },
      "source": [
        "# Создаём, обучаем и тестируем модель"
      ]
    },
    {
      "cell_type": "code",
      "metadata": {
        "id": "afuWt8DNjTxf"
      },
      "source": [
        "# Импортируем необходимые библиотеки:\n",
        "from sklearn.ensemble import RandomForestRegressor # инструмент для создания и обучения модели\n",
        "from sklearn import metrics # инструменты для оценки точности модели"
      ],
      "execution_count": 32,
      "outputs": []
    },
    {
      "cell_type": "code",
      "metadata": {
        "id": "Gh9OXgH1jTxh",
        "outputId": "8ba83ac5-135c-4c1e-b206-c0829269665b",
        "colab": {
          "base_uri": "https://localhost:8080/",
          "height": 51
        }
      },
      "source": [
        "%%time\n",
        "# Создаём модель\n",
        "regr = RandomForestRegressor(n_estimators=100)\n",
        "\n"
      ],
      "execution_count": 33,
      "outputs": [
        {
          "output_type": "stream",
          "text": [
            "CPU times: user 37 µs, sys: 7 µs, total: 44 µs\n",
            "Wall time: 46.7 µs\n"
          ],
          "name": "stdout"
        }
      ]
    },
    {
      "cell_type": "code",
      "metadata": {
        "id": "HXenuQJ2a18X",
        "outputId": "9b85420a-ca1b-4e40-cd5a-ca48718fa83c",
        "colab": {
          "base_uri": "https://localhost:8080/",
          "height": 170
        }
      },
      "source": [
        "%%time\n",
        "# Обучаем модель на тестовом наборе данных\n",
        "regr.fit(X_train, y_train)\n"
      ],
      "execution_count": 34,
      "outputs": [
        {
          "output_type": "stream",
          "text": [
            "CPU times: user 1min 54s, sys: 111 ms, total: 1min 54s\n",
            "Wall time: 1min 55s\n"
          ],
          "name": "stdout"
        },
        {
          "output_type": "execute_result",
          "data": {
            "text/plain": [
              "RandomForestRegressor(bootstrap=True, ccp_alpha=0.0, criterion='mse',\n",
              "                      max_depth=None, max_features='auto', max_leaf_nodes=None,\n",
              "                      max_samples=None, min_impurity_decrease=0.0,\n",
              "                      min_impurity_split=None, min_samples_leaf=1,\n",
              "                      min_samples_split=2, min_weight_fraction_leaf=0.0,\n",
              "                      n_estimators=100, n_jobs=None, oob_score=False,\n",
              "                      random_state=None, verbose=0, warm_start=False)"
            ]
          },
          "metadata": {
            "tags": []
          },
          "execution_count": 34
        }
      ]
    },
    {
      "cell_type": "code",
      "metadata": {
        "id": "ndqnVmpia1rT",
        "outputId": "77d3c10e-7581-45f2-ae16-acb1b04d83af",
        "colab": {
          "base_uri": "https://localhost:8080/",
          "height": 51
        }
      },
      "source": [
        "%%time\n",
        "# Используем обученную модель для предсказания рейтинга ресторанов в тестовой выборке.\n",
        "# Предсказанные значения записываем в переменную y_pred\n",
        "y_pred = regr.predict(X_test)"
      ],
      "execution_count": 35,
      "outputs": [
        {
          "output_type": "stream",
          "text": [
            "CPU times: user 792 ms, sys: 985 µs, total: 793 ms\n",
            "Wall time: 794 ms\n"
          ],
          "name": "stdout"
        }
      ]
    },
    {
      "cell_type": "code",
      "metadata": {
        "id": "RBNvqgDrjTxi",
        "outputId": "2f8831f2-5677-482d-f040-649cc7d802e0",
        "colab": {
          "base_uri": "https://localhost:8080/",
          "height": 34
        }
      },
      "source": [
        "# Сравниваем предсказанные значения (y_pred) с реальными (y_test), и смотрим насколько они в среднем отличаются\n",
        "# Метрика называется Mean Absolute Error (MAE) и показывает среднее отклонение предсказанных значений от фактическихmae_\n",
        "mae_value = metrics.mean_absolute_error(y_test, y_pred)\n",
        "print('MAE:', round(mae_value, 3))"
      ],
      "execution_count": 36,
      "outputs": [
        {
          "output_type": "stream",
          "text": [
            "MAE: 0.097\n"
          ],
          "name": "stdout"
        }
      ]
    }
  ]
}