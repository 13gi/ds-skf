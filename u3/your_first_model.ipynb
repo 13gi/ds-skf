{
  "nbformat": 4,
  "nbformat_minor": 0,
  "metadata": {
    "kernelspec": {
      "display_name": "Python 3",
      "language": "python",
      "name": "python3"
    },
    "language_info": {
      "codemirror_mode": {
        "name": "ipython",
        "version": 3
      },
      "file_extension": ".py",
      "mimetype": "text/x-python",
      "name": "python",
      "nbconvert_exporter": "python",
      "pygments_lexer": "ipython3",
      "version": "3.7.1"
    },
    "colab": {
      "name": "your_first_model.ipynb",
      "provenance": [],
      "collapsed_sections": []
    }
  },
  "cells": [
    {
      "cell_type": "markdown",
      "metadata": {
        "id": "Bo4bdCI5jTw-"
      },
      "source": [
        "# Загрузка Pandas и очистка данных"
      ]
    },
    {
      "cell_type": "code",
      "metadata": {
        "id": "T_uPF0wsjTxA"
      },
      "source": [
        "import pandas as pd\n",
        "import os\n",
        "import re"
      ],
      "execution_count": 37,
      "outputs": []
    },
    {
      "cell_type": "code",
      "metadata": {
        "id": "P_UZenFa3WT8"
      },
      "source": [
        "project_dir = r'/content/drive/My Drive/Colab Notebooks/data/u3/p3/'\n",
        "df = pd.read_csv(project_dir + 'main_task.csv')"
      ],
      "execution_count": 38,
      "outputs": []
    },
    {
      "cell_type": "code",
      "metadata": {
        "id": "ULC7f1JzqegN",
        "outputId": "e8c132b7-9e46-4bbd-cece-263589072188",
        "colab": {
          "base_uri": "https://localhost:8080/",
          "height": 728
        }
      },
      "source": [
        "df.sample(7)"
      ],
      "execution_count": 39,
      "outputs": [
        {
          "output_type": "execute_result",
          "data": {
            "text/html": [
              "<div>\n",
              "<style scoped>\n",
              "    .dataframe tbody tr th:only-of-type {\n",
              "        vertical-align: middle;\n",
              "    }\n",
              "\n",
              "    .dataframe tbody tr th {\n",
              "        vertical-align: top;\n",
              "    }\n",
              "\n",
              "    .dataframe thead th {\n",
              "        text-align: right;\n",
              "    }\n",
              "</style>\n",
              "<table border=\"1\" class=\"dataframe\">\n",
              "  <thead>\n",
              "    <tr style=\"text-align: right;\">\n",
              "      <th></th>\n",
              "      <th>Restaurant_id</th>\n",
              "      <th>City</th>\n",
              "      <th>Cuisine Style</th>\n",
              "      <th>Ranking</th>\n",
              "      <th>Rating</th>\n",
              "      <th>Price Range</th>\n",
              "      <th>Number of Reviews</th>\n",
              "      <th>Reviews</th>\n",
              "      <th>URL_TA</th>\n",
              "      <th>ID_TA</th>\n",
              "    </tr>\n",
              "  </thead>\n",
              "  <tbody>\n",
              "    <tr>\n",
              "      <th>39825</th>\n",
              "      <td>id_433</td>\n",
              "      <td>Zurich</td>\n",
              "      <td>['Mediterranean', 'Swiss', 'European', 'Vegeta...</td>\n",
              "      <td>436.0</td>\n",
              "      <td>4.5</td>\n",
              "      <td>$$ - $$$</td>\n",
              "      <td>33.0</td>\n",
              "      <td>[['Hammer!', 'Favourite!'], ['11/15/2017', '10...</td>\n",
              "      <td>/Restaurant_Review-g188113-d10124292-Reviews-S...</td>\n",
              "      <td>d10124292</td>\n",
              "    </tr>\n",
              "    <tr>\n",
              "      <th>359</th>\n",
              "      <td>id_459</td>\n",
              "      <td>Milan</td>\n",
              "      <td>['Italian', 'Seafood', 'Mediterranean', 'Europ...</td>\n",
              "      <td>460.0</td>\n",
              "      <td>4.0</td>\n",
              "      <td>$$$$</td>\n",
              "      <td>484.0</td>\n",
              "      <td>[['Quiet dinner', 'Excellent food, high-anxiet...</td>\n",
              "      <td>/Restaurant_Review-g187849-d1231908-Reviews-Il...</td>\n",
              "      <td>d1231908</td>\n",
              "    </tr>\n",
              "    <tr>\n",
              "      <th>14130</th>\n",
              "      <td>id_624</td>\n",
              "      <td>Dublin</td>\n",
              "      <td>['Cafe', 'Wine Bar', 'Vegetarian Friendly']</td>\n",
              "      <td>625.0</td>\n",
              "      <td>4.5</td>\n",
              "      <td>$$ - $$$</td>\n",
              "      <td>75.0</td>\n",
              "      <td>[['Lunch from work', 'A very nice lunch'], ['0...</td>\n",
              "      <td>/Restaurant_Review-g186605-d3235958-Reviews-Pr...</td>\n",
              "      <td>d3235958</td>\n",
              "    </tr>\n",
              "    <tr>\n",
              "      <th>18318</th>\n",
              "      <td>id_3790</td>\n",
              "      <td>Milan</td>\n",
              "      <td>NaN</td>\n",
              "      <td>3792.0</td>\n",
              "      <td>4.0</td>\n",
              "      <td>NaN</td>\n",
              "      <td>6.0</td>\n",
              "      <td>[[], []]</td>\n",
              "      <td>/Restaurant_Review-g187849-d10006539-Reviews-T...</td>\n",
              "      <td>d10006539</td>\n",
              "    </tr>\n",
              "    <tr>\n",
              "      <th>30194</th>\n",
              "      <td>id_2351</td>\n",
              "      <td>Brussels</td>\n",
              "      <td>NaN</td>\n",
              "      <td>2352.0</td>\n",
              "      <td>3.0</td>\n",
              "      <td>NaN</td>\n",
              "      <td>7.0</td>\n",
              "      <td>[['When it suits them!', 'Ridiculous rules!'],...</td>\n",
              "      <td>/Restaurant_Review-g188644-d1098380-Reviews-Le...</td>\n",
              "      <td>d1098380</td>\n",
              "    </tr>\n",
              "    <tr>\n",
              "      <th>19939</th>\n",
              "      <td>id_5935</td>\n",
              "      <td>Paris</td>\n",
              "      <td>['French', 'Seafood', 'Gluten Free Options']</td>\n",
              "      <td>5936.0</td>\n",
              "      <td>3.5</td>\n",
              "      <td>$$$$</td>\n",
              "      <td>377.0</td>\n",
              "      <td>[['Great seafood', 'Rip off'], ['03/30/2017', ...</td>\n",
              "      <td>/Restaurant_Review-g187147-d1422391-Reviews-Le...</td>\n",
              "      <td>d1422391</td>\n",
              "    </tr>\n",
              "    <tr>\n",
              "      <th>24715</th>\n",
              "      <td>id_1047</td>\n",
              "      <td>Helsinki</td>\n",
              "      <td>['Chinese', 'Asian', 'Sushi']</td>\n",
              "      <td>1048.0</td>\n",
              "      <td>3.0</td>\n",
              "      <td>$</td>\n",
              "      <td>15.0</td>\n",
              "      <td>[['Average cooked standard Chinese food.', 'As...</td>\n",
              "      <td>/Restaurant_Review-g189934-d9763582-Reviews-Ha...</td>\n",
              "      <td>d9763582</td>\n",
              "    </tr>\n",
              "  </tbody>\n",
              "</table>\n",
              "</div>"
            ],
            "text/plain": [
              "      Restaurant_id  ...      ID_TA\n",
              "39825        id_433  ...  d10124292\n",
              "359          id_459  ...   d1231908\n",
              "14130        id_624  ...   d3235958\n",
              "18318       id_3790  ...  d10006539\n",
              "30194       id_2351  ...   d1098380\n",
              "19939       id_5935  ...   d1422391\n",
              "24715       id_1047  ...   d9763582\n",
              "\n",
              "[7 rows x 10 columns]"
            ]
          },
          "metadata": {
            "tags": []
          },
          "execution_count": 39
        }
      ]
    },
    {
      "cell_type": "code",
      "metadata": {
        "id": "799Yy2D3oAgw",
        "outputId": "c253bdb3-1bad-48ee-b18c-8cc6b0079a23",
        "colab": {
          "base_uri": "https://localhost:8080/",
          "height": 34
        }
      },
      "source": [
        "df.shape"
      ],
      "execution_count": 40,
      "outputs": [
        {
          "output_type": "execute_result",
          "data": {
            "text/plain": [
              "(40000, 10)"
            ]
          },
          "metadata": {
            "tags": []
          },
          "execution_count": 40
        }
      ]
    },
    {
      "cell_type": "code",
      "metadata": {
        "id": "G1_X8TMWjTxO"
      },
      "source": [
        "# Ваш код по очистке данных и генерации новых признаков\n",
        "# При необходимости добавьте ячейки"
      ],
      "execution_count": 41,
      "outputs": []
    },
    {
      "cell_type": "markdown",
      "metadata": {
        "id": "dC59lNnvo3LK"
      },
      "source": [
        "\n",
        "`Cuisine Style` — кухня или кухни, к которым можно отнести блюда, предлагаемые в ресторане;\n",
        "\n",
        "`Price Range` — диапазон цен в ресторане;\n",
        "\n",
        "`Number of Reviews` — количество отзывов о ресторане;\n",
        "\n"
      ]
    },
    {
      "cell_type": "code",
      "metadata": {
        "id": "WasiF_hljTxS"
      },
      "source": [
        ""
      ],
      "execution_count": 41,
      "outputs": []
    },
    {
      "cell_type": "code",
      "metadata": {
        "id": "VxJ37-1dpxRb",
        "outputId": "42ffb05d-7243-4311-8317-8050a97080cd",
        "colab": {
          "base_uri": "https://localhost:8080/",
          "height": 68
        }
      },
      "source": [
        "df.columns = [str(x).replace(' ', '_') for x in df.columns]\n",
        "df.columns"
      ],
      "execution_count": 42,
      "outputs": [
        {
          "output_type": "execute_result",
          "data": {
            "text/plain": [
              "Index(['Restaurant_id', 'City', 'Cuisine_Style', 'Ranking', 'Rating',\n",
              "       'Price_Range', 'Number_of_Reviews', 'Reviews', 'URL_TA', 'ID_TA'],\n",
              "      dtype='object')"
            ]
          },
          "metadata": {
            "tags": []
          },
          "execution_count": 42
        }
      ]
    },
    {
      "cell_type": "code",
      "metadata": {
        "id": "LaI4xqJsTeaj",
        "outputId": "6c4f7181-9cf0-41a8-b203-86dc2f29a6fc",
        "colab": {
          "base_uri": "https://localhost:8080/",
          "height": 187
        }
      },
      "source": [
        "for item in df.columns:\n",
        "    print(item, ': nan-count = ', df[item].isna().sum(), sep='')"
      ],
      "execution_count": 43,
      "outputs": [
        {
          "output_type": "stream",
          "text": [
            "Restaurant_id: nan-count = 0\n",
            "City: nan-count = 0\n",
            "Cuisine_Style: nan-count = 9283\n",
            "Ranking: nan-count = 0\n",
            "Rating: nan-count = 0\n",
            "Price_Range: nan-count = 13886\n",
            "Number_of_Reviews: nan-count = 2543\n",
            "Reviews: nan-count = 0\n",
            "URL_TA: nan-count = 0\n",
            "ID_TA: nan-count = 0\n"
          ],
          "name": "stdout"
        }
      ]
    },
    {
      "cell_type": "code",
      "metadata": {
        "id": "-XPjZMWlpxNj"
      },
      "source": [
        "df['Cuisine_Style'] = df['Cuisine_Style'].fillna(0)"
      ],
      "execution_count": 44,
      "outputs": []
    },
    {
      "cell_type": "code",
      "metadata": {
        "id": "AalTG_AGsSJT"
      },
      "source": [
        "\n",
        "df['Price_Range'] = df['Price_Range'].fillna(df['Price_Range'].value_counts().index[0])"
      ],
      "execution_count": 45,
      "outputs": []
    },
    {
      "cell_type": "code",
      "metadata": {
        "id": "amuYDLlbsSFZ"
      },
      "source": [
        "df['Number_of_Reviews'] = df['Number_of_Reviews'].fillna(df['Number_of_Reviews'].mean())"
      ],
      "execution_count": 46,
      "outputs": []
    },
    {
      "cell_type": "code",
      "metadata": {
        "id": "LHumzIgPsR9U",
        "outputId": "e564f203-3a30-4ffc-9be9-7050a767f7cb",
        "colab": {
          "base_uri": "https://localhost:8080/",
          "height": 187
        }
      },
      "source": [
        "for item in df.columns:\n",
        "    print(item, ': nan-count = ', df[item].isna().sum(), sep='')"
      ],
      "execution_count": 47,
      "outputs": [
        {
          "output_type": "stream",
          "text": [
            "Restaurant_id: nan-count = 0\n",
            "City: nan-count = 0\n",
            "Cuisine_Style: nan-count = 0\n",
            "Ranking: nan-count = 0\n",
            "Rating: nan-count = 0\n",
            "Price_Range: nan-count = 0\n",
            "Number_of_Reviews: nan-count = 0\n",
            "Reviews: nan-count = 0\n",
            "URL_TA: nan-count = 0\n",
            "ID_TA: nan-count = 0\n"
          ],
          "name": "stdout"
        }
      ]
    },
    {
      "cell_type": "code",
      "metadata": {
        "id": "tOhhvsadpxJm",
        "outputId": "5dcd267a-8f17-4e99-f827-e2120310e5b1",
        "colab": {
          "base_uri": "https://localhost:8080/",
          "height": 306
        }
      },
      "source": [
        "df.info()"
      ],
      "execution_count": 48,
      "outputs": [
        {
          "output_type": "stream",
          "text": [
            "<class 'pandas.core.frame.DataFrame'>\n",
            "RangeIndex: 40000 entries, 0 to 39999\n",
            "Data columns (total 10 columns):\n",
            " #   Column             Non-Null Count  Dtype  \n",
            "---  ------             --------------  -----  \n",
            " 0   Restaurant_id      40000 non-null  object \n",
            " 1   City               40000 non-null  object \n",
            " 2   Cuisine_Style      40000 non-null  object \n",
            " 3   Ranking            40000 non-null  float64\n",
            " 4   Rating             40000 non-null  float64\n",
            " 5   Price_Range        40000 non-null  object \n",
            " 6   Number_of_Reviews  40000 non-null  float64\n",
            " 7   Reviews            40000 non-null  object \n",
            " 8   URL_TA             40000 non-null  object \n",
            " 9   ID_TA              40000 non-null  object \n",
            "dtypes: float64(3), object(7)\n",
            "memory usage: 3.1+ MB\n"
          ],
          "name": "stdout"
        }
      ]
    },
    {
      "cell_type": "code",
      "metadata": {
        "id": "NJ-q-mSqR7fS"
      },
      "source": [
        "def split_str_to_list(incoming):\n",
        "    if incoming == 0 or len(incoming) == 0:\n",
        "        return ['None']\n",
        "    # print(type(incoming))\n",
        "    return re.findall(r\"[^'][\\w\\s]+[^']\", incoming)\n",
        "\n",
        "\n",
        "df['Cuisine_Style'] = df['Cuisine_Style'].apply(lambda x: re.findall(r\"[^'][\\w\\s]+[^']\", str(x)))\n",
        "\n",
        "df['Restaurant_id'] = df['Restaurant_id'].apply(lambda x: int(re.search(r'\\d+', str(x)).group(0)))\n",
        "\n",
        "df['City'] = df['City'].apply(lambda x: str(x).strip())\n",
        "\n",
        "df['ID_TA'] = df['ID_TA'].apply(lambda x: int(re.search(r'\\d+', str(x)).group(0)))\n",
        "\n",
        "price_range_dict = dict(zip(['$$ - $$$', '$', '$$$$'], [500, 5, 5000]))\n",
        "df['Price_Range'] = df['Price_Range'].replace(to_replace=price_range_dict)\n"
      ],
      "execution_count": 49,
      "outputs": []
    },
    {
      "cell_type": "code",
      "metadata": {
        "id": "uFY3vUcX76KX"
      },
      "source": [
        "df.drop(['Reviews', 'URL_TA'], axis = 1, inplace=True)"
      ],
      "execution_count": 50,
      "outputs": []
    },
    {
      "cell_type": "code",
      "metadata": {
        "id": "FdMs1SBx6HTZ",
        "outputId": "fccc6e3e-21b6-4905-8828-6e4ec5878428",
        "colab": {
          "base_uri": "https://localhost:8080/",
          "height": 402
        }
      },
      "source": [
        "df.sample(7)"
      ],
      "execution_count": 51,
      "outputs": [
        {
          "output_type": "execute_result",
          "data": {
            "text/html": [
              "<div>\n",
              "<style scoped>\n",
              "    .dataframe tbody tr th:only-of-type {\n",
              "        vertical-align: middle;\n",
              "    }\n",
              "\n",
              "    .dataframe tbody tr th {\n",
              "        vertical-align: top;\n",
              "    }\n",
              "\n",
              "    .dataframe thead th {\n",
              "        text-align: right;\n",
              "    }\n",
              "</style>\n",
              "<table border=\"1\" class=\"dataframe\">\n",
              "  <thead>\n",
              "    <tr style=\"text-align: right;\">\n",
              "      <th></th>\n",
              "      <th>Restaurant_id</th>\n",
              "      <th>City</th>\n",
              "      <th>Cuisine_Style</th>\n",
              "      <th>Ranking</th>\n",
              "      <th>Rating</th>\n",
              "      <th>Price_Range</th>\n",
              "      <th>Number_of_Reviews</th>\n",
              "      <th>ID_TA</th>\n",
              "    </tr>\n",
              "  </thead>\n",
              "  <tbody>\n",
              "    <tr>\n",
              "      <th>17226</th>\n",
              "      <td>1434</td>\n",
              "      <td>Paris</td>\n",
              "      <td>[French, European, Vegetarian Friendly, Vegan ...</td>\n",
              "      <td>1435.0</td>\n",
              "      <td>4.5</td>\n",
              "      <td>500</td>\n",
              "      <td>88.0</td>\n",
              "      <td>9838856</td>\n",
              "    </tr>\n",
              "    <tr>\n",
              "      <th>20201</th>\n",
              "      <td>1244</td>\n",
              "      <td>Geneva</td>\n",
              "      <td>[Turkish]</td>\n",
              "      <td>1250.0</td>\n",
              "      <td>4.0</td>\n",
              "      <td>5</td>\n",
              "      <td>33.0</td>\n",
              "      <td>2207111</td>\n",
              "    </tr>\n",
              "    <tr>\n",
              "      <th>28132</th>\n",
              "      <td>654</td>\n",
              "      <td>Zurich</td>\n",
              "      <td>[Bar, Pub, Healthy, Swiss, Mediterranean, Euro...</td>\n",
              "      <td>658.0</td>\n",
              "      <td>4.0</td>\n",
              "      <td>500</td>\n",
              "      <td>61.0</td>\n",
              "      <td>5499221</td>\n",
              "    </tr>\n",
              "    <tr>\n",
              "      <th>38887</th>\n",
              "      <td>2198</td>\n",
              "      <td>Berlin</td>\n",
              "      <td>[Italian]</td>\n",
              "      <td>2200.0</td>\n",
              "      <td>4.5</td>\n",
              "      <td>500</td>\n",
              "      <td>11.0</td>\n",
              "      <td>9554512</td>\n",
              "    </tr>\n",
              "    <tr>\n",
              "      <th>34347</th>\n",
              "      <td>1849</td>\n",
              "      <td>Barcelona</td>\n",
              "      <td>[Spanish, Mediterranean, European]</td>\n",
              "      <td>1850.0</td>\n",
              "      <td>4.0</td>\n",
              "      <td>5</td>\n",
              "      <td>67.0</td>\n",
              "      <td>4557908</td>\n",
              "    </tr>\n",
              "    <tr>\n",
              "      <th>29427</th>\n",
              "      <td>1975</td>\n",
              "      <td>Vienna</td>\n",
              "      <td>[]</td>\n",
              "      <td>1977.0</td>\n",
              "      <td>4.5</td>\n",
              "      <td>500</td>\n",
              "      <td>3.0</td>\n",
              "      <td>12234138</td>\n",
              "    </tr>\n",
              "    <tr>\n",
              "      <th>21114</th>\n",
              "      <td>134</td>\n",
              "      <td>Amsterdam</td>\n",
              "      <td>[Dutch, European, Vegetarian Friendly, Vegan O...</td>\n",
              "      <td>135.0</td>\n",
              "      <td>4.5</td>\n",
              "      <td>500</td>\n",
              "      <td>366.0</td>\n",
              "      <td>1930393</td>\n",
              "    </tr>\n",
              "  </tbody>\n",
              "</table>\n",
              "</div>"
            ],
            "text/plain": [
              "       Restaurant_id       City  ... Number_of_Reviews     ID_TA\n",
              "17226           1434      Paris  ...              88.0   9838856\n",
              "20201           1244     Geneva  ...              33.0   2207111\n",
              "28132            654     Zurich  ...              61.0   5499221\n",
              "38887           2198     Berlin  ...              11.0   9554512\n",
              "34347           1849  Barcelona  ...              67.0   4557908\n",
              "29427           1975     Vienna  ...               3.0  12234138\n",
              "21114            134  Amsterdam  ...             366.0   1930393\n",
              "\n",
              "[7 rows x 8 columns]"
            ]
          },
          "metadata": {
            "tags": []
          },
          "execution_count": 51
        }
      ]
    },
    {
      "cell_type": "code",
      "metadata": {
        "id": "GpwBCdiL86An"
      },
      "source": [
        ""
      ],
      "execution_count": 51,
      "outputs": []
    },
    {
      "cell_type": "markdown",
      "metadata": {
        "id": "1j4RKEP7mhFj"
      },
      "source": [
        "### Обработка датафрейма"
      ]
    },
    {
      "cell_type": "code",
      "metadata": {
        "id": "rI0ejEkFm_jZ",
        "outputId": "e5acc367-5f32-4c42-d2ad-b59bb65e2d64",
        "colab": {
          "base_uri": "https://localhost:8080/",
          "height": 34
        }
      },
      "source": [
        "df.shape"
      ],
      "execution_count": 52,
      "outputs": [
        {
          "output_type": "execute_result",
          "data": {
            "text/plain": [
              "(40000, 8)"
            ]
          },
          "metadata": {
            "tags": []
          },
          "execution_count": 52
        }
      ]
    },
    {
      "cell_type": "code",
      "metadata": {
        "id": "Y_a7wTaEmwlV"
      },
      "source": [
        "# Усекаем датафрейм, чтобы не переполнить ОЗУ\n",
        "# df = df.sample(frac=0.25)\n",
        "# df.shape"
      ],
      "execution_count": 53,
      "outputs": []
    },
    {
      "cell_type": "code",
      "metadata": {
        "id": "e65MlUc2VXGK"
      },
      "source": [
        "# df.explode('Cuisine_Style')"
      ],
      "execution_count": 54,
      "outputs": []
    },
    {
      "cell_type": "code",
      "metadata": {
        "id": "WDR_pVBfkRDr",
        "outputId": "f40195f3-0290-42d6-82d1-565ed21de08d",
        "colab": {
          "base_uri": "https://localhost:8080/",
          "height": 439
        }
      },
      "source": [
        "# df.explode('Cuisine_Style')['Cuisine_Style'].value_counts()\n",
        "pd.get_dummies(df['City'])\n",
        "# pd.get_dummies(df['City']).shape"
      ],
      "execution_count": 55,
      "outputs": [
        {
          "output_type": "execute_result",
          "data": {
            "text/html": [
              "<div>\n",
              "<style scoped>\n",
              "    .dataframe tbody tr th:only-of-type {\n",
              "        vertical-align: middle;\n",
              "    }\n",
              "\n",
              "    .dataframe tbody tr th {\n",
              "        vertical-align: top;\n",
              "    }\n",
              "\n",
              "    .dataframe thead th {\n",
              "        text-align: right;\n",
              "    }\n",
              "</style>\n",
              "<table border=\"1\" class=\"dataframe\">\n",
              "  <thead>\n",
              "    <tr style=\"text-align: right;\">\n",
              "      <th></th>\n",
              "      <th>Amsterdam</th>\n",
              "      <th>Athens</th>\n",
              "      <th>Barcelona</th>\n",
              "      <th>Berlin</th>\n",
              "      <th>Bratislava</th>\n",
              "      <th>Brussels</th>\n",
              "      <th>Budapest</th>\n",
              "      <th>Copenhagen</th>\n",
              "      <th>Dublin</th>\n",
              "      <th>Edinburgh</th>\n",
              "      <th>Geneva</th>\n",
              "      <th>Hamburg</th>\n",
              "      <th>Helsinki</th>\n",
              "      <th>Krakow</th>\n",
              "      <th>Lisbon</th>\n",
              "      <th>Ljubljana</th>\n",
              "      <th>London</th>\n",
              "      <th>Luxembourg</th>\n",
              "      <th>Lyon</th>\n",
              "      <th>Madrid</th>\n",
              "      <th>Milan</th>\n",
              "      <th>Munich</th>\n",
              "      <th>Oporto</th>\n",
              "      <th>Oslo</th>\n",
              "      <th>Paris</th>\n",
              "      <th>Prague</th>\n",
              "      <th>Rome</th>\n",
              "      <th>Stockholm</th>\n",
              "      <th>Vienna</th>\n",
              "      <th>Warsaw</th>\n",
              "      <th>Zurich</th>\n",
              "    </tr>\n",
              "  </thead>\n",
              "  <tbody>\n",
              "    <tr>\n",
              "      <th>0</th>\n",
              "      <td>0</td>\n",
              "      <td>0</td>\n",
              "      <td>0</td>\n",
              "      <td>0</td>\n",
              "      <td>0</td>\n",
              "      <td>0</td>\n",
              "      <td>0</td>\n",
              "      <td>0</td>\n",
              "      <td>0</td>\n",
              "      <td>0</td>\n",
              "      <td>0</td>\n",
              "      <td>0</td>\n",
              "      <td>0</td>\n",
              "      <td>0</td>\n",
              "      <td>0</td>\n",
              "      <td>0</td>\n",
              "      <td>0</td>\n",
              "      <td>0</td>\n",
              "      <td>0</td>\n",
              "      <td>0</td>\n",
              "      <td>0</td>\n",
              "      <td>0</td>\n",
              "      <td>0</td>\n",
              "      <td>0</td>\n",
              "      <td>1</td>\n",
              "      <td>0</td>\n",
              "      <td>0</td>\n",
              "      <td>0</td>\n",
              "      <td>0</td>\n",
              "      <td>0</td>\n",
              "      <td>0</td>\n",
              "    </tr>\n",
              "    <tr>\n",
              "      <th>1</th>\n",
              "      <td>0</td>\n",
              "      <td>0</td>\n",
              "      <td>0</td>\n",
              "      <td>0</td>\n",
              "      <td>0</td>\n",
              "      <td>0</td>\n",
              "      <td>0</td>\n",
              "      <td>0</td>\n",
              "      <td>0</td>\n",
              "      <td>0</td>\n",
              "      <td>0</td>\n",
              "      <td>0</td>\n",
              "      <td>0</td>\n",
              "      <td>0</td>\n",
              "      <td>0</td>\n",
              "      <td>0</td>\n",
              "      <td>0</td>\n",
              "      <td>0</td>\n",
              "      <td>0</td>\n",
              "      <td>0</td>\n",
              "      <td>0</td>\n",
              "      <td>0</td>\n",
              "      <td>0</td>\n",
              "      <td>0</td>\n",
              "      <td>0</td>\n",
              "      <td>0</td>\n",
              "      <td>0</td>\n",
              "      <td>1</td>\n",
              "      <td>0</td>\n",
              "      <td>0</td>\n",
              "      <td>0</td>\n",
              "    </tr>\n",
              "    <tr>\n",
              "      <th>2</th>\n",
              "      <td>0</td>\n",
              "      <td>0</td>\n",
              "      <td>0</td>\n",
              "      <td>0</td>\n",
              "      <td>0</td>\n",
              "      <td>0</td>\n",
              "      <td>0</td>\n",
              "      <td>0</td>\n",
              "      <td>0</td>\n",
              "      <td>0</td>\n",
              "      <td>0</td>\n",
              "      <td>0</td>\n",
              "      <td>0</td>\n",
              "      <td>0</td>\n",
              "      <td>0</td>\n",
              "      <td>0</td>\n",
              "      <td>1</td>\n",
              "      <td>0</td>\n",
              "      <td>0</td>\n",
              "      <td>0</td>\n",
              "      <td>0</td>\n",
              "      <td>0</td>\n",
              "      <td>0</td>\n",
              "      <td>0</td>\n",
              "      <td>0</td>\n",
              "      <td>0</td>\n",
              "      <td>0</td>\n",
              "      <td>0</td>\n",
              "      <td>0</td>\n",
              "      <td>0</td>\n",
              "      <td>0</td>\n",
              "    </tr>\n",
              "    <tr>\n",
              "      <th>3</th>\n",
              "      <td>0</td>\n",
              "      <td>0</td>\n",
              "      <td>0</td>\n",
              "      <td>1</td>\n",
              "      <td>0</td>\n",
              "      <td>0</td>\n",
              "      <td>0</td>\n",
              "      <td>0</td>\n",
              "      <td>0</td>\n",
              "      <td>0</td>\n",
              "      <td>0</td>\n",
              "      <td>0</td>\n",
              "      <td>0</td>\n",
              "      <td>0</td>\n",
              "      <td>0</td>\n",
              "      <td>0</td>\n",
              "      <td>0</td>\n",
              "      <td>0</td>\n",
              "      <td>0</td>\n",
              "      <td>0</td>\n",
              "      <td>0</td>\n",
              "      <td>0</td>\n",
              "      <td>0</td>\n",
              "      <td>0</td>\n",
              "      <td>0</td>\n",
              "      <td>0</td>\n",
              "      <td>0</td>\n",
              "      <td>0</td>\n",
              "      <td>0</td>\n",
              "      <td>0</td>\n",
              "      <td>0</td>\n",
              "    </tr>\n",
              "    <tr>\n",
              "      <th>4</th>\n",
              "      <td>0</td>\n",
              "      <td>0</td>\n",
              "      <td>0</td>\n",
              "      <td>0</td>\n",
              "      <td>0</td>\n",
              "      <td>0</td>\n",
              "      <td>0</td>\n",
              "      <td>0</td>\n",
              "      <td>0</td>\n",
              "      <td>0</td>\n",
              "      <td>0</td>\n",
              "      <td>0</td>\n",
              "      <td>0</td>\n",
              "      <td>0</td>\n",
              "      <td>0</td>\n",
              "      <td>0</td>\n",
              "      <td>0</td>\n",
              "      <td>0</td>\n",
              "      <td>0</td>\n",
              "      <td>0</td>\n",
              "      <td>0</td>\n",
              "      <td>1</td>\n",
              "      <td>0</td>\n",
              "      <td>0</td>\n",
              "      <td>0</td>\n",
              "      <td>0</td>\n",
              "      <td>0</td>\n",
              "      <td>0</td>\n",
              "      <td>0</td>\n",
              "      <td>0</td>\n",
              "      <td>0</td>\n",
              "    </tr>\n",
              "    <tr>\n",
              "      <th>...</th>\n",
              "      <td>...</td>\n",
              "      <td>...</td>\n",
              "      <td>...</td>\n",
              "      <td>...</td>\n",
              "      <td>...</td>\n",
              "      <td>...</td>\n",
              "      <td>...</td>\n",
              "      <td>...</td>\n",
              "      <td>...</td>\n",
              "      <td>...</td>\n",
              "      <td>...</td>\n",
              "      <td>...</td>\n",
              "      <td>...</td>\n",
              "      <td>...</td>\n",
              "      <td>...</td>\n",
              "      <td>...</td>\n",
              "      <td>...</td>\n",
              "      <td>...</td>\n",
              "      <td>...</td>\n",
              "      <td>...</td>\n",
              "      <td>...</td>\n",
              "      <td>...</td>\n",
              "      <td>...</td>\n",
              "      <td>...</td>\n",
              "      <td>...</td>\n",
              "      <td>...</td>\n",
              "      <td>...</td>\n",
              "      <td>...</td>\n",
              "      <td>...</td>\n",
              "      <td>...</td>\n",
              "      <td>...</td>\n",
              "    </tr>\n",
              "    <tr>\n",
              "      <th>39995</th>\n",
              "      <td>0</td>\n",
              "      <td>0</td>\n",
              "      <td>0</td>\n",
              "      <td>0</td>\n",
              "      <td>0</td>\n",
              "      <td>0</td>\n",
              "      <td>0</td>\n",
              "      <td>0</td>\n",
              "      <td>0</td>\n",
              "      <td>0</td>\n",
              "      <td>0</td>\n",
              "      <td>0</td>\n",
              "      <td>0</td>\n",
              "      <td>0</td>\n",
              "      <td>0</td>\n",
              "      <td>0</td>\n",
              "      <td>0</td>\n",
              "      <td>0</td>\n",
              "      <td>0</td>\n",
              "      <td>0</td>\n",
              "      <td>1</td>\n",
              "      <td>0</td>\n",
              "      <td>0</td>\n",
              "      <td>0</td>\n",
              "      <td>0</td>\n",
              "      <td>0</td>\n",
              "      <td>0</td>\n",
              "      <td>0</td>\n",
              "      <td>0</td>\n",
              "      <td>0</td>\n",
              "      <td>0</td>\n",
              "    </tr>\n",
              "    <tr>\n",
              "      <th>39996</th>\n",
              "      <td>0</td>\n",
              "      <td>0</td>\n",
              "      <td>0</td>\n",
              "      <td>0</td>\n",
              "      <td>0</td>\n",
              "      <td>0</td>\n",
              "      <td>0</td>\n",
              "      <td>0</td>\n",
              "      <td>0</td>\n",
              "      <td>0</td>\n",
              "      <td>0</td>\n",
              "      <td>0</td>\n",
              "      <td>0</td>\n",
              "      <td>0</td>\n",
              "      <td>0</td>\n",
              "      <td>0</td>\n",
              "      <td>0</td>\n",
              "      <td>0</td>\n",
              "      <td>0</td>\n",
              "      <td>0</td>\n",
              "      <td>0</td>\n",
              "      <td>0</td>\n",
              "      <td>0</td>\n",
              "      <td>0</td>\n",
              "      <td>1</td>\n",
              "      <td>0</td>\n",
              "      <td>0</td>\n",
              "      <td>0</td>\n",
              "      <td>0</td>\n",
              "      <td>0</td>\n",
              "      <td>0</td>\n",
              "    </tr>\n",
              "    <tr>\n",
              "      <th>39997</th>\n",
              "      <td>0</td>\n",
              "      <td>0</td>\n",
              "      <td>0</td>\n",
              "      <td>0</td>\n",
              "      <td>0</td>\n",
              "      <td>0</td>\n",
              "      <td>0</td>\n",
              "      <td>0</td>\n",
              "      <td>0</td>\n",
              "      <td>0</td>\n",
              "      <td>0</td>\n",
              "      <td>0</td>\n",
              "      <td>0</td>\n",
              "      <td>0</td>\n",
              "      <td>0</td>\n",
              "      <td>0</td>\n",
              "      <td>0</td>\n",
              "      <td>0</td>\n",
              "      <td>0</td>\n",
              "      <td>0</td>\n",
              "      <td>0</td>\n",
              "      <td>0</td>\n",
              "      <td>0</td>\n",
              "      <td>0</td>\n",
              "      <td>0</td>\n",
              "      <td>0</td>\n",
              "      <td>0</td>\n",
              "      <td>1</td>\n",
              "      <td>0</td>\n",
              "      <td>0</td>\n",
              "      <td>0</td>\n",
              "    </tr>\n",
              "    <tr>\n",
              "      <th>39998</th>\n",
              "      <td>0</td>\n",
              "      <td>0</td>\n",
              "      <td>0</td>\n",
              "      <td>0</td>\n",
              "      <td>0</td>\n",
              "      <td>0</td>\n",
              "      <td>0</td>\n",
              "      <td>0</td>\n",
              "      <td>0</td>\n",
              "      <td>0</td>\n",
              "      <td>0</td>\n",
              "      <td>0</td>\n",
              "      <td>0</td>\n",
              "      <td>0</td>\n",
              "      <td>0</td>\n",
              "      <td>0</td>\n",
              "      <td>0</td>\n",
              "      <td>0</td>\n",
              "      <td>0</td>\n",
              "      <td>0</td>\n",
              "      <td>0</td>\n",
              "      <td>0</td>\n",
              "      <td>0</td>\n",
              "      <td>0</td>\n",
              "      <td>0</td>\n",
              "      <td>0</td>\n",
              "      <td>0</td>\n",
              "      <td>0</td>\n",
              "      <td>0</td>\n",
              "      <td>1</td>\n",
              "      <td>0</td>\n",
              "    </tr>\n",
              "    <tr>\n",
              "      <th>39999</th>\n",
              "      <td>0</td>\n",
              "      <td>0</td>\n",
              "      <td>0</td>\n",
              "      <td>0</td>\n",
              "      <td>0</td>\n",
              "      <td>0</td>\n",
              "      <td>0</td>\n",
              "      <td>0</td>\n",
              "      <td>0</td>\n",
              "      <td>0</td>\n",
              "      <td>0</td>\n",
              "      <td>0</td>\n",
              "      <td>0</td>\n",
              "      <td>0</td>\n",
              "      <td>0</td>\n",
              "      <td>0</td>\n",
              "      <td>0</td>\n",
              "      <td>0</td>\n",
              "      <td>0</td>\n",
              "      <td>0</td>\n",
              "      <td>1</td>\n",
              "      <td>0</td>\n",
              "      <td>0</td>\n",
              "      <td>0</td>\n",
              "      <td>0</td>\n",
              "      <td>0</td>\n",
              "      <td>0</td>\n",
              "      <td>0</td>\n",
              "      <td>0</td>\n",
              "      <td>0</td>\n",
              "      <td>0</td>\n",
              "    </tr>\n",
              "  </tbody>\n",
              "</table>\n",
              "<p>40000 rows × 31 columns</p>\n",
              "</div>"
            ],
            "text/plain": [
              "       Amsterdam  Athens  Barcelona  Berlin  ...  Stockholm  Vienna  Warsaw  Zurich\n",
              "0              0       0          0       0  ...          0       0       0       0\n",
              "1              0       0          0       0  ...          1       0       0       0\n",
              "2              0       0          0       0  ...          0       0       0       0\n",
              "3              0       0          0       1  ...          0       0       0       0\n",
              "4              0       0          0       0  ...          0       0       0       0\n",
              "...          ...     ...        ...     ...  ...        ...     ...     ...     ...\n",
              "39995          0       0          0       0  ...          0       0       0       0\n",
              "39996          0       0          0       0  ...          0       0       0       0\n",
              "39997          0       0          0       0  ...          1       0       0       0\n",
              "39998          0       0          0       0  ...          0       0       1       0\n",
              "39999          0       0          0       0  ...          0       0       0       0\n",
              "\n",
              "[40000 rows x 31 columns]"
            ]
          },
          "metadata": {
            "tags": []
          },
          "execution_count": 55
        }
      ]
    },
    {
      "cell_type": "code",
      "metadata": {
        "id": "qDLLajhkf9vx",
        "outputId": "f46a07ac-281d-4cc1-b6c9-8f5bef0e4c3b",
        "colab": {
          "base_uri": "https://localhost:8080/",
          "height": 51
        }
      },
      "source": [
        "%%time\n",
        "dfr = pd.get_dummies(df.explode('Cuisine_Style')['Cuisine_Style'])\n"
      ],
      "execution_count": 56,
      "outputs": [
        {
          "output_type": "stream",
          "text": [
            "CPU times: user 214 ms, sys: 1.97 ms, total: 216 ms\n",
            "Wall time: 219 ms\n"
          ],
          "name": "stdout"
        }
      ]
    },
    {
      "cell_type": "code",
      "metadata": {
        "id": "94YHl95ibrZv"
      },
      "source": [
        ""
      ],
      "execution_count": null,
      "outputs": []
    },
    {
      "cell_type": "code",
      "metadata": {
        "id": "63I-0mnVxQfQ",
        "outputId": "672961ac-933f-432f-c825-6a6b06eb6448",
        "colab": {
          "base_uri": "https://localhost:8080/",
          "height": 34
        }
      },
      "source": [
        "dfr.shape"
      ],
      "execution_count": 57,
      "outputs": [
        {
          "output_type": "execute_result",
          "data": {
            "text/plain": [
              "(104916, 126)"
            ]
          },
          "metadata": {
            "tags": []
          },
          "execution_count": 57
        }
      ]
    },
    {
      "cell_type": "code",
      "metadata": {
        "id": "SbI8gh49we4H",
        "outputId": "557dd3f7-4d19-468f-eeca-8bd35a772a8e",
        "colab": {
          "base_uri": "https://localhost:8080/",
          "height": 68
        }
      },
      "source": [
        "df.columns"
      ],
      "execution_count": 58,
      "outputs": [
        {
          "output_type": "execute_result",
          "data": {
            "text/plain": [
              "Index(['Restaurant_id', 'City', 'Cuisine_Style', 'Ranking', 'Rating',\n",
              "       'Price_Range', 'Number_of_Reviews', 'ID_TA'],\n",
              "      dtype='object')"
            ]
          },
          "metadata": {
            "tags": []
          },
          "execution_count": 58
        }
      ]
    },
    {
      "cell_type": "code",
      "metadata": {
        "id": "KApSzVRZrinh",
        "outputId": "a3a36c2e-f1c0-49e6-9672-c526b0de293c",
        "colab": {
          "base_uri": "https://localhost:8080/",
          "height": 51
        }
      },
      "source": [
        "%%time\n",
        "df0 = pd.concat([df.drop(['Cuisine_Style', 'City'], axis = 1), \n",
        "                 pd.get_dummies(df['City']),\n",
        "                 dfr], axis = 1)"
      ],
      "execution_count": 59,
      "outputs": [
        {
          "output_type": "stream",
          "text": [
            "CPU times: user 115 ms, sys: 3 ms, total: 118 ms\n",
            "Wall time: 122 ms\n"
          ],
          "name": "stdout"
        }
      ]
    },
    {
      "cell_type": "code",
      "metadata": {
        "id": "AUNBo9T09Ahv",
        "outputId": "cf2aab54-5a98-4ff6-8e4e-e7da450021b2",
        "colab": {
          "base_uri": "https://localhost:8080/",
          "height": 332
        }
      },
      "source": [
        "# pd.concat([df.drop(['Cuisine_Style', 'City'], axis = 1), \n",
        "#            pd.get_dummies(df['City'])], axis = 1)\n",
        "\n",
        "df0.sample(7)"
      ],
      "execution_count": 60,
      "outputs": [
        {
          "output_type": "execute_result",
          "data": {
            "text/html": [
              "<div>\n",
              "<style scoped>\n",
              "    .dataframe tbody tr th:only-of-type {\n",
              "        vertical-align: middle;\n",
              "    }\n",
              "\n",
              "    .dataframe tbody tr th {\n",
              "        vertical-align: top;\n",
              "    }\n",
              "\n",
              "    .dataframe thead th {\n",
              "        text-align: right;\n",
              "    }\n",
              "</style>\n",
              "<table border=\"1\" class=\"dataframe\">\n",
              "  <thead>\n",
              "    <tr style=\"text-align: right;\">\n",
              "      <th></th>\n",
              "      <th>Restaurant_id</th>\n",
              "      <th>Ranking</th>\n",
              "      <th>Rating</th>\n",
              "      <th>Price_Range</th>\n",
              "      <th>Number_of_Reviews</th>\n",
              "      <th>ID_TA</th>\n",
              "      <th>Amsterdam</th>\n",
              "      <th>Athens</th>\n",
              "      <th>Barcelona</th>\n",
              "      <th>Berlin</th>\n",
              "      <th>Bratislava</th>\n",
              "      <th>Brussels</th>\n",
              "      <th>Budapest</th>\n",
              "      <th>Copenhagen</th>\n",
              "      <th>Dublin</th>\n",
              "      <th>Edinburgh</th>\n",
              "      <th>Geneva</th>\n",
              "      <th>Hamburg</th>\n",
              "      <th>Helsinki</th>\n",
              "      <th>Krakow</th>\n",
              "      <th>Lisbon</th>\n",
              "      <th>Ljubljana</th>\n",
              "      <th>London</th>\n",
              "      <th>Luxembourg</th>\n",
              "      <th>Lyon</th>\n",
              "      <th>Madrid</th>\n",
              "      <th>Milan</th>\n",
              "      <th>Munich</th>\n",
              "      <th>Oporto</th>\n",
              "      <th>Oslo</th>\n",
              "      <th>Paris</th>\n",
              "      <th>Prague</th>\n",
              "      <th>Rome</th>\n",
              "      <th>Stockholm</th>\n",
              "      <th>Vienna</th>\n",
              "      <th>Warsaw</th>\n",
              "      <th>Zurich</th>\n",
              "      <th>Creole</th>\n",
              "      <th>Afghani</th>\n",
              "      <th>African</th>\n",
              "      <th>...</th>\n",
              "      <th>Persian</th>\n",
              "      <th>Peruvian</th>\n",
              "      <th>Pizza</th>\n",
              "      <th>Polish</th>\n",
              "      <th>Polynesian</th>\n",
              "      <th>Portuguese</th>\n",
              "      <th>Pub</th>\n",
              "      <th>Romanian</th>\n",
              "      <th>Russian</th>\n",
              "      <th>Salvadoran</th>\n",
              "      <th>Scandinavian</th>\n",
              "      <th>Scottish</th>\n",
              "      <th>Seafood</th>\n",
              "      <th>Singaporean</th>\n",
              "      <th>Slovenian</th>\n",
              "      <th>Soups</th>\n",
              "      <th>South American</th>\n",
              "      <th>Southwestern</th>\n",
              "      <th>Spanish</th>\n",
              "      <th>Sri Lankan</th>\n",
              "      <th>Steakhouse</th>\n",
              "      <th>Street Food</th>\n",
              "      <th>Sushi</th>\n",
              "      <th>Swedish</th>\n",
              "      <th>Swiss</th>\n",
              "      <th>Taiwanese</th>\n",
              "      <th>Thai</th>\n",
              "      <th>Tibetan</th>\n",
              "      <th>Tunisian</th>\n",
              "      <th>Turkish</th>\n",
              "      <th>Ukrainian</th>\n",
              "      <th>Uzbek</th>\n",
              "      <th>Vegan Options</th>\n",
              "      <th>Vegetarian Friendly</th>\n",
              "      <th>Venezuelan</th>\n",
              "      <th>Vietnamese</th>\n",
              "      <th>Welsh</th>\n",
              "      <th>Wine Bar</th>\n",
              "      <th>Xinjiang</th>\n",
              "      <th>Yunnan</th>\n",
              "    </tr>\n",
              "  </thead>\n",
              "  <tbody>\n",
              "    <tr>\n",
              "      <th>4335</th>\n",
              "      <td>4232</td>\n",
              "      <td>4233.0</td>\n",
              "      <td>4.0</td>\n",
              "      <td>500</td>\n",
              "      <td>60.0</td>\n",
              "      <td>7228973</td>\n",
              "      <td>0</td>\n",
              "      <td>0</td>\n",
              "      <td>0</td>\n",
              "      <td>0</td>\n",
              "      <td>0</td>\n",
              "      <td>0</td>\n",
              "      <td>0</td>\n",
              "      <td>0</td>\n",
              "      <td>0</td>\n",
              "      <td>0</td>\n",
              "      <td>0</td>\n",
              "      <td>0</td>\n",
              "      <td>0</td>\n",
              "      <td>0</td>\n",
              "      <td>0</td>\n",
              "      <td>0</td>\n",
              "      <td>0</td>\n",
              "      <td>0</td>\n",
              "      <td>0</td>\n",
              "      <td>0</td>\n",
              "      <td>0</td>\n",
              "      <td>0</td>\n",
              "      <td>0</td>\n",
              "      <td>0</td>\n",
              "      <td>1</td>\n",
              "      <td>0</td>\n",
              "      <td>0</td>\n",
              "      <td>0</td>\n",
              "      <td>0</td>\n",
              "      <td>0</td>\n",
              "      <td>0</td>\n",
              "      <td>0</td>\n",
              "      <td>0</td>\n",
              "      <td>0</td>\n",
              "      <td>...</td>\n",
              "      <td>0</td>\n",
              "      <td>0</td>\n",
              "      <td>0</td>\n",
              "      <td>0</td>\n",
              "      <td>0</td>\n",
              "      <td>0</td>\n",
              "      <td>0</td>\n",
              "      <td>0</td>\n",
              "      <td>0</td>\n",
              "      <td>0</td>\n",
              "      <td>0</td>\n",
              "      <td>0</td>\n",
              "      <td>0</td>\n",
              "      <td>0</td>\n",
              "      <td>0</td>\n",
              "      <td>0</td>\n",
              "      <td>0</td>\n",
              "      <td>0</td>\n",
              "      <td>0</td>\n",
              "      <td>0</td>\n",
              "      <td>0</td>\n",
              "      <td>0</td>\n",
              "      <td>0</td>\n",
              "      <td>0</td>\n",
              "      <td>0</td>\n",
              "      <td>0</td>\n",
              "      <td>0</td>\n",
              "      <td>0</td>\n",
              "      <td>0</td>\n",
              "      <td>0</td>\n",
              "      <td>0</td>\n",
              "      <td>0</td>\n",
              "      <td>0</td>\n",
              "      <td>0</td>\n",
              "      <td>0</td>\n",
              "      <td>0</td>\n",
              "      <td>0</td>\n",
              "      <td>0</td>\n",
              "      <td>0</td>\n",
              "      <td>0</td>\n",
              "    </tr>\n",
              "    <tr>\n",
              "      <th>36544</th>\n",
              "      <td>647</td>\n",
              "      <td>648.0</td>\n",
              "      <td>4.5</td>\n",
              "      <td>500</td>\n",
              "      <td>15.0</td>\n",
              "      <td>12880685</td>\n",
              "      <td>0</td>\n",
              "      <td>0</td>\n",
              "      <td>0</td>\n",
              "      <td>0</td>\n",
              "      <td>0</td>\n",
              "      <td>0</td>\n",
              "      <td>0</td>\n",
              "      <td>0</td>\n",
              "      <td>0</td>\n",
              "      <td>0</td>\n",
              "      <td>0</td>\n",
              "      <td>0</td>\n",
              "      <td>0</td>\n",
              "      <td>0</td>\n",
              "      <td>0</td>\n",
              "      <td>0</td>\n",
              "      <td>0</td>\n",
              "      <td>0</td>\n",
              "      <td>0</td>\n",
              "      <td>0</td>\n",
              "      <td>0</td>\n",
              "      <td>0</td>\n",
              "      <td>1</td>\n",
              "      <td>0</td>\n",
              "      <td>0</td>\n",
              "      <td>0</td>\n",
              "      <td>0</td>\n",
              "      <td>0</td>\n",
              "      <td>0</td>\n",
              "      <td>0</td>\n",
              "      <td>0</td>\n",
              "      <td>0</td>\n",
              "      <td>0</td>\n",
              "      <td>0</td>\n",
              "      <td>...</td>\n",
              "      <td>0</td>\n",
              "      <td>0</td>\n",
              "      <td>0</td>\n",
              "      <td>0</td>\n",
              "      <td>0</td>\n",
              "      <td>0</td>\n",
              "      <td>0</td>\n",
              "      <td>0</td>\n",
              "      <td>0</td>\n",
              "      <td>0</td>\n",
              "      <td>0</td>\n",
              "      <td>0</td>\n",
              "      <td>0</td>\n",
              "      <td>0</td>\n",
              "      <td>0</td>\n",
              "      <td>0</td>\n",
              "      <td>0</td>\n",
              "      <td>0</td>\n",
              "      <td>0</td>\n",
              "      <td>0</td>\n",
              "      <td>0</td>\n",
              "      <td>0</td>\n",
              "      <td>0</td>\n",
              "      <td>0</td>\n",
              "      <td>0</td>\n",
              "      <td>0</td>\n",
              "      <td>0</td>\n",
              "      <td>0</td>\n",
              "      <td>0</td>\n",
              "      <td>0</td>\n",
              "      <td>0</td>\n",
              "      <td>0</td>\n",
              "      <td>0</td>\n",
              "      <td>0</td>\n",
              "      <td>0</td>\n",
              "      <td>0</td>\n",
              "      <td>0</td>\n",
              "      <td>0</td>\n",
              "      <td>0</td>\n",
              "      <td>0</td>\n",
              "    </tr>\n",
              "    <tr>\n",
              "      <th>1422</th>\n",
              "      <td>1184</td>\n",
              "      <td>1195.0</td>\n",
              "      <td>4.0</td>\n",
              "      <td>5</td>\n",
              "      <td>96.0</td>\n",
              "      <td>2484653</td>\n",
              "      <td>0</td>\n",
              "      <td>0</td>\n",
              "      <td>0</td>\n",
              "      <td>0</td>\n",
              "      <td>0</td>\n",
              "      <td>0</td>\n",
              "      <td>0</td>\n",
              "      <td>0</td>\n",
              "      <td>0</td>\n",
              "      <td>0</td>\n",
              "      <td>0</td>\n",
              "      <td>0</td>\n",
              "      <td>0</td>\n",
              "      <td>0</td>\n",
              "      <td>0</td>\n",
              "      <td>0</td>\n",
              "      <td>0</td>\n",
              "      <td>0</td>\n",
              "      <td>0</td>\n",
              "      <td>0</td>\n",
              "      <td>0</td>\n",
              "      <td>1</td>\n",
              "      <td>0</td>\n",
              "      <td>0</td>\n",
              "      <td>0</td>\n",
              "      <td>0</td>\n",
              "      <td>0</td>\n",
              "      <td>0</td>\n",
              "      <td>0</td>\n",
              "      <td>0</td>\n",
              "      <td>0</td>\n",
              "      <td>0</td>\n",
              "      <td>0</td>\n",
              "      <td>0</td>\n",
              "      <td>...</td>\n",
              "      <td>0</td>\n",
              "      <td>0</td>\n",
              "      <td>0</td>\n",
              "      <td>0</td>\n",
              "      <td>0</td>\n",
              "      <td>0</td>\n",
              "      <td>0</td>\n",
              "      <td>0</td>\n",
              "      <td>0</td>\n",
              "      <td>0</td>\n",
              "      <td>0</td>\n",
              "      <td>0</td>\n",
              "      <td>0</td>\n",
              "      <td>0</td>\n",
              "      <td>0</td>\n",
              "      <td>0</td>\n",
              "      <td>0</td>\n",
              "      <td>0</td>\n",
              "      <td>0</td>\n",
              "      <td>0</td>\n",
              "      <td>0</td>\n",
              "      <td>0</td>\n",
              "      <td>0</td>\n",
              "      <td>0</td>\n",
              "      <td>0</td>\n",
              "      <td>0</td>\n",
              "      <td>0</td>\n",
              "      <td>0</td>\n",
              "      <td>0</td>\n",
              "      <td>0</td>\n",
              "      <td>0</td>\n",
              "      <td>0</td>\n",
              "      <td>0</td>\n",
              "      <td>0</td>\n",
              "      <td>0</td>\n",
              "      <td>0</td>\n",
              "      <td>0</td>\n",
              "      <td>0</td>\n",
              "      <td>0</td>\n",
              "      <td>0</td>\n",
              "    </tr>\n",
              "    <tr>\n",
              "      <th>26185</th>\n",
              "      <td>68</td>\n",
              "      <td>69.0</td>\n",
              "      <td>4.0</td>\n",
              "      <td>500</td>\n",
              "      <td>190.0</td>\n",
              "      <td>10512258</td>\n",
              "      <td>0</td>\n",
              "      <td>0</td>\n",
              "      <td>0</td>\n",
              "      <td>0</td>\n",
              "      <td>0</td>\n",
              "      <td>0</td>\n",
              "      <td>0</td>\n",
              "      <td>0</td>\n",
              "      <td>0</td>\n",
              "      <td>0</td>\n",
              "      <td>0</td>\n",
              "      <td>0</td>\n",
              "      <td>1</td>\n",
              "      <td>0</td>\n",
              "      <td>0</td>\n",
              "      <td>0</td>\n",
              "      <td>0</td>\n",
              "      <td>0</td>\n",
              "      <td>0</td>\n",
              "      <td>0</td>\n",
              "      <td>0</td>\n",
              "      <td>0</td>\n",
              "      <td>0</td>\n",
              "      <td>0</td>\n",
              "      <td>0</td>\n",
              "      <td>0</td>\n",
              "      <td>0</td>\n",
              "      <td>0</td>\n",
              "      <td>0</td>\n",
              "      <td>0</td>\n",
              "      <td>0</td>\n",
              "      <td>0</td>\n",
              "      <td>0</td>\n",
              "      <td>0</td>\n",
              "      <td>...</td>\n",
              "      <td>0</td>\n",
              "      <td>0</td>\n",
              "      <td>0</td>\n",
              "      <td>0</td>\n",
              "      <td>0</td>\n",
              "      <td>0</td>\n",
              "      <td>0</td>\n",
              "      <td>0</td>\n",
              "      <td>0</td>\n",
              "      <td>0</td>\n",
              "      <td>0</td>\n",
              "      <td>0</td>\n",
              "      <td>0</td>\n",
              "      <td>0</td>\n",
              "      <td>0</td>\n",
              "      <td>0</td>\n",
              "      <td>0</td>\n",
              "      <td>0</td>\n",
              "      <td>0</td>\n",
              "      <td>0</td>\n",
              "      <td>0</td>\n",
              "      <td>0</td>\n",
              "      <td>0</td>\n",
              "      <td>0</td>\n",
              "      <td>0</td>\n",
              "      <td>0</td>\n",
              "      <td>0</td>\n",
              "      <td>0</td>\n",
              "      <td>0</td>\n",
              "      <td>0</td>\n",
              "      <td>0</td>\n",
              "      <td>0</td>\n",
              "      <td>0</td>\n",
              "      <td>0</td>\n",
              "      <td>0</td>\n",
              "      <td>0</td>\n",
              "      <td>0</td>\n",
              "      <td>0</td>\n",
              "      <td>0</td>\n",
              "      <td>0</td>\n",
              "    </tr>\n",
              "    <tr>\n",
              "      <th>38220</th>\n",
              "      <td>1479</td>\n",
              "      <td>1480.0</td>\n",
              "      <td>4.5</td>\n",
              "      <td>500</td>\n",
              "      <td>120.0</td>\n",
              "      <td>7792673</td>\n",
              "      <td>0</td>\n",
              "      <td>0</td>\n",
              "      <td>0</td>\n",
              "      <td>0</td>\n",
              "      <td>0</td>\n",
              "      <td>0</td>\n",
              "      <td>0</td>\n",
              "      <td>0</td>\n",
              "      <td>0</td>\n",
              "      <td>0</td>\n",
              "      <td>0</td>\n",
              "      <td>0</td>\n",
              "      <td>0</td>\n",
              "      <td>0</td>\n",
              "      <td>0</td>\n",
              "      <td>0</td>\n",
              "      <td>0</td>\n",
              "      <td>0</td>\n",
              "      <td>0</td>\n",
              "      <td>0</td>\n",
              "      <td>0</td>\n",
              "      <td>0</td>\n",
              "      <td>0</td>\n",
              "      <td>0</td>\n",
              "      <td>0</td>\n",
              "      <td>0</td>\n",
              "      <td>1</td>\n",
              "      <td>0</td>\n",
              "      <td>0</td>\n",
              "      <td>0</td>\n",
              "      <td>0</td>\n",
              "      <td>0</td>\n",
              "      <td>0</td>\n",
              "      <td>0</td>\n",
              "      <td>...</td>\n",
              "      <td>0</td>\n",
              "      <td>0</td>\n",
              "      <td>0</td>\n",
              "      <td>0</td>\n",
              "      <td>0</td>\n",
              "      <td>0</td>\n",
              "      <td>0</td>\n",
              "      <td>0</td>\n",
              "      <td>0</td>\n",
              "      <td>0</td>\n",
              "      <td>0</td>\n",
              "      <td>0</td>\n",
              "      <td>0</td>\n",
              "      <td>0</td>\n",
              "      <td>0</td>\n",
              "      <td>0</td>\n",
              "      <td>0</td>\n",
              "      <td>0</td>\n",
              "      <td>0</td>\n",
              "      <td>0</td>\n",
              "      <td>0</td>\n",
              "      <td>0</td>\n",
              "      <td>0</td>\n",
              "      <td>0</td>\n",
              "      <td>0</td>\n",
              "      <td>0</td>\n",
              "      <td>0</td>\n",
              "      <td>0</td>\n",
              "      <td>0</td>\n",
              "      <td>0</td>\n",
              "      <td>0</td>\n",
              "      <td>0</td>\n",
              "      <td>0</td>\n",
              "      <td>0</td>\n",
              "      <td>0</td>\n",
              "      <td>0</td>\n",
              "      <td>0</td>\n",
              "      <td>0</td>\n",
              "      <td>0</td>\n",
              "      <td>0</td>\n",
              "    </tr>\n",
              "    <tr>\n",
              "      <th>38801</th>\n",
              "      <td>1655</td>\n",
              "      <td>1656.0</td>\n",
              "      <td>4.0</td>\n",
              "      <td>500</td>\n",
              "      <td>25.0</td>\n",
              "      <td>3365369</td>\n",
              "      <td>0</td>\n",
              "      <td>0</td>\n",
              "      <td>0</td>\n",
              "      <td>0</td>\n",
              "      <td>0</td>\n",
              "      <td>1</td>\n",
              "      <td>0</td>\n",
              "      <td>0</td>\n",
              "      <td>0</td>\n",
              "      <td>0</td>\n",
              "      <td>0</td>\n",
              "      <td>0</td>\n",
              "      <td>0</td>\n",
              "      <td>0</td>\n",
              "      <td>0</td>\n",
              "      <td>0</td>\n",
              "      <td>0</td>\n",
              "      <td>0</td>\n",
              "      <td>0</td>\n",
              "      <td>0</td>\n",
              "      <td>0</td>\n",
              "      <td>0</td>\n",
              "      <td>0</td>\n",
              "      <td>0</td>\n",
              "      <td>0</td>\n",
              "      <td>0</td>\n",
              "      <td>0</td>\n",
              "      <td>0</td>\n",
              "      <td>0</td>\n",
              "      <td>0</td>\n",
              "      <td>0</td>\n",
              "      <td>0</td>\n",
              "      <td>0</td>\n",
              "      <td>0</td>\n",
              "      <td>...</td>\n",
              "      <td>0</td>\n",
              "      <td>0</td>\n",
              "      <td>0</td>\n",
              "      <td>0</td>\n",
              "      <td>0</td>\n",
              "      <td>0</td>\n",
              "      <td>0</td>\n",
              "      <td>0</td>\n",
              "      <td>0</td>\n",
              "      <td>0</td>\n",
              "      <td>0</td>\n",
              "      <td>0</td>\n",
              "      <td>0</td>\n",
              "      <td>0</td>\n",
              "      <td>0</td>\n",
              "      <td>0</td>\n",
              "      <td>0</td>\n",
              "      <td>0</td>\n",
              "      <td>0</td>\n",
              "      <td>0</td>\n",
              "      <td>0</td>\n",
              "      <td>0</td>\n",
              "      <td>0</td>\n",
              "      <td>0</td>\n",
              "      <td>0</td>\n",
              "      <td>0</td>\n",
              "      <td>0</td>\n",
              "      <td>0</td>\n",
              "      <td>0</td>\n",
              "      <td>0</td>\n",
              "      <td>0</td>\n",
              "      <td>0</td>\n",
              "      <td>0</td>\n",
              "      <td>0</td>\n",
              "      <td>0</td>\n",
              "      <td>0</td>\n",
              "      <td>0</td>\n",
              "      <td>0</td>\n",
              "      <td>0</td>\n",
              "      <td>0</td>\n",
              "    </tr>\n",
              "    <tr>\n",
              "      <th>22168</th>\n",
              "      <td>4895</td>\n",
              "      <td>4897.0</td>\n",
              "      <td>4.0</td>\n",
              "      <td>500</td>\n",
              "      <td>16.0</td>\n",
              "      <td>6511413</td>\n",
              "      <td>0</td>\n",
              "      <td>0</td>\n",
              "      <td>0</td>\n",
              "      <td>1</td>\n",
              "      <td>0</td>\n",
              "      <td>0</td>\n",
              "      <td>0</td>\n",
              "      <td>0</td>\n",
              "      <td>0</td>\n",
              "      <td>0</td>\n",
              "      <td>0</td>\n",
              "      <td>0</td>\n",
              "      <td>0</td>\n",
              "      <td>0</td>\n",
              "      <td>0</td>\n",
              "      <td>0</td>\n",
              "      <td>0</td>\n",
              "      <td>0</td>\n",
              "      <td>0</td>\n",
              "      <td>0</td>\n",
              "      <td>0</td>\n",
              "      <td>0</td>\n",
              "      <td>0</td>\n",
              "      <td>0</td>\n",
              "      <td>0</td>\n",
              "      <td>0</td>\n",
              "      <td>0</td>\n",
              "      <td>0</td>\n",
              "      <td>0</td>\n",
              "      <td>0</td>\n",
              "      <td>0</td>\n",
              "      <td>0</td>\n",
              "      <td>0</td>\n",
              "      <td>0</td>\n",
              "      <td>...</td>\n",
              "      <td>0</td>\n",
              "      <td>0</td>\n",
              "      <td>0</td>\n",
              "      <td>0</td>\n",
              "      <td>0</td>\n",
              "      <td>0</td>\n",
              "      <td>0</td>\n",
              "      <td>0</td>\n",
              "      <td>0</td>\n",
              "      <td>0</td>\n",
              "      <td>0</td>\n",
              "      <td>0</td>\n",
              "      <td>0</td>\n",
              "      <td>0</td>\n",
              "      <td>0</td>\n",
              "      <td>0</td>\n",
              "      <td>0</td>\n",
              "      <td>0</td>\n",
              "      <td>0</td>\n",
              "      <td>0</td>\n",
              "      <td>0</td>\n",
              "      <td>0</td>\n",
              "      <td>0</td>\n",
              "      <td>0</td>\n",
              "      <td>0</td>\n",
              "      <td>0</td>\n",
              "      <td>0</td>\n",
              "      <td>0</td>\n",
              "      <td>0</td>\n",
              "      <td>0</td>\n",
              "      <td>0</td>\n",
              "      <td>0</td>\n",
              "      <td>0</td>\n",
              "      <td>0</td>\n",
              "      <td>0</td>\n",
              "      <td>0</td>\n",
              "      <td>0</td>\n",
              "      <td>0</td>\n",
              "      <td>0</td>\n",
              "      <td>0</td>\n",
              "    </tr>\n",
              "  </tbody>\n",
              "</table>\n",
              "<p>7 rows × 163 columns</p>\n",
              "</div>"
            ],
            "text/plain": [
              "       Restaurant_id  Ranking  Rating  ...  Wine Bar  Xinjiang  Yunnan\n",
              "4335            4232   4233.0     4.0  ...         0         0       0\n",
              "36544            647    648.0     4.5  ...         0         0       0\n",
              "1422            1184   1195.0     4.0  ...         0         0       0\n",
              "26185             68     69.0     4.0  ...         0         0       0\n",
              "38220           1479   1480.0     4.5  ...         0         0       0\n",
              "38801           1655   1656.0     4.0  ...         0         0       0\n",
              "22168           4895   4897.0     4.0  ...         0         0       0\n",
              "\n",
              "[7 rows x 163 columns]"
            ]
          },
          "metadata": {
            "tags": []
          },
          "execution_count": 60
        }
      ]
    },
    {
      "cell_type": "code",
      "metadata": {
        "id": "ilj9WQQgf26h",
        "outputId": "9259db4a-cec6-4143-ec60-215ebb25f248",
        "colab": {
          "base_uri": "https://localhost:8080/",
          "height": 34
        }
      },
      "source": [
        "df0.shape"
      ],
      "execution_count": 61,
      "outputs": [
        {
          "output_type": "execute_result",
          "data": {
            "text/plain": [
              "(104916, 163)"
            ]
          },
          "metadata": {
            "tags": []
          },
          "execution_count": 61
        }
      ]
    },
    {
      "cell_type": "code",
      "metadata": {
        "id": "qwykgvOLQc6j",
        "outputId": "467c0caf-b3bb-4ba4-9d14-71a20a02c5ce",
        "colab": {
          "base_uri": "https://localhost:8080/",
          "height": 255
        }
      },
      "source": [
        "%%time\n",
        "df0.isna().sum()\n",
        "\n",
        "# CPU times: user 33.8 ms, sys: 982 µs, total: 34.8 ms"
      ],
      "execution_count": 67,
      "outputs": [
        {
          "output_type": "stream",
          "text": [
            "CPU times: user 33.8 ms, sys: 982 µs, total: 34.8 ms\n",
            "Wall time: 38.8 ms\n"
          ],
          "name": "stdout"
        },
        {
          "output_type": "execute_result",
          "data": {
            "text/plain": [
              "Restaurant_id        0\n",
              "Ranking              0\n",
              "Rating               0\n",
              "Price_Range          0\n",
              "Number_of_Reviews    0\n",
              "                    ..\n",
              "Vietnamese           0\n",
              "Welsh                0\n",
              "Wine Bar             0\n",
              "Xinjiang             0\n",
              "Yunnan               0\n",
              "Length: 163, dtype: int64"
            ]
          },
          "metadata": {
            "tags": []
          },
          "execution_count": 67
        }
      ]
    },
    {
      "cell_type": "code",
      "metadata": {
        "id": "I4CHroU_5NK-",
        "outputId": "5898b6b2-c6b4-4be4-f6a1-dac9e6f8a845",
        "colab": {
          "base_uri": "https://localhost:8080/",
          "height": 1000
        }
      },
      "source": [
        "%%time\n",
        "\n",
        "for item in df0.columns:\n",
        "    print(item, ': nan-count = ', df0[item].isna().sum(), sep='')\n",
        "    #\n",
        "\n",
        "# CPU times: user 189 ms, sys: 33.8 ms, total: 223 ms\n",
        "# Wall time: 169 ms"
      ],
      "execution_count": 63,
      "outputs": [
        {
          "output_type": "stream",
          "text": [
            "Restaurant_id: nan-count = 0\n",
            "Ranking: nan-count = 0\n",
            "Rating: nan-count = 0\n",
            "Price_Range: nan-count = 0\n",
            "Number_of_Reviews: nan-count = 0\n",
            "ID_TA: nan-count = 0\n",
            "Amsterdam: nan-count = 0\n",
            "Athens: nan-count = 0\n",
            "Barcelona: nan-count = 0\n",
            "Berlin: nan-count = 0\n",
            "Bratislava: nan-count = 0\n",
            "Brussels: nan-count = 0\n",
            "Budapest: nan-count = 0\n",
            "Copenhagen: nan-count = 0\n",
            "Dublin: nan-count = 0\n",
            "Edinburgh: nan-count = 0\n",
            "Geneva: nan-count = 0\n",
            "Hamburg: nan-count = 0\n",
            "Helsinki: nan-count = 0\n",
            "Krakow: nan-count = 0\n",
            "Lisbon: nan-count = 0\n",
            "Ljubljana: nan-count = 0\n",
            "London: nan-count = 0\n",
            "Luxembourg: nan-count = 0\n",
            "Lyon: nan-count = 0\n",
            "Madrid: nan-count = 0\n",
            "Milan: nan-count = 0\n",
            "Munich: nan-count = 0\n",
            "Oporto: nan-count = 0\n",
            "Oslo: nan-count = 0\n",
            "Paris: nan-count = 0\n",
            "Prague: nan-count = 0\n",
            "Rome: nan-count = 0\n",
            "Stockholm: nan-count = 0\n",
            "Vienna: nan-count = 0\n",
            "Warsaw: nan-count = 0\n",
            "Zurich: nan-count = 0\n",
            " Creole: nan-count = 0\n",
            "Afghani: nan-count = 0\n",
            "African: nan-count = 0\n",
            "Albanian: nan-count = 0\n",
            "American: nan-count = 0\n",
            "Arabic: nan-count = 0\n",
            "Argentinean: nan-count = 0\n",
            "Armenian: nan-count = 0\n",
            "Asian: nan-count = 0\n",
            "Australian: nan-count = 0\n",
            "Austrian: nan-count = 0\n",
            "Azerbaijani: nan-count = 0\n",
            "Balti: nan-count = 0\n",
            "Bangladeshi: nan-count = 0\n",
            "Bar: nan-count = 0\n",
            "Barbecue: nan-count = 0\n",
            "Belgian: nan-count = 0\n",
            "Brazilian: nan-count = 0\n",
            "Brew Pub: nan-count = 0\n",
            "British: nan-count = 0\n",
            "Burmese: nan-count = 0\n",
            "Cafe: nan-count = 0\n",
            "Cajun &: nan-count = 0\n",
            "Cambodian: nan-count = 0\n",
            "Canadian: nan-count = 0\n",
            "Caribbean: nan-count = 0\n",
            "Caucasian: nan-count = 0\n",
            "Central American: nan-count = 0\n",
            "Central Asian: nan-count = 0\n",
            "Central European: nan-count = 0\n",
            "Chilean: nan-count = 0\n",
            "Chinese: nan-count = 0\n",
            "Colombian: nan-count = 0\n",
            "Contemporary: nan-count = 0\n",
            "Croatian: nan-count = 0\n",
            "Cuban: nan-count = 0\n",
            "Czech: nan-count = 0\n",
            "Danish: nan-count = 0\n",
            "Delicatessen: nan-count = 0\n",
            "Diner: nan-count = 0\n",
            "Dutch: nan-count = 0\n",
            "Eastern European: nan-count = 0\n",
            "Ecuadorean: nan-count = 0\n",
            "Egyptian: nan-count = 0\n",
            "Ethiopian: nan-count = 0\n",
            "European: nan-count = 0\n",
            "Fast Food: nan-count = 0\n",
            "Filipino: nan-count = 0\n",
            "French: nan-count = 0\n",
            "Fujian: nan-count = 0\n",
            "Fusion: nan-count = 0\n",
            "Gastropub: nan-count = 0\n",
            "Georgian: nan-count = 0\n",
            "German: nan-count = 0\n",
            "Gluten Free Options: nan-count = 0\n",
            "Greek: nan-count = 0\n",
            "Grill: nan-count = 0\n",
            "Halal: nan-count = 0\n",
            "Hawaiian: nan-count = 0\n",
            "Healthy: nan-count = 0\n",
            "Hungarian: nan-count = 0\n",
            "Indian: nan-count = 0\n",
            "Indonesian: nan-count = 0\n",
            "International: nan-count = 0\n",
            "Irish: nan-count = 0\n",
            "Israeli: nan-count = 0\n",
            "Italian: nan-count = 0\n",
            "Jamaican: nan-count = 0\n",
            "Japanese: nan-count = 0\n",
            "Korean: nan-count = 0\n",
            "Kosher: nan-count = 0\n",
            "Latin: nan-count = 0\n",
            "Latvian: nan-count = 0\n",
            "Lebanese: nan-count = 0\n",
            "Malaysian: nan-count = 0\n",
            "Mediterranean: nan-count = 0\n",
            "Mexican: nan-count = 0\n",
            "Middle Eastern: nan-count = 0\n",
            "Minority Chinese: nan-count = 0\n",
            "Mongolian: nan-count = 0\n",
            "Moroccan: nan-count = 0\n",
            "Native American: nan-count = 0\n",
            "Nepali: nan-count = 0\n",
            "New Zealand: nan-count = 0\n",
            "Norwegian: nan-count = 0\n",
            "Pakistani: nan-count = 0\n",
            "Persian: nan-count = 0\n",
            "Peruvian: nan-count = 0\n",
            "Pizza: nan-count = 0\n",
            "Polish: nan-count = 0\n",
            "Polynesian: nan-count = 0\n",
            "Portuguese: nan-count = 0\n",
            "Pub: nan-count = 0\n",
            "Romanian: nan-count = 0\n",
            "Russian: nan-count = 0\n",
            "Salvadoran: nan-count = 0\n",
            "Scandinavian: nan-count = 0\n",
            "Scottish: nan-count = 0\n",
            "Seafood: nan-count = 0\n",
            "Singaporean: nan-count = 0\n",
            "Slovenian: nan-count = 0\n",
            "Soups: nan-count = 0\n",
            "South American: nan-count = 0\n",
            "Southwestern: nan-count = 0\n",
            "Spanish: nan-count = 0\n",
            "Sri Lankan: nan-count = 0\n",
            "Steakhouse: nan-count = 0\n",
            "Street Food: nan-count = 0\n",
            "Sushi: nan-count = 0\n",
            "Swedish: nan-count = 0\n",
            "Swiss: nan-count = 0\n",
            "Taiwanese: nan-count = 0\n",
            "Thai: nan-count = 0\n",
            "Tibetan: nan-count = 0\n",
            "Tunisian: nan-count = 0\n",
            "Turkish: nan-count = 0\n",
            "Ukrainian: nan-count = 0\n",
            "Uzbek: nan-count = 0\n",
            "Vegan Options: nan-count = 0\n",
            "Vegetarian Friendly: nan-count = 0\n",
            "Venezuelan: nan-count = 0\n",
            "Vietnamese: nan-count = 0\n",
            "Welsh: nan-count = 0\n",
            "Wine Bar: nan-count = 0\n",
            "Xinjiang: nan-count = 0\n",
            "Yunnan: nan-count = 0\n",
            "CPU times: user 189 ms, sys: 33.8 ms, total: 223 ms\n",
            "Wall time: 169 ms\n"
          ],
          "name": "stdout"
        }
      ]
    },
    {
      "cell_type": "code",
      "metadata": {
        "id": "4b0ak1mT22Dr"
      },
      "source": [
        "# df1 = pd.concat([df0, pd.get_dummies(df0['City'])])\n"
      ],
      "execution_count": null,
      "outputs": []
    },
    {
      "cell_type": "markdown",
      "metadata": {
        "id": "_V94g4vajTxW"
      },
      "source": [
        "# Разбиваем датафрейм на части, необходимые для обучения и тестирования модели"
      ]
    },
    {
      "cell_type": "code",
      "metadata": {
        "id": "Wm5tpkKDjTxX"
      },
      "source": [
        "# Х - данные с информацией о ресторанах, у - целевая переменная (рейтинги ресторанов)\n",
        "X = df0.drop(['Restaurant_id', 'Rating'], axis = 1)\n",
        "y = df0['Rating']"
      ],
      "execution_count": null,
      "outputs": []
    },
    {
      "cell_type": "code",
      "metadata": {
        "id": "kT0_-P7YjTxZ"
      },
      "source": [
        "# Загружаем специальный инструмент для разбивки:\n",
        "from sklearn.model_selection import train_test_split"
      ],
      "execution_count": null,
      "outputs": []
    },
    {
      "cell_type": "code",
      "metadata": {
        "id": "Tal-_32zjTxc"
      },
      "source": [
        "# Наборы данных с меткой \"train\" будут использоваться для обучения модели, \"test\" - для тестирования.\n",
        "# Для тестирования мы будем использовать 25% от исходного датасета.\n",
        "X_train, X_test, y_train, y_test = train_test_split(X, y, test_size=0.25)"
      ],
      "execution_count": null,
      "outputs": []
    },
    {
      "cell_type": "markdown",
      "metadata": {
        "id": "su4R9kowjTxe"
      },
      "source": [
        "# Создаём, обучаем и тестируем модель"
      ]
    },
    {
      "cell_type": "code",
      "metadata": {
        "id": "afuWt8DNjTxf"
      },
      "source": [
        "# Импортируем необходимые библиотеки:\n",
        "from sklearn.ensemble import RandomForestRegressor # инструмент для создания и обучения модели\n",
        "from sklearn import metrics # инструменты для оценки точности модели"
      ],
      "execution_count": null,
      "outputs": []
    },
    {
      "cell_type": "code",
      "metadata": {
        "id": "Gh9OXgH1jTxh",
        "outputId": "8ba83ac5-135c-4c1e-b206-c0829269665b",
        "colab": {
          "base_uri": "https://localhost:8080/",
          "height": 51
        }
      },
      "source": [
        "%%time\n",
        "# Создаём модель\n",
        "regr = RandomForestRegressor(n_estimators=100)\n",
        "\n"
      ],
      "execution_count": null,
      "outputs": [
        {
          "output_type": "stream",
          "text": [
            "CPU times: user 37 µs, sys: 7 µs, total: 44 µs\n",
            "Wall time: 46.7 µs\n"
          ],
          "name": "stdout"
        }
      ]
    },
    {
      "cell_type": "code",
      "metadata": {
        "id": "HXenuQJ2a18X",
        "outputId": "9b85420a-ca1b-4e40-cd5a-ca48718fa83c",
        "colab": {
          "base_uri": "https://localhost:8080/",
          "height": 170
        }
      },
      "source": [
        "%%time\n",
        "# Обучаем модель на тестовом наборе данных\n",
        "regr.fit(X_train, y_train)\n"
      ],
      "execution_count": null,
      "outputs": [
        {
          "output_type": "stream",
          "text": [
            "CPU times: user 1min 54s, sys: 111 ms, total: 1min 54s\n",
            "Wall time: 1min 55s\n"
          ],
          "name": "stdout"
        },
        {
          "output_type": "execute_result",
          "data": {
            "text/plain": [
              "RandomForestRegressor(bootstrap=True, ccp_alpha=0.0, criterion='mse',\n",
              "                      max_depth=None, max_features='auto', max_leaf_nodes=None,\n",
              "                      max_samples=None, min_impurity_decrease=0.0,\n",
              "                      min_impurity_split=None, min_samples_leaf=1,\n",
              "                      min_samples_split=2, min_weight_fraction_leaf=0.0,\n",
              "                      n_estimators=100, n_jobs=None, oob_score=False,\n",
              "                      random_state=None, verbose=0, warm_start=False)"
            ]
          },
          "metadata": {
            "tags": []
          },
          "execution_count": 34
        }
      ]
    },
    {
      "cell_type": "code",
      "metadata": {
        "id": "ndqnVmpia1rT",
        "outputId": "77d3c10e-7581-45f2-ae16-acb1b04d83af",
        "colab": {
          "base_uri": "https://localhost:8080/",
          "height": 51
        }
      },
      "source": [
        "%%time\n",
        "# Используем обученную модель для предсказания рейтинга ресторанов в тестовой выборке.\n",
        "# Предсказанные значения записываем в переменную y_pred\n",
        "y_pred = regr.predict(X_test)"
      ],
      "execution_count": null,
      "outputs": [
        {
          "output_type": "stream",
          "text": [
            "CPU times: user 792 ms, sys: 985 µs, total: 793 ms\n",
            "Wall time: 794 ms\n"
          ],
          "name": "stdout"
        }
      ]
    },
    {
      "cell_type": "code",
      "metadata": {
        "id": "RBNvqgDrjTxi",
        "outputId": "2f8831f2-5677-482d-f040-649cc7d802e0",
        "colab": {
          "base_uri": "https://localhost:8080/",
          "height": 34
        }
      },
      "source": [
        "# Сравниваем предсказанные значения (y_pred) с реальными (y_test), и смотрим насколько они в среднем отличаются\n",
        "# Метрика называется Mean Absolute Error (MAE) и показывает среднее отклонение предсказанных значений от фактическихmae_\n",
        "mae_value = metrics.mean_absolute_error(y_test, y_pred)\n",
        "print('MAE:', round(mae_value, 3))"
      ],
      "execution_count": null,
      "outputs": [
        {
          "output_type": "stream",
          "text": [
            "MAE: 0.097\n"
          ],
          "name": "stdout"
        }
      ]
    }
  ]
}