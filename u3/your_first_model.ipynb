{
  "nbformat": 4,
  "nbformat_minor": 0,
  "metadata": {
    "kernelspec": {
      "display_name": "Python 3",
      "language": "python",
      "name": "python3"
    },
    "language_info": {
      "codemirror_mode": {
        "name": "ipython",
        "version": 3
      },
      "file_extension": ".py",
      "mimetype": "text/x-python",
      "name": "python",
      "nbconvert_exporter": "python",
      "pygments_lexer": "ipython3",
      "version": "3.7.1"
    },
    "colab": {
      "name": "your_first_model.ipynb",
      "provenance": [],
      "collapsed_sections": [],
      "toc_visible": true
    }
  },
  "cells": [
    {
      "cell_type": "markdown",
      "metadata": {
        "id": "Bo4bdCI5jTw-"
      },
      "source": [
        "# Загрузка Pandas и очистка данных"
      ]
    },
    {
      "cell_type": "code",
      "metadata": {
        "id": "T_uPF0wsjTxA"
      },
      "source": [
        "import pandas as pd\n",
        "import os\n",
        "import re"
      ],
      "execution_count": null,
      "outputs": []
    },
    {
      "cell_type": "code",
      "metadata": {
        "id": "AVLccPIOjTxI"
      },
      "source": [
        "project_dir = r'/content/drive/My Drive/Colab Notebooks/data/u3/p3/'\n",
        "\n",
        "df = pd.read_csv(project_dir + 'main_task.csv')"
      ],
      "execution_count": null,
      "outputs": []
    },
    {
      "cell_type": "code",
      "metadata": {
        "id": "ULC7f1JzqegN"
      },
      "source": [
        "df.sample(7)"
      ],
      "execution_count": null,
      "outputs": []
    },
    {
      "cell_type": "code",
      "metadata": {
        "id": "799Yy2D3oAgw"
      },
      "source": [
        "df.shape"
      ],
      "execution_count": null,
      "outputs": []
    },
    {
      "cell_type": "code",
      "metadata": {
        "id": "G1_X8TMWjTxO"
      },
      "source": [
        "# Ваш код по очистке данных и генерации новых признаков\n",
        "# При необходимости добавьте ячейки"
      ],
      "execution_count": null,
      "outputs": []
    },
    {
      "cell_type": "markdown",
      "metadata": {
        "id": "dC59lNnvo3LK"
      },
      "source": [
        "\n",
        "`Cuisine Style` — кухня или кухни, к которым можно отнести блюда, предлагаемые в ресторане;\n",
        "\n",
        "`Price Range` — диапазон цен в ресторане;\n",
        "\n",
        "`Number of Reviews` — количество отзывов о ресторане;\n",
        "\n"
      ]
    },
    {
      "cell_type": "code",
      "metadata": {
        "id": "WasiF_hljTxS"
      },
      "source": [
        ""
      ],
      "execution_count": null,
      "outputs": []
    },
    {
      "cell_type": "code",
      "metadata": {
        "id": "VxJ37-1dpxRb"
      },
      "source": [
        "df.columns = [ str(x).replace(' ', '_') for x in df.columns]\n",
        "df.columns"
      ],
      "execution_count": null,
      "outputs": []
    },
    {
      "cell_type": "code",
      "metadata": {
        "id": "LaI4xqJsTeaj"
      },
      "source": [
        "for item in df.columns:\n",
        "    print(item, ': nan-count = ', df[item].isna().sum(), sep='')"
      ],
      "execution_count": null,
      "outputs": []
    },
    {
      "cell_type": "code",
      "metadata": {
        "id": "-XPjZMWlpxNj"
      },
      "source": [
        "df['Cuisine_Style'] = df['Cuisine_Style'].fillna(0)"
      ],
      "execution_count": null,
      "outputs": []
    },
    {
      "cell_type": "code",
      "metadata": {
        "id": "AalTG_AGsSJT"
      },
      "source": [
        "\n",
        "df['Price_Range'] = df['Price_Range'].fillna(df['Price_Range'].value_counts().index[0])"
      ],
      "execution_count": null,
      "outputs": []
    },
    {
      "cell_type": "code",
      "metadata": {
        "id": "amuYDLlbsSFZ"
      },
      "source": [
        "df['Number_of_Reviews'] = df['Number_of_Reviews'].fillna(df['Number_of_Reviews'].mean())"
      ],
      "execution_count": null,
      "outputs": []
    },
    {
      "cell_type": "code",
      "metadata": {
        "id": "LHumzIgPsR9U"
      },
      "source": [
        "for item in df.columns:\n",
        "    print(item, ': nan-count = ', df[item].isna().sum(), sep='')"
      ],
      "execution_count": null,
      "outputs": []
    },
    {
      "cell_type": "code",
      "metadata": {
        "id": "tOhhvsadpxJm"
      },
      "source": [
        "df.info()"
      ],
      "execution_count": null,
      "outputs": []
    },
    {
      "cell_type": "code",
      "metadata": {
        "id": "JTJ-ALVB4RQg"
      },
      "source": [
        ""
      ],
      "execution_count": null,
      "outputs": []
    },
    {
      "cell_type": "code",
      "metadata": {
        "id": "jAkfUU5HVXJl"
      },
      "source": [
        ""
      ],
      "execution_count": null,
      "outputs": []
    },
    {
      "cell_type": "code",
      "metadata": {
        "id": "H9ZUDa4H9G8d"
      },
      "source": [
        "df['Cuisine_Style'].head()"
      ],
      "execution_count": null,
      "outputs": []
    },
    {
      "cell_type": "code",
      "metadata": {
        "id": "NJ-q-mSqR7fS"
      },
      "source": [
        "def split_str_to_list(incoming):\n",
        "    if incoming == 0 or len(incoming) == 0:\n",
        "        return ['None']\n",
        "    # print(type(incoming))\n",
        "    return re.findall(r\"[^'][\\w\\s]+[^']\", incoming)\n",
        "\n",
        "# s1 = r\"['Japanese', 'Sushi', 'Asian', 'Grill', 'Vegetarian Friendly', 'Vegan Options', 'Gluten Free Options']\"\n",
        "# split_str_to_list(s1)\n",
        "\n",
        "\n",
        "df['Cuisine_Style'] = df['Cuisine_Style'].apply(lambda x: re.findall(r\"[^'][\\w\\s]+[^']\", str(x)))\n",
        "\n",
        "df['Restaurant_id'] = df['Restaurant_id'].apply(lambda x: int(re.search(r'\\d+', str(x)).group(0)))\n",
        "\n",
        "df['City'] = df['City'].apply(lambda x: str(x).strip())\n",
        "\n",
        "df['ID_TA'] = df['ID_TA'].apply(lambda x: int(re.search(r'\\d+', str(x)).group(0)))\n",
        "\n",
        "price_range_dict = dict(zip(['$$ - $$$', '$', '$$$$'], [500, 5, 5000]))\n",
        "df['Price_Range'] = df['Price_Range'].replace(to_replace=price_range_dict)"
      ],
      "execution_count": null,
      "outputs": []
    },
    {
      "cell_type": "code",
      "metadata": {
        "id": "uFY3vUcX76KX"
      },
      "source": [
        "df.drop(['Reviews', 'URL_TA'], axis = 1, inplace=True)"
      ],
      "execution_count": null,
      "outputs": []
    },
    {
      "cell_type": "code",
      "metadata": {
        "id": "iyou45KZ6ZhH"
      },
      "source": [
        ""
      ],
      "execution_count": null,
      "outputs": []
    },
    {
      "cell_type": "code",
      "metadata": {
        "id": "FdMs1SBx6HTZ"
      },
      "source": [
        "df.sample(7)"
      ],
      "execution_count": null,
      "outputs": []
    },
    {
      "cell_type": "code",
      "metadata": {
        "id": "GpwBCdiL86An"
      },
      "source": [
        "# df['Price_Range'].value_counts().index\n",
        "\n"
      ],
      "execution_count": null,
      "outputs": []
    },
    {
      "cell_type": "markdown",
      "metadata": {
        "id": "1j4RKEP7mhFj"
      },
      "source": [
        "# WARN"
      ]
    },
    {
      "cell_type": "code",
      "metadata": {
        "id": "rI0ejEkFm_jZ"
      },
      "source": [
        "df.shape\n"
      ],
      "execution_count": null,
      "outputs": []
    },
    {
      "cell_type": "code",
      "metadata": {
        "id": "Y_a7wTaEmwlV"
      },
      "source": [
        "# Усекаем датафрейм, чтобы не переполнить ОЗУ\n",
        "# df = df.sample(frac=0.25)\n",
        "# df.shape"
      ],
      "execution_count": null,
      "outputs": []
    },
    {
      "cell_type": "code",
      "metadata": {
        "id": "e65MlUc2VXGK"
      },
      "source": [
        "# df.explode('Cuisine_Style')"
      ],
      "execution_count": null,
      "outputs": []
    },
    {
      "cell_type": "code",
      "metadata": {
        "id": "WDR_pVBfkRDr"
      },
      "source": [
        "# df.explode('Cuisine_Style')['Cuisine_Style'].value_counts()\n",
        "pd.get_dummies(df['City']).shape"
      ],
      "execution_count": null,
      "outputs": []
    },
    {
      "cell_type": "code",
      "metadata": {
        "id": "qDLLajhkf9vx"
      },
      "source": [
        "dfr = pd.get_dummies(df.explode('Cuisine_Style')['Cuisine_Style'])\n"
      ],
      "execution_count": null,
      "outputs": []
    },
    {
      "cell_type": "code",
      "metadata": {
        "id": "63I-0mnVxQfQ"
      },
      "source": [
        "dfr.shape"
      ],
      "execution_count": null,
      "outputs": []
    },
    {
      "cell_type": "code",
      "metadata": {
        "id": "SbI8gh49we4H"
      },
      "source": [
        "df.columns"
      ],
      "execution_count": null,
      "outputs": []
    },
    {
      "cell_type": "code",
      "metadata": {
        "id": "KApSzVRZrinh"
      },
      "source": [
        "df0 = pd.concat([df.drop(['Cuisine_Style', 'City'], axis = 1), dfr])\n",
        "# 'City', 'Price_Range', 'ID_TA'\n",
        "\n"
      ],
      "execution_count": null,
      "outputs": []
    },
    {
      "cell_type": "code",
      "metadata": {
        "id": "ilj9WQQgf26h"
      },
      "source": [
        "df0.shape"
      ],
      "execution_count": null,
      "outputs": []
    },
    {
      "cell_type": "code",
      "metadata": {
        "id": "X8ufsgDBf2-x"
      },
      "source": [
        "df0.sample(7)"
      ],
      "execution_count": null,
      "outputs": []
    },
    {
      "cell_type": "code",
      "metadata": {
        "id": "I4CHroU_5NK-"
      },
      "source": [
        "for item in df0.columns:\n",
        "    print(item, ': nan-count = ', df0[item].isna().sum(), sep='')"
      ],
      "execution_count": null,
      "outputs": []
    },
    {
      "cell_type": "code",
      "metadata": {
        "id": "NuKSojmdf2Op"
      },
      "source": [
        "df0.info()"
      ],
      "execution_count": null,
      "outputs": []
    },
    {
      "cell_type": "code",
      "metadata": {
        "id": "4b0ak1mT22Dr"
      },
      "source": [
        "df1 = pd.concat([df0, pd.get_dummies(df0['City'])])\n"
      ],
      "execution_count": null,
      "outputs": []
    },
    {
      "cell_type": "code",
      "metadata": {
        "id": "STnpR5hi22Jk"
      },
      "source": [
        "df1.sample(9)"
      ],
      "execution_count": null,
      "outputs": []
    },
    {
      "cell_type": "code",
      "metadata": {
        "id": "zrV-4j4C21_1"
      },
      "source": [
        ""
      ],
      "execution_count": null,
      "outputs": []
    },
    {
      "cell_type": "code",
      "metadata": {
        "id": "7E7oDTBVf2a4"
      },
      "source": [
        ""
      ],
      "execution_count": null,
      "outputs": []
    },
    {
      "cell_type": "code",
      "metadata": {
        "id": "TzykDgYvf2T1"
      },
      "source": [
        ""
      ],
      "execution_count": null,
      "outputs": []
    },
    {
      "cell_type": "code",
      "metadata": {
        "id": "nYyBG0ZEpw4y"
      },
      "source": [
        ""
      ],
      "execution_count": null,
      "outputs": []
    },
    {
      "cell_type": "markdown",
      "metadata": {
        "id": "_V94g4vajTxW"
      },
      "source": [
        "# Разбиваем датафрейм на части, необходимые для обучения и тестирования модели"
      ]
    },
    {
      "cell_type": "code",
      "metadata": {
        "id": "Wm5tpkKDjTxX"
      },
      "source": [
        "# Х - данные с информацией о ресторанах, у - целевая переменная (рейтинги ресторанов)\n",
        "X = df.drop(['Restaurant_id', 'Rating'], axis = 1)\n",
        "y = df['Rating']"
      ],
      "execution_count": null,
      "outputs": []
    },
    {
      "cell_type": "code",
      "metadata": {
        "id": "kT0_-P7YjTxZ"
      },
      "source": [
        "# Загружаем специальный инструмент для разбивки:\n",
        "from sklearn.model_selection import train_test_split"
      ],
      "execution_count": null,
      "outputs": []
    },
    {
      "cell_type": "code",
      "metadata": {
        "id": "Tal-_32zjTxc"
      },
      "source": [
        "# Наборы данных с меткой \"train\" будут использоваться для обучения модели, \"test\" - для тестирования.\n",
        "# Для тестирования мы будем использовать 25% от исходного датасета.\n",
        "X_train, X_test, y_train, y_test = train_test_split(X, y, test_size=0.25)"
      ],
      "execution_count": null,
      "outputs": []
    },
    {
      "cell_type": "markdown",
      "metadata": {
        "id": "su4R9kowjTxe"
      },
      "source": [
        "# Создаём, обучаем и тестируем модель"
      ]
    },
    {
      "cell_type": "code",
      "metadata": {
        "id": "afuWt8DNjTxf"
      },
      "source": [
        "# Импортируем необходимые библиотеки:\n",
        "from sklearn.ensemble import RandomForestRegressor # инструмент для создания и обучения модели\n",
        "from sklearn import metrics # инструменты для оценки точности модели"
      ],
      "execution_count": null,
      "outputs": []
    },
    {
      "cell_type": "code",
      "metadata": {
        "id": "Gh9OXgH1jTxh"
      },
      "source": [
        "# Создаём модель\n",
        "regr = RandomForestRegressor(n_estimators=100)\n",
        "\n",
        "# Обучаем модель на тестовом наборе данных\n",
        "regr.fit(X_train, y_train)\n",
        "\n",
        "# Используем обученную модель для предсказания рейтинга ресторанов в тестовой выборке.\n",
        "# Предсказанные значения записываем в переменную y_pred\n",
        "y_pred = regr.predict(X_test)"
      ],
      "execution_count": null,
      "outputs": []
    },
    {
      "cell_type": "code",
      "metadata": {
        "id": "RBNvqgDrjTxi"
      },
      "source": [
        "# Сравниваем предсказанные значения (y_pred) с реальными (y_test), и смотрим насколько они в среднем отличаются\n",
        "# Метрика называется Mean Absolute Error (MAE) и показывает среднее отклонение предсказанных значений от фактических.\n",
        "print('MAE:', metrics.mean_absolute_error(y_test, y_pred))"
      ],
      "execution_count": null,
      "outputs": []
    }
  ]
}