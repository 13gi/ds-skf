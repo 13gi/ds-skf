{
  "nbformat": 4,
  "nbformat_minor": 0,
  "metadata": {
    "colab": {
      "name": "u3-1-Linear_algebra.ipynb",
      "provenance": [],
      "collapsed_sections": [],
      "toc_visible": true,
      "mount_file_id": "1zFvphx3QV2zgpOCiAQLFdsjVAtxY0jp_",
      "authorship_tag": "ABX9TyNsY17tU1hKQo1YOINm5s6p"
    },
    "kernelspec": {
      "name": "python3",
      "display_name": "Python 3"
    }
  },
  "cells": [
    {
      "cell_type": "markdown",
      "metadata": {
        "id": "B5aGcv00buCi",
        "colab_type": "text"
      },
      "source": [
        "# Start"
      ]
    },
    {
      "cell_type": "code",
      "metadata": {
        "id": "VgCvjk_UUcwg",
        "colab_type": "code",
        "colab": {}
      },
      "source": [
        "import warnings; warnings.simplefilter('ignore')\n",
        "\n",
        "import random\n",
        "\n",
        "import pandas as pd\n",
        "import numpy as np\n",
        "import os\n",
        "import re\n",
        "\n",
        "import matplotlib.pyplot as plt\n",
        "import seaborn as sns\n",
        "import cufflinks as cf\n",
        "from plotly.offline import download_plotlyjs, init_notebook_mode, plot, iplot\n",
        "\n",
        "project_dir = r'/content/drive/My Drive/Colab Notebooks/'\n",
        "\n",
        "%matplotlib inline\n"
      ],
      "execution_count": 2,
      "outputs": []
    },
    {
      "cell_type": "code",
      "metadata": {
        "id": "yDKbo3UuWixl",
        "colab_type": "code",
        "colab": {}
      },
      "source": [
        ""
      ],
      "execution_count": null,
      "outputs": []
    },
    {
      "cell_type": "markdown",
      "metadata": {
        "id": "vNx8Xm2VWnWn",
        "colab_type": "text"
      },
      "source": [
        "## 1.2 Векторы\n"
      ]
    },
    {
      "cell_type": "code",
      "metadata": {
        "id": "12WHiIXxWit2",
        "colab_type": "code",
        "colab": {
          "base_uri": "https://localhost:8080/",
          "height": 34
        },
        "outputId": "a52b0378-f866-4f8c-8c67-8a74f90ee460"
      },
      "source": [
        "# Задание 1.2.1\n",
        "\n",
        "apartment = np.array([59.50, 31.40, 19, 2, 60550, 2])\n",
        "apartment"
      ],
      "execution_count": 3,
      "outputs": [
        {
          "output_type": "execute_result",
          "data": {
            "text/plain": [
              "array([5.950e+01, 3.140e+01, 1.900e+01, 2.000e+00, 6.055e+04, 2.000e+00])"
            ]
          },
          "metadata": {
            "tags": []
          },
          "execution_count": 3
        }
      ]
    },
    {
      "cell_type": "code",
      "metadata": {
        "id": "U4ejVz-SWiqu",
        "colab_type": "code",
        "colab": {}
      },
      "source": [
        "# вычислим долю жилой площади в квартире\n",
        "share_living_space = apartment[1]/apartment[0]"
      ],
      "execution_count": 4,
      "outputs": []
    },
    {
      "cell_type": "code",
      "metadata": {
        "id": "RE-BLkV3toNq",
        "colab_type": "code",
        "colab": {}
      },
      "source": [
        "apartment = np.delete(apartment, [0, 1])"
      ],
      "execution_count": 5,
      "outputs": []
    },
    {
      "cell_type": "code",
      "metadata": {
        "id": "OO26BhY0mKTz",
        "colab_type": "code",
        "colab": {}
      },
      "source": [
        "apartment = np.append(apartment, share_living_space)"
      ],
      "execution_count": 6,
      "outputs": []
    },
    {
      "cell_type": "code",
      "metadata": {
        "id": "9reOovi9WtJ5",
        "colab_type": "code",
        "colab": {
          "base_uri": "https://localhost:8080/",
          "height": 34
        },
        "outputId": "610d0b92-71d7-49c1-e2c3-eefcf9a341c2"
      },
      "source": [
        "len(apartment)"
      ],
      "execution_count": 8,
      "outputs": [
        {
          "output_type": "execute_result",
          "data": {
            "text/plain": [
              "5"
            ]
          },
          "metadata": {
            "tags": []
          },
          "execution_count": 8
        }
      ]
    },
    {
      "cell_type": "code",
      "metadata": {
        "id": "0epbqzLKWtF9",
        "colab_type": "code",
        "colab": {
          "base_uri": "https://localhost:8080/",
          "height": 34
        },
        "outputId": "c082c189-b5ff-439c-d0a6-078ae09bcb65"
      },
      "source": [
        "round(apartment[-1], 2)"
      ],
      "execution_count": 10,
      "outputs": [
        {
          "output_type": "execute_result",
          "data": {
            "text/plain": [
              "0.53"
            ]
          },
          "metadata": {
            "tags": []
          },
          "execution_count": 10
        }
      ]
    },
    {
      "cell_type": "code",
      "metadata": {
        "id": "g43FKvgvWtB5",
        "colab_type": "code",
        "colab": {
          "base_uri": "https://localhost:8080/",
          "height": 34
        },
        "outputId": "3b5f2fa4-b4c7-4694-ee7a-19f901e7d378"
      },
      "source": [
        "# Задание 1.2.2\n",
        "len(apartment)\n"
      ],
      "execution_count": 11,
      "outputs": [
        {
          "output_type": "execute_result",
          "data": {
            "text/plain": [
              "5"
            ]
          },
          "metadata": {
            "tags": []
          },
          "execution_count": 11
        }
      ]
    },
    {
      "cell_type": "code",
      "metadata": {
        "id": "1sdiiVIfWs-A",
        "colab_type": "code",
        "colab": {
          "base_uri": "https://localhost:8080/",
          "height": 34
        },
        "outputId": "7712398f-8078-4aac-c2f7-9639c2d7f116"
      },
      "source": [
        "# Задание 1.2.3\n",
        "\n",
        "t = np.array([12, 14, 17, 19, 24, 28, 31, 31, 27, 22, 17, 13])\n",
        "\n",
        "t[5], t[1]"
      ],
      "execution_count": 25,
      "outputs": [
        {
          "output_type": "execute_result",
          "data": {
            "text/plain": [
              "(28, 14)"
            ]
          },
          "metadata": {
            "tags": []
          },
          "execution_count": 25
        }
      ]
    },
    {
      "cell_type": "code",
      "metadata": {
        "id": "Fw8LIx-GWs2Z",
        "colab_type": "code",
        "colab": {
          "base_uri": "https://localhost:8080/",
          "height": 34
        },
        "outputId": "b0a71bd0-42d4-4c0f-ae6e-cdfa3faf3663"
      },
      "source": [
        "t.min() - t[0], t.max() - t[6]"
      ],
      "execution_count": 24,
      "outputs": [
        {
          "output_type": "execute_result",
          "data": {
            "text/plain": [
              "(0, 0)"
            ]
          },
          "metadata": {
            "tags": []
          },
          "execution_count": 24
        }
      ]
    },
    {
      "cell_type": "markdown",
      "metadata": {
        "id": "RQbIJDtNZz7u",
        "colab_type": "text"
      },
      "source": [
        "## 1.3 Базовые операции над векторами"
      ]
    },
    {
      "cell_type": "code",
      "metadata": {
        "id": "6g4KH3OBZ_e-",
        "colab_type": "code",
        "colab": {}
      },
      "source": [
        "# Задание 1.3.3\n",
        "\n",
        "alex = np.array([120,150,90])\n",
        "alex_w = np.array([130,130,130])\n",
        "alex_g = np.array([2, 3, 2.5])*72"
      ],
      "execution_count": 29,
      "outputs": []
    },
    {
      "cell_type": "code",
      "metadata": {
        "id": "92vkd8eIZ_ZQ",
        "colab_type": "code",
        "colab": {
          "base_uri": "https://localhost:8080/",
          "height": 34
        },
        "outputId": "1e9ffb42-056e-455a-fc9f-948edf4dd094"
      },
      "source": [
        "alex_g"
      ],
      "execution_count": 30,
      "outputs": [
        {
          "output_type": "execute_result",
          "data": {
            "text/plain": [
              "array([144., 216., 180.])"
            ]
          },
          "metadata": {
            "tags": []
          },
          "execution_count": 30
        }
      ]
    },
    {
      "cell_type": "code",
      "metadata": {
        "id": "dZPB9zpaZzt2",
        "colab_type": "code",
        "colab": {
          "base_uri": "https://localhost:8080/",
          "height": 34
        },
        "outputId": "aa2a61a2-3f13-4b3f-ae33-e88cdd3a0134"
      },
      "source": [
        "alex + alex_w + alex_g"
      ],
      "execution_count": 31,
      "outputs": [
        {
          "output_type": "execute_result",
          "data": {
            "text/plain": [
              "array([394., 496., 400.])"
            ]
          },
          "metadata": {
            "tags": []
          },
          "execution_count": 31
        }
      ]
    },
    {
      "cell_type": "markdown",
      "metadata": {
        "id": "OCjQ8tqCcM_G",
        "colab_type": "text"
      },
      "source": [
        "## 1.4. Линейная комбинация"
      ]
    },
    {
      "cell_type": "code",
      "metadata": {
        "id": "dXMuncQdZzs2",
        "colab_type": "code",
        "colab": {
          "base_uri": "https://localhost:8080/",
          "height": 34
        },
        "outputId": "d767913b-cbca-40c2-cca3-45de7e887ee3"
      },
      "source": [
        "# Задание 1.4.1\n",
        "x = np.array([4,5])\n",
        "y = np.array([2,1])\n",
        "u = np.array([1,0])\n",
        "k = np.array([2,-3,5])\n",
        "\n",
        "x * k[0] + y * k[1] + u * k[2]"
      ],
      "execution_count": 33,
      "outputs": [
        {
          "output_type": "execute_result",
          "data": {
            "text/plain": [
              "array([7, 7])"
            ]
          },
          "metadata": {
            "tags": []
          },
          "execution_count": 33
        }
      ]
    },
    {
      "cell_type": "code",
      "metadata": {
        "id": "gX657tSCZzom",
        "colab_type": "code",
        "colab": {}
      },
      "source": [
        ""
      ],
      "execution_count": null,
      "outputs": []
    },
    {
      "cell_type": "code",
      "metadata": {
        "id": "jnGxwCNYZznJ",
        "colab_type": "code",
        "colab": {
          "base_uri": "https://localhost:8080/",
          "height": 34
        },
        "outputId": "8d2812ef-29f3-4f12-c38e-844ec2c595ac"
      },
      "source": [
        "# Задание 1.4.2\n",
        "\n",
        "make_count = np.array([3, 4, 5, 9])\n",
        "sell_count = np.array([1, 5, 3, 6])\n",
        "make_price = 200\n",
        "sell_price = 400\n",
        "\n",
        "sell_count * sell_price - make_count * make_price"
      ],
      "execution_count": 37,
      "outputs": [
        {
          "output_type": "execute_result",
          "data": {
            "text/plain": [
              "array([-200, 1200,  200,  600])"
            ]
          },
          "metadata": {
            "tags": []
          },
          "execution_count": 37
        }
      ]
    },
    {
      "cell_type": "code",
      "metadata": {
        "id": "apst0sgXZzgu",
        "colab_type": "code",
        "colab": {}
      },
      "source": [
        ""
      ],
      "execution_count": null,
      "outputs": []
    },
    {
      "cell_type": "code",
      "metadata": {
        "id": "tDyNiHN5Zzau",
        "colab_type": "code",
        "colab": {
          "base_uri": "https://localhost:8080/",
          "height": 34
        },
        "outputId": "80b29272-f727-419b-d379-a796ba3501ef"
      },
      "source": [
        "# Задание 1.4.3\n",
        "x = np.array([-1, -2])\n",
        "y = np.array([1, 2])\n",
        "\n",
        "x + y"
      ],
      "execution_count": 38,
      "outputs": [
        {
          "output_type": "execute_result",
          "data": {
            "text/plain": [
              "array([0, 0])"
            ]
          },
          "metadata": {
            "tags": []
          },
          "execution_count": 38
        }
      ]
    },
    {
      "cell_type": "code",
      "metadata": {
        "id": "0x9X8yooZzT1",
        "colab_type": "code",
        "colab": {
          "base_uri": "https://localhost:8080/",
          "height": 34
        },
        "outputId": "38395ef5-8339-450f-97cc-aa348d942804"
      },
      "source": [
        "x = np.array([-3,-2])\n",
        "y = np.array([1,1])\n",
        "u = np.array([4,3])\n",
        "x + y * (-1) + u"
      ],
      "execution_count": 41,
      "outputs": [
        {
          "output_type": "execute_result",
          "data": {
            "text/plain": [
              "array([0, 0])"
            ]
          },
          "metadata": {
            "tags": []
          },
          "execution_count": 41
        }
      ]
    },
    {
      "cell_type": "code",
      "metadata": {
        "id": "EEocBR5PWsy1",
        "colab_type": "code",
        "colab": {
          "base_uri": "https://localhost:8080/",
          "height": 34
        },
        "outputId": "02509832-ae24-4a1d-d12d-e75e20276fac"
      },
      "source": [
        "x = np.array([-3,-2])\n",
        "y = np.array([1,1])\n",
        "\n",
        "x + 2 * y"
      ],
      "execution_count": 42,
      "outputs": [
        {
          "output_type": "execute_result",
          "data": {
            "text/plain": [
              "array([-1,  0])"
            ]
          },
          "metadata": {
            "tags": []
          },
          "execution_count": 42
        }
      ]
    },
    {
      "cell_type": "markdown",
      "metadata": {
        "id": "Og467NkphnOM",
        "colab_type": "text"
      },
      "source": [
        "## 1.5. Скалярное произведение"
      ]
    },
    {
      "cell_type": "code",
      "metadata": {
        "id": "jNo0jEnrWsvW",
        "colab_type": "code",
        "colab": {
          "base_uri": "https://localhost:8080/",
          "height": 34
        },
        "outputId": "09f0c884-c816-4976-a1a0-cde812dfce69"
      },
      "source": [
        "# Задание 1.5.2\n",
        "\n",
        "x = np.array([4,5,-1])\n",
        "y = np.array([2,0,1])\n",
        "np.dot(x, y)"
      ],
      "execution_count": 43,
      "outputs": [
        {
          "output_type": "execute_result",
          "data": {
            "text/plain": [
              "7"
            ]
          },
          "metadata": {
            "tags": []
          },
          "execution_count": 43
        }
      ]
    },
    {
      "cell_type": "code",
      "metadata": {
        "id": "-X6zTPvNhzR8",
        "colab_type": "code",
        "colab": {
          "base_uri": "https://localhost:8080/",
          "height": 34
        },
        "outputId": "5cfd2a8b-9e00-4acf-987b-dfc2a8d52ac9"
      },
      "source": [
        "# Задание 1.5.4\n",
        "\n",
        "x = np.array([4,6,1])\n",
        "\n",
        "round(np.sqrt(np.dot(x,x)), 2)"
      ],
      "execution_count": 45,
      "outputs": [
        {
          "output_type": "execute_result",
          "data": {
            "text/plain": [
              "7.28"
            ]
          },
          "metadata": {
            "tags": []
          },
          "execution_count": 45
        }
      ]
    },
    {
      "cell_type": "code",
      "metadata": {
        "id": "qkjSUpyGhzK8",
        "colab_type": "code",
        "colab": {}
      },
      "source": [
        "# Задание 1.5.5\n",
        "# вектора называются ортогональными, если их скалярное произведение равно нулю\n"
      ],
      "execution_count": null,
      "outputs": []
    },
    {
      "cell_type": "code",
      "metadata": {
        "id": "eTbnzSR4hzEO",
        "colab_type": "code",
        "colab": {}
      },
      "source": [
        ""
      ],
      "execution_count": null,
      "outputs": []
    },
    {
      "cell_type": "code",
      "metadata": {
        "id": "Q1FXlds3hy7N",
        "colab_type": "code",
        "colab": {}
      },
      "source": [
        ""
      ],
      "execution_count": null,
      "outputs": []
    },
    {
      "cell_type": "code",
      "metadata": {
        "id": "HYtrYczhhswM",
        "colab_type": "code",
        "colab": {}
      },
      "source": [
        ""
      ],
      "execution_count": null,
      "outputs": []
    },
    {
      "cell_type": "code",
      "metadata": {
        "id": "9DVj9oNmhsmk",
        "colab_type": "code",
        "colab": {}
      },
      "source": [
        ""
      ],
      "execution_count": null,
      "outputs": []
    },
    {
      "cell_type": "code",
      "metadata": {
        "id": "iMRH7hqwhslb",
        "colab_type": "code",
        "colab": {}
      },
      "source": [
        ""
      ],
      "execution_count": null,
      "outputs": []
    },
    {
      "cell_type": "code",
      "metadata": {
        "id": "Fym5iuPShsfg",
        "colab_type": "code",
        "colab": {}
      },
      "source": [
        ""
      ],
      "execution_count": null,
      "outputs": []
    },
    {
      "cell_type": "code",
      "metadata": {
        "id": "7mt5DZzvWsro",
        "colab_type": "code",
        "colab": {}
      },
      "source": [
        ""
      ],
      "execution_count": null,
      "outputs": []
    },
    {
      "cell_type": "code",
      "metadata": {
        "id": "bq-KZaMmIzcp",
        "colab_type": "code",
        "colab": {}
      },
      "source": [
        ""
      ],
      "execution_count": null,
      "outputs": []
    },
    {
      "cell_type": "markdown",
      "metadata": {
        "id": "ov_PA2CwpKOB",
        "colab_type": "text"
      },
      "source": [
        "# End\n"
      ]
    },
    {
      "cell_type": "code",
      "metadata": {
        "id": "eSimPwpjUeqL",
        "colab_type": "code",
        "colab": {}
      },
      "source": [
        ""
      ],
      "execution_count": null,
      "outputs": []
    }
  ]
}