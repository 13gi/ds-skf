{
  "nbformat": 4,
  "nbformat_minor": 0,
  "metadata": {
    "colab": {
      "name": "u3-1-Linear_algebra.ipynb",
      "provenance": [],
      "collapsed_sections": [],
      "toc_visible": true,
      "mount_file_id": "1zFvphx3QV2zgpOCiAQLFdsjVAtxY0jp_",
      "authorship_tag": "ABX9TyOYk8VOkbwWvu2tK+PUG44V"
    },
    "kernelspec": {
      "name": "python3",
      "display_name": "Python 3"
    }
  },
  "cells": [
    {
      "cell_type": "markdown",
      "metadata": {
        "id": "B5aGcv00buCi",
        "colab_type": "text"
      },
      "source": [
        "# Start"
      ]
    },
    {
      "cell_type": "code",
      "metadata": {
        "id": "VgCvjk_UUcwg",
        "colab_type": "code",
        "colab": {}
      },
      "source": [
        "import warnings; warnings.simplefilter('ignore')\n",
        "\n",
        "import random\n",
        "\n",
        "import pandas as pd\n",
        "import numpy as np\n",
        "import os\n",
        "import re\n",
        "\n",
        "import matplotlib.pyplot as plt\n",
        "import seaborn as sns\n",
        "import cufflinks as cf\n",
        "from plotly.offline import download_plotlyjs, init_notebook_mode, plot, iplot\n",
        "\n",
        "project_dir = r'/content/drive/My Drive/Colab Notebooks/'\n",
        "\n",
        "%matplotlib inline\n"
      ],
      "execution_count": null,
      "outputs": []
    },
    {
      "cell_type": "code",
      "metadata": {
        "id": "yDKbo3UuWixl",
        "colab_type": "code",
        "colab": {}
      },
      "source": [
        ""
      ],
      "execution_count": null,
      "outputs": []
    },
    {
      "cell_type": "markdown",
      "metadata": {
        "id": "vNx8Xm2VWnWn",
        "colab_type": "text"
      },
      "source": [
        "# 1.2 Векторы\n"
      ]
    },
    {
      "cell_type": "code",
      "metadata": {
        "id": "12WHiIXxWit2",
        "colab_type": "code",
        "colab": {
          "base_uri": "https://localhost:8080/",
          "height": 34
        },
        "outputId": "ccef32c5-85c1-4f59-9781-94095d37bbce"
      },
      "source": [
        "# Задание 1.2.1\n",
        "\n",
        "apartment = np.array([59.50, 31.40, 19, 2, 60550, 2])\n",
        "apartment"
      ],
      "execution_count": null,
      "outputs": [
        {
          "output_type": "execute_result",
          "data": {
            "text/plain": [
              "array([5.950e+01, 3.140e+01, 1.900e+01, 2.000e+00, 6.055e+04, 2.000e+00])"
            ]
          },
          "metadata": {
            "tags": []
          },
          "execution_count": 3
        }
      ]
    },
    {
      "cell_type": "code",
      "metadata": {
        "id": "U4ejVz-SWiqu",
        "colab_type": "code",
        "colab": {}
      },
      "source": [
        "# вычислим долю жилой площади в квартире\n",
        "share_living_space = apartment[1]/apartment[0]"
      ],
      "execution_count": null,
      "outputs": []
    },
    {
      "cell_type": "code",
      "metadata": {
        "id": "RE-BLkV3toNq",
        "colab_type": "code",
        "colab": {}
      },
      "source": [
        "apartment = np.delete(apartment, [0, 1])"
      ],
      "execution_count": null,
      "outputs": []
    },
    {
      "cell_type": "code",
      "metadata": {
        "id": "OO26BhY0mKTz",
        "colab_type": "code",
        "colab": {}
      },
      "source": [
        "apartment = np.append(apartment, share_living_space)"
      ],
      "execution_count": null,
      "outputs": []
    },
    {
      "cell_type": "code",
      "metadata": {
        "id": "9reOovi9WtJ5",
        "colab_type": "code",
        "colab": {
          "base_uri": "https://localhost:8080/",
          "height": 34
        },
        "outputId": "34377b5c-71c1-45b3-f329-7195ddd33bc0"
      },
      "source": [
        "len(apartment)"
      ],
      "execution_count": null,
      "outputs": [
        {
          "output_type": "execute_result",
          "data": {
            "text/plain": [
              "5"
            ]
          },
          "metadata": {
            "tags": []
          },
          "execution_count": 7
        }
      ]
    },
    {
      "cell_type": "code",
      "metadata": {
        "id": "0epbqzLKWtF9",
        "colab_type": "code",
        "colab": {
          "base_uri": "https://localhost:8080/",
          "height": 34
        },
        "outputId": "5e26bb63-1145-415d-93ed-85879f1b5449"
      },
      "source": [
        "round(apartment[-1], 2)"
      ],
      "execution_count": null,
      "outputs": [
        {
          "output_type": "execute_result",
          "data": {
            "text/plain": [
              "0.53"
            ]
          },
          "metadata": {
            "tags": []
          },
          "execution_count": 8
        }
      ]
    },
    {
      "cell_type": "code",
      "metadata": {
        "id": "g43FKvgvWtB5",
        "colab_type": "code",
        "colab": {
          "base_uri": "https://localhost:8080/",
          "height": 34
        },
        "outputId": "250488b0-5f40-4b3b-fd0c-d98cf902c030"
      },
      "source": [
        "# Задание 1.2.2\n",
        "len(apartment)\n"
      ],
      "execution_count": null,
      "outputs": [
        {
          "output_type": "execute_result",
          "data": {
            "text/plain": [
              "5"
            ]
          },
          "metadata": {
            "tags": []
          },
          "execution_count": 9
        }
      ]
    },
    {
      "cell_type": "code",
      "metadata": {
        "id": "1sdiiVIfWs-A",
        "colab_type": "code",
        "colab": {
          "base_uri": "https://localhost:8080/",
          "height": 34
        },
        "outputId": "f9e20e3f-3a69-4107-f34e-17c6adff803a"
      },
      "source": [
        "# Задание 1.2.3\n",
        "\n",
        "t = np.array([12, 14, 17, 19, 24, 28, 31, 31, 27, 22, 17, 13])\n",
        "\n",
        "t[5], t[1]"
      ],
      "execution_count": null,
      "outputs": [
        {
          "output_type": "execute_result",
          "data": {
            "text/plain": [
              "(28, 14)"
            ]
          },
          "metadata": {
            "tags": []
          },
          "execution_count": 10
        }
      ]
    },
    {
      "cell_type": "code",
      "metadata": {
        "id": "Fw8LIx-GWs2Z",
        "colab_type": "code",
        "colab": {
          "base_uri": "https://localhost:8080/",
          "height": 34
        },
        "outputId": "b841e56a-1ea4-4c27-db86-39edb024b0a1"
      },
      "source": [
        "t.min() - t[0], t.max() - t[6]"
      ],
      "execution_count": null,
      "outputs": [
        {
          "output_type": "execute_result",
          "data": {
            "text/plain": [
              "(0, 0)"
            ]
          },
          "metadata": {
            "tags": []
          },
          "execution_count": 11
        }
      ]
    },
    {
      "cell_type": "markdown",
      "metadata": {
        "id": "RQbIJDtNZz7u",
        "colab_type": "text"
      },
      "source": [
        "## 1.3 Базовые операции над векторами"
      ]
    },
    {
      "cell_type": "code",
      "metadata": {
        "id": "6g4KH3OBZ_e-",
        "colab_type": "code",
        "colab": {}
      },
      "source": [
        "# Задание 1.3.3\n",
        "\n",
        "alex = np.array([120,150,90])\n",
        "alex_w = np.array([130,130,130])\n",
        "alex_g = np.array([2, 3, 2.5])*72"
      ],
      "execution_count": null,
      "outputs": []
    },
    {
      "cell_type": "code",
      "metadata": {
        "id": "92vkd8eIZ_ZQ",
        "colab_type": "code",
        "colab": {
          "base_uri": "https://localhost:8080/",
          "height": 34
        },
        "outputId": "527f1765-a60c-4cc6-a07b-ff4e173b69ec"
      },
      "source": [
        "alex_g"
      ],
      "execution_count": null,
      "outputs": [
        {
          "output_type": "execute_result",
          "data": {
            "text/plain": [
              "array([144., 216., 180.])"
            ]
          },
          "metadata": {
            "tags": []
          },
          "execution_count": 13
        }
      ]
    },
    {
      "cell_type": "code",
      "metadata": {
        "id": "dZPB9zpaZzt2",
        "colab_type": "code",
        "colab": {
          "base_uri": "https://localhost:8080/",
          "height": 34
        },
        "outputId": "def75839-1ff0-4c98-978b-2c938b0a3110"
      },
      "source": [
        "alex + alex_w + alex_g"
      ],
      "execution_count": null,
      "outputs": [
        {
          "output_type": "execute_result",
          "data": {
            "text/plain": [
              "array([394., 496., 400.])"
            ]
          },
          "metadata": {
            "tags": []
          },
          "execution_count": 14
        }
      ]
    },
    {
      "cell_type": "markdown",
      "metadata": {
        "id": "OCjQ8tqCcM_G",
        "colab_type": "text"
      },
      "source": [
        "## 1.4. Линейная комбинация"
      ]
    },
    {
      "cell_type": "code",
      "metadata": {
        "id": "dXMuncQdZzs2",
        "colab_type": "code",
        "colab": {
          "base_uri": "https://localhost:8080/",
          "height": 34
        },
        "outputId": "4c3eedda-0669-4737-af88-ff559100f14f"
      },
      "source": [
        "# Задание 1.4.1\n",
        "x = np.array([4,5])\n",
        "y = np.array([2,1])\n",
        "u = np.array([1,0])\n",
        "k = np.array([2,-3,5])\n",
        "\n",
        "x * k[0] + y * k[1] + u * k[2]"
      ],
      "execution_count": null,
      "outputs": [
        {
          "output_type": "execute_result",
          "data": {
            "text/plain": [
              "array([7, 7])"
            ]
          },
          "metadata": {
            "tags": []
          },
          "execution_count": 15
        }
      ]
    },
    {
      "cell_type": "code",
      "metadata": {
        "id": "gX657tSCZzom",
        "colab_type": "code",
        "colab": {}
      },
      "source": [
        ""
      ],
      "execution_count": null,
      "outputs": []
    },
    {
      "cell_type": "code",
      "metadata": {
        "id": "jnGxwCNYZznJ",
        "colab_type": "code",
        "colab": {
          "base_uri": "https://localhost:8080/",
          "height": 34
        },
        "outputId": "ecea8d65-00d0-4dde-fc6e-98922d8d55d7"
      },
      "source": [
        "# Задание 1.4.2\n",
        "\n",
        "make_count = np.array([3, 4, 5, 9])\n",
        "sell_count = np.array([1, 5, 3, 6])\n",
        "make_price = 200\n",
        "sell_price = 400\n",
        "\n",
        "sell_count * sell_price - make_count * make_price"
      ],
      "execution_count": null,
      "outputs": [
        {
          "output_type": "execute_result",
          "data": {
            "text/plain": [
              "array([-200, 1200,  200,  600])"
            ]
          },
          "metadata": {
            "tags": []
          },
          "execution_count": 16
        }
      ]
    },
    {
      "cell_type": "code",
      "metadata": {
        "id": "apst0sgXZzgu",
        "colab_type": "code",
        "colab": {}
      },
      "source": [
        ""
      ],
      "execution_count": null,
      "outputs": []
    },
    {
      "cell_type": "code",
      "metadata": {
        "id": "tDyNiHN5Zzau",
        "colab_type": "code",
        "colab": {
          "base_uri": "https://localhost:8080/",
          "height": 34
        },
        "outputId": "ddd19847-d76e-4123-b456-e74cd25e0c86"
      },
      "source": [
        "# Задание 1.4.3\n",
        "x = np.array([-1, -2])\n",
        "y = np.array([1, 2])\n",
        "\n",
        "x + y"
      ],
      "execution_count": null,
      "outputs": [
        {
          "output_type": "execute_result",
          "data": {
            "text/plain": [
              "array([0, 0])"
            ]
          },
          "metadata": {
            "tags": []
          },
          "execution_count": 17
        }
      ]
    },
    {
      "cell_type": "code",
      "metadata": {
        "id": "0x9X8yooZzT1",
        "colab_type": "code",
        "colab": {
          "base_uri": "https://localhost:8080/",
          "height": 34
        },
        "outputId": "97d2f2ab-bb31-4d82-dbbd-a976807c41b3"
      },
      "source": [
        "x = np.array([-3,-2])\n",
        "y = np.array([1,1])\n",
        "u = np.array([4,3])\n",
        "x + y * (-1) + u"
      ],
      "execution_count": null,
      "outputs": [
        {
          "output_type": "execute_result",
          "data": {
            "text/plain": [
              "array([0, 0])"
            ]
          },
          "metadata": {
            "tags": []
          },
          "execution_count": 18
        }
      ]
    },
    {
      "cell_type": "code",
      "metadata": {
        "id": "EEocBR5PWsy1",
        "colab_type": "code",
        "colab": {
          "base_uri": "https://localhost:8080/",
          "height": 34
        },
        "outputId": "3701af77-bc92-44c6-cdba-897a1d6863ff"
      },
      "source": [
        "x = np.array([-3,-2])\n",
        "y = np.array([1,1])\n",
        "\n",
        "x + 2 * y"
      ],
      "execution_count": null,
      "outputs": [
        {
          "output_type": "execute_result",
          "data": {
            "text/plain": [
              "array([-1,  0])"
            ]
          },
          "metadata": {
            "tags": []
          },
          "execution_count": 19
        }
      ]
    },
    {
      "cell_type": "markdown",
      "metadata": {
        "id": "Og467NkphnOM",
        "colab_type": "text"
      },
      "source": [
        "## 1.5. Скалярное произведение"
      ]
    },
    {
      "cell_type": "code",
      "metadata": {
        "id": "jNo0jEnrWsvW",
        "colab_type": "code",
        "colab": {
          "base_uri": "https://localhost:8080/",
          "height": 34
        },
        "outputId": "89b9ea7c-bcc9-4a3d-b965-83a2183cf27d"
      },
      "source": [
        "# Задание 1.5.2\n",
        "\n",
        "x = np.array([4,5,-1])\n",
        "y = np.array([2,0,1])\n",
        "np.dot(x, y)"
      ],
      "execution_count": null,
      "outputs": [
        {
          "output_type": "execute_result",
          "data": {
            "text/plain": [
              "7"
            ]
          },
          "metadata": {
            "tags": []
          },
          "execution_count": 20
        }
      ]
    },
    {
      "cell_type": "code",
      "metadata": {
        "id": "-X6zTPvNhzR8",
        "colab_type": "code",
        "colab": {
          "base_uri": "https://localhost:8080/",
          "height": 34
        },
        "outputId": "20096975-4ec3-4fdc-8f33-9366da528bfb"
      },
      "source": [
        "# Задание 1.5.4\n",
        "\n",
        "x = np.array([4,6,1])\n",
        "\n",
        "round(np.sqrt(np.dot(x,x)), 2)"
      ],
      "execution_count": null,
      "outputs": [
        {
          "output_type": "execute_result",
          "data": {
            "text/plain": [
              "7.28"
            ]
          },
          "metadata": {
            "tags": []
          },
          "execution_count": 21
        }
      ]
    },
    {
      "cell_type": "code",
      "metadata": {
        "id": "qkjSUpyGhzK8",
        "colab_type": "code",
        "colab": {
          "base_uri": "https://localhost:8080/",
          "height": 34
        },
        "outputId": "21bc6238-5323-49bd-9294-a5ad09e9b291"
      },
      "source": [
        "# Задание 1.5.5\n",
        "# вектора называются ортогональными, если их скалярное произведение равно нулю\n",
        "# пара №1\n",
        "\n",
        "x = np.array([4,2,-1])\n",
        "y = np.array([2,0,1])\n",
        "\n",
        "np.dot(x, y)"
      ],
      "execution_count": null,
      "outputs": [
        {
          "output_type": "execute_result",
          "data": {
            "text/plain": [
              "7"
            ]
          },
          "metadata": {
            "tags": []
          },
          "execution_count": 22
        }
      ]
    },
    {
      "cell_type": "code",
      "metadata": {
        "id": "UWOo_3pVu4SC",
        "colab_type": "code",
        "colab": {
          "base_uri": "https://localhost:8080/",
          "height": 34
        },
        "outputId": "464fc5ce-55a8-4337-b691-3134a9f71b1f"
      },
      "source": [
        "# пара №2\n",
        "\n",
        "x = np.array([4,5,-1])\n",
        "y = np.array([0,0,0])\n",
        "\n",
        "np.dot(x, y)"
      ],
      "execution_count": null,
      "outputs": [
        {
          "output_type": "execute_result",
          "data": {
            "text/plain": [
              "0"
            ]
          },
          "metadata": {
            "tags": []
          },
          "execution_count": 23
        }
      ]
    },
    {
      "cell_type": "code",
      "metadata": {
        "id": "eTbnzSR4hzEO",
        "colab_type": "code",
        "colab": {
          "base_uri": "https://localhost:8080/",
          "height": 34
        },
        "outputId": "5d24debb-8b44-409e-8b79-b3dabf7791f0"
      },
      "source": [
        "# пара №3\n",
        "x = np.array([4,-1])\n",
        "y = np.array([-1,4])\n",
        "\n",
        "np.dot(x, y)"
      ],
      "execution_count": null,
      "outputs": [
        {
          "output_type": "execute_result",
          "data": {
            "text/plain": [
              "-8"
            ]
          },
          "metadata": {
            "tags": []
          },
          "execution_count": 24
        }
      ]
    },
    {
      "cell_type": "code",
      "metadata": {
        "id": "Q1FXlds3hy7N",
        "colab_type": "code",
        "colab": {
          "base_uri": "https://localhost:8080/",
          "height": 34
        },
        "outputId": "de135203-465d-4ee0-f7e1-6a7b78f6169c"
      },
      "source": [
        "# пара №4\n",
        "\n",
        "x = np.array([4,-1])\n",
        "y = np.array([1,4])\n",
        "\n",
        "np.dot(x, y)"
      ],
      "execution_count": null,
      "outputs": [
        {
          "output_type": "execute_result",
          "data": {
            "text/plain": [
              "0"
            ]
          },
          "metadata": {
            "tags": []
          },
          "execution_count": 25
        }
      ]
    },
    {
      "cell_type": "markdown",
      "metadata": {
        "id": "mZgGzECKvY1I",
        "colab_type": "text"
      },
      "source": [
        "## 1.7 Практика"
      ]
    },
    {
      "cell_type": "code",
      "metadata": {
        "id": "HYtrYczhhswM",
        "colab_type": "code",
        "colab": {
          "base_uri": "https://localhost:8080/",
          "height": 328
        },
        "outputId": "8b5ff853-971f-4fa1-e048-dfcdae51cd9c"
      },
      "source": [
        "hut_paradise_df = pd.DataFrame({'1.Rent': [65, 70, 120, 35, 40, 50, 100, 90, 85], \n",
        "                                '2.Area': [50, 52, 80, 33, 33, 44, 80, 65, 65], \n",
        "                                '3.Rooms':[3, 2, 1, 1, 1, 2, 4, 3, 2],\n",
        "                                '4.Floor':[5, 12, 10, 3, 6, 13, 8, 21, 5], \n",
        "                                '5.Demo two weeks':[8, 4, 5, 10, 20, 12, 5, 1, 10], \n",
        "                                '6.Liv.Area': [37, 40, 65, 20, 16, 35, 60, 50, 40]})\n",
        "hut_paradise_df"
      ],
      "execution_count": null,
      "outputs": [
        {
          "output_type": "execute_result",
          "data": {
            "text/html": [
              "<div>\n",
              "<style scoped>\n",
              "    .dataframe tbody tr th:only-of-type {\n",
              "        vertical-align: middle;\n",
              "    }\n",
              "\n",
              "    .dataframe tbody tr th {\n",
              "        vertical-align: top;\n",
              "    }\n",
              "\n",
              "    .dataframe thead th {\n",
              "        text-align: right;\n",
              "    }\n",
              "</style>\n",
              "<table border=\"1\" class=\"dataframe\">\n",
              "  <thead>\n",
              "    <tr style=\"text-align: right;\">\n",
              "      <th></th>\n",
              "      <th>1.Rent</th>\n",
              "      <th>2.Area</th>\n",
              "      <th>3.Rooms</th>\n",
              "      <th>4.Floor</th>\n",
              "      <th>5.Demo two weeks</th>\n",
              "      <th>6.Liv.Area</th>\n",
              "    </tr>\n",
              "  </thead>\n",
              "  <tbody>\n",
              "    <tr>\n",
              "      <th>0</th>\n",
              "      <td>65</td>\n",
              "      <td>50</td>\n",
              "      <td>3</td>\n",
              "      <td>5</td>\n",
              "      <td>8</td>\n",
              "      <td>37</td>\n",
              "    </tr>\n",
              "    <tr>\n",
              "      <th>1</th>\n",
              "      <td>70</td>\n",
              "      <td>52</td>\n",
              "      <td>2</td>\n",
              "      <td>12</td>\n",
              "      <td>4</td>\n",
              "      <td>40</td>\n",
              "    </tr>\n",
              "    <tr>\n",
              "      <th>2</th>\n",
              "      <td>120</td>\n",
              "      <td>80</td>\n",
              "      <td>1</td>\n",
              "      <td>10</td>\n",
              "      <td>5</td>\n",
              "      <td>65</td>\n",
              "    </tr>\n",
              "    <tr>\n",
              "      <th>3</th>\n",
              "      <td>35</td>\n",
              "      <td>33</td>\n",
              "      <td>1</td>\n",
              "      <td>3</td>\n",
              "      <td>10</td>\n",
              "      <td>20</td>\n",
              "    </tr>\n",
              "    <tr>\n",
              "      <th>4</th>\n",
              "      <td>40</td>\n",
              "      <td>33</td>\n",
              "      <td>1</td>\n",
              "      <td>6</td>\n",
              "      <td>20</td>\n",
              "      <td>16</td>\n",
              "    </tr>\n",
              "    <tr>\n",
              "      <th>5</th>\n",
              "      <td>50</td>\n",
              "      <td>44</td>\n",
              "      <td>2</td>\n",
              "      <td>13</td>\n",
              "      <td>12</td>\n",
              "      <td>35</td>\n",
              "    </tr>\n",
              "    <tr>\n",
              "      <th>6</th>\n",
              "      <td>100</td>\n",
              "      <td>80</td>\n",
              "      <td>4</td>\n",
              "      <td>8</td>\n",
              "      <td>5</td>\n",
              "      <td>60</td>\n",
              "    </tr>\n",
              "    <tr>\n",
              "      <th>7</th>\n",
              "      <td>90</td>\n",
              "      <td>65</td>\n",
              "      <td>3</td>\n",
              "      <td>21</td>\n",
              "      <td>1</td>\n",
              "      <td>50</td>\n",
              "    </tr>\n",
              "    <tr>\n",
              "      <th>8</th>\n",
              "      <td>85</td>\n",
              "      <td>65</td>\n",
              "      <td>2</td>\n",
              "      <td>5</td>\n",
              "      <td>10</td>\n",
              "      <td>40</td>\n",
              "    </tr>\n",
              "  </tbody>\n",
              "</table>\n",
              "</div>"
            ],
            "text/plain": [
              "   1.Rent  2.Area  3.Rooms  4.Floor  5.Demo two weeks  6.Liv.Area\n",
              "0      65      50        3        5                 8          37\n",
              "1      70      52        2       12                 4          40\n",
              "2     120      80        1       10                 5          65\n",
              "3      35      33        1        3                10          20\n",
              "4      40      33        1        6                20          16\n",
              "5      50      44        2       13                12          35\n",
              "6     100      80        4        8                 5          60\n",
              "7      90      65        3       21                 1          50\n",
              "8      85      65        2        5                10          40"
            ]
          },
          "metadata": {
            "tags": []
          },
          "execution_count": 36
        }
      ]
    },
    {
      "cell_type": "code",
      "metadata": {
        "id": "e-_tBfZQvVPW",
        "colab_type": "code",
        "colab": {
          "base_uri": "https://localhost:8080/",
          "height": 170
        },
        "outputId": "b120fa7e-10ce-4b0e-fa23-32f5a379dd8d"
      },
      "source": [
        "hut_paradise = hut_paradise_df.values\n",
        "hut_paradise"
      ],
      "execution_count": null,
      "outputs": [
        {
          "output_type": "execute_result",
          "data": {
            "text/plain": [
              "array([[ 65,  50,   3,   5,   8,  37],\n",
              "       [ 70,  52,   2,  12,   4,  40],\n",
              "       [120,  80,   1,  10,   5,  65],\n",
              "       [ 35,  33,   1,   3,  10,  20],\n",
              "       [ 40,  33,   1,   6,  20,  16],\n",
              "       [ 50,  44,   2,  13,  12,  35],\n",
              "       [100,  80,   4,   8,   5,  60],\n",
              "       [ 90,  65,   3,  21,   1,  50],\n",
              "       [ 85,  65,   2,   5,  10,  40]])"
            ]
          },
          "metadata": {
            "tags": []
          },
          "execution_count": 39
        }
      ]
    },
    {
      "cell_type": "code",
      "metadata": {
        "id": "H1_G7zAcvVMD",
        "colab_type": "code",
        "colab": {
          "base_uri": "https://localhost:8080/",
          "height": 34
        },
        "outputId": "50456e51-b525-4804-aa65-7c853f02eb49"
      },
      "source": [
        "# Задание 1.7.1\n",
        "\n",
        "hut_paradise[4]"
      ],
      "execution_count": null,
      "outputs": [
        {
          "output_type": "execute_result",
          "data": {
            "text/plain": [
              "array([40, 33,  1,  6, 20, 16])"
            ]
          },
          "metadata": {
            "tags": []
          },
          "execution_count": 40
        }
      ]
    },
    {
      "cell_type": "code",
      "metadata": {
        "id": "pQEG-vk6MftU",
        "colab_type": "code",
        "colab": {
          "base_uri": "https://localhost:8080/",
          "height": 34
        },
        "outputId": "adf6819d-8f88-4685-cabf-21f8040bdc95"
      },
      "source": [
        "# Задание 1.7.2\n",
        "# Найдите вектор этажей всех квартир:\n",
        "\n",
        "hut_paradise[:,3]"
      ],
      "execution_count": null,
      "outputs": [
        {
          "output_type": "execute_result",
          "data": {
            "text/plain": [
              "array([ 5, 12, 10,  3,  6, 13,  8, 21,  5])"
            ]
          },
          "metadata": {
            "tags": []
          },
          "execution_count": 42
        }
      ]
    },
    {
      "cell_type": "code",
      "metadata": {
        "id": "WwsZllhuvVJY",
        "colab_type": "code",
        "colab": {
          "base_uri": "https://localhost:8080/",
          "height": 34
        },
        "outputId": "15fad8a6-6adb-4af8-de31-e7d440295ab7"
      },
      "source": [
        "# Задание 1.7.3\n",
        "# На каком этаже расположена квартира номер 3?\n",
        "\n",
        "hut_paradise[2,3]"
      ],
      "execution_count": null,
      "outputs": [
        {
          "output_type": "execute_result",
          "data": {
            "text/plain": [
              "10"
            ]
          },
          "metadata": {
            "tags": []
          },
          "execution_count": 43
        }
      ]
    },
    {
      "cell_type": "code",
      "metadata": {
        "id": "9DVj9oNmhsmk",
        "colab_type": "code",
        "colab": {
          "base_uri": "https://localhost:8080/",
          "height": 34
        },
        "outputId": "7f6dc812-a7e9-47ee-e194-bb3161075433"
      },
      "source": [
        "# Задание 1.7.4\n",
        "# 0.0/1.0 point (graded)\n",
        "# Найдите количество квартир:\n",
        "\n",
        "len(hut_paradise[:,0])"
      ],
      "execution_count": null,
      "outputs": [
        {
          "output_type": "execute_result",
          "data": {
            "text/plain": [
              "9"
            ]
          },
          "metadata": {
            "tags": []
          },
          "execution_count": 47
        }
      ]
    },
    {
      "cell_type": "code",
      "metadata": {
        "id": "iMRH7hqwhslb",
        "colab_type": "code",
        "colab": {
          "base_uri": "https://localhost:8080/",
          "height": 34
        },
        "outputId": "e4c1ac9b-6a86-4db8-a2f0-385900c64bb5"
      },
      "source": [
        "# Задание 1.7.5\n",
        "# Вычислите вектор нежилой площади:\n",
        "\n",
        "hut_paradise[:,1] - hut_paradise[:,5]"
      ],
      "execution_count": null,
      "outputs": [
        {
          "output_type": "execute_result",
          "data": {
            "text/plain": [
              "array([13, 12, 15, 13, 17,  9, 20, 15, 25])"
            ]
          },
          "metadata": {
            "tags": []
          },
          "execution_count": 50
        }
      ]
    },
    {
      "cell_type": "code",
      "metadata": {
        "id": "Fym5iuPShsfg",
        "colab_type": "code",
        "colab": {
          "base_uri": "https://localhost:8080/",
          "height": 34
        },
        "outputId": "06c36af4-e46e-49d8-ad20-fff591bc67a1"
      },
      "source": [
        "# Задание 1.7.6\n",
        "# Арендная плата измеряется в тысячах рублей. Пересчитайте стоимость аренды каждой квартиры в тысячах гривен, если курс 10 руб = 4 гривны:\n",
        "\n",
        "hut_paradise[:,0] / 10 *4"
      ],
      "execution_count": null,
      "outputs": [
        {
          "output_type": "execute_result",
          "data": {
            "text/plain": [
              "array([26., 28., 48., 14., 16., 20., 40., 36., 34.])"
            ]
          },
          "metadata": {
            "tags": []
          },
          "execution_count": 53
        }
      ]
    },
    {
      "cell_type": "code",
      "metadata": {
        "id": "e5jIRyzqKuay",
        "colab_type": "code",
        "colab": {
          "base_uri": "https://localhost:8080/",
          "height": 34
        },
        "outputId": "7e419204-3d41-4ddf-dbb7-fb854991d817"
      },
      "source": [
        "# Задание 1.7.7\n",
        "# Пусть в первой квартире один просмотр занимает \n",
        "# 10 минут, \n",
        "# во второй — 20 минут,\n",
        "# в третьей — полчаса, \n",
        "# в четверой — 15 минут, \n",
        "# в пятой — 5 минут, \n",
        "# в шестой — 40 минут, \n",
        "# в седьмой — 20 минут, \n",
        "# в восьмой — 8 минут и \n",
        "# в девятой — 20 минут. \n",
        "# Найдите продолжительность просмотров в минутах во всех квартирах за 2 недели:\n",
        "\n",
        "time_view = np.array([10, 20, 30, 15, 5, 40, 20, 8, 20])\n",
        "\n",
        "sum(hut_paradise[:,4] * time_view)\n"
      ],
      "execution_count": null,
      "outputs": [
        {
          "output_type": "execute_result",
          "data": {
            "text/plain": [
              "1348"
            ]
          },
          "metadata": {
            "tags": []
          },
          "execution_count": 64
        }
      ]
    },
    {
      "cell_type": "code",
      "metadata": {
        "id": "WAifKrbTKuZH",
        "colab_type": "code",
        "colab": {
          "base_uri": "https://localhost:8080/",
          "height": 102
        },
        "outputId": "8193124b-3376-4109-84ed-4b681e434d17"
      },
      "source": [
        "# Задание 1.7.8\n",
        "# Составьте линейную комбинацию векторов v и w с коэффициентами 2 и -3:\n",
        "\n",
        "u=np.array([3,0,1,1,1])\n",
        "v=np.array([0,1,0,2,-2])\n",
        "w=np.array([1,-4,-1,0,-2])\n",
        "\n",
        "print('(u, v):', u @ v)\n",
        "print('(u, w):', u @ w)\n",
        "print('(w, v):', w @ v)\n",
        "\n",
        "d = v * 2 + w * (-3)\n",
        "print(d)\n",
        "\n",
        "print('(w, v):', d @ u)"
      ],
      "execution_count": null,
      "outputs": [
        {
          "output_type": "stream",
          "text": [
            "(u, v): 0\n",
            "(u, w): 0\n",
            "(w, v): 0\n",
            "[-3 14  3  4  2]\n",
            "(w, v): 0\n"
          ],
          "name": "stdout"
        }
      ]
    },
    {
      "cell_type": "code",
      "metadata": {
        "id": "h7ExKJYLKuWH",
        "colab_type": "code",
        "colab": {
          "base_uri": "https://localhost:8080/",
          "height": 51
        },
        "outputId": "2157e905-e902-4b86-87e1-77a9806592f0"
      },
      "source": [
        "# Задание 1.7.10\n",
        "# Нормируйте векторы . В ответ запишите, округлив до трёх знаков после точки:\n",
        "\n",
        "# нормировка\n",
        "u_norm = u /np.linalg.norm(u)\n",
        "print('u нормированный:', u_norm)\n",
        "print('третья координата', round(u_norm[2], 3))"
      ],
      "execution_count": null,
      "outputs": [
        {
          "output_type": "stream",
          "text": [
            "u нормированный: [0.8660254  0.         0.28867513 0.28867513 0.28867513]\n",
            "третья координата 0.289\n"
          ],
          "name": "stdout"
        }
      ]
    },
    {
      "cell_type": "code",
      "metadata": {
        "id": "7mt5DZzvWsro",
        "colab_type": "code",
        "colab": {
          "base_uri": "https://localhost:8080/",
          "height": 51
        },
        "outputId": "dd31bd2f-e751-421c-ed15-b307f5f73c64"
      },
      "source": [
        "# нормировка\n",
        "v_norm = v /np.linalg.norm(v)\n",
        "print('v нормированный:', v_norm)\n",
        "print('четвертая координата', round(v_norm[3], 3))"
      ],
      "execution_count": null,
      "outputs": [
        {
          "output_type": "stream",
          "text": [
            "v нормированный: [ 0.          0.33333333  0.          0.66666667 -0.66666667]\n",
            "четвертая координата 0.667\n"
          ],
          "name": "stdout"
        }
      ]
    },
    {
      "cell_type": "code",
      "metadata": {
        "id": "bq-KZaMmIzcp",
        "colab_type": "code",
        "colab": {
          "base_uri": "https://localhost:8080/",
          "height": 51
        },
        "outputId": "29677cfc-d8de-4523-b180-1936e4f12631"
      },
      "source": [
        "# нормировка\n",
        "w_norm = w /np.linalg.norm(w)\n",
        "print('u нормированный:', w_norm)\n",
        "print('третья координата', round(w_norm[0], 3))"
      ],
      "execution_count": null,
      "outputs": [
        {
          "output_type": "stream",
          "text": [
            "u нормированный: [ 0.21320072 -0.85280287 -0.21320072  0.         -0.42640143]\n",
            "третья координата 0.213\n"
          ],
          "name": "stdout"
        }
      ]
    },
    {
      "cell_type": "markdown",
      "metadata": {
        "id": "xIxVWSR1WAEo",
        "colab_type": "text"
      },
      "source": [
        "# 1.8 Матрицы"
      ]
    },
    {
      "cell_type": "markdown",
      "metadata": {
        "id": "_joeE9v98OHy",
        "colab_type": "text"
      },
      "source": [
        "## 1.9. Базовые действия над матрицами"
      ]
    },
    {
      "cell_type": "code",
      "metadata": {
        "id": "8oLRSoHwWEdn",
        "colab_type": "code",
        "colab": {
          "base_uri": "https://localhost:8080/",
          "height": 51
        },
        "outputId": "bf3f793e-0ced-412e-c7e5-4df856cf9ac8"
      },
      "source": [
        "# Задание 1.9.1\n",
        "\n",
        "a_matrix = np.matrix(\"1,1;5,7\")\n",
        "b_matrix = np.matrix(\"6,1;-5,5\")\n",
        "\n",
        "a_matrix + b_matrix"
      ],
      "execution_count": null,
      "outputs": [
        {
          "output_type": "execute_result",
          "data": {
            "text/plain": [
              "matrix([[ 7,  2],\n",
              "        [ 0, 12]])"
            ]
          },
          "metadata": {
            "tags": []
          },
          "execution_count": 77
        }
      ]
    },
    {
      "cell_type": "code",
      "metadata": {
        "id": "b-P-sKPsWEgv",
        "colab_type": "code",
        "colab": {
          "base_uri": "https://localhost:8080/",
          "height": 68
        },
        "outputId": "e571af67-3a29-4c2d-a1c2-ca03c74e9a11"
      },
      "source": [
        "# Задание 1.9.3\n",
        "\n",
        "np.matrix(\"1,5,4;0,1,0\").T"
      ],
      "execution_count": null,
      "outputs": [
        {
          "output_type": "execute_result",
          "data": {
            "text/plain": [
              "matrix([[1, 0],\n",
              "        [5, 1],\n",
              "        [4, 0]])"
            ]
          },
          "metadata": {
            "tags": []
          },
          "execution_count": 80
        }
      ]
    },
    {
      "cell_type": "code",
      "metadata": {
        "id": "fpFo6EKkVqgl",
        "colab_type": "code",
        "colab": {}
      },
      "source": [
        "# Задание 1.9.4\n",
        "# Выберите верные утверждения:\n",
        "\n",
        "# 1+\n",
        "# 2-\n",
        "# 3-\n",
        "# 4+\n",
        "# 5+"
      ],
      "execution_count": null,
      "outputs": []
    },
    {
      "cell_type": "code",
      "metadata": {
        "id": "HiC4MQY-LaVm",
        "colab_type": "code",
        "colab": {}
      },
      "source": [
        ""
      ],
      "execution_count": null,
      "outputs": []
    },
    {
      "cell_type": "markdown",
      "metadata": {
        "id": "FhK5IsO1Lr_A",
        "colab_type": "text"
      },
      "source": [
        "## 1.10 Практика"
      ]
    },
    {
      "cell_type": "code",
      "metadata": {
        "id": "_QVlf_sJLad2",
        "colab_type": "code",
        "colab": {}
      },
      "source": [
        "\n",
        "Husband_Income = np.array([100,220,140])\n",
        "Wife_Income = np.array([150,200,130])\n",
        "Mother_In_Law_Income = np.array([90,80,100])\n",
        "\n",
        "Husband_Сonsumption = np.array([50,50,60])\n",
        "Wife_Сonsumption = np.array([100,80,140])\n",
        "Mother_In_Law_Сonsumption = np.array([100,20,140])\n"
      ],
      "execution_count": null,
      "outputs": []
    },
    {
      "cell_type": "code",
      "metadata": {
        "id": "7BnLz2ymLaQY",
        "colab_type": "code",
        "colab": {
          "base_uri": "https://localhost:8080/",
          "height": 68
        },
        "outputId": "7c95c173-71ee-49d4-aacc-3b092e6d82cc"
      },
      "source": [
        "# Задание 1.10.1\n",
        "Inc = np.array([Husband_Income, Wife_Income, Mother_In_Law_Income])\n",
        "Inc = Inc.T\n",
        "Inc"
      ],
      "execution_count": null,
      "outputs": [
        {
          "output_type": "execute_result",
          "data": {
            "text/plain": [
              "array([[100, 150,  90],\n",
              "       [220, 200,  80],\n",
              "       [140, 130, 100]])"
            ]
          },
          "metadata": {
            "tags": []
          },
          "execution_count": 90
        }
      ]
    },
    {
      "cell_type": "code",
      "metadata": {
        "id": "ji_H-M9VLaNd",
        "colab_type": "code",
        "colab": {}
      },
      "source": [
        ""
      ],
      "execution_count": null,
      "outputs": []
    },
    {
      "cell_type": "code",
      "metadata": {
        "id": "0R1om8n5M7Qg",
        "colab_type": "code",
        "colab": {
          "base_uri": "https://localhost:8080/",
          "height": 68
        },
        "outputId": "41119299-9e8b-4df9-b885-2b7d0e20edf3"
      },
      "source": [
        "# Задание 1.10.2\n",
        "\n",
        "Cons = np.array([ Husband_Сonsumption, Wife_Сonsumption, Mother_In_Law_Сonsumption ])\n",
        "Cons = Cons.T\n",
        "Cons"
      ],
      "execution_count": null,
      "outputs": [
        {
          "output_type": "execute_result",
          "data": {
            "text/plain": [
              "array([[ 50, 100, 100],\n",
              "       [ 50,  80,  20],\n",
              "       [ 60, 140, 140]])"
            ]
          },
          "metadata": {
            "tags": []
          },
          "execution_count": 91
        }
      ]
    },
    {
      "cell_type": "code",
      "metadata": {
        "id": "kZHy-zUINeRD",
        "colab_type": "code",
        "colab": {
          "base_uri": "https://localhost:8080/",
          "height": 68
        },
        "outputId": "de336aa9-63fb-4d93-8030-bed7982df31b"
      },
      "source": [
        "# Задание 1.10.3\n",
        "\n",
        "Inc * 0.87"
      ],
      "execution_count": null,
      "outputs": [
        {
          "output_type": "execute_result",
          "data": {
            "text/plain": [
              "array([[ 87. , 130.5,  78.3],\n",
              "       [191.4, 174. ,  69.6],\n",
              "       [121.8, 113.1,  87. ]])"
            ]
          },
          "metadata": {
            "tags": []
          },
          "execution_count": 92
        }
      ]
    },
    {
      "cell_type": "code",
      "metadata": {
        "id": "otrliMU2Neb8",
        "colab_type": "code",
        "colab": {
          "base_uri": "https://localhost:8080/",
          "height": 68
        },
        "outputId": "cc61f484-b269-4628-8248-0b77bfbcbbca"
      },
      "source": [
        "# Задание 1.10.4\n",
        "Inc*0.87 - Cons\n"
      ],
      "execution_count": null,
      "outputs": [
        {
          "output_type": "execute_result",
          "data": {
            "text/plain": [
              "array([[ 37. ,  30.5, -21.7],\n",
              "       [141.4,  94. ,  49.6],\n",
              "       [ 61.8, -26.9, -53. ]])"
            ]
          },
          "metadata": {
            "tags": []
          },
          "execution_count": 94
        }
      ]
    },
    {
      "cell_type": "code",
      "metadata": {
        "id": "qhm6bclANeX-",
        "colab_type": "code",
        "colab": {}
      },
      "source": [
        ""
      ],
      "execution_count": null,
      "outputs": []
    },
    {
      "cell_type": "code",
      "metadata": {
        "id": "SRDkyl5OVqqm",
        "colab_type": "code",
        "colab": {}
      },
      "source": [
        ""
      ],
      "execution_count": null,
      "outputs": []
    },
    {
      "cell_type": "code",
      "metadata": {
        "id": "MXZyWDGWVqbZ",
        "colab_type": "code",
        "colab": {}
      },
      "source": [
        ""
      ],
      "execution_count": null,
      "outputs": []
    },
    {
      "cell_type": "markdown",
      "metadata": {
        "id": "ov_PA2CwpKOB",
        "colab_type": "text"
      },
      "source": [
        "# End\n"
      ]
    },
    {
      "cell_type": "code",
      "metadata": {
        "id": "eSimPwpjUeqL",
        "colab_type": "code",
        "colab": {}
      },
      "source": [
        ""
      ],
      "execution_count": null,
      "outputs": []
    }
  ]
}