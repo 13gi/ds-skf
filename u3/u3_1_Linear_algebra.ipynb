{
  "nbformat": 4,
  "nbformat_minor": 0,
  "metadata": {
    "colab": {
      "name": "u3-1-Linear_algebra.ipynb",
      "provenance": [],
      "collapsed_sections": [],
      "toc_visible": true,
      "mount_file_id": "1zFvphx3QV2zgpOCiAQLFdsjVAtxY0jp_",
      "authorship_tag": "ABX9TyPvfiZqEWCmVQnlcwLQyiR2"
    },
    "kernelspec": {
      "name": "python3",
      "display_name": "Python 3"
    }
  },
  "cells": [
    {
      "cell_type": "markdown",
      "metadata": {
        "id": "B5aGcv00buCi",
        "colab_type": "text"
      },
      "source": [
        "# Start"
      ]
    },
    {
      "cell_type": "code",
      "metadata": {
        "id": "VgCvjk_UUcwg",
        "colab_type": "code",
        "colab": {}
      },
      "source": [
        "import warnings; warnings.simplefilter('ignore')\n",
        "\n",
        "import random\n",
        "\n",
        "import pandas as pd\n",
        "import numpy as np\n",
        "import os\n",
        "import re\n",
        "\n",
        "import matplotlib.pyplot as plt\n",
        "import seaborn as sns\n",
        "import cufflinks as cf\n",
        "from plotly.offline import download_plotlyjs, init_notebook_mode, plot, iplot\n",
        "\n",
        "project_dir = r'/content/drive/My Drive/Colab Notebooks/'\n",
        "\n",
        "%matplotlib inline\n"
      ],
      "execution_count": null,
      "outputs": []
    },
    {
      "cell_type": "code",
      "metadata": {
        "id": "yDKbo3UuWixl",
        "colab_type": "code",
        "colab": {}
      },
      "source": [
        ""
      ],
      "execution_count": null,
      "outputs": []
    },
    {
      "cell_type": "markdown",
      "metadata": {
        "id": "vNx8Xm2VWnWn",
        "colab_type": "text"
      },
      "source": [
        "# 1.2 Векторы\n"
      ]
    },
    {
      "cell_type": "code",
      "metadata": {
        "id": "12WHiIXxWit2",
        "colab_type": "code",
        "colab": {}
      },
      "source": [
        "# Задание 1.2.1\n",
        "\n",
        "apartment = np.array([59.50, 31.40, 19, 2, 60550, 2])\n",
        "apartment"
      ],
      "execution_count": null,
      "outputs": []
    },
    {
      "cell_type": "code",
      "metadata": {
        "id": "U4ejVz-SWiqu",
        "colab_type": "code",
        "colab": {}
      },
      "source": [
        "# вычислим долю жилой площади в квартире\n",
        "share_living_space = apartment[1]/apartment[0]"
      ],
      "execution_count": null,
      "outputs": []
    },
    {
      "cell_type": "code",
      "metadata": {
        "id": "RE-BLkV3toNq",
        "colab_type": "code",
        "colab": {}
      },
      "source": [
        "apartment = np.delete(apartment, [0, 1])"
      ],
      "execution_count": null,
      "outputs": []
    },
    {
      "cell_type": "code",
      "metadata": {
        "id": "OO26BhY0mKTz",
        "colab_type": "code",
        "colab": {}
      },
      "source": [
        "apartment = np.append(apartment, share_living_space)"
      ],
      "execution_count": null,
      "outputs": []
    },
    {
      "cell_type": "code",
      "metadata": {
        "id": "9reOovi9WtJ5",
        "colab_type": "code",
        "colab": {}
      },
      "source": [
        "len(apartment)"
      ],
      "execution_count": null,
      "outputs": []
    },
    {
      "cell_type": "code",
      "metadata": {
        "id": "0epbqzLKWtF9",
        "colab_type": "code",
        "colab": {}
      },
      "source": [
        "round(apartment[-1], 2)"
      ],
      "execution_count": null,
      "outputs": []
    },
    {
      "cell_type": "code",
      "metadata": {
        "id": "g43FKvgvWtB5",
        "colab_type": "code",
        "colab": {}
      },
      "source": [
        "# Задание 1.2.2\n",
        "len(apartment)\n"
      ],
      "execution_count": null,
      "outputs": []
    },
    {
      "cell_type": "code",
      "metadata": {
        "id": "1sdiiVIfWs-A",
        "colab_type": "code",
        "colab": {}
      },
      "source": [
        "# Задание 1.2.3\n",
        "\n",
        "t = np.array([12, 14, 17, 19, 24, 28, 31, 31, 27, 22, 17, 13])\n",
        "\n",
        "t[5], t[1]"
      ],
      "execution_count": null,
      "outputs": []
    },
    {
      "cell_type": "code",
      "metadata": {
        "id": "Fw8LIx-GWs2Z",
        "colab_type": "code",
        "colab": {}
      },
      "source": [
        "t.min() - t[0], t.max() - t[6]"
      ],
      "execution_count": null,
      "outputs": []
    },
    {
      "cell_type": "markdown",
      "metadata": {
        "id": "RQbIJDtNZz7u",
        "colab_type": "text"
      },
      "source": [
        "## 1.3 Базовые операции над векторами"
      ]
    },
    {
      "cell_type": "code",
      "metadata": {
        "id": "6g4KH3OBZ_e-",
        "colab_type": "code",
        "colab": {}
      },
      "source": [
        "# Задание 1.3.3\n",
        "\n",
        "alex = np.array([120,150,90])\n",
        "alex_w = np.array([130,130,130])\n",
        "alex_g = np.array([2, 3, 2.5])*72"
      ],
      "execution_count": null,
      "outputs": []
    },
    {
      "cell_type": "code",
      "metadata": {
        "id": "92vkd8eIZ_ZQ",
        "colab_type": "code",
        "colab": {}
      },
      "source": [
        "alex_g"
      ],
      "execution_count": null,
      "outputs": []
    },
    {
      "cell_type": "code",
      "metadata": {
        "id": "dZPB9zpaZzt2",
        "colab_type": "code",
        "colab": {}
      },
      "source": [
        "alex + alex_w + alex_g"
      ],
      "execution_count": null,
      "outputs": []
    },
    {
      "cell_type": "markdown",
      "metadata": {
        "id": "OCjQ8tqCcM_G",
        "colab_type": "text"
      },
      "source": [
        "## 1.4. Линейная комбинация"
      ]
    },
    {
      "cell_type": "code",
      "metadata": {
        "id": "dXMuncQdZzs2",
        "colab_type": "code",
        "colab": {}
      },
      "source": [
        "# Задание 1.4.1\n",
        "x = np.array([4,5])\n",
        "y = np.array([2,1])\n",
        "u = np.array([1,0])\n",
        "k = np.array([2,-3,5])\n",
        "\n",
        "x * k[0] + y * k[1] + u * k[2]"
      ],
      "execution_count": null,
      "outputs": []
    },
    {
      "cell_type": "code",
      "metadata": {
        "id": "gX657tSCZzom",
        "colab_type": "code",
        "colab": {}
      },
      "source": [
        ""
      ],
      "execution_count": null,
      "outputs": []
    },
    {
      "cell_type": "code",
      "metadata": {
        "id": "jnGxwCNYZznJ",
        "colab_type": "code",
        "colab": {}
      },
      "source": [
        "# Задание 1.4.2\n",
        "\n",
        "make_count = np.array([3, 4, 5, 9])\n",
        "sell_count = np.array([1, 5, 3, 6])\n",
        "make_price = 200\n",
        "sell_price = 400\n",
        "\n",
        "sell_count * sell_price - make_count * make_price"
      ],
      "execution_count": null,
      "outputs": []
    },
    {
      "cell_type": "code",
      "metadata": {
        "id": "apst0sgXZzgu",
        "colab_type": "code",
        "colab": {}
      },
      "source": [
        ""
      ],
      "execution_count": null,
      "outputs": []
    },
    {
      "cell_type": "code",
      "metadata": {
        "id": "tDyNiHN5Zzau",
        "colab_type": "code",
        "colab": {}
      },
      "source": [
        "# Задание 1.4.3\n",
        "x = np.array([-1, -2])\n",
        "y = np.array([1, 2])\n",
        "\n",
        "x + y"
      ],
      "execution_count": null,
      "outputs": []
    },
    {
      "cell_type": "code",
      "metadata": {
        "id": "0x9X8yooZzT1",
        "colab_type": "code",
        "colab": {}
      },
      "source": [
        "x = np.array([-3,-2])\n",
        "y = np.array([1,1])\n",
        "u = np.array([4,3])\n",
        "x + y * (-1) + u"
      ],
      "execution_count": null,
      "outputs": []
    },
    {
      "cell_type": "code",
      "metadata": {
        "id": "EEocBR5PWsy1",
        "colab_type": "code",
        "colab": {}
      },
      "source": [
        "x = np.array([-3,-2])\n",
        "y = np.array([1,1])\n",
        "\n",
        "x + 2 * y"
      ],
      "execution_count": null,
      "outputs": []
    },
    {
      "cell_type": "markdown",
      "metadata": {
        "id": "Og467NkphnOM",
        "colab_type": "text"
      },
      "source": [
        "## 1.5. Скалярное произведение"
      ]
    },
    {
      "cell_type": "code",
      "metadata": {
        "id": "jNo0jEnrWsvW",
        "colab_type": "code",
        "colab": {}
      },
      "source": [
        "# Задание 1.5.2\n",
        "\n",
        "x = np.array([4,5,-1])\n",
        "y = np.array([2,0,1])\n",
        "np.dot(x, y)"
      ],
      "execution_count": null,
      "outputs": []
    },
    {
      "cell_type": "code",
      "metadata": {
        "id": "-X6zTPvNhzR8",
        "colab_type": "code",
        "colab": {}
      },
      "source": [
        "# Задание 1.5.4\n",
        "\n",
        "x = np.array([4,6,1])\n",
        "\n",
        "round(np.sqrt(np.dot(x,x)), 2)"
      ],
      "execution_count": null,
      "outputs": []
    },
    {
      "cell_type": "code",
      "metadata": {
        "id": "qkjSUpyGhzK8",
        "colab_type": "code",
        "colab": {}
      },
      "source": [
        "# Задание 1.5.5\n",
        "# вектора называются ортогональными, если их скалярное произведение равно нулю\n",
        "# пара №1\n",
        "\n",
        "x = np.array([4,2,-1])\n",
        "y = np.array([2,0,1])\n",
        "\n",
        "np.dot(x, y)"
      ],
      "execution_count": null,
      "outputs": []
    },
    {
      "cell_type": "code",
      "metadata": {
        "id": "UWOo_3pVu4SC",
        "colab_type": "code",
        "colab": {}
      },
      "source": [
        "# пара №2\n",
        "\n",
        "x = np.array([4,5,-1])\n",
        "y = np.array([0,0,0])\n",
        "\n",
        "np.dot(x, y)"
      ],
      "execution_count": null,
      "outputs": []
    },
    {
      "cell_type": "code",
      "metadata": {
        "id": "eTbnzSR4hzEO",
        "colab_type": "code",
        "colab": {}
      },
      "source": [
        "# пара №3\n",
        "x = np.array([4,-1])\n",
        "y = np.array([-1,4])\n",
        "\n",
        "np.dot(x, y)"
      ],
      "execution_count": null,
      "outputs": []
    },
    {
      "cell_type": "code",
      "metadata": {
        "id": "Q1FXlds3hy7N",
        "colab_type": "code",
        "colab": {}
      },
      "source": [
        "# пара №4\n",
        "\n",
        "x = np.array([4,-1])\n",
        "y = np.array([1,4])\n",
        "\n",
        "np.dot(x, y)"
      ],
      "execution_count": null,
      "outputs": []
    },
    {
      "cell_type": "markdown",
      "metadata": {
        "id": "mZgGzECKvY1I",
        "colab_type": "text"
      },
      "source": [
        "## 1.7 Практика"
      ]
    },
    {
      "cell_type": "code",
      "metadata": {
        "id": "HYtrYczhhswM",
        "colab_type": "code",
        "colab": {}
      },
      "source": [
        "hut_paradise_df = pd.DataFrame({'1.Rent': [65, 70, 120, 35, 40, 50, 100, 90, 85], \n",
        "                                '2.Area': [50, 52, 80, 33, 33, 44, 80, 65, 65], \n",
        "                                '3.Rooms':[3, 2, 1, 1, 1, 2, 4, 3, 2],\n",
        "                                '4.Floor':[5, 12, 10, 3, 6, 13, 8, 21, 5], \n",
        "                                '5.Demo two weeks':[8, 4, 5, 10, 20, 12, 5, 1, 10], \n",
        "                                '6.Liv.Area': [37, 40, 65, 20, 16, 35, 60, 50, 40]})\n",
        "hut_paradise_df"
      ],
      "execution_count": null,
      "outputs": []
    },
    {
      "cell_type": "code",
      "metadata": {
        "id": "e-_tBfZQvVPW",
        "colab_type": "code",
        "colab": {}
      },
      "source": [
        "hut_paradise = hut_paradise_df.values\n",
        "hut_paradise"
      ],
      "execution_count": null,
      "outputs": []
    },
    {
      "cell_type": "code",
      "metadata": {
        "id": "H1_G7zAcvVMD",
        "colab_type": "code",
        "colab": {}
      },
      "source": [
        "# Задание 1.7.1\n",
        "\n",
        "hut_paradise[4]"
      ],
      "execution_count": null,
      "outputs": []
    },
    {
      "cell_type": "code",
      "metadata": {
        "id": "pQEG-vk6MftU",
        "colab_type": "code",
        "colab": {}
      },
      "source": [
        "# Задание 1.7.2\n",
        "# Найдите вектор этажей всех квартир:\n",
        "\n",
        "hut_paradise[:,3]"
      ],
      "execution_count": null,
      "outputs": []
    },
    {
      "cell_type": "code",
      "metadata": {
        "id": "WwsZllhuvVJY",
        "colab_type": "code",
        "colab": {}
      },
      "source": [
        "# Задание 1.7.3\n",
        "# На каком этаже расположена квартира номер 3?\n",
        "\n",
        "hut_paradise[2,3]"
      ],
      "execution_count": null,
      "outputs": []
    },
    {
      "cell_type": "code",
      "metadata": {
        "id": "9DVj9oNmhsmk",
        "colab_type": "code",
        "colab": {}
      },
      "source": [
        "# Задание 1.7.4\n",
        "# 0.0/1.0 point (graded)\n",
        "# Найдите количество квартир:\n",
        "\n",
        "len(hut_paradise[:,0])"
      ],
      "execution_count": null,
      "outputs": []
    },
    {
      "cell_type": "code",
      "metadata": {
        "id": "iMRH7hqwhslb",
        "colab_type": "code",
        "colab": {}
      },
      "source": [
        "# Задание 1.7.5\n",
        "# Вычислите вектор нежилой площади:\n",
        "\n",
        "hut_paradise[:,1] - hut_paradise[:,5]"
      ],
      "execution_count": null,
      "outputs": []
    },
    {
      "cell_type": "code",
      "metadata": {
        "id": "Fym5iuPShsfg",
        "colab_type": "code",
        "colab": {}
      },
      "source": [
        "# Задание 1.7.6\n",
        "# Арендная плата измеряется в тысячах рублей. Пересчитайте стоимость аренды каждой квартиры \n",
        "# в тысячах гривен, если курс 10 руб = 4 гривны:\n",
        "\n",
        "hut_paradise[:,0] / 10 * 4"
      ],
      "execution_count": null,
      "outputs": []
    },
    {
      "cell_type": "code",
      "metadata": {
        "id": "e5jIRyzqKuay",
        "colab_type": "code",
        "colab": {}
      },
      "source": [
        "# Задание 1.7.7\n",
        "# Пусть в первой квартире один просмотр занимает \n",
        "# 10 минут, \n",
        "# во второй — 20 минут,\n",
        "# в третьей — полчаса, \n",
        "# в четверой — 15 минут, \n",
        "# в пятой — 5 минут, \n",
        "# в шестой — 40 минут, \n",
        "# в седьмой — 20 минут, \n",
        "# в восьмой — 8 минут и \n",
        "# в девятой — 20 минут. \n",
        "# Найдите продолжительность просмотров в минутах во всех квартирах за 2 недели:\n",
        "\n",
        "time_view = np.array([10, 20, 30, 15, 5, 40, 20, 8, 20])\n",
        "\n",
        "sum(hut_paradise[:,4] * time_view)\n"
      ],
      "execution_count": null,
      "outputs": []
    },
    {
      "cell_type": "code",
      "metadata": {
        "id": "WAifKrbTKuZH",
        "colab_type": "code",
        "colab": {}
      },
      "source": [
        "# Задание 1.7.8\n",
        "# Составьте линейную комбинацию векторов v и w с коэффициентами 2 и -3:\n",
        "\n",
        "u=np.array([3,0,1,1,1])\n",
        "v=np.array([0,1,0,2,-2])\n",
        "w=np.array([1,-4,-1,0,-2])\n",
        "\n",
        "print('(u, v):', u @ v)\n",
        "print('(u, w):', u @ w)\n",
        "print('(w, v):', w @ v)\n",
        "\n",
        "d = v * 2 + w * (-3)\n",
        "print(d)\n",
        "\n",
        "print('(w, v):', d @ u)"
      ],
      "execution_count": null,
      "outputs": []
    },
    {
      "cell_type": "code",
      "metadata": {
        "id": "h7ExKJYLKuWH",
        "colab_type": "code",
        "colab": {}
      },
      "source": [
        "# Задание 1.7.10\n",
        "# Нормируйте векторы . В ответ запишите, округлив до трёх знаков после точки:\n",
        "\n",
        "# нормировка\n",
        "u_norm = u /np.linalg.norm(u)\n",
        "print('u нормированный:', u_norm)\n",
        "print('третья координата', round(u_norm[2], 3))"
      ],
      "execution_count": null,
      "outputs": []
    },
    {
      "cell_type": "code",
      "metadata": {
        "id": "7mt5DZzvWsro",
        "colab_type": "code",
        "colab": {}
      },
      "source": [
        "# нормировка\n",
        "v_norm = v /np.linalg.norm(v)\n",
        "print('v нормированный:', v_norm)\n",
        "print('четвертая координата', round(v_norm[3], 3))"
      ],
      "execution_count": null,
      "outputs": []
    },
    {
      "cell_type": "code",
      "metadata": {
        "id": "bq-KZaMmIzcp",
        "colab_type": "code",
        "colab": {}
      },
      "source": [
        "# нормировка\n",
        "w_norm = w /np.linalg.norm(w)\n",
        "print('u нормированный:', w_norm)\n",
        "print('третья координата', round(w_norm[0], 3))"
      ],
      "execution_count": null,
      "outputs": []
    },
    {
      "cell_type": "markdown",
      "metadata": {
        "id": "xIxVWSR1WAEo",
        "colab_type": "text"
      },
      "source": [
        "# 1.8 Матрицы"
      ]
    },
    {
      "cell_type": "markdown",
      "metadata": {
        "id": "_joeE9v98OHy",
        "colab_type": "text"
      },
      "source": [
        "## 1.9. Базовые действия над матрицами"
      ]
    },
    {
      "cell_type": "code",
      "metadata": {
        "id": "8oLRSoHwWEdn",
        "colab_type": "code",
        "colab": {}
      },
      "source": [
        "# Задание 1.9.1\n",
        "\n",
        "a_matrix = np.matrix(\"1,1;5,7\")\n",
        "b_matrix = np.matrix(\"6,1;-5,5\")\n",
        "\n",
        "a_matrix + b_matrix"
      ],
      "execution_count": null,
      "outputs": []
    },
    {
      "cell_type": "code",
      "metadata": {
        "id": "b-P-sKPsWEgv",
        "colab_type": "code",
        "colab": {}
      },
      "source": [
        "# Задание 1.9.3\n",
        "\n",
        "np.matrix(\"1,5,4;0,1,0\").T"
      ],
      "execution_count": null,
      "outputs": []
    },
    {
      "cell_type": "code",
      "metadata": {
        "id": "fpFo6EKkVqgl",
        "colab_type": "code",
        "colab": {}
      },
      "source": [
        "# Задание 1.9.4\n",
        "# Выберите верные утверждения:\n",
        "\n",
        "# 1+\n",
        "# 2-\n",
        "# 3-\n",
        "# 4+\n",
        "# 5+"
      ],
      "execution_count": null,
      "outputs": []
    },
    {
      "cell_type": "code",
      "metadata": {
        "id": "HiC4MQY-LaVm",
        "colab_type": "code",
        "colab": {}
      },
      "source": [
        ""
      ],
      "execution_count": null,
      "outputs": []
    },
    {
      "cell_type": "markdown",
      "metadata": {
        "id": "FhK5IsO1Lr_A",
        "colab_type": "text"
      },
      "source": [
        "## 1.10 Практика"
      ]
    },
    {
      "cell_type": "code",
      "metadata": {
        "id": "_QVlf_sJLad2",
        "colab_type": "code",
        "colab": {}
      },
      "source": [
        "\n",
        "Husband_Income = np.array([100,220,140])\n",
        "Wife_Income = np.array([150,200,130])\n",
        "Mother_In_Law_Income = np.array([90,80,100])\n",
        "\n",
        "Husband_Сonsumption = np.array([50,50,60])\n",
        "Wife_Сonsumption = np.array([100,80,140])\n",
        "Mother_In_Law_Сonsumption = np.array([100,20,140])\n"
      ],
      "execution_count": null,
      "outputs": []
    },
    {
      "cell_type": "code",
      "metadata": {
        "id": "7BnLz2ymLaQY",
        "colab_type": "code",
        "colab": {}
      },
      "source": [
        "# Задание 1.10.1\n",
        "Inc = np.array([Husband_Income, Wife_Income, Mother_In_Law_Income])\n",
        "Inc = Inc.T\n",
        "Inc"
      ],
      "execution_count": null,
      "outputs": []
    },
    {
      "cell_type": "code",
      "metadata": {
        "id": "ji_H-M9VLaNd",
        "colab_type": "code",
        "colab": {}
      },
      "source": [
        ""
      ],
      "execution_count": null,
      "outputs": []
    },
    {
      "cell_type": "code",
      "metadata": {
        "id": "0R1om8n5M7Qg",
        "colab_type": "code",
        "colab": {}
      },
      "source": [
        "# Задание 1.10.2\n",
        "\n",
        "Cons = np.array([ Husband_Сonsumption, Wife_Сonsumption, Mother_In_Law_Сonsumption ])\n",
        "Cons = Cons.T\n",
        "Cons"
      ],
      "execution_count": null,
      "outputs": []
    },
    {
      "cell_type": "code",
      "metadata": {
        "id": "kZHy-zUINeRD",
        "colab_type": "code",
        "colab": {}
      },
      "source": [
        "# Задание 1.10.3\n",
        "\n",
        "Inc * 0.87"
      ],
      "execution_count": null,
      "outputs": []
    },
    {
      "cell_type": "code",
      "metadata": {
        "id": "otrliMU2Neb8",
        "colab_type": "code",
        "colab": {}
      },
      "source": [
        "# Задание 1.10.4\n",
        "Inc*0.87 - Cons\n"
      ],
      "execution_count": null,
      "outputs": []
    },
    {
      "cell_type": "code",
      "metadata": {
        "id": "qhm6bclANeX-",
        "colab_type": "code",
        "colab": {}
      },
      "source": [
        ""
      ],
      "execution_count": null,
      "outputs": []
    },
    {
      "cell_type": "markdown",
      "metadata": {
        "id": "edm7NIbDaRzf",
        "colab_type": "text"
      },
      "source": [
        "## 1.11. Умножение матриц\n",
        "\n",
        "* Операция умножения двух матриц возможна только в том случае, если число столбцов в первой матрице равно числу строк во второй\n",
        "* Умножение матриц некоммутативно\n",
        "* Умножать на столбец можно только справа\n",
        "* Умножать вектор-строку на матрицу можно только слева\n"
      ]
    },
    {
      "cell_type": "markdown",
      "metadata": {
        "id": "A2zL327NYbGa",
        "colab_type": "text"
      },
      "source": [
        "## 1.15 Практика"
      ]
    },
    {
      "cell_type": "code",
      "metadata": {
        "id": "k3B_o-mtYh3Y",
        "colab_type": "code",
        "colab": {}
      },
      "source": [
        "# Задание 1.15.1\n",
        "# Найдите произведение матрицы  и вектора  в том порядке, в котором их можно умножить.\n",
        "\n",
        "A = np.array([[5,-1,3,1,2], [-2,8,5,-1,1]])\n",
        "x = np.array([1,2,3,4,5])\n",
        "\n",
        "np.dot(A,x)"
      ],
      "execution_count": null,
      "outputs": []
    },
    {
      "cell_type": "code",
      "metadata": {
        "id": "fq6qDDFHYh1X",
        "colab_type": "code",
        "colab": {}
      },
      "source": [
        ""
      ],
      "execution_count": null,
      "outputs": []
    },
    {
      "cell_type": "code",
      "metadata": {
        "id": "iVFDIEeDYhqc",
        "colab_type": "code",
        "colab": {}
      },
      "source": [
        "# Задание 1.15.2\n",
        "\n",
        "A=np.array( [ [1,9,8,5] , [3,6,3,2] , [3,3,3,3], [0,2,5,9], [4,4,1,2] ] )\n",
        "B=np.array( [ [1,-1,0,1,1] , [-2,0,2,-1,1] ] )\n",
        "\n",
        "c = B @ A\n",
        "c"
      ],
      "execution_count": null,
      "outputs": []
    },
    {
      "cell_type": "code",
      "metadata": {
        "id": "zDHAsYxKYheg",
        "colab_type": "code",
        "colab": {}
      },
      "source": [
        "c[0,3]"
      ],
      "execution_count": null,
      "outputs": []
    },
    {
      "cell_type": "code",
      "metadata": {
        "id": "FP8eQCZhYegk",
        "colab_type": "code",
        "colab": {}
      },
      "source": [
        "# Задание 1.15."
      ],
      "execution_count": null,
      "outputs": []
    },
    {
      "cell_type": "code",
      "metadata": {
        "id": "RRSA-2tgYeWq",
        "colab_type": "code",
        "colab": {}
      },
      "source": [
        ""
      ],
      "execution_count": null,
      "outputs": []
    },
    {
      "cell_type": "code",
      "metadata": {
        "id": "6t9mu1ZsYeMH",
        "colab_type": "code",
        "colab": {}
      },
      "source": [
        "# Задание 1.15."
      ],
      "execution_count": null,
      "outputs": []
    },
    {
      "cell_type": "code",
      "metadata": {
        "id": "SRDkyl5OVqqm",
        "colab_type": "code",
        "colab": {}
      },
      "source": [
        ""
      ],
      "execution_count": null,
      "outputs": []
    },
    {
      "cell_type": "code",
      "metadata": {
        "id": "MXZyWDGWVqbZ",
        "colab_type": "code",
        "colab": {}
      },
      "source": [
        "# Задание 1.15."
      ],
      "execution_count": null,
      "outputs": []
    },
    {
      "cell_type": "code",
      "metadata": {
        "id": "U6-p7z55YoYa",
        "colab_type": "code",
        "colab": {}
      },
      "source": [
        ""
      ],
      "execution_count": null,
      "outputs": []
    },
    {
      "cell_type": "code",
      "metadata": {
        "id": "Ag00KClIYoW8",
        "colab_type": "code",
        "colab": {}
      },
      "source": [
        "# Задание 1.15."
      ],
      "execution_count": null,
      "outputs": []
    },
    {
      "cell_type": "code",
      "metadata": {
        "id": "4eAz3oByYoVd",
        "colab_type": "code",
        "colab": {}
      },
      "source": [
        ""
      ],
      "execution_count": null,
      "outputs": []
    },
    {
      "cell_type": "code",
      "metadata": {
        "id": "pYdrPmAeYoLr",
        "colab_type": "code",
        "colab": {}
      },
      "source": [
        "# Задание 1.15."
      ],
      "execution_count": null,
      "outputs": []
    },
    {
      "cell_type": "code",
      "metadata": {
        "id": "yYw8fn55YoJt",
        "colab_type": "code",
        "colab": {}
      },
      "source": [
        ""
      ],
      "execution_count": null,
      "outputs": []
    },
    {
      "cell_type": "code",
      "metadata": {
        "id": "1Rili8a-Yn_y",
        "colab_type": "code",
        "colab": {}
      },
      "source": [
        "# Задание 1.15."
      ],
      "execution_count": null,
      "outputs": []
    },
    {
      "cell_type": "code",
      "metadata": {
        "id": "7IxWQwulYnxN",
        "colab_type": "code",
        "colab": {}
      },
      "source": [
        ""
      ],
      "execution_count": null,
      "outputs": []
    },
    {
      "cell_type": "markdown",
      "metadata": {
        "id": "ov_PA2CwpKOB",
        "colab_type": "text"
      },
      "source": [
        "# End\n"
      ]
    },
    {
      "cell_type": "code",
      "metadata": {
        "id": "eSimPwpjUeqL",
        "colab_type": "code",
        "colab": {}
      },
      "source": [
        ""
      ],
      "execution_count": null,
      "outputs": []
    }
  ]
}