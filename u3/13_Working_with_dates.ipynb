{
  "nbformat": 4,
  "nbformat_minor": 0,
  "metadata": {
    "colab": {
      "name": "13. Working with dates.ipynb",
      "provenance": [],
      "collapsed_sections": [],
      "authorship_tag": "ABX9TyMsj6WU5qblOJChEzhwOqR6"
    },
    "kernelspec": {
      "name": "python3",
      "display_name": "Python 3"
    }
  },
  "cells": [
    {
      "cell_type": "markdown",
      "metadata": {
        "id": "5ZWiOMvlNz43",
        "colab_type": "text"
      },
      "source": [
        "PYTHON-13. Работа с датами"
      ]
    },
    {
      "cell_type": "code",
      "metadata": {
        "id": "I-TFvOjvNC7y",
        "colab_type": "code",
        "colab": {}
      },
      "source": [
        "import warnings; warnings.simplefilter('ignore')\n",
        "\n",
        "import random\n",
        "import collections\n",
        "\n",
        "import pandas as pd\n",
        "import numpy as np\n",
        "import os\n",
        "import re\n",
        "\n",
        "import datetime\n",
        "from datetime import datetime, timedelta\n",
        "\n",
        "import json  \n",
        "from pprint import pprint\n",
        "import xml.etree.ElementTree as ET\n",
        "\n",
        "from sklearn.preprocessing import MinMaxScaler\n",
        "from sklearn.preprocessing import StandardScaler\n",
        "from sklearn.preprocessing import PolynomialFeatures\n",
        "\n",
        "import matplotlib.pyplot as plt\n",
        "import seaborn as sns\n",
        "import cufflinks as cf\n",
        "from plotly.offline import download_plotlyjs, init_notebook_mode, plot, iplot\n",
        "\n",
        "\n",
        "%matplotlib inline"
      ],
      "execution_count": null,
      "outputs": []
    },
    {
      "cell_type": "markdown",
      "metadata": {
        "id": "3equ9aRTN79U",
        "colab_type": "text"
      },
      "source": [
        "# START"
      ]
    },
    {
      "cell_type": "code",
      "metadata": {
        "id": "DDqilKwINsy5",
        "colab_type": "code",
        "colab": {}
      },
      "source": [
        ""
      ],
      "execution_count": null,
      "outputs": []
    },
    {
      "cell_type": "markdown",
      "metadata": {
        "id": "FHeGdukj6MFj",
        "colab_type": "text"
      },
      "source": [
        "Формат --\tЗначение\n",
        "* `%a`\tназвание дня недели в сокращенном виде\n",
        "* `%A`\tназвание дня недели в полном виде\n",
        "* `%w`\tномер дня недели в виде целого числа\n",
        "* `%d`\tномер дня месяца в виде целого числа\n",
        "* `%b`\tназвание месяца в сокращенном виде\n",
        "* `%B`\tназвание месяца в полном виде\n",
        "* `%m`\tномер месяца в числовом представлении\n",
        "* `%y`\tномер года без столетия\n",
        "* `%Y`\tномер года в полном представлении\n",
        "* `%H`\tколичество часов в 24-часовом формате\n",
        "* `%I`\tколичество часов в 12-часовом формате\n",
        "* `%p`\tдо полудня или после полудня в 12-часовом формате\n",
        "* `%M`\tколичество минут в виде целого числа\n",
        "* `%S`\tколичество секунд в виде целого числа\n",
        "* `%f`\tколичество микросекунд в виде целого числа\n",
        "* `%z`\tчасовой пояс в формате UTC\n",
        "* `%Z`\tназвание часового пояса\n",
        "* `%j`\tномер дня в году\n",
        "* `%U`\tномер недели в году, если считать с воскресенья\n",
        "* `%w`\tномер недели в году, если считать с понедельника\n",
        "* `%c`\tместное представление даты и времени\n",
        "* `%x`\tместное представление даты\n",
        "* `%X`\tместное представление времени\n",
        "* `%%`\tсимвол процента"
      ]
    },
    {
      "cell_type": "markdown",
      "metadata": {
        "id": "7l2ai0J3WS5y",
        "colab_type": "text"
      },
      "source": [
        "## 13.10"
      ]
    },
    {
      "cell_type": "code",
      "metadata": {
        "id": "wMCfAg1DNs7o",
        "colab_type": "code",
        "colab": {
          "base_uri": "https://localhost:8080/",
          "height": 34
        },
        "outputId": "094cd323-47be-473e-f36b-5f06db1731b0"
      },
      "source": [
        "date_string = '05.05.2019 21:00'\n",
        "\n",
        "dt = datetime.strptime(date_string, '%d.%m.%Y %H:%M')\n",
        "\n",
        "dt"
      ],
      "execution_count": null,
      "outputs": [
        {
          "output_type": "execute_result",
          "data": {
            "text/plain": [
              "datetime.datetime(2019, 5, 5, 21, 0)"
            ]
          },
          "metadata": {
            "tags": []
          },
          "execution_count": 6
        }
      ]
    },
    {
      "cell_type": "code",
      "metadata": {
        "id": "HiRePWfJNtEs",
        "colab_type": "code",
        "colab": {
          "base_uri": "https://localhost:8080/",
          "height": 34
        },
        "outputId": "4124ca67-be9e-4b08-e17d-e8498b22b334"
      },
      "source": [
        "dt.hour"
      ],
      "execution_count": null,
      "outputs": [
        {
          "output_type": "execute_result",
          "data": {
            "text/plain": [
              "21"
            ]
          },
          "metadata": {
            "tags": []
          },
          "execution_count": 7
        }
      ]
    },
    {
      "cell_type": "code",
      "metadata": {
        "id": "JjCCWxN2NtCE",
        "colab_type": "code",
        "colab": {
          "base_uri": "https://localhost:8080/",
          "height": 35
        },
        "outputId": "c21379bd-746d-4a55-f6d0-dc96cd7a6567"
      },
      "source": [
        "dt = datetime(2019, 5, 5, 21, 0)\n",
        "dt.strftime('%Y-%m-%d')"
      ],
      "execution_count": null,
      "outputs": [
        {
          "output_type": "execute_result",
          "data": {
            "application/vnd.google.colaboratory.intrinsic+json": {
              "type": "string"
            },
            "text/plain": [
              "'2019-05-05'"
            ]
          },
          "metadata": {
            "tags": []
          },
          "execution_count": 9
        }
      ]
    },
    {
      "cell_type": "code",
      "metadata": {
        "id": "H8pgyzX4NtAO",
        "colab_type": "code",
        "colab": {
          "base_uri": "https://localhost:8080/",
          "height": 35
        },
        "outputId": "33452239-534c-4d70-8340-604234c2be6d"
      },
      "source": [
        "dt = datetime(2019, 4, 1, 18, 59, 44)\n",
        "dt.strftime('%Y-%m-%d')"
      ],
      "execution_count": null,
      "outputs": [
        {
          "output_type": "execute_result",
          "data": {
            "application/vnd.google.colaboratory.intrinsic+json": {
              "type": "string"
            },
            "text/plain": [
              "'2019-04-01'"
            ]
          },
          "metadata": {
            "tags": []
          },
          "execution_count": 10
        }
      ]
    },
    {
      "cell_type": "markdown",
      "metadata": {
        "id": "qTz-sWeP7OgU",
        "colab_type": "text"
      },
      "source": [
        "## 13.12"
      ]
    },
    {
      "cell_type": "code",
      "metadata": {
        "id": "MUqyyIwjNs6H",
        "colab_type": "code",
        "colab": {
          "base_uri": "https://localhost:8080/",
          "height": 35
        },
        "outputId": "622c1aa5-863e-4dcc-abdc-3bee63b8aa8d"
      },
      "source": [
        "# 13.12.1\n",
        "# Преобразуйте её в строку с форматом %d.%m.%Y.\n",
        "\n",
        "date_string = '2019-07-07T18:59:33'\n",
        "\n",
        "date_format = datetime.strptime(date_string, '%Y-%m-%dT%H:%M:%S')\n",
        "date_format = datetime.strftime(date_format, '%d.%m.%Y')\n",
        "\n",
        "date_format"
      ],
      "execution_count": null,
      "outputs": [
        {
          "output_type": "execute_result",
          "data": {
            "application/vnd.google.colaboratory.intrinsic+json": {
              "type": "string"
            },
            "text/plain": [
              "'07.07.2019'"
            ]
          },
          "metadata": {
            "tags": []
          },
          "execution_count": 3
        }
      ]
    },
    {
      "cell_type": "code",
      "metadata": {
        "id": "hFphvTFMN_P8",
        "colab_type": "code",
        "colab": {
          "base_uri": "https://localhost:8080/",
          "height": 68
        },
        "outputId": "9b16e505-82fd-4546-a595-5f4f3c3dbdac"
      },
      "source": [
        "# Задание 13.12.2\n",
        "# У вас есть список запуска отчёта по расписанию:\n",
        "# dt_list = ['2019-07-07T18:59:06', '2019-07-07T19:00:02', '2019-07-07T19:01:04']\n",
        "# Переведите эти значения из строк в формат datetime и запишите результат в переменную datetime_list. \n",
        "# В переменной datetime_list должен быть список элементов вида datetime(2019, 7, 7, 18, 59, 6)\n",
        "\n",
        "dt_list = ['2019-07-07T18:59:06', '2019-07-07T19:00:02', '2019-07-07T19:01:04']\n",
        "datetime_list = []\n",
        "\n",
        "for item in dt_list:\n",
        "    datetime_list.append(datetime.strptime(item, '%Y-%m-%dT%H:%M:%S'))\n",
        "\n",
        "datetime_list"
      ],
      "execution_count": null,
      "outputs": [
        {
          "output_type": "execute_result",
          "data": {
            "text/plain": [
              "[datetime.datetime(2019, 7, 7, 18, 59, 6),\n",
              " datetime.datetime(2019, 7, 7, 19, 0, 2),\n",
              " datetime.datetime(2019, 7, 7, 19, 1, 4)]"
            ]
          },
          "metadata": {
            "tags": []
          },
          "execution_count": 5
        }
      ]
    },
    {
      "cell_type": "code",
      "metadata": {
        "id": "Gr81YEOfN_ML",
        "colab_type": "code",
        "colab": {
          "base_uri": "https://localhost:8080/",
          "height": 34
        },
        "outputId": "968ee065-7d01-41d8-975b-b3cea9bbc780"
      },
      "source": [
        "# 13.12.3\n",
        "datetime_list = [\n",
        "    datetime(2019, 7, 7, 18, 59, 6),\n",
        "    datetime(2019, 7, 7, 19, 0, 2),\n",
        "    datetime(2019, 7, 7, 19, 1, 4)\n",
        "]\n",
        "\n",
        "start_time = ['18:59:00', '19:00:00', '19:01:00']\n",
        "\n",
        "report_seconds  = []\n",
        "\n",
        "for item in datetime_list:\n",
        "    report_seconds.append(item.second)\n",
        "\n",
        "report_seconds"
      ],
      "execution_count": null,
      "outputs": [
        {
          "output_type": "execute_result",
          "data": {
            "text/plain": [
              "[6, 2, 4]"
            ]
          },
          "metadata": {
            "tags": []
          },
          "execution_count": 13
        }
      ]
    },
    {
      "cell_type": "code",
      "metadata": {
        "id": "d1qsyVC2OAje",
        "colab_type": "code",
        "colab": {
          "base_uri": "https://localhost:8080/",
          "height": 34
        },
        "outputId": "e46f81f2-8352-4995-ec72-59f3b755cea0"
      },
      "source": [
        "# 13.12.4\n",
        "report_seconds = [6, 2, 4]\n",
        "\n",
        "total_time = sum(report_seconds)\n",
        "\n"
      ],
      "execution_count": null,
      "outputs": [
        {
          "output_type": "execute_result",
          "data": {
            "text/plain": [
              "12"
            ]
          },
          "metadata": {
            "tags": []
          },
          "execution_count": 15
        }
      ]
    },
    {
      "cell_type": "markdown",
      "metadata": {
        "id": "AFziOmnXuu7k",
        "colab_type": "text"
      },
      "source": [
        "## 13.13 timedelta"
      ]
    },
    {
      "cell_type": "code",
      "metadata": {
        "id": "D3qRGlXFOAdc",
        "colab_type": "code",
        "colab": {
          "base_uri": "https://localhost:8080/",
          "height": 34
        },
        "outputId": "769e5cd4-43fb-4236-e197-5fb687eb784b"
      },
      "source": [
        "start_date = '2019-01-25'\n",
        "\n",
        "start_date_datetime = datetime.strptime(start_date, '%Y-%m-%d')\n",
        "\n",
        "start_date_datetime + timedelta(days = 1)\n"
      ],
      "execution_count": null,
      "outputs": [
        {
          "output_type": "execute_result",
          "data": {
            "text/plain": [
              "datetime.datetime(2019, 1, 26, 0, 0)"
            ]
          },
          "metadata": {
            "tags": []
          },
          "execution_count": 19
        }
      ]
    },
    {
      "cell_type": "code",
      "metadata": {
        "id": "IEjLcIiIuuUd",
        "colab_type": "code",
        "colab": {
          "base_uri": "https://localhost:8080/",
          "height": 34
        },
        "outputId": "c97b1d61-a931-46ec-daf6-9d86cf26d78e"
      },
      "source": [
        "start_date_datetime + timedelta(days = -7)\n"
      ],
      "execution_count": null,
      "outputs": [
        {
          "output_type": "execute_result",
          "data": {
            "text/plain": [
              "datetime.datetime(2019, 1, 18, 0, 0)"
            ]
          },
          "metadata": {
            "tags": []
          },
          "execution_count": 20
        }
      ]
    },
    {
      "cell_type": "code",
      "metadata": {
        "id": "IEvLhk2-vOxU",
        "colab_type": "code",
        "colab": {
          "base_uri": "https://localhost:8080/",
          "height": 34
        },
        "outputId": "9f3e4f7c-65df-4ed5-9e9e-3e65c484cb43"
      },
      "source": [
        "start_date_datetime += timedelta(hours = 1)\n",
        "\n",
        "start_date_datetime"
      ],
      "execution_count": null,
      "outputs": [
        {
          "output_type": "execute_result",
          "data": {
            "text/plain": [
              "datetime.datetime(2019, 1, 25, 1, 0)"
            ]
          },
          "metadata": {
            "tags": []
          },
          "execution_count": 21
        }
      ]
    },
    {
      "cell_type": "code",
      "metadata": {
        "id": "3Sp2S5q4vO_E",
        "colab_type": "code",
        "colab": {}
      },
      "source": [
        ""
      ],
      "execution_count": null,
      "outputs": []
    },
    {
      "cell_type": "markdown",
      "metadata": {
        "id": "vhlP38imvq4K",
        "colab_type": "text"
      },
      "source": [
        "## 13.14 Перебор дат в цикле"
      ]
    },
    {
      "cell_type": "code",
      "metadata": {
        "id": "I6Yl9NClvO2a",
        "colab_type": "code",
        "colab": {
          "base_uri": "https://localhost:8080/",
          "height": 170
        },
        "outputId": "1adaa812-067b-4570-eb78-18630226243d"
      },
      "source": [
        "start_date = '2019-01-01'\n",
        "end_date = '2019-01-07'\n",
        "\n",
        "start_date_datetime = datetime.strptime(start_date, '%Y-%m-%d')\n",
        "end_date_datetime = datetime.strptime(end_date, '%Y-%m-%d')\n",
        "\n",
        "print(start_date_datetime, '..', end_date_datetime, '\\n') \n",
        "\n",
        "current_day = start_date_datetime\n",
        "\n",
        "\n",
        "while current_day <= end_date_datetime:\n",
        "    # print(current_day)\n",
        "    print(current_day.strftime('%Y-%m-%d'))\n",
        "    current_day += timedelta(days=1)\n"
      ],
      "execution_count": null,
      "outputs": [
        {
          "output_type": "stream",
          "text": [
            "2019-01-01 00:00:00 .. 2019-01-07 00:00:00 \n",
            "\n",
            "2019-01-01\n",
            "2019-01-02\n",
            "2019-01-03\n",
            "2019-01-04\n",
            "2019-01-05\n",
            "2019-01-06\n",
            "2019-01-07\n"
          ],
          "name": "stdout"
        }
      ]
    },
    {
      "cell_type": "code",
      "metadata": {
        "id": "wteEKGB_uuHL",
        "colab_type": "code",
        "colab": {}
      },
      "source": [
        ""
      ],
      "execution_count": null,
      "outputs": []
    },
    {
      "cell_type": "code",
      "metadata": {
        "id": "Sxv0A-cDvPU9",
        "colab_type": "code",
        "colab": {}
      },
      "source": [
        ""
      ],
      "execution_count": null,
      "outputs": []
    },
    {
      "cell_type": "code",
      "metadata": {
        "id": "aPKQSi7ovPer",
        "colab_type": "code",
        "colab": {}
      },
      "source": [
        ""
      ],
      "execution_count": null,
      "outputs": []
    },
    {
      "cell_type": "code",
      "metadata": {
        "id": "SOZ453hcvPPi",
        "colab_type": "code",
        "colab": {}
      },
      "source": [
        ""
      ],
      "execution_count": null,
      "outputs": []
    },
    {
      "cell_type": "code",
      "metadata": {
        "id": "cxxDl2fSvOCY",
        "colab_type": "code",
        "colab": {}
      },
      "source": [
        ""
      ],
      "execution_count": null,
      "outputs": []
    },
    {
      "cell_type": "code",
      "metadata": {
        "id": "rMEuDyGYvOQT",
        "colab_type": "code",
        "colab": {}
      },
      "source": [
        ""
      ],
      "execution_count": null,
      "outputs": []
    },
    {
      "cell_type": "code",
      "metadata": {
        "id": "OPHPraLBvOLw",
        "colab_type": "code",
        "colab": {}
      },
      "source": [
        ""
      ],
      "execution_count": null,
      "outputs": []
    },
    {
      "cell_type": "code",
      "metadata": {
        "id": "KUb4rBL2vN9B",
        "colab_type": "code",
        "colab": {}
      },
      "source": [
        ""
      ],
      "execution_count": null,
      "outputs": []
    },
    {
      "cell_type": "code",
      "metadata": {
        "id": "oYJhmJvQN_5W",
        "colab_type": "code",
        "colab": {}
      },
      "source": [
        ""
      ],
      "execution_count": null,
      "outputs": []
    },
    {
      "cell_type": "markdown",
      "metadata": {
        "id": "wJRqiGIjOBF2",
        "colab_type": "text"
      },
      "source": [
        "# END"
      ]
    },
    {
      "cell_type": "code",
      "metadata": {
        "id": "_nroXMdgNs3c",
        "colab_type": "code",
        "colab": {}
      },
      "source": [
        ""
      ],
      "execution_count": null,
      "outputs": []
    }
  ]
}