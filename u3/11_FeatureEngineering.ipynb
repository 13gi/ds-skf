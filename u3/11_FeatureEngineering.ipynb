{
  "nbformat": 4,
  "nbformat_minor": 0,
  "metadata": {
    "colab": {
      "name": "11-FeatureEngineering.ipynb",
      "provenance": [],
      "collapsed_sections": [],
      "toc_visible": true,
      "mount_file_id": "1zFvphx3QV2zgpOCiAQLFdsjVAtxY0jp_",
      "authorship_tag": "ABX9TyMEGbpKJPmi7veefchQlUDc"
    },
    "kernelspec": {
      "name": "python3",
      "display_name": "Python 3"
    }
  },
  "cells": [
    {
      "cell_type": "markdown",
      "metadata": {
        "id": "B5aGcv00buCi",
        "colab_type": "text"
      },
      "source": [
        "# Start"
      ]
    },
    {
      "cell_type": "code",
      "metadata": {
        "id": "VgCvjk_UUcwg",
        "colab_type": "code",
        "colab": {}
      },
      "source": [
        "import warnings; warnings.simplefilter('ignore')\n",
        "\n",
        "import random\n",
        "\n",
        "import pandas as pd\n",
        "import numpy as np\n",
        "import os\n",
        "import re\n",
        "\n",
        "import matplotlib.pyplot as plt\n",
        "import seaborn as sns\n",
        "import cufflinks as cf\n",
        "from plotly.offline import download_plotlyjs, init_notebook_mode, plot, iplot\n",
        "\n",
        "project_dir = r'/content/drive/My Drive/Colab Notebooks/'\n",
        "\n",
        "%matplotlib inline\n"
      ],
      "execution_count": null,
      "outputs": []
    },
    {
      "cell_type": "code",
      "metadata": {
        "id": "RE-BLkV3toNq",
        "colab_type": "code",
        "colab": {}
      },
      "source": [
        ""
      ],
      "execution_count": null,
      "outputs": []
    },
    {
      "cell_type": "markdown",
      "metadata": {
        "id": "9tmGj4CnpDvK",
        "colab_type": "text"
      },
      "source": [
        "## 11.1 Пропуски"
      ]
    },
    {
      "cell_type": "code",
      "metadata": {
        "id": "O9TAg4x8UfIt",
        "colab_type": "code",
        "colab": {
          "base_uri": "https://localhost:8080/",
          "height": 34
        },
        "outputId": "178d265f-16c2-4ec8-98f9-80a12de4c865"
      },
      "source": [
        "os.listdir(project_dir + 'data/u3/')"
      ],
      "execution_count": null,
      "outputs": [
        {
          "output_type": "execute_result",
          "data": {
            "text/plain": [
              "['log.csv', 'users.csv']"
            ]
          },
          "metadata": {
            "tags": []
          },
          "execution_count": 57
        }
      ]
    },
    {
      "cell_type": "code",
      "metadata": {
        "id": "5Mo45HLZUfEl",
        "colab_type": "code",
        "colab": {
          "base_uri": "https://localhost:8080/",
          "height": 328
        },
        "outputId": "908624dd-eca4-4243-a117-ae3641779415"
      },
      "source": [
        "log = pd.read_csv(project_dir + 'data/u3/' + 'log.csv', header=None)\n",
        "log.columns = ['user_id', 'time', 'bet', 'win']\n",
        "\n",
        "log.sample(9)"
      ],
      "execution_count": null,
      "outputs": [
        {
          "output_type": "execute_result",
          "data": {
            "text/html": [
              "<div>\n",
              "<style scoped>\n",
              "    .dataframe tbody tr th:only-of-type {\n",
              "        vertical-align: middle;\n",
              "    }\n",
              "\n",
              "    .dataframe tbody tr th {\n",
              "        vertical-align: top;\n",
              "    }\n",
              "\n",
              "    .dataframe thead th {\n",
              "        text-align: right;\n",
              "    }\n",
              "</style>\n",
              "<table border=\"1\" class=\"dataframe\">\n",
              "  <thead>\n",
              "    <tr style=\"text-align: right;\">\n",
              "      <th></th>\n",
              "      <th>user_id</th>\n",
              "      <th>time</th>\n",
              "      <th>bet</th>\n",
              "      <th>win</th>\n",
              "    </tr>\n",
              "  </thead>\n",
              "  <tbody>\n",
              "    <tr>\n",
              "      <th>121</th>\n",
              "      <td>Запись пользователя № - user_924</td>\n",
              "      <td>[2019-01-12 4:50:34</td>\n",
              "      <td>NaN</td>\n",
              "      <td>NaN</td>\n",
              "    </tr>\n",
              "    <tr>\n",
              "      <th>638</th>\n",
              "      <td>Запись пользователя № - user_962</td>\n",
              "      <td>[2019-03-10 17:53:30</td>\n",
              "      <td>NaN</td>\n",
              "      <td>NaN</td>\n",
              "    </tr>\n",
              "    <tr>\n",
              "      <th>867</th>\n",
              "      <td>Запись пользователя № - user_952</td>\n",
              "      <td>[2019-04-06 8:34:37</td>\n",
              "      <td>9754.0</td>\n",
              "      <td>NaN</td>\n",
              "    </tr>\n",
              "    <tr>\n",
              "      <th>50</th>\n",
              "      <td>Запись пользователя № - user_958</td>\n",
              "      <td>[2019-01-05 7:33:05</td>\n",
              "      <td>NaN</td>\n",
              "      <td>NaN</td>\n",
              "    </tr>\n",
              "    <tr>\n",
              "      <th>713</th>\n",
              "      <td>Запись пользователя № - user_982</td>\n",
              "      <td>[2019-03-20 15:01:50</td>\n",
              "      <td>9954.0</td>\n",
              "      <td>NaN</td>\n",
              "    </tr>\n",
              "    <tr>\n",
              "      <th>479</th>\n",
              "      <td>Запись пользователя № - user_987</td>\n",
              "      <td>[2019-02-22 10:37:56</td>\n",
              "      <td>NaN</td>\n",
              "      <td>NaN</td>\n",
              "    </tr>\n",
              "    <tr>\n",
              "      <th>446</th>\n",
              "      <td>Запись пользователя № - user_985</td>\n",
              "      <td>[2019-02-17 10:30:34</td>\n",
              "      <td>100.0</td>\n",
              "      <td>NaN</td>\n",
              "    </tr>\n",
              "    <tr>\n",
              "      <th>561</th>\n",
              "      <td>Запись пользователя № - user_928</td>\n",
              "      <td>[2019-03-02 17:20:45</td>\n",
              "      <td>400.0</td>\n",
              "      <td>NaN</td>\n",
              "    </tr>\n",
              "    <tr>\n",
              "      <th>796</th>\n",
              "      <td>Запись пользователя № - user_953</td>\n",
              "      <td>[2019-03-29 22:05:53</td>\n",
              "      <td>600.0</td>\n",
              "      <td>NaN</td>\n",
              "    </tr>\n",
              "  </tbody>\n",
              "</table>\n",
              "</div>"
            ],
            "text/plain": [
              "                              user_id                  time     bet  win\n",
              "121  Запись пользователя № - user_924   [2019-01-12 4:50:34     NaN  NaN\n",
              "638  Запись пользователя № - user_962  [2019-03-10 17:53:30     NaN  NaN\n",
              "867  Запись пользователя № - user_952   [2019-04-06 8:34:37  9754.0  NaN\n",
              "50   Запись пользователя № - user_958   [2019-01-05 7:33:05     NaN  NaN\n",
              "713  Запись пользователя № - user_982  [2019-03-20 15:01:50  9954.0  NaN\n",
              "479  Запись пользователя № - user_987  [2019-02-22 10:37:56     NaN  NaN\n",
              "446  Запись пользователя № - user_985  [2019-02-17 10:30:34   100.0  NaN\n",
              "561  Запись пользователя № - user_928  [2019-03-02 17:20:45   400.0  NaN\n",
              "796  Запись пользователя № - user_953  [2019-03-29 22:05:53   600.0  NaN"
            ]
          },
          "metadata": {
            "tags": []
          },
          "execution_count": 58
        }
      ]
    },
    {
      "cell_type": "code",
      "metadata": {
        "id": "QR2Hky2yUfAO",
        "colab_type": "code",
        "colab": {
          "base_uri": "https://localhost:8080/",
          "height": 328
        },
        "outputId": "82663d55-de6b-4919-ead6-0f419350abc7"
      },
      "source": [
        "us = pd.read_csv(project_dir + 'data/u3/' + 'users.csv', sep='\\t', encoding='koi8_r')\n",
        "#users.columns\n",
        "us.columns = ['user_id','email','geo']\n",
        "\n",
        "us.sample(9)\n",
        "\n"
      ],
      "execution_count": null,
      "outputs": [
        {
          "output_type": "execute_result",
          "data": {
            "text/html": [
              "<div>\n",
              "<style scoped>\n",
              "    .dataframe tbody tr th:only-of-type {\n",
              "        vertical-align: middle;\n",
              "    }\n",
              "\n",
              "    .dataframe tbody tr th {\n",
              "        vertical-align: top;\n",
              "    }\n",
              "\n",
              "    .dataframe thead th {\n",
              "        text-align: right;\n",
              "    }\n",
              "</style>\n",
              "<table border=\"1\" class=\"dataframe\">\n",
              "  <thead>\n",
              "    <tr style=\"text-align: right;\">\n",
              "      <th></th>\n",
              "      <th>user_id</th>\n",
              "      <th>email</th>\n",
              "      <th>geo</th>\n",
              "    </tr>\n",
              "  </thead>\n",
              "  <tbody>\n",
              "    <tr>\n",
              "      <th>40</th>\n",
              "      <td>User_957</td>\n",
              "      <td>Hetstact@yandex.ru</td>\n",
              "      <td>Ярославль</td>\n",
              "    </tr>\n",
              "    <tr>\n",
              "      <th>81</th>\n",
              "      <td>User_944</td>\n",
              "      <td>Seenomvura@yahoo.com</td>\n",
              "      <td>Екатеринбург</td>\n",
              "    </tr>\n",
              "    <tr>\n",
              "      <th>92</th>\n",
              "      <td>User_929</td>\n",
              "      <td>Topictition@rambler.ru</td>\n",
              "      <td>Ижевск</td>\n",
              "    </tr>\n",
              "    <tr>\n",
              "      <th>26</th>\n",
              "      <td>User_934</td>\n",
              "      <td>EyesRae@inbox.ru</td>\n",
              "      <td>Арзангелтск</td>\n",
              "    </tr>\n",
              "    <tr>\n",
              "      <th>93</th>\n",
              "      <td>User_907</td>\n",
              "      <td>Transky@yandex.ru</td>\n",
              "      <td>Красноярск</td>\n",
              "    </tr>\n",
              "    <tr>\n",
              "      <th>95</th>\n",
              "      <td>User_959</td>\n",
              "      <td>UpdatesCurious@yahoo.com</td>\n",
              "      <td>Тюмень</td>\n",
              "    </tr>\n",
              "    <tr>\n",
              "      <th>18</th>\n",
              "      <td>User_917</td>\n",
              "      <td>Chapterpl@yahoo.com</td>\n",
              "      <td>Москва</td>\n",
              "    </tr>\n",
              "    <tr>\n",
              "      <th>35</th>\n",
              "      <td>User_910</td>\n",
              "      <td>Gloxixir@ya.ru</td>\n",
              "      <td>Москва</td>\n",
              "    </tr>\n",
              "    <tr>\n",
              "      <th>44</th>\n",
              "      <td>User_931</td>\n",
              "      <td>Inserex@inbox.ru</td>\n",
              "      <td>Воронеж</td>\n",
              "    </tr>\n",
              "  </tbody>\n",
              "</table>\n",
              "</div>"
            ],
            "text/plain": [
              "     user_id                     email           geo\n",
              "40  User_957        Hetstact@yandex.ru     Ярославль\n",
              "81  User_944      Seenomvura@yahoo.com  Екатеринбург\n",
              "92  User_929    Topictition@rambler.ru        Ижевск\n",
              "26  User_934          EyesRae@inbox.ru   Арзангелтск\n",
              "93  User_907         Transky@yandex.ru    Красноярск\n",
              "95  User_959  UpdatesCurious@yahoo.com        Тюмень\n",
              "18  User_917       Chapterpl@yahoo.com        Москва\n",
              "35  User_910            Gloxixir@ya.ru        Москва\n",
              "44  User_931          Inserex@inbox.ru       Воронеж"
            ]
          },
          "metadata": {
            "tags": []
          },
          "execution_count": 59
        }
      ]
    },
    {
      "cell_type": "code",
      "metadata": {
        "id": "C3s9ivS8Ue8b",
        "colab_type": "code",
        "colab": {
          "base_uri": "https://localhost:8080/",
          "height": 34
        },
        "outputId": "c9bbaae3-9027-4abe-9741-0c938b78650f"
      },
      "source": [
        "log['time'].isna().sum()"
      ],
      "execution_count": null,
      "outputs": [
        {
          "output_type": "execute_result",
          "data": {
            "text/plain": [
              "15"
            ]
          },
          "metadata": {
            "tags": []
          },
          "execution_count": 60
        }
      ]
    },
    {
      "cell_type": "code",
      "metadata": {
        "id": "kZvR2D0Xvx-g",
        "colab_type": "code",
        "colab": {
          "base_uri": "https://localhost:8080/",
          "height": 34
        },
        "outputId": "d802b92a-4ec2-4bc6-8543-37385afa7589"
      },
      "source": [
        "log['user_id'].isna().sum()"
      ],
      "execution_count": null,
      "outputs": [
        {
          "output_type": "execute_result",
          "data": {
            "text/plain": [
              "0"
            ]
          },
          "metadata": {
            "tags": []
          },
          "execution_count": 61
        }
      ]
    },
    {
      "cell_type": "code",
      "metadata": {
        "id": "D_AF9utiUe4g",
        "colab_type": "code",
        "colab": {
          "base_uri": "https://localhost:8080/",
          "height": 419
        },
        "outputId": "b824e48a-a9ce-4576-c3f1-7f5f74170a8a"
      },
      "source": [
        "# log.dropna(axis=1, subset=[log.columns])\n",
        "log2 = log\n",
        "log2.dropna(axis=0)"
      ],
      "execution_count": null,
      "outputs": [
        {
          "output_type": "execute_result",
          "data": {
            "text/html": [
              "<div>\n",
              "<style scoped>\n",
              "    .dataframe tbody tr th:only-of-type {\n",
              "        vertical-align: middle;\n",
              "    }\n",
              "\n",
              "    .dataframe tbody tr th {\n",
              "        vertical-align: top;\n",
              "    }\n",
              "\n",
              "    .dataframe thead th {\n",
              "        text-align: right;\n",
              "    }\n",
              "</style>\n",
              "<table border=\"1\" class=\"dataframe\">\n",
              "  <thead>\n",
              "    <tr style=\"text-align: right;\">\n",
              "      <th></th>\n",
              "      <th>user_id</th>\n",
              "      <th>time</th>\n",
              "      <th>bet</th>\n",
              "      <th>win</th>\n",
              "    </tr>\n",
              "  </thead>\n",
              "  <tbody>\n",
              "    <tr>\n",
              "      <th>14</th>\n",
              "      <td>Запись пользователя № - user_917</td>\n",
              "      <td>[2019-01-02 8:57:36</td>\n",
              "      <td>145732.0</td>\n",
              "      <td>1987653.0</td>\n",
              "    </tr>\n",
              "    <tr>\n",
              "      <th>29</th>\n",
              "      <td>Запись пользователя № - user_942</td>\n",
              "      <td>[2019-01-04 13:59:42</td>\n",
              "      <td>1678321.0</td>\n",
              "      <td>9876543.0</td>\n",
              "    </tr>\n",
              "    <tr>\n",
              "      <th>151</th>\n",
              "      <td>Запись пользователя № - user_982</td>\n",
              "      <td>[2019-01-16 21:54:22</td>\n",
              "      <td>100.0</td>\n",
              "      <td>4749.0</td>\n",
              "    </tr>\n",
              "    <tr>\n",
              "      <th>189</th>\n",
              "      <td>Запись пользователя № - user_964</td>\n",
              "      <td>[2019-01-21 18:34:44</td>\n",
              "      <td>200.0</td>\n",
              "      <td>4667.0</td>\n",
              "    </tr>\n",
              "    <tr>\n",
              "      <th>205</th>\n",
              "      <td>Запись пользователя № - user_931</td>\n",
              "      <td>[2019-01-22 5:26:59</td>\n",
              "      <td>300.0</td>\n",
              "      <td>4319.0</td>\n",
              "    </tr>\n",
              "    <tr>\n",
              "      <th>...</th>\n",
              "      <td>...</td>\n",
              "      <td>...</td>\n",
              "      <td>...</td>\n",
              "      <td>...</td>\n",
              "    </tr>\n",
              "    <tr>\n",
              "      <th>967</th>\n",
              "      <td>Запись пользователя № - user_975</td>\n",
              "      <td>[2019-04-19 22:25:15</td>\n",
              "      <td>1000.0</td>\n",
              "      <td>6108.0</td>\n",
              "    </tr>\n",
              "    <tr>\n",
              "      <th>971</th>\n",
              "      <td>Запись пользователя № - user_912</td>\n",
              "      <td>[2019-04-20 10:35:49</td>\n",
              "      <td>10554.0</td>\n",
              "      <td>31799.0</td>\n",
              "    </tr>\n",
              "    <tr>\n",
              "      <th>972</th>\n",
              "      <td>Запись пользователя № - user_926</td>\n",
              "      <td>[2019-04-20 10:35:50</td>\n",
              "      <td>10354.0</td>\n",
              "      <td>30244.0</td>\n",
              "    </tr>\n",
              "    <tr>\n",
              "      <th>976</th>\n",
              "      <td>Запись пользователя № - user_970</td>\n",
              "      <td>[2019-04-20 10:35:54</td>\n",
              "      <td>10354.0</td>\n",
              "      <td>30691.0</td>\n",
              "    </tr>\n",
              "    <tr>\n",
              "      <th>991</th>\n",
              "      <td>Запись пользователя № - user_965</td>\n",
              "      <td>[2019-04-20 12:55:41</td>\n",
              "      <td>800.0</td>\n",
              "      <td>6927.0</td>\n",
              "    </tr>\n",
              "  </tbody>\n",
              "</table>\n",
              "<p>133 rows × 4 columns</p>\n",
              "</div>"
            ],
            "text/plain": [
              "                              user_id  ...        win\n",
              "14   Запись пользователя № - user_917  ...  1987653.0\n",
              "29   Запись пользователя № - user_942  ...  9876543.0\n",
              "151  Запись пользователя № - user_982  ...     4749.0\n",
              "189  Запись пользователя № - user_964  ...     4667.0\n",
              "205  Запись пользователя № - user_931  ...     4319.0\n",
              "..                                ...  ...        ...\n",
              "967  Запись пользователя № - user_975  ...     6108.0\n",
              "971  Запись пользователя № - user_912  ...    31799.0\n",
              "972  Запись пользователя № - user_926  ...    30244.0\n",
              "976  Запись пользователя № - user_970  ...    30691.0\n",
              "991  Запись пользователя № - user_965  ...     6927.0\n",
              "\n",
              "[133 rows x 4 columns]"
            ]
          },
          "metadata": {
            "tags": []
          },
          "execution_count": 62
        }
      ]
    },
    {
      "cell_type": "code",
      "metadata": {
        "id": "3AiCQEcAvXVm",
        "colab_type": "code",
        "colab": {
          "base_uri": "https://localhost:8080/",
          "height": 34
        },
        "outputId": "c169c69b-cd20-4b93-a080-b3bb701c3dcd"
      },
      "source": [
        "log.columns"
      ],
      "execution_count": null,
      "outputs": [
        {
          "output_type": "execute_result",
          "data": {
            "text/plain": [
              "Index(['user_id', 'time', 'bet', 'win'], dtype='object')"
            ]
          },
          "metadata": {
            "tags": []
          },
          "execution_count": 63
        }
      ]
    },
    {
      "cell_type": "code",
      "metadata": {
        "id": "N3j7cWrBUe03",
        "colab_type": "code",
        "colab": {
          "base_uri": "https://localhost:8080/",
          "height": 419
        },
        "outputId": "5ac033d4-40da-4f42-bd2b-36442f143493"
      },
      "source": [
        "log2 = log\n",
        "log2.dropna(axis=1, subset=log2.index)"
      ],
      "execution_count": null,
      "outputs": [
        {
          "output_type": "execute_result",
          "data": {
            "text/html": [
              "<div>\n",
              "<style scoped>\n",
              "    .dataframe tbody tr th:only-of-type {\n",
              "        vertical-align: middle;\n",
              "    }\n",
              "\n",
              "    .dataframe tbody tr th {\n",
              "        vertical-align: top;\n",
              "    }\n",
              "\n",
              "    .dataframe thead th {\n",
              "        text-align: right;\n",
              "    }\n",
              "</style>\n",
              "<table border=\"1\" class=\"dataframe\">\n",
              "  <thead>\n",
              "    <tr style=\"text-align: right;\">\n",
              "      <th></th>\n",
              "      <th>user_id</th>\n",
              "    </tr>\n",
              "  </thead>\n",
              "  <tbody>\n",
              "    <tr>\n",
              "      <th>0</th>\n",
              "      <td>Запись пользователя № - user_919</td>\n",
              "    </tr>\n",
              "    <tr>\n",
              "      <th>1</th>\n",
              "      <td>Запись пользователя № - user_973</td>\n",
              "    </tr>\n",
              "    <tr>\n",
              "      <th>2</th>\n",
              "      <td>Запись пользователя № - user_903</td>\n",
              "    </tr>\n",
              "    <tr>\n",
              "      <th>3</th>\n",
              "      <td>Запись пользователя № - user_954</td>\n",
              "    </tr>\n",
              "    <tr>\n",
              "      <th>4</th>\n",
              "      <td>Запись пользователя № - user_954</td>\n",
              "    </tr>\n",
              "    <tr>\n",
              "      <th>...</th>\n",
              "      <td>...</td>\n",
              "    </tr>\n",
              "    <tr>\n",
              "      <th>995</th>\n",
              "      <td>Запись пользователя № - user_984</td>\n",
              "    </tr>\n",
              "    <tr>\n",
              "      <th>996</th>\n",
              "      <td>#error</td>\n",
              "    </tr>\n",
              "    <tr>\n",
              "      <th>997</th>\n",
              "      <td>#error</td>\n",
              "    </tr>\n",
              "    <tr>\n",
              "      <th>998</th>\n",
              "      <td>#error</td>\n",
              "    </tr>\n",
              "    <tr>\n",
              "      <th>999</th>\n",
              "      <td>#error</td>\n",
              "    </tr>\n",
              "  </tbody>\n",
              "</table>\n",
              "<p>1000 rows × 1 columns</p>\n",
              "</div>"
            ],
            "text/plain": [
              "                              user_id\n",
              "0    Запись пользователя № - user_919\n",
              "1    Запись пользователя № - user_973\n",
              "2    Запись пользователя № - user_903\n",
              "3    Запись пользователя № - user_954\n",
              "4    Запись пользователя № - user_954\n",
              "..                                ...\n",
              "995  Запись пользователя № - user_984\n",
              "996                            #error\n",
              "997                            #error\n",
              "998                            #error\n",
              "999                            #error\n",
              "\n",
              "[1000 rows x 1 columns]"
            ]
          },
          "metadata": {
            "tags": []
          },
          "execution_count": 64
        }
      ]
    },
    {
      "cell_type": "markdown",
      "metadata": {
        "id": "GBh-MmYvxK4W",
        "colab_type": "text"
      },
      "source": [
        "## 11.2 Дубли"
      ]
    },
    {
      "cell_type": "code",
      "metadata": {
        "id": "fV5Y1LxXxKiu",
        "colab_type": "code",
        "colab": {
          "base_uri": "https://localhost:8080/",
          "height": 419
        },
        "outputId": "8e433c29-ae45-41ea-f223-735ebc4d4886"
      },
      "source": [
        "log2 = log\n",
        "log2.drop_duplicates(subset=['user_id', 'time'])"
      ],
      "execution_count": null,
      "outputs": [
        {
          "output_type": "execute_result",
          "data": {
            "text/html": [
              "<div>\n",
              "<style scoped>\n",
              "    .dataframe tbody tr th:only-of-type {\n",
              "        vertical-align: middle;\n",
              "    }\n",
              "\n",
              "    .dataframe tbody tr th {\n",
              "        vertical-align: top;\n",
              "    }\n",
              "\n",
              "    .dataframe thead th {\n",
              "        text-align: right;\n",
              "    }\n",
              "</style>\n",
              "<table border=\"1\" class=\"dataframe\">\n",
              "  <thead>\n",
              "    <tr style=\"text-align: right;\">\n",
              "      <th></th>\n",
              "      <th>user_id</th>\n",
              "      <th>time</th>\n",
              "      <th>bet</th>\n",
              "      <th>win</th>\n",
              "    </tr>\n",
              "  </thead>\n",
              "  <tbody>\n",
              "    <tr>\n",
              "      <th>0</th>\n",
              "      <td>Запись пользователя № - user_919</td>\n",
              "      <td>[2019-01-01 14:06:51</td>\n",
              "      <td>NaN</td>\n",
              "      <td>NaN</td>\n",
              "    </tr>\n",
              "    <tr>\n",
              "      <th>1</th>\n",
              "      <td>Запись пользователя № - user_973</td>\n",
              "      <td>[2019-01-01 14:51:16</td>\n",
              "      <td>NaN</td>\n",
              "      <td>NaN</td>\n",
              "    </tr>\n",
              "    <tr>\n",
              "      <th>2</th>\n",
              "      <td>Запись пользователя № - user_903</td>\n",
              "      <td>[2019-01-01 16:31:16</td>\n",
              "      <td>NaN</td>\n",
              "      <td>NaN</td>\n",
              "    </tr>\n",
              "    <tr>\n",
              "      <th>3</th>\n",
              "      <td>Запись пользователя № - user_954</td>\n",
              "      <td>[2019-01-01 17:17:51</td>\n",
              "      <td>NaN</td>\n",
              "      <td>NaN</td>\n",
              "    </tr>\n",
              "    <tr>\n",
              "      <th>4</th>\n",
              "      <td>Запись пользователя № - user_954</td>\n",
              "      <td>[2019-01-01 21:31:18</td>\n",
              "      <td>NaN</td>\n",
              "      <td>NaN</td>\n",
              "    </tr>\n",
              "    <tr>\n",
              "      <th>...</th>\n",
              "      <td>...</td>\n",
              "      <td>...</td>\n",
              "      <td>...</td>\n",
              "      <td>...</td>\n",
              "    </tr>\n",
              "    <tr>\n",
              "      <th>991</th>\n",
              "      <td>Запись пользователя № - user_965</td>\n",
              "      <td>[2019-04-20 12:55:41</td>\n",
              "      <td>800.0</td>\n",
              "      <td>6927.0</td>\n",
              "    </tr>\n",
              "    <tr>\n",
              "      <th>992</th>\n",
              "      <td>Запись пользователя № - user_967</td>\n",
              "      <td>[2019-04-20 14:59:36</td>\n",
              "      <td>10154.0</td>\n",
              "      <td>NaN</td>\n",
              "    </tr>\n",
              "    <tr>\n",
              "      <th>993</th>\n",
              "      <td>Запись пользователя № - user_973</td>\n",
              "      <td>[2019-04-20 17:09:56</td>\n",
              "      <td>10254.0</td>\n",
              "      <td>NaN</td>\n",
              "    </tr>\n",
              "    <tr>\n",
              "      <th>994</th>\n",
              "      <td>Запись пользователя № - user_977</td>\n",
              "      <td>[2019-04-20 18:10:07</td>\n",
              "      <td>10354.0</td>\n",
              "      <td>NaN</td>\n",
              "    </tr>\n",
              "    <tr>\n",
              "      <th>995</th>\n",
              "      <td>Запись пользователя № - user_984</td>\n",
              "      <td>[2019-04-20 9:59:58</td>\n",
              "      <td>9754.0</td>\n",
              "      <td>NaN</td>\n",
              "    </tr>\n",
              "  </tbody>\n",
              "</table>\n",
              "<p>986 rows × 4 columns</p>\n",
              "</div>"
            ],
            "text/plain": [
              "                              user_id                  time      bet     win\n",
              "0    Запись пользователя № - user_919  [2019-01-01 14:06:51      NaN     NaN\n",
              "1    Запись пользователя № - user_973  [2019-01-01 14:51:16      NaN     NaN\n",
              "2    Запись пользователя № - user_903  [2019-01-01 16:31:16      NaN     NaN\n",
              "3    Запись пользователя № - user_954  [2019-01-01 17:17:51      NaN     NaN\n",
              "4    Запись пользователя № - user_954  [2019-01-01 21:31:18      NaN     NaN\n",
              "..                                ...                   ...      ...     ...\n",
              "991  Запись пользователя № - user_965  [2019-04-20 12:55:41    800.0  6927.0\n",
              "992  Запись пользователя № - user_967  [2019-04-20 14:59:36  10154.0     NaN\n",
              "993  Запись пользователя № - user_973  [2019-04-20 17:09:56  10254.0     NaN\n",
              "994  Запись пользователя № - user_977  [2019-04-20 18:10:07  10354.0     NaN\n",
              "995  Запись пользователя № - user_984   [2019-04-20 9:59:58   9754.0     NaN\n",
              "\n",
              "[986 rows x 4 columns]"
            ]
          },
          "metadata": {
            "tags": []
          },
          "execution_count": 65
        }
      ]
    },
    {
      "cell_type": "code",
      "metadata": {
        "id": "tyd7gOhLxKak",
        "colab_type": "code",
        "colab": {}
      },
      "source": [
        ""
      ],
      "execution_count": null,
      "outputs": []
    },
    {
      "cell_type": "markdown",
      "metadata": {
        "id": "oUIJhnepyfDO",
        "colab_type": "text"
      },
      "source": [
        "## 11.3 Преобразование к DateTime"
      ]
    },
    {
      "cell_type": "code",
      "metadata": {
        "id": "QpK5gnM3xKVJ",
        "colab_type": "code",
        "colab": {}
      },
      "source": [
        "log.dropna(inplace=True, subset=['time'])\n"
      ],
      "execution_count": null,
      "outputs": []
    },
    {
      "cell_type": "code",
      "metadata": {
        "id": "SWtQUVIWxKT8",
        "colab_type": "code",
        "colab": {
          "base_uri": "https://localhost:8080/",
          "height": 419
        },
        "outputId": "9f7ac9b1-1328-4ca1-9cbe-8e5a091a75c2"
      },
      "source": [
        "log"
      ],
      "execution_count": null,
      "outputs": [
        {
          "output_type": "execute_result",
          "data": {
            "text/html": [
              "<div>\n",
              "<style scoped>\n",
              "    .dataframe tbody tr th:only-of-type {\n",
              "        vertical-align: middle;\n",
              "    }\n",
              "\n",
              "    .dataframe tbody tr th {\n",
              "        vertical-align: top;\n",
              "    }\n",
              "\n",
              "    .dataframe thead th {\n",
              "        text-align: right;\n",
              "    }\n",
              "</style>\n",
              "<table border=\"1\" class=\"dataframe\">\n",
              "  <thead>\n",
              "    <tr style=\"text-align: right;\">\n",
              "      <th></th>\n",
              "      <th>user_id</th>\n",
              "      <th>time</th>\n",
              "      <th>bet</th>\n",
              "      <th>win</th>\n",
              "    </tr>\n",
              "  </thead>\n",
              "  <tbody>\n",
              "    <tr>\n",
              "      <th>0</th>\n",
              "      <td>Запись пользователя № - user_919</td>\n",
              "      <td>[2019-01-01 14:06:51</td>\n",
              "      <td>NaN</td>\n",
              "      <td>NaN</td>\n",
              "    </tr>\n",
              "    <tr>\n",
              "      <th>1</th>\n",
              "      <td>Запись пользователя № - user_973</td>\n",
              "      <td>[2019-01-01 14:51:16</td>\n",
              "      <td>NaN</td>\n",
              "      <td>NaN</td>\n",
              "    </tr>\n",
              "    <tr>\n",
              "      <th>2</th>\n",
              "      <td>Запись пользователя № - user_903</td>\n",
              "      <td>[2019-01-01 16:31:16</td>\n",
              "      <td>NaN</td>\n",
              "      <td>NaN</td>\n",
              "    </tr>\n",
              "    <tr>\n",
              "      <th>3</th>\n",
              "      <td>Запись пользователя № - user_954</td>\n",
              "      <td>[2019-01-01 17:17:51</td>\n",
              "      <td>NaN</td>\n",
              "      <td>NaN</td>\n",
              "    </tr>\n",
              "    <tr>\n",
              "      <th>4</th>\n",
              "      <td>Запись пользователя № - user_954</td>\n",
              "      <td>[2019-01-01 21:31:18</td>\n",
              "      <td>NaN</td>\n",
              "      <td>NaN</td>\n",
              "    </tr>\n",
              "    <tr>\n",
              "      <th>...</th>\n",
              "      <td>...</td>\n",
              "      <td>...</td>\n",
              "      <td>...</td>\n",
              "      <td>...</td>\n",
              "    </tr>\n",
              "    <tr>\n",
              "      <th>991</th>\n",
              "      <td>Запись пользователя № - user_965</td>\n",
              "      <td>[2019-04-20 12:55:41</td>\n",
              "      <td>800.0</td>\n",
              "      <td>6927.0</td>\n",
              "    </tr>\n",
              "    <tr>\n",
              "      <th>992</th>\n",
              "      <td>Запись пользователя № - user_967</td>\n",
              "      <td>[2019-04-20 14:59:36</td>\n",
              "      <td>10154.0</td>\n",
              "      <td>NaN</td>\n",
              "    </tr>\n",
              "    <tr>\n",
              "      <th>993</th>\n",
              "      <td>Запись пользователя № - user_973</td>\n",
              "      <td>[2019-04-20 17:09:56</td>\n",
              "      <td>10254.0</td>\n",
              "      <td>NaN</td>\n",
              "    </tr>\n",
              "    <tr>\n",
              "      <th>994</th>\n",
              "      <td>Запись пользователя № - user_977</td>\n",
              "      <td>[2019-04-20 18:10:07</td>\n",
              "      <td>10354.0</td>\n",
              "      <td>NaN</td>\n",
              "    </tr>\n",
              "    <tr>\n",
              "      <th>995</th>\n",
              "      <td>Запись пользователя № - user_984</td>\n",
              "      <td>[2019-04-20 9:59:58</td>\n",
              "      <td>9754.0</td>\n",
              "      <td>NaN</td>\n",
              "    </tr>\n",
              "  </tbody>\n",
              "</table>\n",
              "<p>985 rows × 4 columns</p>\n",
              "</div>"
            ],
            "text/plain": [
              "                              user_id                  time      bet     win\n",
              "0    Запись пользователя № - user_919  [2019-01-01 14:06:51      NaN     NaN\n",
              "1    Запись пользователя № - user_973  [2019-01-01 14:51:16      NaN     NaN\n",
              "2    Запись пользователя № - user_903  [2019-01-01 16:31:16      NaN     NaN\n",
              "3    Запись пользователя № - user_954  [2019-01-01 17:17:51      NaN     NaN\n",
              "4    Запись пользователя № - user_954  [2019-01-01 21:31:18      NaN     NaN\n",
              "..                                ...                   ...      ...     ...\n",
              "991  Запись пользователя № - user_965  [2019-04-20 12:55:41    800.0  6927.0\n",
              "992  Запись пользователя № - user_967  [2019-04-20 14:59:36  10154.0     NaN\n",
              "993  Запись пользователя № - user_973  [2019-04-20 17:09:56  10254.0     NaN\n",
              "994  Запись пользователя № - user_977  [2019-04-20 18:10:07  10354.0     NaN\n",
              "995  Запись пользователя № - user_984   [2019-04-20 9:59:58   9754.0     NaN\n",
              "\n",
              "[985 rows x 4 columns]"
            ]
          },
          "metadata": {
            "tags": []
          },
          "execution_count": 67
        }
      ]
    },
    {
      "cell_type": "code",
      "metadata": {
        "id": "gT1lt137xKP_",
        "colab_type": "code",
        "colab": {
          "base_uri": "https://localhost:8080/",
          "height": 221
        },
        "outputId": "e84a1f06-653c-464a-88a8-6c81c3c6c4ef"
      },
      "source": [
        "log.time = log.time.apply(lambda x: x[1:])\n",
        "log['time']"
      ],
      "execution_count": null,
      "outputs": [
        {
          "output_type": "execute_result",
          "data": {
            "text/plain": [
              "0      2019-01-01 14:06:51\n",
              "1      2019-01-01 14:51:16\n",
              "2      2019-01-01 16:31:16\n",
              "3      2019-01-01 17:17:51\n",
              "4      2019-01-01 21:31:18\n",
              "              ...         \n",
              "991    2019-04-20 12:55:41\n",
              "992    2019-04-20 14:59:36\n",
              "993    2019-04-20 17:09:56\n",
              "994    2019-04-20 18:10:07\n",
              "995     2019-04-20 9:59:58\n",
              "Name: time, Length: 985, dtype: object"
            ]
          },
          "metadata": {
            "tags": []
          },
          "execution_count": 68
        }
      ]
    },
    {
      "cell_type": "code",
      "metadata": {
        "id": "l8ECnvinxKO7",
        "colab_type": "code",
        "colab": {
          "base_uri": "https://localhost:8080/",
          "height": 221
        },
        "outputId": "16ba923e-e828-4f4b-a8cb-810c68a6a47b"
      },
      "source": [
        "log.time = log.time.apply(lambda x: pd.to_datetime(x))\n",
        "log['time']"
      ],
      "execution_count": null,
      "outputs": [
        {
          "output_type": "execute_result",
          "data": {
            "text/plain": [
              "0     2019-01-01 14:06:51\n",
              "1     2019-01-01 14:51:16\n",
              "2     2019-01-01 16:31:16\n",
              "3     2019-01-01 17:17:51\n",
              "4     2019-01-01 21:31:18\n",
              "              ...        \n",
              "991   2019-04-20 12:55:41\n",
              "992   2019-04-20 14:59:36\n",
              "993   2019-04-20 17:09:56\n",
              "994   2019-04-20 18:10:07\n",
              "995   2019-04-20 09:59:58\n",
              "Name: time, Length: 985, dtype: datetime64[ns]"
            ]
          },
          "metadata": {
            "tags": []
          },
          "execution_count": 69
        }
      ]
    },
    {
      "cell_type": "code",
      "metadata": {
        "id": "3-X9dTSFxKKd",
        "colab_type": "code",
        "colab": {
          "base_uri": "https://localhost:8080/",
          "height": 34
        },
        "outputId": "fad70499-2f22-4641-8c8a-6e7a5c4711ff"
      },
      "source": [
        "log['time'].max()"
      ],
      "execution_count": null,
      "outputs": [
        {
          "output_type": "execute_result",
          "data": {
            "text/plain": [
              "Timestamp('2019-04-20 18:10:07')"
            ]
          },
          "metadata": {
            "tags": []
          },
          "execution_count": 70
        }
      ]
    },
    {
      "cell_type": "code",
      "metadata": {
        "id": "dzBY9kbsxKGE",
        "colab_type": "code",
        "colab": {
          "base_uri": "https://localhost:8080/",
          "height": 119
        },
        "outputId": "30d0a940-fd40-4a9b-e991-111b78d3b11d"
      },
      "source": [
        "log['time'].head() "
      ],
      "execution_count": null,
      "outputs": [
        {
          "output_type": "execute_result",
          "data": {
            "text/plain": [
              "0   2019-01-01 14:06:51\n",
              "1   2019-01-01 14:51:16\n",
              "2   2019-01-01 16:31:16\n",
              "3   2019-01-01 17:17:51\n",
              "4   2019-01-01 21:31:18\n",
              "Name: time, dtype: datetime64[ns]"
            ]
          },
          "metadata": {
            "tags": []
          },
          "execution_count": 71
        }
      ]
    },
    {
      "cell_type": "markdown",
      "metadata": {
        "id": "Cz_WdeNw1h00",
        "colab_type": "text"
      },
      "source": [
        "## 11.4 Извлечение признаков времени"
      ]
    },
    {
      "cell_type": "code",
      "metadata": {
        "id": "YSO2qaoSxKBp",
        "colab_type": "code",
        "colab": {
          "base_uri": "https://localhost:8080/",
          "height": 221
        },
        "outputId": "14443a53-a059-4c6c-c956-0edcc0d389bb"
      },
      "source": [
        "log['time'].dt.minute"
      ],
      "execution_count": null,
      "outputs": [
        {
          "output_type": "execute_result",
          "data": {
            "text/plain": [
              "0       6\n",
              "1      51\n",
              "2      31\n",
              "3      17\n",
              "4      31\n",
              "       ..\n",
              "991    55\n",
              "992    59\n",
              "993     9\n",
              "994    10\n",
              "995    59\n",
              "Name: time, Length: 985, dtype: int64"
            ]
          },
          "metadata": {
            "tags": []
          },
          "execution_count": 72
        }
      ]
    },
    {
      "cell_type": "code",
      "metadata": {
        "id": "n9BpJLLDxJ9N",
        "colab_type": "code",
        "colab": {
          "base_uri": "https://localhost:8080/",
          "height": 51
        },
        "outputId": "e52d2953-05c1-4075-c25a-9794a669bee1"
      },
      "source": [
        "# Task 11.4.1\n",
        "\n",
        "log['time'].dt.minute.value_counts().head(1)"
      ],
      "execution_count": null,
      "outputs": [
        {
          "output_type": "execute_result",
          "data": {
            "text/plain": [
              "36    25\n",
              "Name: time, dtype: int64"
            ]
          },
          "metadata": {
            "tags": []
          },
          "execution_count": 73
        }
      ]
    },
    {
      "cell_type": "code",
      "metadata": {
        "id": "JVxZ4-jY1kHG",
        "colab_type": "code",
        "colab": {
          "base_uri": "https://localhost:8080/",
          "height": 102
        },
        "outputId": "667cafd2-e928-42f1-b22a-6f4ef556c34e"
      },
      "source": [
        "# Task 11.4.2\n",
        "# Используйте оригинальные данные log.csv, столбец time.\n",
        "# Подсказка: можно использовать value_counts().\n",
        "# Найдите месяц, который встречался в данных реже всего. Введите ответ в поле ниже.\n",
        "\n",
        "log['time'].dt.month.value_counts()"
      ],
      "execution_count": null,
      "outputs": [
        {
          "output_type": "execute_result",
          "data": {
            "text/plain": [
              "1    292\n",
              "3    264\n",
              "2    259\n",
              "4    170\n",
              "Name: time, dtype: int64"
            ]
          },
          "metadata": {
            "tags": []
          },
          "execution_count": 74
        }
      ]
    },
    {
      "cell_type": "code",
      "metadata": {
        "id": "kQPfZ_6b1kBP",
        "colab_type": "code",
        "colab": {
          "base_uri": "https://localhost:8080/",
          "height": 153
        },
        "outputId": "0ae918cb-63c3-457f-a63a-d6b29ec5eff0"
      },
      "source": [
        "# Task 11.4.3\n",
        "\n",
        "log['time'].dt.weekday.value_counts()"
      ],
      "execution_count": null,
      "outputs": [
        {
          "output_type": "execute_result",
          "data": {
            "text/plain": [
              "5    152\n",
              "2    150\n",
              "1    150\n",
              "4    135\n",
              "0    135\n",
              "3    132\n",
              "6    131\n",
              "Name: time, dtype: int64"
            ]
          },
          "metadata": {
            "tags": []
          },
          "execution_count": 75
        }
      ]
    },
    {
      "cell_type": "code",
      "metadata": {
        "id": "8rWaI1Az1j6l",
        "colab_type": "code",
        "colab": {
          "base_uri": "https://localhost:8080/",
          "height": 34
        },
        "outputId": "53b44a4e-6cfd-4652-87b0-f070c2fe23ac"
      },
      "source": [
        "log['time'].dt.weekday.value_counts().loc[5] + log['time'].dt.weekday.value_counts().loc[6]"
      ],
      "execution_count": null,
      "outputs": [
        {
          "output_type": "execute_result",
          "data": {
            "text/plain": [
              "283"
            ]
          },
          "metadata": {
            "tags": []
          },
          "execution_count": 76
        }
      ]
    },
    {
      "cell_type": "code",
      "metadata": {
        "id": "f9oYyA0-u7UC",
        "colab_type": "code",
        "colab": {}
      },
      "source": [
        "# Task 11.4.4\n",
        "def convert_time_in_segment(hour):\n",
        "    '''  с 0 до 5 часов - ночь, с 6 до 11 - утро, с 12 до 17 - день, с 18 до 23 - вечер.\n",
        "    '''\n",
        "    if 0 <= hour <= 5:\n",
        "        return 'ночь'\n",
        "    elif 6 <= hour <= 11:\n",
        "        return 'утро'\n",
        "    elif 12 <= hour <= 17:\n",
        "        return 'день'\n",
        "    elif 18 <= hour <= 23:\n",
        "        return 'вечер'\n",
        "    else:\n",
        "        return None\n"
      ],
      "execution_count": null,
      "outputs": []
    },
    {
      "cell_type": "code",
      "metadata": {
        "id": "ZfFnvu03w_GB",
        "colab_type": "code",
        "colab": {
          "base_uri": "https://localhost:8080/",
          "height": 459
        },
        "outputId": "9935d577-622f-4231-a777-4bfa7b09aa53"
      },
      "source": [
        "for i in range (-1, 25):\n",
        "    print(i, convert_time_in_segment(i))"
      ],
      "execution_count": null,
      "outputs": [
        {
          "output_type": "stream",
          "text": [
            "-1 None\n",
            "0 ночь\n",
            "1 ночь\n",
            "2 ночь\n",
            "3 ночь\n",
            "4 ночь\n",
            "5 ночь\n",
            "6 утро\n",
            "7 утро\n",
            "8 утро\n",
            "9 утро\n",
            "10 утро\n",
            "11 утро\n",
            "12 день\n",
            "13 день\n",
            "14 день\n",
            "15 день\n",
            "16 день\n",
            "17 день\n",
            "18 вечер\n",
            "19 вечер\n",
            "20 вечер\n",
            "21 вечер\n",
            "22 вечер\n",
            "23 вечер\n",
            "24 None\n"
          ],
          "name": "stdout"
        }
      ]
    },
    {
      "cell_type": "code",
      "metadata": {
        "id": "QgE5SIxX1j0x",
        "colab_type": "code",
        "colab": {
          "base_uri": "https://localhost:8080/",
          "height": 221
        },
        "outputId": "e98adc6c-73c0-4d85-e9d7-2765907ad4f8"
      },
      "source": [
        "log['segment_time'] = log['time'].dt.hour.apply(lambda x: convert_time_in_segment(x))\n",
        "log['segment_time'] "
      ],
      "execution_count": null,
      "outputs": [
        {
          "output_type": "execute_result",
          "data": {
            "text/plain": [
              "0       день\n",
              "1       день\n",
              "2       день\n",
              "3       день\n",
              "4      вечер\n",
              "       ...  \n",
              "991     день\n",
              "992     день\n",
              "993     день\n",
              "994    вечер\n",
              "995     утро\n",
              "Name: segment_time, Length: 985, dtype: object"
            ]
          },
          "metadata": {
            "tags": []
          },
          "execution_count": 79
        }
      ]
    },
    {
      "cell_type": "code",
      "metadata": {
        "id": "GT3hvmmP1jub",
        "colab_type": "code",
        "colab": {
          "base_uri": "https://localhost:8080/",
          "height": 51
        },
        "outputId": "59890910-6347-4a54-abf0-718b4b3e3bdf"
      },
      "source": [
        "log['segment_time'].value_counts().tail(1)"
      ],
      "execution_count": null,
      "outputs": [
        {
          "output_type": "execute_result",
          "data": {
            "text/plain": [
              "вечер    227\n",
              "Name: segment_time, dtype: int64"
            ]
          },
          "metadata": {
            "tags": []
          },
          "execution_count": 80
        }
      ]
    },
    {
      "cell_type": "code",
      "metadata": {
        "id": "ZUqD8KrMxJ4V",
        "colab_type": "code",
        "colab": {
          "base_uri": "https://localhost:8080/",
          "height": 419
        },
        "outputId": "db9702cc-5fef-4bfb-d450-81527d7d4c81"
      },
      "source": [
        "# Task 11.4.3\n",
        "log = pd.read_csv(project_dir + 'data/u3/' + 'log.csv', header=None)\n",
        "\n",
        "log.columns = ['user_id', 'time', 'bet', 'win']\n",
        "\n",
        "log.dropna(inplace=True)\n",
        "\n",
        "log.time = log.time.apply(lambda x: x[1:])\n",
        "\n",
        "log.time = log.time.apply(lambda x: pd.to_datetime(x))\n",
        "\n",
        "log['hour'] = log['time'].dt.hour\n",
        "\n",
        "log"
      ],
      "execution_count": null,
      "outputs": [
        {
          "output_type": "execute_result",
          "data": {
            "text/html": [
              "<div>\n",
              "<style scoped>\n",
              "    .dataframe tbody tr th:only-of-type {\n",
              "        vertical-align: middle;\n",
              "    }\n",
              "\n",
              "    .dataframe tbody tr th {\n",
              "        vertical-align: top;\n",
              "    }\n",
              "\n",
              "    .dataframe thead th {\n",
              "        text-align: right;\n",
              "    }\n",
              "</style>\n",
              "<table border=\"1\" class=\"dataframe\">\n",
              "  <thead>\n",
              "    <tr style=\"text-align: right;\">\n",
              "      <th></th>\n",
              "      <th>user_id</th>\n",
              "      <th>time</th>\n",
              "      <th>bet</th>\n",
              "      <th>win</th>\n",
              "      <th>hour</th>\n",
              "    </tr>\n",
              "  </thead>\n",
              "  <tbody>\n",
              "    <tr>\n",
              "      <th>14</th>\n",
              "      <td>Запись пользователя № - user_917</td>\n",
              "      <td>2019-01-02 08:57:36</td>\n",
              "      <td>145732.0</td>\n",
              "      <td>1987653.0</td>\n",
              "      <td>8</td>\n",
              "    </tr>\n",
              "    <tr>\n",
              "      <th>29</th>\n",
              "      <td>Запись пользователя № - user_942</td>\n",
              "      <td>2019-01-04 13:59:42</td>\n",
              "      <td>1678321.0</td>\n",
              "      <td>9876543.0</td>\n",
              "      <td>13</td>\n",
              "    </tr>\n",
              "    <tr>\n",
              "      <th>151</th>\n",
              "      <td>Запись пользователя № - user_982</td>\n",
              "      <td>2019-01-16 21:54:22</td>\n",
              "      <td>100.0</td>\n",
              "      <td>4749.0</td>\n",
              "      <td>21</td>\n",
              "    </tr>\n",
              "    <tr>\n",
              "      <th>189</th>\n",
              "      <td>Запись пользователя № - user_964</td>\n",
              "      <td>2019-01-21 18:34:44</td>\n",
              "      <td>200.0</td>\n",
              "      <td>4667.0</td>\n",
              "      <td>18</td>\n",
              "    </tr>\n",
              "    <tr>\n",
              "      <th>205</th>\n",
              "      <td>Запись пользователя № - user_931</td>\n",
              "      <td>2019-01-22 05:26:59</td>\n",
              "      <td>300.0</td>\n",
              "      <td>4319.0</td>\n",
              "      <td>5</td>\n",
              "    </tr>\n",
              "    <tr>\n",
              "      <th>...</th>\n",
              "      <td>...</td>\n",
              "      <td>...</td>\n",
              "      <td>...</td>\n",
              "      <td>...</td>\n",
              "      <td>...</td>\n",
              "    </tr>\n",
              "    <tr>\n",
              "      <th>967</th>\n",
              "      <td>Запись пользователя № - user_975</td>\n",
              "      <td>2019-04-19 22:25:15</td>\n",
              "      <td>1000.0</td>\n",
              "      <td>6108.0</td>\n",
              "      <td>22</td>\n",
              "    </tr>\n",
              "    <tr>\n",
              "      <th>971</th>\n",
              "      <td>Запись пользователя № - user_912</td>\n",
              "      <td>2019-04-20 10:35:49</td>\n",
              "      <td>10554.0</td>\n",
              "      <td>31799.0</td>\n",
              "      <td>10</td>\n",
              "    </tr>\n",
              "    <tr>\n",
              "      <th>972</th>\n",
              "      <td>Запись пользователя № - user_926</td>\n",
              "      <td>2019-04-20 10:35:50</td>\n",
              "      <td>10354.0</td>\n",
              "      <td>30244.0</td>\n",
              "      <td>10</td>\n",
              "    </tr>\n",
              "    <tr>\n",
              "      <th>976</th>\n",
              "      <td>Запись пользователя № - user_970</td>\n",
              "      <td>2019-04-20 10:35:54</td>\n",
              "      <td>10354.0</td>\n",
              "      <td>30691.0</td>\n",
              "      <td>10</td>\n",
              "    </tr>\n",
              "    <tr>\n",
              "      <th>991</th>\n",
              "      <td>Запись пользователя № - user_965</td>\n",
              "      <td>2019-04-20 12:55:41</td>\n",
              "      <td>800.0</td>\n",
              "      <td>6927.0</td>\n",
              "      <td>12</td>\n",
              "    </tr>\n",
              "  </tbody>\n",
              "</table>\n",
              "<p>133 rows × 5 columns</p>\n",
              "</div>"
            ],
            "text/plain": [
              "                              user_id                time  ...        win  hour\n",
              "14   Запись пользователя № - user_917 2019-01-02 08:57:36  ...  1987653.0     8\n",
              "29   Запись пользователя № - user_942 2019-01-04 13:59:42  ...  9876543.0    13\n",
              "151  Запись пользователя № - user_982 2019-01-16 21:54:22  ...     4749.0    21\n",
              "189  Запись пользователя № - user_964 2019-01-21 18:34:44  ...     4667.0    18\n",
              "205  Запись пользователя № - user_931 2019-01-22 05:26:59  ...     4319.0     5\n",
              "..                                ...                 ...  ...        ...   ...\n",
              "967  Запись пользователя № - user_975 2019-04-19 22:25:15  ...     6108.0    22\n",
              "971  Запись пользователя № - user_912 2019-04-20 10:35:49  ...    31799.0    10\n",
              "972  Запись пользователя № - user_926 2019-04-20 10:35:50  ...    30244.0    10\n",
              "976  Запись пользователя № - user_970 2019-04-20 10:35:54  ...    30691.0    10\n",
              "991  Запись пользователя № - user_965 2019-04-20 12:55:41  ...     6927.0    12\n",
              "\n",
              "[133 rows x 5 columns]"
            ]
          },
          "metadata": {
            "tags": []
          },
          "execution_count": 81
        }
      ]
    },
    {
      "cell_type": "markdown",
      "metadata": {
        "id": "78Ak9Oo82dWv",
        "colab_type": "text"
      },
      "source": [
        "## 11.5"
      ]
    },
    {
      "cell_type": "code",
      "metadata": {
        "id": "MpCTN3n_xJx5",
        "colab_type": "code",
        "colab": {}
      },
      "source": [
        "log = pd.read_csv(project_dir + 'data/u3/' + 'log.csv', header=None)\n",
        "\n",
        "log.columns = ['user_id', 'time', 'bet', 'win']\n",
        "\n",
        "#log"
      ],
      "execution_count": null,
      "outputs": []
    },
    {
      "cell_type": "code",
      "metadata": {
        "id": "7iHRphAsyEPr",
        "colab_type": "code",
        "colab": {
          "base_uri": "https://localhost:8080/",
          "height": 51
        },
        "outputId": "713234fd-f7f1-4b05-bf7f-1212008bf736"
      },
      "source": [
        "# Task 11.5.1\n",
        "\n",
        "log['bet'] = log['bet'].fillna(0)\n",
        "\n",
        "log['bet'].value_counts().head(1)"
      ],
      "execution_count": null,
      "outputs": [
        {
          "output_type": "execute_result",
          "data": {
            "text/plain": [
              "0.0    515\n",
              "Name: bet, dtype: int64"
            ]
          },
          "metadata": {
            "tags": []
          },
          "execution_count": 83
        }
      ]
    },
    {
      "cell_type": "code",
      "metadata": {
        "id": "EdbgBz2b2ciw",
        "colab_type": "code",
        "colab": {
          "base_uri": "https://localhost:8080/",
          "height": 34
        },
        "outputId": "db5da46b-73bf-4fab-fca4-cc37e21e4cc7"
      },
      "source": [
        "# Task 11.5.2\n",
        "#  \n",
        "log['win'] = log['win'].apply(lambda row: 0 if pd.isnull(row) else row)   \n",
        "  \n",
        "log['result'] = log['win'] - log['bet']\n",
        "\n",
        "len(log['result'][log['result'] < 0])\n"
      ],
      "execution_count": null,
      "outputs": [
        {
          "output_type": "execute_result",
          "data": {
            "text/plain": [
              "347"
            ]
          },
          "metadata": {
            "tags": []
          },
          "execution_count": 84
        }
      ]
    },
    {
      "cell_type": "code",
      "metadata": {
        "id": "_hwzFhiHyEeb",
        "colab_type": "code",
        "colab": {}
      },
      "source": [
        ""
      ],
      "execution_count": null,
      "outputs": []
    },
    {
      "cell_type": "code",
      "metadata": {
        "id": "c7aXhXoUyEb5",
        "colab_type": "code",
        "colab": {}
      },
      "source": [
        "# Task 11.5.2\n",
        "#  \n",
        "\n",
        "def fillna_win(row):  \n",
        "    if pd.isnull(row[2]):\n",
        "        bet = 0\n",
        "    else:\n",
        "        bet = row[2]\n",
        "    if pd.isnull(row[3]):\n",
        "        win = 0\n",
        "    else:\n",
        "        win = row[3]\n",
        "    if win == 0 and bet > 0:\n",
        "        return 0 - bet\n",
        "    else:\n",
        "        return win\n",
        "  \n",
        "# Применяем функцию  \n",
        "new_win = log.apply(lambda row: fillna_win(row), axis=1)  \n",
        "  \n",
        "# Заменяем старый столбец с пропусками на новый без пропусков  \n",
        "log['win'] = new_win  "
      ],
      "execution_count": null,
      "outputs": []
    },
    {
      "cell_type": "code",
      "metadata": {
        "id": "DFv-Hofa_k-r",
        "colab_type": "code",
        "colab": {
          "base_uri": "https://localhost:8080/",
          "height": 419
        },
        "outputId": "6bf23dad-e432-485e-e2e3-51e780453e09"
      },
      "source": [
        "log[log['win'] < 0]"
      ],
      "execution_count": null,
      "outputs": [
        {
          "output_type": "execute_result",
          "data": {
            "text/html": [
              "<div>\n",
              "<style scoped>\n",
              "    .dataframe tbody tr th:only-of-type {\n",
              "        vertical-align: middle;\n",
              "    }\n",
              "\n",
              "    .dataframe tbody tr th {\n",
              "        vertical-align: top;\n",
              "    }\n",
              "\n",
              "    .dataframe thead th {\n",
              "        text-align: right;\n",
              "    }\n",
              "</style>\n",
              "<table border=\"1\" class=\"dataframe\">\n",
              "  <thead>\n",
              "    <tr style=\"text-align: right;\">\n",
              "      <th></th>\n",
              "      <th>user_id</th>\n",
              "      <th>time</th>\n",
              "      <th>bet</th>\n",
              "      <th>win</th>\n",
              "      <th>result</th>\n",
              "    </tr>\n",
              "  </thead>\n",
              "  <tbody>\n",
              "    <tr>\n",
              "      <th>5</th>\n",
              "      <td>Запись пользователя № - user_917</td>\n",
              "      <td>[2019-01-01 23:34:55</td>\n",
              "      <td>156789.0</td>\n",
              "      <td>-156789.0</td>\n",
              "      <td>-156789.0</td>\n",
              "    </tr>\n",
              "    <tr>\n",
              "      <th>19</th>\n",
              "      <td>Запись пользователя № - user_942</td>\n",
              "      <td>[2019-01-03 14:03:21</td>\n",
              "      <td>98753.0</td>\n",
              "      <td>-98753.0</td>\n",
              "      <td>-98753.0</td>\n",
              "    </tr>\n",
              "    <tr>\n",
              "      <th>67</th>\n",
              "      <td>Запись пользователя № - user_987</td>\n",
              "      <td>[2019-01-07 21:46:13</td>\n",
              "      <td>5000.0</td>\n",
              "      <td>-5000.0</td>\n",
              "      <td>-5000.0</td>\n",
              "    </tr>\n",
              "    <tr>\n",
              "      <th>81</th>\n",
              "      <td>Запись пользователя № - user_910</td>\n",
              "      <td>[2019-01-08 21:14:57</td>\n",
              "      <td>123981.0</td>\n",
              "      <td>-123981.0</td>\n",
              "      <td>-123981.0</td>\n",
              "    </tr>\n",
              "    <tr>\n",
              "      <th>92</th>\n",
              "      <td>Запись пользователя № - user_964</td>\n",
              "      <td>[2019-01-09 3:05:33</td>\n",
              "      <td>100.0</td>\n",
              "      <td>-100.0</td>\n",
              "      <td>-100.0</td>\n",
              "    </tr>\n",
              "    <tr>\n",
              "      <th>...</th>\n",
              "      <td>...</td>\n",
              "      <td>...</td>\n",
              "      <td>...</td>\n",
              "      <td>...</td>\n",
              "      <td>...</td>\n",
              "    </tr>\n",
              "    <tr>\n",
              "      <th>994</th>\n",
              "      <td>Запись пользователя № - user_977</td>\n",
              "      <td>[2019-04-20 18:10:07</td>\n",
              "      <td>10354.0</td>\n",
              "      <td>-10354.0</td>\n",
              "      <td>-10354.0</td>\n",
              "    </tr>\n",
              "    <tr>\n",
              "      <th>995</th>\n",
              "      <td>Запись пользователя № - user_984</td>\n",
              "      <td>[2019-04-20 9:59:58</td>\n",
              "      <td>9754.0</td>\n",
              "      <td>-9754.0</td>\n",
              "      <td>-9754.0</td>\n",
              "    </tr>\n",
              "    <tr>\n",
              "      <th>997</th>\n",
              "      <td>#error</td>\n",
              "      <td>NaN</td>\n",
              "      <td>10454.0</td>\n",
              "      <td>-10454.0</td>\n",
              "      <td>-10454.0</td>\n",
              "    </tr>\n",
              "    <tr>\n",
              "      <th>998</th>\n",
              "      <td>#error</td>\n",
              "      <td>NaN</td>\n",
              "      <td>1000.0</td>\n",
              "      <td>-1000.0</td>\n",
              "      <td>-1000.0</td>\n",
              "    </tr>\n",
              "    <tr>\n",
              "      <th>999</th>\n",
              "      <td>#error</td>\n",
              "      <td>NaN</td>\n",
              "      <td>10754.0</td>\n",
              "      <td>-10754.0</td>\n",
              "      <td>-10754.0</td>\n",
              "    </tr>\n",
              "  </tbody>\n",
              "</table>\n",
              "<p>347 rows × 5 columns</p>\n",
              "</div>"
            ],
            "text/plain": [
              "                              user_id                  time  ...       win    result\n",
              "5    Запись пользователя № - user_917  [2019-01-01 23:34:55  ... -156789.0 -156789.0\n",
              "19   Запись пользователя № - user_942  [2019-01-03 14:03:21  ...  -98753.0  -98753.0\n",
              "67   Запись пользователя № - user_987  [2019-01-07 21:46:13  ...   -5000.0   -5000.0\n",
              "81   Запись пользователя № - user_910  [2019-01-08 21:14:57  ... -123981.0 -123981.0\n",
              "92   Запись пользователя № - user_964   [2019-01-09 3:05:33  ...    -100.0    -100.0\n",
              "..                                ...                   ...  ...       ...       ...\n",
              "994  Запись пользователя № - user_977  [2019-04-20 18:10:07  ...  -10354.0  -10354.0\n",
              "995  Запись пользователя № - user_984   [2019-04-20 9:59:58  ...   -9754.0   -9754.0\n",
              "997                            #error                   NaN  ...  -10454.0  -10454.0\n",
              "998                            #error                   NaN  ...   -1000.0   -1000.0\n",
              "999                            #error                   NaN  ...  -10754.0  -10754.0\n",
              "\n",
              "[347 rows x 5 columns]"
            ]
          },
          "metadata": {
            "tags": []
          },
          "execution_count": 86
        }
      ]
    },
    {
      "cell_type": "code",
      "metadata": {
        "id": "MGU0Sa7R_lMp",
        "colab_type": "code",
        "colab": {
          "base_uri": "https://localhost:8080/",
          "height": 34
        },
        "outputId": "6e38b7ab-2da4-4866-b183-119657ce768a"
      },
      "source": [
        "len(log['win'][log['win'] < 0])"
      ],
      "execution_count": null,
      "outputs": [
        {
          "output_type": "execute_result",
          "data": {
            "text/plain": [
              "347"
            ]
          },
          "metadata": {
            "tags": []
          },
          "execution_count": 87
        }
      ]
    },
    {
      "cell_type": "code",
      "metadata": {
        "id": "SpOihLAA_lGX",
        "colab_type": "code",
        "colab": {
          "base_uri": "https://localhost:8080/",
          "height": 419
        },
        "outputId": "6aec76b6-85c9-4a3f-ddda-bb6c4b0f4e3f"
      },
      "source": [
        "# Task 11.5.1\n",
        "\n",
        "log['net'] = log['win'] - log['bet']\n",
        "log"
      ],
      "execution_count": null,
      "outputs": [
        {
          "output_type": "execute_result",
          "data": {
            "text/html": [
              "<div>\n",
              "<style scoped>\n",
              "    .dataframe tbody tr th:only-of-type {\n",
              "        vertical-align: middle;\n",
              "    }\n",
              "\n",
              "    .dataframe tbody tr th {\n",
              "        vertical-align: top;\n",
              "    }\n",
              "\n",
              "    .dataframe thead th {\n",
              "        text-align: right;\n",
              "    }\n",
              "</style>\n",
              "<table border=\"1\" class=\"dataframe\">\n",
              "  <thead>\n",
              "    <tr style=\"text-align: right;\">\n",
              "      <th></th>\n",
              "      <th>user_id</th>\n",
              "      <th>time</th>\n",
              "      <th>bet</th>\n",
              "      <th>win</th>\n",
              "      <th>result</th>\n",
              "      <th>net</th>\n",
              "    </tr>\n",
              "  </thead>\n",
              "  <tbody>\n",
              "    <tr>\n",
              "      <th>0</th>\n",
              "      <td>Запись пользователя № - user_919</td>\n",
              "      <td>[2019-01-01 14:06:51</td>\n",
              "      <td>0.0</td>\n",
              "      <td>0.0</td>\n",
              "      <td>0.0</td>\n",
              "      <td>0.0</td>\n",
              "    </tr>\n",
              "    <tr>\n",
              "      <th>1</th>\n",
              "      <td>Запись пользователя № - user_973</td>\n",
              "      <td>[2019-01-01 14:51:16</td>\n",
              "      <td>0.0</td>\n",
              "      <td>0.0</td>\n",
              "      <td>0.0</td>\n",
              "      <td>0.0</td>\n",
              "    </tr>\n",
              "    <tr>\n",
              "      <th>2</th>\n",
              "      <td>Запись пользователя № - user_903</td>\n",
              "      <td>[2019-01-01 16:31:16</td>\n",
              "      <td>0.0</td>\n",
              "      <td>0.0</td>\n",
              "      <td>0.0</td>\n",
              "      <td>0.0</td>\n",
              "    </tr>\n",
              "    <tr>\n",
              "      <th>3</th>\n",
              "      <td>Запись пользователя № - user_954</td>\n",
              "      <td>[2019-01-01 17:17:51</td>\n",
              "      <td>0.0</td>\n",
              "      <td>0.0</td>\n",
              "      <td>0.0</td>\n",
              "      <td>0.0</td>\n",
              "    </tr>\n",
              "    <tr>\n",
              "      <th>4</th>\n",
              "      <td>Запись пользователя № - user_954</td>\n",
              "      <td>[2019-01-01 21:31:18</td>\n",
              "      <td>0.0</td>\n",
              "      <td>0.0</td>\n",
              "      <td>0.0</td>\n",
              "      <td>0.0</td>\n",
              "    </tr>\n",
              "    <tr>\n",
              "      <th>...</th>\n",
              "      <td>...</td>\n",
              "      <td>...</td>\n",
              "      <td>...</td>\n",
              "      <td>...</td>\n",
              "      <td>...</td>\n",
              "      <td>...</td>\n",
              "    </tr>\n",
              "    <tr>\n",
              "      <th>995</th>\n",
              "      <td>Запись пользователя № - user_984</td>\n",
              "      <td>[2019-04-20 9:59:58</td>\n",
              "      <td>9754.0</td>\n",
              "      <td>-9754.0</td>\n",
              "      <td>-9754.0</td>\n",
              "      <td>-19508.0</td>\n",
              "    </tr>\n",
              "    <tr>\n",
              "      <th>996</th>\n",
              "      <td>#error</td>\n",
              "      <td>NaN</td>\n",
              "      <td>10054.0</td>\n",
              "      <td>29265.0</td>\n",
              "      <td>19211.0</td>\n",
              "      <td>19211.0</td>\n",
              "    </tr>\n",
              "    <tr>\n",
              "      <th>997</th>\n",
              "      <td>#error</td>\n",
              "      <td>NaN</td>\n",
              "      <td>10454.0</td>\n",
              "      <td>-10454.0</td>\n",
              "      <td>-10454.0</td>\n",
              "      <td>-20908.0</td>\n",
              "    </tr>\n",
              "    <tr>\n",
              "      <th>998</th>\n",
              "      <td>#error</td>\n",
              "      <td>NaN</td>\n",
              "      <td>1000.0</td>\n",
              "      <td>-1000.0</td>\n",
              "      <td>-1000.0</td>\n",
              "      <td>-2000.0</td>\n",
              "    </tr>\n",
              "    <tr>\n",
              "      <th>999</th>\n",
              "      <td>#error</td>\n",
              "      <td>NaN</td>\n",
              "      <td>10754.0</td>\n",
              "      <td>-10754.0</td>\n",
              "      <td>-10754.0</td>\n",
              "      <td>-21508.0</td>\n",
              "    </tr>\n",
              "  </tbody>\n",
              "</table>\n",
              "<p>1000 rows × 6 columns</p>\n",
              "</div>"
            ],
            "text/plain": [
              "                              user_id                  time  ...   result      net\n",
              "0    Запись пользователя № - user_919  [2019-01-01 14:06:51  ...      0.0      0.0\n",
              "1    Запись пользователя № - user_973  [2019-01-01 14:51:16  ...      0.0      0.0\n",
              "2    Запись пользователя № - user_903  [2019-01-01 16:31:16  ...      0.0      0.0\n",
              "3    Запись пользователя № - user_954  [2019-01-01 17:17:51  ...      0.0      0.0\n",
              "4    Запись пользователя № - user_954  [2019-01-01 21:31:18  ...      0.0      0.0\n",
              "..                                ...                   ...  ...      ...      ...\n",
              "995  Запись пользователя № - user_984   [2019-04-20 9:59:58  ...  -9754.0 -19508.0\n",
              "996                            #error                   NaN  ...  19211.0  19211.0\n",
              "997                            #error                   NaN  ... -10454.0 -20908.0\n",
              "998                            #error                   NaN  ...  -1000.0  -2000.0\n",
              "999                            #error                   NaN  ... -10754.0 -21508.0\n",
              "\n",
              "[1000 rows x 6 columns]"
            ]
          },
          "metadata": {
            "tags": []
          },
          "execution_count": 88
        }
      ]
    },
    {
      "cell_type": "code",
      "metadata": {
        "id": "pwqt_NAI_lCe",
        "colab_type": "code",
        "colab": {
          "base_uri": "https://localhost:8080/",
          "height": 34
        },
        "outputId": "f30c3067-d205-4003-caf4-ba6b6e1b785b"
      },
      "source": [
        "len(log['net'][log['net'] > 0])"
      ],
      "execution_count": null,
      "outputs": [
        {
          "output_type": "execute_result",
          "data": {
            "text/plain": [
              "138"
            ]
          },
          "metadata": {
            "tags": []
          },
          "execution_count": 89
        }
      ]
    },
    {
      "cell_type": "code",
      "metadata": {
        "id": "pZg3k6ufHAlz",
        "colab_type": "code",
        "colab": {
          "base_uri": "https://localhost:8080/",
          "height": 34
        },
        "outputId": "6033e332-b8d6-42e9-b599-5266203e283d"
      },
      "source": [
        "# Task 11.5.2\n",
        "\n",
        "int(log[log['net'] > 0]['net'].mean())"
      ],
      "execution_count": null,
      "outputs": [
        {
          "output_type": "execute_result",
          "data": {
            "text/plain": [
              "80253"
            ]
          },
          "metadata": {
            "tags": []
          },
          "execution_count": 90
        }
      ]
    },
    {
      "cell_type": "code",
      "metadata": {
        "id": "qkMTtxNaHAt-",
        "colab_type": "code",
        "colab": {
          "base_uri": "https://localhost:8080/",
          "height": 34
        },
        "outputId": "3aef6c85-372b-4622-8dd3-26b17eb668cb"
      },
      "source": [
        "# Task 11.5.3\n",
        "\n",
        "int(log[log['net'] > 0]['net'].median())"
      ],
      "execution_count": null,
      "outputs": [
        {
          "output_type": "execute_result",
          "data": {
            "text/plain": [
              "5347"
            ]
          },
          "metadata": {
            "tags": []
          },
          "execution_count": 91
        }
      ]
    },
    {
      "cell_type": "code",
      "metadata": {
        "id": "QsGnnyoHHAsE",
        "colab_type": "code",
        "colab": {}
      },
      "source": [
        "# Task 11.5.4\n",
        "\n",
        "log = pd.read_csv(project_dir + 'data/u3/' + 'log.csv', header=None)\n",
        "\n",
        "log.columns = ['user_id', 'time', 'bet', 'win']"
      ],
      "execution_count": null,
      "outputs": []
    },
    {
      "cell_type": "code",
      "metadata": {
        "id": "3pEM4dmPHAiQ",
        "colab_type": "code",
        "colab": {
          "base_uri": "https://localhost:8080/",
          "height": 34
        },
        "outputId": "cfab6c35-1a4d-4d2a-f43f-139097292769"
      },
      "source": [
        "log.bet.mean()"
      ],
      "execution_count": null,
      "outputs": [
        {
          "output_type": "execute_result",
          "data": {
            "text/plain": [
              "6785.738144329897"
            ]
          },
          "metadata": {
            "tags": []
          },
          "execution_count": 93
        }
      ]
    },
    {
      "cell_type": "code",
      "metadata": {
        "id": "JA94ljr4yELr",
        "colab_type": "code",
        "colab": {
          "base_uri": "https://localhost:8080/",
          "height": 34
        },
        "outputId": "c863f73c-d6d5-48c6-f5a5-4885b1f15cad"
      },
      "source": [
        "log.bet.mean(skipna=False)"
      ],
      "execution_count": null,
      "outputs": [
        {
          "output_type": "execute_result",
          "data": {
            "text/plain": [
              "nan"
            ]
          },
          "metadata": {
            "tags": []
          },
          "execution_count": 94
        }
      ]
    },
    {
      "cell_type": "code",
      "metadata": {
        "id": "EnXdvSxlIWI8",
        "colab_type": "code",
        "colab": {
          "base_uri": "https://localhost:8080/",
          "height": 34
        },
        "outputId": "adf16e52-5aaa-4fa7-c4c9-7d826538ab6f"
      },
      "source": [
        "# pd.mean(log['bet'])\n",
        "\n",
        "log.bet.sum() / log.bet.dropna().shape[0]"
      ],
      "execution_count": null,
      "outputs": [
        {
          "output_type": "execute_result",
          "data": {
            "text/plain": [
              "6785.738144329897"
            ]
          },
          "metadata": {
            "tags": []
          },
          "execution_count": 95
        }
      ]
    },
    {
      "cell_type": "code",
      "metadata": {
        "id": "BG37HLZEIWTa",
        "colab_type": "code",
        "colab": {
          "base_uri": "https://localhost:8080/",
          "height": 34
        },
        "outputId": "fa639fa5-7b62-40a7-dc10-04be1c25e282"
      },
      "source": [
        "np.mean(log.bet)"
      ],
      "execution_count": null,
      "outputs": [
        {
          "output_type": "execute_result",
          "data": {
            "text/plain": [
              "6785.738144329897"
            ]
          },
          "metadata": {
            "tags": []
          },
          "execution_count": 96
        }
      ]
    },
    {
      "cell_type": "code",
      "metadata": {
        "id": "gCbIrx55IWAm",
        "colab_type": "code",
        "colab": {
          "base_uri": "https://localhost:8080/",
          "height": 34
        },
        "outputId": "34d4c0f4-76ef-4526-cc00-b55508139e00"
      },
      "source": [
        "log['bet'].dropna().mean()"
      ],
      "execution_count": null,
      "outputs": [
        {
          "output_type": "execute_result",
          "data": {
            "text/plain": [
              "6785.738144329897"
            ]
          },
          "metadata": {
            "tags": []
          },
          "execution_count": 97
        }
      ]
    },
    {
      "cell_type": "markdown",
      "metadata": {
        "id": "_7ak1BCfI0c0",
        "colab_type": "text"
      },
      "source": [
        "## 11.7"
      ]
    },
    {
      "cell_type": "code",
      "metadata": {
        "id": "QCln7DeNIzgS",
        "colab_type": "code",
        "colab": {
          "base_uri": "https://localhost:8080/",
          "height": 419
        },
        "outputId": "24dbb428-1dc9-428f-dd56-c6afb7b8baf1"
      },
      "source": [
        "# Task 11.7.1\n",
        "log = pd.read_csv(project_dir + 'data/u3/' + 'log.csv', header=None)\n",
        "log.columns = ['user_id', 'time', 'bet', 'win']\n",
        "\n",
        "\n",
        "# log['time'] = log['time'].apply(lambda x: x[1:])\n",
        "# log.time = log.time.apply(lambda x: pd.to_datetime(x))\n",
        "\n",
        "log['bet'] = log['bet'].fillna(0)\n",
        "log['win'] = log['win'].fillna(0)\n",
        "\n",
        "log['net'] = log['win'] - log['bet']\n",
        "log"
      ],
      "execution_count": null,
      "outputs": [
        {
          "output_type": "execute_result",
          "data": {
            "text/html": [
              "<div>\n",
              "<style scoped>\n",
              "    .dataframe tbody tr th:only-of-type {\n",
              "        vertical-align: middle;\n",
              "    }\n",
              "\n",
              "    .dataframe tbody tr th {\n",
              "        vertical-align: top;\n",
              "    }\n",
              "\n",
              "    .dataframe thead th {\n",
              "        text-align: right;\n",
              "    }\n",
              "</style>\n",
              "<table border=\"1\" class=\"dataframe\">\n",
              "  <thead>\n",
              "    <tr style=\"text-align: right;\">\n",
              "      <th></th>\n",
              "      <th>user_id</th>\n",
              "      <th>time</th>\n",
              "      <th>bet</th>\n",
              "      <th>win</th>\n",
              "      <th>net</th>\n",
              "    </tr>\n",
              "  </thead>\n",
              "  <tbody>\n",
              "    <tr>\n",
              "      <th>0</th>\n",
              "      <td>Запись пользователя № - user_919</td>\n",
              "      <td>[2019-01-01 14:06:51</td>\n",
              "      <td>0.0</td>\n",
              "      <td>0.0</td>\n",
              "      <td>0.0</td>\n",
              "    </tr>\n",
              "    <tr>\n",
              "      <th>1</th>\n",
              "      <td>Запись пользователя № - user_973</td>\n",
              "      <td>[2019-01-01 14:51:16</td>\n",
              "      <td>0.0</td>\n",
              "      <td>0.0</td>\n",
              "      <td>0.0</td>\n",
              "    </tr>\n",
              "    <tr>\n",
              "      <th>2</th>\n",
              "      <td>Запись пользователя № - user_903</td>\n",
              "      <td>[2019-01-01 16:31:16</td>\n",
              "      <td>0.0</td>\n",
              "      <td>0.0</td>\n",
              "      <td>0.0</td>\n",
              "    </tr>\n",
              "    <tr>\n",
              "      <th>3</th>\n",
              "      <td>Запись пользователя № - user_954</td>\n",
              "      <td>[2019-01-01 17:17:51</td>\n",
              "      <td>0.0</td>\n",
              "      <td>0.0</td>\n",
              "      <td>0.0</td>\n",
              "    </tr>\n",
              "    <tr>\n",
              "      <th>4</th>\n",
              "      <td>Запись пользователя № - user_954</td>\n",
              "      <td>[2019-01-01 21:31:18</td>\n",
              "      <td>0.0</td>\n",
              "      <td>0.0</td>\n",
              "      <td>0.0</td>\n",
              "    </tr>\n",
              "    <tr>\n",
              "      <th>...</th>\n",
              "      <td>...</td>\n",
              "      <td>...</td>\n",
              "      <td>...</td>\n",
              "      <td>...</td>\n",
              "      <td>...</td>\n",
              "    </tr>\n",
              "    <tr>\n",
              "      <th>995</th>\n",
              "      <td>Запись пользователя № - user_984</td>\n",
              "      <td>[2019-04-20 9:59:58</td>\n",
              "      <td>9754.0</td>\n",
              "      <td>0.0</td>\n",
              "      <td>-9754.0</td>\n",
              "    </tr>\n",
              "    <tr>\n",
              "      <th>996</th>\n",
              "      <td>#error</td>\n",
              "      <td>NaN</td>\n",
              "      <td>10054.0</td>\n",
              "      <td>29265.0</td>\n",
              "      <td>19211.0</td>\n",
              "    </tr>\n",
              "    <tr>\n",
              "      <th>997</th>\n",
              "      <td>#error</td>\n",
              "      <td>NaN</td>\n",
              "      <td>10454.0</td>\n",
              "      <td>0.0</td>\n",
              "      <td>-10454.0</td>\n",
              "    </tr>\n",
              "    <tr>\n",
              "      <th>998</th>\n",
              "      <td>#error</td>\n",
              "      <td>NaN</td>\n",
              "      <td>1000.0</td>\n",
              "      <td>0.0</td>\n",
              "      <td>-1000.0</td>\n",
              "    </tr>\n",
              "    <tr>\n",
              "      <th>999</th>\n",
              "      <td>#error</td>\n",
              "      <td>NaN</td>\n",
              "      <td>10754.0</td>\n",
              "      <td>0.0</td>\n",
              "      <td>-10754.0</td>\n",
              "    </tr>\n",
              "  </tbody>\n",
              "</table>\n",
              "<p>1000 rows × 5 columns</p>\n",
              "</div>"
            ],
            "text/plain": [
              "                              user_id                  time  ...      win      net\n",
              "0    Запись пользователя № - user_919  [2019-01-01 14:06:51  ...      0.0      0.0\n",
              "1    Запись пользователя № - user_973  [2019-01-01 14:51:16  ...      0.0      0.0\n",
              "2    Запись пользователя № - user_903  [2019-01-01 16:31:16  ...      0.0      0.0\n",
              "3    Запись пользователя № - user_954  [2019-01-01 17:17:51  ...      0.0      0.0\n",
              "4    Запись пользователя № - user_954  [2019-01-01 21:31:18  ...      0.0      0.0\n",
              "..                                ...                   ...  ...      ...      ...\n",
              "995  Запись пользователя № - user_984   [2019-04-20 9:59:58  ...      0.0  -9754.0\n",
              "996                            #error                   NaN  ...  29265.0  19211.0\n",
              "997                            #error                   NaN  ...      0.0 -10454.0\n",
              "998                            #error                   NaN  ...      0.0  -1000.0\n",
              "999                            #error                   NaN  ...      0.0 -10754.0\n",
              "\n",
              "[1000 rows x 5 columns]"
            ]
          },
          "metadata": {
            "tags": []
          },
          "execution_count": 98
        }
      ]
    },
    {
      "cell_type": "code",
      "metadata": {
        "id": "8mVzawEKIzjZ",
        "colab_type": "code",
        "colab": {
          "base_uri": "https://localhost:8080/",
          "height": 34
        },
        "outputId": "d7254b6f-32e4-4638-cbbb-3e4fee3d8659"
      },
      "source": [
        "round(log[log['bet'] > 0].shape[0] / log.shape[0] * 100, 1)"
      ],
      "execution_count": null,
      "outputs": [
        {
          "output_type": "execute_result",
          "data": {
            "text/plain": [
              "48.5"
            ]
          },
          "metadata": {
            "tags": []
          },
          "execution_count": 99
        }
      ]
    },
    {
      "cell_type": "code",
      "metadata": {
        "id": "DrBxNadG1thq",
        "colab_type": "code",
        "colab": {}
      },
      "source": [
        ""
      ],
      "execution_count": null,
      "outputs": []
    },
    {
      "cell_type": "code",
      "metadata": {
        "id": "LftUb_cQ1toi",
        "colab_type": "code",
        "colab": {
          "base_uri": "https://localhost:8080/",
          "height": 34
        },
        "outputId": "21c2f847-0e34-4231-ef65-4783edc613c0"
      },
      "source": [
        "# Task 11.7.2\n",
        "\n",
        "bet_mean = log[log['bet']>0]['bet'].mean()\n",
        "int(bet_mean)"
      ],
      "execution_count": null,
      "outputs": [
        {
          "output_type": "execute_result",
          "data": {
            "text/plain": [
              "6785"
            ]
          },
          "metadata": {
            "tags": []
          },
          "execution_count": 100
        }
      ]
    },
    {
      "cell_type": "code",
      "metadata": {
        "id": "FF989Jwn1teP",
        "colab_type": "code",
        "colab": {
          "base_uri": "https://localhost:8080/",
          "height": 34
        },
        "outputId": "6442acac-6482-4643-a41f-1f6e1cf0a053"
      },
      "source": [
        "# Task 11.7.3\n",
        "\n",
        "net_mean = log[log['bet']>0]['net'].mean()\n",
        "int(net_mean)"
      ],
      "execution_count": null,
      "outputs": [
        {
          "output_type": "execute_result",
          "data": {
            "text/plain": [
              "20421"
            ]
          },
          "metadata": {
            "tags": []
          },
          "execution_count": 101
        }
      ]
    },
    {
      "cell_type": "code",
      "metadata": {
        "id": "A8T33bnt1tbg",
        "colab_type": "code",
        "colab": {
          "base_uri": "https://localhost:8080/",
          "height": 34
        },
        "outputId": "8ee00069-0fe6-4a2f-9352-e7c6cbcd17cf"
      },
      "source": [
        "# Task 11.7.4\n",
        "\n",
        "lost_net_mean = log[log['net']<0]['net'].mean()\n",
        "int(lost_net_mean)"
      ],
      "execution_count": null,
      "outputs": [
        {
          "output_type": "execute_result",
          "data": {
            "text/plain": [
              "-3372"
            ]
          },
          "metadata": {
            "tags": []
          },
          "execution_count": 102
        }
      ]
    },
    {
      "cell_type": "code",
      "metadata": {
        "id": "Ku_RObZ61tYl",
        "colab_type": "code",
        "colab": {
          "base_uri": "https://localhost:8080/",
          "height": 85
        },
        "outputId": "7dc4586a-e90d-4154-d081-4d2adc9d8c32"
      },
      "source": [
        "# Task 11.7.5\n",
        "\n",
        "# всего ставок\n",
        "all_bet = log[log['bet'] > 0]\n",
        "\n",
        "all_bet_count = log[log['bet'] > 0].shape[0]\n",
        "\n",
        "bet_win = all_bet[all_bet['win'] > 0].shape[0]\n",
        "\n",
        "print('Всего ставок:', all_bet_count )\n",
        "print('Неудач:', all_bet_count - bet_win )\n",
        "print('Кол-во выйгрышей:', bet_win , '\\nПроцент удачи:', round(bet_win/all_bet_count*100) )\n"
      ],
      "execution_count": null,
      "outputs": [
        {
          "output_type": "stream",
          "text": [
            "Всего ставок: 485\n",
            "Неудач: 347\n",
            "Кол-во выйгрышей: 138 \n",
            "Процент удачи: 28\n"
          ],
          "name": "stdout"
        }
      ]
    },
    {
      "cell_type": "code",
      "metadata": {
        "id": "yjoh2gS3Cxtn",
        "colab_type": "code",
        "colab": {
          "base_uri": "https://localhost:8080/",
          "height": 34
        },
        "outputId": "2bbe3c95-5e18-418c-b1e5-d7b7b1c65f8f"
      },
      "source": [
        "round(log[(log['bet'] > 0) & (log['win'] > 0)].shape[0] / log[log['bet'] > 0].shape[0] * 100 , 2)"
      ],
      "execution_count": null,
      "outputs": [
        {
          "output_type": "execute_result",
          "data": {
            "text/plain": [
              "28.45"
            ]
          },
          "metadata": {
            "tags": []
          },
          "execution_count": 49
        }
      ]
    },
    {
      "cell_type": "code",
      "metadata": {
        "id": "Lpfr0wbqIzs5",
        "colab_type": "code",
        "colab": {
          "base_uri": "https://localhost:8080/",
          "height": 34
        },
        "outputId": "bff0a3a9-cb32-46a8-da1b-f869c4509edc"
      },
      "source": [
        "# Task 11.7.6\n",
        "\n",
        "log = pd.read_csv(project_dir + 'data/u3/' + 'log.csv', header=None)\n",
        "log.columns = ['user_id', 'time', 'bet', 'win']\n",
        "\n",
        "min_bet_amount = log[log.bet.min() == log.bet].bet.count()\n",
        "min_bet_amount"
      ],
      "execution_count": null,
      "outputs": [
        {
          "output_type": "execute_result",
          "data": {
            "text/plain": [
              "48"
            ]
          },
          "metadata": {
            "tags": []
          },
          "execution_count": 50
        }
      ]
    },
    {
      "cell_type": "markdown",
      "metadata": {
        "id": "SaC8kaM3YEst",
        "colab_type": "text"
      },
      "source": [
        "## 11.8"
      ]
    },
    {
      "cell_type": "code",
      "metadata": {
        "id": "NuWyfcaj2fGy",
        "colab_type": "code",
        "colab": {}
      },
      "source": [
        "# Приведем признак user_id к одному формату в обоих датасетах  \n",
        "us.user_id = us.user_id.apply(lambda x: x.lower())  \n",
        "\n",
        "# Избавимся от ошибок в user_id  \n",
        "log = log[log.user_id != '#error']  \n",
        "log.user_id = log.user_id.str.split(' - ').apply(lambda x: x[1])  \n",
        "\n",
        "res = pd.merge(log, us, on='user_id') \n"
      ],
      "execution_count": null,
      "outputs": []
    },
    {
      "cell_type": "code",
      "metadata": {
        "id": "AQRuXmB0HX7h",
        "colab_type": "code",
        "colab": {}
      },
      "source": [
        ""
      ],
      "execution_count": null,
      "outputs": []
    },
    {
      "cell_type": "code",
      "metadata": {
        "id": "0QVKAGJiZTVA",
        "colab_type": "code",
        "colab": {
          "base_uri": "https://localhost:8080/",
          "height": 221
        },
        "outputId": "16cb9b49-f80d-44d0-b6af-0d6f51b465b5"
      },
      "source": [
        "res.win.value_counts()"
      ],
      "execution_count": null,
      "outputs": [
        {
          "output_type": "execute_result",
          "data": {
            "text/plain": [
              "4733.0     2\n",
              "6108.0     2\n",
              "5213.0     1\n",
              "30244.0    1\n",
              "6431.0     1\n",
              "          ..\n",
              "5450.0     1\n",
              "5357.0     1\n",
              "5950.0     1\n",
              "4056.0     1\n",
              "7032.0     1\n",
              "Name: win, Length: 130, dtype: int64"
            ]
          },
          "metadata": {
            "tags": []
          },
          "execution_count": 106
        }
      ]
    },
    {
      "cell_type": "code",
      "metadata": {
        "id": "ynN8gaP1YY-1",
        "colab_type": "code",
        "colab": {
          "base_uri": "https://localhost:8080/",
          "height": 238
        },
        "outputId": "16f1b932-01dc-49a9-f885-0d12b0883b08"
      },
      "source": [
        "# res.groupby('user_id').win.median().median() \n",
        "res.groupby('user_id').win.median()"
      ],
      "execution_count": null,
      "outputs": [
        {
          "output_type": "execute_result",
          "data": {
            "text/plain": [
              "user_id\n",
              "user_1000    4701.0\n",
              "user_900     6202.5\n",
              "user_901        NaN\n",
              "user_902     4021.0\n",
              "user_903     6726.0\n",
              "              ...  \n",
              "user_995     5889.0\n",
              "user_996     4056.0\n",
              "user_997        NaN\n",
              "user_998     6294.0\n",
              "user_999        NaN\n",
              "Name: win, Length: 100, dtype: float64"
            ]
          },
          "metadata": {
            "tags": []
          },
          "execution_count": 53
        }
      ]
    },
    {
      "cell_type": "markdown",
      "metadata": {
        "id": "fF33lg8IZ30O",
        "colab_type": "text"
      },
      "source": [
        "## 11.9 Анализ по пользователям"
      ]
    },
    {
      "cell_type": "code",
      "metadata": {
        "id": "yazsn0O3YY4x",
        "colab_type": "code",
        "colab": {
          "base_uri": "https://localhost:8080/",
          "height": 34
        },
        "outputId": "25da0ccc-1368-434a-9de0-b640b0c1f843"
      },
      "source": [
        "# Task 11.9.1\n",
        "res['win'] = res['win'].fillna(0)\n",
        "res['bet'] = res['bet'].fillna(0)\n",
        "res['net'] = res['win'] - res['bet']\n",
        "\n",
        "res.groupby('user_id').net.sum().median()"
      ],
      "execution_count": null,
      "outputs": [
        {
          "output_type": "execute_result",
          "data": {
            "text/plain": [
              "1986.0"
            ]
          },
          "metadata": {
            "tags": []
          },
          "execution_count": 111
        }
      ]
    },
    {
      "cell_type": "code",
      "metadata": {
        "id": "64jqL7wQZ-wS",
        "colab_type": "code",
        "colab": {
          "base_uri": "https://localhost:8080/",
          "height": 34
        },
        "outputId": "2a15e4f4-5a25-45c5-8625-5ee3932a2120"
      },
      "source": [
        "# Task 11.9.2\n",
        "\n",
        "# все пользователи кто сделал хотя бы одну ставку\n",
        "# результатом является список \n",
        "users_has_bet = res[res.bet > 0].groupby('user_id').bet.count().index\n",
        "\n",
        "# фильтруем датасет (берем только те строки где пользователь попадает в наш список со ставками), \n",
        "# в итоге откидываются пользователи которые ни разу не поставили\n",
        "# фиольтруем только те случаи, когда ставки не было\n",
        "# группируем по пользователям и считаем количество раз\n",
        "# усредняем количество приходов\n",
        "res.query('user_id in @users_has_bet')[log.bet == 0].groupby('user_id').bet.count().mean()\n",
        "\n"
      ],
      "execution_count": null,
      "outputs": [
        {
          "output_type": "execute_result",
          "data": {
            "text/plain": [
              "5.896551724137931"
            ]
          },
          "metadata": {
            "tags": []
          },
          "execution_count": 132
        }
      ]
    },
    {
      "cell_type": "code",
      "metadata": {
        "id": "tCKU-vdPZ_hX",
        "colab_type": "code",
        "colab": {}
      },
      "source": [
        "# Task 11.9.3\n",
        "\n",
        "res.time = res.time.apply(lambda x: x[1:])\n",
        "res.time = res.time.apply(lambda x: pd.to_datetime(x))\n",
        "\n",
        "res"
      ],
      "execution_count": null,
      "outputs": []
    },
    {
      "cell_type": "code",
      "metadata": {
        "id": "52HdyiolQR5K",
        "colab_type": "code",
        "colab": {
          "base_uri": "https://localhost:8080/",
          "height": 34
        },
        "outputId": "52e08b72-be64-49c8-8c17-849b82267f7e"
      },
      "source": [
        "df0 = res.query('user_id in @users_has_bet').groupby('user_id').time.min().reset_index()\n",
        "df0.columns = ['user_id', 'first_time']\n",
        "\n",
        "df1 = res.query('user_id in @users_has_bet and bet > 0').groupby('user_id').time.min().reset_index()\n",
        "df1.columns = ['user_id', 'bet_time']\n",
        "\n",
        "result = pd.merge(df1, df0, on='user_id')\n",
        "result['delta'] =  result.bet_time - result.first_time\n",
        "\n",
        "result.delta.mean()"
      ],
      "execution_count": null,
      "outputs": [
        {
          "output_type": "execute_result",
          "data": {
            "text/plain": [
              "Timedelta('47 days 01:34:33.930000')"
            ]
          },
          "metadata": {
            "tags": []
          },
          "execution_count": 170
        }
      ]
    },
    {
      "cell_type": "code",
      "metadata": {
        "id": "G1hoPw_6WvI3",
        "colab_type": "code",
        "colab": {}
      },
      "source": [
        ""
      ],
      "execution_count": null,
      "outputs": []
    },
    {
      "cell_type": "markdown",
      "metadata": {
        "id": "25HY97bJgro8",
        "colab_type": "text"
      },
      "source": [
        "## 11.10"
      ]
    },
    {
      "cell_type": "code",
      "metadata": {
        "id": "Qgm4-vxFf-57",
        "colab_type": "code",
        "colab": {}
      },
      "source": [
        "# Task 11.10.1 - первый вариант\n",
        "\n",
        "sity = res.groupby('geo').win.sum()\n",
        "sity.sort_values(ascending=False).head(2).tail(1).index[0]"
      ],
      "execution_count": null,
      "outputs": []
    },
    {
      "cell_type": "code",
      "metadata": {
        "id": "V4nVslMIf-pv",
        "colab_type": "code",
        "colab": {}
      },
      "source": [
        "# Task 11.10.1 второй вариант\n",
        "\n",
        "res[res['geo'] != 'Москва'].groupby('geo').win.sum().sort_values().tail(1)"
      ],
      "execution_count": null,
      "outputs": []
    },
    {
      "cell_type": "code",
      "metadata": {
        "id": "lSksKz_3jEHj",
        "colab_type": "code",
        "colab": {}
      },
      "source": [
        "# Task 11.10.2\n",
        "\n",
        "res[res.bet > 0].groupby('geo').bet.mean().sort_values()"
      ],
      "execution_count": null,
      "outputs": []
    },
    {
      "cell_type": "code",
      "metadata": {
        "id": "mukT0S4njECY",
        "colab_type": "code",
        "colab": {}
      },
      "source": [
        "# Task 1.10.2\n",
        "\n",
        "int(res[res.bet > 0].groupby('geo').bet.mean().max() / res[res.bet > 0].groupby('geo').bet.mean().min())\n"
      ],
      "execution_count": null,
      "outputs": []
    },
    {
      "cell_type": "code",
      "metadata": {
        "id": "ki8kf8GQZ-zT",
        "colab_type": "code",
        "colab": {}
      },
      "source": [
        "# Task 1.10.3\n",
        "import pandas as pd\n",
        "\n",
        "# log = pd.read_csv(project_dir + 'data/u3/' + 'log.csv', header=None)\n",
        "# us = pd.read_csv(project_dir + 'data/u3/' + 'users.csv', sep='\\t', encoding='koi8_r')\n",
        "\n",
        "log = pd.read_csv('log.csv', header=None)\n",
        "us = pd.read_csv('users.csv', sep='\\t', encoding='koi8_r')\n",
        "\n",
        "log.columns = ['user_id', 'time', 'bet', 'win']\n",
        "us.columns = ['user_id','email','geo']\n",
        "\n",
        "# Приведем признак user_id к одному формату в обоих датасетах  \n",
        "us.user_id = us.user_id.apply(lambda x: x.lower())  \n",
        "\n",
        "# Избавимся от ошибок в user_id  \n",
        "log = log[log.user_id != '#error']  \n",
        "log.user_id = log.user_id.str.split(' - ').apply(lambda x: x[1])  \n",
        "\n",
        "res = pd.merge(log, us, on='user_id')\n",
        "\n",
        "sample2 = res.groupby('geo').user_id.count()\n",
        "\n",
        "sample2"
      ],
      "execution_count": null,
      "outputs": []
    },
    {
      "cell_type": "code",
      "metadata": {
        "id": "76h7_66PmKfE",
        "colab_type": "code",
        "colab": {}
      },
      "source": [
        ""
      ],
      "execution_count": null,
      "outputs": []
    },
    {
      "cell_type": "code",
      "metadata": {
        "id": "OO26BhY0mKTz",
        "colab_type": "code",
        "colab": {}
      },
      "source": [
        ""
      ],
      "execution_count": null,
      "outputs": []
    },
    {
      "cell_type": "code",
      "metadata": {
        "id": "bq-KZaMmIzcp",
        "colab_type": "code",
        "colab": {}
      },
      "source": [
        ""
      ],
      "execution_count": null,
      "outputs": []
    },
    {
      "cell_type": "markdown",
      "metadata": {
        "id": "ov_PA2CwpKOB",
        "colab_type": "text"
      },
      "source": [
        "# End\n"
      ]
    },
    {
      "cell_type": "code",
      "metadata": {
        "id": "eSimPwpjUeqL",
        "colab_type": "code",
        "colab": {}
      },
      "source": [
        ""
      ],
      "execution_count": null,
      "outputs": []
    }
  ]
}