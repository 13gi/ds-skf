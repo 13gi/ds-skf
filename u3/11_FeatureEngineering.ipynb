{
  "nbformat": 4,
  "nbformat_minor": 0,
  "metadata": {
    "colab": {
      "name": "11-FeatureEngineering.ipynb",
      "provenance": [],
      "collapsed_sections": [],
      "toc_visible": true,
      "mount_file_id": "1zFvphx3QV2zgpOCiAQLFdsjVAtxY0jp_",
      "authorship_tag": "ABX9TyNMZE1XsZGkCHAlzOaMVmcA"
    },
    "kernelspec": {
      "name": "python3",
      "display_name": "Python 3"
    }
  },
  "cells": [
    {
      "cell_type": "markdown",
      "metadata": {
        "id": "B5aGcv00buCi",
        "colab_type": "text"
      },
      "source": [
        "# Start"
      ]
    },
    {
      "cell_type": "code",
      "metadata": {
        "id": "VgCvjk_UUcwg",
        "colab_type": "code",
        "colab": {}
      },
      "source": [
        "import warnings; warnings.simplefilter('ignore')\n",
        "\n",
        "import random\n",
        "\n",
        "import pandas as pd\n",
        "import numpy as np\n",
        "import os\n",
        "import re\n",
        "\n",
        "import matplotlib.pyplot as plt\n",
        "import seaborn as sns\n",
        "import cufflinks as cf\n",
        "from plotly.offline import download_plotlyjs, init_notebook_mode, plot, iplot\n",
        "\n",
        "project_dir = r'/content/drive/My Drive/Colab Notebooks/'\n",
        "\n",
        "# %matplotlib inline\n"
      ],
      "execution_count": null,
      "outputs": []
    },
    {
      "cell_type": "code",
      "metadata": {
        "id": "RE-BLkV3toNq",
        "colab_type": "code",
        "colab": {}
      },
      "source": [
        ""
      ],
      "execution_count": null,
      "outputs": []
    },
    {
      "cell_type": "markdown",
      "metadata": {
        "id": "9tmGj4CnpDvK",
        "colab_type": "text"
      },
      "source": [
        "## 11.1 Пропуски"
      ]
    },
    {
      "cell_type": "code",
      "metadata": {
        "id": "O9TAg4x8UfIt",
        "colab_type": "code",
        "colab": {}
      },
      "source": [
        "os.listdir(project_dir + 'data/u3/')"
      ],
      "execution_count": null,
      "outputs": []
    },
    {
      "cell_type": "code",
      "metadata": {
        "id": "5Mo45HLZUfEl",
        "colab_type": "code",
        "colab": {}
      },
      "source": [
        "log = pd.read_csv(project_dir + 'data/u3/' + 'log.csv', header=None)\n",
        "log.columns = ['user_id', 'time', 'bet', 'win']\n",
        "\n",
        "log.sample(9)"
      ],
      "execution_count": null,
      "outputs": []
    },
    {
      "cell_type": "code",
      "metadata": {
        "id": "QR2Hky2yUfAO",
        "colab_type": "code",
        "colab": {}
      },
      "source": [
        "us = pd.read_csv(project_dir + 'data/u3/' + 'users.csv', sep='\\t', encoding='koi8_r')\n",
        "#users.columns\n",
        "us.columns = ['user_id','email','geo']\n",
        "\n",
        "us.sample(9)\n",
        "\n"
      ],
      "execution_count": null,
      "outputs": []
    },
    {
      "cell_type": "code",
      "metadata": {
        "id": "C3s9ivS8Ue8b",
        "colab_type": "code",
        "colab": {}
      },
      "source": [
        "log['time'].isna().sum()"
      ],
      "execution_count": null,
      "outputs": []
    },
    {
      "cell_type": "code",
      "metadata": {
        "id": "kZvR2D0Xvx-g",
        "colab_type": "code",
        "colab": {}
      },
      "source": [
        "log['user_id'].isna().sum()"
      ],
      "execution_count": null,
      "outputs": []
    },
    {
      "cell_type": "code",
      "metadata": {
        "id": "D_AF9utiUe4g",
        "colab_type": "code",
        "colab": {}
      },
      "source": [
        "# log.dropna(axis=1, subset=[log.columns])\n",
        "log2 = log\n",
        "log2.dropna(axis=0)"
      ],
      "execution_count": null,
      "outputs": []
    },
    {
      "cell_type": "code",
      "metadata": {
        "id": "3AiCQEcAvXVm",
        "colab_type": "code",
        "colab": {}
      },
      "source": [
        "log.columns"
      ],
      "execution_count": null,
      "outputs": []
    },
    {
      "cell_type": "code",
      "metadata": {
        "id": "N3j7cWrBUe03",
        "colab_type": "code",
        "colab": {}
      },
      "source": [
        "log2 = log\n",
        "log2.dropna(axis=1, subset=log2.index)"
      ],
      "execution_count": null,
      "outputs": []
    },
    {
      "cell_type": "markdown",
      "metadata": {
        "id": "GBh-MmYvxK4W",
        "colab_type": "text"
      },
      "source": [
        "## 11.2 Дубли"
      ]
    },
    {
      "cell_type": "code",
      "metadata": {
        "id": "fV5Y1LxXxKiu",
        "colab_type": "code",
        "colab": {}
      },
      "source": [
        "log2 = log\n",
        "log2.drop_duplicates(subset=['user_id', 'time'])"
      ],
      "execution_count": null,
      "outputs": []
    },
    {
      "cell_type": "code",
      "metadata": {
        "id": "tyd7gOhLxKak",
        "colab_type": "code",
        "colab": {}
      },
      "source": [
        ""
      ],
      "execution_count": null,
      "outputs": []
    },
    {
      "cell_type": "markdown",
      "metadata": {
        "id": "oUIJhnepyfDO",
        "colab_type": "text"
      },
      "source": [
        "## 11.3 Преобразование к DateTime"
      ]
    },
    {
      "cell_type": "code",
      "metadata": {
        "id": "QpK5gnM3xKVJ",
        "colab_type": "code",
        "colab": {}
      },
      "source": [
        "log.dropna(inplace=True, subset=['time'])\n"
      ],
      "execution_count": null,
      "outputs": []
    },
    {
      "cell_type": "code",
      "metadata": {
        "id": "SWtQUVIWxKT8",
        "colab_type": "code",
        "colab": {}
      },
      "source": [
        "log"
      ],
      "execution_count": null,
      "outputs": []
    },
    {
      "cell_type": "code",
      "metadata": {
        "id": "gT1lt137xKP_",
        "colab_type": "code",
        "colab": {}
      },
      "source": [
        "log.time = log.time.apply(lambda x: x[1:])\n",
        "log['time']"
      ],
      "execution_count": null,
      "outputs": []
    },
    {
      "cell_type": "code",
      "metadata": {
        "id": "l8ECnvinxKO7",
        "colab_type": "code",
        "colab": {}
      },
      "source": [
        "log.time = log.time.apply(lambda x: pd.to_datetime(x))\n",
        "log['time']"
      ],
      "execution_count": null,
      "outputs": []
    },
    {
      "cell_type": "code",
      "metadata": {
        "id": "3-X9dTSFxKKd",
        "colab_type": "code",
        "colab": {}
      },
      "source": [
        "log['time'].max()"
      ],
      "execution_count": null,
      "outputs": []
    },
    {
      "cell_type": "code",
      "metadata": {
        "id": "dzBY9kbsxKGE",
        "colab_type": "code",
        "colab": {}
      },
      "source": [
        "log['time'].head() "
      ],
      "execution_count": null,
      "outputs": []
    },
    {
      "cell_type": "markdown",
      "metadata": {
        "id": "Cz_WdeNw1h00",
        "colab_type": "text"
      },
      "source": [
        "## 11.4 Извлечение признаков времени"
      ]
    },
    {
      "cell_type": "code",
      "metadata": {
        "id": "YSO2qaoSxKBp",
        "colab_type": "code",
        "colab": {}
      },
      "source": [
        "log['time'].dt.minute"
      ],
      "execution_count": null,
      "outputs": []
    },
    {
      "cell_type": "code",
      "metadata": {
        "id": "n9BpJLLDxJ9N",
        "colab_type": "code",
        "colab": {}
      },
      "source": [
        "# Task 11.4.1\n",
        "\n",
        "log['time'].dt.minute.value_counts().head(1)"
      ],
      "execution_count": null,
      "outputs": []
    },
    {
      "cell_type": "code",
      "metadata": {
        "id": "JVxZ4-jY1kHG",
        "colab_type": "code",
        "colab": {}
      },
      "source": [
        "# Task 11.4.2\n",
        "# Используйте оригинальные данные log.csv, столбец time.\n",
        "# Подсказка: можно использовать value_counts().\n",
        "# Найдите месяц, который встречался в данных реже всего. Введите ответ в поле ниже.\n",
        "\n",
        "log['time'].dt.month.value_counts()"
      ],
      "execution_count": null,
      "outputs": []
    },
    {
      "cell_type": "code",
      "metadata": {
        "id": "kQPfZ_6b1kBP",
        "colab_type": "code",
        "colab": {}
      },
      "source": [
        "# Task 11.4.3\n",
        "\n",
        "log['time'].dt.weekday.value_counts()"
      ],
      "execution_count": null,
      "outputs": []
    },
    {
      "cell_type": "code",
      "metadata": {
        "id": "8rWaI1Az1j6l",
        "colab_type": "code",
        "colab": {}
      },
      "source": [
        "log['time'].dt.weekday.value_counts().loc[5] + log['time'].dt.weekday.value_counts().loc[6]"
      ],
      "execution_count": null,
      "outputs": []
    },
    {
      "cell_type": "code",
      "metadata": {
        "id": "f9oYyA0-u7UC",
        "colab_type": "code",
        "colab": {}
      },
      "source": [
        "# Task 11.4.4\n",
        "def convert_time_in_segment(hour):\n",
        "    '''  с 0 до 5 часов - ночь, с 6 до 11 - утро, с 12 до 17 - день, с 18 до 23 - вечер.\n",
        "    '''\n",
        "    if 0 <= hour <= 5:\n",
        "        return 'ночь'\n",
        "    elif 6 <= hour <= 11:\n",
        "        return 'утро'\n",
        "    elif 12 <= hour <= 17:\n",
        "        return 'день'\n",
        "    elif 18 <= hour <= 23:\n",
        "        return 'вечер'\n",
        "    else:\n",
        "        return None\n"
      ],
      "execution_count": null,
      "outputs": []
    },
    {
      "cell_type": "code",
      "metadata": {
        "id": "ZfFnvu03w_GB",
        "colab_type": "code",
        "colab": {}
      },
      "source": [
        "for i in range (-1, 25):\n",
        "    print(i, convert_time_in_segment(i))"
      ],
      "execution_count": null,
      "outputs": []
    },
    {
      "cell_type": "code",
      "metadata": {
        "id": "QgE5SIxX1j0x",
        "colab_type": "code",
        "colab": {}
      },
      "source": [
        "log['segment_time'] = log['time'].dt.hour.apply(lambda x: convert_time_in_segment(x))\n",
        "log['segment_time'] "
      ],
      "execution_count": null,
      "outputs": []
    },
    {
      "cell_type": "code",
      "metadata": {
        "id": "GT3hvmmP1jub",
        "colab_type": "code",
        "colab": {}
      },
      "source": [
        "log['segment_time'].value_counts().tail(1)"
      ],
      "execution_count": null,
      "outputs": []
    },
    {
      "cell_type": "code",
      "metadata": {
        "id": "ZUqD8KrMxJ4V",
        "colab_type": "code",
        "colab": {}
      },
      "source": [
        "# Task 11.4.3\n",
        "log = pd.read_csv(project_dir + 'data/u3/' + 'log.csv', header=None)\n",
        "\n",
        "log.columns = ['user_id', 'time', 'bet', 'win']\n",
        "\n",
        "log.dropna(inplace=True)\n",
        "\n",
        "log.time = log.time.apply(lambda x: x[1:])\n",
        "\n",
        "log.time = log.time.apply(lambda x: pd.to_datetime(x))\n",
        "\n",
        "log['hour'] = log['time'].dt.hour\n",
        "\n",
        "log"
      ],
      "execution_count": null,
      "outputs": []
    },
    {
      "cell_type": "markdown",
      "metadata": {
        "id": "78Ak9Oo82dWv",
        "colab_type": "text"
      },
      "source": [
        "## 11.5"
      ]
    },
    {
      "cell_type": "code",
      "metadata": {
        "id": "MpCTN3n_xJx5",
        "colab_type": "code",
        "colab": {}
      },
      "source": [
        "log = pd.read_csv(project_dir + 'data/u3/' + 'log.csv', header=None)\n",
        "\n",
        "log.columns = ['user_id', 'time', 'bet', 'win']\n",
        "\n",
        "#log"
      ],
      "execution_count": null,
      "outputs": []
    },
    {
      "cell_type": "code",
      "metadata": {
        "id": "7iHRphAsyEPr",
        "colab_type": "code",
        "colab": {}
      },
      "source": [
        "# Task 11.5.1\n",
        "\n",
        "log['bet'] = log['bet'].fillna(0)\n",
        "\n",
        "log['bet'].value_counts().head(1)"
      ],
      "execution_count": null,
      "outputs": []
    },
    {
      "cell_type": "code",
      "metadata": {
        "id": "EdbgBz2b2ciw",
        "colab_type": "code",
        "colab": {}
      },
      "source": [
        "# Task 11.5.2\n",
        "#  \n",
        "log['win'] = log['win'].apply(lambda row: 0 if pd.isnull(row) else row)   \n",
        "  \n",
        "log['result'] = log['win'] - log['bet']\n",
        "\n",
        "len(log['result'][log['result'] < 0])\n"
      ],
      "execution_count": null,
      "outputs": []
    },
    {
      "cell_type": "code",
      "metadata": {
        "id": "_hwzFhiHyEeb",
        "colab_type": "code",
        "colab": {}
      },
      "source": [
        ""
      ],
      "execution_count": null,
      "outputs": []
    },
    {
      "cell_type": "code",
      "metadata": {
        "id": "c7aXhXoUyEb5",
        "colab_type": "code",
        "colab": {}
      },
      "source": [
        "# Task 11.5.2\n",
        "#  \n",
        "\n",
        "def fillna_win(row):  \n",
        "    if pd.isnull(row[2]):\n",
        "        bet = 0\n",
        "    else:\n",
        "        bet = row[2]\n",
        "    if pd.isnull(row[3]):\n",
        "        win = 0\n",
        "    else:\n",
        "        win = row[3]\n",
        "    if win == 0 and bet > 0:\n",
        "        return 0 - bet\n",
        "    else:\n",
        "        return win\n",
        "  \n",
        "# Применяем функцию  \n",
        "new_win = log.apply(lambda row: fillna_win(row), axis=1)  \n",
        "  \n",
        "# Заменяем старый столбец с пропусками на новый без пропусков  \n",
        "log['win'] = new_win  "
      ],
      "execution_count": null,
      "outputs": []
    },
    {
      "cell_type": "code",
      "metadata": {
        "id": "DFv-Hofa_k-r",
        "colab_type": "code",
        "colab": {}
      },
      "source": [
        "log[log['win'] < 0]"
      ],
      "execution_count": null,
      "outputs": []
    },
    {
      "cell_type": "code",
      "metadata": {
        "id": "MGU0Sa7R_lMp",
        "colab_type": "code",
        "colab": {}
      },
      "source": [
        "len(log['win'][log['win'] < 0])"
      ],
      "execution_count": null,
      "outputs": []
    },
    {
      "cell_type": "code",
      "metadata": {
        "id": "SpOihLAA_lGX",
        "colab_type": "code",
        "colab": {}
      },
      "source": [
        "# Task 11.5.1\n",
        "\n",
        "log['net'] = log['win'] - log['bet']\n",
        "log"
      ],
      "execution_count": null,
      "outputs": []
    },
    {
      "cell_type": "code",
      "metadata": {
        "id": "pwqt_NAI_lCe",
        "colab_type": "code",
        "colab": {}
      },
      "source": [
        "len(log['net'][log['net'] > 0])"
      ],
      "execution_count": null,
      "outputs": []
    },
    {
      "cell_type": "code",
      "metadata": {
        "id": "pZg3k6ufHAlz",
        "colab_type": "code",
        "colab": {}
      },
      "source": [
        "# Task 11.5.2\n",
        "\n",
        "int(log[log['net'] > 0]['net'].mean())"
      ],
      "execution_count": null,
      "outputs": []
    },
    {
      "cell_type": "code",
      "metadata": {
        "id": "qkMTtxNaHAt-",
        "colab_type": "code",
        "colab": {}
      },
      "source": [
        "# Task 11.5.3\n",
        "\n",
        "int(log[log['net'] > 0]['net'].median())"
      ],
      "execution_count": null,
      "outputs": []
    },
    {
      "cell_type": "code",
      "metadata": {
        "id": "QsGnnyoHHAsE",
        "colab_type": "code",
        "colab": {}
      },
      "source": [
        "# Task 11.5.4\n",
        "\n",
        "log = pd.read_csv(project_dir + 'data/u3/' + 'log.csv', header=None)\n",
        "\n",
        "log.columns = ['user_id', 'time', 'bet', 'win']"
      ],
      "execution_count": null,
      "outputs": []
    },
    {
      "cell_type": "code",
      "metadata": {
        "id": "3pEM4dmPHAiQ",
        "colab_type": "code",
        "colab": {}
      },
      "source": [
        "log.bet.mean()"
      ],
      "execution_count": null,
      "outputs": []
    },
    {
      "cell_type": "code",
      "metadata": {
        "id": "JA94ljr4yELr",
        "colab_type": "code",
        "colab": {}
      },
      "source": [
        "log.bet.mean(skipna=False)"
      ],
      "execution_count": null,
      "outputs": []
    },
    {
      "cell_type": "code",
      "metadata": {
        "id": "EnXdvSxlIWI8",
        "colab_type": "code",
        "colab": {}
      },
      "source": [
        "# pd.mean(log['bet'])\n",
        "\n",
        "log.bet.sum() / log.bet.dropna().shape[0]"
      ],
      "execution_count": null,
      "outputs": []
    },
    {
      "cell_type": "code",
      "metadata": {
        "id": "BG37HLZEIWTa",
        "colab_type": "code",
        "colab": {}
      },
      "source": [
        "np.mean(log.bet)"
      ],
      "execution_count": null,
      "outputs": []
    },
    {
      "cell_type": "code",
      "metadata": {
        "id": "gCbIrx55IWAm",
        "colab_type": "code",
        "colab": {}
      },
      "source": [
        "log['bet'].dropna().mean()"
      ],
      "execution_count": null,
      "outputs": []
    },
    {
      "cell_type": "markdown",
      "metadata": {
        "id": "_7ak1BCfI0c0",
        "colab_type": "text"
      },
      "source": [
        "## 11.7"
      ]
    },
    {
      "cell_type": "code",
      "metadata": {
        "id": "QCln7DeNIzgS",
        "colab_type": "code",
        "colab": {}
      },
      "source": [
        "# Task 11.7.1\n",
        "log = pd.read_csv(project_dir + 'data/u3/' + 'log.csv', header=None)\n",
        "log.columns = ['user_id', 'time', 'bet', 'win']\n",
        "\n",
        "\n",
        "# log['time'] = log['time'].apply(lambda x: x[1:])\n",
        "# log.time = log.time.apply(lambda x: pd.to_datetime(x))\n",
        "\n",
        "log['bet'] = log['bet'].fillna(0)\n",
        "log['win'] = log['win'].fillna(0)\n",
        "\n",
        "log['net'] = log['win'] - log['bet']\n",
        "log"
      ],
      "execution_count": null,
      "outputs": []
    },
    {
      "cell_type": "code",
      "metadata": {
        "id": "8mVzawEKIzjZ",
        "colab_type": "code",
        "colab": {}
      },
      "source": [
        "round(log[log['bet'] > 0].shape[0] / log.shape[0] * 100, 1)"
      ],
      "execution_count": null,
      "outputs": []
    },
    {
      "cell_type": "code",
      "metadata": {
        "id": "DrBxNadG1thq",
        "colab_type": "code",
        "colab": {}
      },
      "source": [
        ""
      ],
      "execution_count": null,
      "outputs": []
    },
    {
      "cell_type": "code",
      "metadata": {
        "id": "LftUb_cQ1toi",
        "colab_type": "code",
        "colab": {}
      },
      "source": [
        "# Task 11.7.2\n",
        "\n",
        "bet_mean = log[log['bet']>0]['bet'].mean()\n",
        "int(bet_mean)"
      ],
      "execution_count": null,
      "outputs": []
    },
    {
      "cell_type": "code",
      "metadata": {
        "id": "FF989Jwn1teP",
        "colab_type": "code",
        "colab": {}
      },
      "source": [
        "# Task 11.7.3\n",
        "\n",
        "net_mean = log[log['bet']>0]['net'].mean()\n",
        "int(net_mean)"
      ],
      "execution_count": null,
      "outputs": []
    },
    {
      "cell_type": "code",
      "metadata": {
        "id": "A8T33bnt1tbg",
        "colab_type": "code",
        "colab": {}
      },
      "source": [
        "# Task 11.7.4\n",
        "\n",
        "lost_net_mean = log[log['net']<0]['net'].mean()\n",
        "int(lost_net_mean)"
      ],
      "execution_count": null,
      "outputs": []
    },
    {
      "cell_type": "code",
      "metadata": {
        "id": "Ku_RObZ61tYl",
        "colab_type": "code",
        "colab": {}
      },
      "source": [
        "# Task 11.7.5\n",
        "\n",
        "# всего ставок\n",
        "all_bet = log[log['bet'] > 0]\n",
        "\n",
        "all_bet_count = log[log['bet'] > 0].shape[0]\n",
        "\n",
        "bet_win = all_bet[all_bet['win'] > 0].shape[0]\n",
        "\n",
        "print('Всего ставок:', all_bet_count )\n",
        "print('Неудач:', all_bet_count - bet_win )\n",
        "print('Кол-во выйгрышей:', bet_win , '\\nПроцент удачи:', round(bet_win/all_bet_count*100) )\n"
      ],
      "execution_count": null,
      "outputs": []
    },
    {
      "cell_type": "code",
      "metadata": {
        "id": "yjoh2gS3Cxtn",
        "colab_type": "code",
        "colab": {}
      },
      "source": [
        "round(log[(log['bet'] > 0) & (log['win'] > 0)].shape[0] / log[log['bet'] > 0].shape[0] * 100 , 2)"
      ],
      "execution_count": null,
      "outputs": []
    },
    {
      "cell_type": "code",
      "metadata": {
        "id": "Lpfr0wbqIzs5",
        "colab_type": "code",
        "colab": {}
      },
      "source": [
        "# Task 11.7.6\n",
        "\n",
        "log = pd.read_csv(project_dir + 'data/u3/' + 'log.csv', header=None)\n",
        "log.columns = ['user_id', 'time', 'bet', 'win']\n",
        "\n",
        "min_bet_amount = log[log.bet.min() == log.bet].bet.count()\n",
        "min_bet_amount"
      ],
      "execution_count": null,
      "outputs": []
    },
    {
      "cell_type": "markdown",
      "metadata": {
        "id": "SaC8kaM3YEst",
        "colab_type": "text"
      },
      "source": [
        "## 11.8"
      ]
    },
    {
      "cell_type": "code",
      "metadata": {
        "id": "NuWyfcaj2fGy",
        "colab_type": "code",
        "colab": {}
      },
      "source": [
        "# Приведем признак user_id к одному формату в обоих датасетах  \n",
        "us.user_id = us.user_id.apply(lambda x: x.lower())  \n",
        "\n",
        "# Избавимся от ошибок в user_id  \n",
        "log = log[log.user_id != '#error']  \n",
        "log.user_id = log.user_id.str.split(' - ').apply(lambda x: x[1])  \n",
        "\n",
        "res = pd.merge(log, us, on='user_id') \n"
      ],
      "execution_count": null,
      "outputs": []
    },
    {
      "cell_type": "code",
      "metadata": {
        "id": "AQRuXmB0HX7h",
        "colab_type": "code",
        "colab": {}
      },
      "source": [
        ""
      ],
      "execution_count": null,
      "outputs": []
    },
    {
      "cell_type": "code",
      "metadata": {
        "id": "0QVKAGJiZTVA",
        "colab_type": "code",
        "colab": {}
      },
      "source": [
        "res.win.value_counts()"
      ],
      "execution_count": null,
      "outputs": []
    },
    {
      "cell_type": "code",
      "metadata": {
        "id": "ynN8gaP1YY-1",
        "colab_type": "code",
        "colab": {}
      },
      "source": [
        "# res.groupby('user_id').win.median().median() \n",
        "res.groupby('user_id').win.median()"
      ],
      "execution_count": null,
      "outputs": []
    },
    {
      "cell_type": "markdown",
      "metadata": {
        "id": "fF33lg8IZ30O",
        "colab_type": "text"
      },
      "source": [
        "## 11.9 Анализ по пользователям"
      ]
    },
    {
      "cell_type": "code",
      "metadata": {
        "id": "yazsn0O3YY4x",
        "colab_type": "code",
        "colab": {}
      },
      "source": [
        "# Task 11.9.1\n",
        "res['win'] = res['win'].fillna(0)\n",
        "res['bet'] = res['bet'].fillna(0)\n",
        "res['net'] = res['win'] - res['bet']\n",
        "\n",
        "res.groupby('user_id').net.sum().median()"
      ],
      "execution_count": null,
      "outputs": []
    },
    {
      "cell_type": "code",
      "metadata": {
        "id": "64jqL7wQZ-wS",
        "colab_type": "code",
        "colab": {}
      },
      "source": [
        "# Task 11.9.2\n",
        "\n",
        "# все пользователи кто сделал хотя бы одну ставку\n",
        "# результатом является список \n",
        "users_has_bet = res[res.bet > 0].groupby('user_id').bet.count().index\n",
        "\n",
        "# фильтруем датасет (берем только те строки где пользователь попадает в наш список со ставками), \n",
        "# в итоге откидываются пользователи которые ни разу не поставили\n",
        "# фиольтруем только те случаи, когда ставки не было\n",
        "# группируем по пользователям и считаем количество раз\n",
        "# усредняем количество приходов\n",
        "res.query('user_id in @users_has_bet')[log.bet == 0].groupby('user_id').bet.count().mean()\n",
        "\n"
      ],
      "execution_count": null,
      "outputs": []
    },
    {
      "cell_type": "code",
      "metadata": {
        "id": "tCKU-vdPZ_hX",
        "colab_type": "code",
        "colab": {}
      },
      "source": [
        "# Task 11.9.3\n",
        "\n",
        "res.time = res.time.apply(lambda x: x[1:])\n",
        "res.time = res.time.apply(lambda x: pd.to_datetime(x))\n",
        "\n",
        "res"
      ],
      "execution_count": null,
      "outputs": []
    },
    {
      "cell_type": "code",
      "metadata": {
        "id": "52HdyiolQR5K",
        "colab_type": "code",
        "colab": {}
      },
      "source": [
        "df0 = res.query('user_id in @users_has_bet').groupby('user_id').time.min().reset_index()\n",
        "df0.columns = ['user_id', 'first_time']\n",
        "\n",
        "df1 = res.query('user_id in @users_has_bet and bet > 0').groupby('user_id').time.min().reset_index()\n",
        "df1.columns = ['user_id', 'bet_time']\n",
        "\n",
        "result = pd.merge(df1, df0, on='user_id')\n",
        "result['delta'] =  result.bet_time - result.first_time\n",
        "\n",
        "result.delta.mean()"
      ],
      "execution_count": null,
      "outputs": []
    },
    {
      "cell_type": "code",
      "metadata": {
        "id": "G1hoPw_6WvI3",
        "colab_type": "code",
        "colab": {}
      },
      "source": [
        ""
      ],
      "execution_count": null,
      "outputs": []
    },
    {
      "cell_type": "markdown",
      "metadata": {
        "id": "25HY97bJgro8",
        "colab_type": "text"
      },
      "source": [
        "## 11.10"
      ]
    },
    {
      "cell_type": "code",
      "metadata": {
        "id": "Qgm4-vxFf-57",
        "colab_type": "code",
        "colab": {}
      },
      "source": [
        "# Task 11.10.1 - первый вариант\n",
        "\n",
        "sity = res.groupby('geo').win.sum()\n",
        "sity.sort_values(ascending=False).head(2).tail(1).index[0]"
      ],
      "execution_count": null,
      "outputs": []
    },
    {
      "cell_type": "code",
      "metadata": {
        "id": "V4nVslMIf-pv",
        "colab_type": "code",
        "colab": {}
      },
      "source": [
        "# Task 11.10.1 второй вариант\n",
        "\n",
        "res[res['geo'] != 'Москва'].groupby('geo').win.sum().sort_values().tail(1)"
      ],
      "execution_count": null,
      "outputs": []
    },
    {
      "cell_type": "code",
      "metadata": {
        "id": "lSksKz_3jEHj",
        "colab_type": "code",
        "colab": {}
      },
      "source": [
        "# Task 11.10.2\n",
        "\n",
        "res[res.bet > 0].groupby('geo').bet.mean().sort_values()"
      ],
      "execution_count": null,
      "outputs": []
    },
    {
      "cell_type": "code",
      "metadata": {
        "id": "mukT0S4njECY",
        "colab_type": "code",
        "colab": {}
      },
      "source": [
        "# Task 1.10.2\n",
        "\n",
        "int(res[res.bet > 0].groupby('geo').bet.mean().max() / res[res.bet > 0].groupby('geo').bet.mean().min())\n"
      ],
      "execution_count": null,
      "outputs": []
    },
    {
      "cell_type": "code",
      "metadata": {
        "id": "ki8kf8GQZ-zT",
        "colab_type": "code",
        "colab": {}
      },
      "source": [
        "# Task 1.10.3\n",
        "import pandas as pd\n",
        "\n",
        "# log = pd.read_csv(project_dir + 'data/u3/' + 'log.csv', header=None)\n",
        "# us = pd.read_csv(project_dir + 'data/u3/' + 'users.csv', sep='\\t', encoding='koi8_r')\n",
        "\n",
        "log = pd.read_csv('log.csv', header=None)\n",
        "us = pd.read_csv('users.csv', sep='\\t', encoding='koi8_r')\n",
        "\n",
        "log.columns = ['user_id', 'time', 'bet', 'win']\n",
        "us.columns = ['user_id','email','geo']\n",
        "\n",
        "# Приведем признак user_id к одному формату в обоих датасетах  \n",
        "us.user_id = us.user_id.apply(lambda x: x.lower())  \n",
        "\n",
        "# Избавимся от ошибок в user_id  \n",
        "log = log[log.user_id != '#error']  \n",
        "log.user_id = log.user_id.str.split(' - ').apply(lambda x: x[1])  \n",
        "\n",
        "res = pd.merge(log, us, on='user_id')\n",
        "\n",
        "sample2 = res.groupby('geo').user_id.count()\n",
        "\n",
        "sample2"
      ],
      "execution_count": null,
      "outputs": []
    },
    {
      "cell_type": "code",
      "metadata": {
        "id": "76h7_66PmKfE",
        "colab_type": "code",
        "colab": {}
      },
      "source": [
        ""
      ],
      "execution_count": null,
      "outputs": []
    },
    {
      "cell_type": "code",
      "metadata": {
        "id": "OO26BhY0mKTz",
        "colab_type": "code",
        "colab": {}
      },
      "source": [
        ""
      ],
      "execution_count": null,
      "outputs": []
    },
    {
      "cell_type": "code",
      "metadata": {
        "id": "bq-KZaMmIzcp",
        "colab_type": "code",
        "colab": {}
      },
      "source": [
        ""
      ],
      "execution_count": null,
      "outputs": []
    },
    {
      "cell_type": "markdown",
      "metadata": {
        "id": "ov_PA2CwpKOB",
        "colab_type": "text"
      },
      "source": [
        "# End\n"
      ]
    },
    {
      "cell_type": "code",
      "metadata": {
        "id": "eSimPwpjUeqL",
        "colab_type": "code",
        "colab": {}
      },
      "source": [
        ""
      ],
      "execution_count": null,
      "outputs": []
    }
  ]
}