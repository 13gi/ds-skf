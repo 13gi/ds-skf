{
  "nbformat": 4,
  "nbformat_minor": 0,
  "metadata": {
    "colab": {
      "name": "11-FeatureEngineering.ipynb",
      "provenance": [],
      "mount_file_id": "1zFvphx3QV2zgpOCiAQLFdsjVAtxY0jp_",
      "authorship_tag": "ABX9TyPDNiObqrIGVJkbUd++yQ1C"
    },
    "kernelspec": {
      "name": "python3",
      "display_name": "Python 3"
    }
  },
  "cells": [
    {
      "cell_type": "markdown",
      "metadata": {
        "id": "B5aGcv00buCi",
        "colab_type": "text"
      },
      "source": [
        "# Start"
      ]
    },
    {
      "cell_type": "code",
      "metadata": {
        "id": "VgCvjk_UUcwg",
        "colab_type": "code",
        "colab": {}
      },
      "source": [
        "import warnings; warnings.simplefilter('ignore')\n",
        "\n",
        "import random\n",
        "\n",
        "import pandas as pd\n",
        "import numpy as np\n",
        "import os\n",
        "import re\n",
        "\n",
        "import matplotlib.pyplot as plt\n",
        "import seaborn as sns\n",
        "import cufflinks as cf\n",
        "from plotly.offline import download_plotlyjs, init_notebook_mode, plot, iplot\n",
        "\n",
        "project_dir = r'/content/drive/My Drive/Colab Notebooks/'\n",
        "\n",
        "%matplotlib inline\n"
      ],
      "execution_count": 1,
      "outputs": []
    },
    {
      "cell_type": "markdown",
      "metadata": {
        "id": "9tmGj4CnpDvK",
        "colab_type": "text"
      },
      "source": [
        "## 11.1 Пропуски"
      ]
    },
    {
      "cell_type": "code",
      "metadata": {
        "id": "O9TAg4x8UfIt",
        "colab_type": "code",
        "colab": {
          "base_uri": "https://localhost:8080/",
          "height": 34
        },
        "outputId": "e935bafb-173f-4b5a-ddfd-c32d47933664"
      },
      "source": [
        "os.listdir(project_dir + 'data/u3/')"
      ],
      "execution_count": 2,
      "outputs": [
        {
          "output_type": "execute_result",
          "data": {
            "text/plain": [
              "['log.csv', 'users.csv']"
            ]
          },
          "metadata": {
            "tags": []
          },
          "execution_count": 2
        }
      ]
    },
    {
      "cell_type": "code",
      "metadata": {
        "id": "5Mo45HLZUfEl",
        "colab_type": "code",
        "colab": {
          "base_uri": "https://localhost:8080/",
          "height": 328
        },
        "outputId": "86e8dec4-263a-4f3b-d2fa-eb7c46198a90"
      },
      "source": [
        "log = pd.read_csv(project_dir + 'data/u3/' + 'log.csv', header=None)\n",
        "log.columns = ['user_id', 'time', 'bet', 'win']\n",
        "\n",
        "log.sample(9)"
      ],
      "execution_count": 3,
      "outputs": [
        {
          "output_type": "execute_result",
          "data": {
            "text/html": [
              "<div>\n",
              "<style scoped>\n",
              "    .dataframe tbody tr th:only-of-type {\n",
              "        vertical-align: middle;\n",
              "    }\n",
              "\n",
              "    .dataframe tbody tr th {\n",
              "        vertical-align: top;\n",
              "    }\n",
              "\n",
              "    .dataframe thead th {\n",
              "        text-align: right;\n",
              "    }\n",
              "</style>\n",
              "<table border=\"1\" class=\"dataframe\">\n",
              "  <thead>\n",
              "    <tr style=\"text-align: right;\">\n",
              "      <th></th>\n",
              "      <th>user_id</th>\n",
              "      <th>time</th>\n",
              "      <th>bet</th>\n",
              "      <th>win</th>\n",
              "    </tr>\n",
              "  </thead>\n",
              "  <tbody>\n",
              "    <tr>\n",
              "      <th>448</th>\n",
              "      <td>Запись пользователя № - user_984</td>\n",
              "      <td>[2019-02-17 16:44:12</td>\n",
              "      <td>NaN</td>\n",
              "      <td>NaN</td>\n",
              "    </tr>\n",
              "    <tr>\n",
              "      <th>704</th>\n",
              "      <td>Запись пользователя № - user_963</td>\n",
              "      <td>[2019-03-19 23:44:53</td>\n",
              "      <td>100.0</td>\n",
              "      <td>NaN</td>\n",
              "    </tr>\n",
              "    <tr>\n",
              "      <th>628</th>\n",
              "      <td>Запись пользователя № - user_922</td>\n",
              "      <td>[2019-03-09 21:06:50</td>\n",
              "      <td>400.0</td>\n",
              "      <td>NaN</td>\n",
              "    </tr>\n",
              "    <tr>\n",
              "      <th>409</th>\n",
              "      <td>Запись пользователя № - user_912</td>\n",
              "      <td>[2019-02-13 21:51:31</td>\n",
              "      <td>NaN</td>\n",
              "      <td>NaN</td>\n",
              "    </tr>\n",
              "    <tr>\n",
              "      <th>446</th>\n",
              "      <td>Запись пользователя № - user_985</td>\n",
              "      <td>[2019-02-17 10:30:34</td>\n",
              "      <td>100.0</td>\n",
              "      <td>NaN</td>\n",
              "    </tr>\n",
              "    <tr>\n",
              "      <th>300</th>\n",
              "      <td>Запись пользователя № - user_916</td>\n",
              "      <td>[2019-02-02 6:15:01</td>\n",
              "      <td>NaN</td>\n",
              "      <td>NaN</td>\n",
              "    </tr>\n",
              "    <tr>\n",
              "      <th>699</th>\n",
              "      <td>Запись пользователя № - user_927</td>\n",
              "      <td>[2019-03-18 19:37:29</td>\n",
              "      <td>200.0</td>\n",
              "      <td>NaN</td>\n",
              "    </tr>\n",
              "    <tr>\n",
              "      <th>307</th>\n",
              "      <td>Запись пользователя № - user_918</td>\n",
              "      <td>[2019-02-03 22:14:22</td>\n",
              "      <td>NaN</td>\n",
              "      <td>NaN</td>\n",
              "    </tr>\n",
              "    <tr>\n",
              "      <th>863</th>\n",
              "      <td>Запись пользователя № - user_906</td>\n",
              "      <td>[2019-04-06 12:58:57</td>\n",
              "      <td>900.0</td>\n",
              "      <td>NaN</td>\n",
              "    </tr>\n",
              "  </tbody>\n",
              "</table>\n",
              "</div>"
            ],
            "text/plain": [
              "                              user_id                  time    bet  win\n",
              "448  Запись пользователя № - user_984  [2019-02-17 16:44:12    NaN  NaN\n",
              "704  Запись пользователя № - user_963  [2019-03-19 23:44:53  100.0  NaN\n",
              "628  Запись пользователя № - user_922  [2019-03-09 21:06:50  400.0  NaN\n",
              "409  Запись пользователя № - user_912  [2019-02-13 21:51:31    NaN  NaN\n",
              "446  Запись пользователя № - user_985  [2019-02-17 10:30:34  100.0  NaN\n",
              "300  Запись пользователя № - user_916   [2019-02-02 6:15:01    NaN  NaN\n",
              "699  Запись пользователя № - user_927  [2019-03-18 19:37:29  200.0  NaN\n",
              "307  Запись пользователя № - user_918  [2019-02-03 22:14:22    NaN  NaN\n",
              "863  Запись пользователя № - user_906  [2019-04-06 12:58:57  900.0  NaN"
            ]
          },
          "metadata": {
            "tags": []
          },
          "execution_count": 3
        }
      ]
    },
    {
      "cell_type": "code",
      "metadata": {
        "id": "QR2Hky2yUfAO",
        "colab_type": "code",
        "colab": {
          "base_uri": "https://localhost:8080/",
          "height": 328
        },
        "outputId": "e3f0b32b-c02b-4e69-c94f-700852e6e077"
      },
      "source": [
        "users = pd.read_csv(project_dir + 'data/u3/' + 'users.csv', sep='\\t', encoding='koi8_r')\n",
        "#users.columns\n",
        "users.columns = ['user_id','email','geo']\n",
        "\n",
        "users.sample(9)\n",
        "\n"
      ],
      "execution_count": 4,
      "outputs": [
        {
          "output_type": "execute_result",
          "data": {
            "text/html": [
              "<div>\n",
              "<style scoped>\n",
              "    .dataframe tbody tr th:only-of-type {\n",
              "        vertical-align: middle;\n",
              "    }\n",
              "\n",
              "    .dataframe tbody tr th {\n",
              "        vertical-align: top;\n",
              "    }\n",
              "\n",
              "    .dataframe thead th {\n",
              "        text-align: right;\n",
              "    }\n",
              "</style>\n",
              "<table border=\"1\" class=\"dataframe\">\n",
              "  <thead>\n",
              "    <tr style=\"text-align: right;\">\n",
              "      <th></th>\n",
              "      <th>user_id</th>\n",
              "      <th>email</th>\n",
              "      <th>geo</th>\n",
              "    </tr>\n",
              "  </thead>\n",
              "  <tbody>\n",
              "    <tr>\n",
              "      <th>11</th>\n",
              "      <td>User_983</td>\n",
              "      <td>Boxfixiteicloud.com</td>\n",
              "      <td>Ставрополь</td>\n",
              "    </tr>\n",
              "    <tr>\n",
              "      <th>20</th>\n",
              "      <td>User_919</td>\n",
              "      <td>Chikkaverle@icloud.com</td>\n",
              "      <td>Хабаровск</td>\n",
              "    </tr>\n",
              "    <tr>\n",
              "      <th>74</th>\n",
              "      <td>User_997</td>\n",
              "      <td>Prestigenp@inbox.ru</td>\n",
              "      <td>Ярославль</td>\n",
              "    </tr>\n",
              "    <tr>\n",
              "      <th>23</th>\n",
              "      <td>User_949</td>\n",
              "      <td>DirtyChiri@ya.ru</td>\n",
              "      <td>Красноярск</td>\n",
              "    </tr>\n",
              "    <tr>\n",
              "      <th>79</th>\n",
              "      <td>User_914</td>\n",
              "      <td>Sandpoist@gmail.com</td>\n",
              "      <td>Воронеж</td>\n",
              "    </tr>\n",
              "    <tr>\n",
              "      <th>98</th>\n",
              "      <td>User_965</td>\n",
              "      <td>Visuareda@yahoo.com</td>\n",
              "      <td>Воронеж</td>\n",
              "    </tr>\n",
              "    <tr>\n",
              "      <th>39</th>\n",
              "      <td>User_972</td>\n",
              "      <td>Haystenvi@yandex.ru</td>\n",
              "      <td>Санкт-Петербург</td>\n",
              "    </tr>\n",
              "    <tr>\n",
              "      <th>81</th>\n",
              "      <td>User_944</td>\n",
              "      <td>Seenomvura@yahoo.com</td>\n",
              "      <td>Екатеринбург</td>\n",
              "    </tr>\n",
              "    <tr>\n",
              "      <th>52</th>\n",
              "      <td>User_904</td>\n",
              "      <td>Kryptoburs@yahoo.com</td>\n",
              "      <td>Ярославль</td>\n",
              "    </tr>\n",
              "  </tbody>\n",
              "</table>\n",
              "</div>"
            ],
            "text/plain": [
              "     user_id                   email              geo\n",
              "11  User_983     Boxfixiteicloud.com       Ставрополь\n",
              "20  User_919  Chikkaverle@icloud.com        Хабаровск\n",
              "74  User_997     Prestigenp@inbox.ru        Ярославль\n",
              "23  User_949        DirtyChiri@ya.ru       Красноярск\n",
              "79  User_914     Sandpoist@gmail.com          Воронеж\n",
              "98  User_965     Visuareda@yahoo.com          Воронеж\n",
              "39  User_972     Haystenvi@yandex.ru  Санкт-Петербург\n",
              "81  User_944    Seenomvura@yahoo.com     Екатеринбург\n",
              "52  User_904    Kryptoburs@yahoo.com        Ярославль"
            ]
          },
          "metadata": {
            "tags": []
          },
          "execution_count": 4
        }
      ]
    },
    {
      "cell_type": "code",
      "metadata": {
        "id": "C3s9ivS8Ue8b",
        "colab_type": "code",
        "colab": {
          "base_uri": "https://localhost:8080/",
          "height": 34
        },
        "outputId": "54cf8d71-82cd-4758-dda9-f61da8026a39"
      },
      "source": [
        "log['time'].isna().sum()"
      ],
      "execution_count": 5,
      "outputs": [
        {
          "output_type": "execute_result",
          "data": {
            "text/plain": [
              "15"
            ]
          },
          "metadata": {
            "tags": []
          },
          "execution_count": 5
        }
      ]
    },
    {
      "cell_type": "code",
      "metadata": {
        "id": "kZvR2D0Xvx-g",
        "colab_type": "code",
        "colab": {
          "base_uri": "https://localhost:8080/",
          "height": 34
        },
        "outputId": "aa02885d-5b26-402f-ef74-283d95d42099"
      },
      "source": [
        "log['user_id'].isna().sum()"
      ],
      "execution_count": 6,
      "outputs": [
        {
          "output_type": "execute_result",
          "data": {
            "text/plain": [
              "0"
            ]
          },
          "metadata": {
            "tags": []
          },
          "execution_count": 6
        }
      ]
    },
    {
      "cell_type": "code",
      "metadata": {
        "id": "D_AF9utiUe4g",
        "colab_type": "code",
        "colab": {
          "base_uri": "https://localhost:8080/",
          "height": 419
        },
        "outputId": "1c369167-e53b-4522-af5e-f2813de6b580"
      },
      "source": [
        "# log.dropna(axis=1, subset=[log.columns])\n",
        "log2 = log\n",
        "log2.dropna(axis=0)"
      ],
      "execution_count": 7,
      "outputs": [
        {
          "output_type": "execute_result",
          "data": {
            "text/html": [
              "<div>\n",
              "<style scoped>\n",
              "    .dataframe tbody tr th:only-of-type {\n",
              "        vertical-align: middle;\n",
              "    }\n",
              "\n",
              "    .dataframe tbody tr th {\n",
              "        vertical-align: top;\n",
              "    }\n",
              "\n",
              "    .dataframe thead th {\n",
              "        text-align: right;\n",
              "    }\n",
              "</style>\n",
              "<table border=\"1\" class=\"dataframe\">\n",
              "  <thead>\n",
              "    <tr style=\"text-align: right;\">\n",
              "      <th></th>\n",
              "      <th>user_id</th>\n",
              "      <th>time</th>\n",
              "      <th>bet</th>\n",
              "      <th>win</th>\n",
              "    </tr>\n",
              "  </thead>\n",
              "  <tbody>\n",
              "    <tr>\n",
              "      <th>14</th>\n",
              "      <td>Запись пользователя № - user_917</td>\n",
              "      <td>[2019-01-02 8:57:36</td>\n",
              "      <td>145732.0</td>\n",
              "      <td>1987653.0</td>\n",
              "    </tr>\n",
              "    <tr>\n",
              "      <th>29</th>\n",
              "      <td>Запись пользователя № - user_942</td>\n",
              "      <td>[2019-01-04 13:59:42</td>\n",
              "      <td>1678321.0</td>\n",
              "      <td>9876543.0</td>\n",
              "    </tr>\n",
              "    <tr>\n",
              "      <th>151</th>\n",
              "      <td>Запись пользователя № - user_982</td>\n",
              "      <td>[2019-01-16 21:54:22</td>\n",
              "      <td>100.0</td>\n",
              "      <td>4749.0</td>\n",
              "    </tr>\n",
              "    <tr>\n",
              "      <th>189</th>\n",
              "      <td>Запись пользователя № - user_964</td>\n",
              "      <td>[2019-01-21 18:34:44</td>\n",
              "      <td>200.0</td>\n",
              "      <td>4667.0</td>\n",
              "    </tr>\n",
              "    <tr>\n",
              "      <th>205</th>\n",
              "      <td>Запись пользователя № - user_931</td>\n",
              "      <td>[2019-01-22 5:26:59</td>\n",
              "      <td>300.0</td>\n",
              "      <td>4319.0</td>\n",
              "    </tr>\n",
              "    <tr>\n",
              "      <th>...</th>\n",
              "      <td>...</td>\n",
              "      <td>...</td>\n",
              "      <td>...</td>\n",
              "      <td>...</td>\n",
              "    </tr>\n",
              "    <tr>\n",
              "      <th>967</th>\n",
              "      <td>Запись пользователя № - user_975</td>\n",
              "      <td>[2019-04-19 22:25:15</td>\n",
              "      <td>1000.0</td>\n",
              "      <td>6108.0</td>\n",
              "    </tr>\n",
              "    <tr>\n",
              "      <th>971</th>\n",
              "      <td>Запись пользователя № - user_912</td>\n",
              "      <td>[2019-04-20 10:35:49</td>\n",
              "      <td>10554.0</td>\n",
              "      <td>31799.0</td>\n",
              "    </tr>\n",
              "    <tr>\n",
              "      <th>972</th>\n",
              "      <td>Запись пользователя № - user_926</td>\n",
              "      <td>[2019-04-20 10:35:50</td>\n",
              "      <td>10354.0</td>\n",
              "      <td>30244.0</td>\n",
              "    </tr>\n",
              "    <tr>\n",
              "      <th>976</th>\n",
              "      <td>Запись пользователя № - user_970</td>\n",
              "      <td>[2019-04-20 10:35:54</td>\n",
              "      <td>10354.0</td>\n",
              "      <td>30691.0</td>\n",
              "    </tr>\n",
              "    <tr>\n",
              "      <th>991</th>\n",
              "      <td>Запись пользователя № - user_965</td>\n",
              "      <td>[2019-04-20 12:55:41</td>\n",
              "      <td>800.0</td>\n",
              "      <td>6927.0</td>\n",
              "    </tr>\n",
              "  </tbody>\n",
              "</table>\n",
              "<p>133 rows × 4 columns</p>\n",
              "</div>"
            ],
            "text/plain": [
              "                              user_id  ...        win\n",
              "14   Запись пользователя № - user_917  ...  1987653.0\n",
              "29   Запись пользователя № - user_942  ...  9876543.0\n",
              "151  Запись пользователя № - user_982  ...     4749.0\n",
              "189  Запись пользователя № - user_964  ...     4667.0\n",
              "205  Запись пользователя № - user_931  ...     4319.0\n",
              "..                                ...  ...        ...\n",
              "967  Запись пользователя № - user_975  ...     6108.0\n",
              "971  Запись пользователя № - user_912  ...    31799.0\n",
              "972  Запись пользователя № - user_926  ...    30244.0\n",
              "976  Запись пользователя № - user_970  ...    30691.0\n",
              "991  Запись пользователя № - user_965  ...     6927.0\n",
              "\n",
              "[133 rows x 4 columns]"
            ]
          },
          "metadata": {
            "tags": []
          },
          "execution_count": 7
        }
      ]
    },
    {
      "cell_type": "code",
      "metadata": {
        "id": "3AiCQEcAvXVm",
        "colab_type": "code",
        "colab": {
          "base_uri": "https://localhost:8080/",
          "height": 34
        },
        "outputId": "22d44fd7-8454-4a59-e5d6-f9cc4ed52a43"
      },
      "source": [
        "log.columns"
      ],
      "execution_count": 8,
      "outputs": [
        {
          "output_type": "execute_result",
          "data": {
            "text/plain": [
              "Index(['user_id', 'time', 'bet', 'win'], dtype='object')"
            ]
          },
          "metadata": {
            "tags": []
          },
          "execution_count": 8
        }
      ]
    },
    {
      "cell_type": "code",
      "metadata": {
        "id": "N3j7cWrBUe03",
        "colab_type": "code",
        "colab": {
          "base_uri": "https://localhost:8080/",
          "height": 419
        },
        "outputId": "30348731-68dd-48b8-f010-a3f1b29e7ed0"
      },
      "source": [
        "log2 = log\n",
        "log2.dropna(axis=1, subset=log2.index)"
      ],
      "execution_count": 9,
      "outputs": [
        {
          "output_type": "execute_result",
          "data": {
            "text/html": [
              "<div>\n",
              "<style scoped>\n",
              "    .dataframe tbody tr th:only-of-type {\n",
              "        vertical-align: middle;\n",
              "    }\n",
              "\n",
              "    .dataframe tbody tr th {\n",
              "        vertical-align: top;\n",
              "    }\n",
              "\n",
              "    .dataframe thead th {\n",
              "        text-align: right;\n",
              "    }\n",
              "</style>\n",
              "<table border=\"1\" class=\"dataframe\">\n",
              "  <thead>\n",
              "    <tr style=\"text-align: right;\">\n",
              "      <th></th>\n",
              "      <th>user_id</th>\n",
              "    </tr>\n",
              "  </thead>\n",
              "  <tbody>\n",
              "    <tr>\n",
              "      <th>0</th>\n",
              "      <td>Запись пользователя № - user_919</td>\n",
              "    </tr>\n",
              "    <tr>\n",
              "      <th>1</th>\n",
              "      <td>Запись пользователя № - user_973</td>\n",
              "    </tr>\n",
              "    <tr>\n",
              "      <th>2</th>\n",
              "      <td>Запись пользователя № - user_903</td>\n",
              "    </tr>\n",
              "    <tr>\n",
              "      <th>3</th>\n",
              "      <td>Запись пользователя № - user_954</td>\n",
              "    </tr>\n",
              "    <tr>\n",
              "      <th>4</th>\n",
              "      <td>Запись пользователя № - user_954</td>\n",
              "    </tr>\n",
              "    <tr>\n",
              "      <th>...</th>\n",
              "      <td>...</td>\n",
              "    </tr>\n",
              "    <tr>\n",
              "      <th>995</th>\n",
              "      <td>Запись пользователя № - user_984</td>\n",
              "    </tr>\n",
              "    <tr>\n",
              "      <th>996</th>\n",
              "      <td>#error</td>\n",
              "    </tr>\n",
              "    <tr>\n",
              "      <th>997</th>\n",
              "      <td>#error</td>\n",
              "    </tr>\n",
              "    <tr>\n",
              "      <th>998</th>\n",
              "      <td>#error</td>\n",
              "    </tr>\n",
              "    <tr>\n",
              "      <th>999</th>\n",
              "      <td>#error</td>\n",
              "    </tr>\n",
              "  </tbody>\n",
              "</table>\n",
              "<p>1000 rows × 1 columns</p>\n",
              "</div>"
            ],
            "text/plain": [
              "                              user_id\n",
              "0    Запись пользователя № - user_919\n",
              "1    Запись пользователя № - user_973\n",
              "2    Запись пользователя № - user_903\n",
              "3    Запись пользователя № - user_954\n",
              "4    Запись пользователя № - user_954\n",
              "..                                ...\n",
              "995  Запись пользователя № - user_984\n",
              "996                            #error\n",
              "997                            #error\n",
              "998                            #error\n",
              "999                            #error\n",
              "\n",
              "[1000 rows x 1 columns]"
            ]
          },
          "metadata": {
            "tags": []
          },
          "execution_count": 9
        }
      ]
    },
    {
      "cell_type": "markdown",
      "metadata": {
        "id": "GBh-MmYvxK4W",
        "colab_type": "text"
      },
      "source": [
        "## 11.2 Дубли"
      ]
    },
    {
      "cell_type": "code",
      "metadata": {
        "id": "fV5Y1LxXxKiu",
        "colab_type": "code",
        "colab": {
          "base_uri": "https://localhost:8080/",
          "height": 419
        },
        "outputId": "fe595411-4195-4b8d-98fe-7239a656f0da"
      },
      "source": [
        "log2 = log\n",
        "log2.drop_duplicates(subset=['user_id', 'time'])"
      ],
      "execution_count": 10,
      "outputs": [
        {
          "output_type": "execute_result",
          "data": {
            "text/html": [
              "<div>\n",
              "<style scoped>\n",
              "    .dataframe tbody tr th:only-of-type {\n",
              "        vertical-align: middle;\n",
              "    }\n",
              "\n",
              "    .dataframe tbody tr th {\n",
              "        vertical-align: top;\n",
              "    }\n",
              "\n",
              "    .dataframe thead th {\n",
              "        text-align: right;\n",
              "    }\n",
              "</style>\n",
              "<table border=\"1\" class=\"dataframe\">\n",
              "  <thead>\n",
              "    <tr style=\"text-align: right;\">\n",
              "      <th></th>\n",
              "      <th>user_id</th>\n",
              "      <th>time</th>\n",
              "      <th>bet</th>\n",
              "      <th>win</th>\n",
              "    </tr>\n",
              "  </thead>\n",
              "  <tbody>\n",
              "    <tr>\n",
              "      <th>0</th>\n",
              "      <td>Запись пользователя № - user_919</td>\n",
              "      <td>[2019-01-01 14:06:51</td>\n",
              "      <td>NaN</td>\n",
              "      <td>NaN</td>\n",
              "    </tr>\n",
              "    <tr>\n",
              "      <th>1</th>\n",
              "      <td>Запись пользователя № - user_973</td>\n",
              "      <td>[2019-01-01 14:51:16</td>\n",
              "      <td>NaN</td>\n",
              "      <td>NaN</td>\n",
              "    </tr>\n",
              "    <tr>\n",
              "      <th>2</th>\n",
              "      <td>Запись пользователя № - user_903</td>\n",
              "      <td>[2019-01-01 16:31:16</td>\n",
              "      <td>NaN</td>\n",
              "      <td>NaN</td>\n",
              "    </tr>\n",
              "    <tr>\n",
              "      <th>3</th>\n",
              "      <td>Запись пользователя № - user_954</td>\n",
              "      <td>[2019-01-01 17:17:51</td>\n",
              "      <td>NaN</td>\n",
              "      <td>NaN</td>\n",
              "    </tr>\n",
              "    <tr>\n",
              "      <th>4</th>\n",
              "      <td>Запись пользователя № - user_954</td>\n",
              "      <td>[2019-01-01 21:31:18</td>\n",
              "      <td>NaN</td>\n",
              "      <td>NaN</td>\n",
              "    </tr>\n",
              "    <tr>\n",
              "      <th>...</th>\n",
              "      <td>...</td>\n",
              "      <td>...</td>\n",
              "      <td>...</td>\n",
              "      <td>...</td>\n",
              "    </tr>\n",
              "    <tr>\n",
              "      <th>991</th>\n",
              "      <td>Запись пользователя № - user_965</td>\n",
              "      <td>[2019-04-20 12:55:41</td>\n",
              "      <td>800.0</td>\n",
              "      <td>6927.0</td>\n",
              "    </tr>\n",
              "    <tr>\n",
              "      <th>992</th>\n",
              "      <td>Запись пользователя № - user_967</td>\n",
              "      <td>[2019-04-20 14:59:36</td>\n",
              "      <td>10154.0</td>\n",
              "      <td>NaN</td>\n",
              "    </tr>\n",
              "    <tr>\n",
              "      <th>993</th>\n",
              "      <td>Запись пользователя № - user_973</td>\n",
              "      <td>[2019-04-20 17:09:56</td>\n",
              "      <td>10254.0</td>\n",
              "      <td>NaN</td>\n",
              "    </tr>\n",
              "    <tr>\n",
              "      <th>994</th>\n",
              "      <td>Запись пользователя № - user_977</td>\n",
              "      <td>[2019-04-20 18:10:07</td>\n",
              "      <td>10354.0</td>\n",
              "      <td>NaN</td>\n",
              "    </tr>\n",
              "    <tr>\n",
              "      <th>995</th>\n",
              "      <td>Запись пользователя № - user_984</td>\n",
              "      <td>[2019-04-20 9:59:58</td>\n",
              "      <td>9754.0</td>\n",
              "      <td>NaN</td>\n",
              "    </tr>\n",
              "  </tbody>\n",
              "</table>\n",
              "<p>986 rows × 4 columns</p>\n",
              "</div>"
            ],
            "text/plain": [
              "                              user_id                  time      bet     win\n",
              "0    Запись пользователя № - user_919  [2019-01-01 14:06:51      NaN     NaN\n",
              "1    Запись пользователя № - user_973  [2019-01-01 14:51:16      NaN     NaN\n",
              "2    Запись пользователя № - user_903  [2019-01-01 16:31:16      NaN     NaN\n",
              "3    Запись пользователя № - user_954  [2019-01-01 17:17:51      NaN     NaN\n",
              "4    Запись пользователя № - user_954  [2019-01-01 21:31:18      NaN     NaN\n",
              "..                                ...                   ...      ...     ...\n",
              "991  Запись пользователя № - user_965  [2019-04-20 12:55:41    800.0  6927.0\n",
              "992  Запись пользователя № - user_967  [2019-04-20 14:59:36  10154.0     NaN\n",
              "993  Запись пользователя № - user_973  [2019-04-20 17:09:56  10254.0     NaN\n",
              "994  Запись пользователя № - user_977  [2019-04-20 18:10:07  10354.0     NaN\n",
              "995  Запись пользователя № - user_984   [2019-04-20 9:59:58   9754.0     NaN\n",
              "\n",
              "[986 rows x 4 columns]"
            ]
          },
          "metadata": {
            "tags": []
          },
          "execution_count": 10
        }
      ]
    },
    {
      "cell_type": "code",
      "metadata": {
        "id": "tyd7gOhLxKak",
        "colab_type": "code",
        "colab": {}
      },
      "source": [
        ""
      ],
      "execution_count": 10,
      "outputs": []
    },
    {
      "cell_type": "markdown",
      "metadata": {
        "id": "oUIJhnepyfDO",
        "colab_type": "text"
      },
      "source": [
        "## 11.3 Преобразование к DateTime"
      ]
    },
    {
      "cell_type": "code",
      "metadata": {
        "id": "QpK5gnM3xKVJ",
        "colab_type": "code",
        "colab": {}
      },
      "source": [
        "log.dropna(inplace=True)\n"
      ],
      "execution_count": 11,
      "outputs": []
    },
    {
      "cell_type": "code",
      "metadata": {
        "id": "SWtQUVIWxKT8",
        "colab_type": "code",
        "colab": {
          "base_uri": "https://localhost:8080/",
          "height": 419
        },
        "outputId": "507c2cbb-59fc-4c2b-acfb-3c5da1bb6ab1"
      },
      "source": [
        "log"
      ],
      "execution_count": 12,
      "outputs": [
        {
          "output_type": "execute_result",
          "data": {
            "text/html": [
              "<div>\n",
              "<style scoped>\n",
              "    .dataframe tbody tr th:only-of-type {\n",
              "        vertical-align: middle;\n",
              "    }\n",
              "\n",
              "    .dataframe tbody tr th {\n",
              "        vertical-align: top;\n",
              "    }\n",
              "\n",
              "    .dataframe thead th {\n",
              "        text-align: right;\n",
              "    }\n",
              "</style>\n",
              "<table border=\"1\" class=\"dataframe\">\n",
              "  <thead>\n",
              "    <tr style=\"text-align: right;\">\n",
              "      <th></th>\n",
              "      <th>user_id</th>\n",
              "      <th>time</th>\n",
              "      <th>bet</th>\n",
              "      <th>win</th>\n",
              "    </tr>\n",
              "  </thead>\n",
              "  <tbody>\n",
              "    <tr>\n",
              "      <th>14</th>\n",
              "      <td>Запись пользователя № - user_917</td>\n",
              "      <td>[2019-01-02 8:57:36</td>\n",
              "      <td>145732.0</td>\n",
              "      <td>1987653.0</td>\n",
              "    </tr>\n",
              "    <tr>\n",
              "      <th>29</th>\n",
              "      <td>Запись пользователя № - user_942</td>\n",
              "      <td>[2019-01-04 13:59:42</td>\n",
              "      <td>1678321.0</td>\n",
              "      <td>9876543.0</td>\n",
              "    </tr>\n",
              "    <tr>\n",
              "      <th>151</th>\n",
              "      <td>Запись пользователя № - user_982</td>\n",
              "      <td>[2019-01-16 21:54:22</td>\n",
              "      <td>100.0</td>\n",
              "      <td>4749.0</td>\n",
              "    </tr>\n",
              "    <tr>\n",
              "      <th>189</th>\n",
              "      <td>Запись пользователя № - user_964</td>\n",
              "      <td>[2019-01-21 18:34:44</td>\n",
              "      <td>200.0</td>\n",
              "      <td>4667.0</td>\n",
              "    </tr>\n",
              "    <tr>\n",
              "      <th>205</th>\n",
              "      <td>Запись пользователя № - user_931</td>\n",
              "      <td>[2019-01-22 5:26:59</td>\n",
              "      <td>300.0</td>\n",
              "      <td>4319.0</td>\n",
              "    </tr>\n",
              "    <tr>\n",
              "      <th>...</th>\n",
              "      <td>...</td>\n",
              "      <td>...</td>\n",
              "      <td>...</td>\n",
              "      <td>...</td>\n",
              "    </tr>\n",
              "    <tr>\n",
              "      <th>967</th>\n",
              "      <td>Запись пользователя № - user_975</td>\n",
              "      <td>[2019-04-19 22:25:15</td>\n",
              "      <td>1000.0</td>\n",
              "      <td>6108.0</td>\n",
              "    </tr>\n",
              "    <tr>\n",
              "      <th>971</th>\n",
              "      <td>Запись пользователя № - user_912</td>\n",
              "      <td>[2019-04-20 10:35:49</td>\n",
              "      <td>10554.0</td>\n",
              "      <td>31799.0</td>\n",
              "    </tr>\n",
              "    <tr>\n",
              "      <th>972</th>\n",
              "      <td>Запись пользователя № - user_926</td>\n",
              "      <td>[2019-04-20 10:35:50</td>\n",
              "      <td>10354.0</td>\n",
              "      <td>30244.0</td>\n",
              "    </tr>\n",
              "    <tr>\n",
              "      <th>976</th>\n",
              "      <td>Запись пользователя № - user_970</td>\n",
              "      <td>[2019-04-20 10:35:54</td>\n",
              "      <td>10354.0</td>\n",
              "      <td>30691.0</td>\n",
              "    </tr>\n",
              "    <tr>\n",
              "      <th>991</th>\n",
              "      <td>Запись пользователя № - user_965</td>\n",
              "      <td>[2019-04-20 12:55:41</td>\n",
              "      <td>800.0</td>\n",
              "      <td>6927.0</td>\n",
              "    </tr>\n",
              "  </tbody>\n",
              "</table>\n",
              "<p>133 rows × 4 columns</p>\n",
              "</div>"
            ],
            "text/plain": [
              "                              user_id  ...        win\n",
              "14   Запись пользователя № - user_917  ...  1987653.0\n",
              "29   Запись пользователя № - user_942  ...  9876543.0\n",
              "151  Запись пользователя № - user_982  ...     4749.0\n",
              "189  Запись пользователя № - user_964  ...     4667.0\n",
              "205  Запись пользователя № - user_931  ...     4319.0\n",
              "..                                ...  ...        ...\n",
              "967  Запись пользователя № - user_975  ...     6108.0\n",
              "971  Запись пользователя № - user_912  ...    31799.0\n",
              "972  Запись пользователя № - user_926  ...    30244.0\n",
              "976  Запись пользователя № - user_970  ...    30691.0\n",
              "991  Запись пользователя № - user_965  ...     6927.0\n",
              "\n",
              "[133 rows x 4 columns]"
            ]
          },
          "metadata": {
            "tags": []
          },
          "execution_count": 12
        }
      ]
    },
    {
      "cell_type": "code",
      "metadata": {
        "id": "gT1lt137xKP_",
        "colab_type": "code",
        "colab": {
          "base_uri": "https://localhost:8080/",
          "height": 221
        },
        "outputId": "bfd066fe-6534-426d-86d7-d15bf4737b07"
      },
      "source": [
        "log.time = log.time.apply(lambda x: x[1:])\n",
        "log['time']"
      ],
      "execution_count": 13,
      "outputs": [
        {
          "output_type": "execute_result",
          "data": {
            "text/plain": [
              "14      2019-01-02 8:57:36\n",
              "29     2019-01-04 13:59:42\n",
              "151    2019-01-16 21:54:22\n",
              "189    2019-01-21 18:34:44\n",
              "205     2019-01-22 5:26:59\n",
              "              ...         \n",
              "967    2019-04-19 22:25:15\n",
              "971    2019-04-20 10:35:49\n",
              "972    2019-04-20 10:35:50\n",
              "976    2019-04-20 10:35:54\n",
              "991    2019-04-20 12:55:41\n",
              "Name: time, Length: 133, dtype: object"
            ]
          },
          "metadata": {
            "tags": []
          },
          "execution_count": 13
        }
      ]
    },
    {
      "cell_type": "code",
      "metadata": {
        "id": "l8ECnvinxKO7",
        "colab_type": "code",
        "colab": {
          "base_uri": "https://localhost:8080/",
          "height": 221
        },
        "outputId": "f3ae6d25-6b3d-4b6e-ea32-b8826367baf5"
      },
      "source": [
        "log.time = log.time.apply(lambda x: pd.to_datetime(x))\n",
        "log['time']"
      ],
      "execution_count": 14,
      "outputs": [
        {
          "output_type": "execute_result",
          "data": {
            "text/plain": [
              "14    2019-01-02 08:57:36\n",
              "29    2019-01-04 13:59:42\n",
              "151   2019-01-16 21:54:22\n",
              "189   2019-01-21 18:34:44\n",
              "205   2019-01-22 05:26:59\n",
              "              ...        \n",
              "967   2019-04-19 22:25:15\n",
              "971   2019-04-20 10:35:49\n",
              "972   2019-04-20 10:35:50\n",
              "976   2019-04-20 10:35:54\n",
              "991   2019-04-20 12:55:41\n",
              "Name: time, Length: 133, dtype: datetime64[ns]"
            ]
          },
          "metadata": {
            "tags": []
          },
          "execution_count": 14
        }
      ]
    },
    {
      "cell_type": "code",
      "metadata": {
        "id": "3-X9dTSFxKKd",
        "colab_type": "code",
        "colab": {
          "base_uri": "https://localhost:8080/",
          "height": 34
        },
        "outputId": "3f3faf63-26bf-4196-9b75-5ef43217bac9"
      },
      "source": [
        "log['time'].max()"
      ],
      "execution_count": 15,
      "outputs": [
        {
          "output_type": "execute_result",
          "data": {
            "text/plain": [
              "Timestamp('2019-04-20 12:55:41')"
            ]
          },
          "metadata": {
            "tags": []
          },
          "execution_count": 15
        }
      ]
    },
    {
      "cell_type": "code",
      "metadata": {
        "id": "dzBY9kbsxKGE",
        "colab_type": "code",
        "colab": {
          "base_uri": "https://localhost:8080/",
          "height": 119
        },
        "outputId": "b87cd8b6-512c-4c8b-c300-46928660d871"
      },
      "source": [
        "log['time'].head() "
      ],
      "execution_count": 16,
      "outputs": [
        {
          "output_type": "execute_result",
          "data": {
            "text/plain": [
              "14    2019-01-02 08:57:36\n",
              "29    2019-01-04 13:59:42\n",
              "151   2019-01-16 21:54:22\n",
              "189   2019-01-21 18:34:44\n",
              "205   2019-01-22 05:26:59\n",
              "Name: time, dtype: datetime64[ns]"
            ]
          },
          "metadata": {
            "tags": []
          },
          "execution_count": 16
        }
      ]
    },
    {
      "cell_type": "markdown",
      "metadata": {
        "id": "Cz_WdeNw1h00",
        "colab_type": "text"
      },
      "source": [
        "## 11.4 Извлечение признаков времени"
      ]
    },
    {
      "cell_type": "code",
      "metadata": {
        "id": "YSO2qaoSxKBp",
        "colab_type": "code",
        "colab": {
          "base_uri": "https://localhost:8080/",
          "height": 221
        },
        "outputId": "cc347ea9-2caa-4ee1-ed91-68318e253e3c"
      },
      "source": [
        "log['time'].dt.minute"
      ],
      "execution_count": 17,
      "outputs": [
        {
          "output_type": "execute_result",
          "data": {
            "text/plain": [
              "14     57\n",
              "29     59\n",
              "151    54\n",
              "189    34\n",
              "205    26\n",
              "       ..\n",
              "967    25\n",
              "971    35\n",
              "972    35\n",
              "976    35\n",
              "991    55\n",
              "Name: time, Length: 133, dtype: int64"
            ]
          },
          "metadata": {
            "tags": []
          },
          "execution_count": 17
        }
      ]
    },
    {
      "cell_type": "code",
      "metadata": {
        "id": "n9BpJLLDxJ9N",
        "colab_type": "code",
        "colab": {
          "base_uri": "https://localhost:8080/",
          "height": 51
        },
        "outputId": "d1ec98d9-02d4-4e86-94e1-0e4169214008"
      },
      "source": [
        "# Task 11.4.1\n",
        "\n",
        "log['time'].dt.minute.value_counts().head(1)"
      ],
      "execution_count": 18,
      "outputs": [
        {
          "output_type": "execute_result",
          "data": {
            "text/plain": [
              "36    7\n",
              "Name: time, dtype: int64"
            ]
          },
          "metadata": {
            "tags": []
          },
          "execution_count": 18
        }
      ]
    },
    {
      "cell_type": "code",
      "metadata": {
        "id": "JVxZ4-jY1kHG",
        "colab_type": "code",
        "colab": {
          "base_uri": "https://localhost:8080/",
          "height": 102
        },
        "outputId": "ea595cc6-bdfd-4789-8ac1-0bef908ff51f"
      },
      "source": [
        "# Task 11.4.2\n",
        "# Используйте оригинальные данные log.csv, столбец time.\n",
        "# Подсказка: можно использовать value_counts().\n",
        "# Найдите месяц, который встречался в данных реже всего. Введите ответ в поле ниже.\n",
        "\n",
        "log['time'].dt.month.value_counts()"
      ],
      "execution_count": 24,
      "outputs": [
        {
          "output_type": "execute_result",
          "data": {
            "text/plain": [
              "3    57\n",
              "4    51\n",
              "2    16\n",
              "1     9\n",
              "Name: time, dtype: int64"
            ]
          },
          "metadata": {
            "tags": []
          },
          "execution_count": 24
        }
      ]
    },
    {
      "cell_type": "code",
      "metadata": {
        "id": "kQPfZ_6b1kBP",
        "colab_type": "code",
        "colab": {
          "base_uri": "https://localhost:8080/",
          "height": 153
        },
        "outputId": "1ba3198c-6560-47d4-dc9e-e7f9b136f792"
      },
      "source": [
        "# Task 11.4.3\n",
        "\n",
        "log['time'].dt.weekday.value_counts()"
      ],
      "execution_count": 20,
      "outputs": [
        {
          "output_type": "execute_result",
          "data": {
            "text/plain": [
              "1    27\n",
              "6    21\n",
              "4    21\n",
              "2    19\n",
              "3    17\n",
              "5    16\n",
              "0    12\n",
              "Name: time, dtype: int64"
            ]
          },
          "metadata": {
            "tags": []
          },
          "execution_count": 20
        }
      ]
    },
    {
      "cell_type": "code",
      "metadata": {
        "id": "8rWaI1Az1j6l",
        "colab_type": "code",
        "colab": {
          "base_uri": "https://localhost:8080/",
          "height": 34
        },
        "outputId": "14567b13-634c-458e-d074-21e55bd1cb77"
      },
      "source": [
        "log['time'].dt.weekday.value_counts().loc[5] + log['time'].dt.weekday.value_counts().loc[6]"
      ],
      "execution_count": 21,
      "outputs": [
        {
          "output_type": "execute_result",
          "data": {
            "text/plain": [
              "37"
            ]
          },
          "metadata": {
            "tags": []
          },
          "execution_count": 21
        }
      ]
    },
    {
      "cell_type": "code",
      "metadata": {
        "id": "QgE5SIxX1j0x",
        "colab_type": "code",
        "colab": {}
      },
      "source": [
        ""
      ],
      "execution_count": 21,
      "outputs": []
    },
    {
      "cell_type": "code",
      "metadata": {
        "id": "GT3hvmmP1jub",
        "colab_type": "code",
        "colab": {}
      },
      "source": [
        ""
      ],
      "execution_count": 21,
      "outputs": []
    },
    {
      "cell_type": "code",
      "metadata": {
        "id": "ZUqD8KrMxJ4V",
        "colab_type": "code",
        "colab": {}
      },
      "source": [
        ""
      ],
      "execution_count": 21,
      "outputs": []
    },
    {
      "cell_type": "code",
      "metadata": {
        "id": "MpCTN3n_xJx5",
        "colab_type": "code",
        "colab": {}
      },
      "source": [
        ""
      ],
      "execution_count": 21,
      "outputs": []
    },
    {
      "cell_type": "markdown",
      "metadata": {
        "id": "ov_PA2CwpKOB",
        "colab_type": "text"
      },
      "source": [
        "# End\n"
      ]
    },
    {
      "cell_type": "code",
      "metadata": {
        "id": "eSimPwpjUeqL",
        "colab_type": "code",
        "colab": {}
      },
      "source": [
        ""
      ],
      "execution_count": 21,
      "outputs": []
    }
  ]
}