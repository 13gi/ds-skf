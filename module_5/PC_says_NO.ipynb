{
  "nbformat": 4,
  "nbformat_minor": 0,
  "metadata": {
    "colab": {
      "name": "PC says NO.ipynb",
      "provenance": [],
      "collapsed_sections": [],
      "toc_visible": true,
      "mount_file_id": "1l2YTHAMtVw8DRUgGPRCXiUADDvHqhQR1",
      "authorship_tag": "ABX9TyM/G/KjPWCut0XI6hnOaR27"
    },
    "kernelspec": {
      "name": "python3",
      "display_name": "Python 3"
    }
  },
  "cells": [
    {
      "cell_type": "markdown",
      "metadata": {
        "id": "fHXBM4SHW53p"
      },
      "source": [
        "# [SF-DST] Credit Scoring\n",
        "Прогнозирование вероятности дефолта заемщика"
      ]
    },
    {
      "cell_type": "markdown",
      "metadata": {
        "id": "BckDZFNwXz4g"
      },
      "source": [
        "### Import"
      ]
    },
    {
      "cell_type": "code",
      "metadata": {
        "id": "YA3pPtC5W5LS"
      },
      "source": [
        "import numpy as np\n",
        "import pandas as pd\n",
        "import re\n",
        "import random\n",
        "import os\n",
        "import math\n",
        "import datetime\n",
        "\n",
        "from sklearn import metrics\n",
        "from sklearn.model_selection import train_test_split\n",
        "from sklearn.model_selection import GridSearchCV\n",
        "\n",
        "from sklearn.feature_selection import f_classif\n",
        "\n",
        "from sklearn.ensemble import RandomForestRegressor\n",
        "from sklearn.linear_model import LinearRegression\n",
        "from sklearn.linear_model import LogisticRegression\n",
        "from sklearn.tree import DecisionTreeClassifier\n",
        "from sklearn.metrics import accuracy_score, precision_score, recall_score, f1_score\n",
        "from sklearn.metrics import mean_squared_error, roc_curve, roc_auc_score, auc\n",
        "from sklearn.metrics import balanced_accuracy_score, confusion_matrix\n",
        "from sklearn.metrics import cohen_kappa_score\n",
        "\n",
        "from sklearn.feature_selection import f_classif, mutual_info_classif\n",
        "\n",
        "from sklearn.preprocessing import LabelEncoder, OneHotEncoder\n",
        "from sklearn.preprocessing import RobustScaler\n",
        "from sklearn.preprocessing import StandardScaler\n",
        "\n",
        "\n",
        "\n",
        "import matplotlib.pyplot as plt\n",
        "import seaborn as sns\n",
        "\n",
        "%matplotlib inline"
      ],
      "execution_count": null,
      "outputs": []
    },
    {
      "cell_type": "code",
      "metadata": {
        "id": "FTWC1YcAoNUY"
      },
      "source": [
        "def get_iqr(column_name, print_report=False):\n",
        "    '''\n",
        "        Функция для определения типовых параметров данных\".\n",
        "        На вход принимает столбец датафрейма\n",
        "    '''\n",
        "    if column_name.dtype in ['int', 'float']:\n",
        "        perc25 = column_name.describe().loc['25%']\n",
        "        perc75 = column_name.describe().loc['75%']\n",
        "        iqr = perc75 - perc25\n",
        "        range_left = perc25 - 1.5 * iqr\n",
        "        range_right = perc75 + 1.5 * iqr\n",
        "        if print_report:\n",
        "            print('|  Медиана: ', column_name.median())\n",
        "            print('|  range_left, range_right, iqr')\n",
        "        return [column_name.min(), column_name.median(), column_name.max()], [range_left, iqr, range_right]\n",
        "    else:\n",
        "        print('Для данного типа IQR не возможен')\n",
        "        return NaN\n",
        "\n",
        "# get_iqr(data['age'], print_report=True)\n",
        "# get_iqr(data['age'])[2]"
      ],
      "execution_count": null,
      "outputs": []
    },
    {
      "cell_type": "code",
      "metadata": {
        "id": "qNF3PLoqpkCt"
      },
      "source": [
        ""
      ],
      "execution_count": null,
      "outputs": []
    },
    {
      "cell_type": "code",
      "metadata": {
        "id": "3iO7eM6FW5Ic"
      },
      "source": [
        "#  проверка на работу в \"google colab\" или \"локально\"\n",
        "\n",
        "if 'sample_data' in os.listdir():\n",
        "    # project_dir = r'/content/'\n",
        "    project_dir = r'/content/drive/MyDrive/Colab Notebooks/module_5/'\n",
        "    print('Обнаружена среда выполнения Google Colab.')\n",
        "    print('project_dir =>', project_dir)\n",
        "else:\n",
        "    project_dir = ''\n",
        "    print('НЕ обнаружена среда выполнения Google Colab. Выбран режим локальной работы.')"
      ],
      "execution_count": null,
      "outputs": []
    },
    {
      "cell_type": "code",
      "metadata": {
        "id": "RC4zBO1QW5Fv"
      },
      "source": [
        "os.listdir(project_dir)"
      ],
      "execution_count": null,
      "outputs": []
    },
    {
      "cell_type": "markdown",
      "metadata": {
        "id": "ot-sjSZfX8Q1"
      },
      "source": [
        "# START"
      ]
    },
    {
      "cell_type": "code",
      "metadata": {
        "id": "IXQs1A48W5DG"
      },
      "source": [
        "file_patch = project_dir + 'train.csv'\n",
        "\n",
        "train = pd.read_csv(file_patch, encoding = 'ISO-8859-1', low_memory = False)\n",
        "train.shape"
      ],
      "execution_count": null,
      "outputs": []
    },
    {
      "cell_type": "code",
      "metadata": {
        "id": "c3TF_qkwcve2"
      },
      "source": [
        "file_patch = project_dir + 'test.csv'\n",
        "\n",
        "test = pd.read_csv(file_patch, encoding = 'ISO-8859-1', low_memory = False)\n",
        "test.shape"
      ],
      "execution_count": null,
      "outputs": []
    },
    {
      "cell_type": "code",
      "metadata": {
        "id": "QRPpNaR9d4GC"
      },
      "source": [
        "train.columns"
      ],
      "execution_count": null,
      "outputs": []
    },
    {
      "cell_type": "code",
      "metadata": {
        "id": "bEC91mVwcZ1L"
      },
      "source": [
        "train['train'] = 1"
      ],
      "execution_count": null,
      "outputs": []
    },
    {
      "cell_type": "code",
      "metadata": {
        "id": "6rs_SgBsdGLo"
      },
      "source": [
        "test['train'] = 0\n",
        "test['default'] = -1"
      ],
      "execution_count": null,
      "outputs": []
    },
    {
      "cell_type": "markdown",
      "metadata": {
        "id": "xqXdn03T9NMt"
      },
      "source": [
        "## Очистка данных"
      ]
    },
    {
      "cell_type": "code",
      "metadata": {
        "id": "e6asHZ4a9I0O"
      },
      "source": [
        "warn_column = ['score_bki', 'sna', 'decline_app_cnt', 'region_rating', 'bki_request_cnt', 'income', 'age']\n",
        "\n",
        "\n",
        "for item in warn_column:\n",
        "    print('-'*44)\n",
        "    print('  ', item)\n",
        "    a, b = get_iqr(train.query('train == 1')[item])\n",
        "    print(a)\n",
        "    print(b)\n"
      ],
      "execution_count": null,
      "outputs": []
    },
    {
      "cell_type": "code",
      "metadata": {
        "id": "R_OSnRYb9eiu"
      },
      "source": [
        "train.query('decline_app_cnt > 24')['decline_app_cnt'].value_counts()"
      ],
      "execution_count": null,
      "outputs": []
    },
    {
      "cell_type": "code",
      "metadata": {
        "id": "kUaGuuBq9fdQ"
      },
      "source": [
        "\n",
        "train.drop(train.query('decline_app_cnt > 24').index, inplace=True)"
      ],
      "execution_count": null,
      "outputs": []
    },
    {
      "cell_type": "code",
      "metadata": {
        "id": "gd2GeEWiA0p7"
      },
      "source": [
        ""
      ],
      "execution_count": null,
      "outputs": []
    },
    {
      "cell_type": "code",
      "metadata": {
        "id": "9G_f1iMmAve0"
      },
      "source": [
        "# filter_con = 'score_bki > -0.535 or score_bki < -3.294'\n",
        "filter_con = 'score_bki < -3.294'\n",
        "\n",
        "# train.query(filter_con)['score_bki'].value_counts()\n",
        "train.drop(train.query(filter_con).index, inplace=True)"
      ],
      "execution_count": null,
      "outputs": []
    },
    {
      "cell_type": "code",
      "metadata": {
        "id": "si9eWwURAvTd"
      },
      "source": [
        ""
      ],
      "execution_count": null,
      "outputs": []
    },
    {
      "cell_type": "code",
      "metadata": {
        "id": "5kCefJtbGJ_g"
      },
      "source": [
        "filter_con2 = 'region_rating < 35'\n",
        "train.query(filter_con2)['region_rating'].value_counts()\n",
        "\n",
        "train.drop(train.query(filter_con2).index, inplace=True)"
      ],
      "execution_count": null,
      "outputs": []
    },
    {
      "cell_type": "code",
      "metadata": {
        "id": "AUC7yekdGKI0"
      },
      "source": [
        "# bki_request_cnt\n",
        "\n",
        "filter_con3 = 'bki_request_cnt > 20'\n",
        "train.query(filter_con3)['bki_request_cnt'].value_counts()\n",
        "\n",
        "train.drop(train.query(filter_con3).index, inplace=True)"
      ],
      "execution_count": null,
      "outputs": []
    },
    {
      "cell_type": "code",
      "metadata": {
        "id": "kXHbgkKlGJw9"
      },
      "source": [
        "# income\n",
        "\n",
        "filter_con4 = 'income < 22_000'\n",
        "train.query(filter_con4)['income'].value_counts()\n",
        "\n",
        "train.drop(train.query(filter_con4).index, inplace=True)\n"
      ],
      "execution_count": null,
      "outputs": []
    },
    {
      "cell_type": "code",
      "metadata": {
        "id": "a_pYK5xJOnn-"
      },
      "source": [
        ""
      ],
      "execution_count": null,
      "outputs": []
    },
    {
      "cell_type": "code",
      "metadata": {
        "id": "_ohrMLQCOnWT"
      },
      "source": [
        "# age\n",
        "\n",
        "filter_con5 = 'age >= 68 or age <= 20'\n",
        "train.query(filter_con5)['age'].value_counts()\n",
        "\n",
        "train.drop(train.query(filter_con5).index, inplace=True)\n",
        "\n"
      ],
      "execution_count": null,
      "outputs": []
    },
    {
      "cell_type": "code",
      "metadata": {
        "id": "kkC_jsyGAvCl"
      },
      "source": [
        ""
      ],
      "execution_count": null,
      "outputs": []
    },
    {
      "cell_type": "markdown",
      "metadata": {
        "id": "mcdl-rOz4WXa"
      },
      "source": [
        "## Объедининение df"
      ]
    },
    {
      "cell_type": "code",
      "metadata": {
        "id": "0ZYmCOLndicX"
      },
      "source": [
        "data = train.append(test)"
      ],
      "execution_count": null,
      "outputs": []
    },
    {
      "cell_type": "code",
      "metadata": {
        "id": "OGHcgG4yW486"
      },
      "source": [
        "data.sample(9)"
      ],
      "execution_count": null,
      "outputs": []
    },
    {
      "cell_type": "code",
      "metadata": {
        "id": "K77C68OCdzaI"
      },
      "source": [
        "data.isna().sum()"
      ],
      "execution_count": null,
      "outputs": []
    },
    {
      "cell_type": "code",
      "metadata": {
        "id": "Tt3Rnvk_W46G"
      },
      "source": [
        "sns.countplot(x='default', data=data)"
      ],
      "execution_count": null,
      "outputs": []
    },
    {
      "cell_type": "code",
      "metadata": {
        "id": "2L9-MLiCX_jv"
      },
      "source": [
        "data.query('train != -1')['default'].value_counts().idxmax(),\\\n",
        "data.query('train != -1')['default'].value_counts().max()"
      ],
      "execution_count": null,
      "outputs": []
    },
    {
      "cell_type": "code",
      "metadata": {
        "id": "YDrcQxVDevIM"
      },
      "source": [
        ""
      ],
      "execution_count": null,
      "outputs": []
    },
    {
      "cell_type": "code",
      "metadata": {
        "id": "XX6Mc95CX_gi"
      },
      "source": [
        "# доля дефолтов\n",
        "round(data.query('train != -1')['default'].value_counts().min() / data.query('train != -1')['default'].value_counts().max(), 2)"
      ],
      "execution_count": null,
      "outputs": []
    },
    {
      "cell_type": "code",
      "metadata": {
        "id": "h4KZG6TZe529"
      },
      "source": [
        ""
      ],
      "execution_count": null,
      "outputs": []
    },
    {
      "cell_type": "code",
      "metadata": {
        "id": "bWyhjCjeX_dv"
      },
      "source": [
        "data['education'].value_counts()"
      ],
      "execution_count": null,
      "outputs": []
    },
    {
      "cell_type": "code",
      "metadata": {
        "id": "GBk1GW2ofMcc"
      },
      "source": [
        "data['education'] = data['education'].fillna(0)\n",
        "data['education'].value_counts()"
      ],
      "execution_count": null,
      "outputs": []
    },
    {
      "cell_type": "code",
      "metadata": {
        "id": "YLSkZSs_X_XH"
      },
      "source": [
        "# ['client_id', 'education', 'sex', 'age', 'car', 'car_type',\n",
        "#        'decline_app_cnt', 'good_work', 'bki_request_cnt', 'home_address',\n",
        "#        'work_address', 'income', 'foreign_passport', 'default']\n"
      ],
      "execution_count": null,
      "outputs": []
    },
    {
      "cell_type": "code",
      "metadata": {
        "id": "_g3GmifGX_ao"
      },
      "source": [
        "\n",
        "bin_cols = ['sex', 'car', 'car_type',  'foreign_passport', 'good_work']\n",
        "cat_cols = ['education',  'home_address', 'work_address']\n",
        "num_cols = ['age', 'decline_app_cnt', 'income', 'bki_request_cnt', 'score_bki', 'sna', 'region_rating', 'first_time']\n",
        "\n",
        "# drop_cols = ['client_id', 'train', 'app_date']\n",
        "drop_cols = ['app_date']\n",
        "target_cols = ['default']\n",
        "\n",
        "\n",
        "\n",
        "# for i in num_cols:\n",
        "#     plt.figure()\n",
        "#     plt.hist(data[i], bins=10)\n",
        "#     plt.title(i)\n",
        "#     plt.show()\n",
        "\n",
        "# {'app_date', 'first_time', 'region_rating', 'score_bki', 'sna'}"
      ],
      "execution_count": null,
      "outputs": []
    },
    {
      "cell_type": "code",
      "metadata": {
        "id": "ncB0nis-s1jm"
      },
      "source": [
        "set(data.columns) - set(bin_cols + cat_cols + num_cols + drop_cols + target_cols)"
      ],
      "execution_count": null,
      "outputs": []
    },
    {
      "cell_type": "markdown",
      "metadata": {
        "id": "vyGg94DLxLbI"
      },
      "source": [
        "### education"
      ]
    },
    {
      "cell_type": "code",
      "metadata": {
        "id": "QU4Eot6tiNNS"
      },
      "source": [
        "education_dict = dict(zip(['SCH', 'GRD', 'UGR', 'PGR', 'ACD', '0'], [1, 2, 3, 4, 0, 0]))\n",
        "# education_dict\n",
        "\n",
        "data['education'] = data['education'].replace(to_replace = education_dict)\n",
        "data['education'].value_counts()"
      ],
      "execution_count": null,
      "outputs": []
    },
    {
      "cell_type": "markdown",
      "metadata": {
        "id": "NCWTdX1NgDLf"
      },
      "source": [
        "### `app_date`"
      ]
    },
    {
      "cell_type": "code",
      "metadata": {
        "id": "48s0iUOCfWY4"
      },
      "source": [
        "data['app_date'].value_counts().loc['01JAN2014']"
      ],
      "execution_count": null,
      "outputs": []
    },
    {
      "cell_type": "code",
      "metadata": {
        "id": "c8t928URfWmW"
      },
      "source": [
        "data['app_date'] = data['app_date'].apply(lambda x: datetime.datetime.strptime(x, \"%d%b%Y\"))"
      ],
      "execution_count": null,
      "outputs": []
    },
    {
      "cell_type": "code",
      "metadata": {
        "id": "iURmMKmUkkFb"
      },
      "source": [
        "data['app_date'].min(), data['app_date'].max()"
      ],
      "execution_count": null,
      "outputs": []
    },
    {
      "cell_type": "code",
      "metadata": {
        "id": "ApOb82aN9ztz"
      },
      "source": [
        "data['app_month'] = data['app_date'].dt.month\n",
        "data['app_day'] = data['app_date'].dt.day\n",
        "data['app_wday'] = data['app_date'].dt.weekday"
      ],
      "execution_count": null,
      "outputs": []
    },
    {
      "cell_type": "code",
      "metadata": {
        "id": "RHyMktxog59Y"
      },
      "source": [
        "data[['app_day', 'app_month', 'app_date']].sample(9)"
      ],
      "execution_count": null,
      "outputs": []
    },
    {
      "cell_type": "code",
      "metadata": {
        "id": "8w-E_rH_PZpf"
      },
      "source": [
        "num_cols += ['app_day', 'app_month', 'app_wday']\n",
        "# num_cols"
      ],
      "execution_count": null,
      "outputs": []
    },
    {
      "cell_type": "markdown",
      "metadata": {
        "id": "R9cckezRX5Pn"
      },
      "source": [
        "## Качество данных"
      ]
    },
    {
      "cell_type": "code",
      "metadata": {
        "id": "9HDoLsUtYi_M"
      },
      "source": [
        "\n"
      ],
      "execution_count": null,
      "outputs": []
    },
    {
      "cell_type": "code",
      "metadata": {
        "id": "pNeykS2F6OGg"
      },
      "source": [
        ""
      ],
      "execution_count": null,
      "outputs": []
    },
    {
      "cell_type": "code",
      "metadata": {
        "id": "_VM7nZCs0bX_"
      },
      "source": [
        ""
      ],
      "execution_count": null,
      "outputs": []
    },
    {
      "cell_type": "code",
      "metadata": {
        "id": "i8_4VIGK0bIn"
      },
      "source": [
        ""
      ],
      "execution_count": null,
      "outputs": []
    },
    {
      "cell_type": "code",
      "metadata": {
        "id": "0ZHzbZFqX9Of"
      },
      "source": [
        ""
      ],
      "execution_count": null,
      "outputs": []
    },
    {
      "cell_type": "markdown",
      "metadata": {
        "id": "2ozkws3fk4Xp"
      },
      "source": [
        "## оценка корреляции"
      ]
    },
    {
      "cell_type": "code",
      "metadata": {
        "id": "Hs-DJhT4X_RT"
      },
      "source": [
        "sns.set(font_scale=1)\n",
        "plt.subplots(figsize=(10, 10))\n",
        "sns.heatmap(data.query('train == 1')[num_cols].corr().abs(), vmin=0, vmax=1, square=True, annot=True, fmt=\".2f\", linewidths=0.1)"
      ],
      "execution_count": null,
      "outputs": []
    },
    {
      "cell_type": "code",
      "metadata": {
        "id": "zehtbfRhk0uf"
      },
      "source": [
        ""
      ],
      "execution_count": null,
      "outputs": []
    },
    {
      "cell_type": "markdown",
      "metadata": {
        "id": "nrJeQUYGmzMf"
      },
      "source": [
        "## Значимость непрерывных переменных"
      ]
    },
    {
      "cell_type": "code",
      "metadata": {
        "id": "-dedsdjGudcp"
      },
      "source": [
        "num_cols"
      ],
      "execution_count": null,
      "outputs": []
    },
    {
      "cell_type": "code",
      "metadata": {
        "id": "ETN3HHPbk0oJ"
      },
      "source": [
        "imp_num = pd.Series(f_classif(data.query('train == 1')[num_cols], \\\n",
        "                              data.query('train == 1')['default'])[0], index = num_cols)\n",
        "imp_num.sort_values(inplace = True)\n",
        "plt.subplots(figsize=(8, 8))\n",
        "imp_num.plot(kind = 'barh')"
      ],
      "execution_count": null,
      "outputs": []
    },
    {
      "cell_type": "code",
      "metadata": {
        "id": "PKQkHT5Vbthc"
      },
      "source": [
        "imp_num.sort_values(ascending=False)[:9].index"
      ],
      "execution_count": null,
      "outputs": []
    },
    {
      "cell_type": "markdown",
      "metadata": {
        "id": "cE-w64u6oBEE"
      },
      "source": [
        "##  Категориальные переменные"
      ]
    },
    {
      "cell_type": "code",
      "metadata": {
        "id": "cuc-g2TJk0hj"
      },
      "source": [
        "label_encoder = LabelEncoder()\n",
        "\n",
        "mapped_education = pd.Series(label_encoder.fit_transform(data['sex']))\n",
        "print(dict(enumerate(label_encoder.classes_)))"
      ],
      "execution_count": null,
      "outputs": []
    },
    {
      "cell_type": "code",
      "metadata": {
        "id": "QkVwXoZJk0bY"
      },
      "source": [
        "# Для бинарных признаков мы будем использовать LabelEncoder\n",
        "\n",
        "label_encoder = LabelEncoder()\n",
        "\n",
        "for column in bin_cols:\n",
        "    data[column] = label_encoder.fit_transform(data[column])\n",
        "    \n",
        "# убедимся в преобразовании    \n",
        "data.head()"
      ],
      "execution_count": null,
      "outputs": []
    },
    {
      "cell_type": "code",
      "metadata": {
        "id": "xEKILQ17k0Vb"
      },
      "source": [
        ""
      ],
      "execution_count": null,
      "outputs": []
    },
    {
      "cell_type": "code",
      "metadata": {
        "id": "ry0xPM_Ak0PQ"
      },
      "source": [
        ""
      ],
      "execution_count": null,
      "outputs": []
    },
    {
      "cell_type": "code",
      "metadata": {
        "id": "abRsCYZmk0JY"
      },
      "source": [
        "imp_cat = pd.Series(mutual_info_classif(data.query('train == 1')[bin_cols + cat_cols], \\\n",
        "                                        data.query('train == 1')['default'], discrete_features = True), \\\n",
        "                    index = bin_cols + cat_cols)\n",
        "imp_cat.sort_values(inplace = True)\n",
        "\n",
        "plt.subplots(figsize=(8, 8))\n",
        "imp_cat.plot(kind = 'barh')"
      ],
      "execution_count": null,
      "outputs": []
    },
    {
      "cell_type": "markdown",
      "metadata": {
        "id": "KoVzXvegzC38"
      },
      "source": [
        "## Подготовка данных к машинному обучению"
      ]
    },
    {
      "cell_type": "code",
      "metadata": {
        "id": "fYZUUBx4k0Dk"
      },
      "source": [
        "X_cat = OneHotEncoder(sparse = False).fit_transform(data.query('train == 1')[cat_cols].values)\n",
        "X_cat_test = OneHotEncoder(sparse = False).fit_transform(data.query('train == 0')[cat_cols].values)\n",
        "X_cat.shape"
      ],
      "execution_count": null,
      "outputs": []
    },
    {
      "cell_type": "code",
      "metadata": {
        "id": "UCw0_wjmkz39"
      },
      "source": [
        "# Стандартизация числовых переменных\n",
        "\n",
        "# возможно нужно сделать fit на всех данных а потом transform\n",
        "\n",
        "X_num = StandardScaler().fit_transform(data.query('train == 1')[num_cols].values)\n",
        "X_num_test = StandardScaler().fit_transform(data.query('train == 0')[num_cols].values)\n",
        "X_num.shape"
      ],
      "execution_count": null,
      "outputs": []
    },
    {
      "cell_type": "code",
      "metadata": {
        "id": "Q6R_zPHvoFJ-"
      },
      "source": [
        "# Объединяем\n",
        "\n",
        "X = np.hstack([X_num, data.query('train == 1')[bin_cols].values, X_cat])\n",
        "Y = data.query('train == 1')['default'].values\n",
        "\n",
        "X_valid = np.hstack([X_num_test, data.query('train == 0')[bin_cols].values, X_cat_test])\n",
        "\n",
        "X.shape, X_valid.shape"
      ],
      "execution_count": null,
      "outputs": []
    },
    {
      "cell_type": "code",
      "metadata": {
        "id": "_aaacY4B2ecc"
      },
      "source": [
        ""
      ],
      "execution_count": null,
      "outputs": []
    },
    {
      "cell_type": "code",
      "metadata": {
        "id": "3yf5nPeJoFBv"
      },
      "source": [
        "X_train, X_test, y_train, y_test = train_test_split(X, Y, test_size=0.3, random_state=42)\n",
        "X_train.shape, X_test.shape"
      ],
      "execution_count": null,
      "outputs": []
    },
    {
      "cell_type": "code",
      "metadata": {
        "id": "pJMl3f3DoE6O"
      },
      "source": [
        "model = LogisticRegression(random_state=42).fit(X_train, y_train)\n",
        "y_pred = model.predict(X_test)"
      ],
      "execution_count": null,
      "outputs": []
    },
    {
      "cell_type": "code",
      "metadata": {
        "id": "S8LUwVtKz9Vp"
      },
      "source": [
        ""
      ],
      "execution_count": null,
      "outputs": []
    },
    {
      "cell_type": "markdown",
      "metadata": {
        "id": "pyp5Nun509tp"
      },
      "source": [
        "## Оценка качества модели"
      ]
    },
    {
      "cell_type": "code",
      "metadata": {
        "id": "Ls8tEwaHz9M0"
      },
      "source": [
        "# model = LogisticRegression()\n",
        "# model.fit(X_train, y_train)\n",
        "\n",
        "probs = model.predict_proba(X_test)\n",
        "probs = probs[:,1]\n",
        "\n",
        "\n",
        "fpr, tpr, threshold = roc_curve(y_test, probs)\n",
        "roc_auc = roc_auc_score(y_test, probs)\n",
        "\n",
        "print('Logistic Regression ROC AUC = %0.3f' % roc_auc)"
      ],
      "execution_count": null,
      "outputs": []
    },
    {
      "cell_type": "code",
      "metadata": {
        "id": "3QNhwglm1RZa"
      },
      "source": [
        ""
      ],
      "execution_count": null,
      "outputs": []
    },
    {
      "cell_type": "code",
      "metadata": {
        "id": "k1XCpNCr2b6u"
      },
      "source": [
        "plt.figure()\n",
        "plt.subplots(figsize=(8, 8))\n",
        "plt.plot([0, 1], label='Baseline', linestyle='--')\n",
        "plt.plot(fpr, tpr, label = 'Regression')\n",
        "plt.title('Logistic Regression ROC AUC = %0.5f' % roc_auc)\n",
        "plt.ylabel('True Positive Rate')\n",
        "plt.xlabel('False Positive Rate')\n",
        "plt.legend(loc = 'lower right')\n",
        "plt.show()"
      ],
      "execution_count": null,
      "outputs": []
    },
    {
      "cell_type": "code",
      "metadata": {
        "id": "B9qzdSLoz9DE"
      },
      "source": [
        ""
      ],
      "execution_count": null,
      "outputs": []
    },
    {
      "cell_type": "markdown",
      "metadata": {
        "id": "mpUEdGQ13YMj"
      },
      "source": [
        "## Гиперпараметры"
      ]
    },
    {
      "cell_type": "code",
      "metadata": {
        "id": "u6HE9TIF1BFg"
      },
      "source": [
        "\n",
        "# Добавим типы регуляризации\n",
        "penalty = ['l1', 'l2']\n",
        "\n",
        "# Зададим ограничения для параметра регуляризации\n",
        "C = np.logspace(0, 4, 10)\n",
        "\n",
        "# Создадим гиперпараметры\n",
        "hyperparameters = dict(C=C, penalty=penalty)\n",
        "\n",
        "iter_count = 300\n",
        "\n",
        "model = LogisticRegression(random_state=42, max_iter=iter_count)\n",
        "model.fit(X_train, y_train)\n",
        "\n",
        "# Создаем сетку поиска с использованием 5-кратной перекрестной проверки\n",
        "clf = GridSearchCV(model, hyperparameters, cv=5, verbose=0)\n",
        "\n",
        "best_model = clf.fit(X_train, y_train)\n",
        "\n",
        "\n",
        "probs = best_model.predict_proba(X_test)\n",
        "probs = probs[:,1]\n",
        "roc_auc = roc_auc_score(y_test, probs)\n"
      ],
      "execution_count": null,
      "outputs": []
    },
    {
      "cell_type": "markdown",
      "metadata": {
        "id": "J-TD6vU1747q"
      },
      "source": [
        "### ROC AUC"
      ]
    },
    {
      "cell_type": "code",
      "metadata": {
        "id": "DVi0BxOX1A8N"
      },
      "source": [
        "# View best hyperparameters\n",
        "\n",
        "best_penalty = best_model.best_estimator_.get_params()['penalty']\n",
        "best_c = best_model.best_estimator_.get_params()['C']\n",
        "\n",
        "print('Лучшее Penalty:', best_penalty, '\\nMax iter:', iter_count)\n",
        "print('Лучшее C:', best_c)\n",
        "print('Logistic Regression ROC AUC = %0.5f' % roc_auc)"
      ],
      "execution_count": null,
      "outputs": []
    },
    {
      "cell_type": "code",
      "metadata": {
        "id": "RxPATTJX1A2T"
      },
      "source": [
        "\n",
        "model = LogisticRegression(penalty=best_penalty, C=best_c, random_state=42, max_iter=iter_count)\n",
        "# model = LogisticRegression(penalty=best_penalty, random_state=42, max_iter=iter_count)\n",
        "model.fit(X, Y)\n",
        "\n",
        "probs = model.predict_proba(X_valid)\n",
        "probs = probs[:,1]\n"
      ],
      "execution_count": null,
      "outputs": []
    },
    {
      "cell_type": "code",
      "metadata": {
        "id": "mjPori4r7W-X"
      },
      "source": [
        ""
      ],
      "execution_count": null,
      "outputs": []
    },
    {
      "cell_type": "code",
      "metadata": {
        "id": "6VMa2vY71eJk"
      },
      "source": [
        "len(probs), X_valid.shape"
      ],
      "execution_count": null,
      "outputs": []
    },
    {
      "cell_type": "markdown",
      "metadata": {
        "id": "igfXxHEh2C85"
      },
      "source": [
        "## Выгрузка файла `submission`"
      ]
    },
    {
      "cell_type": "code",
      "metadata": {
        "id": "l-0GY0AA2CPV"
      },
      "source": [
        "client_id_test = data.query('train == 0')['client_id']\n",
        "# client_id_test"
      ],
      "execution_count": null,
      "outputs": []
    },
    {
      "cell_type": "code",
      "metadata": {
        "id": "MQNYAwJPWiM5"
      },
      "source": [
        "my_submission = pd.DataFrame({'client_id': client_id_test, 'default': probs})\n",
        "my_submission.to_csv('submission.csv', index=False)\n",
        "\n",
        "#  Submission must have 36349 rows\n",
        "my_submission.shape"
      ],
      "execution_count": null,
      "outputs": []
    },
    {
      "cell_type": "code",
      "metadata": {
        "id": "U4-E0iom9-el"
      },
      "source": [
        "if my_submission.shape[0] - 36349 != 0:\n",
        "    print('='*54)\n",
        "    print('\\t ERROR'*5)\n",
        "    print('='*54)\n",
        "else:\n",
        "    display(my_submission.head(7).append(my_submission.sample(7)))"
      ],
      "execution_count": null,
      "outputs": []
    },
    {
      "cell_type": "markdown",
      "metadata": {
        "id": "3TYv0iR5YAK2"
      },
      "source": [
        "# END"
      ]
    },
    {
      "cell_type": "code",
      "metadata": {
        "id": "nAOEgXQEYCO-"
      },
      "source": [
        ""
      ],
      "execution_count": null,
      "outputs": []
    }
  ]
}