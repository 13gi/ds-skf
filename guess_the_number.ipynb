{
 "cells": [
  {
   "cell_type": "code",
   "execution_count": 7,
   "metadata": {},
   "outputs": [],
   "source": []
  },
  {
   "cell_type": "code",
   "execution_count": 60,
   "metadata": {
    "scrolled": false
   },
   "outputs": [
    {
     "name": "stdout",
     "output_type": "stream",
     "text": [
      "Ваш алгоритм угадывает число в среднем за 7 попыток\n",
      "Ваш алгоритм угадывает число в среднем за 5 попыток\n"
     ]
    },
    {
     "data": {
      "text/plain": [
       "5"
      ]
     },
     "execution_count": 60,
     "metadata": {},
     "output_type": "execute_result"
    }
   ],
   "source": [
    "# Проект 0. Курс: DST-PRO\n",
    "# Поток: \n",
    "#\n",
    "# Задача: попробуйте улучшить алгоритм автора модуля\n",
    "# \n",
    "# Автор: https://github.com/13gi\n",
    "# Репозиторий: https://github.com/13gi/ds-skf\n",
    "#\n",
    "# Аннтоация\n",
    "#   game_core_v3\n",
    "#     алгоритм V3: угадывает число в среднем за 7 попыток.\n",
    "#\n",
    "#   game_core_v4\n",
    "#     алгоритм V4: угадывает число в среднем за 5 попыток.\n",
    "\n",
    "\n",
    "\n",
    "# -------------------------------------------\n",
    "#  Начальные условия\n",
    "# -------------------------------------------\n",
    "# Диапазон чисел для игры - указываем границы слева (входит) и справа(не входит в диапазон)\n",
    "\n",
    "range_border_left = 1\n",
    "range_border_right = 101\n",
    "\n",
    "\n",
    "def score_game(game_core):\n",
    "    ''' Функция расчета среднего результата.\n",
    "        Запускаем игру 1000 раз, чтобы узнать, как быстро игра угадывает число'''\n",
    "    # инициируем массив, в который соберем потребовашееся количество попыток для отгдаывания числа\n",
    "    count_ls = []\n",
    "    \n",
    "    # фиксируем RANDOM SEED, чтобы ваш эксперимент был воспроизводим!\n",
    "    np.random.seed(1)  \n",
    "    \n",
    "    # наполняем массив случайными числами для угадывания\n",
    "    random_array = np.random.randint(1,101, size=(1000))\n",
    "    \n",
    "    # запускаем циклически функция отгадывания числа и собираем массив из количества попыток\n",
    "    for number in random_array:\n",
    "        count_ls.append(game_core(number))\n",
    "    \n",
    "    # получаем среднее значение числа попыток\n",
    "    score_mean = int(np.mean(count_ls))\n",
    "    print(f\"Ваш алгоритм угадывает число в среднем за {score_mean} попыток\")\n",
    "    # возращаем среднее число попыток\n",
    "    return(score_mean)\n",
    "\n",
    "\n",
    "\n",
    "\n",
    "def game_core_v3(number):\n",
    "    ''' Сначала берем середину промежетука, а потом сдвигаем границы влево или в право, чтобы брать random число\n",
    "        из постоянно сжимающегося промежутка вокруг загаданного числа '''\n",
    "    \n",
    "    count = 1\n",
    "    shifting_range_left = range_border_left\n",
    "    shifting_range_right = range_border_right\n",
    "    \n",
    "    predict = shifting_range_right // 2\n",
    "    \n",
    "    while number != predict:\n",
    "        #print(f\"Алгоритм №3: х = {number}. Попытка {count}: random число {predict} из диапазона [{shifting_range_left},{shifting_range_right})\")\n",
    "        if number > predict: \n",
    "            shifting_range_left = predict + 1\n",
    "        elif number < predict: \n",
    "            shifting_range_right = predict\n",
    "        \n",
    "        predict = np.random.randint(shifting_range_left, shifting_range_right)\n",
    "        count += 1\n",
    "    # выход из цикла, если угадали    \n",
    "    #print(f\"Бинго! Угадано за {count} попыток\")\n",
    "    return(count) \n",
    "\n",
    "\n",
    "\n",
    "def game_core_v4(number):\n",
    "    ''' Сначала берем серидину промежетука, а потом сдвигаем границы влево или вправо, берем опять серидину промежутка.\n",
    "        таким образом делим всегда промежуток пополоам пока не дойдем до искомого числа'''\n",
    "    \n",
    "    count = 1\n",
    "    shifting_range_left = range_border_left\n",
    "    shifting_range_right = range_border_right\n",
    "    \n",
    "    predict = shifting_range_right//2\n",
    "    \n",
    "    while number != predict:\n",
    "        if number > predict: \n",
    "            shifting_range_left = predict\n",
    "        elif number < predict: \n",
    "            shifting_range_right = predict\n",
    "        \n",
    "        predict = (shifting_range_right + shifting_range_left)//2\n",
    "        count += 1\n",
    "    # выход из цикла, если угадали    \n",
    "    return(count) \n",
    "\n",
    "\n",
    "\n",
    "\n",
    "# запускаем\n",
    "\n",
    "score_game(game_core_v3)\n",
    "\n",
    "score_game(game_core_v4)\n"
   ]
  },
  {
   "cell_type": "code",
   "execution_count": null,
   "metadata": {},
   "outputs": [],
   "source": []
  },
  {
   "cell_type": "code",
   "execution_count": null,
   "metadata": {},
   "outputs": [],
   "source": []
  },
  {
   "cell_type": "code",
   "execution_count": null,
   "metadata": {},
   "outputs": [],
   "source": []
  },
  {
   "cell_type": "code",
   "execution_count": null,
   "metadata": {},
   "outputs": [],
   "source": []
  },
  {
   "cell_type": "code",
   "execution_count": null,
   "metadata": {},
   "outputs": [],
   "source": []
  }
 ],
 "metadata": {
  "kernelspec": {
   "display_name": "Python 3",
   "language": "python",
   "name": "python3"
  },
  "language_info": {
   "codemirror_mode": {
    "name": "ipython",
    "version": 3
   },
   "file_extension": ".py",
   "mimetype": "text/x-python",
   "name": "python",
   "nbconvert_exporter": "python",
   "pygments_lexer": "ipython3",
   "version": "3.7.6"
  }
 },
 "nbformat": 4,
 "nbformat_minor": 4
}
