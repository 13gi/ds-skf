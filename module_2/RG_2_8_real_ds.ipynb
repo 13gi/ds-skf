{
  "nbformat": 4,
  "nbformat_minor": 0,
  "metadata": {
    "colab": {
      "name": "RG_2.8-real_ds.ipynb",
      "provenance": [],
      "collapsed_sections": [],
      "toc_visible": true
    },
    "kernelspec": {
      "display_name": "Python 3",
      "language": "python",
      "name": "python3"
    },
    "language_info": {
      "codemirror_mode": {
        "name": "ipython",
        "version": 3
      },
      "file_extension": ".py",
      "mimetype": "text/x-python",
      "name": "python",
      "nbconvert_exporter": "python",
      "pygments_lexer": "ipython3",
      "version": "3.7.6"
    }
  },
  "cells": [
    {
      "cell_type": "markdown",
      "metadata": {
        "id": "8HCMxYB63si4",
        "colab_type": "text"
      },
      "source": [
        "# О проекте\n"
      ]
    },
    {
      "cell_type": "markdown",
      "metadata": {
        "id": "CjpvOCka3si6",
        "colab_type": "text"
      },
      "source": [
        "Задание относится к проекту UNICEF — международного подразделения ООН, чья миссия состоит в повышении уровня благополучия детей по всему миру. \n"
      ]
    },
    {
      "cell_type": "markdown",
      "metadata": {
        "id": "nqrliaUk3si7",
        "colab_type": "text"
      },
      "source": [
        "## Цель проекта"
      ]
    },
    {
      "cell_type": "markdown",
      "metadata": {
        "id": "EuFTyOWd3si9",
        "colab_type": "text"
      },
      "source": [
        "Отследить влияние условий жизни учащихся в возрасте от 15 до 22 лет на их успеваемость по математике, чтобы на ранней стадии выявлять студентов, находящихся в группе риска."
      ]
    },
    {
      "cell_type": "markdown",
      "metadata": {
        "id": "VVjy1cne3si-",
        "colab_type": "text"
      },
      "source": [
        "## Средства достижения целей"
      ]
    },
    {
      "cell_type": "markdown",
      "metadata": {
        "id": "uGPX3eXA3si_",
        "colab_type": "text"
      },
      "source": [
        "Реализовать достижение целей возможно с помощью модели, которая предсказывала бы результаты госэкзамена по математике для каждого ученика школы."
      ]
    },
    {
      "cell_type": "markdown",
      "metadata": {
        "id": "ft47-lRf3sjA",
        "colab_type": "text"
      },
      "source": [
        "## Задача проекта"
      ]
    },
    {
      "cell_type": "markdown",
      "metadata": {
        "id": "u9hzNfOv3sjC",
        "colab_type": "text"
      },
      "source": [
        "Чтобы определиться с параметрами будущей модели, нужно провести разведывательный анализ данных и составьте отчёт по его результатам."
      ]
    },
    {
      "cell_type": "markdown",
      "metadata": {
        "id": "x3HbT4aN3sjJ",
        "colab_type": "text"
      },
      "source": [
        "## Импорт библиотек"
      ]
    },
    {
      "cell_type": "code",
      "metadata": {
        "_cell_guid": "b1076dfc-b9ad-4769-8c92-a6c4dae69d19",
        "_uuid": "8f2839f25d086af736a60e9eeb907d3b93b6e0e5",
        "colab_type": "code",
        "id": "U2D2gTdJVp90",
        "colab": {}
      },
      "source": [
        "import warnings; warnings.simplefilter('ignore')\n",
        "\n",
        "import pandas as pd\n",
        "import numpy as np\n",
        "import os\n",
        "import re\n",
        "import math\n",
        "\n",
        "import matplotlib.pyplot as plt\n",
        "import seaborn as sns\n",
        "import cufflinks as cf\n",
        "from plotly.offline import download_plotlyjs, init_notebook_mode, plot, iplot\n",
        "\n",
        "from itertools import combinations\n",
        "\n",
        "from scipy.stats import ttest_ind\n",
        "from scipy.stats import norm\n",
        "from scipy.stats import t\n",
        "from statsmodels.stats import weightstats \n",
        "\n",
        "%matplotlib inline"
      ],
      "execution_count": null,
      "outputs": []
    },
    {
      "cell_type": "markdown",
      "metadata": {
        "colab_type": "text",
        "id": "DTIt7ezGVp-G"
      },
      "source": [
        "### Инструменты для предобработки"
      ]
    },
    {
      "cell_type": "code",
      "metadata": {
        "colab_type": "code",
        "id": "jNb40DwKVp-H",
        "scrolled": true,
        "colab": {}
      },
      "source": [
        "def column_content_analysis(column_name_list, column_type='str', more_than = 10):\n",
        "    '''\n",
        "        Функция для определения типовых параметров данных, а также определние \"замусоренности\".\n",
        "        На вход принимает список столбцов датафрейма\n",
        "    '''\n",
        "    # проходим циклом по списку колонок    \n",
        "    for column_name in column_name_list:\n",
        "        print('-'*60)\n",
        "        print('|\\t' , 'Отчет по колонке [', column_name, ']', '\\t'*5)\n",
        "        print('-'*60)\n",
        "        if column_name not in stud.columns:\n",
        "            print('|  Внимание!!! Указанная колонка не найдена в датасете. \\n')\n",
        "            break\n",
        "\n",
        "        col_count = stud[column_name].count()\n",
        "        col_type = stud[column_name].dtype\n",
        "        print('|  Тип данных:', col_type) \n",
        "        print('|  Заполнено значений:',  col_count, 'из', row_count)\n",
        "        print('|  Отсутсвующие значения:', row_count - col_count)\n",
        "        print('|  Полнота данных: ', round(col_count / row_count * 100 ,2), '%', sep='')\n",
        "        print('|  Количество уникальных значений:', stud[column_name].nunique())\n",
        "\n",
        "        print('|  Значений, встретившихся в столбце более', more_than,'раз:', \n",
        "              (stud[column_name].value_counts() > more_than).sum())\n",
        "\n",
        "        if col_type == 'object':\n",
        "            # Количество пробелов в начале в конце строки\n",
        "            print('|  Количество раз пробелы найдены:')\n",
        "            find_list = [len(re.findall(r'^\\s+\\w?', str(x))) for x in stud[column_name]]\n",
        "            print('|    в начале строки:', sum(find_list))\n",
        "            \n",
        "            find_list = [len(re.findall(r'\\w?\\s+$', str(x))) for x in stud[column_name]]\n",
        "            print('|    в конце  строки:', sum(find_list))\n",
        "            \n",
        "            find_list = [len(re.findall(r'[^\\s\\d\\w]', str(x))) for x in stud[column_name]]\n",
        "            print('|  Количество найденных специальных символов:', sum(find_list))\n",
        "        \n",
        "        if col_type in ['int', 'float']:\n",
        "            print('|  Медиана: ', stud[column_name].median())\n",
        "            \n",
        "            perc25 = stud[column_name].describe().loc['25%']\n",
        "            perc75 = stud[column_name].describe().loc['75%']\n",
        "            iqr = perc75 - perc25\n",
        "            range_left = perc25 - 1.5 * iqr\n",
        "            range_right = perc75 + 1.5 * iqr\n",
        "            \n",
        "            # Границы выбросов\n",
        "            print('|  IQR: ', iqr, '; границы выбросов: [', round(range_left, 2), '; ', round(range_right,2),']' , sep='')\n",
        "            out_of_range_left = stud[column_name].loc[stud[column_name] < range_left]\n",
        "            out_of_range_right = stud[column_name].loc[stud[column_name] > range_right]\n",
        "            out_of_range = len(out_of_range_left) + len(out_of_range_right)\n",
        "            if out_of_range > 0:\n",
        "                print('|  Данные СОДЕРЖАТ выбросы, количество значений: ', out_of_range)\n",
        "                if len(out_of_range_left) > 0:\n",
        "                    print('|    Слева  от IQR (уникальные):', out_of_range_left.unique())\n",
        "                if len(out_of_range_right) > 0:\n",
        "                    print('|    Справа от IQR (уникальные):', out_of_range_right.unique())\n",
        "         \n",
        "        print('|---\\n|  Все уникальные значения:', stud[column_name].unique() , '\\n')\n",
        "        \n",
        "\n",
        "    # end function\n"
      ],
      "execution_count": null,
      "outputs": []
    },
    {
      "cell_type": "code",
      "metadata": {
        "id": "_cftMmqbsESQ",
        "colab_type": "code",
        "colab": {}
      },
      "source": [
        "\n",
        "def column_content(column_name_list, more_than = 10):\n",
        "    '''\n",
        "        Функция для определения типовых параметров данных, а также определние \"замусоренности\".\n",
        "        На вход принимает список столбцов датафрейма\n",
        "    '''\n",
        "    # проходим циклом по списку колонок    \n",
        "    for column_name in column_name_list:\n",
        "        print('-'*60)\n",
        "        print('|\\t' , 'Отчет по колонке [', column_name, ']', '\\t'*5)\n",
        "        print('-'*60)\n",
        "        if column_name not in stud.columns:\n",
        "            print('|  Внимание!!! Указанная колонка не найдена в датасете. \\n')\n",
        "            break\n",
        "\n",
        "        print('|  Количество уникальных значений:', stud[column_name].nunique())\n",
        "        print('|  Значений, встретившихся в столбце более', more_than,'раз:', \n",
        "              (stud[column_name].value_counts() > more_than).sum())\n",
        "        print('|  Все уникальные значения:', stud[column_name].unique() , '\\n')\n",
        "        \n",
        "    # end function\n"
      ],
      "execution_count": null,
      "outputs": []
    },
    {
      "cell_type": "code",
      "metadata": {
        "id": "XuaRWpBr3sjR",
        "colab_type": "code",
        "colab": {}
      },
      "source": [
        "\n",
        "def column_iqr_range(column_name):\n",
        "    '''\n",
        "        Функция для расчета промежутка IQR\n",
        "    '''\n",
        "    if column_name in stud.columns and stud[column_name].dtype in ['int', 'float']:\n",
        "        perc25 = stud[column_name].describe().loc['25%']\n",
        "        perc75 = stud[column_name].describe().loc['75%']\n",
        "        iqr = perc75 - perc25\n",
        "        range_left = perc25 - 1.5 * iqr\n",
        "        range_right = perc75 + 1.5 * iqr\n",
        "        return range_left, range_right\n",
        "    else:\n",
        "        return None\n"
      ],
      "execution_count": null,
      "outputs": []
    },
    {
      "cell_type": "code",
      "metadata": {
        "id": "a61bzk5qa8oD",
        "colab_type": "code",
        "colab": {}
      },
      "source": [
        "def get_boxplot(column):\n",
        "    '''\n",
        "        Функция построения бокс-плота\n",
        "    '''\n",
        "    fig, ax = plt.subplots(figsize = (14, 4))\n",
        "    sns.boxplot(x=column, y='score', \n",
        "                data=stud.loc[stud.loc[:, column].isin(stud.loc[:, column].value_counts().index)], ax=ax)\n",
        "    plt.xticks(rotation=45)\n",
        "    ax.set_title('Boxplot for ' + column)\n",
        "    plt.show()"
      ],
      "execution_count": null,
      "outputs": []
    },
    {
      "cell_type": "code",
      "metadata": {
        "id": "0Pta-ZxNEGWa",
        "colab_type": "code",
        "colab": {}
      },
      "source": [
        "def get_stat_dif(column):\n",
        "    ''' \n",
        "        Функция проверки, есть ли статистическая разница в распределении оценок по номинативным признакам, с помощью теста Стьюдента\n",
        "    '''\n",
        "    cols = stud.loc[:, column].value_counts().index\n",
        "    combinations_all = list(combinations(cols, 2))\n",
        "    for comb in combinations_all:\n",
        "        if ttest_ind(stud.loc[stud.loc[:, column] == comb[0], 'score'], \n",
        "                        stud.loc[stud.loc[:, column] == comb[1], 'score']).pvalue \\\n",
        "            <= 0.05/len(combinations_all): # Учли поправку Бонферони\n",
        "            print('[', column,  ']', '- найдены статистически значимые различия')\n",
        "            break"
      ],
      "execution_count": null,
      "outputs": []
    },
    {
      "cell_type": "markdown",
      "metadata": {
        "id": "4JXqiFuR3sjT",
        "colab_type": "text"
      },
      "source": [
        "### Загрузка первичных данных"
      ]
    },
    {
      "cell_type": "code",
      "metadata": {
        "id": "RFG3edzc3sjU",
        "colab_type": "code",
        "colab": {}
      },
      "source": [
        "# файл исходных данных\n",
        "incoming_files = 'stud_math.csv'\n",
        "\n",
        "# проверка файла на наличие \n",
        "if incoming_files not in os.listdir():\n",
        "    print('\\n!!! ВНИМАНИЕ !!!'*5)\n",
        "    print('Не найден входной файл данных:', incoming_files)\n",
        "    # для работы через google colab\n",
        "    incoming_files = r'/content/drive/My Drive/Colab Notebooks/module_2/stud_math.csv'\n",
        "else:\n",
        "    print(r'[OK] Успешно пройдена проверка наличия входного файла датасета.')\n"
      ],
      "execution_count": null,
      "outputs": []
    },
    {
      "cell_type": "code",
      "metadata": {
        "id": "esJXgYwk3sjY",
        "colab_type": "code",
        "colab": {}
      },
      "source": [
        "# читаем данные\n",
        "stud = pd.read_csv(incoming_files)\n",
        "\n",
        "# получаем характеристики\n",
        "row_count, col_count = stud.shape"
      ],
      "execution_count": null,
      "outputs": []
    },
    {
      "cell_type": "code",
      "metadata": {
        "id": "otT3bsdu5zus",
        "colab_type": "code",
        "colab": {}
      },
      "source": [
        "print('Количество строк датасета:', row_count,'\\nКоличество столбцов датасета:', col_count)"
      ],
      "execution_count": null,
      "outputs": []
    },
    {
      "cell_type": "code",
      "metadata": {
        "id": "cDZRZcPg3sja",
        "colab_type": "code",
        "colab": {}
      },
      "source": [
        "# показывать больше строк\n",
        "pd.set_option('display.max_rows', 50)\n",
        "\n",
        "# показывать больше колонок\n",
        "pd.set_option('display.max_columns', col_count + 5) "
      ],
      "execution_count": null,
      "outputs": []
    },
    {
      "cell_type": "markdown",
      "metadata": {
        "id": "zRQy5nUR3sjc",
        "colab_type": "text"
      },
      "source": [
        "### Первичный осмотр данных"
      ]
    },
    {
      "cell_type": "code",
      "metadata": {
        "id": "blL1168Y3sjd",
        "colab_type": "code",
        "colab": {}
      },
      "source": [
        "stud.sample(9)"
      ],
      "execution_count": null,
      "outputs": []
    },
    {
      "cell_type": "code",
      "metadata": {
        "id": "v9UQDsF13sjf",
        "colab_type": "code",
        "colab": {}
      },
      "source": [
        "stud.info()"
      ],
      "execution_count": null,
      "outputs": []
    },
    {
      "cell_type": "code",
      "metadata": {
        "id": "Pij6Fsbh3sjh",
        "colab_type": "code",
        "colab": {}
      },
      "source": [
        "stud.columns"
      ],
      "execution_count": null,
      "outputs": []
    },
    {
      "cell_type": "markdown",
      "metadata": {
        "id": "SUIMxW2p3sjj",
        "colab_type": "text"
      },
      "source": [
        "В названиях колонок встречается написание с большой буквы, далее приведем все имена колонок к нижнему регистру."
      ]
    },
    {
      "cell_type": "markdown",
      "metadata": {
        "id": "26eSghYn3sjj",
        "colab_type": "text"
      },
      "source": [
        "### Первичная обработка данных"
      ]
    },
    {
      "cell_type": "code",
      "metadata": {
        "id": "4XS4KRwF3sjj",
        "colab_type": "code",
        "colab": {}
      },
      "source": [
        "# Удаляем столбец не заявленный в описании\n",
        "if 'studytime, granular' in stud.columns:\n",
        "    stud.drop(['studytime, granular'], inplace=True, axis = 1)\n",
        "\n",
        "# приводим все названия колонок к нижнему регистру\n",
        "stud.columns = [str.lower(x) for x in stud.columns]\n",
        "\n",
        "# получаем список всех колонок\n",
        "all_columns = stud.columns"
      ],
      "execution_count": null,
      "outputs": []
    },
    {
      "cell_type": "code",
      "metadata": {
        "id": "DWFAtImh3sjl",
        "colab_type": "code",
        "colab": {}
      },
      "source": [
        "# dtypes: float64(11), int64(1), object(17)\n",
        "\n",
        "dig_columns = ['age','medu', 'fedu', 'traveltime', 'studytime', 'failures',\n",
        "              'famrel', 'freetime', 'goout', 'health', 'absences', 'score']\n",
        "\n",
        "stud.loc[:, dig_columns].info()"
      ],
      "execution_count": null,
      "outputs": []
    },
    {
      "cell_type": "code",
      "metadata": {
        "id": "k9Yqi90D3sjn",
        "colab_type": "code",
        "colab": {}
      },
      "source": [
        "# формируем список строковых столбцов\n",
        "other_columns = [x for x in all_columns if x not in dig_columns]\n",
        "other_columns"
      ],
      "execution_count": null,
      "outputs": []
    },
    {
      "cell_type": "code",
      "metadata": {
        "id": "KK2paFJ53sjo",
        "colab_type": "code",
        "colab": {}
      },
      "source": [
        "# произведем замену пустых значений и значений nan в строковых столбцах\n",
        "for col_name in other_columns:\n",
        "    stud[col_name] = stud[col_name].apply(lambda x : None if pd.isnull(x)\n",
        "                                    else None if str.lower(x) == 'nan'\n",
        "                                    else None if x.strip == ''\n",
        "                                    else x.strip())"
      ],
      "execution_count": null,
      "outputs": []
    },
    {
      "cell_type": "code",
      "metadata": {
        "id": "_dARFxgL3sjv",
        "colab_type": "code",
        "colab": {}
      },
      "source": [
        "# выведем результат первичной обработки\n",
        "stud.sample(9)"
      ],
      "execution_count": null,
      "outputs": []
    },
    {
      "cell_type": "markdown",
      "metadata": {
        "id": "PzWTgixS3sjz",
        "colab_type": "text"
      },
      "source": [
        "## Распределение признака для числовых переменных"
      ]
    },
    {
      "cell_type": "code",
      "metadata": {
        "id": "y74DSIiw3sj0",
        "colab_type": "code",
        "colab": {}
      },
      "source": [
        "# количество числовых столбцов\n",
        "len(dig_columns)"
      ],
      "execution_count": null,
      "outputs": []
    },
    {
      "cell_type": "code",
      "metadata": {
        "id": "PpnlOo3n6Jke",
        "colab_type": "code",
        "colab": {}
      },
      "source": [
        "# список числовых столбцов\n",
        "dig_columns"
      ],
      "execution_count": null,
      "outputs": []
    },
    {
      "cell_type": "code",
      "metadata": {
        "id": "cX1nY1HO3sj1",
        "colab_type": "code",
        "colab": {}
      },
      "source": [
        "# список и расширенная информация для числовых столбцов\n",
        "stud.loc[:, dig_columns].info()"
      ],
      "execution_count": null,
      "outputs": []
    },
    {
      "cell_type": "markdown",
      "metadata": {
        "id": "k4g5EsUV3sj3",
        "colab_type": "text"
      },
      "source": [
        "### age"
      ]
    },
    {
      "cell_type": "markdown",
      "metadata": {
        "id": "fooEl3VZOT3z",
        "colab_type": "text"
      },
      "source": [
        "age — возраст ученика (от 15 до 22)"
      ]
    },
    {
      "cell_type": "code",
      "metadata": {
        "id": "y9EfOa3W3sj3",
        "colab_type": "code",
        "colab": {}
      },
      "source": [
        "column_content_analysis(['age'])"
      ],
      "execution_count": null,
      "outputs": []
    },
    {
      "cell_type": "markdown",
      "metadata": {
        "id": "js-IZ4fqxYZ1",
        "colab_type": "text"
      },
      "source": [
        "* Колонка не содержит пустых значений.\n",
        "* Есть 1 выброс данных.\n",
        "* Значение выброса `22` в ходит допустимый диапазон, поэтому фильтрация не потребуется."
      ]
    },
    {
      "cell_type": "code",
      "metadata": {
        "id": "WUr-NIaiCHbM",
        "colab_type": "code",
        "colab": {}
      },
      "source": [
        "# посмотрим на содержимое столбца и количество значений\n",
        "display(pd.DataFrame(stud['age'].value_counts()).sort_index())"
      ],
      "execution_count": null,
      "outputs": []
    },
    {
      "cell_type": "code",
      "metadata": {
        "id": "jnh8H0bl3sj4",
        "colab_type": "code",
        "colab": {}
      },
      "source": [
        "stud['age'].describe()"
      ],
      "execution_count": null,
      "outputs": []
    },
    {
      "cell_type": "code",
      "metadata": {
        "id": "rYYfYe8g3sj6",
        "colab_type": "code",
        "colab": {}
      },
      "source": [
        "stud['age'].hist()"
      ],
      "execution_count": null,
      "outputs": []
    },
    {
      "cell_type": "markdown",
      "metadata": {
        "id": "hvgRLnGy3sj7",
        "colab_type": "text"
      },
      "source": [
        "### medu"
      ]
    },
    {
      "cell_type": "markdown",
      "metadata": {
        "id": "frJs4mgwOdr4",
        "colab_type": "text"
      },
      "source": [
        "Medu — образование матери (0 - нет, 1 - 4 класса, 2 - 5-9 классы, 3 - среднее специальное или 11 классов, 4 - высшее)"
      ]
    },
    {
      "cell_type": "code",
      "metadata": {
        "id": "Xz05aeTp3sj7",
        "colab_type": "code",
        "colab": {}
      },
      "source": [
        "column_content_analysis(['medu'])"
      ],
      "execution_count": null,
      "outputs": []
    },
    {
      "cell_type": "markdown",
      "metadata": {
        "id": "a_JEm-iszism",
        "colab_type": "text"
      },
      "source": [
        "* Колонка содержит только 3 пустых значения. \n",
        "* Качество данных хорошее.\n",
        "* Выбросов не обнаружено."
      ]
    },
    {
      "cell_type": "code",
      "metadata": {
        "id": "SM1ae1lwCgvG",
        "colab_type": "code",
        "colab": {}
      },
      "source": [
        "# посмотрим на содержимое столбца и количество значений\n",
        "display(pd.DataFrame(stud['medu'].value_counts()))"
      ],
      "execution_count": null,
      "outputs": []
    },
    {
      "cell_type": "code",
      "metadata": {
        "id": "pZcqLG1B3sj8",
        "colab_type": "code",
        "colab": {}
      },
      "source": [
        "stud['medu'].describe()"
      ],
      "execution_count": null,
      "outputs": []
    },
    {
      "cell_type": "code",
      "metadata": {
        "id": "GwttbEu43sj-",
        "colab_type": "code",
        "colab": {}
      },
      "source": [
        "stud['medu'].hist()"
      ],
      "execution_count": null,
      "outputs": []
    },
    {
      "cell_type": "markdown",
      "metadata": {
        "id": "XUQ30hiT3sj_",
        "colab_type": "text"
      },
      "source": [
        "### fedu"
      ]
    },
    {
      "cell_type": "markdown",
      "metadata": {
        "id": "gweWWU40Ojns",
        "colab_type": "text"
      },
      "source": [
        "Fedu — образование отца (0 - нет, 1 - 4 класса, 2 - 5-9 классы, 3 - среднее специальное или 11 классов, 4 - высшее)"
      ]
    },
    {
      "cell_type": "code",
      "metadata": {
        "id": "qYS_1Py-3sj_",
        "colab_type": "code",
        "colab": {}
      },
      "source": [
        "column_content_analysis(['fedu'])"
      ],
      "execution_count": null,
      "outputs": []
    },
    {
      "cell_type": "code",
      "metadata": {
        "id": "5tQsncvZC1Dp",
        "colab_type": "code",
        "colab": {}
      },
      "source": [
        "# посмотрим на содержимое столбца и количество значений\n",
        "display(pd.DataFrame(stud['fedu'].value_counts()))"
      ],
      "execution_count": null,
      "outputs": []
    },
    {
      "cell_type": "code",
      "metadata": {
        "id": "fQGmvHuJ3skA",
        "colab_type": "code",
        "colab": {}
      },
      "source": [
        "stud['fedu'].describe()"
      ],
      "execution_count": null,
      "outputs": []
    },
    {
      "cell_type": "markdown",
      "metadata": {
        "id": "1Yh9fJ1n3RTr",
        "colab_type": "text"
      },
      "source": [
        "* Колонка содержит пустые значения - `24` шт. \n",
        "* Качество данных нормальное.\n",
        "* Обнаружен выброс данных (значение `40`). Это явная опечатка, можно скорректировать до `4`.\n",
        "* Значение `0`, меньшей левой границы - попадае в рамки начальных условий."
      ]
    },
    {
      "cell_type": "code",
      "metadata": {
        "id": "Cf0Kh4Ua3skC",
        "colab_type": "code",
        "colab": {}
      },
      "source": [
        "stud['fedu'].hist()"
      ],
      "execution_count": null,
      "outputs": []
    },
    {
      "cell_type": "markdown",
      "metadata": {
        "id": "s1NfN2q_3skD",
        "colab_type": "text"
      },
      "source": [
        "### traveltime"
      ]
    },
    {
      "cell_type": "markdown",
      "metadata": {
        "id": "cItFx4HZOq2E",
        "colab_type": "text"
      },
      "source": [
        "traveltime — время в пути до школы (1 - <15 мин., 2 - 15-30 мин., 3 - 30-60 мин., 4 - >60 мин.)"
      ]
    },
    {
      "cell_type": "code",
      "metadata": {
        "id": "ryr6kdpW3skE",
        "colab_type": "code",
        "colab": {}
      },
      "source": [
        "column_content_analysis(['traveltime'])"
      ],
      "execution_count": null,
      "outputs": []
    },
    {
      "cell_type": "code",
      "metadata": {
        "id": "GuNrXMhZC__p",
        "colab_type": "code",
        "colab": {}
      },
      "source": [
        "# посмотрим на содержимое столбца и количество значений\n",
        "display(pd.DataFrame(stud['traveltime'].value_counts()))"
      ],
      "execution_count": null,
      "outputs": []
    },
    {
      "cell_type": "code",
      "metadata": {
        "id": "a31Wwjvq3skF",
        "colab_type": "code",
        "colab": {}
      },
      "source": [
        "stud['traveltime'].describe()"
      ],
      "execution_count": null,
      "outputs": []
    },
    {
      "cell_type": "markdown",
      "metadata": {
        "id": "iBMTjPeG5It2",
        "colab_type": "text"
      },
      "source": [
        "* Колонка содержит пустые значения - 28 шт. \n",
        "* Качество данных нормальное.\n",
        "* Обнаружен выброс данных, но в пределах допустимого."
      ]
    },
    {
      "cell_type": "code",
      "metadata": {
        "id": "XXLrg2Xp3skG",
        "colab_type": "code",
        "colab": {}
      },
      "source": [
        "stud['traveltime'].hist()"
      ],
      "execution_count": null,
      "outputs": []
    },
    {
      "cell_type": "markdown",
      "metadata": {
        "id": "prowrJMU3skH",
        "colab_type": "text"
      },
      "source": [
        "### studytime"
      ]
    },
    {
      "cell_type": "markdown",
      "metadata": {
        "id": "IhA1uSdQOvCN",
        "colab_type": "text"
      },
      "source": [
        "studytime — время на учёбу помимо школы в неделю (1 - <2 часов, 2 - 2-5 часов, 3 - 5-10 часов, 4 - >10 часов)"
      ]
    },
    {
      "cell_type": "code",
      "metadata": {
        "id": "WwJwYf5H3skI",
        "colab_type": "code",
        "colab": {}
      },
      "source": [
        "column_content_analysis(['studytime'])"
      ],
      "execution_count": null,
      "outputs": []
    },
    {
      "cell_type": "code",
      "metadata": {
        "id": "LUyGzZw_DLp0",
        "colab_type": "code",
        "colab": {}
      },
      "source": [
        "# посмотрим на содержимое столбца и количество значений\n",
        "display(pd.DataFrame(stud['studytime'].value_counts()))"
      ],
      "execution_count": null,
      "outputs": []
    },
    {
      "cell_type": "code",
      "metadata": {
        "id": "JJSnb6cl3skJ",
        "colab_type": "code",
        "colab": {}
      },
      "source": [
        "stud['studytime'].describe()"
      ],
      "execution_count": null,
      "outputs": []
    },
    {
      "cell_type": "markdown",
      "metadata": {
        "id": "xICSfbWw61Ox",
        "colab_type": "text"
      },
      "source": [
        "* Колонка содержит пустые значения - 7 шт. \n",
        "* Качество данных хорошее.\n",
        "* Обнаружен выброс данных, но в пределах допустимого."
      ]
    },
    {
      "cell_type": "code",
      "metadata": {
        "id": "TdFcVWtT3skK",
        "colab_type": "code",
        "colab": {}
      },
      "source": [
        "stud['studytime'].hist()"
      ],
      "execution_count": null,
      "outputs": []
    },
    {
      "cell_type": "markdown",
      "metadata": {
        "id": "KkggSV273skL",
        "colab_type": "text"
      },
      "source": [
        "### failures"
      ]
    },
    {
      "cell_type": "markdown",
      "metadata": {
        "id": "V7RR43UXOzt6",
        "colab_type": "text"
      },
      "source": [
        " failures — количество внеучебных неудач (n, если 1<=n<=3, иначе 0)"
      ]
    },
    {
      "cell_type": "code",
      "metadata": {
        "id": "U0w7Ibix3skM",
        "colab_type": "code",
        "colab": {}
      },
      "source": [
        "column_content_analysis(['failures'])"
      ],
      "execution_count": null,
      "outputs": []
    },
    {
      "cell_type": "code",
      "metadata": {
        "id": "lj5hK5pwDVR8",
        "colab_type": "code",
        "colab": {}
      },
      "source": [
        "# посмотрим на содержимое столбца и количество значений\n",
        "display(pd.DataFrame(stud['failures'].value_counts()))"
      ],
      "execution_count": null,
      "outputs": []
    },
    {
      "cell_type": "code",
      "metadata": {
        "id": "53Ada7_s3skN",
        "colab_type": "code",
        "colab": {}
      },
      "source": [
        "stud['failures'].describe()"
      ],
      "execution_count": null,
      "outputs": []
    },
    {
      "cell_type": "markdown",
      "metadata": {
        "id": "EcgR14DT7L52",
        "colab_type": "text"
      },
      "source": [
        "* Колонка содержит пустые значения - 22 шт. \n",
        "* Качество данных нормальное.\n",
        "* Обнаружен выброс данных, но в пределах допустимого.\n",
        "* Уникальные значения в пределах начальных условий."
      ]
    },
    {
      "cell_type": "code",
      "metadata": {
        "id": "47V0NX6W3skO",
        "colab_type": "code",
        "colab": {}
      },
      "source": [
        "stud['failures'].hist()"
      ],
      "execution_count": null,
      "outputs": []
    },
    {
      "cell_type": "markdown",
      "metadata": {
        "id": "OE66YQmC3skP",
        "colab_type": "text"
      },
      "source": [
        "### famrel"
      ]
    },
    {
      "cell_type": "markdown",
      "metadata": {
        "id": "a8xVaklrO6XI",
        "colab_type": "text"
      },
      "source": [
        "famrel — семейные отношения (от 1 - очень плохо до 5 - очень хорошо)"
      ]
    },
    {
      "cell_type": "code",
      "metadata": {
        "id": "Nbj5aEKn3skP",
        "colab_type": "code",
        "colab": {}
      },
      "source": [
        "column_content_analysis(['famrel'])"
      ],
      "execution_count": null,
      "outputs": []
    },
    {
      "cell_type": "code",
      "metadata": {
        "id": "T_teXgXxDZc9",
        "colab_type": "code",
        "colab": {}
      },
      "source": [
        "# посмотрим на содержимое столбца и количество значений\n",
        "display(pd.DataFrame(stud['famrel'].value_counts()))"
      ],
      "execution_count": null,
      "outputs": []
    },
    {
      "cell_type": "code",
      "metadata": {
        "id": "272sq6Nx3skQ",
        "colab_type": "code",
        "colab": {}
      },
      "source": [
        "stud['famrel'].describe()"
      ],
      "execution_count": null,
      "outputs": []
    },
    {
      "cell_type": "markdown",
      "metadata": {
        "id": "bKeISPKb7wNm",
        "colab_type": "text"
      },
      "source": [
        "* Колонка содержит пустые значения - 27 шт. \n",
        "* Качество данных нормальное.\n",
        "* Обнаружен выброс данных, за пределами допустимого со значением `-1`. Возможно опечатка (лишний минус).\n",
        "* Уникальные значения в пределах начальных условий."
      ]
    },
    {
      "cell_type": "code",
      "metadata": {
        "id": "xu9GPSzH3skR",
        "colab_type": "code",
        "colab": {}
      },
      "source": [
        "stud['famrel'].hist()"
      ],
      "execution_count": null,
      "outputs": []
    },
    {
      "cell_type": "markdown",
      "metadata": {
        "id": "QL64GLnj3skS",
        "colab_type": "text"
      },
      "source": [
        "### freetime"
      ]
    },
    {
      "cell_type": "markdown",
      "metadata": {
        "id": "zCfXAPw-PBzy",
        "colab_type": "text"
      },
      "source": [
        "freetime — свободное время после школы (от 1 - очень мало до 5 - очень мого)"
      ]
    },
    {
      "cell_type": "code",
      "metadata": {
        "id": "vOiDhYUZ3skS",
        "colab_type": "code",
        "colab": {}
      },
      "source": [
        "column_content_analysis(['freetime'])"
      ],
      "execution_count": null,
      "outputs": []
    },
    {
      "cell_type": "code",
      "metadata": {
        "id": "jFzDzSQ4DiOW",
        "colab_type": "code",
        "colab": {}
      },
      "source": [
        "# посмотрим на содержимое столбца и количество значений\n",
        "display(pd.DataFrame(stud['freetime'].value_counts()))"
      ],
      "execution_count": null,
      "outputs": []
    },
    {
      "cell_type": "code",
      "metadata": {
        "id": "tfJV7s6J3skU",
        "colab_type": "code",
        "colab": {}
      },
      "source": [
        "stud['freetime'].describe()"
      ],
      "execution_count": null,
      "outputs": []
    },
    {
      "cell_type": "markdown",
      "metadata": {
        "id": "snCPwplc9Rwk",
        "colab_type": "text"
      },
      "source": [
        "* Колонка содержит пустые значения - 11 шт. \n",
        "* Качество данных хорошее.\n",
        "* Обнаружен выброс данных, но в пределах допустимого.\n",
        "* Уникальные значения в пределах начальных условий."
      ]
    },
    {
      "cell_type": "code",
      "metadata": {
        "id": "L8QaBsxF3skV",
        "colab_type": "code",
        "colab": {}
      },
      "source": [
        "stud['freetime'].hist()"
      ],
      "execution_count": null,
      "outputs": []
    },
    {
      "cell_type": "markdown",
      "metadata": {
        "id": "I2fX98s63skW",
        "colab_type": "text"
      },
      "source": [
        "### goout"
      ]
    },
    {
      "cell_type": "markdown",
      "metadata": {
        "id": "dmNodhMrPEwT",
        "colab_type": "text"
      },
      "source": [
        "goout — проведение времени с друзьями (от 1 - очень мало до 5 - очень много)"
      ]
    },
    {
      "cell_type": "code",
      "metadata": {
        "id": "q83YzRJp3skW",
        "colab_type": "code",
        "colab": {}
      },
      "source": [
        "column_content_analysis(['goout'])"
      ],
      "execution_count": null,
      "outputs": []
    },
    {
      "cell_type": "code",
      "metadata": {
        "id": "0jc1YuyOD9tx",
        "colab_type": "code",
        "colab": {}
      },
      "source": [
        "# посмотрим на содержимое столбца и количество значений\n",
        "display(pd.DataFrame(stud['goout'].value_counts()))"
      ],
      "execution_count": null,
      "outputs": []
    },
    {
      "cell_type": "code",
      "metadata": {
        "id": "OTfjEvw13skX",
        "colab_type": "code",
        "colab": {}
      },
      "source": [
        "stud['goout'].describe()"
      ],
      "execution_count": null,
      "outputs": []
    },
    {
      "cell_type": "markdown",
      "metadata": {
        "id": "xntmg-BZ9exy",
        "colab_type": "text"
      },
      "source": [
        "* Колонка содержит пустые значения - 8 шт. \n",
        "* Качество данных хорошее.\n",
        "* Выбросов данных не обнаружено.\n",
        "* Уникальные значения в пределах начальных условий."
      ]
    },
    {
      "cell_type": "code",
      "metadata": {
        "id": "cumwhBqu3skY",
        "colab_type": "code",
        "colab": {}
      },
      "source": [
        "stud['goout'].hist()"
      ],
      "execution_count": null,
      "outputs": []
    },
    {
      "cell_type": "markdown",
      "metadata": {
        "id": "UGO6gv553skZ",
        "colab_type": "text"
      },
      "source": [
        "### health"
      ]
    },
    {
      "cell_type": "markdown",
      "metadata": {
        "id": "pQNIZ1TuPIKX",
        "colab_type": "text"
      },
      "source": [
        "health — текущее состояние здоровья (от 1 - очень плохо до 5 - очень хорошо)"
      ]
    },
    {
      "cell_type": "code",
      "metadata": {
        "id": "bXWZVodx3skZ",
        "colab_type": "code",
        "colab": {}
      },
      "source": [
        "column_content_analysis(['health'])"
      ],
      "execution_count": null,
      "outputs": []
    },
    {
      "cell_type": "code",
      "metadata": {
        "id": "1_KRTCBOEIbM",
        "colab_type": "code",
        "colab": {}
      },
      "source": [
        "# посмотрим на содержимое столбца и количество значений\n",
        "display(pd.DataFrame(stud['health'].value_counts()))"
      ],
      "execution_count": null,
      "outputs": []
    },
    {
      "cell_type": "code",
      "metadata": {
        "id": "N1KcwFVT3ska",
        "colab_type": "code",
        "colab": {}
      },
      "source": [
        "stud['health'].describe()"
      ],
      "execution_count": null,
      "outputs": []
    },
    {
      "cell_type": "markdown",
      "metadata": {
        "id": "h9DaOQpC9pqG",
        "colab_type": "text"
      },
      "source": [
        "* Колонка содержит пустые значения - 15 шт. \n",
        "* Качество данных хорошее.\n",
        "* Данные не содержат выбросов.\n",
        "* Уникальные значения в пределах начальных условий."
      ]
    },
    {
      "cell_type": "code",
      "metadata": {
        "id": "hnEGRN4j3skb",
        "colab_type": "code",
        "colab": {}
      },
      "source": [
        "stud['health'].hist()"
      ],
      "execution_count": null,
      "outputs": []
    },
    {
      "cell_type": "markdown",
      "metadata": {
        "id": "PnOF0WH63skc",
        "colab_type": "text"
      },
      "source": [
        "### absences"
      ]
    },
    {
      "cell_type": "markdown",
      "metadata": {
        "id": "uqL51WHpPLBN",
        "colab_type": "text"
      },
      "source": [
        "absences — количество пропущенных занятий"
      ]
    },
    {
      "cell_type": "code",
      "metadata": {
        "id": "tKD8hdJv3skc",
        "colab_type": "code",
        "colab": {}
      },
      "source": [
        "column_content_analysis(['absences'])"
      ],
      "execution_count": null,
      "outputs": []
    },
    {
      "cell_type": "code",
      "metadata": {
        "id": "AD_6IQKOEN7h",
        "colab_type": "code",
        "colab": {}
      },
      "source": [
        "# посмотрим на содержимое столбца и количество значений\n",
        "display(pd.DataFrame(stud['absences'].value_counts()).sort_index(ascending=False))"
      ],
      "execution_count": null,
      "outputs": []
    },
    {
      "cell_type": "code",
      "metadata": {
        "id": "qiNIFkt03skd",
        "colab_type": "code",
        "colab": {}
      },
      "source": [
        "stud['absences'].describe()"
      ],
      "execution_count": null,
      "outputs": []
    },
    {
      "cell_type": "markdown",
      "metadata": {
        "id": "P6YNrL53A9q8",
        "colab_type": "text"
      },
      "source": [
        "* Колонка содержит пустые значения - 12 шт. \n",
        "* Качество данных приемлемое.\n",
        "* Обнаружен сильный выброс данных, значения `385` и `212` - явно аномальные, поэтому будут исключены."
      ]
    },
    {
      "cell_type": "code",
      "metadata": {
        "id": "kRkoaiLB3ske",
        "colab_type": "code",
        "colab": {}
      },
      "source": [
        "stud['absences'].hist()"
      ],
      "execution_count": null,
      "outputs": []
    },
    {
      "cell_type": "markdown",
      "metadata": {
        "id": "QdOvJQmC3skf",
        "colab_type": "text"
      },
      "source": [
        "### score"
      ]
    },
    {
      "cell_type": "markdown",
      "metadata": {
        "id": "Zwh0veUFPOOj",
        "colab_type": "text"
      },
      "source": [
        "score — баллы по госэкзамену по математике"
      ]
    },
    {
      "cell_type": "code",
      "metadata": {
        "id": "9gP3PKOi3skf",
        "colab_type": "code",
        "colab": {}
      },
      "source": [
        "column_content_analysis(['score'])"
      ],
      "execution_count": null,
      "outputs": []
    },
    {
      "cell_type": "code",
      "metadata": {
        "id": "veE_mNenFtBt",
        "colab_type": "code",
        "colab": {}
      },
      "source": [
        "# посмотрим на содержимое столбца и количество значений\n",
        "score_df = pd.DataFrame(stud['score'].value_counts())\n",
        "score_df.sort_index()"
      ],
      "execution_count": null,
      "outputs": []
    },
    {
      "cell_type": "markdown",
      "metadata": {
        "id": "_cSfN-9FDtPx",
        "colab_type": "text"
      },
      "source": [
        "Итак, резульататы госэкзамена:\n",
        "* 37 учеников получили 0 баллов, 1 ученик получил максимальный балл: 100\n",
        "* среднее значение 52.3\n",
        "\n",
        "*Ремарка:*\n",
        "* менее 27 баллов получили 45 учеников, если применить минимальный балл по ЕГЭ по РФ, то эти ученики предположительно не набрали пороговый балл для аттестата."
      ]
    },
    {
      "cell_type": "code",
      "metadata": {
        "id": "ctm2YrlY3skg",
        "colab_type": "code",
        "colab": {}
      },
      "source": [
        "stud['score'].describe()"
      ],
      "execution_count": null,
      "outputs": []
    },
    {
      "cell_type": "markdown",
      "metadata": {
        "id": "iyKBJI-3Bwq9",
        "colab_type": "text"
      },
      "source": [
        "* Колонка содержит пустые значения - 6 шт. \n",
        "* Качество данных хорошее. Распределние баллов показывает, что используется 100-бальная шкала оценок.\n",
        "* Выбросы данных не обнаружены.\n",
        "* Уникальные значения в пределах начальных условий.\n"
      ]
    },
    {
      "cell_type": "code",
      "metadata": {
        "id": "JcGUSo7N3skg",
        "colab_type": "code",
        "colab": {}
      },
      "source": [
        "stud['score'].hist()"
      ],
      "execution_count": null,
      "outputs": []
    },
    {
      "cell_type": "markdown",
      "metadata": {
        "id": "mHqLdXmy000d",
        "colab_type": "text"
      },
      "source": [
        "Выводы по результатам осмотра данных - сделующие столбцы требуют дополнительной обработки:\n",
        "\n",
        "*   `fedu` - корректировка значения\n",
        "*   `absences` - устранение выбросов\n",
        "\n",
        "Почти все столбцы (кроме `age`) имеют пропуски данных, поэтому строки с пропусками будут исключены из анализа.\n",
        "\n",
        "Топ 3 столбцов - лидеров по пропуску данных:\n",
        "* `traveltime`\n",
        "* `famrel`\n",
        "* `fedu`"
      ]
    },
    {
      "cell_type": "markdown",
      "metadata": {
        "id": "iu9P6d9F3ski",
        "colab_type": "text"
      },
      "source": [
        "## Распределение признака для строковых переменных"
      ]
    },
    {
      "cell_type": "code",
      "metadata": {
        "id": "n3YMla8I3ski",
        "colab_type": "code",
        "colab": {}
      },
      "source": [
        "# количество текстовых столбцов\n",
        "len(other_columns)"
      ],
      "execution_count": null,
      "outputs": []
    },
    {
      "cell_type": "code",
      "metadata": {
        "id": "p7aI9oQU3skj",
        "colab_type": "code",
        "colab": {}
      },
      "source": [
        "# список текстовых столбцов\n",
        "other_columns"
      ],
      "execution_count": null,
      "outputs": []
    },
    {
      "cell_type": "code",
      "metadata": {
        "id": "1QAha9I66jvI",
        "colab_type": "code",
        "colab": {}
      },
      "source": [
        "# список и расширенная информация для стоковых столбцов\n",
        "stud.loc[:, other_columns].info()"
      ],
      "execution_count": null,
      "outputs": []
    },
    {
      "cell_type": "markdown",
      "metadata": {
        "id": "xJqzJOcP3skk",
        "colab_type": "text"
      },
      "source": [
        "### school"
      ]
    },
    {
      "cell_type": "markdown",
      "metadata": {
        "id": "Q3LWkH5OPRZX",
        "colab_type": "text"
      },
      "source": [
        "school — аббревиатура школы, в которой учится ученик"
      ]
    },
    {
      "cell_type": "code",
      "metadata": {
        "id": "7TSFgDaa3skk",
        "colab_type": "code",
        "colab": {}
      },
      "source": [
        "column_content_analysis(['school'])"
      ],
      "execution_count": null,
      "outputs": []
    },
    {
      "cell_type": "code",
      "metadata": {
        "id": "Xc2Ema_i3skl",
        "colab_type": "code",
        "colab": {}
      },
      "source": [
        "stud['school'].describe()"
      ],
      "execution_count": null,
      "outputs": []
    },
    {
      "cell_type": "code",
      "metadata": {
        "id": "yH4_SuRj3skl",
        "colab_type": "code",
        "colab": {}
      },
      "source": [
        "# посмотрим на содержимое столбца\n",
        "display(pd.DataFrame(stud['school'].value_counts()))"
      ],
      "execution_count": null,
      "outputs": []
    },
    {
      "cell_type": "markdown",
      "metadata": {
        "id": "DW5AQFAInVHe",
        "colab_type": "text"
      },
      "source": [
        "* количесто уникальных данных - 2 шт\n",
        "* пустые значения - отсутсвуют\n",
        "* засоренность данных - отсутсвует\n",
        "* специальные символы в данных не найдены\n"
      ]
    },
    {
      "cell_type": "markdown",
      "metadata": {
        "id": "btG0_0ZJ3skn",
        "colab_type": "text"
      },
      "source": [
        "### sex"
      ]
    },
    {
      "cell_type": "markdown",
      "metadata": {
        "id": "v0BAuEo0PVNb",
        "colab_type": "text"
      },
      "source": [
        "sex — пол ученика ('F' - женский, 'M' - мужской)"
      ]
    },
    {
      "cell_type": "code",
      "metadata": {
        "id": "DekKjHxO3skn",
        "colab_type": "code",
        "colab": {}
      },
      "source": [
        "column_content_analysis(['sex'])\n",
        "stud['sex'].describe()"
      ],
      "execution_count": null,
      "outputs": []
    },
    {
      "cell_type": "code",
      "metadata": {
        "id": "GodHU7PT3sko",
        "colab_type": "code",
        "colab": {}
      },
      "source": [
        "display(pd.DataFrame(stud['sex'].value_counts()))"
      ],
      "execution_count": null,
      "outputs": []
    },
    {
      "cell_type": "markdown",
      "metadata": {
        "id": "x36YH0pkoNZx",
        "colab_type": "text"
      },
      "source": [
        "* количесто уникальных данных - 2 шт\n",
        "* пустые значения - нет\n",
        "* засоренность данных - отсутсвует\n",
        "* специальные символы в данных не найдены"
      ]
    },
    {
      "cell_type": "markdown",
      "metadata": {
        "id": "8C7TSqZq3skp",
        "colab_type": "text"
      },
      "source": [
        "### address"
      ]
    },
    {
      "cell_type": "markdown",
      "metadata": {
        "id": "okYnVf-5PZ1d",
        "colab_type": "text"
      },
      "source": [
        "address — тип адреса ученика ('U' - городской, 'R' - за городом)"
      ]
    },
    {
      "cell_type": "code",
      "metadata": {
        "id": "V9iASnHB3skq",
        "colab_type": "code",
        "colab": {}
      },
      "source": [
        "column_content_analysis(['address'])\n",
        "stud['address'].describe()"
      ],
      "execution_count": null,
      "outputs": []
    },
    {
      "cell_type": "code",
      "metadata": {
        "id": "WWVJtzXw3skq",
        "colab_type": "code",
        "colab": {}
      },
      "source": [
        "display(pd.DataFrame(stud['address'].value_counts()))"
      ],
      "execution_count": null,
      "outputs": []
    },
    {
      "cell_type": "markdown",
      "metadata": {
        "id": "4TVx0mG1oUmV",
        "colab_type": "text"
      },
      "source": [
        "* количесто уникальных данных - 2 шт\n",
        "* пустые значения - 17 шт\n",
        "* засоренность данных - отсутсвует\n",
        "* специальные символы в данных не найдены"
      ]
    },
    {
      "cell_type": "markdown",
      "metadata": {
        "id": "t7I_Bu6Y3sks",
        "colab_type": "text"
      },
      "source": [
        "### famsize"
      ]
    },
    {
      "cell_type": "markdown",
      "metadata": {
        "id": "HDcZhGCuPeE4",
        "colab_type": "text"
      },
      "source": [
        "famsize — размер семьи('LE3' <= 3, 'GT3' >3)"
      ]
    },
    {
      "cell_type": "code",
      "metadata": {
        "id": "IO3jAO373sks",
        "colab_type": "code",
        "colab": {}
      },
      "source": [
        "# famsize\n",
        "column_content_analysis(['famsize'])\n",
        "stud['famsize'].describe()"
      ],
      "execution_count": null,
      "outputs": []
    },
    {
      "cell_type": "code",
      "metadata": {
        "id": "MlU07H633sku",
        "colab_type": "code",
        "colab": {}
      },
      "source": [
        "display(pd.DataFrame(stud['famsize'].value_counts()))"
      ],
      "execution_count": null,
      "outputs": []
    },
    {
      "cell_type": "markdown",
      "metadata": {
        "id": "uL9XYYykofpt",
        "colab_type": "text"
      },
      "source": [
        "* количесто уникальных данных - 2 шт\n",
        "* пустые значения - 27 шт\n",
        "* засоренность данных - отсутсвует\n",
        "* специальные символы в данных не найдены"
      ]
    },
    {
      "cell_type": "markdown",
      "metadata": {
        "id": "W-Jkn7nK3skv",
        "colab_type": "text"
      },
      "source": [
        "### pstatus"
      ]
    },
    {
      "cell_type": "markdown",
      "metadata": {
        "id": "bt3kmXLWPhqb",
        "colab_type": "text"
      },
      "source": [
        "pstatus — статус совместного жилья родителей ('T' - живут вместе 'A' - раздельно)"
      ]
    },
    {
      "cell_type": "code",
      "metadata": {
        "id": "3HittKtf3skw",
        "colab_type": "code",
        "colab": {}
      },
      "source": [
        "# pstatus\n",
        "column_content_analysis(['pstatus'])\n",
        "stud['pstatus'].describe()"
      ],
      "execution_count": null,
      "outputs": []
    },
    {
      "cell_type": "code",
      "metadata": {
        "id": "91x9WGjS3skw",
        "colab_type": "code",
        "colab": {}
      },
      "source": [
        "display(pd.DataFrame(stud['pstatus'].value_counts()))"
      ],
      "execution_count": null,
      "outputs": []
    },
    {
      "cell_type": "markdown",
      "metadata": {
        "id": "2PEqPiNjoo7n",
        "colab_type": "text"
      },
      "source": [
        "* количесто уникальных данных - 2 шт\n",
        "* пустые значения - 45 шт\n",
        "* засоренность данных - отсутсвует\n",
        "* специальные символы в данных не найдены"
      ]
    },
    {
      "cell_type": "markdown",
      "metadata": {
        "id": "97cVll3K3sky",
        "colab_type": "text"
      },
      "source": [
        "### mjob"
      ]
    },
    {
      "cell_type": "markdown",
      "metadata": {
        "id": "Tj0jULDUPlkj",
        "colab_type": "text"
      },
      "source": [
        "Mjob — работа матери ('teacher' - учитель, 'health' - сфера здравоохранения, 'services' - гос служба, 'at_home' - не работает, 'other' - другое)"
      ]
    },
    {
      "cell_type": "code",
      "metadata": {
        "id": "B0F8-ALR3sky",
        "colab_type": "code",
        "colab": {}
      },
      "source": [
        "# mjob\n",
        "column_content_analysis(['mjob'])\n",
        "stud['mjob'].describe()"
      ],
      "execution_count": null,
      "outputs": []
    },
    {
      "cell_type": "code",
      "metadata": {
        "id": "oXVagNVZ3skz",
        "colab_type": "code",
        "colab": {}
      },
      "source": [
        "display(pd.DataFrame(stud['mjob'].value_counts()))"
      ],
      "execution_count": null,
      "outputs": []
    },
    {
      "cell_type": "markdown",
      "metadata": {
        "id": "GPRy0GisowjH",
        "colab_type": "text"
      },
      "source": [
        "* количесто уникальных данных - 5 шт\n",
        "* пустые значения - 19 шт\n",
        "* засоренность данных - отсутсвует\n",
        "* специальные символы в данных не найдены"
      ]
    },
    {
      "cell_type": "markdown",
      "metadata": {
        "id": "o9kc5tCC3sk0",
        "colab_type": "text"
      },
      "source": [
        "### fjob"
      ]
    },
    {
      "cell_type": "markdown",
      "metadata": {
        "id": "3pdQsQT0PooG",
        "colab_type": "text"
      },
      "source": [
        "Fjob — работа отца ('teacher' - учитель, 'health' - сфера здравоохранения, 'services' - гос служба, 'at_home' - не работает, 'other' - другое)"
      ]
    },
    {
      "cell_type": "code",
      "metadata": {
        "id": "E_kKDl8B3sk0",
        "colab_type": "code",
        "colab": {}
      },
      "source": [
        "# fjob\n",
        "column_content_analysis(['fjob'])\n",
        "stud['fjob'].describe()"
      ],
      "execution_count": null,
      "outputs": []
    },
    {
      "cell_type": "code",
      "metadata": {
        "id": "CDEN_fER3sk1",
        "colab_type": "code",
        "colab": {}
      },
      "source": [
        "display(pd.DataFrame(stud['fjob'].value_counts()))"
      ],
      "execution_count": null,
      "outputs": []
    },
    {
      "cell_type": "markdown",
      "metadata": {
        "id": "sBnYs4Wpo1TE",
        "colab_type": "text"
      },
      "source": [
        "* количесто уникальных данных - 5 шт\n",
        "* пустые значения - 36 шт\n",
        "* засоренность данных - отсутсвует\n",
        "* специальные символы в данных не найдены"
      ]
    },
    {
      "cell_type": "markdown",
      "metadata": {
        "id": "5O7mxRf33sk2",
        "colab_type": "text"
      },
      "source": [
        "### reason"
      ]
    },
    {
      "cell_type": "markdown",
      "metadata": {
        "id": "mKH0S8_2Prpa",
        "colab_type": "text"
      },
      "source": [
        "reason — причина выбора школы ('home' - близость к дому, 'reputation' - репутация школы, 'course' - образовательная программа, 'other' - другое)"
      ]
    },
    {
      "cell_type": "code",
      "metadata": {
        "id": "B-zPNav83sk2",
        "colab_type": "code",
        "colab": {}
      },
      "source": [
        "# reason\n",
        "column_content_analysis(['reason'])\n",
        "stud['reason'].describe()"
      ],
      "execution_count": null,
      "outputs": []
    },
    {
      "cell_type": "code",
      "metadata": {
        "id": "9-25ctym3sk3",
        "colab_type": "code",
        "colab": {}
      },
      "source": [
        "display(pd.DataFrame(stud['reason'].value_counts()))"
      ],
      "execution_count": null,
      "outputs": []
    },
    {
      "cell_type": "markdown",
      "metadata": {
        "id": "4FSP8R0Oo5Nr",
        "colab_type": "text"
      },
      "source": [
        "* количесто уникальных данных - 4 шт\n",
        "* пустые значения - 17 шт\n",
        "* засоренность данных - отсутсвует\n",
        "* специальные символы в данных не найдены"
      ]
    },
    {
      "cell_type": "markdown",
      "metadata": {
        "id": "Kc2Dro1h3sk4",
        "colab_type": "text"
      },
      "source": [
        "### guardian"
      ]
    },
    {
      "cell_type": "markdown",
      "metadata": {
        "id": "7Qe6Jz-jPvI6",
        "colab_type": "text"
      },
      "source": [
        "guardian — опекун ('mother' - мать, 'father' - отец, 'other' - другое)"
      ]
    },
    {
      "cell_type": "code",
      "metadata": {
        "id": "vN5u4sx93sk5",
        "colab_type": "code",
        "colab": {}
      },
      "source": [
        "# guardian\n",
        "column_content_analysis(['guardian'])\n",
        "stud['guardian'].describe()"
      ],
      "execution_count": null,
      "outputs": []
    },
    {
      "cell_type": "code",
      "metadata": {
        "id": "TRsOD1mx3sk5",
        "colab_type": "code",
        "colab": {}
      },
      "source": [
        "display(pd.DataFrame(stud['guardian'].value_counts()))"
      ],
      "execution_count": null,
      "outputs": []
    },
    {
      "cell_type": "markdown",
      "metadata": {
        "id": "JMP6CD2Fo-ki",
        "colab_type": "text"
      },
      "source": [
        "* количесто уникальных данных - 3 шт\n",
        "* пустые значения - 31 шт\n",
        "* засоренность данных - отсутсвует\n",
        "* специальные символы в данных не найдены"
      ]
    },
    {
      "cell_type": "markdown",
      "metadata": {
        "id": "5J6TiN053sk7",
        "colab_type": "text"
      },
      "source": [
        "### schoolsup"
      ]
    },
    {
      "cell_type": "markdown",
      "metadata": {
        "id": "XCSA8r0dP3Gf",
        "colab_type": "text"
      },
      "source": [
        "schoolsup — дополнительная образовательная поддержка (yes или no)"
      ]
    },
    {
      "cell_type": "code",
      "metadata": {
        "id": "DkMD03dz3sk7",
        "colab_type": "code",
        "colab": {}
      },
      "source": [
        "# schoolsup\n",
        "column_content_analysis(['schoolsup'])\n",
        "stud['schoolsup'].describe()"
      ],
      "execution_count": null,
      "outputs": []
    },
    {
      "cell_type": "code",
      "metadata": {
        "id": "YIv_IXic3sk7",
        "colab_type": "code",
        "colab": {}
      },
      "source": [
        "display(pd.DataFrame(stud['schoolsup'].value_counts()))"
      ],
      "execution_count": null,
      "outputs": []
    },
    {
      "cell_type": "markdown",
      "metadata": {
        "id": "yOZKxzzApBmY",
        "colab_type": "text"
      },
      "source": [
        "* количесто уникальных данных - 2 шт\n",
        "* пустые значения - 9 шт\n",
        "* засоренность данных - отсутсвует\n",
        "* специальные символы в данных не найдены"
      ]
    },
    {
      "cell_type": "markdown",
      "metadata": {
        "id": "oI6mhcFY3sk9",
        "colab_type": "text"
      },
      "source": [
        "### famsup"
      ]
    },
    {
      "cell_type": "markdown",
      "metadata": {
        "id": "wnaYLzuDP6tU",
        "colab_type": "text"
      },
      "source": [
        "famsup — семейная образовательная поддержка (yes или no)"
      ]
    },
    {
      "cell_type": "code",
      "metadata": {
        "id": "NUICahjq3sk9",
        "colab_type": "code",
        "colab": {}
      },
      "source": [
        "# famsup\n",
        "column_content_analysis(['famsup'])\n",
        "stud['famsup'].describe()"
      ],
      "execution_count": null,
      "outputs": []
    },
    {
      "cell_type": "code",
      "metadata": {
        "id": "zH71KwNi3sk-",
        "colab_type": "code",
        "colab": {}
      },
      "source": [
        "display(pd.DataFrame(stud['famsup'].value_counts()))"
      ],
      "execution_count": null,
      "outputs": []
    },
    {
      "cell_type": "markdown",
      "metadata": {
        "id": "xmoIIOh-pFt_",
        "colab_type": "text"
      },
      "source": [
        "* количесто уникальных данных - 2 шт\n",
        "* пустые значения - 39 шт\n",
        "* засоренность данных - отсутсвует\n",
        "* специальные символы в данных не найдены"
      ]
    },
    {
      "cell_type": "markdown",
      "metadata": {
        "id": "7e_eopKx3sk_",
        "colab_type": "text"
      },
      "source": [
        "### paid"
      ]
    },
    {
      "cell_type": "markdown",
      "metadata": {
        "id": "gPJ1hly-P-fW",
        "colab_type": "text"
      },
      "source": [
        "paid — дополнительные платные занятия по математике (yes или no)"
      ]
    },
    {
      "cell_type": "code",
      "metadata": {
        "id": "9De93QIb3sk_",
        "colab_type": "code",
        "colab": {}
      },
      "source": [
        "# paid\n",
        "column_content_analysis(['paid'])\n",
        "stud['paid'].describe()"
      ],
      "execution_count": null,
      "outputs": []
    },
    {
      "cell_type": "code",
      "metadata": {
        "id": "VhzcgEuH3slA",
        "colab_type": "code",
        "colab": {}
      },
      "source": [
        "display(pd.DataFrame(stud['paid'].value_counts()))"
      ],
      "execution_count": null,
      "outputs": []
    },
    {
      "cell_type": "markdown",
      "metadata": {
        "id": "d5RnRCxOpJhM",
        "colab_type": "text"
      },
      "source": [
        "* количесто уникальных данных - 2 шт\n",
        "* пустые значения - 40 шт\n",
        "* засоренность данных - отсутсвует\n",
        "* специальные символы в данных не найдены"
      ]
    },
    {
      "cell_type": "markdown",
      "metadata": {
        "id": "ZcPpNMjw3slC",
        "colab_type": "text"
      },
      "source": [
        "### activities"
      ]
    },
    {
      "cell_type": "markdown",
      "metadata": {
        "id": "MrAoPqWwQDcJ",
        "colab_type": "text"
      },
      "source": [
        "activities — дополнительные внеучебные занятия (yes или no)"
      ]
    },
    {
      "cell_type": "code",
      "metadata": {
        "id": "RWC185og3slC",
        "colab_type": "code",
        "colab": {}
      },
      "source": [
        "# activities\n",
        "column_content_analysis(['activities'])\n",
        "stud['activities'].describe()"
      ],
      "execution_count": null,
      "outputs": []
    },
    {
      "cell_type": "code",
      "metadata": {
        "id": "3QXuoLSD3slC",
        "colab_type": "code",
        "colab": {}
      },
      "source": [
        "display(pd.DataFrame(stud['activities'].value_counts()))"
      ],
      "execution_count": null,
      "outputs": []
    },
    {
      "cell_type": "markdown",
      "metadata": {
        "id": "0lE2ADGcpN-k",
        "colab_type": "text"
      },
      "source": [
        "* количесто уникальных данных - 2 шт\n",
        "* пустые значения - 14 шт\n",
        "* засоренность данных - отсутсвует\n",
        "* специальные символы в данных не найдены"
      ]
    },
    {
      "cell_type": "markdown",
      "metadata": {
        "id": "nB9EbiIF3slE",
        "colab_type": "text"
      },
      "source": [
        "### nursery"
      ]
    },
    {
      "cell_type": "markdown",
      "metadata": {
        "id": "SOf1jUIBQReo",
        "colab_type": "text"
      },
      "source": [
        "nursery — посещал детский сад (yes или no)"
      ]
    },
    {
      "cell_type": "code",
      "metadata": {
        "id": "Knj5mOod3slE",
        "colab_type": "code",
        "colab": {}
      },
      "source": [
        "# nursery\n",
        "column_content_analysis(['nursery'])\n",
        "stud['nursery'].describe()"
      ],
      "execution_count": null,
      "outputs": []
    },
    {
      "cell_type": "code",
      "metadata": {
        "id": "FlRqQlnD3slE",
        "colab_type": "code",
        "colab": {}
      },
      "source": [
        "display(pd.DataFrame(stud['nursery'].value_counts()))"
      ],
      "execution_count": null,
      "outputs": []
    },
    {
      "cell_type": "markdown",
      "metadata": {
        "id": "Nru6kzpepR-p",
        "colab_type": "text"
      },
      "source": [
        "* количесто уникальных данных - 2 шт\n",
        "* пустые значения - 16 шт\n",
        "* засоренность данных - отсутсвует\n",
        "* специальные символы в данных не найдены"
      ]
    },
    {
      "cell_type": "markdown",
      "metadata": {
        "id": "bMKh6riV3slG",
        "colab_type": "text"
      },
      "source": [
        "### higher"
      ]
    },
    {
      "cell_type": "markdown",
      "metadata": {
        "id": "eWQ0MuuwQVS4",
        "colab_type": "text"
      },
      "source": [
        "higher — хочет получить высшее образование (yes или no)"
      ]
    },
    {
      "cell_type": "code",
      "metadata": {
        "id": "9TIg02op3slG",
        "colab_type": "code",
        "colab": {}
      },
      "source": [
        "# higher\n",
        "column_content_analysis(['higher'])\n",
        "stud['higher'].describe()"
      ],
      "execution_count": null,
      "outputs": []
    },
    {
      "cell_type": "code",
      "metadata": {
        "id": "pYOgnbVo3slG",
        "colab_type": "code",
        "colab": {}
      },
      "source": [
        "display(pd.DataFrame(stud['higher'].value_counts()))"
      ],
      "execution_count": null,
      "outputs": []
    },
    {
      "cell_type": "markdown",
      "metadata": {
        "id": "r3Tyul4npU-5",
        "colab_type": "text"
      },
      "source": [
        "* количесто уникальных данных - 2 шт\n",
        "* пустые значения - 20 шт\n",
        "* засоренность данных - отсутсвует\n",
        "* специальные символы в данных не найдены"
      ]
    },
    {
      "cell_type": "markdown",
      "metadata": {
        "id": "EjvpdbVD3slH",
        "colab_type": "text"
      },
      "source": [
        "### internet"
      ]
    },
    {
      "cell_type": "markdown",
      "metadata": {
        "id": "OHDZWrf4QXpF",
        "colab_type": "text"
      },
      "source": [
        "internet — наличие интернета дома (yes или no)"
      ]
    },
    {
      "cell_type": "code",
      "metadata": {
        "id": "psQOEROR3slI",
        "colab_type": "code",
        "colab": {}
      },
      "source": [
        "# internet\n",
        "column_content_analysis(['internet'])\n",
        "stud['internet'].describe()"
      ],
      "execution_count": null,
      "outputs": []
    },
    {
      "cell_type": "code",
      "metadata": {
        "id": "4vEp9a9q3slI",
        "colab_type": "code",
        "colab": {}
      },
      "source": [
        "display(pd.DataFrame(stud['internet'].value_counts()))"
      ],
      "execution_count": null,
      "outputs": []
    },
    {
      "cell_type": "markdown",
      "metadata": {
        "id": "byZeI3HmpZrE",
        "colab_type": "text"
      },
      "source": [
        "* количесто уникальных данных - 2 шт\n",
        "* пустые значения - 34 шт\n",
        "* засоренность данных - отсутсвует\n",
        "* специальные символы в данных не найдены"
      ]
    },
    {
      "cell_type": "markdown",
      "metadata": {
        "id": "kT7JUmer3slJ",
        "colab_type": "text"
      },
      "source": [
        "### romantic"
      ]
    },
    {
      "cell_type": "markdown",
      "metadata": {
        "id": "ZNSrA_LeQdzw",
        "colab_type": "text"
      },
      "source": [
        "romantic — в романтических отношениях (yes или no)"
      ]
    },
    {
      "cell_type": "code",
      "metadata": {
        "id": "S_19qRO-3slJ",
        "colab_type": "code",
        "colab": {}
      },
      "source": [
        "# romantic\n",
        "column_content_analysis(['romantic'])\n",
        "stud['romantic'].describe()"
      ],
      "execution_count": null,
      "outputs": []
    },
    {
      "cell_type": "code",
      "metadata": {
        "id": "nT0xr-MX3slK",
        "colab_type": "code",
        "colab": {}
      },
      "source": [
        "display(pd.DataFrame(stud['romantic'].value_counts()))"
      ],
      "execution_count": null,
      "outputs": []
    },
    {
      "cell_type": "markdown",
      "metadata": {
        "id": "YRPGBKobpcbi",
        "colab_type": "text"
      },
      "source": [
        "* количесто уникальных данных - 2 шт\n",
        "* пустые значения - 31 шт\n",
        "* засоренность данных - отсутсвует\n",
        "* специальные символы в данных не найдены"
      ]
    },
    {
      "cell_type": "markdown",
      "metadata": {
        "id": "sQIZxUhp3slO",
        "colab_type": "text"
      },
      "source": [
        "## Устранение выбросов"
      ]
    },
    {
      "cell_type": "markdown",
      "metadata": {
        "id": "GhDtHipfLjt5",
        "colab_type": "text"
      },
      "source": [
        "### fedu"
      ]
    },
    {
      "cell_type": "markdown",
      "metadata": {
        "id": "CVh6dnyXJTF4",
        "colab_type": "text"
      },
      "source": [
        "Посмотрим на строку с выбросом внимательней\n"
      ]
    },
    {
      "cell_type": "code",
      "metadata": {
        "id": "RIAvxIR2IN9E",
        "colab_type": "code",
        "colab": {}
      },
      "source": [
        "stud[stud['fedu'] == 40]"
      ],
      "execution_count": null,
      "outputs": []
    },
    {
      "cell_type": "markdown",
      "metadata": {
        "id": "q0OTdswHJt0c",
        "colab_type": "text"
      },
      "source": [
        "Значение `40` с большой вероятностей опечатка,  предположим что должно быть значение `4`"
      ]
    },
    {
      "cell_type": "code",
      "metadata": {
        "id": "RPZ1lCA4JLvL",
        "colab_type": "code",
        "colab": {}
      },
      "source": [
        "# исправим ошибочное значение\n",
        "stud['fedu'][stud['fedu'] == 40] = 4\n",
        "\n",
        "#  проверим результат \n",
        "stud['fedu'].loc[11]"
      ],
      "execution_count": null,
      "outputs": []
    },
    {
      "cell_type": "markdown",
      "metadata": {
        "id": "U84xBrfULef5",
        "colab_type": "text"
      },
      "source": [
        "### absences\n",
        "\n",
        "* Обнаружен сильный выброс данных, значения `385` и `212` - явно аномальные, поэтому будут исключены."
      ]
    },
    {
      "cell_type": "code",
      "metadata": {
        "id": "9ZPESbz0LS4T",
        "colab_type": "code",
        "colab": {}
      },
      "source": [
        "stud[stud['absences'] >= 212]"
      ],
      "execution_count": null,
      "outputs": []
    },
    {
      "cell_type": "code",
      "metadata": {
        "id": "HDzYOsktIaGY",
        "colab_type": "code",
        "colab": {}
      },
      "source": [
        "stud[stud['absences'] >= 212].index\n"
      ],
      "execution_count": null,
      "outputs": []
    },
    {
      "cell_type": "code",
      "metadata": {
        "id": "BA6aNZWVMyJX",
        "colab_type": "code",
        "colab": {}
      },
      "source": [
        "stud.drop(stud[stud['absences'] >= 212].index, inplace=True)"
      ],
      "execution_count": null,
      "outputs": []
    },
    {
      "cell_type": "markdown",
      "metadata": {
        "id": "rb4l_s2w3slQ",
        "colab_type": "text"
      },
      "source": [
        "## Оценка количества уникальных значений для номинативных переменных"
      ]
    },
    {
      "cell_type": "code",
      "metadata": {
        "id": "cmoEuV6UtY5W",
        "colab_type": "code",
        "colab": {}
      },
      "source": [
        "# количество номинативных переменных\n",
        "len(other_columns)"
      ],
      "execution_count": null,
      "outputs": []
    },
    {
      "cell_type": "code",
      "metadata": {
        "id": "9AyIRg_mm_EG",
        "colab_type": "code",
        "colab": {}
      },
      "source": [
        "# список номинативных переменных\n",
        "other_columns"
      ],
      "execution_count": null,
      "outputs": []
    },
    {
      "cell_type": "code",
      "metadata": {
        "id": "pcqKxFgcm_zB",
        "colab_type": "code",
        "colab": {}
      },
      "source": [
        "column_content(other_columns)"
      ],
      "execution_count": null,
      "outputs": []
    },
    {
      "cell_type": "markdown",
      "metadata": {
        "id": "QfZvurZ9nAMx",
        "colab_type": "text"
      },
      "source": [
        "## Преобразование данных"
      ]
    },
    {
      "cell_type": "markdown",
      "metadata": {
        "id": "XuTyNxMX3slQ",
        "colab_type": "text"
      },
      "source": [
        "Заполнить пропуски на данный момент не представляется возможным, так как методика не предлагается. Поэтому отбросим данные с пропусками у числовых столбцов."
      ]
    },
    {
      "cell_type": "code",
      "metadata": {
        "id": "4HJ-1MqT3slQ",
        "colab_type": "code",
        "colab": {}
      },
      "source": [
        "# размерность исходного датасета\n",
        "stud.shape"
      ],
      "execution_count": null,
      "outputs": []
    },
    {
      "cell_type": "code",
      "metadata": {
        "id": "UW2YcWLk3slR",
        "colab_type": "code",
        "colab": {}
      },
      "source": [
        "# удаление лишних строк\n",
        "stud.dropna('index', subset=dig_columns, inplace=True)"
      ],
      "execution_count": null,
      "outputs": []
    },
    {
      "cell_type": "code",
      "metadata": {
        "id": "UmeQd3op3slR",
        "colab_type": "code",
        "colab": {}
      },
      "source": [
        "# размерность датасета после обработки\n",
        "stud.shape"
      ],
      "execution_count": null,
      "outputs": []
    },
    {
      "cell_type": "markdown",
      "metadata": {
        "id": "B6aHslKnmjMW",
        "colab_type": "text"
      },
      "source": [
        "Датасет сократился с 393 строк до 261."
      ]
    },
    {
      "cell_type": "markdown",
      "metadata": {
        "id": "7kMmh_zc3slU",
        "colab_type": "text"
      },
      "source": [
        "## Корреляционный анализ количественных элементов"
      ]
    },
    {
      "cell_type": "markdown",
      "metadata": {
        "id": "Yk1-Xyf6qggQ",
        "colab_type": "text"
      },
      "source": [
        "Корреляции рассмотрим только для числовых столбцов. Выясним какие параметры коррелируют с итоговой оценкой `score`"
      ]
    },
    {
      "cell_type": "code",
      "metadata": {
        "id": "vTdUCifr3slU",
        "colab_type": "code",
        "colab": {}
      },
      "source": [
        "sns.pairplot(stud[dig_columns], kind = 'reg')"
      ],
      "execution_count": null,
      "outputs": []
    },
    {
      "cell_type": "markdown",
      "metadata": {
        "id": "TlX5UcGAvBOF",
        "colab_type": "text"
      },
      "source": [
        "Выведем матрицу корреляции"
      ]
    },
    {
      "cell_type": "code",
      "metadata": {
        "id": "10rlOTFpv1Fg",
        "colab_type": "code",
        "colab": {}
      },
      "source": [
        "stud[dig_columns].corr()"
      ],
      "execution_count": null,
      "outputs": []
    },
    {
      "cell_type": "code",
      "metadata": {
        "id": "p7CS7xh33slU",
        "colab_type": "code",
        "colab": {}
      },
      "source": [
        "# расмотрим корреляцию score с другими параметрами\n",
        "stud[dig_columns].corr()['score'].sort_values()"
      ],
      "execution_count": null,
      "outputs": []
    },
    {
      "cell_type": "markdown",
      "metadata": {
        "id": "A9RvvEdExZSs",
        "colab_type": "text"
      },
      "source": [
        "Выводы на основе корреляционной связи параметров на результат успеваимости по математике:\n",
        "* положительно влияет на итоговый бал - образование матери (`medu`) и отца (`fedu`), а также время выделенное на учебу (`studytime`) помимо школы. \n",
        "* на снижение результата влияет количество пропущенных занятий `absences`, свободное время после школы `freetime`, а также семейные отношения `famrel`.\n",
        "* снижение успеваемости также связано с увеличением количества внеучебных неудач `failures`и количество проведенного времени с друзьями `goout`. Наблюдаетя также снижение результата успеваемости при увеличении возраста учащегося (`age`)"
      ]
    },
    {
      "cell_type": "markdown",
      "metadata": {
        "id": "cFI2ZJ0WwT33",
        "colab_type": "text"
      },
      "source": [
        "* отрицательная корреляция с score у параметров: `failures`, `goout`, `age`, `traveltime`, `health`\n",
        "* положительная корреляция с score у параметров: `famrel`, `freetime`, `absences`, `studytime`, `fedu`, `medu`"
      ]
    },
    {
      "cell_type": "markdown",
      "metadata": {
        "id": "OLiygiWq3slW",
        "colab_type": "text"
      },
      "source": [
        "## Отбор не коррелирующих переменных"
      ]
    },
    {
      "cell_type": "markdown",
      "metadata": {
        "id": "dSCVXUtg7U_A",
        "colab_type": "text"
      },
      "source": [
        "*Справочно*\n",
        "\n",
        "* Если коэффициент корреляции отрицательный, это означает наличие противоположной связи: чем выше значение одной переменной, тем ниже значение другой.\n",
        "* Сила связи характеризуется также и абсолютной величиной коэффициента корреляции. \n",
        "* Для словесного описания величины коэффициента корреляции используются следуюшие градации:\n",
        "\n",
        "Интерпретация значений:\n",
        "* до 0,2 - очень слабая корреляция\n",
        "* до 0,5 - слабая корреляция\n",
        "* до 0,7 - средняя корреляция\n",
        "* до 0,9 - высокая корреляция\n",
        "* свыше 0,9\t- очень высокая корреляция"
      ]
    },
    {
      "cell_type": "markdown",
      "metadata": {
        "id": "duwCwZQb_wHx",
        "colab_type": "text"
      },
      "source": [
        "**Выбор значимого коэффициента корреляции**\n",
        "\n",
        "Так как выборка достаточно большая, то можно считать что переменные не связаны если их корреляция попадает в диапазон `[-0.5 , 0.5]`"
      ]
    },
    {
      "cell_type": "code",
      "metadata": {
        "id": "H4pOz2v63slW",
        "colab_type": "code",
        "colab": {}
      },
      "source": [
        "# сформируем датафрейм\n",
        "kk_df = pd.DataFrame(stud[dig_columns].corr()['score'].sort_values())\n",
        "\n",
        "# отфильтруем\n",
        "kk_df.query('-0.5 <= score <= 0.5')"
      ],
      "execution_count": null,
      "outputs": []
    },
    {
      "cell_type": "markdown",
      "metadata": {
        "id": "pOfissFcDNAU",
        "colab_type": "text"
      },
      "source": [
        "Таким образом для модели будем использовать указанные столбцы:"
      ]
    },
    {
      "cell_type": "code",
      "metadata": {
        "id": "DfG-Ykqi3slX",
        "colab_type": "code",
        "colab": {}
      },
      "source": [
        "kk_df.query('-0.5 <= score <= 0.5').index"
      ],
      "execution_count": null,
      "outputs": []
    },
    {
      "cell_type": "code",
      "metadata": {
        "id": "3uG3SJXIKcvG",
        "colab_type": "code",
        "colab": {}
      },
      "source": [
        "# сохраним в список колонки для модели\n",
        "column_for_model = ['failures', 'goout', 'age', 'traveltime', 'health', 'famrel',\n",
        "       'freetime', 'absences', 'studytime', 'fedu', 'medu']"
      ],
      "execution_count": null,
      "outputs": []
    },
    {
      "cell_type": "code",
      "metadata": {
        "id": "sWJf_caJ3slX",
        "colab_type": "code",
        "colab": {}
      },
      "source": [
        "\n",
        "# column_for_model0 = ['traveltime', 'health', 'famrel', 'freetime', 'absences']"
      ],
      "execution_count": null,
      "outputs": []
    },
    {
      "cell_type": "markdown",
      "metadata": {
        "id": "310qrFAW3slY",
        "colab_type": "text"
      },
      "source": [
        "## Анализ номинативных переменных, устранение не влияющих на предсказание конечной величины"
      ]
    },
    {
      "cell_type": "markdown",
      "metadata": {
        "id": "J3TfzC8P1FVd",
        "colab_type": "text"
      },
      "source": [
        "Для номинативных переменных использовать корреляционный анализ не получится. Однако можно посмотреть, различаются ли распределения результата успеваемости в зависимости от значения этих переменных."
      ]
    },
    {
      "cell_type": "code",
      "metadata": {
        "id": "PJRdtNkW3slY",
        "colab_type": "code",
        "colab": {}
      },
      "source": [
        "# Список номинативных переменных для рассмотрения\n",
        "other_columns"
      ],
      "execution_count": null,
      "outputs": []
    },
    {
      "cell_type": "markdown",
      "metadata": {
        "id": "d5lyyTPCavwu",
        "colab_type": "text"
      },
      "source": [
        "Построим графики плотности распределения переменных"
      ]
    },
    {
      "cell_type": "code",
      "metadata": {
        "id": "6daR3Rvx3slY",
        "colab_type": "code",
        "colab": {}
      },
      "source": [
        "for col in other_columns:\n",
        "    get_boxplot(col)"
      ],
      "execution_count": null,
      "outputs": []
    },
    {
      "cell_type": "markdown",
      "metadata": {
        "id": "PMgK2HXKcDya",
        "colab_type": "text"
      },
      "source": [
        "По графикам похоже, что все параметры, кроме `sex`, `address`, `famsize` не могут влиять на оценку."
      ]
    },
    {
      "cell_type": "markdown",
      "metadata": {
        "id": "BJjY2NuecMkN",
        "colab_type": "text"
      },
      "source": [
        "Удостоверимся в этом. Настоящую значимость различий может помочь распознать статистика. Проверим, есть ли статистическая разница в распределении оценок по номинативным признакам, с помощью теста Стьюдента. Проанализируем нулевую гипотезу о том, что распределения успеваемости по различным параметрам неразличимы:"
      ]
    },
    {
      "cell_type": "code",
      "metadata": {
        "id": "7hDvi2j93slZ",
        "colab_type": "code",
        "colab": {}
      },
      "source": [
        "for col in other_columns:\n",
        "    get_stat_dif(col)"
      ],
      "execution_count": null,
      "outputs": []
    },
    {
      "cell_type": "markdown",
      "metadata": {
        "id": "XRQGOtFskfhD",
        "colab_type": "text"
      },
      "source": [
        "Как мы видим, серьёзно отличаются три параметра: \n",
        "* `sex` - пол ученика\n",
        "* `address` - тип адреса ученика\n",
        "* `famsize` - размер семьи\n",
        "\n",
        "Оставим эти переменные в датасете для дальнейшего построения модели."
      ]
    },
    {
      "cell_type": "code",
      "metadata": {
        "id": "gUv1mJzbENeo",
        "colab_type": "code",
        "colab": {}
      },
      "source": [
        "column_for_model"
      ],
      "execution_count": null,
      "outputs": []
    },
    {
      "cell_type": "code",
      "metadata": {
        "id": "UUuRqyPk3slZ",
        "colab_type": "code",
        "colab": {}
      },
      "source": [
        "column_for_model.append('sex')\n",
        "column_for_model.append('address')\n",
        "column_for_model.append('famsize')\n",
        "\n",
        "column_for_model"
      ],
      "execution_count": null,
      "outputs": []
    },
    {
      "cell_type": "markdown",
      "metadata": {
        "id": "2fBk3TVp3sla",
        "colab_type": "text"
      },
      "source": [
        "## Выводы о качестве данных"
      ]
    },
    {
      "cell_type": "markdown",
      "metadata": {
        "id": "ii-IOL8vG0o8",
        "colab_type": "text"
      },
      "source": [
        "В результате EDA анализа влияния условий жизни учащихся в возрасте от 15 до 22 лет на их успеваемость по математике, чтобы на ранней стадии выявлять студентов, находящихся в группе риска, были получены следующие выводы:\n",
        "\n",
        "\n",
        "\n",
        "\n"
      ]
    },
    {
      "cell_type": "markdown",
      "metadata": {
        "id": "5vAvUexSHYvW",
        "colab_type": "text"
      },
      "source": [
        "* в данных не слишком много пропущенных значений, % полноты данных не снижался ниже 88, содержимое данных не содержит мусорных символов. Детальные данные доступны в блоке анализа каждого отдельного столбца.\n",
        "\n",
        "Выводы по результатам осмотра данных - некоторые столбцы требуют дополнительной обработки:\n",
        "\n",
        "*   `fedu` - корректировка значения\n",
        "*   `absences` - устранение выбросов\n",
        "* `famrel` - обнаружен выброс данных, за пределами допустимого со значением `-1`. Строка будет исключена из анализа.\n",
        "\n",
        "Многие столбцы (кроме `age`, `school`, `sex`) имеют пропуски данных, но только  строки с пропусками для числовых столбцов были исключены из анализа.\n",
        "\n",
        "Топ 3 столбцов - лидеров по пропуску данных:\n",
        "* `traveltime` - 28 значений\n",
        "* `famrel` - 27 значений\n",
        "* `fedu` - 24 значения"
      ]
    },
    {
      "cell_type": "markdown",
      "metadata": {
        "id": "mQGx7vls3slb",
        "colab_type": "text"
      },
      "source": [
        "## Выводы о данных, которые подходят для построения дальнейшей модели"
      ]
    },
    {
      "cell_type": "markdown",
      "metadata": {
        "id": "kP4-ENpB9_1G",
        "colab_type": "text"
      },
      "source": [
        " Итак, в нашем случае важные переменные, которые, возможно, оказывают влияние на оценку:"
      ]
    },
    {
      "cell_type": "code",
      "metadata": {
        "id": "CCvUOeWI3slc",
        "colab_type": "code",
        "colab": {}
      },
      "source": [
        "# количество колонок\n",
        "len(column_for_model)"
      ],
      "execution_count": null,
      "outputs": []
    },
    {
      "cell_type": "code",
      "metadata": {
        "id": "hM54wI8FGdGH",
        "colab_type": "code",
        "colab": {}
      },
      "source": [
        "# наименование колонок\n",
        "column_for_model"
      ],
      "execution_count": null,
      "outputs": []
    },
    {
      "cell_type": "code",
      "metadata": {
        "id": "N1vbzZ5s3slc",
        "colab_type": "code",
        "colab": {}
      },
      "source": [
        "# пример данных\n",
        "stud_model = stud[column_for_model]\n",
        "stud_model.sample(10)"
      ],
      "execution_count": null,
      "outputs": []
    },
    {
      "cell_type": "code",
      "metadata": {
        "id": "sMG8cdex3sld",
        "colab_type": "code",
        "colab": {}
      },
      "source": [
        "# размерность итоговой модели - строк, колонок\n",
        "stud_model.shape"
      ],
      "execution_count": null,
      "outputs": []
    },
    {
      "cell_type": "markdown",
      "metadata": {
        "id": "eCx2QVN-NzBq",
        "colab_type": "text"
      },
      "source": [
        "Выводы на основе корреляционной связи параметров на результат успеваимости по математике:\n",
        "* положительно влияет на итоговый бал - образование матери (`medu`) и отца (`fedu`), а также время выделенное на учебу помимо школы (`studytime` ). \n",
        "* на снижение результата влияет количество пропущенных занятий `absences`, свободное время после школы `freetime`, а также семейные отношения `famrel`.\n",
        "* снижение успеваемости также связано с увеличением количества внеучебных неудач `failures`и количество проведенного времени с друзьями `goout`. Наблюдаетя также снижение результата успеваемости при увеличении возраста учащегося (`age`)"
      ]
    },
    {
      "cell_type": "markdown",
      "metadata": {
        "id": "AYNkdtIENCHL",
        "colab_type": "text"
      },
      "source": [
        "Важные параметры, которые предлагаю использовать в дальнейшем для построения модели:\n",
        "* `failures`\n",
        "* `goout`\n",
        "* `age`\n",
        "* `traveltime`\n",
        "* `health`\n",
        "* `famrel`\n",
        "* `freetime`\n",
        "* `absences`\n",
        "* `studytime`\n",
        "* `fedu`\n",
        "* medu\n",
        "* `sex`\n",
        "* `address`\n",
        "* `famsize`\n",
        "\n",
        "Итоговая модель позволит отследить влияние условий жизни учащихся в возрасте от 15 до 22 лет на их успеваемость по математике, чтобы на ранней стадии выявлять студентов, находящихся в группе риска.\n"
      ]
    },
    {
      "cell_type": "markdown",
      "metadata": {
        "id": "yKdIDin5GjpS",
        "colab_type": "text"
      },
      "source": [
        "# Спасибо за внимание!"
      ]
    }
  ]
}