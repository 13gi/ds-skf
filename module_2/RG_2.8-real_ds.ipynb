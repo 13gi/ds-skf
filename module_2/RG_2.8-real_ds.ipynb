{
 "cells": [
  {
   "cell_type": "markdown",
   "metadata": {},
   "source": [
    "# О проекте\n"
   ]
  },
  {
   "cell_type": "markdown",
   "metadata": {},
   "source": [
    "Задание относится к проекту UNICEF — международного подразделения ООН, чья миссия состоит в повышении уровня благополучия детей по всему миру. \n"
   ]
  },
  {
   "cell_type": "markdown",
   "metadata": {},
   "source": [
    "## Цель проекта"
   ]
  },
  {
   "cell_type": "markdown",
   "metadata": {},
   "source": [
    "Отследить влияние условий жизни учащихся в возрасте от 15 до 22 лет на их успеваемость по математике, чтобы на ранней стадии выявлять студентов, находящихся в группе риска."
   ]
  },
  {
   "cell_type": "markdown",
   "metadata": {},
   "source": [
    "## Средства достижения целей"
   ]
  },
  {
   "cell_type": "markdown",
   "metadata": {},
   "source": [
    "Реализовать достижение целей можно с помощью модели, которая предсказывала бы результаты госэкзамена по математике для каждого ученика школы."
   ]
  },
  {
   "cell_type": "markdown",
   "metadata": {},
   "source": [
    "## Задача проекта"
   ]
  },
  {
   "cell_type": "markdown",
   "metadata": {},
   "source": [
    "Чтобы определиться с параметрами будущей модели, нужно провести разведывательный анализ данных и составьте отчёт по его результатам."
   ]
  },
  {
   "cell_type": "code",
   "execution_count": null,
   "metadata": {},
   "outputs": [],
   "source": []
  },
  {
   "cell_type": "markdown",
   "metadata": {},
   "source": [
    "### Импорт библиотек"
   ]
  },
  {
   "cell_type": "code",
   "execution_count": 37,
   "metadata": {
    "_cell_guid": "b1076dfc-b9ad-4769-8c92-a6c4dae69d19",
    "_uuid": "8f2839f25d086af736a60e9eeb907d3b93b6e0e5",
    "colab": {},
    "colab_type": "code",
    "id": "U2D2gTdJVp90"
   },
   "outputs": [],
   "source": [
    "import warnings; warnings.simplefilter('ignore')\n",
    "\n",
    "import pandas as pd\n",
    "import numpy as np\n",
    "import os\n",
    "import re\n",
    "import math\n",
    "\n",
    "import matplotlib.pyplot as plt\n",
    "import seaborn as sns\n",
    "import cufflinks as cf\n",
    "from plotly.offline import download_plotlyjs, init_notebook_mode, plot, iplot\n",
    "\n",
    "from itertools import combinations\n",
    "\n",
    "from scipy.stats import ttest_ind\n",
    "from scipy.stats import norm\n",
    "from scipy.stats import t\n",
    "from statsmodels.stats import weightstats \n",
    "\n",
    "\n",
    "%matplotlib inline"
   ]
  },
  {
   "cell_type": "markdown",
   "metadata": {
    "colab_type": "text",
    "id": "DTIt7ezGVp-G"
   },
   "source": [
    "### Инструменты для предобработки"
   ]
  },
  {
   "cell_type": "code",
   "execution_count": 140,
   "metadata": {
    "colab": {},
    "colab_type": "code",
    "id": "jNb40DwKVp-H",
    "scrolled": true
   },
   "outputs": [],
   "source": [
    "# \n",
    "def column_content_analysis(column_name_list, column_type='str', more_than = 10):\n",
    "    '''\n",
    "        Функция для определения типовых параметров данных, а также определние \"замусоренности\".\n",
    "        На вход принимает список столбцов датафрейма\n",
    "    '''\n",
    "    # проходим циклом по списку колонок    \n",
    "    for column_name in column_name_list:\n",
    "        print('-'*60)\n",
    "        print('|\\t' , 'Отчет по колонке [', column_name, ']', '\\t'*5)\n",
    "        print('-'*60)\n",
    "        if column_name not in stud.columns:\n",
    "            print('|  Внимание!!! Указанная колонка не найдена в датасете. \\n')\n",
    "            break\n",
    "\n",
    "        col_count = stud[column_name].count()\n",
    "        col_type = stud[column_name].dtype\n",
    "        print('|  Тип данных:', col_type) \n",
    "        print('|  Заполнено значений:',  col_count, 'из', row_count)\n",
    "        print('|  Отсутсвующие значения:', row_count - col_count)\n",
    "        print('|  Полнота данных: ', round(col_count / row_count * 100 ,2), '%', sep='')\n",
    "        print('|  Количество уникальных значений:', stud[column_name].nunique())\n",
    "\n",
    "        print('|  Значений, встретившихся в столбце более', more_than,'раз:', \n",
    "              (stud[column_name].value_counts() > more_than).sum())\n",
    "\n",
    "        if col_type == 'object':\n",
    "            # Количество пробелов в начале в конце строки\n",
    "            print('|  Количество раз пробелы найдены:')\n",
    "            find_list = [len(re.findall(r'^\\s+\\w?', str(x))) for x in stud[column_name]]\n",
    "            print('|    в начале строки:', sum(find_list))\n",
    "            \n",
    "            find_list = [len(re.findall(r'\\w?\\s+$', str(x))) for x in stud[column_name]]\n",
    "            print('|    в конце  строки:', sum(find_list))\n",
    "            \n",
    "            find_list = [len(re.findall(r'[^\\s\\d\\w]', str(x))) for x in stud[column_name]]\n",
    "            print('|  Количество найденных специальных символов:', sum(find_list))\n",
    "        \n",
    "#         if col_type in ['int', 'float']:\n",
    "            #\n",
    "#             min_values = stud[column_name].min()\n",
    "#             print('|  Минимальное значение:', round(min_values ,2))\n",
    "            \n",
    "#             max_values = stud[column_name].max()\n",
    "#             print('|  Максимальное значение:', round(max_values, 2))\n",
    "            \n",
    "#             mean_values = stud[column_name].mean()\n",
    "#             print('|  Среднее значение:', round(mean_values, 2))\n",
    "            \n",
    "#             median_values = stud[column_name].median()\n",
    "#             print('|  Медианное значение:', round(median_values, 2))\n",
    "         \n",
    "        print('|  Уникальные значения:', stud[column_name].unique() , '\\n')\n",
    "        \n",
    "\n",
    "    # end function\n",
    "\n",
    "\n",
    "\n",
    "\n",
    "# column_content_analysis(['age'])\n",
    "\n",
    "\n",
    "\n"
   ]
  },
  {
   "cell_type": "code",
   "execution_count": null,
   "metadata": {},
   "outputs": [],
   "source": []
  },
  {
   "cell_type": "markdown",
   "metadata": {},
   "source": [
    "### Загрузка первичных данных"
   ]
  },
  {
   "cell_type": "code",
   "execution_count": 39,
   "metadata": {},
   "outputs": [
    {
     "name": "stdout",
     "output_type": "stream",
     "text": [
      "[OK] Успешно пройдена проверка наличия входного файла датасета.\n"
     ]
    }
   ],
   "source": [
    "# \n",
    "incoming_files = 'stud_math.csv'\n",
    "\n",
    "# \n",
    "if incoming_files not in os.listdir():\n",
    "    print('\\n!!! ВНИМАНИЕ !!!'*5)\n",
    "    print('Не найден входной файл данных:', incoming_files)\n",
    "else:\n",
    "    print(r'[OK] Успешно пройдена проверка наличия входного файла датасета.')\n"
   ]
  },
  {
   "cell_type": "code",
   "execution_count": 40,
   "metadata": {},
   "outputs": [
    {
     "data": {
      "text/plain": [
       "(395, 30)"
      ]
     },
     "execution_count": 40,
     "metadata": {},
     "output_type": "execute_result"
    }
   ],
   "source": [
    "# \n",
    "stud = pd.read_csv(incoming_files)\n",
    "\n",
    "# \n",
    "row_count, col_count = stud.shape\n",
    "row_count, col_count"
   ]
  },
  {
   "cell_type": "code",
   "execution_count": 41,
   "metadata": {},
   "outputs": [],
   "source": [
    "# показывать больше строк\n",
    "pd.set_option('display.max_rows', 50)\n",
    "\n",
    "# показывать больше колонок\n",
    "pd.set_option('display.max_columns', col_count + 5) "
   ]
  },
  {
   "cell_type": "markdown",
   "metadata": {},
   "source": [
    "### Первичный осмотр данных"
   ]
  },
  {
   "cell_type": "code",
   "execution_count": 42,
   "metadata": {},
   "outputs": [
    {
     "data": {
      "text/html": [
       "<div>\n",
       "<style scoped>\n",
       "    .dataframe tbody tr th:only-of-type {\n",
       "        vertical-align: middle;\n",
       "    }\n",
       "\n",
       "    .dataframe tbody tr th {\n",
       "        vertical-align: top;\n",
       "    }\n",
       "\n",
       "    .dataframe thead th {\n",
       "        text-align: right;\n",
       "    }\n",
       "</style>\n",
       "<table border=\"1\" class=\"dataframe\">\n",
       "  <thead>\n",
       "    <tr style=\"text-align: right;\">\n",
       "      <th></th>\n",
       "      <th>school</th>\n",
       "      <th>sex</th>\n",
       "      <th>age</th>\n",
       "      <th>address</th>\n",
       "      <th>famsize</th>\n",
       "      <th>Pstatus</th>\n",
       "      <th>Medu</th>\n",
       "      <th>Fedu</th>\n",
       "      <th>Mjob</th>\n",
       "      <th>Fjob</th>\n",
       "      <th>reason</th>\n",
       "      <th>guardian</th>\n",
       "      <th>traveltime</th>\n",
       "      <th>studytime</th>\n",
       "      <th>failures</th>\n",
       "      <th>schoolsup</th>\n",
       "      <th>famsup</th>\n",
       "      <th>paid</th>\n",
       "      <th>activities</th>\n",
       "      <th>nursery</th>\n",
       "      <th>studytime, granular</th>\n",
       "      <th>higher</th>\n",
       "      <th>internet</th>\n",
       "      <th>romantic</th>\n",
       "      <th>famrel</th>\n",
       "      <th>freetime</th>\n",
       "      <th>goout</th>\n",
       "      <th>health</th>\n",
       "      <th>absences</th>\n",
       "      <th>score</th>\n",
       "    </tr>\n",
       "  </thead>\n",
       "  <tbody>\n",
       "    <tr>\n",
       "      <th>375</th>\n",
       "      <td>MS</td>\n",
       "      <td>F</td>\n",
       "      <td>18</td>\n",
       "      <td>R</td>\n",
       "      <td>GT3</td>\n",
       "      <td>T</td>\n",
       "      <td>1.0</td>\n",
       "      <td>1.0</td>\n",
       "      <td>other</td>\n",
       "      <td>other</td>\n",
       "      <td>home</td>\n",
       "      <td>mother</td>\n",
       "      <td>4.0</td>\n",
       "      <td>3.0</td>\n",
       "      <td>0.0</td>\n",
       "      <td>no</td>\n",
       "      <td>no</td>\n",
       "      <td>no</td>\n",
       "      <td>no</td>\n",
       "      <td>yes</td>\n",
       "      <td>-9.0</td>\n",
       "      <td>yes</td>\n",
       "      <td>yes</td>\n",
       "      <td>no</td>\n",
       "      <td>4.0</td>\n",
       "      <td>3.0</td>\n",
       "      <td>2.0</td>\n",
       "      <td>4.0</td>\n",
       "      <td>2.0</td>\n",
       "      <td>50.0</td>\n",
       "    </tr>\n",
       "    <tr>\n",
       "      <th>18</th>\n",
       "      <td>GP</td>\n",
       "      <td>M</td>\n",
       "      <td>17</td>\n",
       "      <td>U</td>\n",
       "      <td>GT3</td>\n",
       "      <td>T</td>\n",
       "      <td>3.0</td>\n",
       "      <td>2.0</td>\n",
       "      <td>services</td>\n",
       "      <td>services</td>\n",
       "      <td>course</td>\n",
       "      <td>mother</td>\n",
       "      <td>1.0</td>\n",
       "      <td>1.0</td>\n",
       "      <td>3.0</td>\n",
       "      <td>no</td>\n",
       "      <td>yes</td>\n",
       "      <td>NaN</td>\n",
       "      <td>yes</td>\n",
       "      <td>yes</td>\n",
       "      <td>-3.0</td>\n",
       "      <td>yes</td>\n",
       "      <td>yes</td>\n",
       "      <td>no</td>\n",
       "      <td>5.0</td>\n",
       "      <td>5.0</td>\n",
       "      <td>5.0</td>\n",
       "      <td>5.0</td>\n",
       "      <td>16.0</td>\n",
       "      <td>25.0</td>\n",
       "    </tr>\n",
       "    <tr>\n",
       "      <th>316</th>\n",
       "      <td>GP</td>\n",
       "      <td>F</td>\n",
       "      <td>18</td>\n",
       "      <td>U</td>\n",
       "      <td>GT3</td>\n",
       "      <td>T</td>\n",
       "      <td>2.0</td>\n",
       "      <td>1.0</td>\n",
       "      <td>services</td>\n",
       "      <td>NaN</td>\n",
       "      <td>course</td>\n",
       "      <td>mother</td>\n",
       "      <td>2.0</td>\n",
       "      <td>2.0</td>\n",
       "      <td>0.0</td>\n",
       "      <td>no</td>\n",
       "      <td>yes</td>\n",
       "      <td>yes</td>\n",
       "      <td>yes</td>\n",
       "      <td>yes</td>\n",
       "      <td>-6.0</td>\n",
       "      <td>yes</td>\n",
       "      <td>yes</td>\n",
       "      <td>no</td>\n",
       "      <td>5.0</td>\n",
       "      <td>3.0</td>\n",
       "      <td>3.0</td>\n",
       "      <td>1.0</td>\n",
       "      <td>0.0</td>\n",
       "      <td>0.0</td>\n",
       "    </tr>\n",
       "    <tr>\n",
       "      <th>175</th>\n",
       "      <td>GP</td>\n",
       "      <td>M</td>\n",
       "      <td>17</td>\n",
       "      <td>U</td>\n",
       "      <td>LE3</td>\n",
       "      <td>T</td>\n",
       "      <td>4.0</td>\n",
       "      <td>3.0</td>\n",
       "      <td>teacher</td>\n",
       "      <td>other</td>\n",
       "      <td>course</td>\n",
       "      <td>mother</td>\n",
       "      <td>2.0</td>\n",
       "      <td>2.0</td>\n",
       "      <td>0.0</td>\n",
       "      <td>no</td>\n",
       "      <td>no</td>\n",
       "      <td>yes</td>\n",
       "      <td>yes</td>\n",
       "      <td>yes</td>\n",
       "      <td>-6.0</td>\n",
       "      <td>yes</td>\n",
       "      <td>yes</td>\n",
       "      <td>no</td>\n",
       "      <td>4.0</td>\n",
       "      <td>4.0</td>\n",
       "      <td>4.0</td>\n",
       "      <td>4.0</td>\n",
       "      <td>4.0</td>\n",
       "      <td>45.0</td>\n",
       "    </tr>\n",
       "    <tr>\n",
       "      <th>323</th>\n",
       "      <td>GP</td>\n",
       "      <td>F</td>\n",
       "      <td>17</td>\n",
       "      <td>U</td>\n",
       "      <td>GT3</td>\n",
       "      <td>T</td>\n",
       "      <td>3.0</td>\n",
       "      <td>1.0</td>\n",
       "      <td>services</td>\n",
       "      <td>services</td>\n",
       "      <td>course</td>\n",
       "      <td>father</td>\n",
       "      <td>1.0</td>\n",
       "      <td>3.0</td>\n",
       "      <td>0.0</td>\n",
       "      <td>no</td>\n",
       "      <td>yes</td>\n",
       "      <td>no</td>\n",
       "      <td>no</td>\n",
       "      <td>no</td>\n",
       "      <td>-9.0</td>\n",
       "      <td>yes</td>\n",
       "      <td>yes</td>\n",
       "      <td>no</td>\n",
       "      <td>NaN</td>\n",
       "      <td>4.0</td>\n",
       "      <td>3.0</td>\n",
       "      <td>5.0</td>\n",
       "      <td>1.0</td>\n",
       "      <td>75.0</td>\n",
       "    </tr>\n",
       "    <tr>\n",
       "      <th>17</th>\n",
       "      <td>GP</td>\n",
       "      <td>F</td>\n",
       "      <td>16</td>\n",
       "      <td>U</td>\n",
       "      <td>GT3</td>\n",
       "      <td>T</td>\n",
       "      <td>3.0</td>\n",
       "      <td>3.0</td>\n",
       "      <td>other</td>\n",
       "      <td>NaN</td>\n",
       "      <td>reputation</td>\n",
       "      <td>mother</td>\n",
       "      <td>3.0</td>\n",
       "      <td>NaN</td>\n",
       "      <td>0.0</td>\n",
       "      <td>yes</td>\n",
       "      <td>NaN</td>\n",
       "      <td>no</td>\n",
       "      <td>yes</td>\n",
       "      <td>yes</td>\n",
       "      <td>NaN</td>\n",
       "      <td>yes</td>\n",
       "      <td>no</td>\n",
       "      <td>no</td>\n",
       "      <td>5.0</td>\n",
       "      <td>3.0</td>\n",
       "      <td>2.0</td>\n",
       "      <td>4.0</td>\n",
       "      <td>4.0</td>\n",
       "      <td>50.0</td>\n",
       "    </tr>\n",
       "    <tr>\n",
       "      <th>290</th>\n",
       "      <td>GP</td>\n",
       "      <td>M</td>\n",
       "      <td>18</td>\n",
       "      <td>U</td>\n",
       "      <td>GT3</td>\n",
       "      <td>T</td>\n",
       "      <td>4.0</td>\n",
       "      <td>NaN</td>\n",
       "      <td>teacher</td>\n",
       "      <td>other</td>\n",
       "      <td>home</td>\n",
       "      <td>mother</td>\n",
       "      <td>1.0</td>\n",
       "      <td>2.0</td>\n",
       "      <td>0.0</td>\n",
       "      <td>no</td>\n",
       "      <td>yes</td>\n",
       "      <td>yes</td>\n",
       "      <td>yes</td>\n",
       "      <td>yes</td>\n",
       "      <td>-6.0</td>\n",
       "      <td>yes</td>\n",
       "      <td>yes</td>\n",
       "      <td>NaN</td>\n",
       "      <td>NaN</td>\n",
       "      <td>NaN</td>\n",
       "      <td>2.0</td>\n",
       "      <td>5.0</td>\n",
       "      <td>11.0</td>\n",
       "      <td>55.0</td>\n",
       "    </tr>\n",
       "    <tr>\n",
       "      <th>272</th>\n",
       "      <td>GP</td>\n",
       "      <td>F</td>\n",
       "      <td>18</td>\n",
       "      <td>U</td>\n",
       "      <td>LE3</td>\n",
       "      <td>T</td>\n",
       "      <td>1.0</td>\n",
       "      <td>1.0</td>\n",
       "      <td>other</td>\n",
       "      <td>other</td>\n",
       "      <td>home</td>\n",
       "      <td>mother</td>\n",
       "      <td>2.0</td>\n",
       "      <td>2.0</td>\n",
       "      <td>0.0</td>\n",
       "      <td>no</td>\n",
       "      <td>NaN</td>\n",
       "      <td>yes</td>\n",
       "      <td>no</td>\n",
       "      <td>no</td>\n",
       "      <td>-6.0</td>\n",
       "      <td>yes</td>\n",
       "      <td>no</td>\n",
       "      <td>no</td>\n",
       "      <td>4.0</td>\n",
       "      <td>4.0</td>\n",
       "      <td>3.0</td>\n",
       "      <td>3.0</td>\n",
       "      <td>2.0</td>\n",
       "      <td>55.0</td>\n",
       "    </tr>\n",
       "    <tr>\n",
       "      <th>361</th>\n",
       "      <td>MS</td>\n",
       "      <td>M</td>\n",
       "      <td>18</td>\n",
       "      <td>R</td>\n",
       "      <td>LE3</td>\n",
       "      <td>T</td>\n",
       "      <td>1.0</td>\n",
       "      <td>1.0</td>\n",
       "      <td>at_home</td>\n",
       "      <td>other</td>\n",
       "      <td>other</td>\n",
       "      <td>mother</td>\n",
       "      <td>2.0</td>\n",
       "      <td>2.0</td>\n",
       "      <td>1.0</td>\n",
       "      <td>no</td>\n",
       "      <td>no</td>\n",
       "      <td>no</td>\n",
       "      <td>yes</td>\n",
       "      <td>no</td>\n",
       "      <td>-6.0</td>\n",
       "      <td>no</td>\n",
       "      <td>no</td>\n",
       "      <td>no</td>\n",
       "      <td>4.0</td>\n",
       "      <td>4.0</td>\n",
       "      <td>3.0</td>\n",
       "      <td>5.0</td>\n",
       "      <td>2.0</td>\n",
       "      <td>60.0</td>\n",
       "    </tr>\n",
       "  </tbody>\n",
       "</table>\n",
       "</div>"
      ],
      "text/plain": [
       "    school sex  age address famsize Pstatus  Medu  Fedu      Mjob      Fjob  \\\n",
       "375     MS   F   18       R     GT3       T   1.0   1.0     other     other   \n",
       "18      GP   M   17       U     GT3       T   3.0   2.0  services  services   \n",
       "316     GP   F   18       U     GT3       T   2.0   1.0  services       NaN   \n",
       "175     GP   M   17       U     LE3       T   4.0   3.0   teacher     other   \n",
       "323     GP   F   17       U     GT3       T   3.0   1.0  services  services   \n",
       "17      GP   F   16       U     GT3       T   3.0   3.0     other       NaN   \n",
       "290     GP   M   18       U     GT3       T   4.0   NaN   teacher     other   \n",
       "272     GP   F   18       U     LE3       T   1.0   1.0     other     other   \n",
       "361     MS   M   18       R     LE3       T   1.0   1.0   at_home     other   \n",
       "\n",
       "         reason guardian  traveltime  studytime  failures schoolsup famsup  \\\n",
       "375        home   mother         4.0        3.0       0.0        no     no   \n",
       "18       course   mother         1.0        1.0       3.0        no    yes   \n",
       "316      course   mother         2.0        2.0       0.0        no    yes   \n",
       "175      course   mother         2.0        2.0       0.0        no     no   \n",
       "323      course   father         1.0        3.0       0.0        no    yes   \n",
       "17   reputation   mother         3.0        NaN       0.0       yes    NaN   \n",
       "290        home   mother         1.0        2.0       0.0        no    yes   \n",
       "272        home   mother         2.0        2.0       0.0        no    NaN   \n",
       "361       other   mother         2.0        2.0       1.0        no     no   \n",
       "\n",
       "    paid activities nursery  studytime, granular higher internet romantic  \\\n",
       "375   no         no     yes                 -9.0    yes      yes       no   \n",
       "18   NaN        yes     yes                 -3.0    yes      yes       no   \n",
       "316  yes        yes     yes                 -6.0    yes      yes       no   \n",
       "175  yes        yes     yes                 -6.0    yes      yes       no   \n",
       "323   no         no      no                 -9.0    yes      yes       no   \n",
       "17    no        yes     yes                  NaN    yes       no       no   \n",
       "290  yes        yes     yes                 -6.0    yes      yes      NaN   \n",
       "272  yes         no      no                 -6.0    yes       no       no   \n",
       "361   no        yes      no                 -6.0     no       no       no   \n",
       "\n",
       "     famrel  freetime  goout  health  absences  score  \n",
       "375     4.0       3.0    2.0     4.0       2.0   50.0  \n",
       "18      5.0       5.0    5.0     5.0      16.0   25.0  \n",
       "316     5.0       3.0    3.0     1.0       0.0    0.0  \n",
       "175     4.0       4.0    4.0     4.0       4.0   45.0  \n",
       "323     NaN       4.0    3.0     5.0       1.0   75.0  \n",
       "17      5.0       3.0    2.0     4.0       4.0   50.0  \n",
       "290     NaN       NaN    2.0     5.0      11.0   55.0  \n",
       "272     4.0       4.0    3.0     3.0       2.0   55.0  \n",
       "361     4.0       4.0    3.0     5.0       2.0   60.0  "
      ]
     },
     "execution_count": 42,
     "metadata": {},
     "output_type": "execute_result"
    }
   ],
   "source": [
    "stud.sample(9)"
   ]
  },
  {
   "cell_type": "code",
   "execution_count": 43,
   "metadata": {},
   "outputs": [
    {
     "name": "stdout",
     "output_type": "stream",
     "text": [
      "<class 'pandas.core.frame.DataFrame'>\n",
      "RangeIndex: 395 entries, 0 to 394\n",
      "Data columns (total 30 columns):\n",
      " #   Column               Non-Null Count  Dtype  \n",
      "---  ------               --------------  -----  \n",
      " 0   school               395 non-null    object \n",
      " 1   sex                  395 non-null    object \n",
      " 2   age                  395 non-null    int64  \n",
      " 3   address              378 non-null    object \n",
      " 4   famsize              368 non-null    object \n",
      " 5   Pstatus              350 non-null    object \n",
      " 6   Medu                 392 non-null    float64\n",
      " 7   Fedu                 371 non-null    float64\n",
      " 8   Mjob                 376 non-null    object \n",
      " 9   Fjob                 359 non-null    object \n",
      " 10  reason               378 non-null    object \n",
      " 11  guardian             364 non-null    object \n",
      " 12  traveltime           367 non-null    float64\n",
      " 13  studytime            388 non-null    float64\n",
      " 14  failures             373 non-null    float64\n",
      " 15  schoolsup            386 non-null    object \n",
      " 16  famsup               356 non-null    object \n",
      " 17  paid                 355 non-null    object \n",
      " 18  activities           381 non-null    object \n",
      " 19  nursery              379 non-null    object \n",
      " 20  studytime, granular  388 non-null    float64\n",
      " 21  higher               375 non-null    object \n",
      " 22  internet             361 non-null    object \n",
      " 23  romantic             364 non-null    object \n",
      " 24  famrel               368 non-null    float64\n",
      " 25  freetime             384 non-null    float64\n",
      " 26  goout                387 non-null    float64\n",
      " 27  health               380 non-null    float64\n",
      " 28  absences             383 non-null    float64\n",
      " 29  score                389 non-null    float64\n",
      "dtypes: float64(12), int64(1), object(17)\n",
      "memory usage: 92.7+ KB\n"
     ]
    }
   ],
   "source": [
    "stud.info()"
   ]
  },
  {
   "cell_type": "code",
   "execution_count": 139,
   "metadata": {},
   "outputs": [
    {
     "data": {
      "text/plain": [
       "Index(['school', 'sex', 'age', 'address', 'famsize', 'pstatus', 'medu', 'fedu',\n",
       "       'mjob', 'fjob', 'reason', 'guardian', 'traveltime', 'studytime',\n",
       "       'failures', 'schoolsup', 'famsup', 'paid', 'activities', 'nursery',\n",
       "       'higher', 'internet', 'romantic', 'famrel', 'freetime', 'goout',\n",
       "       'health', 'absences', 'score'],\n",
       "      dtype='object')"
      ]
     },
     "execution_count": 139,
     "metadata": {},
     "output_type": "execute_result"
    }
   ],
   "source": [
    "stud.columns"
   ]
  },
  {
   "cell_type": "markdown",
   "metadata": {},
   "source": [
    "В названиях колонок встречается .."
   ]
  },
  {
   "cell_type": "markdown",
   "metadata": {},
   "source": [
    "### Первичная обработка данных"
   ]
  },
  {
   "cell_type": "code",
   "execution_count": 44,
   "metadata": {},
   "outputs": [],
   "source": [
    "# Удаляем столбец не заявленный в описании\n",
    "if 'studytime, granular' in stud.columns:\n",
    "    stud.drop(['studytime, granular'], inplace=True, axis = 1)\n",
    "\n",
    "# приводим все названия колонок к нижнему регистру\n",
    "stud.columns = [str.lower(x) for x in stud.columns]\n",
    "\n",
    "\n",
    "all_columns = stud.columns"
   ]
  },
  {
   "cell_type": "code",
   "execution_count": 45,
   "metadata": {},
   "outputs": [
    {
     "name": "stdout",
     "output_type": "stream",
     "text": [
      "<class 'pandas.core.frame.DataFrame'>\n",
      "RangeIndex: 395 entries, 0 to 394\n",
      "Data columns (total 12 columns):\n",
      " #   Column      Non-Null Count  Dtype  \n",
      "---  ------      --------------  -----  \n",
      " 0   age         395 non-null    int64  \n",
      " 1   medu        392 non-null    float64\n",
      " 2   fedu        371 non-null    float64\n",
      " 3   traveltime  367 non-null    float64\n",
      " 4   studytime   388 non-null    float64\n",
      " 5   failures    373 non-null    float64\n",
      " 6   famrel      368 non-null    float64\n",
      " 7   freetime    384 non-null    float64\n",
      " 8   goout       387 non-null    float64\n",
      " 9   health      380 non-null    float64\n",
      " 10  absences    383 non-null    float64\n",
      " 11  score       389 non-null    float64\n",
      "dtypes: float64(11), int64(1)\n",
      "memory usage: 37.2 KB\n"
     ]
    }
   ],
   "source": [
    "# dtypes: float64(11), int64(1), object(17)\n",
    "\n",
    "dig_columns = ['age','medu', 'fedu', 'traveltime', 'studytime', 'failures',\n",
    "              'famrel', 'freetime', 'goout', 'health', 'absences', 'score']\n",
    "\n",
    "stud.loc[:, dig_columns].info()"
   ]
  },
  {
   "cell_type": "code",
   "execution_count": 46,
   "metadata": {},
   "outputs": [
    {
     "data": {
      "text/plain": [
       "['school',\n",
       " 'sex',\n",
       " 'address',\n",
       " 'famsize',\n",
       " 'pstatus',\n",
       " 'mjob',\n",
       " 'fjob',\n",
       " 'reason',\n",
       " 'guardian',\n",
       " 'schoolsup',\n",
       " 'famsup',\n",
       " 'paid',\n",
       " 'activities',\n",
       " 'nursery',\n",
       " 'higher',\n",
       " 'internet',\n",
       " 'romantic']"
      ]
     },
     "execution_count": 46,
     "metadata": {},
     "output_type": "execute_result"
    }
   ],
   "source": [
    "# \n",
    "other_columns = [x for x in all_columns if x not in dig_columns]\n",
    "other_columns"
   ]
  },
  {
   "cell_type": "code",
   "execution_count": 98,
   "metadata": {},
   "outputs": [],
   "source": [
    "# произведем замену пустых значений и значений nan в строковых столбцах\n",
    "for col_name in other_columns:\n",
    "    stud[col_name] = stud[col_name].apply(lambda x : None if pd.isnull(x)\n",
    "                                    else None if str.lower(x) == 'nan'\n",
    "                                    else None if x.strip == ''\n",
    "                                    else x.strip())"
   ]
  },
  {
   "cell_type": "code",
   "execution_count": null,
   "metadata": {},
   "outputs": [],
   "source": []
  },
  {
   "cell_type": "code",
   "execution_count": null,
   "metadata": {},
   "outputs": [],
   "source": []
  },
  {
   "cell_type": "code",
   "execution_count": 52,
   "metadata": {},
   "outputs": [
    {
     "name": "stdout",
     "output_type": "stream",
     "text": [
      "------------------------------------------------------------\n",
      "|\t Отчет по колонке [ school ] \t\t\t\t\t\n",
      "------------------------------------------------------------\n",
      "|  Тип данных: object\n",
      "|  Заполнено значений: 395 из 395\n",
      "|  Значений для корректировки: 0\n",
      "|  Полнота данных: 100.0%\n",
      "|  Количество уникальных значений: 2\n",
      "|  Значений, встретившихся в столбце более 10 раз: 2\n",
      "|  Количество раз пробелы найдены:\n",
      "|    в начале строки: 0\n",
      "|    в конце  строки: 0\n",
      "|  Количество найденных специальных символов: 0\n",
      "|  Уникальные значения: ['GP' 'MS'] \n",
      "\n",
      "------------------------------------------------------------\n",
      "|\t Отчет по колонке [ sex ] \t\t\t\t\t\n",
      "------------------------------------------------------------\n",
      "|  Тип данных: object\n",
      "|  Заполнено значений: 395 из 395\n",
      "|  Значений для корректировки: 0\n",
      "|  Полнота данных: 100.0%\n",
      "|  Количество уникальных значений: 2\n",
      "|  Значений, встретившихся в столбце более 10 раз: 2\n",
      "|  Количество раз пробелы найдены:\n",
      "|    в начале строки: 0\n",
      "|    в конце  строки: 0\n",
      "|  Количество найденных специальных символов: 0\n",
      "|  Уникальные значения: ['F' 'M'] \n",
      "\n",
      "------------------------------------------------------------\n",
      "|\t Отчет по колонке [ age ] \t\t\t\t\t\n",
      "------------------------------------------------------------\n",
      "|  Тип данных: int64\n",
      "|  Заполнено значений: 395 из 395\n",
      "|  Значений для корректировки: 0\n",
      "|  Полнота данных: 100.0%\n",
      "|  Количество уникальных значений: 8\n",
      "|  Значений, встретившихся в столбце более 10 раз: 5\n",
      "|  Уникальные значения: [18 17 15 16 19 22 20 21] \n",
      "\n",
      "------------------------------------------------------------\n",
      "|\t Отчет по колонке [ address ] \t\t\t\t\t\n",
      "------------------------------------------------------------\n",
      "|  Тип данных: object\n",
      "|  Заполнено значений: 378 из 395\n",
      "|  Значений для корректировки: 17\n",
      "|  Полнота данных: 95.7%\n",
      "|  Количество уникальных значений: 2\n",
      "|  Значений, встретившихся в столбце более 10 раз: 2\n",
      "|  Количество раз пробелы найдены:\n",
      "|    в начале строки: 0\n",
      "|    в конце  строки: 0\n",
      "|  Количество найденных специальных символов: 0\n",
      "|  Уникальные значения: ['U' None 'R'] \n",
      "\n",
      "------------------------------------------------------------\n",
      "|\t Отчет по колонке [ famsize ] \t\t\t\t\t\n",
      "------------------------------------------------------------\n",
      "|  Тип данных: object\n",
      "|  Заполнено значений: 368 из 395\n",
      "|  Значений для корректировки: 27\n",
      "|  Полнота данных: 93.16%\n",
      "|  Количество уникальных значений: 2\n",
      "|  Значений, встретившихся в столбце более 10 раз: 2\n",
      "|  Количество раз пробелы найдены:\n",
      "|    в начале строки: 0\n",
      "|    в конце  строки: 0\n",
      "|  Количество найденных специальных символов: 0\n",
      "|  Уникальные значения: [None 'GT3' 'LE3'] \n",
      "\n",
      "------------------------------------------------------------\n",
      "|\t Отчет по колонке [ pstatus ] \t\t\t\t\t\n",
      "------------------------------------------------------------\n",
      "|  Тип данных: object\n",
      "|  Заполнено значений: 350 из 395\n",
      "|  Значений для корректировки: 45\n",
      "|  Полнота данных: 88.61%\n",
      "|  Количество уникальных значений: 2\n",
      "|  Значений, встретившихся в столбце более 10 раз: 2\n",
      "|  Количество раз пробелы найдены:\n",
      "|    в начале строки: 0\n",
      "|    в конце  строки: 0\n",
      "|  Количество найденных специальных символов: 0\n",
      "|  Уникальные значения: ['A' None 'T'] \n",
      "\n",
      "------------------------------------------------------------\n",
      "|\t Отчет по колонке [ medu ] \t\t\t\t\t\n",
      "------------------------------------------------------------\n",
      "|  Тип данных: float64\n",
      "|  Заполнено значений: 392 из 395\n",
      "|  Значений для корректировки: 3\n",
      "|  Полнота данных: 99.24%\n",
      "|  Количество уникальных значений: 5\n",
      "|  Значений, встретившихся в столбце более 10 раз: 4\n",
      "|  Уникальные значения: [ 4.  1.  3.  2. nan  0.] \n",
      "\n",
      "------------------------------------------------------------\n",
      "|\t Отчет по колонке [ fedu ] \t\t\t\t\t\n",
      "------------------------------------------------------------\n",
      "|  Тип данных: float64\n",
      "|  Заполнено значений: 371 из 395\n",
      "|  Значений для корректировки: 24\n",
      "|  Полнота данных: 93.92%\n",
      "|  Количество уникальных значений: 6\n",
      "|  Значений, встретившихся в столбце более 10 раз: 4\n",
      "|  Уникальные значения: [ 4.  1.  2.  3. 40. nan  0.] \n",
      "\n",
      "------------------------------------------------------------\n",
      "|\t Отчет по колонке [ mjob ] \t\t\t\t\t\n",
      "------------------------------------------------------------\n",
      "|  Тип данных: object\n",
      "|  Заполнено значений: 376 из 395\n",
      "|  Значений для корректировки: 19\n",
      "|  Полнота данных: 95.19%\n",
      "|  Количество уникальных значений: 5\n",
      "|  Значений, встретившихся в столбце более 10 раз: 5\n",
      "|  Количество раз пробелы найдены:\n",
      "|    в начале строки: 0\n",
      "|    в конце  строки: 0\n",
      "|  Количество найденных специальных символов: 0\n",
      "|  Уникальные значения: ['at_home' 'health' 'other' 'services' 'teacher' None] \n",
      "\n",
      "------------------------------------------------------------\n",
      "|\t Отчет по колонке [ fjob ] \t\t\t\t\t\n",
      "------------------------------------------------------------\n",
      "|  Тип данных: object\n",
      "|  Заполнено значений: 359 из 395\n",
      "|  Значений для корректировки: 36\n",
      "|  Полнота данных: 90.89%\n",
      "|  Количество уникальных значений: 5\n",
      "|  Значений, встретившихся в столбце более 10 раз: 5\n",
      "|  Количество раз пробелы найдены:\n",
      "|    в начале строки: 0\n",
      "|    в конце  строки: 0\n",
      "|  Количество найденных специальных символов: 0\n",
      "|  Уникальные значения: ['teacher' 'other' None 'health' 'services' 'at_home'] \n",
      "\n",
      "------------------------------------------------------------\n",
      "|\t Отчет по колонке [ reason ] \t\t\t\t\t\n",
      "------------------------------------------------------------\n",
      "|  Тип данных: object\n",
      "|  Заполнено значений: 378 из 395\n",
      "|  Значений для корректировки: 17\n",
      "|  Полнота данных: 95.7%\n",
      "|  Количество уникальных значений: 4\n",
      "|  Значений, встретившихся в столбце более 10 раз: 4\n",
      "|  Количество раз пробелы найдены:\n",
      "|    в начале строки: 0\n",
      "|    в конце  строки: 0\n",
      "|  Количество найденных специальных символов: 0\n",
      "|  Уникальные значения: ['course' 'other' 'home' 'reputation' None] \n",
      "\n",
      "------------------------------------------------------------\n",
      "|\t Отчет по колонке [ guardian ] \t\t\t\t\t\n",
      "------------------------------------------------------------\n",
      "|  Тип данных: object\n",
      "|  Заполнено значений: 364 из 395\n",
      "|  Значений для корректировки: 31\n",
      "|  Полнота данных: 92.15%\n",
      "|  Количество уникальных значений: 3\n",
      "|  Значений, встретившихся в столбце более 10 раз: 3\n",
      "|  Количество раз пробелы найдены:\n",
      "|    в начале строки: 0\n",
      "|    в конце  строки: 0\n",
      "|  Количество найденных специальных символов: 0\n",
      "|  Уникальные значения: ['mother' 'father' 'other' None] \n",
      "\n",
      "------------------------------------------------------------\n",
      "|\t Отчет по колонке [ traveltime ] \t\t\t\t\t\n",
      "------------------------------------------------------------\n",
      "|  Тип данных: float64\n",
      "|  Заполнено значений: 367 из 395\n",
      "|  Значений для корректировки: 28\n",
      "|  Полнота данных: 92.91%\n",
      "|  Количество уникальных значений: 4\n",
      "|  Значений, встретившихся в столбце более 10 раз: 3\n",
      "|  Уникальные значения: [ 2.  1.  3. nan  4.] \n",
      "\n",
      "------------------------------------------------------------\n",
      "|\t Отчет по колонке [ studytime ] \t\t\t\t\t\n",
      "------------------------------------------------------------\n",
      "|  Тип данных: float64\n",
      "|  Заполнено значений: 388 из 395\n",
      "|  Значений для корректировки: 7\n",
      "|  Полнота данных: 98.23%\n",
      "|  Количество уникальных значений: 4\n",
      "|  Значений, встретившихся в столбце более 10 раз: 4\n",
      "|  Уникальные значения: [ 2.  3.  1. nan  4.] \n",
      "\n",
      "------------------------------------------------------------\n",
      "|\t Отчет по колонке [ failures ] \t\t\t\t\t\n",
      "------------------------------------------------------------\n",
      "|  Тип данных: float64\n",
      "|  Заполнено значений: 373 из 395\n",
      "|  Значений для корректировки: 22\n",
      "|  Полнота данных: 94.43%\n",
      "|  Количество уникальных значений: 4\n",
      "|  Значений, встретившихся в столбце более 10 раз: 4\n",
      "|  Уникальные значения: [ 0.  3. nan  2.  1.] \n",
      "\n",
      "------------------------------------------------------------\n",
      "|\t Отчет по колонке [ schoolsup ] \t\t\t\t\t\n",
      "------------------------------------------------------------\n",
      "|  Тип данных: object\n",
      "|  Заполнено значений: 386 из 395\n",
      "|  Значений для корректировки: 9\n",
      "|  Полнота данных: 97.72%\n",
      "|  Количество уникальных значений: 2\n",
      "|  Значений, встретившихся в столбце более 10 раз: 2\n",
      "|  Количество раз пробелы найдены:\n",
      "|    в начале строки: 0\n",
      "|    в конце  строки: 0\n",
      "|  Количество найденных специальных символов: 0\n",
      "|  Уникальные значения: ['yes' 'no' None] \n",
      "\n",
      "------------------------------------------------------------\n",
      "|\t Отчет по колонке [ famsup ] \t\t\t\t\t\n",
      "------------------------------------------------------------\n",
      "|  Тип данных: object\n",
      "|  Заполнено значений: 356 из 395\n",
      "|  Значений для корректировки: 39\n",
      "|  Полнота данных: 90.13%\n",
      "|  Количество уникальных значений: 2\n",
      "|  Значений, встретившихся в столбце более 10 раз: 2\n",
      "|  Количество раз пробелы найдены:\n",
      "|    в начале строки: 0\n",
      "|    в конце  строки: 0\n",
      "|  Количество найденных специальных символов: 0\n",
      "|  Уникальные значения: ['no' 'yes' None] \n",
      "\n",
      "------------------------------------------------------------\n",
      "|\t Отчет по колонке [ paid ] \t\t\t\t\t\n",
      "------------------------------------------------------------\n",
      "|  Тип данных: object\n",
      "|  Заполнено значений: 355 из 395\n",
      "|  Значений для корректировки: 40\n",
      "|  Полнота данных: 89.87%\n",
      "|  Количество уникальных значений: 2\n",
      "|  Значений, встретившихся в столбце более 10 раз: 2\n",
      "|  Количество раз пробелы найдены:\n",
      "|    в начале строки: 0\n",
      "|    в конце  строки: 0\n",
      "|  Количество найденных специальных символов: 0\n",
      "|  Уникальные значения: ['no' None 'yes'] \n",
      "\n",
      "------------------------------------------------------------\n",
      "|\t Отчет по колонке [ activities ] \t\t\t\t\t\n",
      "------------------------------------------------------------\n",
      "|  Тип данных: object\n",
      "|  Заполнено значений: 381 из 395\n",
      "|  Значений для корректировки: 14\n",
      "|  Полнота данных: 96.46%\n",
      "|  Количество уникальных значений: 2\n",
      "|  Значений, встретившихся в столбце более 10 раз: 2\n",
      "|  Количество раз пробелы найдены:\n",
      "|    в начале строки: 0\n",
      "|    в конце  строки: 0\n",
      "|  Количество найденных специальных символов: 0\n",
      "|  Уникальные значения: ['no' 'yes' None] \n",
      "\n",
      "------------------------------------------------------------\n",
      "|\t Отчет по колонке [ nursery ] \t\t\t\t\t\n",
      "------------------------------------------------------------\n",
      "|  Тип данных: object\n",
      "|  Заполнено значений: 379 из 395\n",
      "|  Значений для корректировки: 16\n",
      "|  Полнота данных: 95.95%\n",
      "|  Количество уникальных значений: 2\n",
      "|  Значений, встретившихся в столбце более 10 раз: 2\n",
      "|  Количество раз пробелы найдены:\n",
      "|    в начале строки: 0\n",
      "|    в конце  строки: 0\n",
      "|  Количество найденных специальных символов: 0\n",
      "|  Уникальные значения: ['yes' 'no' None] \n",
      "\n",
      "------------------------------------------------------------\n",
      "|\t Отчет по колонке [ higher ] \t\t\t\t\t\n",
      "------------------------------------------------------------\n",
      "|  Тип данных: object\n",
      "|  Заполнено значений: 375 из 395\n",
      "|  Значений для корректировки: 20\n",
      "|  Полнота данных: 94.94%\n",
      "|  Количество уникальных значений: 2\n",
      "|  Значений, встретившихся в столбце более 10 раз: 2\n",
      "|  Количество раз пробелы найдены:\n",
      "|    в начале строки: 0\n",
      "|    в конце  строки: 0\n",
      "|  Количество найденных специальных символов: 0\n",
      "|  Уникальные значения: ['yes' None 'no'] \n",
      "\n",
      "------------------------------------------------------------\n",
      "|\t Отчет по колонке [ internet ] \t\t\t\t\t\n",
      "------------------------------------------------------------\n",
      "|  Тип данных: object\n",
      "|  Заполнено значений: 361 из 395\n",
      "|  Значений для корректировки: 34\n",
      "|  Полнота данных: 91.39%\n",
      "|  Количество уникальных значений: 2\n",
      "|  Значений, встретившихся в столбце более 10 раз: 2\n",
      "|  Количество раз пробелы найдены:\n",
      "|    в начале строки: 0\n",
      "|    в конце  строки: 0\n",
      "|  Количество найденных специальных символов: 0\n",
      "|  Уникальные значения: [None 'yes' 'no'] \n",
      "\n",
      "------------------------------------------------------------\n",
      "|\t Отчет по колонке [ romantic ] \t\t\t\t\t\n",
      "------------------------------------------------------------\n",
      "|  Тип данных: object\n",
      "|  Заполнено значений: 364 из 395\n",
      "|  Значений для корректировки: 31\n",
      "|  Полнота данных: 92.15%\n",
      "|  Количество уникальных значений: 2\n",
      "|  Значений, встретившихся в столбце более 10 раз: 2\n",
      "|  Количество раз пробелы найдены:\n",
      "|    в начале строки: 0\n",
      "|    в конце  строки: 0\n",
      "|  Количество найденных специальных символов: 0\n",
      "|  Уникальные значения: ['no' None 'yes'] \n",
      "\n",
      "------------------------------------------------------------\n",
      "|\t Отчет по колонке [ famrel ] \t\t\t\t\t\n",
      "------------------------------------------------------------\n",
      "|  Тип данных: float64\n",
      "|  Заполнено значений: 368 из 395\n",
      "|  Значений для корректировки: 27\n",
      "|  Полнота данных: 93.16%\n",
      "|  Количество уникальных значений: 6\n",
      "|  Значений, встретившихся в столбце более 10 раз: 4\n",
      "|  Уникальные значения: [ 4.  5.  3. nan -1.  2.  1.] \n",
      "\n",
      "------------------------------------------------------------\n",
      "|\t Отчет по колонке [ freetime ] \t\t\t\t\t\n",
      "------------------------------------------------------------\n",
      "|  Тип данных: float64\n",
      "|  Заполнено значений: 384 из 395\n",
      "|  Значений для корректировки: 11\n",
      "|  Полнота данных: 97.22%\n",
      "|  Количество уникальных значений: 5\n",
      "|  Значений, встретившихся в столбце более 10 раз: 5\n",
      "|  Уникальные значения: [ 3.  2.  4.  1.  5. nan] \n",
      "\n",
      "------------------------------------------------------------\n",
      "|\t Отчет по колонке [ goout ] \t\t\t\t\t\n",
      "------------------------------------------------------------\n",
      "|  Тип данных: float64\n",
      "|  Заполнено значений: 387 из 395\n",
      "|  Значений для корректировки: 8\n",
      "|  Полнота данных: 97.97%\n",
      "|  Количество уникальных значений: 5\n",
      "|  Значений, встретившихся в столбце более 10 раз: 5\n",
      "|  Уникальные значения: [ 4.  3.  2.  1.  5. nan] \n",
      "\n",
      "------------------------------------------------------------\n",
      "|\t Отчет по колонке [ health ] \t\t\t\t\t\n",
      "------------------------------------------------------------\n",
      "|  Тип данных: float64\n",
      "|  Заполнено значений: 380 из 395\n",
      "|  Значений для корректировки: 15\n",
      "|  Полнота данных: 96.2%\n",
      "|  Количество уникальных значений: 5\n",
      "|  Значений, встретившихся в столбце более 10 раз: 5\n",
      "|  Уникальные значения: [ 3.  5.  1.  2.  4. nan] \n",
      "\n",
      "------------------------------------------------------------\n",
      "|\t Отчет по колонке [ absences ] \t\t\t\t\t\n",
      "------------------------------------------------------------\n",
      "|  Тип данных: float64\n",
      "|  Заполнено значений: 383 из 395\n",
      "|  Значений для корректировки: 12\n",
      "|  Полнота данных: 96.96%\n",
      "|  Количество уникальных значений: 36\n",
      "|  Значений, встретившихся в столбце более 10 раз: 8\n",
      "|  Уникальные значения: [  6.   4.  10.   2.   0.  16.  nan  14.   7.   8.  25.  12.  54.  18.\n",
      "  26.  20.  56.  24.  28.   5.  13.  15.  22.   3. 385.  21.   1.  75.\n",
      "  30.  19.   9.  11.  38.  40.  23.  17. 212.] \n",
      "\n",
      "------------------------------------------------------------\n",
      "|\t Отчет по колонке [ score ] \t\t\t\t\t\n",
      "------------------------------------------------------------\n",
      "|  Тип данных: float64\n",
      "|  Заполнено значений: 389 из 395\n",
      "|  Значений для корректировки: 6\n",
      "|  Полнота данных: 98.48%\n",
      "|  Количество уникальных значений: 18\n",
      "|  Значений, встретившихся в столбце более 10 раз: 12\n",
      "|  Уникальные значения: [ 30.  50.  75.  55.  95.  45.  60.  70.  80.  25.  40.  85.  90.  65.\n",
      " 100.  35.   0.  nan  20.] \n",
      "\n"
     ]
    }
   ],
   "source": [
    "# column_content_analysis(['address', 'age', 'medu'])\n",
    "\n",
    "column_content_analysis(all_columns)"
   ]
  },
  {
   "cell_type": "code",
   "execution_count": 99,
   "metadata": {},
   "outputs": [
    {
     "data": {
      "text/html": [
       "<div>\n",
       "<style scoped>\n",
       "    .dataframe tbody tr th:only-of-type {\n",
       "        vertical-align: middle;\n",
       "    }\n",
       "\n",
       "    .dataframe tbody tr th {\n",
       "        vertical-align: top;\n",
       "    }\n",
       "\n",
       "    .dataframe thead th {\n",
       "        text-align: right;\n",
       "    }\n",
       "</style>\n",
       "<table border=\"1\" class=\"dataframe\">\n",
       "  <thead>\n",
       "    <tr style=\"text-align: right;\">\n",
       "      <th></th>\n",
       "      <th>school</th>\n",
       "      <th>sex</th>\n",
       "      <th>age</th>\n",
       "      <th>address</th>\n",
       "      <th>famsize</th>\n",
       "      <th>pstatus</th>\n",
       "      <th>medu</th>\n",
       "      <th>fedu</th>\n",
       "      <th>mjob</th>\n",
       "      <th>fjob</th>\n",
       "      <th>reason</th>\n",
       "      <th>guardian</th>\n",
       "      <th>traveltime</th>\n",
       "      <th>studytime</th>\n",
       "      <th>failures</th>\n",
       "      <th>schoolsup</th>\n",
       "      <th>famsup</th>\n",
       "      <th>paid</th>\n",
       "      <th>activities</th>\n",
       "      <th>nursery</th>\n",
       "      <th>higher</th>\n",
       "      <th>internet</th>\n",
       "      <th>romantic</th>\n",
       "      <th>famrel</th>\n",
       "      <th>freetime</th>\n",
       "      <th>goout</th>\n",
       "      <th>health</th>\n",
       "      <th>absences</th>\n",
       "      <th>score</th>\n",
       "    </tr>\n",
       "  </thead>\n",
       "  <tbody>\n",
       "    <tr>\n",
       "      <th>340</th>\n",
       "      <td>GP</td>\n",
       "      <td>F</td>\n",
       "      <td>19</td>\n",
       "      <td>U</td>\n",
       "      <td>GT3</td>\n",
       "      <td>T</td>\n",
       "      <td>2.0</td>\n",
       "      <td>1.0</td>\n",
       "      <td>services</td>\n",
       "      <td>services</td>\n",
       "      <td>home</td>\n",
       "      <td>other</td>\n",
       "      <td>1.0</td>\n",
       "      <td>3.0</td>\n",
       "      <td>1.0</td>\n",
       "      <td>no</td>\n",
       "      <td>no</td>\n",
       "      <td>yes</td>\n",
       "      <td>yes</td>\n",
       "      <td>None</td>\n",
       "      <td>yes</td>\n",
       "      <td>None</td>\n",
       "      <td>yes</td>\n",
       "      <td>4.0</td>\n",
       "      <td>3.0</td>\n",
       "      <td>4.0</td>\n",
       "      <td>3.0</td>\n",
       "      <td>4.0</td>\n",
       "      <td>55.0</td>\n",
       "    </tr>\n",
       "    <tr>\n",
       "      <th>129</th>\n",
       "      <td>GP</td>\n",
       "      <td>M</td>\n",
       "      <td>16</td>\n",
       "      <td>R</td>\n",
       "      <td>None</td>\n",
       "      <td>T</td>\n",
       "      <td>4.0</td>\n",
       "      <td>4.0</td>\n",
       "      <td>teacher</td>\n",
       "      <td>teacher</td>\n",
       "      <td>course</td>\n",
       "      <td>mother</td>\n",
       "      <td>1.0</td>\n",
       "      <td>NaN</td>\n",
       "      <td>0.0</td>\n",
       "      <td>no</td>\n",
       "      <td>no</td>\n",
       "      <td>yes</td>\n",
       "      <td>yes</td>\n",
       "      <td>yes</td>\n",
       "      <td>yes</td>\n",
       "      <td>yes</td>\n",
       "      <td>no</td>\n",
       "      <td>3.0</td>\n",
       "      <td>5.0</td>\n",
       "      <td>5.0</td>\n",
       "      <td>4.0</td>\n",
       "      <td>NaN</td>\n",
       "      <td>90.0</td>\n",
       "    </tr>\n",
       "    <tr>\n",
       "      <th>192</th>\n",
       "      <td>GP</td>\n",
       "      <td>M</td>\n",
       "      <td>17</td>\n",
       "      <td>U</td>\n",
       "      <td>GT3</td>\n",
       "      <td>T</td>\n",
       "      <td>1.0</td>\n",
       "      <td>2.0</td>\n",
       "      <td>at_home</td>\n",
       "      <td>services</td>\n",
       "      <td>other</td>\n",
       "      <td>other</td>\n",
       "      <td>2.0</td>\n",
       "      <td>2.0</td>\n",
       "      <td>0.0</td>\n",
       "      <td>no</td>\n",
       "      <td>no</td>\n",
       "      <td>None</td>\n",
       "      <td>yes</td>\n",
       "      <td>no</td>\n",
       "      <td>yes</td>\n",
       "      <td>yes</td>\n",
       "      <td>no</td>\n",
       "      <td>4.0</td>\n",
       "      <td>4.0</td>\n",
       "      <td>4.0</td>\n",
       "      <td>5.0</td>\n",
       "      <td>12.0</td>\n",
       "      <td>40.0</td>\n",
       "    </tr>\n",
       "    <tr>\n",
       "      <th>241</th>\n",
       "      <td>GP</td>\n",
       "      <td>M</td>\n",
       "      <td>17</td>\n",
       "      <td>None</td>\n",
       "      <td>LE3</td>\n",
       "      <td>A</td>\n",
       "      <td>4.0</td>\n",
       "      <td>4.0</td>\n",
       "      <td>teacher</td>\n",
       "      <td>other</td>\n",
       "      <td>course</td>\n",
       "      <td>mother</td>\n",
       "      <td>NaN</td>\n",
       "      <td>2.0</td>\n",
       "      <td>0.0</td>\n",
       "      <td>no</td>\n",
       "      <td>yes</td>\n",
       "      <td>yes</td>\n",
       "      <td>no</td>\n",
       "      <td>yes</td>\n",
       "      <td>yes</td>\n",
       "      <td>yes</td>\n",
       "      <td>no</td>\n",
       "      <td>3.0</td>\n",
       "      <td>3.0</td>\n",
       "      <td>NaN</td>\n",
       "      <td>4.0</td>\n",
       "      <td>2.0</td>\n",
       "      <td>60.0</td>\n",
       "    </tr>\n",
       "    <tr>\n",
       "      <th>254</th>\n",
       "      <td>GP</td>\n",
       "      <td>M</td>\n",
       "      <td>17</td>\n",
       "      <td>None</td>\n",
       "      <td>None</td>\n",
       "      <td>T</td>\n",
       "      <td>2.0</td>\n",
       "      <td>1.0</td>\n",
       "      <td>other</td>\n",
       "      <td>other</td>\n",
       "      <td>course</td>\n",
       "      <td>mother</td>\n",
       "      <td>1.0</td>\n",
       "      <td>1.0</td>\n",
       "      <td>0.0</td>\n",
       "      <td>no</td>\n",
       "      <td>no</td>\n",
       "      <td>no</td>\n",
       "      <td>no</td>\n",
       "      <td>no</td>\n",
       "      <td>yes</td>\n",
       "      <td>yes</td>\n",
       "      <td>no</td>\n",
       "      <td>4.0</td>\n",
       "      <td>4.0</td>\n",
       "      <td>2.0</td>\n",
       "      <td>5.0</td>\n",
       "      <td>NaN</td>\n",
       "      <td>60.0</td>\n",
       "    </tr>\n",
       "    <tr>\n",
       "      <th>167</th>\n",
       "      <td>GP</td>\n",
       "      <td>F</td>\n",
       "      <td>16</td>\n",
       "      <td>U</td>\n",
       "      <td>None</td>\n",
       "      <td>T</td>\n",
       "      <td>4.0</td>\n",
       "      <td>2.0</td>\n",
       "      <td>health</td>\n",
       "      <td>services</td>\n",
       "      <td>home</td>\n",
       "      <td>father</td>\n",
       "      <td>1.0</td>\n",
       "      <td>2.0</td>\n",
       "      <td>0.0</td>\n",
       "      <td>no</td>\n",
       "      <td>None</td>\n",
       "      <td>yes</td>\n",
       "      <td>no</td>\n",
       "      <td>yes</td>\n",
       "      <td>yes</td>\n",
       "      <td>yes</td>\n",
       "      <td>yes</td>\n",
       "      <td>4.0</td>\n",
       "      <td>2.0</td>\n",
       "      <td>3.0</td>\n",
       "      <td>3.0</td>\n",
       "      <td>0.0</td>\n",
       "      <td>80.0</td>\n",
       "    </tr>\n",
       "    <tr>\n",
       "      <th>133</th>\n",
       "      <td>GP</td>\n",
       "      <td>F</td>\n",
       "      <td>16</td>\n",
       "      <td>U</td>\n",
       "      <td>GT3</td>\n",
       "      <td>A</td>\n",
       "      <td>3.0</td>\n",
       "      <td>4.0</td>\n",
       "      <td>services</td>\n",
       "      <td>other</td>\n",
       "      <td>course</td>\n",
       "      <td>father</td>\n",
       "      <td>1.0</td>\n",
       "      <td>1.0</td>\n",
       "      <td>0.0</td>\n",
       "      <td>no</td>\n",
       "      <td>no</td>\n",
       "      <td>no</td>\n",
       "      <td>no</td>\n",
       "      <td>yes</td>\n",
       "      <td>yes</td>\n",
       "      <td>None</td>\n",
       "      <td>no</td>\n",
       "      <td>3.0</td>\n",
       "      <td>2.0</td>\n",
       "      <td>1.0</td>\n",
       "      <td>5.0</td>\n",
       "      <td>16.0</td>\n",
       "      <td>55.0</td>\n",
       "    </tr>\n",
       "    <tr>\n",
       "      <th>319</th>\n",
       "      <td>GP</td>\n",
       "      <td>F</td>\n",
       "      <td>18</td>\n",
       "      <td>U</td>\n",
       "      <td>GT3</td>\n",
       "      <td>T</td>\n",
       "      <td>4.0</td>\n",
       "      <td>4.0</td>\n",
       "      <td>teacher</td>\n",
       "      <td>other</td>\n",
       "      <td>course</td>\n",
       "      <td>mother</td>\n",
       "      <td>1.0</td>\n",
       "      <td>2.0</td>\n",
       "      <td>0.0</td>\n",
       "      <td>no</td>\n",
       "      <td>yes</td>\n",
       "      <td>None</td>\n",
       "      <td>no</td>\n",
       "      <td>yes</td>\n",
       "      <td>yes</td>\n",
       "      <td>yes</td>\n",
       "      <td>no</td>\n",
       "      <td>4.0</td>\n",
       "      <td>4.0</td>\n",
       "      <td>4.0</td>\n",
       "      <td>5.0</td>\n",
       "      <td>2.0</td>\n",
       "      <td>55.0</td>\n",
       "    </tr>\n",
       "    <tr>\n",
       "      <th>156</th>\n",
       "      <td>GP</td>\n",
       "      <td>M</td>\n",
       "      <td>17</td>\n",
       "      <td>R</td>\n",
       "      <td>LE3</td>\n",
       "      <td>T</td>\n",
       "      <td>1.0</td>\n",
       "      <td>2.0</td>\n",
       "      <td>None</td>\n",
       "      <td>other</td>\n",
       "      <td>reputation</td>\n",
       "      <td>mother</td>\n",
       "      <td>1.0</td>\n",
       "      <td>1.0</td>\n",
       "      <td>0.0</td>\n",
       "      <td>no</td>\n",
       "      <td>no</td>\n",
       "      <td>no</td>\n",
       "      <td>no</td>\n",
       "      <td>yes</td>\n",
       "      <td>yes</td>\n",
       "      <td>no</td>\n",
       "      <td>no</td>\n",
       "      <td>2.0</td>\n",
       "      <td>2.0</td>\n",
       "      <td>2.0</td>\n",
       "      <td>5.0</td>\n",
       "      <td>8.0</td>\n",
       "      <td>65.0</td>\n",
       "    </tr>\n",
       "  </tbody>\n",
       "</table>\n",
       "</div>"
      ],
      "text/plain": [
       "    school sex  age address famsize pstatus  medu  fedu      mjob      fjob  \\\n",
       "340     GP   F   19       U     GT3       T   2.0   1.0  services  services   \n",
       "129     GP   M   16       R    None       T   4.0   4.0   teacher   teacher   \n",
       "192     GP   M   17       U     GT3       T   1.0   2.0   at_home  services   \n",
       "241     GP   M   17    None     LE3       A   4.0   4.0   teacher     other   \n",
       "254     GP   M   17    None    None       T   2.0   1.0     other     other   \n",
       "167     GP   F   16       U    None       T   4.0   2.0    health  services   \n",
       "133     GP   F   16       U     GT3       A   3.0   4.0  services     other   \n",
       "319     GP   F   18       U     GT3       T   4.0   4.0   teacher     other   \n",
       "156     GP   M   17       R     LE3       T   1.0   2.0      None     other   \n",
       "\n",
       "         reason guardian  traveltime  studytime  failures schoolsup famsup  \\\n",
       "340        home    other         1.0        3.0       1.0        no     no   \n",
       "129      course   mother         1.0        NaN       0.0        no     no   \n",
       "192       other    other         2.0        2.0       0.0        no     no   \n",
       "241      course   mother         NaN        2.0       0.0        no    yes   \n",
       "254      course   mother         1.0        1.0       0.0        no     no   \n",
       "167        home   father         1.0        2.0       0.0        no   None   \n",
       "133      course   father         1.0        1.0       0.0        no     no   \n",
       "319      course   mother         1.0        2.0       0.0        no    yes   \n",
       "156  reputation   mother         1.0        1.0       0.0        no     no   \n",
       "\n",
       "     paid activities nursery higher internet romantic  famrel  freetime  \\\n",
       "340   yes        yes    None    yes     None      yes     4.0       3.0   \n",
       "129   yes        yes     yes    yes      yes       no     3.0       5.0   \n",
       "192  None        yes      no    yes      yes       no     4.0       4.0   \n",
       "241   yes         no     yes    yes      yes       no     3.0       3.0   \n",
       "254    no         no      no    yes      yes       no     4.0       4.0   \n",
       "167   yes         no     yes    yes      yes      yes     4.0       2.0   \n",
       "133    no         no     yes    yes     None       no     3.0       2.0   \n",
       "319  None         no     yes    yes      yes       no     4.0       4.0   \n",
       "156    no         no     yes    yes       no       no     2.0       2.0   \n",
       "\n",
       "     goout  health  absences  score  \n",
       "340    4.0     3.0       4.0   55.0  \n",
       "129    5.0     4.0       NaN   90.0  \n",
       "192    4.0     5.0      12.0   40.0  \n",
       "241    NaN     4.0       2.0   60.0  \n",
       "254    2.0     5.0       NaN   60.0  \n",
       "167    3.0     3.0       0.0   80.0  \n",
       "133    1.0     5.0      16.0   55.0  \n",
       "319    4.0     5.0       2.0   55.0  \n",
       "156    2.0     5.0       8.0   65.0  "
      ]
     },
     "execution_count": 99,
     "metadata": {},
     "output_type": "execute_result"
    }
   ],
   "source": [
    "stud.sample(9)\n"
   ]
  },
  {
   "cell_type": "code",
   "execution_count": null,
   "metadata": {},
   "outputs": [],
   "source": []
  },
  {
   "cell_type": "code",
   "execution_count": null,
   "metadata": {},
   "outputs": [],
   "source": []
  },
  {
   "cell_type": "markdown",
   "metadata": {},
   "source": [
    "## Распределение признака для числовых переменных"
   ]
  },
  {
   "cell_type": "code",
   "execution_count": 100,
   "metadata": {},
   "outputs": [
    {
     "data": {
      "text/plain": [
       "12"
      ]
     },
     "execution_count": 100,
     "metadata": {},
     "output_type": "execute_result"
    }
   ],
   "source": [
    "# количество числовых переменных\n",
    "len(dig_columns)"
   ]
  },
  {
   "cell_type": "code",
   "execution_count": 101,
   "metadata": {},
   "outputs": [
    {
     "data": {
      "text/plain": [
       "['age',\n",
       " 'medu',\n",
       " 'fedu',\n",
       " 'traveltime',\n",
       " 'studytime',\n",
       " 'failures',\n",
       " 'famrel',\n",
       " 'freetime',\n",
       " 'goout',\n",
       " 'health',\n",
       " 'absences',\n",
       " 'score']"
      ]
     },
     "execution_count": 101,
     "metadata": {},
     "output_type": "execute_result"
    }
   ],
   "source": [
    "# список числовых столбцов\n",
    "dig_columns"
   ]
  },
  {
   "cell_type": "markdown",
   "metadata": {},
   "source": [
    "### age"
   ]
  },
  {
   "cell_type": "code",
   "execution_count": 102,
   "metadata": {},
   "outputs": [
    {
     "name": "stdout",
     "output_type": "stream",
     "text": [
      "------------------------------------------------------------\n",
      "|\t Отчет по колонке [ age ] \t\t\t\t\t\n",
      "------------------------------------------------------------\n",
      "|  Тип данных: int64\n",
      "|  Заполнено значений: 395 из 395\n",
      "|  Отсутсвующие значения: 0\n",
      "|  Полнота данных: 100.0%\n",
      "|  Количество уникальных значений: 8\n",
      "|  Значений, встретившихся в столбце более 10 раз: 5\n",
      "|  Уникальные значения: [18 17 15 16 19 22 20 21] \n",
      "\n"
     ]
    }
   ],
   "source": [
    "column_content_analysis(['age'])"
   ]
  },
  {
   "cell_type": "code",
   "execution_count": 103,
   "metadata": {},
   "outputs": [
    {
     "data": {
      "text/plain": [
       "count    395.000000\n",
       "mean      16.696203\n",
       "std        1.276043\n",
       "min       15.000000\n",
       "25%       16.000000\n",
       "50%       17.000000\n",
       "75%       18.000000\n",
       "max       22.000000\n",
       "Name: age, dtype: float64"
      ]
     },
     "execution_count": 103,
     "metadata": {},
     "output_type": "execute_result"
    }
   ],
   "source": [
    "stud['age'].describe()"
   ]
  },
  {
   "cell_type": "code",
   "execution_count": 104,
   "metadata": {},
   "outputs": [
    {
     "data": {
      "text/plain": [
       "<matplotlib.axes._subplots.AxesSubplot at 0x7fc5a204e910>"
      ]
     },
     "execution_count": 104,
     "metadata": {},
     "output_type": "execute_result"
    },
    {
     "data": {
      "image/png": "[encoded data removed]",
      "text/plain": [
       "<Figure size 432x288 with 1 Axes>"
      ]
     },
     "metadata": {
      "needs_background": "light"
     },
     "output_type": "display_data"
    }
   ],
   "source": [
    "stud['age'].hist()"
   ]
  },
  {
   "cell_type": "markdown",
   "metadata": {},
   "source": [
    "### medu"
   ]
  },
  {
   "cell_type": "code",
   "execution_count": 105,
   "metadata": {},
   "outputs": [
    {
     "name": "stdout",
     "output_type": "stream",
     "text": [
      "------------------------------------------------------------\n",
      "|\t Отчет по колонке [ medu ] \t\t\t\t\t\n",
      "------------------------------------------------------------\n",
      "|  Тип данных: float64\n",
      "|  Заполнено значений: 392 из 395\n",
      "|  Отсутсвующие значения: 3\n",
      "|  Полнота данных: 99.24%\n",
      "|  Количество уникальных значений: 5\n",
      "|  Значений, встретившихся в столбце более 10 раз: 4\n",
      "|  Уникальные значения: [ 4.  1.  3.  2. nan  0.] \n",
      "\n"
     ]
    }
   ],
   "source": [
    "column_content_analysis(['medu'])"
   ]
  },
  {
   "cell_type": "code",
   "execution_count": 106,
   "metadata": {},
   "outputs": [
    {
     "data": {
      "text/plain": [
       "count    392.000000\n",
       "mean       2.750000\n",
       "std        1.098127\n",
       "min        0.000000\n",
       "25%        2.000000\n",
       "50%        3.000000\n",
       "75%        4.000000\n",
       "max        4.000000\n",
       "Name: medu, dtype: float64"
      ]
     },
     "execution_count": 106,
     "metadata": {},
     "output_type": "execute_result"
    }
   ],
   "source": [
    "stud['medu'].describe()"
   ]
  },
  {
   "cell_type": "code",
   "execution_count": 107,
   "metadata": {},
   "outputs": [
    {
     "data": {
      "text/plain": [
       "<matplotlib.axes._subplots.AxesSubplot at 0x7fc5a2102a10>"
      ]
     },
     "execution_count": 107,
     "metadata": {},
     "output_type": "execute_result"
    },
    {
     "data": {
      "image/png": "[encoded data removed]",
      "text/plain": [
       "<Figure size 432x288 with 1 Axes>"
      ]
     },
     "metadata": {
      "needs_background": "light"
     },
     "output_type": "display_data"
    }
   ],
   "source": [
    "stud['medu'].hist()"
   ]
  },
  {
   "cell_type": "markdown",
   "metadata": {},
   "source": [
    "### fedu"
   ]
  },
  {
   "cell_type": "code",
   "execution_count": 108,
   "metadata": {},
   "outputs": [
    {
     "name": "stdout",
     "output_type": "stream",
     "text": [
      "------------------------------------------------------------\n",
      "|\t Отчет по колонке [ fedu ] \t\t\t\t\t\n",
      "------------------------------------------------------------\n",
      "|  Тип данных: float64\n",
      "|  Заполнено значений: 371 из 395\n",
      "|  Отсутсвующие значения: 24\n",
      "|  Полнота данных: 93.92%\n",
      "|  Количество уникальных значений: 6\n",
      "|  Значений, встретившихся в столбце более 10 раз: 4\n",
      "|  Уникальные значения: [ 4.  1.  2.  3. 40. nan  0.] \n",
      "\n"
     ]
    }
   ],
   "source": [
    "column_content_analysis(['fedu'])"
   ]
  },
  {
   "cell_type": "code",
   "execution_count": 109,
   "metadata": {},
   "outputs": [
    {
     "data": {
      "text/plain": [
       "count    371.000000\n",
       "mean       2.614555\n",
       "std        2.228732\n",
       "min        0.000000\n",
       "25%        2.000000\n",
       "50%        2.000000\n",
       "75%        3.000000\n",
       "max       40.000000\n",
       "Name: fedu, dtype: float64"
      ]
     },
     "execution_count": 109,
     "metadata": {},
     "output_type": "execute_result"
    }
   ],
   "source": [
    "stud['fedu'].describe()"
   ]
  },
  {
   "cell_type": "code",
   "execution_count": 110,
   "metadata": {},
   "outputs": [
    {
     "data": {
      "text/plain": [
       "<matplotlib.axes._subplots.AxesSubplot at 0x7fc5a21d5c90>"
      ]
     },
     "execution_count": 110,
     "metadata": {},
     "output_type": "execute_result"
    },
    {
     "data": {
      "image/png": "[encoded data removed]",
      "text/plain": [
       "<Figure size 432x288 with 1 Axes>"
      ]
     },
     "metadata": {
      "needs_background": "light"
     },
     "output_type": "display_data"
    }
   ],
   "source": [
    "stud['fedu'].hist()"
   ]
  },
  {
   "cell_type": "markdown",
   "metadata": {},
   "source": [
    "### traveltime"
   ]
  },
  {
   "cell_type": "code",
   "execution_count": 111,
   "metadata": {},
   "outputs": [
    {
     "name": "stdout",
     "output_type": "stream",
     "text": [
      "------------------------------------------------------------\n",
      "|\t Отчет по колонке [ traveltime ] \t\t\t\t\t\n",
      "------------------------------------------------------------\n",
      "|  Тип данных: float64\n",
      "|  Заполнено значений: 367 из 395\n",
      "|  Отсутсвующие значения: 28\n",
      "|  Полнота данных: 92.91%\n",
      "|  Количество уникальных значений: 4\n",
      "|  Значений, встретившихся в столбце более 10 раз: 3\n",
      "|  Уникальные значения: [ 2.  1.  3. nan  4.] \n",
      "\n"
     ]
    }
   ],
   "source": [
    "column_content_analysis(['traveltime'])"
   ]
  },
  {
   "cell_type": "code",
   "execution_count": 112,
   "metadata": {},
   "outputs": [
    {
     "data": {
      "text/plain": [
       "count    367.000000\n",
       "mean       1.438692\n",
       "std        0.694181\n",
       "min        1.000000\n",
       "25%        1.000000\n",
       "50%        1.000000\n",
       "75%        2.000000\n",
       "max        4.000000\n",
       "Name: traveltime, dtype: float64"
      ]
     },
     "execution_count": 112,
     "metadata": {},
     "output_type": "execute_result"
    }
   ],
   "source": [
    "stud['traveltime'].describe()"
   ]
  },
  {
   "cell_type": "code",
   "execution_count": 113,
   "metadata": {},
   "outputs": [
    {
     "data": {
      "text/plain": [
       "<matplotlib.axes._subplots.AxesSubplot at 0x7fc5a22b6950>"
      ]
     },
     "execution_count": 113,
     "metadata": {},
     "output_type": "execute_result"
    },
    {
     "data": {
      "image/png": "[encoded data removed]",
      "text/plain": [
       "<Figure size 432x288 with 1 Axes>"
      ]
     },
     "metadata": {
      "needs_background": "light"
     },
     "output_type": "display_data"
    }
   ],
   "source": [
    "stud['traveltime'].hist()"
   ]
  },
  {
   "cell_type": "markdown",
   "metadata": {},
   "source": [
    "### studytime"
   ]
  },
  {
   "cell_type": "code",
   "execution_count": 114,
   "metadata": {},
   "outputs": [
    {
     "name": "stdout",
     "output_type": "stream",
     "text": [
      "------------------------------------------------------------\n",
      "|\t Отчет по колонке [ studytime ] \t\t\t\t\t\n",
      "------------------------------------------------------------\n",
      "|  Тип данных: float64\n",
      "|  Заполнено значений: 388 из 395\n",
      "|  Отсутсвующие значения: 7\n",
      "|  Полнота данных: 98.23%\n",
      "|  Количество уникальных значений: 4\n",
      "|  Значений, встретившихся в столбце более 10 раз: 4\n",
      "|  Уникальные значения: [ 2.  3.  1. nan  4.] \n",
      "\n"
     ]
    }
   ],
   "source": [
    "column_content_analysis(['studytime'])"
   ]
  },
  {
   "cell_type": "code",
   "execution_count": 115,
   "metadata": {},
   "outputs": [
    {
     "data": {
      "text/plain": [
       "count    388.000000\n",
       "mean       2.038660\n",
       "std        0.842078\n",
       "min        1.000000\n",
       "25%        1.000000\n",
       "50%        2.000000\n",
       "75%        2.000000\n",
       "max        4.000000\n",
       "Name: studytime, dtype: float64"
      ]
     },
     "execution_count": 115,
     "metadata": {},
     "output_type": "execute_result"
    }
   ],
   "source": [
    "stud['studytime'].describe()"
   ]
  },
  {
   "cell_type": "code",
   "execution_count": 116,
   "metadata": {},
   "outputs": [
    {
     "data": {
      "text/plain": [
       "<matplotlib.axes._subplots.AxesSubplot at 0x7fc5a2587cd0>"
      ]
     },
     "execution_count": 116,
     "metadata": {},
     "output_type": "execute_result"
    },
    {
     "data": {
      "image/png": "[encoded data removed]",
      "text/plain": [
       "<Figure size 432x288 with 1 Axes>"
      ]
     },
     "metadata": {
      "needs_background": "light"
     },
     "output_type": "display_data"
    }
   ],
   "source": [
    "stud['studytime'].hist()"
   ]
  },
  {
   "cell_type": "markdown",
   "metadata": {},
   "source": [
    "### failures"
   ]
  },
  {
   "cell_type": "code",
   "execution_count": 117,
   "metadata": {},
   "outputs": [
    {
     "name": "stdout",
     "output_type": "stream",
     "text": [
      "------------------------------------------------------------\n",
      "|\t Отчет по колонке [ failures ] \t\t\t\t\t\n",
      "------------------------------------------------------------\n",
      "|  Тип данных: float64\n",
      "|  Заполнено значений: 373 из 395\n",
      "|  Отсутсвующие значения: 22\n",
      "|  Полнота данных: 94.43%\n",
      "|  Количество уникальных значений: 4\n",
      "|  Значений, встретившихся в столбце более 10 раз: 4\n",
      "|  Уникальные значения: [ 0.  3. nan  2.  1.] \n",
      "\n"
     ]
    }
   ],
   "source": [
    "column_content_analysis(['failures'])"
   ]
  },
  {
   "cell_type": "code",
   "execution_count": 118,
   "metadata": {},
   "outputs": [
    {
     "data": {
      "text/plain": [
       "count    373.000000\n",
       "mean       0.337802\n",
       "std        0.743135\n",
       "min        0.000000\n",
       "25%        0.000000\n",
       "50%        0.000000\n",
       "75%        0.000000\n",
       "max        3.000000\n",
       "Name: failures, dtype: float64"
      ]
     },
     "execution_count": 118,
     "metadata": {},
     "output_type": "execute_result"
    }
   ],
   "source": [
    "stud['failures'].describe()"
   ]
  },
  {
   "cell_type": "code",
   "execution_count": 119,
   "metadata": {},
   "outputs": [
    {
     "data": {
      "text/plain": [
       "<matplotlib.axes._subplots.AxesSubplot at 0x7fc5a2678690>"
      ]
     },
     "execution_count": 119,
     "metadata": {},
     "output_type": "execute_result"
    },
    {
     "data": {
      "image/png": "[encoded data removed]",
      "text/plain": [
       "<Figure size 432x288 with 1 Axes>"
      ]
     },
     "metadata": {
      "needs_background": "light"
     },
     "output_type": "display_data"
    }
   ],
   "source": [
    "stud['failures'].hist()"
   ]
  },
  {
   "cell_type": "markdown",
   "metadata": {},
   "source": [
    "### famrel"
   ]
  },
  {
   "cell_type": "code",
   "execution_count": 120,
   "metadata": {},
   "outputs": [
    {
     "name": "stdout",
     "output_type": "stream",
     "text": [
      "------------------------------------------------------------\n",
      "|\t Отчет по колонке [ famrel ] \t\t\t\t\t\n",
      "------------------------------------------------------------\n",
      "|  Тип данных: float64\n",
      "|  Заполнено значений: 368 из 395\n",
      "|  Отсутсвующие значения: 27\n",
      "|  Полнота данных: 93.16%\n",
      "|  Количество уникальных значений: 6\n",
      "|  Значений, встретившихся в столбце более 10 раз: 4\n",
      "|  Уникальные значения: [ 4.  5.  3. nan -1.  2.  1.] \n",
      "\n"
     ]
    }
   ],
   "source": [
    "column_content_analysis(['famrel'])"
   ]
  },
  {
   "cell_type": "code",
   "execution_count": 121,
   "metadata": {},
   "outputs": [
    {
     "data": {
      "text/plain": [
       "count    368.000000\n",
       "mean       3.937500\n",
       "std        0.927277\n",
       "min       -1.000000\n",
       "25%        4.000000\n",
       "50%        4.000000\n",
       "75%        5.000000\n",
       "max        5.000000\n",
       "Name: famrel, dtype: float64"
      ]
     },
     "execution_count": 121,
     "metadata": {},
     "output_type": "execute_result"
    }
   ],
   "source": [
    "stud['famrel'].describe()"
   ]
  },
  {
   "cell_type": "code",
   "execution_count": 122,
   "metadata": {},
   "outputs": [
    {
     "data": {
      "text/plain": [
       "<matplotlib.axes._subplots.AxesSubplot at 0x7fc5a21d1090>"
      ]
     },
     "execution_count": 122,
     "metadata": {},
     "output_type": "execute_result"
    },
    {
     "data": {
      "image/png": "[encoded data removed]",
      "text/plain": [
       "<Figure size 432x288 with 1 Axes>"
      ]
     },
     "metadata": {
      "needs_background": "light"
     },
     "output_type": "display_data"
    }
   ],
   "source": [
    "stud['famrel'].hist()"
   ]
  },
  {
   "cell_type": "markdown",
   "metadata": {},
   "source": [
    "### freetime"
   ]
  },
  {
   "cell_type": "code",
   "execution_count": 123,
   "metadata": {},
   "outputs": [
    {
     "name": "stdout",
     "output_type": "stream",
     "text": [
      "------------------------------------------------------------\n",
      "|\t Отчет по колонке [ freetime ] \t\t\t\t\t\n",
      "------------------------------------------------------------\n",
      "|  Тип данных: float64\n",
      "|  Заполнено значений: 384 из 395\n",
      "|  Отсутсвующие значения: 11\n",
      "|  Полнота данных: 97.22%\n",
      "|  Количество уникальных значений: 5\n",
      "|  Значений, встретившихся в столбце более 10 раз: 5\n",
      "|  Уникальные значения: [ 3.  2.  4.  1.  5. nan] \n",
      "\n"
     ]
    }
   ],
   "source": [
    "column_content_analysis(['freetime'])"
   ]
  },
  {
   "cell_type": "code",
   "execution_count": 124,
   "metadata": {},
   "outputs": [
    {
     "data": {
      "text/plain": [
       "count    384.000000\n",
       "mean       3.231771\n",
       "std        0.993940\n",
       "min        1.000000\n",
       "25%        3.000000\n",
       "50%        3.000000\n",
       "75%        4.000000\n",
       "max        5.000000\n",
       "Name: freetime, dtype: float64"
      ]
     },
     "execution_count": 124,
     "metadata": {},
     "output_type": "execute_result"
    }
   ],
   "source": [
    "stud['freetime'].describe()"
   ]
  },
  {
   "cell_type": "code",
   "execution_count": 125,
   "metadata": {},
   "outputs": [
    {
     "data": {
      "text/plain": [
       "<matplotlib.axes._subplots.AxesSubplot at 0x7fc5a285bf50>"
      ]
     },
     "execution_count": 125,
     "metadata": {},
     "output_type": "execute_result"
    },
    {
     "data": {
      "image/png": "[encoded data removed]",
      "text/plain": [
       "<Figure size 432x288 with 1 Axes>"
      ]
     },
     "metadata": {
      "needs_background": "light"
     },
     "output_type": "display_data"
    }
   ],
   "source": [
    "stud['freetime'].hist()"
   ]
  },
  {
   "cell_type": "markdown",
   "metadata": {},
   "source": [
    "### goout"
   ]
  },
  {
   "cell_type": "code",
   "execution_count": 126,
   "metadata": {},
   "outputs": [
    {
     "name": "stdout",
     "output_type": "stream",
     "text": [
      "------------------------------------------------------------\n",
      "|\t Отчет по колонке [ goout ] \t\t\t\t\t\n",
      "------------------------------------------------------------\n",
      "|  Тип данных: float64\n",
      "|  Заполнено значений: 387 из 395\n",
      "|  Отсутсвующие значения: 8\n",
      "|  Полнота данных: 97.97%\n",
      "|  Количество уникальных значений: 5\n",
      "|  Значений, встретившихся в столбце более 10 раз: 5\n",
      "|  Уникальные значения: [ 4.  3.  2.  1.  5. nan] \n",
      "\n"
     ]
    }
   ],
   "source": [
    "column_content_analysis(['goout'])"
   ]
  },
  {
   "cell_type": "code",
   "execution_count": 127,
   "metadata": {},
   "outputs": [
    {
     "data": {
      "text/plain": [
       "count    387.000000\n",
       "mean       3.105943\n",
       "std        1.115896\n",
       "min        1.000000\n",
       "25%        2.000000\n",
       "50%        3.000000\n",
       "75%        4.000000\n",
       "max        5.000000\n",
       "Name: goout, dtype: float64"
      ]
     },
     "execution_count": 127,
     "metadata": {},
     "output_type": "execute_result"
    }
   ],
   "source": [
    "stud['goout'].describe()"
   ]
  },
  {
   "cell_type": "code",
   "execution_count": 128,
   "metadata": {},
   "outputs": [
    {
     "data": {
      "text/plain": [
       "<matplotlib.axes._subplots.AxesSubplot at 0x7fc5a296c0d0>"
      ]
     },
     "execution_count": 128,
     "metadata": {},
     "output_type": "execute_result"
    },
    {
     "data": {
      "image/png": "[encoded data removed]",
      "text/plain": [
       "<Figure size 432x288 with 1 Axes>"
      ]
     },
     "metadata": {
      "needs_background": "light"
     },
     "output_type": "display_data"
    }
   ],
   "source": [
    "stud['goout'].hist()"
   ]
  },
  {
   "cell_type": "markdown",
   "metadata": {},
   "source": [
    "### health"
   ]
  },
  {
   "cell_type": "code",
   "execution_count": 129,
   "metadata": {},
   "outputs": [
    {
     "name": "stdout",
     "output_type": "stream",
     "text": [
      "------------------------------------------------------------\n",
      "|\t Отчет по колонке [ health ] \t\t\t\t\t\n",
      "------------------------------------------------------------\n",
      "|  Тип данных: float64\n",
      "|  Заполнено значений: 380 из 395\n",
      "|  Отсутсвующие значения: 15\n",
      "|  Полнота данных: 96.2%\n",
      "|  Количество уникальных значений: 5\n",
      "|  Значений, встретившихся в столбце более 10 раз: 5\n",
      "|  Уникальные значения: [ 3.  5.  1.  2.  4. nan] \n",
      "\n"
     ]
    }
   ],
   "source": [
    "column_content_analysis(['health'])"
   ]
  },
  {
   "cell_type": "code",
   "execution_count": 130,
   "metadata": {},
   "outputs": [
    {
     "data": {
      "text/plain": [
       "count    380.000000\n",
       "mean       3.531579\n",
       "std        1.396019\n",
       "min        1.000000\n",
       "25%        3.000000\n",
       "50%        4.000000\n",
       "75%        5.000000\n",
       "max        5.000000\n",
       "Name: health, dtype: float64"
      ]
     },
     "execution_count": 130,
     "metadata": {},
     "output_type": "execute_result"
    }
   ],
   "source": [
    "stud['health'].describe()"
   ]
  },
  {
   "cell_type": "code",
   "execution_count": 131,
   "metadata": {},
   "outputs": [
    {
     "data": {
      "text/plain": [
       "<matplotlib.axes._subplots.AxesSubplot at 0x7fc5a2945fd0>"
      ]
     },
     "execution_count": 131,
     "metadata": {},
     "output_type": "execute_result"
    },
    {
     "data": {
      "image/png": "[encoded data removed]",
      "text/plain": [
       "<Figure size 432x288 with 1 Axes>"
      ]
     },
     "metadata": {
      "needs_background": "light"
     },
     "output_type": "display_data"
    }
   ],
   "source": [
    "stud['health'].hist()"
   ]
  },
  {
   "cell_type": "markdown",
   "metadata": {},
   "source": [
    "### absences"
   ]
  },
  {
   "cell_type": "code",
   "execution_count": 132,
   "metadata": {},
   "outputs": [
    {
     "name": "stdout",
     "output_type": "stream",
     "text": [
      "------------------------------------------------------------\n",
      "|\t Отчет по колонке [ absences ] \t\t\t\t\t\n",
      "------------------------------------------------------------\n",
      "|  Тип данных: float64\n",
      "|  Заполнено значений: 383 из 395\n",
      "|  Отсутсвующие значения: 12\n",
      "|  Полнота данных: 96.96%\n",
      "|  Количество уникальных значений: 36\n",
      "|  Значений, встретившихся в столбце более 10 раз: 8\n",
      "|  Уникальные значения: [  6.   4.  10.   2.   0.  16.  nan  14.   7.   8.  25.  12.  54.  18.\n",
      "  26.  20.  56.  24.  28.   5.  13.  15.  22.   3. 385.  21.   1.  75.\n",
      "  30.  19.   9.  11.  38.  40.  23.  17. 212.] \n",
      "\n"
     ]
    }
   ],
   "source": [
    "column_content_analysis(['absences'])"
   ]
  },
  {
   "cell_type": "code",
   "execution_count": 133,
   "metadata": {},
   "outputs": [
    {
     "data": {
      "text/plain": [
       "count    383.000000\n",
       "mean       7.279373\n",
       "std       23.465197\n",
       "min        0.000000\n",
       "25%        0.000000\n",
       "50%        4.000000\n",
       "75%        8.000000\n",
       "max      385.000000\n",
       "Name: absences, dtype: float64"
      ]
     },
     "execution_count": 133,
     "metadata": {},
     "output_type": "execute_result"
    }
   ],
   "source": [
    "stud['absences'].describe()"
   ]
  },
  {
   "cell_type": "code",
   "execution_count": 134,
   "metadata": {},
   "outputs": [
    {
     "data": {
      "text/plain": [
       "<matplotlib.axes._subplots.AxesSubplot at 0x7fc5a2b4f710>"
      ]
     },
     "execution_count": 134,
     "metadata": {},
     "output_type": "execute_result"
    },
    {
     "data": {
      "image/png": "[encoded data removed]",
      "text/plain": [
       "<Figure size 432x288 with 1 Axes>"
      ]
     },
     "metadata": {
      "needs_background": "light"
     },
     "output_type": "display_data"
    }
   ],
   "source": [
    "stud['absences'].hist()"
   ]
  },
  {
   "cell_type": "markdown",
   "metadata": {},
   "source": [
    "### score"
   ]
  },
  {
   "cell_type": "code",
   "execution_count": 135,
   "metadata": {},
   "outputs": [
    {
     "name": "stdout",
     "output_type": "stream",
     "text": [
      "------------------------------------------------------------\n",
      "|\t Отчет по колонке [ score ] \t\t\t\t\t\n",
      "------------------------------------------------------------\n",
      "|  Тип данных: float64\n",
      "|  Заполнено значений: 389 из 395\n",
      "|  Отсутсвующие значения: 6\n",
      "|  Полнота данных: 98.48%\n",
      "|  Количество уникальных значений: 18\n",
      "|  Значений, встретившихся в столбце более 10 раз: 12\n",
      "|  Уникальные значения: [ 30.  50.  75.  55.  95.  45.  60.  70.  80.  25.  40.  85.  90.  65.\n",
      " 100.  35.   0.  nan  20.] \n",
      "\n"
     ]
    }
   ],
   "source": [
    "column_content_analysis(['score'])"
   ]
  },
  {
   "cell_type": "code",
   "execution_count": 136,
   "metadata": {},
   "outputs": [
    {
     "data": {
      "text/plain": [
       "count    389.000000\n",
       "mean      52.262211\n",
       "std       22.919022\n",
       "min        0.000000\n",
       "25%       40.000000\n",
       "50%       55.000000\n",
       "75%       70.000000\n",
       "max      100.000000\n",
       "Name: score, dtype: float64"
      ]
     },
     "execution_count": 136,
     "metadata": {},
     "output_type": "execute_result"
    }
   ],
   "source": [
    "stud['score'].describe()"
   ]
  },
  {
   "cell_type": "code",
   "execution_count": 137,
   "metadata": {},
   "outputs": [
    {
     "data": {
      "text/plain": [
       "<matplotlib.axes._subplots.AxesSubplot at 0x7fc5a2d5df10>"
      ]
     },
     "execution_count": 137,
     "metadata": {},
     "output_type": "execute_result"
    },
    {
     "data": {
      "image/png": "[encoded data removed]",
      "text/plain": [
       "<Figure size 432x288 with 1 Axes>"
      ]
     },
     "metadata": {
      "needs_background": "light"
     },
     "output_type": "display_data"
    }
   ],
   "source": [
    "stud['score'].hist()"
   ]
  },
  {
   "cell_type": "code",
   "execution_count": null,
   "metadata": {},
   "outputs": [],
   "source": []
  },
  {
   "cell_type": "markdown",
   "metadata": {},
   "source": [
    "## Распределение признака для строковых переменных"
   ]
  },
  {
   "cell_type": "code",
   "execution_count": 143,
   "metadata": {},
   "outputs": [
    {
     "data": {
      "text/plain": [
       "17"
      ]
     },
     "execution_count": 143,
     "metadata": {},
     "output_type": "execute_result"
    }
   ],
   "source": [
    "len(other_columns)"
   ]
  },
  {
   "cell_type": "code",
   "execution_count": 144,
   "metadata": {},
   "outputs": [
    {
     "data": {
      "text/plain": [
       "['school',\n",
       " 'sex',\n",
       " 'address',\n",
       " 'famsize',\n",
       " 'pstatus',\n",
       " 'mjob',\n",
       " 'fjob',\n",
       " 'reason',\n",
       " 'guardian',\n",
       " 'schoolsup',\n",
       " 'famsup',\n",
       " 'paid',\n",
       " 'activities',\n",
       " 'nursery',\n",
       " 'higher',\n",
       " 'internet',\n",
       " 'romantic']"
      ]
     },
     "execution_count": 144,
     "metadata": {},
     "output_type": "execute_result"
    }
   ],
   "source": [
    "other_columns"
   ]
  },
  {
   "cell_type": "markdown",
   "metadata": {},
   "source": [
    "### school"
   ]
  },
  {
   "cell_type": "code",
   "execution_count": 145,
   "metadata": {},
   "outputs": [
    {
     "name": "stdout",
     "output_type": "stream",
     "text": [
      "------------------------------------------------------------\n",
      "|\t Отчет по колонке [ school ] \t\t\t\t\t\n",
      "------------------------------------------------------------\n",
      "|  Тип данных: object\n",
      "|  Заполнено значений: 395 из 395\n",
      "|  Отсутсвующие значения: 0\n",
      "|  Полнота данных: 100.0%\n",
      "|  Количество уникальных значений: 2\n",
      "|  Значений, встретившихся в столбце более 10 раз: 2\n",
      "|  Количество раз пробелы найдены:\n",
      "|    в начале строки: 0\n",
      "|    в конце  строки: 0\n",
      "|  Количество найденных специальных символов: 0\n",
      "|  Уникальные значения: ['GP' 'MS'] \n",
      "\n"
     ]
    }
   ],
   "source": [
    "column_content_analysis(['school'])"
   ]
  },
  {
   "cell_type": "code",
   "execution_count": 146,
   "metadata": {},
   "outputs": [
    {
     "data": {
      "text/plain": [
       "count     395\n",
       "unique      2\n",
       "top        GP\n",
       "freq      349\n",
       "Name: school, dtype: object"
      ]
     },
     "execution_count": 146,
     "metadata": {},
     "output_type": "execute_result"
    }
   ],
   "source": [
    "stud['school'].describe()"
   ]
  },
  {
   "cell_type": "code",
   "execution_count": 164,
   "metadata": {},
   "outputs": [
    {
     "data": {
      "text/html": [
       "<div>\n",
       "<style scoped>\n",
       "    .dataframe tbody tr th:only-of-type {\n",
       "        vertical-align: middle;\n",
       "    }\n",
       "\n",
       "    .dataframe tbody tr th {\n",
       "        vertical-align: top;\n",
       "    }\n",
       "\n",
       "    .dataframe thead th {\n",
       "        text-align: right;\n",
       "    }\n",
       "</style>\n",
       "<table border=\"1\" class=\"dataframe\">\n",
       "  <thead>\n",
       "    <tr style=\"text-align: right;\">\n",
       "      <th></th>\n",
       "      <th>school</th>\n",
       "    </tr>\n",
       "  </thead>\n",
       "  <tbody>\n",
       "    <tr>\n",
       "      <th>GP</th>\n",
       "      <td>349</td>\n",
       "    </tr>\n",
       "    <tr>\n",
       "      <th>MS</th>\n",
       "      <td>46</td>\n",
       "    </tr>\n",
       "  </tbody>\n",
       "</table>\n",
       "</div>"
      ],
      "text/plain": [
       "    school\n",
       "GP     349\n",
       "MS      46"
      ]
     },
     "metadata": {},
     "output_type": "display_data"
    }
   ],
   "source": [
    "display(pd.DataFrame(stud['school'].value_counts()))"
   ]
  },
  {
   "cell_type": "code",
   "execution_count": null,
   "metadata": {},
   "outputs": [],
   "source": []
  },
  {
   "cell_type": "markdown",
   "metadata": {},
   "source": [
    "### sex"
   ]
  },
  {
   "cell_type": "code",
   "execution_count": 147,
   "metadata": {},
   "outputs": [
    {
     "name": "stdout",
     "output_type": "stream",
     "text": [
      "------------------------------------------------------------\n",
      "|\t Отчет по колонке [ sex ] \t\t\t\t\t\n",
      "------------------------------------------------------------\n",
      "|  Тип данных: object\n",
      "|  Заполнено значений: 395 из 395\n",
      "|  Отсутсвующие значения: 0\n",
      "|  Полнота данных: 100.0%\n",
      "|  Количество уникальных значений: 2\n",
      "|  Значений, встретившихся в столбце более 10 раз: 2\n",
      "|  Количество раз пробелы найдены:\n",
      "|    в начале строки: 0\n",
      "|    в конце  строки: 0\n",
      "|  Количество найденных специальных символов: 0\n",
      "|  Уникальные значения: ['F' 'M'] \n",
      "\n"
     ]
    },
    {
     "data": {
      "text/plain": [
       "count     395\n",
       "unique      2\n",
       "top         F\n",
       "freq      208\n",
       "Name: sex, dtype: object"
      ]
     },
     "execution_count": 147,
     "metadata": {},
     "output_type": "execute_result"
    }
   ],
   "source": [
    "column_content_analysis(['sex'])\n",
    "stud['sex'].describe()"
   ]
  },
  {
   "cell_type": "code",
   "execution_count": 158,
   "metadata": {},
   "outputs": [
    {
     "data": {
      "text/html": [
       "<div>\n",
       "<style scoped>\n",
       "    .dataframe tbody tr th:only-of-type {\n",
       "        vertical-align: middle;\n",
       "    }\n",
       "\n",
       "    .dataframe tbody tr th {\n",
       "        vertical-align: top;\n",
       "    }\n",
       "\n",
       "    .dataframe thead th {\n",
       "        text-align: right;\n",
       "    }\n",
       "</style>\n",
       "<table border=\"1\" class=\"dataframe\">\n",
       "  <thead>\n",
       "    <tr style=\"text-align: right;\">\n",
       "      <th></th>\n",
       "      <th>sex</th>\n",
       "    </tr>\n",
       "  </thead>\n",
       "  <tbody>\n",
       "    <tr>\n",
       "      <th>F</th>\n",
       "      <td>208</td>\n",
       "    </tr>\n",
       "    <tr>\n",
       "      <th>M</th>\n",
       "      <td>187</td>\n",
       "    </tr>\n",
       "  </tbody>\n",
       "</table>\n",
       "</div>"
      ],
      "text/plain": [
       "   sex\n",
       "F  208\n",
       "M  187"
      ]
     },
     "metadata": {},
     "output_type": "display_data"
    }
   ],
   "source": [
    "display(pd.DataFrame(stud['sex'].value_counts()))"
   ]
  },
  {
   "cell_type": "code",
   "execution_count": null,
   "metadata": {},
   "outputs": [],
   "source": []
  },
  {
   "cell_type": "markdown",
   "metadata": {},
   "source": [
    "### address"
   ]
  },
  {
   "cell_type": "code",
   "execution_count": 161,
   "metadata": {},
   "outputs": [
    {
     "name": "stdout",
     "output_type": "stream",
     "text": [
      "------------------------------------------------------------\n",
      "|\t Отчет по колонке [ address ] \t\t\t\t\t\n",
      "------------------------------------------------------------\n",
      "|  Тип данных: object\n",
      "|  Заполнено значений: 378 из 395\n",
      "|  Отсутсвующие значения: 17\n",
      "|  Полнота данных: 95.7%\n",
      "|  Количество уникальных значений: 2\n",
      "|  Значений, встретившихся в столбце более 10 раз: 2\n",
      "|  Количество раз пробелы найдены:\n",
      "|    в начале строки: 0\n",
      "|    в конце  строки: 0\n",
      "|  Количество найденных специальных символов: 0\n",
      "|  Уникальные значения: ['U' None 'R'] \n",
      "\n"
     ]
    },
    {
     "data": {
      "text/plain": [
       "count     378\n",
       "unique      2\n",
       "top         U\n",
       "freq      295\n",
       "Name: address, dtype: object"
      ]
     },
     "execution_count": 161,
     "metadata": {},
     "output_type": "execute_result"
    }
   ],
   "source": [
    "column_content_analysis(['address'])\n",
    "stud['address'].describe()\n"
   ]
  },
  {
   "cell_type": "code",
   "execution_count": 162,
   "metadata": {},
   "outputs": [
    {
     "data": {
      "text/html": [
       "<div>\n",
       "<style scoped>\n",
       "    .dataframe tbody tr th:only-of-type {\n",
       "        vertical-align: middle;\n",
       "    }\n",
       "\n",
       "    .dataframe tbody tr th {\n",
       "        vertical-align: top;\n",
       "    }\n",
       "\n",
       "    .dataframe thead th {\n",
       "        text-align: right;\n",
       "    }\n",
       "</style>\n",
       "<table border=\"1\" class=\"dataframe\">\n",
       "  <thead>\n",
       "    <tr style=\"text-align: right;\">\n",
       "      <th></th>\n",
       "      <th>address</th>\n",
       "    </tr>\n",
       "  </thead>\n",
       "  <tbody>\n",
       "    <tr>\n",
       "      <th>U</th>\n",
       "      <td>295</td>\n",
       "    </tr>\n",
       "    <tr>\n",
       "      <th>R</th>\n",
       "      <td>83</td>\n",
       "    </tr>\n",
       "  </tbody>\n",
       "</table>\n",
       "</div>"
      ],
      "text/plain": [
       "   address\n",
       "U      295\n",
       "R       83"
      ]
     },
     "metadata": {},
     "output_type": "display_data"
    }
   ],
   "source": [
    "display(pd.DataFrame(stud['address'].value_counts()))"
   ]
  },
  {
   "cell_type": "code",
   "execution_count": null,
   "metadata": {},
   "outputs": [],
   "source": []
  },
  {
   "cell_type": "markdown",
   "metadata": {},
   "source": [
    "### famsize"
   ]
  },
  {
   "cell_type": "code",
   "execution_count": 165,
   "metadata": {},
   "outputs": [
    {
     "name": "stdout",
     "output_type": "stream",
     "text": [
      "------------------------------------------------------------\n",
      "|\t Отчет по колонке [ famsize ] \t\t\t\t\t\n",
      "------------------------------------------------------------\n",
      "|  Тип данных: object\n",
      "|  Заполнено значений: 368 из 395\n",
      "|  Отсутсвующие значения: 27\n",
      "|  Полнота данных: 93.16%\n",
      "|  Количество уникальных значений: 2\n",
      "|  Значений, встретившихся в столбце более 10 раз: 2\n",
      "|  Количество раз пробелы найдены:\n",
      "|    в начале строки: 0\n",
      "|    в конце  строки: 0\n",
      "|  Количество найденных специальных символов: 0\n",
      "|  Уникальные значения: [None 'GT3' 'LE3'] \n",
      "\n"
     ]
    },
    {
     "data": {
      "text/plain": [
       "count     368\n",
       "unique      2\n",
       "top       GT3\n",
       "freq      261\n",
       "Name: famsize, dtype: object"
      ]
     },
     "execution_count": 165,
     "metadata": {},
     "output_type": "execute_result"
    }
   ],
   "source": [
    "# famsize\n",
    "column_content_analysis(['famsize'])\n",
    "stud['famsize'].describe()"
   ]
  },
  {
   "cell_type": "code",
   "execution_count": 166,
   "metadata": {},
   "outputs": [
    {
     "data": {
      "text/html": [
       "<div>\n",
       "<style scoped>\n",
       "    .dataframe tbody tr th:only-of-type {\n",
       "        vertical-align: middle;\n",
       "    }\n",
       "\n",
       "    .dataframe tbody tr th {\n",
       "        vertical-align: top;\n",
       "    }\n",
       "\n",
       "    .dataframe thead th {\n",
       "        text-align: right;\n",
       "    }\n",
       "</style>\n",
       "<table border=\"1\" class=\"dataframe\">\n",
       "  <thead>\n",
       "    <tr style=\"text-align: right;\">\n",
       "      <th></th>\n",
       "      <th>famsize</th>\n",
       "    </tr>\n",
       "  </thead>\n",
       "  <tbody>\n",
       "    <tr>\n",
       "      <th>GT3</th>\n",
       "      <td>261</td>\n",
       "    </tr>\n",
       "    <tr>\n",
       "      <th>LE3</th>\n",
       "      <td>107</td>\n",
       "    </tr>\n",
       "  </tbody>\n",
       "</table>\n",
       "</div>"
      ],
      "text/plain": [
       "     famsize\n",
       "GT3      261\n",
       "LE3      107"
      ]
     },
     "metadata": {},
     "output_type": "display_data"
    }
   ],
   "source": [
    "display(pd.DataFrame(stud['famsize'].value_counts()))"
   ]
  },
  {
   "cell_type": "code",
   "execution_count": null,
   "metadata": {},
   "outputs": [],
   "source": []
  },
  {
   "cell_type": "markdown",
   "metadata": {},
   "source": [
    "### pstatus"
   ]
  },
  {
   "cell_type": "code",
   "execution_count": 167,
   "metadata": {},
   "outputs": [
    {
     "name": "stdout",
     "output_type": "stream",
     "text": [
      "------------------------------------------------------------\n",
      "|\t Отчет по колонке [ pstatus ] \t\t\t\t\t\n",
      "------------------------------------------------------------\n",
      "|  Тип данных: object\n",
      "|  Заполнено значений: 350 из 395\n",
      "|  Отсутсвующие значения: 45\n",
      "|  Полнота данных: 88.61%\n",
      "|  Количество уникальных значений: 2\n",
      "|  Значений, встретившихся в столбце более 10 раз: 2\n",
      "|  Количество раз пробелы найдены:\n",
      "|    в начале строки: 0\n",
      "|    в конце  строки: 0\n",
      "|  Количество найденных специальных символов: 0\n",
      "|  Уникальные значения: ['A' None 'T'] \n",
      "\n"
     ]
    },
    {
     "data": {
      "text/plain": [
       "count     350\n",
       "unique      2\n",
       "top         T\n",
       "freq      314\n",
       "Name: pstatus, dtype: object"
      ]
     },
     "execution_count": 167,
     "metadata": {},
     "output_type": "execute_result"
    }
   ],
   "source": [
    "# pstatus\n",
    "column_content_analysis(['pstatus'])\n",
    "stud['pstatus'].describe()"
   ]
  },
  {
   "cell_type": "code",
   "execution_count": 168,
   "metadata": {},
   "outputs": [
    {
     "data": {
      "text/html": [
       "<div>\n",
       "<style scoped>\n",
       "    .dataframe tbody tr th:only-of-type {\n",
       "        vertical-align: middle;\n",
       "    }\n",
       "\n",
       "    .dataframe tbody tr th {\n",
       "        vertical-align: top;\n",
       "    }\n",
       "\n",
       "    .dataframe thead th {\n",
       "        text-align: right;\n",
       "    }\n",
       "</style>\n",
       "<table border=\"1\" class=\"dataframe\">\n",
       "  <thead>\n",
       "    <tr style=\"text-align: right;\">\n",
       "      <th></th>\n",
       "      <th>pstatus</th>\n",
       "    </tr>\n",
       "  </thead>\n",
       "  <tbody>\n",
       "    <tr>\n",
       "      <th>T</th>\n",
       "      <td>314</td>\n",
       "    </tr>\n",
       "    <tr>\n",
       "      <th>A</th>\n",
       "      <td>36</td>\n",
       "    </tr>\n",
       "  </tbody>\n",
       "</table>\n",
       "</div>"
      ],
      "text/plain": [
       "   pstatus\n",
       "T      314\n",
       "A       36"
      ]
     },
     "metadata": {},
     "output_type": "display_data"
    }
   ],
   "source": [
    "display(pd.DataFrame(stud['pstatus'].value_counts()))"
   ]
  },
  {
   "cell_type": "code",
   "execution_count": null,
   "metadata": {},
   "outputs": [],
   "source": []
  },
  {
   "cell_type": "markdown",
   "metadata": {},
   "source": [
    "### mjob"
   ]
  },
  {
   "cell_type": "code",
   "execution_count": 169,
   "metadata": {},
   "outputs": [
    {
     "name": "stdout",
     "output_type": "stream",
     "text": [
      "------------------------------------------------------------\n",
      "|\t Отчет по колонке [ mjob ] \t\t\t\t\t\n",
      "------------------------------------------------------------\n",
      "|  Тип данных: object\n",
      "|  Заполнено значений: 376 из 395\n",
      "|  Отсутсвующие значения: 19\n",
      "|  Полнота данных: 95.19%\n",
      "|  Количество уникальных значений: 5\n",
      "|  Значений, встретившихся в столбце более 10 раз: 5\n",
      "|  Количество раз пробелы найдены:\n",
      "|    в начале строки: 0\n",
      "|    в конце  строки: 0\n",
      "|  Количество найденных специальных символов: 0\n",
      "|  Уникальные значения: ['at_home' 'health' 'other' 'services' 'teacher' None] \n",
      "\n"
     ]
    },
    {
     "data": {
      "text/plain": [
       "count       376\n",
       "unique        5\n",
       "top       other\n",
       "freq        133\n",
       "Name: mjob, dtype: object"
      ]
     },
     "execution_count": 169,
     "metadata": {},
     "output_type": "execute_result"
    }
   ],
   "source": [
    "# mjob\n",
    "column_content_analysis(['mjob'])\n",
    "stud['mjob'].describe()"
   ]
  },
  {
   "cell_type": "code",
   "execution_count": 170,
   "metadata": {},
   "outputs": [
    {
     "data": {
      "text/html": [
       "<div>\n",
       "<style scoped>\n",
       "    .dataframe tbody tr th:only-of-type {\n",
       "        vertical-align: middle;\n",
       "    }\n",
       "\n",
       "    .dataframe tbody tr th {\n",
       "        vertical-align: top;\n",
       "    }\n",
       "\n",
       "    .dataframe thead th {\n",
       "        text-align: right;\n",
       "    }\n",
       "</style>\n",
       "<table border=\"1\" class=\"dataframe\">\n",
       "  <thead>\n",
       "    <tr style=\"text-align: right;\">\n",
       "      <th></th>\n",
       "      <th>mjob</th>\n",
       "    </tr>\n",
       "  </thead>\n",
       "  <tbody>\n",
       "    <tr>\n",
       "      <th>other</th>\n",
       "      <td>133</td>\n",
       "    </tr>\n",
       "    <tr>\n",
       "      <th>services</th>\n",
       "      <td>98</td>\n",
       "    </tr>\n",
       "    <tr>\n",
       "      <th>at_home</th>\n",
       "      <td>58</td>\n",
       "    </tr>\n",
       "    <tr>\n",
       "      <th>teacher</th>\n",
       "      <td>55</td>\n",
       "    </tr>\n",
       "    <tr>\n",
       "      <th>health</th>\n",
       "      <td>32</td>\n",
       "    </tr>\n",
       "  </tbody>\n",
       "</table>\n",
       "</div>"
      ],
      "text/plain": [
       "          mjob\n",
       "other      133\n",
       "services    98\n",
       "at_home     58\n",
       "teacher     55\n",
       "health      32"
      ]
     },
     "metadata": {},
     "output_type": "display_data"
    }
   ],
   "source": [
    "display(pd.DataFrame(stud['mjob'].value_counts()))"
   ]
  },
  {
   "cell_type": "code",
   "execution_count": null,
   "metadata": {},
   "outputs": [],
   "source": []
  },
  {
   "cell_type": "markdown",
   "metadata": {},
   "source": [
    "### fjob"
   ]
  },
  {
   "cell_type": "code",
   "execution_count": 171,
   "metadata": {},
   "outputs": [
    {
     "name": "stdout",
     "output_type": "stream",
     "text": [
      "------------------------------------------------------------\n",
      "|\t Отчет по колонке [ fjob ] \t\t\t\t\t\n",
      "------------------------------------------------------------\n",
      "|  Тип данных: object\n",
      "|  Заполнено значений: 359 из 395\n",
      "|  Отсутсвующие значения: 36\n",
      "|  Полнота данных: 90.89%\n",
      "|  Количество уникальных значений: 5\n",
      "|  Значений, встретившихся в столбце более 10 раз: 5\n",
      "|  Количество раз пробелы найдены:\n",
      "|    в начале строки: 0\n",
      "|    в конце  строки: 0\n",
      "|  Количество найденных специальных символов: 0\n",
      "|  Уникальные значения: ['teacher' 'other' None 'health' 'services' 'at_home'] \n",
      "\n"
     ]
    },
    {
     "data": {
      "text/plain": [
       "count       359\n",
       "unique        5\n",
       "top       other\n",
       "freq        197\n",
       "Name: fjob, dtype: object"
      ]
     },
     "execution_count": 171,
     "metadata": {},
     "output_type": "execute_result"
    }
   ],
   "source": [
    "# fjob\n",
    "column_content_analysis(['fjob'])\n",
    "stud['fjob'].describe()"
   ]
  },
  {
   "cell_type": "code",
   "execution_count": 172,
   "metadata": {},
   "outputs": [
    {
     "data": {
      "text/html": [
       "<div>\n",
       "<style scoped>\n",
       "    .dataframe tbody tr th:only-of-type {\n",
       "        vertical-align: middle;\n",
       "    }\n",
       "\n",
       "    .dataframe tbody tr th {\n",
       "        vertical-align: top;\n",
       "    }\n",
       "\n",
       "    .dataframe thead th {\n",
       "        text-align: right;\n",
       "    }\n",
       "</style>\n",
       "<table border=\"1\" class=\"dataframe\">\n",
       "  <thead>\n",
       "    <tr style=\"text-align: right;\">\n",
       "      <th></th>\n",
       "      <th>fjob</th>\n",
       "    </tr>\n",
       "  </thead>\n",
       "  <tbody>\n",
       "    <tr>\n",
       "      <th>other</th>\n",
       "      <td>197</td>\n",
       "    </tr>\n",
       "    <tr>\n",
       "      <th>services</th>\n",
       "      <td>102</td>\n",
       "    </tr>\n",
       "    <tr>\n",
       "      <th>teacher</th>\n",
       "      <td>29</td>\n",
       "    </tr>\n",
       "    <tr>\n",
       "      <th>at_home</th>\n",
       "      <td>16</td>\n",
       "    </tr>\n",
       "    <tr>\n",
       "      <th>health</th>\n",
       "      <td>15</td>\n",
       "    </tr>\n",
       "  </tbody>\n",
       "</table>\n",
       "</div>"
      ],
      "text/plain": [
       "          fjob\n",
       "other      197\n",
       "services   102\n",
       "teacher     29\n",
       "at_home     16\n",
       "health      15"
      ]
     },
     "metadata": {},
     "output_type": "display_data"
    }
   ],
   "source": [
    "display(pd.DataFrame(stud['fjob'].value_counts()))"
   ]
  },
  {
   "cell_type": "code",
   "execution_count": null,
   "metadata": {},
   "outputs": [],
   "source": []
  },
  {
   "cell_type": "markdown",
   "metadata": {},
   "source": [
    "### reason"
   ]
  },
  {
   "cell_type": "code",
   "execution_count": 173,
   "metadata": {},
   "outputs": [
    {
     "name": "stdout",
     "output_type": "stream",
     "text": [
      "------------------------------------------------------------\n",
      "|\t Отчет по колонке [ reason ] \t\t\t\t\t\n",
      "------------------------------------------------------------\n",
      "|  Тип данных: object\n",
      "|  Заполнено значений: 378 из 395\n",
      "|  Отсутсвующие значения: 17\n",
      "|  Полнота данных: 95.7%\n",
      "|  Количество уникальных значений: 4\n",
      "|  Значений, встретившихся в столбце более 10 раз: 4\n",
      "|  Количество раз пробелы найдены:\n",
      "|    в начале строки: 0\n",
      "|    в конце  строки: 0\n",
      "|  Количество найденных специальных символов: 0\n",
      "|  Уникальные значения: ['course' 'other' 'home' 'reputation' None] \n",
      "\n"
     ]
    },
    {
     "data": {
      "text/plain": [
       "count        378\n",
       "unique         4\n",
       "top       course\n",
       "freq         137\n",
       "Name: reason, dtype: object"
      ]
     },
     "execution_count": 173,
     "metadata": {},
     "output_type": "execute_result"
    }
   ],
   "source": [
    "# reason\n",
    "column_content_analysis(['reason'])\n",
    "stud['reason'].describe()"
   ]
  },
  {
   "cell_type": "code",
   "execution_count": 174,
   "metadata": {},
   "outputs": [
    {
     "data": {
      "text/html": [
       "<div>\n",
       "<style scoped>\n",
       "    .dataframe tbody tr th:only-of-type {\n",
       "        vertical-align: middle;\n",
       "    }\n",
       "\n",
       "    .dataframe tbody tr th {\n",
       "        vertical-align: top;\n",
       "    }\n",
       "\n",
       "    .dataframe thead th {\n",
       "        text-align: right;\n",
       "    }\n",
       "</style>\n",
       "<table border=\"1\" class=\"dataframe\">\n",
       "  <thead>\n",
       "    <tr style=\"text-align: right;\">\n",
       "      <th></th>\n",
       "      <th>reason</th>\n",
       "    </tr>\n",
       "  </thead>\n",
       "  <tbody>\n",
       "    <tr>\n",
       "      <th>course</th>\n",
       "      <td>137</td>\n",
       "    </tr>\n",
       "    <tr>\n",
       "      <th>home</th>\n",
       "      <td>104</td>\n",
       "    </tr>\n",
       "    <tr>\n",
       "      <th>reputation</th>\n",
       "      <td>103</td>\n",
       "    </tr>\n",
       "    <tr>\n",
       "      <th>other</th>\n",
       "      <td>34</td>\n",
       "    </tr>\n",
       "  </tbody>\n",
       "</table>\n",
       "</div>"
      ],
      "text/plain": [
       "            reason\n",
       "course         137\n",
       "home           104\n",
       "reputation     103\n",
       "other           34"
      ]
     },
     "metadata": {},
     "output_type": "display_data"
    }
   ],
   "source": [
    "display(pd.DataFrame(stud['reason'].value_counts()))"
   ]
  },
  {
   "cell_type": "code",
   "execution_count": null,
   "metadata": {},
   "outputs": [],
   "source": []
  },
  {
   "cell_type": "markdown",
   "metadata": {},
   "source": [
    "### guardian"
   ]
  },
  {
   "cell_type": "code",
   "execution_count": 175,
   "metadata": {},
   "outputs": [
    {
     "name": "stdout",
     "output_type": "stream",
     "text": [
      "------------------------------------------------------------\n",
      "|\t Отчет по колонке [ guardian ] \t\t\t\t\t\n",
      "------------------------------------------------------------\n",
      "|  Тип данных: object\n",
      "|  Заполнено значений: 364 из 395\n",
      "|  Отсутсвующие значения: 31\n",
      "|  Полнота данных: 92.15%\n",
      "|  Количество уникальных значений: 3\n",
      "|  Значений, встретившихся в столбце более 10 раз: 3\n",
      "|  Количество раз пробелы найдены:\n",
      "|    в начале строки: 0\n",
      "|    в конце  строки: 0\n",
      "|  Количество найденных специальных символов: 0\n",
      "|  Уникальные значения: ['mother' 'father' 'other' None] \n",
      "\n"
     ]
    },
    {
     "data": {
      "text/plain": [
       "count        364\n",
       "unique         3\n",
       "top       mother\n",
       "freq         250\n",
       "Name: guardian, dtype: object"
      ]
     },
     "execution_count": 175,
     "metadata": {},
     "output_type": "execute_result"
    }
   ],
   "source": [
    "# guardian\n",
    "column_content_analysis(['guardian'])\n",
    "stud['guardian'].describe()"
   ]
  },
  {
   "cell_type": "code",
   "execution_count": 176,
   "metadata": {},
   "outputs": [
    {
     "data": {
      "text/html": [
       "<div>\n",
       "<style scoped>\n",
       "    .dataframe tbody tr th:only-of-type {\n",
       "        vertical-align: middle;\n",
       "    }\n",
       "\n",
       "    .dataframe tbody tr th {\n",
       "        vertical-align: top;\n",
       "    }\n",
       "\n",
       "    .dataframe thead th {\n",
       "        text-align: right;\n",
       "    }\n",
       "</style>\n",
       "<table border=\"1\" class=\"dataframe\">\n",
       "  <thead>\n",
       "    <tr style=\"text-align: right;\">\n",
       "      <th></th>\n",
       "      <th>guardian</th>\n",
       "    </tr>\n",
       "  </thead>\n",
       "  <tbody>\n",
       "    <tr>\n",
       "      <th>mother</th>\n",
       "      <td>250</td>\n",
       "    </tr>\n",
       "    <tr>\n",
       "      <th>father</th>\n",
       "      <td>86</td>\n",
       "    </tr>\n",
       "    <tr>\n",
       "      <th>other</th>\n",
       "      <td>28</td>\n",
       "    </tr>\n",
       "  </tbody>\n",
       "</table>\n",
       "</div>"
      ],
      "text/plain": [
       "        guardian\n",
       "mother       250\n",
       "father        86\n",
       "other         28"
      ]
     },
     "metadata": {},
     "output_type": "display_data"
    }
   ],
   "source": [
    "display(pd.DataFrame(stud['guardian'].value_counts()))"
   ]
  },
  {
   "cell_type": "code",
   "execution_count": null,
   "metadata": {},
   "outputs": [],
   "source": []
  },
  {
   "cell_type": "markdown",
   "metadata": {},
   "source": [
    "### schoolsup"
   ]
  },
  {
   "cell_type": "code",
   "execution_count": 177,
   "metadata": {},
   "outputs": [
    {
     "name": "stdout",
     "output_type": "stream",
     "text": [
      "------------------------------------------------------------\n",
      "|\t Отчет по колонке [ schoolsup ] \t\t\t\t\t\n",
      "------------------------------------------------------------\n",
      "|  Тип данных: object\n",
      "|  Заполнено значений: 386 из 395\n",
      "|  Отсутсвующие значения: 9\n",
      "|  Полнота данных: 97.72%\n",
      "|  Количество уникальных значений: 2\n",
      "|  Значений, встретившихся в столбце более 10 раз: 2\n",
      "|  Количество раз пробелы найдены:\n",
      "|    в начале строки: 0\n",
      "|    в конце  строки: 0\n",
      "|  Количество найденных специальных символов: 0\n",
      "|  Уникальные значения: ['yes' 'no' None] \n",
      "\n"
     ]
    },
    {
     "data": {
      "text/plain": [
       "count     386\n",
       "unique      2\n",
       "top        no\n",
       "freq      335\n",
       "Name: schoolsup, dtype: object"
      ]
     },
     "execution_count": 177,
     "metadata": {},
     "output_type": "execute_result"
    }
   ],
   "source": [
    "# schoolsup\n",
    "column_content_analysis(['schoolsup'])\n",
    "stud['schoolsup'].describe()"
   ]
  },
  {
   "cell_type": "code",
   "execution_count": 178,
   "metadata": {},
   "outputs": [
    {
     "data": {
      "text/html": [
       "<div>\n",
       "<style scoped>\n",
       "    .dataframe tbody tr th:only-of-type {\n",
       "        vertical-align: middle;\n",
       "    }\n",
       "\n",
       "    .dataframe tbody tr th {\n",
       "        vertical-align: top;\n",
       "    }\n",
       "\n",
       "    .dataframe thead th {\n",
       "        text-align: right;\n",
       "    }\n",
       "</style>\n",
       "<table border=\"1\" class=\"dataframe\">\n",
       "  <thead>\n",
       "    <tr style=\"text-align: right;\">\n",
       "      <th></th>\n",
       "      <th>schoolsup</th>\n",
       "    </tr>\n",
       "  </thead>\n",
       "  <tbody>\n",
       "    <tr>\n",
       "      <th>no</th>\n",
       "      <td>335</td>\n",
       "    </tr>\n",
       "    <tr>\n",
       "      <th>yes</th>\n",
       "      <td>51</td>\n",
       "    </tr>\n",
       "  </tbody>\n",
       "</table>\n",
       "</div>"
      ],
      "text/plain": [
       "     schoolsup\n",
       "no         335\n",
       "yes         51"
      ]
     },
     "metadata": {},
     "output_type": "display_data"
    }
   ],
   "source": [
    "display(pd.DataFrame(stud['schoolsup'].value_counts()))"
   ]
  },
  {
   "cell_type": "code",
   "execution_count": null,
   "metadata": {},
   "outputs": [],
   "source": []
  },
  {
   "cell_type": "markdown",
   "metadata": {},
   "source": [
    "### famsup"
   ]
  },
  {
   "cell_type": "code",
   "execution_count": 179,
   "metadata": {},
   "outputs": [
    {
     "name": "stdout",
     "output_type": "stream",
     "text": [
      "------------------------------------------------------------\n",
      "|\t Отчет по колонке [ famsup ] \t\t\t\t\t\n",
      "------------------------------------------------------------\n",
      "|  Тип данных: object\n",
      "|  Заполнено значений: 356 из 395\n",
      "|  Отсутсвующие значения: 39\n",
      "|  Полнота данных: 90.13%\n",
      "|  Количество уникальных значений: 2\n",
      "|  Значений, встретившихся в столбце более 10 раз: 2\n",
      "|  Количество раз пробелы найдены:\n",
      "|    в начале строки: 0\n",
      "|    в конце  строки: 0\n",
      "|  Количество найденных специальных символов: 0\n",
      "|  Уникальные значения: ['no' 'yes' None] \n",
      "\n"
     ]
    },
    {
     "data": {
      "text/plain": [
       "count     356\n",
       "unique      2\n",
       "top       yes\n",
       "freq      219\n",
       "Name: famsup, dtype: object"
      ]
     },
     "execution_count": 179,
     "metadata": {},
     "output_type": "execute_result"
    }
   ],
   "source": [
    "# famsup\n",
    "column_content_analysis(['famsup'])\n",
    "stud['famsup'].describe()"
   ]
  },
  {
   "cell_type": "code",
   "execution_count": 180,
   "metadata": {},
   "outputs": [
    {
     "data": {
      "text/html": [
       "<div>\n",
       "<style scoped>\n",
       "    .dataframe tbody tr th:only-of-type {\n",
       "        vertical-align: middle;\n",
       "    }\n",
       "\n",
       "    .dataframe tbody tr th {\n",
       "        vertical-align: top;\n",
       "    }\n",
       "\n",
       "    .dataframe thead th {\n",
       "        text-align: right;\n",
       "    }\n",
       "</style>\n",
       "<table border=\"1\" class=\"dataframe\">\n",
       "  <thead>\n",
       "    <tr style=\"text-align: right;\">\n",
       "      <th></th>\n",
       "      <th>famsup</th>\n",
       "    </tr>\n",
       "  </thead>\n",
       "  <tbody>\n",
       "    <tr>\n",
       "      <th>yes</th>\n",
       "      <td>219</td>\n",
       "    </tr>\n",
       "    <tr>\n",
       "      <th>no</th>\n",
       "      <td>137</td>\n",
       "    </tr>\n",
       "  </tbody>\n",
       "</table>\n",
       "</div>"
      ],
      "text/plain": [
       "     famsup\n",
       "yes     219\n",
       "no      137"
      ]
     },
     "metadata": {},
     "output_type": "display_data"
    }
   ],
   "source": [
    "display(pd.DataFrame(stud['famsup'].value_counts()))"
   ]
  },
  {
   "cell_type": "code",
   "execution_count": null,
   "metadata": {},
   "outputs": [],
   "source": []
  },
  {
   "cell_type": "markdown",
   "metadata": {},
   "source": [
    "### paid"
   ]
  },
  {
   "cell_type": "code",
   "execution_count": 181,
   "metadata": {},
   "outputs": [
    {
     "name": "stdout",
     "output_type": "stream",
     "text": [
      "------------------------------------------------------------\n",
      "|\t Отчет по колонке [ paid ] \t\t\t\t\t\n",
      "------------------------------------------------------------\n",
      "|  Тип данных: object\n",
      "|  Заполнено значений: 355 из 395\n",
      "|  Отсутсвующие значения: 40\n",
      "|  Полнота данных: 89.87%\n",
      "|  Количество уникальных значений: 2\n",
      "|  Значений, встретившихся в столбце более 10 раз: 2\n",
      "|  Количество раз пробелы найдены:\n",
      "|    в начале строки: 0\n",
      "|    в конце  строки: 0\n",
      "|  Количество найденных специальных символов: 0\n",
      "|  Уникальные значения: ['no' None 'yes'] \n",
      "\n"
     ]
    },
    {
     "data": {
      "text/plain": [
       "count     355\n",
       "unique      2\n",
       "top        no\n",
       "freq      200\n",
       "Name: paid, dtype: object"
      ]
     },
     "execution_count": 181,
     "metadata": {},
     "output_type": "execute_result"
    }
   ],
   "source": [
    "# paid\n",
    "column_content_analysis(['paid'])\n",
    "stud['paid'].describe()"
   ]
  },
  {
   "cell_type": "code",
   "execution_count": 182,
   "metadata": {},
   "outputs": [
    {
     "data": {
      "text/html": [
       "<div>\n",
       "<style scoped>\n",
       "    .dataframe tbody tr th:only-of-type {\n",
       "        vertical-align: middle;\n",
       "    }\n",
       "\n",
       "    .dataframe tbody tr th {\n",
       "        vertical-align: top;\n",
       "    }\n",
       "\n",
       "    .dataframe thead th {\n",
       "        text-align: right;\n",
       "    }\n",
       "</style>\n",
       "<table border=\"1\" class=\"dataframe\">\n",
       "  <thead>\n",
       "    <tr style=\"text-align: right;\">\n",
       "      <th></th>\n",
       "      <th>paid</th>\n",
       "    </tr>\n",
       "  </thead>\n",
       "  <tbody>\n",
       "    <tr>\n",
       "      <th>no</th>\n",
       "      <td>200</td>\n",
       "    </tr>\n",
       "    <tr>\n",
       "      <th>yes</th>\n",
       "      <td>155</td>\n",
       "    </tr>\n",
       "  </tbody>\n",
       "</table>\n",
       "</div>"
      ],
      "text/plain": [
       "     paid\n",
       "no    200\n",
       "yes   155"
      ]
     },
     "metadata": {},
     "output_type": "display_data"
    }
   ],
   "source": [
    "display(pd.DataFrame(stud['paid'].value_counts()))"
   ]
  },
  {
   "cell_type": "code",
   "execution_count": null,
   "metadata": {},
   "outputs": [],
   "source": []
  },
  {
   "cell_type": "markdown",
   "metadata": {},
   "source": [
    "### activities"
   ]
  },
  {
   "cell_type": "code",
   "execution_count": 183,
   "metadata": {},
   "outputs": [
    {
     "name": "stdout",
     "output_type": "stream",
     "text": [
      "------------------------------------------------------------\n",
      "|\t Отчет по колонке [ activities ] \t\t\t\t\t\n",
      "------------------------------------------------------------\n",
      "|  Тип данных: object\n",
      "|  Заполнено значений: 381 из 395\n",
      "|  Отсутсвующие значения: 14\n",
      "|  Полнота данных: 96.46%\n",
      "|  Количество уникальных значений: 2\n",
      "|  Значений, встретившихся в столбце более 10 раз: 2\n",
      "|  Количество раз пробелы найдены:\n",
      "|    в начале строки: 0\n",
      "|    в конце  строки: 0\n",
      "|  Количество найденных специальных символов: 0\n",
      "|  Уникальные значения: ['no' 'yes' None] \n",
      "\n"
     ]
    },
    {
     "data": {
      "text/plain": [
       "count     381\n",
       "unique      2\n",
       "top       yes\n",
       "freq      195\n",
       "Name: activities, dtype: object"
      ]
     },
     "execution_count": 183,
     "metadata": {},
     "output_type": "execute_result"
    }
   ],
   "source": [
    "# activities\n",
    "column_content_analysis(['activities'])\n",
    "stud['activities'].describe()"
   ]
  },
  {
   "cell_type": "code",
   "execution_count": 184,
   "metadata": {},
   "outputs": [
    {
     "data": {
      "text/html": [
       "<div>\n",
       "<style scoped>\n",
       "    .dataframe tbody tr th:only-of-type {\n",
       "        vertical-align: middle;\n",
       "    }\n",
       "\n",
       "    .dataframe tbody tr th {\n",
       "        vertical-align: top;\n",
       "    }\n",
       "\n",
       "    .dataframe thead th {\n",
       "        text-align: right;\n",
       "    }\n",
       "</style>\n",
       "<table border=\"1\" class=\"dataframe\">\n",
       "  <thead>\n",
       "    <tr style=\"text-align: right;\">\n",
       "      <th></th>\n",
       "      <th>activities</th>\n",
       "    </tr>\n",
       "  </thead>\n",
       "  <tbody>\n",
       "    <tr>\n",
       "      <th>yes</th>\n",
       "      <td>195</td>\n",
       "    </tr>\n",
       "    <tr>\n",
       "      <th>no</th>\n",
       "      <td>186</td>\n",
       "    </tr>\n",
       "  </tbody>\n",
       "</table>\n",
       "</div>"
      ],
      "text/plain": [
       "     activities\n",
       "yes         195\n",
       "no          186"
      ]
     },
     "metadata": {},
     "output_type": "display_data"
    }
   ],
   "source": [
    "display(pd.DataFrame(stud['activities'].value_counts()))"
   ]
  },
  {
   "cell_type": "code",
   "execution_count": null,
   "metadata": {},
   "outputs": [],
   "source": []
  },
  {
   "cell_type": "markdown",
   "metadata": {},
   "source": [
    "### nursery"
   ]
  },
  {
   "cell_type": "code",
   "execution_count": 185,
   "metadata": {},
   "outputs": [
    {
     "name": "stdout",
     "output_type": "stream",
     "text": [
      "------------------------------------------------------------\n",
      "|\t Отчет по колонке [ nursery ] \t\t\t\t\t\n",
      "------------------------------------------------------------\n",
      "|  Тип данных: object\n",
      "|  Заполнено значений: 379 из 395\n",
      "|  Отсутсвующие значения: 16\n",
      "|  Полнота данных: 95.95%\n",
      "|  Количество уникальных значений: 2\n",
      "|  Значений, встретившихся в столбце более 10 раз: 2\n",
      "|  Количество раз пробелы найдены:\n",
      "|    в начале строки: 0\n",
      "|    в конце  строки: 0\n",
      "|  Количество найденных специальных символов: 0\n",
      "|  Уникальные значения: ['yes' 'no' None] \n",
      "\n"
     ]
    },
    {
     "data": {
      "text/plain": [
       "count     379\n",
       "unique      2\n",
       "top       yes\n",
       "freq      300\n",
       "Name: nursery, dtype: object"
      ]
     },
     "execution_count": 185,
     "metadata": {},
     "output_type": "execute_result"
    }
   ],
   "source": [
    "# nursery\n",
    "column_content_analysis(['nursery'])\n",
    "stud['nursery'].describe()"
   ]
  },
  {
   "cell_type": "code",
   "execution_count": 186,
   "metadata": {},
   "outputs": [
    {
     "data": {
      "text/html": [
       "<div>\n",
       "<style scoped>\n",
       "    .dataframe tbody tr th:only-of-type {\n",
       "        vertical-align: middle;\n",
       "    }\n",
       "\n",
       "    .dataframe tbody tr th {\n",
       "        vertical-align: top;\n",
       "    }\n",
       "\n",
       "    .dataframe thead th {\n",
       "        text-align: right;\n",
       "    }\n",
       "</style>\n",
       "<table border=\"1\" class=\"dataframe\">\n",
       "  <thead>\n",
       "    <tr style=\"text-align: right;\">\n",
       "      <th></th>\n",
       "      <th>nursery</th>\n",
       "    </tr>\n",
       "  </thead>\n",
       "  <tbody>\n",
       "    <tr>\n",
       "      <th>yes</th>\n",
       "      <td>300</td>\n",
       "    </tr>\n",
       "    <tr>\n",
       "      <th>no</th>\n",
       "      <td>79</td>\n",
       "    </tr>\n",
       "  </tbody>\n",
       "</table>\n",
       "</div>"
      ],
      "text/plain": [
       "     nursery\n",
       "yes      300\n",
       "no        79"
      ]
     },
     "metadata": {},
     "output_type": "display_data"
    }
   ],
   "source": [
    "display(pd.DataFrame(stud['nursery'].value_counts()))"
   ]
  },
  {
   "cell_type": "code",
   "execution_count": null,
   "metadata": {},
   "outputs": [],
   "source": []
  },
  {
   "cell_type": "markdown",
   "metadata": {},
   "source": [
    "### higher"
   ]
  },
  {
   "cell_type": "code",
   "execution_count": 187,
   "metadata": {},
   "outputs": [
    {
     "name": "stdout",
     "output_type": "stream",
     "text": [
      "------------------------------------------------------------\n",
      "|\t Отчет по колонке [ higher ] \t\t\t\t\t\n",
      "------------------------------------------------------------\n",
      "|  Тип данных: object\n",
      "|  Заполнено значений: 375 из 395\n",
      "|  Отсутсвующие значения: 20\n",
      "|  Полнота данных: 94.94%\n",
      "|  Количество уникальных значений: 2\n",
      "|  Значений, встретившихся в столбце более 10 раз: 2\n",
      "|  Количество раз пробелы найдены:\n",
      "|    в начале строки: 0\n",
      "|    в конце  строки: 0\n",
      "|  Количество найденных специальных символов: 0\n",
      "|  Уникальные значения: ['yes' None 'no'] \n",
      "\n"
     ]
    },
    {
     "data": {
      "text/plain": [
       "count     375\n",
       "unique      2\n",
       "top       yes\n",
       "freq      356\n",
       "Name: higher, dtype: object"
      ]
     },
     "execution_count": 187,
     "metadata": {},
     "output_type": "execute_result"
    }
   ],
   "source": [
    "# higher\n",
    "column_content_analysis(['higher'])\n",
    "stud['higher'].describe()"
   ]
  },
  {
   "cell_type": "code",
   "execution_count": 188,
   "metadata": {},
   "outputs": [
    {
     "data": {
      "text/html": [
       "<div>\n",
       "<style scoped>\n",
       "    .dataframe tbody tr th:only-of-type {\n",
       "        vertical-align: middle;\n",
       "    }\n",
       "\n",
       "    .dataframe tbody tr th {\n",
       "        vertical-align: top;\n",
       "    }\n",
       "\n",
       "    .dataframe thead th {\n",
       "        text-align: right;\n",
       "    }\n",
       "</style>\n",
       "<table border=\"1\" class=\"dataframe\">\n",
       "  <thead>\n",
       "    <tr style=\"text-align: right;\">\n",
       "      <th></th>\n",
       "      <th>higher</th>\n",
       "    </tr>\n",
       "  </thead>\n",
       "  <tbody>\n",
       "    <tr>\n",
       "      <th>yes</th>\n",
       "      <td>356</td>\n",
       "    </tr>\n",
       "    <tr>\n",
       "      <th>no</th>\n",
       "      <td>19</td>\n",
       "    </tr>\n",
       "  </tbody>\n",
       "</table>\n",
       "</div>"
      ],
      "text/plain": [
       "     higher\n",
       "yes     356\n",
       "no       19"
      ]
     },
     "metadata": {},
     "output_type": "display_data"
    }
   ],
   "source": [
    "display(pd.DataFrame(stud['higher'].value_counts()))"
   ]
  },
  {
   "cell_type": "code",
   "execution_count": null,
   "metadata": {},
   "outputs": [],
   "source": []
  },
  {
   "cell_type": "markdown",
   "metadata": {},
   "source": [
    "### internet"
   ]
  },
  {
   "cell_type": "code",
   "execution_count": 189,
   "metadata": {},
   "outputs": [
    {
     "name": "stdout",
     "output_type": "stream",
     "text": [
      "------------------------------------------------------------\n",
      "|\t Отчет по колонке [ internet ] \t\t\t\t\t\n",
      "------------------------------------------------------------\n",
      "|  Тип данных: object\n",
      "|  Заполнено значений: 361 из 395\n",
      "|  Отсутсвующие значения: 34\n",
      "|  Полнота данных: 91.39%\n",
      "|  Количество уникальных значений: 2\n",
      "|  Значений, встретившихся в столбце более 10 раз: 2\n",
      "|  Количество раз пробелы найдены:\n",
      "|    в начале строки: 0\n",
      "|    в конце  строки: 0\n",
      "|  Количество найденных специальных символов: 0\n",
      "|  Уникальные значения: [None 'yes' 'no'] \n",
      "\n"
     ]
    },
    {
     "data": {
      "text/plain": [
       "count     361\n",
       "unique      2\n",
       "top       yes\n",
       "freq      305\n",
       "Name: internet, dtype: object"
      ]
     },
     "execution_count": 189,
     "metadata": {},
     "output_type": "execute_result"
    }
   ],
   "source": [
    "# internet\n",
    "column_content_analysis(['internet'])\n",
    "stud['internet'].describe()"
   ]
  },
  {
   "cell_type": "code",
   "execution_count": 190,
   "metadata": {},
   "outputs": [
    {
     "data": {
      "text/html": [
       "<div>\n",
       "<style scoped>\n",
       "    .dataframe tbody tr th:only-of-type {\n",
       "        vertical-align: middle;\n",
       "    }\n",
       "\n",
       "    .dataframe tbody tr th {\n",
       "        vertical-align: top;\n",
       "    }\n",
       "\n",
       "    .dataframe thead th {\n",
       "        text-align: right;\n",
       "    }\n",
       "</style>\n",
       "<table border=\"1\" class=\"dataframe\">\n",
       "  <thead>\n",
       "    <tr style=\"text-align: right;\">\n",
       "      <th></th>\n",
       "      <th>internet</th>\n",
       "    </tr>\n",
       "  </thead>\n",
       "  <tbody>\n",
       "    <tr>\n",
       "      <th>yes</th>\n",
       "      <td>305</td>\n",
       "    </tr>\n",
       "    <tr>\n",
       "      <th>no</th>\n",
       "      <td>56</td>\n",
       "    </tr>\n",
       "  </tbody>\n",
       "</table>\n",
       "</div>"
      ],
      "text/plain": [
       "     internet\n",
       "yes       305\n",
       "no         56"
      ]
     },
     "metadata": {},
     "output_type": "display_data"
    }
   ],
   "source": [
    "display(pd.DataFrame(stud['internet'].value_counts()))"
   ]
  },
  {
   "cell_type": "code",
   "execution_count": null,
   "metadata": {},
   "outputs": [],
   "source": []
  },
  {
   "cell_type": "markdown",
   "metadata": {},
   "source": [
    "### romantic"
   ]
  },
  {
   "cell_type": "code",
   "execution_count": 191,
   "metadata": {},
   "outputs": [
    {
     "name": "stdout",
     "output_type": "stream",
     "text": [
      "------------------------------------------------------------\n",
      "|\t Отчет по колонке [ romantic ] \t\t\t\t\t\n",
      "------------------------------------------------------------\n",
      "|  Тип данных: object\n",
      "|  Заполнено значений: 364 из 395\n",
      "|  Отсутсвующие значения: 31\n",
      "|  Полнота данных: 92.15%\n",
      "|  Количество уникальных значений: 2\n",
      "|  Значений, встретившихся в столбце более 10 раз: 2\n",
      "|  Количество раз пробелы найдены:\n",
      "|    в начале строки: 0\n",
      "|    в конце  строки: 0\n",
      "|  Количество найденных специальных символов: 0\n",
      "|  Уникальные значения: ['no' None 'yes'] \n",
      "\n"
     ]
    },
    {
     "data": {
      "text/plain": [
       "count     364\n",
       "unique      2\n",
       "top        no\n",
       "freq      240\n",
       "Name: romantic, dtype: object"
      ]
     },
     "execution_count": 191,
     "metadata": {},
     "output_type": "execute_result"
    }
   ],
   "source": [
    "# romantic\n",
    "column_content_analysis(['romantic'])\n",
    "stud['romantic'].describe()"
   ]
  },
  {
   "cell_type": "code",
   "execution_count": 192,
   "metadata": {},
   "outputs": [
    {
     "data": {
      "text/html": [
       "<div>\n",
       "<style scoped>\n",
       "    .dataframe tbody tr th:only-of-type {\n",
       "        vertical-align: middle;\n",
       "    }\n",
       "\n",
       "    .dataframe tbody tr th {\n",
       "        vertical-align: top;\n",
       "    }\n",
       "\n",
       "    .dataframe thead th {\n",
       "        text-align: right;\n",
       "    }\n",
       "</style>\n",
       "<table border=\"1\" class=\"dataframe\">\n",
       "  <thead>\n",
       "    <tr style=\"text-align: right;\">\n",
       "      <th></th>\n",
       "      <th>romantic</th>\n",
       "    </tr>\n",
       "  </thead>\n",
       "  <tbody>\n",
       "    <tr>\n",
       "      <th>no</th>\n",
       "      <td>240</td>\n",
       "    </tr>\n",
       "    <tr>\n",
       "      <th>yes</th>\n",
       "      <td>124</td>\n",
       "    </tr>\n",
       "  </tbody>\n",
       "</table>\n",
       "</div>"
      ],
      "text/plain": [
       "     romantic\n",
       "no        240\n",
       "yes       124"
      ]
     },
     "metadata": {},
     "output_type": "display_data"
    }
   ],
   "source": [
    "display(pd.DataFrame(stud['romantic'].value_counts()))"
   ]
  },
  {
   "cell_type": "code",
   "execution_count": null,
   "metadata": {},
   "outputs": [],
   "source": []
  },
  {
   "cell_type": "code",
   "execution_count": null,
   "metadata": {},
   "outputs": [],
   "source": []
  },
  {
   "cell_type": "code",
   "execution_count": null,
   "metadata": {},
   "outputs": [],
   "source": []
  },
  {
   "cell_type": "code",
   "execution_count": null,
   "metadata": {},
   "outputs": [],
   "source": []
  },
  {
   "cell_type": "code",
   "execution_count": null,
   "metadata": {},
   "outputs": [],
   "source": []
  },
  {
   "cell_type": "code",
   "execution_count": null,
   "metadata": {},
   "outputs": [],
   "source": []
  },
  {
   "cell_type": "markdown",
   "metadata": {},
   "source": [
    "### Устранение выбросов"
   ]
  },
  {
   "cell_type": "code",
   "execution_count": null,
   "metadata": {},
   "outputs": [],
   "source": []
  },
  {
   "cell_type": "code",
   "execution_count": null,
   "metadata": {},
   "outputs": [],
   "source": []
  },
  {
   "cell_type": "code",
   "execution_count": null,
   "metadata": {},
   "outputs": [],
   "source": []
  },
  {
   "cell_type": "code",
   "execution_count": null,
   "metadata": {
    "colab": {},
    "colab_type": "code",
    "id": "SiRmHPl8VqAd"
   },
   "outputs": [],
   "source": []
  },
  {
   "cell_type": "markdown",
   "metadata": {},
   "source": [
    "### Оценка количества уникальных значений для номинативных переменных"
   ]
  },
  {
   "cell_type": "markdown",
   "metadata": {},
   "source": [
    "Заполнить пропуски на данный момент не представляется возможным, так как методика не предлагается. Поэтому отбросим данные с пропусками."
   ]
  },
  {
   "cell_type": "code",
   "execution_count": null,
   "metadata": {},
   "outputs": [],
   "source": []
  },
  {
   "cell_type": "code",
   "execution_count": null,
   "metadata": {},
   "outputs": [],
   "source": []
  },
  {
   "cell_type": "code",
   "execution_count": null,
   "metadata": {},
   "outputs": [],
   "source": []
  },
  {
   "cell_type": "markdown",
   "metadata": {},
   "source": [
    "### Преобразование данных"
   ]
  },
  {
   "cell_type": "code",
   "execution_count": null,
   "metadata": {},
   "outputs": [],
   "source": []
  },
  {
   "cell_type": "code",
   "execution_count": null,
   "metadata": {},
   "outputs": [],
   "source": []
  },
  {
   "cell_type": "code",
   "execution_count": null,
   "metadata": {},
   "outputs": [],
   "source": []
  },
  {
   "cell_type": "markdown",
   "metadata": {},
   "source": [
    "### Корреляционный анализ количественных элементов"
   ]
  },
  {
   "cell_type": "code",
   "execution_count": null,
   "metadata": {},
   "outputs": [],
   "source": []
  },
  {
   "cell_type": "code",
   "execution_count": null,
   "metadata": {},
   "outputs": [],
   "source": []
  },
  {
   "cell_type": "code",
   "execution_count": null,
   "metadata": {},
   "outputs": [],
   "source": []
  },
  {
   "cell_type": "markdown",
   "metadata": {},
   "source": [
    "### Отбор не коррелирующих переменных"
   ]
  },
  {
   "cell_type": "code",
   "execution_count": null,
   "metadata": {},
   "outputs": [],
   "source": []
  },
  {
   "cell_type": "code",
   "execution_count": null,
   "metadata": {},
   "outputs": [],
   "source": []
  },
  {
   "cell_type": "code",
   "execution_count": null,
   "metadata": {},
   "outputs": [],
   "source": []
  },
  {
   "cell_type": "markdown",
   "metadata": {},
   "source": [
    "### Анализ номинативных переменных, устранение не влияющих на предсказание конечной величины"
   ]
  },
  {
   "cell_type": "code",
   "execution_count": 138,
   "metadata": {},
   "outputs": [],
   "source": [
    "# на переменную scope"
   ]
  },
  {
   "cell_type": "code",
   "execution_count": null,
   "metadata": {},
   "outputs": [],
   "source": []
  },
  {
   "cell_type": "code",
   "execution_count": null,
   "metadata": {},
   "outputs": [],
   "source": []
  },
  {
   "cell_type": "code",
   "execution_count": null,
   "metadata": {},
   "outputs": [],
   "source": []
  },
  {
   "cell_type": "markdown",
   "metadata": {},
   "source": [
    "### Выводы о качестве данных"
   ]
  },
  {
   "cell_type": "code",
   "execution_count": null,
   "metadata": {},
   "outputs": [],
   "source": []
  },
  {
   "cell_type": "code",
   "execution_count": null,
   "metadata": {},
   "outputs": [],
   "source": []
  },
  {
   "cell_type": "code",
   "execution_count": null,
   "metadata": {},
   "outputs": [],
   "source": []
  },
  {
   "cell_type": "markdown",
   "metadata": {},
   "source": [
    "### Выводы о данных, которые подходят для построения дальнейшей модели"
   ]
  },
  {
   "cell_type": "code",
   "execution_count": null,
   "metadata": {},
   "outputs": [],
   "source": []
  },
  {
   "cell_type": "code",
   "execution_count": null,
   "metadata": {},
   "outputs": [],
   "source": []
  },
  {
   "cell_type": "code",
   "execution_count": null,
   "metadata": {},
   "outputs": [],
   "source": []
  },
  {
   "cell_type": "code",
   "execution_count": null,
   "metadata": {},
   "outputs": [],
   "source": []
  },
  {
   "cell_type": "markdown",
   "metadata": {
    "colab": {},
    "colab_type": "code",
    "id": "uCfuTkRbVqAg"
   },
   "source": [
    "### Спасибо за внимание!"
   ]
  }
 ],
 "metadata": {
  "colab": {
   "name": "Copy of [SF-DST] Movies IMBD v4.1 TEMPLATE.ipynb",
   "provenance": []
  },
  "kernelspec": {
   "display_name": "Python 3",
   "language": "python",
   "name": "python3"
  },
  "language_info": {
   "codemirror_mode": {
    "name": "ipython",
    "version": 3
   },
   "file_extension": ".py",
   "mimetype": "text/x-python",
   "name": "python",
   "nbconvert_exporter": "python",
   "pygments_lexer": "ipython3",
   "version": "3.7.6"
  }
 },
 "nbformat": 4,
 "nbformat_minor": 1
}
