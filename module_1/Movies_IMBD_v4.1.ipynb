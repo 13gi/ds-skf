{
 "cells": [
  {
   "cell_type": "code",
   "execution_count": 1663,
   "metadata": {
    "_cell_guid": "b1076dfc-b9ad-4769-8c92-a6c4dae69d19",
    "_uuid": "8f2839f25d086af736a60e9eeb907d3b93b6e0e5",
    "colab": {},
    "colab_type": "code",
    "id": "U2D2gTdJVp90"
   },
   "outputs": [],
   "source": [
    "import numpy as np\n",
    "import pandas as pd\n",
    "import seaborn as sns\n",
    "import matplotlib.pyplot as plt\n",
    "from collections import Counter\n",
    "import re\n",
    "from itertools import combinations"
   ]
  },
  {
   "cell_type": "code",
   "execution_count": 1664,
   "metadata": {
    "_cell_guid": "79c7e3d0-c299-4dcb-8224-4455121ee9b0",
    "_uuid": "d629ff2d2480ee46fbb7e2d37f6b5fab8052498a",
    "colab": {},
    "colab_type": "code",
    "id": "oyGfxL3eVp9-"
   },
   "outputs": [
    {
     "data": {
      "text/html": [
       "<div>\n",
       "<style scoped>\n",
       "    .dataframe tbody tr th:only-of-type {\n",
       "        vertical-align: middle;\n",
       "    }\n",
       "\n",
       "    .dataframe tbody tr th {\n",
       "        vertical-align: top;\n",
       "    }\n",
       "\n",
       "    .dataframe thead th {\n",
       "        text-align: right;\n",
       "    }\n",
       "</style>\n",
       "<table border=\"1\" class=\"dataframe\">\n",
       "  <thead>\n",
       "    <tr style=\"text-align: right;\">\n",
       "      <th></th>\n",
       "      <th>imdb_id</th>\n",
       "      <th>budget</th>\n",
       "      <th>revenue</th>\n",
       "      <th>original_title</th>\n",
       "      <th>cast</th>\n",
       "      <th>director</th>\n",
       "      <th>tagline</th>\n",
       "      <th>overview</th>\n",
       "      <th>runtime</th>\n",
       "      <th>genres</th>\n",
       "      <th>production_companies</th>\n",
       "      <th>release_date</th>\n",
       "      <th>vote_average</th>\n",
       "      <th>release_year</th>\n",
       "    </tr>\n",
       "  </thead>\n",
       "  <tbody>\n",
       "    <tr>\n",
       "      <th>311</th>\n",
       "      <td>tt1019452</td>\n",
       "      <td>7000000</td>\n",
       "      <td>31430334</td>\n",
       "      <td>A Serious Man</td>\n",
       "      <td>Michael Stuhlbarg|Richard Kind|Fred Melamed|Sa...</td>\n",
       "      <td>Ethan Coen|Joel Coen</td>\n",
       "      <td>...seriously!</td>\n",
       "      <td>A Serious Man is the story of an ordinary man'...</td>\n",
       "      <td>105</td>\n",
       "      <td>Comedy|Drama</td>\n",
       "      <td>Mike Zoss Productions|Studio Canal|Relativity ...</td>\n",
       "      <td>10/2/2009</td>\n",
       "      <td>6.4</td>\n",
       "      <td>2009</td>\n",
       "    </tr>\n",
       "    <tr>\n",
       "      <th>1106</th>\n",
       "      <td>tt0172156</td>\n",
       "      <td>130000000</td>\n",
       "      <td>273339556</td>\n",
       "      <td>Bad Boys II</td>\n",
       "      <td>Martin Lawrence|Will Smith|Jordi MollÃ |Gabrie...</td>\n",
       "      <td>Michael Bay</td>\n",
       "      <td>If you can't stand the heat, get out of Miami.</td>\n",
       "      <td>Out-of-control, trash-talking buddy cops Marcu...</td>\n",
       "      <td>147</td>\n",
       "      <td>Adventure|Action|Comedy|Thriller|Crime</td>\n",
       "      <td>Columbia Pictures Corporation|Don Simpson/Jerr...</td>\n",
       "      <td>7/18/2003</td>\n",
       "      <td>6.3</td>\n",
       "      <td>2003</td>\n",
       "    </tr>\n",
       "    <tr>\n",
       "      <th>1573</th>\n",
       "      <td>tt0167190</td>\n",
       "      <td>66000000</td>\n",
       "      <td>99318987</td>\n",
       "      <td>Hellboy</td>\n",
       "      <td>Ron Perlman|Selma Blair|Rupert Evans|John Hurt...</td>\n",
       "      <td>Guillermo del Toro</td>\n",
       "      <td>From the Dark Side to Our Side.</td>\n",
       "      <td>In the final days of World War II, the Nazis a...</td>\n",
       "      <td>122</td>\n",
       "      <td>Fantasy|Action|Science Fiction</td>\n",
       "      <td>Revolution Studios|Dark Horse Entertainment|La...</td>\n",
       "      <td>4/2/2004</td>\n",
       "      <td>6.4</td>\n",
       "      <td>2004</td>\n",
       "    </tr>\n",
       "    <tr>\n",
       "      <th>594</th>\n",
       "      <td>tt0266391</td>\n",
       "      <td>7000000</td>\n",
       "      <td>3646994</td>\n",
       "      <td>The Cat's Meow</td>\n",
       "      <td>Kirsten Dunst|Edward Herrmann|Eddie Izzard|Car...</td>\n",
       "      <td>Peter Bogdanovich</td>\n",
       "      <td>Some secrets won't stay buried.</td>\n",
       "      <td>Semi-true story of the Hollywood murder that o...</td>\n",
       "      <td>114</td>\n",
       "      <td>Drama|Mystery|Thriller</td>\n",
       "      <td>Lions Gate Films|Dan Films|CP Medien AG</td>\n",
       "      <td>8/3/2001</td>\n",
       "      <td>5.7</td>\n",
       "      <td>2001</td>\n",
       "    </tr>\n",
       "    <tr>\n",
       "      <th>1157</th>\n",
       "      <td>tt0279111</td>\n",
       "      <td>56000000</td>\n",
       "      <td>12923936</td>\n",
       "      <td>Gods and Generals</td>\n",
       "      <td>Stephen Lang|Jeff Daniels|Robert Duvall|Kevin ...</td>\n",
       "      <td>Ronald F. Maxwell</td>\n",
       "      <td>The nations heart was touched by...</td>\n",
       "      <td>The film centers mostly around the personal an...</td>\n",
       "      <td>214</td>\n",
       "      <td>Drama|History|War</td>\n",
       "      <td>Turner Pictures|Antietam Filmworks</td>\n",
       "      <td>2/21/2003</td>\n",
       "      <td>5.8</td>\n",
       "      <td>2003</td>\n",
       "    </tr>\n",
       "  </tbody>\n",
       "</table>\n",
       "</div>"
      ],
      "text/plain": [
       "        imdb_id     budget    revenue     original_title  \\\n",
       "311   tt1019452    7000000   31430334      A Serious Man   \n",
       "1106  tt0172156  130000000  273339556        Bad Boys II   \n",
       "1573  tt0167190   66000000   99318987            Hellboy   \n",
       "594   tt0266391    7000000    3646994     The Cat's Meow   \n",
       "1157  tt0279111   56000000   12923936  Gods and Generals   \n",
       "\n",
       "                                                   cast              director  \\\n",
       "311   Michael Stuhlbarg|Richard Kind|Fred Melamed|Sa...  Ethan Coen|Joel Coen   \n",
       "1106  Martin Lawrence|Will Smith|Jordi MollÃ |Gabrie...           Michael Bay   \n",
       "1573  Ron Perlman|Selma Blair|Rupert Evans|John Hurt...    Guillermo del Toro   \n",
       "594   Kirsten Dunst|Edward Herrmann|Eddie Izzard|Car...     Peter Bogdanovich   \n",
       "1157  Stephen Lang|Jeff Daniels|Robert Duvall|Kevin ...     Ronald F. Maxwell   \n",
       "\n",
       "                                             tagline  \\\n",
       "311                                    ...seriously!   \n",
       "1106  If you can't stand the heat, get out of Miami.   \n",
       "1573                 From the Dark Side to Our Side.   \n",
       "594                  Some secrets won't stay buried.   \n",
       "1157             The nations heart was touched by...   \n",
       "\n",
       "                                               overview  runtime  \\\n",
       "311   A Serious Man is the story of an ordinary man'...      105   \n",
       "1106  Out-of-control, trash-talking buddy cops Marcu...      147   \n",
       "1573  In the final days of World War II, the Nazis a...      122   \n",
       "594   Semi-true story of the Hollywood murder that o...      114   \n",
       "1157  The film centers mostly around the personal an...      214   \n",
       "\n",
       "                                      genres  \\\n",
       "311                             Comedy|Drama   \n",
       "1106  Adventure|Action|Comedy|Thriller|Crime   \n",
       "1573          Fantasy|Action|Science Fiction   \n",
       "594                   Drama|Mystery|Thriller   \n",
       "1157                       Drama|History|War   \n",
       "\n",
       "                                   production_companies release_date  \\\n",
       "311   Mike Zoss Productions|Studio Canal|Relativity ...    10/2/2009   \n",
       "1106  Columbia Pictures Corporation|Don Simpson/Jerr...    7/18/2003   \n",
       "1573  Revolution Studios|Dark Horse Entertainment|La...     4/2/2004   \n",
       "594             Lions Gate Films|Dan Films|CP Medien AG     8/3/2001   \n",
       "1157                 Turner Pictures|Antietam Filmworks    2/21/2003   \n",
       "\n",
       "      vote_average  release_year  \n",
       "311            6.4          2009  \n",
       "1106           6.3          2003  \n",
       "1573           6.4          2004  \n",
       "594            5.7          2001  \n",
       "1157           5.8          2003  "
      ]
     },
     "execution_count": 1664,
     "metadata": {},
     "output_type": "execute_result"
    }
   ],
   "source": [
    "data = pd.read_csv('movie_bd_v5.csv')\n",
    "data.sample(5)"
   ]
  },
  {
   "cell_type": "code",
   "execution_count": 1665,
   "metadata": {
    "colab": {},
    "colab_type": "code",
    "id": "CoYUnagMVp-C"
   },
   "outputs": [
    {
     "data": {
      "text/html": [
       "<div>\n",
       "<style scoped>\n",
       "    .dataframe tbody tr th:only-of-type {\n",
       "        vertical-align: middle;\n",
       "    }\n",
       "\n",
       "    .dataframe tbody tr th {\n",
       "        vertical-align: top;\n",
       "    }\n",
       "\n",
       "    .dataframe thead th {\n",
       "        text-align: right;\n",
       "    }\n",
       "</style>\n",
       "<table border=\"1\" class=\"dataframe\">\n",
       "  <thead>\n",
       "    <tr style=\"text-align: right;\">\n",
       "      <th></th>\n",
       "      <th>budget</th>\n",
       "      <th>revenue</th>\n",
       "      <th>runtime</th>\n",
       "      <th>vote_average</th>\n",
       "      <th>release_year</th>\n",
       "    </tr>\n",
       "  </thead>\n",
       "  <tbody>\n",
       "    <tr>\n",
       "      <th>count</th>\n",
       "      <td>1.889000e+03</td>\n",
       "      <td>1.889000e+03</td>\n",
       "      <td>1889.000000</td>\n",
       "      <td>1889.000000</td>\n",
       "      <td>1889.000000</td>\n",
       "    </tr>\n",
       "    <tr>\n",
       "      <th>mean</th>\n",
       "      <td>5.431083e+07</td>\n",
       "      <td>1.553653e+08</td>\n",
       "      <td>109.658549</td>\n",
       "      <td>6.140762</td>\n",
       "      <td>2007.860773</td>\n",
       "    </tr>\n",
       "    <tr>\n",
       "      <th>std</th>\n",
       "      <td>4.858721e+07</td>\n",
       "      <td>2.146698e+08</td>\n",
       "      <td>18.017041</td>\n",
       "      <td>0.764763</td>\n",
       "      <td>4.468841</td>\n",
       "    </tr>\n",
       "    <tr>\n",
       "      <th>min</th>\n",
       "      <td>5.000000e+06</td>\n",
       "      <td>2.033165e+06</td>\n",
       "      <td>63.000000</td>\n",
       "      <td>3.300000</td>\n",
       "      <td>2000.000000</td>\n",
       "    </tr>\n",
       "    <tr>\n",
       "      <th>25%</th>\n",
       "      <td>2.000000e+07</td>\n",
       "      <td>3.456058e+07</td>\n",
       "      <td>97.000000</td>\n",
       "      <td>5.600000</td>\n",
       "      <td>2004.000000</td>\n",
       "    </tr>\n",
       "    <tr>\n",
       "      <th>50%</th>\n",
       "      <td>3.800000e+07</td>\n",
       "      <td>8.361541e+07</td>\n",
       "      <td>107.000000</td>\n",
       "      <td>6.100000</td>\n",
       "      <td>2008.000000</td>\n",
       "    </tr>\n",
       "    <tr>\n",
       "      <th>75%</th>\n",
       "      <td>7.200000e+07</td>\n",
       "      <td>1.782626e+08</td>\n",
       "      <td>120.000000</td>\n",
       "      <td>6.600000</td>\n",
       "      <td>2012.000000</td>\n",
       "    </tr>\n",
       "    <tr>\n",
       "      <th>max</th>\n",
       "      <td>3.800000e+08</td>\n",
       "      <td>2.781506e+09</td>\n",
       "      <td>214.000000</td>\n",
       "      <td>8.100000</td>\n",
       "      <td>2015.000000</td>\n",
       "    </tr>\n",
       "  </tbody>\n",
       "</table>\n",
       "</div>"
      ],
      "text/plain": [
       "             budget       revenue      runtime  vote_average  release_year\n",
       "count  1.889000e+03  1.889000e+03  1889.000000   1889.000000   1889.000000\n",
       "mean   5.431083e+07  1.553653e+08   109.658549      6.140762   2007.860773\n",
       "std    4.858721e+07  2.146698e+08    18.017041      0.764763      4.468841\n",
       "min    5.000000e+06  2.033165e+06    63.000000      3.300000   2000.000000\n",
       "25%    2.000000e+07  3.456058e+07    97.000000      5.600000   2004.000000\n",
       "50%    3.800000e+07  8.361541e+07   107.000000      6.100000   2008.000000\n",
       "75%    7.200000e+07  1.782626e+08   120.000000      6.600000   2012.000000\n",
       "max    3.800000e+08  2.781506e+09   214.000000      8.100000   2015.000000"
      ]
     },
     "execution_count": 1665,
     "metadata": {},
     "output_type": "execute_result"
    }
   ],
   "source": [
    "data.describe()"
   ]
  },
  {
   "cell_type": "markdown",
   "metadata": {
    "colab_type": "text",
    "id": "DTIt7ezGVp-G"
   },
   "source": [
    "# Предобработка"
   ]
  },
  {
   "cell_type": "code",
   "execution_count": 1730,
   "metadata": {
    "colab": {},
    "colab_type": "code",
    "id": "jNb40DwKVp-H"
   },
   "outputs": [],
   "source": [
    "answers = {} # создадим словарь для ответов\n",
    "\n",
    "# тут другие ваши предобработки колонок например:\n",
    "\n",
    "#the time given in the dataset is in string format.\n",
    "#So we need to change this in datetime format\n",
    "# ...\n",
    "\n",
    "def preparation_answer(incomming_data):\n",
    "    ''' Функция для подготовки ответа в формате платформы.\n",
    "        Формирует выходной результат из имени фильма и его идентификатора'''\n",
    "    \n",
    "    # берем первую строку дата фрейма и определяем имя фильма\n",
    "    movie_name = incomming_data.original_title.iloc[0]\n",
    "    \n",
    "    #  определяем id фильма    \n",
    "    movie_id = incomming_data.imdb_id.iloc[0]\n",
    "    print(movie_name, ' (', movie_id , ')', sep='')\n",
    "    return\n",
    "\n",
    "\n",
    "\n",
    "def year_detect(release_date):\n",
    "    ''' Функция получения года из четырех цифр, идущих подряд.\n",
    "        Если год не найден во входной строке, будет возвращено 1970'''\n",
    "    \n",
    "    # регулярным выражением проверяем в строке 4 цифры подряд\n",
    "    result = re.search(r'\\d{4}', release_date)\n",
    "   \n",
    "    # если найдено\n",
    "    if result:\n",
    "        # получаем найденную подстроку и приводим к типу - целое\n",
    "        return int(result.group(0))\n",
    "    else:\n",
    "        # вернем это значение если не смогли найти по шаблону ничего\n",
    "        return 1970\n",
    "\n",
    "\n",
    "def month_detect(release_date):\n",
    "    ''' Функциия получения месяца из первых двух или одно цифры, идущих в начале строки.\n",
    "        Если цифры не найдены в начале строки - вернет 0. Если полученный номер месяца вне диапазона - вернет 0'''\n",
    "    \n",
    "    # регулярным выражением проверяем в строке 2 цифры подряд или 1 цифру в начале строки\n",
    "    result = re.search(r'^\\d\\d?', release_date)\n",
    "    \n",
    "    # если совпадение есть с шаблоном регулярного выражения\n",
    "    if result:\n",
    "        # получаем найденную подстроку и приводим к типу - целое\n",
    "        month = int(result.group(0))\n",
    "        # проверяем что значение месяца в валидном диапазоне, иначе возвращем - 0\n",
    "        if month < 1 or month > 12:\n",
    "            month = 0\n",
    "        return month\n",
    "    else:\n",
    "        return 0\n",
    "\n",
    "\n",
    "def series_aggregation_first_column(incoming_data, agg_type='sum', top=5, sort_direction=False,):\n",
    "    ''' Функция на вход  получвает серию, далее разделяя индексы по символу \"|\" подсчитывает сумму значений\n",
    "        Выходной результат - ранжированная серия, ограниченная по длине'''\n",
    "    \n",
    "    # создаем пустую серию для выходного результата \n",
    "    result_series = pd.Series(dtype=object)\n",
    "    \n",
    "    # проходим циклом по парам - индекс и значение \n",
    "    for column1, column2 in incoming_data.items():\n",
    "        # если вид агрегации накопительный, то будем суммировать. Иначе - считать кол-во\n",
    "        if agg_type == 'sum':\n",
    "            agg_parametr = column2\n",
    "        else:\n",
    "            agg_parametr = 1\n",
    "        # если индес составной - разделяем на отдельные занчения    \n",
    "        for item in column1.split('|'):\n",
    "            # собираем данные в серию, где индексом будут некие ключевые параметры\n",
    "            # а значениями - сумма по этим параметрам\n",
    "            if item in result_series.index:\n",
    "                result_series[item] += agg_parametr\n",
    "            else:\n",
    "                result_series[item] = agg_parametr\n",
    "    # возвращаем итоговую серию данных\n",
    "    return result_series.sort_values(ascending=sort_direction).head(top)\n",
    "  \n",
    "\n",
    "# создаем и заполняем новую колонку \"Прибыльность\"\n",
    "data['profit'] = data.revenue - data.budget\n",
    "\n",
    "# создаем и заполняем новую колонку \"год выпуска фильма\"\n",
    "data['release_year'] = data.release_date.apply(year_detect)\n",
    "\n",
    "# создаем и заполняем новую колонку \"месяц выпуска фильма\"\n",
    "data['release_month'] = data.release_date.apply(month_detect)\n",
    "\n",
    "# создаем и заполняем новую колонку \"количество слов в обзоре фильма\"\n",
    "# функция поиска всех вхождений слов возвращает массив совпадений, его длина и есть количество слов\n",
    "# словом считает все от одного символа и длинее\n",
    "data['word_count_overview'] = data.overview.apply(lambda s: len(re.findall(r'\\w+', s.lower())))\n"
   ]
  },
  {
   "cell_type": "code",
   "execution_count": 1731,
   "metadata": {
    "scrolled": true
   },
   "outputs": [
    {
     "data": {
      "text/html": [
       "<div>\n",
       "<style scoped>\n",
       "    .dataframe tbody tr th:only-of-type {\n",
       "        vertical-align: middle;\n",
       "    }\n",
       "\n",
       "    .dataframe tbody tr th {\n",
       "        vertical-align: top;\n",
       "    }\n",
       "\n",
       "    .dataframe thead th {\n",
       "        text-align: right;\n",
       "    }\n",
       "</style>\n",
       "<table border=\"1\" class=\"dataframe\">\n",
       "  <thead>\n",
       "    <tr style=\"text-align: right;\">\n",
       "      <th></th>\n",
       "      <th>imdb_id</th>\n",
       "      <th>budget</th>\n",
       "      <th>revenue</th>\n",
       "      <th>original_title</th>\n",
       "      <th>cast</th>\n",
       "      <th>director</th>\n",
       "      <th>tagline</th>\n",
       "      <th>overview</th>\n",
       "      <th>runtime</th>\n",
       "      <th>genres</th>\n",
       "      <th>production_companies</th>\n",
       "      <th>release_date</th>\n",
       "      <th>vote_average</th>\n",
       "      <th>release_year</th>\n",
       "      <th>profit</th>\n",
       "      <th>release_month</th>\n",
       "      <th>word_count_overview</th>\n",
       "    </tr>\n",
       "  </thead>\n",
       "  <tbody>\n",
       "    <tr>\n",
       "      <th>121</th>\n",
       "      <td>tt2911666</td>\n",
       "      <td>20000000</td>\n",
       "      <td>78739897</td>\n",
       "      <td>John Wick</td>\n",
       "      <td>Keanu Reeves|Michael Nyqvist|Alfie Allen|Wille...</td>\n",
       "      <td>Chad Stahelski|David Leitch</td>\n",
       "      <td>Don't set him off.</td>\n",
       "      <td>After the sudden death of his beloved wife, Jo...</td>\n",
       "      <td>101</td>\n",
       "      <td>Action|Thriller</td>\n",
       "      <td>Thunder Road Pictures|Warner Bros.|87Eleven|De...</td>\n",
       "      <td>10/22/2014</td>\n",
       "      <td>7.0</td>\n",
       "      <td>2014</td>\n",
       "      <td>58739897</td>\n",
       "      <td>10</td>\n",
       "      <td>81</td>\n",
       "    </tr>\n",
       "    <tr>\n",
       "      <th>322</th>\n",
       "      <td>tt0457400</td>\n",
       "      <td>100000000</td>\n",
       "      <td>68688831</td>\n",
       "      <td>Land of the Lost</td>\n",
       "      <td>Will Ferrell|Anna Friel|Danny McBride|Jorma Ta...</td>\n",
       "      <td>Brad Silberling</td>\n",
       "      <td>Right place. Wrong time.</td>\n",
       "      <td>On his latest expedition, Dr. Rick Marshall is...</td>\n",
       "      <td>102</td>\n",
       "      <td>Adventure|Comedy|Science Fiction</td>\n",
       "      <td>Universal Pictures|Mosaic Media Group|Relativi...</td>\n",
       "      <td>6/5/2009</td>\n",
       "      <td>5.4</td>\n",
       "      <td>2009</td>\n",
       "      <td>-31311169</td>\n",
       "      <td>6</td>\n",
       "      <td>48</td>\n",
       "    </tr>\n",
       "    <tr>\n",
       "      <th>558</th>\n",
       "      <td>tt0179626</td>\n",
       "      <td>60000000</td>\n",
       "      <td>56359980</td>\n",
       "      <td>15 Minutes</td>\n",
       "      <td>Robert De Niro|Charlize Theron|Edward Burns|Ke...</td>\n",
       "      <td>John Herzfeld</td>\n",
       "      <td>America Likes to Watch</td>\n",
       "      <td>When Eastern European criminals Oleg and Emil ...</td>\n",
       "      <td>120</td>\n",
       "      <td>Action|Crime|Thriller</td>\n",
       "      <td>New Line Cinema|Industry Entertainment|Tribeca...</td>\n",
       "      <td>3/1/2001</td>\n",
       "      <td>5.7</td>\n",
       "      <td>2001</td>\n",
       "      <td>-3640020</td>\n",
       "      <td>3</td>\n",
       "      <td>97</td>\n",
       "    </tr>\n",
       "    <tr>\n",
       "      <th>167</th>\n",
       "      <td>tt2975578</td>\n",
       "      <td>9000000</td>\n",
       "      <td>108782847</td>\n",
       "      <td>The Purge: Anarchy</td>\n",
       "      <td>Frank Grillo|Carmen Ejogo|Zach Gilford|Kiele S...</td>\n",
       "      <td>James DeMonaco</td>\n",
       "      <td>Welcome to America, where one night a year, al...</td>\n",
       "      <td>Three groups of people are trying to survive P...</td>\n",
       "      <td>104</td>\n",
       "      <td>Horror|Thriller</td>\n",
       "      <td>Universal Pictures|Why Not Productions|Platinu...</td>\n",
       "      <td>7/17/2014</td>\n",
       "      <td>6.6</td>\n",
       "      <td>2014</td>\n",
       "      <td>99782847</td>\n",
       "      <td>7</td>\n",
       "      <td>30</td>\n",
       "    </tr>\n",
       "    <tr>\n",
       "      <th>610</th>\n",
       "      <td>tt0800080</td>\n",
       "      <td>150000000</td>\n",
       "      <td>163712074</td>\n",
       "      <td>The Incredible Hulk</td>\n",
       "      <td>Edward Norton|Liv Tyler|Tim Roth|William Hurt|...</td>\n",
       "      <td>Louis Leterrier</td>\n",
       "      <td>You'll like him when he's angry.</td>\n",
       "      <td>Scientist Bruce Banner scours the planet for a...</td>\n",
       "      <td>114</td>\n",
       "      <td>Science Fiction|Action|Adventure</td>\n",
       "      <td>Universal Pictures|Marvel Studios|Valhalla Mot...</td>\n",
       "      <td>6/12/2008</td>\n",
       "      <td>6.1</td>\n",
       "      <td>2008</td>\n",
       "      <td>13712074</td>\n",
       "      <td>6</td>\n",
       "      <td>47</td>\n",
       "    </tr>\n",
       "  </tbody>\n",
       "</table>\n",
       "</div>"
      ],
      "text/plain": [
       "       imdb_id     budget    revenue       original_title  \\\n",
       "121  tt2911666   20000000   78739897            John Wick   \n",
       "322  tt0457400  100000000   68688831     Land of the Lost   \n",
       "558  tt0179626   60000000   56359980           15 Minutes   \n",
       "167  tt2975578    9000000  108782847   The Purge: Anarchy   \n",
       "610  tt0800080  150000000  163712074  The Incredible Hulk   \n",
       "\n",
       "                                                  cast  \\\n",
       "121  Keanu Reeves|Michael Nyqvist|Alfie Allen|Wille...   \n",
       "322  Will Ferrell|Anna Friel|Danny McBride|Jorma Ta...   \n",
       "558  Robert De Niro|Charlize Theron|Edward Burns|Ke...   \n",
       "167  Frank Grillo|Carmen Ejogo|Zach Gilford|Kiele S...   \n",
       "610  Edward Norton|Liv Tyler|Tim Roth|William Hurt|...   \n",
       "\n",
       "                        director  \\\n",
       "121  Chad Stahelski|David Leitch   \n",
       "322              Brad Silberling   \n",
       "558                John Herzfeld   \n",
       "167               James DeMonaco   \n",
       "610              Louis Leterrier   \n",
       "\n",
       "                                               tagline  \\\n",
       "121                                 Don't set him off.   \n",
       "322                           Right place. Wrong time.   \n",
       "558                             America Likes to Watch   \n",
       "167  Welcome to America, where one night a year, al...   \n",
       "610                   You'll like him when he's angry.   \n",
       "\n",
       "                                              overview  runtime  \\\n",
       "121  After the sudden death of his beloved wife, Jo...      101   \n",
       "322  On his latest expedition, Dr. Rick Marshall is...      102   \n",
       "558  When Eastern European criminals Oleg and Emil ...      120   \n",
       "167  Three groups of people are trying to survive P...      104   \n",
       "610  Scientist Bruce Banner scours the planet for a...      114   \n",
       "\n",
       "                               genres  \\\n",
       "121                   Action|Thriller   \n",
       "322  Adventure|Comedy|Science Fiction   \n",
       "558             Action|Crime|Thriller   \n",
       "167                   Horror|Thriller   \n",
       "610  Science Fiction|Action|Adventure   \n",
       "\n",
       "                                  production_companies release_date  \\\n",
       "121  Thunder Road Pictures|Warner Bros.|87Eleven|De...   10/22/2014   \n",
       "322  Universal Pictures|Mosaic Media Group|Relativi...     6/5/2009   \n",
       "558  New Line Cinema|Industry Entertainment|Tribeca...     3/1/2001   \n",
       "167  Universal Pictures|Why Not Productions|Platinu...    7/17/2014   \n",
       "610  Universal Pictures|Marvel Studios|Valhalla Mot...    6/12/2008   \n",
       "\n",
       "     vote_average  release_year    profit  release_month  word_count_overview  \n",
       "121           7.0          2014  58739897             10                   81  \n",
       "322           5.4          2009 -31311169              6                   48  \n",
       "558           5.7          2001  -3640020              3                   97  \n",
       "167           6.6          2014  99782847              7                   30  \n",
       "610           6.1          2008  13712074              6                   47  "
      ]
     },
     "execution_count": 1731,
     "metadata": {},
     "output_type": "execute_result"
    }
   ],
   "source": [
    "data.sample(5)"
   ]
  },
  {
   "cell_type": "markdown",
   "metadata": {},
   "source": [
    " ####   Column            \n",
    "---  ------               \n",
    " 0.   imdb_id              \n",
    " 1.   budget               \n",
    " 2.   revenue              \n",
    " 3.   original_title       \n",
    " 4.   cast -- мультиполе, разделитель \"|\"\n",
    " 5.   director -- мультиполе, разделитель \"|\"\n",
    " 6.   tagline              \n",
    " 7.   overview             \n",
    " 8.   runtime              \n",
    " 9.   genres -- мультиполе, разделитель \"|\"\n",
    " 10.  production_companies -- мультиполе, разделитель \"|\"\n",
    " 11.  release_date         \n",
    " 12.  vote_average         \n",
    " 13.  release_year         \n",
    " 14.  profit\n",
    " 15.  release_month\n",
    " 16.  word_count_overiew"
   ]
  },
  {
   "cell_type": "markdown",
   "metadata": {
    "colab_type": "text",
    "id": "YxZaH-nPVp-L"
   },
   "source": [
    "# 1. У какого фильма из списка самый большой бюджет?"
   ]
  },
  {
   "cell_type": "markdown",
   "metadata": {
    "colab_type": "text",
    "id": "Nd-G5gX6Vp-M"
   },
   "source": [
    "Использовать варианты ответов в коде решения запрещено.    \n",
    "Вы думаете и в жизни у вас будут варианты ответов?)"
   ]
  },
  {
   "cell_type": "code",
   "execution_count": 1668,
   "metadata": {
    "colab": {},
    "colab_type": "code",
    "id": "dZwb3m28Vp-S"
   },
   "outputs": [
    {
     "name": "stdout",
     "output_type": "stream",
     "text": [
      "Pirates of the Caribbean: On Stranger Tides (tt1298650)\n"
     ]
    }
   ],
   "source": [
    "# получаем максимальный бюджет и фильтруем все фильмы с бюджетом равным максимальному\n",
    "movie_name = data[data.budget == data.budget.max()]\n",
    "\n",
    "# формируем и выдаем ответ в стиле платформы \n",
    "preparation_answer(movie_name)\n",
    "\n"
   ]
  },
  {
   "cell_type": "code",
   "execution_count": 1669,
   "metadata": {},
   "outputs": [],
   "source": [
    "# +\n",
    "answers['1'] = 'Pirates of the Caribbean: On Stranger Tides (tt1298650)'"
   ]
  },
  {
   "cell_type": "markdown",
   "metadata": {
    "colab_type": "text",
    "id": "K7L3nbRXVp-X"
   },
   "source": [
    "ВАРИАНТ 2"
   ]
  },
  {
   "cell_type": "code",
   "execution_count": 1670,
   "metadata": {
    "colab": {},
    "colab_type": "code",
    "id": "OGaoQI7rVp-X"
   },
   "outputs": [
    {
     "data": {
      "text/plain": [
       "'Pirates of the Caribbean: On Stranger Tides'"
      ]
     },
     "execution_count": 1670,
     "metadata": {},
     "output_type": "execute_result"
    }
   ],
   "source": [
    "# ранжируем колонку с бюджетами фильма, последнее значение будет максимальным\n",
    "max_budget = data.budget.sort_values().tail(1)\n",
    "\n",
    "# берем значение индекса у максмального значения и получаем название фильма\n",
    "data.loc[max_budget.index[0]].original_title"
   ]
  },
  {
   "cell_type": "markdown",
   "metadata": {
    "colab_type": "text",
    "id": "FNRbbI3vVp-c"
   },
   "source": [
    "# 2. Какой из фильмов самый длительный (в минутах)?"
   ]
  },
  {
   "cell_type": "code",
   "execution_count": 1671,
   "metadata": {
    "colab": {},
    "colab_type": "code",
    "id": "ot-VX2XrVp-g"
   },
   "outputs": [
    {
     "name": "stdout",
     "output_type": "stream",
     "text": [
      "Gods and Generals (tt0279111)\n"
     ]
    }
   ],
   "source": [
    "# получаем максимальную длительность и фильтруем все фильмы с длительностью равной максимальной\n",
    "movie_name = data[data.runtime == data.runtime.max()]\n",
    "\n",
    "preparation_answer(movie_name)\n"
   ]
  },
  {
   "cell_type": "code",
   "execution_count": 1672,
   "metadata": {},
   "outputs": [],
   "source": [
    "# +\n",
    "answers['2'] = 'Gods and Generals (tt0279111)'"
   ]
  },
  {
   "cell_type": "markdown",
   "metadata": {
    "colab_type": "text",
    "id": "bapLlpW8Vp-k"
   },
   "source": [
    "# 3. Какой из фильмов самый короткий (в минутах)?\n",
    "\n",
    "\n",
    "\n"
   ]
  },
  {
   "cell_type": "code",
   "execution_count": 1673,
   "metadata": {
    "colab": {},
    "colab_type": "code",
    "id": "YBxaSHuAVp-l"
   },
   "outputs": [
    {
     "name": "stdout",
     "output_type": "stream",
     "text": [
      "Winnie the Pooh (tt1449283)\n"
     ]
    }
   ],
   "source": [
    "# получаем минимальную длительность и фильтруем все фильмы с длительностью равной минимальной\n",
    "movie_name = data[data.runtime == data.runtime.min()]\n",
    "\n",
    "preparation_answer(movie_name)\n"
   ]
  },
  {
   "cell_type": "code",
   "execution_count": 1674,
   "metadata": {},
   "outputs": [],
   "source": [
    "# +\n",
    "answers['3'] = 'Winnie the Pooh (tt1449283)'"
   ]
  },
  {
   "cell_type": "markdown",
   "metadata": {
    "colab_type": "text",
    "id": "TfQbxbfNVp-p"
   },
   "source": [
    "# 4. Какова средняя длительность фильмов?\n"
   ]
  },
  {
   "cell_type": "code",
   "execution_count": 1675,
   "metadata": {},
   "outputs": [
    {
     "data": {
      "text/plain": [
       "110"
      ]
     },
     "execution_count": 1675,
     "metadata": {},
     "output_type": "execute_result"
    }
   ],
   "source": [
    "# получаем среднее значение по столбцу \"длительность\" и округляем до целого\n",
    "round(data.runtime.mean())"
   ]
  },
  {
   "cell_type": "code",
   "execution_count": 1676,
   "metadata": {},
   "outputs": [],
   "source": [
    "# +\n",
    "answers['4'] = 110"
   ]
  },
  {
   "cell_type": "markdown",
   "metadata": {
    "colab_type": "text",
    "id": "r5TvbnT_Vp-u"
   },
   "source": [
    "# 5. Каково медианное значение длительности фильмов? "
   ]
  },
  {
   "cell_type": "code",
   "execution_count": 1677,
   "metadata": {
    "colab": {},
    "colab_type": "code",
    "id": "iBROplKnVp-v"
   },
   "outputs": [
    {
     "data": {
      "text/plain": [
       "107"
      ]
     },
     "execution_count": 1677,
     "metadata": {},
     "output_type": "execute_result"
    }
   ],
   "source": [
    "# получаем медианное значение по столбцу \"длительность\" и округляем до целого\n",
    "round(data.runtime.median())"
   ]
  },
  {
   "cell_type": "code",
   "execution_count": 1678,
   "metadata": {},
   "outputs": [],
   "source": [
    "# +\n",
    "answers['5'] = 107"
   ]
  },
  {
   "cell_type": "markdown",
   "metadata": {
    "colab_type": "text",
    "id": "39P-deDSVp-y"
   },
   "source": [
    "# 6. Какой самый прибыльный фильм?\n",
    "#### Внимание! Здесь и далее под «прибылью» или «убытками» понимается разность между сборами и бюджетом фильма. (прибыль = сборы - бюджет) в нашем датасете это будет (profit = revenue - budget) "
   ]
  },
  {
   "cell_type": "code",
   "execution_count": 1679,
   "metadata": {
    "colab": {},
    "colab_type": "code",
    "id": "UYZh4T9WVp-y"
   },
   "outputs": [
    {
     "name": "stdout",
     "output_type": "stream",
     "text": [
      "Avatar (tt0499549)\n"
     ]
    }
   ],
   "source": [
    "# лучше код получения столбца profit вынести в Предобработку что в начале\n",
    "\n",
    "# получаем максимальное значение из столбца \"прибыль\", получаем фильмы у которых прибыль максимальна\n",
    "movie_name = data[data.profit == data.profit.max()]\n",
    "\n",
    "preparation_answer(movie_name)"
   ]
  },
  {
   "cell_type": "code",
   "execution_count": 1680,
   "metadata": {},
   "outputs": [],
   "source": [
    "# +\n",
    "answers['6'] = 'Avatar (tt0499549)'"
   ]
  },
  {
   "cell_type": "markdown",
   "metadata": {
    "colab_type": "text",
    "id": "M99JmIX4Vp-2"
   },
   "source": [
    "# 7. Какой фильм самый убыточный? "
   ]
  },
  {
   "cell_type": "code",
   "execution_count": 1681,
   "metadata": {
    "colab": {},
    "colab_type": "code",
    "id": "w-D2m4XPVp-3"
   },
   "outputs": [
    {
     "name": "stdout",
     "output_type": "stream",
     "text": [
      "The Lone Ranger (tt1210819)\n"
     ]
    }
   ],
   "source": [
    "# получаем минимальное значение из столбца \"прибыль\", получаем фильмы у которых прибыль равна минимальной\n",
    "movie_name = data[data.profit == data.profit.min()]\n",
    "\n",
    "preparation_answer(movie_name)"
   ]
  },
  {
   "cell_type": "code",
   "execution_count": 1682,
   "metadata": {
    "scrolled": true
   },
   "outputs": [],
   "source": [
    "# +\n",
    "answers['7'] = 'The Lone Ranger (tt1210819)'"
   ]
  },
  {
   "cell_type": "markdown",
   "metadata": {
    "colab_type": "text",
    "id": "wEOM5ERVVp-6"
   },
   "source": [
    "# 8. У скольких фильмов из датасета объем сборов оказался выше бюджета?"
   ]
  },
  {
   "cell_type": "code",
   "execution_count": 1683,
   "metadata": {
    "colab": {},
    "colab_type": "code",
    "id": "y00_7HD6Vp-7"
   },
   "outputs": [
    {
     "data": {
      "text/plain": [
       "1478"
      ]
     },
     "execution_count": 1683,
     "metadata": {},
     "output_type": "execute_result"
    }
   ],
   "source": [
    "# фильтруем датасет, выводим только те, у которых в колонке \"прибыль\" больше 0, определяем длину по вертикали,\n",
    "# это и будет количеством фильмов\n",
    "len(data[data.profit > 0])"
   ]
  },
  {
   "cell_type": "code",
   "execution_count": 1684,
   "metadata": {},
   "outputs": [],
   "source": [
    "# +\n",
    "answers['8'] = 1478"
   ]
  },
  {
   "cell_type": "markdown",
   "metadata": {
    "colab_type": "text",
    "id": "xhpspA9KVp_A"
   },
   "source": [
    "# 9. Какой фильм оказался самым кассовым в 2008 году?"
   ]
  },
  {
   "cell_type": "code",
   "execution_count": 1685,
   "metadata": {
    "colab": {},
    "colab_type": "code",
    "id": "MoUyQr9RVp_B"
   },
   "outputs": [
    {
     "name": "stdout",
     "output_type": "stream",
     "text": [
      "The Dark Knight (tt0468569)\n"
     ]
    }
   ],
   "source": [
    "# фильтруем по столбцу \"год выпуска\", забирая только 2008 год, и получаем максимальное значение у этой выборки\n",
    "# далее получаем фильмы у которых встречается максимальное значение в этой выборке\n",
    "movie_name = data[data.profit == data.query('release_year == 2008').profit.max()]\n",
    "\n",
    "preparation_answer(movie_name)"
   ]
  },
  {
   "cell_type": "code",
   "execution_count": 1686,
   "metadata": {},
   "outputs": [],
   "source": [
    "# +\n",
    "answers['9'] = 'The Dark Knight (tt0468569)'"
   ]
  },
  {
   "cell_type": "markdown",
   "metadata": {
    "colab_type": "text",
    "id": "Zi4hDKidVp_F"
   },
   "source": [
    "# 10. Самый убыточный фильм за период с 2012 по 2014 г. (включительно)?\n"
   ]
  },
  {
   "cell_type": "code",
   "execution_count": 1687,
   "metadata": {
    "colab": {},
    "colab_type": "code",
    "id": "XqyRmufJVp_F"
   },
   "outputs": [
    {
     "name": "stdout",
     "output_type": "stream",
     "text": [
      "The Lone Ranger (tt1210819)\n"
     ]
    }
   ],
   "source": [
    "# фльтруем выборку по диапазону года выпуска, у этой выборке определеяем минимальный доход от фильма\n",
    "# далее в этой выборке оставляем только фильмы с доходом равным минимальному\n",
    "movie_name = data[data.profit == data.query('2012 <= release_year <= 2014').profit.min()]\n",
    "\n",
    "preparation_answer(movie_name)"
   ]
  },
  {
   "cell_type": "code",
   "execution_count": 1688,
   "metadata": {},
   "outputs": [],
   "source": [
    "# +\n",
    "answers['10'] = 'The Lone Ranger (tt1210819)'"
   ]
  },
  {
   "cell_type": "markdown",
   "metadata": {
    "colab_type": "text",
    "id": "EA7Sa9dkVp_I"
   },
   "source": [
    "# 11. Какого жанра фильмов больше всего?"
   ]
  },
  {
   "cell_type": "code",
   "execution_count": 1689,
   "metadata": {
    "colab": {},
    "colab_type": "code",
    "id": "zsJAwJ8QVp_J"
   },
   "outputs": [
    {
     "data": {
      "text/plain": [
       "Drama    782\n",
       "dtype: int64"
      ]
     },
     "execution_count": 1689,
     "metadata": {},
     "output_type": "execute_result"
    }
   ],
   "source": [
    "# эту задачу тоже можно решать разными подходами, попробуй реализовать разные варианты\n",
    "# если будешь добавлять функцию - выноси ее в предобработку что в начале\n",
    "\n",
    "# формируем серию где индексы - жанры, а значения - количество фильмов с таким жанром\n",
    "# обрабатываем функцией, так как в поле жанр может быть несколько значений\n",
    "series_aggregation_first_column(data.genres.value_counts(), 'sum', top=1)\n"
   ]
  },
  {
   "cell_type": "code",
   "execution_count": 1690,
   "metadata": {},
   "outputs": [],
   "source": [
    "# +\n",
    "answers['11'] = 'Drama'"
   ]
  },
  {
   "cell_type": "markdown",
   "metadata": {
    "colab_type": "text",
    "id": "Ax6g2C8SVp_M"
   },
   "source": [
    "ВАРИАНТ 2"
   ]
  },
  {
   "cell_type": "code",
   "execution_count": 1691,
   "metadata": {},
   "outputs": [
    {
     "name": "stdout",
     "output_type": "stream",
     "text": [
      "Drama\n"
     ]
    }
   ],
   "source": [
    "# создаем пустую коллекцию\n",
    "genre_counter = Counter()\n",
    "\n",
    "# делаем выгрузку из дата фрейма и заполняем коллекцию значениями жанров\n",
    "for genre_all, genre_count in data.genres.value_counts().items():\n",
    "    for genre in genre_all.split('|'):\n",
    "        genre_counter[genre] += genre_count\n",
    "\n",
    "# получаем максимальное значения в словаре\n",
    "max_count = max(genre_counter.values())\n",
    "\n",
    "# ищем значение ключа, в котором находится жанр с максимальным количеством\n",
    "for genre, item in genre_counter.items(): \n",
    "    if item == max_count: print(genre)\n"
   ]
  },
  {
   "cell_type": "markdown",
   "metadata": {
    "colab_type": "text",
    "id": "T9_bPWpkVp_Q"
   },
   "source": [
    "# 12. Фильмы какого жанра чаще всего становятся прибыльными? "
   ]
  },
  {
   "cell_type": "code",
   "execution_count": 1692,
   "metadata": {},
   "outputs": [
    {
     "data": {
      "text/plain": [
       "Drama    560\n",
       "dtype: int64"
      ]
     },
     "execution_count": 1692,
     "metadata": {},
     "output_type": "execute_result"
    }
   ],
   "source": [
    "# формируем серию из прибыльных фильмов, где индес - жанр, значение - количество фильмов\n",
    "profitable_film_genre = data[data.profit > 0].groupby(['genres'])['profit'].count()\n",
    "\n",
    "# обрабатываем функцией, так как в поле \"жанр\" может быть несколько значений\n",
    "series_aggregation_first_column(profitable_film_genre, top=1)\n"
   ]
  },
  {
   "cell_type": "code",
   "execution_count": 1694,
   "metadata": {},
   "outputs": [],
   "source": [
    "# +\n",
    "answers['12'] = 'Drama'"
   ]
  },
  {
   "cell_type": "markdown",
   "metadata": {
    "colab_type": "text",
    "id": "0F23bgsDVp_U"
   },
   "source": [
    "# 13. У какого режиссера самые большие суммарные кассовые сбооры?"
   ]
  },
  {
   "cell_type": "code",
   "execution_count": 1695,
   "metadata": {
    "colab": {},
    "colab_type": "code",
    "id": "K6Z3J8ygVp_X",
    "scrolled": true
   },
   "outputs": [
    {
     "data": {
      "text/plain": [
       "Peter Jackson    6490593685\n",
       "dtype: int64"
      ]
     },
     "execution_count": 1695,
     "metadata": {},
     "output_type": "execute_result"
    }
   ],
   "source": [
    "# формируем серию - группируем по полю директор и суммируя кассовые сборы\n",
    "director_revenue = data.groupby(['director'])['revenue'].sum()\n",
    "\n",
    "# обрабатываем функцией, так как в поле \"директор\" может быть несколько значений\n",
    "series_aggregation_first_column(director_revenue, top=1)"
   ]
  },
  {
   "cell_type": "code",
   "execution_count": 1696,
   "metadata": {},
   "outputs": [],
   "source": [
    "# +\n",
    "answers['13'] = 'Peter Jackson'"
   ]
  },
  {
   "cell_type": "markdown",
   "metadata": {
    "colab_type": "text",
    "id": "PsYC9FgRVp_a"
   },
   "source": [
    "# 14. Какой режисер снял больше всего фильмов в стиле Action?"
   ]
  },
  {
   "cell_type": "code",
   "execution_count": 1697,
   "metadata": {
    "colab": {},
    "colab_type": "code",
    "id": "wd2M-wHeVp_b"
   },
   "outputs": [
    {
     "data": {
      "text/plain": [
       "Robert Rodriguez      9\n",
       "Paul W.S. Anderson    7\n",
       "Michael Bay           7\n",
       "dtype: int64"
      ]
     },
     "execution_count": 1697,
     "metadata": {},
     "output_type": "execute_result"
    }
   ],
   "source": [
    "\n",
    "director_genres = data[ ['director','genres'] ][data.genres.str.contains('Action', na=False)]\n",
    "\n",
    "director_genres = director_genres.groupby(['director'])['genres'].count()\n",
    "\n",
    "# обрабатываем функцией, так как в поле \"директор \" может быть несколько значений\n",
    "series_aggregation_first_column(director_genres, 'sum', top=3)\n"
   ]
  },
  {
   "cell_type": "code",
   "execution_count": 1698,
   "metadata": {},
   "outputs": [],
   "source": [
    "# +\n",
    "answers['14'] = 'Robert Rodriguez'"
   ]
  },
  {
   "cell_type": "markdown",
   "metadata": {
    "colab_type": "text",
    "id": "PQ0KciD7Vp_f"
   },
   "source": [
    "# 15. Фильмы с каким актером принесли самые высокие кассовые сборы в 2012 году? "
   ]
  },
  {
   "cell_type": "code",
   "execution_count": null,
   "metadata": {
    "colab": {},
    "colab_type": "code",
    "id": "aga62oeKVp_g",
    "scrolled": true
   },
   "outputs": [],
   "source": []
  },
  {
   "cell_type": "code",
   "execution_count": 1699,
   "metadata": {},
   "outputs": [
    {
     "data": {
      "text/plain": [
       "Chris Hemsworth    2027450773\n",
       "dtype: int64"
      ]
     },
     "execution_count": 1699,
     "metadata": {},
     "output_type": "execute_result"
    }
   ],
   "source": [
    "\n",
    "top_actor_2012 = data.query('release_year == 2012').groupby(['cast'])['revenue'].sum()\n",
    "\n",
    "# обрабатываем функцией, так как в поле \"актер\" может быть несколько значений\n",
    "series_aggregation_first_column( top_actor_2012 ,'sum', top=1)\n"
   ]
  },
  {
   "cell_type": "code",
   "execution_count": 1700,
   "metadata": {},
   "outputs": [],
   "source": [
    "# +\n",
    "answers['15'] = 'Chris Hemsworth'"
   ]
  },
  {
   "cell_type": "markdown",
   "metadata": {
    "colab_type": "text",
    "id": "mWHyyL7QVp_j"
   },
   "source": [
    "# 16. Какой актер снялся в большем количестве высокобюджетных фильмов?"
   ]
  },
  {
   "cell_type": "code",
   "execution_count": 1701,
   "metadata": {
    "colab": {},
    "colab_type": "code",
    "id": "qQtmHKTFVp_k"
   },
   "outputs": [
    {
     "data": {
      "text/plain": [
       "Matt Damon        18\n",
       "Adam Sandler      17\n",
       "Angelina Jolie    16\n",
       "dtype: int64"
      ]
     },
     "execution_count": 1701,
     "metadata": {},
     "output_type": "execute_result"
    }
   ],
   "source": [
    "# высокобюджетные - фильмы, где бюджет выше среднего по данной выборке\n",
    "\n",
    "top_actor = data[data.budget > data.budget.mean()].groupby(['cast'])['revenue'].count()\n",
    "\n",
    "# обрабатываем функцией, так как в поле \"актер\" может быть несколько значений\n",
    "series_aggregation_first_column(top_actor ,'sum', top=3)\n"
   ]
  },
  {
   "cell_type": "code",
   "execution_count": 1702,
   "metadata": {},
   "outputs": [],
   "source": [
    "# +\n",
    "answers['16'] = 'Matt Damon'"
   ]
  },
  {
   "cell_type": "markdown",
   "metadata": {
    "colab_type": "text",
    "id": "NIh6AaW5Vp_n"
   },
   "source": [
    "# 17. В фильмах какого жанра больше всего снимался Nicolas Cage? "
   ]
  },
  {
   "cell_type": "code",
   "execution_count": 1703,
   "metadata": {
    "colab": {},
    "colab_type": "code",
    "id": "H74SJDIBVp_n",
    "scrolled": true
   },
   "outputs": [
    {
     "data": {
      "text/plain": [
       "Action      17\n",
       "Thriller    15\n",
       "Drama       12\n",
       "dtype: int64"
      ]
     },
     "execution_count": 1703,
     "metadata": {},
     "output_type": "execute_result"
    }
   ],
   "source": [
    "favorite_genre = data[data.cast.str.contains('Nicolas Cage', na=False)].groupby(['genres'])['cast'].count()\n",
    "\n",
    "# обрабатываем функцией, так как в поле \"жанр\" может быть несколько значений\n",
    "series_aggregation_first_column( favorite_genre ,'sum', top=3)"
   ]
  },
  {
   "cell_type": "code",
   "execution_count": 1704,
   "metadata": {},
   "outputs": [],
   "source": [
    "answers['17'] = 'Action'"
   ]
  },
  {
   "cell_type": "markdown",
   "metadata": {
    "colab_type": "text",
    "id": "RqOmPRfWVp_q"
   },
   "source": [
    "# 18. Самый убыточный фильм от Paramount Pictures"
   ]
  },
  {
   "cell_type": "code",
   "execution_count": 1705,
   "metadata": {
    "colab": {},
    "colab_type": "code",
    "id": "9E_B0Y96Vp_r"
   },
   "outputs": [
    {
     "name": "stdout",
     "output_type": "stream",
     "text": [
      "K-19: The Widowmaker (tt0267626)\n"
     ]
    }
   ],
   "source": [
    "\n",
    "movie_name = data[data.profit == data[data.production_companies.str.contains('Paramount Pictures')].profit.min()]\n",
    "\n",
    "preparation_answer(movie_name)"
   ]
  },
  {
   "cell_type": "code",
   "execution_count": 1706,
   "metadata": {},
   "outputs": [],
   "source": [
    "answers['18'] = 'K-19: The Widowmaker (tt0267626)'"
   ]
  },
  {
   "cell_type": "markdown",
   "metadata": {
    "colab_type": "text",
    "id": "vS8Ur6ddVp_u"
   },
   "source": [
    "# 19. Какой год стал самым успешным по суммарным кассовым сборам?"
   ]
  },
  {
   "cell_type": "code",
   "execution_count": 1707,
   "metadata": {
    "colab": {},
    "colab_type": "code",
    "id": "Dnbt4GdIVp_v"
   },
   "outputs": [
    {
     "data": {
      "text/plain": [
       "release_year\n",
       "2015    25449202382\n",
       "Name: revenue, dtype: int64"
      ]
     },
     "execution_count": 1707,
     "metadata": {},
     "output_type": "execute_result"
    }
   ],
   "source": [
    "data.groupby(['release_year'])['revenue'].sum().sort_values().tail(1)"
   ]
  },
  {
   "cell_type": "code",
   "execution_count": 1708,
   "metadata": {},
   "outputs": [],
   "source": [
    "answers['19'] = 2015"
   ]
  },
  {
   "cell_type": "markdown",
   "metadata": {
    "colab_type": "text",
    "id": "JAzJh4QAVp_z"
   },
   "source": [
    "# 20. Какой самый прибыльный год для студии Warner Bros?"
   ]
  },
  {
   "cell_type": "code",
   "execution_count": 1709,
   "metadata": {
    "colab": {},
    "colab_type": "code",
    "id": "wgVu02DEVp_0"
   },
   "outputs": [
    {
     "data": {
      "text/plain": [
       "release_year\n",
       "2014    2295464519\n",
       "Name: profit, dtype: int64"
      ]
     },
     "execution_count": 1709,
     "metadata": {},
     "output_type": "execute_result"
    }
   ],
   "source": [
    "wb_profit = data[data.production_companies.str.contains('Warner Bros', na=False)]\n",
    "\n",
    "wb_profit.groupby(['release_year'])['profit'].sum().sort_values(ascending=False).head(1)"
   ]
  },
  {
   "cell_type": "code",
   "execution_count": 1710,
   "metadata": {},
   "outputs": [],
   "source": [
    "# +\n",
    "answers['20'] = 2014"
   ]
  },
  {
   "cell_type": "markdown",
   "metadata": {
    "colab_type": "text",
    "id": "8Im1S2HRVp_4"
   },
   "source": [
    "# 21. В каком месяце за все годы суммарно вышло больше всего фильмов?"
   ]
  },
  {
   "cell_type": "code",
   "execution_count": 1711,
   "metadata": {
    "colab": {},
    "colab_type": "code",
    "id": "lev6TH7gVp_4"
   },
   "outputs": [
    {
     "data": {
      "text/plain": [
       "9    227\n",
       "Name: release_month, dtype: int64"
      ]
     },
     "execution_count": 1711,
     "metadata": {},
     "output_type": "execute_result"
    }
   ],
   "source": [
    "# Вариант 1\n",
    "data.release_month.value_counts().sort_values().tail(1)"
   ]
  },
  {
   "cell_type": "code",
   "execution_count": 1712,
   "metadata": {},
   "outputs": [
    {
     "data": {
      "text/plain": [
       "release_month\n",
       "9    227\n",
       "Name: imdb_id, dtype: int64"
      ]
     },
     "execution_count": 1712,
     "metadata": {},
     "output_type": "execute_result"
    }
   ],
   "source": [
    "# Вариант 2\n",
    "data.groupby(['release_month'])['imdb_id'].count().sort_values().tail(1)"
   ]
  },
  {
   "cell_type": "code",
   "execution_count": 1713,
   "metadata": {},
   "outputs": [],
   "source": [
    "# +\n",
    "answers['21'] = 'Сентябрь'"
   ]
  },
  {
   "cell_type": "markdown",
   "metadata": {
    "colab_type": "text",
    "id": "uAJsZ_NeVp_7"
   },
   "source": [
    "# 22. Сколько суммарно вышло фильмов летом? (за июнь, июль, август)"
   ]
  },
  {
   "cell_type": "code",
   "execution_count": 1714,
   "metadata": {},
   "outputs": [
    {
     "data": {
      "text/plain": [
       "450"
      ]
     },
     "execution_count": 1714,
     "metadata": {},
     "output_type": "execute_result"
    }
   ],
   "source": [
    "# \n",
    "len(data.query('release_month in [6, 7, 8]'))"
   ]
  },
  {
   "cell_type": "code",
   "execution_count": 1715,
   "metadata": {},
   "outputs": [],
   "source": [
    "# +\n",
    "answers['22'] = 450"
   ]
  },
  {
   "cell_type": "markdown",
   "metadata": {
    "colab_type": "text",
    "id": "G94ppOY1VqAA"
   },
   "source": [
    "# 23. Для какого режиссера зима – самое продуктивное время года? "
   ]
  },
  {
   "cell_type": "code",
   "execution_count": 1716,
   "metadata": {
    "colab": {},
    "colab_type": "code",
    "id": "RhNTsamuVqAB"
   },
   "outputs": [
    {
     "data": {
      "text/plain": [
       "Peter Jackson        7\n",
       "Steven Soderbergh    6\n",
       "Clint Eastwood       6\n",
       "dtype: int64"
      ]
     },
     "execution_count": 1716,
     "metadata": {},
     "output_type": "execute_result"
    }
   ],
   "source": [
    "\n",
    "winter_director = data.query('release_month in [1, 2, 12]').director.value_counts()\n",
    "\n",
    "# обрабатываем функцией, так как в поле \"директор\" может быть несколько значений\n",
    "series_aggregation_first_column(winter_director,'sum', top=3)"
   ]
  },
  {
   "cell_type": "code",
   "execution_count": 1717,
   "metadata": {},
   "outputs": [],
   "source": [
    "# +\n",
    "answers['23'] = 'Peter Jackson'"
   ]
  },
  {
   "cell_type": "markdown",
   "metadata": {
    "colab_type": "text",
    "id": "RBo0JVjVVqAF"
   },
   "source": [
    "# 24. Какая студия дает самые длинные названия своим фильмам по количеству символов?"
   ]
  },
  {
   "cell_type": "code",
   "execution_count": 1718,
   "metadata": {
    "colab": {},
    "colab_type": "code",
    "id": "QRGS8L0iVqAG",
    "scrolled": true
   },
   "outputs": [
    {
     "data": {
      "text/plain": [
       "'Four By Two Productions'"
      ]
     },
     "execution_count": 1718,
     "metadata": {},
     "output_type": "execute_result"
    }
   ],
   "source": [
    "\n",
    "max_len = data.original_title.str.len().max()\n",
    "\n",
    "data[data.original_title.str.len() == max_len].production_companies.iloc[0].split('|')[1]\n",
    "\n"
   ]
  },
  {
   "cell_type": "code",
   "execution_count": 1719,
   "metadata": {},
   "outputs": [],
   "source": [
    "# +\n",
    "answers['24'] = 'Four By Two Productions' "
   ]
  },
  {
   "cell_type": "markdown",
   "metadata": {
    "colab_type": "text",
    "id": "9G0hbvR7VqAK"
   },
   "source": [
    "# 25. Описание фильмов какой студии в среднем самые длинные по количеству слов?"
   ]
  },
  {
   "cell_type": "code",
   "execution_count": 1720,
   "metadata": {},
   "outputs": [
    {
     "data": {
      "text/plain": [
       "'Midnight Picture Show'"
      ]
     },
     "execution_count": 1720,
     "metadata": {},
     "output_type": "execute_result"
    }
   ],
   "source": [
    "# \n",
    "\n",
    "word_count_overview_max = data[data.word_count_overview > data.word_count_overview.mean()].word_count_overview.max()\n",
    "\n",
    "data[data.word_count_overview == word_count_overview_max].production_companies.iloc[0].split('|')[3]\n"
   ]
  },
  {
   "cell_type": "code",
   "execution_count": 1721,
   "metadata": {},
   "outputs": [],
   "source": [
    "# +\n",
    "answers['25'] = 'Midnight Picture Show'"
   ]
  },
  {
   "cell_type": "markdown",
   "metadata": {
    "colab_type": "text",
    "id": "FJ1AFt90VqAP"
   },
   "source": [
    "# 26. Какие фильмы входят в 1 процент лучших по рейтингу? \n",
    "по vote_average"
   ]
  },
  {
   "cell_type": "code",
   "execution_count": 1722,
   "metadata": {},
   "outputs": [
    {
     "data": {
      "text/html": [
       "<div>\n",
       "<style scoped>\n",
       "    .dataframe tbody tr th:only-of-type {\n",
       "        vertical-align: middle;\n",
       "    }\n",
       "\n",
       "    .dataframe tbody tr th {\n",
       "        vertical-align: top;\n",
       "    }\n",
       "\n",
       "    .dataframe thead th {\n",
       "        text-align: right;\n",
       "    }\n",
       "</style>\n",
       "<table border=\"1\" class=\"dataframe\">\n",
       "  <thead>\n",
       "    <tr style=\"text-align: right;\">\n",
       "      <th></th>\n",
       "      <th>original_title</th>\n",
       "      <th>vote_average</th>\n",
       "    </tr>\n",
       "  </thead>\n",
       "  <tbody>\n",
       "    <tr>\n",
       "      <th>599</th>\n",
       "      <td>The Dark Knight</td>\n",
       "      <td>8.1</td>\n",
       "    </tr>\n",
       "    <tr>\n",
       "      <th>125</th>\n",
       "      <td>The Imitation Game</td>\n",
       "      <td>8.0</td>\n",
       "    </tr>\n",
       "    <tr>\n",
       "      <th>9</th>\n",
       "      <td>Inside Out</td>\n",
       "      <td>8.0</td>\n",
       "    </tr>\n",
       "    <tr>\n",
       "      <th>118</th>\n",
       "      <td>Interstellar</td>\n",
       "      <td>8.0</td>\n",
       "    </tr>\n",
       "    <tr>\n",
       "      <th>34</th>\n",
       "      <td>Room</td>\n",
       "      <td>8.0</td>\n",
       "    </tr>\n",
       "    <tr>\n",
       "      <th>1081</th>\n",
       "      <td>The Lord of the Rings: The Return of the King</td>\n",
       "      <td>7.9</td>\n",
       "    </tr>\n",
       "    <tr>\n",
       "      <th>138</th>\n",
       "      <td>The Grand Budapest Hotel</td>\n",
       "      <td>7.9</td>\n",
       "    </tr>\n",
       "    <tr>\n",
       "      <th>1183</th>\n",
       "      <td>The Wolf of Wall Street</td>\n",
       "      <td>7.9</td>\n",
       "    </tr>\n",
       "    <tr>\n",
       "      <th>370</th>\n",
       "      <td>Inception</td>\n",
       "      <td>7.9</td>\n",
       "    </tr>\n",
       "    <tr>\n",
       "      <th>119</th>\n",
       "      <td>Guardians of the Galaxy</td>\n",
       "      <td>7.9</td>\n",
       "    </tr>\n",
       "    <tr>\n",
       "      <th>1800</th>\n",
       "      <td>Memento</td>\n",
       "      <td>7.9</td>\n",
       "    </tr>\n",
       "    <tr>\n",
       "      <th>128</th>\n",
       "      <td>Gone Girl</td>\n",
       "      <td>7.9</td>\n",
       "    </tr>\n",
       "    <tr>\n",
       "      <th>872</th>\n",
       "      <td>The Pianist</td>\n",
       "      <td>7.9</td>\n",
       "    </tr>\n",
       "    <tr>\n",
       "      <th>1191</th>\n",
       "      <td>12 Years a Slave</td>\n",
       "      <td>7.9</td>\n",
       "    </tr>\n",
       "    <tr>\n",
       "      <th>283</th>\n",
       "      <td>Mr. Nobody</td>\n",
       "      <td>7.8</td>\n",
       "    </tr>\n",
       "    <tr>\n",
       "      <th>1688</th>\n",
       "      <td>There Will Be Blood</td>\n",
       "      <td>7.8</td>\n",
       "    </tr>\n",
       "    <tr>\n",
       "      <th>863</th>\n",
       "      <td>The Lord of the Rings: The Two Towers</td>\n",
       "      <td>7.8</td>\n",
       "    </tr>\n",
       "    <tr>\n",
       "      <th>155</th>\n",
       "      <td>The Theory of Everything</td>\n",
       "      <td>7.8</td>\n",
       "    </tr>\n",
       "    <tr>\n",
       "      <th>1563</th>\n",
       "      <td>Eternal Sunshine of the Spotless Mind</td>\n",
       "      <td>7.8</td>\n",
       "    </tr>\n",
       "  </tbody>\n",
       "</table>\n",
       "</div>"
      ],
      "text/plain": [
       "                                     original_title  vote_average\n",
       "599                                 The Dark Knight           8.1\n",
       "125                              The Imitation Game           8.0\n",
       "9                                        Inside Out           8.0\n",
       "118                                    Interstellar           8.0\n",
       "34                                             Room           8.0\n",
       "1081  The Lord of the Rings: The Return of the King           7.9\n",
       "138                        The Grand Budapest Hotel           7.9\n",
       "1183                        The Wolf of Wall Street           7.9\n",
       "370                                       Inception           7.9\n",
       "119                         Guardians of the Galaxy           7.9\n",
       "1800                                        Memento           7.9\n",
       "128                                       Gone Girl           7.9\n",
       "872                                     The Pianist           7.9\n",
       "1191                               12 Years a Slave           7.9\n",
       "283                                      Mr. Nobody           7.8\n",
       "1688                            There Will Be Blood           7.8\n",
       "863           The Lord of the Rings: The Two Towers           7.8\n",
       "155                        The Theory of Everything           7.8\n",
       "1563          Eternal Sunshine of the Spotless Mind           7.8"
      ]
     },
     "metadata": {},
     "output_type": "display_data"
    }
   ],
   "source": [
    "# \n",
    "count_last_procent = round(0.01 * len(data))\n",
    "\n",
    "# \n",
    "last_procent = data.vote_average.sort_values(ascending=False).head(count_last_procent).index\n",
    "\n",
    "# \n",
    "top_movies = data.loc[last_procent][['original_title','vote_average']]\n",
    "display(top_movies)"
   ]
  },
  {
   "cell_type": "code",
   "execution_count": 1723,
   "metadata": {},
   "outputs": [
    {
     "data": {
      "text/html": [
       "<div>\n",
       "<style scoped>\n",
       "    .dataframe tbody tr th:only-of-type {\n",
       "        vertical-align: middle;\n",
       "    }\n",
       "\n",
       "    .dataframe tbody tr th {\n",
       "        vertical-align: top;\n",
       "    }\n",
       "\n",
       "    .dataframe thead th {\n",
       "        text-align: right;\n",
       "    }\n",
       "</style>\n",
       "<table border=\"1\" class=\"dataframe\">\n",
       "  <thead>\n",
       "    <tr style=\"text-align: right;\">\n",
       "      <th></th>\n",
       "      <th>original_title</th>\n",
       "      <th>vote_average</th>\n",
       "    </tr>\n",
       "  </thead>\n",
       "  <tbody>\n",
       "    <tr>\n",
       "      <th>599</th>\n",
       "      <td>The Dark Knight</td>\n",
       "      <td>8.1</td>\n",
       "    </tr>\n",
       "    <tr>\n",
       "      <th>9</th>\n",
       "      <td>Inside Out</td>\n",
       "      <td>8.0</td>\n",
       "    </tr>\n",
       "    <tr>\n",
       "      <th>1191</th>\n",
       "      <td>12 Years a Slave</td>\n",
       "      <td>7.9</td>\n",
       "    </tr>\n",
       "  </tbody>\n",
       "</table>\n",
       "</div>"
      ],
      "text/plain": [
       "        original_title  vote_average\n",
       "599    The Dark Knight           8.1\n",
       "9           Inside Out           8.0\n",
       "1191  12 Years a Slave           7.9"
      ]
     },
     "execution_count": 1723,
     "metadata": {},
     "output_type": "execute_result"
    }
   ],
   "source": [
    "# Проверим, что из варианта №1 все 3 фильма находятся в в выборке 1% лучших фильмов\n",
    "\n",
    "answer = ['Inside Out', 'The Dark Knight', '12 Years a Slave']\n",
    "\n",
    "top_movies.query('original_title in @answer')\n"
   ]
  },
  {
   "cell_type": "code",
   "execution_count": 1724,
   "metadata": {},
   "outputs": [],
   "source": [
    "# +\n",
    "answers['26'] = 'Inside Out, The Dark Knight, 12 Years a Slave'"
   ]
  },
  {
   "cell_type": "markdown",
   "metadata": {
    "colab_type": "text",
    "id": "MdXsUXbCVqAV"
   },
   "source": [
    "# 27. Какие актеры чаще всего снимаются в одном фильме вместе?\n"
   ]
  },
  {
   "cell_type": "code",
   "execution_count": 1725,
   "metadata": {},
   "outputs": [
    {
     "name": "stdout",
     "output_type": "stream",
     "text": [
      "[8, 8, 8, 6, 6]\n",
      "Daniel Radcliffe & Emma Watson\n",
      "Daniel Radcliffe & Rupert Grint\n",
      "Emma Watson & Rupert Grint\n"
     ]
    }
   ],
   "source": [
    "actors_pair = Counter()\n",
    "\n",
    "actors = data[data.cast.str.contains('|')].cast.unique()\n",
    "\n",
    "for pair in actors:\n",
    "    for actor in combinations(sorted(pair.split('|')), 2):\n",
    "        # print(actor[0], actor[1])\n",
    "        pair_key = actor[0] + ' & ' + actor[1]\n",
    "        actors_pair[pair_key] += 1\n",
    "\n",
    "count_colloboration_max = max(actors_pair.values())\n",
    "\n",
    "# выведем топ 5 верхних значений по количеству совместных съемок\n",
    "print(sorted(actors_pair.values(), reverse=True)[:5])\n",
    "\n",
    "# выведем из словаря только пары актеров, с максимальным количеством совместных съемок\n",
    "for pair, count_colloboration in actors_pair.items():\n",
    "    if count_colloboration == count_colloboration_max: \n",
    "        print(pair)\n",
    "    \n",
    "# \n"
   ]
  },
  {
   "cell_type": "code",
   "execution_count": 1726,
   "metadata": {},
   "outputs": [],
   "source": [
    "# +\n",
    "answers['27'] = 'Daniel Radcliffe & Rupert Grint'"
   ]
  },
  {
   "cell_type": "markdown",
   "metadata": {
    "colab_type": "text",
    "id": "4ymnxEVoVqAW"
   },
   "source": [
    "ВАРИАНТ 2"
   ]
  },
  {
   "cell_type": "code",
   "execution_count": null,
   "metadata": {},
   "outputs": [],
   "source": []
  },
  {
   "cell_type": "code",
   "execution_count": 1727,
   "metadata": {},
   "outputs": [
    {
     "data": {
      "text/plain": [
       "'Daniel Radcliffe & Rupert Grint'"
      ]
     },
     "execution_count": 1727,
     "metadata": {},
     "output_type": "execute_result"
    }
   ],
   "source": [
    "pair_actors = [  'Johnny Depp & Helena Bonham Carter',\n",
    "                'Ben Stiller & Owen Wilson',\n",
    "                'Vin Diesel & Paul Walker',\n",
    "                'Adam Sandler & Kevin James',\n",
    "                'Daniel Radcliffe & Rupert Grint']\n",
    "\n",
    "actor_pair_work = pd.Series(dtype=object)\n",
    "\n",
    "for pair_actor in pair_actors:\n",
    "    actor1, actor2 =  pair_actor.split(' & ')\n",
    "    pair_work_count = data[data.cast.str.contains(actor1) & data.cast.str.contains(actor2)].imdb_id.count()\n",
    "    #print(pair_work_count, '|', pair_actor)\n",
    "    actor_pair_work[pair_actor] = pair_work_count\n",
    "\n",
    "actor_pair_work.sort_values(ascending=False).head(1).index[0]\n"
   ]
  },
  {
   "cell_type": "markdown",
   "metadata": {
    "colab_type": "text",
    "id": "U0nONFnGVqAX"
   },
   "source": [
    "# Submission"
   ]
  },
  {
   "cell_type": "code",
   "execution_count": 1728,
   "metadata": {
    "colab": {},
    "colab_type": "code",
    "id": "IfcaRO9-VqAX",
    "outputId": "0f132912-32bb-4196-c98c-abfbc4ad5a5f"
   },
   "outputs": [
    {
     "data": {
      "text/plain": [
       "{'1': 'Pirates of the Caribbean: On Stranger Tides (tt1298650)',\n",
       " '2': 'Gods and Generals (tt0279111)',\n",
       " '3': 'Winnie the Pooh (tt1449283)',\n",
       " '4': 110,\n",
       " '5': 107,\n",
       " '6': 'Avatar (tt0499549)',\n",
       " '7': 'The Lone Ranger (tt1210819)',\n",
       " '8': 1478,\n",
       " '9': 'The Dark Knight (tt0468569)',\n",
       " '10': 'The Lone Ranger (tt1210819)',\n",
       " '11': 'Drama',\n",
       " '12': 'Drama',\n",
       " '13': 'Peter Jackson',\n",
       " '14': 'Robert Rodriguez',\n",
       " '15': 'Chris Hemsworth',\n",
       " '16': 'Matt Damon',\n",
       " '17': 'Action',\n",
       " '18': 'K-19: The Widowmaker (tt0267626)',\n",
       " '19': 2015,\n",
       " '20': 2014,\n",
       " '21': 'Сентябрь',\n",
       " '22': 450,\n",
       " '23': 'Peter Jackson',\n",
       " '24': 'Four By Two Productions',\n",
       " '25': 'Midnight Picture Show',\n",
       " '26': 'Inside Out, The Dark Knight, 12 Years a Slave',\n",
       " '27': 'Daniel Radcliffe & Rupert Grint'}"
      ]
     },
     "execution_count": 1728,
     "metadata": {},
     "output_type": "execute_result"
    }
   ],
   "source": [
    "# в конце можно посмотреть свои ответы к каждому вопросу\n",
    "\n",
    "# Вопрос № 1 ........ [ + ]\n",
    "# Вопрос № 2 ........ [ + ]\n",
    "# Вопрос № 3 ........ [ + ]\n",
    "# Вопрос № 4 ........ [ + ]\n",
    "# Вопрос № 5 ........ [ + ]\n",
    "# Вопрос № 6 ........ [ + ]\n",
    "# Вопрос № 7 ........ [ + ]\n",
    "# Вопрос № 8 ........ [ + ]\n",
    "# Вопрос № 9 ........ [ + ]\n",
    "# Вопрос № 10 ....... [ + ]\n",
    "# Вопрос № 11 ....... [ + ]\n",
    "# Вопрос № 12 ....... [ + ]\n",
    "# Вопрос № 13 ....... [ + ]\n",
    "# Вопрос № 14 ....... [ + ]\n",
    "# Вопрос № 15 ....... [ + ]\n",
    "# Вопрос № 16 ....... [ + ]\n",
    "# Вопрос № 17 ....... [ + ]\n",
    "# Вопрос № 18 ....... [ + ]\n",
    "# Вопрос № 19 ....... [ + ]\n",
    "# Вопрос № 20 ....... [ + ]\n",
    "# Вопрос № 21 ....... [ + ]\n",
    "# Вопрос № 22 ....... [ + ]\n",
    "# Вопрос № 23 ....... [ + ]\n",
    "# Вопрос № 24 ....... [ + ]\n",
    "# Вопрос № 25 ....... [ + ]\n",
    "# Вопрос № 26 ....... [ + ]\n",
    "# Вопрос № 27 ....... [ + ]\n",
    "\n",
    "answers"
   ]
  },
  {
   "cell_type": "code",
   "execution_count": 1729,
   "metadata": {
    "colab": {},
    "colab_type": "code",
    "id": "SiRmHPl8VqAd"
   },
   "outputs": [
    {
     "data": {
      "text/plain": [
       "27"
      ]
     },
     "execution_count": 1729,
     "metadata": {},
     "output_type": "execute_result"
    }
   ],
   "source": [
    "# и убедиться что ни чего не пропустил)\n",
    "len(answers)"
   ]
  },
  {
   "cell_type": "markdown",
   "metadata": {
    "colab": {},
    "colab_type": "code",
    "id": "uCfuTkRbVqAg"
   },
   "source": [
    "### Спасибо за внимание!"
   ]
  }
 ],
 "metadata": {
  "colab": {
   "name": "Copy of [SF-DST] Movies IMBD v4.1 TEMPLATE.ipynb",
   "provenance": []
  },
  "kernelspec": {
   "display_name": "Python 3",
   "language": "python",
   "name": "python3"
  },
  "language_info": {
   "codemirror_mode": {
    "name": "ipython",
    "version": 3
   },
   "file_extension": ".py",
   "mimetype": "text/x-python",
   "name": "python",
   "nbconvert_exporter": "python",
   "pygments_lexer": "ipython3",
   "version": "3.7.6"
  }
 },
 "nbformat": 4,
 "nbformat_minor": 1
}
