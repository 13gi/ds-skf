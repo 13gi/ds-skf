{
 "cells": [
  {
   "cell_type": "code",
   "execution_count": 1519,
   "metadata": {
    "_cell_guid": "b1076dfc-b9ad-4769-8c92-a6c4dae69d19",
    "_uuid": "8f2839f25d086af736a60e9eeb907d3b93b6e0e5",
    "colab": {},
    "colab_type": "code",
    "id": "U2D2gTdJVp90"
   },
   "outputs": [],
   "source": [
    "import numpy as np\n",
    "import pandas as pd\n",
    "import seaborn as sns\n",
    "import matplotlib.pyplot as plt\n",
    "from collections import Counter\n",
    "import re\n",
    "from itertools import combinations"
   ]
  },
  {
   "cell_type": "code",
   "execution_count": 1520,
   "metadata": {
    "_cell_guid": "79c7e3d0-c299-4dcb-8224-4455121ee9b0",
    "_uuid": "d629ff2d2480ee46fbb7e2d37f6b5fab8052498a",
    "colab": {},
    "colab_type": "code",
    "id": "oyGfxL3eVp9-"
   },
   "outputs": [
    {
     "data": {
      "text/html": [
       "<div>\n",
       "<style scoped>\n",
       "    .dataframe tbody tr th:only-of-type {\n",
       "        vertical-align: middle;\n",
       "    }\n",
       "\n",
       "    .dataframe tbody tr th {\n",
       "        vertical-align: top;\n",
       "    }\n",
       "\n",
       "    .dataframe thead th {\n",
       "        text-align: right;\n",
       "    }\n",
       "</style>\n",
       "<table border=\"1\" class=\"dataframe\">\n",
       "  <thead>\n",
       "    <tr style=\"text-align: right;\">\n",
       "      <th></th>\n",
       "      <th>imdb_id</th>\n",
       "      <th>budget</th>\n",
       "      <th>revenue</th>\n",
       "      <th>original_title</th>\n",
       "      <th>cast</th>\n",
       "      <th>director</th>\n",
       "      <th>tagline</th>\n",
       "      <th>overview</th>\n",
       "      <th>runtime</th>\n",
       "      <th>genres</th>\n",
       "      <th>production_companies</th>\n",
       "      <th>release_date</th>\n",
       "      <th>vote_average</th>\n",
       "      <th>release_year</th>\n",
       "    </tr>\n",
       "  </thead>\n",
       "  <tbody>\n",
       "    <tr>\n",
       "      <th>1858</th>\n",
       "      <td>tt0120913</td>\n",
       "      <td>75000000</td>\n",
       "      <td>36754634</td>\n",
       "      <td>Titan A.E.</td>\n",
       "      <td>Matt Damon|Bill Pullman|Drew Barrymore|John Le...</td>\n",
       "      <td>Don Bluth|Gary Goldman</td>\n",
       "      <td>When Earth Ends, The Adventure Begins.</td>\n",
       "      <td>A young man finds out that he holds the key to...</td>\n",
       "      <td>94</td>\n",
       "      <td>Animation|Action|Science Fiction|Family|Adventure</td>\n",
       "      <td>Twentieth Century Fox Film Corporation|David K...</td>\n",
       "      <td>6/16/2000</td>\n",
       "      <td>6.1</td>\n",
       "      <td>2000</td>\n",
       "    </tr>\n",
       "    <tr>\n",
       "      <th>1207</th>\n",
       "      <td>tt1588173</td>\n",
       "      <td>35000000</td>\n",
       "      <td>116980662</td>\n",
       "      <td>Warm Bodies</td>\n",
       "      <td>Nicholas Hoult|Teresa Palmer|Analeigh Tipton|R...</td>\n",
       "      <td>Jonathan Levine</td>\n",
       "      <td>Cold body. Warm heart.</td>\n",
       "      <td>After a zombie becomes involved with the girlf...</td>\n",
       "      <td>97</td>\n",
       "      <td>Horror|Comedy|Romance</td>\n",
       "      <td>Summit Entertainment</td>\n",
       "      <td>1/31/2013</td>\n",
       "      <td>6.4</td>\n",
       "      <td>2013</td>\n",
       "    </tr>\n",
       "    <tr>\n",
       "      <th>1525</th>\n",
       "      <td>tt0419946</td>\n",
       "      <td>20000000</td>\n",
       "      <td>22165608</td>\n",
       "      <td>The Marine</td>\n",
       "      <td>John Cena|Kelly Carlson|Robert Patrick|Abigail...</td>\n",
       "      <td>John Bonito</td>\n",
       "      <td>War is Fine But The Fight Continues</td>\n",
       "      <td>A group of diamond thieves on the run kidnap t...</td>\n",
       "      <td>92</td>\n",
       "      <td>Action|Adventure|Drama|Thriller</td>\n",
       "      <td>Twentieth Century Fox Film Corporation|Pacific...</td>\n",
       "      <td>10/13/2006</td>\n",
       "      <td>5.0</td>\n",
       "      <td>2006</td>\n",
       "    </tr>\n",
       "    <tr>\n",
       "      <th>1793</th>\n",
       "      <td>tt0770772</td>\n",
       "      <td>11000000</td>\n",
       "      <td>13196245</td>\n",
       "      <td>I Think I Love My Wife</td>\n",
       "      <td>Chris Rock|Kerry Washington|Gina Torres|Steve ...</td>\n",
       "      <td>Chris Rock</td>\n",
       "      <td>In marriage no one can hear you scream.</td>\n",
       "      <td>Richard Cooper (Rock) is a married man and fat...</td>\n",
       "      <td>90</td>\n",
       "      <td>Comedy|Romance</td>\n",
       "      <td>Fox Searchlight Pictures</td>\n",
       "      <td>3/16/2007</td>\n",
       "      <td>5.3</td>\n",
       "      <td>2007</td>\n",
       "    </tr>\n",
       "    <tr>\n",
       "      <th>776</th>\n",
       "      <td>tt1583420</td>\n",
       "      <td>30000000</td>\n",
       "      <td>36160375</td>\n",
       "      <td>Larry Crowne</td>\n",
       "      <td>Tom Hanks|Julia Roberts|Bryan Cranston|Cedric ...</td>\n",
       "      <td>Tom Hanks</td>\n",
       "      <td>Rediscover life and love</td>\n",
       "      <td>After losing his job, a middle-aged man reinve...</td>\n",
       "      <td>98</td>\n",
       "      <td>Comedy|Romance|Drama</td>\n",
       "      <td>Universal Pictures|Playtone Productions|Vendom...</td>\n",
       "      <td>6/30/2011</td>\n",
       "      <td>5.6</td>\n",
       "      <td>2011</td>\n",
       "    </tr>\n",
       "  </tbody>\n",
       "</table>\n",
       "</div>"
      ],
      "text/plain": [
       "        imdb_id    budget    revenue          original_title  \\\n",
       "1858  tt0120913  75000000   36754634              Titan A.E.   \n",
       "1207  tt1588173  35000000  116980662             Warm Bodies   \n",
       "1525  tt0419946  20000000   22165608              The Marine   \n",
       "1793  tt0770772  11000000   13196245  I Think I Love My Wife   \n",
       "776   tt1583420  30000000   36160375            Larry Crowne   \n",
       "\n",
       "                                                   cast  \\\n",
       "1858  Matt Damon|Bill Pullman|Drew Barrymore|John Le...   \n",
       "1207  Nicholas Hoult|Teresa Palmer|Analeigh Tipton|R...   \n",
       "1525  John Cena|Kelly Carlson|Robert Patrick|Abigail...   \n",
       "1793  Chris Rock|Kerry Washington|Gina Torres|Steve ...   \n",
       "776   Tom Hanks|Julia Roberts|Bryan Cranston|Cedric ...   \n",
       "\n",
       "                    director                                  tagline  \\\n",
       "1858  Don Bluth|Gary Goldman   When Earth Ends, The Adventure Begins.   \n",
       "1207         Jonathan Levine                   Cold body. Warm heart.   \n",
       "1525             John Bonito      War is Fine But The Fight Continues   \n",
       "1793              Chris Rock  In marriage no one can hear you scream.   \n",
       "776                Tom Hanks                 Rediscover life and love   \n",
       "\n",
       "                                               overview  runtime  \\\n",
       "1858  A young man finds out that he holds the key to...       94   \n",
       "1207  After a zombie becomes involved with the girlf...       97   \n",
       "1525  A group of diamond thieves on the run kidnap t...       92   \n",
       "1793  Richard Cooper (Rock) is a married man and fat...       90   \n",
       "776   After losing his job, a middle-aged man reinve...       98   \n",
       "\n",
       "                                                 genres  \\\n",
       "1858  Animation|Action|Science Fiction|Family|Adventure   \n",
       "1207                              Horror|Comedy|Romance   \n",
       "1525                    Action|Adventure|Drama|Thriller   \n",
       "1793                                     Comedy|Romance   \n",
       "776                                Comedy|Romance|Drama   \n",
       "\n",
       "                                   production_companies release_date  \\\n",
       "1858  Twentieth Century Fox Film Corporation|David K...    6/16/2000   \n",
       "1207                               Summit Entertainment    1/31/2013   \n",
       "1525  Twentieth Century Fox Film Corporation|Pacific...   10/13/2006   \n",
       "1793                           Fox Searchlight Pictures    3/16/2007   \n",
       "776   Universal Pictures|Playtone Productions|Vendom...    6/30/2011   \n",
       "\n",
       "      vote_average  release_year  \n",
       "1858           6.1          2000  \n",
       "1207           6.4          2013  \n",
       "1525           5.0          2006  \n",
       "1793           5.3          2007  \n",
       "776            5.6          2011  "
      ]
     },
     "execution_count": 1520,
     "metadata": {},
     "output_type": "execute_result"
    }
   ],
   "source": [
    "data = pd.read_csv('movie_bd_v5.csv')\n",
    "data.sample(5)"
   ]
  },
  {
   "cell_type": "code",
   "execution_count": 1521,
   "metadata": {
    "colab": {},
    "colab_type": "code",
    "id": "CoYUnagMVp-C"
   },
   "outputs": [
    {
     "data": {
      "text/html": [
       "<div>\n",
       "<style scoped>\n",
       "    .dataframe tbody tr th:only-of-type {\n",
       "        vertical-align: middle;\n",
       "    }\n",
       "\n",
       "    .dataframe tbody tr th {\n",
       "        vertical-align: top;\n",
       "    }\n",
       "\n",
       "    .dataframe thead th {\n",
       "        text-align: right;\n",
       "    }\n",
       "</style>\n",
       "<table border=\"1\" class=\"dataframe\">\n",
       "  <thead>\n",
       "    <tr style=\"text-align: right;\">\n",
       "      <th></th>\n",
       "      <th>budget</th>\n",
       "      <th>revenue</th>\n",
       "      <th>runtime</th>\n",
       "      <th>vote_average</th>\n",
       "      <th>release_year</th>\n",
       "    </tr>\n",
       "  </thead>\n",
       "  <tbody>\n",
       "    <tr>\n",
       "      <th>count</th>\n",
       "      <td>1.889000e+03</td>\n",
       "      <td>1.889000e+03</td>\n",
       "      <td>1889.000000</td>\n",
       "      <td>1889.000000</td>\n",
       "      <td>1889.000000</td>\n",
       "    </tr>\n",
       "    <tr>\n",
       "      <th>mean</th>\n",
       "      <td>5.431083e+07</td>\n",
       "      <td>1.553653e+08</td>\n",
       "      <td>109.658549</td>\n",
       "      <td>6.140762</td>\n",
       "      <td>2007.860773</td>\n",
       "    </tr>\n",
       "    <tr>\n",
       "      <th>std</th>\n",
       "      <td>4.858721e+07</td>\n",
       "      <td>2.146698e+08</td>\n",
       "      <td>18.017041</td>\n",
       "      <td>0.764763</td>\n",
       "      <td>4.468841</td>\n",
       "    </tr>\n",
       "    <tr>\n",
       "      <th>min</th>\n",
       "      <td>5.000000e+06</td>\n",
       "      <td>2.033165e+06</td>\n",
       "      <td>63.000000</td>\n",
       "      <td>3.300000</td>\n",
       "      <td>2000.000000</td>\n",
       "    </tr>\n",
       "    <tr>\n",
       "      <th>25%</th>\n",
       "      <td>2.000000e+07</td>\n",
       "      <td>3.456058e+07</td>\n",
       "      <td>97.000000</td>\n",
       "      <td>5.600000</td>\n",
       "      <td>2004.000000</td>\n",
       "    </tr>\n",
       "    <tr>\n",
       "      <th>50%</th>\n",
       "      <td>3.800000e+07</td>\n",
       "      <td>8.361541e+07</td>\n",
       "      <td>107.000000</td>\n",
       "      <td>6.100000</td>\n",
       "      <td>2008.000000</td>\n",
       "    </tr>\n",
       "    <tr>\n",
       "      <th>75%</th>\n",
       "      <td>7.200000e+07</td>\n",
       "      <td>1.782626e+08</td>\n",
       "      <td>120.000000</td>\n",
       "      <td>6.600000</td>\n",
       "      <td>2012.000000</td>\n",
       "    </tr>\n",
       "    <tr>\n",
       "      <th>max</th>\n",
       "      <td>3.800000e+08</td>\n",
       "      <td>2.781506e+09</td>\n",
       "      <td>214.000000</td>\n",
       "      <td>8.100000</td>\n",
       "      <td>2015.000000</td>\n",
       "    </tr>\n",
       "  </tbody>\n",
       "</table>\n",
       "</div>"
      ],
      "text/plain": [
       "             budget       revenue      runtime  vote_average  release_year\n",
       "count  1.889000e+03  1.889000e+03  1889.000000   1889.000000   1889.000000\n",
       "mean   5.431083e+07  1.553653e+08   109.658549      6.140762   2007.860773\n",
       "std    4.858721e+07  2.146698e+08    18.017041      0.764763      4.468841\n",
       "min    5.000000e+06  2.033165e+06    63.000000      3.300000   2000.000000\n",
       "25%    2.000000e+07  3.456058e+07    97.000000      5.600000   2004.000000\n",
       "50%    3.800000e+07  8.361541e+07   107.000000      6.100000   2008.000000\n",
       "75%    7.200000e+07  1.782626e+08   120.000000      6.600000   2012.000000\n",
       "max    3.800000e+08  2.781506e+09   214.000000      8.100000   2015.000000"
      ]
     },
     "execution_count": 1521,
     "metadata": {},
     "output_type": "execute_result"
    }
   ],
   "source": [
    "data.describe()"
   ]
  },
  {
   "cell_type": "markdown",
   "metadata": {
    "colab_type": "text",
    "id": "DTIt7ezGVp-G"
   },
   "source": [
    "# Предобработка"
   ]
  },
  {
   "cell_type": "code",
   "execution_count": 1522,
   "metadata": {
    "colab": {},
    "colab_type": "code",
    "id": "jNb40DwKVp-H"
   },
   "outputs": [],
   "source": [
    "answers = {} # создадим словарь для ответов\n",
    "\n",
    "# тут другие ваши предобработки колонок например:\n",
    "\n",
    "#the time given in the dataset is in string format.\n",
    "#So we need to change this in datetime format\n",
    "# ...\n",
    "\n",
    "def preparation_answer(incomming_data):\n",
    "    '''\n",
    "    '''\n",
    "    movie_name = incomming_data.original_title.iloc[0]\n",
    "    movie_id = incomming_data.imdb_id.iloc[0]\n",
    "    print(movie_name, ' (', movie_id , ')', sep='')\n",
    "    return\n",
    "\n",
    "\n",
    "\n",
    "def year_detect(release_date):\n",
    "    '''\n",
    "    '''\n",
    "    result = re.search(r'\\d{4}', release_date)\n",
    "    if result:\n",
    "        return int(result.group(0))\n",
    "    else:\n",
    "        return 1970\n",
    "\n",
    "\n",
    "def month_detect(release_date):\n",
    "    '''\n",
    "    '''\n",
    "    result = re.search(r'^\\d\\d?', release_date)\n",
    "    if result:\n",
    "        month = int(result.group(0))\n",
    "        if month < 1 or month > 12:\n",
    "            month = 0\n",
    "        return month\n",
    "    else:\n",
    "        return 0\n",
    "\n",
    "\n",
    "def series_aggregation_first_column(incoming_data, agg_type='sum', top=5, sort_direction=False,):\n",
    "    '''\n",
    "    '''\n",
    "    result_series = pd.Series(dtype=object)\n",
    "\n",
    "    for column1, column2 in incoming_data.items():\n",
    "        \n",
    "        if agg_type == 'sum':\n",
    "            agg_parametr = column2\n",
    "        else:\n",
    "            agg_parametr = 1\n",
    "            \n",
    "        for item in column1.split('|'):\n",
    "            \n",
    "            if item in result_series.index:\n",
    "                result_series[item] += agg_parametr\n",
    "            else:\n",
    "                result_series[item] = agg_parametr\n",
    "\n",
    "    return result_series.sort_values(ascending=sort_direction).head(top)\n",
    "  \n",
    "\n",
    "\n",
    "data['profit'] = data.revenue - data.budget\n",
    "\n",
    "\n",
    "data['release_year'] = data.release_date.apply(year_detect)\n",
    "\n",
    "\n",
    "data['release_month'] = data.release_date.apply(month_detect)\n",
    "\n",
    "\n",
    "data['word_count_overview'] = data.overview.apply(lambda s: len(re.findall(r'\\w+', s.lower())))\n"
   ]
  },
  {
   "cell_type": "code",
   "execution_count": null,
   "metadata": {},
   "outputs": [],
   "source": []
  },
  {
   "cell_type": "code",
   "execution_count": 1523,
   "metadata": {},
   "outputs": [
    {
     "data": {
      "text/html": [
       "<div>\n",
       "<style scoped>\n",
       "    .dataframe tbody tr th:only-of-type {\n",
       "        vertical-align: middle;\n",
       "    }\n",
       "\n",
       "    .dataframe tbody tr th {\n",
       "        vertical-align: top;\n",
       "    }\n",
       "\n",
       "    .dataframe thead th {\n",
       "        text-align: right;\n",
       "    }\n",
       "</style>\n",
       "<table border=\"1\" class=\"dataframe\">\n",
       "  <thead>\n",
       "    <tr style=\"text-align: right;\">\n",
       "      <th></th>\n",
       "      <th>imdb_id</th>\n",
       "      <th>budget</th>\n",
       "      <th>revenue</th>\n",
       "      <th>original_title</th>\n",
       "      <th>cast</th>\n",
       "      <th>director</th>\n",
       "      <th>tagline</th>\n",
       "      <th>overview</th>\n",
       "      <th>runtime</th>\n",
       "      <th>genres</th>\n",
       "      <th>production_companies</th>\n",
       "      <th>release_date</th>\n",
       "      <th>vote_average</th>\n",
       "      <th>release_year</th>\n",
       "      <th>profit</th>\n",
       "      <th>release_month</th>\n",
       "      <th>word_count_overview</th>\n",
       "    </tr>\n",
       "  </thead>\n",
       "  <tbody>\n",
       "    <tr>\n",
       "      <th>1304</th>\n",
       "      <td>tt2083355</td>\n",
       "      <td>17000000</td>\n",
       "      <td>71625195</td>\n",
       "      <td>The Best Man Holiday</td>\n",
       "      <td>Terrence Howard|Harold Perrineau|Morris Chestn...</td>\n",
       "      <td>Malcolm D. Lee</td>\n",
       "      <td>Times change. Friendship doesn't.</td>\n",
       "      <td>When college friends reunite after 15 years ov...</td>\n",
       "      <td>123</td>\n",
       "      <td>Comedy</td>\n",
       "      <td>Universal</td>\n",
       "      <td>11/15/2013</td>\n",
       "      <td>7.0</td>\n",
       "      <td>2013</td>\n",
       "      <td>54625195</td>\n",
       "      <td>11</td>\n",
       "      <td>27</td>\n",
       "    </tr>\n",
       "    <tr>\n",
       "      <th>378</th>\n",
       "      <td>tt1130884</td>\n",
       "      <td>80000000</td>\n",
       "      <td>294804195</td>\n",
       "      <td>Shutter Island</td>\n",
       "      <td>Leonardo DiCaprio|Mark Ruffalo|Ben Kingsley|Em...</td>\n",
       "      <td>Martin Scorsese</td>\n",
       "      <td>Someone is missing.</td>\n",
       "      <td>World War II soldier-turned-U.S. Marshal. Tedd...</td>\n",
       "      <td>138</td>\n",
       "      <td>Drama|Thriller|Mystery</td>\n",
       "      <td>Paramount Pictures|Appian Way|Phoenix Pictures...</td>\n",
       "      <td>2/18/2010</td>\n",
       "      <td>7.6</td>\n",
       "      <td>2010</td>\n",
       "      <td>214804195</td>\n",
       "      <td>2</td>\n",
       "      <td>38</td>\n",
       "    </tr>\n",
       "    <tr>\n",
       "      <th>1388</th>\n",
       "      <td>tt0398712</td>\n",
       "      <td>30000000</td>\n",
       "      <td>35294470</td>\n",
       "      <td>Assault on Precinct 13</td>\n",
       "      <td>Ethan Hawke|Laurence Fishburne|Gabriel Byrne|M...</td>\n",
       "      <td>Jean-FranÃ§ois Richet</td>\n",
       "      <td>Unite and fight.</td>\n",
       "      <td>On New Year's Eve, inside a police station tha...</td>\n",
       "      <td>109</td>\n",
       "      <td>Thriller</td>\n",
       "      <td>Rogue Pictures|Why Not Productions|Liaison Fil...</td>\n",
       "      <td>1/19/2005</td>\n",
       "      <td>5.9</td>\n",
       "      <td>2005</td>\n",
       "      <td>5294470</td>\n",
       "      <td>1</td>\n",
       "      <td>42</td>\n",
       "    </tr>\n",
       "    <tr>\n",
       "      <th>207</th>\n",
       "      <td>tt1100089</td>\n",
       "      <td>24000000</td>\n",
       "      <td>12096300</td>\n",
       "      <td>Foxcatcher</td>\n",
       "      <td>Steve Carell|Channing Tatum|Mark Ruffalo|Sienn...</td>\n",
       "      <td>Bennett Miller</td>\n",
       "      <td>Based on the shocking true story</td>\n",
       "      <td>The greatest Olympic Wrestling Champion brothe...</td>\n",
       "      <td>134</td>\n",
       "      <td>Drama|Thriller</td>\n",
       "      <td>Likely Story|Media Rights Capital|Annapurna Pi...</td>\n",
       "      <td>5/19/2014</td>\n",
       "      <td>6.5</td>\n",
       "      <td>2014</td>\n",
       "      <td>-11903700</td>\n",
       "      <td>5</td>\n",
       "      <td>34</td>\n",
       "    </tr>\n",
       "    <tr>\n",
       "      <th>302</th>\n",
       "      <td>tt1075417</td>\n",
       "      <td>50000000</td>\n",
       "      <td>106303988</td>\n",
       "      <td>Race to Witch Mountain</td>\n",
       "      <td>Dwayne Johnson|AnnaSophia Robb|Alexander Ludwi...</td>\n",
       "      <td>Andy Fickman</td>\n",
       "      <td>The race is on</td>\n",
       "      <td>A taxi driver gets more than he bargained for ...</td>\n",
       "      <td>98</td>\n",
       "      <td>Adventure|Family|Fantasy|Science Fiction|Thriller</td>\n",
       "      <td>Walt Disney Pictures|Gunn Films</td>\n",
       "      <td>3/12/2009</td>\n",
       "      <td>5.4</td>\n",
       "      <td>2009</td>\n",
       "      <td>56303988</td>\n",
       "      <td>3</td>\n",
       "      <td>39</td>\n",
       "    </tr>\n",
       "  </tbody>\n",
       "</table>\n",
       "</div>"
      ],
      "text/plain": [
       "        imdb_id    budget    revenue          original_title  \\\n",
       "1304  tt2083355  17000000   71625195    The Best Man Holiday   \n",
       "378   tt1130884  80000000  294804195          Shutter Island   \n",
       "1388  tt0398712  30000000   35294470  Assault on Precinct 13   \n",
       "207   tt1100089  24000000   12096300              Foxcatcher   \n",
       "302   tt1075417  50000000  106303988  Race to Witch Mountain   \n",
       "\n",
       "                                                   cast  \\\n",
       "1304  Terrence Howard|Harold Perrineau|Morris Chestn...   \n",
       "378   Leonardo DiCaprio|Mark Ruffalo|Ben Kingsley|Em...   \n",
       "1388  Ethan Hawke|Laurence Fishburne|Gabriel Byrne|M...   \n",
       "207   Steve Carell|Channing Tatum|Mark Ruffalo|Sienn...   \n",
       "302   Dwayne Johnson|AnnaSophia Robb|Alexander Ludwi...   \n",
       "\n",
       "                   director                            tagline  \\\n",
       "1304         Malcolm D. Lee  Times change. Friendship doesn't.   \n",
       "378         Martin Scorsese                Someone is missing.   \n",
       "1388  Jean-FranÃ§ois Richet                   Unite and fight.   \n",
       "207          Bennett Miller   Based on the shocking true story   \n",
       "302            Andy Fickman                     The race is on   \n",
       "\n",
       "                                               overview  runtime  \\\n",
       "1304  When college friends reunite after 15 years ov...      123   \n",
       "378   World War II soldier-turned-U.S. Marshal. Tedd...      138   \n",
       "1388  On New Year's Eve, inside a police station tha...      109   \n",
       "207   The greatest Olympic Wrestling Champion brothe...      134   \n",
       "302   A taxi driver gets more than he bargained for ...       98   \n",
       "\n",
       "                                                 genres  \\\n",
       "1304                                             Comedy   \n",
       "378                              Drama|Thriller|Mystery   \n",
       "1388                                           Thriller   \n",
       "207                                      Drama|Thriller   \n",
       "302   Adventure|Family|Fantasy|Science Fiction|Thriller   \n",
       "\n",
       "                                   production_companies release_date  \\\n",
       "1304                                          Universal   11/15/2013   \n",
       "378   Paramount Pictures|Appian Way|Phoenix Pictures...    2/18/2010   \n",
       "1388  Rogue Pictures|Why Not Productions|Liaison Fil...    1/19/2005   \n",
       "207   Likely Story|Media Rights Capital|Annapurna Pi...    5/19/2014   \n",
       "302                     Walt Disney Pictures|Gunn Films    3/12/2009   \n",
       "\n",
       "      vote_average  release_year     profit  release_month  \\\n",
       "1304           7.0          2013   54625195             11   \n",
       "378            7.6          2010  214804195              2   \n",
       "1388           5.9          2005    5294470              1   \n",
       "207            6.5          2014  -11903700              5   \n",
       "302            5.4          2009   56303988              3   \n",
       "\n",
       "      word_count_overview  \n",
       "1304                   27  \n",
       "378                    38  \n",
       "1388                   42  \n",
       "207                    34  \n",
       "302                    39  "
      ]
     },
     "execution_count": 1523,
     "metadata": {},
     "output_type": "execute_result"
    }
   ],
   "source": [
    "data.sample(5)"
   ]
  },
  {
   "cell_type": "markdown",
   "metadata": {
    "colab_type": "text",
    "id": "YxZaH-nPVp-L"
   },
   "source": [
    "# 1. У какого фильма из списка самый большой бюджет?"
   ]
  },
  {
   "cell_type": "markdown",
   "metadata": {
    "colab_type": "text",
    "id": "Nd-G5gX6Vp-M"
   },
   "source": [
    "Использовать варианты ответов в коде решения запрещено.    \n",
    "Вы думаете и в жизни у вас будут варианты ответов?)"
   ]
  },
  {
   "cell_type": "code",
   "execution_count": 1524,
   "metadata": {
    "colab": {},
    "colab_type": "code",
    "id": "dZwb3m28Vp-S"
   },
   "outputs": [
    {
     "name": "stdout",
     "output_type": "stream",
     "text": [
      "Pirates of the Caribbean: On Stranger Tides (tt1298650)\n"
     ]
    }
   ],
   "source": [
    "# \n",
    "movie_name = data[data.budget == data.budget.max()]\n",
    "\n",
    "preparation_answer(movie_name)\n",
    "\n"
   ]
  },
  {
   "cell_type": "code",
   "execution_count": 1525,
   "metadata": {},
   "outputs": [],
   "source": [
    "# +\n",
    "answers['1'] = 'Pirates of the Caribbean: On Stranger Tides (tt1298650)'"
   ]
  },
  {
   "cell_type": "markdown",
   "metadata": {
    "colab_type": "text",
    "id": "K7L3nbRXVp-X"
   },
   "source": [
    "ВАРИАНТ 2"
   ]
  },
  {
   "cell_type": "code",
   "execution_count": 1597,
   "metadata": {
    "colab": {},
    "colab_type": "code",
    "id": "OGaoQI7rVp-X"
   },
   "outputs": [
    {
     "data": {
      "text/plain": [
       "'Pirates of the Caribbean: On Stranger Tides'"
      ]
     },
     "execution_count": 1597,
     "metadata": {},
     "output_type": "execute_result"
    }
   ],
   "source": [
    "# ранжируем колонку с бюджетами фильма, последнее значение будет максимальным.\n",
    "max_budget = data.budget.sort_values().tail(1)\n",
    "\n",
    "# берем значение индекса у максмального значения и получаем название фильма\n",
    "data.loc[max_budget.index[0]].original_title"
   ]
  },
  {
   "cell_type": "markdown",
   "metadata": {
    "colab_type": "text",
    "id": "FNRbbI3vVp-c"
   },
   "source": [
    "# 2. Какой из фильмов самый длительный (в минутах)?"
   ]
  },
  {
   "cell_type": "code",
   "execution_count": 1527,
   "metadata": {
    "colab": {},
    "colab_type": "code",
    "id": "ot-VX2XrVp-g"
   },
   "outputs": [
    {
     "name": "stdout",
     "output_type": "stream",
     "text": [
      "Gods and Generals (tt0279111)\n"
     ]
    }
   ],
   "source": [
    "\n",
    "movie_name = data[data.runtime == data.runtime.max()]\n",
    "\n",
    "preparation_answer(movie_name)\n"
   ]
  },
  {
   "cell_type": "code",
   "execution_count": 1528,
   "metadata": {},
   "outputs": [],
   "source": [
    "# +\n",
    "answers['2'] = 'Gods and Generals (tt0279111)'"
   ]
  },
  {
   "cell_type": "markdown",
   "metadata": {
    "colab_type": "text",
    "id": "bapLlpW8Vp-k"
   },
   "source": [
    "# 3. Какой из фильмов самый короткий (в минутах)?\n",
    "\n",
    "\n",
    "\n"
   ]
  },
  {
   "cell_type": "code",
   "execution_count": 1529,
   "metadata": {
    "colab": {},
    "colab_type": "code",
    "id": "YBxaSHuAVp-l"
   },
   "outputs": [
    {
     "name": "stdout",
     "output_type": "stream",
     "text": [
      "Winnie the Pooh (tt1449283)\n"
     ]
    }
   ],
   "source": [
    "\n",
    "movie_name = data[data.runtime == data.runtime.min()]\n",
    "\n",
    "preparation_answer(movie_name)\n"
   ]
  },
  {
   "cell_type": "code",
   "execution_count": 1530,
   "metadata": {},
   "outputs": [],
   "source": [
    "# +\n",
    "answers['3'] = 'Winnie the Pooh (tt1449283)'"
   ]
  },
  {
   "cell_type": "markdown",
   "metadata": {
    "colab_type": "text",
    "id": "TfQbxbfNVp-p"
   },
   "source": [
    "# 4. Какова средняя длительность фильмов?\n"
   ]
  },
  {
   "cell_type": "code",
   "execution_count": 1531,
   "metadata": {},
   "outputs": [
    {
     "data": {
      "text/plain": [
       "110"
      ]
     },
     "execution_count": 1531,
     "metadata": {},
     "output_type": "execute_result"
    }
   ],
   "source": [
    "\n",
    "round(data.runtime.mean())"
   ]
  },
  {
   "cell_type": "code",
   "execution_count": 1532,
   "metadata": {},
   "outputs": [],
   "source": [
    "# +\n",
    "answers['4'] = 110"
   ]
  },
  {
   "cell_type": "markdown",
   "metadata": {
    "colab_type": "text",
    "id": "r5TvbnT_Vp-u"
   },
   "source": [
    "# 5. Каково медианное значение длительности фильмов? "
   ]
  },
  {
   "cell_type": "code",
   "execution_count": 1533,
   "metadata": {
    "colab": {},
    "colab_type": "code",
    "id": "iBROplKnVp-v"
   },
   "outputs": [
    {
     "data": {
      "text/plain": [
       "107"
      ]
     },
     "execution_count": 1533,
     "metadata": {},
     "output_type": "execute_result"
    }
   ],
   "source": [
    "\n",
    "round(data.runtime.median())"
   ]
  },
  {
   "cell_type": "code",
   "execution_count": 1534,
   "metadata": {},
   "outputs": [],
   "source": [
    "# +\n",
    "answers['5'] = 107"
   ]
  },
  {
   "cell_type": "markdown",
   "metadata": {
    "colab_type": "text",
    "id": "39P-deDSVp-y"
   },
   "source": [
    "# 6. Какой самый прибыльный фильм?\n",
    "#### Внимание! Здесь и далее под «прибылью» или «убытками» понимается разность между сборами и бюджетом фильма. (прибыль = сборы - бюджет) в нашем датасете это будет (profit = revenue - budget) "
   ]
  },
  {
   "cell_type": "code",
   "execution_count": 1535,
   "metadata": {
    "colab": {},
    "colab_type": "code",
    "id": "UYZh4T9WVp-y"
   },
   "outputs": [
    {
     "name": "stdout",
     "output_type": "stream",
     "text": [
      "Avatar (tt0499549)\n"
     ]
    }
   ],
   "source": [
    "# лучше код получения столбца profit вынести в Предобработку что в начале\n",
    "\n",
    "movie_name = data[data.profit == data.profit.max()]\n",
    "\n",
    "preparation_answer(movie_name)"
   ]
  },
  {
   "cell_type": "code",
   "execution_count": 1536,
   "metadata": {},
   "outputs": [],
   "source": [
    "# +\n",
    "answers['6'] = 'Avatar (tt0499549)'"
   ]
  },
  {
   "cell_type": "markdown",
   "metadata": {
    "colab_type": "text",
    "id": "M99JmIX4Vp-2"
   },
   "source": [
    "# 7. Какой фильм самый убыточный? "
   ]
  },
  {
   "cell_type": "code",
   "execution_count": 1537,
   "metadata": {
    "colab": {},
    "colab_type": "code",
    "id": "w-D2m4XPVp-3"
   },
   "outputs": [
    {
     "name": "stdout",
     "output_type": "stream",
     "text": [
      "The Lone Ranger (tt1210819)\n"
     ]
    }
   ],
   "source": [
    "\n",
    "movie_name = data[data.profit == data.profit.min()]\n",
    "\n",
    "preparation_answer(movie_name)"
   ]
  },
  {
   "cell_type": "code",
   "execution_count": 1538,
   "metadata": {
    "scrolled": true
   },
   "outputs": [],
   "source": [
    "# +\n",
    "answers['7'] = 'The Lone Ranger (tt1210819)'"
   ]
  },
  {
   "cell_type": "markdown",
   "metadata": {
    "colab_type": "text",
    "id": "wEOM5ERVVp-6"
   },
   "source": [
    "# 8. У скольких фильмов из датасета объем сборов оказался выше бюджета?"
   ]
  },
  {
   "cell_type": "code",
   "execution_count": 1539,
   "metadata": {
    "colab": {},
    "colab_type": "code",
    "id": "y00_7HD6Vp-7"
   },
   "outputs": [
    {
     "data": {
      "text/plain": [
       "1478"
      ]
     },
     "execution_count": 1539,
     "metadata": {},
     "output_type": "execute_result"
    }
   ],
   "source": [
    "len(data[data.profit > 0])"
   ]
  },
  {
   "cell_type": "code",
   "execution_count": 1540,
   "metadata": {},
   "outputs": [],
   "source": [
    "# +\n",
    "answers['8'] = 1478"
   ]
  },
  {
   "cell_type": "markdown",
   "metadata": {
    "colab_type": "text",
    "id": "xhpspA9KVp_A"
   },
   "source": [
    "# 9. Какой фильм оказался самым кассовым в 2008 году?"
   ]
  },
  {
   "cell_type": "code",
   "execution_count": 1541,
   "metadata": {
    "colab": {},
    "colab_type": "code",
    "id": "MoUyQr9RVp_B"
   },
   "outputs": [
    {
     "name": "stdout",
     "output_type": "stream",
     "text": [
      "The Dark Knight (tt0468569)\n"
     ]
    }
   ],
   "source": [
    "\n",
    "movie_name = data[data.profit == data.query('release_year == 2008').profit.max()]\n",
    "\n",
    "preparation_answer(movie_name)"
   ]
  },
  {
   "cell_type": "code",
   "execution_count": 1542,
   "metadata": {},
   "outputs": [],
   "source": [
    "# +\n",
    "answers['9'] = 'The Dark Knight (tt0468569)'"
   ]
  },
  {
   "cell_type": "markdown",
   "metadata": {
    "colab_type": "text",
    "id": "Zi4hDKidVp_F"
   },
   "source": [
    "# 10. Самый убыточный фильм за период с 2012 по 2014 г. (включительно)?\n"
   ]
  },
  {
   "cell_type": "code",
   "execution_count": 1543,
   "metadata": {
    "colab": {},
    "colab_type": "code",
    "id": "XqyRmufJVp_F"
   },
   "outputs": [
    {
     "name": "stdout",
     "output_type": "stream",
     "text": [
      "The Lone Ranger (tt1210819)\n"
     ]
    }
   ],
   "source": [
    "\n",
    "movie_name = data[data.profit == data.query('2012 <= release_year <= 2014').profit.min()]\n",
    "\n",
    "preparation_answer(movie_name)"
   ]
  },
  {
   "cell_type": "code",
   "execution_count": 1544,
   "metadata": {},
   "outputs": [],
   "source": [
    "# +\n",
    "answers['10'] = 'The Lone Ranger (tt1210819)'"
   ]
  },
  {
   "cell_type": "markdown",
   "metadata": {
    "colab_type": "text",
    "id": "EA7Sa9dkVp_I"
   },
   "source": [
    "# 11. Какого жанра фильмов больше всего?"
   ]
  },
  {
   "cell_type": "code",
   "execution_count": 1545,
   "metadata": {
    "colab": {},
    "colab_type": "code",
    "id": "zsJAwJ8QVp_J"
   },
   "outputs": [
    {
     "data": {
      "text/plain": [
       "Drama    782\n",
       "dtype: int64"
      ]
     },
     "execution_count": 1545,
     "metadata": {},
     "output_type": "execute_result"
    }
   ],
   "source": [
    "# эту задачу тоже можно решать разными подходами, попробуй реализовать разные варианты\n",
    "# если будешь добавлять функцию - выноси ее в предобработку что в начале\n",
    "\n",
    "series_aggregation_first_column(data.genres.value_counts(), 'sum', top=1)\n"
   ]
  },
  {
   "cell_type": "code",
   "execution_count": 1546,
   "metadata": {},
   "outputs": [],
   "source": [
    "# +\n",
    "answers['11'] = 'Drama'"
   ]
  },
  {
   "cell_type": "markdown",
   "metadata": {
    "colab_type": "text",
    "id": "Ax6g2C8SVp_M"
   },
   "source": [
    "ВАРИАНТ 2"
   ]
  },
  {
   "cell_type": "code",
   "execution_count": 1643,
   "metadata": {},
   "outputs": [
    {
     "name": "stdout",
     "output_type": "stream",
     "text": [
      "Drama\n"
     ]
    }
   ],
   "source": [
    "# создаем пустую коллекцию\n",
    "genre_counter = Counter()\n",
    "\n",
    "# делаем выгрузку из дата фрейма и заполняем коллекцию значениями жанров\n",
    "for genre_all, genre_count in data.genres.value_counts().items():\n",
    "    for genre in genre_all.split('|'):\n",
    "        genre_counter[genre] += genre_count\n",
    "\n",
    "# получаем максимальное значения в словаре\n",
    "max_count = max(genre_counter.values())\n",
    "\n",
    "# ищем значение ключа, в котором находится жанр с максимальным количеством\n",
    "for genre, item in genre_counter.items(): \n",
    "    if item == max_count: print(genre)\n"
   ]
  },
  {
   "cell_type": "markdown",
   "metadata": {
    "colab_type": "text",
    "id": "T9_bPWpkVp_Q"
   },
   "source": [
    "# 12. Фильмы какого жанра чаще всего становятся прибыльными? "
   ]
  },
  {
   "cell_type": "code",
   "execution_count": 1548,
   "metadata": {},
   "outputs": [
    {
     "data": {
      "text/plain": [
       "Drama    560\n",
       "dtype: int64"
      ]
     },
     "execution_count": 1548,
     "metadata": {},
     "output_type": "execute_result"
    }
   ],
   "source": [
    "\n",
    "profitable_film_genre = data[data.profit > 0].groupby(['genres'])['profit'].count()\n",
    "\n",
    "series_aggregation_first_column(profitable_film_genre, top=1)\n"
   ]
  },
  {
   "cell_type": "code",
   "execution_count": 1549,
   "metadata": {
    "colab": {},
    "colab_type": "code",
    "id": "Tmt8MaK1Vp_R"
   },
   "outputs": [
    {
     "data": {
      "text/plain": [
       "'Drama'"
      ]
     },
     "execution_count": 1549,
     "metadata": {},
     "output_type": "execute_result"
    }
   ],
   "source": [
    "# или выводим сразу значение жанра для ответа\n",
    "series_aggregation_first_column(profitable_film_genre).index[0]"
   ]
  },
  {
   "cell_type": "code",
   "execution_count": 1550,
   "metadata": {},
   "outputs": [],
   "source": [
    "# +\n",
    "answers['12'] = 'Drama'"
   ]
  },
  {
   "cell_type": "markdown",
   "metadata": {
    "colab_type": "text",
    "id": "0F23bgsDVp_U"
   },
   "source": [
    "# 13. У какого режиссера самые большие суммарные кассовые сбооры?"
   ]
  },
  {
   "cell_type": "code",
   "execution_count": 1551,
   "metadata": {
    "colab": {},
    "colab_type": "code",
    "id": "K6Z3J8ygVp_X",
    "scrolled": true
   },
   "outputs": [
    {
     "data": {
      "text/plain": [
       "Peter Jackson    6490593685\n",
       "dtype: int64"
      ]
     },
     "execution_count": 1551,
     "metadata": {},
     "output_type": "execute_result"
    }
   ],
   "source": [
    "\n",
    "director_revenue = data.groupby(['director'])['revenue'].sum()\n",
    "\n",
    "series_aggregation_first_column(director_revenue, top=1)"
   ]
  },
  {
   "cell_type": "code",
   "execution_count": 1552,
   "metadata": {},
   "outputs": [],
   "source": [
    "# +\n",
    "answers['13'] = 'Peter Jackson'"
   ]
  },
  {
   "cell_type": "markdown",
   "metadata": {
    "colab_type": "text",
    "id": "PsYC9FgRVp_a"
   },
   "source": [
    "# 14. Какой режисер снял больше всего фильмов в стиле Action?"
   ]
  },
  {
   "cell_type": "code",
   "execution_count": 1553,
   "metadata": {
    "colab": {},
    "colab_type": "code",
    "id": "wd2M-wHeVp_b"
   },
   "outputs": [
    {
     "data": {
      "text/plain": [
       "Robert Rodriguez      9\n",
       "Paul W.S. Anderson    7\n",
       "Michael Bay           7\n",
       "dtype: int64"
      ]
     },
     "execution_count": 1553,
     "metadata": {},
     "output_type": "execute_result"
    }
   ],
   "source": [
    "\n",
    "director_genres = data[ ['director','genres'] ][data.genres.str.contains('Action', na=False)]\n",
    "\n",
    "director_genres = director_genres.groupby(['director'])['genres'].count()\n",
    "\n",
    "series_aggregation_first_column(director_genres, 'sum', top=3)\n"
   ]
  },
  {
   "cell_type": "code",
   "execution_count": 1554,
   "metadata": {},
   "outputs": [],
   "source": [
    "# +\n",
    "answers['14'] = 'Robert Rodriguez'"
   ]
  },
  {
   "cell_type": "markdown",
   "metadata": {
    "colab_type": "text",
    "id": "PQ0KciD7Vp_f"
   },
   "source": [
    "# 15. Фильмы с каким актером принесли самые высокие кассовые сборы в 2012 году? "
   ]
  },
  {
   "cell_type": "code",
   "execution_count": null,
   "metadata": {
    "colab": {},
    "colab_type": "code",
    "id": "aga62oeKVp_g",
    "scrolled": true
   },
   "outputs": [],
   "source": []
  },
  {
   "cell_type": "code",
   "execution_count": 1555,
   "metadata": {},
   "outputs": [
    {
     "data": {
      "text/plain": [
       "Chris Hemsworth    2027450773\n",
       "dtype: int64"
      ]
     },
     "execution_count": 1555,
     "metadata": {},
     "output_type": "execute_result"
    }
   ],
   "source": [
    "\n",
    "top_actor_2012 = data.query('release_year == 2012').groupby(['cast'])['revenue'].sum()\n",
    "\n",
    "series_aggregation_first_column( top_actor_2012 ,'sum', top=1)\n"
   ]
  },
  {
   "cell_type": "code",
   "execution_count": 1556,
   "metadata": {},
   "outputs": [],
   "source": [
    "# +\n",
    "answers['15'] = 'Chris Hemsworth'"
   ]
  },
  {
   "cell_type": "markdown",
   "metadata": {
    "colab_type": "text",
    "id": "mWHyyL7QVp_j"
   },
   "source": [
    "# 16. Какой актер снялся в большем количестве высокобюджетных фильмов?"
   ]
  },
  {
   "cell_type": "code",
   "execution_count": 1557,
   "metadata": {
    "colab": {},
    "colab_type": "code",
    "id": "qQtmHKTFVp_k"
   },
   "outputs": [
    {
     "data": {
      "text/plain": [
       "Matt Damon        18\n",
       "Adam Sandler      17\n",
       "Angelina Jolie    16\n",
       "dtype: int64"
      ]
     },
     "execution_count": 1557,
     "metadata": {},
     "output_type": "execute_result"
    }
   ],
   "source": [
    "# высокобюджетные - фильмы, где бюджет выше среднего по данной выборке\n",
    "\n",
    "top_actor = data[data.budget > data.budget.mean()].groupby(['cast'])['revenue'].count()\n",
    "\n",
    "series_aggregation_first_column(top_actor ,'sum', top=3)\n"
   ]
  },
  {
   "cell_type": "code",
   "execution_count": 1585,
   "metadata": {},
   "outputs": [],
   "source": [
    "# +\n",
    "answers['16'] = 'Matt Damon'"
   ]
  },
  {
   "cell_type": "markdown",
   "metadata": {
    "colab_type": "text",
    "id": "NIh6AaW5Vp_n"
   },
   "source": [
    "# 17. В фильмах какого жанра больше всего снимался Nicolas Cage? "
   ]
  },
  {
   "cell_type": "code",
   "execution_count": 1559,
   "metadata": {
    "colab": {},
    "colab_type": "code",
    "id": "H74SJDIBVp_n",
    "scrolled": true
   },
   "outputs": [
    {
     "data": {
      "text/plain": [
       "Action      17\n",
       "Thriller    15\n",
       "Drama       12\n",
       "dtype: int64"
      ]
     },
     "execution_count": 1559,
     "metadata": {},
     "output_type": "execute_result"
    }
   ],
   "source": [
    "favorite_genre = data[data.cast.str.contains('Nicolas Cage', na=False)].groupby(['genres'])['cast'].count()\n",
    "\n",
    "series_aggregation_first_column( favorite_genre ,'sum', top=3)"
   ]
  },
  {
   "cell_type": "code",
   "execution_count": 1560,
   "metadata": {},
   "outputs": [],
   "source": [
    "answers['17'] = 'Action'"
   ]
  },
  {
   "cell_type": "markdown",
   "metadata": {
    "colab_type": "text",
    "id": "RqOmPRfWVp_q"
   },
   "source": [
    "# 18. Самый убыточный фильм от Paramount Pictures"
   ]
  },
  {
   "cell_type": "code",
   "execution_count": 1561,
   "metadata": {
    "colab": {},
    "colab_type": "code",
    "id": "9E_B0Y96Vp_r"
   },
   "outputs": [
    {
     "name": "stdout",
     "output_type": "stream",
     "text": [
      "K-19: The Widowmaker (tt0267626)\n"
     ]
    }
   ],
   "source": [
    "\n",
    "movie_name = data[data.profit == data[data.production_companies.str.contains('Paramount Pictures')].profit.min()]\n",
    "\n",
    "preparation_answer(movie_name)"
   ]
  },
  {
   "cell_type": "code",
   "execution_count": 1562,
   "metadata": {},
   "outputs": [],
   "source": [
    "answers['18'] = 'K-19: The Widowmaker (tt0267626)'"
   ]
  },
  {
   "cell_type": "markdown",
   "metadata": {
    "colab_type": "text",
    "id": "vS8Ur6ddVp_u"
   },
   "source": [
    "# 19. Какой год стал самым успешным по суммарным кассовым сборам?"
   ]
  },
  {
   "cell_type": "code",
   "execution_count": 1563,
   "metadata": {
    "colab": {},
    "colab_type": "code",
    "id": "Dnbt4GdIVp_v"
   },
   "outputs": [
    {
     "data": {
      "text/plain": [
       "release_year\n",
       "2015    25449202382\n",
       "Name: revenue, dtype: int64"
      ]
     },
     "execution_count": 1563,
     "metadata": {},
     "output_type": "execute_result"
    }
   ],
   "source": [
    "data.groupby(['release_year'])['revenue'].sum().sort_values().tail(1)"
   ]
  },
  {
   "cell_type": "code",
   "execution_count": 1564,
   "metadata": {},
   "outputs": [],
   "source": [
    "answers['19'] = 2015"
   ]
  },
  {
   "cell_type": "markdown",
   "metadata": {
    "colab_type": "text",
    "id": "JAzJh4QAVp_z"
   },
   "source": [
    "# 20. Какой самый прибыльный год для студии Warner Bros?"
   ]
  },
  {
   "cell_type": "code",
   "execution_count": 1565,
   "metadata": {
    "colab": {},
    "colab_type": "code",
    "id": "wgVu02DEVp_0"
   },
   "outputs": [
    {
     "data": {
      "text/plain": [
       "release_year\n",
       "2014    2295464519\n",
       "Name: profit, dtype: int64"
      ]
     },
     "execution_count": 1565,
     "metadata": {},
     "output_type": "execute_result"
    }
   ],
   "source": [
    "wb_profit = data[data.production_companies.str.contains('Warner Bros', na=False)]\n",
    "\n",
    "wb_profit.groupby(['release_year'])['profit'].sum().sort_values(ascending=False).head(1)"
   ]
  },
  {
   "cell_type": "code",
   "execution_count": 1566,
   "metadata": {},
   "outputs": [],
   "source": [
    "# +\n",
    "answers['20'] = 2014"
   ]
  },
  {
   "cell_type": "markdown",
   "metadata": {
    "colab_type": "text",
    "id": "8Im1S2HRVp_4"
   },
   "source": [
    "# 21. В каком месяце за все годы суммарно вышло больше всего фильмов?"
   ]
  },
  {
   "cell_type": "code",
   "execution_count": 1567,
   "metadata": {
    "colab": {},
    "colab_type": "code",
    "id": "lev6TH7gVp_4"
   },
   "outputs": [
    {
     "data": {
      "text/plain": [
       "9    227\n",
       "Name: release_month, dtype: int64"
      ]
     },
     "execution_count": 1567,
     "metadata": {},
     "output_type": "execute_result"
    }
   ],
   "source": [
    "# Вариант 1\n",
    "data.release_month.value_counts().sort_values().tail(1)"
   ]
  },
  {
   "cell_type": "code",
   "execution_count": 1568,
   "metadata": {},
   "outputs": [
    {
     "data": {
      "text/plain": [
       "release_month\n",
       "9    227\n",
       "Name: imdb_id, dtype: int64"
      ]
     },
     "execution_count": 1568,
     "metadata": {},
     "output_type": "execute_result"
    }
   ],
   "source": [
    "# Вариант 2\n",
    "data.groupby(['release_month'])['imdb_id'].count().sort_values().tail(1)"
   ]
  },
  {
   "cell_type": "code",
   "execution_count": 1569,
   "metadata": {},
   "outputs": [],
   "source": [
    "# +\n",
    "answers['21'] = 'Сентябрь'"
   ]
  },
  {
   "cell_type": "markdown",
   "metadata": {
    "colab_type": "text",
    "id": "uAJsZ_NeVp_7"
   },
   "source": [
    "# 22. Сколько суммарно вышло фильмов летом? (за июнь, июль, август)"
   ]
  },
  {
   "cell_type": "code",
   "execution_count": 1570,
   "metadata": {},
   "outputs": [
    {
     "data": {
      "text/plain": [
       "450"
      ]
     },
     "execution_count": 1570,
     "metadata": {},
     "output_type": "execute_result"
    }
   ],
   "source": [
    "# \n",
    "len(data.query('release_month in [6, 7, 8]'))"
   ]
  },
  {
   "cell_type": "code",
   "execution_count": 1571,
   "metadata": {},
   "outputs": [],
   "source": [
    "# +\n",
    "answers['22'] = 450"
   ]
  },
  {
   "cell_type": "markdown",
   "metadata": {
    "colab_type": "text",
    "id": "G94ppOY1VqAA"
   },
   "source": [
    "# 23. Для какого режиссера зима – самое продуктивное время года? "
   ]
  },
  {
   "cell_type": "code",
   "execution_count": 1572,
   "metadata": {
    "colab": {},
    "colab_type": "code",
    "id": "RhNTsamuVqAB"
   },
   "outputs": [
    {
     "data": {
      "text/plain": [
       "Peter Jackson        7\n",
       "Steven Soderbergh    6\n",
       "Clint Eastwood       6\n",
       "dtype: int64"
      ]
     },
     "execution_count": 1572,
     "metadata": {},
     "output_type": "execute_result"
    }
   ],
   "source": [
    "\n",
    "winter_director = data.query('release_month in [1, 2, 12]').director.value_counts()\n",
    "\n",
    "series_aggregation_first_column(winter_director,'sum', top=3)"
   ]
  },
  {
   "cell_type": "code",
   "execution_count": 1573,
   "metadata": {},
   "outputs": [],
   "source": [
    "# +\n",
    "answers['23'] = 'Peter Jackson'"
   ]
  },
  {
   "cell_type": "markdown",
   "metadata": {
    "colab_type": "text",
    "id": "RBo0JVjVVqAF"
   },
   "source": [
    "# 24. Какая студия дает самые длинные названия своим фильмам по количеству символов?"
   ]
  },
  {
   "cell_type": "code",
   "execution_count": 1574,
   "metadata": {
    "colab": {},
    "colab_type": "code",
    "id": "QRGS8L0iVqAG",
    "scrolled": true
   },
   "outputs": [
    {
     "data": {
      "text/plain": [
       "'Four By Two Productions'"
      ]
     },
     "execution_count": 1574,
     "metadata": {},
     "output_type": "execute_result"
    }
   ],
   "source": [
    "\n",
    "max_len = data.original_title.str.len().max()\n",
    "\n",
    "data[data.original_title.str.len() == max_len].production_companies.iloc[0].split('|')[1]\n",
    "\n"
   ]
  },
  {
   "cell_type": "code",
   "execution_count": 1575,
   "metadata": {},
   "outputs": [],
   "source": [
    "# +\n",
    "answers['24'] = 'Four By Two Productions' "
   ]
  },
  {
   "cell_type": "markdown",
   "metadata": {
    "colab_type": "text",
    "id": "9G0hbvR7VqAK"
   },
   "source": [
    "# 25. Описание фильмов какой студии в среднем самые длинные по количеству слов?"
   ]
  },
  {
   "cell_type": "code",
   "execution_count": 1576,
   "metadata": {},
   "outputs": [
    {
     "data": {
      "text/plain": [
       "'Midnight Picture Show'"
      ]
     },
     "execution_count": 1576,
     "metadata": {},
     "output_type": "execute_result"
    }
   ],
   "source": [
    "# \n",
    "\n",
    "word_count_overview_max = data[data.word_count_overview > data.word_count_overview.mean()].word_count_overview.max()\n",
    "\n",
    "data[data.word_count_overview == word_count_overview_max].production_companies.iloc[0].split('|')[3]\n"
   ]
  },
  {
   "cell_type": "code",
   "execution_count": 1577,
   "metadata": {},
   "outputs": [],
   "source": [
    "# +\n",
    "answers['25'] = 'Midnight Picture Show'"
   ]
  },
  {
   "cell_type": "markdown",
   "metadata": {
    "colab_type": "text",
    "id": "FJ1AFt90VqAP"
   },
   "source": [
    "# 26. Какие фильмы входят в 1 процент лучших по рейтингу? \n",
    "по vote_average"
   ]
  },
  {
   "cell_type": "code",
   "execution_count": 1578,
   "metadata": {},
   "outputs": [
    {
     "data": {
      "text/html": [
       "<div>\n",
       "<style scoped>\n",
       "    .dataframe tbody tr th:only-of-type {\n",
       "        vertical-align: middle;\n",
       "    }\n",
       "\n",
       "    .dataframe tbody tr th {\n",
       "        vertical-align: top;\n",
       "    }\n",
       "\n",
       "    .dataframe thead th {\n",
       "        text-align: right;\n",
       "    }\n",
       "</style>\n",
       "<table border=\"1\" class=\"dataframe\">\n",
       "  <thead>\n",
       "    <tr style=\"text-align: right;\">\n",
       "      <th></th>\n",
       "      <th>original_title</th>\n",
       "      <th>vote_average</th>\n",
       "    </tr>\n",
       "  </thead>\n",
       "  <tbody>\n",
       "    <tr>\n",
       "      <th>599</th>\n",
       "      <td>The Dark Knight</td>\n",
       "      <td>8.1</td>\n",
       "    </tr>\n",
       "    <tr>\n",
       "      <th>125</th>\n",
       "      <td>The Imitation Game</td>\n",
       "      <td>8.0</td>\n",
       "    </tr>\n",
       "    <tr>\n",
       "      <th>9</th>\n",
       "      <td>Inside Out</td>\n",
       "      <td>8.0</td>\n",
       "    </tr>\n",
       "    <tr>\n",
       "      <th>118</th>\n",
       "      <td>Interstellar</td>\n",
       "      <td>8.0</td>\n",
       "    </tr>\n",
       "    <tr>\n",
       "      <th>34</th>\n",
       "      <td>Room</td>\n",
       "      <td>8.0</td>\n",
       "    </tr>\n",
       "    <tr>\n",
       "      <th>1081</th>\n",
       "      <td>The Lord of the Rings: The Return of the King</td>\n",
       "      <td>7.9</td>\n",
       "    </tr>\n",
       "    <tr>\n",
       "      <th>138</th>\n",
       "      <td>The Grand Budapest Hotel</td>\n",
       "      <td>7.9</td>\n",
       "    </tr>\n",
       "    <tr>\n",
       "      <th>1183</th>\n",
       "      <td>The Wolf of Wall Street</td>\n",
       "      <td>7.9</td>\n",
       "    </tr>\n",
       "    <tr>\n",
       "      <th>370</th>\n",
       "      <td>Inception</td>\n",
       "      <td>7.9</td>\n",
       "    </tr>\n",
       "    <tr>\n",
       "      <th>119</th>\n",
       "      <td>Guardians of the Galaxy</td>\n",
       "      <td>7.9</td>\n",
       "    </tr>\n",
       "    <tr>\n",
       "      <th>1800</th>\n",
       "      <td>Memento</td>\n",
       "      <td>7.9</td>\n",
       "    </tr>\n",
       "    <tr>\n",
       "      <th>128</th>\n",
       "      <td>Gone Girl</td>\n",
       "      <td>7.9</td>\n",
       "    </tr>\n",
       "    <tr>\n",
       "      <th>872</th>\n",
       "      <td>The Pianist</td>\n",
       "      <td>7.9</td>\n",
       "    </tr>\n",
       "    <tr>\n",
       "      <th>1191</th>\n",
       "      <td>12 Years a Slave</td>\n",
       "      <td>7.9</td>\n",
       "    </tr>\n",
       "    <tr>\n",
       "      <th>283</th>\n",
       "      <td>Mr. Nobody</td>\n",
       "      <td>7.8</td>\n",
       "    </tr>\n",
       "    <tr>\n",
       "      <th>1688</th>\n",
       "      <td>There Will Be Blood</td>\n",
       "      <td>7.8</td>\n",
       "    </tr>\n",
       "    <tr>\n",
       "      <th>863</th>\n",
       "      <td>The Lord of the Rings: The Two Towers</td>\n",
       "      <td>7.8</td>\n",
       "    </tr>\n",
       "    <tr>\n",
       "      <th>155</th>\n",
       "      <td>The Theory of Everything</td>\n",
       "      <td>7.8</td>\n",
       "    </tr>\n",
       "    <tr>\n",
       "      <th>1563</th>\n",
       "      <td>Eternal Sunshine of the Spotless Mind</td>\n",
       "      <td>7.8</td>\n",
       "    </tr>\n",
       "  </tbody>\n",
       "</table>\n",
       "</div>"
      ],
      "text/plain": [
       "                                     original_title  vote_average\n",
       "599                                 The Dark Knight           8.1\n",
       "125                              The Imitation Game           8.0\n",
       "9                                        Inside Out           8.0\n",
       "118                                    Interstellar           8.0\n",
       "34                                             Room           8.0\n",
       "1081  The Lord of the Rings: The Return of the King           7.9\n",
       "138                        The Grand Budapest Hotel           7.9\n",
       "1183                        The Wolf of Wall Street           7.9\n",
       "370                                       Inception           7.9\n",
       "119                         Guardians of the Galaxy           7.9\n",
       "1800                                        Memento           7.9\n",
       "128                                       Gone Girl           7.9\n",
       "872                                     The Pianist           7.9\n",
       "1191                               12 Years a Slave           7.9\n",
       "283                                      Mr. Nobody           7.8\n",
       "1688                            There Will Be Blood           7.8\n",
       "863           The Lord of the Rings: The Two Towers           7.8\n",
       "155                        The Theory of Everything           7.8\n",
       "1563          Eternal Sunshine of the Spotless Mind           7.8"
      ]
     },
     "metadata": {},
     "output_type": "display_data"
    }
   ],
   "source": [
    "# \n",
    "count_last_procent = round(0.01 * len(data))\n",
    "\n",
    "# \n",
    "last_procent = data.vote_average.sort_values(ascending=False).head(count_last_procent).index\n",
    "\n",
    "# \n",
    "top_movies = data.loc[last_procent][['original_title','vote_average']]\n",
    "display(top_movies)"
   ]
  },
  {
   "cell_type": "code",
   "execution_count": 1579,
   "metadata": {},
   "outputs": [
    {
     "data": {
      "text/html": [
       "<div>\n",
       "<style scoped>\n",
       "    .dataframe tbody tr th:only-of-type {\n",
       "        vertical-align: middle;\n",
       "    }\n",
       "\n",
       "    .dataframe tbody tr th {\n",
       "        vertical-align: top;\n",
       "    }\n",
       "\n",
       "    .dataframe thead th {\n",
       "        text-align: right;\n",
       "    }\n",
       "</style>\n",
       "<table border=\"1\" class=\"dataframe\">\n",
       "  <thead>\n",
       "    <tr style=\"text-align: right;\">\n",
       "      <th></th>\n",
       "      <th>original_title</th>\n",
       "      <th>vote_average</th>\n",
       "    </tr>\n",
       "  </thead>\n",
       "  <tbody>\n",
       "    <tr>\n",
       "      <th>599</th>\n",
       "      <td>The Dark Knight</td>\n",
       "      <td>8.1</td>\n",
       "    </tr>\n",
       "    <tr>\n",
       "      <th>9</th>\n",
       "      <td>Inside Out</td>\n",
       "      <td>8.0</td>\n",
       "    </tr>\n",
       "    <tr>\n",
       "      <th>1191</th>\n",
       "      <td>12 Years a Slave</td>\n",
       "      <td>7.9</td>\n",
       "    </tr>\n",
       "  </tbody>\n",
       "</table>\n",
       "</div>"
      ],
      "text/plain": [
       "        original_title  vote_average\n",
       "599    The Dark Knight           8.1\n",
       "9           Inside Out           8.0\n",
       "1191  12 Years a Slave           7.9"
      ]
     },
     "execution_count": 1579,
     "metadata": {},
     "output_type": "execute_result"
    }
   ],
   "source": [
    "# Проверим, что из варианта №1 все 3 фильма находятся в в выборке 1% лучших фильмов\n",
    "\n",
    "answer = ['Inside Out', 'The Dark Knight', '12 Years a Slave']\n",
    "\n",
    "top_movies.query('original_title in @answer')\n"
   ]
  },
  {
   "cell_type": "code",
   "execution_count": 1580,
   "metadata": {},
   "outputs": [],
   "source": [
    "# +\n",
    "answers['26'] = 'Inside Out, The Dark Knight, 12 Years a Slave'"
   ]
  },
  {
   "cell_type": "markdown",
   "metadata": {
    "colab_type": "text",
    "id": "MdXsUXbCVqAV"
   },
   "source": [
    "# 27. Какие актеры чаще всего снимаются в одном фильме вместе?\n"
   ]
  },
  {
   "cell_type": "code",
   "execution_count": 1662,
   "metadata": {},
   "outputs": [
    {
     "name": "stdout",
     "output_type": "stream",
     "text": [
      "[8, 8, 8, 6, 6]\n",
      "Daniel Radcliffe & Emma Watson\n",
      "Daniel Radcliffe & Rupert Grint\n",
      "Emma Watson & Rupert Grint\n"
     ]
    }
   ],
   "source": [
    "actors_pair = Counter()\n",
    "\n",
    "actors = data[data.cast.str.contains('|')].cast.unique()\n",
    "\n",
    "for pair in actors:\n",
    "    for actor in combinations(sorted(pair.split('|')), 2):\n",
    "        # print(actor[0], actor[1])\n",
    "        pair_key = actor[0] + ' & ' + actor[1]\n",
    "        actors_pair[pair_key] += 1\n",
    "\n",
    "count_colloboration_max = max(actors_pair.values())\n",
    "\n",
    "# выведем топ 5 верхних значений по количеству совместных съемок\n",
    "print(sorted(actors_pair.values(), reverse=True)[:5])\n",
    "\n",
    "# выведем из словаря только пары актеров, с максимальным количеством совместных съемок\n",
    "for pair, count_colloboration in actors_pair.items():\n",
    "    if count_colloboration == count_colloboration_max: \n",
    "        print(pair)\n",
    "    \n",
    "# \n"
   ]
  },
  {
   "cell_type": "code",
   "execution_count": 1581,
   "metadata": {},
   "outputs": [],
   "source": [
    "# +\n",
    "answers['27'] = 'Daniel Radcliffe & Rupert Grint'"
   ]
  },
  {
   "cell_type": "markdown",
   "metadata": {
    "colab_type": "text",
    "id": "4ymnxEVoVqAW"
   },
   "source": [
    "ВАРИАНТ 2"
   ]
  },
  {
   "cell_type": "code",
   "execution_count": null,
   "metadata": {},
   "outputs": [],
   "source": []
  },
  {
   "cell_type": "code",
   "execution_count": 1582,
   "metadata": {},
   "outputs": [
    {
     "data": {
      "text/plain": [
       "'Daniel Radcliffe & Rupert Grint'"
      ]
     },
     "execution_count": 1582,
     "metadata": {},
     "output_type": "execute_result"
    }
   ],
   "source": [
    "pair_actors = [  'Johnny Depp & Helena Bonham Carter',\n",
    "                'Ben Stiller & Owen Wilson',\n",
    "                'Vin Diesel & Paul Walker',\n",
    "                'Adam Sandler & Kevin James',\n",
    "                'Daniel Radcliffe & Rupert Grint']\n",
    "\n",
    "actor_pair_work = pd.Series(dtype=object)\n",
    "\n",
    "for pair_actor in pair_actors:\n",
    "    actor1, actor2 =  pair_actor.split(' & ')\n",
    "    pair_work_count = data[data.cast.str.contains(actor1) & data.cast.str.contains(actor2)].imdb_id.count()\n",
    "    #print(pair_work_count, '|', pair_actor)\n",
    "    actor_pair_work[pair_actor] = pair_work_count\n",
    "\n",
    "actor_pair_work.sort_values(ascending=False).head(1).index[0]\n"
   ]
  },
  {
   "cell_type": "code",
   "execution_count": null,
   "metadata": {},
   "outputs": [],
   "source": []
  },
  {
   "cell_type": "markdown",
   "metadata": {
    "colab_type": "text",
    "id": "U0nONFnGVqAX"
   },
   "source": [
    "# Submission"
   ]
  },
  {
   "cell_type": "code",
   "execution_count": 1583,
   "metadata": {
    "colab": {},
    "colab_type": "code",
    "id": "IfcaRO9-VqAX",
    "outputId": "0f132912-32bb-4196-c98c-abfbc4ad5a5f"
   },
   "outputs": [
    {
     "data": {
      "text/plain": [
       "{'1': 'Pirates of the Caribbean: On Stranger Tides (tt1298650)',\n",
       " '2': 'Gods and Generals (tt0279111)',\n",
       " '3': 'Winnie the Pooh (tt1449283)',\n",
       " '4': 110,\n",
       " '5': 107,\n",
       " '6': 'Avatar (tt0499549)',\n",
       " '7': 'The Lone Ranger (tt1210819)',\n",
       " '8': 1478,\n",
       " '9': 'The Dark Knight (tt0468569)',\n",
       " '10': 'The Lone Ranger (tt1210819)',\n",
       " '11': 'Drama',\n",
       " '12': 'Drama',\n",
       " '13': 'Peter Jackson',\n",
       " '14': 'Robert Rodriguez',\n",
       " '15': 'Chris Hemsworth',\n",
       " '16': 'Matt Damon',\n",
       " '17': 'Action',\n",
       " '18': 'K-19: The Widowmaker (tt0267626)',\n",
       " '19': 2015,\n",
       " '20': 2014,\n",
       " '21': 'Сентябрь',\n",
       " '22': 450,\n",
       " '23': 'Peter Jackson',\n",
       " '24': 'Four By Two Productions',\n",
       " '25': 'Midnight Picture Show',\n",
       " '26': 'Inside Out, The Dark Knight, 12 Years a Slave',\n",
       " '27': 'Daniel Radcliffe & Rupert Grint'}"
      ]
     },
     "execution_count": 1583,
     "metadata": {},
     "output_type": "execute_result"
    }
   ],
   "source": [
    "# в конце можно посмотреть свои ответы к каждому вопросу\n",
    "\n",
    "# Вопрос № 1 ........ [ + ]\n",
    "# Вопрос № 2 ........ [ + ]\n",
    "# Вопрос № 3 ........ [ + ]\n",
    "# Вопрос № 4 ........ [ + ]\n",
    "# Вопрос № 5 ........ [ + ]\n",
    "# Вопрос № 6 ........ [ + ]\n",
    "# Вопрос № 7 ........ [ + ]\n",
    "# Вопрос № 8 ........ [ + ]\n",
    "# Вопрос № 9 ........ [ + ]\n",
    "# Вопрос № 10 ....... [ + ]\n",
    "# Вопрос № 11 ....... [ + ]\n",
    "# Вопрос № 12 ....... [ + ]\n",
    "# Вопрос № 13 ....... [ + ]\n",
    "# Вопрос № 14 ....... [ + ]\n",
    "# Вопрос № 15 ....... [ + ]\n",
    "# Вопрос № 16 ....... [ + ]\n",
    "# Вопрос № 17 ....... [ + ]\n",
    "# Вопрос № 18 ....... [ + ]\n",
    "# Вопрос № 19 ....... [ + ]\n",
    "# Вопрос № 20 ....... [ + ]\n",
    "# Вопрос № 21 ....... [ + ]\n",
    "# Вопрос № 22 ....... [ + ]\n",
    "# Вопрос № 23 ....... [ + ]\n",
    "# Вопрос № 24 ....... [ + ]\n",
    "# Вопрос № 25 ....... [ + ]\n",
    "# Вопрос № 26 ....... [ + ]\n",
    "# Вопрос № 27 ....... [ + ]\n",
    "\n",
    "answers"
   ]
  },
  {
   "cell_type": "code",
   "execution_count": 1584,
   "metadata": {
    "colab": {},
    "colab_type": "code",
    "id": "SiRmHPl8VqAd"
   },
   "outputs": [
    {
     "data": {
      "text/plain": [
       "27"
      ]
     },
     "execution_count": 1584,
     "metadata": {},
     "output_type": "execute_result"
    }
   ],
   "source": [
    "# и убедиться что ни чего не пропустил)\n",
    "len(answers)"
   ]
  },
  {
   "cell_type": "markdown",
   "metadata": {
    "colab": {},
    "colab_type": "code",
    "id": "uCfuTkRbVqAg"
   },
   "source": [
    "### Спасибо за внимание!"
   ]
  }
 ],
 "metadata": {
  "colab": {
   "name": "Copy of [SF-DST] Movies IMBD v4.1 TEMPLATE.ipynb",
   "provenance": []
  },
  "kernelspec": {
   "display_name": "Python 3",
   "language": "python",
   "name": "python3"
  },
  "language_info": {
   "codemirror_mode": {
    "name": "ipython",
    "version": 3
   },
   "file_extension": ".py",
   "mimetype": "text/x-python",
   "name": "python",
   "nbconvert_exporter": "python",
   "pygments_lexer": "ipython3",
   "version": "3.7.6"
  }
 },
 "nbformat": 4,
 "nbformat_minor": 1
}
