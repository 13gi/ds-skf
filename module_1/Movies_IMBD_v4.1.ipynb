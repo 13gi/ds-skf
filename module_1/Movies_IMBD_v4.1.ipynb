{
 "cells": [
  {
   "cell_type": "code",
   "execution_count": 1125,
   "metadata": {
    "_cell_guid": "b1076dfc-b9ad-4769-8c92-a6c4dae69d19",
    "_uuid": "8f2839f25d086af736a60e9eeb907d3b93b6e0e5",
    "colab": {},
    "colab_type": "code",
    "id": "U2D2gTdJVp90"
   },
   "outputs": [],
   "source": [
    "import numpy as np\n",
    "import pandas as pd\n",
    "import seaborn as sns\n",
    "import matplotlib.pyplot as plt\n",
    "from collections import Counter\n",
    "import re\n",
    "from itertools import combinations"
   ]
  },
  {
   "cell_type": "code",
   "execution_count": 1126,
   "metadata": {
    "_cell_guid": "79c7e3d0-c299-4dcb-8224-4455121ee9b0",
    "_uuid": "d629ff2d2480ee46fbb7e2d37f6b5fab8052498a",
    "colab": {},
    "colab_type": "code",
    "id": "oyGfxL3eVp9-"
   },
   "outputs": [
    {
     "data": {
      "text/html": [
       "<div>\n",
       "<style scoped>\n",
       "    .dataframe tbody tr th:only-of-type {\n",
       "        vertical-align: middle;\n",
       "    }\n",
       "\n",
       "    .dataframe tbody tr th {\n",
       "        vertical-align: top;\n",
       "    }\n",
       "\n",
       "    .dataframe thead th {\n",
       "        text-align: right;\n",
       "    }\n",
       "</style>\n",
       "<table border=\"1\" class=\"dataframe\">\n",
       "  <thead>\n",
       "    <tr style=\"text-align: right;\">\n",
       "      <th></th>\n",
       "      <th>imdb_id</th>\n",
       "      <th>budget</th>\n",
       "      <th>revenue</th>\n",
       "      <th>original_title</th>\n",
       "      <th>cast</th>\n",
       "      <th>director</th>\n",
       "      <th>tagline</th>\n",
       "      <th>overview</th>\n",
       "      <th>runtime</th>\n",
       "      <th>genres</th>\n",
       "      <th>production_companies</th>\n",
       "      <th>release_date</th>\n",
       "      <th>vote_average</th>\n",
       "      <th>release_year</th>\n",
       "    </tr>\n",
       "  </thead>\n",
       "  <tbody>\n",
       "    <tr>\n",
       "      <th>665</th>\n",
       "      <td>tt0852713</td>\n",
       "      <td>25000000</td>\n",
       "      <td>70442940</td>\n",
       "      <td>The House Bunny</td>\n",
       "      <td>Anna Faris|Emma Stone|Kat Dennings|Katharine M...</td>\n",
       "      <td>Fred Wolf</td>\n",
       "      <td>For the girls of ZETA house college life was n...</td>\n",
       "      <td>Shelley is living a carefree life until a riva...</td>\n",
       "      <td>97</td>\n",
       "      <td>Romance|Comedy</td>\n",
       "      <td>Columbia Pictures|Happy Madison Productions|Re...</td>\n",
       "      <td>8/22/2008</td>\n",
       "      <td>5.6</td>\n",
       "      <td>2008</td>\n",
       "    </tr>\n",
       "    <tr>\n",
       "      <th>666</th>\n",
       "      <td>tt1132626</td>\n",
       "      <td>10800000</td>\n",
       "      <td>113857533</td>\n",
       "      <td>Saw V</td>\n",
       "      <td>Tobin Bell|Costas Mandylor|Scott Patterson|Bet...</td>\n",
       "      <td>David Hackl</td>\n",
       "      <td>You Won't Believe How It Ends</td>\n",
       "      <td>Detective Hoffman is seemingly the last person...</td>\n",
       "      <td>92</td>\n",
       "      <td>Horror|Thriller|Crime</td>\n",
       "      <td>Lionsgate|Twisted Pictures</td>\n",
       "      <td>10/23/2008</td>\n",
       "      <td>5.9</td>\n",
       "      <td>2008</td>\n",
       "    </tr>\n",
       "    <tr>\n",
       "      <th>908</th>\n",
       "      <td>tt0277296</td>\n",
       "      <td>60000000</td>\n",
       "      <td>165333180</td>\n",
       "      <td>The Scorpion King</td>\n",
       "      <td>Dwayne Johnson|Kelly Hu|Michael Clarke Duncan|...</td>\n",
       "      <td>Chuck Russell</td>\n",
       "      <td>Warrior. Legend. King.</td>\n",
       "      <td>In ancient Egypt, peasant Mathayus is hired to...</td>\n",
       "      <td>92</td>\n",
       "      <td>Action|Fantasy|Adventure</td>\n",
       "      <td>Universal Pictures|Kalima Productions GmbH &amp; C...</td>\n",
       "      <td>4/16/2002</td>\n",
       "      <td>5.2</td>\n",
       "      <td>2002</td>\n",
       "    </tr>\n",
       "    <tr>\n",
       "      <th>1382</th>\n",
       "      <td>tt0369441</td>\n",
       "      <td>100000000</td>\n",
       "      <td>202026112</td>\n",
       "      <td>Fun with Dick and Jane</td>\n",
       "      <td>Jim Carrey|TÃ©a Leoni|Alec Baldwin|Richard Jen...</td>\n",
       "      <td>Dean Parisot</td>\n",
       "      <td>Giving big businesses a run for their money!</td>\n",
       "      <td>After losing their high-paying corporate jobs,...</td>\n",
       "      <td>90</td>\n",
       "      <td>Comedy</td>\n",
       "      <td>Imagine Entertainment|Columbia Pictures Corpor...</td>\n",
       "      <td>12/21/2005</td>\n",
       "      <td>5.9</td>\n",
       "      <td>2005</td>\n",
       "    </tr>\n",
       "    <tr>\n",
       "      <th>245</th>\n",
       "      <td>tt0438488</td>\n",
       "      <td>200000000</td>\n",
       "      <td>371353001</td>\n",
       "      <td>Terminator Salvation</td>\n",
       "      <td>Christian Bale|Sam Worthington|Anton Yelchin|M...</td>\n",
       "      <td>McG</td>\n",
       "      <td>The End Begins.</td>\n",
       "      <td>All grown up in post-apocalyptic 2018, John Co...</td>\n",
       "      <td>115</td>\n",
       "      <td>Drama|Action|Thriller|Science Fiction</td>\n",
       "      <td>Columbia Pictures|The Halcyon Company|Wonderla...</td>\n",
       "      <td>5/20/2009</td>\n",
       "      <td>5.8</td>\n",
       "      <td>2009</td>\n",
       "    </tr>\n",
       "  </tbody>\n",
       "</table>\n",
       "</div>"
      ],
      "text/plain": [
       "        imdb_id     budget    revenue          original_title  \\\n",
       "665   tt0852713   25000000   70442940         The House Bunny   \n",
       "666   tt1132626   10800000  113857533                   Saw V   \n",
       "908   tt0277296   60000000  165333180       The Scorpion King   \n",
       "1382  tt0369441  100000000  202026112  Fun with Dick and Jane   \n",
       "245   tt0438488  200000000  371353001    Terminator Salvation   \n",
       "\n",
       "                                                   cast       director  \\\n",
       "665   Anna Faris|Emma Stone|Kat Dennings|Katharine M...      Fred Wolf   \n",
       "666   Tobin Bell|Costas Mandylor|Scott Patterson|Bet...    David Hackl   \n",
       "908   Dwayne Johnson|Kelly Hu|Michael Clarke Duncan|...  Chuck Russell   \n",
       "1382  Jim Carrey|TÃ©a Leoni|Alec Baldwin|Richard Jen...   Dean Parisot   \n",
       "245   Christian Bale|Sam Worthington|Anton Yelchin|M...            McG   \n",
       "\n",
       "                                                tagline  \\\n",
       "665   For the girls of ZETA house college life was n...   \n",
       "666                       You Won't Believe How It Ends   \n",
       "908                              Warrior. Legend. King.   \n",
       "1382       Giving big businesses a run for their money!   \n",
       "245                                     The End Begins.   \n",
       "\n",
       "                                               overview  runtime  \\\n",
       "665   Shelley is living a carefree life until a riva...       97   \n",
       "666   Detective Hoffman is seemingly the last person...       92   \n",
       "908   In ancient Egypt, peasant Mathayus is hired to...       92   \n",
       "1382  After losing their high-paying corporate jobs,...       90   \n",
       "245   All grown up in post-apocalyptic 2018, John Co...      115   \n",
       "\n",
       "                                     genres  \\\n",
       "665                          Romance|Comedy   \n",
       "666                   Horror|Thriller|Crime   \n",
       "908                Action|Fantasy|Adventure   \n",
       "1382                                 Comedy   \n",
       "245   Drama|Action|Thriller|Science Fiction   \n",
       "\n",
       "                                   production_companies release_date  \\\n",
       "665   Columbia Pictures|Happy Madison Productions|Re...    8/22/2008   \n",
       "666                          Lionsgate|Twisted Pictures   10/23/2008   \n",
       "908   Universal Pictures|Kalima Productions GmbH & C...    4/16/2002   \n",
       "1382  Imagine Entertainment|Columbia Pictures Corpor...   12/21/2005   \n",
       "245   Columbia Pictures|The Halcyon Company|Wonderla...    5/20/2009   \n",
       "\n",
       "      vote_average  release_year  \n",
       "665            5.6          2008  \n",
       "666            5.9          2008  \n",
       "908            5.2          2002  \n",
       "1382           5.9          2005  \n",
       "245            5.8          2009  "
      ]
     },
     "execution_count": 1126,
     "metadata": {},
     "output_type": "execute_result"
    }
   ],
   "source": [
    "data = pd.read_csv('movie_bd_v5.csv')\n",
    "data.sample(5)"
   ]
  },
  {
   "cell_type": "code",
   "execution_count": 1127,
   "metadata": {
    "colab": {},
    "colab_type": "code",
    "id": "CoYUnagMVp-C"
   },
   "outputs": [
    {
     "data": {
      "text/html": [
       "<div>\n",
       "<style scoped>\n",
       "    .dataframe tbody tr th:only-of-type {\n",
       "        vertical-align: middle;\n",
       "    }\n",
       "\n",
       "    .dataframe tbody tr th {\n",
       "        vertical-align: top;\n",
       "    }\n",
       "\n",
       "    .dataframe thead th {\n",
       "        text-align: right;\n",
       "    }\n",
       "</style>\n",
       "<table border=\"1\" class=\"dataframe\">\n",
       "  <thead>\n",
       "    <tr style=\"text-align: right;\">\n",
       "      <th></th>\n",
       "      <th>budget</th>\n",
       "      <th>revenue</th>\n",
       "      <th>runtime</th>\n",
       "      <th>vote_average</th>\n",
       "      <th>release_year</th>\n",
       "    </tr>\n",
       "  </thead>\n",
       "  <tbody>\n",
       "    <tr>\n",
       "      <th>count</th>\n",
       "      <td>1.889000e+03</td>\n",
       "      <td>1.889000e+03</td>\n",
       "      <td>1889.000000</td>\n",
       "      <td>1889.000000</td>\n",
       "      <td>1889.000000</td>\n",
       "    </tr>\n",
       "    <tr>\n",
       "      <th>mean</th>\n",
       "      <td>5.431083e+07</td>\n",
       "      <td>1.553653e+08</td>\n",
       "      <td>109.658549</td>\n",
       "      <td>6.140762</td>\n",
       "      <td>2007.860773</td>\n",
       "    </tr>\n",
       "    <tr>\n",
       "      <th>std</th>\n",
       "      <td>4.858721e+07</td>\n",
       "      <td>2.146698e+08</td>\n",
       "      <td>18.017041</td>\n",
       "      <td>0.764763</td>\n",
       "      <td>4.468841</td>\n",
       "    </tr>\n",
       "    <tr>\n",
       "      <th>min</th>\n",
       "      <td>5.000000e+06</td>\n",
       "      <td>2.033165e+06</td>\n",
       "      <td>63.000000</td>\n",
       "      <td>3.300000</td>\n",
       "      <td>2000.000000</td>\n",
       "    </tr>\n",
       "    <tr>\n",
       "      <th>25%</th>\n",
       "      <td>2.000000e+07</td>\n",
       "      <td>3.456058e+07</td>\n",
       "      <td>97.000000</td>\n",
       "      <td>5.600000</td>\n",
       "      <td>2004.000000</td>\n",
       "    </tr>\n",
       "    <tr>\n",
       "      <th>50%</th>\n",
       "      <td>3.800000e+07</td>\n",
       "      <td>8.361541e+07</td>\n",
       "      <td>107.000000</td>\n",
       "      <td>6.100000</td>\n",
       "      <td>2008.000000</td>\n",
       "    </tr>\n",
       "    <tr>\n",
       "      <th>75%</th>\n",
       "      <td>7.200000e+07</td>\n",
       "      <td>1.782626e+08</td>\n",
       "      <td>120.000000</td>\n",
       "      <td>6.600000</td>\n",
       "      <td>2012.000000</td>\n",
       "    </tr>\n",
       "    <tr>\n",
       "      <th>max</th>\n",
       "      <td>3.800000e+08</td>\n",
       "      <td>2.781506e+09</td>\n",
       "      <td>214.000000</td>\n",
       "      <td>8.100000</td>\n",
       "      <td>2015.000000</td>\n",
       "    </tr>\n",
       "  </tbody>\n",
       "</table>\n",
       "</div>"
      ],
      "text/plain": [
       "             budget       revenue      runtime  vote_average  release_year\n",
       "count  1.889000e+03  1.889000e+03  1889.000000   1889.000000   1889.000000\n",
       "mean   5.431083e+07  1.553653e+08   109.658549      6.140762   2007.860773\n",
       "std    4.858721e+07  2.146698e+08    18.017041      0.764763      4.468841\n",
       "min    5.000000e+06  2.033165e+06    63.000000      3.300000   2000.000000\n",
       "25%    2.000000e+07  3.456058e+07    97.000000      5.600000   2004.000000\n",
       "50%    3.800000e+07  8.361541e+07   107.000000      6.100000   2008.000000\n",
       "75%    7.200000e+07  1.782626e+08   120.000000      6.600000   2012.000000\n",
       "max    3.800000e+08  2.781506e+09   214.000000      8.100000   2015.000000"
      ]
     },
     "execution_count": 1127,
     "metadata": {},
     "output_type": "execute_result"
    }
   ],
   "source": [
    "data.describe()"
   ]
  },
  {
   "cell_type": "markdown",
   "metadata": {
    "colab_type": "text",
    "id": "DTIt7ezGVp-G"
   },
   "source": [
    "# Предобработка"
   ]
  },
  {
   "cell_type": "code",
   "execution_count": 1128,
   "metadata": {
    "colab": {},
    "colab_type": "code",
    "id": "jNb40DwKVp-H"
   },
   "outputs": [],
   "source": [
    "answers = {} # создадим словарь для ответов\n",
    "\n",
    "# тут другие ваши предобработки колонок например:\n",
    "\n",
    "#the time given in the dataset is in string format.\n",
    "#So we need to change this in datetime format\n",
    "# ...\n",
    "\n",
    "\n",
    "def year_detect(release_date):\n",
    "    result = re.search(r'\\d{4}', release_date)\n",
    "    if result:\n",
    "        return int(result.group(0))\n",
    "    else:\n",
    "        return 1970\n",
    "\n",
    "\n",
    "def month_detect(release_date):\n",
    "    result = re.search(r'^\\d\\d?', release_date)\n",
    "    if result:\n",
    "        month = int(result.group(0))\n",
    "        if month < 1 or month > 12:\n",
    "            month = 0\n",
    "        return month\n",
    "    else:\n",
    "        return 0\n",
    "\n",
    "\n",
    "def series_aggregation_first_column (incoming_data, agg_type='sum', top=5, sort_direction=False,):\n",
    "    \n",
    "    result_series = pd.Series(dtype=object)\n",
    "\n",
    "    for column1, column2 in incoming_data.items():\n",
    "        \n",
    "        if agg_type == 'sum':\n",
    "            agg_parametr = column2\n",
    "        else:\n",
    "            agg_parametr = 1\n",
    "            \n",
    "        for item in column1.split('|'):\n",
    "            \n",
    "            if item in result_series.index:\n",
    "                result_series[item] += agg_parametr\n",
    "            else:\n",
    "                result_series[item] = agg_parametr\n",
    "\n",
    "    return result_series.sort_values(ascending=sort_direction).head(top)\n",
    "  \n",
    "\n",
    "\n",
    "\n",
    "\n",
    "data['profit'] = data.revenue - data.budget\n",
    "\n",
    "#data['release_year'] = data.release_date.apply(lambda x: str(x)[-4:])\n",
    "\n",
    "data['release_year'] = data.release_date.apply(year_detect)\n",
    "\n",
    "data['release_month'] = data.release_date.apply(month_detect)\n",
    "\n",
    "data['word_count_overiew'] = data.overview.apply(lambda s: len(re.findall(r'\\w+', s.lower())))\n"
   ]
  },
  {
   "cell_type": "code",
   "execution_count": null,
   "metadata": {},
   "outputs": [],
   "source": []
  },
  {
   "cell_type": "code",
   "execution_count": 1129,
   "metadata": {},
   "outputs": [
    {
     "data": {
      "text/html": [
       "<div>\n",
       "<style scoped>\n",
       "    .dataframe tbody tr th:only-of-type {\n",
       "        vertical-align: middle;\n",
       "    }\n",
       "\n",
       "    .dataframe tbody tr th {\n",
       "        vertical-align: top;\n",
       "    }\n",
       "\n",
       "    .dataframe thead th {\n",
       "        text-align: right;\n",
       "    }\n",
       "</style>\n",
       "<table border=\"1\" class=\"dataframe\">\n",
       "  <thead>\n",
       "    <tr style=\"text-align: right;\">\n",
       "      <th></th>\n",
       "      <th>imdb_id</th>\n",
       "      <th>budget</th>\n",
       "      <th>revenue</th>\n",
       "      <th>original_title</th>\n",
       "      <th>cast</th>\n",
       "      <th>director</th>\n",
       "      <th>tagline</th>\n",
       "      <th>overview</th>\n",
       "      <th>runtime</th>\n",
       "      <th>genres</th>\n",
       "      <th>production_companies</th>\n",
       "      <th>release_date</th>\n",
       "      <th>vote_average</th>\n",
       "      <th>release_year</th>\n",
       "      <th>profit</th>\n",
       "      <th>release_month</th>\n",
       "      <th>word_count_overiew</th>\n",
       "    </tr>\n",
       "  </thead>\n",
       "  <tbody>\n",
       "    <tr>\n",
       "      <th>1471</th>\n",
       "      <td>tt0427229</td>\n",
       "      <td>50000000</td>\n",
       "      <td>88715192</td>\n",
       "      <td>Failure to Launch</td>\n",
       "      <td>Matthew McConaughey|Sarah Jessica Parker|Zooey...</td>\n",
       "      <td>Tom Dey</td>\n",
       "      <td>To leave the nest, some men just need a little...</td>\n",
       "      <td>Tripp, an attractive man in his thirties, is s...</td>\n",
       "      <td>97</td>\n",
       "      <td>Comedy</td>\n",
       "      <td>Paramount Pictures|Scott Rudin Productions|Fai...</td>\n",
       "      <td>3/10/2006</td>\n",
       "      <td>5.6</td>\n",
       "      <td>2006</td>\n",
       "      <td>38715192</td>\n",
       "      <td>3</td>\n",
       "      <td>74</td>\n",
       "    </tr>\n",
       "    <tr>\n",
       "      <th>81</th>\n",
       "      <td>tt3450650</td>\n",
       "      <td>30000000</td>\n",
       "      <td>107597242</td>\n",
       "      <td>Paul Blart: Mall Cop 2</td>\n",
       "      <td>Kevin James|Raini Rodriguez|Eduardo VerÃ¡stegu...</td>\n",
       "      <td>Andy Fickman</td>\n",
       "      <td>Vegas has a new high roller.</td>\n",
       "      <td>Security guard Paul Blart is headed to Las Veg...</td>\n",
       "      <td>94</td>\n",
       "      <td>Action|Adventure|Comedy|Family</td>\n",
       "      <td>Columbia Pictures|Happy Madison Productions|So...</td>\n",
       "      <td>4/16/2015</td>\n",
       "      <td>5.3</td>\n",
       "      <td>2015</td>\n",
       "      <td>77597242</td>\n",
       "      <td>4</td>\n",
       "      <td>44</td>\n",
       "    </tr>\n",
       "    <tr>\n",
       "      <th>990</th>\n",
       "      <td>tt1409024</td>\n",
       "      <td>225000000</td>\n",
       "      <td>624026776</td>\n",
       "      <td>Men in Black 3</td>\n",
       "      <td>Will Smith|Tommy Lee Jones|Josh Brolin|Michael...</td>\n",
       "      <td>Barry Sonnenfeld</td>\n",
       "      <td>They are back... in time.</td>\n",
       "      <td>Agents J (Will Smith) and K (Tommy Lee Jones) ...</td>\n",
       "      <td>106</td>\n",
       "      <td>Action|Comedy|Science Fiction</td>\n",
       "      <td>Amblin Entertainment|Media Magik Entertainment...</td>\n",
       "      <td>5/23/2012</td>\n",
       "      <td>6.1</td>\n",
       "      <td>2012</td>\n",
       "      <td>399026776</td>\n",
       "      <td>5</td>\n",
       "      <td>111</td>\n",
       "    </tr>\n",
       "    <tr>\n",
       "      <th>1222</th>\n",
       "      <td>tt2191701</td>\n",
       "      <td>80000000</td>\n",
       "      <td>246984278</td>\n",
       "      <td>Grown Ups 2</td>\n",
       "      <td>Adam Sandler|Kevin James|Chris Rock|David Spad...</td>\n",
       "      <td>Dennis Dugan</td>\n",
       "      <td>Just because they're a little older doesn't me...</td>\n",
       "      <td>The all-star comedy cast from Grown Ups return...</td>\n",
       "      <td>100</td>\n",
       "      <td>Comedy</td>\n",
       "      <td>Columbia Pictures|Happy Madison Productions|So...</td>\n",
       "      <td>7/11/2013</td>\n",
       "      <td>5.9</td>\n",
       "      <td>2013</td>\n",
       "      <td>166984278</td>\n",
       "      <td>7</td>\n",
       "      <td>63</td>\n",
       "    </tr>\n",
       "    <tr>\n",
       "      <th>119</th>\n",
       "      <td>tt2015381</td>\n",
       "      <td>170000000</td>\n",
       "      <td>773312399</td>\n",
       "      <td>Guardians of the Galaxy</td>\n",
       "      <td>Chris Pratt|Zoe Saldana|Dave Bautista|Vin Dies...</td>\n",
       "      <td>James Gunn</td>\n",
       "      <td>All heroes start somewhere.</td>\n",
       "      <td>Light years from Earth, 26 years after being a...</td>\n",
       "      <td>121</td>\n",
       "      <td>Action|Science Fiction|Adventure</td>\n",
       "      <td>Marvel Studios|Moving Picture Company (MPC)|Bu...</td>\n",
       "      <td>7/30/2014</td>\n",
       "      <td>7.9</td>\n",
       "      <td>2014</td>\n",
       "      <td>603312399</td>\n",
       "      <td>7</td>\n",
       "      <td>28</td>\n",
       "    </tr>\n",
       "  </tbody>\n",
       "</table>\n",
       "</div>"
      ],
      "text/plain": [
       "        imdb_id     budget    revenue           original_title  \\\n",
       "1471  tt0427229   50000000   88715192        Failure to Launch   \n",
       "81    tt3450650   30000000  107597242   Paul Blart: Mall Cop 2   \n",
       "990   tt1409024  225000000  624026776           Men in Black 3   \n",
       "1222  tt2191701   80000000  246984278              Grown Ups 2   \n",
       "119   tt2015381  170000000  773312399  Guardians of the Galaxy   \n",
       "\n",
       "                                                   cast          director  \\\n",
       "1471  Matthew McConaughey|Sarah Jessica Parker|Zooey...           Tom Dey   \n",
       "81    Kevin James|Raini Rodriguez|Eduardo VerÃ¡stegu...      Andy Fickman   \n",
       "990   Will Smith|Tommy Lee Jones|Josh Brolin|Michael...  Barry Sonnenfeld   \n",
       "1222  Adam Sandler|Kevin James|Chris Rock|David Spad...      Dennis Dugan   \n",
       "119   Chris Pratt|Zoe Saldana|Dave Bautista|Vin Dies...        James Gunn   \n",
       "\n",
       "                                                tagline  \\\n",
       "1471  To leave the nest, some men just need a little...   \n",
       "81                         Vegas has a new high roller.   \n",
       "990                           They are back... in time.   \n",
       "1222  Just because they're a little older doesn't me...   \n",
       "119                         All heroes start somewhere.   \n",
       "\n",
       "                                               overview  runtime  \\\n",
       "1471  Tripp, an attractive man in his thirties, is s...       97   \n",
       "81    Security guard Paul Blart is headed to Las Veg...       94   \n",
       "990   Agents J (Will Smith) and K (Tommy Lee Jones) ...      106   \n",
       "1222  The all-star comedy cast from Grown Ups return...      100   \n",
       "119   Light years from Earth, 26 years after being a...      121   \n",
       "\n",
       "                                genres  \\\n",
       "1471                            Comedy   \n",
       "81      Action|Adventure|Comedy|Family   \n",
       "990      Action|Comedy|Science Fiction   \n",
       "1222                            Comedy   \n",
       "119   Action|Science Fiction|Adventure   \n",
       "\n",
       "                                   production_companies release_date  \\\n",
       "1471  Paramount Pictures|Scott Rudin Productions|Fai...    3/10/2006   \n",
       "81    Columbia Pictures|Happy Madison Productions|So...    4/16/2015   \n",
       "990   Amblin Entertainment|Media Magik Entertainment...    5/23/2012   \n",
       "1222  Columbia Pictures|Happy Madison Productions|So...    7/11/2013   \n",
       "119   Marvel Studios|Moving Picture Company (MPC)|Bu...    7/30/2014   \n",
       "\n",
       "      vote_average  release_year     profit  release_month  word_count_overiew  \n",
       "1471           5.6          2006   38715192              3                  74  \n",
       "81             5.3          2015   77597242              4                  44  \n",
       "990            6.1          2012  399026776              5                 111  \n",
       "1222           5.9          2013  166984278              7                  63  \n",
       "119            7.9          2014  603312399              7                  28  "
      ]
     },
     "execution_count": 1129,
     "metadata": {},
     "output_type": "execute_result"
    }
   ],
   "source": [
    "data.sample(5)"
   ]
  },
  {
   "cell_type": "markdown",
   "metadata": {
    "colab_type": "text",
    "id": "YxZaH-nPVp-L"
   },
   "source": [
    "# 1. У какого фильма из списка самый большой бюджет?"
   ]
  },
  {
   "cell_type": "markdown",
   "metadata": {
    "colab_type": "text",
    "id": "Nd-G5gX6Vp-M"
   },
   "source": [
    "Использовать варианты ответов в коде решения запрещено.    \n",
    "Вы думаете и в жизни у вас будут варианты ответов?)"
   ]
  },
  {
   "cell_type": "code",
   "execution_count": 1130,
   "metadata": {
    "colab": {},
    "colab_type": "code",
    "id": "uVnXAY5RVp-O"
   },
   "outputs": [],
   "source": [
    "# в словарь вставляем номер вопроса и ваш ответ на него\n",
    "# Пример: \n",
    "answers['1'] = 'Pirates of the Caribbean: On Stranger Tides (tt1298650)'\n",
    "# запишите свой вариант ответа\n"
   ]
  },
  {
   "cell_type": "code",
   "execution_count": 1131,
   "metadata": {
    "colab": {},
    "colab_type": "code",
    "id": "dZwb3m28Vp-S"
   },
   "outputs": [
    {
     "name": "stdout",
     "output_type": "stream",
     "text": [
      "Pirates of the Caribbean: On Stranger Tides (tt1298650)\n"
     ]
    }
   ],
   "source": [
    "# тут пишем ваш код для решения данного вопроса:\n",
    "\n",
    "movie_name = data[data.budget == data.budget.max()].original_title.max()\n",
    "movie_id = data[data.original_title == movie_name].imdb_id.max()\n",
    "\n",
    "print(f\"{movie_name} ({movie_id})\")\n"
   ]
  },
  {
   "cell_type": "code",
   "execution_count": 1132,
   "metadata": {},
   "outputs": [],
   "source": [
    "# +\n",
    "answers['1'] = 'Pirates of the Caribbean: On Stranger Tides (tt1298650)'"
   ]
  },
  {
   "cell_type": "markdown",
   "metadata": {
    "colab_type": "text",
    "id": "K7L3nbRXVp-X"
   },
   "source": [
    "ВАРИАНТ 2"
   ]
  },
  {
   "cell_type": "code",
   "execution_count": 1133,
   "metadata": {
    "colab": {},
    "colab_type": "code",
    "id": "OGaoQI7rVp-X"
   },
   "outputs": [],
   "source": [
    "# можно добавлять разные варианты решения"
   ]
  },
  {
   "cell_type": "markdown",
   "metadata": {
    "colab_type": "text",
    "id": "FNRbbI3vVp-c"
   },
   "source": [
    "# 2. Какой из фильмов самый длительный (в минутах)?"
   ]
  },
  {
   "cell_type": "code",
   "execution_count": 1134,
   "metadata": {
    "colab": {},
    "colab_type": "code",
    "id": "vHAoEXNTVp-d"
   },
   "outputs": [],
   "source": [
    "# думаю логику работы с этим словарем вы уже поняли, \n",
    "# по этому не буду больше его дублировать\n"
   ]
  },
  {
   "cell_type": "code",
   "execution_count": 1135,
   "metadata": {
    "colab": {},
    "colab_type": "code",
    "id": "ot-VX2XrVp-g"
   },
   "outputs": [
    {
     "name": "stdout",
     "output_type": "stream",
     "text": [
      "Gods and Generals (tt0279111)\n"
     ]
    }
   ],
   "source": [
    "\n",
    "movie_name = data[data.runtime == data.runtime.max()].original_title.max()\n",
    "\n",
    "movie_id = data[data.original_title == movie_name].imdb_id.max()\n",
    "\n",
    "print(f\"{movie_name} ({movie_id})\")"
   ]
  },
  {
   "cell_type": "code",
   "execution_count": 1136,
   "metadata": {},
   "outputs": [],
   "source": [
    "# +\n",
    "answers['2'] = 'Gods and Generals (tt0279111)'"
   ]
  },
  {
   "cell_type": "markdown",
   "metadata": {
    "colab_type": "text",
    "id": "bapLlpW8Vp-k"
   },
   "source": [
    "# 3. Какой из фильмов самый короткий (в минутах)?\n",
    "\n",
    "\n",
    "\n"
   ]
  },
  {
   "cell_type": "code",
   "execution_count": 1137,
   "metadata": {
    "colab": {},
    "colab_type": "code",
    "id": "YBxaSHuAVp-l"
   },
   "outputs": [
    {
     "name": "stdout",
     "output_type": "stream",
     "text": [
      "Winnie the Pooh (tt1449283)\n"
     ]
    }
   ],
   "source": [
    "movie_name = data[data.runtime == data.runtime.min()].original_title.max()\n",
    "\n",
    "movie_id = data[data.original_title == movie_name].imdb_id.max()\n",
    "\n",
    "print(f\"{movie_name} ({movie_id})\")"
   ]
  },
  {
   "cell_type": "code",
   "execution_count": 1138,
   "metadata": {},
   "outputs": [],
   "source": [
    "# +\n",
    "answers['3'] = 'Winnie the Pooh (tt1449283)'"
   ]
  },
  {
   "cell_type": "markdown",
   "metadata": {
    "colab_type": "text",
    "id": "TfQbxbfNVp-p"
   },
   "source": [
    "# 4. Какова средняя длительность фильмов?\n"
   ]
  },
  {
   "cell_type": "code",
   "execution_count": 1139,
   "metadata": {},
   "outputs": [
    {
     "data": {
      "text/plain": [
       "110"
      ]
     },
     "execution_count": 1139,
     "metadata": {},
     "output_type": "execute_result"
    }
   ],
   "source": [
    "round(data.runtime.mean())"
   ]
  },
  {
   "cell_type": "code",
   "execution_count": 1140,
   "metadata": {},
   "outputs": [],
   "source": [
    "# +\n",
    "answers['4'] = 110"
   ]
  },
  {
   "cell_type": "markdown",
   "metadata": {
    "colab_type": "text",
    "id": "r5TvbnT_Vp-u"
   },
   "source": [
    "# 5. Каково медианное значение длительности фильмов? "
   ]
  },
  {
   "cell_type": "code",
   "execution_count": 1141,
   "metadata": {
    "colab": {},
    "colab_type": "code",
    "id": "iBROplKnVp-v"
   },
   "outputs": [
    {
     "data": {
      "text/plain": [
       "107"
      ]
     },
     "execution_count": 1141,
     "metadata": {},
     "output_type": "execute_result"
    }
   ],
   "source": [
    "round(data.runtime.median())"
   ]
  },
  {
   "cell_type": "code",
   "execution_count": 1142,
   "metadata": {},
   "outputs": [],
   "source": [
    "# +\n",
    "answers['5'] = 107"
   ]
  },
  {
   "cell_type": "markdown",
   "metadata": {
    "colab_type": "text",
    "id": "39P-deDSVp-y"
   },
   "source": [
    "# 6. Какой самый прибыльный фильм?\n",
    "#### Внимание! Здесь и далее под «прибылью» или «убытками» понимается разность между сборами и бюджетом фильма. (прибыль = сборы - бюджет) в нашем датасете это будет (profit = revenue - budget) "
   ]
  },
  {
   "cell_type": "code",
   "execution_count": 1143,
   "metadata": {
    "colab": {},
    "colab_type": "code",
    "id": "UYZh4T9WVp-y"
   },
   "outputs": [
    {
     "name": "stdout",
     "output_type": "stream",
     "text": [
      "Avatar (tt0499549)\n"
     ]
    }
   ],
   "source": [
    "# лучше код получения столбца profit вынести в Предобработку что в начале\n",
    "\n",
    "movie_name = data[data.profit == data.profit.max()].original_title.max()\n",
    "\n",
    "movie_id = data[data.original_title == movie_name].imdb_id.max()\n",
    "\n",
    "print(f\"{movie_name} ({movie_id})\")"
   ]
  },
  {
   "cell_type": "code",
   "execution_count": 1144,
   "metadata": {},
   "outputs": [],
   "source": [
    "answers['6'] = 'Avatar (tt0499549)'"
   ]
  },
  {
   "cell_type": "markdown",
   "metadata": {
    "colab_type": "text",
    "id": "M99JmIX4Vp-2"
   },
   "source": [
    "# 7. Какой фильм самый убыточный? "
   ]
  },
  {
   "cell_type": "code",
   "execution_count": 1145,
   "metadata": {
    "colab": {},
    "colab_type": "code",
    "id": "w-D2m4XPVp-3"
   },
   "outputs": [
    {
     "name": "stdout",
     "output_type": "stream",
     "text": [
      "The Lone Ranger (tt1210819)\n"
     ]
    }
   ],
   "source": [
    "movie_name = data[data.profit == data.profit.min()].original_title.max()\n",
    "\n",
    "movie_id = data[data.original_title == movie_name].imdb_id.max()\n",
    "\n",
    "print(f\"{movie_name} ({movie_id})\")"
   ]
  },
  {
   "cell_type": "code",
   "execution_count": 1146,
   "metadata": {
    "scrolled": true
   },
   "outputs": [],
   "source": [
    "answers['7'] = 'The Lone Ranger (tt1210819)'"
   ]
  },
  {
   "cell_type": "markdown",
   "metadata": {
    "colab_type": "text",
    "id": "wEOM5ERVVp-6"
   },
   "source": [
    "# 8. У скольких фильмов из датасета объем сборов оказался выше бюджета?"
   ]
  },
  {
   "cell_type": "code",
   "execution_count": 1147,
   "metadata": {
    "colab": {},
    "colab_type": "code",
    "id": "y00_7HD6Vp-7"
   },
   "outputs": [
    {
     "data": {
      "text/plain": [
       "1478"
      ]
     },
     "execution_count": 1147,
     "metadata": {},
     "output_type": "execute_result"
    }
   ],
   "source": [
    "len(data[data.profit > 0])"
   ]
  },
  {
   "cell_type": "code",
   "execution_count": 1148,
   "metadata": {},
   "outputs": [],
   "source": [
    "answers['8'] = 1478"
   ]
  },
  {
   "cell_type": "markdown",
   "metadata": {
    "colab_type": "text",
    "id": "xhpspA9KVp_A"
   },
   "source": [
    "# 9. Какой фильм оказался самым кассовым в 2008 году?"
   ]
  },
  {
   "cell_type": "code",
   "execution_count": 1149,
   "metadata": {
    "colab": {},
    "colab_type": "code",
    "id": "MoUyQr9RVp_B"
   },
   "outputs": [
    {
     "name": "stdout",
     "output_type": "stream",
     "text": [
      "The Dark Knight (tt0468569)\n"
     ]
    }
   ],
   "source": [
    "movie_name = data[data.profit == data[data.release_date.str.contains('2008', na='')].profit.max()].original_title.max()\n",
    "\n",
    "movie_id = data[data.original_title == movie_name].imdb_id.max()\n",
    "\n",
    "print(f\"{movie_name} ({movie_id})\")"
   ]
  },
  {
   "cell_type": "code",
   "execution_count": 1150,
   "metadata": {},
   "outputs": [],
   "source": [
    "answers['9'] = 'The Dark Knight (tt0468569)'"
   ]
  },
  {
   "cell_type": "markdown",
   "metadata": {
    "colab_type": "text",
    "id": "Zi4hDKidVp_F"
   },
   "source": [
    "# 10. Самый убыточный фильм за период с 2012 по 2014 г. (включительно)?\n"
   ]
  },
  {
   "cell_type": "code",
   "execution_count": null,
   "metadata": {},
   "outputs": [],
   "source": []
  },
  {
   "cell_type": "code",
   "execution_count": 1151,
   "metadata": {
    "colab": {},
    "colab_type": "code",
    "id": "XqyRmufJVp_F"
   },
   "outputs": [
    {
     "name": "stdout",
     "output_type": "stream",
     "text": [
      "The Lone Ranger (tt1210819)\n"
     ]
    }
   ],
   "source": [
    "movie_name = data[data.profit == data.query('2012 <= release_year <= 2014').profit.min()].original_title.max()\n",
    "\n",
    "movie_id = data[data.original_title == movie_name].imdb_id.max()\n",
    "\n",
    "print(f\"{movie_name} ({movie_id})\")"
   ]
  },
  {
   "cell_type": "code",
   "execution_count": 1152,
   "metadata": {},
   "outputs": [],
   "source": [
    "answers['10'] = 'The Lone Ranger (tt1210819)'"
   ]
  },
  {
   "cell_type": "code",
   "execution_count": 1153,
   "metadata": {},
   "outputs": [
    {
     "data": {
      "text/plain": [
       "{'1': 'Pirates of the Caribbean: On Stranger Tides (tt1298650)',\n",
       " '2': 'Gods and Generals (tt0279111)',\n",
       " '3': 'Winnie the Pooh (tt1449283)',\n",
       " '4': 110,\n",
       " '5': 107,\n",
       " '6': 'Avatar (tt0499549)',\n",
       " '7': 'The Lone Ranger (tt1210819)',\n",
       " '8': 1478,\n",
       " '9': 'The Dark Knight (tt0468569)',\n",
       " '10': 'The Lone Ranger (tt1210819)'}"
      ]
     },
     "execution_count": 1153,
     "metadata": {},
     "output_type": "execute_result"
    }
   ],
   "source": [
    "answers"
   ]
  },
  {
   "cell_type": "markdown",
   "metadata": {
    "colab_type": "text",
    "id": "EA7Sa9dkVp_I"
   },
   "source": [
    "# 11. Какого жанра фильмов больше всего?"
   ]
  },
  {
   "cell_type": "code",
   "execution_count": 1154,
   "metadata": {
    "colab": {},
    "colab_type": "code",
    "id": "zsJAwJ8QVp_J"
   },
   "outputs": [
    {
     "data": {
      "text/plain": [
       "Drama        782\n",
       "Comedy       683\n",
       "Thriller     596\n",
       "Action       582\n",
       "Adventure    415\n",
       "dtype: int64"
      ]
     },
     "execution_count": 1154,
     "metadata": {},
     "output_type": "execute_result"
    }
   ],
   "source": [
    "# эту задачу тоже можно решать разными подходами, попробуй реализовать разные варианты\n",
    "# если будешь добавлять функцию - выноси ее в предобработку что в начале\n",
    "\n",
    "genre_series = pd.Series(data=[0], index=['none'])\n",
    "\n",
    "for genre_all, genre_count in data.genres.value_counts().items():\n",
    "    for genre in genre_all.split('|'):\n",
    "        if genre in genre_series.index:\n",
    "            genre_series[genre] += genre_count\n",
    "        else:\n",
    "            genre_series[genre] = genre_count\n",
    "\n",
    "genre_series.sort_values(ascending=False).head(5)\n"
   ]
  },
  {
   "cell_type": "code",
   "execution_count": 1155,
   "metadata": {},
   "outputs": [],
   "source": [
    "answers['11'] = 'Drama'"
   ]
  },
  {
   "cell_type": "markdown",
   "metadata": {
    "colab_type": "text",
    "id": "Ax6g2C8SVp_M"
   },
   "source": [
    "ВАРИАНТ 2\n",
    "\n",
    "можно сделать чере словарь.."
   ]
  },
  {
   "cell_type": "code",
   "execution_count": null,
   "metadata": {},
   "outputs": [],
   "source": []
  },
  {
   "cell_type": "code",
   "execution_count": 1156,
   "metadata": {},
   "outputs": [
    {
     "data": {
      "text/plain": [
       "Counter({'Comedy': 683,\n",
       "         'Drama': 782,\n",
       "         'Romance': 308,\n",
       "         'Horror': 176,\n",
       "         'Thriller': 596,\n",
       "         'Action': 582,\n",
       "         'Crime': 315,\n",
       "         'Family': 260,\n",
       "         'Animation': 139,\n",
       "         'History': 62,\n",
       "         'Science Fiction': 248,\n",
       "         'Adventure': 415,\n",
       "         'Fantasy': 222,\n",
       "         'Mystery': 168,\n",
       "         'Music': 64,\n",
       "         'War': 58,\n",
       "         'Documentary': 8,\n",
       "         'Western': 19,\n",
       "         'Foreign': 2})"
      ]
     },
     "execution_count": 1156,
     "metadata": {},
     "output_type": "execute_result"
    }
   ],
   "source": [
    "genre_counter = Counter()\n",
    "\n",
    "for genre_all, genre_count in data.genres.value_counts().items():\n",
    "    for genre in genre_all.split('|'):\n",
    "        genre_counter[genre] += genre_count\n",
    "\n",
    "genre_counter\n",
    "# TODO - поиск максимального значения\n"
   ]
  },
  {
   "cell_type": "code",
   "execution_count": null,
   "metadata": {
    "colab": {},
    "colab_type": "code",
    "id": "otO3SbrSVp_N"
   },
   "outputs": [],
   "source": []
  },
  {
   "cell_type": "markdown",
   "metadata": {
    "colab_type": "text",
    "id": "T9_bPWpkVp_Q"
   },
   "source": [
    "# 12. Фильмы какого жанра чаще всего становятся прибыльными? "
   ]
  },
  {
   "cell_type": "code",
   "execution_count": 1157,
   "metadata": {},
   "outputs": [
    {
     "data": {
      "text/plain": [
       "Drama        560\n",
       "Comedy       551\n",
       "Thriller     446\n",
       "Action       444\n",
       "Adventure    337\n",
       "dtype: int64"
      ]
     },
     "execution_count": 1157,
     "metadata": {},
     "output_type": "execute_result"
    }
   ],
   "source": [
    "\n",
    "a = data[data.profit > 0].groupby(['genres'])['profit'].count()\n",
    "\n",
    "series_aggregation_first_column(a, 'sum')\n"
   ]
  },
  {
   "cell_type": "code",
   "execution_count": 1158,
   "metadata": {
    "colab": {},
    "colab_type": "code",
    "id": "Tmt8MaK1Vp_R"
   },
   "outputs": [
    {
     "data": {
      "text/plain": [
       "'Drama'"
      ]
     },
     "execution_count": 1158,
     "metadata": {},
     "output_type": "execute_result"
    }
   ],
   "source": [
    "series_aggregation_first_column(a, 'sum').index[0]"
   ]
  },
  {
   "cell_type": "code",
   "execution_count": 1159,
   "metadata": {},
   "outputs": [],
   "source": [
    "# answers['12'] = 'Adventure'\n",
    "answers['12'] = 'Drama'"
   ]
  },
  {
   "cell_type": "markdown",
   "metadata": {
    "colab_type": "text",
    "id": "0F23bgsDVp_U"
   },
   "source": [
    "# 13. У какого режиссера самые большие суммарные кассовые сбооры?"
   ]
  },
  {
   "cell_type": "code",
   "execution_count": null,
   "metadata": {},
   "outputs": [],
   "source": []
  },
  {
   "cell_type": "code",
   "execution_count": 1160,
   "metadata": {
    "colab": {},
    "colab_type": "code",
    "id": "K6Z3J8ygVp_X",
    "scrolled": true
   },
   "outputs": [
    {
     "data": {
      "text/plain": [
       "Peter Jackson        6490593685\n",
       "Christopher Nolan    4167548502\n",
       "David Yates          4154295625\n",
       "dtype: int64"
      ]
     },
     "execution_count": 1160,
     "metadata": {},
     "output_type": "execute_result"
    }
   ],
   "source": [
    "director_revenue = pd.Series(data=[0], index=['none'])\n",
    "\n",
    "for director_all, revenue in data.groupby(['director'])['revenue'].sum().items():\n",
    "    for director in director_all.split('|'):\n",
    "        if director in director_revenue.index:\n",
    "            director_revenue[director] += revenue\n",
    "        else:\n",
    "            director_revenue[director] = revenue\n",
    "\n",
    "director_revenue.sort_values(ascending=False).head(3)"
   ]
  },
  {
   "cell_type": "code",
   "execution_count": 1161,
   "metadata": {},
   "outputs": [],
   "source": [
    "answers['13'] = 'Peter Jackson'"
   ]
  },
  {
   "cell_type": "markdown",
   "metadata": {
    "colab_type": "text",
    "id": "PsYC9FgRVp_a"
   },
   "source": [
    "# 14. Какой режисер снял больше всего фильмов в стиле Action?"
   ]
  },
  {
   "cell_type": "code",
   "execution_count": 1162,
   "metadata": {
    "colab": {},
    "colab_type": "code",
    "id": "wd2M-wHeVp_b"
   },
   "outputs": [
    {
     "data": {
      "text/plain": [
       "Robert Rodriguez      9\n",
       "Paul W.S. Anderson    7\n",
       "Michael Bay           7\n",
       "Ridley Scott          6\n",
       "Antoine Fuqua         6\n",
       "dtype: int64"
      ]
     },
     "execution_count": 1162,
     "metadata": {},
     "output_type": "execute_result"
    }
   ],
   "source": [
    "\n",
    "director_genres = data[ ['director','genres'] ][data.genres.str.contains('Action', na=False)]\n",
    "\n",
    "director_genres = director_genres.groupby(['director'])['genres'].count()\n",
    "\n",
    "series_aggregation_first_column(director_genres, 'sum', top=5)\n"
   ]
  },
  {
   "cell_type": "code",
   "execution_count": 1163,
   "metadata": {},
   "outputs": [],
   "source": [
    "answers['14'] = 'Robert Rodriguez'"
   ]
  },
  {
   "cell_type": "markdown",
   "metadata": {
    "colab_type": "text",
    "id": "PQ0KciD7Vp_f"
   },
   "source": [
    "# 15. Фильмы с каким актером принесли самые высокие кассовые сборы в 2012 году? "
   ]
  },
  {
   "cell_type": "code",
   "execution_count": null,
   "metadata": {
    "colab": {},
    "colab_type": "code",
    "id": "aga62oeKVp_g",
    "scrolled": true
   },
   "outputs": [],
   "source": []
  },
  {
   "cell_type": "code",
   "execution_count": 1164,
   "metadata": {},
   "outputs": [
    {
     "data": {
      "text/plain": [
       "Chris Hemsworth    2027450773\n",
       "dtype: int64"
      ]
     },
     "execution_count": 1164,
     "metadata": {},
     "output_type": "execute_result"
    }
   ],
   "source": [
    "\n",
    "top_actor_2012 = data.query('release_year == 2012').groupby(['cast'])['revenue'].sum()\n",
    "\n",
    "series_aggregation_first_column( top_actor_2012 ,'sum', top=1)\n"
   ]
  },
  {
   "cell_type": "code",
   "execution_count": 1165,
   "metadata": {},
   "outputs": [],
   "source": [
    "answers['15'] = 'Chris Hemsworth'"
   ]
  },
  {
   "cell_type": "markdown",
   "metadata": {
    "colab_type": "text",
    "id": "mWHyyL7QVp_j"
   },
   "source": [
    "# 16. Какой актер снялся в большем количестве высокобюджетных фильмов?"
   ]
  },
  {
   "cell_type": "code",
   "execution_count": 1166,
   "metadata": {
    "colab": {},
    "colab_type": "code",
    "id": "qQtmHKTFVp_k"
   },
   "outputs": [
    {
     "data": {
      "text/plain": [
       "Matt Damon           18\n",
       "Adam Sandler         17\n",
       "Angelina Jolie       16\n",
       "Samuel L. Jackson    15\n",
       "Eddie Murphy         15\n",
       "Tom Cruise           15\n",
       "dtype: int64"
      ]
     },
     "execution_count": 1166,
     "metadata": {},
     "output_type": "execute_result"
    }
   ],
   "source": [
    "# высокобюджетные - фильмы, где бюджет выше среднего по данной выборке\n",
    "\n",
    "top_actor = data[data.budget > data.budget.mean()].groupby(['cast'])['revenue'].count()\n",
    "\n",
    "series_aggregation_first_column( top_actor ,'sum', top=6)\n"
   ]
  },
  {
   "cell_type": "code",
   "execution_count": 1167,
   "metadata": {},
   "outputs": [],
   "source": [
    "answers['16'] = 'Matt Damon'"
   ]
  },
  {
   "cell_type": "markdown",
   "metadata": {
    "colab_type": "text",
    "id": "NIh6AaW5Vp_n"
   },
   "source": [
    "# 17. В фильмах какого жанра больше всего снимался Nicolas Cage? "
   ]
  },
  {
   "cell_type": "code",
   "execution_count": 1168,
   "metadata": {
    "colab": {},
    "colab_type": "code",
    "id": "H74SJDIBVp_n",
    "scrolled": true
   },
   "outputs": [
    {
     "data": {
      "text/plain": [
       "Action      17\n",
       "Thriller    15\n",
       "Drama       12\n",
       "Crime       10\n",
       "Fantasy      8\n",
       "dtype: int64"
      ]
     },
     "execution_count": 1168,
     "metadata": {},
     "output_type": "execute_result"
    }
   ],
   "source": [
    "favorite_genre = data[data.cast.str.contains('Nicolas Cage', na=False)].groupby(['genres'])['cast'].count()\n",
    "\n",
    "series_aggregation_first_column( favorite_genre ,'sum', top=5)"
   ]
  },
  {
   "cell_type": "code",
   "execution_count": 1169,
   "metadata": {},
   "outputs": [],
   "source": [
    "answers['17'] = 'Action'"
   ]
  },
  {
   "cell_type": "markdown",
   "metadata": {
    "colab_type": "text",
    "id": "RqOmPRfWVp_q"
   },
   "source": [
    "# 18. Самый убыточный фильм от Paramount Pictures"
   ]
  },
  {
   "cell_type": "code",
   "execution_count": 1170,
   "metadata": {
    "colab": {},
    "colab_type": "code",
    "id": "9E_B0Y96Vp_r"
   },
   "outputs": [
    {
     "name": "stdout",
     "output_type": "stream",
     "text": [
      "K-19: The Widowmaker (tt0267626)\n"
     ]
    }
   ],
   "source": [
    "movie_name = data[data.profit == data[data.production_companies.str.contains('Paramount Pictures')].profit.min()].original_title.max()\n",
    "\n",
    "movie_id = data[data.original_title == movie_name].imdb_id.max()\n",
    "\n",
    "print(f\"{movie_name} ({movie_id})\")\n",
    "\n"
   ]
  },
  {
   "cell_type": "code",
   "execution_count": 1171,
   "metadata": {},
   "outputs": [],
   "source": [
    "answers['18'] = 'K-19: The Widowmaker (tt0267626)'"
   ]
  },
  {
   "cell_type": "markdown",
   "metadata": {
    "colab_type": "text",
    "id": "vS8Ur6ddVp_u"
   },
   "source": [
    "# 19. Какой год стал самым успешным по суммарным кассовым сборам?"
   ]
  },
  {
   "cell_type": "code",
   "execution_count": 1172,
   "metadata": {
    "colab": {},
    "colab_type": "code",
    "id": "Dnbt4GdIVp_v"
   },
   "outputs": [
    {
     "data": {
      "text/plain": [
       "release_year\n",
       "2015    25449202382\n",
       "Name: revenue, dtype: int64"
      ]
     },
     "execution_count": 1172,
     "metadata": {},
     "output_type": "execute_result"
    }
   ],
   "source": [
    "data.groupby(['release_year'])['revenue'].sum().sort_values(ascending=False).head(1)"
   ]
  },
  {
   "cell_type": "code",
   "execution_count": 1173,
   "metadata": {},
   "outputs": [],
   "source": [
    "answers['19'] = 2015"
   ]
  },
  {
   "cell_type": "markdown",
   "metadata": {
    "colab_type": "text",
    "id": "JAzJh4QAVp_z"
   },
   "source": [
    "# 20. Какой самый прибыльный год для студии Warner Bros?"
   ]
  },
  {
   "cell_type": "code",
   "execution_count": 1174,
   "metadata": {
    "colab": {},
    "colab_type": "code",
    "id": "wgVu02DEVp_0"
   },
   "outputs": [
    {
     "data": {
      "text/plain": [
       "release_year\n",
       "2014    2295464519\n",
       "Name: profit, dtype: int64"
      ]
     },
     "execution_count": 1174,
     "metadata": {},
     "output_type": "execute_result"
    }
   ],
   "source": [
    "wb_profit = data[data.production_companies.str.contains('Warner Bros', na=False)]\n",
    "\n",
    "wb_profit.groupby(['release_year'])['profit'].sum().sort_values(ascending=False).head(1)"
   ]
  },
  {
   "cell_type": "code",
   "execution_count": 1175,
   "metadata": {},
   "outputs": [],
   "source": [
    "# series_aggregation_first_column( _ ,'sum', top=6)\n",
    "answers['20'] = 2014"
   ]
  },
  {
   "cell_type": "code",
   "execution_count": null,
   "metadata": {},
   "outputs": [],
   "source": []
  },
  {
   "cell_type": "markdown",
   "metadata": {
    "colab_type": "text",
    "id": "8Im1S2HRVp_4"
   },
   "source": [
    "# 21. В каком месяце за все годы суммарно вышло больше всего фильмов?"
   ]
  },
  {
   "cell_type": "code",
   "execution_count": 1176,
   "metadata": {
    "colab": {},
    "colab_type": "code",
    "id": "lev6TH7gVp_4"
   },
   "outputs": [
    {
     "data": {
      "text/plain": [
       "9    227\n",
       "Name: release_month, dtype: int64"
      ]
     },
     "execution_count": 1176,
     "metadata": {},
     "output_type": "execute_result"
    }
   ],
   "source": [
    "# Вариант 1\n",
    "data.release_month.value_counts().sort_values().tail(1)"
   ]
  },
  {
   "cell_type": "code",
   "execution_count": 1177,
   "metadata": {},
   "outputs": [
    {
     "data": {
      "text/plain": [
       "release_month\n",
       "9    227\n",
       "Name: imdb_id, dtype: int64"
      ]
     },
     "execution_count": 1177,
     "metadata": {},
     "output_type": "execute_result"
    }
   ],
   "source": [
    "# Вариант 2\n",
    "data.groupby(['release_month'])['imdb_id'].count().sort_values().tail(1)"
   ]
  },
  {
   "cell_type": "code",
   "execution_count": 1178,
   "metadata": {},
   "outputs": [],
   "source": [
    "# series_aggregation_first_column( _ ,'sum', top=6)\n",
    "answers['21'] = 'Сентябрь'"
   ]
  },
  {
   "cell_type": "markdown",
   "metadata": {
    "colab_type": "text",
    "id": "uAJsZ_NeVp_7"
   },
   "source": [
    "# 22. Сколько суммарно вышло фильмов летом? (за июнь, июль, август)"
   ]
  },
  {
   "cell_type": "code",
   "execution_count": 1179,
   "metadata": {},
   "outputs": [
    {
     "data": {
      "text/plain": [
       "450"
      ]
     },
     "execution_count": 1179,
     "metadata": {},
     "output_type": "execute_result"
    }
   ],
   "source": [
    "# data.query('6<=release_month<=8').shape\n",
    "# len(data.query('6 <= release_month <= 8'))\n",
    "\n",
    "len(data.query('release_month in [6, 7, 8]'))"
   ]
  },
  {
   "cell_type": "code",
   "execution_count": 1180,
   "metadata": {},
   "outputs": [],
   "source": [
    "# series_aggregation_first_column( _ ,'sum', top=6)\n",
    "answers['22'] = 450"
   ]
  },
  {
   "cell_type": "markdown",
   "metadata": {
    "colab_type": "text",
    "id": "G94ppOY1VqAA"
   },
   "source": [
    "# 23. Для какого режиссера зима – самое продуктивное время года? "
   ]
  },
  {
   "cell_type": "code",
   "execution_count": 1181,
   "metadata": {
    "colab": {},
    "colab_type": "code",
    "id": "RhNTsamuVqAB"
   },
   "outputs": [
    {
     "data": {
      "text/plain": [
       "Peter Jackson        7\n",
       "Steven Soderbergh    6\n",
       "Clint Eastwood       6\n",
       "dtype: int64"
      ]
     },
     "execution_count": 1181,
     "metadata": {},
     "output_type": "execute_result"
    }
   ],
   "source": [
    "\n",
    "winter_director = data.query('release_month in [1, 2, 12]').director.value_counts()\n",
    "\n",
    "series_aggregation_first_column(winter_director,'sum', top=3)"
   ]
  },
  {
   "cell_type": "code",
   "execution_count": 1182,
   "metadata": {},
   "outputs": [],
   "source": [
    "# series_aggregation_first_column( _ ,'sum', top=6)\n",
    "answers['23'] = 'Peter Jackson'"
   ]
  },
  {
   "cell_type": "markdown",
   "metadata": {
    "colab_type": "text",
    "id": "RBo0JVjVVqAF"
   },
   "source": [
    "# 24. Какая студия дает самые длинные названия своим фильмам по количеству символов?"
   ]
  },
  {
   "cell_type": "code",
   "execution_count": 1183,
   "metadata": {
    "colab": {},
    "colab_type": "code",
    "id": "QRGS8L0iVqAG",
    "scrolled": true
   },
   "outputs": [
    {
     "data": {
      "text/plain": [
       "'Twentieth Century Fox Film Corporation|Four By Two Productions'"
      ]
     },
     "execution_count": 1183,
     "metadata": {},
     "output_type": "execute_result"
    }
   ],
   "source": [
    "\n",
    "max_len = data.original_title.str.len().max()\n",
    "\n",
    "data[data.original_title.str.len() == max_len].production_companies.iloc[0]\n",
    "\n"
   ]
  },
  {
   "cell_type": "code",
   "execution_count": 1184,
   "metadata": {},
   "outputs": [],
   "source": [
    "# series_aggregation_first_column( _ ,'sum', top=6)\n",
    "answers['24'] = 'Four By Two Productions' "
   ]
  },
  {
   "cell_type": "markdown",
   "metadata": {
    "colab_type": "text",
    "id": "9G0hbvR7VqAK"
   },
   "source": [
    "# 25. Описание фильмов какой студии в среднем самые длинные по количеству слов?"
   ]
  },
  {
   "cell_type": "code",
   "execution_count": 1185,
   "metadata": {
    "colab": {},
    "colab_type": "code",
    "id": "Ge2GsLNxVqAK"
   },
   "outputs": [],
   "source": [
    "# production_companies_result = pd.DataFrame(columns=['production_companies', 'overview_word_count'])\n",
    "\n",
    "# prod_companies = data[['production_companies', 'overview']].head(50)\n",
    "\n",
    "# for i in prod_companies.index:\n",
    "#     companies = prod_companies.iloc[i].production_companies\n",
    "#     overview = prod_companies.iloc[i].overview\n",
    "#     word_count = len(re.findall(r'\\w+', overview.lower()))\n",
    "    \n",
    "#     for prod_companie in companies.split('|'):\n",
    "        \n",
    "#         new_location = len(production_companies_result)\n",
    "        \n",
    "#         production_companies_result.loc[new_location] = [prod_companie, word_count]\n",
    "\n",
    "\n",
    "# production_companies_result.groupby(['production_companies'])['overview_word_count'].max()\n",
    "\n",
    "# production_companies_result.production_companies.value_counts()\n",
    "# production_companies_result.overview_word_count.max()"
   ]
  },
  {
   "cell_type": "code",
   "execution_count": 1186,
   "metadata": {},
   "outputs": [
    {
     "data": {
      "text/plain": [
       "'Lions Gate Films|Lakeshore Entertainment|GreeneStreet Films|Midnight Picture Show'"
      ]
     },
     "execution_count": 1186,
     "metadata": {},
     "output_type": "execute_result"
    }
   ],
   "source": [
    "# data['word_count_overiew']\n",
    "\n",
    "word_count_overiew_max = data[data.word_count_overiew > data.word_count_overiew.mean()].word_count_overiew.max()\n",
    "\n",
    "data[data.word_count_overiew == word_count_overiew_max].production_companies.iloc[0]\n"
   ]
  },
  {
   "cell_type": "code",
   "execution_count": 1187,
   "metadata": {},
   "outputs": [
    {
     "data": {
      "text/plain": [
       "'Midnight Picture Show'"
      ]
     },
     "execution_count": 1187,
     "metadata": {},
     "output_type": "execute_result"
    }
   ],
   "source": [
    "data[data.word_count_overiew == word_count_overiew_max].production_companies.iloc[0].split('|')[3]"
   ]
  },
  {
   "cell_type": "code",
   "execution_count": 1188,
   "metadata": {},
   "outputs": [],
   "source": [
    "# \n",
    "answers['25'] = 'Midnight Picture Show'"
   ]
  },
  {
   "cell_type": "markdown",
   "metadata": {
    "colab_type": "text",
    "id": "FJ1AFt90VqAP"
   },
   "source": [
    "# 26. Какие фильмы входят в 1 процент лучших по рейтингу? \n",
    "по vote_average"
   ]
  },
  {
   "cell_type": "code",
   "execution_count": 1189,
   "metadata": {
    "colab": {},
    "colab_type": "code",
    "id": "8qmJVq4CVqAQ"
   },
   "outputs": [],
   "source": [
    "\n",
    "top_movies = ['Inside Out','The Dark Knight','12 Years a Slave']\n",
    "#     'BloodRayne, The Adventures of Rocky & Bullwinkle',\n",
    "#     'Batman Begins, The Lord of the Rings: The Return of the King, Upside Down',\n",
    "#     '300, Lucky Number Slevin, Kill Bill: Vol. 1',\n",
    "#     'Upside Down, Inside Out, Iron Man']\n",
    "\n"
   ]
  },
  {
   "cell_type": "code",
   "execution_count": 1190,
   "metadata": {},
   "outputs": [
    {
     "data": {
      "text/html": [
       "<div>\n",
       "<style scoped>\n",
       "    .dataframe tbody tr th:only-of-type {\n",
       "        vertical-align: middle;\n",
       "    }\n",
       "\n",
       "    .dataframe tbody tr th {\n",
       "        vertical-align: top;\n",
       "    }\n",
       "\n",
       "    .dataframe thead th {\n",
       "        text-align: right;\n",
       "    }\n",
       "</style>\n",
       "<table border=\"1\" class=\"dataframe\">\n",
       "  <thead>\n",
       "    <tr style=\"text-align: right;\">\n",
       "      <th></th>\n",
       "      <th>original_title</th>\n",
       "      <th>vote_average</th>\n",
       "    </tr>\n",
       "  </thead>\n",
       "  <tbody>\n",
       "    <tr>\n",
       "      <th>599</th>\n",
       "      <td>The Dark Knight</td>\n",
       "      <td>8.1</td>\n",
       "    </tr>\n",
       "    <tr>\n",
       "      <th>125</th>\n",
       "      <td>The Imitation Game</td>\n",
       "      <td>8.0</td>\n",
       "    </tr>\n",
       "    <tr>\n",
       "      <th>9</th>\n",
       "      <td>Inside Out</td>\n",
       "      <td>8.0</td>\n",
       "    </tr>\n",
       "    <tr>\n",
       "      <th>118</th>\n",
       "      <td>Interstellar</td>\n",
       "      <td>8.0</td>\n",
       "    </tr>\n",
       "    <tr>\n",
       "      <th>34</th>\n",
       "      <td>Room</td>\n",
       "      <td>8.0</td>\n",
       "    </tr>\n",
       "    <tr>\n",
       "      <th>1081</th>\n",
       "      <td>The Lord of the Rings: The Return of the King</td>\n",
       "      <td>7.9</td>\n",
       "    </tr>\n",
       "    <tr>\n",
       "      <th>138</th>\n",
       "      <td>The Grand Budapest Hotel</td>\n",
       "      <td>7.9</td>\n",
       "    </tr>\n",
       "    <tr>\n",
       "      <th>1183</th>\n",
       "      <td>The Wolf of Wall Street</td>\n",
       "      <td>7.9</td>\n",
       "    </tr>\n",
       "    <tr>\n",
       "      <th>370</th>\n",
       "      <td>Inception</td>\n",
       "      <td>7.9</td>\n",
       "    </tr>\n",
       "    <tr>\n",
       "      <th>119</th>\n",
       "      <td>Guardians of the Galaxy</td>\n",
       "      <td>7.9</td>\n",
       "    </tr>\n",
       "    <tr>\n",
       "      <th>1800</th>\n",
       "      <td>Memento</td>\n",
       "      <td>7.9</td>\n",
       "    </tr>\n",
       "    <tr>\n",
       "      <th>128</th>\n",
       "      <td>Gone Girl</td>\n",
       "      <td>7.9</td>\n",
       "    </tr>\n",
       "    <tr>\n",
       "      <th>872</th>\n",
       "      <td>The Pianist</td>\n",
       "      <td>7.9</td>\n",
       "    </tr>\n",
       "    <tr>\n",
       "      <th>1191</th>\n",
       "      <td>12 Years a Slave</td>\n",
       "      <td>7.9</td>\n",
       "    </tr>\n",
       "    <tr>\n",
       "      <th>283</th>\n",
       "      <td>Mr. Nobody</td>\n",
       "      <td>7.8</td>\n",
       "    </tr>\n",
       "    <tr>\n",
       "      <th>1688</th>\n",
       "      <td>There Will Be Blood</td>\n",
       "      <td>7.8</td>\n",
       "    </tr>\n",
       "    <tr>\n",
       "      <th>863</th>\n",
       "      <td>The Lord of the Rings: The Two Towers</td>\n",
       "      <td>7.8</td>\n",
       "    </tr>\n",
       "    <tr>\n",
       "      <th>155</th>\n",
       "      <td>The Theory of Everything</td>\n",
       "      <td>7.8</td>\n",
       "    </tr>\n",
       "    <tr>\n",
       "      <th>1563</th>\n",
       "      <td>Eternal Sunshine of the Spotless Mind</td>\n",
       "      <td>7.8</td>\n",
       "    </tr>\n",
       "  </tbody>\n",
       "</table>\n",
       "</div>"
      ],
      "text/plain": [
       "                                     original_title  vote_average\n",
       "599                                 The Dark Knight           8.1\n",
       "125                              The Imitation Game           8.0\n",
       "9                                        Inside Out           8.0\n",
       "118                                    Interstellar           8.0\n",
       "34                                             Room           8.0\n",
       "1081  The Lord of the Rings: The Return of the King           7.9\n",
       "138                        The Grand Budapest Hotel           7.9\n",
       "1183                        The Wolf of Wall Street           7.9\n",
       "370                                       Inception           7.9\n",
       "119                         Guardians of the Galaxy           7.9\n",
       "1800                                        Memento           7.9\n",
       "128                                       Gone Girl           7.9\n",
       "872                                     The Pianist           7.9\n",
       "1191                               12 Years a Slave           7.9\n",
       "283                                      Mr. Nobody           7.8\n",
       "1688                            There Will Be Blood           7.8\n",
       "863           The Lord of the Rings: The Two Towers           7.8\n",
       "155                        The Theory of Everything           7.8\n",
       "1563          Eternal Sunshine of the Spotless Mind           7.8"
      ]
     },
     "execution_count": 1190,
     "metadata": {},
     "output_type": "execute_result"
    }
   ],
   "source": [
    "count_last_procent = round(len(data)*0.01)\n",
    "\n",
    "last_procent = data.vote_average.sort_values(ascending=False).head(count_last_procent).index\n",
    "\n",
    "data.loc[last_procent][['original_title','vote_average']]\n"
   ]
  },
  {
   "cell_type": "code",
   "execution_count": 1191,
   "metadata": {},
   "outputs": [
    {
     "data": {
      "text/html": [
       "<div>\n",
       "<style scoped>\n",
       "    .dataframe tbody tr th:only-of-type {\n",
       "        vertical-align: middle;\n",
       "    }\n",
       "\n",
       "    .dataframe tbody tr th {\n",
       "        vertical-align: top;\n",
       "    }\n",
       "\n",
       "    .dataframe thead th {\n",
       "        text-align: right;\n",
       "    }\n",
       "</style>\n",
       "<table border=\"1\" class=\"dataframe\">\n",
       "  <thead>\n",
       "    <tr style=\"text-align: right;\">\n",
       "      <th></th>\n",
       "      <th>original_title</th>\n",
       "      <th>vote_average</th>\n",
       "    </tr>\n",
       "  </thead>\n",
       "  <tbody>\n",
       "    <tr>\n",
       "      <th>9</th>\n",
       "      <td>Inside Out</td>\n",
       "      <td>8.0</td>\n",
       "    </tr>\n",
       "    <tr>\n",
       "      <th>601</th>\n",
       "      <td>Iron Man</td>\n",
       "      <td>7.3</td>\n",
       "    </tr>\n",
       "    <tr>\n",
       "      <th>1007</th>\n",
       "      <td>Upside Down</td>\n",
       "      <td>6.1</td>\n",
       "    </tr>\n",
       "  </tbody>\n",
       "</table>\n",
       "</div>"
      ],
      "text/plain": [
       "     original_title  vote_average\n",
       "9        Inside Out           8.0\n",
       "601        Iron Man           7.3\n",
       "1007    Upside Down           6.1"
      ]
     },
     "execution_count": 1191,
     "metadata": {},
     "output_type": "execute_result"
    }
   ],
   "source": [
    "# Проверка наличия 3-х фильмов в выборке 1% лучших фильмов\n",
    "data.loc[last_procent].query('original_title in @top_movies')[['original_title','vote_average']]\n",
    "\n",
    "top_movies = ['Upside Down','Inside Out','Iron Man']\n",
    "data.query('original_title in @top_movies')[['original_title','vote_average']]"
   ]
  },
  {
   "cell_type": "code",
   "execution_count": 1192,
   "metadata": {},
   "outputs": [],
   "source": [
    "# \n",
    "answers['26'] = 'Inside Out, The Dark Knight, 12 Years a Slave'"
   ]
  },
  {
   "cell_type": "markdown",
   "metadata": {
    "colab_type": "text",
    "id": "MdXsUXbCVqAV"
   },
   "source": [
    "# 27. Какие актеры чаще всего снимаются в одном фильме вместе?\n"
   ]
  },
  {
   "cell_type": "code",
   "execution_count": 1193,
   "metadata": {},
   "outputs": [
    {
     "data": {
      "text/plain": [
       "[('c', 'a', 'r'), ('c', 'a', 'l'), ('c', 'r', 'l'), ('a', 'r', 'l')]"
      ]
     },
     "execution_count": 1193,
     "metadata": {},
     "output_type": "execute_result"
    }
   ],
   "source": [
    "a = list(combinations('carl', 3))\n",
    "\n",
    "a\n"
   ]
  },
  {
   "cell_type": "code",
   "execution_count": null,
   "metadata": {},
   "outputs": [],
   "source": []
  },
  {
   "cell_type": "code",
   "execution_count": null,
   "metadata": {},
   "outputs": [],
   "source": []
  },
  {
   "cell_type": "code",
   "execution_count": 1194,
   "metadata": {},
   "outputs": [],
   "source": [
    "# \n",
    "answers['27'] = 'Daniel Radcliffe & Rupert Grint'"
   ]
  },
  {
   "cell_type": "markdown",
   "metadata": {
    "colab_type": "text",
    "id": "4ymnxEVoVqAW"
   },
   "source": [
    "ВАРИАНТ 2"
   ]
  },
  {
   "cell_type": "code",
   "execution_count": 1195,
   "metadata": {},
   "outputs": [
    {
     "data": {
      "text/plain": [
       "'Daniel Radcliffe & Rupert Grint'"
      ]
     },
     "execution_count": 1195,
     "metadata": {},
     "output_type": "execute_result"
    }
   ],
   "source": [
    "pair_actors = [  'Johnny Depp & Helena Bonham Carter',\n",
    "                'Ben Stiller & Owen Wilson',\n",
    "                'Vin Diesel & Paul Walker',\n",
    "                'Adam Sandler & Kevin James',\n",
    "                'Daniel Radcliffe & Rupert Grint']\n",
    "\n",
    "actor_pair_work = pd.Series(dtype=object)\n",
    "\n",
    "for pair_actor in pair_actors:\n",
    "    actor1, actor2 =  pair_actor.split(' & ')\n",
    "    pair_work_count = data[data.cast.str.contains(actor1) & data.cast.str.contains(actor2)].imdb_id.count()\n",
    "    #print(pair_work_count, '|', pair_actor)\n",
    "    actor_pair_work[pair_actor] = pair_work_count\n",
    "\n",
    "actor_pair_work.sort_values(ascending=False).head(1).index[0]\n"
   ]
  },
  {
   "cell_type": "code",
   "execution_count": null,
   "metadata": {},
   "outputs": [],
   "source": []
  },
  {
   "cell_type": "markdown",
   "metadata": {
    "colab_type": "text",
    "id": "U0nONFnGVqAX"
   },
   "source": [
    "# Submission"
   ]
  },
  {
   "cell_type": "code",
   "execution_count": 1196,
   "metadata": {
    "colab": {},
    "colab_type": "code",
    "id": "IfcaRO9-VqAX",
    "outputId": "0f132912-32bb-4196-c98c-abfbc4ad5a5f"
   },
   "outputs": [
    {
     "data": {
      "text/plain": [
       "{'1': 'Pirates of the Caribbean: On Stranger Tides (tt1298650)',\n",
       " '2': 'Gods and Generals (tt0279111)',\n",
       " '3': 'Winnie the Pooh (tt1449283)',\n",
       " '4': 110,\n",
       " '5': 107,\n",
       " '6': 'Avatar (tt0499549)',\n",
       " '7': 'The Lone Ranger (tt1210819)',\n",
       " '8': 1478,\n",
       " '9': 'The Dark Knight (tt0468569)',\n",
       " '10': 'The Lone Ranger (tt1210819)',\n",
       " '11': 'Drama',\n",
       " '12': 'Drama',\n",
       " '13': 'Peter Jackson',\n",
       " '14': 'Robert Rodriguez',\n",
       " '15': 'Chris Hemsworth',\n",
       " '16': 'Matt Damon',\n",
       " '17': 'Action',\n",
       " '18': 'K-19: The Widowmaker (tt0267626)',\n",
       " '19': 2015,\n",
       " '20': 2014,\n",
       " '21': 'Сентябрь',\n",
       " '22': 450,\n",
       " '23': 'Peter Jackson',\n",
       " '24': 'Four By Two Productions',\n",
       " '25': 'Midnight Picture Show',\n",
       " '26': 'Inside Out, The Dark Knight, 12 Years a Slave',\n",
       " '27': 'Daniel Radcliffe & Rupert Grint'}"
      ]
     },
     "execution_count": 1196,
     "metadata": {},
     "output_type": "execute_result"
    }
   ],
   "source": [
    "# в конце можно посмотреть свои ответы к каждому вопросу\n",
    "\n",
    "# Вопрос № 1 ........ [ + ]\n",
    "# Вопрос № 2 ........ [ + ]\n",
    "# Вопрос № 3 ........ [ + ]\n",
    "# Вопрос № 4 ........ [ + ]\n",
    "# Вопрос № 5 ........ [ + ]\n",
    "# Вопрос № 6 ........ [ + ]\n",
    "# Вопрос № 7 ........ [ + ]\n",
    "# Вопрос № 8 ........ [ + ]\n",
    "# Вопрос № 9 ........ [ + ]\n",
    "# Вопрос № 10 ....... [ + ]\n",
    "# Вопрос № 11 ....... [ + ]\n",
    "# Вопрос № 12 ....... [ + ]\n",
    "# Вопрос № 13 ....... [ + ]\n",
    "# Вопрос № 14 ....... [ + ]\n",
    "# Вопрос № 15 ....... [ + ]\n",
    "# Вопрос № 16 ....... [ + ]\n",
    "# Вопрос № 17 ....... [ + ]\n",
    "# Вопрос № 18 ....... [ + ]\n",
    "# Вопрос № 19 ....... [ + ]\n",
    "# Вопрос № 20 ....... [ + ]\n",
    "# Вопрос № 21 ....... [ + ]\n",
    "# Вопрос № 22 ....... [ + ]\n",
    "# Вопрос № 23 ....... [ + ]\n",
    "# Вопрос № 24 ....... [ + ]\n",
    "# Вопрос № 25 ....... [ + ]\n",
    "# Вопрос № 26 ....... [ + ]\n",
    "# Вопрос № 27 ....... [ + ]\n",
    "\n",
    "answers"
   ]
  },
  {
   "cell_type": "code",
   "execution_count": 1197,
   "metadata": {
    "colab": {},
    "colab_type": "code",
    "id": "SiRmHPl8VqAd"
   },
   "outputs": [
    {
     "data": {
      "text/plain": [
       "27"
      ]
     },
     "execution_count": 1197,
     "metadata": {},
     "output_type": "execute_result"
    }
   ],
   "source": [
    "# и убедиться что ни чего не пропустил)\n",
    "len(answers)"
   ]
  },
  {
   "cell_type": "code",
   "execution_count": null,
   "metadata": {
    "colab": {},
    "colab_type": "code",
    "id": "uCfuTkRbVqAg"
   },
   "outputs": [],
   "source": []
  },
  {
   "cell_type": "code",
   "execution_count": null,
   "metadata": {
    "colab": {},
    "colab_type": "code",
    "id": "Vwx3NrkSVqAl"
   },
   "outputs": [],
   "source": []
  }
 ],
 "metadata": {
  "colab": {
   "name": "Copy of [SF-DST] Movies IMBD v4.1 TEMPLATE.ipynb",
   "provenance": []
  },
  "kernelspec": {
   "display_name": "Python 3",
   "language": "python",
   "name": "python3"
  },
  "language_info": {
   "codemirror_mode": {
    "name": "ipython",
    "version": 3
   },
   "file_extension": ".py",
   "mimetype": "text/x-python",
   "name": "python",
   "nbconvert_exporter": "python",
   "pygments_lexer": "ipython3",
   "version": "3.7.6"
  }
 },
 "nbformat": 4,
 "nbformat_minor": 1
}
