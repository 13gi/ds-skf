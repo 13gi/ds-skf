{
 "cells": [
  {
   "cell_type": "code",
   "execution_count": 1735,
   "metadata": {
    "_cell_guid": "b1076dfc-b9ad-4769-8c92-a6c4dae69d19",
    "_uuid": "8f2839f25d086af736a60e9eeb907d3b93b6e0e5",
    "colab": {},
    "colab_type": "code",
    "id": "U2D2gTdJVp90"
   },
   "outputs": [],
   "source": [
    "import numpy as np\n",
    "import pandas as pd\n",
    "import seaborn as sns\n",
    "import matplotlib.pyplot as plt\n",
    "from collections import Counter\n",
    "import re\n",
    "from itertools import combinations"
   ]
  },
  {
   "cell_type": "code",
   "execution_count": 1736,
   "metadata": {
    "_cell_guid": "79c7e3d0-c299-4dcb-8224-4455121ee9b0",
    "_uuid": "d629ff2d2480ee46fbb7e2d37f6b5fab8052498a",
    "colab": {},
    "colab_type": "code",
    "id": "oyGfxL3eVp9-"
   },
   "outputs": [
    {
     "data": {
      "text/html": [
       "<div>\n",
       "<style scoped>\n",
       "    .dataframe tbody tr th:only-of-type {\n",
       "        vertical-align: middle;\n",
       "    }\n",
       "\n",
       "    .dataframe tbody tr th {\n",
       "        vertical-align: top;\n",
       "    }\n",
       "\n",
       "    .dataframe thead th {\n",
       "        text-align: right;\n",
       "    }\n",
       "</style>\n",
       "<table border=\"1\" class=\"dataframe\">\n",
       "  <thead>\n",
       "    <tr style=\"text-align: right;\">\n",
       "      <th></th>\n",
       "      <th>imdb_id</th>\n",
       "      <th>budget</th>\n",
       "      <th>revenue</th>\n",
       "      <th>original_title</th>\n",
       "      <th>cast</th>\n",
       "      <th>director</th>\n",
       "      <th>tagline</th>\n",
       "      <th>overview</th>\n",
       "      <th>runtime</th>\n",
       "      <th>genres</th>\n",
       "      <th>production_companies</th>\n",
       "      <th>release_date</th>\n",
       "      <th>vote_average</th>\n",
       "      <th>release_year</th>\n",
       "    </tr>\n",
       "  </thead>\n",
       "  <tbody>\n",
       "    <tr>\n",
       "      <th>1587</th>\n",
       "      <td>tt0356634</td>\n",
       "      <td>50000000</td>\n",
       "      <td>200804534</td>\n",
       "      <td>Garfield</td>\n",
       "      <td>Bill Murray|Breckin Meyer|Jennifer Love Hewitt...</td>\n",
       "      <td>Peter Hewitt</td>\n",
       "      <td>Get ready for frisky business.</td>\n",
       "      <td>Garfield, the fat, lazy, lasagna lover, has ev...</td>\n",
       "      <td>80</td>\n",
       "      <td>Animation|Comedy|Family</td>\n",
       "      <td>Twentieth Century Fox Film Corporation|Davis E...</td>\n",
       "      <td>6/10/2004</td>\n",
       "      <td>5.2</td>\n",
       "      <td>2004</td>\n",
       "    </tr>\n",
       "    <tr>\n",
       "      <th>1390</th>\n",
       "      <td>tt0384680</td>\n",
       "      <td>20000000</td>\n",
       "      <td>12482775</td>\n",
       "      <td>The Weather Man</td>\n",
       "      <td>Nicolas Cage|Michael Caine|Hope Davis|Gemmenne...</td>\n",
       "      <td>Gore Verbinski</td>\n",
       "      <td>Dave Spritz is about to take his best shot . ....</td>\n",
       "      <td>A Chicago weather man, separated from his wife...</td>\n",
       "      <td>101</td>\n",
       "      <td>Comedy|Drama</td>\n",
       "      <td>Paramount Pictures|Escape Artists|Kumar Mobili...</td>\n",
       "      <td>10/20/2005</td>\n",
       "      <td>5.7</td>\n",
       "      <td>2005</td>\n",
       "    </tr>\n",
       "    <tr>\n",
       "      <th>1650</th>\n",
       "      <td>tt0377062</td>\n",
       "      <td>45000000</td>\n",
       "      <td>21009180</td>\n",
       "      <td>Flight of the Phoenix</td>\n",
       "      <td>Dennis Quaid|Tyrese Gibson|Giovanni Ribisi|Mir...</td>\n",
       "      <td>John Moore</td>\n",
       "      <td>Out of the ashes, hope will rise.</td>\n",
       "      <td>When an Amacor oil rig in the Gobi Desert of M...</td>\n",
       "      <td>113</td>\n",
       "      <td>Action|Adventure|Drama|Thriller</td>\n",
       "      <td>Twentieth Century Fox Film Corporation|Davis E...</td>\n",
       "      <td>12/17/2004</td>\n",
       "      <td>5.4</td>\n",
       "      <td>2004</td>\n",
       "    </tr>\n",
       "    <tr>\n",
       "      <th>896</th>\n",
       "      <td>tt0253754</td>\n",
       "      <td>60000000</td>\n",
       "      <td>67312826</td>\n",
       "      <td>Star Trek: Nemesis</td>\n",
       "      <td>Patrick Stewart|Jonathan Frakes|LeVar Burton|B...</td>\n",
       "      <td>Stuart Baird</td>\n",
       "      <td>A generation's final journey... begins.</td>\n",
       "      <td>En route to the honeymoon of William Riker to ...</td>\n",
       "      <td>117</td>\n",
       "      <td>Science Fiction|Action|Adventure|Thriller</td>\n",
       "      <td>Paramount Pictures</td>\n",
       "      <td>12/12/2002</td>\n",
       "      <td>6.1</td>\n",
       "      <td>2002</td>\n",
       "    </tr>\n",
       "    <tr>\n",
       "      <th>276</th>\n",
       "      <td>tt0448011</td>\n",
       "      <td>50000000</td>\n",
       "      <td>155446362</td>\n",
       "      <td>Knowing</td>\n",
       "      <td>Nicolas Cage|Rose Byrne|Chandler Canterbury|Be...</td>\n",
       "      <td>Alex Proyas</td>\n",
       "      <td>Knowing is everything...</td>\n",
       "      <td>A teacher opens a time capsule that has been d...</td>\n",
       "      <td>121</td>\n",
       "      <td>Action|Adventure|Drama|Mystery|Science Fiction</td>\n",
       "      <td>Summit Entertainment|Mystery Clock Cinema|Esca...</td>\n",
       "      <td>3/19/2009</td>\n",
       "      <td>5.7</td>\n",
       "      <td>2009</td>\n",
       "    </tr>\n",
       "  </tbody>\n",
       "</table>\n",
       "</div>"
      ],
      "text/plain": [
       "        imdb_id    budget    revenue         original_title  \\\n",
       "1587  tt0356634  50000000  200804534               Garfield   \n",
       "1390  tt0384680  20000000   12482775        The Weather Man   \n",
       "1650  tt0377062  45000000   21009180  Flight of the Phoenix   \n",
       "896   tt0253754  60000000   67312826     Star Trek: Nemesis   \n",
       "276   tt0448011  50000000  155446362                Knowing   \n",
       "\n",
       "                                                   cast        director  \\\n",
       "1587  Bill Murray|Breckin Meyer|Jennifer Love Hewitt...    Peter Hewitt   \n",
       "1390  Nicolas Cage|Michael Caine|Hope Davis|Gemmenne...  Gore Verbinski   \n",
       "1650  Dennis Quaid|Tyrese Gibson|Giovanni Ribisi|Mir...      John Moore   \n",
       "896   Patrick Stewart|Jonathan Frakes|LeVar Burton|B...    Stuart Baird   \n",
       "276   Nicolas Cage|Rose Byrne|Chandler Canterbury|Be...     Alex Proyas   \n",
       "\n",
       "                                                tagline  \\\n",
       "1587                     Get ready for frisky business.   \n",
       "1390  Dave Spritz is about to take his best shot . ....   \n",
       "1650                  Out of the ashes, hope will rise.   \n",
       "896             A generation's final journey... begins.   \n",
       "276                            Knowing is everything...   \n",
       "\n",
       "                                               overview  runtime  \\\n",
       "1587  Garfield, the fat, lazy, lasagna lover, has ev...       80   \n",
       "1390  A Chicago weather man, separated from his wife...      101   \n",
       "1650  When an Amacor oil rig in the Gobi Desert of M...      113   \n",
       "896   En route to the honeymoon of William Riker to ...      117   \n",
       "276   A teacher opens a time capsule that has been d...      121   \n",
       "\n",
       "                                              genres  \\\n",
       "1587                         Animation|Comedy|Family   \n",
       "1390                                    Comedy|Drama   \n",
       "1650                 Action|Adventure|Drama|Thriller   \n",
       "896        Science Fiction|Action|Adventure|Thriller   \n",
       "276   Action|Adventure|Drama|Mystery|Science Fiction   \n",
       "\n",
       "                                   production_companies release_date  \\\n",
       "1587  Twentieth Century Fox Film Corporation|Davis E...    6/10/2004   \n",
       "1390  Paramount Pictures|Escape Artists|Kumar Mobili...   10/20/2005   \n",
       "1650  Twentieth Century Fox Film Corporation|Davis E...   12/17/2004   \n",
       "896                                  Paramount Pictures   12/12/2002   \n",
       "276   Summit Entertainment|Mystery Clock Cinema|Esca...    3/19/2009   \n",
       "\n",
       "      vote_average  release_year  \n",
       "1587           5.2          2004  \n",
       "1390           5.7          2005  \n",
       "1650           5.4          2004  \n",
       "896            6.1          2002  \n",
       "276            5.7          2009  "
      ]
     },
     "execution_count": 1736,
     "metadata": {},
     "output_type": "execute_result"
    }
   ],
   "source": [
    "data = pd.read_csv('movie_bd_v5.csv')\n",
    "data.sample(5)"
   ]
  },
  {
   "cell_type": "code",
   "execution_count": 1737,
   "metadata": {
    "colab": {},
    "colab_type": "code",
    "id": "CoYUnagMVp-C"
   },
   "outputs": [
    {
     "data": {
      "text/html": [
       "<div>\n",
       "<style scoped>\n",
       "    .dataframe tbody tr th:only-of-type {\n",
       "        vertical-align: middle;\n",
       "    }\n",
       "\n",
       "    .dataframe tbody tr th {\n",
       "        vertical-align: top;\n",
       "    }\n",
       "\n",
       "    .dataframe thead th {\n",
       "        text-align: right;\n",
       "    }\n",
       "</style>\n",
       "<table border=\"1\" class=\"dataframe\">\n",
       "  <thead>\n",
       "    <tr style=\"text-align: right;\">\n",
       "      <th></th>\n",
       "      <th>budget</th>\n",
       "      <th>revenue</th>\n",
       "      <th>runtime</th>\n",
       "      <th>vote_average</th>\n",
       "      <th>release_year</th>\n",
       "    </tr>\n",
       "  </thead>\n",
       "  <tbody>\n",
       "    <tr>\n",
       "      <th>count</th>\n",
       "      <td>1.889000e+03</td>\n",
       "      <td>1.889000e+03</td>\n",
       "      <td>1889.000000</td>\n",
       "      <td>1889.000000</td>\n",
       "      <td>1889.000000</td>\n",
       "    </tr>\n",
       "    <tr>\n",
       "      <th>mean</th>\n",
       "      <td>5.431083e+07</td>\n",
       "      <td>1.553653e+08</td>\n",
       "      <td>109.658549</td>\n",
       "      <td>6.140762</td>\n",
       "      <td>2007.860773</td>\n",
       "    </tr>\n",
       "    <tr>\n",
       "      <th>std</th>\n",
       "      <td>4.858721e+07</td>\n",
       "      <td>2.146698e+08</td>\n",
       "      <td>18.017041</td>\n",
       "      <td>0.764763</td>\n",
       "      <td>4.468841</td>\n",
       "    </tr>\n",
       "    <tr>\n",
       "      <th>min</th>\n",
       "      <td>5.000000e+06</td>\n",
       "      <td>2.033165e+06</td>\n",
       "      <td>63.000000</td>\n",
       "      <td>3.300000</td>\n",
       "      <td>2000.000000</td>\n",
       "    </tr>\n",
       "    <tr>\n",
       "      <th>25%</th>\n",
       "      <td>2.000000e+07</td>\n",
       "      <td>3.456058e+07</td>\n",
       "      <td>97.000000</td>\n",
       "      <td>5.600000</td>\n",
       "      <td>2004.000000</td>\n",
       "    </tr>\n",
       "    <tr>\n",
       "      <th>50%</th>\n",
       "      <td>3.800000e+07</td>\n",
       "      <td>8.361541e+07</td>\n",
       "      <td>107.000000</td>\n",
       "      <td>6.100000</td>\n",
       "      <td>2008.000000</td>\n",
       "    </tr>\n",
       "    <tr>\n",
       "      <th>75%</th>\n",
       "      <td>7.200000e+07</td>\n",
       "      <td>1.782626e+08</td>\n",
       "      <td>120.000000</td>\n",
       "      <td>6.600000</td>\n",
       "      <td>2012.000000</td>\n",
       "    </tr>\n",
       "    <tr>\n",
       "      <th>max</th>\n",
       "      <td>3.800000e+08</td>\n",
       "      <td>2.781506e+09</td>\n",
       "      <td>214.000000</td>\n",
       "      <td>8.100000</td>\n",
       "      <td>2015.000000</td>\n",
       "    </tr>\n",
       "  </tbody>\n",
       "</table>\n",
       "</div>"
      ],
      "text/plain": [
       "             budget       revenue      runtime  vote_average  release_year\n",
       "count  1.889000e+03  1.889000e+03  1889.000000   1889.000000   1889.000000\n",
       "mean   5.431083e+07  1.553653e+08   109.658549      6.140762   2007.860773\n",
       "std    4.858721e+07  2.146698e+08    18.017041      0.764763      4.468841\n",
       "min    5.000000e+06  2.033165e+06    63.000000      3.300000   2000.000000\n",
       "25%    2.000000e+07  3.456058e+07    97.000000      5.600000   2004.000000\n",
       "50%    3.800000e+07  8.361541e+07   107.000000      6.100000   2008.000000\n",
       "75%    7.200000e+07  1.782626e+08   120.000000      6.600000   2012.000000\n",
       "max    3.800000e+08  2.781506e+09   214.000000      8.100000   2015.000000"
      ]
     },
     "execution_count": 1737,
     "metadata": {},
     "output_type": "execute_result"
    }
   ],
   "source": [
    "data.describe()"
   ]
  },
  {
   "cell_type": "markdown",
   "metadata": {
    "colab_type": "text",
    "id": "DTIt7ezGVp-G"
   },
   "source": [
    "# Предобработка"
   ]
  },
  {
   "cell_type": "code",
   "execution_count": 1738,
   "metadata": {
    "colab": {},
    "colab_type": "code",
    "id": "jNb40DwKVp-H"
   },
   "outputs": [],
   "source": [
    "answers = {} # создадим словарь для ответов\n",
    "\n",
    "# тут другие ваши предобработки колонок например:\n",
    "\n",
    "#the time given in the dataset is in string format.\n",
    "#So we need to change this in datetime format\n",
    "# ...\n",
    "\n",
    "def preparation_answer(incomming_data):\n",
    "    ''' Функция для подготовки ответа в формате платформы.\n",
    "        Формирует выходной результат из имени фильма и его идентификатора'''\n",
    "    \n",
    "    # берем первую строку дата фрейма и определяем имя фильма\n",
    "    movie_name = incomming_data.original_title.iloc[0]\n",
    "    \n",
    "    #  определяем id фильма    \n",
    "    movie_id = incomming_data.imdb_id.iloc[0]\n",
    "    print(movie_name, ' (', movie_id , ')', sep='')\n",
    "    return\n",
    "\n",
    "\n",
    "\n",
    "def year_detect(release_date):\n",
    "    ''' Функция получения года из четырех цифр, идущих подряд.\n",
    "        Если год не найден во входной строке, будет возвращено 1970'''\n",
    "    \n",
    "    # регулярным выражением проверяем в строке 4 цифры подряд\n",
    "    result = re.search(r'\\d{4}', release_date)\n",
    "   \n",
    "    # если найдено\n",
    "    if result:\n",
    "        # получаем найденную подстроку и приводим к типу - целое\n",
    "        return int(result.group(0))\n",
    "    else:\n",
    "        # вернем это значение если не смогли найти по шаблону ничего\n",
    "        return 1970\n",
    "\n",
    "\n",
    "def month_detect(release_date):\n",
    "    ''' Функциия получения месяца из первых двух или одно цифры, идущих в начале строки.\n",
    "        Если цифры не найдены в начале строки - вернет 0. Если полученный номер месяца вне диапазона - вернет 0'''\n",
    "    \n",
    "    # регулярным выражением проверяем в строке 2 цифры подряд или 1 цифру в начале строки\n",
    "    result = re.search(r'^\\d\\d?', release_date)\n",
    "    \n",
    "    # если совпадение есть с шаблоном регулярного выражения\n",
    "    if result:\n",
    "        # получаем найденную подстроку и приводим к типу - целое\n",
    "        month = int(result.group(0))\n",
    "        # проверяем что значение месяца в валидном диапазоне, иначе возвращем - 0\n",
    "        if month < 1 or month > 12:\n",
    "            month = 0\n",
    "        return month\n",
    "    else:\n",
    "        return 0\n",
    "\n",
    "\n",
    "def series_aggregation_first_column(incoming_data, agg_type='sum', top=5, sort_direction=False,):\n",
    "    ''' Функция на вход  получвает серию, далее разделяя индексы по символу \"|\" подсчитывает сумму значений\n",
    "        Выходной результат - ранжированная серия, ограниченная по длине'''\n",
    "    \n",
    "    # создаем пустую серию для выходного результата \n",
    "    result_series = pd.Series(dtype=object)\n",
    "    \n",
    "    # проходим циклом по парам - индекс и значение \n",
    "    for column1, column2 in incoming_data.items():\n",
    "        # если вид агрегации накопительный, то будем суммировать. Иначе - считать кол-во\n",
    "        if agg_type == 'sum':\n",
    "            agg_parametr = column2\n",
    "        else:\n",
    "            agg_parametr = 1\n",
    "        # если индес составной - разделяем на отдельные занчения    \n",
    "        for item in column1.split('|'):\n",
    "            # собираем данные в серию, где индексом будут некие ключевые параметры\n",
    "            # а значениями - сумма по этим параметрам\n",
    "            if item in result_series.index:\n",
    "                result_series[item] += agg_parametr\n",
    "            else:\n",
    "                result_series[item] = agg_parametr\n",
    "    # возвращаем итоговую серию данных\n",
    "    return result_series.sort_values(ascending=sort_direction).head(top)\n",
    "  \n",
    "\n",
    "# создаем и заполняем новую колонку \"Прибыльность\"\n",
    "data['profit'] = data.revenue - data.budget\n",
    "\n",
    "# создаем и заполняем новую колонку \"год выпуска фильма\"\n",
    "data['release_year'] = data.release_date.apply(year_detect)\n",
    "\n",
    "# создаем и заполняем новую колонку \"месяц выпуска фильма\"\n",
    "data['release_month'] = data.release_date.apply(month_detect)\n",
    "\n",
    "# создаем и заполняем новую колонку \"количество слов в обзоре фильма\"\n",
    "# функция поиска всех вхождений слов возвращает массив совпадений, его длина и есть количество слов\n",
    "# словом считает все от одного символа и длинее\n",
    "data['word_count_overview'] = data.overview.apply(lambda s: len(re.findall(r'\\w+', s.lower())))\n"
   ]
  },
  {
   "cell_type": "code",
   "execution_count": 1739,
   "metadata": {
    "scrolled": true
   },
   "outputs": [
    {
     "data": {
      "text/html": [
       "<div>\n",
       "<style scoped>\n",
       "    .dataframe tbody tr th:only-of-type {\n",
       "        vertical-align: middle;\n",
       "    }\n",
       "\n",
       "    .dataframe tbody tr th {\n",
       "        vertical-align: top;\n",
       "    }\n",
       "\n",
       "    .dataframe thead th {\n",
       "        text-align: right;\n",
       "    }\n",
       "</style>\n",
       "<table border=\"1\" class=\"dataframe\">\n",
       "  <thead>\n",
       "    <tr style=\"text-align: right;\">\n",
       "      <th></th>\n",
       "      <th>imdb_id</th>\n",
       "      <th>budget</th>\n",
       "      <th>revenue</th>\n",
       "      <th>original_title</th>\n",
       "      <th>cast</th>\n",
       "      <th>director</th>\n",
       "      <th>tagline</th>\n",
       "      <th>overview</th>\n",
       "      <th>runtime</th>\n",
       "      <th>genres</th>\n",
       "      <th>production_companies</th>\n",
       "      <th>release_date</th>\n",
       "      <th>vote_average</th>\n",
       "      <th>release_year</th>\n",
       "      <th>profit</th>\n",
       "      <th>release_month</th>\n",
       "      <th>word_count_overview</th>\n",
       "    </tr>\n",
       "  </thead>\n",
       "  <tbody>\n",
       "    <tr>\n",
       "      <th>292</th>\n",
       "      <td>tt1148204</td>\n",
       "      <td>20000000</td>\n",
       "      <td>41596251</td>\n",
       "      <td>Orphan</td>\n",
       "      <td>Vera Farmiga|Peter Sarsgaard|Isabelle Fuhrman|...</td>\n",
       "      <td>Jaume Collet-Serra</td>\n",
       "      <td>Can you keep a secret?</td>\n",
       "      <td>A married couple with a rocky past adopt 9-yea...</td>\n",
       "      <td>123</td>\n",
       "      <td>Horror|Thriller|Mystery</td>\n",
       "      <td>Dark Castle Entertainment|Studio Babelsberg St...</td>\n",
       "      <td>7/24/2009</td>\n",
       "      <td>6.5</td>\n",
       "      <td>2009</td>\n",
       "      <td>21596251</td>\n",
       "      <td>7</td>\n",
       "      <td>30</td>\n",
       "    </tr>\n",
       "    <tr>\n",
       "      <th>1414</th>\n",
       "      <td>tt0424774</td>\n",
       "      <td>50000000</td>\n",
       "      <td>69425966</td>\n",
       "      <td>The Adventures of Sharkboy and Lavagirl</td>\n",
       "      <td>Taylor Lautner|Taylor Dooley|Cayden Boyd|Georg...</td>\n",
       "      <td>Robert Rodriguez</td>\n",
       "      <td>Smaller heroes. Just as super.</td>\n",
       "      <td>Max conjures up his perfect dreamworld...the P...</td>\n",
       "      <td>92</td>\n",
       "      <td>Adventure|Fantasy|Action|Family</td>\n",
       "      <td>Columbia Pictures Corporation|Dimension Films</td>\n",
       "      <td>6/10/2005</td>\n",
       "      <td>4.3</td>\n",
       "      <td>2005</td>\n",
       "      <td>19425966</td>\n",
       "      <td>6</td>\n",
       "      <td>44</td>\n",
       "    </tr>\n",
       "    <tr>\n",
       "      <th>1094</th>\n",
       "      <td>tt0328828</td>\n",
       "      <td>55000000</td>\n",
       "      <td>231449203</td>\n",
       "      <td>American Wedding</td>\n",
       "      <td>Jason Biggs|Alyson Hannigan|Seann William Scot...</td>\n",
       "      <td>Jesse Dylan</td>\n",
       "      <td>Forever hold your piece.</td>\n",
       "      <td>With high school a distant memory, Jim and Mic...</td>\n",
       "      <td>103</td>\n",
       "      <td>Comedy|Romance</td>\n",
       "      <td>Universal Pictures|Zide-Perry Productions|Live...</td>\n",
       "      <td>8/1/2003</td>\n",
       "      <td>6.0</td>\n",
       "      <td>2003</td>\n",
       "      <td>176449203</td>\n",
       "      <td>8</td>\n",
       "      <td>55</td>\n",
       "    </tr>\n",
       "    <tr>\n",
       "      <th>873</th>\n",
       "      <td>tt0181689</td>\n",
       "      <td>102000000</td>\n",
       "      <td>358372926</td>\n",
       "      <td>Minority Report</td>\n",
       "      <td>Tom Cruise|Colin Farrell|Samantha Morton|Max v...</td>\n",
       "      <td>Steven Spielberg</td>\n",
       "      <td>The system is perfect until it comes after you.</td>\n",
       "      <td>John Anderton is a top \"Precrime\" cop in the l...</td>\n",
       "      <td>145</td>\n",
       "      <td>Action|Thriller|Science Fiction|Mystery</td>\n",
       "      <td>DreamWorks SKG|Cruise/Wagner Productions|Ambli...</td>\n",
       "      <td>6/20/2002</td>\n",
       "      <td>6.9</td>\n",
       "      <td>2002</td>\n",
       "      <td>256372926</td>\n",
       "      <td>6</td>\n",
       "      <td>52</td>\n",
       "    </tr>\n",
       "    <tr>\n",
       "      <th>34</th>\n",
       "      <td>tt3170832</td>\n",
       "      <td>6000000</td>\n",
       "      <td>35401758</td>\n",
       "      <td>Room</td>\n",
       "      <td>Brie Larson|Jacob Tremblay|Joan Allen|Sean Bri...</td>\n",
       "      <td>Lenny Abrahamson</td>\n",
       "      <td>Love knows no boundaries</td>\n",
       "      <td>Jack is a young boy of 5 years old who has liv...</td>\n",
       "      <td>117</td>\n",
       "      <td>Drama|Thriller</td>\n",
       "      <td>Element Pictures|No Trace Camping|A24|Duperele...</td>\n",
       "      <td>10/16/2015</td>\n",
       "      <td>8.0</td>\n",
       "      <td>2015</td>\n",
       "      <td>29401758</td>\n",
       "      <td>10</td>\n",
       "      <td>49</td>\n",
       "    </tr>\n",
       "  </tbody>\n",
       "</table>\n",
       "</div>"
      ],
      "text/plain": [
       "        imdb_id     budget    revenue  \\\n",
       "292   tt1148204   20000000   41596251   \n",
       "1414  tt0424774   50000000   69425966   \n",
       "1094  tt0328828   55000000  231449203   \n",
       "873   tt0181689  102000000  358372926   \n",
       "34    tt3170832    6000000   35401758   \n",
       "\n",
       "                               original_title  \\\n",
       "292                                    Orphan   \n",
       "1414  The Adventures of Sharkboy and Lavagirl   \n",
       "1094                         American Wedding   \n",
       "873                           Minority Report   \n",
       "34                                       Room   \n",
       "\n",
       "                                                   cast            director  \\\n",
       "292   Vera Farmiga|Peter Sarsgaard|Isabelle Fuhrman|...  Jaume Collet-Serra   \n",
       "1414  Taylor Lautner|Taylor Dooley|Cayden Boyd|Georg...    Robert Rodriguez   \n",
       "1094  Jason Biggs|Alyson Hannigan|Seann William Scot...         Jesse Dylan   \n",
       "873   Tom Cruise|Colin Farrell|Samantha Morton|Max v...    Steven Spielberg   \n",
       "34    Brie Larson|Jacob Tremblay|Joan Allen|Sean Bri...    Lenny Abrahamson   \n",
       "\n",
       "                                              tagline  \\\n",
       "292                            Can you keep a secret?   \n",
       "1414                   Smaller heroes. Just as super.   \n",
       "1094                         Forever hold your piece.   \n",
       "873   The system is perfect until it comes after you.   \n",
       "34                           Love knows no boundaries   \n",
       "\n",
       "                                               overview  runtime  \\\n",
       "292   A married couple with a rocky past adopt 9-yea...      123   \n",
       "1414  Max conjures up his perfect dreamworld...the P...       92   \n",
       "1094  With high school a distant memory, Jim and Mic...      103   \n",
       "873   John Anderton is a top \"Precrime\" cop in the l...      145   \n",
       "34    Jack is a young boy of 5 years old who has liv...      117   \n",
       "\n",
       "                                       genres  \\\n",
       "292                   Horror|Thriller|Mystery   \n",
       "1414          Adventure|Fantasy|Action|Family   \n",
       "1094                           Comedy|Romance   \n",
       "873   Action|Thriller|Science Fiction|Mystery   \n",
       "34                             Drama|Thriller   \n",
       "\n",
       "                                   production_companies release_date  \\\n",
       "292   Dark Castle Entertainment|Studio Babelsberg St...    7/24/2009   \n",
       "1414      Columbia Pictures Corporation|Dimension Films    6/10/2005   \n",
       "1094  Universal Pictures|Zide-Perry Productions|Live...     8/1/2003   \n",
       "873   DreamWorks SKG|Cruise/Wagner Productions|Ambli...    6/20/2002   \n",
       "34    Element Pictures|No Trace Camping|A24|Duperele...   10/16/2015   \n",
       "\n",
       "      vote_average  release_year     profit  release_month  \\\n",
       "292            6.5          2009   21596251              7   \n",
       "1414           4.3          2005   19425966              6   \n",
       "1094           6.0          2003  176449203              8   \n",
       "873            6.9          2002  256372926              6   \n",
       "34             8.0          2015   29401758             10   \n",
       "\n",
       "      word_count_overview  \n",
       "292                    30  \n",
       "1414                   44  \n",
       "1094                   55  \n",
       "873                    52  \n",
       "34                     49  "
      ]
     },
     "execution_count": 1739,
     "metadata": {},
     "output_type": "execute_result"
    }
   ],
   "source": [
    "data.sample(5)"
   ]
  },
  {
   "cell_type": "code",
   "execution_count": 1805,
   "metadata": {},
   "outputs": [
    {
     "data": {
      "text/plain": [
       "Index(['imdb_id', 'budget', 'revenue', 'original_title', 'cast', 'director',\n",
       "       'tagline', 'overview', 'runtime', 'genres', 'production_companies',\n",
       "       'release_date', 'vote_average', 'release_year', 'profit',\n",
       "       'release_month', 'word_count_overview'],\n",
       "      dtype='object')"
      ]
     },
     "execution_count": 1805,
     "metadata": {},
     "output_type": "execute_result"
    }
   ],
   "source": [
    "data.columns"
   ]
  },
  {
   "cell_type": "markdown",
   "metadata": {},
   "source": [
    " ####   Column            \n",
    "---  ------               \n",
    " 0.   imdb_id              \n",
    " 1.   budget               \n",
    " 2.   revenue              \n",
    " 3.   original_title       \n",
    " 4.   cast -- мультиполе, разделитель \"|\"\n",
    " 5.   director -- мультиполе, разделитель \"|\"\n",
    " 6.   tagline              \n",
    " 7.   overview             \n",
    " 8.   runtime              \n",
    " 9.   genres -- мультиполе, разделитель \"|\"\n",
    " 10.  production_companies -- мультиполе, разделитель \"|\"\n",
    " 11.  release_date         \n",
    " 12.  vote_average         \n",
    " 13.  release_year         \n",
    " 14.  profit\n",
    " 15.  release_month\n",
    " 16.  word_count_overiew"
   ]
  },
  {
   "cell_type": "markdown",
   "metadata": {
    "colab_type": "text",
    "id": "YxZaH-nPVp-L"
   },
   "source": [
    "# 1. У какого фильма из списка самый большой бюджет?"
   ]
  },
  {
   "cell_type": "markdown",
   "metadata": {
    "colab_type": "text",
    "id": "Nd-G5gX6Vp-M"
   },
   "source": [
    "Использовать варианты ответов в коде решения запрещено.    \n",
    "Вы думаете и в жизни у вас будут варианты ответов?)"
   ]
  },
  {
   "cell_type": "code",
   "execution_count": 1740,
   "metadata": {
    "colab": {},
    "colab_type": "code",
    "id": "dZwb3m28Vp-S"
   },
   "outputs": [
    {
     "name": "stdout",
     "output_type": "stream",
     "text": [
      "Pirates of the Caribbean: On Stranger Tides (tt1298650)\n"
     ]
    }
   ],
   "source": [
    "# получаем максимальный бюджет и фильтруем все фильмы с бюджетом равным максимальному\n",
    "movie_name = data[data.budget == data.budget.max()]\n",
    "\n",
    "# формируем и выдаем ответ в стиле платформы \n",
    "preparation_answer(movie_name)\n",
    "\n"
   ]
  },
  {
   "cell_type": "code",
   "execution_count": 1741,
   "metadata": {},
   "outputs": [],
   "source": [
    "# +\n",
    "answers['1'] = 'Pirates of the Caribbean: On Stranger Tides (tt1298650)'"
   ]
  },
  {
   "cell_type": "markdown",
   "metadata": {
    "colab_type": "text",
    "id": "K7L3nbRXVp-X"
   },
   "source": [
    "ВАРИАНТ 2"
   ]
  },
  {
   "cell_type": "code",
   "execution_count": 1742,
   "metadata": {
    "colab": {},
    "colab_type": "code",
    "id": "OGaoQI7rVp-X"
   },
   "outputs": [
    {
     "data": {
      "text/plain": [
       "'Pirates of the Caribbean: On Stranger Tides'"
      ]
     },
     "execution_count": 1742,
     "metadata": {},
     "output_type": "execute_result"
    }
   ],
   "source": [
    "# ранжируем колонку с бюджетами фильма, последнее значение будет максимальным\n",
    "max_budget = data.budget.sort_values().tail(1)\n",
    "\n",
    "# берем значение индекса у максмального значения и получаем название фильма\n",
    "data.loc[max_budget.index[0]].original_title"
   ]
  },
  {
   "cell_type": "markdown",
   "metadata": {
    "colab_type": "text",
    "id": "FNRbbI3vVp-c"
   },
   "source": [
    "# 2. Какой из фильмов самый длительный (в минутах)?"
   ]
  },
  {
   "cell_type": "code",
   "execution_count": 1743,
   "metadata": {
    "colab": {},
    "colab_type": "code",
    "id": "ot-VX2XrVp-g"
   },
   "outputs": [
    {
     "name": "stdout",
     "output_type": "stream",
     "text": [
      "Gods and Generals (tt0279111)\n"
     ]
    }
   ],
   "source": [
    "# получаем максимальную длительность и фильтруем все фильмы с длительностью равной максимальной\n",
    "movie_name = data[data.runtime == data.runtime.max()]\n",
    "\n",
    "preparation_answer(movie_name)"
   ]
  },
  {
   "cell_type": "code",
   "execution_count": 1744,
   "metadata": {},
   "outputs": [],
   "source": [
    "# +\n",
    "answers['2'] = 'Gods and Generals (tt0279111)'"
   ]
  },
  {
   "cell_type": "markdown",
   "metadata": {
    "colab_type": "text",
    "id": "bapLlpW8Vp-k"
   },
   "source": [
    "# 3. Какой из фильмов самый короткий (в минутах)?\n",
    "\n",
    "\n",
    "\n"
   ]
  },
  {
   "cell_type": "code",
   "execution_count": 1745,
   "metadata": {
    "colab": {},
    "colab_type": "code",
    "id": "YBxaSHuAVp-l"
   },
   "outputs": [
    {
     "name": "stdout",
     "output_type": "stream",
     "text": [
      "Winnie the Pooh (tt1449283)\n"
     ]
    }
   ],
   "source": [
    "# получаем минимальную длительность и фильтруем все фильмы с длительностью равной минимальной\n",
    "movie_name = data[data.runtime == data.runtime.min()]\n",
    "\n",
    "preparation_answer(movie_name)"
   ]
  },
  {
   "cell_type": "code",
   "execution_count": null,
   "metadata": {},
   "outputs": [],
   "source": []
  },
  {
   "cell_type": "code",
   "execution_count": 1746,
   "metadata": {},
   "outputs": [],
   "source": [
    "# +\n",
    "answers['3'] = 'Winnie the Pooh (tt1449283)'"
   ]
  },
  {
   "cell_type": "markdown",
   "metadata": {
    "colab_type": "text",
    "id": "TfQbxbfNVp-p"
   },
   "source": [
    "# 4. Какова средняя длительность фильмов?\n"
   ]
  },
  {
   "cell_type": "code",
   "execution_count": 1747,
   "metadata": {},
   "outputs": [
    {
     "data": {
      "text/plain": [
       "110"
      ]
     },
     "execution_count": 1747,
     "metadata": {},
     "output_type": "execute_result"
    }
   ],
   "source": [
    "# получаем среднее значение по столбцу \"длительность\" и округляем до целого\n",
    "round(data.runtime.mean())"
   ]
  },
  {
   "cell_type": "code",
   "execution_count": 1748,
   "metadata": {},
   "outputs": [],
   "source": [
    "# +\n",
    "answers['4'] = 110"
   ]
  },
  {
   "cell_type": "markdown",
   "metadata": {
    "colab_type": "text",
    "id": "r5TvbnT_Vp-u"
   },
   "source": [
    "# 5. Каково медианное значение длительности фильмов? "
   ]
  },
  {
   "cell_type": "code",
   "execution_count": 1749,
   "metadata": {
    "colab": {},
    "colab_type": "code",
    "id": "iBROplKnVp-v"
   },
   "outputs": [
    {
     "data": {
      "text/plain": [
       "107"
      ]
     },
     "execution_count": 1749,
     "metadata": {},
     "output_type": "execute_result"
    }
   ],
   "source": [
    "# получаем медианное значение по столбцу \"длительность\" и округляем до целого\n",
    "round(data.runtime.median())"
   ]
  },
  {
   "cell_type": "code",
   "execution_count": 1750,
   "metadata": {},
   "outputs": [],
   "source": [
    "# +\n",
    "answers['5'] = 107"
   ]
  },
  {
   "cell_type": "markdown",
   "metadata": {
    "colab_type": "text",
    "id": "39P-deDSVp-y"
   },
   "source": [
    "# 6. Какой самый прибыльный фильм?\n",
    "#### Внимание! Здесь и далее под «прибылью» или «убытками» понимается разность между сборами и бюджетом фильма. (прибыль = сборы - бюджет) в нашем датасете это будет (profit = revenue - budget) "
   ]
  },
  {
   "cell_type": "code",
   "execution_count": 1751,
   "metadata": {
    "colab": {},
    "colab_type": "code",
    "id": "UYZh4T9WVp-y"
   },
   "outputs": [
    {
     "name": "stdout",
     "output_type": "stream",
     "text": [
      "Avatar (tt0499549)\n"
     ]
    }
   ],
   "source": [
    "# лучше код получения столбца profit вынести в Предобработку что в начале\n",
    "\n",
    "# получаем максимальное значение из столбца \"прибыль\", получаем фильмы у которых прибыль максимальна\n",
    "movie_name = data[data.profit == data.profit.max()]\n",
    "\n",
    "preparation_answer(movie_name)"
   ]
  },
  {
   "cell_type": "code",
   "execution_count": 1752,
   "metadata": {},
   "outputs": [],
   "source": [
    "# +\n",
    "answers['6'] = 'Avatar (tt0499549)'"
   ]
  },
  {
   "cell_type": "markdown",
   "metadata": {
    "colab_type": "text",
    "id": "M99JmIX4Vp-2"
   },
   "source": [
    "# 7. Какой фильм самый убыточный? "
   ]
  },
  {
   "cell_type": "code",
   "execution_count": 1753,
   "metadata": {
    "colab": {},
    "colab_type": "code",
    "id": "w-D2m4XPVp-3"
   },
   "outputs": [
    {
     "name": "stdout",
     "output_type": "stream",
     "text": [
      "The Lone Ranger (tt1210819)\n"
     ]
    }
   ],
   "source": [
    "# получаем минимальное значение из столбца \"прибыль\", получаем фильмы у которых прибыль равна минимальной\n",
    "movie_name = data[data.profit == data.profit.min()]\n",
    "\n",
    "preparation_answer(movie_name)"
   ]
  },
  {
   "cell_type": "code",
   "execution_count": 1754,
   "metadata": {
    "scrolled": true
   },
   "outputs": [],
   "source": [
    "# +\n",
    "answers['7'] = 'The Lone Ranger (tt1210819)'"
   ]
  },
  {
   "cell_type": "markdown",
   "metadata": {
    "colab_type": "text",
    "id": "wEOM5ERVVp-6"
   },
   "source": [
    "# 8. У скольких фильмов из датасета объем сборов оказался выше бюджета?"
   ]
  },
  {
   "cell_type": "code",
   "execution_count": 1755,
   "metadata": {
    "colab": {},
    "colab_type": "code",
    "id": "y00_7HD6Vp-7"
   },
   "outputs": [
    {
     "data": {
      "text/plain": [
       "1478"
      ]
     },
     "execution_count": 1755,
     "metadata": {},
     "output_type": "execute_result"
    }
   ],
   "source": [
    "# фильтруем датасет, выводим только те, у которых в колонке \"прибыль\" больше 0, определяем длину по вертикали,\n",
    "# это и будет количеством фильмов\n",
    "len(data[data.profit > 0])"
   ]
  },
  {
   "cell_type": "code",
   "execution_count": 1756,
   "metadata": {},
   "outputs": [],
   "source": [
    "# +\n",
    "answers['8'] = 1478"
   ]
  },
  {
   "cell_type": "markdown",
   "metadata": {
    "colab_type": "text",
    "id": "xhpspA9KVp_A"
   },
   "source": [
    "# 9. Какой фильм оказался самым кассовым в 2008 году?"
   ]
  },
  {
   "cell_type": "code",
   "execution_count": 1757,
   "metadata": {
    "colab": {},
    "colab_type": "code",
    "id": "MoUyQr9RVp_B"
   },
   "outputs": [
    {
     "name": "stdout",
     "output_type": "stream",
     "text": [
      "The Dark Knight (tt0468569)\n"
     ]
    }
   ],
   "source": [
    "# фильтруем по столбцу \"год выпуска\", забирая только 2008 год, и получаем максимальное значение у этой выборки\n",
    "# далее получаем фильмы у которых встречается максимальное значение в этой выборке\n",
    "movie_name = data[data.profit == data.query('release_year == 2008').profit.max()]\n",
    "\n",
    "preparation_answer(movie_name)"
   ]
  },
  {
   "cell_type": "code",
   "execution_count": 1758,
   "metadata": {},
   "outputs": [],
   "source": [
    "# +\n",
    "answers['9'] = 'The Dark Knight (tt0468569)'"
   ]
  },
  {
   "cell_type": "markdown",
   "metadata": {
    "colab_type": "text",
    "id": "Zi4hDKidVp_F"
   },
   "source": [
    "# 10. Самый убыточный фильм за период с 2012 по 2014 г. (включительно)?\n"
   ]
  },
  {
   "cell_type": "code",
   "execution_count": 1759,
   "metadata": {
    "colab": {},
    "colab_type": "code",
    "id": "XqyRmufJVp_F"
   },
   "outputs": [
    {
     "name": "stdout",
     "output_type": "stream",
     "text": [
      "The Lone Ranger (tt1210819)\n"
     ]
    }
   ],
   "source": [
    "# фльтруем выборку по диапазону года выпуска, у этой выборке определеяем минимальный доход от фильма\n",
    "# далее в этой выборке оставляем только фильмы с доходом равным минимальному\n",
    "movie_name = data[data.profit == data.query('2012 <= release_year <= 2014').profit.min()]\n",
    "\n",
    "preparation_answer(movie_name)"
   ]
  },
  {
   "cell_type": "code",
   "execution_count": 1760,
   "metadata": {},
   "outputs": [],
   "source": [
    "# +\n",
    "answers['10'] = 'The Lone Ranger (tt1210819)'"
   ]
  },
  {
   "cell_type": "markdown",
   "metadata": {
    "colab_type": "text",
    "id": "EA7Sa9dkVp_I"
   },
   "source": [
    "# 11. Какого жанра фильмов больше всего?"
   ]
  },
  {
   "cell_type": "code",
   "execution_count": 1761,
   "metadata": {
    "colab": {},
    "colab_type": "code",
    "id": "zsJAwJ8QVp_J"
   },
   "outputs": [
    {
     "data": {
      "text/plain": [
       "Drama    782\n",
       "dtype: int64"
      ]
     },
     "execution_count": 1761,
     "metadata": {},
     "output_type": "execute_result"
    }
   ],
   "source": [
    "# эту задачу тоже можно решать разными подходами, попробуй реализовать разные варианты\n",
    "# если будешь добавлять функцию - выноси ее в предобработку что в начале\n",
    "\n",
    "# формируем серию где индексы - жанры, а значения - количество фильмов с таким жанром\n",
    "# обрабатываем функцией, так как в поле жанр может быть несколько значений\n",
    "series_aggregation_first_column(data.genres.value_counts(), 'sum', top=1)\n"
   ]
  },
  {
   "cell_type": "code",
   "execution_count": 1762,
   "metadata": {},
   "outputs": [],
   "source": [
    "# +\n",
    "answers['11'] = 'Drama'"
   ]
  },
  {
   "cell_type": "markdown",
   "metadata": {
    "colab_type": "text",
    "id": "Ax6g2C8SVp_M"
   },
   "source": [
    "ВАРИАНТ 2"
   ]
  },
  {
   "cell_type": "code",
   "execution_count": 1763,
   "metadata": {},
   "outputs": [
    {
     "name": "stdout",
     "output_type": "stream",
     "text": [
      "Drama\n"
     ]
    }
   ],
   "source": [
    "# создаем пустую коллекцию\n",
    "genre_counter = Counter()\n",
    "\n",
    "# делаем выгрузку из дата фрейма и заполняем коллекцию значениями жанров\n",
    "for genre_all, genre_count in data.genres.value_counts().items():\n",
    "    for genre in genre_all.split('|'):\n",
    "        genre_counter[genre] += genre_count\n",
    "\n",
    "# получаем максимальное значения в словаре\n",
    "max_count = max(genre_counter.values())\n",
    "\n",
    "# ищем значение ключа, в котором находится жанр с максимальным количеством\n",
    "for genre, item in genre_counter.items(): \n",
    "    if item == max_count: print(genre)\n"
   ]
  },
  {
   "cell_type": "markdown",
   "metadata": {
    "colab_type": "text",
    "id": "T9_bPWpkVp_Q"
   },
   "source": [
    "# 12. Фильмы какого жанра чаще всего становятся прибыльными? "
   ]
  },
  {
   "cell_type": "code",
   "execution_count": 1764,
   "metadata": {},
   "outputs": [
    {
     "data": {
      "text/plain": [
       "Drama    560\n",
       "dtype: int64"
      ]
     },
     "execution_count": 1764,
     "metadata": {},
     "output_type": "execute_result"
    }
   ],
   "source": [
    "# формируем серию из прибыльных фильмов, где индес - жанр, значение - количество фильмов\n",
    "profitable_film_genre = data[data.profit > 0].groupby(['genres'])['profit'].count()\n",
    "\n",
    "# обрабатываем функцией, так как в поле \"жанр\" может быть несколько значений\n",
    "series_aggregation_first_column(profitable_film_genre, top=1)\n"
   ]
  },
  {
   "cell_type": "code",
   "execution_count": 1765,
   "metadata": {},
   "outputs": [],
   "source": [
    "# +\n",
    "answers['12'] = 'Drama'"
   ]
  },
  {
   "cell_type": "markdown",
   "metadata": {
    "colab_type": "text",
    "id": "0F23bgsDVp_U"
   },
   "source": [
    "# 13. У какого режиссера самые большие суммарные кассовые сбооры?"
   ]
  },
  {
   "cell_type": "code",
   "execution_count": 1766,
   "metadata": {
    "colab": {},
    "colab_type": "code",
    "id": "K6Z3J8ygVp_X",
    "scrolled": true
   },
   "outputs": [
    {
     "data": {
      "text/plain": [
       "Peter Jackson    6490593685\n",
       "dtype: int64"
      ]
     },
     "execution_count": 1766,
     "metadata": {},
     "output_type": "execute_result"
    }
   ],
   "source": [
    "# формируем серию - группируем по полю директор и суммируя кассовые сборы\n",
    "director_revenue = data.groupby(['director'])['revenue'].sum()\n",
    "\n",
    "# обрабатываем функцией, так как в поле \"директор\" может быть несколько значений\n",
    "series_aggregation_first_column(director_revenue, top=1)"
   ]
  },
  {
   "cell_type": "code",
   "execution_count": 1767,
   "metadata": {},
   "outputs": [],
   "source": [
    "# +\n",
    "answers['13'] = 'Peter Jackson'"
   ]
  },
  {
   "cell_type": "markdown",
   "metadata": {
    "colab_type": "text",
    "id": "PsYC9FgRVp_a"
   },
   "source": [
    "# 14. Какой режисер снял больше всего фильмов в стиле Action?"
   ]
  },
  {
   "cell_type": "code",
   "execution_count": 1768,
   "metadata": {
    "colab": {},
    "colab_type": "code",
    "id": "wd2M-wHeVp_b"
   },
   "outputs": [
    {
     "data": {
      "text/plain": [
       "Robert Rodriguez      9\n",
       "Paul W.S. Anderson    7\n",
       "Michael Bay           7\n",
       "dtype: int64"
      ]
     },
     "execution_count": 1768,
     "metadata": {},
     "output_type": "execute_result"
    }
   ],
   "source": [
    "# получаем из датафрейма два столбца \"директор\" и \"жанры\", отфильтровав по столбцу \"жанр\"\n",
    "# по наличию в поле 'Action'\n",
    "director_genres = data[ ['director','genres'] ][data.genres.str.contains('Action', na=False)]\n",
    "\n",
    "# формируем серию - группируем по полю директор и получаем количество по полю \"жанр\"\n",
    "director_genres = director_genres.groupby(['director'])['genres'].count()\n",
    "\n",
    "# обрабатываем функцией, так как в поле \"директор \" может быть несколько значений\n",
    "series_aggregation_first_column(director_genres, 'sum', top=3)\n"
   ]
  },
  {
   "cell_type": "code",
   "execution_count": 1769,
   "metadata": {},
   "outputs": [],
   "source": [
    "# +\n",
    "answers['14'] = 'Robert Rodriguez'"
   ]
  },
  {
   "cell_type": "markdown",
   "metadata": {
    "colab_type": "text",
    "id": "PQ0KciD7Vp_f"
   },
   "source": [
    "# 15. Фильмы с каким актером принесли самые высокие кассовые сборы в 2012 году? "
   ]
  },
  {
   "cell_type": "code",
   "execution_count": 1770,
   "metadata": {},
   "outputs": [
    {
     "data": {
      "text/plain": [
       "Chris Hemsworth    2027450773\n",
       "dtype: int64"
      ]
     },
     "execution_count": 1770,
     "metadata": {},
     "output_type": "execute_result"
    }
   ],
   "source": [
    "# фильтруем датафрейм по 2012 году, группируем по полю \"Актер\" и считаем сумму кассовых сборов \n",
    "top_actor_2012 = data.query('release_year == 2012').groupby(['cast'])['revenue'].sum()\n",
    "\n",
    "# обрабатываем функцией, так как в поле \"актер\" может быть несколько значений\n",
    "series_aggregation_first_column( top_actor_2012 ,'sum', top=1)\n"
   ]
  },
  {
   "cell_type": "code",
   "execution_count": 1771,
   "metadata": {},
   "outputs": [],
   "source": [
    "# +\n",
    "answers['15'] = 'Chris Hemsworth'"
   ]
  },
  {
   "cell_type": "markdown",
   "metadata": {
    "colab_type": "text",
    "id": "mWHyyL7QVp_j"
   },
   "source": [
    "# 16. Какой актер снялся в большем количестве высокобюджетных фильмов?"
   ]
  },
  {
   "cell_type": "code",
   "execution_count": 1772,
   "metadata": {
    "colab": {},
    "colab_type": "code",
    "id": "qQtmHKTFVp_k"
   },
   "outputs": [
    {
     "data": {
      "text/plain": [
       "Matt Damon        18\n",
       "Adam Sandler      17\n",
       "Angelina Jolie    16\n",
       "dtype: int64"
      ]
     },
     "execution_count": 1772,
     "metadata": {},
     "output_type": "execute_result"
    }
   ],
   "source": [
    "# высокобюджетные - фильмы, где бюджет выше среднего по данной выборке\n",
    "# фильтруем датафрейм и группируем по полю \"актер\", считаю сумму кассовых сборов \n",
    "top_actor = data[data.budget > data.budget.mean()].groupby(['cast'])['revenue'].count()\n",
    "\n",
    "# обрабатываем функцией, так как в поле \"актер\" может быть несколько значений\n",
    "series_aggregation_first_column(top_actor ,'sum', top=3)\n"
   ]
  },
  {
   "cell_type": "code",
   "execution_count": 1773,
   "metadata": {},
   "outputs": [],
   "source": [
    "# +\n",
    "answers['16'] = 'Matt Damon'"
   ]
  },
  {
   "cell_type": "markdown",
   "metadata": {
    "colab_type": "text",
    "id": "NIh6AaW5Vp_n"
   },
   "source": [
    "# 17. В фильмах какого жанра больше всего снимался Nicolas Cage? "
   ]
  },
  {
   "cell_type": "code",
   "execution_count": 1774,
   "metadata": {
    "colab": {},
    "colab_type": "code",
    "id": "H74SJDIBVp_n",
    "scrolled": true
   },
   "outputs": [
    {
     "data": {
      "text/plain": [
       "Action      17\n",
       "Thriller    15\n",
       "Drama       12\n",
       "dtype: int64"
      ]
     },
     "execution_count": 1774,
     "metadata": {},
     "output_type": "execute_result"
    }
   ],
   "source": [
    "# формируем датафрейм - оставляем строки где в поле \"актер\" есть упоминание о 'Nicolas Cage'\n",
    "# проводим группировку данных по колонке \"Жанр\" и считаем количество записей для каждого жанра\n",
    "favorite_genre = data[data.cast.str.contains('Nicolas Cage', na=False)].groupby(['genres'])['cast'].count()\n",
    "\n",
    "# обрабатываем функцией, так как в поле \"жанр\" может быть несколько значений\n",
    "series_aggregation_first_column( favorite_genre ,'sum', top=3)"
   ]
  },
  {
   "cell_type": "code",
   "execution_count": 1775,
   "metadata": {},
   "outputs": [],
   "source": [
    "answers['17'] = 'Action'"
   ]
  },
  {
   "cell_type": "markdown",
   "metadata": {
    "colab_type": "text",
    "id": "RqOmPRfWVp_q"
   },
   "source": [
    "# 18. Самый убыточный фильм от Paramount Pictures"
   ]
  },
  {
   "cell_type": "code",
   "execution_count": 1776,
   "metadata": {
    "colab": {},
    "colab_type": "code",
    "id": "9E_B0Y96Vp_r"
   },
   "outputs": [
    {
     "name": "stdout",
     "output_type": "stream",
     "text": [
      "K-19: The Widowmaker (tt0267626)\n"
     ]
    }
   ],
   "source": [
    "# отфильтровываем те записи, где кинокомания 'Paramount Pictures' и получаем минимальное значение\n",
    "movie_name = data[data.profit == data[data.production_companies.str.contains('Paramount Pictures')].profit.min()]\n",
    "\n",
    "preparation_answer(movie_name)"
   ]
  },
  {
   "cell_type": "code",
   "execution_count": 1777,
   "metadata": {},
   "outputs": [],
   "source": [
    "answers['18'] = 'K-19: The Widowmaker (tt0267626)'"
   ]
  },
  {
   "cell_type": "markdown",
   "metadata": {
    "colab_type": "text",
    "id": "vS8Ur6ddVp_u"
   },
   "source": [
    "# 19. Какой год стал самым успешным по суммарным кассовым сборам?"
   ]
  },
  {
   "cell_type": "code",
   "execution_count": 1778,
   "metadata": {
    "colab": {},
    "colab_type": "code",
    "id": "Dnbt4GdIVp_v"
   },
   "outputs": [
    {
     "data": {
      "text/plain": [
       "release_year\n",
       "2015    25449202382\n",
       "Name: revenue, dtype: int64"
      ]
     },
     "execution_count": 1778,
     "metadata": {},
     "output_type": "execute_result"
    }
   ],
   "source": [
    "# группируем по году и для каждого считаем сумму кассовых сборов\n",
    "# после ранжирования максимальное значение будет последним, поэтому берем 1 запись \"с конца\" серии данных\n",
    "data.groupby(['release_year'])['revenue'].sum().sort_values().tail(1)"
   ]
  },
  {
   "cell_type": "code",
   "execution_count": 1779,
   "metadata": {},
   "outputs": [],
   "source": [
    "answers['19'] = 2015"
   ]
  },
  {
   "cell_type": "markdown",
   "metadata": {
    "colab_type": "text",
    "id": "JAzJh4QAVp_z"
   },
   "source": [
    "# 20. Какой самый прибыльный год для студии Warner Bros?"
   ]
  },
  {
   "cell_type": "code",
   "execution_count": 1780,
   "metadata": {
    "colab": {},
    "colab_type": "code",
    "id": "wgVu02DEVp_0"
   },
   "outputs": [
    {
     "data": {
      "text/plain": [
       "release_year\n",
       "2014    2295464519\n",
       "Name: profit, dtype: int64"
      ]
     },
     "execution_count": 1780,
     "metadata": {},
     "output_type": "execute_result"
    }
   ],
   "source": [
    "# фильтруем дата фрейм, оставляем данные где упоминается кинокомпания 'Warner Bros'\n",
    "# результат сохраняем в новый датафрейм\n",
    "wb_profit = data[data.production_companies.str.contains('Warner Bros', na=False)]\n",
    "\n",
    "# группируем по году выпуска и считаем сумму по каждому году\n",
    "# после ранжирования максимальное значение будет последним, поэтому берем 1 запись \"с конца\" серии данных\n",
    "wb_profit.groupby(['release_year'])['profit'].sum().sort_values(ascending=False).head(1)\n"
   ]
  },
  {
   "cell_type": "code",
   "execution_count": 1781,
   "metadata": {},
   "outputs": [],
   "source": [
    "# +\n",
    "answers['20'] = 2014"
   ]
  },
  {
   "cell_type": "markdown",
   "metadata": {
    "colab_type": "text",
    "id": "8Im1S2HRVp_4"
   },
   "source": [
    "# 21. В каком месяце за все годы суммарно вышло больше всего фильмов?"
   ]
  },
  {
   "cell_type": "code",
   "execution_count": 1782,
   "metadata": {
    "colab": {},
    "colab_type": "code",
    "id": "lev6TH7gVp_4"
   },
   "outputs": [
    {
     "data": {
      "text/plain": [
       "9    227\n",
       "Name: release_month, dtype: int64"
      ]
     },
     "execution_count": 1782,
     "metadata": {},
     "output_type": "execute_result"
    }
   ],
   "source": [
    "# Вариант 1\n",
    "\n",
    "# получаем серию данных с количеством значений по каждому году\n",
    "# ранжируем, последнее значение - максимальное\n",
    "# вывод результата - номер месяца и количество\n",
    "data.release_month.value_counts().sort_values().tail(1)"
   ]
  },
  {
   "cell_type": "code",
   "execution_count": 1783,
   "metadata": {},
   "outputs": [
    {
     "data": {
      "text/plain": [
       "release_month\n",
       "9    227\n",
       "Name: imdb_id, dtype: int64"
      ]
     },
     "execution_count": 1783,
     "metadata": {},
     "output_type": "execute_result"
    }
   ],
   "source": [
    "# Вариант 2\n",
    "\n",
    "# группируем году выпуска и считаем количество по каждому году\n",
    "# ранжируем, последнее значение - максимальное\n",
    "# вывод результата - номер месяца и количество\n",
    "data.groupby(['release_month'])['imdb_id'].count().sort_values().tail(1)"
   ]
  },
  {
   "cell_type": "code",
   "execution_count": 1784,
   "metadata": {},
   "outputs": [],
   "source": [
    "# +\n",
    "answers['21'] = 'Сентябрь'"
   ]
  },
  {
   "cell_type": "markdown",
   "metadata": {
    "colab_type": "text",
    "id": "uAJsZ_NeVp_7"
   },
   "source": [
    "# 22. Сколько суммарно вышло фильмов летом? (за июнь, июль, август)"
   ]
  },
  {
   "cell_type": "code",
   "execution_count": 1785,
   "metadata": {},
   "outputs": [
    {
     "data": {
      "text/plain": [
       "450"
      ]
     },
     "execution_count": 1785,
     "metadata": {},
     "output_type": "execute_result"
    }
   ],
   "source": [
    "# фильтруем датафрейм по номерам летних месяце, функция длины возвращает количество строк в датафрейме\n",
    "# вывод результата - количество фильмов\n",
    "len(data.query('release_month in [6, 7, 8]'))"
   ]
  },
  {
   "cell_type": "code",
   "execution_count": 1786,
   "metadata": {},
   "outputs": [],
   "source": [
    "# +\n",
    "answers['22'] = 450"
   ]
  },
  {
   "cell_type": "markdown",
   "metadata": {
    "colab_type": "text",
    "id": "G94ppOY1VqAA"
   },
   "source": [
    "# 23. Для какого режиссера зима – самое продуктивное время года? "
   ]
  },
  {
   "cell_type": "code",
   "execution_count": 1787,
   "metadata": {
    "colab": {},
    "colab_type": "code",
    "id": "RhNTsamuVqAB"
   },
   "outputs": [
    {
     "data": {
      "text/plain": [
       "Peter Jackson        7\n",
       "Steven Soderbergh    6\n",
       "Clint Eastwood       6\n",
       "dtype: int64"
      ]
     },
     "execution_count": 1787,
     "metadata": {},
     "output_type": "execute_result"
    }
   ],
   "source": [
    "# фильтруем по номерам зимних месяцев\n",
    "# формируем серию данных - \"режиссеры\" и \"количество\"\n",
    "winter_director = data.query('release_month in [1, 2, 12]').director.value_counts()\n",
    "\n",
    "# обрабатываем функцией, так как в поле \"директор\" может быть несколько значений\n",
    "series_aggregation_first_column(winter_director,'sum', top=3)"
   ]
  },
  {
   "cell_type": "code",
   "execution_count": 1788,
   "metadata": {},
   "outputs": [],
   "source": [
    "# +\n",
    "answers['23'] = 'Peter Jackson'"
   ]
  },
  {
   "cell_type": "markdown",
   "metadata": {
    "colab_type": "text",
    "id": "RBo0JVjVVqAF"
   },
   "source": [
    "# 24. Какая студия дает самые длинные названия своим фильмам по количеству символов?"
   ]
  },
  {
   "cell_type": "code",
   "execution_count": 1789,
   "metadata": {
    "colab": {},
    "colab_type": "code",
    "id": "QRGS8L0iVqAG",
    "scrolled": true
   },
   "outputs": [
    {
     "data": {
      "text/plain": [
       "'Four By Two Productions'"
      ]
     },
     "execution_count": 1789,
     "metadata": {},
     "output_type": "execute_result"
    }
   ],
   "source": [
    "# определяем максимальную длину имени фильма\n",
    "max_len = data.original_title.str.len().max()\n",
    "\n",
    "# отфильтровываем датафрейм - оставляем только с максимальной длиной названия\n",
    "# обращаемся к колонке \"кинокомпания\", разделяем по сплитеру и получаем значение кинокомпании\n",
    "data[data.original_title.str.len() == max_len].production_companies.iloc[0].split('|')[1]\n"
   ]
  },
  {
   "cell_type": "code",
   "execution_count": 1790,
   "metadata": {},
   "outputs": [],
   "source": [
    "# +\n",
    "answers['24'] = 'Four By Two Productions' "
   ]
  },
  {
   "cell_type": "markdown",
   "metadata": {
    "colab_type": "text",
    "id": "9G0hbvR7VqAK"
   },
   "source": [
    "# 25. Описание фильмов какой студии в среднем самые длинные по количеству слов?"
   ]
  },
  {
   "cell_type": "code",
   "execution_count": 1791,
   "metadata": {},
   "outputs": [
    {
     "data": {
      "text/plain": [
       "'Midnight Picture Show'"
      ]
     },
     "execution_count": 1791,
     "metadata": {},
     "output_type": "execute_result"
    }
   ],
   "source": [
    "# определяем максимальную длину описания фильма в количестве слов\n",
    "word_count_overview_max = data[data.word_count_overview > data.word_count_overview.mean()].word_count_overview.max()\n",
    "\n",
    "# отфильтровываем датафрейм - оставляем только с максимальным количеством слов в описании фильма\n",
    "# обращаемся к колонке \"кинокомпания\", разделяем по сплитеру и получаем значение кинокомпании\n",
    "data[data.word_count_overview == word_count_overview_max].production_companies.iloc[0].split('|')[3]\n"
   ]
  },
  {
   "cell_type": "code",
   "execution_count": 1792,
   "metadata": {},
   "outputs": [],
   "source": [
    "# +\n",
    "answers['25'] = 'Midnight Picture Show'"
   ]
  },
  {
   "cell_type": "markdown",
   "metadata": {
    "colab_type": "text",
    "id": "FJ1AFt90VqAP"
   },
   "source": [
    "# 26. Какие фильмы входят в 1 процент лучших по рейтингу? \n",
    "по vote_average"
   ]
  },
  {
   "cell_type": "code",
   "execution_count": 1793,
   "metadata": {},
   "outputs": [
    {
     "data": {
      "text/html": [
       "<div>\n",
       "<style scoped>\n",
       "    .dataframe tbody tr th:only-of-type {\n",
       "        vertical-align: middle;\n",
       "    }\n",
       "\n",
       "    .dataframe tbody tr th {\n",
       "        vertical-align: top;\n",
       "    }\n",
       "\n",
       "    .dataframe thead th {\n",
       "        text-align: right;\n",
       "    }\n",
       "</style>\n",
       "<table border=\"1\" class=\"dataframe\">\n",
       "  <thead>\n",
       "    <tr style=\"text-align: right;\">\n",
       "      <th></th>\n",
       "      <th>original_title</th>\n",
       "      <th>vote_average</th>\n",
       "    </tr>\n",
       "  </thead>\n",
       "  <tbody>\n",
       "    <tr>\n",
       "      <th>599</th>\n",
       "      <td>The Dark Knight</td>\n",
       "      <td>8.1</td>\n",
       "    </tr>\n",
       "    <tr>\n",
       "      <th>125</th>\n",
       "      <td>The Imitation Game</td>\n",
       "      <td>8.0</td>\n",
       "    </tr>\n",
       "    <tr>\n",
       "      <th>9</th>\n",
       "      <td>Inside Out</td>\n",
       "      <td>8.0</td>\n",
       "    </tr>\n",
       "    <tr>\n",
       "      <th>118</th>\n",
       "      <td>Interstellar</td>\n",
       "      <td>8.0</td>\n",
       "    </tr>\n",
       "    <tr>\n",
       "      <th>34</th>\n",
       "      <td>Room</td>\n",
       "      <td>8.0</td>\n",
       "    </tr>\n",
       "    <tr>\n",
       "      <th>1081</th>\n",
       "      <td>The Lord of the Rings: The Return of the King</td>\n",
       "      <td>7.9</td>\n",
       "    </tr>\n",
       "    <tr>\n",
       "      <th>138</th>\n",
       "      <td>The Grand Budapest Hotel</td>\n",
       "      <td>7.9</td>\n",
       "    </tr>\n",
       "    <tr>\n",
       "      <th>1183</th>\n",
       "      <td>The Wolf of Wall Street</td>\n",
       "      <td>7.9</td>\n",
       "    </tr>\n",
       "    <tr>\n",
       "      <th>370</th>\n",
       "      <td>Inception</td>\n",
       "      <td>7.9</td>\n",
       "    </tr>\n",
       "    <tr>\n",
       "      <th>119</th>\n",
       "      <td>Guardians of the Galaxy</td>\n",
       "      <td>7.9</td>\n",
       "    </tr>\n",
       "    <tr>\n",
       "      <th>1800</th>\n",
       "      <td>Memento</td>\n",
       "      <td>7.9</td>\n",
       "    </tr>\n",
       "    <tr>\n",
       "      <th>128</th>\n",
       "      <td>Gone Girl</td>\n",
       "      <td>7.9</td>\n",
       "    </tr>\n",
       "    <tr>\n",
       "      <th>872</th>\n",
       "      <td>The Pianist</td>\n",
       "      <td>7.9</td>\n",
       "    </tr>\n",
       "    <tr>\n",
       "      <th>1191</th>\n",
       "      <td>12 Years a Slave</td>\n",
       "      <td>7.9</td>\n",
       "    </tr>\n",
       "    <tr>\n",
       "      <th>283</th>\n",
       "      <td>Mr. Nobody</td>\n",
       "      <td>7.8</td>\n",
       "    </tr>\n",
       "    <tr>\n",
       "      <th>1688</th>\n",
       "      <td>There Will Be Blood</td>\n",
       "      <td>7.8</td>\n",
       "    </tr>\n",
       "    <tr>\n",
       "      <th>863</th>\n",
       "      <td>The Lord of the Rings: The Two Towers</td>\n",
       "      <td>7.8</td>\n",
       "    </tr>\n",
       "    <tr>\n",
       "      <th>155</th>\n",
       "      <td>The Theory of Everything</td>\n",
       "      <td>7.8</td>\n",
       "    </tr>\n",
       "    <tr>\n",
       "      <th>1563</th>\n",
       "      <td>Eternal Sunshine of the Spotless Mind</td>\n",
       "      <td>7.8</td>\n",
       "    </tr>\n",
       "  </tbody>\n",
       "</table>\n",
       "</div>"
      ],
      "text/plain": [
       "                                     original_title  vote_average\n",
       "599                                 The Dark Knight           8.1\n",
       "125                              The Imitation Game           8.0\n",
       "9                                        Inside Out           8.0\n",
       "118                                    Interstellar           8.0\n",
       "34                                             Room           8.0\n",
       "1081  The Lord of the Rings: The Return of the King           7.9\n",
       "138                        The Grand Budapest Hotel           7.9\n",
       "1183                        The Wolf of Wall Street           7.9\n",
       "370                                       Inception           7.9\n",
       "119                         Guardians of the Galaxy           7.9\n",
       "1800                                        Memento           7.9\n",
       "128                                       Gone Girl           7.9\n",
       "872                                     The Pianist           7.9\n",
       "1191                               12 Years a Slave           7.9\n",
       "283                                      Mr. Nobody           7.8\n",
       "1688                            There Will Be Blood           7.8\n",
       "863           The Lord of the Rings: The Two Towers           7.8\n",
       "155                        The Theory of Everything           7.8\n",
       "1563          Eternal Sunshine of the Spotless Mind           7.8"
      ]
     },
     "metadata": {},
     "output_type": "display_data"
    }
   ],
   "source": [
    "# определяем значение 1% количества фильмов от общего числа фильмов в датасете\n",
    "count_last_procent = round(0.01 * len(data))\n",
    "\n",
    "# столбец \"ср.оценка\" сортируем по убыванию, забираем с начала серии данных количество индексов\n",
    "# равное 1-му % \n",
    "last_procent = data.vote_average.sort_values(ascending=False).head(count_last_procent).index\n",
    "\n",
    "# фильтруем датасет полученными индексами, сокращаем вывод столбцов до \"название\" и \"ср.оценка\"\n",
    "top_movies = data.loc[last_procent][['original_title','vote_average']]\n",
    "display(top_movies)"
   ]
  },
  {
   "cell_type": "code",
   "execution_count": 1794,
   "metadata": {},
   "outputs": [
    {
     "data": {
      "text/html": [
       "<div>\n",
       "<style scoped>\n",
       "    .dataframe tbody tr th:only-of-type {\n",
       "        vertical-align: middle;\n",
       "    }\n",
       "\n",
       "    .dataframe tbody tr th {\n",
       "        vertical-align: top;\n",
       "    }\n",
       "\n",
       "    .dataframe thead th {\n",
       "        text-align: right;\n",
       "    }\n",
       "</style>\n",
       "<table border=\"1\" class=\"dataframe\">\n",
       "  <thead>\n",
       "    <tr style=\"text-align: right;\">\n",
       "      <th></th>\n",
       "      <th>original_title</th>\n",
       "      <th>vote_average</th>\n",
       "    </tr>\n",
       "  </thead>\n",
       "  <tbody>\n",
       "    <tr>\n",
       "      <th>599</th>\n",
       "      <td>The Dark Knight</td>\n",
       "      <td>8.1</td>\n",
       "    </tr>\n",
       "    <tr>\n",
       "      <th>9</th>\n",
       "      <td>Inside Out</td>\n",
       "      <td>8.0</td>\n",
       "    </tr>\n",
       "    <tr>\n",
       "      <th>1191</th>\n",
       "      <td>12 Years a Slave</td>\n",
       "      <td>7.9</td>\n",
       "    </tr>\n",
       "  </tbody>\n",
       "</table>\n",
       "</div>"
      ],
      "text/plain": [
       "        original_title  vote_average\n",
       "599    The Dark Knight           8.1\n",
       "9           Inside Out           8.0\n",
       "1191  12 Years a Slave           7.9"
      ]
     },
     "execution_count": 1794,
     "metadata": {},
     "output_type": "execute_result"
    }
   ],
   "source": [
    "# Проверим, что из варианта №1 все 3 фильма находятся в в выборке 1% лучших фильмов\n",
    "\n",
    "answer = ['Inside Out', 'The Dark Knight', '12 Years a Slave']\n",
    "\n",
    "top_movies.query('original_title in @answer')\n"
   ]
  },
  {
   "cell_type": "code",
   "execution_count": 1795,
   "metadata": {},
   "outputs": [],
   "source": [
    "# +\n",
    "answers['26'] = 'Inside Out, The Dark Knight, 12 Years a Slave'"
   ]
  },
  {
   "cell_type": "markdown",
   "metadata": {
    "colab_type": "text",
    "id": "MdXsUXbCVqAV"
   },
   "source": [
    "# 27. Какие актеры чаще всего снимаются в одном фильме вместе?\n"
   ]
  },
  {
   "cell_type": "code",
   "execution_count": 1796,
   "metadata": {},
   "outputs": [
    {
     "name": "stdout",
     "output_type": "stream",
     "text": [
      "[8, 8, 8]\n",
      "Daniel Radcliffe & Emma Watson\n",
      "Daniel Radcliffe & Rupert Grint\n",
      "Emma Watson & Rupert Grint\n"
     ]
    }
   ],
   "source": [
    "# инициируем словарь счетчика\n",
    "actors_pair = Counter()\n",
    "\n",
    "# получаем все уникальные строки с актерами где есть хотя бы 1 разделитель\n",
    "# фильмы с одним актером не содержат разделителя и не имеет ценности при расчете колобораций\n",
    "actors = data[data.cast.str.contains('|')].cast.unique()\n",
    "\n",
    "# запускаем циклической перебор по списку актеров, замеченных в совместной работе\n",
    "for pair in actors:\n",
    "    # формирем парные комбинации, предварительно сортируем разделенные значения, \n",
    "    # чтобы исключить создание нового ключа для поменявшихся местами пары имен актеров\n",
    "    for actor in combinations(sorted(pair.split('|')), 2):\n",
    "        # формируем ключевое поле словаря - пара из имен актеров через знак разделителя\n",
    "        pair_key = actor[0] + ' & ' + actor[1]\n",
    "        # заносим в словарь сформированную пару актеров\n",
    "        actors_pair[pair_key] += 1\n",
    "\n",
    "# определяем максимальное количество совместных съемок\n",
    "count_colloboration_max = max(actors_pair.values())\n",
    "\n",
    "# выведем топ 3 верхних значений по количеству совместных съемок\n",
    "print(sorted(actors_pair.values(), reverse=True)[:3])\n",
    "\n",
    "# выведем из словаря только пары актеров, с максимальным количеством совместных съемок\n",
    "for pair, count_colloboration in actors_pair.items():\n",
    "    if count_colloboration == count_colloboration_max: \n",
    "        print(pair)\n"
   ]
  },
  {
   "cell_type": "code",
   "execution_count": 1797,
   "metadata": {},
   "outputs": [],
   "source": [
    "# +\n",
    "answers['27'] = 'Daniel Radcliffe & Rupert Grint'"
   ]
  },
  {
   "cell_type": "markdown",
   "metadata": {
    "colab_type": "text",
    "id": "4ymnxEVoVqAW"
   },
   "source": [
    "ВАРИАНТ 2"
   ]
  },
  {
   "cell_type": "code",
   "execution_count": 1798,
   "metadata": {},
   "outputs": [
    {
     "data": {
      "text/plain": [
       "'Daniel Radcliffe & Rupert Grint'"
      ]
     },
     "execution_count": 1798,
     "metadata": {},
     "output_type": "execute_result"
    }
   ],
   "source": [
    "pair_actors = [  'Johnny Depp & Helena Bonham Carter',\n",
    "                'Ben Stiller & Owen Wilson',\n",
    "                'Vin Diesel & Paul Walker',\n",
    "                'Adam Sandler & Kevin James',\n",
    "                'Daniel Radcliffe & Rupert Grint']\n",
    "\n",
    "actor_pair_work = pd.Series(dtype=object)\n",
    "\n",
    "for pair_actor in pair_actors:\n",
    "    actor1, actor2 =  pair_actor.split(' & ')\n",
    "    pair_work_count = data[data.cast.str.contains(actor1) & data.cast.str.contains(actor2)].imdb_id.count()\n",
    "    #print(pair_work_count, '|', pair_actor)\n",
    "    actor_pair_work[pair_actor] = pair_work_count\n",
    "\n",
    "actor_pair_work.sort_values(ascending=False).head(1).index[0]\n"
   ]
  },
  {
   "cell_type": "markdown",
   "metadata": {
    "colab_type": "text",
    "id": "U0nONFnGVqAX"
   },
   "source": [
    "# Submission"
   ]
  },
  {
   "cell_type": "code",
   "execution_count": 1799,
   "metadata": {
    "colab": {},
    "colab_type": "code",
    "id": "IfcaRO9-VqAX",
    "outputId": "0f132912-32bb-4196-c98c-abfbc4ad5a5f"
   },
   "outputs": [
    {
     "data": {
      "text/plain": [
       "{'1': 'Pirates of the Caribbean: On Stranger Tides (tt1298650)',\n",
       " '2': 'Gods and Generals (tt0279111)',\n",
       " '3': 'Winnie the Pooh (tt1449283)',\n",
       " '4': 110,\n",
       " '5': 107,\n",
       " '6': 'Avatar (tt0499549)',\n",
       " '7': 'The Lone Ranger (tt1210819)',\n",
       " '8': 1478,\n",
       " '9': 'The Dark Knight (tt0468569)',\n",
       " '10': 'The Lone Ranger (tt1210819)',\n",
       " '11': 'Drama',\n",
       " '12': 'Drama',\n",
       " '13': 'Peter Jackson',\n",
       " '14': 'Robert Rodriguez',\n",
       " '15': 'Chris Hemsworth',\n",
       " '16': 'Matt Damon',\n",
       " '17': 'Action',\n",
       " '18': 'K-19: The Widowmaker (tt0267626)',\n",
       " '19': 2015,\n",
       " '20': 2014,\n",
       " '21': 'Сентябрь',\n",
       " '22': 450,\n",
       " '23': 'Peter Jackson',\n",
       " '24': 'Four By Two Productions',\n",
       " '25': 'Midnight Picture Show',\n",
       " '26': 'Inside Out, The Dark Knight, 12 Years a Slave',\n",
       " '27': 'Daniel Radcliffe & Rupert Grint'}"
      ]
     },
     "execution_count": 1799,
     "metadata": {},
     "output_type": "execute_result"
    }
   ],
   "source": [
    "# в конце можно посмотреть свои ответы к каждому вопросу\n",
    "\n",
    "# Вопрос № 1 ........ [ + ]\n",
    "# Вопрос № 2 ........ [ + ]\n",
    "# Вопрос № 3 ........ [ + ]\n",
    "# Вопрос № 4 ........ [ + ]\n",
    "# Вопрос № 5 ........ [ + ]\n",
    "# Вопрос № 6 ........ [ + ]\n",
    "# Вопрос № 7 ........ [ + ]\n",
    "# Вопрос № 8 ........ [ + ]\n",
    "# Вопрос № 9 ........ [ + ]\n",
    "# Вопрос № 10 ....... [ + ]\n",
    "# Вопрос № 11 ....... [ + ]\n",
    "# Вопрос № 12 ....... [ + ]\n",
    "# Вопрос № 13 ....... [ + ]\n",
    "# Вопрос № 14 ....... [ + ]\n",
    "# Вопрос № 15 ....... [ + ]\n",
    "# Вопрос № 16 ....... [ + ]\n",
    "# Вопрос № 17 ....... [ + ]\n",
    "# Вопрос № 18 ....... [ + ]\n",
    "# Вопрос № 19 ....... [ + ]\n",
    "# Вопрос № 20 ....... [ + ]\n",
    "# Вопрос № 21 ....... [ + ]\n",
    "# Вопрос № 22 ....... [ + ]\n",
    "# Вопрос № 23 ....... [ + ]\n",
    "# Вопрос № 24 ....... [ + ]\n",
    "# Вопрос № 25 ....... [ + ]\n",
    "# Вопрос № 26 ....... [ + ]\n",
    "# Вопрос № 27 ....... [ + ]\n",
    "\n",
    "answers"
   ]
  },
  {
   "cell_type": "code",
   "execution_count": 1800,
   "metadata": {
    "colab": {},
    "colab_type": "code",
    "id": "SiRmHPl8VqAd"
   },
   "outputs": [
    {
     "data": {
      "text/plain": [
       "27"
      ]
     },
     "execution_count": 1800,
     "metadata": {},
     "output_type": "execute_result"
    }
   ],
   "source": [
    "# и убедиться что ни чего не пропустил)\n",
    "len(answers)"
   ]
  },
  {
   "cell_type": "markdown",
   "metadata": {
    "colab": {},
    "colab_type": "code",
    "id": "uCfuTkRbVqAg"
   },
   "source": [
    "### Спасибо за внимание!"
   ]
  }
 ],
 "metadata": {
  "colab": {
   "name": "Copy of [SF-DST] Movies IMBD v4.1 TEMPLATE.ipynb",
   "provenance": []
  },
  "kernelspec": {
   "display_name": "Python 3",
   "language": "python",
   "name": "python3"
  },
  "language_info": {
   "codemirror_mode": {
    "name": "ipython",
    "version": 3
   },
   "file_extension": ".py",
   "mimetype": "text/x-python",
   "name": "python",
   "nbconvert_exporter": "python",
   "pygments_lexer": "ipython3",
   "version": "3.7.6"
  }
 },
 "nbformat": 4,
 "nbformat_minor": 1
}
