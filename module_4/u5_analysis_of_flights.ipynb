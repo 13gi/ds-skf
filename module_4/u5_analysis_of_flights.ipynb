{
  "nbformat": 4,
  "nbformat_minor": 0,
  "metadata": {
    "colab": {
      "name": "u5_analysis_of_flights.ipynb",
      "provenance": [],
      "collapsed_sections": [],
      "mount_file_id": "1ScyMnDYLL-yk8zO4D5xMmpkki20oExiG",
      "authorship_tag": "ABX9TyMakzC7AAn3b3cGU9WAKRF+"
    },
    "kernelspec": {
      "name": "python3",
      "display_name": "Python 3"
    }
  },
  "cells": [
    {
      "cell_type": "markdown",
      "metadata": {
        "id": "LCCGsQzXjha8"
      },
      "source": [
        "# *ПРОЕКТ 4. АВИАРЕЙСЫ БЕЗ ПОТЕРЬ (ADVANCED)"
      ]
    },
    {
      "cell_type": "markdown",
      "metadata": {
        "id": "KhR2dX5VjhLq"
      },
      "source": [
        "ЗАДАЧА\n",
        "\n",
        "Скачайте ваш датасет из Metabase. Используя либо Excel, либо Python, проанализируйте данные о доходности каждого рейса и затратах на них. Обратите внимание, что вам могут понадобиться дополнительные данные (например, стоимость топлива данной модели самолета на километр)."
      ]
    },
    {
      "cell_type": "markdown",
      "metadata": {
        "id": "J6MnLmp8jd6w"
      },
      "source": [
        "→ Шаг 1. Укажите номера рейсов, которые вы предлагаете убрать. Укажите предполагаемую прибыльность этих рейсов и среднюю прибыльность всех рейсов.\n",
        "\n",
        "→ Шаг 2. Опишите, как вы проводили аналитику, какие данные были использованы для оценки доходности рейса и расходов на них."
      ]
    },
    {
      "cell_type": "markdown",
      "metadata": {
        "id": "4LY2uAnV8K6B"
      },
      "source": [
        "### import\n"
      ]
    },
    {
      "cell_type": "code",
      "metadata": {
        "id": "1K2IVou07wnK"
      },
      "source": [
        "\n",
        "import numpy as np \n",
        "import pandas as pd \n",
        "\n",
        "import matplotlib.pyplot as plt\n",
        "import seaborn as sns \n",
        "%matplotlib inline\n",
        "\n",
        "import os\n",
        "\n",
        "import re\n",
        "import datetime\n",
        "from datetime import datetime, timedelta"
      ],
      "execution_count": null,
      "outputs": []
    },
    {
      "cell_type": "code",
      "metadata": {
        "id": "Dq_U35Gd7wkP"
      },
      "source": [
        "# проверка на работу в \"google colab\" или \"локально\"\n",
        "\n",
        "if 'sample_data' in os.listdir():\n",
        "    project_dir = r'/content/drive/My Drive/Colab Notebooks/module_4/'\n",
        "    print('Обнаружена среда выполнения Google Colab.')\n",
        "    print('project_dir =>', project_dir)\n",
        "else:\n",
        "    project_dir = ''\n",
        "    print('НЕ обнаружена среда выполнения Google Colab. Выбран режим локальной работы.')"
      ],
      "execution_count": null,
      "outputs": []
    },
    {
      "cell_type": "code",
      "metadata": {
        "id": "1Qwv44G47whQ"
      },
      "source": [
        "RANDOM_SEED = 1314"
      ],
      "execution_count": null,
      "outputs": []
    },
    {
      "cell_type": "markdown",
      "metadata": {
        "id": "nmf_RhIU8PnX"
      },
      "source": [
        "### Функции обработки"
      ]
    },
    {
      "cell_type": "code",
      "metadata": {
        "id": "U100rO5G7weY"
      },
      "source": [
        ""
      ],
      "execution_count": null,
      "outputs": []
    },
    {
      "cell_type": "markdown",
      "metadata": {
        "id": "sx8xLN7r8WAu"
      },
      "source": [
        "### DATA\n"
      ]
    },
    {
      "cell_type": "code",
      "metadata": {
        "id": "NywcCsh17wYx"
      },
      "source": [
        "# Выведем листинг проектного каталога\n",
        "for dirname, _, filenames in os.walk(project_dir):\n",
        "    for filename in filenames:\n",
        "        print(os.path.join(dirname, filename))\n"
      ],
      "execution_count": null,
      "outputs": []
    },
    {
      "cell_type": "code",
      "metadata": {
        "id": "edHkB5JX7wVV"
      },
      "source": [
        "flight = pd.read_csv(project_dir + 'AAQ_flights.csv')\n",
        "flight.sample(9)"
      ],
      "execution_count": null,
      "outputs": []
    },
    {
      "cell_type": "code",
      "metadata": {
        "id": "1IlM2x2l7wSP"
      },
      "source": [
        "flight.columns"
      ],
      "execution_count": null,
      "outputs": []
    },
    {
      "cell_type": "code",
      "metadata": {
        "id": "okNbD5EF7haQ"
      },
      "source": [
        "len(flight.columns)"
      ],
      "execution_count": null,
      "outputs": []
    },
    {
      "cell_type": "code",
      "metadata": {
        "id": "rbpU9K33hwYK"
      },
      "source": [
        "# количество направлений\n",
        "flight['city'].value_counts()"
      ],
      "execution_count": null,
      "outputs": []
    },
    {
      "cell_type": "code",
      "metadata": {
        "id": "_NNIMuQkcULI"
      },
      "source": [
        "# количество уникальных рейсов\n",
        "flight['flight_no'].value_counts()"
      ],
      "execution_count": null,
      "outputs": []
    },
    {
      "cell_type": "code",
      "metadata": {
        "id": "soELpKZK9umB"
      },
      "source": [
        "flight['board_model'].value_counts()"
      ],
      "execution_count": null,
      "outputs": []
    },
    {
      "cell_type": "code",
      "metadata": {
        "id": "WMspf_PMiY2p"
      },
      "source": [
        "flight['flight_duration'].value_counts().sort_values(ascending=False)"
      ],
      "execution_count": null,
      "outputs": []
    },
    {
      "cell_type": "markdown",
      "metadata": {
        "id": "KwCcHsm4uNK-"
      },
      "source": [
        "\n",
        "[Цены на авиатопливо в 2017](https://favt.gov.ru/dejatelnost-ajeroporty-i-ajerodromy-ceny-na-aviagsm-statistika-aviagsm/?id=3241)\n",
        "\n",
        "Анапа (будем считать, что все заправки проводились в этом городе)\n",
        "*  декабрь: 47101 руб\\тонна\n",
        "*  январь: 41435 руб\\тонна\n",
        "*  февраль: 39553 руб\\тонна\n",
        "\n"
      ]
    },
    {
      "cell_type": "code",
      "metadata": {
        "id": "iWzXvJpx9uiR"
      },
      "source": [
        "# расход топлива за 1 час полета в кг\n",
        "fuel_consumption = {'SU9': 1.7, '733': 2.4}\n",
        "\n",
        "# стоимость топлива за 1000 кг\n",
        "fuel_cost_2017 = {12: 47101, 1: 41435, 2: 39553}\n",
        "\n",
        "# количество мест в самолете по классам обслуживания\n",
        "cabin_size = {'SU9': {'Economy': 85, 'Business':12 },\n",
        "              '733': {'Economy': 118, 'Business':12 }}"
      ],
      "execution_count": null,
      "outputs": []
    },
    {
      "cell_type": "code",
      "metadata": {
        "id": "ofYM6H1y9uP8"
      },
      "source": [
        "flight['flight_hour'] = flight['flight_duration'].apply(lambda x: re.findall(r\"\\d+\", str(x)))\n",
        "flight['flight_hour'] = flight['flight_hour'].apply(lambda x: round(float(x[0]) + float(x[1])/60, 3))"
      ],
      "execution_count": null,
      "outputs": []
    },
    {
      "cell_type": "code",
      "metadata": {
        "id": "ANo-mAhP9uIF"
      },
      "source": [
        "# Далее заполняем пропуски\n",
        "flight.fillna(0, inplace=True)"
      ],
      "execution_count": null,
      "outputs": []
    },
    {
      "cell_type": "code",
      "metadata": {
        "id": "jwhDOuM49uD3"
      },
      "source": [
        "flight['flight_costs'] = flight.apply(lambda row: row['flight_hour'] * fuel_cost_2017[row['sched_month']] * fuel_consumption[row['aircraft_code']], axis=1 )"
      ],
      "execution_count": null,
      "outputs": []
    },
    {
      "cell_type": "code",
      "metadata": {
        "id": "4-bCFnh2tAwB"
      },
      "source": [
        "flight['flight_profit'] = flight['total_amount'] - flight['flight_costs']\n",
        "\n",
        "flight['flight_profit'] = flight['flight_profit'].apply(lambda x: int(x))\n",
        "\n",
        "flight['total_amount'] = flight['total_amount'].apply(lambda x: int(x))\n",
        "\n",
        "flight['flight_profit'] = flight['flight_profit'].apply(lambda x: int(x))"
      ],
      "execution_count": null,
      "outputs": []
    },
    {
      "cell_type": "code",
      "metadata": {
        "id": "Qj-nAmmqcimr"
      },
      "source": [
        "flight.columns"
      ],
      "execution_count": null,
      "outputs": []
    },
    {
      "cell_type": "code",
      "metadata": {
        "id": "WZDGZJm4b4fM"
      },
      "source": [
        "flight['flight_profit'].plot(kind='hist', grid=True, title='прдеположительная доходность')"
      ],
      "execution_count": null,
      "outputs": []
    },
    {
      "cell_type": "code",
      "metadata": {
        "id": "1m84i-OHcWuH"
      },
      "source": [
        "flight.groupby(by = ['sched_month', 'flight_no'])['flight_profit'].sum().plot(kind = 'bar', grid= True)"
      ],
      "execution_count": null,
      "outputs": []
    },
    {
      "cell_type": "code",
      "metadata": {
        "id": "8cw6VK8pddFz"
      },
      "source": [
        "# суммарная прибыль по рейсам с группировкой по месяцам\n",
        "flight.groupby(by = ['sched_month', 'city'])['flight_profit'].sum().plot(kind = 'bar', grid= True)"
      ],
      "execution_count": null,
      "outputs": []
    },
    {
      "cell_type": "code",
      "metadata": {
        "id": "bkSXtkCddny3"
      },
      "source": [
        "# средняя прибыль по городам с группировкой по месяцам\n",
        "flight.groupby(by = ['sched_month', 'city'])['flight_profit'].mean().plot(kind = 'bar', grid= True)"
      ],
      "execution_count": null,
      "outputs": []
    },
    {
      "cell_type": "code",
      "metadata": {
        "id": "bHAUmok7dvf4"
      },
      "source": [
        "# число рейсов\n",
        "flight.groupby(by = ['sched_month', 'city'])['flight_profit'].count().plot(kind = 'bar', grid= True)"
      ],
      "execution_count": null,
      "outputs": []
    },
    {
      "cell_type": "code",
      "metadata": {
        "id": "TPV0EAqGfvnK"
      },
      "source": [
        "fig = plt.figure(figsize=(20, 6))\n",
        "axes = fig.add_axes([0,0,1,1])\n",
        "axes.plot(flight['scheduled_departure'], flight['total_amount']) \n",
        "axes.plot(flight['scheduled_departure'], flight['flight_costs'], linestyle='-') \n",
        "axes.plot(flight['scheduled_departure'], flight['flight_profit'], linestyle='--')\n"
      ],
      "execution_count": null,
      "outputs": []
    },
    {
      "cell_type": "code",
      "metadata": {
        "id": "Y_w0O8Db9uAg"
      },
      "source": [
        "# исппользуем из датасета только часть полей для анализа\n",
        "fl = flight[['flight_id', 'sched_month', 'flight_no', 'flight_duration', 'city',\n",
        "        'aircraft_code', 'total_amount', 'flight_hour', 'flight_costs', 'flight_profit' ]]\n",
        "\n",
        "fl.sample(15, random_state=RANDOM_SEED)"
      ],
      "execution_count": null,
      "outputs": []
    },
    {
      "cell_type": "code",
      "metadata": {
        "id": "9qHYfotpz0xk"
      },
      "source": [
        "len(fl.columns), fl.columns"
      ],
      "execution_count": null,
      "outputs": []
    },
    {
      "cell_type": "code",
      "metadata": {
        "id": "AtFClOw43GhN"
      },
      "source": [
        "fl.groupby(['city'])['total_amount'].sum()"
      ],
      "execution_count": null,
      "outputs": []
    },
    {
      "cell_type": "code",
      "metadata": {
        "id": "7G30YDd2z0sZ"
      },
      "source": [
        "fl[fl['total_amount'] <= 0].groupby(['city'])['flight_no'].count()\n"
      ],
      "execution_count": null,
      "outputs": []
    },
    {
      "cell_type": "code",
      "metadata": {
        "id": "8bARvJql4hED"
      },
      "source": [
        "# выводим убыточный рейс\n",
        "fl.query('total_amount <= 0')"
      ],
      "execution_count": null,
      "outputs": []
    },
    {
      "cell_type": "code",
      "metadata": {
        "id": "3pTUSWXeZ6FW"
      },
      "source": [
        ""
      ],
      "execution_count": null,
      "outputs": []
    },
    {
      "cell_type": "code",
      "metadata": {
        "id": "OuoIeMPUZhK7"
      },
      "source": [
        "# суммарный предпологаемый убыток по рейсу в Новокузнецк\n",
        "fl.query('flight_no == \"PG0194\"').groupby('flight_no', dropna='False')['flight_profit'].sum()"
      ],
      "execution_count": null,
      "outputs": []
    },
    {
      "cell_type": "markdown",
      "metadata": {
        "id": "XwYHAtFgfOBD"
      },
      "source": [
        "### Отрежем лишние данные\n"
      ]
    },
    {
      "cell_type": "code",
      "metadata": {
        "id": "a7hjv2Qj4stL"
      },
      "source": [
        "fl = fl.query('total_amount > 0')\n",
        "fl.shape"
      ],
      "execution_count": null,
      "outputs": []
    },
    {
      "cell_type": "code",
      "metadata": {
        "id": "SnngbgbU43rf"
      },
      "source": [
        "# fl['flight_profit'].idxmin(axis=\"columns\")\n",
        "\n",
        "fl.iloc[fl['flight_profit'].idxmin()]"
      ],
      "execution_count": null,
      "outputs": []
    },
    {
      "cell_type": "code",
      "metadata": {
        "id": "4cxBnPUIz0mR"
      },
      "source": [
        "fl['flight_profit'].min()"
      ],
      "execution_count": null,
      "outputs": []
    },
    {
      "cell_type": "code",
      "metadata": {
        "id": "7AeimF-Rz0f-"
      },
      "source": [
        "fl['flight_profit'].max()"
      ],
      "execution_count": null,
      "outputs": []
    },
    {
      "cell_type": "markdown",
      "metadata": {
        "id": "LIgSSzERWt3E"
      },
      "source": [
        "### Средняя предпологаемая прибыль по рейсам"
      ]
    },
    {
      "cell_type": "code",
      "metadata": {
        "id": "--dV-kADz0aB"
      },
      "source": [
        "# средняя прибыль по рейсам и месяцам\n",
        "fl.groupby(['flight_no', 'sched_month'])['flight_profit'].mean()"
      ],
      "execution_count": null,
      "outputs": []
    },
    {
      "cell_type": "code",
      "metadata": {
        "id": "-Cc_UoGWz0UO"
      },
      "source": [
        "# средняя прибыль по рейсам\n",
        "fl.groupby(['flight_no'])['flight_profit'].mean()"
      ],
      "execution_count": null,
      "outputs": []
    },
    {
      "cell_type": "code",
      "metadata": {
        "id": "Z73vXOTLYYxf"
      },
      "source": [
        "# суммарная прибыль по рейсам\n",
        "fl.groupby(['flight_no'])['flight_profit'].sum()"
      ],
      "execution_count": null,
      "outputs": []
    },
    {
      "cell_type": "code",
      "metadata": {
        "id": "624qLV8YYHoh"
      },
      "source": [
        "fl.query('flight_no == \"PG0252\"').sample(7)"
      ],
      "execution_count": null,
      "outputs": []
    },
    {
      "cell_type": "code",
      "metadata": {
        "id": "Zh63NRvVYHbe"
      },
      "source": [
        "fl.query('flight_no == \"PG0480\"').sample(7)"
      ],
      "execution_count": null,
      "outputs": []
    },
    {
      "cell_type": "code",
      "metadata": {
        "id": "-vtRFfHheZYk"
      },
      "source": [
        "fl.groupby(by = ['flight_no'])['flight_profit'].sum().plot(kind = 'bar', grid= True)"
      ],
      "execution_count": null,
      "outputs": []
    },
    {
      "cell_type": "code",
      "metadata": {
        "id": "_L6S-wHheZwZ"
      },
      "source": [
        "fl.groupby(by = ['flight_no'])['flight_profit'].mean().plot(kind = 'bar', grid= True)"
      ],
      "execution_count": null,
      "outputs": []
    },
    {
      "cell_type": "code",
      "metadata": {
        "id": "3fb4eTf7eolU"
      },
      "source": [
        "fl.groupby(by = ['aircraft_code'])['flight_profit'].sum().plot(kind = 'bar', grid= True)"
      ],
      "execution_count": null,
      "outputs": []
    },
    {
      "cell_type": "code",
      "metadata": {
        "id": "Y3Ylt09AevBh"
      },
      "source": [
        "fl.groupby(by = ['aircraft_code'])['flight_profit'].mean().plot(kind = 'bar', grid= True)"
      ],
      "execution_count": null,
      "outputs": []
    },
    {
      "cell_type": "code",
      "metadata": {
        "id": "Vy3LqU1DifMy"
      },
      "source": [
        "sns.jointplot(x = 'total_amount', y = 'flight_profit', data = fl, kind='reg')"
      ],
      "execution_count": null,
      "outputs": []
    },
    {
      "cell_type": "code",
      "metadata": {
        "id": "054w-NoNi0ye"
      },
      "source": [
        "sns.jointplot(x = 'flight_hour', y = 'flight_profit', data = fl, kind='reg')"
      ],
      "execution_count": null,
      "outputs": []
    },
    {
      "cell_type": "code",
      "metadata": {
        "id": "1jDeW17wi70Q"
      },
      "source": [
        "sns.jointplot(x = 'flight_hour', y = 'flight_costs', data = fl, kind='reg')\n"
      ],
      "execution_count": null,
      "outputs": []
    },
    {
      "cell_type": "markdown",
      "metadata": {
        "id": "Q5ciA-8NaspR"
      },
      "source": [
        "## Выводы"
      ]
    },
    {
      "cell_type": "markdown",
      "metadata": {
        "id": "KATPeQnXavjE"
      },
      "source": [
        "Убыточный рейс (либо по нему нет данных о билетах): \n",
        "* PG0194 (Анапа-Новокузнецк). \n",
        "* Размер убытка: -4,481 млн руб\n",
        "\n",
        "Средняя прибыль по рейсам (предположительно):\n",
        "* PG0252(Moscow) = 1,48 млн руб\n",
        "* PG0480(Belgorod) = 0,65 млн руб\n",
        "\n",
        "Суммарная прибыль по рейсам (предположительно):\n",
        "* PG0252(Moscow) = 87,360 млн руб\n",
        "* PG0480(Belgorod) = 38,521 млн руб\n"
      ]
    },
    {
      "cell_type": "code",
      "metadata": {
        "id": "q8t6wZ6lau4e"
      },
      "source": [
        ""
      ],
      "execution_count": null,
      "outputs": []
    }
  ]
}