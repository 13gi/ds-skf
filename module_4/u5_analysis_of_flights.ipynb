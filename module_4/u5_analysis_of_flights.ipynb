{
  "nbformat": 4,
  "nbformat_minor": 0,
  "metadata": {
    "colab": {
      "name": "u5_analysis_of_flights.ipynb",
      "provenance": [],
      "collapsed_sections": [],
      "mount_file_id": "1ScyMnDYLL-yk8zO4D5xMmpkki20oExiG",
      "authorship_tag": "ABX9TyOlZFY4qTYrbcrSxPQUleyZ"
    },
    "kernelspec": {
      "name": "python3",
      "display_name": "Python 3"
    }
  },
  "cells": [
    {
      "cell_type": "code",
      "metadata": {
        "id": "hUp0j0rl7wsE"
      },
      "source": [
        ""
      ],
      "execution_count": null,
      "outputs": []
    },
    {
      "cell_type": "code",
      "metadata": {
        "id": "8dq2bWAl7wpj"
      },
      "source": [
        ""
      ],
      "execution_count": null,
      "outputs": []
    },
    {
      "cell_type": "markdown",
      "metadata": {
        "id": "4LY2uAnV8K6B"
      },
      "source": [
        "### import\n"
      ]
    },
    {
      "cell_type": "code",
      "metadata": {
        "id": "1K2IVou07wnK"
      },
      "source": [
        "\n",
        "import numpy as np # linear algebra\n",
        "import pandas as pd # data processing, CSV file I/O (e.g. pd.read_csv)\n",
        "\n",
        "import matplotlib.pyplot as plt\n",
        "import seaborn as sns \n",
        "%matplotlib inline\n",
        "\n",
        "import os\n",
        "\n",
        "\n",
        "import re\n",
        "import datetime\n",
        "from datetime import datetime, timedelta"
      ],
      "execution_count": 1,
      "outputs": []
    },
    {
      "cell_type": "code",
      "metadata": {
        "id": "Dq_U35Gd7wkP",
        "outputId": "ef2ef7e5-fb05-48ec-aa47-344c9842f913",
        "colab": {
          "base_uri": "https://localhost:8080/"
        }
      },
      "source": [
        "# проверка на работу в \"google colab\" или \"локально\"\n",
        "\n",
        "if 'sample_data' in os.listdir():\n",
        "    project_dir = r'/content/drive/My Drive/Colab Notebooks/module_4/'\n",
        "    print('Обнаружена среда выполнения Google Colab.')\n",
        "    print('project_dir =>', project_dir)\n",
        "else:\n",
        "    project_dir = ''\n",
        "    print('НЕ обнаружена среда выполнения Google Colab. Выбран режим локальной работы.')"
      ],
      "execution_count": 2,
      "outputs": [
        {
          "output_type": "stream",
          "text": [
            "Обнаружена среда выполнения Google Colab.\n",
            "project_dir => /content/drive/My Drive/Colab Notebooks/module_4/\n"
          ],
          "name": "stdout"
        }
      ]
    },
    {
      "cell_type": "code",
      "metadata": {
        "id": "1Qwv44G47whQ"
      },
      "source": [
        "RANDOM_SEED = 1314"
      ],
      "execution_count": 3,
      "outputs": []
    },
    {
      "cell_type": "markdown",
      "metadata": {
        "id": "nmf_RhIU8PnX"
      },
      "source": [
        "### Функции обработки"
      ]
    },
    {
      "cell_type": "code",
      "metadata": {
        "id": "U100rO5G7weY"
      },
      "source": [
        ""
      ],
      "execution_count": 3,
      "outputs": []
    },
    {
      "cell_type": "code",
      "metadata": {
        "id": "zbzz0nQH7wbf"
      },
      "source": [
        ""
      ],
      "execution_count": 3,
      "outputs": []
    },
    {
      "cell_type": "markdown",
      "metadata": {
        "id": "sx8xLN7r8WAu"
      },
      "source": [
        "### DATA\n"
      ]
    },
    {
      "cell_type": "code",
      "metadata": {
        "id": "NywcCsh17wYx",
        "outputId": "1d23c06f-c4e2-4b1b-fd45-d9d678ee214b",
        "colab": {
          "base_uri": "https://localhost:8080/"
        }
      },
      "source": [
        "# Выведем листинг проектного каталога\n",
        "for dirname, _, filenames in os.walk(project_dir):\n",
        "    for filename in filenames:\n",
        "        print(os.path.join(dirname, filename))\n"
      ],
      "execution_count": 4,
      "outputs": [
        {
          "output_type": "stream",
          "text": [
            "/content/drive/My Drive/Colab Notebooks/module_4/AAQ_flights.csv\n",
            "/content/drive/My Drive/Colab Notebooks/module_4/AAQ_profit_model.pdf\n",
            "/content/drive/My Drive/Colab Notebooks/module_4/u5_analysis_of_flights.ipynb\n"
          ],
          "name": "stdout"
        }
      ]
    },
    {
      "cell_type": "code",
      "metadata": {
        "id": "edHkB5JX7wVV",
        "outputId": "36d43f5c-829e-4bae-fd68-11c599a4e878",
        "colab": {
          "base_uri": "https://localhost:8080/",
          "height": 501
        }
      },
      "source": [
        "flight = pd.read_csv(project_dir + 'AAQ_flights.csv')\n",
        "flight.sample(9)"
      ],
      "execution_count": 5,
      "outputs": [
        {
          "output_type": "execute_result",
          "data": {
            "text/html": [
              "<div>\n",
              "<style scoped>\n",
              "    .dataframe tbody tr th:only-of-type {\n",
              "        vertical-align: middle;\n",
              "    }\n",
              "\n",
              "    .dataframe tbody tr th {\n",
              "        vertical-align: top;\n",
              "    }\n",
              "\n",
              "    .dataframe thead th {\n",
              "        text-align: right;\n",
              "    }\n",
              "</style>\n",
              "<table border=\"1\" class=\"dataframe\">\n",
              "  <thead>\n",
              "    <tr style=\"text-align: right;\">\n",
              "      <th></th>\n",
              "      <th>flight_id</th>\n",
              "      <th>sched_year</th>\n",
              "      <th>sched_month</th>\n",
              "      <th>sched_day</th>\n",
              "      <th>departure_airport</th>\n",
              "      <th>flight_no</th>\n",
              "      <th>arrival_airport</th>\n",
              "      <th>scheduled_departure</th>\n",
              "      <th>scheduled_arrival</th>\n",
              "      <th>delay_departure</th>\n",
              "      <th>status</th>\n",
              "      <th>flight_duration</th>\n",
              "      <th>city</th>\n",
              "      <th>timezone</th>\n",
              "      <th>actual_departure</th>\n",
              "      <th>actual_arrival</th>\n",
              "      <th>delay_arrival</th>\n",
              "      <th>aircraft_code</th>\n",
              "      <th>manufacturer</th>\n",
              "      <th>board_model</th>\n",
              "      <th>flights_range_km</th>\n",
              "      <th>class2</th>\n",
              "      <th>ticket_count2</th>\n",
              "      <th>amount_sold2</th>\n",
              "      <th>avg_price_class2</th>\n",
              "      <th>class1</th>\n",
              "      <th>ticket_count1</th>\n",
              "      <th>amount_sold1</th>\n",
              "      <th>avg_price_class1</th>\n",
              "      <th>total_amount</th>\n",
              "    </tr>\n",
              "  </thead>\n",
              "  <tbody>\n",
              "    <tr>\n",
              "      <th>65</th>\n",
              "      <td>136869</td>\n",
              "      <td>2017</td>\n",
              "      <td>1</td>\n",
              "      <td>31</td>\n",
              "      <td>AAQ</td>\n",
              "      <td>PG0480</td>\n",
              "      <td>EGO</td>\n",
              "      <td>2017-01-31 12:25:00</td>\n",
              "      <td>2017-01-31 13:15:00</td>\n",
              "      <td>00:01:00</td>\n",
              "      <td>Arrived</td>\n",
              "      <td>00:50:00</td>\n",
              "      <td>Belgorod</td>\n",
              "      <td>Europe/Moscow</td>\n",
              "      <td>2017-01-31 12:26:00</td>\n",
              "      <td>2017-01-31 13:16:00</td>\n",
              "      <td>00:01:00</td>\n",
              "      <td>SU9</td>\n",
              "      <td>Sukhoi</td>\n",
              "      <td>Superjet-100</td>\n",
              "      <td>3000</td>\n",
              "      <td>Economy</td>\n",
              "      <td>85.0</td>\n",
              "      <td>538500.0</td>\n",
              "      <td>6335.0</td>\n",
              "      <td>Business</td>\n",
              "      <td>12.0</td>\n",
              "      <td>226800.0</td>\n",
              "      <td>18900.0</td>\n",
              "      <td>765300.0</td>\n",
              "    </tr>\n",
              "    <tr>\n",
              "      <th>7</th>\n",
              "      <td>136819</td>\n",
              "      <td>2017</td>\n",
              "      <td>1</td>\n",
              "      <td>4</td>\n",
              "      <td>AAQ</td>\n",
              "      <td>PG0480</td>\n",
              "      <td>EGO</td>\n",
              "      <td>2017-01-04 12:25:00</td>\n",
              "      <td>2017-01-04 13:15:00</td>\n",
              "      <td>00:04:00</td>\n",
              "      <td>Arrived</td>\n",
              "      <td>00:50:00</td>\n",
              "      <td>Belgorod</td>\n",
              "      <td>Europe/Moscow</td>\n",
              "      <td>2017-01-04 12:29:00</td>\n",
              "      <td>2017-01-04 13:19:00</td>\n",
              "      <td>00:04:00</td>\n",
              "      <td>SU9</td>\n",
              "      <td>Sukhoi</td>\n",
              "      <td>Superjet-100</td>\n",
              "      <td>3000</td>\n",
              "      <td>Economy</td>\n",
              "      <td>84.0</td>\n",
              "      <td>532200.0</td>\n",
              "      <td>6336.0</td>\n",
              "      <td>Business</td>\n",
              "      <td>12.0</td>\n",
              "      <td>226800.0</td>\n",
              "      <td>18900.0</td>\n",
              "      <td>759000.0</td>\n",
              "    </tr>\n",
              "    <tr>\n",
              "      <th>25</th>\n",
              "      <td>136316</td>\n",
              "      <td>2017</td>\n",
              "      <td>1</td>\n",
              "      <td>12</td>\n",
              "      <td>AAQ</td>\n",
              "      <td>PG0252</td>\n",
              "      <td>SVO</td>\n",
              "      <td>2017-01-12 13:05:00</td>\n",
              "      <td>2017-01-12 14:45:00</td>\n",
              "      <td>00:02:00</td>\n",
              "      <td>Arrived</td>\n",
              "      <td>01:40:00</td>\n",
              "      <td>Moscow</td>\n",
              "      <td>Europe/Moscow</td>\n",
              "      <td>2017-01-12 13:07:00</td>\n",
              "      <td>2017-01-12 14:47:00</td>\n",
              "      <td>00:02:00</td>\n",
              "      <td>733</td>\n",
              "      <td>Boeing</td>\n",
              "      <td>737-300</td>\n",
              "      <td>4200</td>\n",
              "      <td>Economy</td>\n",
              "      <td>118.0</td>\n",
              "      <td>1446800.0</td>\n",
              "      <td>12261.0</td>\n",
              "      <td>Business</td>\n",
              "      <td>12.0</td>\n",
              "      <td>439200.0</td>\n",
              "      <td>36600.0</td>\n",
              "      <td>1886000.0</td>\n",
              "    </tr>\n",
              "    <tr>\n",
              "      <th>61</th>\n",
              "      <td>136178</td>\n",
              "      <td>2017</td>\n",
              "      <td>1</td>\n",
              "      <td>29</td>\n",
              "      <td>AAQ</td>\n",
              "      <td>PG0252</td>\n",
              "      <td>SVO</td>\n",
              "      <td>2017-01-29 13:05:00</td>\n",
              "      <td>2017-01-29 14:45:00</td>\n",
              "      <td>00:05:00</td>\n",
              "      <td>Arrived</td>\n",
              "      <td>01:39:00</td>\n",
              "      <td>Moscow</td>\n",
              "      <td>Europe/Moscow</td>\n",
              "      <td>2017-01-29 13:10:00</td>\n",
              "      <td>2017-01-29 14:49:00</td>\n",
              "      <td>00:04:00</td>\n",
              "      <td>733</td>\n",
              "      <td>Boeing</td>\n",
              "      <td>737-300</td>\n",
              "      <td>4200</td>\n",
              "      <td>Economy</td>\n",
              "      <td>90.0</td>\n",
              "      <td>1105200.0</td>\n",
              "      <td>12280.0</td>\n",
              "      <td>Business</td>\n",
              "      <td>9.0</td>\n",
              "      <td>329400.0</td>\n",
              "      <td>36600.0</td>\n",
              "      <td>1434600.0</td>\n",
              "    </tr>\n",
              "    <tr>\n",
              "      <th>108</th>\n",
              "      <td>136403</td>\n",
              "      <td>2017</td>\n",
              "      <td>2</td>\n",
              "      <td>20</td>\n",
              "      <td>AAQ</td>\n",
              "      <td>PG0252</td>\n",
              "      <td>SVO</td>\n",
              "      <td>2017-02-20 13:05:00</td>\n",
              "      <td>2017-02-20 14:45:00</td>\n",
              "      <td>00:01:00</td>\n",
              "      <td>Arrived</td>\n",
              "      <td>01:40:00</td>\n",
              "      <td>Moscow</td>\n",
              "      <td>Europe/Moscow</td>\n",
              "      <td>2017-02-20 13:06:00</td>\n",
              "      <td>2017-02-20 14:46:00</td>\n",
              "      <td>00:01:00</td>\n",
              "      <td>733</td>\n",
              "      <td>Boeing</td>\n",
              "      <td>737-300</td>\n",
              "      <td>4200</td>\n",
              "      <td>Economy</td>\n",
              "      <td>117.0</td>\n",
              "      <td>1434600.0</td>\n",
              "      <td>12262.0</td>\n",
              "      <td>Business</td>\n",
              "      <td>12.0</td>\n",
              "      <td>439200.0</td>\n",
              "      <td>36600.0</td>\n",
              "      <td>1873800.0</td>\n",
              "    </tr>\n",
              "    <tr>\n",
              "      <th>53</th>\n",
              "      <td>136383</td>\n",
              "      <td>2017</td>\n",
              "      <td>1</td>\n",
              "      <td>25</td>\n",
              "      <td>AAQ</td>\n",
              "      <td>PG0252</td>\n",
              "      <td>SVO</td>\n",
              "      <td>2017-01-25 13:05:00</td>\n",
              "      <td>2017-01-25 14:45:00</td>\n",
              "      <td>00:04:00</td>\n",
              "      <td>Arrived</td>\n",
              "      <td>01:42:00</td>\n",
              "      <td>Moscow</td>\n",
              "      <td>Europe/Moscow</td>\n",
              "      <td>2017-01-25 13:09:00</td>\n",
              "      <td>2017-01-25 14:51:00</td>\n",
              "      <td>00:06:00</td>\n",
              "      <td>733</td>\n",
              "      <td>Boeing</td>\n",
              "      <td>737-300</td>\n",
              "      <td>4200</td>\n",
              "      <td>Economy</td>\n",
              "      <td>98.0</td>\n",
              "      <td>1200400.0</td>\n",
              "      <td>12249.0</td>\n",
              "      <td>Business</td>\n",
              "      <td>8.0</td>\n",
              "      <td>292800.0</td>\n",
              "      <td>36600.0</td>\n",
              "      <td>1493200.0</td>\n",
              "    </tr>\n",
              "    <tr>\n",
              "      <th>81</th>\n",
              "      <td>136284</td>\n",
              "      <td>2017</td>\n",
              "      <td>2</td>\n",
              "      <td>7</td>\n",
              "      <td>AAQ</td>\n",
              "      <td>PG0252</td>\n",
              "      <td>SVO</td>\n",
              "      <td>2017-02-07 13:05:00</td>\n",
              "      <td>2017-02-07 14:45:00</td>\n",
              "      <td>00:02:00</td>\n",
              "      <td>Arrived</td>\n",
              "      <td>01:41:00</td>\n",
              "      <td>Moscow</td>\n",
              "      <td>Europe/Moscow</td>\n",
              "      <td>2017-02-07 13:07:00</td>\n",
              "      <td>2017-02-07 14:48:00</td>\n",
              "      <td>00:03:00</td>\n",
              "      <td>733</td>\n",
              "      <td>Boeing</td>\n",
              "      <td>737-300</td>\n",
              "      <td>4200</td>\n",
              "      <td>Economy</td>\n",
              "      <td>107.0</td>\n",
              "      <td>1311400.0</td>\n",
              "      <td>12256.0</td>\n",
              "      <td>Business</td>\n",
              "      <td>10.0</td>\n",
              "      <td>366000.0</td>\n",
              "      <td>36600.0</td>\n",
              "      <td>1677400.0</td>\n",
              "    </tr>\n",
              "    <tr>\n",
              "      <th>58</th>\n",
              "      <td>136678</td>\n",
              "      <td>2017</td>\n",
              "      <td>1</td>\n",
              "      <td>28</td>\n",
              "      <td>AAQ</td>\n",
              "      <td>PG0480</td>\n",
              "      <td>EGO</td>\n",
              "      <td>2017-01-28 12:25:00</td>\n",
              "      <td>2017-01-28 13:15:00</td>\n",
              "      <td>00:02:00</td>\n",
              "      <td>Arrived</td>\n",
              "      <td>00:50:00</td>\n",
              "      <td>Belgorod</td>\n",
              "      <td>Europe/Moscow</td>\n",
              "      <td>2017-01-28 12:27:00</td>\n",
              "      <td>2017-01-28 13:17:00</td>\n",
              "      <td>00:02:00</td>\n",
              "      <td>SU9</td>\n",
              "      <td>Sukhoi</td>\n",
              "      <td>Superjet-100</td>\n",
              "      <td>3000</td>\n",
              "      <td>Economy</td>\n",
              "      <td>70.0</td>\n",
              "      <td>442200.0</td>\n",
              "      <td>6317.0</td>\n",
              "      <td>Business</td>\n",
              "      <td>10.0</td>\n",
              "      <td>189000.0</td>\n",
              "      <td>18900.0</td>\n",
              "      <td>631200.0</td>\n",
              "    </tr>\n",
              "    <tr>\n",
              "      <th>49</th>\n",
              "      <td>136560</td>\n",
              "      <td>2017</td>\n",
              "      <td>1</td>\n",
              "      <td>24</td>\n",
              "      <td>AAQ</td>\n",
              "      <td>PG0194</td>\n",
              "      <td>NOZ</td>\n",
              "      <td>2017-01-24 09:10:00</td>\n",
              "      <td>2017-01-24 14:15:00</td>\n",
              "      <td>00:03:00</td>\n",
              "      <td>Arrived</td>\n",
              "      <td>05:05:00</td>\n",
              "      <td>Novokuznetsk</td>\n",
              "      <td>Asia/Novokuznetsk</td>\n",
              "      <td>2017-01-24 09:13:00</td>\n",
              "      <td>2017-01-24 14:18:00</td>\n",
              "      <td>00:03:00</td>\n",
              "      <td>733</td>\n",
              "      <td>Boeing</td>\n",
              "      <td>737-300</td>\n",
              "      <td>4200</td>\n",
              "      <td>NaN</td>\n",
              "      <td>NaN</td>\n",
              "      <td>NaN</td>\n",
              "      <td>NaN</td>\n",
              "      <td>NaN</td>\n",
              "      <td>NaN</td>\n",
              "      <td>NaN</td>\n",
              "      <td>NaN</td>\n",
              "      <td>NaN</td>\n",
              "    </tr>\n",
              "  </tbody>\n",
              "</table>\n",
              "</div>"
            ],
            "text/plain": [
              "     flight_id  sched_year  ...  avg_price_class1  total_amount\n",
              "65      136869        2017  ...           18900.0      765300.0\n",
              "7       136819        2017  ...           18900.0      759000.0\n",
              "25      136316        2017  ...           36600.0     1886000.0\n",
              "61      136178        2017  ...           36600.0     1434600.0\n",
              "108     136403        2017  ...           36600.0     1873800.0\n",
              "53      136383        2017  ...           36600.0     1493200.0\n",
              "81      136284        2017  ...           36600.0     1677400.0\n",
              "58      136678        2017  ...           18900.0      631200.0\n",
              "49      136560        2017  ...               NaN           NaN\n",
              "\n",
              "[9 rows x 30 columns]"
            ]
          },
          "metadata": {
            "tags": []
          },
          "execution_count": 5
        }
      ]
    },
    {
      "cell_type": "code",
      "metadata": {
        "id": "1IlM2x2l7wSP",
        "outputId": "a48602f9-dab0-4669-a68b-dcc96228038e",
        "colab": {
          "base_uri": "https://localhost:8080/"
        }
      },
      "source": [
        "flight.columns"
      ],
      "execution_count": 6,
      "outputs": [
        {
          "output_type": "execute_result",
          "data": {
            "text/plain": [
              "Index(['flight_id', 'sched_year', 'sched_month', 'sched_day',\n",
              "       'departure_airport', 'flight_no', 'arrival_airport',\n",
              "       'scheduled_departure', 'scheduled_arrival', 'delay_departure', 'status',\n",
              "       'flight_duration', 'city', 'timezone', 'actual_departure',\n",
              "       'actual_arrival', 'delay_arrival', 'aircraft_code', 'manufacturer',\n",
              "       'board_model', 'flights_range_km', 'class2', 'ticket_count2',\n",
              "       'amount_sold2', 'avg_price_class2', 'class1', 'ticket_count1',\n",
              "       'amount_sold1', 'avg_price_class1', 'total_amount'],\n",
              "      dtype='object')"
            ]
          },
          "metadata": {
            "tags": []
          },
          "execution_count": 6
        }
      ]
    },
    {
      "cell_type": "code",
      "metadata": {
        "id": "okNbD5EF7haQ",
        "outputId": "8845bbdc-ba16-4d54-8a14-2270adc171f5",
        "colab": {
          "base_uri": "https://localhost:8080/"
        }
      },
      "source": [
        "len(flight.columns)"
      ],
      "execution_count": 7,
      "outputs": [
        {
          "output_type": "execute_result",
          "data": {
            "text/plain": [
              "30"
            ]
          },
          "metadata": {
            "tags": []
          },
          "execution_count": 7
        }
      ]
    },
    {
      "cell_type": "code",
      "metadata": {
        "id": "rbpU9K33hwYK",
        "outputId": "10527c1d-ba7f-40d0-dec0-21f6329adf1a",
        "colab": {
          "base_uri": "https://localhost:8080/"
        }
      },
      "source": [
        "# количество направлений\n",
        "flight['city'].value_counts()"
      ],
      "execution_count": 8,
      "outputs": [
        {
          "output_type": "execute_result",
          "data": {
            "text/plain": [
              "Moscow          59\n",
              "Belgorod        59\n",
              "Novokuznetsk     9\n",
              "Name: city, dtype: int64"
            ]
          },
          "metadata": {
            "tags": []
          },
          "execution_count": 8
        }
      ]
    },
    {
      "cell_type": "code",
      "metadata": {
        "id": "_NNIMuQkcULI",
        "outputId": "2e017841-d775-4882-be2c-9eee142f4c85",
        "colab": {
          "base_uri": "https://localhost:8080/"
        }
      },
      "source": [
        "# количество уникальных рейсов\n",
        "flight['flight_no'].value_counts()"
      ],
      "execution_count": 9,
      "outputs": [
        {
          "output_type": "execute_result",
          "data": {
            "text/plain": [
              "PG0252    59\n",
              "PG0480    59\n",
              "PG0194     9\n",
              "Name: flight_no, dtype: int64"
            ]
          },
          "metadata": {
            "tags": []
          },
          "execution_count": 9
        }
      ]
    },
    {
      "cell_type": "code",
      "metadata": {
        "id": "soELpKZK9umB",
        "outputId": "589f8691-5ef1-49b8-ae2d-68c94b1131aa",
        "colab": {
          "base_uri": "https://localhost:8080/"
        }
      },
      "source": [
        "flight['board_model'].value_counts()"
      ],
      "execution_count": 10,
      "outputs": [
        {
          "output_type": "execute_result",
          "data": {
            "text/plain": [
              "737-300         68\n",
              "Superjet-100    59\n",
              "Name: board_model, dtype: int64"
            ]
          },
          "metadata": {
            "tags": []
          },
          "execution_count": 10
        }
      ]
    },
    {
      "cell_type": "code",
      "metadata": {
        "id": "WMspf_PMiY2p",
        "outputId": "26a2b297-e447-4f02-ec54-a48d15449051",
        "colab": {
          "base_uri": "https://localhost:8080/"
        }
      },
      "source": [
        "flight['flight_duration'].value_counts().sort_values(ascending=False)"
      ],
      "execution_count": 11,
      "outputs": [
        {
          "output_type": "execute_result",
          "data": {
            "text/plain": [
              "00:50:00    34\n",
              "01:40:00    27\n",
              "01:39:00    17\n",
              "00:51:00    15\n",
              "00:49:00    10\n",
              "01:41:00     8\n",
              "01:38:00     4\n",
              "05:10:00     2\n",
              "01:42:00     2\n",
              "05:04:00     1\n",
              "01:43:00     1\n",
              "05:11:00     1\n",
              "05:12:00     1\n",
              "05:05:00     1\n",
              "04:59:00     1\n",
              "05:02:00     1\n",
              "05:07:00     1\n",
              "Name: flight_duration, dtype: int64"
            ]
          },
          "metadata": {
            "tags": []
          },
          "execution_count": 11
        }
      ]
    },
    {
      "cell_type": "markdown",
      "metadata": {
        "id": "KwCcHsm4uNK-"
      },
      "source": [
        "\n",
        "[Цены на авиатопливо в 2017](https://favt.gov.ru/dejatelnost-ajeroporty-i-ajerodromy-ceny-na-aviagsm-statistika-aviagsm/?id=3241)\n",
        "\n",
        "Анапа (будем считать, что все заправки проводились в этом городе)\n",
        "*  декабрь: 47101 руб\\тонна\n",
        "*  январь: 41435 руб\\тонна\n",
        "*  февраль: 39553 руб\\тонна\n",
        "\n"
      ]
    },
    {
      "cell_type": "code",
      "metadata": {
        "id": "iWzXvJpx9uiR"
      },
      "source": [
        "# расход топлива за 1 час полета в кг\n",
        "fuel_consumption = {'SU9': 1.7, '733': 2.4}\n",
        "\n",
        "# стоимость топлива за 1000 кг\n",
        "fuel_cost_2017 = {12: 47101, 1: 41435, 2: 39553}\n",
        "\n",
        "# количество мест в самолете по классам обслуживания\n",
        "cabin_size = {'SU9': {'Economy': 85, 'Business':12 },\n",
        "              '733': {'Economy': 118, 'Business':12 }}"
      ],
      "execution_count": 12,
      "outputs": []
    },
    {
      "cell_type": "code",
      "metadata": {
        "id": "d4LB5UT29udZ",
        "outputId": "c2a47b26-fe62-47a1-f664-023fcac0f97d",
        "colab": {
          "base_uri": "https://localhost:8080/"
        }
      },
      "source": [
        "cabin_size['SU9']['Economy'], cabin_size['SU9']['Business']"
      ],
      "execution_count": 13,
      "outputs": [
        {
          "output_type": "execute_result",
          "data": {
            "text/plain": [
              "(85, 12)"
            ]
          },
          "metadata": {
            "tags": []
          },
          "execution_count": 13
        }
      ]
    },
    {
      "cell_type": "code",
      "metadata": {
        "id": "GRsSA1D59uYe",
        "outputId": "bab4fb21-db7d-4e67-ebde-527c2a78caa4",
        "colab": {
          "base_uri": "https://localhost:8080/"
        }
      },
      "source": [
        "cabin_size['733']['Economy'], cabin_size['SU9']['Business']"
      ],
      "execution_count": 36,
      "outputs": [
        {
          "output_type": "execute_result",
          "data": {
            "text/plain": [
              "(118, 12)"
            ]
          },
          "metadata": {
            "tags": []
          },
          "execution_count": 36
        }
      ]
    },
    {
      "cell_type": "code",
      "metadata": {
        "id": "ofYM6H1y9uP8"
      },
      "source": [
        "flight['flight_hour'] = flight['flight_duration'].apply(lambda x: re.findall(r\"\\d+\", str(x)))\n",
        "flight['flight_hour'] = flight['flight_hour'].apply(lambda x: round(float(x[0]) + float(x[1])/60, 3))"
      ],
      "execution_count": 37,
      "outputs": []
    },
    {
      "cell_type": "code",
      "metadata": {
        "id": "ANo-mAhP9uIF"
      },
      "source": [
        "# Далее заполняем пропуски\n",
        "flight.fillna(0, inplace=True)"
      ],
      "execution_count": 39,
      "outputs": []
    },
    {
      "cell_type": "code",
      "metadata": {
        "id": "jwhDOuM49uD3"
      },
      "source": [
        "flight['flight_costs'] = flight.apply(lambda row: row['flight_hour'] * fuel_cost_2017[row['sched_month']] * fuel_consumption[row['aircraft_code']], axis=1 )"
      ],
      "execution_count": 40,
      "outputs": []
    },
    {
      "cell_type": "code",
      "metadata": {
        "id": "4-bCFnh2tAwB"
      },
      "source": [
        "flight['flight_profit'] = flight['total_amount'] - flight['flight_costs']\n",
        "\n",
        "flight['flight_profit'] = flight['flight_profit'].apply(lambda x: int(x))\n",
        "\n",
        "flight['total_amount'] = flight['total_amount'].apply(lambda x: int(x))\n",
        "\n",
        "flight['flight_profit'] = flight['flight_profit'].apply(lambda x: int(x))"
      ],
      "execution_count": 41,
      "outputs": []
    },
    {
      "cell_type": "code",
      "metadata": {
        "id": "Y_w0O8Db9uAg",
        "outputId": "1341a435-3905-4ec8-fce3-6b8e8d989fd1",
        "colab": {
          "base_uri": "https://localhost:8080/",
          "height": 514
        }
      },
      "source": [
        "# проблемы с длительностью 'sched_month', 'sched_month',\n",
        "fl = flight[['flight_id',  'flight_no', 'flight_duration', 'city',\n",
        "        'aircraft_code', 'total_amount', 'flight_hour', 'flight_costs', 'flight_profit' ]]\n",
        "\n",
        "fl.sample(15, random_state=RANDOM_SEED)"
      ],
      "execution_count": 42,
      "outputs": [
        {
          "output_type": "execute_result",
          "data": {
            "text/html": [
              "<div>\n",
              "<style scoped>\n",
              "    .dataframe tbody tr th:only-of-type {\n",
              "        vertical-align: middle;\n",
              "    }\n",
              "\n",
              "    .dataframe tbody tr th {\n",
              "        vertical-align: top;\n",
              "    }\n",
              "\n",
              "    .dataframe thead th {\n",
              "        text-align: right;\n",
              "    }\n",
              "</style>\n",
              "<table border=\"1\" class=\"dataframe\">\n",
              "  <thead>\n",
              "    <tr style=\"text-align: right;\">\n",
              "      <th></th>\n",
              "      <th>flight_id</th>\n",
              "      <th>flight_no</th>\n",
              "      <th>flight_duration</th>\n",
              "      <th>city</th>\n",
              "      <th>aircraft_code</th>\n",
              "      <th>total_amount</th>\n",
              "      <th>flight_hour</th>\n",
              "      <th>flight_costs</th>\n",
              "      <th>flight_profit</th>\n",
              "    </tr>\n",
              "  </thead>\n",
              "  <tbody>\n",
              "    <tr>\n",
              "      <th>93</th>\n",
              "      <td>136130</td>\n",
              "      <td>PG0252</td>\n",
              "      <td>01:39:00</td>\n",
              "      <td>Moscow</td>\n",
              "      <td>733</td>\n",
              "      <td>1556600</td>\n",
              "      <td>1.650</td>\n",
              "      <td>156629.8800</td>\n",
              "      <td>1399970</td>\n",
              "    </tr>\n",
              "    <tr>\n",
              "      <th>106</th>\n",
              "      <td>136320</td>\n",
              "      <td>PG0252</td>\n",
              "      <td>01:40:00</td>\n",
              "      <td>Moscow</td>\n",
              "      <td>733</td>\n",
              "      <td>1544400</td>\n",
              "      <td>1.667</td>\n",
              "      <td>158243.6424</td>\n",
              "      <td>1386156</td>\n",
              "    </tr>\n",
              "    <tr>\n",
              "      <th>100</th>\n",
              "      <td>136268</td>\n",
              "      <td>PG0252</td>\n",
              "      <td>01:41:00</td>\n",
              "      <td>Moscow</td>\n",
              "      <td>733</td>\n",
              "      <td>1676200</td>\n",
              "      <td>1.683</td>\n",
              "      <td>159762.4776</td>\n",
              "      <td>1516437</td>\n",
              "    </tr>\n",
              "    <tr>\n",
              "      <th>9</th>\n",
              "      <td>136645</td>\n",
              "      <td>PG0480</td>\n",
              "      <td>00:51:00</td>\n",
              "      <td>Belgorod</td>\n",
              "      <td>SU9</td>\n",
              "      <td>633000</td>\n",
              "      <td>0.850</td>\n",
              "      <td>59873.5750</td>\n",
              "      <td>573126</td>\n",
              "    </tr>\n",
              "    <tr>\n",
              "      <th>109</th>\n",
              "      <td>136511</td>\n",
              "      <td>PG0194</td>\n",
              "      <td>05:10:00</td>\n",
              "      <td>Novokuznetsk</td>\n",
              "      <td>733</td>\n",
              "      <td>0</td>\n",
              "      <td>5.167</td>\n",
              "      <td>490488.8424</td>\n",
              "      <td>-490488</td>\n",
              "    </tr>\n",
              "    <tr>\n",
              "      <th>63</th>\n",
              "      <td>136226</td>\n",
              "      <td>PG0252</td>\n",
              "      <td>01:40:00</td>\n",
              "      <td>Moscow</td>\n",
              "      <td>733</td>\n",
              "      <td>1886000</td>\n",
              "      <td>1.667</td>\n",
              "      <td>165773.1480</td>\n",
              "      <td>1720226</td>\n",
              "    </tr>\n",
              "    <tr>\n",
              "      <th>61</th>\n",
              "      <td>136178</td>\n",
              "      <td>PG0252</td>\n",
              "      <td>01:39:00</td>\n",
              "      <td>Moscow</td>\n",
              "      <td>733</td>\n",
              "      <td>1434600</td>\n",
              "      <td>1.650</td>\n",
              "      <td>164082.6000</td>\n",
              "      <td>1270517</td>\n",
              "    </tr>\n",
              "    <tr>\n",
              "      <th>53</th>\n",
              "      <td>136383</td>\n",
              "      <td>PG0252</td>\n",
              "      <td>01:42:00</td>\n",
              "      <td>Moscow</td>\n",
              "      <td>733</td>\n",
              "      <td>1493200</td>\n",
              "      <td>1.700</td>\n",
              "      <td>169054.8000</td>\n",
              "      <td>1324145</td>\n",
              "    </tr>\n",
              "    <tr>\n",
              "      <th>71</th>\n",
              "      <td>136672</td>\n",
              "      <td>PG0480</td>\n",
              "      <td>00:50:00</td>\n",
              "      <td>Belgorod</td>\n",
              "      <td>SU9</td>\n",
              "      <td>759000</td>\n",
              "      <td>0.833</td>\n",
              "      <td>56011.0033</td>\n",
              "      <td>702988</td>\n",
              "    </tr>\n",
              "    <tr>\n",
              "      <th>12</th>\n",
              "      <td>136209</td>\n",
              "      <td>PG0252</td>\n",
              "      <td>01:40:00</td>\n",
              "      <td>Moscow</td>\n",
              "      <td>733</td>\n",
              "      <td>1615200</td>\n",
              "      <td>1.667</td>\n",
              "      <td>165773.1480</td>\n",
              "      <td>1449426</td>\n",
              "    </tr>\n",
              "    <tr>\n",
              "      <th>3</th>\n",
              "      <td>136458</td>\n",
              "      <td>PG0252</td>\n",
              "      <td>01:39:00</td>\n",
              "      <td>Moscow</td>\n",
              "      <td>733</td>\n",
              "      <td>1568800</td>\n",
              "      <td>1.650</td>\n",
              "      <td>164082.6000</td>\n",
              "      <td>1404717</td>\n",
              "    </tr>\n",
              "    <tr>\n",
              "      <th>31</th>\n",
              "      <td>136172</td>\n",
              "      <td>PG0252</td>\n",
              "      <td>01:39:00</td>\n",
              "      <td>Moscow</td>\n",
              "      <td>733</td>\n",
              "      <td>1617600</td>\n",
              "      <td>1.650</td>\n",
              "      <td>164082.6000</td>\n",
              "      <td>1453517</td>\n",
              "    </tr>\n",
              "    <tr>\n",
              "      <th>23</th>\n",
              "      <td>136366</td>\n",
              "      <td>PG0252</td>\n",
              "      <td>01:39:00</td>\n",
              "      <td>Moscow</td>\n",
              "      <td>733</td>\n",
              "      <td>1527400</td>\n",
              "      <td>1.650</td>\n",
              "      <td>164082.6000</td>\n",
              "      <td>1363317</td>\n",
              "    </tr>\n",
              "    <tr>\n",
              "      <th>36</th>\n",
              "      <td>136471</td>\n",
              "      <td>PG0252</td>\n",
              "      <td>01:40:00</td>\n",
              "      <td>Moscow</td>\n",
              "      <td>733</td>\n",
              "      <td>1762800</td>\n",
              "      <td>1.667</td>\n",
              "      <td>165773.1480</td>\n",
              "      <td>1597026</td>\n",
              "    </tr>\n",
              "    <tr>\n",
              "      <th>102</th>\n",
              "      <td>136452</td>\n",
              "      <td>PG0252</td>\n",
              "      <td>01:40:00</td>\n",
              "      <td>Moscow</td>\n",
              "      <td>733</td>\n",
              "      <td>1603000</td>\n",
              "      <td>1.667</td>\n",
              "      <td>158243.6424</td>\n",
              "      <td>1444756</td>\n",
              "    </tr>\n",
              "  </tbody>\n",
              "</table>\n",
              "</div>"
            ],
            "text/plain": [
              "     flight_id flight_no  ... flight_costs flight_profit\n",
              "93      136130    PG0252  ...  156629.8800       1399970\n",
              "106     136320    PG0252  ...  158243.6424       1386156\n",
              "100     136268    PG0252  ...  159762.4776       1516437\n",
              "9       136645    PG0480  ...   59873.5750        573126\n",
              "109     136511    PG0194  ...  490488.8424       -490488\n",
              "63      136226    PG0252  ...  165773.1480       1720226\n",
              "61      136178    PG0252  ...  164082.6000       1270517\n",
              "53      136383    PG0252  ...  169054.8000       1324145\n",
              "71      136672    PG0480  ...   56011.0033        702988\n",
              "12      136209    PG0252  ...  165773.1480       1449426\n",
              "3       136458    PG0252  ...  164082.6000       1404717\n",
              "31      136172    PG0252  ...  164082.6000       1453517\n",
              "23      136366    PG0252  ...  164082.6000       1363317\n",
              "36      136471    PG0252  ...  165773.1480       1597026\n",
              "102     136452    PG0252  ...  158243.6424       1444756\n",
              "\n",
              "[15 rows x 9 columns]"
            ]
          },
          "metadata": {
            "tags": []
          },
          "execution_count": 42
        }
      ]
    },
    {
      "cell_type": "code",
      "metadata": {
        "id": "9qHYfotpz0xk",
        "outputId": "62568c8a-fc97-4bd8-d8b2-a418ad638240",
        "colab": {
          "base_uri": "https://localhost:8080/"
        }
      },
      "source": [
        "len(fl.columns), fl.columns"
      ],
      "execution_count": 43,
      "outputs": [
        {
          "output_type": "execute_result",
          "data": {
            "text/plain": [
              "(9,\n",
              " Index(['flight_id', 'flight_no', 'flight_duration', 'city', 'aircraft_code',\n",
              "        'total_amount', 'flight_hour', 'flight_costs', 'flight_profit'],\n",
              "       dtype='object'))"
            ]
          },
          "metadata": {
            "tags": []
          },
          "execution_count": 43
        }
      ]
    },
    {
      "cell_type": "code",
      "metadata": {
        "id": "AtFClOw43GhN",
        "outputId": "909a204f-7e78-4a24-f41f-617f9c415c18",
        "colab": {
          "base_uri": "https://localhost:8080/"
        }
      },
      "source": [
        "fl.groupby(['city'])['total_amount'].sum()"
      ],
      "execution_count": 63,
      "outputs": [
        {
          "output_type": "execute_result",
          "data": {
            "text/plain": [
              "city\n",
              "Belgorod        41915700\n",
              "Moscow          96912000\n",
              "Novokuznetsk           0\n",
              "Name: total_amount, dtype: int64"
            ]
          },
          "metadata": {
            "tags": []
          },
          "execution_count": 63
        }
      ]
    },
    {
      "cell_type": "code",
      "metadata": {
        "id": "7G30YDd2z0sZ",
        "outputId": "add65aca-0580-40d0-d738-d88cf722bbd5",
        "colab": {
          "base_uri": "https://localhost:8080/"
        }
      },
      "source": [
        "fl[fl['total_amount'] <= 0].groupby(['city'])['flight_no'].count()\n"
      ],
      "execution_count": 97,
      "outputs": [
        {
          "output_type": "execute_result",
          "data": {
            "text/plain": [
              "Series([], Name: flight_no, dtype: int64)"
            ]
          },
          "metadata": {
            "tags": []
          },
          "execution_count": 97
        }
      ]
    },
    {
      "cell_type": "code",
      "metadata": {
        "id": "8bARvJql4hED",
        "outputId": "253a6736-3c9d-471c-d468-ff7f3ea5b4b7",
        "colab": {
          "base_uri": "https://localhost:8080/",
          "height": 328
        }
      },
      "source": [
        "fl.query('total_amount <= 0')"
      ],
      "execution_count": 73,
      "outputs": [
        {
          "output_type": "execute_result",
          "data": {
            "text/html": [
              "<div>\n",
              "<style scoped>\n",
              "    .dataframe tbody tr th:only-of-type {\n",
              "        vertical-align: middle;\n",
              "    }\n",
              "\n",
              "    .dataframe tbody tr th {\n",
              "        vertical-align: top;\n",
              "    }\n",
              "\n",
              "    .dataframe thead th {\n",
              "        text-align: right;\n",
              "    }\n",
              "</style>\n",
              "<table border=\"1\" class=\"dataframe\">\n",
              "  <thead>\n",
              "    <tr style=\"text-align: right;\">\n",
              "      <th></th>\n",
              "      <th>flight_id</th>\n",
              "      <th>flight_no</th>\n",
              "      <th>flight_duration</th>\n",
              "      <th>city</th>\n",
              "      <th>aircraft_code</th>\n",
              "      <th>total_amount</th>\n",
              "      <th>flight_hour</th>\n",
              "      <th>flight_costs</th>\n",
              "      <th>flight_profit</th>\n",
              "    </tr>\n",
              "  </thead>\n",
              "  <tbody>\n",
              "    <tr>\n",
              "      <th>4</th>\n",
              "      <td>136546</td>\n",
              "      <td>PG0194</td>\n",
              "      <td>05:02:00</td>\n",
              "      <td>Novokuznetsk</td>\n",
              "      <td>733</td>\n",
              "      <td>0</td>\n",
              "      <td>5.033</td>\n",
              "      <td>500501.6520</td>\n",
              "      <td>-500501</td>\n",
              "    </tr>\n",
              "    <tr>\n",
              "      <th>19</th>\n",
              "      <td>136523</td>\n",
              "      <td>PG0194</td>\n",
              "      <td>05:12:00</td>\n",
              "      <td>Novokuznetsk</td>\n",
              "      <td>733</td>\n",
              "      <td>0</td>\n",
              "      <td>5.200</td>\n",
              "      <td>517108.8000</td>\n",
              "      <td>-517108</td>\n",
              "    </tr>\n",
              "    <tr>\n",
              "      <th>34</th>\n",
              "      <td>136540</td>\n",
              "      <td>PG0194</td>\n",
              "      <td>05:07:00</td>\n",
              "      <td>Novokuznetsk</td>\n",
              "      <td>733</td>\n",
              "      <td>0</td>\n",
              "      <td>5.117</td>\n",
              "      <td>508854.9480</td>\n",
              "      <td>-508854</td>\n",
              "    </tr>\n",
              "    <tr>\n",
              "      <th>49</th>\n",
              "      <td>136560</td>\n",
              "      <td>PG0194</td>\n",
              "      <td>05:05:00</td>\n",
              "      <td>Novokuznetsk</td>\n",
              "      <td>733</td>\n",
              "      <td>0</td>\n",
              "      <td>5.083</td>\n",
              "      <td>505473.8520</td>\n",
              "      <td>-505473</td>\n",
              "    </tr>\n",
              "    <tr>\n",
              "      <th>64</th>\n",
              "      <td>136544</td>\n",
              "      <td>PG0194</td>\n",
              "      <td>05:04:00</td>\n",
              "      <td>Novokuznetsk</td>\n",
              "      <td>733</td>\n",
              "      <td>0</td>\n",
              "      <td>5.067</td>\n",
              "      <td>503882.7480</td>\n",
              "      <td>-503882</td>\n",
              "    </tr>\n",
              "    <tr>\n",
              "      <th>79</th>\n",
              "      <td>136514</td>\n",
              "      <td>PG0194</td>\n",
              "      <td>04:59:00</td>\n",
              "      <td>Novokuznetsk</td>\n",
              "      <td>733</td>\n",
              "      <td>0</td>\n",
              "      <td>4.983</td>\n",
              "      <td>473022.2376</td>\n",
              "      <td>-473022</td>\n",
              "    </tr>\n",
              "    <tr>\n",
              "      <th>94</th>\n",
              "      <td>136567</td>\n",
              "      <td>PG0194</td>\n",
              "      <td>05:11:00</td>\n",
              "      <td>Novokuznetsk</td>\n",
              "      <td>733</td>\n",
              "      <td>0</td>\n",
              "      <td>5.183</td>\n",
              "      <td>492007.6776</td>\n",
              "      <td>-492007</td>\n",
              "    </tr>\n",
              "    <tr>\n",
              "      <th>109</th>\n",
              "      <td>136511</td>\n",
              "      <td>PG0194</td>\n",
              "      <td>05:10:00</td>\n",
              "      <td>Novokuznetsk</td>\n",
              "      <td>733</td>\n",
              "      <td>0</td>\n",
              "      <td>5.167</td>\n",
              "      <td>490488.8424</td>\n",
              "      <td>-490488</td>\n",
              "    </tr>\n",
              "    <tr>\n",
              "      <th>124</th>\n",
              "      <td>136513</td>\n",
              "      <td>PG0194</td>\n",
              "      <td>05:10:00</td>\n",
              "      <td>Novokuznetsk</td>\n",
              "      <td>733</td>\n",
              "      <td>0</td>\n",
              "      <td>5.167</td>\n",
              "      <td>490488.8424</td>\n",
              "      <td>-490488</td>\n",
              "    </tr>\n",
              "  </tbody>\n",
              "</table>\n",
              "</div>"
            ],
            "text/plain": [
              "     flight_id flight_no  ... flight_costs flight_profit\n",
              "4       136546    PG0194  ...  500501.6520       -500501\n",
              "19      136523    PG0194  ...  517108.8000       -517108\n",
              "34      136540    PG0194  ...  508854.9480       -508854\n",
              "49      136560    PG0194  ...  505473.8520       -505473\n",
              "64      136544    PG0194  ...  503882.7480       -503882\n",
              "79      136514    PG0194  ...  473022.2376       -473022\n",
              "94      136567    PG0194  ...  492007.6776       -492007\n",
              "109     136511    PG0194  ...  490488.8424       -490488\n",
              "124     136513    PG0194  ...  490488.8424       -490488\n",
              "\n",
              "[9 rows x 9 columns]"
            ]
          },
          "metadata": {
            "tags": []
          },
          "execution_count": 73
        }
      ]
    },
    {
      "cell_type": "code",
      "metadata": {
        "id": "a7hjv2Qj4stL"
      },
      "source": [
        "fl = fl.query('total_amount > 0')\n",
        "fl.shape"
      ],
      "execution_count": 74,
      "outputs": []
    },
    {
      "cell_type": "code",
      "metadata": {
        "id": "SnngbgbU43rf",
        "outputId": "bc4a2d26-3c73-4754-fcb2-772782f94348",
        "colab": {
          "base_uri": "https://localhost:8080/"
        }
      },
      "source": [
        "# fl['flight_profit'].idxmin(axis=\"columns\")\n",
        "\n",
        "fl.iloc[fl['flight_profit'].idxmin()]"
      ],
      "execution_count": 89,
      "outputs": [
        {
          "output_type": "execute_result",
          "data": {
            "text/plain": [
              "flight_id            136900\n",
              "flight_no            PG0480\n",
              "flight_duration    00:51:00\n",
              "city               Belgorod\n",
              "aircraft_code           SU9\n",
              "total_amount         765300\n",
              "flight_hour            0.85\n",
              "flight_costs        57154.1\n",
              "flight_profit        708145\n",
              "Name: 67, dtype: object"
            ]
          },
          "metadata": {
            "tags": []
          },
          "execution_count": 89
        }
      ]
    },
    {
      "cell_type": "code",
      "metadata": {
        "id": "4cxBnPUIz0mR",
        "outputId": "6ae43d5c-7aff-46b4-8783-758ac85037e6",
        "colab": {
          "base_uri": "https://localhost:8080/"
        }
      },
      "source": [
        "fl['flight_profit'].min()"
      ],
      "execution_count": 78,
      "outputs": [
        {
          "output_type": "execute_result",
          "data": {
            "text/plain": [
              "473450"
            ]
          },
          "metadata": {
            "tags": []
          },
          "execution_count": 78
        }
      ]
    },
    {
      "cell_type": "code",
      "metadata": {
        "id": "7AeimF-Rz0f-",
        "outputId": "ce82f918-2f94-41b8-d88c-8ca966352f8d",
        "colab": {
          "base_uri": "https://localhost:8080/"
        }
      },
      "source": [
        "fl['flight_profit'].max()"
      ],
      "execution_count": 79,
      "outputs": [
        {
          "output_type": "execute_result",
          "data": {
            "text/plain": [
              "1720226"
            ]
          },
          "metadata": {
            "tags": []
          },
          "execution_count": 79
        }
      ]
    },
    {
      "cell_type": "code",
      "metadata": {
        "id": "--dV-kADz0aB",
        "outputId": "97afaa07-451d-41cb-9649-a2d46582ccf5",
        "colab": {
          "base_uri": "https://localhost:8080/"
        }
      },
      "source": [
        "fl.groupby('flight_no')['flight_profit'].sum()"
      ],
      "execution_count": 99,
      "outputs": [
        {
          "output_type": "execute_result",
          "data": {
            "text/plain": [
              "flight_no\n",
              "PG0252    87360076\n",
              "PG0480    38521815\n",
              "Name: flight_profit, dtype: int64"
            ]
          },
          "metadata": {
            "tags": []
          },
          "execution_count": 99
        }
      ]
    },
    {
      "cell_type": "code",
      "metadata": {
        "id": "-Cc_UoGWz0UO"
      },
      "source": [
        ""
      ],
      "execution_count": 43,
      "outputs": []
    },
    {
      "cell_type": "code",
      "metadata": {
        "id": "PzcNmTX6z0Pn"
      },
      "source": [
        ""
      ],
      "execution_count": 43,
      "outputs": []
    }
  ]
}