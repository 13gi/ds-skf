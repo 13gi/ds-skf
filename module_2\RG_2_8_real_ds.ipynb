{
  "nbformat": 4,
  "nbformat_minor": 0,
  "metadata": {
    "colab": {
      "name": "RG_2.8-real_ds.ipynb",
      "provenance": [],
      "collapsed_sections": [],
      "toc_visible": true
    },
    "kernelspec": {
      "display_name": "Python 3",
      "language": "python",
      "name": "python3"
    },
    "language_info": {
      "codemirror_mode": {
        "name": "ipython",
        "version": 3
      },
      "file_extension": ".py",
      "mimetype": "text/x-python",
      "name": "python",
      "nbconvert_exporter": "python",
      "pygments_lexer": "ipython3",
      "version": "3.7.6"
    }
  },
  "cells": [
    {
      "cell_type": "markdown",
      "metadata": {
        "id": "8HCMxYB63si4",
        "colab_type": "text"
      },
      "source": [
        "# О проекте\n"
      ]
    },
    {
      "cell_type": "markdown",
      "metadata": {
        "id": "CjpvOCka3si6",
        "colab_type": "text"
      },
      "source": [
        "Задание относится к проекту UNICEF — международного подразделения ООН, чья миссия состоит в повышении уровня благополучия детей по всему миру. \n"
      ]
    },
    {
      "cell_type": "markdown",
      "metadata": {
        "id": "nqrliaUk3si7",
        "colab_type": "text"
      },
      "source": [
        "## Цель проекта"
      ]
    },
    {
      "cell_type": "markdown",
      "metadata": {
        "id": "EuFTyOWd3si9",
        "colab_type": "text"
      },
      "source": [
        "Отследить влияние условий жизни учащихся в возрасте от 15 до 22 лет на их успеваемость по математике, чтобы на ранней стадии выявлять студентов, находящихся в группе риска."
      ]
    },
    {
      "cell_type": "markdown",
      "metadata": {
        "id": "VVjy1cne3si-",
        "colab_type": "text"
      },
      "source": [
        "## Средства достижения целей"
      ]
    },
    {
      "cell_type": "markdown",
      "metadata": {
        "id": "uGPX3eXA3si_",
        "colab_type": "text"
      },
      "source": [
        "Реализовать достижение целей можно с помощью модели, которая предсказывала бы результаты госэкзамена по математике для каждого ученика школы."
      ]
    },
    {
      "cell_type": "markdown",
      "metadata": {
        "id": "ft47-lRf3sjA",
        "colab_type": "text"
      },
      "source": [
        "## Задача проекта"
      ]
    },
    {
      "cell_type": "markdown",
      "metadata": {
        "id": "u9hzNfOv3sjC",
        "colab_type": "text"
      },
      "source": [
        "Чтобы определиться с параметрами будущей модели, нужно провести разведывательный анализ данных и составьте отчёт по его результатам."
      ]
    },
    {
      "cell_type": "code",
      "metadata": {
        "id": "zBVJZdcB3sjD",
        "colab_type": "code",
        "colab": {}
      },
      "source": [
        ""
      ],
      "execution_count": 6,
      "outputs": []
    },
    {
      "cell_type": "markdown",
      "metadata": {
        "id": "x3HbT4aN3sjJ",
        "colab_type": "text"
      },
      "source": [
        "## Импорт библиотек"
      ]
    },
    {
      "cell_type": "code",
      "metadata": {
        "_cell_guid": "b1076dfc-b9ad-4769-8c92-a6c4dae69d19",
        "_uuid": "8f2839f25d086af736a60e9eeb907d3b93b6e0e5",
        "colab_type": "code",
        "id": "U2D2gTdJVp90",
        "colab": {}
      },
      "source": [
        "import warnings; warnings.simplefilter('ignore')\n",
        "\n",
        "import pandas as pd\n",
        "import numpy as np\n",
        "import os\n",
        "import re\n",
        "import math\n",
        "\n",
        "import matplotlib.pyplot as plt\n",
        "import seaborn as sns\n",
        "import cufflinks as cf\n",
        "from plotly.offline import download_plotlyjs, init_notebook_mode, plot, iplot\n",
        "\n",
        "from itertools import combinations\n",
        "\n",
        "from scipy.stats import ttest_ind\n",
        "from scipy.stats import norm\n",
        "from scipy.stats import t\n",
        "from statsmodels.stats import weightstats \n",
        "\n",
        "\n",
        "%matplotlib inline"
      ],
      "execution_count": 7,
      "outputs": []
    },
    {
      "cell_type": "markdown",
      "metadata": {
        "colab_type": "text",
        "id": "DTIt7ezGVp-G"
      },
      "source": [
        "### Инструменты для предобработки"
      ]
    },
    {
      "cell_type": "code",
      "metadata": {
        "colab_type": "code",
        "id": "jNb40DwKVp-H",
        "scrolled": true,
        "colab": {
          "base_uri": "https://localhost:8080/",
          "height": 289
        },
        "outputId": "e4e8b47d-257d-4845-9a7a-5cb7854dc6a2"
      },
      "source": [
        "# \n",
        "def column_content_analysis(column_name_list, column_type='str', more_than = 10):\n",
        "    '''\n",
        "        Функция для определения типовых параметров данных, а также определние \"замусоренности\".\n",
        "        На вход принимает список столбцов датафрейма\n",
        "    '''\n",
        "    # проходим циклом по списку колонок    \n",
        "    for column_name in column_name_list:\n",
        "        print('-'*60)\n",
        "        print('|\\t' , 'Отчет по колонке [', column_name, ']', '\\t'*5)\n",
        "        print('-'*60)\n",
        "        if column_name not in stud.columns:\n",
        "            print('|  Внимание!!! Указанная колонка не найдена в датасете. \\n')\n",
        "            break\n",
        "\n",
        "        col_count = stud[column_name].count()\n",
        "        col_type = stud[column_name].dtype\n",
        "        print('|  Тип данных:', col_type) \n",
        "        print('|  Заполнено значений:',  col_count, 'из', row_count)\n",
        "        print('|  Отсутсвующие значения:', row_count - col_count)\n",
        "        print('|  Полнота данных: ', round(col_count / row_count * 100 ,2), '%', sep='')\n",
        "        print('|  Количество уникальных значений:', stud[column_name].nunique())\n",
        "\n",
        "        print('|  Значений, встретившихся в столбце более', more_than,'раз:', \n",
        "              (stud[column_name].value_counts() > more_than).sum())\n",
        "\n",
        "        if col_type == 'object':\n",
        "            # Количество пробелов в начале в конце строки\n",
        "            print('|  Количество раз пробелы найдены:')\n",
        "            find_list = [len(re.findall(r'^\\s+\\w?', str(x))) for x in stud[column_name]]\n",
        "            print('|    в начале строки:', sum(find_list))\n",
        "            \n",
        "            find_list = [len(re.findall(r'\\w?\\s+$', str(x))) for x in stud[column_name]]\n",
        "            print('|    в конце  строки:', sum(find_list))\n",
        "            \n",
        "            find_list = [len(re.findall(r'[^\\s\\d\\w]', str(x))) for x in stud[column_name]]\n",
        "            print('|  Количество найденных специальных символов:', sum(find_list))\n",
        "        \n",
        "        if col_type in ['int', 'float']:\n",
        "            print('|  Медиана: ', stud[column_name].median())\n",
        "            # perc25 = stud[column_name].quantile(0.25)\n",
        "            perc25 = stud[column_name].describe().loc['25%']\n",
        "            # perc75 = stud[column_name].quantile(0.75)\n",
        "            perc75 = stud[column_name].describe().loc['75%']\n",
        "            iqr = perc75 - perc25\n",
        "            range_left = perc25 - 1.5 * iqr\n",
        "            range_right = perc75 + 1.5 * iqr\n",
        "            # print('|  25-й перцентиль:', round(perc25, 2))\n",
        "            # print('|  75-й перцентиль:', round(perc75, 2))\n",
        "            # Границы выбросов\n",
        "            print('|  IQR: ', iqr, '; границы выбросов: [', round(range_left, 2), '; ', round(range_right,2),']' , sep='')\n",
        "            out_of_range_left = stud[column_name].loc[stud[column_name] < range_left]\n",
        "            out_of_range_right = stud[column_name].loc[stud[column_name] > range_right]\n",
        "            out_of_range = len(out_of_range_left) + len(out_of_range_right)\n",
        "            if out_of_range > 0:\n",
        "                print('|  Данные СОДЕРЖАТ выбросы, количество значений: ', out_of_range)\n",
        "                if len(out_of_range_left) > 0:\n",
        "                    print('|    Слева  от IQR (уникальные):', out_of_range_left.unique())\n",
        "                if len(out_of_range_right) > 0:\n",
        "                    print('|    Справа от IQR (уникальные):', out_of_range_right.unique())\n",
        "         \n",
        "        print('|---\\n|  Все уникальные значения:', stud[column_name].unique() , '\\n')\n",
        "        \n",
        "\n",
        "    # end function\n",
        "\n",
        "\n",
        "\n",
        "# column_content_analysis(['age'])\n",
        "\n"
      ],
      "execution_count": 121,
      "outputs": [
        {
          "output_type": "stream",
          "text": [
            "------------------------------------------------------------\n",
            "|\t Отчет по колонке [ age ] \t\t\t\t\t\n",
            "------------------------------------------------------------\n",
            "|  Тип данных: int64\n",
            "|  Заполнено значений: 395 из 395\n",
            "|  Отсутсвующие значения: 0\n",
            "|  Полнота данных: 100.0%\n",
            "|  Количество уникальных значений: 8\n",
            "|  Значений, встретившихся в столбце более 10 раз: 5\n",
            "|  Медиана:  17.0\n",
            "|  IQR: 2.0; границы выбросов: [13.0; 21.0]\n",
            "|  Данные СОДЕРЖАТ выбросы, количество значений:  1\n",
            "|    Справа от IQR (уникальные): [22]\n",
            "|---\n",
            "|  Все уникальные значения: [18 17 15 16 19 22 20 21] \n",
            "\n"
          ],
          "name": "stdout"
        }
      ]
    },
    {
      "cell_type": "code",
      "metadata": {
        "id": "XuaRWpBr3sjR",
        "colab_type": "code",
        "colab": {}
      },
      "source": [
        "# \n",
        "def column_iqr_range(column_name):\n",
        "    '''\n",
        "        Функция для расчета промежутка IQR\n",
        "    '''\n",
        "    if column_name in stud.columns and stud[column_name].dtype in ['int', 'float']:\n",
        "        perc25 = stud[column_name].describe().loc['25%']\n",
        "        perc75 = stud[column_name].describe().loc['75%']\n",
        "        iqr = perc75 - perc25\n",
        "        range_left = perc25 - 1.5 * iqr\n",
        "        range_right = perc75 + 1.5 * iqr\n",
        "        return range_left, range_right\n",
        "    else:\n",
        "        return None\n",
        "        # out_of_range_left = stud[column_name].loc[stud[column_name] < range_left]\n",
        "        # out_of_range_right = stud[column_name].loc[stud[column_name] > range_right]\n",
        "        # out_of_range = len(out_of_range_left) + len(out_of_range_right)\n",
        "\n",
        "\n",
        "    # end function\n",
        "\n"
      ],
      "execution_count": 9,
      "outputs": []
    },
    {
      "cell_type": "code",
      "metadata": {
        "id": "0Pta-ZxNEGWa",
        "colab_type": "code",
        "colab": {}
      },
      "source": [
        ""
      ],
      "execution_count": 9,
      "outputs": []
    },
    {
      "cell_type": "markdown",
      "metadata": {
        "id": "4JXqiFuR3sjT",
        "colab_type": "text"
      },
      "source": [
        "### Загрузка первичных данных"
      ]
    },
    {
      "cell_type": "code",
      "metadata": {
        "id": "RFG3edzc3sjU",
        "colab_type": "code",
        "colab": {
          "base_uri": "https://localhost:8080/",
          "height": 136
        },
        "outputId": "0612f4e1-7b27-4b8e-b447-e434bebc7df0"
      },
      "source": [
        "# \n",
        "incoming_files = 'stud_math.csv'\n",
        "\n",
        "# \n",
        "if incoming_files not in os.listdir():\n",
        "    print('\\n!!! ВНИМАНИЕ !!!'*5)\n",
        "    print('Не найден входной файл данных:', incoming_files)\n",
        "    incoming_files = r'/content/drive/My Drive/Colab Notebooks/module_2/stud_math.csv'\n",
        "else:\n",
        "    print(r'[OK] Успешно пройдена проверка наличия входного файла датасета.')\n"
      ],
      "execution_count": 10,
      "outputs": [
        {
          "output_type": "stream",
          "text": [
            "\n",
            "!!! ВНИМАНИЕ !!!\n",
            "!!! ВНИМАНИЕ !!!\n",
            "!!! ВНИМАНИЕ !!!\n",
            "!!! ВНИМАНИЕ !!!\n",
            "!!! ВНИМАНИЕ !!!\n",
            "Не найден входной файл данных: stud_math.csv\n"
          ],
          "name": "stdout"
        }
      ]
    },
    {
      "cell_type": "code",
      "metadata": {
        "id": "esJXgYwk3sjY",
        "colab_type": "code",
        "colab": {}
      },
      "source": [
        "# \n",
        "stud = pd.read_csv(incoming_files)\n",
        "\n",
        "# \n",
        "row_count, col_count = stud.shape\n",
        "\n"
      ],
      "execution_count": 11,
      "outputs": []
    },
    {
      "cell_type": "code",
      "metadata": {
        "id": "otT3bsdu5zus",
        "colab_type": "code",
        "colab": {
          "base_uri": "https://localhost:8080/",
          "height": 51
        },
        "outputId": "7af61012-7b5e-4319-8ef6-ecb58a0262ca"
      },
      "source": [
        "print('Количество строк датасета:', row_count,'\\nКоличество столбцов датасета:', col_count)"
      ],
      "execution_count": 12,
      "outputs": [
        {
          "output_type": "stream",
          "text": [
            "Количество строк датасета: 395 \n",
            "Количество столбцов датасета: 30\n"
          ],
          "name": "stdout"
        }
      ]
    },
    {
      "cell_type": "code",
      "metadata": {
        "id": "cDZRZcPg3sja",
        "colab_type": "code",
        "colab": {}
      },
      "source": [
        "# показывать больше строк\n",
        "pd.set_option('display.max_rows', 50)\n",
        "\n",
        "# показывать больше колонок\n",
        "pd.set_option('display.max_columns', col_count + 5) "
      ],
      "execution_count": 13,
      "outputs": []
    },
    {
      "cell_type": "markdown",
      "metadata": {
        "id": "zRQy5nUR3sjc",
        "colab_type": "text"
      },
      "source": [
        "### Первичный осмотр данных"
      ]
    },
    {
      "cell_type": "code",
      "metadata": {
        "id": "blL1168Y3sjd",
        "colab_type": "code",
        "colab": {
          "base_uri": "https://localhost:8080/",
          "height": 365
        },
        "outputId": "05d58793-c76d-4064-a103-2ce3a82a40bd"
      },
      "source": [
        "stud.sample(9)"
      ],
      "execution_count": 14,
      "outputs": [
        {
          "output_type": "execute_result",
          "data": {
            "text/html": [
              "<div>\n",
              "<style scoped>\n",
              "    .dataframe tbody tr th:only-of-type {\n",
              "        vertical-align: middle;\n",
              "    }\n",
              "\n",
              "    .dataframe tbody tr th {\n",
              "        vertical-align: top;\n",
              "    }\n",
              "\n",
              "    .dataframe thead th {\n",
              "        text-align: right;\n",
              "    }\n",
              "</style>\n",
              "<table border=\"1\" class=\"dataframe\">\n",
              "  <thead>\n",
              "    <tr style=\"text-align: right;\">\n",
              "      <th></th>\n",
              "      <th>school</th>\n",
              "      <th>sex</th>\n",
              "      <th>age</th>\n",
              "      <th>address</th>\n",
              "      <th>famsize</th>\n",
              "      <th>Pstatus</th>\n",
              "      <th>Medu</th>\n",
              "      <th>Fedu</th>\n",
              "      <th>Mjob</th>\n",
              "      <th>Fjob</th>\n",
              "      <th>reason</th>\n",
              "      <th>guardian</th>\n",
              "      <th>traveltime</th>\n",
              "      <th>studytime</th>\n",
              "      <th>failures</th>\n",
              "      <th>schoolsup</th>\n",
              "      <th>famsup</th>\n",
              "      <th>paid</th>\n",
              "      <th>activities</th>\n",
              "      <th>nursery</th>\n",
              "      <th>studytime, granular</th>\n",
              "      <th>higher</th>\n",
              "      <th>internet</th>\n",
              "      <th>romantic</th>\n",
              "      <th>famrel</th>\n",
              "      <th>freetime</th>\n",
              "      <th>goout</th>\n",
              "      <th>health</th>\n",
              "      <th>absences</th>\n",
              "      <th>score</th>\n",
              "    </tr>\n",
              "  </thead>\n",
              "  <tbody>\n",
              "    <tr>\n",
              "      <th>319</th>\n",
              "      <td>GP</td>\n",
              "      <td>F</td>\n",
              "      <td>18</td>\n",
              "      <td>U</td>\n",
              "      <td>GT3</td>\n",
              "      <td>T</td>\n",
              "      <td>4.0</td>\n",
              "      <td>4.0</td>\n",
              "      <td>teacher</td>\n",
              "      <td>other</td>\n",
              "      <td>course</td>\n",
              "      <td>mother</td>\n",
              "      <td>1.0</td>\n",
              "      <td>2.0</td>\n",
              "      <td>0.0</td>\n",
              "      <td>no</td>\n",
              "      <td>yes</td>\n",
              "      <td>NaN</td>\n",
              "      <td>no</td>\n",
              "      <td>yes</td>\n",
              "      <td>-6.0</td>\n",
              "      <td>yes</td>\n",
              "      <td>yes</td>\n",
              "      <td>no</td>\n",
              "      <td>4.0</td>\n",
              "      <td>4.0</td>\n",
              "      <td>4.0</td>\n",
              "      <td>5.0</td>\n",
              "      <td>2.0</td>\n",
              "      <td>55.0</td>\n",
              "    </tr>\n",
              "    <tr>\n",
              "      <th>385</th>\n",
              "      <td>MS</td>\n",
              "      <td>F</td>\n",
              "      <td>18</td>\n",
              "      <td>R</td>\n",
              "      <td>GT3</td>\n",
              "      <td>T</td>\n",
              "      <td>2.0</td>\n",
              "      <td>2.0</td>\n",
              "      <td>at_home</td>\n",
              "      <td>other</td>\n",
              "      <td>other</td>\n",
              "      <td>NaN</td>\n",
              "      <td>NaN</td>\n",
              "      <td>3.0</td>\n",
              "      <td>0.0</td>\n",
              "      <td>no</td>\n",
              "      <td>no</td>\n",
              "      <td>yes</td>\n",
              "      <td>no</td>\n",
              "      <td>yes</td>\n",
              "      <td>-9.0</td>\n",
              "      <td>yes</td>\n",
              "      <td>NaN</td>\n",
              "      <td>no</td>\n",
              "      <td>5.0</td>\n",
              "      <td>3.0</td>\n",
              "      <td>3.0</td>\n",
              "      <td>4.0</td>\n",
              "      <td>2.0</td>\n",
              "      <td>50.0</td>\n",
              "    </tr>\n",
              "    <tr>\n",
              "      <th>389</th>\n",
              "      <td>MS</td>\n",
              "      <td>F</td>\n",
              "      <td>18</td>\n",
              "      <td>U</td>\n",
              "      <td>GT3</td>\n",
              "      <td>T</td>\n",
              "      <td>1.0</td>\n",
              "      <td>1.0</td>\n",
              "      <td>other</td>\n",
              "      <td>other</td>\n",
              "      <td>course</td>\n",
              "      <td>mother</td>\n",
              "      <td>NaN</td>\n",
              "      <td>2.0</td>\n",
              "      <td>1.0</td>\n",
              "      <td>no</td>\n",
              "      <td>no</td>\n",
              "      <td>no</td>\n",
              "      <td>yes</td>\n",
              "      <td>yes</td>\n",
              "      <td>-6.0</td>\n",
              "      <td>yes</td>\n",
              "      <td>NaN</td>\n",
              "      <td>no</td>\n",
              "      <td>1.0</td>\n",
              "      <td>1.0</td>\n",
              "      <td>1.0</td>\n",
              "      <td>5.0</td>\n",
              "      <td>0.0</td>\n",
              "      <td>0.0</td>\n",
              "    </tr>\n",
              "    <tr>\n",
              "      <th>273</th>\n",
              "      <td>GP</td>\n",
              "      <td>M</td>\n",
              "      <td>17</td>\n",
              "      <td>R</td>\n",
              "      <td>GT3</td>\n",
              "      <td>T</td>\n",
              "      <td>1.0</td>\n",
              "      <td>2.0</td>\n",
              "      <td>at_home</td>\n",
              "      <td>at_home</td>\n",
              "      <td>home</td>\n",
              "      <td>mother</td>\n",
              "      <td>1.0</td>\n",
              "      <td>2.0</td>\n",
              "      <td>0.0</td>\n",
              "      <td>no</td>\n",
              "      <td>yes</td>\n",
              "      <td>yes</td>\n",
              "      <td>yes</td>\n",
              "      <td>no</td>\n",
              "      <td>-6.0</td>\n",
              "      <td>yes</td>\n",
              "      <td>NaN</td>\n",
              "      <td>yes</td>\n",
              "      <td>3.0</td>\n",
              "      <td>5.0</td>\n",
              "      <td>2.0</td>\n",
              "      <td>1.0</td>\n",
              "      <td>2.0</td>\n",
              "      <td>70.0</td>\n",
              "    </tr>\n",
              "    <tr>\n",
              "      <th>325</th>\n",
              "      <td>GP</td>\n",
              "      <td>M</td>\n",
              "      <td>18</td>\n",
              "      <td>U</td>\n",
              "      <td>GT3</td>\n",
              "      <td>T</td>\n",
              "      <td>4.0</td>\n",
              "      <td>4.0</td>\n",
              "      <td>other</td>\n",
              "      <td>other</td>\n",
              "      <td>course</td>\n",
              "      <td>mother</td>\n",
              "      <td>1.0</td>\n",
              "      <td>3.0</td>\n",
              "      <td>0.0</td>\n",
              "      <td>no</td>\n",
              "      <td>no</td>\n",
              "      <td>no</td>\n",
              "      <td>yes</td>\n",
              "      <td>yes</td>\n",
              "      <td>-9.0</td>\n",
              "      <td>yes</td>\n",
              "      <td>yes</td>\n",
              "      <td>no</td>\n",
              "      <td>4.0</td>\n",
              "      <td>3.0</td>\n",
              "      <td>3.0</td>\n",
              "      <td>3.0</td>\n",
              "      <td>3.0</td>\n",
              "      <td>55.0</td>\n",
              "    </tr>\n",
              "    <tr>\n",
              "      <th>225</th>\n",
              "      <td>GP</td>\n",
              "      <td>F</td>\n",
              "      <td>18</td>\n",
              "      <td>R</td>\n",
              "      <td>GT3</td>\n",
              "      <td>T</td>\n",
              "      <td>3.0</td>\n",
              "      <td>1.0</td>\n",
              "      <td>other</td>\n",
              "      <td>other</td>\n",
              "      <td>reputation</td>\n",
              "      <td>mother</td>\n",
              "      <td>1.0</td>\n",
              "      <td>2.0</td>\n",
              "      <td>1.0</td>\n",
              "      <td>no</td>\n",
              "      <td>no</td>\n",
              "      <td>no</td>\n",
              "      <td>yes</td>\n",
              "      <td>yes</td>\n",
              "      <td>-6.0</td>\n",
              "      <td>yes</td>\n",
              "      <td>yes</td>\n",
              "      <td>yes</td>\n",
              "      <td>5.0</td>\n",
              "      <td>3.0</td>\n",
              "      <td>3.0</td>\n",
              "      <td>4.0</td>\n",
              "      <td>16.0</td>\n",
              "      <td>35.0</td>\n",
              "    </tr>\n",
              "    <tr>\n",
              "      <th>193</th>\n",
              "      <td>GP</td>\n",
              "      <td>M</td>\n",
              "      <td>16</td>\n",
              "      <td>R</td>\n",
              "      <td>GT3</td>\n",
              "      <td>NaN</td>\n",
              "      <td>NaN</td>\n",
              "      <td>3.0</td>\n",
              "      <td>services</td>\n",
              "      <td>services</td>\n",
              "      <td>reputation</td>\n",
              "      <td>mother</td>\n",
              "      <td>1.0</td>\n",
              "      <td>1.0</td>\n",
              "      <td>0.0</td>\n",
              "      <td>no</td>\n",
              "      <td>yes</td>\n",
              "      <td>no</td>\n",
              "      <td>yes</td>\n",
              "      <td>yes</td>\n",
              "      <td>-3.0</td>\n",
              "      <td>yes</td>\n",
              "      <td>yes</td>\n",
              "      <td>no</td>\n",
              "      <td>4.0</td>\n",
              "      <td>3.0</td>\n",
              "      <td>2.0</td>\n",
              "      <td>5.0</td>\n",
              "      <td>8.0</td>\n",
              "      <td>50.0</td>\n",
              "    </tr>\n",
              "    <tr>\n",
              "      <th>336</th>\n",
              "      <td>GP</td>\n",
              "      <td>F</td>\n",
              "      <td>19</td>\n",
              "      <td>R</td>\n",
              "      <td>GT3</td>\n",
              "      <td>A</td>\n",
              "      <td>3.0</td>\n",
              "      <td>1.0</td>\n",
              "      <td>services</td>\n",
              "      <td>NaN</td>\n",
              "      <td>home</td>\n",
              "      <td>other</td>\n",
              "      <td>1.0</td>\n",
              "      <td>3.0</td>\n",
              "      <td>1.0</td>\n",
              "      <td>no</td>\n",
              "      <td>no</td>\n",
              "      <td>yes</td>\n",
              "      <td>no</td>\n",
              "      <td>NaN</td>\n",
              "      <td>-9.0</td>\n",
              "      <td>yes</td>\n",
              "      <td>no</td>\n",
              "      <td>no</td>\n",
              "      <td>5.0</td>\n",
              "      <td>4.0</td>\n",
              "      <td>3.0</td>\n",
              "      <td>5.0</td>\n",
              "      <td>12.0</td>\n",
              "      <td>65.0</td>\n",
              "    </tr>\n",
              "    <tr>\n",
              "      <th>251</th>\n",
              "      <td>GP</td>\n",
              "      <td>M</td>\n",
              "      <td>16</td>\n",
              "      <td>U</td>\n",
              "      <td>GT3</td>\n",
              "      <td>T</td>\n",
              "      <td>3.0</td>\n",
              "      <td>3.0</td>\n",
              "      <td>at_home</td>\n",
              "      <td>other</td>\n",
              "      <td>reputation</td>\n",
              "      <td>other</td>\n",
              "      <td>3.0</td>\n",
              "      <td>2.0</td>\n",
              "      <td>0.0</td>\n",
              "      <td>yes</td>\n",
              "      <td>yes</td>\n",
              "      <td>no</td>\n",
              "      <td>no</td>\n",
              "      <td>no</td>\n",
              "      <td>-6.0</td>\n",
              "      <td>yes</td>\n",
              "      <td>NaN</td>\n",
              "      <td>no</td>\n",
              "      <td>5.0</td>\n",
              "      <td>3.0</td>\n",
              "      <td>3.0</td>\n",
              "      <td>2.0</td>\n",
              "      <td>6.0</td>\n",
              "      <td>50.0</td>\n",
              "    </tr>\n",
              "  </tbody>\n",
              "</table>\n",
              "</div>"
            ],
            "text/plain": [
              "    school sex  age address famsize Pstatus  Medu  Fedu      Mjob      Fjob  \\\n",
              "319     GP   F   18       U     GT3       T   4.0   4.0   teacher     other   \n",
              "385     MS   F   18       R     GT3       T   2.0   2.0   at_home     other   \n",
              "389     MS   F   18       U     GT3       T   1.0   1.0     other     other   \n",
              "273     GP   M   17       R     GT3       T   1.0   2.0   at_home   at_home   \n",
              "325     GP   M   18       U     GT3       T   4.0   4.0     other     other   \n",
              "225     GP   F   18       R     GT3       T   3.0   1.0     other     other   \n",
              "193     GP   M   16       R     GT3     NaN   NaN   3.0  services  services   \n",
              "336     GP   F   19       R     GT3       A   3.0   1.0  services       NaN   \n",
              "251     GP   M   16       U     GT3       T   3.0   3.0   at_home     other   \n",
              "\n",
              "         reason guardian  traveltime  studytime  failures schoolsup famsup  \\\n",
              "319      course   mother         1.0        2.0       0.0        no    yes   \n",
              "385       other      NaN         NaN        3.0       0.0        no     no   \n",
              "389      course   mother         NaN        2.0       1.0        no     no   \n",
              "273        home   mother         1.0        2.0       0.0        no    yes   \n",
              "325      course   mother         1.0        3.0       0.0        no     no   \n",
              "225  reputation   mother         1.0        2.0       1.0        no     no   \n",
              "193  reputation   mother         1.0        1.0       0.0        no    yes   \n",
              "336        home    other         1.0        3.0       1.0        no     no   \n",
              "251  reputation    other         3.0        2.0       0.0       yes    yes   \n",
              "\n",
              "    paid activities nursery  studytime, granular higher internet romantic  \\\n",
              "319  NaN         no     yes                 -6.0    yes      yes       no   \n",
              "385  yes         no     yes                 -9.0    yes      NaN       no   \n",
              "389   no        yes     yes                 -6.0    yes      NaN       no   \n",
              "273  yes        yes      no                 -6.0    yes      NaN      yes   \n",
              "325   no        yes     yes                 -9.0    yes      yes       no   \n",
              "225   no        yes     yes                 -6.0    yes      yes      yes   \n",
              "193   no        yes     yes                 -3.0    yes      yes       no   \n",
              "336  yes         no     NaN                 -9.0    yes       no       no   \n",
              "251   no         no      no                 -6.0    yes      NaN       no   \n",
              "\n",
              "     famrel  freetime  goout  health  absences  score  \n",
              "319     4.0       4.0    4.0     5.0       2.0   55.0  \n",
              "385     5.0       3.0    3.0     4.0       2.0   50.0  \n",
              "389     1.0       1.0    1.0     5.0       0.0    0.0  \n",
              "273     3.0       5.0    2.0     1.0       2.0   70.0  \n",
              "325     4.0       3.0    3.0     3.0       3.0   55.0  \n",
              "225     5.0       3.0    3.0     4.0      16.0   35.0  \n",
              "193     4.0       3.0    2.0     5.0       8.0   50.0  \n",
              "336     5.0       4.0    3.0     5.0      12.0   65.0  \n",
              "251     5.0       3.0    3.0     2.0       6.0   50.0  "
            ]
          },
          "metadata": {
            "tags": []
          },
          "execution_count": 14
        }
      ]
    },
    {
      "cell_type": "code",
      "metadata": {
        "id": "v9UQDsF13sjf",
        "colab_type": "code",
        "colab": {
          "base_uri": "https://localhost:8080/",
          "height": 646
        },
        "outputId": "8ba3fbb5-1c76-4a4d-c34d-4d81ead76198"
      },
      "source": [
        "stud.info()"
      ],
      "execution_count": 15,
      "outputs": [
        {
          "output_type": "stream",
          "text": [
            "<class 'pandas.core.frame.DataFrame'>\n",
            "RangeIndex: 395 entries, 0 to 394\n",
            "Data columns (total 30 columns):\n",
            " #   Column               Non-Null Count  Dtype  \n",
            "---  ------               --------------  -----  \n",
            " 0   school               395 non-null    object \n",
            " 1   sex                  395 non-null    object \n",
            " 2   age                  395 non-null    int64  \n",
            " 3   address              378 non-null    object \n",
            " 4   famsize              368 non-null    object \n",
            " 5   Pstatus              350 non-null    object \n",
            " 6   Medu                 392 non-null    float64\n",
            " 7   Fedu                 371 non-null    float64\n",
            " 8   Mjob                 376 non-null    object \n",
            " 9   Fjob                 359 non-null    object \n",
            " 10  reason               378 non-null    object \n",
            " 11  guardian             364 non-null    object \n",
            " 12  traveltime           367 non-null    float64\n",
            " 13  studytime            388 non-null    float64\n",
            " 14  failures             373 non-null    float64\n",
            " 15  schoolsup            386 non-null    object \n",
            " 16  famsup               356 non-null    object \n",
            " 17  paid                 355 non-null    object \n",
            " 18  activities           381 non-null    object \n",
            " 19  nursery              379 non-null    object \n",
            " 20  studytime, granular  388 non-null    float64\n",
            " 21  higher               375 non-null    object \n",
            " 22  internet             361 non-null    object \n",
            " 23  romantic             364 non-null    object \n",
            " 24  famrel               368 non-null    float64\n",
            " 25  freetime             384 non-null    float64\n",
            " 26  goout                387 non-null    float64\n",
            " 27  health               380 non-null    float64\n",
            " 28  absences             383 non-null    float64\n",
            " 29  score                389 non-null    float64\n",
            "dtypes: float64(12), int64(1), object(17)\n",
            "memory usage: 92.7+ KB\n"
          ],
          "name": "stdout"
        }
      ]
    },
    {
      "cell_type": "code",
      "metadata": {
        "id": "Pij6Fsbh3sjh",
        "colab_type": "code",
        "colab": {
          "base_uri": "https://localhost:8080/",
          "height": 119
        },
        "outputId": "b94cfb17-cbd2-4ef0-c7c4-a37e6957febc"
      },
      "source": [
        "stud.columns"
      ],
      "execution_count": 16,
      "outputs": [
        {
          "output_type": "execute_result",
          "data": {
            "text/plain": [
              "Index(['school', 'sex', 'age', 'address', 'famsize', 'Pstatus', 'Medu', 'Fedu',\n",
              "       'Mjob', 'Fjob', 'reason', 'guardian', 'traveltime', 'studytime',\n",
              "       'failures', 'schoolsup', 'famsup', 'paid', 'activities', 'nursery',\n",
              "       'studytime, granular', 'higher', 'internet', 'romantic', 'famrel',\n",
              "       'freetime', 'goout', 'health', 'absences', 'score'],\n",
              "      dtype='object')"
            ]
          },
          "metadata": {
            "tags": []
          },
          "execution_count": 16
        }
      ]
    },
    {
      "cell_type": "markdown",
      "metadata": {
        "id": "SUIMxW2p3sjj",
        "colab_type": "text"
      },
      "source": [
        "В названиях колонок встречается написание с большой буквы, далее приведем все имена колонок к нижнему регистру."
      ]
    },
    {
      "cell_type": "markdown",
      "metadata": {
        "id": "26eSghYn3sjj",
        "colab_type": "text"
      },
      "source": [
        "### Первичная обработка данных"
      ]
    },
    {
      "cell_type": "code",
      "metadata": {
        "id": "4XS4KRwF3sjj",
        "colab_type": "code",
        "colab": {}
      },
      "source": [
        "# Удаляем столбец не заявленный в описании\n",
        "if 'studytime, granular' in stud.columns:\n",
        "    stud.drop(['studytime, granular'], inplace=True, axis = 1)\n",
        "\n",
        "# приводим все названия колонок к нижнему регистру\n",
        "stud.columns = [str.lower(x) for x in stud.columns]\n",
        "\n",
        "# получаем список всех колонок\n",
        "all_columns = stud.columns"
      ],
      "execution_count": 17,
      "outputs": []
    },
    {
      "cell_type": "code",
      "metadata": {
        "id": "DWFAtImh3sjl",
        "colab_type": "code",
        "colab": {
          "base_uri": "https://localhost:8080/",
          "height": 340
        },
        "outputId": "1f2950b9-5335-4ca9-f18c-ef97b842210a"
      },
      "source": [
        "# dtypes: float64(11), int64(1), object(17)\n",
        "\n",
        "dig_columns = ['age','medu', 'fedu', 'traveltime', 'studytime', 'failures',\n",
        "              'famrel', 'freetime', 'goout', 'health', 'absences', 'score']\n",
        "\n",
        "stud.loc[:, dig_columns].info()"
      ],
      "execution_count": 18,
      "outputs": [
        {
          "output_type": "stream",
          "text": [
            "<class 'pandas.core.frame.DataFrame'>\n",
            "RangeIndex: 395 entries, 0 to 394\n",
            "Data columns (total 12 columns):\n",
            " #   Column      Non-Null Count  Dtype  \n",
            "---  ------      --------------  -----  \n",
            " 0   age         395 non-null    int64  \n",
            " 1   medu        392 non-null    float64\n",
            " 2   fedu        371 non-null    float64\n",
            " 3   traveltime  367 non-null    float64\n",
            " 4   studytime   388 non-null    float64\n",
            " 5   failures    373 non-null    float64\n",
            " 6   famrel      368 non-null    float64\n",
            " 7   freetime    384 non-null    float64\n",
            " 8   goout       387 non-null    float64\n",
            " 9   health      380 non-null    float64\n",
            " 10  absences    383 non-null    float64\n",
            " 11  score       389 non-null    float64\n",
            "dtypes: float64(11), int64(1)\n",
            "memory usage: 37.2 KB\n"
          ],
          "name": "stdout"
        }
      ]
    },
    {
      "cell_type": "code",
      "metadata": {
        "id": "k9Yqi90D3sjn",
        "colab_type": "code",
        "colab": {
          "base_uri": "https://localhost:8080/",
          "height": 306
        },
        "outputId": "60087975-b22c-4860-b4c7-35eec5d4e42b"
      },
      "source": [
        "# \n",
        "other_columns = [x for x in all_columns if x not in dig_columns]\n",
        "other_columns"
      ],
      "execution_count": 19,
      "outputs": [
        {
          "output_type": "execute_result",
          "data": {
            "text/plain": [
              "['school',\n",
              " 'sex',\n",
              " 'address',\n",
              " 'famsize',\n",
              " 'pstatus',\n",
              " 'mjob',\n",
              " 'fjob',\n",
              " 'reason',\n",
              " 'guardian',\n",
              " 'schoolsup',\n",
              " 'famsup',\n",
              " 'paid',\n",
              " 'activities',\n",
              " 'nursery',\n",
              " 'higher',\n",
              " 'internet',\n",
              " 'romantic']"
            ]
          },
          "metadata": {
            "tags": []
          },
          "execution_count": 19
        }
      ]
    },
    {
      "cell_type": "code",
      "metadata": {
        "id": "KK2paFJ53sjo",
        "colab_type": "code",
        "colab": {}
      },
      "source": [
        "# произведем замену пустых значений и значений nan в строковых столбцах\n",
        "for col_name in other_columns:\n",
        "    stud[col_name] = stud[col_name].apply(lambda x : None if pd.isnull(x)\n",
        "                                    else None if str.lower(x) == 'nan'\n",
        "                                    else None if x.strip == ''\n",
        "                                    else x.strip())"
      ],
      "execution_count": 20,
      "outputs": []
    },
    {
      "cell_type": "code",
      "metadata": {
        "id": "Om1ei62r3sjq",
        "colab_type": "code",
        "colab": {}
      },
      "source": [
        ""
      ],
      "execution_count": 20,
      "outputs": []
    },
    {
      "cell_type": "code",
      "metadata": {
        "id": "SgkCvN5J3sjr",
        "colab_type": "code",
        "colab": {}
      },
      "source": [
        ""
      ],
      "execution_count": 20,
      "outputs": []
    },
    {
      "cell_type": "code",
      "metadata": {
        "id": "Svk9_QgF3sjt",
        "colab_type": "code",
        "colab": {
          "base_uri": "https://localhost:8080/",
          "height": 1000
        },
        "outputId": "427c6e6e-00bd-4bc0-b76d-4dac668e3d6d"
      },
      "source": [
        "# column_content_analysis(['address', 'age', 'medu'])\n",
        "\n",
        "column_content_analysis(all_columns)"
      ],
      "execution_count": 21,
      "outputs": [
        {
          "output_type": "stream",
          "text": [
            "------------------------------------------------------------\n",
            "|\t Отчет по колонке [ school ] \t\t\t\t\t\n",
            "------------------------------------------------------------\n",
            "|  Тип данных: object\n",
            "|  Заполнено значений: 395 из 395\n",
            "|  Отсутсвующие значения: 0\n",
            "|  Полнота данных: 100.0%\n",
            "|  Количество уникальных значений: 2\n",
            "|  Значений, встретившихся в столбце более 10 раз: 2\n",
            "|  Количество раз пробелы найдены:\n",
            "|    в начале строки: 0\n",
            "|    в конце  строки: 0\n",
            "|  Количество найденных специальных символов: 0\n",
            "|\n",
            "|  Все уникальные значения: ['GP' 'MS'] \n",
            "\n",
            "------------------------------------------------------------\n",
            "|\t Отчет по колонке [ sex ] \t\t\t\t\t\n",
            "------------------------------------------------------------\n",
            "|  Тип данных: object\n",
            "|  Заполнено значений: 395 из 395\n",
            "|  Отсутсвующие значения: 0\n",
            "|  Полнота данных: 100.0%\n",
            "|  Количество уникальных значений: 2\n",
            "|  Значений, встретившихся в столбце более 10 раз: 2\n",
            "|  Количество раз пробелы найдены:\n",
            "|    в начале строки: 0\n",
            "|    в конце  строки: 0\n",
            "|  Количество найденных специальных символов: 0\n",
            "|\n",
            "|  Все уникальные значения: ['F' 'M'] \n",
            "\n",
            "------------------------------------------------------------\n",
            "|\t Отчет по колонке [ age ] \t\t\t\t\t\n",
            "------------------------------------------------------------\n",
            "|  Тип данных: int64\n",
            "|  Заполнено значений: 395 из 395\n",
            "|  Отсутсвующие значения: 0\n",
            "|  Полнота данных: 100.0%\n",
            "|  Количество уникальных значений: 8\n",
            "|  Значений, встретившихся в столбце более 10 раз: 5\n",
            "|  IQR: 2.0; границы выбросов: [13.0; 21.0]\n",
            "|  Данные СОДЕРЖАТ выбросы, количество значений:  1\n",
            "|    Справа от IQR (уникальные): [22]\n",
            "|\n",
            "|  Все уникальные значения: [18 17 15 16 19 22 20 21] \n",
            "\n",
            "------------------------------------------------------------\n",
            "|\t Отчет по колонке [ address ] \t\t\t\t\t\n",
            "------------------------------------------------------------\n",
            "|  Тип данных: object\n",
            "|  Заполнено значений: 378 из 395\n",
            "|  Отсутсвующие значения: 17\n",
            "|  Полнота данных: 95.7%\n",
            "|  Количество уникальных значений: 2\n",
            "|  Значений, встретившихся в столбце более 10 раз: 2\n",
            "|  Количество раз пробелы найдены:\n",
            "|    в начале строки: 0\n",
            "|    в конце  строки: 0\n",
            "|  Количество найденных специальных символов: 0\n",
            "|\n",
            "|  Все уникальные значения: ['U' None 'R'] \n",
            "\n",
            "------------------------------------------------------------\n",
            "|\t Отчет по колонке [ famsize ] \t\t\t\t\t\n",
            "------------------------------------------------------------\n",
            "|  Тип данных: object\n",
            "|  Заполнено значений: 368 из 395\n",
            "|  Отсутсвующие значения: 27\n",
            "|  Полнота данных: 93.16%\n",
            "|  Количество уникальных значений: 2\n",
            "|  Значений, встретившихся в столбце более 10 раз: 2\n",
            "|  Количество раз пробелы найдены:\n",
            "|    в начале строки: 0\n",
            "|    в конце  строки: 0\n",
            "|  Количество найденных специальных символов: 0\n",
            "|\n",
            "|  Все уникальные значения: [None 'GT3' 'LE3'] \n",
            "\n",
            "------------------------------------------------------------\n",
            "|\t Отчет по колонке [ pstatus ] \t\t\t\t\t\n",
            "------------------------------------------------------------\n",
            "|  Тип данных: object\n",
            "|  Заполнено значений: 350 из 395\n",
            "|  Отсутсвующие значения: 45\n",
            "|  Полнота данных: 88.61%\n",
            "|  Количество уникальных значений: 2\n",
            "|  Значений, встретившихся в столбце более 10 раз: 2\n",
            "|  Количество раз пробелы найдены:\n",
            "|    в начале строки: 0\n",
            "|    в конце  строки: 0\n",
            "|  Количество найденных специальных символов: 0\n",
            "|\n",
            "|  Все уникальные значения: ['A' None 'T'] \n",
            "\n",
            "------------------------------------------------------------\n",
            "|\t Отчет по колонке [ medu ] \t\t\t\t\t\n",
            "------------------------------------------------------------\n",
            "|  Тип данных: float64\n",
            "|  Заполнено значений: 392 из 395\n",
            "|  Отсутсвующие значения: 3\n",
            "|  Полнота данных: 99.24%\n",
            "|  Количество уникальных значений: 5\n",
            "|  Значений, встретившихся в столбце более 10 раз: 4\n",
            "|  IQR: 2.0; границы выбросов: [-1.0; 7.0]\n",
            "|\n",
            "|  Все уникальные значения: [ 4.  1.  3.  2. nan  0.] \n",
            "\n",
            "------------------------------------------------------------\n",
            "|\t Отчет по колонке [ fedu ] \t\t\t\t\t\n",
            "------------------------------------------------------------\n",
            "|  Тип данных: float64\n",
            "|  Заполнено значений: 371 из 395\n",
            "|  Отсутсвующие значения: 24\n",
            "|  Полнота данных: 93.92%\n",
            "|  Количество уникальных значений: 6\n",
            "|  Значений, встретившихся в столбце более 10 раз: 4\n",
            "|  IQR: 1.0; границы выбросов: [0.5; 4.5]\n",
            "|  Данные СОДЕРЖАТ выбросы, количество значений:  3\n",
            "|    Слева  от IQR (уникальные): [0.]\n",
            "|    Справа от IQR (уникальные): [40.]\n",
            "|\n",
            "|  Все уникальные значения: [ 4.  1.  2.  3. 40. nan  0.] \n",
            "\n",
            "------------------------------------------------------------\n",
            "|\t Отчет по колонке [ mjob ] \t\t\t\t\t\n",
            "------------------------------------------------------------\n",
            "|  Тип данных: object\n",
            "|  Заполнено значений: 376 из 395\n",
            "|  Отсутсвующие значения: 19\n",
            "|  Полнота данных: 95.19%\n",
            "|  Количество уникальных значений: 5\n",
            "|  Значений, встретившихся в столбце более 10 раз: 5\n",
            "|  Количество раз пробелы найдены:\n",
            "|    в начале строки: 0\n",
            "|    в конце  строки: 0\n",
            "|  Количество найденных специальных символов: 0\n",
            "|\n",
            "|  Все уникальные значения: ['at_home' 'health' 'other' 'services' 'teacher' None] \n",
            "\n",
            "------------------------------------------------------------\n",
            "|\t Отчет по колонке [ fjob ] \t\t\t\t\t\n",
            "------------------------------------------------------------\n",
            "|  Тип данных: object\n",
            "|  Заполнено значений: 359 из 395\n",
            "|  Отсутсвующие значения: 36\n",
            "|  Полнота данных: 90.89%\n",
            "|  Количество уникальных значений: 5\n",
            "|  Значений, встретившихся в столбце более 10 раз: 5\n",
            "|  Количество раз пробелы найдены:\n",
            "|    в начале строки: 0\n",
            "|    в конце  строки: 0\n",
            "|  Количество найденных специальных символов: 0\n",
            "|\n",
            "|  Все уникальные значения: ['teacher' 'other' None 'health' 'services' 'at_home'] \n",
            "\n",
            "------------------------------------------------------------\n",
            "|\t Отчет по колонке [ reason ] \t\t\t\t\t\n",
            "------------------------------------------------------------\n",
            "|  Тип данных: object\n",
            "|  Заполнено значений: 378 из 395\n",
            "|  Отсутсвующие значения: 17\n",
            "|  Полнота данных: 95.7%\n",
            "|  Количество уникальных значений: 4\n",
            "|  Значений, встретившихся в столбце более 10 раз: 4\n",
            "|  Количество раз пробелы найдены:\n",
            "|    в начале строки: 0\n",
            "|    в конце  строки: 0\n",
            "|  Количество найденных специальных символов: 0\n",
            "|\n",
            "|  Все уникальные значения: ['course' 'other' 'home' 'reputation' None] \n",
            "\n",
            "------------------------------------------------------------\n",
            "|\t Отчет по колонке [ guardian ] \t\t\t\t\t\n",
            "------------------------------------------------------------\n",
            "|  Тип данных: object\n",
            "|  Заполнено значений: 364 из 395\n",
            "|  Отсутсвующие значения: 31\n",
            "|  Полнота данных: 92.15%\n",
            "|  Количество уникальных значений: 3\n",
            "|  Значений, встретившихся в столбце более 10 раз: 3\n",
            "|  Количество раз пробелы найдены:\n",
            "|    в начале строки: 0\n",
            "|    в конце  строки: 0\n",
            "|  Количество найденных специальных символов: 0\n",
            "|\n",
            "|  Все уникальные значения: ['mother' 'father' 'other' None] \n",
            "\n",
            "------------------------------------------------------------\n",
            "|\t Отчет по колонке [ traveltime ] \t\t\t\t\t\n",
            "------------------------------------------------------------\n",
            "|  Тип данных: float64\n",
            "|  Заполнено значений: 367 из 395\n",
            "|  Отсутсвующие значения: 28\n",
            "|  Полнота данных: 92.91%\n",
            "|  Количество уникальных значений: 4\n",
            "|  Значений, встретившихся в столбце более 10 раз: 3\n",
            "|  IQR: 1.0; границы выбросов: [-0.5; 3.5]\n",
            "|  Данные СОДЕРЖАТ выбросы, количество значений:  7\n",
            "|    Справа от IQR (уникальные): [4.]\n",
            "|\n",
            "|  Все уникальные значения: [ 2.  1.  3. nan  4.] \n",
            "\n",
            "------------------------------------------------------------\n",
            "|\t Отчет по колонке [ studytime ] \t\t\t\t\t\n",
            "------------------------------------------------------------\n",
            "|  Тип данных: float64\n",
            "|  Заполнено значений: 388 из 395\n",
            "|  Отсутсвующие значения: 7\n",
            "|  Полнота данных: 98.23%\n",
            "|  Количество уникальных значений: 4\n",
            "|  Значений, встретившихся в столбце более 10 раз: 4\n",
            "|  IQR: 1.0; границы выбросов: [-0.5; 3.5]\n",
            "|  Данные СОДЕРЖАТ выбросы, количество значений:  27\n",
            "|    Справа от IQR (уникальные): [4.]\n",
            "|\n",
            "|  Все уникальные значения: [ 2.  3.  1. nan  4.] \n",
            "\n",
            "------------------------------------------------------------\n",
            "|\t Отчет по колонке [ failures ] \t\t\t\t\t\n",
            "------------------------------------------------------------\n",
            "|  Тип данных: float64\n",
            "|  Заполнено значений: 373 из 395\n",
            "|  Отсутсвующие значения: 22\n",
            "|  Полнота данных: 94.43%\n",
            "|  Количество уникальных значений: 4\n",
            "|  Значений, встретившихся в столбце более 10 раз: 4\n",
            "|  IQR: 0.0; границы выбросов: [0.0; 0.0]\n",
            "|  Данные СОДЕРЖАТ выбросы, количество значений:  80\n",
            "|    Справа от IQR (уникальные): [3. 2. 1.]\n",
            "|\n",
            "|  Все уникальные значения: [ 0.  3. nan  2.  1.] \n",
            "\n",
            "------------------------------------------------------------\n",
            "|\t Отчет по колонке [ schoolsup ] \t\t\t\t\t\n",
            "------------------------------------------------------------\n",
            "|  Тип данных: object\n",
            "|  Заполнено значений: 386 из 395\n",
            "|  Отсутсвующие значения: 9\n",
            "|  Полнота данных: 97.72%\n",
            "|  Количество уникальных значений: 2\n",
            "|  Значений, встретившихся в столбце более 10 раз: 2\n",
            "|  Количество раз пробелы найдены:\n",
            "|    в начале строки: 0\n",
            "|    в конце  строки: 0\n",
            "|  Количество найденных специальных символов: 0\n",
            "|\n",
            "|  Все уникальные значения: ['yes' 'no' None] \n",
            "\n",
            "------------------------------------------------------------\n",
            "|\t Отчет по колонке [ famsup ] \t\t\t\t\t\n",
            "------------------------------------------------------------\n",
            "|  Тип данных: object\n",
            "|  Заполнено значений: 356 из 395\n",
            "|  Отсутсвующие значения: 39\n",
            "|  Полнота данных: 90.13%\n",
            "|  Количество уникальных значений: 2\n",
            "|  Значений, встретившихся в столбце более 10 раз: 2\n",
            "|  Количество раз пробелы найдены:\n",
            "|    в начале строки: 0\n",
            "|    в конце  строки: 0\n",
            "|  Количество найденных специальных символов: 0\n",
            "|\n",
            "|  Все уникальные значения: ['no' 'yes' None] \n",
            "\n",
            "------------------------------------------------------------\n",
            "|\t Отчет по колонке [ paid ] \t\t\t\t\t\n",
            "------------------------------------------------------------\n",
            "|  Тип данных: object\n",
            "|  Заполнено значений: 355 из 395\n",
            "|  Отсутсвующие значения: 40\n",
            "|  Полнота данных: 89.87%\n",
            "|  Количество уникальных значений: 2\n",
            "|  Значений, встретившихся в столбце более 10 раз: 2\n",
            "|  Количество раз пробелы найдены:\n",
            "|    в начале строки: 0\n",
            "|    в конце  строки: 0\n",
            "|  Количество найденных специальных символов: 0\n",
            "|\n",
            "|  Все уникальные значения: ['no' None 'yes'] \n",
            "\n",
            "------------------------------------------------------------\n",
            "|\t Отчет по колонке [ activities ] \t\t\t\t\t\n",
            "------------------------------------------------------------\n",
            "|  Тип данных: object\n",
            "|  Заполнено значений: 381 из 395\n",
            "|  Отсутсвующие значения: 14\n",
            "|  Полнота данных: 96.46%\n",
            "|  Количество уникальных значений: 2\n",
            "|  Значений, встретившихся в столбце более 10 раз: 2\n",
            "|  Количество раз пробелы найдены:\n",
            "|    в начале строки: 0\n",
            "|    в конце  строки: 0\n",
            "|  Количество найденных специальных символов: 0\n",
            "|\n",
            "|  Все уникальные значения: ['no' 'yes' None] \n",
            "\n",
            "------------------------------------------------------------\n",
            "|\t Отчет по колонке [ nursery ] \t\t\t\t\t\n",
            "------------------------------------------------------------\n",
            "|  Тип данных: object\n",
            "|  Заполнено значений: 379 из 395\n",
            "|  Отсутсвующие значения: 16\n",
            "|  Полнота данных: 95.95%\n",
            "|  Количество уникальных значений: 2\n",
            "|  Значений, встретившихся в столбце более 10 раз: 2\n",
            "|  Количество раз пробелы найдены:\n",
            "|    в начале строки: 0\n",
            "|    в конце  строки: 0\n",
            "|  Количество найденных специальных символов: 0\n",
            "|\n",
            "|  Все уникальные значения: ['yes' 'no' None] \n",
            "\n",
            "------------------------------------------------------------\n",
            "|\t Отчет по колонке [ higher ] \t\t\t\t\t\n",
            "------------------------------------------------------------\n",
            "|  Тип данных: object\n",
            "|  Заполнено значений: 375 из 395\n",
            "|  Отсутсвующие значения: 20\n",
            "|  Полнота данных: 94.94%\n",
            "|  Количество уникальных значений: 2\n",
            "|  Значений, встретившихся в столбце более 10 раз: 2\n",
            "|  Количество раз пробелы найдены:\n",
            "|    в начале строки: 0\n",
            "|    в конце  строки: 0\n",
            "|  Количество найденных специальных символов: 0\n",
            "|\n",
            "|  Все уникальные значения: ['yes' None 'no'] \n",
            "\n",
            "------------------------------------------------------------\n",
            "|\t Отчет по колонке [ internet ] \t\t\t\t\t\n",
            "------------------------------------------------------------\n",
            "|  Тип данных: object\n",
            "|  Заполнено значений: 361 из 395\n",
            "|  Отсутсвующие значения: 34\n",
            "|  Полнота данных: 91.39%\n",
            "|  Количество уникальных значений: 2\n",
            "|  Значений, встретившихся в столбце более 10 раз: 2\n",
            "|  Количество раз пробелы найдены:\n",
            "|    в начале строки: 0\n",
            "|    в конце  строки: 0\n",
            "|  Количество найденных специальных символов: 0\n",
            "|\n",
            "|  Все уникальные значения: [None 'yes' 'no'] \n",
            "\n",
            "------------------------------------------------------------\n",
            "|\t Отчет по колонке [ romantic ] \t\t\t\t\t\n",
            "------------------------------------------------------------\n",
            "|  Тип данных: object\n",
            "|  Заполнено значений: 364 из 395\n",
            "|  Отсутсвующие значения: 31\n",
            "|  Полнота данных: 92.15%\n",
            "|  Количество уникальных значений: 2\n",
            "|  Значений, встретившихся в столбце более 10 раз: 2\n",
            "|  Количество раз пробелы найдены:\n",
            "|    в начале строки: 0\n",
            "|    в конце  строки: 0\n",
            "|  Количество найденных специальных символов: 0\n",
            "|\n",
            "|  Все уникальные значения: ['no' None 'yes'] \n",
            "\n",
            "------------------------------------------------------------\n",
            "|\t Отчет по колонке [ famrel ] \t\t\t\t\t\n",
            "------------------------------------------------------------\n",
            "|  Тип данных: float64\n",
            "|  Заполнено значений: 368 из 395\n",
            "|  Отсутсвующие значения: 27\n",
            "|  Полнота данных: 93.16%\n",
            "|  Количество уникальных значений: 6\n",
            "|  Значений, встретившихся в столбце более 10 раз: 4\n",
            "|  IQR: 1.0; границы выбросов: [2.5; 6.5]\n",
            "|  Данные СОДЕРЖАТ выбросы, количество значений:  25\n",
            "|    Слева  от IQR (уникальные): [-1.  2.  1.]\n",
            "|\n",
            "|  Все уникальные значения: [ 4.  5.  3. nan -1.  2.  1.] \n",
            "\n",
            "------------------------------------------------------------\n",
            "|\t Отчет по колонке [ freetime ] \t\t\t\t\t\n",
            "------------------------------------------------------------\n",
            "|  Тип данных: float64\n",
            "|  Заполнено значений: 384 из 395\n",
            "|  Отсутсвующие значения: 11\n",
            "|  Полнота данных: 97.22%\n",
            "|  Количество уникальных значений: 5\n",
            "|  Значений, встретившихся в столбце более 10 раз: 5\n",
            "|  IQR: 1.0; границы выбросов: [1.5; 5.5]\n",
            "|  Данные СОДЕРЖАТ выбросы, количество значений:  18\n",
            "|    Слева  от IQR (уникальные): [1.]\n",
            "|\n",
            "|  Все уникальные значения: [ 3.  2.  4.  1.  5. nan] \n",
            "\n",
            "------------------------------------------------------------\n",
            "|\t Отчет по колонке [ goout ] \t\t\t\t\t\n",
            "------------------------------------------------------------\n",
            "|  Тип данных: float64\n",
            "|  Заполнено значений: 387 из 395\n",
            "|  Отсутсвующие значения: 8\n",
            "|  Полнота данных: 97.97%\n",
            "|  Количество уникальных значений: 5\n",
            "|  Значений, встретившихся в столбце более 10 раз: 5\n",
            "|  IQR: 2.0; границы выбросов: [-1.0; 7.0]\n",
            "|\n",
            "|  Все уникальные значения: [ 4.  3.  2.  1.  5. nan] \n",
            "\n",
            "------------------------------------------------------------\n",
            "|\t Отчет по колонке [ health ] \t\t\t\t\t\n",
            "------------------------------------------------------------\n",
            "|  Тип данных: float64\n",
            "|  Заполнено значений: 380 из 395\n",
            "|  Отсутсвующие значения: 15\n",
            "|  Полнота данных: 96.2%\n",
            "|  Количество уникальных значений: 5\n",
            "|  Значений, встретившихся в столбце более 10 раз: 5\n",
            "|  IQR: 2.0; границы выбросов: [0.0; 8.0]\n",
            "|\n",
            "|  Все уникальные значения: [ 3.  5.  1.  2.  4. nan] \n",
            "\n",
            "------------------------------------------------------------\n",
            "|\t Отчет по колонке [ absences ] \t\t\t\t\t\n",
            "------------------------------------------------------------\n",
            "|  Тип данных: float64\n",
            "|  Заполнено значений: 383 из 395\n",
            "|  Отсутсвующие значения: 12\n",
            "|  Полнота данных: 96.96%\n",
            "|  Количество уникальных значений: 36\n",
            "|  Значений, встретившихся в столбце более 10 раз: 8\n",
            "|  IQR: 8.0; границы выбросов: [-12.0; 20.0]\n",
            "|  Данные СОДЕРЖАТ выбросы, количество значений:  17\n",
            "|    Справа от IQR (уникальные): [ 25.  54.  26.  56.  24.  28.  22. 385.  21.  75.  30.  38.  40.  23.\n",
            " 212.]\n",
            "|\n",
            "|  Все уникальные значения: [  6.   4.  10.   2.   0.  16.  nan  14.   7.   8.  25.  12.  54.  18.\n",
            "  26.  20.  56.  24.  28.   5.  13.  15.  22.   3. 385.  21.   1.  75.\n",
            "  30.  19.   9.  11.  38.  40.  23.  17. 212.] \n",
            "\n",
            "------------------------------------------------------------\n",
            "|\t Отчет по колонке [ score ] \t\t\t\t\t\n",
            "------------------------------------------------------------\n",
            "|  Тип данных: float64\n",
            "|  Заполнено значений: 389 из 395\n",
            "|  Отсутсвующие значения: 6\n",
            "|  Полнота данных: 98.48%\n",
            "|  Количество уникальных значений: 18\n",
            "|  Значений, встретившихся в столбце более 10 раз: 12\n",
            "|  IQR: 30.0; границы выбросов: [-5.0; 115.0]\n",
            "|\n",
            "|  Все уникальные значения: [ 30.  50.  75.  55.  95.  45.  60.  70.  80.  25.  40.  85.  90.  65.\n",
            " 100.  35.   0.  nan  20.] \n",
            "\n"
          ],
          "name": "stdout"
        }
      ]
    },
    {
      "cell_type": "code",
      "metadata": {
        "id": "_dARFxgL3sjv",
        "colab_type": "code",
        "colab": {
          "base_uri": "https://localhost:8080/",
          "height": 348
        },
        "outputId": "1a518727-e61d-4f9e-c741-e95c43529aef"
      },
      "source": [
        "# выведем результат первичной обработки\n",
        "stud.sample(9)"
      ],
      "execution_count": 22,
      "outputs": [
        {
          "output_type": "execute_result",
          "data": {
            "text/html": [
              "<div>\n",
              "<style scoped>\n",
              "    .dataframe tbody tr th:only-of-type {\n",
              "        vertical-align: middle;\n",
              "    }\n",
              "\n",
              "    .dataframe tbody tr th {\n",
              "        vertical-align: top;\n",
              "    }\n",
              "\n",
              "    .dataframe thead th {\n",
              "        text-align: right;\n",
              "    }\n",
              "</style>\n",
              "<table border=\"1\" class=\"dataframe\">\n",
              "  <thead>\n",
              "    <tr style=\"text-align: right;\">\n",
              "      <th></th>\n",
              "      <th>school</th>\n",
              "      <th>sex</th>\n",
              "      <th>age</th>\n",
              "      <th>address</th>\n",
              "      <th>famsize</th>\n",
              "      <th>pstatus</th>\n",
              "      <th>medu</th>\n",
              "      <th>fedu</th>\n",
              "      <th>mjob</th>\n",
              "      <th>fjob</th>\n",
              "      <th>reason</th>\n",
              "      <th>guardian</th>\n",
              "      <th>traveltime</th>\n",
              "      <th>studytime</th>\n",
              "      <th>failures</th>\n",
              "      <th>schoolsup</th>\n",
              "      <th>famsup</th>\n",
              "      <th>paid</th>\n",
              "      <th>activities</th>\n",
              "      <th>nursery</th>\n",
              "      <th>higher</th>\n",
              "      <th>internet</th>\n",
              "      <th>romantic</th>\n",
              "      <th>famrel</th>\n",
              "      <th>freetime</th>\n",
              "      <th>goout</th>\n",
              "      <th>health</th>\n",
              "      <th>absences</th>\n",
              "      <th>score</th>\n",
              "    </tr>\n",
              "  </thead>\n",
              "  <tbody>\n",
              "    <tr>\n",
              "      <th>378</th>\n",
              "      <td>MS</td>\n",
              "      <td>F</td>\n",
              "      <td>18</td>\n",
              "      <td>U</td>\n",
              "      <td>GT3</td>\n",
              "      <td>T</td>\n",
              "      <td>3.0</td>\n",
              "      <td>3.0</td>\n",
              "      <td>other</td>\n",
              "      <td>other</td>\n",
              "      <td>home</td>\n",
              "      <td>mother</td>\n",
              "      <td>1.0</td>\n",
              "      <td>2.0</td>\n",
              "      <td>0.0</td>\n",
              "      <td>no</td>\n",
              "      <td>no</td>\n",
              "      <td>yes</td>\n",
              "      <td>no</td>\n",
              "      <td>yes</td>\n",
              "      <td>yes</td>\n",
              "      <td>yes</td>\n",
              "      <td>yes</td>\n",
              "      <td>4.0</td>\n",
              "      <td>1.0</td>\n",
              "      <td>3.0</td>\n",
              "      <td>1.0</td>\n",
              "      <td>0.0</td>\n",
              "      <td>75.0</td>\n",
              "    </tr>\n",
              "    <tr>\n",
              "      <th>330</th>\n",
              "      <td>GP</td>\n",
              "      <td>M</td>\n",
              "      <td>18</td>\n",
              "      <td>U</td>\n",
              "      <td>LE3</td>\n",
              "      <td>T</td>\n",
              "      <td>2.0</td>\n",
              "      <td>2.0</td>\n",
              "      <td>other</td>\n",
              "      <td>other</td>\n",
              "      <td>course</td>\n",
              "      <td>mother</td>\n",
              "      <td>1.0</td>\n",
              "      <td>4.0</td>\n",
              "      <td>0.0</td>\n",
              "      <td>no</td>\n",
              "      <td>yes</td>\n",
              "      <td>no</td>\n",
              "      <td>yes</td>\n",
              "      <td>yes</td>\n",
              "      <td>yes</td>\n",
              "      <td>yes</td>\n",
              "      <td>None</td>\n",
              "      <td>4.0</td>\n",
              "      <td>5.0</td>\n",
              "      <td>5.0</td>\n",
              "      <td>NaN</td>\n",
              "      <td>2.0</td>\n",
              "      <td>40.0</td>\n",
              "    </tr>\n",
              "    <tr>\n",
              "      <th>135</th>\n",
              "      <td>GP</td>\n",
              "      <td>F</td>\n",
              "      <td>15</td>\n",
              "      <td>U</td>\n",
              "      <td>GT3</td>\n",
              "      <td>T</td>\n",
              "      <td>4.0</td>\n",
              "      <td>4.0</td>\n",
              "      <td>services</td>\n",
              "      <td>None</td>\n",
              "      <td>course</td>\n",
              "      <td>mother</td>\n",
              "      <td>1.0</td>\n",
              "      <td>3.0</td>\n",
              "      <td>0.0</td>\n",
              "      <td>no</td>\n",
              "      <td>yes</td>\n",
              "      <td>no</td>\n",
              "      <td>yes</td>\n",
              "      <td>yes</td>\n",
              "      <td>yes</td>\n",
              "      <td>yes</td>\n",
              "      <td>yes</td>\n",
              "      <td>4.0</td>\n",
              "      <td>3.0</td>\n",
              "      <td>3.0</td>\n",
              "      <td>5.0</td>\n",
              "      <td>0.0</td>\n",
              "      <td>0.0</td>\n",
              "    </tr>\n",
              "    <tr>\n",
              "      <th>124</th>\n",
              "      <td>GP</td>\n",
              "      <td>F</td>\n",
              "      <td>16</td>\n",
              "      <td>U</td>\n",
              "      <td>GT3</td>\n",
              "      <td>T</td>\n",
              "      <td>2.0</td>\n",
              "      <td>2.0</td>\n",
              "      <td>other</td>\n",
              "      <td>other</td>\n",
              "      <td>home</td>\n",
              "      <td>mother</td>\n",
              "      <td>1.0</td>\n",
              "      <td>2.0</td>\n",
              "      <td>0.0</td>\n",
              "      <td>no</td>\n",
              "      <td>no</td>\n",
              "      <td>yes</td>\n",
              "      <td>no</td>\n",
              "      <td>yes</td>\n",
              "      <td>yes</td>\n",
              "      <td>yes</td>\n",
              "      <td>yes</td>\n",
              "      <td>5.0</td>\n",
              "      <td>4.0</td>\n",
              "      <td>4.0</td>\n",
              "      <td>5.0</td>\n",
              "      <td>0.0</td>\n",
              "      <td>40.0</td>\n",
              "    </tr>\n",
              "    <tr>\n",
              "      <th>203</th>\n",
              "      <td>GP</td>\n",
              "      <td>F</td>\n",
              "      <td>17</td>\n",
              "      <td>R</td>\n",
              "      <td>GT3</td>\n",
              "      <td>T</td>\n",
              "      <td>2.0</td>\n",
              "      <td>2.0</td>\n",
              "      <td>other</td>\n",
              "      <td>other</td>\n",
              "      <td>reputation</td>\n",
              "      <td>mother</td>\n",
              "      <td>1.0</td>\n",
              "      <td>1.0</td>\n",
              "      <td>0.0</td>\n",
              "      <td>no</td>\n",
              "      <td>yes</td>\n",
              "      <td>no</td>\n",
              "      <td>no</td>\n",
              "      <td>yes</td>\n",
              "      <td>yes</td>\n",
              "      <td>yes</td>\n",
              "      <td>no</td>\n",
              "      <td>5.0</td>\n",
              "      <td>3.0</td>\n",
              "      <td>2.0</td>\n",
              "      <td>3.0</td>\n",
              "      <td>18.0</td>\n",
              "      <td>30.0</td>\n",
              "    </tr>\n",
              "    <tr>\n",
              "      <th>366</th>\n",
              "      <td>MS</td>\n",
              "      <td>M</td>\n",
              "      <td>18</td>\n",
              "      <td>U</td>\n",
              "      <td>LE3</td>\n",
              "      <td>T</td>\n",
              "      <td>4.0</td>\n",
              "      <td>4.0</td>\n",
              "      <td>teacher</td>\n",
              "      <td>services</td>\n",
              "      <td>other</td>\n",
              "      <td>mother</td>\n",
              "      <td>2.0</td>\n",
              "      <td>3.0</td>\n",
              "      <td>0.0</td>\n",
              "      <td>no</td>\n",
              "      <td>no</td>\n",
              "      <td>yes</td>\n",
              "      <td>no</td>\n",
              "      <td>yes</td>\n",
              "      <td>yes</td>\n",
              "      <td>yes</td>\n",
              "      <td>yes</td>\n",
              "      <td>4.0</td>\n",
              "      <td>2.0</td>\n",
              "      <td>2.0</td>\n",
              "      <td>5.0</td>\n",
              "      <td>0.0</td>\n",
              "      <td>65.0</td>\n",
              "    </tr>\n",
              "    <tr>\n",
              "      <th>63</th>\n",
              "      <td>GP</td>\n",
              "      <td>F</td>\n",
              "      <td>16</td>\n",
              "      <td>U</td>\n",
              "      <td>GT3</td>\n",
              "      <td>None</td>\n",
              "      <td>4.0</td>\n",
              "      <td>3.0</td>\n",
              "      <td>teacher</td>\n",
              "      <td>health</td>\n",
              "      <td>None</td>\n",
              "      <td>mother</td>\n",
              "      <td>1.0</td>\n",
              "      <td>3.0</td>\n",
              "      <td>0.0</td>\n",
              "      <td>yes</td>\n",
              "      <td>yes</td>\n",
              "      <td>yes</td>\n",
              "      <td>yes</td>\n",
              "      <td>yes</td>\n",
              "      <td>yes</td>\n",
              "      <td>yes</td>\n",
              "      <td>no</td>\n",
              "      <td>3.0</td>\n",
              "      <td>4.0</td>\n",
              "      <td>4.0</td>\n",
              "      <td>4.0</td>\n",
              "      <td>2.0</td>\n",
              "      <td>45.0</td>\n",
              "    </tr>\n",
              "    <tr>\n",
              "      <th>358</th>\n",
              "      <td>MS</td>\n",
              "      <td>M</td>\n",
              "      <td>18</td>\n",
              "      <td>U</td>\n",
              "      <td>LE3</td>\n",
              "      <td>T</td>\n",
              "      <td>1.0</td>\n",
              "      <td>1.0</td>\n",
              "      <td>other</td>\n",
              "      <td>services</td>\n",
              "      <td>home</td>\n",
              "      <td>father</td>\n",
              "      <td>2.0</td>\n",
              "      <td>1.0</td>\n",
              "      <td>0.0</td>\n",
              "      <td>no</td>\n",
              "      <td>no</td>\n",
              "      <td>no</td>\n",
              "      <td>no</td>\n",
              "      <td>no</td>\n",
              "      <td>yes</td>\n",
              "      <td>yes</td>\n",
              "      <td>yes</td>\n",
              "      <td>3.0</td>\n",
              "      <td>3.0</td>\n",
              "      <td>2.0</td>\n",
              "      <td>3.0</td>\n",
              "      <td>4.0</td>\n",
              "      <td>50.0</td>\n",
              "    </tr>\n",
              "    <tr>\n",
              "      <th>360</th>\n",
              "      <td>MS</td>\n",
              "      <td>F</td>\n",
              "      <td>18</td>\n",
              "      <td>R</td>\n",
              "      <td>None</td>\n",
              "      <td>A</td>\n",
              "      <td>1.0</td>\n",
              "      <td>4.0</td>\n",
              "      <td>at_home</td>\n",
              "      <td>other</td>\n",
              "      <td>course</td>\n",
              "      <td>mother</td>\n",
              "      <td>3.0</td>\n",
              "      <td>2.0</td>\n",
              "      <td>0.0</td>\n",
              "      <td>no</td>\n",
              "      <td>no</td>\n",
              "      <td>no</td>\n",
              "      <td>no</td>\n",
              "      <td>yes</td>\n",
              "      <td>yes</td>\n",
              "      <td>no</td>\n",
              "      <td>yes</td>\n",
              "      <td>NaN</td>\n",
              "      <td>3.0</td>\n",
              "      <td>4.0</td>\n",
              "      <td>5.0</td>\n",
              "      <td>0.0</td>\n",
              "      <td>65.0</td>\n",
              "    </tr>\n",
              "  </tbody>\n",
              "</table>\n",
              "</div>"
            ],
            "text/plain": [
              "    school sex  age address famsize pstatus  medu  fedu      mjob      fjob  \\\n",
              "378     MS   F   18       U     GT3       T   3.0   3.0     other     other   \n",
              "330     GP   M   18       U     LE3       T   2.0   2.0     other     other   \n",
              "135     GP   F   15       U     GT3       T   4.0   4.0  services      None   \n",
              "124     GP   F   16       U     GT3       T   2.0   2.0     other     other   \n",
              "203     GP   F   17       R     GT3       T   2.0   2.0     other     other   \n",
              "366     MS   M   18       U     LE3       T   4.0   4.0   teacher  services   \n",
              "63      GP   F   16       U     GT3    None   4.0   3.0   teacher    health   \n",
              "358     MS   M   18       U     LE3       T   1.0   1.0     other  services   \n",
              "360     MS   F   18       R    None       A   1.0   4.0   at_home     other   \n",
              "\n",
              "         reason guardian  traveltime  studytime  failures schoolsup famsup  \\\n",
              "378        home   mother         1.0        2.0       0.0        no     no   \n",
              "330      course   mother         1.0        4.0       0.0        no    yes   \n",
              "135      course   mother         1.0        3.0       0.0        no    yes   \n",
              "124        home   mother         1.0        2.0       0.0        no     no   \n",
              "203  reputation   mother         1.0        1.0       0.0        no    yes   \n",
              "366       other   mother         2.0        3.0       0.0        no     no   \n",
              "63         None   mother         1.0        3.0       0.0       yes    yes   \n",
              "358        home   father         2.0        1.0       0.0        no     no   \n",
              "360      course   mother         3.0        2.0       0.0        no     no   \n",
              "\n",
              "    paid activities nursery higher internet romantic  famrel  freetime  goout  \\\n",
              "378  yes         no     yes    yes      yes      yes     4.0       1.0    3.0   \n",
              "330   no        yes     yes    yes      yes     None     4.0       5.0    5.0   \n",
              "135   no        yes     yes    yes      yes      yes     4.0       3.0    3.0   \n",
              "124  yes         no     yes    yes      yes      yes     5.0       4.0    4.0   \n",
              "203   no         no     yes    yes      yes       no     5.0       3.0    2.0   \n",
              "366  yes         no     yes    yes      yes      yes     4.0       2.0    2.0   \n",
              "63   yes        yes     yes    yes      yes       no     3.0       4.0    4.0   \n",
              "358   no         no      no    yes      yes      yes     3.0       3.0    2.0   \n",
              "360   no         no     yes    yes       no      yes     NaN       3.0    4.0   \n",
              "\n",
              "     health  absences  score  \n",
              "378     1.0       0.0   75.0  \n",
              "330     NaN       2.0   40.0  \n",
              "135     5.0       0.0    0.0  \n",
              "124     5.0       0.0   40.0  \n",
              "203     3.0      18.0   30.0  \n",
              "366     5.0       0.0   65.0  \n",
              "63      4.0       2.0   45.0  \n",
              "358     3.0       4.0   50.0  \n",
              "360     5.0       0.0   65.0  "
            ]
          },
          "metadata": {
            "tags": []
          },
          "execution_count": 22
        }
      ]
    },
    {
      "cell_type": "code",
      "metadata": {
        "id": "-FYnli9M3sjx",
        "colab_type": "code",
        "colab": {}
      },
      "source": [
        ""
      ],
      "execution_count": 22,
      "outputs": []
    },
    {
      "cell_type": "code",
      "metadata": {
        "id": "wwbKTXUZ3sjy",
        "colab_type": "code",
        "colab": {}
      },
      "source": [
        ""
      ],
      "execution_count": 22,
      "outputs": []
    },
    {
      "cell_type": "markdown",
      "metadata": {
        "id": "PzWTgixS3sjz",
        "colab_type": "text"
      },
      "source": [
        "## Распределение признака для числовых переменных"
      ]
    },
    {
      "cell_type": "code",
      "metadata": {
        "id": "y74DSIiw3sj0",
        "colab_type": "code",
        "colab": {
          "base_uri": "https://localhost:8080/",
          "height": 34
        },
        "outputId": "2a794f7b-787c-401e-843d-e9dfd3e0cbb2"
      },
      "source": [
        "# количество числовых столбцов\n",
        "len(dig_columns)"
      ],
      "execution_count": 23,
      "outputs": [
        {
          "output_type": "execute_result",
          "data": {
            "text/plain": [
              "12"
            ]
          },
          "metadata": {
            "tags": []
          },
          "execution_count": 23
        }
      ]
    },
    {
      "cell_type": "code",
      "metadata": {
        "id": "PpnlOo3n6Jke",
        "colab_type": "code",
        "colab": {
          "base_uri": "https://localhost:8080/",
          "height": 221
        },
        "outputId": "b1584262-f376-4707-ddd6-97d5c8804c93"
      },
      "source": [
        "# список числовых столбцов\n",
        "dig_columns"
      ],
      "execution_count": 24,
      "outputs": [
        {
          "output_type": "execute_result",
          "data": {
            "text/plain": [
              "['age',\n",
              " 'medu',\n",
              " 'fedu',\n",
              " 'traveltime',\n",
              " 'studytime',\n",
              " 'failures',\n",
              " 'famrel',\n",
              " 'freetime',\n",
              " 'goout',\n",
              " 'health',\n",
              " 'absences',\n",
              " 'score']"
            ]
          },
          "metadata": {
            "tags": []
          },
          "execution_count": 24
        }
      ]
    },
    {
      "cell_type": "code",
      "metadata": {
        "id": "cX1nY1HO3sj1",
        "colab_type": "code",
        "colab": {
          "base_uri": "https://localhost:8080/",
          "height": 340
        },
        "outputId": "56acec67-f249-4ae7-cf36-1979d5ce82db"
      },
      "source": [
        "# список и расширенная информация для числовых столбцов\n",
        "stud.loc[:, dig_columns].info()"
      ],
      "execution_count": 25,
      "outputs": [
        {
          "output_type": "stream",
          "text": [
            "<class 'pandas.core.frame.DataFrame'>\n",
            "RangeIndex: 395 entries, 0 to 394\n",
            "Data columns (total 12 columns):\n",
            " #   Column      Non-Null Count  Dtype  \n",
            "---  ------      --------------  -----  \n",
            " 0   age         395 non-null    int64  \n",
            " 1   medu        392 non-null    float64\n",
            " 2   fedu        371 non-null    float64\n",
            " 3   traveltime  367 non-null    float64\n",
            " 4   studytime   388 non-null    float64\n",
            " 5   failures    373 non-null    float64\n",
            " 6   famrel      368 non-null    float64\n",
            " 7   freetime    384 non-null    float64\n",
            " 8   goout       387 non-null    float64\n",
            " 9   health      380 non-null    float64\n",
            " 10  absences    383 non-null    float64\n",
            " 11  score       389 non-null    float64\n",
            "dtypes: float64(11), int64(1)\n",
            "memory usage: 37.2 KB\n"
          ],
          "name": "stdout"
        }
      ]
    },
    {
      "cell_type": "markdown",
      "metadata": {
        "id": "k4g5EsUV3sj3",
        "colab_type": "text"
      },
      "source": [
        "### age"
      ]
    },
    {
      "cell_type": "markdown",
      "metadata": {
        "id": "fooEl3VZOT3z",
        "colab_type": "text"
      },
      "source": [
        "age — возраст ученика (от 15 до 22)"
      ]
    },
    {
      "cell_type": "code",
      "metadata": {
        "id": "y9EfOa3W3sj3",
        "colab_type": "code",
        "colab": {
          "base_uri": "https://localhost:8080/",
          "height": 272
        },
        "outputId": "f5c62d80-1d30-4d9c-d64a-8e6f421d16f5"
      },
      "source": [
        "column_content_analysis(['age'])"
      ],
      "execution_count": 26,
      "outputs": [
        {
          "output_type": "stream",
          "text": [
            "------------------------------------------------------------\n",
            "|\t Отчет по колонке [ age ] \t\t\t\t\t\n",
            "------------------------------------------------------------\n",
            "|  Тип данных: int64\n",
            "|  Заполнено значений: 395 из 395\n",
            "|  Отсутсвующие значения: 0\n",
            "|  Полнота данных: 100.0%\n",
            "|  Количество уникальных значений: 8\n",
            "|  Значений, встретившихся в столбце более 10 раз: 5\n",
            "|  IQR: 2.0; границы выбросов: [13.0; 21.0]\n",
            "|  Данные СОДЕРЖАТ выбросы, количество значений:  1\n",
            "|    Справа от IQR (уникальные): [22]\n",
            "|\n",
            "|  Все уникальные значения: [18 17 15 16 19 22 20 21] \n",
            "\n"
          ],
          "name": "stdout"
        }
      ]
    },
    {
      "cell_type": "markdown",
      "metadata": {
        "id": "js-IZ4fqxYZ1",
        "colab_type": "text"
      },
      "source": [
        "* Колонка не содержит пустых значений.\n",
        "* Есть 1 выброс данных.\n",
        "* Значение выброса `22` в ходит допустимый диапазон, поэтому фильтрация не потребуется."
      ]
    },
    {
      "cell_type": "code",
      "metadata": {
        "id": "WUr-NIaiCHbM",
        "colab_type": "code",
        "colab": {
          "base_uri": "https://localhost:8080/",
          "height": 297
        },
        "outputId": "5e9b8b55-1676-4508-a5f0-e9ca4d8bc23a"
      },
      "source": [
        "# посмотрим на содержимое столбца и количество значений\n",
        "display(pd.DataFrame(stud['age'].value_counts()).sort_index())"
      ],
      "execution_count": 138,
      "outputs": [
        {
          "output_type": "display_data",
          "data": {
            "text/html": [
              "<div>\n",
              "<style scoped>\n",
              "    .dataframe tbody tr th:only-of-type {\n",
              "        vertical-align: middle;\n",
              "    }\n",
              "\n",
              "    .dataframe tbody tr th {\n",
              "        vertical-align: top;\n",
              "    }\n",
              "\n",
              "    .dataframe thead th {\n",
              "        text-align: right;\n",
              "    }\n",
              "</style>\n",
              "<table border=\"1\" class=\"dataframe\">\n",
              "  <thead>\n",
              "    <tr style=\"text-align: right;\">\n",
              "      <th></th>\n",
              "      <th>age</th>\n",
              "    </tr>\n",
              "  </thead>\n",
              "  <tbody>\n",
              "    <tr>\n",
              "      <th>15</th>\n",
              "      <td>82</td>\n",
              "    </tr>\n",
              "    <tr>\n",
              "      <th>16</th>\n",
              "      <td>104</td>\n",
              "    </tr>\n",
              "    <tr>\n",
              "      <th>17</th>\n",
              "      <td>98</td>\n",
              "    </tr>\n",
              "    <tr>\n",
              "      <th>18</th>\n",
              "      <td>82</td>\n",
              "    </tr>\n",
              "    <tr>\n",
              "      <th>19</th>\n",
              "      <td>24</td>\n",
              "    </tr>\n",
              "    <tr>\n",
              "      <th>20</th>\n",
              "      <td>3</td>\n",
              "    </tr>\n",
              "    <tr>\n",
              "      <th>21</th>\n",
              "      <td>1</td>\n",
              "    </tr>\n",
              "    <tr>\n",
              "      <th>22</th>\n",
              "      <td>1</td>\n",
              "    </tr>\n",
              "  </tbody>\n",
              "</table>\n",
              "</div>"
            ],
            "text/plain": [
              "    age\n",
              "15   82\n",
              "16  104\n",
              "17   98\n",
              "18   82\n",
              "19   24\n",
              "20    3\n",
              "21    1\n",
              "22    1"
            ]
          },
          "metadata": {
            "tags": []
          }
        }
      ]
    },
    {
      "cell_type": "code",
      "metadata": {
        "id": "jnh8H0bl3sj4",
        "colab_type": "code",
        "colab": {
          "base_uri": "https://localhost:8080/",
          "height": 170
        },
        "outputId": "8b558ab1-1737-4950-b99c-be391db850ca"
      },
      "source": [
        "stud['age'].describe()"
      ],
      "execution_count": 28,
      "outputs": [
        {
          "output_type": "execute_result",
          "data": {
            "text/plain": [
              "count    395.000000\n",
              "mean      16.696203\n",
              "std        1.276043\n",
              "min       15.000000\n",
              "25%       16.000000\n",
              "50%       17.000000\n",
              "75%       18.000000\n",
              "max       22.000000\n",
              "Name: age, dtype: float64"
            ]
          },
          "metadata": {
            "tags": []
          },
          "execution_count": 28
        }
      ]
    },
    {
      "cell_type": "code",
      "metadata": {
        "id": "3L7Wl7OL7bCi",
        "colab_type": "code",
        "colab": {}
      },
      "source": [
        "# stud['age'].describe().loc['25%'], stud['age'].describe().loc['75%']"
      ],
      "execution_count": 29,
      "outputs": []
    },
    {
      "cell_type": "code",
      "metadata": {
        "id": "rYYfYe8g3sj6",
        "colab_type": "code",
        "colab": {
          "base_uri": "https://localhost:8080/",
          "height": 282
        },
        "outputId": "9c60ef43-4cbf-4e3e-bc17-19852338b366"
      },
      "source": [
        "stud['age'].hist()"
      ],
      "execution_count": 30,
      "outputs": [
        {
          "output_type": "execute_result",
          "data": {
            "text/plain": [
              "<matplotlib.axes._subplots.AxesSubplot at 0x7f1dd590ae80>"
            ]
          },
          "metadata": {
            "tags": []
          },
          "execution_count": 30
        },
        {
          "output_type": "display_data",
          "data": {
            "image/png": "[encoded data removed]",
            "text/plain": [
              "<Figure size 432x288 with 1 Axes>"
            ]
          },
          "metadata": {
            "tags": [],
            "needs_background": "light"
          }
        }
      ]
    },
    {
      "cell_type": "markdown",
      "metadata": {
        "id": "hvgRLnGy3sj7",
        "colab_type": "text"
      },
      "source": [
        "### medu"
      ]
    },
    {
      "cell_type": "markdown",
      "metadata": {
        "id": "frJs4mgwOdr4",
        "colab_type": "text"
      },
      "source": [
        "Medu — образование матери (0 - нет, 1 - 4 класса, 2 - 5-9 классы, 3 - среднее специальное или 11 классов, 4 - высшее)"
      ]
    },
    {
      "cell_type": "code",
      "metadata": {
        "id": "Xz05aeTp3sj7",
        "colab_type": "code",
        "colab": {
          "base_uri": "https://localhost:8080/",
          "height": 255
        },
        "outputId": "dd076eda-b483-4a01-c113-7deb371cda67"
      },
      "source": [
        "column_content_analysis(['medu'])"
      ],
      "execution_count": 123,
      "outputs": [
        {
          "output_type": "stream",
          "text": [
            "------------------------------------------------------------\n",
            "|\t Отчет по колонке [ medu ] \t\t\t\t\t\n",
            "------------------------------------------------------------\n",
            "|  Тип данных: float64\n",
            "|  Заполнено значений: 392 из 395\n",
            "|  Отсутсвующие значения: 3\n",
            "|  Полнота данных: 99.24%\n",
            "|  Количество уникальных значений: 5\n",
            "|  Значений, встретившихся в столбце более 10 раз: 4\n",
            "|  Медиана:  3.0\n",
            "|  IQR: 2.0; границы выбросов: [-1.0; 7.0]\n",
            "|---\n",
            "|  Все уникальные значения: [ 4.  1.  3.  2. nan  0.] \n",
            "\n"
          ],
          "name": "stdout"
        }
      ]
    },
    {
      "cell_type": "markdown",
      "metadata": {
        "id": "a_JEm-iszism",
        "colab_type": "text"
      },
      "source": [
        "* Колонка содержит только 3 пустых значения. \n",
        "* Качество данных хорошее.\n",
        "* Выбросов не обнаружено."
      ]
    },
    {
      "cell_type": "code",
      "metadata": {
        "id": "SM1ae1lwCgvG",
        "colab_type": "code",
        "colab": {
          "base_uri": "https://localhost:8080/",
          "height": 204
        },
        "outputId": "c25024b5-fb9c-445f-ee46-efea56c9b020"
      },
      "source": [
        "# посмотрим на содержимое столбца и количество значений\n",
        "display(pd.DataFrame(stud['medu'].value_counts()))"
      ],
      "execution_count": 32,
      "outputs": [
        {
          "output_type": "display_data",
          "data": {
            "text/html": [
              "<div>\n",
              "<style scoped>\n",
              "    .dataframe tbody tr th:only-of-type {\n",
              "        vertical-align: middle;\n",
              "    }\n",
              "\n",
              "    .dataframe tbody tr th {\n",
              "        vertical-align: top;\n",
              "    }\n",
              "\n",
              "    .dataframe thead th {\n",
              "        text-align: right;\n",
              "    }\n",
              "</style>\n",
              "<table border=\"1\" class=\"dataframe\">\n",
              "  <thead>\n",
              "    <tr style=\"text-align: right;\">\n",
              "      <th></th>\n",
              "      <th>medu</th>\n",
              "    </tr>\n",
              "  </thead>\n",
              "  <tbody>\n",
              "    <tr>\n",
              "      <th>4.0</th>\n",
              "      <td>131</td>\n",
              "    </tr>\n",
              "    <tr>\n",
              "      <th>2.0</th>\n",
              "      <td>102</td>\n",
              "    </tr>\n",
              "    <tr>\n",
              "      <th>3.0</th>\n",
              "      <td>97</td>\n",
              "    </tr>\n",
              "    <tr>\n",
              "      <th>1.0</th>\n",
              "      <td>59</td>\n",
              "    </tr>\n",
              "    <tr>\n",
              "      <th>0.0</th>\n",
              "      <td>3</td>\n",
              "    </tr>\n",
              "  </tbody>\n",
              "</table>\n",
              "</div>"
            ],
            "text/plain": [
              "     medu\n",
              "4.0   131\n",
              "2.0   102\n",
              "3.0    97\n",
              "1.0    59\n",
              "0.0     3"
            ]
          },
          "metadata": {
            "tags": []
          }
        }
      ]
    },
    {
      "cell_type": "code",
      "metadata": {
        "id": "pZcqLG1B3sj8",
        "colab_type": "code",
        "colab": {
          "base_uri": "https://localhost:8080/",
          "height": 170
        },
        "outputId": "287875c5-16a8-40e7-d525-34899e334132"
      },
      "source": [
        "stud['medu'].describe()"
      ],
      "execution_count": 33,
      "outputs": [
        {
          "output_type": "execute_result",
          "data": {
            "text/plain": [
              "count    392.000000\n",
              "mean       2.750000\n",
              "std        1.098127\n",
              "min        0.000000\n",
              "25%        2.000000\n",
              "50%        3.000000\n",
              "75%        4.000000\n",
              "max        4.000000\n",
              "Name: medu, dtype: float64"
            ]
          },
          "metadata": {
            "tags": []
          },
          "execution_count": 33
        }
      ]
    },
    {
      "cell_type": "code",
      "metadata": {
        "id": "GwttbEu43sj-",
        "colab_type": "code",
        "colab": {
          "base_uri": "https://localhost:8080/",
          "height": 282
        },
        "outputId": "19e4e754-8109-415d-9480-728aea0e4c2c"
      },
      "source": [
        "stud['medu'].hist()"
      ],
      "execution_count": 34,
      "outputs": [
        {
          "output_type": "execute_result",
          "data": {
            "text/plain": [
              "<matplotlib.axes._subplots.AxesSubplot at 0x7f1dd5871a58>"
            ]
          },
          "metadata": {
            "tags": []
          },
          "execution_count": 34
        },
        {
          "output_type": "display_data",
          "data": {
            "image/png": "[encoded data removed]",
            "text/plain": [
              "<Figure size 432x288 with 1 Axes>"
            ]
          },
          "metadata": {
            "tags": [],
            "needs_background": "light"
          }
        }
      ]
    },
    {
      "cell_type": "markdown",
      "metadata": {
        "id": "XUQ30hiT3sj_",
        "colab_type": "text"
      },
      "source": [
        "### fedu"
      ]
    },
    {
      "cell_type": "markdown",
      "metadata": {
        "id": "gweWWU40Ojns",
        "colab_type": "text"
      },
      "source": [
        "Fedu — образование отца (0 - нет, 1 - 4 класса, 2 - 5-9 классы, 3 - среднее специальное или 11 классов, 4 - высшее)"
      ]
    },
    {
      "cell_type": "code",
      "metadata": {
        "id": "qYS_1Py-3sj_",
        "colab_type": "code",
        "colab": {
          "base_uri": "https://localhost:8080/",
          "height": 289
        },
        "outputId": "e320e5e7-c7a5-4569-c6ac-2487ee973d75"
      },
      "source": [
        "column_content_analysis(['fedu'])"
      ],
      "execution_count": 35,
      "outputs": [
        {
          "output_type": "stream",
          "text": [
            "------------------------------------------------------------\n",
            "|\t Отчет по колонке [ fedu ] \t\t\t\t\t\n",
            "------------------------------------------------------------\n",
            "|  Тип данных: float64\n",
            "|  Заполнено значений: 371 из 395\n",
            "|  Отсутсвующие значения: 24\n",
            "|  Полнота данных: 93.92%\n",
            "|  Количество уникальных значений: 6\n",
            "|  Значений, встретившихся в столбце более 10 раз: 4\n",
            "|  IQR: 1.0; границы выбросов: [0.5; 4.5]\n",
            "|  Данные СОДЕРЖАТ выбросы, количество значений:  3\n",
            "|    Слева  от IQR (уникальные): [0.]\n",
            "|    Справа от IQR (уникальные): [40.]\n",
            "|\n",
            "|  Все уникальные значения: [ 4.  1.  2.  3. 40. nan  0.] \n",
            "\n"
          ],
          "name": "stdout"
        }
      ]
    },
    {
      "cell_type": "code",
      "metadata": {
        "id": "5tQsncvZC1Dp",
        "colab_type": "code",
        "colab": {
          "base_uri": "https://localhost:8080/",
          "height": 235
        },
        "outputId": "a58f0082-86f5-4620-ca7e-07585f1230f3"
      },
      "source": [
        "# посмотрим на содержимое столбца и количество значений\n",
        "display(pd.DataFrame(stud['fedu'].value_counts()))"
      ],
      "execution_count": 36,
      "outputs": [
        {
          "output_type": "display_data",
          "data": {
            "text/html": [
              "<div>\n",
              "<style scoped>\n",
              "    .dataframe tbody tr th:only-of-type {\n",
              "        vertical-align: middle;\n",
              "    }\n",
              "\n",
              "    .dataframe tbody tr th {\n",
              "        vertical-align: top;\n",
              "    }\n",
              "\n",
              "    .dataframe thead th {\n",
              "        text-align: right;\n",
              "    }\n",
              "</style>\n",
              "<table border=\"1\" class=\"dataframe\">\n",
              "  <thead>\n",
              "    <tr style=\"text-align: right;\">\n",
              "      <th></th>\n",
              "      <th>fedu</th>\n",
              "    </tr>\n",
              "  </thead>\n",
              "  <tbody>\n",
              "    <tr>\n",
              "      <th>2.0</th>\n",
              "      <td>106</td>\n",
              "    </tr>\n",
              "    <tr>\n",
              "      <th>3.0</th>\n",
              "      <td>96</td>\n",
              "    </tr>\n",
              "    <tr>\n",
              "      <th>4.0</th>\n",
              "      <td>88</td>\n",
              "    </tr>\n",
              "    <tr>\n",
              "      <th>1.0</th>\n",
              "      <td>78</td>\n",
              "    </tr>\n",
              "    <tr>\n",
              "      <th>0.0</th>\n",
              "      <td>2</td>\n",
              "    </tr>\n",
              "    <tr>\n",
              "      <th>40.0</th>\n",
              "      <td>1</td>\n",
              "    </tr>\n",
              "  </tbody>\n",
              "</table>\n",
              "</div>"
            ],
            "text/plain": [
              "      fedu\n",
              "2.0    106\n",
              "3.0     96\n",
              "4.0     88\n",
              "1.0     78\n",
              "0.0      2\n",
              "40.0     1"
            ]
          },
          "metadata": {
            "tags": []
          }
        }
      ]
    },
    {
      "cell_type": "code",
      "metadata": {
        "id": "fQGmvHuJ3skA",
        "colab_type": "code",
        "colab": {
          "base_uri": "https://localhost:8080/",
          "height": 170
        },
        "outputId": "9d943e71-8869-4296-f2be-b752c2fce642"
      },
      "source": [
        "stud['fedu'].describe()"
      ],
      "execution_count": 37,
      "outputs": [
        {
          "output_type": "execute_result",
          "data": {
            "text/plain": [
              "count    371.000000\n",
              "mean       2.614555\n",
              "std        2.228732\n",
              "min        0.000000\n",
              "25%        2.000000\n",
              "50%        2.000000\n",
              "75%        3.000000\n",
              "max       40.000000\n",
              "Name: fedu, dtype: float64"
            ]
          },
          "metadata": {
            "tags": []
          },
          "execution_count": 37
        }
      ]
    },
    {
      "cell_type": "markdown",
      "metadata": {
        "id": "1Yh9fJ1n3RTr",
        "colab_type": "text"
      },
      "source": [
        "* Колонка содержит пустые значения - `24` шт. \n",
        "* Качество данных нормальное.\n",
        "* Обнаружен выброс данных (значение `40`). Это явная опечатка, можно скорректировать до `4`.\n",
        "* Значение `0`, меньшей левой границы - попадае в рамки начальных условий."
      ]
    },
    {
      "cell_type": "code",
      "metadata": {
        "id": "Cf0Kh4Ua3skC",
        "colab_type": "code",
        "colab": {
          "base_uri": "https://localhost:8080/",
          "height": 282
        },
        "outputId": "85ee2052-e1a5-4253-9b8d-e9b6cbc21a2e"
      },
      "source": [
        "stud['fedu'].hist()"
      ],
      "execution_count": 38,
      "outputs": [
        {
          "output_type": "execute_result",
          "data": {
            "text/plain": [
              "<matplotlib.axes._subplots.AxesSubplot at 0x7f1dd533d0b8>"
            ]
          },
          "metadata": {
            "tags": []
          },
          "execution_count": 38
        },
        {
          "output_type": "display_data",
          "data": {
            "image/png": "[encoded data removed]",
            "text/plain": [
              "<Figure size 432x288 with 1 Axes>"
            ]
          },
          "metadata": {
            "tags": [],
            "needs_background": "light"
          }
        }
      ]
    },
    {
      "cell_type": "markdown",
      "metadata": {
        "id": "s1NfN2q_3skD",
        "colab_type": "text"
      },
      "source": [
        "### traveltime"
      ]
    },
    {
      "cell_type": "markdown",
      "metadata": {
        "id": "cItFx4HZOq2E",
        "colab_type": "text"
      },
      "source": [
        "traveltime — время в пути до школы (1 - <15 мин., 2 - 15-30 мин., 3 - 30-60 мин., 4 - >60 мин.)"
      ]
    },
    {
      "cell_type": "code",
      "metadata": {
        "id": "ryr6kdpW3skE",
        "colab_type": "code",
        "colab": {
          "base_uri": "https://localhost:8080/",
          "height": 272
        },
        "outputId": "58a4d362-921e-498f-a5ab-b16fe28c2fe4"
      },
      "source": [
        "column_content_analysis(['traveltime'])"
      ],
      "execution_count": 39,
      "outputs": [
        {
          "output_type": "stream",
          "text": [
            "------------------------------------------------------------\n",
            "|\t Отчет по колонке [ traveltime ] \t\t\t\t\t\n",
            "------------------------------------------------------------\n",
            "|  Тип данных: float64\n",
            "|  Заполнено значений: 367 из 395\n",
            "|  Отсутсвующие значения: 28\n",
            "|  Полнота данных: 92.91%\n",
            "|  Количество уникальных значений: 4\n",
            "|  Значений, встретившихся в столбце более 10 раз: 3\n",
            "|  IQR: 1.0; границы выбросов: [-0.5; 3.5]\n",
            "|  Данные СОДЕРЖАТ выбросы, количество значений:  7\n",
            "|    Справа от IQR (уникальные): [4.]\n",
            "|\n",
            "|  Все уникальные значения: [ 2.  1.  3. nan  4.] \n",
            "\n"
          ],
          "name": "stdout"
        }
      ]
    },
    {
      "cell_type": "code",
      "metadata": {
        "id": "GuNrXMhZC__p",
        "colab_type": "code",
        "colab": {
          "base_uri": "https://localhost:8080/",
          "height": 173
        },
        "outputId": "85d742ac-6e35-4df7-d706-8158522431b4"
      },
      "source": [
        "# посмотрим на содержимое столбца и количество значений\n",
        "display(pd.DataFrame(stud['traveltime'].value_counts()))"
      ],
      "execution_count": 40,
      "outputs": [
        {
          "output_type": "display_data",
          "data": {
            "text/html": [
              "<div>\n",
              "<style scoped>\n",
              "    .dataframe tbody tr th:only-of-type {\n",
              "        vertical-align: middle;\n",
              "    }\n",
              "\n",
              "    .dataframe tbody tr th {\n",
              "        vertical-align: top;\n",
              "    }\n",
              "\n",
              "    .dataframe thead th {\n",
              "        text-align: right;\n",
              "    }\n",
              "</style>\n",
              "<table border=\"1\" class=\"dataframe\">\n",
              "  <thead>\n",
              "    <tr style=\"text-align: right;\">\n",
              "      <th></th>\n",
              "      <th>traveltime</th>\n",
              "    </tr>\n",
              "  </thead>\n",
              "  <tbody>\n",
              "    <tr>\n",
              "      <th>1.0</th>\n",
              "      <td>242</td>\n",
              "    </tr>\n",
              "    <tr>\n",
              "      <th>2.0</th>\n",
              "      <td>96</td>\n",
              "    </tr>\n",
              "    <tr>\n",
              "      <th>3.0</th>\n",
              "      <td>22</td>\n",
              "    </tr>\n",
              "    <tr>\n",
              "      <th>4.0</th>\n",
              "      <td>7</td>\n",
              "    </tr>\n",
              "  </tbody>\n",
              "</table>\n",
              "</div>"
            ],
            "text/plain": [
              "     traveltime\n",
              "1.0         242\n",
              "2.0          96\n",
              "3.0          22\n",
              "4.0           7"
            ]
          },
          "metadata": {
            "tags": []
          }
        }
      ]
    },
    {
      "cell_type": "code",
      "metadata": {
        "id": "a31Wwjvq3skF",
        "colab_type": "code",
        "colab": {
          "base_uri": "https://localhost:8080/",
          "height": 170
        },
        "outputId": "36f0eccf-c030-4fa1-a80e-83ea8cd318d6"
      },
      "source": [
        "stud['traveltime'].describe()"
      ],
      "execution_count": 41,
      "outputs": [
        {
          "output_type": "execute_result",
          "data": {
            "text/plain": [
              "count    367.000000\n",
              "mean       1.438692\n",
              "std        0.694181\n",
              "min        1.000000\n",
              "25%        1.000000\n",
              "50%        1.000000\n",
              "75%        2.000000\n",
              "max        4.000000\n",
              "Name: traveltime, dtype: float64"
            ]
          },
          "metadata": {
            "tags": []
          },
          "execution_count": 41
        }
      ]
    },
    {
      "cell_type": "markdown",
      "metadata": {
        "id": "iBMTjPeG5It2",
        "colab_type": "text"
      },
      "source": [
        "* Колонка содержит пустые значения - 28 шт. \n",
        "* Качество данных нормальное.\n",
        "* Обнаружен выброс данных, но в пределах допустимого."
      ]
    },
    {
      "cell_type": "code",
      "metadata": {
        "id": "XXLrg2Xp3skG",
        "colab_type": "code",
        "colab": {
          "base_uri": "https://localhost:8080/",
          "height": 283
        },
        "outputId": "ad83a28b-fdb1-4617-c876-35a8f1362aff"
      },
      "source": [
        "stud['traveltime'].hist()"
      ],
      "execution_count": 42,
      "outputs": [
        {
          "output_type": "execute_result",
          "data": {
            "text/plain": [
              "<matplotlib.axes._subplots.AxesSubplot at 0x7f1dd52cf0f0>"
            ]
          },
          "metadata": {
            "tags": []
          },
          "execution_count": 42
        },
        {
          "output_type": "display_data",
          "data": {
            "image/png": "[encoded data removed]",
            "text/plain": [
              "<Figure size 432x288 with 1 Axes>"
            ]
          },
          "metadata": {
            "tags": [],
            "needs_background": "light"
          }
        }
      ]
    },
    {
      "cell_type": "markdown",
      "metadata": {
        "id": "prowrJMU3skH",
        "colab_type": "text"
      },
      "source": [
        "### studytime"
      ]
    },
    {
      "cell_type": "markdown",
      "metadata": {
        "id": "IhA1uSdQOvCN",
        "colab_type": "text"
      },
      "source": [
        "studytime — время на учёбу помимо школы в неделю (1 - <2 часов, 2 - 2-5 часов, 3 - 5-10 часов, 4 - >10 часов)"
      ]
    },
    {
      "cell_type": "code",
      "metadata": {
        "id": "WwJwYf5H3skI",
        "colab_type": "code",
        "colab": {
          "base_uri": "https://localhost:8080/",
          "height": 272
        },
        "outputId": "0b78f692-6348-4d54-fa07-09bc656e72d2"
      },
      "source": [
        "column_content_analysis(['studytime'])"
      ],
      "execution_count": 43,
      "outputs": [
        {
          "output_type": "stream",
          "text": [
            "------------------------------------------------------------\n",
            "|\t Отчет по колонке [ studytime ] \t\t\t\t\t\n",
            "------------------------------------------------------------\n",
            "|  Тип данных: float64\n",
            "|  Заполнено значений: 388 из 395\n",
            "|  Отсутсвующие значения: 7\n",
            "|  Полнота данных: 98.23%\n",
            "|  Количество уникальных значений: 4\n",
            "|  Значений, встретившихся в столбце более 10 раз: 4\n",
            "|  IQR: 1.0; границы выбросов: [-0.5; 3.5]\n",
            "|  Данные СОДЕРЖАТ выбросы, количество значений:  27\n",
            "|    Справа от IQR (уникальные): [4.]\n",
            "|\n",
            "|  Все уникальные значения: [ 2.  3.  1. nan  4.] \n",
            "\n"
          ],
          "name": "stdout"
        }
      ]
    },
    {
      "cell_type": "code",
      "metadata": {
        "id": "LUyGzZw_DLp0",
        "colab_type": "code",
        "colab": {
          "base_uri": "https://localhost:8080/",
          "height": 173
        },
        "outputId": "43669cbf-83b7-4668-e389-d69c067f25f8"
      },
      "source": [
        "# посмотрим на содержимое столбца и количество значений\n",
        "display(pd.DataFrame(stud['studytime'].value_counts()))"
      ],
      "execution_count": 44,
      "outputs": [
        {
          "output_type": "display_data",
          "data": {
            "text/html": [
              "<div>\n",
              "<style scoped>\n",
              "    .dataframe tbody tr th:only-of-type {\n",
              "        vertical-align: middle;\n",
              "    }\n",
              "\n",
              "    .dataframe tbody tr th {\n",
              "        vertical-align: top;\n",
              "    }\n",
              "\n",
              "    .dataframe thead th {\n",
              "        text-align: right;\n",
              "    }\n",
              "</style>\n",
              "<table border=\"1\" class=\"dataframe\">\n",
              "  <thead>\n",
              "    <tr style=\"text-align: right;\">\n",
              "      <th></th>\n",
              "      <th>studytime</th>\n",
              "    </tr>\n",
              "  </thead>\n",
              "  <tbody>\n",
              "    <tr>\n",
              "      <th>2.0</th>\n",
              "      <td>194</td>\n",
              "    </tr>\n",
              "    <tr>\n",
              "      <th>1.0</th>\n",
              "      <td>103</td>\n",
              "    </tr>\n",
              "    <tr>\n",
              "      <th>3.0</th>\n",
              "      <td>64</td>\n",
              "    </tr>\n",
              "    <tr>\n",
              "      <th>4.0</th>\n",
              "      <td>27</td>\n",
              "    </tr>\n",
              "  </tbody>\n",
              "</table>\n",
              "</div>"
            ],
            "text/plain": [
              "     studytime\n",
              "2.0        194\n",
              "1.0        103\n",
              "3.0         64\n",
              "4.0         27"
            ]
          },
          "metadata": {
            "tags": []
          }
        }
      ]
    },
    {
      "cell_type": "code",
      "metadata": {
        "id": "JJSnb6cl3skJ",
        "colab_type": "code",
        "colab": {
          "base_uri": "https://localhost:8080/",
          "height": 170
        },
        "outputId": "1633caf4-8bb9-475f-d725-1d620df67bc0"
      },
      "source": [
        "stud['studytime'].describe()"
      ],
      "execution_count": 45,
      "outputs": [
        {
          "output_type": "execute_result",
          "data": {
            "text/plain": [
              "count    388.000000\n",
              "mean       2.038660\n",
              "std        0.842078\n",
              "min        1.000000\n",
              "25%        1.000000\n",
              "50%        2.000000\n",
              "75%        2.000000\n",
              "max        4.000000\n",
              "Name: studytime, dtype: float64"
            ]
          },
          "metadata": {
            "tags": []
          },
          "execution_count": 45
        }
      ]
    },
    {
      "cell_type": "markdown",
      "metadata": {
        "id": "xICSfbWw61Ox",
        "colab_type": "text"
      },
      "source": [
        "* Колонка содержит пустые значения - 7 шт. \n",
        "* Качество данных хорошее.\n",
        "* Обнаружен выброс данных, но в пределах допустимого."
      ]
    },
    {
      "cell_type": "code",
      "metadata": {
        "id": "TdFcVWtT3skK",
        "colab_type": "code",
        "colab": {
          "base_uri": "https://localhost:8080/",
          "height": 282
        },
        "outputId": "60387ee1-e95c-49e8-8db8-efa167ea5408"
      },
      "source": [
        "stud['studytime'].hist()"
      ],
      "execution_count": 46,
      "outputs": [
        {
          "output_type": "execute_result",
          "data": {
            "text/plain": [
              "<matplotlib.axes._subplots.AxesSubplot at 0x7f1dd529b940>"
            ]
          },
          "metadata": {
            "tags": []
          },
          "execution_count": 46
        },
        {
          "output_type": "display_data",
          "data": {
            "image/png": "[encoded data removed]",
            "text/plain": [
              "<Figure size 432x288 with 1 Axes>"
            ]
          },
          "metadata": {
            "tags": [],
            "needs_background": "light"
          }
        }
      ]
    },
    {
      "cell_type": "markdown",
      "metadata": {
        "id": "KkggSV273skL",
        "colab_type": "text"
      },
      "source": [
        "### failures"
      ]
    },
    {
      "cell_type": "markdown",
      "metadata": {
        "id": "V7RR43UXOzt6",
        "colab_type": "text"
      },
      "source": [
        " failures — количество внеучебных неудач (n, если 1<=n<=3, иначе 0)"
      ]
    },
    {
      "cell_type": "code",
      "metadata": {
        "id": "U0w7Ibix3skM",
        "colab_type": "code",
        "colab": {
          "base_uri": "https://localhost:8080/",
          "height": 272
        },
        "outputId": "ec8c43bd-aec8-460e-c2ba-766ac731f6fb"
      },
      "source": [
        "column_content_analysis(['failures'])"
      ],
      "execution_count": 47,
      "outputs": [
        {
          "output_type": "stream",
          "text": [
            "------------------------------------------------------------\n",
            "|\t Отчет по колонке [ failures ] \t\t\t\t\t\n",
            "------------------------------------------------------------\n",
            "|  Тип данных: float64\n",
            "|  Заполнено значений: 373 из 395\n",
            "|  Отсутсвующие значения: 22\n",
            "|  Полнота данных: 94.43%\n",
            "|  Количество уникальных значений: 4\n",
            "|  Значений, встретившихся в столбце более 10 раз: 4\n",
            "|  IQR: 0.0; границы выбросов: [0.0; 0.0]\n",
            "|  Данные СОДЕРЖАТ выбросы, количество значений:  80\n",
            "|    Справа от IQR (уникальные): [3. 2. 1.]\n",
            "|\n",
            "|  Все уникальные значения: [ 0.  3. nan  2.  1.] \n",
            "\n"
          ],
          "name": "stdout"
        }
      ]
    },
    {
      "cell_type": "code",
      "metadata": {
        "id": "lj5hK5pwDVR8",
        "colab_type": "code",
        "colab": {
          "base_uri": "https://localhost:8080/",
          "height": 173
        },
        "outputId": "90474ca4-174a-4141-cfe8-e476b1607968"
      },
      "source": [
        "# посмотрим на содержимое столбца и количество значений\n",
        "display(pd.DataFrame(stud['failures'].value_counts()))"
      ],
      "execution_count": 48,
      "outputs": [
        {
          "output_type": "display_data",
          "data": {
            "text/html": [
              "<div>\n",
              "<style scoped>\n",
              "    .dataframe tbody tr th:only-of-type {\n",
              "        vertical-align: middle;\n",
              "    }\n",
              "\n",
              "    .dataframe tbody tr th {\n",
              "        vertical-align: top;\n",
              "    }\n",
              "\n",
              "    .dataframe thead th {\n",
              "        text-align: right;\n",
              "    }\n",
              "</style>\n",
              "<table border=\"1\" class=\"dataframe\">\n",
              "  <thead>\n",
              "    <tr style=\"text-align: right;\">\n",
              "      <th></th>\n",
              "      <th>failures</th>\n",
              "    </tr>\n",
              "  </thead>\n",
              "  <tbody>\n",
              "    <tr>\n",
              "      <th>0.0</th>\n",
              "      <td>293</td>\n",
              "    </tr>\n",
              "    <tr>\n",
              "      <th>1.0</th>\n",
              "      <td>49</td>\n",
              "    </tr>\n",
              "    <tr>\n",
              "      <th>2.0</th>\n",
              "      <td>16</td>\n",
              "    </tr>\n",
              "    <tr>\n",
              "      <th>3.0</th>\n",
              "      <td>15</td>\n",
              "    </tr>\n",
              "  </tbody>\n",
              "</table>\n",
              "</div>"
            ],
            "text/plain": [
              "     failures\n",
              "0.0       293\n",
              "1.0        49\n",
              "2.0        16\n",
              "3.0        15"
            ]
          },
          "metadata": {
            "tags": []
          }
        }
      ]
    },
    {
      "cell_type": "code",
      "metadata": {
        "id": "53Ada7_s3skN",
        "colab_type": "code",
        "colab": {
          "base_uri": "https://localhost:8080/",
          "height": 170
        },
        "outputId": "91368ee4-145c-4cdb-f42c-7188b226bbf9"
      },
      "source": [
        "stud['failures'].describe()"
      ],
      "execution_count": 49,
      "outputs": [
        {
          "output_type": "execute_result",
          "data": {
            "text/plain": [
              "count    373.000000\n",
              "mean       0.337802\n",
              "std        0.743135\n",
              "min        0.000000\n",
              "25%        0.000000\n",
              "50%        0.000000\n",
              "75%        0.000000\n",
              "max        3.000000\n",
              "Name: failures, dtype: float64"
            ]
          },
          "metadata": {
            "tags": []
          },
          "execution_count": 49
        }
      ]
    },
    {
      "cell_type": "markdown",
      "metadata": {
        "id": "EcgR14DT7L52",
        "colab_type": "text"
      },
      "source": [
        "* Колонка содержит пустые значения - 22 шт. \n",
        "* Качество данных нормальное.\n",
        "* Обнаружен выброс данных, но в пределах допустимого.\n",
        "* Уникальные значения в пределах начальных условий."
      ]
    },
    {
      "cell_type": "code",
      "metadata": {
        "id": "47V0NX6W3skO",
        "colab_type": "code",
        "colab": {
          "base_uri": "https://localhost:8080/",
          "height": 282
        },
        "outputId": "f86149ff-92df-4add-e129-d67be7f3f7b8"
      },
      "source": [
        "stud['failures'].hist()"
      ],
      "execution_count": 50,
      "outputs": [
        {
          "output_type": "execute_result",
          "data": {
            "text/plain": [
              "<matplotlib.axes._subplots.AxesSubplot at 0x7f1dd52a5a90>"
            ]
          },
          "metadata": {
            "tags": []
          },
          "execution_count": 50
        },
        {
          "output_type": "display_data",
          "data": {
            "image/png": "[encoded data removed]",
            "text/plain": [
              "<Figure size 432x288 with 1 Axes>"
            ]
          },
          "metadata": {
            "tags": [],
            "needs_background": "light"
          }
        }
      ]
    },
    {
      "cell_type": "markdown",
      "metadata": {
        "id": "OE66YQmC3skP",
        "colab_type": "text"
      },
      "source": [
        "### famrel"
      ]
    },
    {
      "cell_type": "markdown",
      "metadata": {
        "id": "a8xVaklrO6XI",
        "colab_type": "text"
      },
      "source": [
        "famrel — семейные отношения (от 1 - очень плохо до 5 - очень хорошо)"
      ]
    },
    {
      "cell_type": "code",
      "metadata": {
        "id": "Nbj5aEKn3skP",
        "colab_type": "code",
        "colab": {
          "base_uri": "https://localhost:8080/",
          "height": 272
        },
        "outputId": "546a3a13-a25f-489c-a649-ed5ad119f609"
      },
      "source": [
        "column_content_analysis(['famrel'])"
      ],
      "execution_count": 51,
      "outputs": [
        {
          "output_type": "stream",
          "text": [
            "------------------------------------------------------------\n",
            "|\t Отчет по колонке [ famrel ] \t\t\t\t\t\n",
            "------------------------------------------------------------\n",
            "|  Тип данных: float64\n",
            "|  Заполнено значений: 368 из 395\n",
            "|  Отсутсвующие значения: 27\n",
            "|  Полнота данных: 93.16%\n",
            "|  Количество уникальных значений: 6\n",
            "|  Значений, встретившихся в столбце более 10 раз: 4\n",
            "|  IQR: 1.0; границы выбросов: [2.5; 6.5]\n",
            "|  Данные СОДЕРЖАТ выбросы, количество значений:  25\n",
            "|    Слева  от IQR (уникальные): [-1.  2.  1.]\n",
            "|\n",
            "|  Все уникальные значения: [ 4.  5.  3. nan -1.  2.  1.] \n",
            "\n"
          ],
          "name": "stdout"
        }
      ]
    },
    {
      "cell_type": "code",
      "metadata": {
        "id": "T_teXgXxDZc9",
        "colab_type": "code",
        "colab": {
          "base_uri": "https://localhost:8080/",
          "height": 235
        },
        "outputId": "41e98fd5-f682-4b5f-ec14-f752567490aa"
      },
      "source": [
        "# посмотрим на содержимое столбца и количество значений\n",
        "display(pd.DataFrame(stud['famrel'].value_counts()))"
      ],
      "execution_count": 52,
      "outputs": [
        {
          "output_type": "display_data",
          "data": {
            "text/html": [
              "<div>\n",
              "<style scoped>\n",
              "    .dataframe tbody tr th:only-of-type {\n",
              "        vertical-align: middle;\n",
              "    }\n",
              "\n",
              "    .dataframe tbody tr th {\n",
              "        vertical-align: top;\n",
              "    }\n",
              "\n",
              "    .dataframe thead th {\n",
              "        text-align: right;\n",
              "    }\n",
              "</style>\n",
              "<table border=\"1\" class=\"dataframe\">\n",
              "  <thead>\n",
              "    <tr style=\"text-align: right;\">\n",
              "      <th></th>\n",
              "      <th>famrel</th>\n",
              "    </tr>\n",
              "  </thead>\n",
              "  <tbody>\n",
              "    <tr>\n",
              "      <th>4.0</th>\n",
              "      <td>182</td>\n",
              "    </tr>\n",
              "    <tr>\n",
              "      <th>5.0</th>\n",
              "      <td>99</td>\n",
              "    </tr>\n",
              "    <tr>\n",
              "      <th>3.0</th>\n",
              "      <td>62</td>\n",
              "    </tr>\n",
              "    <tr>\n",
              "      <th>2.0</th>\n",
              "      <td>17</td>\n",
              "    </tr>\n",
              "    <tr>\n",
              "      <th>1.0</th>\n",
              "      <td>7</td>\n",
              "    </tr>\n",
              "    <tr>\n",
              "      <th>-1.0</th>\n",
              "      <td>1</td>\n",
              "    </tr>\n",
              "  </tbody>\n",
              "</table>\n",
              "</div>"
            ],
            "text/plain": [
              "      famrel\n",
              " 4.0     182\n",
              " 5.0      99\n",
              " 3.0      62\n",
              " 2.0      17\n",
              " 1.0       7\n",
              "-1.0       1"
            ]
          },
          "metadata": {
            "tags": []
          }
        }
      ]
    },
    {
      "cell_type": "code",
      "metadata": {
        "id": "272sq6Nx3skQ",
        "colab_type": "code",
        "colab": {
          "base_uri": "https://localhost:8080/",
          "height": 170
        },
        "outputId": "d1d2340d-c4a1-4d10-fea2-f0467a58de9e"
      },
      "source": [
        "stud['famrel'].describe()"
      ],
      "execution_count": 53,
      "outputs": [
        {
          "output_type": "execute_result",
          "data": {
            "text/plain": [
              "count    368.000000\n",
              "mean       3.937500\n",
              "std        0.927277\n",
              "min       -1.000000\n",
              "25%        4.000000\n",
              "50%        4.000000\n",
              "75%        5.000000\n",
              "max        5.000000\n",
              "Name: famrel, dtype: float64"
            ]
          },
          "metadata": {
            "tags": []
          },
          "execution_count": 53
        }
      ]
    },
    {
      "cell_type": "markdown",
      "metadata": {
        "id": "bKeISPKb7wNm",
        "colab_type": "text"
      },
      "source": [
        "* Колонка содержит пустые значения - 27 шт. \n",
        "* Качество данных нормальное.\n",
        "* Обнаружен выброс данных, за пределами допустимого со значением `-1`. Возможно опечатка (лишний минус).\n",
        "* Уникальные значения в пределах начальных условий."
      ]
    },
    {
      "cell_type": "code",
      "metadata": {
        "id": "xu9GPSzH3skR",
        "colab_type": "code",
        "colab": {
          "base_uri": "https://localhost:8080/",
          "height": 282
        },
        "outputId": "419f0c77-4a1d-4b2b-dbb5-617367e34846"
      },
      "source": [
        "stud['famrel'].hist()"
      ],
      "execution_count": 54,
      "outputs": [
        {
          "output_type": "execute_result",
          "data": {
            "text/plain": [
              "<matplotlib.axes._subplots.AxesSubplot at 0x7f1dd51395c0>"
            ]
          },
          "metadata": {
            "tags": []
          },
          "execution_count": 54
        },
        {
          "output_type": "display_data",
          "data": {
            "image/png": "[encoded data removed]",
            "text/plain": [
              "<Figure size 432x288 with 1 Axes>"
            ]
          },
          "metadata": {
            "tags": [],
            "needs_background": "light"
          }
        }
      ]
    },
    {
      "cell_type": "markdown",
      "metadata": {
        "id": "QL64GLnj3skS",
        "colab_type": "text"
      },
      "source": [
        "### freetime"
      ]
    },
    {
      "cell_type": "markdown",
      "metadata": {
        "id": "zCfXAPw-PBzy",
        "colab_type": "text"
      },
      "source": [
        "freetime — свободное время после школы (от 1 - очень мало до 5 - очень мого)"
      ]
    },
    {
      "cell_type": "code",
      "metadata": {
        "id": "vOiDhYUZ3skS",
        "colab_type": "code",
        "colab": {
          "base_uri": "https://localhost:8080/",
          "height": 272
        },
        "outputId": "05d34656-a78b-4382-f3a0-3244dbd3ccad"
      },
      "source": [
        "column_content_analysis(['freetime'])"
      ],
      "execution_count": 55,
      "outputs": [
        {
          "output_type": "stream",
          "text": [
            "------------------------------------------------------------\n",
            "|\t Отчет по колонке [ freetime ] \t\t\t\t\t\n",
            "------------------------------------------------------------\n",
            "|  Тип данных: float64\n",
            "|  Заполнено значений: 384 из 395\n",
            "|  Отсутсвующие значения: 11\n",
            "|  Полнота данных: 97.22%\n",
            "|  Количество уникальных значений: 5\n",
            "|  Значений, встретившихся в столбце более 10 раз: 5\n",
            "|  IQR: 1.0; границы выбросов: [1.5; 5.5]\n",
            "|  Данные СОДЕРЖАТ выбросы, количество значений:  18\n",
            "|    Слева  от IQR (уникальные): [1.]\n",
            "|\n",
            "|  Все уникальные значения: [ 3.  2.  4.  1.  5. nan] \n",
            "\n"
          ],
          "name": "stdout"
        }
      ]
    },
    {
      "cell_type": "code",
      "metadata": {
        "id": "jFzDzSQ4DiOW",
        "colab_type": "code",
        "colab": {
          "base_uri": "https://localhost:8080/",
          "height": 204
        },
        "outputId": "a09332d6-f391-4592-f032-105277cdaa68"
      },
      "source": [
        "# посмотрим на содержимое столбца и количество значений\n",
        "display(pd.DataFrame(stud['freetime'].value_counts()))"
      ],
      "execution_count": 56,
      "outputs": [
        {
          "output_type": "display_data",
          "data": {
            "text/html": [
              "<div>\n",
              "<style scoped>\n",
              "    .dataframe tbody tr th:only-of-type {\n",
              "        vertical-align: middle;\n",
              "    }\n",
              "\n",
              "    .dataframe tbody tr th {\n",
              "        vertical-align: top;\n",
              "    }\n",
              "\n",
              "    .dataframe thead th {\n",
              "        text-align: right;\n",
              "    }\n",
              "</style>\n",
              "<table border=\"1\" class=\"dataframe\">\n",
              "  <thead>\n",
              "    <tr style=\"text-align: right;\">\n",
              "      <th></th>\n",
              "      <th>freetime</th>\n",
              "    </tr>\n",
              "  </thead>\n",
              "  <tbody>\n",
              "    <tr>\n",
              "      <th>3.0</th>\n",
              "      <td>153</td>\n",
              "    </tr>\n",
              "    <tr>\n",
              "      <th>4.0</th>\n",
              "      <td>112</td>\n",
              "    </tr>\n",
              "    <tr>\n",
              "      <th>2.0</th>\n",
              "      <td>63</td>\n",
              "    </tr>\n",
              "    <tr>\n",
              "      <th>5.0</th>\n",
              "      <td>38</td>\n",
              "    </tr>\n",
              "    <tr>\n",
              "      <th>1.0</th>\n",
              "      <td>18</td>\n",
              "    </tr>\n",
              "  </tbody>\n",
              "</table>\n",
              "</div>"
            ],
            "text/plain": [
              "     freetime\n",
              "3.0       153\n",
              "4.0       112\n",
              "2.0        63\n",
              "5.0        38\n",
              "1.0        18"
            ]
          },
          "metadata": {
            "tags": []
          }
        }
      ]
    },
    {
      "cell_type": "code",
      "metadata": {
        "id": "tfJV7s6J3skU",
        "colab_type": "code",
        "colab": {
          "base_uri": "https://localhost:8080/",
          "height": 170
        },
        "outputId": "f3cdf67d-3c3c-47bc-e2b7-943402247d10"
      },
      "source": [
        "stud['freetime'].describe()"
      ],
      "execution_count": 57,
      "outputs": [
        {
          "output_type": "execute_result",
          "data": {
            "text/plain": [
              "count    384.000000\n",
              "mean       3.231771\n",
              "std        0.993940\n",
              "min        1.000000\n",
              "25%        3.000000\n",
              "50%        3.000000\n",
              "75%        4.000000\n",
              "max        5.000000\n",
              "Name: freetime, dtype: float64"
            ]
          },
          "metadata": {
            "tags": []
          },
          "execution_count": 57
        }
      ]
    },
    {
      "cell_type": "markdown",
      "metadata": {
        "id": "snCPwplc9Rwk",
        "colab_type": "text"
      },
      "source": [
        "* Колонка содержит пустые значения - 11 шт. \n",
        "* Качество данных хорошее.\n",
        "* Обнаружен выброс данных, но в пределах допустимого.\n",
        "* Уникальные значения в пределах начальных условий."
      ]
    },
    {
      "cell_type": "code",
      "metadata": {
        "id": "L8QaBsxF3skV",
        "colab_type": "code",
        "colab": {
          "base_uri": "https://localhost:8080/",
          "height": 285
        },
        "outputId": "f6bd8494-1e31-4ee4-92c3-bab98f59cb67"
      },
      "source": [
        "stud['freetime'].hist()"
      ],
      "execution_count": 58,
      "outputs": [
        {
          "output_type": "execute_result",
          "data": {
            "text/plain": [
              "<matplotlib.axes._subplots.AxesSubplot at 0x7f1dd5164f60>"
            ]
          },
          "metadata": {
            "tags": []
          },
          "execution_count": 58
        },
        {
          "output_type": "display_data",
          "data": {
            "image/png": "[encoded data removed]",
            "text/plain": [
              "<Figure size 432x288 with 1 Axes>"
            ]
          },
          "metadata": {
            "tags": [],
            "needs_background": "light"
          }
        }
      ]
    },
    {
      "cell_type": "markdown",
      "metadata": {
        "id": "I2fX98s63skW",
        "colab_type": "text"
      },
      "source": [
        "### goout"
      ]
    },
    {
      "cell_type": "markdown",
      "metadata": {
        "id": "dmNodhMrPEwT",
        "colab_type": "text"
      },
      "source": [
        "goout — проведение времени с друзьями (от 1 - очень мало до 5 - очень много)"
      ]
    },
    {
      "cell_type": "code",
      "metadata": {
        "id": "q83YzRJp3skW",
        "colab_type": "code",
        "colab": {
          "base_uri": "https://localhost:8080/",
          "height": 238
        },
        "outputId": "adcc5605-2cd3-4d23-bab3-3186f27f1bdb"
      },
      "source": [
        "column_content_analysis(['goout'])"
      ],
      "execution_count": 59,
      "outputs": [
        {
          "output_type": "stream",
          "text": [
            "------------------------------------------------------------\n",
            "|\t Отчет по колонке [ goout ] \t\t\t\t\t\n",
            "------------------------------------------------------------\n",
            "|  Тип данных: float64\n",
            "|  Заполнено значений: 387 из 395\n",
            "|  Отсутсвующие значения: 8\n",
            "|  Полнота данных: 97.97%\n",
            "|  Количество уникальных значений: 5\n",
            "|  Значений, встретившихся в столбце более 10 раз: 5\n",
            "|  IQR: 2.0; границы выбросов: [-1.0; 7.0]\n",
            "|\n",
            "|  Все уникальные значения: [ 4.  3.  2.  1.  5. nan] \n",
            "\n"
          ],
          "name": "stdout"
        }
      ]
    },
    {
      "cell_type": "code",
      "metadata": {
        "id": "0jc1YuyOD9tx",
        "colab_type": "code",
        "colab": {
          "base_uri": "https://localhost:8080/",
          "height": 204
        },
        "outputId": "43825652-df25-4268-ae58-5dd4f5fdd277"
      },
      "source": [
        "# посмотрим на содержимое столбца и количество значений\n",
        "display(pd.DataFrame(stud['goout'].value_counts()))"
      ],
      "execution_count": 60,
      "outputs": [
        {
          "output_type": "display_data",
          "data": {
            "text/html": [
              "<div>\n",
              "<style scoped>\n",
              "    .dataframe tbody tr th:only-of-type {\n",
              "        vertical-align: middle;\n",
              "    }\n",
              "\n",
              "    .dataframe tbody tr th {\n",
              "        vertical-align: top;\n",
              "    }\n",
              "\n",
              "    .dataframe thead th {\n",
              "        text-align: right;\n",
              "    }\n",
              "</style>\n",
              "<table border=\"1\" class=\"dataframe\">\n",
              "  <thead>\n",
              "    <tr style=\"text-align: right;\">\n",
              "      <th></th>\n",
              "      <th>goout</th>\n",
              "    </tr>\n",
              "  </thead>\n",
              "  <tbody>\n",
              "    <tr>\n",
              "      <th>3.0</th>\n",
              "      <td>127</td>\n",
              "    </tr>\n",
              "    <tr>\n",
              "      <th>2.0</th>\n",
              "      <td>101</td>\n",
              "    </tr>\n",
              "    <tr>\n",
              "      <th>4.0</th>\n",
              "      <td>84</td>\n",
              "    </tr>\n",
              "    <tr>\n",
              "      <th>5.0</th>\n",
              "      <td>52</td>\n",
              "    </tr>\n",
              "    <tr>\n",
              "      <th>1.0</th>\n",
              "      <td>23</td>\n",
              "    </tr>\n",
              "  </tbody>\n",
              "</table>\n",
              "</div>"
            ],
            "text/plain": [
              "     goout\n",
              "3.0    127\n",
              "2.0    101\n",
              "4.0     84\n",
              "5.0     52\n",
              "1.0     23"
            ]
          },
          "metadata": {
            "tags": []
          }
        }
      ]
    },
    {
      "cell_type": "code",
      "metadata": {
        "id": "OTfjEvw13skX",
        "colab_type": "code",
        "colab": {
          "base_uri": "https://localhost:8080/",
          "height": 170
        },
        "outputId": "68ed65a8-b01a-420e-9cc0-82a5904c280b"
      },
      "source": [
        "stud['goout'].describe()"
      ],
      "execution_count": 61,
      "outputs": [
        {
          "output_type": "execute_result",
          "data": {
            "text/plain": [
              "count    387.000000\n",
              "mean       3.105943\n",
              "std        1.115896\n",
              "min        1.000000\n",
              "25%        2.000000\n",
              "50%        3.000000\n",
              "75%        4.000000\n",
              "max        5.000000\n",
              "Name: goout, dtype: float64"
            ]
          },
          "metadata": {
            "tags": []
          },
          "execution_count": 61
        }
      ]
    },
    {
      "cell_type": "markdown",
      "metadata": {
        "id": "xntmg-BZ9exy",
        "colab_type": "text"
      },
      "source": [
        "* Колонка содержит пустые значения - 8 шт. \n",
        "* Качество данных хорошее.\n",
        "* Выбросов данных не обнаружено.\n",
        "* Уникальные значения в пределах начальных условий."
      ]
    },
    {
      "cell_type": "code",
      "metadata": {
        "id": "cumwhBqu3skY",
        "colab_type": "code",
        "colab": {
          "base_uri": "https://localhost:8080/",
          "height": 282
        },
        "outputId": "4ac22a5b-8a50-4a6b-cd21-f93f23436349"
      },
      "source": [
        "stud['goout'].hist()"
      ],
      "execution_count": 62,
      "outputs": [
        {
          "output_type": "execute_result",
          "data": {
            "text/plain": [
              "<matplotlib.axes._subplots.AxesSubplot at 0x7f1dd505e588>"
            ]
          },
          "metadata": {
            "tags": []
          },
          "execution_count": 62
        },
        {
          "output_type": "display_data",
          "data": {
            "image/png": "[encoded data removed]",
            "text/plain": [
              "<Figure size 432x288 with 1 Axes>"
            ]
          },
          "metadata": {
            "tags": [],
            "needs_background": "light"
          }
        }
      ]
    },
    {
      "cell_type": "markdown",
      "metadata": {
        "id": "UGO6gv553skZ",
        "colab_type": "text"
      },
      "source": [
        "### health"
      ]
    },
    {
      "cell_type": "markdown",
      "metadata": {
        "id": "pQNIZ1TuPIKX",
        "colab_type": "text"
      },
      "source": [
        "health — текущее состояние здоровья (от 1 - очень плохо до 5 - очень хорошо)"
      ]
    },
    {
      "cell_type": "code",
      "metadata": {
        "id": "bXWZVodx3skZ",
        "colab_type": "code",
        "colab": {
          "base_uri": "https://localhost:8080/",
          "height": 238
        },
        "outputId": "95684ee7-a92a-4fbb-e278-fdcdd5eef764"
      },
      "source": [
        "column_content_analysis(['health'])"
      ],
      "execution_count": 63,
      "outputs": [
        {
          "output_type": "stream",
          "text": [
            "------------------------------------------------------------\n",
            "|\t Отчет по колонке [ health ] \t\t\t\t\t\n",
            "------------------------------------------------------------\n",
            "|  Тип данных: float64\n",
            "|  Заполнено значений: 380 из 395\n",
            "|  Отсутсвующие значения: 15\n",
            "|  Полнота данных: 96.2%\n",
            "|  Количество уникальных значений: 5\n",
            "|  Значений, встретившихся в столбце более 10 раз: 5\n",
            "|  IQR: 2.0; границы выбросов: [0.0; 8.0]\n",
            "|\n",
            "|  Все уникальные значения: [ 3.  5.  1.  2.  4. nan] \n",
            "\n"
          ],
          "name": "stdout"
        }
      ]
    },
    {
      "cell_type": "code",
      "metadata": {
        "id": "1_KRTCBOEIbM",
        "colab_type": "code",
        "colab": {
          "base_uri": "https://localhost:8080/",
          "height": 204
        },
        "outputId": "bdd66194-337e-4706-80fd-1b6e4c1b20c7"
      },
      "source": [
        "# посмотрим на содержимое столбца и количество значений\n",
        "display(pd.DataFrame(stud['health'].value_counts()))"
      ],
      "execution_count": 64,
      "outputs": [
        {
          "output_type": "display_data",
          "data": {
            "text/html": [
              "<div>\n",
              "<style scoped>\n",
              "    .dataframe tbody tr th:only-of-type {\n",
              "        vertical-align: middle;\n",
              "    }\n",
              "\n",
              "    .dataframe tbody tr th {\n",
              "        vertical-align: top;\n",
              "    }\n",
              "\n",
              "    .dataframe thead th {\n",
              "        text-align: right;\n",
              "    }\n",
              "</style>\n",
              "<table border=\"1\" class=\"dataframe\">\n",
              "  <thead>\n",
              "    <tr style=\"text-align: right;\">\n",
              "      <th></th>\n",
              "      <th>health</th>\n",
              "    </tr>\n",
              "  </thead>\n",
              "  <tbody>\n",
              "    <tr>\n",
              "      <th>5.0</th>\n",
              "      <td>138</td>\n",
              "    </tr>\n",
              "    <tr>\n",
              "      <th>3.0</th>\n",
              "      <td>89</td>\n",
              "    </tr>\n",
              "    <tr>\n",
              "      <th>4.0</th>\n",
              "      <td>63</td>\n",
              "    </tr>\n",
              "    <tr>\n",
              "      <th>1.0</th>\n",
              "      <td>47</td>\n",
              "    </tr>\n",
              "    <tr>\n",
              "      <th>2.0</th>\n",
              "      <td>43</td>\n",
              "    </tr>\n",
              "  </tbody>\n",
              "</table>\n",
              "</div>"
            ],
            "text/plain": [
              "     health\n",
              "5.0     138\n",
              "3.0      89\n",
              "4.0      63\n",
              "1.0      47\n",
              "2.0      43"
            ]
          },
          "metadata": {
            "tags": []
          }
        }
      ]
    },
    {
      "cell_type": "code",
      "metadata": {
        "id": "N1KcwFVT3ska",
        "colab_type": "code",
        "colab": {
          "base_uri": "https://localhost:8080/",
          "height": 170
        },
        "outputId": "a2e52e81-e691-42e7-b11f-55ed8d21da1b"
      },
      "source": [
        "stud['health'].describe()"
      ],
      "execution_count": 65,
      "outputs": [
        {
          "output_type": "execute_result",
          "data": {
            "text/plain": [
              "count    380.000000\n",
              "mean       3.531579\n",
              "std        1.396019\n",
              "min        1.000000\n",
              "25%        3.000000\n",
              "50%        4.000000\n",
              "75%        5.000000\n",
              "max        5.000000\n",
              "Name: health, dtype: float64"
            ]
          },
          "metadata": {
            "tags": []
          },
          "execution_count": 65
        }
      ]
    },
    {
      "cell_type": "markdown",
      "metadata": {
        "id": "h9DaOQpC9pqG",
        "colab_type": "text"
      },
      "source": [
        "* Колонка содержит пустые значения - 15 шт. \n",
        "* Качество данных хорошее.\n",
        "* Данные не содержат выбросов.\n",
        "* Уникальные значения в пределах начальных условий."
      ]
    },
    {
      "cell_type": "code",
      "metadata": {
        "id": "hnEGRN4j3skb",
        "colab_type": "code",
        "colab": {
          "base_uri": "https://localhost:8080/",
          "height": 282
        },
        "outputId": "8dc4012e-d82b-4a9a-a86c-c03571bf92b4"
      },
      "source": [
        "stud['health'].hist()"
      ],
      "execution_count": 66,
      "outputs": [
        {
          "output_type": "execute_result",
          "data": {
            "text/plain": [
              "<matplotlib.axes._subplots.AxesSubplot at 0x7f1dd4fe3358>"
            ]
          },
          "metadata": {
            "tags": []
          },
          "execution_count": 66
        },
        {
          "output_type": "display_data",
          "data": {
            "image/png": "[encoded data removed]",
            "text/plain": [
              "<Figure size 432x288 with 1 Axes>"
            ]
          },
          "metadata": {
            "tags": [],
            "needs_background": "light"
          }
        }
      ]
    },
    {
      "cell_type": "markdown",
      "metadata": {
        "id": "PnOF0WH63skc",
        "colab_type": "text"
      },
      "source": [
        "### absences"
      ]
    },
    {
      "cell_type": "markdown",
      "metadata": {
        "id": "uqL51WHpPLBN",
        "colab_type": "text"
      },
      "source": [
        "absences — количество пропущенных занятий"
      ]
    },
    {
      "cell_type": "code",
      "metadata": {
        "id": "tKD8hdJv3skc",
        "colab_type": "code",
        "colab": {
          "base_uri": "https://localhost:8080/",
          "height": 323
        },
        "outputId": "cfba1859-6780-46c5-a6cb-e6e7ab8c0c22"
      },
      "source": [
        "column_content_analysis(['absences'])"
      ],
      "execution_count": 67,
      "outputs": [
        {
          "output_type": "stream",
          "text": [
            "------------------------------------------------------------\n",
            "|\t Отчет по колонке [ absences ] \t\t\t\t\t\n",
            "------------------------------------------------------------\n",
            "|  Тип данных: float64\n",
            "|  Заполнено значений: 383 из 395\n",
            "|  Отсутсвующие значения: 12\n",
            "|  Полнота данных: 96.96%\n",
            "|  Количество уникальных значений: 36\n",
            "|  Значений, встретившихся в столбце более 10 раз: 8\n",
            "|  IQR: 8.0; границы выбросов: [-12.0; 20.0]\n",
            "|  Данные СОДЕРЖАТ выбросы, количество значений:  17\n",
            "|    Справа от IQR (уникальные): [ 25.  54.  26.  56.  24.  28.  22. 385.  21.  75.  30.  38.  40.  23.\n",
            " 212.]\n",
            "|\n",
            "|  Все уникальные значения: [  6.   4.  10.   2.   0.  16.  nan  14.   7.   8.  25.  12.  54.  18.\n",
            "  26.  20.  56.  24.  28.   5.  13.  15.  22.   3. 385.  21.   1.  75.\n",
            "  30.  19.   9.  11.  38.  40.  23.  17. 212.] \n",
            "\n"
          ],
          "name": "stdout"
        }
      ]
    },
    {
      "cell_type": "code",
      "metadata": {
        "id": "AD_6IQKOEN7h",
        "colab_type": "code",
        "colab": {
          "base_uri": "https://localhost:8080/",
          "height": 1000
        },
        "outputId": "dd8f7b83-b109-4782-cb33-7a8dfa54115f"
      },
      "source": [
        "# посмотрим на содержимое столбца и количество значений\n",
        "display(pd.DataFrame(stud['absences'].value_counts()).sort_index(ascending=False))"
      ],
      "execution_count": 132,
      "outputs": [
        {
          "output_type": "display_data",
          "data": {
            "text/html": [
              "<div>\n",
              "<style scoped>\n",
              "    .dataframe tbody tr th:only-of-type {\n",
              "        vertical-align: middle;\n",
              "    }\n",
              "\n",
              "    .dataframe tbody tr th {\n",
              "        vertical-align: top;\n",
              "    }\n",
              "\n",
              "    .dataframe thead th {\n",
              "        text-align: right;\n",
              "    }\n",
              "</style>\n",
              "<table border=\"1\" class=\"dataframe\">\n",
              "  <thead>\n",
              "    <tr style=\"text-align: right;\">\n",
              "      <th></th>\n",
              "      <th>absences</th>\n",
              "    </tr>\n",
              "  </thead>\n",
              "  <tbody>\n",
              "    <tr>\n",
              "      <th>385.0</th>\n",
              "      <td>1</td>\n",
              "    </tr>\n",
              "    <tr>\n",
              "      <th>212.0</th>\n",
              "      <td>1</td>\n",
              "    </tr>\n",
              "    <tr>\n",
              "      <th>75.0</th>\n",
              "      <td>1</td>\n",
              "    </tr>\n",
              "    <tr>\n",
              "      <th>56.0</th>\n",
              "      <td>1</td>\n",
              "    </tr>\n",
              "    <tr>\n",
              "      <th>54.0</th>\n",
              "      <td>1</td>\n",
              "    </tr>\n",
              "    <tr>\n",
              "      <th>40.0</th>\n",
              "      <td>1</td>\n",
              "    </tr>\n",
              "    <tr>\n",
              "      <th>38.0</th>\n",
              "      <td>1</td>\n",
              "    </tr>\n",
              "    <tr>\n",
              "      <th>30.0</th>\n",
              "      <td>1</td>\n",
              "    </tr>\n",
              "    <tr>\n",
              "      <th>28.0</th>\n",
              "      <td>1</td>\n",
              "    </tr>\n",
              "    <tr>\n",
              "      <th>26.0</th>\n",
              "      <td>1</td>\n",
              "    </tr>\n",
              "    <tr>\n",
              "      <th>25.0</th>\n",
              "      <td>1</td>\n",
              "    </tr>\n",
              "    <tr>\n",
              "      <th>24.0</th>\n",
              "      <td>1</td>\n",
              "    </tr>\n",
              "    <tr>\n",
              "      <th>23.0</th>\n",
              "      <td>1</td>\n",
              "    </tr>\n",
              "    <tr>\n",
              "      <th>22.0</th>\n",
              "      <td>3</td>\n",
              "    </tr>\n",
              "    <tr>\n",
              "      <th>21.0</th>\n",
              "      <td>1</td>\n",
              "    </tr>\n",
              "    <tr>\n",
              "      <th>20.0</th>\n",
              "      <td>4</td>\n",
              "    </tr>\n",
              "    <tr>\n",
              "      <th>19.0</th>\n",
              "      <td>1</td>\n",
              "    </tr>\n",
              "    <tr>\n",
              "      <th>18.0</th>\n",
              "      <td>5</td>\n",
              "    </tr>\n",
              "    <tr>\n",
              "      <th>17.0</th>\n",
              "      <td>1</td>\n",
              "    </tr>\n",
              "    <tr>\n",
              "      <th>16.0</th>\n",
              "      <td>7</td>\n",
              "    </tr>\n",
              "    <tr>\n",
              "      <th>15.0</th>\n",
              "      <td>2</td>\n",
              "    </tr>\n",
              "    <tr>\n",
              "      <th>14.0</th>\n",
              "      <td>12</td>\n",
              "    </tr>\n",
              "    <tr>\n",
              "      <th>13.0</th>\n",
              "      <td>2</td>\n",
              "    </tr>\n",
              "    <tr>\n",
              "      <th>12.0</th>\n",
              "      <td>12</td>\n",
              "    </tr>\n",
              "    <tr>\n",
              "      <th>11.0</th>\n",
              "      <td>2</td>\n",
              "    </tr>\n",
              "    <tr>\n",
              "      <th>10.0</th>\n",
              "      <td>17</td>\n",
              "    </tr>\n",
              "    <tr>\n",
              "      <th>9.0</th>\n",
              "      <td>3</td>\n",
              "    </tr>\n",
              "    <tr>\n",
              "      <th>8.0</th>\n",
              "      <td>21</td>\n",
              "    </tr>\n",
              "    <tr>\n",
              "      <th>7.0</th>\n",
              "      <td>6</td>\n",
              "    </tr>\n",
              "    <tr>\n",
              "      <th>6.0</th>\n",
              "      <td>31</td>\n",
              "    </tr>\n",
              "    <tr>\n",
              "      <th>5.0</th>\n",
              "      <td>5</td>\n",
              "    </tr>\n",
              "    <tr>\n",
              "      <th>4.0</th>\n",
              "      <td>53</td>\n",
              "    </tr>\n",
              "    <tr>\n",
              "      <th>3.0</th>\n",
              "      <td>8</td>\n",
              "    </tr>\n",
              "    <tr>\n",
              "      <th>2.0</th>\n",
              "      <td>60</td>\n",
              "    </tr>\n",
              "    <tr>\n",
              "      <th>1.0</th>\n",
              "      <td>3</td>\n",
              "    </tr>\n",
              "    <tr>\n",
              "      <th>0.0</th>\n",
              "      <td>111</td>\n",
              "    </tr>\n",
              "  </tbody>\n",
              "</table>\n",
              "</div>"
            ],
            "text/plain": [
              "       absences\n",
              "385.0         1\n",
              "212.0         1\n",
              "75.0          1\n",
              "56.0          1\n",
              "54.0          1\n",
              "40.0          1\n",
              "38.0          1\n",
              "30.0          1\n",
              "28.0          1\n",
              "26.0          1\n",
              "25.0          1\n",
              "24.0          1\n",
              "23.0          1\n",
              "22.0          3\n",
              "21.0          1\n",
              "20.0          4\n",
              "19.0          1\n",
              "18.0          5\n",
              "17.0          1\n",
              "16.0          7\n",
              "15.0          2\n",
              "14.0         12\n",
              "13.0          2\n",
              "12.0         12\n",
              "11.0          2\n",
              "10.0         17\n",
              "9.0           3\n",
              "8.0          21\n",
              "7.0           6\n",
              "6.0          31\n",
              "5.0           5\n",
              "4.0          53\n",
              "3.0           8\n",
              "2.0          60\n",
              "1.0           3\n",
              "0.0         111"
            ]
          },
          "metadata": {
            "tags": []
          }
        }
      ]
    },
    {
      "cell_type": "code",
      "metadata": {
        "id": "qiNIFkt03skd",
        "colab_type": "code",
        "colab": {
          "base_uri": "https://localhost:8080/",
          "height": 170
        },
        "outputId": "d2cef35b-364f-4718-ab82-3b88c2f273fc"
      },
      "source": [
        "stud['absences'].describe()"
      ],
      "execution_count": 69,
      "outputs": [
        {
          "output_type": "execute_result",
          "data": {
            "text/plain": [
              "count    383.000000\n",
              "mean       7.279373\n",
              "std       23.465197\n",
              "min        0.000000\n",
              "25%        0.000000\n",
              "50%        4.000000\n",
              "75%        8.000000\n",
              "max      385.000000\n",
              "Name: absences, dtype: float64"
            ]
          },
          "metadata": {
            "tags": []
          },
          "execution_count": 69
        }
      ]
    },
    {
      "cell_type": "markdown",
      "metadata": {
        "id": "P6YNrL53A9q8",
        "colab_type": "text"
      },
      "source": [
        "* Колонка содержит пустые значения - 12 шт. \n",
        "* Качество данных приемлемое.\n",
        "* Обнаружен сильный выброс данных, значения `385` и `212` - явно аномальные, поэтому будут исключены."
      ]
    },
    {
      "cell_type": "code",
      "metadata": {
        "id": "kRkoaiLB3ske",
        "colab_type": "code",
        "colab": {
          "base_uri": "https://localhost:8080/",
          "height": 282
        },
        "outputId": "61d023d0-533f-483a-c2b5-5da6b3b260c9"
      },
      "source": [
        "stud['absences'].hist()"
      ],
      "execution_count": 70,
      "outputs": [
        {
          "output_type": "execute_result",
          "data": {
            "text/plain": [
              "<matplotlib.axes._subplots.AxesSubplot at 0x7f1dd4f60fd0>"
            ]
          },
          "metadata": {
            "tags": []
          },
          "execution_count": 70
        },
        {
          "output_type": "display_data",
          "data": {
            "image/png": "[encoded data removed]",
            "text/plain": [
              "<Figure size 432x288 with 1 Axes>"
            ]
          },
          "metadata": {
            "tags": [],
            "needs_background": "light"
          }
        }
      ]
    },
    {
      "cell_type": "markdown",
      "metadata": {
        "id": "QdOvJQmC3skf",
        "colab_type": "text"
      },
      "source": [
        "### score"
      ]
    },
    {
      "cell_type": "markdown",
      "metadata": {
        "id": "Zwh0veUFPOOj",
        "colab_type": "text"
      },
      "source": [
        "score — баллы по госэкзамену по математике"
      ]
    },
    {
      "cell_type": "code",
      "metadata": {
        "id": "9gP3PKOi3skf",
        "colab_type": "code",
        "colab": {
          "base_uri": "https://localhost:8080/",
          "height": 272
        },
        "outputId": "9367b216-07aa-43ca-cb46-89fa63455a05"
      },
      "source": [
        "column_content_analysis(['score'])"
      ],
      "execution_count": 133,
      "outputs": [
        {
          "output_type": "stream",
          "text": [
            "------------------------------------------------------------\n",
            "|\t Отчет по колонке [ score ] \t\t\t\t\t\n",
            "------------------------------------------------------------\n",
            "|  Тип данных: float64\n",
            "|  Заполнено значений: 389 из 395\n",
            "|  Отсутсвующие значения: 6\n",
            "|  Полнота данных: 98.48%\n",
            "|  Количество уникальных значений: 18\n",
            "|  Значений, встретившихся в столбце более 10 раз: 12\n",
            "|  Медиана:  55.0\n",
            "|  IQR: 30.0; границы выбросов: [-5.0; 115.0]\n",
            "|---\n",
            "|  Все уникальные значения: [ 30.  50.  75.  55.  95.  45.  60.  70.  80.  25.  40.  85.  90.  65.\n",
            " 100.  35.   0.  nan  20.] \n",
            "\n"
          ],
          "name": "stdout"
        }
      ]
    },
    {
      "cell_type": "code",
      "metadata": {
        "id": "veE_mNenFtBt",
        "colab_type": "code",
        "colab": {
          "base_uri": "https://localhost:8080/",
          "height": 607
        },
        "outputId": "4b49b22b-ef1f-4bdc-8a11-84b801b986ee"
      },
      "source": [
        "# посмотрим на содержимое столбца и количество значений\n",
        "score_df = pd.DataFrame(stud['score'].value_counts())\n",
        "score_df.sort_index()"
      ],
      "execution_count": 136,
      "outputs": [
        {
          "output_type": "execute_result",
          "data": {
            "text/html": [
              "<div>\n",
              "<style scoped>\n",
              "    .dataframe tbody tr th:only-of-type {\n",
              "        vertical-align: middle;\n",
              "    }\n",
              "\n",
              "    .dataframe tbody tr th {\n",
              "        vertical-align: top;\n",
              "    }\n",
              "\n",
              "    .dataframe thead th {\n",
              "        text-align: right;\n",
              "    }\n",
              "</style>\n",
              "<table border=\"1\" class=\"dataframe\">\n",
              "  <thead>\n",
              "    <tr style=\"text-align: right;\">\n",
              "      <th></th>\n",
              "      <th>score</th>\n",
              "    </tr>\n",
              "  </thead>\n",
              "  <tbody>\n",
              "    <tr>\n",
              "      <th>0.0</th>\n",
              "      <td>37</td>\n",
              "    </tr>\n",
              "    <tr>\n",
              "      <th>20.0</th>\n",
              "      <td>1</td>\n",
              "    </tr>\n",
              "    <tr>\n",
              "      <th>25.0</th>\n",
              "      <td>7</td>\n",
              "    </tr>\n",
              "    <tr>\n",
              "      <th>30.0</th>\n",
              "      <td>15</td>\n",
              "    </tr>\n",
              "    <tr>\n",
              "      <th>35.0</th>\n",
              "      <td>9</td>\n",
              "    </tr>\n",
              "    <tr>\n",
              "      <th>40.0</th>\n",
              "      <td>31</td>\n",
              "    </tr>\n",
              "    <tr>\n",
              "      <th>45.0</th>\n",
              "      <td>27</td>\n",
              "    </tr>\n",
              "    <tr>\n",
              "      <th>50.0</th>\n",
              "      <td>54</td>\n",
              "    </tr>\n",
              "    <tr>\n",
              "      <th>55.0</th>\n",
              "      <td>46</td>\n",
              "    </tr>\n",
              "    <tr>\n",
              "      <th>60.0</th>\n",
              "      <td>31</td>\n",
              "    </tr>\n",
              "    <tr>\n",
              "      <th>65.0</th>\n",
              "      <td>31</td>\n",
              "    </tr>\n",
              "    <tr>\n",
              "      <th>70.0</th>\n",
              "      <td>27</td>\n",
              "    </tr>\n",
              "    <tr>\n",
              "      <th>75.0</th>\n",
              "      <td>33</td>\n",
              "    </tr>\n",
              "    <tr>\n",
              "      <th>80.0</th>\n",
              "      <td>16</td>\n",
              "    </tr>\n",
              "    <tr>\n",
              "      <th>85.0</th>\n",
              "      <td>6</td>\n",
              "    </tr>\n",
              "    <tr>\n",
              "      <th>90.0</th>\n",
              "      <td>12</td>\n",
              "    </tr>\n",
              "    <tr>\n",
              "      <th>95.0</th>\n",
              "      <td>5</td>\n",
              "    </tr>\n",
              "    <tr>\n",
              "      <th>100.0</th>\n",
              "      <td>1</td>\n",
              "    </tr>\n",
              "  </tbody>\n",
              "</table>\n",
              "</div>"
            ],
            "text/plain": [
              "       score\n",
              "0.0       37\n",
              "20.0       1\n",
              "25.0       7\n",
              "30.0      15\n",
              "35.0       9\n",
              "40.0      31\n",
              "45.0      27\n",
              "50.0      54\n",
              "55.0      46\n",
              "60.0      31\n",
              "65.0      31\n",
              "70.0      27\n",
              "75.0      33\n",
              "80.0      16\n",
              "85.0       6\n",
              "90.0      12\n",
              "95.0       5\n",
              "100.0      1"
            ]
          },
          "metadata": {
            "tags": []
          },
          "execution_count": 136
        }
      ]
    },
    {
      "cell_type": "markdown",
      "metadata": {
        "id": "_cSfN-9FDtPx",
        "colab_type": "text"
      },
      "source": [
        "* 37 учеников получили 0 баллов, 1 ученик получил максимальный балл: 100\n",
        "* среднее значение 52.3\n",
        "\n",
        "*Ремарка:*\n",
        "* менее 27 баллов получили 45 учеников, если применить минимальный балл по ЕГЭ по РФ, то эти ученики предположительно не набрали пороговый балл для аттестата."
      ]
    },
    {
      "cell_type": "code",
      "metadata": {
        "id": "ctm2YrlY3skg",
        "colab_type": "code",
        "colab": {
          "base_uri": "https://localhost:8080/",
          "height": 170
        },
        "outputId": "0153a44e-98d7-4adb-f65c-4973fa5ee3f1"
      },
      "source": [
        "stud['score'].describe()"
      ],
      "execution_count": 73,
      "outputs": [
        {
          "output_type": "execute_result",
          "data": {
            "text/plain": [
              "count    389.000000\n",
              "mean      52.262211\n",
              "std       22.919022\n",
              "min        0.000000\n",
              "25%       40.000000\n",
              "50%       55.000000\n",
              "75%       70.000000\n",
              "max      100.000000\n",
              "Name: score, dtype: float64"
            ]
          },
          "metadata": {
            "tags": []
          },
          "execution_count": 73
        }
      ]
    },
    {
      "cell_type": "markdown",
      "metadata": {
        "id": "iyKBJI-3Bwq9",
        "colab_type": "text"
      },
      "source": [
        "* Колонка содержит пустые значения - 6 шт. \n",
        "* Качество данных хорошее. Распределние баллов показывает, что используется 100-бальная шкала оценок.\n",
        "* Выбросы данных не обнаружены.\n",
        "* Уникальные значения в пределах начальных условий.\n"
      ]
    },
    {
      "cell_type": "code",
      "metadata": {
        "id": "JcGUSo7N3skg",
        "colab_type": "code",
        "colab": {
          "base_uri": "https://localhost:8080/",
          "height": 282
        },
        "outputId": "71d02cab-c2db-4607-97ef-1acc7bad2142"
      },
      "source": [
        "stud['score'].hist()"
      ],
      "execution_count": 74,
      "outputs": [
        {
          "output_type": "execute_result",
          "data": {
            "text/plain": [
              "<matplotlib.axes._subplots.AxesSubplot at 0x7f1dd4f28208>"
            ]
          },
          "metadata": {
            "tags": []
          },
          "execution_count": 74
        },
        {
          "output_type": "display_data",
          "data": {
            "image/png": "[encoded data removed]",
            "text/plain": [
              "<Figure size 432x288 with 1 Axes>"
            ]
          },
          "metadata": {
            "tags": [],
            "needs_background": "light"
          }
        }
      ]
    },
    {
      "cell_type": "markdown",
      "metadata": {
        "id": "mHqLdXmy000d",
        "colab_type": "text"
      },
      "source": [
        "Выводы по результатам осмотра данных - сделующие столбцы требуют дополнительной обработки:\n",
        "\n",
        "*   `fedu` - корректировка значения\n",
        "*   `absences` - устранение выбросов\n",
        "\n",
        "Почти все столбцы (кроме `age`) имеют пропуски данных, поэтому строки с пропусками будут исключены из анализа.\n",
        "\n",
        "Топ 3 столбцов - лидеров по пропуску данных:\n",
        "* `traveltime`\n",
        "* `famrel`\n",
        "* `fedu`"
      ]
    },
    {
      "cell_type": "markdown",
      "metadata": {
        "id": "iu9P6d9F3ski",
        "colab_type": "text"
      },
      "source": [
        "## Распределение признака для строковых переменных"
      ]
    },
    {
      "cell_type": "code",
      "metadata": {
        "id": "n3YMla8I3ski",
        "colab_type": "code",
        "colab": {
          "base_uri": "https://localhost:8080/",
          "height": 34
        },
        "outputId": "e33b431e-1aca-41b9-e378-214e46eb4110"
      },
      "source": [
        "# количество текстовых столбцов\n",
        "len(other_columns)"
      ],
      "execution_count": 76,
      "outputs": [
        {
          "output_type": "execute_result",
          "data": {
            "text/plain": [
              "17"
            ]
          },
          "metadata": {
            "tags": []
          },
          "execution_count": 76
        }
      ]
    },
    {
      "cell_type": "code",
      "metadata": {
        "id": "p7aI9oQU3skj",
        "colab_type": "code",
        "colab": {
          "base_uri": "https://localhost:8080/",
          "height": 306
        },
        "outputId": "3597af25-2f2f-4421-a270-eeb162eea8b0"
      },
      "source": [
        "# список текстовых столбцов\n",
        "other_columns"
      ],
      "execution_count": 77,
      "outputs": [
        {
          "output_type": "execute_result",
          "data": {
            "text/plain": [
              "['school',\n",
              " 'sex',\n",
              " 'address',\n",
              " 'famsize',\n",
              " 'pstatus',\n",
              " 'mjob',\n",
              " 'fjob',\n",
              " 'reason',\n",
              " 'guardian',\n",
              " 'schoolsup',\n",
              " 'famsup',\n",
              " 'paid',\n",
              " 'activities',\n",
              " 'nursery',\n",
              " 'higher',\n",
              " 'internet',\n",
              " 'romantic']"
            ]
          },
          "metadata": {
            "tags": []
          },
          "execution_count": 77
        }
      ]
    },
    {
      "cell_type": "code",
      "metadata": {
        "id": "1QAha9I66jvI",
        "colab_type": "code",
        "colab": {
          "base_uri": "https://localhost:8080/",
          "height": 425
        },
        "outputId": "39f78329-d8be-47ac-f37b-1227d7757807"
      },
      "source": [
        "# список и расширенная информация для стоковых столбцов\n",
        "stud.loc[:, other_columns].info()"
      ],
      "execution_count": 78,
      "outputs": [
        {
          "output_type": "stream",
          "text": [
            "<class 'pandas.core.frame.DataFrame'>\n",
            "RangeIndex: 395 entries, 0 to 394\n",
            "Data columns (total 17 columns):\n",
            " #   Column      Non-Null Count  Dtype \n",
            "---  ------      --------------  ----- \n",
            " 0   school      395 non-null    object\n",
            " 1   sex         395 non-null    object\n",
            " 2   address     378 non-null    object\n",
            " 3   famsize     368 non-null    object\n",
            " 4   pstatus     350 non-null    object\n",
            " 5   mjob        376 non-null    object\n",
            " 6   fjob        359 non-null    object\n",
            " 7   reason      378 non-null    object\n",
            " 8   guardian    364 non-null    object\n",
            " 9   schoolsup   386 non-null    object\n",
            " 10  famsup      356 non-null    object\n",
            " 11  paid        355 non-null    object\n",
            " 12  activities  381 non-null    object\n",
            " 13  nursery     379 non-null    object\n",
            " 14  higher      375 non-null    object\n",
            " 15  internet    361 non-null    object\n",
            " 16  romantic    364 non-null    object\n",
            "dtypes: object(17)\n",
            "memory usage: 52.6+ KB\n"
          ],
          "name": "stdout"
        }
      ]
    },
    {
      "cell_type": "markdown",
      "metadata": {
        "id": "xJqzJOcP3skk",
        "colab_type": "text"
      },
      "source": [
        "### school"
      ]
    },
    {
      "cell_type": "markdown",
      "metadata": {
        "id": "Q3LWkH5OPRZX",
        "colab_type": "text"
      },
      "source": [
        "school — аббревиатура школы, в которой учится ученик"
      ]
    },
    {
      "cell_type": "code",
      "metadata": {
        "id": "7TSFgDaa3skk",
        "colab_type": "code",
        "colab": {
          "base_uri": "https://localhost:8080/",
          "height": 289
        },
        "outputId": "0226155d-3776-4822-c594-23ce67235780"
      },
      "source": [
        "column_content_analysis(['school'])"
      ],
      "execution_count": 79,
      "outputs": [
        {
          "output_type": "stream",
          "text": [
            "------------------------------------------------------------\n",
            "|\t Отчет по колонке [ school ] \t\t\t\t\t\n",
            "------------------------------------------------------------\n",
            "|  Тип данных: object\n",
            "|  Заполнено значений: 395 из 395\n",
            "|  Отсутсвующие значения: 0\n",
            "|  Полнота данных: 100.0%\n",
            "|  Количество уникальных значений: 2\n",
            "|  Значений, встретившихся в столбце более 10 раз: 2\n",
            "|  Количество раз пробелы найдены:\n",
            "|    в начале строки: 0\n",
            "|    в конце  строки: 0\n",
            "|  Количество найденных специальных символов: 0\n",
            "|\n",
            "|  Все уникальные значения: ['GP' 'MS'] \n",
            "\n"
          ],
          "name": "stdout"
        }
      ]
    },
    {
      "cell_type": "code",
      "metadata": {
        "id": "Xc2Ema_i3skl",
        "colab_type": "code",
        "colab": {
          "base_uri": "https://localhost:8080/",
          "height": 102
        },
        "outputId": "11a19721-884b-4777-cdc9-60df38782475"
      },
      "source": [
        "stud['school'].describe()"
      ],
      "execution_count": 80,
      "outputs": [
        {
          "output_type": "execute_result",
          "data": {
            "text/plain": [
              "count     395\n",
              "unique      2\n",
              "top        GP\n",
              "freq      349\n",
              "Name: school, dtype: object"
            ]
          },
          "metadata": {
            "tags": []
          },
          "execution_count": 80
        }
      ]
    },
    {
      "cell_type": "code",
      "metadata": {
        "id": "yH4_SuRj3skl",
        "colab_type": "code",
        "colab": {
          "base_uri": "https://localhost:8080/",
          "height": 111
        },
        "outputId": "ab6add89-119c-4787-a8c3-5c27931f5f1e"
      },
      "source": [
        "# посмотрим на содержимое столбца\n",
        "display(pd.DataFrame(stud['school'].value_counts()))"
      ],
      "execution_count": 81,
      "outputs": [
        {
          "output_type": "display_data",
          "data": {
            "text/html": [
              "<div>\n",
              "<style scoped>\n",
              "    .dataframe tbody tr th:only-of-type {\n",
              "        vertical-align: middle;\n",
              "    }\n",
              "\n",
              "    .dataframe tbody tr th {\n",
              "        vertical-align: top;\n",
              "    }\n",
              "\n",
              "    .dataframe thead th {\n",
              "        text-align: right;\n",
              "    }\n",
              "</style>\n",
              "<table border=\"1\" class=\"dataframe\">\n",
              "  <thead>\n",
              "    <tr style=\"text-align: right;\">\n",
              "      <th></th>\n",
              "      <th>school</th>\n",
              "    </tr>\n",
              "  </thead>\n",
              "  <tbody>\n",
              "    <tr>\n",
              "      <th>GP</th>\n",
              "      <td>349</td>\n",
              "    </tr>\n",
              "    <tr>\n",
              "      <th>MS</th>\n",
              "      <td>46</td>\n",
              "    </tr>\n",
              "  </tbody>\n",
              "</table>\n",
              "</div>"
            ],
            "text/plain": [
              "    school\n",
              "GP     349\n",
              "MS      46"
            ]
          },
          "metadata": {
            "tags": []
          }
        }
      ]
    },
    {
      "cell_type": "code",
      "metadata": {
        "id": "5giwD5XJ3skm",
        "colab_type": "code",
        "colab": {}
      },
      "source": [
        ""
      ],
      "execution_count": 81,
      "outputs": []
    },
    {
      "cell_type": "markdown",
      "metadata": {
        "id": "btG0_0ZJ3skn",
        "colab_type": "text"
      },
      "source": [
        "### sex"
      ]
    },
    {
      "cell_type": "markdown",
      "metadata": {
        "id": "v0BAuEo0PVNb",
        "colab_type": "text"
      },
      "source": [
        "sex — пол ученика ('F' - женский, 'M' - мужской)"
      ]
    },
    {
      "cell_type": "code",
      "metadata": {
        "id": "DekKjHxO3skn",
        "colab_type": "code",
        "colab": {
          "base_uri": "https://localhost:8080/",
          "height": 374
        },
        "outputId": "4d5ab8f6-a9bd-4d3b-b8ed-d08bdb2f305a"
      },
      "source": [
        "column_content_analysis(['sex'])\n",
        "stud['sex'].describe()"
      ],
      "execution_count": 82,
      "outputs": [
        {
          "output_type": "stream",
          "text": [
            "------------------------------------------------------------\n",
            "|\t Отчет по колонке [ sex ] \t\t\t\t\t\n",
            "------------------------------------------------------------\n",
            "|  Тип данных: object\n",
            "|  Заполнено значений: 395 из 395\n",
            "|  Отсутсвующие значения: 0\n",
            "|  Полнота данных: 100.0%\n",
            "|  Количество уникальных значений: 2\n",
            "|  Значений, встретившихся в столбце более 10 раз: 2\n",
            "|  Количество раз пробелы найдены:\n",
            "|    в начале строки: 0\n",
            "|    в конце  строки: 0\n",
            "|  Количество найденных специальных символов: 0\n",
            "|\n",
            "|  Все уникальные значения: ['F' 'M'] \n",
            "\n"
          ],
          "name": "stdout"
        },
        {
          "output_type": "execute_result",
          "data": {
            "text/plain": [
              "count     395\n",
              "unique      2\n",
              "top         F\n",
              "freq      208\n",
              "Name: sex, dtype: object"
            ]
          },
          "metadata": {
            "tags": []
          },
          "execution_count": 82
        }
      ]
    },
    {
      "cell_type": "code",
      "metadata": {
        "id": "GodHU7PT3sko",
        "colab_type": "code",
        "colab": {
          "base_uri": "https://localhost:8080/",
          "height": 111
        },
        "outputId": "6d28eba7-56da-49ea-9143-9778add7ac8d"
      },
      "source": [
        "display(pd.DataFrame(stud['sex'].value_counts()))"
      ],
      "execution_count": 83,
      "outputs": [
        {
          "output_type": "display_data",
          "data": {
            "text/html": [
              "<div>\n",
              "<style scoped>\n",
              "    .dataframe tbody tr th:only-of-type {\n",
              "        vertical-align: middle;\n",
              "    }\n",
              "\n",
              "    .dataframe tbody tr th {\n",
              "        vertical-align: top;\n",
              "    }\n",
              "\n",
              "    .dataframe thead th {\n",
              "        text-align: right;\n",
              "    }\n",
              "</style>\n",
              "<table border=\"1\" class=\"dataframe\">\n",
              "  <thead>\n",
              "    <tr style=\"text-align: right;\">\n",
              "      <th></th>\n",
              "      <th>sex</th>\n",
              "    </tr>\n",
              "  </thead>\n",
              "  <tbody>\n",
              "    <tr>\n",
              "      <th>F</th>\n",
              "      <td>208</td>\n",
              "    </tr>\n",
              "    <tr>\n",
              "      <th>M</th>\n",
              "      <td>187</td>\n",
              "    </tr>\n",
              "  </tbody>\n",
              "</table>\n",
              "</div>"
            ],
            "text/plain": [
              "   sex\n",
              "F  208\n",
              "M  187"
            ]
          },
          "metadata": {
            "tags": []
          }
        }
      ]
    },
    {
      "cell_type": "code",
      "metadata": {
        "id": "MUQuU0HK3skp",
        "colab_type": "code",
        "colab": {}
      },
      "source": [
        ""
      ],
      "execution_count": 83,
      "outputs": []
    },
    {
      "cell_type": "markdown",
      "metadata": {
        "id": "8C7TSqZq3skp",
        "colab_type": "text"
      },
      "source": [
        "### address"
      ]
    },
    {
      "cell_type": "markdown",
      "metadata": {
        "id": "okYnVf-5PZ1d",
        "colab_type": "text"
      },
      "source": [
        "address — тип адреса ученика ('U' - городской, 'R' - за городом)"
      ]
    },
    {
      "cell_type": "code",
      "metadata": {
        "id": "V9iASnHB3skq",
        "colab_type": "code",
        "colab": {
          "base_uri": "https://localhost:8080/",
          "height": 374
        },
        "outputId": "e6ddf826-dc26-4cd0-fd73-24e652c49345"
      },
      "source": [
        "column_content_analysis(['address'])\n",
        "stud['address'].describe()\n"
      ],
      "execution_count": 84,
      "outputs": [
        {
          "output_type": "stream",
          "text": [
            "------------------------------------------------------------\n",
            "|\t Отчет по колонке [ address ] \t\t\t\t\t\n",
            "------------------------------------------------------------\n",
            "|  Тип данных: object\n",
            "|  Заполнено значений: 378 из 395\n",
            "|  Отсутсвующие значения: 17\n",
            "|  Полнота данных: 95.7%\n",
            "|  Количество уникальных значений: 2\n",
            "|  Значений, встретившихся в столбце более 10 раз: 2\n",
            "|  Количество раз пробелы найдены:\n",
            "|    в начале строки: 0\n",
            "|    в конце  строки: 0\n",
            "|  Количество найденных специальных символов: 0\n",
            "|\n",
            "|  Все уникальные значения: ['U' None 'R'] \n",
            "\n"
          ],
          "name": "stdout"
        },
        {
          "output_type": "execute_result",
          "data": {
            "text/plain": [
              "count     378\n",
              "unique      2\n",
              "top         U\n",
              "freq      295\n",
              "Name: address, dtype: object"
            ]
          },
          "metadata": {
            "tags": []
          },
          "execution_count": 84
        }
      ]
    },
    {
      "cell_type": "code",
      "metadata": {
        "id": "WWVJtzXw3skq",
        "colab_type": "code",
        "colab": {
          "base_uri": "https://localhost:8080/",
          "height": 111
        },
        "outputId": "ca4fd385-5831-4197-effe-c81cdbe82d20"
      },
      "source": [
        "display(pd.DataFrame(stud['address'].value_counts()))"
      ],
      "execution_count": 85,
      "outputs": [
        {
          "output_type": "display_data",
          "data": {
            "text/html": [
              "<div>\n",
              "<style scoped>\n",
              "    .dataframe tbody tr th:only-of-type {\n",
              "        vertical-align: middle;\n",
              "    }\n",
              "\n",
              "    .dataframe tbody tr th {\n",
              "        vertical-align: top;\n",
              "    }\n",
              "\n",
              "    .dataframe thead th {\n",
              "        text-align: right;\n",
              "    }\n",
              "</style>\n",
              "<table border=\"1\" class=\"dataframe\">\n",
              "  <thead>\n",
              "    <tr style=\"text-align: right;\">\n",
              "      <th></th>\n",
              "      <th>address</th>\n",
              "    </tr>\n",
              "  </thead>\n",
              "  <tbody>\n",
              "    <tr>\n",
              "      <th>U</th>\n",
              "      <td>295</td>\n",
              "    </tr>\n",
              "    <tr>\n",
              "      <th>R</th>\n",
              "      <td>83</td>\n",
              "    </tr>\n",
              "  </tbody>\n",
              "</table>\n",
              "</div>"
            ],
            "text/plain": [
              "   address\n",
              "U      295\n",
              "R       83"
            ]
          },
          "metadata": {
            "tags": []
          }
        }
      ]
    },
    {
      "cell_type": "code",
      "metadata": {
        "id": "TQw7Zc-o3skr",
        "colab_type": "code",
        "colab": {}
      },
      "source": [
        ""
      ],
      "execution_count": 85,
      "outputs": []
    },
    {
      "cell_type": "markdown",
      "metadata": {
        "id": "t7I_Bu6Y3sks",
        "colab_type": "text"
      },
      "source": [
        "### famsize"
      ]
    },
    {
      "cell_type": "markdown",
      "metadata": {
        "id": "HDcZhGCuPeE4",
        "colab_type": "text"
      },
      "source": [
        "famsize — размер семьи('LE3' <= 3, 'GT3' >3)"
      ]
    },
    {
      "cell_type": "code",
      "metadata": {
        "id": "IO3jAO373sks",
        "colab_type": "code",
        "colab": {
          "base_uri": "https://localhost:8080/",
          "height": 374
        },
        "outputId": "e1e87576-00b2-47b4-a7f2-9272c8dde296"
      },
      "source": [
        "# famsize\n",
        "column_content_analysis(['famsize'])\n",
        "stud['famsize'].describe()"
      ],
      "execution_count": 86,
      "outputs": [
        {
          "output_type": "stream",
          "text": [
            "------------------------------------------------------------\n",
            "|\t Отчет по колонке [ famsize ] \t\t\t\t\t\n",
            "------------------------------------------------------------\n",
            "|  Тип данных: object\n",
            "|  Заполнено значений: 368 из 395\n",
            "|  Отсутсвующие значения: 27\n",
            "|  Полнота данных: 93.16%\n",
            "|  Количество уникальных значений: 2\n",
            "|  Значений, встретившихся в столбце более 10 раз: 2\n",
            "|  Количество раз пробелы найдены:\n",
            "|    в начале строки: 0\n",
            "|    в конце  строки: 0\n",
            "|  Количество найденных специальных символов: 0\n",
            "|\n",
            "|  Все уникальные значения: [None 'GT3' 'LE3'] \n",
            "\n"
          ],
          "name": "stdout"
        },
        {
          "output_type": "execute_result",
          "data": {
            "text/plain": [
              "count     368\n",
              "unique      2\n",
              "top       GT3\n",
              "freq      261\n",
              "Name: famsize, dtype: object"
            ]
          },
          "metadata": {
            "tags": []
          },
          "execution_count": 86
        }
      ]
    },
    {
      "cell_type": "code",
      "metadata": {
        "id": "MlU07H633sku",
        "colab_type": "code",
        "colab": {
          "base_uri": "https://localhost:8080/",
          "height": 111
        },
        "outputId": "f782a8b8-22f8-43ad-fa68-c7538c55058f"
      },
      "source": [
        "display(pd.DataFrame(stud['famsize'].value_counts()))"
      ],
      "execution_count": 87,
      "outputs": [
        {
          "output_type": "display_data",
          "data": {
            "text/html": [
              "<div>\n",
              "<style scoped>\n",
              "    .dataframe tbody tr th:only-of-type {\n",
              "        vertical-align: middle;\n",
              "    }\n",
              "\n",
              "    .dataframe tbody tr th {\n",
              "        vertical-align: top;\n",
              "    }\n",
              "\n",
              "    .dataframe thead th {\n",
              "        text-align: right;\n",
              "    }\n",
              "</style>\n",
              "<table border=\"1\" class=\"dataframe\">\n",
              "  <thead>\n",
              "    <tr style=\"text-align: right;\">\n",
              "      <th></th>\n",
              "      <th>famsize</th>\n",
              "    </tr>\n",
              "  </thead>\n",
              "  <tbody>\n",
              "    <tr>\n",
              "      <th>GT3</th>\n",
              "      <td>261</td>\n",
              "    </tr>\n",
              "    <tr>\n",
              "      <th>LE3</th>\n",
              "      <td>107</td>\n",
              "    </tr>\n",
              "  </tbody>\n",
              "</table>\n",
              "</div>"
            ],
            "text/plain": [
              "     famsize\n",
              "GT3      261\n",
              "LE3      107"
            ]
          },
          "metadata": {
            "tags": []
          }
        }
      ]
    },
    {
      "cell_type": "code",
      "metadata": {
        "id": "J7U-i_uS3skv",
        "colab_type": "code",
        "colab": {}
      },
      "source": [
        ""
      ],
      "execution_count": 87,
      "outputs": []
    },
    {
      "cell_type": "markdown",
      "metadata": {
        "id": "W-Jkn7nK3skv",
        "colab_type": "text"
      },
      "source": [
        "### pstatus"
      ]
    },
    {
      "cell_type": "markdown",
      "metadata": {
        "id": "bt3kmXLWPhqb",
        "colab_type": "text"
      },
      "source": [
        "pstatus — статус совместного жилья родителей ('T' - живут вместе 'A' - раздельно)"
      ]
    },
    {
      "cell_type": "code",
      "metadata": {
        "id": "3HittKtf3skw",
        "colab_type": "code",
        "colab": {
          "base_uri": "https://localhost:8080/",
          "height": 374
        },
        "outputId": "e49d17b5-1096-41d6-99d9-fd95eb1abbb1"
      },
      "source": [
        "# pstatus\n",
        "column_content_analysis(['pstatus'])\n",
        "stud['pstatus'].describe()"
      ],
      "execution_count": 88,
      "outputs": [
        {
          "output_type": "stream",
          "text": [
            "------------------------------------------------------------\n",
            "|\t Отчет по колонке [ pstatus ] \t\t\t\t\t\n",
            "------------------------------------------------------------\n",
            "|  Тип данных: object\n",
            "|  Заполнено значений: 350 из 395\n",
            "|  Отсутсвующие значения: 45\n",
            "|  Полнота данных: 88.61%\n",
            "|  Количество уникальных значений: 2\n",
            "|  Значений, встретившихся в столбце более 10 раз: 2\n",
            "|  Количество раз пробелы найдены:\n",
            "|    в начале строки: 0\n",
            "|    в конце  строки: 0\n",
            "|  Количество найденных специальных символов: 0\n",
            "|\n",
            "|  Все уникальные значения: ['A' None 'T'] \n",
            "\n"
          ],
          "name": "stdout"
        },
        {
          "output_type": "execute_result",
          "data": {
            "text/plain": [
              "count     350\n",
              "unique      2\n",
              "top         T\n",
              "freq      314\n",
              "Name: pstatus, dtype: object"
            ]
          },
          "metadata": {
            "tags": []
          },
          "execution_count": 88
        }
      ]
    },
    {
      "cell_type": "code",
      "metadata": {
        "id": "91x9WGjS3skw",
        "colab_type": "code",
        "colab": {
          "base_uri": "https://localhost:8080/",
          "height": 111
        },
        "outputId": "54bc35a8-c68b-41f8-bc19-a5a572ba6936"
      },
      "source": [
        "display(pd.DataFrame(stud['pstatus'].value_counts()))"
      ],
      "execution_count": 89,
      "outputs": [
        {
          "output_type": "display_data",
          "data": {
            "text/html": [
              "<div>\n",
              "<style scoped>\n",
              "    .dataframe tbody tr th:only-of-type {\n",
              "        vertical-align: middle;\n",
              "    }\n",
              "\n",
              "    .dataframe tbody tr th {\n",
              "        vertical-align: top;\n",
              "    }\n",
              "\n",
              "    .dataframe thead th {\n",
              "        text-align: right;\n",
              "    }\n",
              "</style>\n",
              "<table border=\"1\" class=\"dataframe\">\n",
              "  <thead>\n",
              "    <tr style=\"text-align: right;\">\n",
              "      <th></th>\n",
              "      <th>pstatus</th>\n",
              "    </tr>\n",
              "  </thead>\n",
              "  <tbody>\n",
              "    <tr>\n",
              "      <th>T</th>\n",
              "      <td>314</td>\n",
              "    </tr>\n",
              "    <tr>\n",
              "      <th>A</th>\n",
              "      <td>36</td>\n",
              "    </tr>\n",
              "  </tbody>\n",
              "</table>\n",
              "</div>"
            ],
            "text/plain": [
              "   pstatus\n",
              "T      314\n",
              "A       36"
            ]
          },
          "metadata": {
            "tags": []
          }
        }
      ]
    },
    {
      "cell_type": "code",
      "metadata": {
        "id": "yDI6pOId3skx",
        "colab_type": "code",
        "colab": {}
      },
      "source": [
        ""
      ],
      "execution_count": 89,
      "outputs": []
    },
    {
      "cell_type": "markdown",
      "metadata": {
        "id": "97cVll3K3sky",
        "colab_type": "text"
      },
      "source": [
        "### mjob"
      ]
    },
    {
      "cell_type": "markdown",
      "metadata": {
        "id": "Tj0jULDUPlkj",
        "colab_type": "text"
      },
      "source": [
        "Mjob — работа матери ('teacher' - учитель, 'health' - сфера здравоохранения, 'services' - гос служба, 'at_home' - не работает, 'other' - другое)"
      ]
    },
    {
      "cell_type": "code",
      "metadata": {
        "id": "B0F8-ALR3sky",
        "colab_type": "code",
        "colab": {
          "base_uri": "https://localhost:8080/",
          "height": 374
        },
        "outputId": "5112a483-84e2-4027-d119-b2582c8a9958"
      },
      "source": [
        "# mjob\n",
        "column_content_analysis(['mjob'])\n",
        "stud['mjob'].describe()"
      ],
      "execution_count": 90,
      "outputs": [
        {
          "output_type": "stream",
          "text": [
            "------------------------------------------------------------\n",
            "|\t Отчет по колонке [ mjob ] \t\t\t\t\t\n",
            "------------------------------------------------------------\n",
            "|  Тип данных: object\n",
            "|  Заполнено значений: 376 из 395\n",
            "|  Отсутсвующие значения: 19\n",
            "|  Полнота данных: 95.19%\n",
            "|  Количество уникальных значений: 5\n",
            "|  Значений, встретившихся в столбце более 10 раз: 5\n",
            "|  Количество раз пробелы найдены:\n",
            "|    в начале строки: 0\n",
            "|    в конце  строки: 0\n",
            "|  Количество найденных специальных символов: 0\n",
            "|\n",
            "|  Все уникальные значения: ['at_home' 'health' 'other' 'services' 'teacher' None] \n",
            "\n"
          ],
          "name": "stdout"
        },
        {
          "output_type": "execute_result",
          "data": {
            "text/plain": [
              "count       376\n",
              "unique        5\n",
              "top       other\n",
              "freq        133\n",
              "Name: mjob, dtype: object"
            ]
          },
          "metadata": {
            "tags": []
          },
          "execution_count": 90
        }
      ]
    },
    {
      "cell_type": "code",
      "metadata": {
        "id": "oXVagNVZ3skz",
        "colab_type": "code",
        "colab": {
          "base_uri": "https://localhost:8080/",
          "height": 204
        },
        "outputId": "3419e3b7-7b27-48a1-d24d-ff00eef23508"
      },
      "source": [
        "display(pd.DataFrame(stud['mjob'].value_counts()))"
      ],
      "execution_count": 91,
      "outputs": [
        {
          "output_type": "display_data",
          "data": {
            "text/html": [
              "<div>\n",
              "<style scoped>\n",
              "    .dataframe tbody tr th:only-of-type {\n",
              "        vertical-align: middle;\n",
              "    }\n",
              "\n",
              "    .dataframe tbody tr th {\n",
              "        vertical-align: top;\n",
              "    }\n",
              "\n",
              "    .dataframe thead th {\n",
              "        text-align: right;\n",
              "    }\n",
              "</style>\n",
              "<table border=\"1\" class=\"dataframe\">\n",
              "  <thead>\n",
              "    <tr style=\"text-align: right;\">\n",
              "      <th></th>\n",
              "      <th>mjob</th>\n",
              "    </tr>\n",
              "  </thead>\n",
              "  <tbody>\n",
              "    <tr>\n",
              "      <th>other</th>\n",
              "      <td>133</td>\n",
              "    </tr>\n",
              "    <tr>\n",
              "      <th>services</th>\n",
              "      <td>98</td>\n",
              "    </tr>\n",
              "    <tr>\n",
              "      <th>at_home</th>\n",
              "      <td>58</td>\n",
              "    </tr>\n",
              "    <tr>\n",
              "      <th>teacher</th>\n",
              "      <td>55</td>\n",
              "    </tr>\n",
              "    <tr>\n",
              "      <th>health</th>\n",
              "      <td>32</td>\n",
              "    </tr>\n",
              "  </tbody>\n",
              "</table>\n",
              "</div>"
            ],
            "text/plain": [
              "          mjob\n",
              "other      133\n",
              "services    98\n",
              "at_home     58\n",
              "teacher     55\n",
              "health      32"
            ]
          },
          "metadata": {
            "tags": []
          }
        }
      ]
    },
    {
      "cell_type": "code",
      "metadata": {
        "id": "nP6l91EV3skz",
        "colab_type": "code",
        "colab": {}
      },
      "source": [
        ""
      ],
      "execution_count": 91,
      "outputs": []
    },
    {
      "cell_type": "markdown",
      "metadata": {
        "id": "o9kc5tCC3sk0",
        "colab_type": "text"
      },
      "source": [
        "### fjob"
      ]
    },
    {
      "cell_type": "markdown",
      "metadata": {
        "id": "3pdQsQT0PooG",
        "colab_type": "text"
      },
      "source": [
        "Fjob — работа отца ('teacher' - учитель, 'health' - сфера здравоохранения, 'services' - гос служба, 'at_home' - не работает, 'other' - другое)"
      ]
    },
    {
      "cell_type": "code",
      "metadata": {
        "id": "E_kKDl8B3sk0",
        "colab_type": "code",
        "colab": {
          "base_uri": "https://localhost:8080/",
          "height": 374
        },
        "outputId": "68bf63e6-ab0e-4b30-86d5-5229f4b1540a"
      },
      "source": [
        "# fjob\n",
        "column_content_analysis(['fjob'])\n",
        "stud['fjob'].describe()"
      ],
      "execution_count": 92,
      "outputs": [
        {
          "output_type": "stream",
          "text": [
            "------------------------------------------------------------\n",
            "|\t Отчет по колонке [ fjob ] \t\t\t\t\t\n",
            "------------------------------------------------------------\n",
            "|  Тип данных: object\n",
            "|  Заполнено значений: 359 из 395\n",
            "|  Отсутсвующие значения: 36\n",
            "|  Полнота данных: 90.89%\n",
            "|  Количество уникальных значений: 5\n",
            "|  Значений, встретившихся в столбце более 10 раз: 5\n",
            "|  Количество раз пробелы найдены:\n",
            "|    в начале строки: 0\n",
            "|    в конце  строки: 0\n",
            "|  Количество найденных специальных символов: 0\n",
            "|\n",
            "|  Все уникальные значения: ['teacher' 'other' None 'health' 'services' 'at_home'] \n",
            "\n"
          ],
          "name": "stdout"
        },
        {
          "output_type": "execute_result",
          "data": {
            "text/plain": [
              "count       359\n",
              "unique        5\n",
              "top       other\n",
              "freq        197\n",
              "Name: fjob, dtype: object"
            ]
          },
          "metadata": {
            "tags": []
          },
          "execution_count": 92
        }
      ]
    },
    {
      "cell_type": "code",
      "metadata": {
        "id": "CDEN_fER3sk1",
        "colab_type": "code",
        "colab": {
          "base_uri": "https://localhost:8080/",
          "height": 204
        },
        "outputId": "82513417-4f9e-41a1-bd4d-df858cef4213"
      },
      "source": [
        "display(pd.DataFrame(stud['fjob'].value_counts()))"
      ],
      "execution_count": 93,
      "outputs": [
        {
          "output_type": "display_data",
          "data": {
            "text/html": [
              "<div>\n",
              "<style scoped>\n",
              "    .dataframe tbody tr th:only-of-type {\n",
              "        vertical-align: middle;\n",
              "    }\n",
              "\n",
              "    .dataframe tbody tr th {\n",
              "        vertical-align: top;\n",
              "    }\n",
              "\n",
              "    .dataframe thead th {\n",
              "        text-align: right;\n",
              "    }\n",
              "</style>\n",
              "<table border=\"1\" class=\"dataframe\">\n",
              "  <thead>\n",
              "    <tr style=\"text-align: right;\">\n",
              "      <th></th>\n",
              "      <th>fjob</th>\n",
              "    </tr>\n",
              "  </thead>\n",
              "  <tbody>\n",
              "    <tr>\n",
              "      <th>other</th>\n",
              "      <td>197</td>\n",
              "    </tr>\n",
              "    <tr>\n",
              "      <th>services</th>\n",
              "      <td>102</td>\n",
              "    </tr>\n",
              "    <tr>\n",
              "      <th>teacher</th>\n",
              "      <td>29</td>\n",
              "    </tr>\n",
              "    <tr>\n",
              "      <th>at_home</th>\n",
              "      <td>16</td>\n",
              "    </tr>\n",
              "    <tr>\n",
              "      <th>health</th>\n",
              "      <td>15</td>\n",
              "    </tr>\n",
              "  </tbody>\n",
              "</table>\n",
              "</div>"
            ],
            "text/plain": [
              "          fjob\n",
              "other      197\n",
              "services   102\n",
              "teacher     29\n",
              "at_home     16\n",
              "health      15"
            ]
          },
          "metadata": {
            "tags": []
          }
        }
      ]
    },
    {
      "cell_type": "code",
      "metadata": {
        "id": "y9DDNzVa3sk2",
        "colab_type": "code",
        "colab": {}
      },
      "source": [
        ""
      ],
      "execution_count": 93,
      "outputs": []
    },
    {
      "cell_type": "markdown",
      "metadata": {
        "id": "5O7mxRf33sk2",
        "colab_type": "text"
      },
      "source": [
        "### reason"
      ]
    },
    {
      "cell_type": "markdown",
      "metadata": {
        "id": "mKH0S8_2Prpa",
        "colab_type": "text"
      },
      "source": [
        "reason — причина выбора школы ('home' - близость к дому, 'reputation' - репутация школы, 'course' - образовательная программа, 'other' - другое)"
      ]
    },
    {
      "cell_type": "code",
      "metadata": {
        "id": "B-zPNav83sk2",
        "colab_type": "code",
        "colab": {
          "base_uri": "https://localhost:8080/",
          "height": 374
        },
        "outputId": "3c674c8b-e65d-46da-f717-4d618ea5104f"
      },
      "source": [
        "# reason\n",
        "column_content_analysis(['reason'])\n",
        "stud['reason'].describe()"
      ],
      "execution_count": 94,
      "outputs": [
        {
          "output_type": "stream",
          "text": [
            "------------------------------------------------------------\n",
            "|\t Отчет по колонке [ reason ] \t\t\t\t\t\n",
            "------------------------------------------------------------\n",
            "|  Тип данных: object\n",
            "|  Заполнено значений: 378 из 395\n",
            "|  Отсутсвующие значения: 17\n",
            "|  Полнота данных: 95.7%\n",
            "|  Количество уникальных значений: 4\n",
            "|  Значений, встретившихся в столбце более 10 раз: 4\n",
            "|  Количество раз пробелы найдены:\n",
            "|    в начале строки: 0\n",
            "|    в конце  строки: 0\n",
            "|  Количество найденных специальных символов: 0\n",
            "|\n",
            "|  Все уникальные значения: ['course' 'other' 'home' 'reputation' None] \n",
            "\n"
          ],
          "name": "stdout"
        },
        {
          "output_type": "execute_result",
          "data": {
            "text/plain": [
              "count        378\n",
              "unique         4\n",
              "top       course\n",
              "freq         137\n",
              "Name: reason, dtype: object"
            ]
          },
          "metadata": {
            "tags": []
          },
          "execution_count": 94
        }
      ]
    },
    {
      "cell_type": "code",
      "metadata": {
        "id": "9-25ctym3sk3",
        "colab_type": "code",
        "colab": {
          "base_uri": "https://localhost:8080/",
          "height": 173
        },
        "outputId": "c218b3e7-05a9-48ab-dc16-732daf4670a5"
      },
      "source": [
        "display(pd.DataFrame(stud['reason'].value_counts()))"
      ],
      "execution_count": 95,
      "outputs": [
        {
          "output_type": "display_data",
          "data": {
            "text/html": [
              "<div>\n",
              "<style scoped>\n",
              "    .dataframe tbody tr th:only-of-type {\n",
              "        vertical-align: middle;\n",
              "    }\n",
              "\n",
              "    .dataframe tbody tr th {\n",
              "        vertical-align: top;\n",
              "    }\n",
              "\n",
              "    .dataframe thead th {\n",
              "        text-align: right;\n",
              "    }\n",
              "</style>\n",
              "<table border=\"1\" class=\"dataframe\">\n",
              "  <thead>\n",
              "    <tr style=\"text-align: right;\">\n",
              "      <th></th>\n",
              "      <th>reason</th>\n",
              "    </tr>\n",
              "  </thead>\n",
              "  <tbody>\n",
              "    <tr>\n",
              "      <th>course</th>\n",
              "      <td>137</td>\n",
              "    </tr>\n",
              "    <tr>\n",
              "      <th>home</th>\n",
              "      <td>104</td>\n",
              "    </tr>\n",
              "    <tr>\n",
              "      <th>reputation</th>\n",
              "      <td>103</td>\n",
              "    </tr>\n",
              "    <tr>\n",
              "      <th>other</th>\n",
              "      <td>34</td>\n",
              "    </tr>\n",
              "  </tbody>\n",
              "</table>\n",
              "</div>"
            ],
            "text/plain": [
              "            reason\n",
              "course         137\n",
              "home           104\n",
              "reputation     103\n",
              "other           34"
            ]
          },
          "metadata": {
            "tags": []
          }
        }
      ]
    },
    {
      "cell_type": "code",
      "metadata": {
        "id": "f7BvxH7O3sk4",
        "colab_type": "code",
        "colab": {}
      },
      "source": [
        ""
      ],
      "execution_count": 95,
      "outputs": []
    },
    {
      "cell_type": "markdown",
      "metadata": {
        "id": "Kc2Dro1h3sk4",
        "colab_type": "text"
      },
      "source": [
        "### guardian"
      ]
    },
    {
      "cell_type": "markdown",
      "metadata": {
        "id": "7Qe6Jz-jPvI6",
        "colab_type": "text"
      },
      "source": [
        "guardian — опекун ('mother' - мать, 'father' - отец, 'other' - другое)"
      ]
    },
    {
      "cell_type": "code",
      "metadata": {
        "id": "vN5u4sx93sk5",
        "colab_type": "code",
        "colab": {
          "base_uri": "https://localhost:8080/",
          "height": 374
        },
        "outputId": "abf07be5-35fd-435b-cce0-6a3960eec078"
      },
      "source": [
        "# guardian\n",
        "column_content_analysis(['guardian'])\n",
        "stud['guardian'].describe()"
      ],
      "execution_count": 96,
      "outputs": [
        {
          "output_type": "stream",
          "text": [
            "------------------------------------------------------------\n",
            "|\t Отчет по колонке [ guardian ] \t\t\t\t\t\n",
            "------------------------------------------------------------\n",
            "|  Тип данных: object\n",
            "|  Заполнено значений: 364 из 395\n",
            "|  Отсутсвующие значения: 31\n",
            "|  Полнота данных: 92.15%\n",
            "|  Количество уникальных значений: 3\n",
            "|  Значений, встретившихся в столбце более 10 раз: 3\n",
            "|  Количество раз пробелы найдены:\n",
            "|    в начале строки: 0\n",
            "|    в конце  строки: 0\n",
            "|  Количество найденных специальных символов: 0\n",
            "|\n",
            "|  Все уникальные значения: ['mother' 'father' 'other' None] \n",
            "\n"
          ],
          "name": "stdout"
        },
        {
          "output_type": "execute_result",
          "data": {
            "text/plain": [
              "count        364\n",
              "unique         3\n",
              "top       mother\n",
              "freq         250\n",
              "Name: guardian, dtype: object"
            ]
          },
          "metadata": {
            "tags": []
          },
          "execution_count": 96
        }
      ]
    },
    {
      "cell_type": "code",
      "metadata": {
        "id": "TRsOD1mx3sk5",
        "colab_type": "code",
        "colab": {
          "base_uri": "https://localhost:8080/",
          "height": 142
        },
        "outputId": "709fe0ed-df23-4109-f4e1-fe48d80bffa3"
      },
      "source": [
        "display(pd.DataFrame(stud['guardian'].value_counts()))"
      ],
      "execution_count": 97,
      "outputs": [
        {
          "output_type": "display_data",
          "data": {
            "text/html": [
              "<div>\n",
              "<style scoped>\n",
              "    .dataframe tbody tr th:only-of-type {\n",
              "        vertical-align: middle;\n",
              "    }\n",
              "\n",
              "    .dataframe tbody tr th {\n",
              "        vertical-align: top;\n",
              "    }\n",
              "\n",
              "    .dataframe thead th {\n",
              "        text-align: right;\n",
              "    }\n",
              "</style>\n",
              "<table border=\"1\" class=\"dataframe\">\n",
              "  <thead>\n",
              "    <tr style=\"text-align: right;\">\n",
              "      <th></th>\n",
              "      <th>guardian</th>\n",
              "    </tr>\n",
              "  </thead>\n",
              "  <tbody>\n",
              "    <tr>\n",
              "      <th>mother</th>\n",
              "      <td>250</td>\n",
              "    </tr>\n",
              "    <tr>\n",
              "      <th>father</th>\n",
              "      <td>86</td>\n",
              "    </tr>\n",
              "    <tr>\n",
              "      <th>other</th>\n",
              "      <td>28</td>\n",
              "    </tr>\n",
              "  </tbody>\n",
              "</table>\n",
              "</div>"
            ],
            "text/plain": [
              "        guardian\n",
              "mother       250\n",
              "father        86\n",
              "other         28"
            ]
          },
          "metadata": {
            "tags": []
          }
        }
      ]
    },
    {
      "cell_type": "code",
      "metadata": {
        "id": "-WqspB4c3sk6",
        "colab_type": "code",
        "colab": {}
      },
      "source": [
        ""
      ],
      "execution_count": 97,
      "outputs": []
    },
    {
      "cell_type": "markdown",
      "metadata": {
        "id": "5J6TiN053sk7",
        "colab_type": "text"
      },
      "source": [
        "### schoolsup"
      ]
    },
    {
      "cell_type": "markdown",
      "metadata": {
        "id": "XCSA8r0dP3Gf",
        "colab_type": "text"
      },
      "source": [
        "schoolsup — дополнительная образовательная поддержка (yes или no)"
      ]
    },
    {
      "cell_type": "code",
      "metadata": {
        "id": "DkMD03dz3sk7",
        "colab_type": "code",
        "colab": {
          "base_uri": "https://localhost:8080/",
          "height": 374
        },
        "outputId": "a5a1756e-a520-435c-b6ef-08bda2bf4197"
      },
      "source": [
        "# schoolsup\n",
        "column_content_analysis(['schoolsup'])\n",
        "stud['schoolsup'].describe()"
      ],
      "execution_count": 98,
      "outputs": [
        {
          "output_type": "stream",
          "text": [
            "------------------------------------------------------------\n",
            "|\t Отчет по колонке [ schoolsup ] \t\t\t\t\t\n",
            "------------------------------------------------------------\n",
            "|  Тип данных: object\n",
            "|  Заполнено значений: 386 из 395\n",
            "|  Отсутсвующие значения: 9\n",
            "|  Полнота данных: 97.72%\n",
            "|  Количество уникальных значений: 2\n",
            "|  Значений, встретившихся в столбце более 10 раз: 2\n",
            "|  Количество раз пробелы найдены:\n",
            "|    в начале строки: 0\n",
            "|    в конце  строки: 0\n",
            "|  Количество найденных специальных символов: 0\n",
            "|\n",
            "|  Все уникальные значения: ['yes' 'no' None] \n",
            "\n"
          ],
          "name": "stdout"
        },
        {
          "output_type": "execute_result",
          "data": {
            "text/plain": [
              "count     386\n",
              "unique      2\n",
              "top        no\n",
              "freq      335\n",
              "Name: schoolsup, dtype: object"
            ]
          },
          "metadata": {
            "tags": []
          },
          "execution_count": 98
        }
      ]
    },
    {
      "cell_type": "code",
      "metadata": {
        "id": "YIv_IXic3sk7",
        "colab_type": "code",
        "colab": {
          "base_uri": "https://localhost:8080/",
          "height": 111
        },
        "outputId": "792fdb55-9d5a-4cbe-cecd-225f04079061"
      },
      "source": [
        "display(pd.DataFrame(stud['schoolsup'].value_counts()))"
      ],
      "execution_count": 99,
      "outputs": [
        {
          "output_type": "display_data",
          "data": {
            "text/html": [
              "<div>\n",
              "<style scoped>\n",
              "    .dataframe tbody tr th:only-of-type {\n",
              "        vertical-align: middle;\n",
              "    }\n",
              "\n",
              "    .dataframe tbody tr th {\n",
              "        vertical-align: top;\n",
              "    }\n",
              "\n",
              "    .dataframe thead th {\n",
              "        text-align: right;\n",
              "    }\n",
              "</style>\n",
              "<table border=\"1\" class=\"dataframe\">\n",
              "  <thead>\n",
              "    <tr style=\"text-align: right;\">\n",
              "      <th></th>\n",
              "      <th>schoolsup</th>\n",
              "    </tr>\n",
              "  </thead>\n",
              "  <tbody>\n",
              "    <tr>\n",
              "      <th>no</th>\n",
              "      <td>335</td>\n",
              "    </tr>\n",
              "    <tr>\n",
              "      <th>yes</th>\n",
              "      <td>51</td>\n",
              "    </tr>\n",
              "  </tbody>\n",
              "</table>\n",
              "</div>"
            ],
            "text/plain": [
              "     schoolsup\n",
              "no         335\n",
              "yes         51"
            ]
          },
          "metadata": {
            "tags": []
          }
        }
      ]
    },
    {
      "cell_type": "code",
      "metadata": {
        "id": "KsOTrzX-3sk8",
        "colab_type": "code",
        "colab": {}
      },
      "source": [
        ""
      ],
      "execution_count": 99,
      "outputs": []
    },
    {
      "cell_type": "markdown",
      "metadata": {
        "id": "oI6mhcFY3sk9",
        "colab_type": "text"
      },
      "source": [
        "### famsup"
      ]
    },
    {
      "cell_type": "markdown",
      "metadata": {
        "id": "wnaYLzuDP6tU",
        "colab_type": "text"
      },
      "source": [
        "famsup — семейная образовательная поддержка (yes или no)"
      ]
    },
    {
      "cell_type": "code",
      "metadata": {
        "id": "NUICahjq3sk9",
        "colab_type": "code",
        "colab": {
          "base_uri": "https://localhost:8080/",
          "height": 374
        },
        "outputId": "1ea9c118-5b5d-40d1-ae5e-bdf7fecd59f4"
      },
      "source": [
        "# famsup\n",
        "column_content_analysis(['famsup'])\n",
        "stud['famsup'].describe()"
      ],
      "execution_count": 100,
      "outputs": [
        {
          "output_type": "stream",
          "text": [
            "------------------------------------------------------------\n",
            "|\t Отчет по колонке [ famsup ] \t\t\t\t\t\n",
            "------------------------------------------------------------\n",
            "|  Тип данных: object\n",
            "|  Заполнено значений: 356 из 395\n",
            "|  Отсутсвующие значения: 39\n",
            "|  Полнота данных: 90.13%\n",
            "|  Количество уникальных значений: 2\n",
            "|  Значений, встретившихся в столбце более 10 раз: 2\n",
            "|  Количество раз пробелы найдены:\n",
            "|    в начале строки: 0\n",
            "|    в конце  строки: 0\n",
            "|  Количество найденных специальных символов: 0\n",
            "|\n",
            "|  Все уникальные значения: ['no' 'yes' None] \n",
            "\n"
          ],
          "name": "stdout"
        },
        {
          "output_type": "execute_result",
          "data": {
            "text/plain": [
              "count     356\n",
              "unique      2\n",
              "top       yes\n",
              "freq      219\n",
              "Name: famsup, dtype: object"
            ]
          },
          "metadata": {
            "tags": []
          },
          "execution_count": 100
        }
      ]
    },
    {
      "cell_type": "code",
      "metadata": {
        "id": "zH71KwNi3sk-",
        "colab_type": "code",
        "colab": {
          "base_uri": "https://localhost:8080/",
          "height": 111
        },
        "outputId": "03682cc9-7844-4d58-eb24-5a4dad31cd47"
      },
      "source": [
        "display(pd.DataFrame(stud['famsup'].value_counts()))"
      ],
      "execution_count": 101,
      "outputs": [
        {
          "output_type": "display_data",
          "data": {
            "text/html": [
              "<div>\n",
              "<style scoped>\n",
              "    .dataframe tbody tr th:only-of-type {\n",
              "        vertical-align: middle;\n",
              "    }\n",
              "\n",
              "    .dataframe tbody tr th {\n",
              "        vertical-align: top;\n",
              "    }\n",
              "\n",
              "    .dataframe thead th {\n",
              "        text-align: right;\n",
              "    }\n",
              "</style>\n",
              "<table border=\"1\" class=\"dataframe\">\n",
              "  <thead>\n",
              "    <tr style=\"text-align: right;\">\n",
              "      <th></th>\n",
              "      <th>famsup</th>\n",
              "    </tr>\n",
              "  </thead>\n",
              "  <tbody>\n",
              "    <tr>\n",
              "      <th>yes</th>\n",
              "      <td>219</td>\n",
              "    </tr>\n",
              "    <tr>\n",
              "      <th>no</th>\n",
              "      <td>137</td>\n",
              "    </tr>\n",
              "  </tbody>\n",
              "</table>\n",
              "</div>"
            ],
            "text/plain": [
              "     famsup\n",
              "yes     219\n",
              "no      137"
            ]
          },
          "metadata": {
            "tags": []
          }
        }
      ]
    },
    {
      "cell_type": "code",
      "metadata": {
        "id": "dhDCdyO-3sk_",
        "colab_type": "code",
        "colab": {}
      },
      "source": [
        ""
      ],
      "execution_count": 101,
      "outputs": []
    },
    {
      "cell_type": "markdown",
      "metadata": {
        "id": "7e_eopKx3sk_",
        "colab_type": "text"
      },
      "source": [
        "### paid"
      ]
    },
    {
      "cell_type": "markdown",
      "metadata": {
        "id": "gPJ1hly-P-fW",
        "colab_type": "text"
      },
      "source": [
        "paid — дополнительные платные занятия по математике (yes или no)"
      ]
    },
    {
      "cell_type": "code",
      "metadata": {
        "id": "9De93QIb3sk_",
        "colab_type": "code",
        "colab": {
          "base_uri": "https://localhost:8080/",
          "height": 374
        },
        "outputId": "65e58697-27e7-41d6-b7fc-2c4bf5384d38"
      },
      "source": [
        "# paid\n",
        "column_content_analysis(['paid'])\n",
        "stud['paid'].describe()"
      ],
      "execution_count": 102,
      "outputs": [
        {
          "output_type": "stream",
          "text": [
            "------------------------------------------------------------\n",
            "|\t Отчет по колонке [ paid ] \t\t\t\t\t\n",
            "------------------------------------------------------------\n",
            "|  Тип данных: object\n",
            "|  Заполнено значений: 355 из 395\n",
            "|  Отсутсвующие значения: 40\n",
            "|  Полнота данных: 89.87%\n",
            "|  Количество уникальных значений: 2\n",
            "|  Значений, встретившихся в столбце более 10 раз: 2\n",
            "|  Количество раз пробелы найдены:\n",
            "|    в начале строки: 0\n",
            "|    в конце  строки: 0\n",
            "|  Количество найденных специальных символов: 0\n",
            "|\n",
            "|  Все уникальные значения: ['no' None 'yes'] \n",
            "\n"
          ],
          "name": "stdout"
        },
        {
          "output_type": "execute_result",
          "data": {
            "text/plain": [
              "count     355\n",
              "unique      2\n",
              "top        no\n",
              "freq      200\n",
              "Name: paid, dtype: object"
            ]
          },
          "metadata": {
            "tags": []
          },
          "execution_count": 102
        }
      ]
    },
    {
      "cell_type": "code",
      "metadata": {
        "id": "VhzcgEuH3slA",
        "colab_type": "code",
        "colab": {
          "base_uri": "https://localhost:8080/",
          "height": 111
        },
        "outputId": "047834cd-d583-44db-f155-bd91b7b0e46d"
      },
      "source": [
        "display(pd.DataFrame(stud['paid'].value_counts()))"
      ],
      "execution_count": 103,
      "outputs": [
        {
          "output_type": "display_data",
          "data": {
            "text/html": [
              "<div>\n",
              "<style scoped>\n",
              "    .dataframe tbody tr th:only-of-type {\n",
              "        vertical-align: middle;\n",
              "    }\n",
              "\n",
              "    .dataframe tbody tr th {\n",
              "        vertical-align: top;\n",
              "    }\n",
              "\n",
              "    .dataframe thead th {\n",
              "        text-align: right;\n",
              "    }\n",
              "</style>\n",
              "<table border=\"1\" class=\"dataframe\">\n",
              "  <thead>\n",
              "    <tr style=\"text-align: right;\">\n",
              "      <th></th>\n",
              "      <th>paid</th>\n",
              "    </tr>\n",
              "  </thead>\n",
              "  <tbody>\n",
              "    <tr>\n",
              "      <th>no</th>\n",
              "      <td>200</td>\n",
              "    </tr>\n",
              "    <tr>\n",
              "      <th>yes</th>\n",
              "      <td>155</td>\n",
              "    </tr>\n",
              "  </tbody>\n",
              "</table>\n",
              "</div>"
            ],
            "text/plain": [
              "     paid\n",
              "no    200\n",
              "yes   155"
            ]
          },
          "metadata": {
            "tags": []
          }
        }
      ]
    },
    {
      "cell_type": "code",
      "metadata": {
        "id": "fiWgh1QL3slB",
        "colab_type": "code",
        "colab": {}
      },
      "source": [
        ""
      ],
      "execution_count": 103,
      "outputs": []
    },
    {
      "cell_type": "markdown",
      "metadata": {
        "id": "ZcPpNMjw3slC",
        "colab_type": "text"
      },
      "source": [
        "### activities"
      ]
    },
    {
      "cell_type": "markdown",
      "metadata": {
        "id": "MrAoPqWwQDcJ",
        "colab_type": "text"
      },
      "source": [
        "activities — дополнительные внеучебные занятия (yes или no)"
      ]
    },
    {
      "cell_type": "code",
      "metadata": {
        "id": "RWC185og3slC",
        "colab_type": "code",
        "colab": {
          "base_uri": "https://localhost:8080/",
          "height": 374
        },
        "outputId": "3f272b0f-ecc0-4c1d-c7d8-62be9f40ee39"
      },
      "source": [
        "# activities\n",
        "column_content_analysis(['activities'])\n",
        "stud['activities'].describe()"
      ],
      "execution_count": 104,
      "outputs": [
        {
          "output_type": "stream",
          "text": [
            "------------------------------------------------------------\n",
            "|\t Отчет по колонке [ activities ] \t\t\t\t\t\n",
            "------------------------------------------------------------\n",
            "|  Тип данных: object\n",
            "|  Заполнено значений: 381 из 395\n",
            "|  Отсутсвующие значения: 14\n",
            "|  Полнота данных: 96.46%\n",
            "|  Количество уникальных значений: 2\n",
            "|  Значений, встретившихся в столбце более 10 раз: 2\n",
            "|  Количество раз пробелы найдены:\n",
            "|    в начале строки: 0\n",
            "|    в конце  строки: 0\n",
            "|  Количество найденных специальных символов: 0\n",
            "|\n",
            "|  Все уникальные значения: ['no' 'yes' None] \n",
            "\n"
          ],
          "name": "stdout"
        },
        {
          "output_type": "execute_result",
          "data": {
            "text/plain": [
              "count     381\n",
              "unique      2\n",
              "top       yes\n",
              "freq      195\n",
              "Name: activities, dtype: object"
            ]
          },
          "metadata": {
            "tags": []
          },
          "execution_count": 104
        }
      ]
    },
    {
      "cell_type": "code",
      "metadata": {
        "id": "3QXuoLSD3slC",
        "colab_type": "code",
        "colab": {
          "base_uri": "https://localhost:8080/",
          "height": 111
        },
        "outputId": "75d18c2c-12b1-49d6-851c-7a9801c7e2f6"
      },
      "source": [
        "display(pd.DataFrame(stud['activities'].value_counts()))"
      ],
      "execution_count": 105,
      "outputs": [
        {
          "output_type": "display_data",
          "data": {
            "text/html": [
              "<div>\n",
              "<style scoped>\n",
              "    .dataframe tbody tr th:only-of-type {\n",
              "        vertical-align: middle;\n",
              "    }\n",
              "\n",
              "    .dataframe tbody tr th {\n",
              "        vertical-align: top;\n",
              "    }\n",
              "\n",
              "    .dataframe thead th {\n",
              "        text-align: right;\n",
              "    }\n",
              "</style>\n",
              "<table border=\"1\" class=\"dataframe\">\n",
              "  <thead>\n",
              "    <tr style=\"text-align: right;\">\n",
              "      <th></th>\n",
              "      <th>activities</th>\n",
              "    </tr>\n",
              "  </thead>\n",
              "  <tbody>\n",
              "    <tr>\n",
              "      <th>yes</th>\n",
              "      <td>195</td>\n",
              "    </tr>\n",
              "    <tr>\n",
              "      <th>no</th>\n",
              "      <td>186</td>\n",
              "    </tr>\n",
              "  </tbody>\n",
              "</table>\n",
              "</div>"
            ],
            "text/plain": [
              "     activities\n",
              "yes         195\n",
              "no          186"
            ]
          },
          "metadata": {
            "tags": []
          }
        }
      ]
    },
    {
      "cell_type": "code",
      "metadata": {
        "id": "KhydPTQi3slD",
        "colab_type": "code",
        "colab": {}
      },
      "source": [
        ""
      ],
      "execution_count": 105,
      "outputs": []
    },
    {
      "cell_type": "markdown",
      "metadata": {
        "id": "nB9EbiIF3slE",
        "colab_type": "text"
      },
      "source": [
        "### nursery"
      ]
    },
    {
      "cell_type": "markdown",
      "metadata": {
        "id": "SOf1jUIBQReo",
        "colab_type": "text"
      },
      "source": [
        "nursery — посещал детский сад (yes или no)"
      ]
    },
    {
      "cell_type": "code",
      "metadata": {
        "id": "Knj5mOod3slE",
        "colab_type": "code",
        "colab": {
          "base_uri": "https://localhost:8080/",
          "height": 374
        },
        "outputId": "d745cd05-677d-47a2-c20b-c698ed19f906"
      },
      "source": [
        "# nursery\n",
        "column_content_analysis(['nursery'])\n",
        "stud['nursery'].describe()"
      ],
      "execution_count": 106,
      "outputs": [
        {
          "output_type": "stream",
          "text": [
            "------------------------------------------------------------\n",
            "|\t Отчет по колонке [ nursery ] \t\t\t\t\t\n",
            "------------------------------------------------------------\n",
            "|  Тип данных: object\n",
            "|  Заполнено значений: 379 из 395\n",
            "|  Отсутсвующие значения: 16\n",
            "|  Полнота данных: 95.95%\n",
            "|  Количество уникальных значений: 2\n",
            "|  Значений, встретившихся в столбце более 10 раз: 2\n",
            "|  Количество раз пробелы найдены:\n",
            "|    в начале строки: 0\n",
            "|    в конце  строки: 0\n",
            "|  Количество найденных специальных символов: 0\n",
            "|\n",
            "|  Все уникальные значения: ['yes' 'no' None] \n",
            "\n"
          ],
          "name": "stdout"
        },
        {
          "output_type": "execute_result",
          "data": {
            "text/plain": [
              "count     379\n",
              "unique      2\n",
              "top       yes\n",
              "freq      300\n",
              "Name: nursery, dtype: object"
            ]
          },
          "metadata": {
            "tags": []
          },
          "execution_count": 106
        }
      ]
    },
    {
      "cell_type": "code",
      "metadata": {
        "id": "FlRqQlnD3slE",
        "colab_type": "code",
        "colab": {
          "base_uri": "https://localhost:8080/",
          "height": 111
        },
        "outputId": "ac409b1a-0ced-4948-eb12-3c1e28f9cc48"
      },
      "source": [
        "display(pd.DataFrame(stud['nursery'].value_counts()))"
      ],
      "execution_count": 107,
      "outputs": [
        {
          "output_type": "display_data",
          "data": {
            "text/html": [
              "<div>\n",
              "<style scoped>\n",
              "    .dataframe tbody tr th:only-of-type {\n",
              "        vertical-align: middle;\n",
              "    }\n",
              "\n",
              "    .dataframe tbody tr th {\n",
              "        vertical-align: top;\n",
              "    }\n",
              "\n",
              "    .dataframe thead th {\n",
              "        text-align: right;\n",
              "    }\n",
              "</style>\n",
              "<table border=\"1\" class=\"dataframe\">\n",
              "  <thead>\n",
              "    <tr style=\"text-align: right;\">\n",
              "      <th></th>\n",
              "      <th>nursery</th>\n",
              "    </tr>\n",
              "  </thead>\n",
              "  <tbody>\n",
              "    <tr>\n",
              "      <th>yes</th>\n",
              "      <td>300</td>\n",
              "    </tr>\n",
              "    <tr>\n",
              "      <th>no</th>\n",
              "      <td>79</td>\n",
              "    </tr>\n",
              "  </tbody>\n",
              "</table>\n",
              "</div>"
            ],
            "text/plain": [
              "     nursery\n",
              "yes      300\n",
              "no        79"
            ]
          },
          "metadata": {
            "tags": []
          }
        }
      ]
    },
    {
      "cell_type": "code",
      "metadata": {
        "id": "HOG4gZ7K3slF",
        "colab_type": "code",
        "colab": {}
      },
      "source": [
        ""
      ],
      "execution_count": 107,
      "outputs": []
    },
    {
      "cell_type": "markdown",
      "metadata": {
        "id": "bMKh6riV3slG",
        "colab_type": "text"
      },
      "source": [
        "### higher"
      ]
    },
    {
      "cell_type": "markdown",
      "metadata": {
        "id": "eWQ0MuuwQVS4",
        "colab_type": "text"
      },
      "source": [
        "higher — хочет получить высшее образование (yes или no)"
      ]
    },
    {
      "cell_type": "code",
      "metadata": {
        "id": "9TIg02op3slG",
        "colab_type": "code",
        "colab": {
          "base_uri": "https://localhost:8080/",
          "height": 374
        },
        "outputId": "9fb7ef20-84eb-4f9a-d222-c2c584d6ce64"
      },
      "source": [
        "# higher\n",
        "column_content_analysis(['higher'])\n",
        "stud['higher'].describe()"
      ],
      "execution_count": 108,
      "outputs": [
        {
          "output_type": "stream",
          "text": [
            "------------------------------------------------------------\n",
            "|\t Отчет по колонке [ higher ] \t\t\t\t\t\n",
            "------------------------------------------------------------\n",
            "|  Тип данных: object\n",
            "|  Заполнено значений: 375 из 395\n",
            "|  Отсутсвующие значения: 20\n",
            "|  Полнота данных: 94.94%\n",
            "|  Количество уникальных значений: 2\n",
            "|  Значений, встретившихся в столбце более 10 раз: 2\n",
            "|  Количество раз пробелы найдены:\n",
            "|    в начале строки: 0\n",
            "|    в конце  строки: 0\n",
            "|  Количество найденных специальных символов: 0\n",
            "|\n",
            "|  Все уникальные значения: ['yes' None 'no'] \n",
            "\n"
          ],
          "name": "stdout"
        },
        {
          "output_type": "execute_result",
          "data": {
            "text/plain": [
              "count     375\n",
              "unique      2\n",
              "top       yes\n",
              "freq      356\n",
              "Name: higher, dtype: object"
            ]
          },
          "metadata": {
            "tags": []
          },
          "execution_count": 108
        }
      ]
    },
    {
      "cell_type": "code",
      "metadata": {
        "id": "pYOgnbVo3slG",
        "colab_type": "code",
        "colab": {
          "base_uri": "https://localhost:8080/",
          "height": 111
        },
        "outputId": "f0cb7530-9c9b-4b31-fa8c-d4b1ed4ed956"
      },
      "source": [
        "display(pd.DataFrame(stud['higher'].value_counts()))"
      ],
      "execution_count": 109,
      "outputs": [
        {
          "output_type": "display_data",
          "data": {
            "text/html": [
              "<div>\n",
              "<style scoped>\n",
              "    .dataframe tbody tr th:only-of-type {\n",
              "        vertical-align: middle;\n",
              "    }\n",
              "\n",
              "    .dataframe tbody tr th {\n",
              "        vertical-align: top;\n",
              "    }\n",
              "\n",
              "    .dataframe thead th {\n",
              "        text-align: right;\n",
              "    }\n",
              "</style>\n",
              "<table border=\"1\" class=\"dataframe\">\n",
              "  <thead>\n",
              "    <tr style=\"text-align: right;\">\n",
              "      <th></th>\n",
              "      <th>higher</th>\n",
              "    </tr>\n",
              "  </thead>\n",
              "  <tbody>\n",
              "    <tr>\n",
              "      <th>yes</th>\n",
              "      <td>356</td>\n",
              "    </tr>\n",
              "    <tr>\n",
              "      <th>no</th>\n",
              "      <td>19</td>\n",
              "    </tr>\n",
              "  </tbody>\n",
              "</table>\n",
              "</div>"
            ],
            "text/plain": [
              "     higher\n",
              "yes     356\n",
              "no       19"
            ]
          },
          "metadata": {
            "tags": []
          }
        }
      ]
    },
    {
      "cell_type": "code",
      "metadata": {
        "id": "zM6Nikza3slH",
        "colab_type": "code",
        "colab": {}
      },
      "source": [
        ""
      ],
      "execution_count": 109,
      "outputs": []
    },
    {
      "cell_type": "markdown",
      "metadata": {
        "id": "EjvpdbVD3slH",
        "colab_type": "text"
      },
      "source": [
        "### internet"
      ]
    },
    {
      "cell_type": "markdown",
      "metadata": {
        "id": "OHDZWrf4QXpF",
        "colab_type": "text"
      },
      "source": [
        "internet — наличие интернета дома (yes или no)"
      ]
    },
    {
      "cell_type": "code",
      "metadata": {
        "id": "psQOEROR3slI",
        "colab_type": "code",
        "colab": {
          "base_uri": "https://localhost:8080/",
          "height": 374
        },
        "outputId": "f3af90be-b1f9-4d99-c3e5-41088dabd69a"
      },
      "source": [
        "# internet\n",
        "column_content_analysis(['internet'])\n",
        "stud['internet'].describe()"
      ],
      "execution_count": 110,
      "outputs": [
        {
          "output_type": "stream",
          "text": [
            "------------------------------------------------------------\n",
            "|\t Отчет по колонке [ internet ] \t\t\t\t\t\n",
            "------------------------------------------------------------\n",
            "|  Тип данных: object\n",
            "|  Заполнено значений: 361 из 395\n",
            "|  Отсутсвующие значения: 34\n",
            "|  Полнота данных: 91.39%\n",
            "|  Количество уникальных значений: 2\n",
            "|  Значений, встретившихся в столбце более 10 раз: 2\n",
            "|  Количество раз пробелы найдены:\n",
            "|    в начале строки: 0\n",
            "|    в конце  строки: 0\n",
            "|  Количество найденных специальных символов: 0\n",
            "|\n",
            "|  Все уникальные значения: [None 'yes' 'no'] \n",
            "\n"
          ],
          "name": "stdout"
        },
        {
          "output_type": "execute_result",
          "data": {
            "text/plain": [
              "count     361\n",
              "unique      2\n",
              "top       yes\n",
              "freq      305\n",
              "Name: internet, dtype: object"
            ]
          },
          "metadata": {
            "tags": []
          },
          "execution_count": 110
        }
      ]
    },
    {
      "cell_type": "code",
      "metadata": {
        "id": "4vEp9a9q3slI",
        "colab_type": "code",
        "colab": {
          "base_uri": "https://localhost:8080/",
          "height": 111
        },
        "outputId": "7a113a84-538b-4805-d0ff-d85a4abce8dd"
      },
      "source": [
        "display(pd.DataFrame(stud['internet'].value_counts()))"
      ],
      "execution_count": 111,
      "outputs": [
        {
          "output_type": "display_data",
          "data": {
            "text/html": [
              "<div>\n",
              "<style scoped>\n",
              "    .dataframe tbody tr th:only-of-type {\n",
              "        vertical-align: middle;\n",
              "    }\n",
              "\n",
              "    .dataframe tbody tr th {\n",
              "        vertical-align: top;\n",
              "    }\n",
              "\n",
              "    .dataframe thead th {\n",
              "        text-align: right;\n",
              "    }\n",
              "</style>\n",
              "<table border=\"1\" class=\"dataframe\">\n",
              "  <thead>\n",
              "    <tr style=\"text-align: right;\">\n",
              "      <th></th>\n",
              "      <th>internet</th>\n",
              "    </tr>\n",
              "  </thead>\n",
              "  <tbody>\n",
              "    <tr>\n",
              "      <th>yes</th>\n",
              "      <td>305</td>\n",
              "    </tr>\n",
              "    <tr>\n",
              "      <th>no</th>\n",
              "      <td>56</td>\n",
              "    </tr>\n",
              "  </tbody>\n",
              "</table>\n",
              "</div>"
            ],
            "text/plain": [
              "     internet\n",
              "yes       305\n",
              "no         56"
            ]
          },
          "metadata": {
            "tags": []
          }
        }
      ]
    },
    {
      "cell_type": "code",
      "metadata": {
        "id": "JeYtL7QC3slJ",
        "colab_type": "code",
        "colab": {}
      },
      "source": [
        ""
      ],
      "execution_count": 111,
      "outputs": []
    },
    {
      "cell_type": "markdown",
      "metadata": {
        "id": "kT7JUmer3slJ",
        "colab_type": "text"
      },
      "source": [
        "### romantic"
      ]
    },
    {
      "cell_type": "markdown",
      "metadata": {
        "id": "ZNSrA_LeQdzw",
        "colab_type": "text"
      },
      "source": [
        "romantic — в романтических отношениях (yes или no)"
      ]
    },
    {
      "cell_type": "code",
      "metadata": {
        "id": "S_19qRO-3slJ",
        "colab_type": "code",
        "colab": {
          "base_uri": "https://localhost:8080/",
          "height": 374
        },
        "outputId": "58f03898-7965-45e3-ccd9-8e4e5d6aa744"
      },
      "source": [
        "# romantic\n",
        "column_content_analysis(['romantic'])\n",
        "stud['romantic'].describe()"
      ],
      "execution_count": 112,
      "outputs": [
        {
          "output_type": "stream",
          "text": [
            "------------------------------------------------------------\n",
            "|\t Отчет по колонке [ romantic ] \t\t\t\t\t\n",
            "------------------------------------------------------------\n",
            "|  Тип данных: object\n",
            "|  Заполнено значений: 364 из 395\n",
            "|  Отсутсвующие значения: 31\n",
            "|  Полнота данных: 92.15%\n",
            "|  Количество уникальных значений: 2\n",
            "|  Значений, встретившихся в столбце более 10 раз: 2\n",
            "|  Количество раз пробелы найдены:\n",
            "|    в начале строки: 0\n",
            "|    в конце  строки: 0\n",
            "|  Количество найденных специальных символов: 0\n",
            "|\n",
            "|  Все уникальные значения: ['no' None 'yes'] \n",
            "\n"
          ],
          "name": "stdout"
        },
        {
          "output_type": "execute_result",
          "data": {
            "text/plain": [
              "count     364\n",
              "unique      2\n",
              "top        no\n",
              "freq      240\n",
              "Name: romantic, dtype: object"
            ]
          },
          "metadata": {
            "tags": []
          },
          "execution_count": 112
        }
      ]
    },
    {
      "cell_type": "code",
      "metadata": {
        "id": "nT0xr-MX3slK",
        "colab_type": "code",
        "colab": {
          "base_uri": "https://localhost:8080/",
          "height": 111
        },
        "outputId": "7128da04-a48c-4626-af80-b09eda23b0d4"
      },
      "source": [
        "display(pd.DataFrame(stud['romantic'].value_counts()))"
      ],
      "execution_count": 113,
      "outputs": [
        {
          "output_type": "display_data",
          "data": {
            "text/html": [
              "<div>\n",
              "<style scoped>\n",
              "    .dataframe tbody tr th:only-of-type {\n",
              "        vertical-align: middle;\n",
              "    }\n",
              "\n",
              "    .dataframe tbody tr th {\n",
              "        vertical-align: top;\n",
              "    }\n",
              "\n",
              "    .dataframe thead th {\n",
              "        text-align: right;\n",
              "    }\n",
              "</style>\n",
              "<table border=\"1\" class=\"dataframe\">\n",
              "  <thead>\n",
              "    <tr style=\"text-align: right;\">\n",
              "      <th></th>\n",
              "      <th>romantic</th>\n",
              "    </tr>\n",
              "  </thead>\n",
              "  <tbody>\n",
              "    <tr>\n",
              "      <th>no</th>\n",
              "      <td>240</td>\n",
              "    </tr>\n",
              "    <tr>\n",
              "      <th>yes</th>\n",
              "      <td>124</td>\n",
              "    </tr>\n",
              "  </tbody>\n",
              "</table>\n",
              "</div>"
            ],
            "text/plain": [
              "     romantic\n",
              "no        240\n",
              "yes       124"
            ]
          },
          "metadata": {
            "tags": []
          }
        }
      ]
    },
    {
      "cell_type": "code",
      "metadata": {
        "id": "R59KuTUd3slK",
        "colab_type": "code",
        "colab": {}
      },
      "source": [
        ""
      ],
      "execution_count": 113,
      "outputs": []
    },
    {
      "cell_type": "code",
      "metadata": {
        "id": "_4d7mgeQ3slL",
        "colab_type": "code",
        "colab": {}
      },
      "source": [
        ""
      ],
      "execution_count": 113,
      "outputs": []
    },
    {
      "cell_type": "code",
      "metadata": {
        "id": "SYsB3erU3slL",
        "colab_type": "code",
        "colab": {}
      },
      "source": [
        ""
      ],
      "execution_count": 113,
      "outputs": []
    },
    {
      "cell_type": "code",
      "metadata": {
        "id": "ci4jD0n43slM",
        "colab_type": "code",
        "colab": {}
      },
      "source": [
        ""
      ],
      "execution_count": 113,
      "outputs": []
    },
    {
      "cell_type": "code",
      "metadata": {
        "id": "ffaCBFbZ3slM",
        "colab_type": "code",
        "colab": {}
      },
      "source": [
        ""
      ],
      "execution_count": 113,
      "outputs": []
    },
    {
      "cell_type": "code",
      "metadata": {
        "id": "34UDkkfm3slN",
        "colab_type": "code",
        "colab": {}
      },
      "source": [
        ""
      ],
      "execution_count": 113,
      "outputs": []
    },
    {
      "cell_type": "markdown",
      "metadata": {
        "id": "sQIZxUhp3slO",
        "colab_type": "text"
      },
      "source": [
        "## Устранение выбросов"
      ]
    },
    {
      "cell_type": "markdown",
      "metadata": {
        "id": "GhDtHipfLjt5",
        "colab_type": "text"
      },
      "source": [
        "### fedu"
      ]
    },
    {
      "cell_type": "markdown",
      "metadata": {
        "id": "CVh6dnyXJTF4",
        "colab_type": "text"
      },
      "source": [
        "Посмотрим на строку с выбросом внимательней\n"
      ]
    },
    {
      "cell_type": "code",
      "metadata": {
        "id": "RIAvxIR2IN9E",
        "colab_type": "code",
        "colab": {
          "base_uri": "https://localhost:8080/",
          "height": 100
        },
        "outputId": "d880f023-60e6-4392-85c0-e7624f1fcaf9"
      },
      "source": [
        "stud[stud['fedu'] == 40]"
      ],
      "execution_count": 139,
      "outputs": [
        {
          "output_type": "execute_result",
          "data": {
            "text/html": [
              "<div>\n",
              "<style scoped>\n",
              "    .dataframe tbody tr th:only-of-type {\n",
              "        vertical-align: middle;\n",
              "    }\n",
              "\n",
              "    .dataframe tbody tr th {\n",
              "        vertical-align: top;\n",
              "    }\n",
              "\n",
              "    .dataframe thead th {\n",
              "        text-align: right;\n",
              "    }\n",
              "</style>\n",
              "<table border=\"1\" class=\"dataframe\">\n",
              "  <thead>\n",
              "    <tr style=\"text-align: right;\">\n",
              "      <th></th>\n",
              "      <th>school</th>\n",
              "      <th>sex</th>\n",
              "      <th>age</th>\n",
              "      <th>address</th>\n",
              "      <th>famsize</th>\n",
              "      <th>pstatus</th>\n",
              "      <th>medu</th>\n",
              "      <th>fedu</th>\n",
              "      <th>mjob</th>\n",
              "      <th>fjob</th>\n",
              "      <th>reason</th>\n",
              "      <th>guardian</th>\n",
              "      <th>traveltime</th>\n",
              "      <th>studytime</th>\n",
              "      <th>failures</th>\n",
              "      <th>schoolsup</th>\n",
              "      <th>famsup</th>\n",
              "      <th>paid</th>\n",
              "      <th>activities</th>\n",
              "      <th>nursery</th>\n",
              "      <th>higher</th>\n",
              "      <th>internet</th>\n",
              "      <th>romantic</th>\n",
              "      <th>famrel</th>\n",
              "      <th>freetime</th>\n",
              "      <th>goout</th>\n",
              "      <th>health</th>\n",
              "      <th>absences</th>\n",
              "      <th>score</th>\n",
              "    </tr>\n",
              "  </thead>\n",
              "  <tbody>\n",
              "    <tr>\n",
              "      <th>11</th>\n",
              "      <td>GP</td>\n",
              "      <td>F</td>\n",
              "      <td>15</td>\n",
              "      <td>U</td>\n",
              "      <td>GT3</td>\n",
              "      <td>None</td>\n",
              "      <td>2.0</td>\n",
              "      <td>40.0</td>\n",
              "      <td>services</td>\n",
              "      <td>other</td>\n",
              "      <td>reputation</td>\n",
              "      <td>father</td>\n",
              "      <td>3.0</td>\n",
              "      <td>3.0</td>\n",
              "      <td>0.0</td>\n",
              "      <td>no</td>\n",
              "      <td>yes</td>\n",
              "      <td>no</td>\n",
              "      <td>yes</td>\n",
              "      <td>yes</td>\n",
              "      <td>yes</td>\n",
              "      <td>yes</td>\n",
              "      <td>no</td>\n",
              "      <td>5.0</td>\n",
              "      <td>2.0</td>\n",
              "      <td>2.0</td>\n",
              "      <td>4.0</td>\n",
              "      <td>4.0</td>\n",
              "      <td>60.0</td>\n",
              "    </tr>\n",
              "  </tbody>\n",
              "</table>\n",
              "</div>"
            ],
            "text/plain": [
              "   school sex  age address famsize pstatus  medu  fedu      mjob   fjob  \\\n",
              "11     GP   F   15       U     GT3    None   2.0  40.0  services  other   \n",
              "\n",
              "        reason guardian  traveltime  studytime  failures schoolsup famsup  \\\n",
              "11  reputation   father         3.0        3.0       0.0        no    yes   \n",
              "\n",
              "   paid activities nursery higher internet romantic  famrel  freetime  goout  \\\n",
              "11   no        yes     yes    yes      yes       no     5.0       2.0    2.0   \n",
              "\n",
              "    health  absences  score  \n",
              "11     4.0       4.0   60.0  "
            ]
          },
          "metadata": {
            "tags": []
          },
          "execution_count": 139
        }
      ]
    },
    {
      "cell_type": "markdown",
      "metadata": {
        "id": "q0OTdswHJt0c",
        "colab_type": "text"
      },
      "source": [
        "Значение `40` с большой вероятностей опечатка,  предположим что должно быть значение `4`"
      ]
    },
    {
      "cell_type": "code",
      "metadata": {
        "id": "RPZ1lCA4JLvL",
        "colab_type": "code",
        "colab": {
          "base_uri": "https://localhost:8080/",
          "height": 34
        },
        "outputId": "06430716-11c5-45eb-dff4-fdea2790b38c"
      },
      "source": [
        "# исправим ошибочное значение\n",
        "stud['fedu'][stud['fedu'] == 40] = 4\n",
        "\n",
        "#  проверим результат \n",
        "stud['fedu'].loc[11]"
      ],
      "execution_count": 144,
      "outputs": [
        {
          "output_type": "execute_result",
          "data": {
            "text/plain": [
              "4.0"
            ]
          },
          "metadata": {
            "tags": []
          },
          "execution_count": 144
        }
      ]
    },
    {
      "cell_type": "markdown",
      "metadata": {
        "id": "U84xBrfULef5",
        "colab_type": "text"
      },
      "source": [
        "### absences\n",
        "\n",
        "* Обнаружен сильный выброс данных, значения `385` и `212` - явно аномальные, поэтому будут исключены."
      ]
    },
    {
      "cell_type": "code",
      "metadata": {
        "id": "9ZPESbz0LS4T",
        "colab_type": "code",
        "colab": {
          "base_uri": "https://localhost:8080/",
          "height": 69
        },
        "outputId": "6de1fd7b-dd06-486d-b42a-afd6f1a1631b"
      },
      "source": [
        "stud[stud['absences'] >= 212]"
      ],
      "execution_count": 151,
      "outputs": [
        {
          "output_type": "execute_result",
          "data": {
            "text/html": [
              "<div>\n",
              "<style scoped>\n",
              "    .dataframe tbody tr th:only-of-type {\n",
              "        vertical-align: middle;\n",
              "    }\n",
              "\n",
              "    .dataframe tbody tr th {\n",
              "        vertical-align: top;\n",
              "    }\n",
              "\n",
              "    .dataframe thead th {\n",
              "        text-align: right;\n",
              "    }\n",
              "</style>\n",
              "<table border=\"1\" class=\"dataframe\">\n",
              "  <thead>\n",
              "    <tr style=\"text-align: right;\">\n",
              "      <th></th>\n",
              "      <th>school</th>\n",
              "      <th>sex</th>\n",
              "      <th>age</th>\n",
              "      <th>address</th>\n",
              "      <th>famsize</th>\n",
              "      <th>pstatus</th>\n",
              "      <th>medu</th>\n",
              "      <th>fedu</th>\n",
              "      <th>mjob</th>\n",
              "      <th>fjob</th>\n",
              "      <th>reason</th>\n",
              "      <th>guardian</th>\n",
              "      <th>traveltime</th>\n",
              "      <th>studytime</th>\n",
              "      <th>failures</th>\n",
              "      <th>schoolsup</th>\n",
              "      <th>famsup</th>\n",
              "      <th>paid</th>\n",
              "      <th>activities</th>\n",
              "      <th>nursery</th>\n",
              "      <th>higher</th>\n",
              "      <th>internet</th>\n",
              "      <th>romantic</th>\n",
              "      <th>famrel</th>\n",
              "      <th>freetime</th>\n",
              "      <th>goout</th>\n",
              "      <th>health</th>\n",
              "      <th>absences</th>\n",
              "      <th>score</th>\n",
              "    </tr>\n",
              "  </thead>\n",
              "  <tbody>\n",
              "  </tbody>\n",
              "</table>\n",
              "</div>"
            ],
            "text/plain": [
              "Empty DataFrame\n",
              "Columns: [school, sex, age, address, famsize, pstatus, medu, fedu, mjob, fjob, reason, guardian, traveltime, studytime, failures, schoolsup, famsup, paid, activities, nursery, higher, internet, romantic, famrel, freetime, goout, health, absences, score]\n",
              "Index: []"
            ]
          },
          "metadata": {
            "tags": []
          },
          "execution_count": 151
        }
      ]
    },
    {
      "cell_type": "code",
      "metadata": {
        "id": "HDzYOsktIaGY",
        "colab_type": "code",
        "colab": {
          "base_uri": "https://localhost:8080/",
          "height": 34
        },
        "outputId": "f07cfa5a-6a73-45d8-bfdc-28acc90b320f"
      },
      "source": [
        "stud[stud['absences'] >= 212].index\n"
      ],
      "execution_count": 149,
      "outputs": [
        {
          "output_type": "execute_result",
          "data": {
            "text/plain": [
              "Int64Index([222, 390], dtype='int64')"
            ]
          },
          "metadata": {
            "tags": []
          },
          "execution_count": 149
        }
      ]
    },
    {
      "cell_type": "code",
      "metadata": {
        "id": "BA6aNZWVMyJX",
        "colab_type": "code",
        "colab": {}
      },
      "source": [
        "stud.drop(stud[stud['absences'] >= 212].index, inplace=True)"
      ],
      "execution_count": 150,
      "outputs": []
    },
    {
      "cell_type": "code",
      "metadata": {
        "id": "vR8ogAHg3slP",
        "colab_type": "code",
        "colab": {}
      },
      "source": [
        "# for col_name in elimination:\n",
        "#     left_range, right_range = column_iqr_range(col_name)\n",
        "#     stud.drop(stud.loc[stud[col_name] < left_range].index, inplace=True)\n",
        "#     stud.drop(stud.loc[stud[col_name] > right_range].index, inplace=True)\n"
      ],
      "execution_count": 115,
      "outputs": []
    },
    {
      "cell_type": "markdown",
      "metadata": {
        "id": "hge1jholPSno",
        "colab_type": "text"
      },
      "source": [
        "Проверим числовые столбцы на пустые значения и удалим такие строки."
      ]
    },
    {
      "cell_type": "code",
      "metadata": {
        "colab_type": "code",
        "id": "SiRmHPl8VqAd",
        "colab": {}
      },
      "source": [
        "stud.shape\n",
        "stud.dropna('index', subset=dig_columns, inplace=True)"
      ],
      "execution_count": 158,
      "outputs": []
    },
    {
      "cell_type": "code",
      "metadata": {
        "id": "fBYIIw2QOwh0",
        "colab_type": "code",
        "colab": {
          "base_uri": "https://localhost:8080/",
          "height": 34
        },
        "outputId": "eed9791c-0bf2-44b0-adb9-12acbfca8172"
      },
      "source": [
        "stud.shape"
      ],
      "execution_count": 159,
      "outputs": [
        {
          "output_type": "execute_result",
          "data": {
            "text/plain": [
              "(261, 29)"
            ]
          },
          "metadata": {
            "tags": []
          },
          "execution_count": 159
        }
      ]
    },
    {
      "cell_type": "markdown",
      "metadata": {
        "id": "-2xep25fP34p",
        "colab_type": "text"
      },
      "source": [
        "Датасет сократился с 395 строк до 261."
      ]
    },
    {
      "cell_type": "code",
      "metadata": {
        "id": "XynvG4aqOxiw",
        "colab_type": "code",
        "colab": {}
      },
      "source": [
        ""
      ],
      "execution_count": null,
      "outputs": []
    },
    {
      "cell_type": "markdown",
      "metadata": {
        "id": "rb4l_s2w3slQ",
        "colab_type": "text"
      },
      "source": [
        "## Оценка количества уникальных значений для номинативных переменных"
      ]
    },
    {
      "cell_type": "markdown",
      "metadata": {
        "id": "XuTyNxMX3slQ",
        "colab_type": "text"
      },
      "source": [
        "Заполнить пропуски на данный момент не представляется возможным, так как методика не предлагается. Поэтому отбросим данные с пропусками."
      ]
    },
    {
      "cell_type": "code",
      "metadata": {
        "id": "4HJ-1MqT3slQ",
        "colab_type": "code",
        "colab": {}
      },
      "source": [
        ""
      ],
      "execution_count": 115,
      "outputs": []
    },
    {
      "cell_type": "code",
      "metadata": {
        "id": "UW2YcWLk3slR",
        "colab_type": "code",
        "colab": {}
      },
      "source": [
        ""
      ],
      "execution_count": 115,
      "outputs": []
    },
    {
      "cell_type": "code",
      "metadata": {
        "id": "UmeQd3op3slR",
        "colab_type": "code",
        "colab": {}
      },
      "source": [
        ""
      ],
      "execution_count": 115,
      "outputs": []
    },
    {
      "cell_type": "markdown",
      "metadata": {
        "id": "7PHIKtQg3slS",
        "colab_type": "text"
      },
      "source": [
        "### Преобразование данных"
      ]
    },
    {
      "cell_type": "code",
      "metadata": {
        "id": "hrjvnNlT3slS",
        "colab_type": "code",
        "colab": {}
      },
      "source": [
        ""
      ],
      "execution_count": 115,
      "outputs": []
    },
    {
      "cell_type": "code",
      "metadata": {
        "id": "XlewAhe13slT",
        "colab_type": "code",
        "colab": {}
      },
      "source": [
        ""
      ],
      "execution_count": 115,
      "outputs": []
    },
    {
      "cell_type": "code",
      "metadata": {
        "id": "PAGci1kp3slT",
        "colab_type": "code",
        "colab": {}
      },
      "source": [
        ""
      ],
      "execution_count": 115,
      "outputs": []
    },
    {
      "cell_type": "markdown",
      "metadata": {
        "id": "7kMmh_zc3slU",
        "colab_type": "text"
      },
      "source": [
        "### Корреляционный анализ количественных элементов"
      ]
    },
    {
      "cell_type": "code",
      "metadata": {
        "id": "vTdUCifr3slU",
        "colab_type": "code",
        "colab": {}
      },
      "source": [
        ""
      ],
      "execution_count": 115,
      "outputs": []
    },
    {
      "cell_type": "code",
      "metadata": {
        "id": "p7CS7xh33slU",
        "colab_type": "code",
        "colab": {}
      },
      "source": [
        ""
      ],
      "execution_count": 115,
      "outputs": []
    },
    {
      "cell_type": "code",
      "metadata": {
        "id": "giH-UckS3slV",
        "colab_type": "code",
        "colab": {}
      },
      "source": [
        ""
      ],
      "execution_count": 115,
      "outputs": []
    },
    {
      "cell_type": "markdown",
      "metadata": {
        "id": "OLiygiWq3slW",
        "colab_type": "text"
      },
      "source": [
        "### Отбор не коррелирующих переменных"
      ]
    },
    {
      "cell_type": "code",
      "metadata": {
        "id": "H4pOz2v63slW",
        "colab_type": "code",
        "colab": {}
      },
      "source": [
        ""
      ],
      "execution_count": 115,
      "outputs": []
    },
    {
      "cell_type": "code",
      "metadata": {
        "id": "DfG-Ykqi3slX",
        "colab_type": "code",
        "colab": {}
      },
      "source": [
        ""
      ],
      "execution_count": 115,
      "outputs": []
    },
    {
      "cell_type": "code",
      "metadata": {
        "id": "sWJf_caJ3slX",
        "colab_type": "code",
        "colab": {}
      },
      "source": [
        ""
      ],
      "execution_count": 115,
      "outputs": []
    },
    {
      "cell_type": "markdown",
      "metadata": {
        "id": "310qrFAW3slY",
        "colab_type": "text"
      },
      "source": [
        "### Анализ номинативных переменных, устранение не влияющих на предсказание конечной величины"
      ]
    },
    {
      "cell_type": "code",
      "metadata": {
        "id": "PJRdtNkW3slY",
        "colab_type": "code",
        "colab": {}
      },
      "source": [
        "# на переменную scope"
      ],
      "execution_count": 116,
      "outputs": []
    },
    {
      "cell_type": "code",
      "metadata": {
        "id": "6daR3Rvx3slY",
        "colab_type": "code",
        "colab": {}
      },
      "source": [
        ""
      ],
      "execution_count": 116,
      "outputs": []
    },
    {
      "cell_type": "code",
      "metadata": {
        "id": "7hDvi2j93slZ",
        "colab_type": "code",
        "colab": {}
      },
      "source": [
        ""
      ],
      "execution_count": 116,
      "outputs": []
    },
    {
      "cell_type": "code",
      "metadata": {
        "id": "UUuRqyPk3slZ",
        "colab_type": "code",
        "colab": {}
      },
      "source": [
        ""
      ],
      "execution_count": 116,
      "outputs": []
    },
    {
      "cell_type": "markdown",
      "metadata": {
        "id": "2fBk3TVp3sla",
        "colab_type": "text"
      },
      "source": [
        "### Выводы о качестве данных"
      ]
    },
    {
      "cell_type": "code",
      "metadata": {
        "id": "T4FibnPY3sla",
        "colab_type": "code",
        "colab": {}
      },
      "source": [
        ""
      ],
      "execution_count": 116,
      "outputs": []
    },
    {
      "cell_type": "code",
      "metadata": {
        "id": "cjyYR25c3sla",
        "colab_type": "code",
        "colab": {}
      },
      "source": [
        ""
      ],
      "execution_count": 116,
      "outputs": []
    },
    {
      "cell_type": "code",
      "metadata": {
        "id": "_IKR-IOW3slb",
        "colab_type": "code",
        "colab": {}
      },
      "source": [
        ""
      ],
      "execution_count": 116,
      "outputs": []
    },
    {
      "cell_type": "markdown",
      "metadata": {
        "id": "mQGx7vls3slb",
        "colab_type": "text"
      },
      "source": [
        "### Выводы о данных, которые подходят для построения дальнейшей модели"
      ]
    },
    {
      "cell_type": "code",
      "metadata": {
        "id": "CCvUOeWI3slc",
        "colab_type": "code",
        "colab": {}
      },
      "source": [
        ""
      ],
      "execution_count": 116,
      "outputs": []
    },
    {
      "cell_type": "code",
      "metadata": {
        "id": "N1vbzZ5s3slc",
        "colab_type": "code",
        "colab": {}
      },
      "source": [
        ""
      ],
      "execution_count": 116,
      "outputs": []
    },
    {
      "cell_type": "code",
      "metadata": {
        "id": "sMG8cdex3sld",
        "colab_type": "code",
        "colab": {}
      },
      "source": [
        ""
      ],
      "execution_count": 116,
      "outputs": []
    },
    {
      "cell_type": "code",
      "metadata": {
        "id": "jlPyqTWA3sld",
        "colab_type": "code",
        "colab": {}
      },
      "source": [
        ""
      ],
      "execution_count": 116,
      "outputs": []
    },
    {
      "cell_type": "code",
      "metadata": {
        "colab_type": "code",
        "id": "uCfuTkRbVqAg",
        "colab": {}
      },
      "source": [
        "### Спасибо за внимание!"
      ],
      "execution_count": 117,
      "outputs": []
    }
  ]
}